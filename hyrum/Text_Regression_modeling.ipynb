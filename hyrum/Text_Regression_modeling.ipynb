{
 "cells": [
  {
   "cell_type": "code",
   "execution_count": 1,
   "id": "99dc6f3d",
   "metadata": {},
   "outputs": [],
   "source": [
    "#Imports\n",
    "import pandas as pd \n",
    "import numpy as np\n",
    "import seaborn as sns\n",
    "import matplotlib.pyplot as plt \n",
    "%matplotlib inline\n",
    "\n",
    "from nltk.sentiment.vader import SentimentIntensityAnalyzer\n",
    "from textblob import TextBlob\n",
    "\n",
    "from sklearn.linear_model import LinearRegression\n",
    "from sklearn.model_selection import train_test_split\n",
    "from sklearn.preprocessing import StandardScaler\n",
    "from sklearn import metrics\n",
    "from sklearn.metrics import mean_squared_error\n",
    "from sklearn.linear_model import Ridge\n",
    "from sklearn.model_selection import RepeatedKFold\n",
    "from sklearn.model_selection import GridSearchCV\n",
    "from sklearn.metrics import explained_variance_score,mean_absolute_error,r2_score\n",
    "from sklearn.linear_model import LinearRegression, Ridge,Lasso\n",
    "from sklearn.neighbors import KNeighborsRegressor\n",
    "from sklearn.ensemble import GradientBoostingRegressor\n",
    "from sklearn.ensemble import ExtraTreesRegressor, RandomForestRegressor\n",
    "from sklearn.tree import DecisionTreeRegressor\n",
    "\n",
    "from time import time\n",
    "import datetime\n",
    "import warnings\n",
    "\n",
    "pd.set_option('display.max_rows', None)\n",
    "pd.set_option('display.max_columns', None)"
   ]
  },
  {
   "cell_type": "code",
   "execution_count": 2,
   "id": "144cfa41",
   "metadata": {},
   "outputs": [],
   "source": [
    "# Ignore warnings\n",
    "warnings.filterwarnings(\"ignore\")"
   ]
  },
  {
   "cell_type": "code",
   "execution_count": 3,
   "id": "5ff5130f",
   "metadata": {
    "scrolled": true
   },
   "outputs": [
    {
     "name": "stdout",
     "output_type": "stream",
     "text": [
      "----------Data Information----------\n",
      "\n",
      "<class 'pandas.core.frame.DataFrame'>\n",
      "RangeIndex: 3653 entries, 0 to 3652\n",
      "Data columns (total 8 columns):\n",
      " #   Column           Non-Null Count  Dtype  \n",
      "---  ------           --------------  -----  \n",
      " 0   Unnamed: 0       3653 non-null   int64  \n",
      " 1   date             3653 non-null   object \n",
      " 2   text             3653 non-null   object \n",
      " 3   price            3653 non-null   float64\n",
      " 4   pct_change       3652 non-null   float64\n",
      " 5   price_direction  3653 non-null   object \n",
      " 6   day_of_week      3653 non-null   int64  \n",
      " 7   is_holiday       3653 non-null   int64  \n",
      "dtypes: float64(2), int64(3), object(3)\n",
      "memory usage: 228.4+ KB\n",
      "None\n",
      "\n",
      "----------Missing Values----------\n",
      "\n",
      "Unnamed: 0         0\n",
      "date               0\n",
      "text               0\n",
      "price              0\n",
      "pct_change         1\n",
      "price_direction    0\n",
      "day_of_week        0\n",
      "is_holiday         0\n",
      "dtype: int64\n",
      "\n",
      "----------Shape----------\n",
      "\n",
      "(3653, 8)\n"
     ]
    }
   ],
   "source": [
    "# Read in data\n",
    "df = pd.read_csv('./data/daily.csv')\n",
    "# Show information to verify clean data set\n",
    "print('----------Data Information----------\\n')\n",
    "print(df.info())\n",
    "print('\\n----------Missing Values----------\\n', )\n",
    "print(df.isnull().sum())\n",
    "print('\\n----------Shape----------\\n')\n",
    "print(df.shape)"
   ]
  },
  {
   "cell_type": "code",
   "execution_count": 4,
   "id": "05cee6bc",
   "metadata": {},
   "outputs": [],
   "source": [
    "# Drop 'first' in the price_direction column\n",
    "df = df[df.price_direction != 'first']"
   ]
  },
  {
   "cell_type": "code",
   "execution_count": 5,
   "id": "bb9253f9",
   "metadata": {},
   "outputs": [],
   "source": [
    "# Initialize Vader Sentiment Intensity Analyzer\n",
    "vader = SentimentIntensityAnalyzer()"
   ]
  },
  {
   "cell_type": "code",
   "execution_count": 6,
   "id": "0d098263",
   "metadata": {},
   "outputs": [],
   "source": [
    "# Create a new column called 'vader_text_sentiment' \n",
    "# and apply a lambda function that applies vader polarity scores to the all_text column\n",
    "fab = lambda text: vader.polarity_scores(text)['compound']\n",
    "df['vader_text_sentiment'] = df['text'].apply(fab)"
   ]
  },
  {
   "cell_type": "code",
   "execution_count": 7,
   "id": "11633843",
   "metadata": {},
   "outputs": [],
   "source": [
    "# Create a new column called 'textblob_polarity' \n",
    "# and apply a lambda function that applies textblob_polarity scores to the all_text column\n",
    "df['textblob_polarity'] = df['text'].map(lambda words: TextBlob(str(words)).polarity)"
   ]
  },
  {
   "cell_type": "code",
   "execution_count": 53,
   "id": "0b65c9dd",
   "metadata": {
    "scrolled": true
   },
   "outputs": [
    {
     "data": {
      "image/png": "[encoded data removed]",
      "text/plain": [
       "<Figure size 432x288 with 1 Axes>"
      ]
     },
     "metadata": {
      "needs_background": "light"
     },
     "output_type": "display_data"
    }
   ],
   "source": [
    "df.groupby('price_direction')['vader_text_sentiment','textblob_polarity'].mean().T.plot(kind='bar', stacked=False, colormap='summer')\n",
    "plt.title('Average Sentiment Analyses of NYT Business Articles with S&P 500 Price Change')\n",
    "plt.xlabel('Sentiment Analyzers')\n",
    "plt.ylabel('Sentiment Score');\n",
    "\n",
    "# https://matplotlib.org/stable/tutorials/colors/colormaps.html"
   ]
  },
  {
   "cell_type": "code",
   "execution_count": 9,
   "id": "74294c63",
   "metadata": {},
   "outputs": [],
   "source": [
    "# Get rid of all remaining nulls\n",
    "df.dropna(inplace=True)"
   ]
  },
  {
   "cell_type": "code",
   "execution_count": 10,
   "id": "ed059fe6",
   "metadata": {},
   "outputs": [],
   "source": [
    "# Convert price_change values to integers\n",
    "df['price_direction'] = df['price_direction'].map(lambda x: 0 if x == 'down' else (x))\n",
    "df['price_direction'] = df['price_direction'].map(lambda x: 1 if x == 'up' else (x))\n",
    "df['price_direction'] = df['price_direction'].map(lambda x: 2 if x == 'same' else (x))"
   ]
  },
  {
   "cell_type": "code",
   "execution_count": 11,
   "id": "6a50eece",
   "metadata": {},
   "outputs": [],
   "source": [
    "df_sent = df.drop(columns=['Unnamed: 0','price','is_holiday','pct_change','day_of_week'])"
   ]
  },
  {
   "cell_type": "code",
   "execution_count": 57,
   "id": "aea02f51",
   "metadata": {},
   "outputs": [
    {
     "data": {
      "image/png": "[encoded data removed]",
      "text/plain": [
       "<Figure size 144x432 with 2 Axes>"
      ]
     },
     "metadata": {
      "needs_background": "light"
     },
     "output_type": "display_data"
    }
   ],
   "source": [
    "plt.figure(figsize = (2, 6))\n",
    "sns.heatmap(df_sent.corr()[['price_direction']].sort_values(by ='price_direction', key = np.abs), \n",
    "            vmin = -1, vmax = 1, cmap = 'summer', annot=True);"
   ]
  },
  {
   "cell_type": "markdown",
   "id": "6693b78a",
   "metadata": {},
   "source": [
    "##### Linear Regression Models"
   ]
  },
  {
   "cell_type": "markdown",
   "id": "9cd14dfb",
   "metadata": {},
   "source": [
    "##### Vader as our X"
   ]
  },
  {
   "cell_type": "code",
   "execution_count": 13,
   "id": "83391fe0",
   "metadata": {
    "scrolled": true
   },
   "outputs": [
    {
     "data": {
      "text/plain": [
       "((2921, 1), (731, 1))"
      ]
     },
     "execution_count": 13,
     "metadata": {},
     "output_type": "execute_result"
    }
   ],
   "source": [
    "# Assemble X and y variables\n",
    "X = df['vader_text_sentiment']\n",
    "y = df['price_direction']\n",
    "\n",
    "# Convert to numpy array\n",
    "X = np.array(X)\n",
    "y = np.array(y)\n",
    "\n",
    "# Reshape\n",
    "X = X.reshape(-1,1)\n",
    "\n",
    "# Train test split\n",
    "X_train, X_test, y_train, y_test = train_test_split(X, y, test_size=0.2,\n",
    "shuffle=False, random_state = 42)\n",
    "\n",
    "# Scale data \n",
    "ss = StandardScaler()\n",
    "Xs_train = ss.fit_transform(X_train)\n",
    "Xs_test = ss.transform(X_test)\n",
    "\n",
    "# Instantiate the model\n",
    "lr = LinearRegression()\n",
    "\n",
    "# check sizes of train and test sets \n",
    "Xs_train.shape,Xs_test.shape"
   ]
  },
  {
   "cell_type": "code",
   "execution_count": 14,
   "id": "9b7776e6",
   "metadata": {},
   "outputs": [],
   "source": [
    "# Instantiate and fit linreg model \n",
    "lr = LinearRegression().fit(Xs_train,y_train)"
   ]
  },
  {
   "cell_type": "code",
   "execution_count": 15,
   "id": "f067ab5b",
   "metadata": {},
   "outputs": [],
   "source": [
    "def get_metrics(model,X_train=Xs_train,X_test=Xs_test):\n",
    "    'MSE on unscaled data'\n",
    "    # get predictions \n",
    "    train_preds= model.predict(X_train)\n",
    "    test_preds= model.predict(X_test)\n",
    "    \n",
    "    train_mse = mean_squared_error(y_train,train_preds)\n",
    "    test_mse= mean_squared_error(y_test,test_preds)\n",
    "    \n",
    "    print(f'Training MSE: {round((train_mse),4)}')\n",
    "    print(f'Testing MSE: {round((test_mse),4)}')\n",
    "    print(f'Test - Train(overage): {round((test_mse)-(train_mse),4)}')\n",
    "    print(f'R2: {round(metrics.r2_score(y_test, test_preds),4)}')\n",
    "    return"
   ]
  },
  {
   "cell_type": "code",
   "execution_count": 16,
   "id": "97379852",
   "metadata": {},
   "outputs": [
    {
     "name": "stdout",
     "output_type": "stream",
     "text": [
      "Training MSE: 0.6166\n",
      "Testing MSE: 0.5929\n",
      "Test - Train(overage): -0.0237\n",
      "R2: 0.0035\n"
     ]
    }
   ],
   "source": [
    "# metric scores\n",
    "get_metrics(lr)"
   ]
  },
  {
   "cell_type": "markdown",
   "id": "1d936cd6",
   "metadata": {},
   "source": [
    "The models MSE is 2.37% better than the baseline MSE.\n",
    "\n",
    "~.035% of the variability in price_direction can be explained by the vader_text_sentiment scores"
   ]
  },
  {
   "cell_type": "markdown",
   "id": "bba48c6a",
   "metadata": {},
   "source": [
    "##### Textblob as our X"
   ]
  },
  {
   "cell_type": "code",
   "execution_count": 17,
   "id": "e95d9a7a",
   "metadata": {},
   "outputs": [
    {
     "data": {
      "text/plain": [
       "((2921, 1), (731, 1))"
      ]
     },
     "execution_count": 17,
     "metadata": {},
     "output_type": "execute_result"
    }
   ],
   "source": [
    "# Assemble X and y variables\n",
    "Xtb = df['textblob_polarity']\n",
    "y = df['price_direction']\n",
    "\n",
    "# Convert to numpy array\n",
    "Xtb = np.array(Xtb)\n",
    "y = np.array(y)\n",
    "\n",
    "# Reshape\n",
    "Xtb = Xtb.reshape(-1,1)\n",
    "\n",
    "# Train test split\n",
    "Xtb_train, Xtb_test, y_train, y_test = train_test_split(Xtb, y, test_size=0.2,\n",
    "shuffle=False, random_state = 42)\n",
    "\n",
    "# Scale data \n",
    "ss = StandardScaler()\n",
    "Xtbs_train = ss.fit_transform(Xtb_train)\n",
    "Xtbs_test = ss.transform(Xtb_test)\n",
    "\n",
    "# Instantiate the model\n",
    "lr = LinearRegression()\n",
    "\n",
    "# check sizes of train and test sets \n",
    "Xtbs_train.shape,Xtbs_test.shape"
   ]
  },
  {
   "cell_type": "code",
   "execution_count": 18,
   "id": "651e82cb",
   "metadata": {},
   "outputs": [],
   "source": [
    "# Instantiate and fit linreg model \n",
    "lr = LinearRegression().fit(Xtbs_train,y_train)"
   ]
  },
  {
   "cell_type": "code",
   "execution_count": 19,
   "id": "adfb3e84",
   "metadata": {},
   "outputs": [],
   "source": [
    "def get_metrics(model,Xtb_train=Xtbs_train,Xtb_test=Xtbs_test):\n",
    "    'MSE on unscaled data'\n",
    "    # get predictions \n",
    "    train_preds= model.predict(Xtb_train)\n",
    "    test_preds= model.predict(Xtb_test)\n",
    "    \n",
    "    train_mse = mean_squared_error(y_train,train_preds)\n",
    "    test_mse= mean_squared_error(y_test,test_preds)\n",
    "    \n",
    "    print(f'Training MSE: {round((train_mse),4)}')\n",
    "    print(f'Testing MSE: {round((test_mse),4)}')\n",
    "    print(f'Test - Train(overage): {round((test_mse)-(train_mse),4)}')\n",
    "    print(f'R2: {round(metrics.r2_score(y_test, test_preds),4)}')\n",
    "    return"
   ]
  },
  {
   "cell_type": "code",
   "execution_count": 20,
   "id": "4deda935",
   "metadata": {},
   "outputs": [
    {
     "name": "stdout",
     "output_type": "stream",
     "text": [
      "Training MSE: 0.6242\n",
      "Testing MSE: 0.6006\n",
      "Test - Train(overage): -0.0236\n",
      "R2: -0.0094\n"
     ]
    }
   ],
   "source": [
    "# metric scores\n",
    "get_metrics(lr)"
   ]
  },
  {
   "cell_type": "markdown",
   "id": "7db3f9bc",
   "metadata": {},
   "source": [
    "The models MSE is 2.36% better than the baseline MSE.\n",
    "\n",
    "~.009% of the variability in price_direction can be explained by the textblob_polarity      sentiment scores"
   ]
  },
  {
   "cell_type": "markdown",
   "id": "6dbe7796",
   "metadata": {},
   "source": [
    "##### Regression Pipeline"
   ]
  },
  {
   "cell_type": "code",
   "execution_count": 21,
   "id": "dee99109",
   "metadata": {},
   "outputs": [],
   "source": [
    "#Perform Scaling\n",
    "sc = StandardScaler()\n",
    "X_sc = sc.fit_transform(X)\n",
    "\n",
    "#Splitting the data into train and test split\n",
    "X_train, X_test, y_train, y_test = train_test_split(X_sc, y, test_size=0.2, random_state=42)"
   ]
  },
  {
   "cell_type": "code",
   "execution_count": 22,
   "id": "b8b279c7",
   "metadata": {},
   "outputs": [],
   "source": [
    "# Pipeline of regression models to run\n",
    "regressors = [\n",
    "    KNeighborsRegressor(),\n",
    "    GradientBoostingRegressor(),\n",
    "    KNeighborsRegressor(),\n",
    "    ExtraTreesRegressor(),\n",
    "    RandomForestRegressor(),\n",
    "    DecisionTreeRegressor(),\n",
    "    LinearRegression(),\n",
    "    Lasso(),\n",
    "    Ridge()\n",
    "]\n",
    "# https://machinelearninghd.com/gridsearchcv-hyperparameter-tuning-sckit-learn-regression-classification/"
   ]
  },
  {
   "cell_type": "code",
   "execution_count": 23,
   "id": "f4715091",
   "metadata": {},
   "outputs": [
    {
     "name": "stdout",
     "output_type": "stream",
     "text": [
      "KNeighborsRegressor()\n",
      "\tTraining time: 0.001s\n",
      "\tPrediction time: 0.001s\n",
      "\tExplained variance: -0.11473649567501432\n",
      "\tMean absolute error: 0.6807113543091655\n",
      "\tR2 score: -0.11646574474823179\n",
      "\n",
      "GradientBoostingRegressor()\n",
      "\tTraining time: 0.083s\n",
      "\tPrediction time: 0.001s\n",
      "\tExplained variance: 0.08239168644649497\n",
      "\tMean absolute error: 0.6436739196397184\n",
      "\tR2 score: 0.08135056765379467\n",
      "\n",
      "KNeighborsRegressor()\n",
      "\tTraining time: 0.001s\n",
      "\tPrediction time: 0.001s\n",
      "\tExplained variance: -0.11473649567501432\n",
      "\tMean absolute error: 0.6807113543091655\n",
      "\tR2 score: -0.11646574474823179\n",
      "\n",
      "ExtraTreesRegressor()\n",
      "\tTraining time: 0.123s\n",
      "\tPrediction time: 0.012s\n",
      "\tExplained variance: -0.22607667763771921\n",
      "\tMean absolute error: 0.6784697981701262\n",
      "\tR2 score: -0.22811034864140622\n",
      "\n",
      "RandomForestRegressor()\n",
      "\tTraining time: 0.188s\n",
      "\tPrediction time: 0.011s\n",
      "\tExplained variance: -0.14149531390849424\n",
      "\tMean absolute error: 0.6801727219105419\n",
      "\tR2 score: -0.14328089031837377\n",
      "\n",
      "DecisionTreeRegressor()\n",
      "\tTraining time: 0.003s\n",
      "\tPrediction time: 0.000s\n",
      "\tExplained variance: -0.3476259106773658\n",
      "\tMean absolute error: 0.6893008515216995\n",
      "\tR2 score: -0.34928012571982814\n",
      "\n",
      "LinearRegression()\n",
      "\tTraining time: 0.001s\n",
      "\tPrediction time: 0.000s\n",
      "\tExplained variance: 0.008899089910837987\n",
      "\tMean absolute error: 0.6273436888089005\n",
      "\tR2 score: 0.0066547878983956865\n",
      "\n",
      "Lasso()\n",
      "\tTraining time: 0.001s\n",
      "\tPrediction time: 0.000s\n",
      "\tExplained variance: 0.0\n",
      "\tMean absolute error: 0.6075964839730786\n",
      "\tR2 score: -0.0018648278965198717\n",
      "\n",
      "Ridge()\n",
      "\tTraining time: 0.001s\n",
      "\tPrediction time: 0.000s\n",
      "\tExplained variance: 0.00890011002984159\n",
      "\tMean absolute error: 0.6273365254593194\n",
      "\tR2 score: 0.006655941763145434\n",
      "\n"
     ]
    }
   ],
   "source": [
    "# Function to score regression models\n",
    "head = 10\n",
    "for model in regressors[:head]:\n",
    "    start = time()\n",
    "    model.fit(X_train, y_train)\n",
    "    train_time = time() - start\n",
    "    start = time()\n",
    "    y_pred = model.predict(X_test)\n",
    "    predict_time = time()-start    \n",
    "    print(model)\n",
    "    print(\"\\tTraining time: %0.3fs\" % train_time)\n",
    "    print(\"\\tPrediction time: %0.3fs\" % predict_time)\n",
    "    print(\"\\tExplained variance:\", explained_variance_score(y_test, y_pred))\n",
    "    print(\"\\tMean absolute error:\", mean_absolute_error(y_test, y_pred))\n",
    "    print(\"\\tR2 score:\", r2_score(y_test, y_pred))\n",
    "    print()"
   ]
  },
  {
   "cell_type": "markdown",
   "id": "a27a1f88",
   "metadata": {},
   "source": [
    "Based on the R2 score, the top three performers are:\n",
    "\n",
    "**ExtraTreesRegressor, DecisionTreeRegressor and RandomForestRegressor** so we will look at them closer by running gridsearch to optimize the scores"
   ]
  },
  {
   "cell_type": "code",
   "execution_count": 24,
   "id": "21e561ce",
   "metadata": {},
   "outputs": [],
   "source": [
    "# ExtraTreeRegressor parameters\n",
    "parameters = {'criterion' : ['mse', 'mae'],\n",
    "              'max_features' : ['auto', 'sqrt', 'log2']\n",
    "             }"
   ]
  },
  {
   "cell_type": "code",
   "execution_count": 25,
   "id": "d1ebd911",
   "metadata": {},
   "outputs": [
    {
     "name": "stdout",
     "output_type": "stream",
     "text": [
      "{'criterion': 'mse', 'max_features': 'auto'} \n",
      "\n",
      "ExtraTreesRegressor() \n",
      "\n"
     ]
    }
   ],
   "source": [
    "# initiate GridSearch to find best params and estimators\n",
    "grid = GridSearchCV(ExtraTreesRegressor(),parameters)\n",
    "model = grid.fit(X_sc,y)\n",
    "print(model.best_params_,'\\n')\n",
    "print(model.best_estimator_,'\\n')"
   ]
  },
  {
   "cell_type": "code",
   "execution_count": 26,
   "id": "1e09ddde",
   "metadata": {},
   "outputs": [
    {
     "data": {
      "text/plain": [
       "<AxesSubplot:ylabel='Density'>"
      ]
     },
     "execution_count": 26,
     "metadata": {},
     "output_type": "execute_result"
    },
    {
     "data": {
      "image/png": "[encoded data removed]",
      "text/plain": [
       "<Figure size 432x288 with 1 Axes>"
      ]
     },
     "metadata": {
      "needs_background": "light"
     },
     "output_type": "display_data"
    }
   ],
   "source": [
    "sns.distplot(y_pred-y_test)"
   ]
  },
  {
   "cell_type": "code",
   "execution_count": 27,
   "id": "3dc31e11",
   "metadata": {},
   "outputs": [
    {
     "data": {
      "text/plain": [
       "(6, 14)"
      ]
     },
     "execution_count": 27,
     "metadata": {},
     "output_type": "execute_result"
    }
   ],
   "source": [
    "# Create new data frame to view results - ranked in order of best scores\n",
    "etr = pd.DataFrame(grid.cv_results_).set_index('rank_test_score').sort_index()\n",
    "etr.shape"
   ]
  },
  {
   "cell_type": "code",
   "execution_count": 28,
   "id": "84cc49a4",
   "metadata": {},
   "outputs": [
    {
     "data": {
      "text/html": [
       "<div>\n",
       "<style scoped>\n",
       "    .dataframe tbody tr th:only-of-type {\n",
       "        vertical-align: middle;\n",
       "    }\n",
       "\n",
       "    .dataframe tbody tr th {\n",
       "        vertical-align: top;\n",
       "    }\n",
       "\n",
       "    .dataframe thead th {\n",
       "        text-align: right;\n",
       "    }\n",
       "</style>\n",
       "<table border=\"1\" class=\"dataframe\">\n",
       "  <thead>\n",
       "    <tr style=\"text-align: right;\">\n",
       "      <th>rank_test_score</th>\n",
       "      <th>1</th>\n",
       "      <th>2</th>\n",
       "      <th>3</th>\n",
       "      <th>4</th>\n",
       "      <th>5</th>\n",
       "      <th>6</th>\n",
       "    </tr>\n",
       "  </thead>\n",
       "  <tbody>\n",
       "    <tr>\n",
       "      <th>mean_fit_time</th>\n",
       "      <td>0.117099</td>\n",
       "      <td>0.112538</td>\n",
       "      <td>0.112478</td>\n",
       "      <td>3.450181</td>\n",
       "      <td>3.451569</td>\n",
       "      <td>3.457001</td>\n",
       "    </tr>\n",
       "    <tr>\n",
       "      <th>std_fit_time</th>\n",
       "      <td>0.006457</td>\n",
       "      <td>0.002518</td>\n",
       "      <td>0.002475</td>\n",
       "      <td>0.042727</td>\n",
       "      <td>0.04662</td>\n",
       "      <td>0.068585</td>\n",
       "    </tr>\n",
       "    <tr>\n",
       "      <th>mean_score_time</th>\n",
       "      <td>0.011772</td>\n",
       "      <td>0.011451</td>\n",
       "      <td>0.011591</td>\n",
       "      <td>0.012135</td>\n",
       "      <td>0.012474</td>\n",
       "      <td>0.012386</td>\n",
       "    </tr>\n",
       "    <tr>\n",
       "      <th>std_score_time</th>\n",
       "      <td>0.000471</td>\n",
       "      <td>0.000373</td>\n",
       "      <td>0.000415</td>\n",
       "      <td>0.00028</td>\n",
       "      <td>0.000522</td>\n",
       "      <td>0.000236</td>\n",
       "    </tr>\n",
       "    <tr>\n",
       "      <th>param_criterion</th>\n",
       "      <td>mse</td>\n",
       "      <td>mse</td>\n",
       "      <td>mse</td>\n",
       "      <td>mae</td>\n",
       "      <td>mae</td>\n",
       "      <td>mae</td>\n",
       "    </tr>\n",
       "    <tr>\n",
       "      <th>param_max_features</th>\n",
       "      <td>auto</td>\n",
       "      <td>log2</td>\n",
       "      <td>sqrt</td>\n",
       "      <td>auto</td>\n",
       "      <td>sqrt</td>\n",
       "      <td>log2</td>\n",
       "    </tr>\n",
       "    <tr>\n",
       "      <th>params</th>\n",
       "      <td>{'criterion': 'mse', 'max_features': 'auto'}</td>\n",
       "      <td>{'criterion': 'mse', 'max_features': 'log2'}</td>\n",
       "      <td>{'criterion': 'mse', 'max_features': 'sqrt'}</td>\n",
       "      <td>{'criterion': 'mae', 'max_features': 'auto'}</td>\n",
       "      <td>{'criterion': 'mae', 'max_features': 'sqrt'}</td>\n",
       "      <td>{'criterion': 'mae', 'max_features': 'log2'}</td>\n",
       "    </tr>\n",
       "    <tr>\n",
       "      <th>split0_test_score</th>\n",
       "      <td>-0.422363</td>\n",
       "      <td>-0.423908</td>\n",
       "      <td>-0.427896</td>\n",
       "      <td>-0.506226</td>\n",
       "      <td>-0.505642</td>\n",
       "      <td>-0.510985</td>\n",
       "    </tr>\n",
       "    <tr>\n",
       "      <th>split1_test_score</th>\n",
       "      <td>0.03156</td>\n",
       "      <td>0.031654</td>\n",
       "      <td>0.033658</td>\n",
       "      <td>-0.149799</td>\n",
       "      <td>-0.154512</td>\n",
       "      <td>-0.152659</td>\n",
       "    </tr>\n",
       "    <tr>\n",
       "      <th>split2_test_score</th>\n",
       "      <td>-0.098235</td>\n",
       "      <td>-0.100362</td>\n",
       "      <td>-0.103854</td>\n",
       "      <td>-0.259303</td>\n",
       "      <td>-0.261699</td>\n",
       "      <td>-0.262048</td>\n",
       "    </tr>\n",
       "    <tr>\n",
       "      <th>split3_test_score</th>\n",
       "      <td>-0.360871</td>\n",
       "      <td>-0.364051</td>\n",
       "      <td>-0.364893</td>\n",
       "      <td>-0.485545</td>\n",
       "      <td>-0.48633</td>\n",
       "      <td>-0.490435</td>\n",
       "    </tr>\n",
       "    <tr>\n",
       "      <th>split4_test_score</th>\n",
       "      <td>-0.327348</td>\n",
       "      <td>-0.325023</td>\n",
       "      <td>-0.327082</td>\n",
       "      <td>-0.437683</td>\n",
       "      <td>-0.439611</td>\n",
       "      <td>-0.444559</td>\n",
       "    </tr>\n",
       "    <tr>\n",
       "      <th>mean_test_score</th>\n",
       "      <td>-0.235451</td>\n",
       "      <td>-0.236338</td>\n",
       "      <td>-0.238014</td>\n",
       "      <td>-0.367711</td>\n",
       "      <td>-0.369559</td>\n",
       "      <td>-0.372137</td>\n",
       "    </tr>\n",
       "    <tr>\n",
       "      <th>std_test_score</th>\n",
       "      <td>0.172762</td>\n",
       "      <td>0.173013</td>\n",
       "      <td>0.174293</td>\n",
       "      <td>0.139431</td>\n",
       "      <td>0.137797</td>\n",
       "      <td>0.140576</td>\n",
       "    </tr>\n",
       "  </tbody>\n",
       "</table>\n",
       "</div>"
      ],
      "text/plain": [
       "rank_test_score                                                1  \\\n",
       "mean_fit_time                                           0.117099   \n",
       "std_fit_time                                            0.006457   \n",
       "mean_score_time                                         0.011772   \n",
       "std_score_time                                          0.000471   \n",
       "param_criterion                                              mse   \n",
       "param_max_features                                          auto   \n",
       "params              {'criterion': 'mse', 'max_features': 'auto'}   \n",
       "split0_test_score                                      -0.422363   \n",
       "split1_test_score                                        0.03156   \n",
       "split2_test_score                                      -0.098235   \n",
       "split3_test_score                                      -0.360871   \n",
       "split4_test_score                                      -0.327348   \n",
       "mean_test_score                                        -0.235451   \n",
       "std_test_score                                          0.172762   \n",
       "\n",
       "rank_test_score                                                2  \\\n",
       "mean_fit_time                                           0.112538   \n",
       "std_fit_time                                            0.002518   \n",
       "mean_score_time                                         0.011451   \n",
       "std_score_time                                          0.000373   \n",
       "param_criterion                                              mse   \n",
       "param_max_features                                          log2   \n",
       "params              {'criterion': 'mse', 'max_features': 'log2'}   \n",
       "split0_test_score                                      -0.423908   \n",
       "split1_test_score                                       0.031654   \n",
       "split2_test_score                                      -0.100362   \n",
       "split3_test_score                                      -0.364051   \n",
       "split4_test_score                                      -0.325023   \n",
       "mean_test_score                                        -0.236338   \n",
       "std_test_score                                          0.173013   \n",
       "\n",
       "rank_test_score                                                3  \\\n",
       "mean_fit_time                                           0.112478   \n",
       "std_fit_time                                            0.002475   \n",
       "mean_score_time                                         0.011591   \n",
       "std_score_time                                          0.000415   \n",
       "param_criterion                                              mse   \n",
       "param_max_features                                          sqrt   \n",
       "params              {'criterion': 'mse', 'max_features': 'sqrt'}   \n",
       "split0_test_score                                      -0.427896   \n",
       "split1_test_score                                       0.033658   \n",
       "split2_test_score                                      -0.103854   \n",
       "split3_test_score                                      -0.364893   \n",
       "split4_test_score                                      -0.327082   \n",
       "mean_test_score                                        -0.238014   \n",
       "std_test_score                                          0.174293   \n",
       "\n",
       "rank_test_score                                                4  \\\n",
       "mean_fit_time                                           3.450181   \n",
       "std_fit_time                                            0.042727   \n",
       "mean_score_time                                         0.012135   \n",
       "std_score_time                                           0.00028   \n",
       "param_criterion                                              mae   \n",
       "param_max_features                                          auto   \n",
       "params              {'criterion': 'mae', 'max_features': 'auto'}   \n",
       "split0_test_score                                      -0.506226   \n",
       "split1_test_score                                      -0.149799   \n",
       "split2_test_score                                      -0.259303   \n",
       "split3_test_score                                      -0.485545   \n",
       "split4_test_score                                      -0.437683   \n",
       "mean_test_score                                        -0.367711   \n",
       "std_test_score                                          0.139431   \n",
       "\n",
       "rank_test_score                                                5  \\\n",
       "mean_fit_time                                           3.451569   \n",
       "std_fit_time                                             0.04662   \n",
       "mean_score_time                                         0.012474   \n",
       "std_score_time                                          0.000522   \n",
       "param_criterion                                              mae   \n",
       "param_max_features                                          sqrt   \n",
       "params              {'criterion': 'mae', 'max_features': 'sqrt'}   \n",
       "split0_test_score                                      -0.505642   \n",
       "split1_test_score                                      -0.154512   \n",
       "split2_test_score                                      -0.261699   \n",
       "split3_test_score                                       -0.48633   \n",
       "split4_test_score                                      -0.439611   \n",
       "mean_test_score                                        -0.369559   \n",
       "std_test_score                                          0.137797   \n",
       "\n",
       "rank_test_score                                                6  \n",
       "mean_fit_time                                           3.457001  \n",
       "std_fit_time                                            0.068585  \n",
       "mean_score_time                                         0.012386  \n",
       "std_score_time                                          0.000236  \n",
       "param_criterion                                              mae  \n",
       "param_max_features                                          log2  \n",
       "params              {'criterion': 'mae', 'max_features': 'log2'}  \n",
       "split0_test_score                                      -0.510985  \n",
       "split1_test_score                                      -0.152659  \n",
       "split2_test_score                                      -0.262048  \n",
       "split3_test_score                                      -0.490435  \n",
       "split4_test_score                                      -0.444559  \n",
       "mean_test_score                                        -0.372137  \n",
       "std_test_score                                          0.140576  "
      ]
     },
     "execution_count": 28,
     "metadata": {},
     "output_type": "execute_result"
    }
   ],
   "source": [
    "etr.T"
   ]
  },
  {
   "cell_type": "code",
   "execution_count": 29,
   "id": "9e12dedc",
   "metadata": {},
   "outputs": [],
   "source": [
    "# DecisionTreeRegressor parameters\n",
    "dt_parameters = {'criterion' : ['mse','friedman_mse','poisson'],\n",
    "              'max_features' : ['auto', 'sqrt', 'log2'],\n",
    "                               'splitter'   : ['best', 'random']\n",
    "             }"
   ]
  },
  {
   "cell_type": "code",
   "execution_count": 30,
   "id": "e877f174",
   "metadata": {},
   "outputs": [
    {
     "name": "stdout",
     "output_type": "stream",
     "text": [
      "{'criterion': 'mse', 'max_features': 'auto'} \n",
      "\n",
      "DecisionTreeRegressor(max_features='auto') \n",
      "\n"
     ]
    }
   ],
   "source": [
    "# initiate GridSearch to find best params and estimators\n",
    "grid = GridSearchCV(DecisionTreeRegressor(),parameters)\n",
    "model = grid.fit(X_sc,y)\n",
    "print(model.best_params_,'\\n')\n",
    "print(model.best_estimator_,'\\n')"
   ]
  },
  {
   "cell_type": "code",
   "execution_count": 31,
   "id": "ca1d34bd",
   "metadata": {},
   "outputs": [
    {
     "data": {
      "text/plain": [
       "<AxesSubplot:ylabel='Density'>"
      ]
     },
     "execution_count": 31,
     "metadata": {},
     "output_type": "execute_result"
    },
    {
     "data": {
      "image/png": "[encoded data removed]",
      "text/plain": [
       "<Figure size 432x288 with 1 Axes>"
      ]
     },
     "metadata": {
      "needs_background": "light"
     },
     "output_type": "display_data"
    }
   ],
   "source": [
    "sns.distplot(y_pred-y_test)"
   ]
  },
  {
   "cell_type": "code",
   "execution_count": 32,
   "id": "5a56efb5",
   "metadata": {},
   "outputs": [
    {
     "data": {
      "text/plain": [
       "(6, 14)"
      ]
     },
     "execution_count": 32,
     "metadata": {},
     "output_type": "execute_result"
    }
   ],
   "source": [
    "# Create new data frame to view results - ranked in order of best scores\n",
    "dt = pd.DataFrame(grid.cv_results_).set_index('rank_test_score').sort_index()\n",
    "dt.shape"
   ]
  },
  {
   "cell_type": "code",
   "execution_count": 33,
   "id": "47ef2db2",
   "metadata": {},
   "outputs": [
    {
     "data": {
      "text/html": [
       "<div>\n",
       "<style scoped>\n",
       "    .dataframe tbody tr th:only-of-type {\n",
       "        vertical-align: middle;\n",
       "    }\n",
       "\n",
       "    .dataframe tbody tr th {\n",
       "        vertical-align: top;\n",
       "    }\n",
       "\n",
       "    .dataframe thead th {\n",
       "        text-align: right;\n",
       "    }\n",
       "</style>\n",
       "<table border=\"1\" class=\"dataframe\">\n",
       "  <thead>\n",
       "    <tr style=\"text-align: right;\">\n",
       "      <th>rank_test_score</th>\n",
       "      <th>1</th>\n",
       "      <th>1</th>\n",
       "      <th>1</th>\n",
       "      <th>4</th>\n",
       "      <th>4</th>\n",
       "      <th>4</th>\n",
       "    </tr>\n",
       "  </thead>\n",
       "  <tbody>\n",
       "    <tr>\n",
       "      <th>mean_fit_time</th>\n",
       "      <td>0.002547</td>\n",
       "      <td>0.002371</td>\n",
       "      <td>0.002368</td>\n",
       "      <td>0.455236</td>\n",
       "      <td>0.460019</td>\n",
       "      <td>0.460024</td>\n",
       "    </tr>\n",
       "    <tr>\n",
       "      <th>std_fit_time</th>\n",
       "      <td>0.000236</td>\n",
       "      <td>0.000189</td>\n",
       "      <td>0.000178</td>\n",
       "      <td>0.1277</td>\n",
       "      <td>0.129875</td>\n",
       "      <td>0.129444</td>\n",
       "    </tr>\n",
       "    <tr>\n",
       "      <th>mean_score_time</th>\n",
       "      <td>0.000366</td>\n",
       "      <td>0.000273</td>\n",
       "      <td>0.000262</td>\n",
       "      <td>0.00046</td>\n",
       "      <td>0.000489</td>\n",
       "      <td>0.000561</td>\n",
       "    </tr>\n",
       "    <tr>\n",
       "      <th>std_score_time</th>\n",
       "      <td>0.000067</td>\n",
       "      <td>0.000021</td>\n",
       "      <td>0.000008</td>\n",
       "      <td>0.000122</td>\n",
       "      <td>0.000097</td>\n",
       "      <td>0.000047</td>\n",
       "    </tr>\n",
       "    <tr>\n",
       "      <th>param_criterion</th>\n",
       "      <td>mse</td>\n",
       "      <td>mse</td>\n",
       "      <td>mse</td>\n",
       "      <td>mae</td>\n",
       "      <td>mae</td>\n",
       "      <td>mae</td>\n",
       "    </tr>\n",
       "    <tr>\n",
       "      <th>param_max_features</th>\n",
       "      <td>auto</td>\n",
       "      <td>sqrt</td>\n",
       "      <td>log2</td>\n",
       "      <td>auto</td>\n",
       "      <td>sqrt</td>\n",
       "      <td>log2</td>\n",
       "    </tr>\n",
       "    <tr>\n",
       "      <th>params</th>\n",
       "      <td>{'criterion': 'mse', 'max_features': 'auto'}</td>\n",
       "      <td>{'criterion': 'mse', 'max_features': 'sqrt'}</td>\n",
       "      <td>{'criterion': 'mse', 'max_features': 'log2'}</td>\n",
       "      <td>{'criterion': 'mae', 'max_features': 'auto'}</td>\n",
       "      <td>{'criterion': 'mae', 'max_features': 'sqrt'}</td>\n",
       "      <td>{'criterion': 'mae', 'max_features': 'log2'}</td>\n",
       "    </tr>\n",
       "    <tr>\n",
       "      <th>split0_test_score</th>\n",
       "      <td>-0.535722</td>\n",
       "      <td>-0.535722</td>\n",
       "      <td>-0.535722</td>\n",
       "      <td>-0.616805</td>\n",
       "      <td>-0.616805</td>\n",
       "      <td>-0.616805</td>\n",
       "    </tr>\n",
       "    <tr>\n",
       "      <th>split1_test_score</th>\n",
       "      <td>-0.009227</td>\n",
       "      <td>-0.009227</td>\n",
       "      <td>-0.009227</td>\n",
       "      <td>-0.192009</td>\n",
       "      <td>-0.192009</td>\n",
       "      <td>-0.192009</td>\n",
       "    </tr>\n",
       "    <tr>\n",
       "      <th>split2_test_score</th>\n",
       "      <td>-0.155354</td>\n",
       "      <td>-0.155354</td>\n",
       "      <td>-0.155354</td>\n",
       "      <td>-0.308683</td>\n",
       "      <td>-0.308683</td>\n",
       "      <td>-0.308683</td>\n",
       "    </tr>\n",
       "    <tr>\n",
       "      <th>split3_test_score</th>\n",
       "      <td>-0.479875</td>\n",
       "      <td>-0.479875</td>\n",
       "      <td>-0.479875</td>\n",
       "      <td>-0.606502</td>\n",
       "      <td>-0.606502</td>\n",
       "      <td>-0.606502</td>\n",
       "    </tr>\n",
       "    <tr>\n",
       "      <th>split4_test_score</th>\n",
       "      <td>-0.454817</td>\n",
       "      <td>-0.454817</td>\n",
       "      <td>-0.454817</td>\n",
       "      <td>-0.571963</td>\n",
       "      <td>-0.571963</td>\n",
       "      <td>-0.571963</td>\n",
       "    </tr>\n",
       "    <tr>\n",
       "      <th>mean_test_score</th>\n",
       "      <td>-0.326999</td>\n",
       "      <td>-0.326999</td>\n",
       "      <td>-0.326999</td>\n",
       "      <td>-0.459192</td>\n",
       "      <td>-0.459192</td>\n",
       "      <td>-0.459192</td>\n",
       "    </tr>\n",
       "    <tr>\n",
       "      <th>std_test_score</th>\n",
       "      <td>0.206744</td>\n",
       "      <td>0.206744</td>\n",
       "      <td>0.206744</td>\n",
       "      <td>0.1751</td>\n",
       "      <td>0.1751</td>\n",
       "      <td>0.1751</td>\n",
       "    </tr>\n",
       "  </tbody>\n",
       "</table>\n",
       "</div>"
      ],
      "text/plain": [
       "rank_test_score                                                1  \\\n",
       "mean_fit_time                                           0.002547   \n",
       "std_fit_time                                            0.000236   \n",
       "mean_score_time                                         0.000366   \n",
       "std_score_time                                          0.000067   \n",
       "param_criterion                                              mse   \n",
       "param_max_features                                          auto   \n",
       "params              {'criterion': 'mse', 'max_features': 'auto'}   \n",
       "split0_test_score                                      -0.535722   \n",
       "split1_test_score                                      -0.009227   \n",
       "split2_test_score                                      -0.155354   \n",
       "split3_test_score                                      -0.479875   \n",
       "split4_test_score                                      -0.454817   \n",
       "mean_test_score                                        -0.326999   \n",
       "std_test_score                                          0.206744   \n",
       "\n",
       "rank_test_score                                                1  \\\n",
       "mean_fit_time                                           0.002371   \n",
       "std_fit_time                                            0.000189   \n",
       "mean_score_time                                         0.000273   \n",
       "std_score_time                                          0.000021   \n",
       "param_criterion                                              mse   \n",
       "param_max_features                                          sqrt   \n",
       "params              {'criterion': 'mse', 'max_features': 'sqrt'}   \n",
       "split0_test_score                                      -0.535722   \n",
       "split1_test_score                                      -0.009227   \n",
       "split2_test_score                                      -0.155354   \n",
       "split3_test_score                                      -0.479875   \n",
       "split4_test_score                                      -0.454817   \n",
       "mean_test_score                                        -0.326999   \n",
       "std_test_score                                          0.206744   \n",
       "\n",
       "rank_test_score                                                1  \\\n",
       "mean_fit_time                                           0.002368   \n",
       "std_fit_time                                            0.000178   \n",
       "mean_score_time                                         0.000262   \n",
       "std_score_time                                          0.000008   \n",
       "param_criterion                                              mse   \n",
       "param_max_features                                          log2   \n",
       "params              {'criterion': 'mse', 'max_features': 'log2'}   \n",
       "split0_test_score                                      -0.535722   \n",
       "split1_test_score                                      -0.009227   \n",
       "split2_test_score                                      -0.155354   \n",
       "split3_test_score                                      -0.479875   \n",
       "split4_test_score                                      -0.454817   \n",
       "mean_test_score                                        -0.326999   \n",
       "std_test_score                                          0.206744   \n",
       "\n",
       "rank_test_score                                                4  \\\n",
       "mean_fit_time                                           0.455236   \n",
       "std_fit_time                                              0.1277   \n",
       "mean_score_time                                          0.00046   \n",
       "std_score_time                                          0.000122   \n",
       "param_criterion                                              mae   \n",
       "param_max_features                                          auto   \n",
       "params              {'criterion': 'mae', 'max_features': 'auto'}   \n",
       "split0_test_score                                      -0.616805   \n",
       "split1_test_score                                      -0.192009   \n",
       "split2_test_score                                      -0.308683   \n",
       "split3_test_score                                      -0.606502   \n",
       "split4_test_score                                      -0.571963   \n",
       "mean_test_score                                        -0.459192   \n",
       "std_test_score                                            0.1751   \n",
       "\n",
       "rank_test_score                                                4  \\\n",
       "mean_fit_time                                           0.460019   \n",
       "std_fit_time                                            0.129875   \n",
       "mean_score_time                                         0.000489   \n",
       "std_score_time                                          0.000097   \n",
       "param_criterion                                              mae   \n",
       "param_max_features                                          sqrt   \n",
       "params              {'criterion': 'mae', 'max_features': 'sqrt'}   \n",
       "split0_test_score                                      -0.616805   \n",
       "split1_test_score                                      -0.192009   \n",
       "split2_test_score                                      -0.308683   \n",
       "split3_test_score                                      -0.606502   \n",
       "split4_test_score                                      -0.571963   \n",
       "mean_test_score                                        -0.459192   \n",
       "std_test_score                                            0.1751   \n",
       "\n",
       "rank_test_score                                                4  \n",
       "mean_fit_time                                           0.460024  \n",
       "std_fit_time                                            0.129444  \n",
       "mean_score_time                                         0.000561  \n",
       "std_score_time                                          0.000047  \n",
       "param_criterion                                              mae  \n",
       "param_max_features                                          log2  \n",
       "params              {'criterion': 'mae', 'max_features': 'log2'}  \n",
       "split0_test_score                                      -0.616805  \n",
       "split1_test_score                                      -0.192009  \n",
       "split2_test_score                                      -0.308683  \n",
       "split3_test_score                                      -0.606502  \n",
       "split4_test_score                                      -0.571963  \n",
       "mean_test_score                                        -0.459192  \n",
       "std_test_score                                            0.1751  "
      ]
     },
     "execution_count": 33,
     "metadata": {},
     "output_type": "execute_result"
    }
   ],
   "source": [
    "dt.T"
   ]
  },
  {
   "cell_type": "code",
   "execution_count": 34,
   "id": "02e3f87c",
   "metadata": {},
   "outputs": [],
   "source": [
    "# RandomForestRegressor parameters\n",
    "rf_parameters = {'criterion' : ['gini','entropy'],\n",
    "              'max_features' : ['auto', 'sqrt', 'log2']\n",
    "             }"
   ]
  },
  {
   "cell_type": "code",
   "execution_count": 35,
   "id": "b9cfa85f",
   "metadata": {},
   "outputs": [
    {
     "name": "stdout",
     "output_type": "stream",
     "text": [
      "{'criterion': 'mae', 'max_features': 'sqrt'} \n",
      "\n",
      "RandomForestRegressor(criterion='mae', max_features='sqrt') \n",
      "\n"
     ]
    }
   ],
   "source": [
    "# initiate GridSearch to find best params and estimators\n",
    "grid = GridSearchCV(RandomForestRegressor(),parameters)\n",
    "model = grid.fit(X_sc,y)\n",
    "print(model.best_params_,'\\n')\n",
    "print(model.best_estimator_,'\\n')"
   ]
  },
  {
   "cell_type": "code",
   "execution_count": 36,
   "id": "bdb69841",
   "metadata": {},
   "outputs": [
    {
     "data": {
      "text/plain": [
       "<AxesSubplot:ylabel='Density'>"
      ]
     },
     "execution_count": 36,
     "metadata": {},
     "output_type": "execute_result"
    },
    {
     "data": {
      "image/png": "[encoded data removed]",
      "text/plain": [
       "<Figure size 432x288 with 1 Axes>"
      ]
     },
     "metadata": {
      "needs_background": "light"
     },
     "output_type": "display_data"
    }
   ],
   "source": [
    "sns.distplot(y_pred-y_test)"
   ]
  },
  {
   "cell_type": "code",
   "execution_count": 37,
   "id": "9a19fbcf",
   "metadata": {},
   "outputs": [
    {
     "data": {
      "text/plain": [
       "(6, 14)"
      ]
     },
     "execution_count": 37,
     "metadata": {},
     "output_type": "execute_result"
    }
   ],
   "source": [
    "# Create new data frame to view results - ranked in order of best scores\n",
    "rf = pd.DataFrame(grid.cv_results_).set_index('rank_test_score').sort_index()\n",
    "rf.shape"
   ]
  },
  {
   "cell_type": "code",
   "execution_count": 38,
   "id": "91ee13dc",
   "metadata": {},
   "outputs": [
    {
     "data": {
      "text/html": [
       "<div>\n",
       "<style scoped>\n",
       "    .dataframe tbody tr th:only-of-type {\n",
       "        vertical-align: middle;\n",
       "    }\n",
       "\n",
       "    .dataframe tbody tr th {\n",
       "        vertical-align: top;\n",
       "    }\n",
       "\n",
       "    .dataframe thead th {\n",
       "        text-align: right;\n",
       "    }\n",
       "</style>\n",
       "<table border=\"1\" class=\"dataframe\">\n",
       "  <thead>\n",
       "    <tr style=\"text-align: right;\">\n",
       "      <th>rank_test_score</th>\n",
       "      <th>1</th>\n",
       "      <th>2</th>\n",
       "      <th>3</th>\n",
       "      <th>4</th>\n",
       "      <th>5</th>\n",
       "      <th>6</th>\n",
       "    </tr>\n",
       "  </thead>\n",
       "  <tbody>\n",
       "    <tr>\n",
       "      <th>mean_fit_time</th>\n",
       "      <td>17.137558</td>\n",
       "      <td>16.690476</td>\n",
       "      <td>17.151514</td>\n",
       "      <td>0.192271</td>\n",
       "      <td>0.19175</td>\n",
       "      <td>0.18898</td>\n",
       "    </tr>\n",
       "    <tr>\n",
       "      <th>std_fit_time</th>\n",
       "      <td>5.042516</td>\n",
       "      <td>4.708227</td>\n",
       "      <td>4.543082</td>\n",
       "      <td>0.005911</td>\n",
       "      <td>0.006956</td>\n",
       "      <td>0.007384</td>\n",
       "    </tr>\n",
       "    <tr>\n",
       "      <th>mean_score_time</th>\n",
       "      <td>0.016461</td>\n",
       "      <td>0.016142</td>\n",
       "      <td>0.016201</td>\n",
       "      <td>0.011389</td>\n",
       "      <td>0.011354</td>\n",
       "      <td>0.01099</td>\n",
       "    </tr>\n",
       "    <tr>\n",
       "      <th>std_score_time</th>\n",
       "      <td>0.003161</td>\n",
       "      <td>0.002996</td>\n",
       "      <td>0.002914</td>\n",
       "      <td>0.000351</td>\n",
       "      <td>0.000507</td>\n",
       "      <td>0.000762</td>\n",
       "    </tr>\n",
       "    <tr>\n",
       "      <th>param_criterion</th>\n",
       "      <td>mae</td>\n",
       "      <td>mae</td>\n",
       "      <td>mae</td>\n",
       "      <td>mse</td>\n",
       "      <td>mse</td>\n",
       "      <td>mse</td>\n",
       "    </tr>\n",
       "    <tr>\n",
       "      <th>param_max_features</th>\n",
       "      <td>sqrt</td>\n",
       "      <td>auto</td>\n",
       "      <td>log2</td>\n",
       "      <td>auto</td>\n",
       "      <td>log2</td>\n",
       "      <td>sqrt</td>\n",
       "    </tr>\n",
       "    <tr>\n",
       "      <th>params</th>\n",
       "      <td>{'criterion': 'mae', 'max_features': 'sqrt'}</td>\n",
       "      <td>{'criterion': 'mae', 'max_features': 'auto'}</td>\n",
       "      <td>{'criterion': 'mae', 'max_features': 'log2'}</td>\n",
       "      <td>{'criterion': 'mse', 'max_features': 'auto'}</td>\n",
       "      <td>{'criterion': 'mse', 'max_features': 'log2'}</td>\n",
       "      <td>{'criterion': 'mse', 'max_features': 'sqrt'}</td>\n",
       "    </tr>\n",
       "    <tr>\n",
       "      <th>split0_test_score</th>\n",
       "      <td>-0.211096</td>\n",
       "      <td>-0.216494</td>\n",
       "      <td>-0.218856</td>\n",
       "      <td>-0.287967</td>\n",
       "      <td>-0.282771</td>\n",
       "      <td>-0.281052</td>\n",
       "    </tr>\n",
       "    <tr>\n",
       "      <th>split1_test_score</th>\n",
       "      <td>0.106535</td>\n",
       "      <td>0.1067</td>\n",
       "      <td>0.097134</td>\n",
       "      <td>0.080914</td>\n",
       "      <td>0.079707</td>\n",
       "      <td>0.077413</td>\n",
       "    </tr>\n",
       "    <tr>\n",
       "      <th>split2_test_score</th>\n",
       "      <td>-0.032764</td>\n",
       "      <td>-0.034144</td>\n",
       "      <td>-0.038472</td>\n",
       "      <td>-0.034555</td>\n",
       "      <td>-0.044454</td>\n",
       "      <td>-0.041717</td>\n",
       "    </tr>\n",
       "    <tr>\n",
       "      <th>split3_test_score</th>\n",
       "      <td>-0.233872</td>\n",
       "      <td>-0.240443</td>\n",
       "      <td>-0.25512</td>\n",
       "      <td>-0.249349</td>\n",
       "      <td>-0.253791</td>\n",
       "      <td>-0.259503</td>\n",
       "    </tr>\n",
       "    <tr>\n",
       "      <th>split4_test_score</th>\n",
       "      <td>-0.178384</td>\n",
       "      <td>-0.169371</td>\n",
       "      <td>-0.166935</td>\n",
       "      <td>-0.184748</td>\n",
       "      <td>-0.182725</td>\n",
       "      <td>-0.179653</td>\n",
       "    </tr>\n",
       "    <tr>\n",
       "      <th>mean_test_score</th>\n",
       "      <td>-0.109916</td>\n",
       "      <td>-0.11075</td>\n",
       "      <td>-0.11645</td>\n",
       "      <td>-0.135141</td>\n",
       "      <td>-0.136807</td>\n",
       "      <td>-0.136903</td>\n",
       "    </tr>\n",
       "    <tr>\n",
       "      <th>std_test_score</th>\n",
       "      <td>0.128914</td>\n",
       "      <td>0.13007</td>\n",
       "      <td>0.129587</td>\n",
       "      <td>0.138316</td>\n",
       "      <td>0.13602</td>\n",
       "      <td>0.13611</td>\n",
       "    </tr>\n",
       "  </tbody>\n",
       "</table>\n",
       "</div>"
      ],
      "text/plain": [
       "rank_test_score                                                1  \\\n",
       "mean_fit_time                                          17.137558   \n",
       "std_fit_time                                            5.042516   \n",
       "mean_score_time                                         0.016461   \n",
       "std_score_time                                          0.003161   \n",
       "param_criterion                                              mae   \n",
       "param_max_features                                          sqrt   \n",
       "params              {'criterion': 'mae', 'max_features': 'sqrt'}   \n",
       "split0_test_score                                      -0.211096   \n",
       "split1_test_score                                       0.106535   \n",
       "split2_test_score                                      -0.032764   \n",
       "split3_test_score                                      -0.233872   \n",
       "split4_test_score                                      -0.178384   \n",
       "mean_test_score                                        -0.109916   \n",
       "std_test_score                                          0.128914   \n",
       "\n",
       "rank_test_score                                                2  \\\n",
       "mean_fit_time                                          16.690476   \n",
       "std_fit_time                                            4.708227   \n",
       "mean_score_time                                         0.016142   \n",
       "std_score_time                                          0.002996   \n",
       "param_criterion                                              mae   \n",
       "param_max_features                                          auto   \n",
       "params              {'criterion': 'mae', 'max_features': 'auto'}   \n",
       "split0_test_score                                      -0.216494   \n",
       "split1_test_score                                         0.1067   \n",
       "split2_test_score                                      -0.034144   \n",
       "split3_test_score                                      -0.240443   \n",
       "split4_test_score                                      -0.169371   \n",
       "mean_test_score                                         -0.11075   \n",
       "std_test_score                                           0.13007   \n",
       "\n",
       "rank_test_score                                                3  \\\n",
       "mean_fit_time                                          17.151514   \n",
       "std_fit_time                                            4.543082   \n",
       "mean_score_time                                         0.016201   \n",
       "std_score_time                                          0.002914   \n",
       "param_criterion                                              mae   \n",
       "param_max_features                                          log2   \n",
       "params              {'criterion': 'mae', 'max_features': 'log2'}   \n",
       "split0_test_score                                      -0.218856   \n",
       "split1_test_score                                       0.097134   \n",
       "split2_test_score                                      -0.038472   \n",
       "split3_test_score                                       -0.25512   \n",
       "split4_test_score                                      -0.166935   \n",
       "mean_test_score                                         -0.11645   \n",
       "std_test_score                                          0.129587   \n",
       "\n",
       "rank_test_score                                                4  \\\n",
       "mean_fit_time                                           0.192271   \n",
       "std_fit_time                                            0.005911   \n",
       "mean_score_time                                         0.011389   \n",
       "std_score_time                                          0.000351   \n",
       "param_criterion                                              mse   \n",
       "param_max_features                                          auto   \n",
       "params              {'criterion': 'mse', 'max_features': 'auto'}   \n",
       "split0_test_score                                      -0.287967   \n",
       "split1_test_score                                       0.080914   \n",
       "split2_test_score                                      -0.034555   \n",
       "split3_test_score                                      -0.249349   \n",
       "split4_test_score                                      -0.184748   \n",
       "mean_test_score                                        -0.135141   \n",
       "std_test_score                                          0.138316   \n",
       "\n",
       "rank_test_score                                                5  \\\n",
       "mean_fit_time                                            0.19175   \n",
       "std_fit_time                                            0.006956   \n",
       "mean_score_time                                         0.011354   \n",
       "std_score_time                                          0.000507   \n",
       "param_criterion                                              mse   \n",
       "param_max_features                                          log2   \n",
       "params              {'criterion': 'mse', 'max_features': 'log2'}   \n",
       "split0_test_score                                      -0.282771   \n",
       "split1_test_score                                       0.079707   \n",
       "split2_test_score                                      -0.044454   \n",
       "split3_test_score                                      -0.253791   \n",
       "split4_test_score                                      -0.182725   \n",
       "mean_test_score                                        -0.136807   \n",
       "std_test_score                                           0.13602   \n",
       "\n",
       "rank_test_score                                                6  \n",
       "mean_fit_time                                            0.18898  \n",
       "std_fit_time                                            0.007384  \n",
       "mean_score_time                                          0.01099  \n",
       "std_score_time                                          0.000762  \n",
       "param_criterion                                              mse  \n",
       "param_max_features                                          sqrt  \n",
       "params              {'criterion': 'mse', 'max_features': 'sqrt'}  \n",
       "split0_test_score                                      -0.281052  \n",
       "split1_test_score                                       0.077413  \n",
       "split2_test_score                                      -0.041717  \n",
       "split3_test_score                                      -0.259503  \n",
       "split4_test_score                                      -0.179653  \n",
       "mean_test_score                                        -0.136903  \n",
       "std_test_score                                           0.13611  "
      ]
     },
     "execution_count": 38,
     "metadata": {},
     "output_type": "execute_result"
    }
   ],
   "source": [
    "rf.T"
   ]
  },
  {
   "cell_type": "markdown",
   "id": "a4e5baf1",
   "metadata": {},
   "source": [
    "**R2 score** is the amount of the variation in the output dependent attribute which is predictable from the input independent variable(s). A higher value of R2 is desirable as it indicates better results.\n",
    "\n",
    "**Mean square error (MSE)** is the average of the square of the errors. The larger the number the larger the error. And since MSE is an error metric, i.e. the lower the better, negative MAE is the opposite: a value of -2.6 is better than a value of -3.0. Just remove the negative signs and treat them as MSE values\n",
    "\n",
    " **Mean Absolute Error (MAE)**. MAE is simply, as the name suggests, the mean of the absolute errors. The absolute error is the absolute value of the difference between the forecasted value and the actual value. MAE tells us how big of an error we can expect from the forecast on average.  And since MAE is an error metric, i.e. the lower the better, negative MAE is the opposite: a value of -2.6 is better than a value of -3.0. Just remove the negative signs and treat them as MAE values\n",
    " \n",
    "**The mean_test_score** that sklearn returns is the mean calculated on all samples where each sample has the same weight. If you calculate the mean by taking the mean of the folds (splits), then you only get the same results if the folds are all of equal size.\n",
    "\n",
    "\n",
    " \n",
    " https://www.geeksforgeeks.org/python-coefficient-of-determination-r2-score/#:~:text=Coefficient%20of%20determination%20also%20called%20as%20R%202,is%20predictable%20from%20the%20input%20independent%20variable%20%28s%29.\n",
    " https://www.bmc.com/blogs/mean-squared-error-r2-and-variance-in-regression-analysis/\n",
    " https://canworksmart.com/using-mean-absolute-error-forecast-accuracy/\n",
    " https://stackoverflow.com/questions/44947574/what-is-the-meaning-of-mean-test-score-in-cv-result"
   ]
  },
  {
   "cell_type": "code",
   "execution_count": null,
   "id": "070afbb4",
   "metadata": {},
   "outputs": [],
   "source": []
  }
 ],
 "metadata": {
  "kernelspec": {
   "display_name": "Python 3",
   "language": "python",
   "name": "python3"
  },
  "language_info": {
   "codemirror_mode": {
    "name": "ipython",
    "version": 3
   },
   "file_extension": ".py",
   "mimetype": "text/x-python",
   "name": "python",
   "nbconvert_exporter": "python",
   "pygments_lexer": "ipython3",
   "version": "3.7.11"
  }
 },
 "nbformat": 4,
 "nbformat_minor": 5
}
