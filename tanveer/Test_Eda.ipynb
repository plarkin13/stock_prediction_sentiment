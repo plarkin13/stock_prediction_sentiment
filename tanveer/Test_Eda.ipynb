{
 "cells": [
  {
   "cell_type": "markdown",
   "id": "c71f1ebf-2129-4008-9399-ad6813f6a8ad",
   "metadata": {},
   "source": [
    "# Load Data "
   ]
  },
  {
   "cell_type": "code",
   "execution_count": 1,
   "id": "5b5fe88e-b5cc-4ed4-9b62-a85e95ed24f6",
   "metadata": {
    "execution": {
     "iopub.execute_input": "2021-08-23T05:51:13.879283Z",
     "iopub.status.busy": "2021-08-23T05:51:13.879116Z",
     "iopub.status.idle": "2021-08-23T05:51:14.422544Z",
     "shell.execute_reply": "2021-08-23T05:51:14.421801Z",
     "shell.execute_reply.started": "2021-08-23T05:51:13.879237Z"
    },
    "tags": []
   },
   "outputs": [],
   "source": [
    "import pandas as pd \n",
    "import numpy as np\n",
    "import seaborn as sns\n",
    "import matplotlib.pyplot as plt \n",
    "import datetime"
   ]
  },
  {
   "cell_type": "code",
   "execution_count": 2,
   "id": "f1af3a41-2e2d-4ca7-b2f2-d973774907bc",
   "metadata": {
    "execution": {
     "iopub.execute_input": "2021-08-23T05:51:14.423650Z",
     "iopub.status.busy": "2021-08-23T05:51:14.423513Z",
     "iopub.status.idle": "2021-08-23T05:51:17.181097Z",
     "shell.execute_reply": "2021-08-23T05:51:17.180368Z",
     "shell.execute_reply.started": "2021-08-23T05:51:14.423634Z"
    }
   },
   "outputs": [],
   "source": [
    "# import nyt files \n",
    "df_1 = pd.read_csv('df_1.csv')\n",
    "df_2 = pd.read_csv('df_2.csv')\n",
    "df_3 = pd.read_csv('df_3.csv')\n",
    "df_4 = pd.read_csv('df_4.csv')\n",
    "df_5 = pd.read_csv('df_5.csv')\n",
    "df_6 = pd.read_csv('df_6.csv')\n",
    "df_7 = pd.read_csv('df_7.csv')\n",
    "df_8 = pd.read_csv('df_8.csv')\n",
    "df_9 = pd.read_csv('df_9.csv')\n",
    "df_10 = pd.read_csv('df_10.csv')\n",
    "df_11 = pd.read_csv('df_11.csv')\n",
    "\n"
   ]
  },
  {
   "cell_type": "code",
   "execution_count": 3,
   "id": "896eaef1-3311-4fd0-949a-8e8c5294be38",
   "metadata": {
    "execution": {
     "iopub.execute_input": "2021-08-23T05:51:17.182342Z",
     "iopub.status.busy": "2021-08-23T05:51:17.181964Z",
     "iopub.status.idle": "2021-08-23T05:51:17.188434Z",
     "shell.execute_reply": "2021-08-23T05:51:17.187691Z",
     "shell.execute_reply.started": "2021-08-23T05:51:17.182286Z"
    }
   },
   "outputs": [],
   "source": [
    "#import sp500 file \n",
    "sp500 = pd.read_csv('sp500.csv')"
   ]
  },
  {
   "cell_type": "code",
   "execution_count": 4,
   "id": "75ef2ca6-b105-4497-8086-7db873ec3b21",
   "metadata": {
    "execution": {
     "iopub.execute_input": "2021-08-23T05:51:17.189438Z",
     "iopub.status.busy": "2021-08-23T05:51:17.189267Z",
     "iopub.status.idle": "2021-08-23T05:51:17.196275Z",
     "shell.execute_reply": "2021-08-23T05:51:17.195623Z",
     "shell.execute_reply.started": "2021-08-23T05:51:17.189422Z"
    }
   },
   "outputs": [
    {
     "data": {
      "text/plain": [
       "True"
      ]
     },
     "execution_count": 4,
     "metadata": {},
     "output_type": "execute_result"
    }
   ],
   "source": [
    "# Make sure all dataframes have same columns \n",
    "set(df_2.columns) == set(df_1.columns)== set(df_3.columns)== set(df_4.columns)== set(df_5.columns)== set(df_6.columns)== set(df_7.columns)== set(df_8.columns)== set(df_9.columns)== set(df_10.columns)== set(df_11.columns)"
   ]
  },
  {
   "cell_type": "code",
   "execution_count": 5,
   "id": "020848a6-be3e-4e8f-aa18-747544d4db4e",
   "metadata": {
    "execution": {
     "iopub.execute_input": "2021-08-23T05:51:17.197068Z",
     "iopub.status.busy": "2021-08-23T05:51:17.196936Z",
     "iopub.status.idle": "2021-08-23T05:51:17.224378Z",
     "shell.execute_reply": "2021-08-23T05:51:17.223653Z",
     "shell.execute_reply.started": "2021-08-23T05:51:17.197053Z"
    }
   },
   "outputs": [],
   "source": [
    "# combine nyt files into single dataframe \n",
    "dfs = [df_1,df_2,df_3,df_4,df_5,df_6,df_7,df_8,df_9,df_10,df_11]\n",
    "articles_df = pd.concat(dfs,ignore_index=True)"
   ]
  },
  {
   "cell_type": "code",
   "execution_count": 6,
   "id": "369b16bd-38ce-4c2d-b84b-ff4bc8ebdbf8",
   "metadata": {
    "execution": {
     "iopub.execute_input": "2021-08-23T05:51:17.225317Z",
     "iopub.status.busy": "2021-08-23T05:51:17.225184Z",
     "iopub.status.idle": "2021-08-23T05:51:17.230317Z",
     "shell.execute_reply": "2021-08-23T05:51:17.229646Z",
     "shell.execute_reply.started": "2021-08-23T05:51:17.225300Z"
    }
   },
   "outputs": [
    {
     "data": {
      "text/plain": [
       "Index(['Unnamed: 0', 'abstract', 'web_url', 'snippet', 'lead_paragraph',\n",
       "       'source', 'multimedia', 'headline', 'keywords', 'pub_date',\n",
       "       'document_type', 'news_desk', 'section_name', 'subsection_name',\n",
       "       'byline', 'type_of_material', '_id', 'word_count', 'uri',\n",
       "       'print_section', 'print_page'],\n",
       "      dtype='object')"
      ]
     },
     "execution_count": 6,
     "metadata": {},
     "output_type": "execute_result"
    }
   ],
   "source": [
    "articles_df.columns"
   ]
  },
  {
   "cell_type": "code",
   "execution_count": 7,
   "id": "280bef82-6bbb-41b3-84bb-a1f7b5a1a368",
   "metadata": {
    "execution": {
     "iopub.execute_input": "2021-08-23T05:51:17.232297Z",
     "iopub.status.busy": "2021-08-23T05:51:17.232109Z",
     "iopub.status.idle": "2021-08-23T05:51:17.285642Z",
     "shell.execute_reply": "2021-08-23T05:51:17.284691Z",
     "shell.execute_reply.started": "2021-08-23T05:51:17.232280Z"
    },
    "tags": []
   },
   "outputs": [],
   "source": [
    "# drop articles with same lead paragraph since that is what we are going to using to modeling \n",
    "articles_df= articles_df.drop_duplicates(subset='lead_paragraph')"
   ]
  },
  {
   "cell_type": "code",
   "execution_count": 8,
   "id": "a9e87212-b75e-4bbe-88e1-207cf0726c38",
   "metadata": {
    "execution": {
     "iopub.execute_input": "2021-08-23T05:51:17.287129Z",
     "iopub.status.busy": "2021-08-23T05:51:17.286951Z",
     "iopub.status.idle": "2021-08-23T05:51:17.291405Z",
     "shell.execute_reply": "2021-08-23T05:51:17.290666Z",
     "shell.execute_reply.started": "2021-08-23T05:51:17.287111Z"
    },
    "tags": []
   },
   "outputs": [
    {
     "data": {
      "text/plain": [
       "(19397, 21)"
      ]
     },
     "execution_count": 8,
     "metadata": {},
     "output_type": "execute_result"
    }
   ],
   "source": [
    "articles_df.shape"
   ]
  },
  {
   "cell_type": "markdown",
   "id": "66031a9d-80e5-4b66-8b1b-9f4c0912e1ee",
   "metadata": {},
   "source": [
    "# Combine dataframes"
   ]
  },
  {
   "cell_type": "code",
   "execution_count": 9,
   "id": "6a106d3f-6056-452c-a4e7-cc286481e4e5",
   "metadata": {
    "execution": {
     "iopub.execute_input": "2021-08-23T05:51:17.292667Z",
     "iopub.status.busy": "2021-08-23T05:51:17.292484Z",
     "iopub.status.idle": "2021-08-23T05:51:17.298532Z",
     "shell.execute_reply": "2021-08-23T05:51:17.297786Z",
     "shell.execute_reply.started": "2021-08-23T05:51:17.292650Z"
    },
    "tags": []
   },
   "outputs": [
    {
     "data": {
      "text/plain": [
       "datetime.datetime(2011, 7, 29, 0, 0)"
      ]
     },
     "execution_count": 9,
     "metadata": {},
     "output_type": "execute_result"
    }
   ],
   "source": [
    "# how to convert sp500 effective date to datetime date \n",
    "datetime.datetime.strptime(sp500['Effective date '][0],'%m/%d/%Y')"
   ]
  },
  {
   "cell_type": "code",
   "execution_count": 10,
   "id": "3591f8bd-d915-45da-a632-f081fab8fc59",
   "metadata": {
    "execution": {
     "iopub.execute_input": "2021-08-23T05:51:17.299510Z",
     "iopub.status.busy": "2021-08-23T05:51:17.299370Z",
     "iopub.status.idle": "2021-08-23T05:51:17.304338Z",
     "shell.execute_reply": "2021-08-23T05:51:17.303729Z",
     "shell.execute_reply.started": "2021-08-23T05:51:17.299493Z"
    },
    "tags": []
   },
   "outputs": [
    {
     "data": {
      "text/plain": [
       "datetime.date(2011, 7, 29)"
      ]
     },
     "execution_count": 10,
     "metadata": {},
     "output_type": "execute_result"
    }
   ],
   "source": [
    "# how to convert sp500 effective date to datetime date \n",
    "datetime.datetime.date(datetime.datetime.strptime(sp500['Effective date '][0],'%m/%d/%Y'))"
   ]
  },
  {
   "cell_type": "code",
   "execution_count": 11,
   "id": "35b61c47-4455-4573-856f-c5fe81a4ef43",
   "metadata": {
    "execution": {
     "iopub.execute_input": "2021-08-23T05:51:17.305141Z",
     "iopub.status.busy": "2021-08-23T05:51:17.305018Z",
     "iopub.status.idle": "2021-08-23T05:51:17.310407Z",
     "shell.execute_reply": "2021-08-23T05:51:17.309760Z",
     "shell.execute_reply.started": "2021-08-23T05:51:17.305126Z"
    },
    "tags": []
   },
   "outputs": [
    {
     "data": {
      "text/plain": [
       "'2021-08-17'"
      ]
     },
     "execution_count": 11,
     "metadata": {},
     "output_type": "execute_result"
    }
   ],
   "source": [
    "articles_df['pub_date'][0].split()[0]"
   ]
  },
  {
   "cell_type": "code",
   "execution_count": 12,
   "id": "83d0b371-6181-415e-a383-e63ed8755d58",
   "metadata": {
    "execution": {
     "iopub.execute_input": "2021-08-23T05:51:17.311423Z",
     "iopub.status.busy": "2021-08-23T05:51:17.311251Z",
     "iopub.status.idle": "2021-08-23T05:51:17.316921Z",
     "shell.execute_reply": "2021-08-23T05:51:17.315741Z",
     "shell.execute_reply.started": "2021-08-23T05:51:17.311406Z"
    },
    "tags": []
   },
   "outputs": [
    {
     "data": {
      "text/plain": [
       "datetime.date(2021, 8, 17)"
      ]
     },
     "execution_count": 12,
     "metadata": {},
     "output_type": "execute_result"
    }
   ],
   "source": [
    "# how to convert articles pub_date to datetime \n",
    "datetime.datetime.date(datetime.datetime.strptime(articles_df['pub_date'][0].split()[0],'%Y-%m-%d'))"
   ]
  },
  {
   "cell_type": "code",
   "execution_count": 13,
   "id": "b0a8408c-d39b-44b4-bf69-14c344e67ab7",
   "metadata": {
    "execution": {
     "iopub.execute_input": "2021-08-23T05:51:17.318014Z",
     "iopub.status.busy": "2021-08-23T05:51:17.317844Z",
     "iopub.status.idle": "2021-08-23T05:51:17.419569Z",
     "shell.execute_reply": "2021-08-23T05:51:17.418833Z",
     "shell.execute_reply.started": "2021-08-23T05:51:17.317997Z"
    },
    "tags": []
   },
   "outputs": [],
   "source": [
    "# update values in pub_date \n",
    "articles_df['date']= articles_df['pub_date'].apply(lambda x:datetime.datetime.date(datetime.datetime.strptime(x.split()[0],'%Y-%m-%d')) )"
   ]
  },
  {
   "cell_type": "code",
   "execution_count": 14,
   "id": "e2029778-17f2-4baa-b974-21e8e429e4a9",
   "metadata": {
    "execution": {
     "iopub.execute_input": "2021-08-23T05:51:17.420622Z",
     "iopub.status.busy": "2021-08-23T05:51:17.420478Z",
     "iopub.status.idle": "2021-08-23T05:51:17.438643Z",
     "shell.execute_reply": "2021-08-23T05:51:17.437850Z",
     "shell.execute_reply.started": "2021-08-23T05:51:17.420606Z"
    },
    "tags": []
   },
   "outputs": [],
   "source": [
    "# update values in sp500 \n",
    "sp500['date']= sp500['Effective date '].apply(lambda x:datetime.datetime.date(datetime.datetime.strptime(x,'%m/%d/%Y')) )"
   ]
  },
  {
   "cell_type": "code",
   "execution_count": 15,
   "id": "20087e66-7a3e-416e-ad15-1b260d0013a5",
   "metadata": {
    "execution": {
     "iopub.execute_input": "2021-08-23T05:51:17.439692Z",
     "iopub.status.busy": "2021-08-23T05:51:17.439546Z",
     "iopub.status.idle": "2021-08-23T05:51:17.496575Z",
     "shell.execute_reply": "2021-08-23T05:51:17.495831Z",
     "shell.execute_reply.started": "2021-08-23T05:51:17.439676Z"
    },
    "tags": []
   },
   "outputs": [],
   "source": [
    "# combine articles and sp500 \n",
    "data = articles_df.set_index('date').join(sp500.set_index('date'))"
   ]
  },
  {
   "cell_type": "code",
   "execution_count": 16,
   "id": "09e0de7d-9fe2-4f12-8e0a-632f20031794",
   "metadata": {
    "execution": {
     "iopub.execute_input": "2021-08-23T05:51:17.497571Z",
     "iopub.status.busy": "2021-08-23T05:51:17.497434Z",
     "iopub.status.idle": "2021-08-23T05:51:17.503678Z",
     "shell.execute_reply": "2021-08-23T05:51:17.502848Z",
     "shell.execute_reply.started": "2021-08-23T05:51:17.497553Z"
    }
   },
   "outputs": [
    {
     "data": {
      "text/plain": [
       "Index(['Unnamed: 0', 'abstract', 'web_url', 'snippet', 'lead_paragraph',\n",
       "       'source', 'multimedia', 'headline', 'keywords', 'pub_date',\n",
       "       'document_type', 'news_desk', 'section_name', 'subsection_name',\n",
       "       'byline', 'type_of_material', '_id', 'word_count', 'uri',\n",
       "       'print_section', 'print_page', 'Effective date ', 'S&P 500'],\n",
       "      dtype='object')"
      ]
     },
     "execution_count": 16,
     "metadata": {},
     "output_type": "execute_result"
    }
   ],
   "source": [
    "data.columns"
   ]
  },
  {
   "cell_type": "code",
   "execution_count": 17,
   "id": "21cdc599-b723-4e33-8528-dfb7a0dfad47",
   "metadata": {
    "execution": {
     "iopub.execute_input": "2021-08-23T05:51:17.504585Z",
     "iopub.status.busy": "2021-08-23T05:51:17.504451Z",
     "iopub.status.idle": "2021-08-23T05:51:17.540676Z",
     "shell.execute_reply": "2021-08-23T05:51:17.539842Z",
     "shell.execute_reply.started": "2021-08-23T05:51:17.504566Z"
    },
    "tags": []
   },
   "outputs": [],
   "source": [
    "# drop duplicate entries for date \n",
    "data.drop(columns=['Effective date ','pub_date'],inplace=True)"
   ]
  },
  {
   "cell_type": "code",
   "execution_count": 18,
   "id": "9deb87b5-a378-4e08-b7d0-a30423d49ebe",
   "metadata": {
    "execution": {
     "iopub.execute_input": "2021-08-23T05:51:17.541838Z",
     "iopub.status.busy": "2021-08-23T05:51:17.541667Z",
     "iopub.status.idle": "2021-08-23T05:51:17.564505Z",
     "shell.execute_reply": "2021-08-23T05:51:17.563832Z",
     "shell.execute_reply.started": "2021-08-23T05:51:17.541820Z"
    },
    "tags": []
   },
   "outputs": [
    {
     "data": {
      "text/html": [
       "<div>\n",
       "<style scoped>\n",
       "    .dataframe tbody tr th:only-of-type {\n",
       "        vertical-align: middle;\n",
       "    }\n",
       "\n",
       "    .dataframe tbody tr th {\n",
       "        vertical-align: top;\n",
       "    }\n",
       "\n",
       "    .dataframe thead th {\n",
       "        text-align: right;\n",
       "    }\n",
       "</style>\n",
       "<table border=\"1\" class=\"dataframe\">\n",
       "  <thead>\n",
       "    <tr style=\"text-align: right;\">\n",
       "      <th></th>\n",
       "      <th>Unnamed: 0</th>\n",
       "      <th>abstract</th>\n",
       "      <th>web_url</th>\n",
       "      <th>snippet</th>\n",
       "      <th>lead_paragraph</th>\n",
       "      <th>source</th>\n",
       "      <th>multimedia</th>\n",
       "      <th>headline</th>\n",
       "      <th>keywords</th>\n",
       "      <th>document_type</th>\n",
       "      <th>...</th>\n",
       "      <th>section_name</th>\n",
       "      <th>subsection_name</th>\n",
       "      <th>byline</th>\n",
       "      <th>type_of_material</th>\n",
       "      <th>_id</th>\n",
       "      <th>word_count</th>\n",
       "      <th>uri</th>\n",
       "      <th>print_section</th>\n",
       "      <th>print_page</th>\n",
       "      <th>S&amp;P 500</th>\n",
       "    </tr>\n",
       "    <tr>\n",
       "      <th>date</th>\n",
       "      <th></th>\n",
       "      <th></th>\n",
       "      <th></th>\n",
       "      <th></th>\n",
       "      <th></th>\n",
       "      <th></th>\n",
       "      <th></th>\n",
       "      <th></th>\n",
       "      <th></th>\n",
       "      <th></th>\n",
       "      <th></th>\n",
       "      <th></th>\n",
       "      <th></th>\n",
       "      <th></th>\n",
       "      <th></th>\n",
       "      <th></th>\n",
       "      <th></th>\n",
       "      <th></th>\n",
       "      <th></th>\n",
       "      <th></th>\n",
       "      <th></th>\n",
       "    </tr>\n",
       "  </thead>\n",
       "  <tbody>\n",
       "    <tr>\n",
       "      <th>2016-09-06</th>\n",
       "      <td>1984</td>\n",
       "      <td>Pershing Square takes a 9.9 percent stake, mak...</td>\n",
       "      <td>https://www.nytimes.com/2016/09/07/business/de...</td>\n",
       "      <td>Pershing Square takes a 9.9 percent stake, mak...</td>\n",
       "      <td>William A. Ackman has a craving for fast food.</td>\n",
       "      <td>The New York Times</td>\n",
       "      <td>[{'rank': 0, 'subtype': 'xlarge', 'caption': N...</td>\n",
       "      <td>{'main': 'William Ackman’s Pershing Square Tak...</td>\n",
       "      <td>[{'name': 'persons', 'value': 'Ackman, William...</td>\n",
       "      <td>article</td>\n",
       "      <td>...</td>\n",
       "      <td>Business Day</td>\n",
       "      <td>DealBook</td>\n",
       "      <td>{'original': 'By Leslie Picker', 'person': [{'...</td>\n",
       "      <td>News</td>\n",
       "      <td>nyt://article/37a6fa80-bd9a-5544-a632-a419069c...</td>\n",
       "      <td>474</td>\n",
       "      <td>nyt://article/37a6fa80-bd9a-5544-a632-a419069c...</td>\n",
       "      <td>B</td>\n",
       "      <td>2.0</td>\n",
       "      <td>2186.48</td>\n",
       "    </tr>\n",
       "    <tr>\n",
       "      <th>2016-09-06</th>\n",
       "      <td>1985</td>\n",
       "      <td>Shareholders can be finicky and opaque, but th...</td>\n",
       "      <td>https://www.nytimes.com/2016/09/07/business/de...</td>\n",
       "      <td>Shareholders can be finicky and opaque, but th...</td>\n",
       "      <td>Tesla Motors’ proposed acquisition of SolarCit...</td>\n",
       "      <td>The New York Times</td>\n",
       "      <td>[{'rank': 0, 'subtype': 'xlarge', 'caption': N...</td>\n",
       "      <td>{'main': 'Elon Musk’s Solar Vision, Up for a D...</td>\n",
       "      <td>[{'name': 'subject', 'value': 'Shareholder Rig...</td>\n",
       "      <td>article</td>\n",
       "      <td>...</td>\n",
       "      <td>Business Day</td>\n",
       "      <td>DealBook</td>\n",
       "      <td>{'original': 'By Steven Davidoff Solomon', 'pe...</td>\n",
       "      <td>News</td>\n",
       "      <td>nyt://article/e29720d8-7852-537b-b6a0-b5b0ea09...</td>\n",
       "      <td>1276</td>\n",
       "      <td>nyt://article/e29720d8-7852-537b-b6a0-b5b0ea09...</td>\n",
       "      <td>B</td>\n",
       "      <td>3.0</td>\n",
       "      <td>2186.48</td>\n",
       "    </tr>\n",
       "    <tr>\n",
       "      <th>2016-09-06</th>\n",
       "      <td>1986</td>\n",
       "      <td>Delegates at symposium on economic crime in Ca...</td>\n",
       "      <td>https://www.nytimes.com/2016/09/07/business/de...</td>\n",
       "      <td>Delegates at symposium on economic crime in Ca...</td>\n",
       "      <td>CAMBRIDGE, England — The record of combating e...</td>\n",
       "      <td>The New York Times</td>\n",
       "      <td>[{'rank': 0, 'subtype': 'xlarge', 'caption': N...</td>\n",
       "      <td>{'main': 'Law Enforcement ‘Not Winning’ War on...</td>\n",
       "      <td>[{'name': 'subject', 'value': 'Legal Professio...</td>\n",
       "      <td>article</td>\n",
       "      <td>...</td>\n",
       "      <td>Business Day</td>\n",
       "      <td>DealBook</td>\n",
       "      <td>{'original': 'By Anita Raghavan', 'person': [{...</td>\n",
       "      <td>News</td>\n",
       "      <td>nyt://article/6d1b2d0a-df42-5e08-8ca3-0e8ef6df...</td>\n",
       "      <td>838</td>\n",
       "      <td>nyt://article/6d1b2d0a-df42-5e08-8ca3-0e8ef6df...</td>\n",
       "      <td>NaN</td>\n",
       "      <td>NaN</td>\n",
       "      <td>2186.48</td>\n",
       "    </tr>\n",
       "    <tr>\n",
       "      <th>2016-09-06</th>\n",
       "      <td>1987</td>\n",
       "      <td>Recent commercial real estate transactions in ...</td>\n",
       "      <td>https://www.nytimes.com/2016/09/07/realestate/...</td>\n",
       "      <td>Recent commercial real estate transactions in ...</td>\n",
       "      <td>$11.57 MILLION</td>\n",
       "      <td>The New York Times</td>\n",
       "      <td>[{'rank': 0, 'subtype': 'hpLarge', 'caption': ...</td>\n",
       "      <td>{'main': 'Recent Commercial Real Estate Transa...</td>\n",
       "      <td>[{'name': 'subject', 'value': 'Real Estate and...</td>\n",
       "      <td>article</td>\n",
       "      <td>...</td>\n",
       "      <td>Real Estate</td>\n",
       "      <td>Commercial Real Estate</td>\n",
       "      <td>{'original': 'By Rosalie R. Radomsky', 'person...</td>\n",
       "      <td>News</td>\n",
       "      <td>nyt://article/f6a562a2-f5df-5eb8-aecf-0f308c5f...</td>\n",
       "      <td>252</td>\n",
       "      <td>nyt://article/f6a562a2-f5df-5eb8-aecf-0f308c5f...</td>\n",
       "      <td>B</td>\n",
       "      <td>5.0</td>\n",
       "      <td>2186.48</td>\n",
       "    </tr>\n",
       "    <tr>\n",
       "      <th>2016-09-06</th>\n",
       "      <td>1988</td>\n",
       "      <td>A study of Australian women points to discrimi...</td>\n",
       "      <td>https://www.nytimes.com/2016/09/07/business/re...</td>\n",
       "      <td>A study of Australian women points to discrimi...</td>\n",
       "      <td>One common theory to explain the pay gap betwe...</td>\n",
       "      <td>The New York Times</td>\n",
       "      <td>[{'rank': 0, 'subtype': 'hpLarge', 'caption': ...</td>\n",
       "      <td>{'main': 'Research Suggests Women Are Asking f...</td>\n",
       "      <td>[{'name': 'subject', 'value': 'Women and Girls...</td>\n",
       "      <td>article</td>\n",
       "      <td>...</td>\n",
       "      <td>Business Day</td>\n",
       "      <td>NaN</td>\n",
       "      <td>{'original': 'By Daniel Victor', 'person': [{'...</td>\n",
       "      <td>News</td>\n",
       "      <td>nyt://article/6f60e145-3333-5189-a741-50c81136...</td>\n",
       "      <td>548</td>\n",
       "      <td>nyt://article/6f60e145-3333-5189-a741-50c81136...</td>\n",
       "      <td>NaN</td>\n",
       "      <td>NaN</td>\n",
       "      <td>2186.48</td>\n",
       "    </tr>\n",
       "  </tbody>\n",
       "</table>\n",
       "<p>5 rows × 21 columns</p>\n",
       "</div>"
      ],
      "text/plain": [
       "            Unnamed: 0                                           abstract  \\\n",
       "date                                                                        \n",
       "2016-09-06        1984  Pershing Square takes a 9.9 percent stake, mak...   \n",
       "2016-09-06        1985  Shareholders can be finicky and opaque, but th...   \n",
       "2016-09-06        1986  Delegates at symposium on economic crime in Ca...   \n",
       "2016-09-06        1987  Recent commercial real estate transactions in ...   \n",
       "2016-09-06        1988  A study of Australian women points to discrimi...   \n",
       "\n",
       "                                                      web_url  \\\n",
       "date                                                            \n",
       "2016-09-06  https://www.nytimes.com/2016/09/07/business/de...   \n",
       "2016-09-06  https://www.nytimes.com/2016/09/07/business/de...   \n",
       "2016-09-06  https://www.nytimes.com/2016/09/07/business/de...   \n",
       "2016-09-06  https://www.nytimes.com/2016/09/07/realestate/...   \n",
       "2016-09-06  https://www.nytimes.com/2016/09/07/business/re...   \n",
       "\n",
       "                                                      snippet  \\\n",
       "date                                                            \n",
       "2016-09-06  Pershing Square takes a 9.9 percent stake, mak...   \n",
       "2016-09-06  Shareholders can be finicky and opaque, but th...   \n",
       "2016-09-06  Delegates at symposium on economic crime in Ca...   \n",
       "2016-09-06  Recent commercial real estate transactions in ...   \n",
       "2016-09-06  A study of Australian women points to discrimi...   \n",
       "\n",
       "                                               lead_paragraph  \\\n",
       "date                                                            \n",
       "2016-09-06     William A. Ackman has a craving for fast food.   \n",
       "2016-09-06  Tesla Motors’ proposed acquisition of SolarCit...   \n",
       "2016-09-06  CAMBRIDGE, England — The record of combating e...   \n",
       "2016-09-06                                     $11.57 MILLION   \n",
       "2016-09-06  One common theory to explain the pay gap betwe...   \n",
       "\n",
       "                        source  \\\n",
       "date                             \n",
       "2016-09-06  The New York Times   \n",
       "2016-09-06  The New York Times   \n",
       "2016-09-06  The New York Times   \n",
       "2016-09-06  The New York Times   \n",
       "2016-09-06  The New York Times   \n",
       "\n",
       "                                                   multimedia  \\\n",
       "date                                                            \n",
       "2016-09-06  [{'rank': 0, 'subtype': 'xlarge', 'caption': N...   \n",
       "2016-09-06  [{'rank': 0, 'subtype': 'xlarge', 'caption': N...   \n",
       "2016-09-06  [{'rank': 0, 'subtype': 'xlarge', 'caption': N...   \n",
       "2016-09-06  [{'rank': 0, 'subtype': 'hpLarge', 'caption': ...   \n",
       "2016-09-06  [{'rank': 0, 'subtype': 'hpLarge', 'caption': ...   \n",
       "\n",
       "                                                     headline  \\\n",
       "date                                                            \n",
       "2016-09-06  {'main': 'William Ackman’s Pershing Square Tak...   \n",
       "2016-09-06  {'main': 'Elon Musk’s Solar Vision, Up for a D...   \n",
       "2016-09-06  {'main': 'Law Enforcement ‘Not Winning’ War on...   \n",
       "2016-09-06  {'main': 'Recent Commercial Real Estate Transa...   \n",
       "2016-09-06  {'main': 'Research Suggests Women Are Asking f...   \n",
       "\n",
       "                                                     keywords document_type  \\\n",
       "date                                                                          \n",
       "2016-09-06  [{'name': 'persons', 'value': 'Ackman, William...       article   \n",
       "2016-09-06  [{'name': 'subject', 'value': 'Shareholder Rig...       article   \n",
       "2016-09-06  [{'name': 'subject', 'value': 'Legal Professio...       article   \n",
       "2016-09-06  [{'name': 'subject', 'value': 'Real Estate and...       article   \n",
       "2016-09-06  [{'name': 'subject', 'value': 'Women and Girls...       article   \n",
       "\n",
       "            ...  section_name         subsection_name  \\\n",
       "date        ...                                         \n",
       "2016-09-06  ...  Business Day                DealBook   \n",
       "2016-09-06  ...  Business Day                DealBook   \n",
       "2016-09-06  ...  Business Day                DealBook   \n",
       "2016-09-06  ...   Real Estate  Commercial Real Estate   \n",
       "2016-09-06  ...  Business Day                     NaN   \n",
       "\n",
       "                                                       byline  \\\n",
       "date                                                            \n",
       "2016-09-06  {'original': 'By Leslie Picker', 'person': [{'...   \n",
       "2016-09-06  {'original': 'By Steven Davidoff Solomon', 'pe...   \n",
       "2016-09-06  {'original': 'By Anita Raghavan', 'person': [{...   \n",
       "2016-09-06  {'original': 'By Rosalie R. Radomsky', 'person...   \n",
       "2016-09-06  {'original': 'By Daniel Victor', 'person': [{'...   \n",
       "\n",
       "           type_of_material  \\\n",
       "date                          \n",
       "2016-09-06             News   \n",
       "2016-09-06             News   \n",
       "2016-09-06             News   \n",
       "2016-09-06             News   \n",
       "2016-09-06             News   \n",
       "\n",
       "                                                          _id word_count  \\\n",
       "date                                                                       \n",
       "2016-09-06  nyt://article/37a6fa80-bd9a-5544-a632-a419069c...        474   \n",
       "2016-09-06  nyt://article/e29720d8-7852-537b-b6a0-b5b0ea09...       1276   \n",
       "2016-09-06  nyt://article/6d1b2d0a-df42-5e08-8ca3-0e8ef6df...        838   \n",
       "2016-09-06  nyt://article/f6a562a2-f5df-5eb8-aecf-0f308c5f...        252   \n",
       "2016-09-06  nyt://article/6f60e145-3333-5189-a741-50c81136...        548   \n",
       "\n",
       "                                                          uri print_section  \\\n",
       "date                                                                          \n",
       "2016-09-06  nyt://article/37a6fa80-bd9a-5544-a632-a419069c...             B   \n",
       "2016-09-06  nyt://article/e29720d8-7852-537b-b6a0-b5b0ea09...             B   \n",
       "2016-09-06  nyt://article/6d1b2d0a-df42-5e08-8ca3-0e8ef6df...           NaN   \n",
       "2016-09-06  nyt://article/f6a562a2-f5df-5eb8-aecf-0f308c5f...             B   \n",
       "2016-09-06  nyt://article/6f60e145-3333-5189-a741-50c81136...           NaN   \n",
       "\n",
       "           print_page  S&P 500  \n",
       "date                            \n",
       "2016-09-06        2.0  2186.48  \n",
       "2016-09-06        3.0  2186.48  \n",
       "2016-09-06        NaN  2186.48  \n",
       "2016-09-06        5.0  2186.48  \n",
       "2016-09-06        NaN  2186.48  \n",
       "\n",
       "[5 rows x 21 columns]"
      ]
     },
     "execution_count": 18,
     "metadata": {},
     "output_type": "execute_result"
    }
   ],
   "source": [
    "data.head()"
   ]
  },
  {
   "cell_type": "markdown",
   "id": "f8d640a3-6457-4e4a-9b0e-2f2afeb32a9e",
   "metadata": {},
   "source": [
    "Remove columns:\n",
    "    - print_page : not revelent not what we are doing. not everything gets printed\n",
    "    - print_section : not revelent not what we are doing. not everything gets printed\n",
    "    - uri : looks like internal NYT thing \n",
    "    - '_id' : looks like internal NYT thing\n",
    "    - Unnamed: 0 useless\n",
    "    "
   ]
  },
  {
   "cell_type": "markdown",
   "id": "1347af7c-ecd1-4ecb-b3ce-27dc6b913a1b",
   "metadata": {},
   "source": [
    "# Go through all columns"
   ]
  },
  {
   "cell_type": "code",
   "execution_count": null,
   "id": "fa5bd4ae-4779-4244-be97-86426ddcdacb",
   "metadata": {},
   "outputs": [],
   "source": []
  },
  {
   "cell_type": "code",
   "execution_count": 19,
   "id": "a5ee0899-8055-4760-8651-e642a0bc8e38",
   "metadata": {
    "execution": {
     "iopub.execute_input": "2021-08-23T05:51:17.565536Z",
     "iopub.status.busy": "2021-08-23T05:51:17.565362Z",
     "iopub.status.idle": "2021-08-23T05:51:17.575885Z",
     "shell.execute_reply": "2021-08-23T05:51:17.574854Z",
     "shell.execute_reply.started": "2021-08-23T05:51:17.565517Z"
    },
    "tags": []
   },
   "outputs": [],
   "source": [
    "# drop useless columns\n",
    "data.drop(columns=['print_page','print_section','uri','_id','Unnamed: 0'],inplace=True)"
   ]
  },
  {
   "cell_type": "code",
   "execution_count": 20,
   "id": "652b7a5d-4404-43b8-bbfc-7b21d392ba79",
   "metadata": {
    "execution": {
     "iopub.execute_input": "2021-08-23T05:51:17.576853Z",
     "iopub.status.busy": "2021-08-23T05:51:17.576673Z",
     "iopub.status.idle": "2021-08-23T05:51:17.610935Z",
     "shell.execute_reply": "2021-08-23T05:51:17.610193Z",
     "shell.execute_reply.started": "2021-08-23T05:51:17.576837Z"
    },
    "tags": []
   },
   "outputs": [
    {
     "name": "stdout",
     "output_type": "stream",
     "text": [
      "<class 'pandas.core.frame.DataFrame'>\n",
      "Index: 19397 entries, 2016-09-06 to 2021-08-17\n",
      "Data columns (total 16 columns):\n",
      " #   Column            Non-Null Count  Dtype  \n",
      "---  ------            --------------  -----  \n",
      " 0   abstract          19397 non-null  object \n",
      " 1   web_url           19397 non-null  object \n",
      " 2   snippet           18799 non-null  object \n",
      " 3   lead_paragraph    19396 non-null  object \n",
      " 4   source            19397 non-null  object \n",
      " 5   multimedia        19397 non-null  object \n",
      " 6   headline          19397 non-null  object \n",
      " 7   keywords          19397 non-null  object \n",
      " 8   document_type     19397 non-null  object \n",
      " 9   news_desk         19397 non-null  object \n",
      " 10  section_name      19397 non-null  object \n",
      " 11  subsection_name   7743 non-null   object \n",
      " 12  byline            19397 non-null  object \n",
      " 13  type_of_material  19397 non-null  object \n",
      " 14  word_count        19397 non-null  int64  \n",
      " 15  S&P 500           17160 non-null  float64\n",
      "dtypes: float64(1), int64(1), object(14)\n",
      "memory usage: 2.5+ MB\n"
     ]
    }
   ],
   "source": [
    "data.info()"
   ]
  },
  {
   "cell_type": "markdown",
   "id": "6c1e930e-a261-4695-8699-66d0b3872814",
   "metadata": {},
   "source": [
    "## source"
   ]
  },
  {
   "cell_type": "code",
   "execution_count": 21,
   "id": "86dd4172-47cb-48ec-a954-2fca24a602cb",
   "metadata": {
    "execution": {
     "iopub.execute_input": "2021-08-23T05:51:17.611938Z",
     "iopub.status.busy": "2021-08-23T05:51:17.611768Z",
     "iopub.status.idle": "2021-08-23T05:51:17.618932Z",
     "shell.execute_reply": "2021-08-23T05:51:17.618225Z",
     "shell.execute_reply.started": "2021-08-23T05:51:17.611922Z"
    },
    "tags": []
   },
   "outputs": [
    {
     "data": {
      "text/plain": [
       "The New York Times              0.998866\n",
       "International New York Times    0.001134\n",
       "Name: source, dtype: float64"
      ]
     },
     "execution_count": 21,
     "metadata": {},
     "output_type": "execute_result"
    }
   ],
   "source": [
    "data['source'].value_counts(normalize=True)"
   ]
  },
  {
   "cell_type": "code",
   "execution_count": 22,
   "id": "9ce1d648-8512-4dc5-be69-79efe33e02f1",
   "metadata": {
    "execution": {
     "iopub.execute_input": "2021-08-23T05:51:17.619724Z",
     "iopub.status.busy": "2021-08-23T05:51:17.619593Z",
     "iopub.status.idle": "2021-08-23T05:51:17.636196Z",
     "shell.execute_reply": "2021-08-23T05:51:17.635224Z",
     "shell.execute_reply.started": "2021-08-23T05:51:17.619709Z"
    },
    "tags": []
   },
   "outputs": [],
   "source": [
    "data.drop(columns='source',inplace=True)"
   ]
  },
  {
   "cell_type": "markdown",
   "id": "a319ec2d-9b2c-4ad1-aa29-6f1594c65d56",
   "metadata": {
    "execution": {
     "iopub.execute_input": "2021-08-22T23:22:17.101928Z",
     "iopub.status.busy": "2021-08-22T23:22:17.101748Z",
     "iopub.status.idle": "2021-08-22T23:22:17.133672Z",
     "shell.execute_reply": "2021-08-22T23:22:17.132892Z",
     "shell.execute_reply.started": "2021-08-22T23:22:17.101912Z"
    }
   },
   "source": [
    "## multimedia "
   ]
  },
  {
   "cell_type": "code",
   "execution_count": 23,
   "id": "d7dbbd5c-5ee0-4f4e-a806-657c1e40a660",
   "metadata": {
    "execution": {
     "iopub.execute_input": "2021-08-23T05:51:17.637375Z",
     "iopub.status.busy": "2021-08-23T05:51:17.637182Z",
     "iopub.status.idle": "2021-08-23T05:51:17.650752Z",
     "shell.execute_reply": "2021-08-23T05:51:17.649206Z",
     "shell.execute_reply.started": "2021-08-23T05:51:17.637356Z"
    },
    "scrolled": true,
    "tags": []
   },
   "outputs": [
    {
     "data": {
      "text/html": [
       "<div>\n",
       "<style scoped>\n",
       "    .dataframe tbody tr th:only-of-type {\n",
       "        vertical-align: middle;\n",
       "    }\n",
       "\n",
       "    .dataframe tbody tr th {\n",
       "        vertical-align: top;\n",
       "    }\n",
       "\n",
       "    .dataframe thead th {\n",
       "        text-align: right;\n",
       "    }\n",
       "</style>\n",
       "<table border=\"1\" class=\"dataframe\">\n",
       "  <thead>\n",
       "    <tr style=\"text-align: right;\">\n",
       "      <th></th>\n",
       "      <th>multimedia</th>\n",
       "    </tr>\n",
       "    <tr>\n",
       "      <th>date</th>\n",
       "      <th></th>\n",
       "    </tr>\n",
       "  </thead>\n",
       "  <tbody>\n",
       "    <tr>\n",
       "      <th>2016-09-06</th>\n",
       "      <td>[{'rank': 0, 'subtype': 'xlarge', 'caption': None, 'credit': None, 'type': 'image', 'url': 'images/2016/09/07/business/07DB-CHIPOTLE/07DB-CHIPOTLE-articleLarge.jpg', 'height': 400, 'width': 600, 'legacy': {'xlarge': 'images/2016/09/07/business/07DB-CHIPOTLE/07DB-CHIPOTLE-articleLarge.jpg', 'xlargewidth': 600, 'xlargeheight': 400}, 'subType': 'xlarge', 'crop_name': 'articleLarge'}, {'rank': 0, 'subtype': 'blog480', 'caption': None, 'credit': None, 'type': 'image', 'url': 'images/2016/09/07/business/07DB-CHIPOTLE/07DB-CHIPOTLE-blog480.jpg', 'height': 320, 'width': 480, 'legacy': {}, 'subType': 'blog480', 'crop_name': 'blog480'}, {'rank': 0, 'subtype': 'blog427', 'caption': None, 'credit': None, 'type': 'image', 'url': 'images/2016/09/07/business/07DB-CHIPOTLE/07DB-CHIPOTLE-blog427.jpg', 'height': 285, 'width': 427, 'legacy': {}, 'subType': 'blog427', 'crop_name': 'blog427'}, {'rank': 0, 'subtype': 'tmagArticle', 'caption': None, 'credit': None, 'type': 'image', 'url': 'images/2016/09/07/business/07DB-CHIPOTLE/07DB-CHIPOTLE-tmagArticle.jpg', 'height': 395, 'width': 592, 'legacy': {}, 'subType': 'tmagArticle', 'crop_name': 'tmagArticle'}, {'rank': 0, 'subtype': 'jumbo', 'caption': None, 'credit': None, 'type': 'image', 'url': 'images/2016/09/07/business/07DB-CHIPOTLE/07DB-CHIPOTLE-jumbo.jpg', 'height': 683, 'width': 1024, 'legacy': {}, 'subType': 'jumbo', 'crop_name': 'jumbo'}, {'rank': 0, 'subtype': 'blog225', 'caption': None, 'credit': None, 'type': 'image', 'url': 'images/2016/09/07/business/07DB-CHIPOTLE/07DB-CHIPOTLE-blog225.jpg', 'height': 150, 'width': 225, 'legacy': {}, 'subType': 'blog225', 'crop_name': 'blog225'}, {'rank': 0, 'subtype': 'master675', 'caption': None, 'credit': None, 'type': 'image', 'url': 'images/2016/09/07/business/07DB-CHIPOTLE/07DB-CHIPOTLE-master675.jpg', 'height': 450, 'width': 675, 'legacy': {}, 'subType': 'master675', 'crop_name': 'master675'}, {'rank': 0, 'subtype': 'master180', 'caption': None, 'credit': None, 'type': 'image', 'url': 'images/2016/09/07/business/07DB-CHIPOTLE/07DB-CHIPOTLE-master180.jpg', 'height': 120, 'width': 180, 'legacy': {}, 'subType': 'master180', 'crop_name': 'master180'}, {'rank': 0, 'subtype': 'master768', 'caption': None, 'credit': None, 'type': 'image', 'url': 'images/2016/09/07/business/07DB-CHIPOTLE/07DB-CHIPOTLE-master768.jpg', 'height': 512, 'width': 768, 'legacy': {}, 'subType': 'master768', 'crop_name': 'master768'}, {'rank': 0, 'subtype': 'popup', 'caption': None, 'credit': None, 'type': 'image', 'url': 'images/2016/09/07/business/07DB-CHIPOTLE/07DB-CHIPOTLE-popup.jpg', 'height': 433, 'width': 650, 'legacy': {}, 'subType': 'popup', 'crop_name': 'popup'}, {'rank': 0, 'subtype': 'blog533', 'caption': None, 'credit': None, 'type': 'image', 'url': 'images/2016/09/07/business/07DB-CHIPOTLE/07DB-CHIPOTLE-blog533.jpg', 'height': 355, 'width': 533, 'legacy': {}, 'subType': 'blog533', 'crop_name': 'blog533'}, {'rank': 0, 'subtype': 'tmagSF', 'caption': None, 'credit': None, 'type': 'image', 'url': 'images/2016/09/07/business/07DB-CHIPOTLE/07DB-CHIPOTLE-tmagSF.jpg', 'height': 241, 'width': 362, 'legacy': {}, 'subType': 'tmagSF', 'crop_name': 'tmagSF'}, {'rank': 0, 'subtype': 'slide', 'caption': None, 'credit': None, 'type': 'image', 'url': 'images/2016/09/07/business/07DB-CHIPOTLE/07DB-CHIPOTLE-slide.jpg', 'height': 400, 'width': 600, 'legacy': {}, 'subType': 'slide', 'crop_name': 'slide'}, {'rank': 0, 'subtype': 'superJumbo', 'caption': None, 'credit': None, 'type': 'image', 'url': 'images/2016/09/07/business/07DB-CHIPOTLE/07DB-CHIPOTLE-superJumbo.jpg', 'height': 1366, 'width': 2048, 'legacy': {}, 'subType': 'superJumbo', 'crop_name': 'superJumbo'}, {'rank': 0, 'subtype': 'master1050', 'caption': None, 'credit': None, 'type': 'image', 'url': 'images/2016/09/07/business/07DB-CHIPOTLE/07DB-CHIPOTLE-master1050.jpg', 'height': 700, 'width': 1050, 'legacy': {}, 'subType': 'master1050', 'crop_name': 'master1050'}, {'rank': 0, 'subtype': 'master495', 'caption': None, 'credit': None, 'type': 'image', 'url': 'images/2016/09/07/business/07DB-CHIPOTLE/07DB-CHIPOTLE-master495.jpg', 'height': 330, 'width': 495, 'legacy': {}, 'subType': 'master495', 'crop_name': 'master495'}, {'rank': 0, 'subtype': 'master315', 'caption': None, 'credit': None, 'type': 'image', 'url': 'images/2016/09/07/business/07DB-CHIPOTLE/07DB-CHIPOTLE-master315.jpg', 'height': 210, 'width': 315, 'legacy': {}, 'subType': 'master315', 'crop_name': 'master315'}, {'rank': 0, 'subtype': 'verticalTwoByThree735', 'caption': None, 'credit': None, 'type': 'image', 'url': 'images/2016/09/07/business/07DB-CHIPOTLE/07DB-CHIPOTLE-verticalTwoByThree735.jpg', 'height': 1103, 'width': 735, 'legacy': {}, 'subType': 'verticalTwoByThree735', 'crop_name': 'verticalTwoByThree735'}, {'rank': 0, 'subtype': 'videoFifteenBySeven1305', 'caption': None, 'credit': None, 'type': 'image', 'url': 'images/2016/09/07/business/07DB-CHIPOTLE/07DB-CHIPOTLE-videoFifteenBySeven1305.jpg', 'height': 609, 'width': 1305, 'legacy': {}, 'subType': 'videoFifteenBySeven1305', 'crop_name': 'videoFifteenBySeven1305'}, {'rank': 0, 'subtype': 'videoFifteenBySeven2610', 'caption': None, 'credit': None, 'type': 'image', 'url': 'images/2016/09/07/business/07DB-CHIPOTLE/07DB-CHIPOTLE-videoFifteenBySeven2610.jpg', 'height': 1218, 'width': 2610, 'legacy': {}, 'subType': 'videoFifteenBySeven2610', 'crop_name': 'videoFifteenBySeven2610'}, {'rank': 0, 'subtype': 'miniMoth', 'caption': None, 'credit': None, 'type': 'image', 'url': 'images/2016/09/07/business/07DB-CHIPOTLE/07DB-CHIPOTLE-miniMoth.jpg', 'height': 70, 'width': 151, 'legacy': {}, 'subType': 'miniMoth', 'crop_name': 'miniMoth'}, {'rank': 0, 'subtype': 'windowsTile336H', 'caption': None, 'credit': None, 'type': 'image', 'url': 'images/2016/09/07/business/07DB-CHIPOTLE/07DB-CHIPOTLE-windowsTile336H.jpg', 'height': 336, 'width': 694, 'legacy': {}, 'subType': 'windowsTile336H', 'crop_name': 'windowsTile336H'}, {'rank': 0, 'subtype': 'sfSpan', 'caption': None, 'credit': None, 'type': 'image', 'url': 'images/2016/09/07/business/07DB-CHIPOTLE/07DB-CHIPOTLE-sfSpan.jpg', 'height': 263, 'width': 395, 'legacy': {}, 'subType': 'sfSpan', 'crop_name': 'sfSpan'}, {'rank': 0, 'subtype': 'largeHorizontalJumbo', 'caption': None, 'credit': None, 'type': 'image', 'url': 'images/2016/09/07/business/07DB-CHIPOTLE/07DB-CHIPOTLE-largeHorizontalJumbo.jpg', 'height': 683, 'width': 1024, 'legacy': {}, 'subType': 'largeHorizontalJumbo', 'crop_name': 'largeHorizontalJumbo'}, {'rank': 0, 'subtype': 'largeHorizontal375', 'caption': None, 'credit': None, 'type': 'image', 'url': 'images/2016/09/07/business/07DB-CHIPOTLE/07DB-CHIPOTLE-largeHorizontal375.jpg', 'height': 250, 'width': 375, 'legacy': {}, 'subType': 'largeHorizontal375', 'crop_name': 'largeHorizontal375'}, {'rank': 0, 'subtype': 'articleInline', 'caption': None, 'credit': None, 'type': 'image', 'url': 'images/2016/09/07/business/07DB-CHIPOTLE/07DB-CHIPOTLE-articleInline.jpg', 'height': 127, 'width': 190, 'legacy': {}, 'subType': 'articleInline', 'crop_name': 'articleInline'}, {'rank': 0, 'subtype': 'hpSmall', 'caption': None, 'credit': None, 'type': 'image', 'url': 'images/2016/09/07/business/07DB-CHIPOTLE/07DB-CHIPOTLE-hpSmall.jpg', 'height': 109, 'width': 163, 'legacy': {}, 'subType': 'hpSmall', 'crop_name': 'hpSmall'}, {'rank': 0, 'subtype': 'blogSmallInline', 'caption': None, 'credit': None, 'type': 'image', 'url': 'images/2016/09/07/business/07DB-CHIPOTLE/07DB-CHIPOTLE-blogSmallInline.jpg', 'height': 101, 'width': 151, 'legacy': {}, 'subType': 'blogSmallInline', 'crop_name': 'blogSmallInline'}, {'rank': 0, 'subtype': 'mediumFlexible177', 'caption': None, 'credit': None, 'type': 'image', 'url': 'images/2016/09/07/business/07DB-CHIPOTLE/07DB-CHIPOTLE-mediumFlexible177.jpg', 'height': 118, 'width': 177, 'legacy': {}, 'subType': 'mediumFlexible177', 'crop_name': 'mediumFlexible177'}, {'rank': 0, 'subtype': 'thumbnail', 'caption': None, 'credit': None, 'type': 'image', 'url': 'images/2016/09/07/business/07DB-CHIPOTLE/07DB-CHIPOTLE-thumbStandard.jpg', 'height': 75, 'width': 75, 'legacy': {'thumbnail': 'images/2016/09/07/business/07DB-CHIPOTLE/07DB-CHIPOTLE-thumbStandard.jpg', 'thumbnailwidth': 75, 'thumbnailheight': 75}, 'subType': 'thumbnail', 'crop_name': 'thumbStandard'}, {'rank': 0, 'subtype': 'thumbLarge', 'caption': None, 'credit': None, 'type': 'image', 'url': 'images/2016/09/07/business/07DB-CHIPOTLE/07DB-CHIPOTLE-thumbLarge.jpg', 'height': 150, 'width': 150, 'legacy': {}, 'subType': 'thumbLarge', 'crop_name': 'thumbLarge'}, {'rank': 0, 'subtype': 'smallSquare252', 'caption': None, 'credit': None, 'type': 'image', 'url': 'images/2016/09/07/business/07DB-CHIPOTLE/07DB-CHIPOTLE-smallSquare252.jpg', 'height': 252, 'width': 252, 'legacy': {}, 'subType': 'smallSquare252', 'crop_name': 'smallSquare252'}, {'rank': 0, 'subtype': 'blogSmallThumb', 'caption': None, 'credit': None, 'type': 'image', 'url': 'images/2016/09/07/business/07DB-CHIPOTLE/07DB-CHIPOTLE-blogSmallThumb.jpg', 'height': 50, 'width': 50, 'legacy': {}, 'subType': 'blogSmallThumb', 'crop_name': 'blogSmallThumb'}, {'rank': 0, 'subtype': 'smallSquare168', 'caption': None, 'credit': None, 'type': 'image', 'url': 'images/2016/09/07/business/07DB-CHIPOTLE/07DB-CHIPOTLE-smallSquare168.jpg', 'height': 168, 'width': 168, 'legacy': {}, 'subType': 'smallSquare168', 'crop_name': 'smallSquare168'}, {'rank': 0, 'subtype': 'watch308', 'caption': None, 'credit': None, 'type': 'image', 'url': 'images/2016/09/07/business/07DB-CHIPOTLE/07DB-CHIPOTLE-watch308.jpg', 'height': 348, 'width': 312, 'legacy': {}, 'subType': 'watch308', 'crop_name': 'watch308'}, {'rank': 0, 'subtype': 'watch268', 'caption': None, 'credit': None, 'type': 'image', 'url': 'images/2016/09/07/business/07DB-CHIPOTLE/07DB-CHIPOTLE-watch268.jpg', 'height': 303, 'width': 272, 'legacy': {}, 'subType': 'watch268', 'crop_name': 'watch268'}, {'rank': 0, 'subtype': 'facebookJumbo', 'caption': None, 'credit': None, 'type': 'image', 'url': 'images/2016/09/07/business/07DB-CHIPOTLE/07DB-CHIPOTLE-facebookJumbo.jpg', 'height': 550, 'width': 1050, 'legacy': {}, 'subType': 'facebookJumbo', 'crop_name': 'facebookJumbo'}, {'rank': 0, 'subtype': 'square320', 'caption': None, 'credit': None, 'type': 'image', 'url': 'images/2016/09/07/business/07DB-CHIPOTLE/07DB-CHIPOTLE-square320.jpg', 'height': 320, 'width': 320, 'legacy': {}, 'subType': 'square320', 'crop_name': 'square320'}, {'rank': 0, 'subtype': 'filmstrip', 'caption': None, 'credit': None, 'type': 'image', 'url': 'images/2016/09/07/business/07DB-CHIPOTLE/07DB-CHIPOTLE-filmstrip.jpg', 'height': 190, 'width': 190, 'legacy': {}, 'subType': 'filmstrip', 'crop_name': 'filmstrip'}, {'rank': 0, 'subtype': 'square640', 'caption': None, 'credit': None, 'type': 'image', 'url': 'images/2016/09/07/business/07DB-CHIPOTLE/07DB-CHIPOTLE-square640.jpg', 'height': 640, 'width': 640, 'legacy': {}, 'subType': 'square640', 'crop_name': 'square640'}, {'rank': 0, 'subtype': 'moth', 'caption': None, 'credit': None, 'type': 'image', 'url': 'images/2016/09/07/business/07DB-CHIPOTLE/07DB-CHIPOTLE-moth.jpg', 'height': 151, 'width': 151, 'legacy': {}, 'subType': 'moth', 'crop_name': 'moth'}, {'rank': 0, 'subtype': 'mediumSquare149', 'caption': None, 'credit': None, 'type': 'image', 'url': 'images/2016/09/07/business/07DB-CHIPOTLE/07DB-CHIPOTLE-mediumSquare149.jpg', 'height': 149, 'width': 149, 'legacy': {}, 'subType': 'mediumSquare149', 'crop_name': 'mediumSquare149'}, {'rank': 0, 'subtype': 'hpLarge', 'caption': None, 'credit': None, 'type': 'image', 'url': 'images/2016/09/07/business/07DB-CHIPOTLE/07DB-CHIPOTLE-hpLarge.jpg', 'height': 287, 'width': 511, 'legacy': {}, 'subType': 'hpLarge', 'crop_name': 'hpLarge'}, {'rank': 0, 'subtype': 'largeWidescreen573', 'caption': None, 'credit': None, 'type': 'image', 'url': 'images/2016/09/07/business/07DB-CHIPOTLE/07DB-CHIPOTLE-largeWidescreen573.jpg', 'height': 322, 'width': 573, 'legacy': {}, 'subType': 'largeWidescreen573', 'crop_name': 'largeWidescreen573'}, {'rank': 0, 'subtype': 'largeWidescreen1050', 'caption': None, 'credit': None, 'type': 'image', 'url': 'images/2016/09/07/business/07DB-CHIPOTLE/07DB-CHIPOTLE-largeWidescreen1050.jpg', 'height': 590, 'width': 1050, 'legacy': {}, 'subType': 'largeWidescreen1050', 'crop_name': 'largeWidescreen1050'}, {'rank': 0, 'subtype': 'videoSmall', 'caption': None, 'credit': None, 'type': 'image', 'url': 'images/2016/09/07/business/07DB-CHIPOTLE/07DB-CHIPOTLE-videoSmall.jpg', 'height': 281, 'width': 500, 'legacy': {}, 'subType': 'videoSmall', 'crop_name': 'videoSmall'}, {'rank': 0, 'subtype': 'videoHpMedium', 'caption': None, 'credit': None, 'type': 'image', 'url': 'images/2016/09/07/business/07DB-CHIPOTLE/07DB-CHIPOTLE-videoHpMedium.jpg', 'height': 211, 'width': 375, 'legacy': {}, 'subType': 'videoHpMedium', 'crop_name': 'videoHpMedium'}, {'rank': 0, 'subtype': 'videoSixteenByNine600', 'caption': None, 'credit': None, 'type': 'image', 'url': 'images/2016/09/07/business/07DB-CHIPOTLE/07DB-CHIPOTLE-videoSixteenByNine600.jpg', 'height': 338, 'width': 600, 'legacy': {}, 'subType': 'videoSixteenByNine600', 'crop_name': 'videoSixteenByNine600'}, {'rank': 0, 'subtype': 'videoSixteenByNine540', 'caption': None, 'credit': None, 'type': 'image', 'url': 'images/2016/09/07/business/07DB-CHIPOTLE/07DB-CHIPOTLE-videoSixteenByNine540.jpg', 'height': 304, 'width': 540, 'legacy': {}, 'subType': 'videoSixteenByNine540', 'crop_name': 'videoSixteenByNine540'}, {'rank': 0, 'subtype': 'videoSixteenByNine495', 'caption': None, 'credit': None, 'type': 'image', 'url': 'images/2016/09/07/business/07DB-CHIPOTLE/07DB-CHIPOTLE-videoSixteenByNine495.jpg', 'height': 278, 'width': 495, 'legacy': {}, 'subType': 'videoSixteenByNine495', 'crop_name': 'videoSixteenByNine495'}, {'rank': 0, 'subtype': 'videoSixteenByNine390', 'caption': None, 'credit': None, 'type': 'image', 'url': 'images/2016/09/07/business/07DB-CHIPOTLE/07DB-CHIPOTLE-videoSixteenByNine390.jpg', 'height': 219, 'width': 390, 'legacy': {}, 'subType': 'videoSixteenByNine390', 'crop_name': 'videoSixteenByNine390'}, {'rank': 0, 'subtype': 'videoSixteenByNine480', 'caption': None, 'credit': None, 'type': 'image', 'url': 'images/2016/09/07/business/07DB-CHIPOTLE/07DB-CHIPOTLE-videoSixteenByNine480.jpg', 'height': 270, 'width': 480, 'legacy': {}, 'subType': 'videoSixteenByNine480', 'crop_name': 'videoSixteenByNine480'}, {'rank': 0, 'subtype': 'videoSixteenByNine310', 'caption': None, 'credit': None, 'type': 'image', 'url': 'images/2016/09/07/business/07DB-CHIPOTLE/07DB-CHIPOTLE-videoSixteenByNine310.jpg', 'height': 174, 'width': 310, 'legacy': {}, 'subType': 'videoSixteenByNine310', 'crop_name': 'videoSixteenByNine310'}, {'rank': 0, 'subtype': 'videoSixteenByNine225', 'caption': None, 'credit': None, 'type': 'image', 'url': 'images/2016/09/07/business/07DB-CHIPOTLE/07DB-CHIPOTLE-videoSixteenByNine225.jpg', 'height': 126, 'width': 225, 'legacy': {}, 'subType': 'videoSixteenByNine225', 'crop_name': 'videoSixteenByNine225'}, {'rank': 0, 'subtype': 'videoSixteenByNine96', 'caption': None, 'credit': None, 'type': 'image', 'url': 'images/2016/09/07/business/07DB-CHIPOTLE/07DB-CHIPOTLE-videoSixteenByNine96.jpg', 'height': 54, 'width': 96, 'legacy': {}, 'subType': 'videoSixteenByNine96', 'crop_name': 'videoSixteenByNine96'}, {'rank': 0, 'subtype': 'videoSixteenByNine768', 'caption': None, 'credit': None, 'type': 'image', 'url': 'images/2016/09/07/business/07DB-CHIPOTLE/07DB-CHIPOTLE-videoSixteenByNine768.jpg', 'height': 432, 'width': 768, 'legacy': {}, 'subType': 'videoSixteenByNine768', 'crop_name': 'videoSixteenByNine768'}, {'rank': 0, 'subtype': 'videoSixteenByNine150', 'caption': None, 'credit': None, 'type': 'image', 'url': 'images/2016/09/07/business/07DB-CHIPOTLE/07DB-CHIPOTLE-videoSixteenByNine150.jpg', 'height': 84, 'width': 150, 'legacy': {}, 'subType': 'videoSixteenByNine150', 'crop_name': 'videoSixteenByNine150'}, {'rank': 0, 'subtype': 'videoSixteenByNine1050', 'caption': None, 'credit': None, 'type': 'image', 'url': 'images/2016/09/07/business/07DB-CHIPOTLE/07DB-CHIPOTLE-videoSixteenByNine1050.jpg', 'height': 591, 'width': 1050, 'legacy': {}, 'subType': 'videoSixteenByNine1050', 'crop_name': 'videoSixteenByNine1050'}, {'rank': 0, 'subtype': 'videoSixteenByNineJumbo1600', 'caption': None, 'credit': None, 'type': 'image', 'url': 'images/2016/09/07/business/07DB-CHIPOTLE/07DB-CHIPOTLE-videoSixteenByNineJumbo1600.jpg', 'height': 899, 'width': 1600, 'legacy': {}, 'subType': 'videoSixteenByNineJumbo1600', 'crop_name': 'videoSixteenByNineJumbo1600'}, {'rank': 0, 'subtype': 'wide', 'caption': None, 'credit': None, 'type': 'image', 'url': 'images/2016/09/07/business/07DB-CHIPOTLE/07DB-CHIPOTLE-thumbWide.jpg', 'height': 126, 'width': 190, 'legacy': {'widewidth': 190, 'wideheight': 126, 'wide': 'images/2016/09/07/business/07DB-CHIPOTLE/07DB-CHIPOTLE-thumbWide.jpg'}, 'subType': 'wide', 'crop_name': 'thumbWide'}, {'rank': 0, 'subtype': 'videoThumb', 'caption': None, 'credit': None, 'type': 'image', 'url': 'images/2016/09/07/business/07DB-CHIPOTLE/07DB-CHIPOTLE-videoThumb.jpg', 'height': 50, 'width': 75, 'legacy': {}, 'subType': 'videoThumb', 'crop_name': 'videoThumb'}, {'rank': 0, 'subtype': 'videoLarge', 'caption': None, 'credit': None, 'type': 'image', 'url': 'images/2016/09/07/business/07DB-CHIPOTLE/07DB-CHIPOTLE-videoLarge.jpg', 'height': 507, 'width': 768, 'legacy': {}, 'subType': 'videoLarge', 'crop_name': 'videoLarge'}, {'rank': 0, 'subtype': 'mediumThreeByTwo210', 'caption': None, 'credit': None, 'type': 'image', 'url': 'images/2016/09/07/business/07DB-CHIPOTLE/07DB-CHIPOTLE-mediumThreeByTwo210.jpg', 'height': 140, 'width': 210, 'legacy': {}, 'subType': 'mediumThreeByTwo210', 'crop_name': 'mediumThreeByTwo210'}, {'rank': 0, 'subtype': 'mediumThreeByTwo225', 'caption': None, 'credit': None, 'type': 'image', 'url': 'images/2016/09/07/business/07DB-CHIPOTLE/07DB-CHIPOTLE-mediumThreeByTwo225.jpg', 'height': 150, 'width': 225, 'legacy': {}, 'subType': 'mediumThreeByTwo225', 'crop_name': 'mediumThreeByTwo225'}, {'rank': 0, 'subtype': 'mediumThreeByTwo440', 'caption': None, 'credit': None, 'type': 'image', 'url': 'images/2016/09/07/business/07DB-CHIPOTLE/07DB-CHIPOTLE-mediumThreeByTwo440.jpg', 'height': 293, 'width': 440, 'legacy': {}, 'subType': 'mediumThreeByTwo440', 'crop_name': 'mediumThreeByTwo440'}, {'rank': 0, 'subtype': 'mediumThreeByTwo252', 'caption': None, 'credit': None, 'type': 'image', 'url': 'images/2016/09/07/business/07DB-CHIPOTLE/07DB-CHIPOTLE-mediumThreeByTwo252.jpg', 'height': 168, 'width': 252, 'legacy': {}, 'subType': 'mediumThreeByTwo252', 'crop_name': 'mediumThreeByTwo252'}, {'rank': 0, 'subtype': 'mediumThreeByTwo378', 'caption': None, 'credit': None, 'type': 'image', 'url': 'images/2016/09/07/business/07DB-CHIPOTLE/07DB-CHIPOTLE-mediumThreeByTwo378.jpg', 'height': 252, 'width': 378, 'legacy': {}, 'subType': 'mediumThreeByTwo378', 'crop_name': 'mediumThreeByTwo378'}]</td>\n",
       "    </tr>\n",
       "  </tbody>\n",
       "</table>\n",
       "</div>"
      ],
      "text/plain": [
       "                                                                                                                                                                                                                                                                                                                                                                                                                                                                                                                                                                                                                                                                                                                                                                                                                                                                                                                                                                                                                                                                                                                                                                                                                                                                                                                                                                                                                                                                                                                                                                                                                                                                                                                                                                                                                                                                                                                                                                                                                                                                                                                                                                                                                                                                                                                                                                                                                                                                                                                                                                                                                                                                                                                                                                                                                                                                                                                                                                                                                                                                                                                                                                                                                                                                                                                                                                                                                                                                                                                                                                                                                                                                                                                                                                                                                                                                                                                                                                                                                                                                                                                                                                                                                                                                                                                                                                                                                                                                                                                                                                                                                                                                                                                                                                                                                                                                                                                                                                                                                                                                                                                                                                                                                                                                                                                                                                                                                                                                                                                                                                                                                                                                                                                                                                                                                                                                                                                                                                                                                                                                                                                                                                                                                                                                                                                                                                                                                                                                                                                                                                                                                                                                                                                                                                                                                                                                                                                                                                                                                                                                                                                                                                                                                                                                                                                                                                                                                                                                                                                                                                                                                                                                                                                                                                                                                                                                                                                                                                                                                                                                                                                                                                                                                                                                                                                                                                                                                                                                                                                                                                                                                                                                                                                                                                                                                                                                                                                                                                                                                                                                                                                                                                                                                                                                                                                                                                                                                                                                                                                                                                                                                                                                                                                                                                                                                                                                                                                                                                                                                                                                                                                                                                                                                                                                                                                                                                                                                                                                                                                                                                                                                                                                                                                                                                                                                                                                                                                                                                                                                                                                                                                                                                                                                                                                                                                                                                                                                                                                                                                                                                                                                                                                                                                                                                                                                                                                                                                                                                                                                                                                                                                                                                                                                                                                                                                                                                                                                                                                                                                                                                                                                                                                                                                                                                                                                                                                                                                                                                                                                                                                                                                                                                                                                                                                                                                                                                                                                                                                                                                                                                                                                                                                                                                                                                                                                                                                                                                                                                                                                                                                                                                                                                                                                                                                                                                                                                                                                                                                                                                                                                                                                                                                                                                                                                                                                                                                                                                                                                                                                                                                                                                                                                                                                                                                                                                                                                                                                                                                                                                                                                                                                                                                                                                                                                                                                                                                                                                                                                                                                                                                                                                                                                                                                                                                                                                                                                                                                                                                                                                                                                                                                                                                                                                                                                                                                                                                                                                                                                                                                                                                                                                                                                                                                                                                                                                                                                                                                                                                                                                                                                                                                                                                                                                                                                                                                                                                                                                                                                                                                                                                                                                                                                                                                                                                                                                                                                                                                                                                                                                                                                                                                                                                                                                                                                                                                                                                                                                                                                                                                                                                                                                                                                                                                                                                                                                                                                                                                                                                                                                                                                                                                                                                                                                       multimedia\n",
       "date                                                                                                                                                                                                                                                                                                                                                                                                                                                                                                                                                                                                                                                                                                                                                                                                                                                                                                                                                                                                                                                                                                                                                                                                                                                                                                                                                                                                                                                                                                                                                                                                                                                                                                                                                                                                                                                                                                                                                                                                                                                                                                                                                                                                                                                                                                                                                                                                                                                                                                                                                                                                                                                                                                                                                                                                                                                                                                                                                                                                                                                                                                                                                                                                                                                                                                                                                                                                                                                                                                                                                                                                                                                                                                                                                                                                                                                                                                                                                                                                                                                                                                                                                                                                                                                                                                                                                                                                                                                                                                                                                                                                                                                                                                                                                                                                                                                                                                                                                                                                                                                                                                                                                                                                                                                                                                                                                                                                                                                                                                                                                                                                                                                                                                                                                                                                                                                                                                                                                                                                                                                                                                                                                                                                                                                                                                                                                                                                                                                                                                                                                                                                                                                                                                                                                                                                                                                                                                                                                                                                                                                                                                                                                                                                                                                                                                                                                                                                                                                                                                                                                                                                                                                                                                                                                                                                                                                                                                                                                                                                                                                                                                                                                                                                                                                                                                                                                                                                                                                                                                                                                                                                                                                                                                                                                                                                                                                                                                                                                                                                                                                                                                                                                                                                                                                                                                                                                                                                                                                                                                                                                                                                                                                                                                                                                                                                                                                                                                                                                                                                                                                                                                                                                                                                                                                                                                                                                                                                                                                                                                                                                                                                                                                                                                                                                                                                                                                                                                                                                                                                                                                                                                                                                                                                                                                                                                                                                                                                                                                                                                                                                                                                                                                                                                                                                                                                                                                                                                                                                                                                                                                                                                                                                                                                                                                                                                                                                                                                                                                                                                                                                                                                                                                                                                                                                                                                                                                                                                                                                                                                                                                                                                                                                                                                                                                                                                                                                                                                                                                                                                                                                                                                                                                                                                                                                                                                                                                                                                                                                                                                                                                                                                                                                                                                                                                                                                                                                                                                                                                                                                                                                                                                                                                                                                                                                                                                                                                                                                                                                                                                                                                                                                                                                                                                                                                                                                                                                                                                                                                                                                                                                                                                                                                                                                                                                                                                                                                                                                                                                                                                                                                                                                                                                                                                                                                                                                                                                                                                                                                                                                                                                                                                                                                                                                                                                                                                                                                                                                                                                                                                                                                                                                                                                                                                                                                                                                                                                                                                                                                                                                                                                                                                                                                                                                                                                                                                                                                                                                                                                                                                                                                                                                                                                                                                                                                                                                                                                                                                                                                                                                                                                                                                                                                                                                                                                                                                                                                                                                                                                                                                                                                                                                                                                                                                                                                                                                                                                                                                                                                                                                                                                                                                                                                                                                                             \n",
       "2016-09-06  [{'rank': 0, 'subtype': 'xlarge', 'caption': None, 'credit': None, 'type': 'image', 'url': 'images/2016/09/07/business/07DB-CHIPOTLE/07DB-CHIPOTLE-articleLarge.jpg', 'height': 400, 'width': 600, 'legacy': {'xlarge': 'images/2016/09/07/business/07DB-CHIPOTLE/07DB-CHIPOTLE-articleLarge.jpg', 'xlargewidth': 600, 'xlargeheight': 400}, 'subType': 'xlarge', 'crop_name': 'articleLarge'}, {'rank': 0, 'subtype': 'blog480', 'caption': None, 'credit': None, 'type': 'image', 'url': 'images/2016/09/07/business/07DB-CHIPOTLE/07DB-CHIPOTLE-blog480.jpg', 'height': 320, 'width': 480, 'legacy': {}, 'subType': 'blog480', 'crop_name': 'blog480'}, {'rank': 0, 'subtype': 'blog427', 'caption': None, 'credit': None, 'type': 'image', 'url': 'images/2016/09/07/business/07DB-CHIPOTLE/07DB-CHIPOTLE-blog427.jpg', 'height': 285, 'width': 427, 'legacy': {}, 'subType': 'blog427', 'crop_name': 'blog427'}, {'rank': 0, 'subtype': 'tmagArticle', 'caption': None, 'credit': None, 'type': 'image', 'url': 'images/2016/09/07/business/07DB-CHIPOTLE/07DB-CHIPOTLE-tmagArticle.jpg', 'height': 395, 'width': 592, 'legacy': {}, 'subType': 'tmagArticle', 'crop_name': 'tmagArticle'}, {'rank': 0, 'subtype': 'jumbo', 'caption': None, 'credit': None, 'type': 'image', 'url': 'images/2016/09/07/business/07DB-CHIPOTLE/07DB-CHIPOTLE-jumbo.jpg', 'height': 683, 'width': 1024, 'legacy': {}, 'subType': 'jumbo', 'crop_name': 'jumbo'}, {'rank': 0, 'subtype': 'blog225', 'caption': None, 'credit': None, 'type': 'image', 'url': 'images/2016/09/07/business/07DB-CHIPOTLE/07DB-CHIPOTLE-blog225.jpg', 'height': 150, 'width': 225, 'legacy': {}, 'subType': 'blog225', 'crop_name': 'blog225'}, {'rank': 0, 'subtype': 'master675', 'caption': None, 'credit': None, 'type': 'image', 'url': 'images/2016/09/07/business/07DB-CHIPOTLE/07DB-CHIPOTLE-master675.jpg', 'height': 450, 'width': 675, 'legacy': {}, 'subType': 'master675', 'crop_name': 'master675'}, {'rank': 0, 'subtype': 'master180', 'caption': None, 'credit': None, 'type': 'image', 'url': 'images/2016/09/07/business/07DB-CHIPOTLE/07DB-CHIPOTLE-master180.jpg', 'height': 120, 'width': 180, 'legacy': {}, 'subType': 'master180', 'crop_name': 'master180'}, {'rank': 0, 'subtype': 'master768', 'caption': None, 'credit': None, 'type': 'image', 'url': 'images/2016/09/07/business/07DB-CHIPOTLE/07DB-CHIPOTLE-master768.jpg', 'height': 512, 'width': 768, 'legacy': {}, 'subType': 'master768', 'crop_name': 'master768'}, {'rank': 0, 'subtype': 'popup', 'caption': None, 'credit': None, 'type': 'image', 'url': 'images/2016/09/07/business/07DB-CHIPOTLE/07DB-CHIPOTLE-popup.jpg', 'height': 433, 'width': 650, 'legacy': {}, 'subType': 'popup', 'crop_name': 'popup'}, {'rank': 0, 'subtype': 'blog533', 'caption': None, 'credit': None, 'type': 'image', 'url': 'images/2016/09/07/business/07DB-CHIPOTLE/07DB-CHIPOTLE-blog533.jpg', 'height': 355, 'width': 533, 'legacy': {}, 'subType': 'blog533', 'crop_name': 'blog533'}, {'rank': 0, 'subtype': 'tmagSF', 'caption': None, 'credit': None, 'type': 'image', 'url': 'images/2016/09/07/business/07DB-CHIPOTLE/07DB-CHIPOTLE-tmagSF.jpg', 'height': 241, 'width': 362, 'legacy': {}, 'subType': 'tmagSF', 'crop_name': 'tmagSF'}, {'rank': 0, 'subtype': 'slide', 'caption': None, 'credit': None, 'type': 'image', 'url': 'images/2016/09/07/business/07DB-CHIPOTLE/07DB-CHIPOTLE-slide.jpg', 'height': 400, 'width': 600, 'legacy': {}, 'subType': 'slide', 'crop_name': 'slide'}, {'rank': 0, 'subtype': 'superJumbo', 'caption': None, 'credit': None, 'type': 'image', 'url': 'images/2016/09/07/business/07DB-CHIPOTLE/07DB-CHIPOTLE-superJumbo.jpg', 'height': 1366, 'width': 2048, 'legacy': {}, 'subType': 'superJumbo', 'crop_name': 'superJumbo'}, {'rank': 0, 'subtype': 'master1050', 'caption': None, 'credit': None, 'type': 'image', 'url': 'images/2016/09/07/business/07DB-CHIPOTLE/07DB-CHIPOTLE-master1050.jpg', 'height': 700, 'width': 1050, 'legacy': {}, 'subType': 'master1050', 'crop_name': 'master1050'}, {'rank': 0, 'subtype': 'master495', 'caption': None, 'credit': None, 'type': 'image', 'url': 'images/2016/09/07/business/07DB-CHIPOTLE/07DB-CHIPOTLE-master495.jpg', 'height': 330, 'width': 495, 'legacy': {}, 'subType': 'master495', 'crop_name': 'master495'}, {'rank': 0, 'subtype': 'master315', 'caption': None, 'credit': None, 'type': 'image', 'url': 'images/2016/09/07/business/07DB-CHIPOTLE/07DB-CHIPOTLE-master315.jpg', 'height': 210, 'width': 315, 'legacy': {}, 'subType': 'master315', 'crop_name': 'master315'}, {'rank': 0, 'subtype': 'verticalTwoByThree735', 'caption': None, 'credit': None, 'type': 'image', 'url': 'images/2016/09/07/business/07DB-CHIPOTLE/07DB-CHIPOTLE-verticalTwoByThree735.jpg', 'height': 1103, 'width': 735, 'legacy': {}, 'subType': 'verticalTwoByThree735', 'crop_name': 'verticalTwoByThree735'}, {'rank': 0, 'subtype': 'videoFifteenBySeven1305', 'caption': None, 'credit': None, 'type': 'image', 'url': 'images/2016/09/07/business/07DB-CHIPOTLE/07DB-CHIPOTLE-videoFifteenBySeven1305.jpg', 'height': 609, 'width': 1305, 'legacy': {}, 'subType': 'videoFifteenBySeven1305', 'crop_name': 'videoFifteenBySeven1305'}, {'rank': 0, 'subtype': 'videoFifteenBySeven2610', 'caption': None, 'credit': None, 'type': 'image', 'url': 'images/2016/09/07/business/07DB-CHIPOTLE/07DB-CHIPOTLE-videoFifteenBySeven2610.jpg', 'height': 1218, 'width': 2610, 'legacy': {}, 'subType': 'videoFifteenBySeven2610', 'crop_name': 'videoFifteenBySeven2610'}, {'rank': 0, 'subtype': 'miniMoth', 'caption': None, 'credit': None, 'type': 'image', 'url': 'images/2016/09/07/business/07DB-CHIPOTLE/07DB-CHIPOTLE-miniMoth.jpg', 'height': 70, 'width': 151, 'legacy': {}, 'subType': 'miniMoth', 'crop_name': 'miniMoth'}, {'rank': 0, 'subtype': 'windowsTile336H', 'caption': None, 'credit': None, 'type': 'image', 'url': 'images/2016/09/07/business/07DB-CHIPOTLE/07DB-CHIPOTLE-windowsTile336H.jpg', 'height': 336, 'width': 694, 'legacy': {}, 'subType': 'windowsTile336H', 'crop_name': 'windowsTile336H'}, {'rank': 0, 'subtype': 'sfSpan', 'caption': None, 'credit': None, 'type': 'image', 'url': 'images/2016/09/07/business/07DB-CHIPOTLE/07DB-CHIPOTLE-sfSpan.jpg', 'height': 263, 'width': 395, 'legacy': {}, 'subType': 'sfSpan', 'crop_name': 'sfSpan'}, {'rank': 0, 'subtype': 'largeHorizontalJumbo', 'caption': None, 'credit': None, 'type': 'image', 'url': 'images/2016/09/07/business/07DB-CHIPOTLE/07DB-CHIPOTLE-largeHorizontalJumbo.jpg', 'height': 683, 'width': 1024, 'legacy': {}, 'subType': 'largeHorizontalJumbo', 'crop_name': 'largeHorizontalJumbo'}, {'rank': 0, 'subtype': 'largeHorizontal375', 'caption': None, 'credit': None, 'type': 'image', 'url': 'images/2016/09/07/business/07DB-CHIPOTLE/07DB-CHIPOTLE-largeHorizontal375.jpg', 'height': 250, 'width': 375, 'legacy': {}, 'subType': 'largeHorizontal375', 'crop_name': 'largeHorizontal375'}, {'rank': 0, 'subtype': 'articleInline', 'caption': None, 'credit': None, 'type': 'image', 'url': 'images/2016/09/07/business/07DB-CHIPOTLE/07DB-CHIPOTLE-articleInline.jpg', 'height': 127, 'width': 190, 'legacy': {}, 'subType': 'articleInline', 'crop_name': 'articleInline'}, {'rank': 0, 'subtype': 'hpSmall', 'caption': None, 'credit': None, 'type': 'image', 'url': 'images/2016/09/07/business/07DB-CHIPOTLE/07DB-CHIPOTLE-hpSmall.jpg', 'height': 109, 'width': 163, 'legacy': {}, 'subType': 'hpSmall', 'crop_name': 'hpSmall'}, {'rank': 0, 'subtype': 'blogSmallInline', 'caption': None, 'credit': None, 'type': 'image', 'url': 'images/2016/09/07/business/07DB-CHIPOTLE/07DB-CHIPOTLE-blogSmallInline.jpg', 'height': 101, 'width': 151, 'legacy': {}, 'subType': 'blogSmallInline', 'crop_name': 'blogSmallInline'}, {'rank': 0, 'subtype': 'mediumFlexible177', 'caption': None, 'credit': None, 'type': 'image', 'url': 'images/2016/09/07/business/07DB-CHIPOTLE/07DB-CHIPOTLE-mediumFlexible177.jpg', 'height': 118, 'width': 177, 'legacy': {}, 'subType': 'mediumFlexible177', 'crop_name': 'mediumFlexible177'}, {'rank': 0, 'subtype': 'thumbnail', 'caption': None, 'credit': None, 'type': 'image', 'url': 'images/2016/09/07/business/07DB-CHIPOTLE/07DB-CHIPOTLE-thumbStandard.jpg', 'height': 75, 'width': 75, 'legacy': {'thumbnail': 'images/2016/09/07/business/07DB-CHIPOTLE/07DB-CHIPOTLE-thumbStandard.jpg', 'thumbnailwidth': 75, 'thumbnailheight': 75}, 'subType': 'thumbnail', 'crop_name': 'thumbStandard'}, {'rank': 0, 'subtype': 'thumbLarge', 'caption': None, 'credit': None, 'type': 'image', 'url': 'images/2016/09/07/business/07DB-CHIPOTLE/07DB-CHIPOTLE-thumbLarge.jpg', 'height': 150, 'width': 150, 'legacy': {}, 'subType': 'thumbLarge', 'crop_name': 'thumbLarge'}, {'rank': 0, 'subtype': 'smallSquare252', 'caption': None, 'credit': None, 'type': 'image', 'url': 'images/2016/09/07/business/07DB-CHIPOTLE/07DB-CHIPOTLE-smallSquare252.jpg', 'height': 252, 'width': 252, 'legacy': {}, 'subType': 'smallSquare252', 'crop_name': 'smallSquare252'}, {'rank': 0, 'subtype': 'blogSmallThumb', 'caption': None, 'credit': None, 'type': 'image', 'url': 'images/2016/09/07/business/07DB-CHIPOTLE/07DB-CHIPOTLE-blogSmallThumb.jpg', 'height': 50, 'width': 50, 'legacy': {}, 'subType': 'blogSmallThumb', 'crop_name': 'blogSmallThumb'}, {'rank': 0, 'subtype': 'smallSquare168', 'caption': None, 'credit': None, 'type': 'image', 'url': 'images/2016/09/07/business/07DB-CHIPOTLE/07DB-CHIPOTLE-smallSquare168.jpg', 'height': 168, 'width': 168, 'legacy': {}, 'subType': 'smallSquare168', 'crop_name': 'smallSquare168'}, {'rank': 0, 'subtype': 'watch308', 'caption': None, 'credit': None, 'type': 'image', 'url': 'images/2016/09/07/business/07DB-CHIPOTLE/07DB-CHIPOTLE-watch308.jpg', 'height': 348, 'width': 312, 'legacy': {}, 'subType': 'watch308', 'crop_name': 'watch308'}, {'rank': 0, 'subtype': 'watch268', 'caption': None, 'credit': None, 'type': 'image', 'url': 'images/2016/09/07/business/07DB-CHIPOTLE/07DB-CHIPOTLE-watch268.jpg', 'height': 303, 'width': 272, 'legacy': {}, 'subType': 'watch268', 'crop_name': 'watch268'}, {'rank': 0, 'subtype': 'facebookJumbo', 'caption': None, 'credit': None, 'type': 'image', 'url': 'images/2016/09/07/business/07DB-CHIPOTLE/07DB-CHIPOTLE-facebookJumbo.jpg', 'height': 550, 'width': 1050, 'legacy': {}, 'subType': 'facebookJumbo', 'crop_name': 'facebookJumbo'}, {'rank': 0, 'subtype': 'square320', 'caption': None, 'credit': None, 'type': 'image', 'url': 'images/2016/09/07/business/07DB-CHIPOTLE/07DB-CHIPOTLE-square320.jpg', 'height': 320, 'width': 320, 'legacy': {}, 'subType': 'square320', 'crop_name': 'square320'}, {'rank': 0, 'subtype': 'filmstrip', 'caption': None, 'credit': None, 'type': 'image', 'url': 'images/2016/09/07/business/07DB-CHIPOTLE/07DB-CHIPOTLE-filmstrip.jpg', 'height': 190, 'width': 190, 'legacy': {}, 'subType': 'filmstrip', 'crop_name': 'filmstrip'}, {'rank': 0, 'subtype': 'square640', 'caption': None, 'credit': None, 'type': 'image', 'url': 'images/2016/09/07/business/07DB-CHIPOTLE/07DB-CHIPOTLE-square640.jpg', 'height': 640, 'width': 640, 'legacy': {}, 'subType': 'square640', 'crop_name': 'square640'}, {'rank': 0, 'subtype': 'moth', 'caption': None, 'credit': None, 'type': 'image', 'url': 'images/2016/09/07/business/07DB-CHIPOTLE/07DB-CHIPOTLE-moth.jpg', 'height': 151, 'width': 151, 'legacy': {}, 'subType': 'moth', 'crop_name': 'moth'}, {'rank': 0, 'subtype': 'mediumSquare149', 'caption': None, 'credit': None, 'type': 'image', 'url': 'images/2016/09/07/business/07DB-CHIPOTLE/07DB-CHIPOTLE-mediumSquare149.jpg', 'height': 149, 'width': 149, 'legacy': {}, 'subType': 'mediumSquare149', 'crop_name': 'mediumSquare149'}, {'rank': 0, 'subtype': 'hpLarge', 'caption': None, 'credit': None, 'type': 'image', 'url': 'images/2016/09/07/business/07DB-CHIPOTLE/07DB-CHIPOTLE-hpLarge.jpg', 'height': 287, 'width': 511, 'legacy': {}, 'subType': 'hpLarge', 'crop_name': 'hpLarge'}, {'rank': 0, 'subtype': 'largeWidescreen573', 'caption': None, 'credit': None, 'type': 'image', 'url': 'images/2016/09/07/business/07DB-CHIPOTLE/07DB-CHIPOTLE-largeWidescreen573.jpg', 'height': 322, 'width': 573, 'legacy': {}, 'subType': 'largeWidescreen573', 'crop_name': 'largeWidescreen573'}, {'rank': 0, 'subtype': 'largeWidescreen1050', 'caption': None, 'credit': None, 'type': 'image', 'url': 'images/2016/09/07/business/07DB-CHIPOTLE/07DB-CHIPOTLE-largeWidescreen1050.jpg', 'height': 590, 'width': 1050, 'legacy': {}, 'subType': 'largeWidescreen1050', 'crop_name': 'largeWidescreen1050'}, {'rank': 0, 'subtype': 'videoSmall', 'caption': None, 'credit': None, 'type': 'image', 'url': 'images/2016/09/07/business/07DB-CHIPOTLE/07DB-CHIPOTLE-videoSmall.jpg', 'height': 281, 'width': 500, 'legacy': {}, 'subType': 'videoSmall', 'crop_name': 'videoSmall'}, {'rank': 0, 'subtype': 'videoHpMedium', 'caption': None, 'credit': None, 'type': 'image', 'url': 'images/2016/09/07/business/07DB-CHIPOTLE/07DB-CHIPOTLE-videoHpMedium.jpg', 'height': 211, 'width': 375, 'legacy': {}, 'subType': 'videoHpMedium', 'crop_name': 'videoHpMedium'}, {'rank': 0, 'subtype': 'videoSixteenByNine600', 'caption': None, 'credit': None, 'type': 'image', 'url': 'images/2016/09/07/business/07DB-CHIPOTLE/07DB-CHIPOTLE-videoSixteenByNine600.jpg', 'height': 338, 'width': 600, 'legacy': {}, 'subType': 'videoSixteenByNine600', 'crop_name': 'videoSixteenByNine600'}, {'rank': 0, 'subtype': 'videoSixteenByNine540', 'caption': None, 'credit': None, 'type': 'image', 'url': 'images/2016/09/07/business/07DB-CHIPOTLE/07DB-CHIPOTLE-videoSixteenByNine540.jpg', 'height': 304, 'width': 540, 'legacy': {}, 'subType': 'videoSixteenByNine540', 'crop_name': 'videoSixteenByNine540'}, {'rank': 0, 'subtype': 'videoSixteenByNine495', 'caption': None, 'credit': None, 'type': 'image', 'url': 'images/2016/09/07/business/07DB-CHIPOTLE/07DB-CHIPOTLE-videoSixteenByNine495.jpg', 'height': 278, 'width': 495, 'legacy': {}, 'subType': 'videoSixteenByNine495', 'crop_name': 'videoSixteenByNine495'}, {'rank': 0, 'subtype': 'videoSixteenByNine390', 'caption': None, 'credit': None, 'type': 'image', 'url': 'images/2016/09/07/business/07DB-CHIPOTLE/07DB-CHIPOTLE-videoSixteenByNine390.jpg', 'height': 219, 'width': 390, 'legacy': {}, 'subType': 'videoSixteenByNine390', 'crop_name': 'videoSixteenByNine390'}, {'rank': 0, 'subtype': 'videoSixteenByNine480', 'caption': None, 'credit': None, 'type': 'image', 'url': 'images/2016/09/07/business/07DB-CHIPOTLE/07DB-CHIPOTLE-videoSixteenByNine480.jpg', 'height': 270, 'width': 480, 'legacy': {}, 'subType': 'videoSixteenByNine480', 'crop_name': 'videoSixteenByNine480'}, {'rank': 0, 'subtype': 'videoSixteenByNine310', 'caption': None, 'credit': None, 'type': 'image', 'url': 'images/2016/09/07/business/07DB-CHIPOTLE/07DB-CHIPOTLE-videoSixteenByNine310.jpg', 'height': 174, 'width': 310, 'legacy': {}, 'subType': 'videoSixteenByNine310', 'crop_name': 'videoSixteenByNine310'}, {'rank': 0, 'subtype': 'videoSixteenByNine225', 'caption': None, 'credit': None, 'type': 'image', 'url': 'images/2016/09/07/business/07DB-CHIPOTLE/07DB-CHIPOTLE-videoSixteenByNine225.jpg', 'height': 126, 'width': 225, 'legacy': {}, 'subType': 'videoSixteenByNine225', 'crop_name': 'videoSixteenByNine225'}, {'rank': 0, 'subtype': 'videoSixteenByNine96', 'caption': None, 'credit': None, 'type': 'image', 'url': 'images/2016/09/07/business/07DB-CHIPOTLE/07DB-CHIPOTLE-videoSixteenByNine96.jpg', 'height': 54, 'width': 96, 'legacy': {}, 'subType': 'videoSixteenByNine96', 'crop_name': 'videoSixteenByNine96'}, {'rank': 0, 'subtype': 'videoSixteenByNine768', 'caption': None, 'credit': None, 'type': 'image', 'url': 'images/2016/09/07/business/07DB-CHIPOTLE/07DB-CHIPOTLE-videoSixteenByNine768.jpg', 'height': 432, 'width': 768, 'legacy': {}, 'subType': 'videoSixteenByNine768', 'crop_name': 'videoSixteenByNine768'}, {'rank': 0, 'subtype': 'videoSixteenByNine150', 'caption': None, 'credit': None, 'type': 'image', 'url': 'images/2016/09/07/business/07DB-CHIPOTLE/07DB-CHIPOTLE-videoSixteenByNine150.jpg', 'height': 84, 'width': 150, 'legacy': {}, 'subType': 'videoSixteenByNine150', 'crop_name': 'videoSixteenByNine150'}, {'rank': 0, 'subtype': 'videoSixteenByNine1050', 'caption': None, 'credit': None, 'type': 'image', 'url': 'images/2016/09/07/business/07DB-CHIPOTLE/07DB-CHIPOTLE-videoSixteenByNine1050.jpg', 'height': 591, 'width': 1050, 'legacy': {}, 'subType': 'videoSixteenByNine1050', 'crop_name': 'videoSixteenByNine1050'}, {'rank': 0, 'subtype': 'videoSixteenByNineJumbo1600', 'caption': None, 'credit': None, 'type': 'image', 'url': 'images/2016/09/07/business/07DB-CHIPOTLE/07DB-CHIPOTLE-videoSixteenByNineJumbo1600.jpg', 'height': 899, 'width': 1600, 'legacy': {}, 'subType': 'videoSixteenByNineJumbo1600', 'crop_name': 'videoSixteenByNineJumbo1600'}, {'rank': 0, 'subtype': 'wide', 'caption': None, 'credit': None, 'type': 'image', 'url': 'images/2016/09/07/business/07DB-CHIPOTLE/07DB-CHIPOTLE-thumbWide.jpg', 'height': 126, 'width': 190, 'legacy': {'widewidth': 190, 'wideheight': 126, 'wide': 'images/2016/09/07/business/07DB-CHIPOTLE/07DB-CHIPOTLE-thumbWide.jpg'}, 'subType': 'wide', 'crop_name': 'thumbWide'}, {'rank': 0, 'subtype': 'videoThumb', 'caption': None, 'credit': None, 'type': 'image', 'url': 'images/2016/09/07/business/07DB-CHIPOTLE/07DB-CHIPOTLE-videoThumb.jpg', 'height': 50, 'width': 75, 'legacy': {}, 'subType': 'videoThumb', 'crop_name': 'videoThumb'}, {'rank': 0, 'subtype': 'videoLarge', 'caption': None, 'credit': None, 'type': 'image', 'url': 'images/2016/09/07/business/07DB-CHIPOTLE/07DB-CHIPOTLE-videoLarge.jpg', 'height': 507, 'width': 768, 'legacy': {}, 'subType': 'videoLarge', 'crop_name': 'videoLarge'}, {'rank': 0, 'subtype': 'mediumThreeByTwo210', 'caption': None, 'credit': None, 'type': 'image', 'url': 'images/2016/09/07/business/07DB-CHIPOTLE/07DB-CHIPOTLE-mediumThreeByTwo210.jpg', 'height': 140, 'width': 210, 'legacy': {}, 'subType': 'mediumThreeByTwo210', 'crop_name': 'mediumThreeByTwo210'}, {'rank': 0, 'subtype': 'mediumThreeByTwo225', 'caption': None, 'credit': None, 'type': 'image', 'url': 'images/2016/09/07/business/07DB-CHIPOTLE/07DB-CHIPOTLE-mediumThreeByTwo225.jpg', 'height': 150, 'width': 225, 'legacy': {}, 'subType': 'mediumThreeByTwo225', 'crop_name': 'mediumThreeByTwo225'}, {'rank': 0, 'subtype': 'mediumThreeByTwo440', 'caption': None, 'credit': None, 'type': 'image', 'url': 'images/2016/09/07/business/07DB-CHIPOTLE/07DB-CHIPOTLE-mediumThreeByTwo440.jpg', 'height': 293, 'width': 440, 'legacy': {}, 'subType': 'mediumThreeByTwo440', 'crop_name': 'mediumThreeByTwo440'}, {'rank': 0, 'subtype': 'mediumThreeByTwo252', 'caption': None, 'credit': None, 'type': 'image', 'url': 'images/2016/09/07/business/07DB-CHIPOTLE/07DB-CHIPOTLE-mediumThreeByTwo252.jpg', 'height': 168, 'width': 252, 'legacy': {}, 'subType': 'mediumThreeByTwo252', 'crop_name': 'mediumThreeByTwo252'}, {'rank': 0, 'subtype': 'mediumThreeByTwo378', 'caption': None, 'credit': None, 'type': 'image', 'url': 'images/2016/09/07/business/07DB-CHIPOTLE/07DB-CHIPOTLE-mediumThreeByTwo378.jpg', 'height': 252, 'width': 378, 'legacy': {}, 'subType': 'mediumThreeByTwo378', 'crop_name': 'mediumThreeByTwo378'}]"
      ]
     },
     "execution_count": 23,
     "metadata": {},
     "output_type": "execute_result"
    }
   ],
   "source": [
    "pd.set_option('max_colwidth',None)\n",
    "data[['multimedia']].head(1)"
   ]
  },
  {
   "cell_type": "code",
   "execution_count": 24,
   "id": "8f92751f-2a78-41e4-a057-3df4a013c958",
   "metadata": {
    "execution": {
     "iopub.execute_input": "2021-08-23T05:51:17.651895Z",
     "iopub.status.busy": "2021-08-23T05:51:17.651739Z",
     "iopub.status.idle": "2021-08-23T05:51:17.664035Z",
     "shell.execute_reply": "2021-08-23T05:51:17.663210Z",
     "shell.execute_reply.started": "2021-08-23T05:51:17.651876Z"
    },
    "tags": []
   },
   "outputs": [],
   "source": [
    "data.drop(columns='multimedia',inplace=True)"
   ]
  },
  {
   "cell_type": "markdown",
   "id": "1542d68c-48ef-4e6b-9609-656fc0f694dc",
   "metadata": {
    "execution": {
     "iopub.execute_input": "2021-08-22T23:22:17.168475Z",
     "iopub.status.busy": "2021-08-22T23:22:17.168231Z",
     "iopub.status.idle": "2021-08-22T23:22:17.196104Z",
     "shell.execute_reply": "2021-08-22T23:22:17.195327Z",
     "shell.execute_reply.started": "2021-08-22T23:22:17.168457Z"
    }
   },
   "source": [
    "## news_desk"
   ]
  },
  {
   "cell_type": "code",
   "execution_count": 25,
   "id": "d3696fb0-c6e7-432a-af21-a7d55d33e08d",
   "metadata": {
    "execution": {
     "iopub.execute_input": "2021-08-23T05:51:17.667891Z",
     "iopub.status.busy": "2021-08-23T05:51:17.667694Z",
     "iopub.status.idle": "2021-08-23T05:51:17.675959Z",
     "shell.execute_reply": "2021-08-23T05:51:17.675198Z",
     "shell.execute_reply.started": "2021-08-23T05:51:17.667869Z"
    },
    "tags": []
   },
   "outputs": [
    {
     "data": {
      "text/plain": [
       "Business    19397\n",
       "Name: news_desk, dtype: int64"
      ]
     },
     "execution_count": 25,
     "metadata": {},
     "output_type": "execute_result"
    }
   ],
   "source": [
    "data['news_desk'].value_counts()"
   ]
  },
  {
   "cell_type": "code",
   "execution_count": 26,
   "id": "e5cdedef-d1ec-4085-85b6-052668f24f22",
   "metadata": {
    "execution": {
     "iopub.execute_input": "2021-08-23T05:51:17.677728Z",
     "iopub.status.busy": "2021-08-23T05:51:17.677542Z",
     "iopub.status.idle": "2021-08-23T05:51:17.687821Z",
     "shell.execute_reply": "2021-08-23T05:51:17.687184Z",
     "shell.execute_reply.started": "2021-08-23T05:51:17.677710Z"
    },
    "tags": []
   },
   "outputs": [],
   "source": [
    "# all the same so drop \n",
    "data.drop(columns='news_desk',inplace=True)"
   ]
  },
  {
   "cell_type": "markdown",
   "id": "3e694be3-8ee4-4714-ad8e-9f3182f651c0",
   "metadata": {
    "execution": {
     "iopub.execute_input": "2021-08-22T23:22:17.218574Z",
     "iopub.status.busy": "2021-08-22T23:22:17.218393Z",
     "iopub.status.idle": "2021-08-22T23:22:17.244984Z",
     "shell.execute_reply": "2021-08-22T23:22:17.244354Z",
     "shell.execute_reply.started": "2021-08-22T23:22:17.218556Z"
    }
   },
   "source": [
    "## byline"
   ]
  },
  {
   "cell_type": "code",
   "execution_count": 27,
   "id": "f8aee892-b433-4ccd-96d7-c435efe5e030",
   "metadata": {
    "execution": {
     "iopub.execute_input": "2021-08-23T05:51:17.688783Z",
     "iopub.status.busy": "2021-08-23T05:51:17.688620Z",
     "iopub.status.idle": "2021-08-23T05:51:17.700431Z",
     "shell.execute_reply": "2021-08-23T05:51:17.699125Z",
     "shell.execute_reply.started": "2021-08-23T05:51:17.688767Z"
    },
    "tags": []
   },
   "outputs": [
    {
     "data": {
      "text/plain": [
       "3097"
      ]
     },
     "execution_count": 27,
     "metadata": {},
     "output_type": "execute_result"
    }
   ],
   "source": [
    "len(data['byline'].unique())"
   ]
  },
  {
   "cell_type": "markdown",
   "id": "5704743e-b3b1-4cbe-b6f1-7f9576faa274",
   "metadata": {},
   "source": [
    "3097 authors for all 21000 articles but not relevent for what we are doing "
   ]
  },
  {
   "cell_type": "code",
   "execution_count": 28,
   "id": "3d15d229-8cf1-4f5c-8ad3-ac394c9ccba8",
   "metadata": {
    "execution": {
     "iopub.execute_input": "2021-08-23T05:51:17.701429Z",
     "iopub.status.busy": "2021-08-23T05:51:17.701279Z",
     "iopub.status.idle": "2021-08-23T05:51:17.709803Z",
     "shell.execute_reply": "2021-08-23T05:51:17.709145Z",
     "shell.execute_reply.started": "2021-08-23T05:51:17.701413Z"
    },
    "tags": []
   },
   "outputs": [],
   "source": [
    "data.drop(columns='byline',inplace=True)"
   ]
  },
  {
   "cell_type": "markdown",
   "id": "ca99c266-b707-48ee-8665-5a988a76c9ac",
   "metadata": {
    "execution": {
     "iopub.execute_input": "2021-08-22T23:22:17.268641Z",
     "iopub.status.busy": "2021-08-22T23:22:17.268460Z",
     "iopub.status.idle": "2021-08-22T23:22:17.294043Z",
     "shell.execute_reply": "2021-08-22T23:22:17.293348Z",
     "shell.execute_reply.started": "2021-08-22T23:22:17.268612Z"
    }
   },
   "source": [
    "## word_count \n",
    "\n",
    "number of words in article "
   ]
  },
  {
   "cell_type": "code",
   "execution_count": 29,
   "id": "dd9dc7d2-fb62-48c3-bca6-8e5ca4163834",
   "metadata": {
    "execution": {
     "iopub.execute_input": "2021-08-23T05:51:17.710714Z",
     "iopub.status.busy": "2021-08-23T05:51:17.710549Z",
     "iopub.status.idle": "2021-08-23T05:51:18.108660Z",
     "shell.execute_reply": "2021-08-23T05:51:18.108117Z",
     "shell.execute_reply.started": "2021-08-23T05:51:17.710697Z"
    },
    "tags": []
   },
   "outputs": [
    {
     "data": {
      "text/plain": [
       "<seaborn.axisgrid.FacetGrid at 0x7f4b3c2dd2e0>"
      ]
     },
     "execution_count": 29,
     "metadata": {},
     "output_type": "execute_result"
    },
    {
     "data": {
      "image/png": "[encoded data removed]",
      "text/plain": [
       "<Figure size 360x360 with 1 Axes>"
      ]
     },
     "metadata": {
      "needs_background": "light"
     },
     "output_type": "display_data"
    }
   ],
   "source": [
    "sns.displot(data=data,x='word_count',)"
   ]
  },
  {
   "cell_type": "code",
   "execution_count": 30,
   "id": "d682abfb-48d7-46d5-b4c1-bddd49580487",
   "metadata": {
    "execution": {
     "iopub.execute_input": "2021-08-23T05:51:18.109430Z",
     "iopub.status.busy": "2021-08-23T05:51:18.109305Z",
     "iopub.status.idle": "2021-08-23T05:51:18.228359Z",
     "shell.execute_reply": "2021-08-23T05:51:18.227593Z",
     "shell.execute_reply.started": "2021-08-23T05:51:18.109414Z"
    },
    "tags": []
   },
   "outputs": [
    {
     "data": {
      "text/plain": [
       "<AxesSubplot:xlabel='word_count', ylabel='S&P 500'>"
      ]
     },
     "execution_count": 30,
     "metadata": {},
     "output_type": "execute_result"
    },
    {
     "data": {
      "image/png": "[encoded data removed]",
      "text/plain": [
       "<Figure size 432x288 with 1 Axes>"
      ]
     },
     "metadata": {
      "needs_background": "light"
     },
     "output_type": "display_data"
    }
   ],
   "source": [
    "sns.scatterplot(x=data['word_count'],y=data['S&P 500'])"
   ]
  },
  {
   "cell_type": "markdown",
   "id": "b439d1a4-0d66-4c04-895a-186b87999db9",
   "metadata": {},
   "source": [
    "No real relationship not useful  "
   ]
  },
  {
   "cell_type": "code",
   "execution_count": 31,
   "id": "0524dc0a-f08e-4875-99a1-49b1d2dfc6cf",
   "metadata": {
    "execution": {
     "iopub.execute_input": "2021-08-23T05:51:18.229310Z",
     "iopub.status.busy": "2021-08-23T05:51:18.229173Z",
     "iopub.status.idle": "2021-08-23T05:51:18.239288Z",
     "shell.execute_reply": "2021-08-23T05:51:18.238595Z",
     "shell.execute_reply.started": "2021-08-23T05:51:18.229293Z"
    },
    "tags": []
   },
   "outputs": [],
   "source": [
    "data.drop(columns='word_count',inplace=True)"
   ]
  },
  {
   "cell_type": "markdown",
   "id": "c326bdbd-1b6b-434d-a3e6-a9d5e46645d2",
   "metadata": {},
   "source": [
    "## subsection_name"
   ]
  },
  {
   "cell_type": "code",
   "execution_count": 32,
   "id": "a48c7d1b-08e5-4307-89ef-50ae77e891d9",
   "metadata": {
    "execution": {
     "iopub.execute_input": "2021-08-23T05:51:18.240779Z",
     "iopub.status.busy": "2021-08-23T05:51:18.240589Z",
     "iopub.status.idle": "2021-08-23T05:51:18.244457Z",
     "shell.execute_reply": "2021-08-23T05:51:18.243611Z",
     "shell.execute_reply.started": "2021-08-23T05:51:18.240762Z"
    },
    "tags": []
   },
   "outputs": [],
   "source": [
    "def missing_check(df):\n",
    "    return df.isnull().sum()/len(df)"
   ]
  },
  {
   "cell_type": "code",
   "execution_count": 33,
   "id": "91521697-0588-4dd5-8b87-35b262c8ecc8",
   "metadata": {
    "execution": {
     "iopub.execute_input": "2021-08-23T05:51:18.245949Z",
     "iopub.status.busy": "2021-08-23T05:51:18.245694Z",
     "iopub.status.idle": "2021-08-23T05:51:18.254444Z",
     "shell.execute_reply": "2021-08-23T05:51:18.253645Z",
     "shell.execute_reply.started": "2021-08-23T05:51:18.245928Z"
    },
    "tags": []
   },
   "outputs": [
    {
     "data": {
      "text/plain": [
       "0.6008145589524153"
      ]
     },
     "execution_count": 33,
     "metadata": {},
     "output_type": "execute_result"
    }
   ],
   "source": [
    "# percentage of missing values \n",
    "missing_check(data['subsection_name'])"
   ]
  },
  {
   "cell_type": "code",
   "execution_count": 34,
   "id": "d5e5719c-f74c-4c17-858a-63cec981d14c",
   "metadata": {
    "execution": {
     "iopub.execute_input": "2021-08-23T05:51:18.255657Z",
     "iopub.status.busy": "2021-08-23T05:51:18.255431Z",
     "iopub.status.idle": "2021-08-23T05:51:18.263280Z",
     "shell.execute_reply": "2021-08-23T05:51:18.262597Z",
     "shell.execute_reply.started": "2021-08-23T05:51:18.255638Z"
    },
    "tags": []
   },
   "outputs": [
    {
     "data": {
      "text/plain": [
       "DealBook                       2772\n",
       "Media                          2344\n",
       "Economy                        1188\n",
       "Personal Tech                   391\n",
       "Energy & Environment            352\n",
       "Politics                        215\n",
       "Commercial Real Estate          150\n",
       "International Business           75\n",
       "Entrepreneurship                 54\n",
       "New Cars                         41\n",
       "Wheels                           37\n",
       "Asia Pacific                     28\n",
       "Europe                           14\n",
       "Retirement                        9\n",
       "Paying for College                6\n",
       "Television                        6\n",
       "Asset Allocation                  5\n",
       "Australia                         4\n",
       "Stocks and Bonds                  3\n",
       "Americas                          3\n",
       "401(k)'s and Similar Plans        3\n",
       "Taxes                             3\n",
       "Automobiles                       3\n",
       "Student Loans                     3\n",
       "Middle East                       3\n",
       "Identify Theft                    2\n",
       "Credit and Debit Cards            2\n",
       "Estate Planning                   2\n",
       "Eat                               2\n",
       "Health Insurance                  2\n",
       "Brokerage and Bank Accounts       2\n",
       "Credit Scores                     2\n",
       "Your Taxes                        2\n",
       "Auto Insurance                    2\n",
       "Household Budgeting               2\n",
       "Mortgages                         2\n",
       "Family                            2\n",
       "Wirecutter                        1\n",
       "Mutual Funds                      1\n",
       "Collectible Cars                  1\n",
       "Financial Planners                1\n",
       "Art & Design                      1\n",
       "Live                              1\n",
       "Books Update                      1\n",
       "Name: subsection_name, dtype: int64"
      ]
     },
     "execution_count": 34,
     "metadata": {},
     "output_type": "execute_result"
    }
   ],
   "source": [
    "data['subsection_name'].value_counts()"
   ]
  },
  {
   "cell_type": "markdown",
   "id": "5c772bcc-539e-4e0c-b49b-0a61db462b21",
   "metadata": {},
   "source": [
    "60% missing values and rest mostly in two categories. \n",
    "Missing values not missing at random as they are just general business articles without particular subsections. \n",
    "\n"
   ]
  },
  {
   "cell_type": "code",
   "execution_count": 35,
   "id": "43f1029f-ce9a-4ea5-bdd1-63a295c65d2c",
   "metadata": {
    "execution": {
     "iopub.execute_input": "2021-08-23T05:51:18.264124Z",
     "iopub.status.busy": "2021-08-23T05:51:18.263998Z",
     "iopub.status.idle": "2021-08-23T05:51:18.273345Z",
     "shell.execute_reply": "2021-08-23T05:51:18.272643Z",
     "shell.execute_reply.started": "2021-08-23T05:51:18.264109Z"
    },
    "tags": []
   },
   "outputs": [],
   "source": [
    "data.drop(columns='subsection_name',inplace=True)"
   ]
  },
  {
   "cell_type": "markdown",
   "id": "4420f863-f9ae-4b14-bc7a-312734ccd9f6",
   "metadata": {},
   "source": [
    "## document_type "
   ]
  },
  {
   "cell_type": "code",
   "execution_count": 36,
   "id": "34f74022-9832-4edd-86cf-51aaa0eeea04",
   "metadata": {
    "execution": {
     "iopub.execute_input": "2021-08-23T05:51:18.274420Z",
     "iopub.status.busy": "2021-08-23T05:51:18.274267Z",
     "iopub.status.idle": "2021-08-23T05:51:18.280189Z",
     "shell.execute_reply": "2021-08-23T05:51:18.279581Z",
     "shell.execute_reply.started": "2021-08-23T05:51:18.274403Z"
    },
    "tags": []
   },
   "outputs": [
    {
     "data": {
      "text/plain": [
       "0.0"
      ]
     },
     "execution_count": 36,
     "metadata": {},
     "output_type": "execute_result"
    }
   ],
   "source": [
    "missing_check(data['document_type'])"
   ]
  },
  {
   "cell_type": "code",
   "execution_count": 37,
   "id": "e16c06fc-9e26-4401-be27-66e39d239da8",
   "metadata": {
    "execution": {
     "iopub.execute_input": "2021-08-23T05:51:18.281166Z",
     "iopub.status.busy": "2021-08-23T05:51:18.281006Z",
     "iopub.status.idle": "2021-08-23T05:51:18.287194Z",
     "shell.execute_reply": "2021-08-23T05:51:18.286599Z",
     "shell.execute_reply.started": "2021-08-23T05:51:18.281150Z"
    },
    "tags": []
   },
   "outputs": [
    {
     "data": {
      "text/plain": [
       "article    19397\n",
       "Name: document_type, dtype: int64"
      ]
     },
     "execution_count": 37,
     "metadata": {},
     "output_type": "execute_result"
    }
   ],
   "source": [
    "data['document_type'].value_counts()"
   ]
  },
  {
   "cell_type": "markdown",
   "id": "bcc8a785-22a4-4683-8513-5f53f7cc1bc0",
   "metadata": {},
   "source": [
    "- All results of same type so not useful "
   ]
  },
  {
   "cell_type": "code",
   "execution_count": 38,
   "id": "45a95a1b-b863-4562-9038-8357522c05a6",
   "metadata": {
    "execution": {
     "iopub.execute_input": "2021-08-23T05:51:18.288024Z",
     "iopub.status.busy": "2021-08-23T05:51:18.287893Z",
     "iopub.status.idle": "2021-08-23T05:51:18.296613Z",
     "shell.execute_reply": "2021-08-23T05:51:18.295586Z",
     "shell.execute_reply.started": "2021-08-23T05:51:18.288008Z"
    },
    "tags": []
   },
   "outputs": [],
   "source": [
    "data.drop(columns='document_type',inplace=True)"
   ]
  },
  {
   "cell_type": "markdown",
   "id": "faf5206a-4a14-4322-8a81-4638c7c11be6",
   "metadata": {},
   "source": [
    "## section_name"
   ]
  },
  {
   "cell_type": "code",
   "execution_count": 39,
   "id": "9519c48c-241d-4e36-8039-a8b80ae1a02a",
   "metadata": {
    "execution": {
     "iopub.execute_input": "2021-08-23T05:51:18.297706Z",
     "iopub.status.busy": "2021-08-23T05:51:18.297524Z",
     "iopub.status.idle": "2021-08-23T05:51:18.304524Z",
     "shell.execute_reply": "2021-08-23T05:51:18.303623Z",
     "shell.execute_reply.started": "2021-08-23T05:51:18.297688Z"
    },
    "tags": []
   },
   "outputs": [
    {
     "data": {
      "text/plain": [
       "0.0"
      ]
     },
     "execution_count": 39,
     "metadata": {},
     "output_type": "execute_result"
    }
   ],
   "source": [
    "missing_check(data['section_name'])"
   ]
  },
  {
   "cell_type": "code",
   "execution_count": 40,
   "id": "026b6060-992c-43f2-8051-7cf1626a0e59",
   "metadata": {
    "execution": {
     "iopub.execute_input": "2021-08-23T05:51:18.305386Z",
     "iopub.status.busy": "2021-08-23T05:51:18.305228Z",
     "iopub.status.idle": "2021-08-23T05:51:18.313445Z",
     "shell.execute_reply": "2021-08-23T05:51:18.312617Z",
     "shell.execute_reply.started": "2021-08-23T05:51:18.305369Z"
    },
    "tags": []
   },
   "outputs": [
    {
     "data": {
      "text/plain": [
       "Business Day       0.723823\n",
       "Technology         0.191267\n",
       "Your Money         0.040058\n",
       "U.S.               0.013817\n",
       "Real Estate        0.009589\n",
       "Automobiles        0.005413\n",
       "The Upshot         0.003299\n",
       "World              0.003042\n",
       "Smarter Living     0.001598\n",
       "Health             0.001444\n",
       "Fashion & Style    0.001134\n",
       "Travel             0.001031\n",
       "Arts               0.000928\n",
       "Movies             0.000567\n",
       "Books              0.000567\n",
       "Climate            0.000567\n",
       "Science            0.000464\n",
       "Food               0.000309\n",
       "Well               0.000309\n",
       "Reader Center      0.000206\n",
       "Times Insider      0.000155\n",
       "New York           0.000155\n",
       "Style              0.000103\n",
       "Sports             0.000103\n",
       "Admin              0.000052\n",
       "Name: section_name, dtype: float64"
      ]
     },
     "execution_count": 40,
     "metadata": {},
     "output_type": "execute_result"
    }
   ],
   "source": [
    "data['section_name'].value_counts(normalize=True)"
   ]
  },
  {
   "cell_type": "markdown",
   "id": "7985a456-17f1-4fe6-95ff-be8121e22414",
   "metadata": {
    "execution": {
     "iopub.execute_input": "2021-08-23T00:05:36.794110Z",
     "iopub.status.busy": "2021-08-23T00:05:36.793915Z",
     "iopub.status.idle": "2021-08-23T00:05:37.022104Z",
     "shell.execute_reply": "2021-08-23T00:05:37.021283Z",
     "shell.execute_reply.started": "2021-08-23T00:05:36.794094Z"
    },
    "tags": []
   },
   "source": [
    "Mostly in two categories. Not useful for what we are trying to do. "
   ]
  },
  {
   "cell_type": "code",
   "execution_count": 41,
   "id": "69d9d8ef-21cb-4d1b-8ce1-1630d8b27b66",
   "metadata": {
    "execution": {
     "iopub.execute_input": "2021-08-23T05:51:18.314758Z",
     "iopub.status.busy": "2021-08-23T05:51:18.314581Z",
     "iopub.status.idle": "2021-08-23T05:51:18.327457Z",
     "shell.execute_reply": "2021-08-23T05:51:18.326655Z",
     "shell.execute_reply.started": "2021-08-23T05:51:18.314737Z"
    },
    "tags": []
   },
   "outputs": [],
   "source": [
    "data.drop(columns='section_name',inplace=True)"
   ]
  },
  {
   "cell_type": "markdown",
   "id": "7a612ca4-e400-4cc6-ad86-9a3398df46a6",
   "metadata": {},
   "source": [
    "## type_of_material\n"
   ]
  },
  {
   "cell_type": "code",
   "execution_count": 42,
   "id": "80859c83-a4f6-4264-868c-1f1034ab8f54",
   "metadata": {
    "execution": {
     "iopub.execute_input": "2021-08-23T05:51:18.328355Z",
     "iopub.status.busy": "2021-08-23T05:51:18.328223Z",
     "iopub.status.idle": "2021-08-23T05:51:18.335411Z",
     "shell.execute_reply": "2021-08-23T05:51:18.334641Z",
     "shell.execute_reply.started": "2021-08-23T05:51:18.328339Z"
    },
    "tags": []
   },
   "outputs": [
    {
     "data": {
      "text/plain": [
       "News             0.996804\n",
       "News Analysis    0.002629\n",
       "List             0.000412\n",
       "Text             0.000103\n",
       "Interview        0.000052\n",
       "Name: type_of_material, dtype: float64"
      ]
     },
     "execution_count": 42,
     "metadata": {},
     "output_type": "execute_result"
    }
   ],
   "source": [
    "data['type_of_material'].value_counts(normalize=True)"
   ]
  },
  {
   "cell_type": "markdown",
   "id": "06571f8d-01f9-46dc-b2b4-674cfeac3bc6",
   "metadata": {},
   "source": [
    "99% in one category --> not useful "
   ]
  },
  {
   "cell_type": "code",
   "execution_count": 43,
   "id": "67900b44-00e4-4088-ae38-6e81ef733c5a",
   "metadata": {
    "execution": {
     "iopub.execute_input": "2021-08-23T05:51:18.336448Z",
     "iopub.status.busy": "2021-08-23T05:51:18.336302Z",
     "iopub.status.idle": "2021-08-23T05:51:18.345274Z",
     "shell.execute_reply": "2021-08-23T05:51:18.344599Z",
     "shell.execute_reply.started": "2021-08-23T05:51:18.336432Z"
    },
    "tags": []
   },
   "outputs": [],
   "source": [
    "data.drop(columns='type_of_material',inplace=True)"
   ]
  },
  {
   "cell_type": "markdown",
   "id": "fe92ffdb-3a4a-41bd-b9b3-8b797e6a670f",
   "metadata": {},
   "source": [
    "## web_url"
   ]
  },
  {
   "cell_type": "code",
   "execution_count": 44,
   "id": "7f44884b-e6d8-4a34-9f25-f906a31933ce",
   "metadata": {
    "execution": {
     "iopub.execute_input": "2021-08-23T05:51:18.346739Z",
     "iopub.status.busy": "2021-08-23T05:51:18.346450Z",
     "iopub.status.idle": "2021-08-23T05:51:18.354343Z",
     "shell.execute_reply": "2021-08-23T05:51:18.353628Z",
     "shell.execute_reply.started": "2021-08-23T05:51:18.346717Z"
    }
   },
   "outputs": [
    {
     "data": {
      "text/plain": [
       "0.0"
      ]
     },
     "execution_count": 44,
     "metadata": {},
     "output_type": "execute_result"
    }
   ],
   "source": [
    "missing_check(data['web_url'])"
   ]
  },
  {
   "cell_type": "markdown",
   "id": "02d3842a-0558-4be8-84e9-9f33eaecb8b6",
   "metadata": {},
   "source": [
    "No missing values we can leave as identifier "
   ]
  },
  {
   "cell_type": "code",
   "execution_count": 45,
   "id": "97bda184-0508-45ea-9d2f-facf6f9fb8e7",
   "metadata": {
    "execution": {
     "iopub.execute_input": "2021-08-23T05:51:18.355485Z",
     "iopub.status.busy": "2021-08-23T05:51:18.355300Z",
     "iopub.status.idle": "2021-08-23T05:51:18.366301Z",
     "shell.execute_reply": "2021-08-23T05:51:18.365594Z",
     "shell.execute_reply.started": "2021-08-23T05:51:18.355466Z"
    },
    "tags": []
   },
   "outputs": [
    {
     "data": {
      "text/plain": [
       "True"
      ]
     },
     "execution_count": 45,
     "metadata": {},
     "output_type": "execute_result"
    }
   ],
   "source": [
    "# confirm all unique articles \n",
    "len(data['web_url'].unique()) == len(data['web_url'])"
   ]
  },
  {
   "cell_type": "markdown",
   "id": "e72c9157-b841-48bc-8d95-3804f8f86bc1",
   "metadata": {},
   "source": [
    "## abstract and snippet "
   ]
  },
  {
   "cell_type": "code",
   "execution_count": 46,
   "id": "ee059ca1-ffb3-4903-82d2-f44481f3f109",
   "metadata": {
    "execution": {
     "iopub.execute_input": "2021-08-23T05:51:18.367200Z",
     "iopub.status.busy": "2021-08-23T05:51:18.367060Z",
     "iopub.status.idle": "2021-08-23T05:51:18.377246Z",
     "shell.execute_reply": "2021-08-23T05:51:18.376593Z",
     "shell.execute_reply.started": "2021-08-23T05:51:18.367182Z"
    }
   },
   "outputs": [
    {
     "data": {
      "text/plain": [
       "(0.0, 0.030829509717997628)"
      ]
     },
     "execution_count": 46,
     "metadata": {},
     "output_type": "execute_result"
    }
   ],
   "source": [
    "missing_check(data['abstract']),missing_check(data['snippet'])"
   ]
  },
  {
   "cell_type": "code",
   "execution_count": 47,
   "id": "53bebc96-23e4-4838-b733-4947aed01dac",
   "metadata": {
    "execution": {
     "iopub.execute_input": "2021-08-23T05:51:18.378123Z",
     "iopub.status.busy": "2021-08-23T05:51:18.377978Z",
     "iopub.status.idle": "2021-08-23T05:51:18.382399Z",
     "shell.execute_reply": "2021-08-23T05:51:18.381661Z",
     "shell.execute_reply.started": "2021-08-23T05:51:18.378106Z"
    }
   },
   "outputs": [],
   "source": [
    "pd.set_option('max_colwidth',None)"
   ]
  },
  {
   "cell_type": "code",
   "execution_count": 48,
   "id": "89477d20-9780-428f-8b92-8435615220b5",
   "metadata": {
    "execution": {
     "iopub.execute_input": "2021-08-23T05:51:18.383347Z",
     "iopub.status.busy": "2021-08-23T05:51:18.383201Z",
     "iopub.status.idle": "2021-08-23T05:51:18.398275Z",
     "shell.execute_reply": "2021-08-23T05:51:18.397632Z",
     "shell.execute_reply.started": "2021-08-23T05:51:18.383331Z"
    },
    "tags": []
   },
   "outputs": [
    {
     "data": {
      "text/html": [
       "<div>\n",
       "<style scoped>\n",
       "    .dataframe tbody tr th:only-of-type {\n",
       "        vertical-align: middle;\n",
       "    }\n",
       "\n",
       "    .dataframe tbody tr th {\n",
       "        vertical-align: top;\n",
       "    }\n",
       "\n",
       "    .dataframe thead th {\n",
       "        text-align: right;\n",
       "    }\n",
       "</style>\n",
       "<table border=\"1\" class=\"dataframe\">\n",
       "  <thead>\n",
       "    <tr style=\"text-align: right;\">\n",
       "      <th></th>\n",
       "      <th>abstract</th>\n",
       "      <th>snippet</th>\n",
       "    </tr>\n",
       "    <tr>\n",
       "      <th>date</th>\n",
       "      <th></th>\n",
       "      <th></th>\n",
       "    </tr>\n",
       "  </thead>\n",
       "  <tbody>\n",
       "    <tr>\n",
       "      <th>2019-03-06</th>\n",
       "      <td>Mr. Zuckerberg detailed plans to integrate Instagram, WhatsApp and Messenger so that people can communicate privately and directly across networks. The shift follows years of scandal for Facebook, which has been criticized over its handling of user data and the spread of disinformation.</td>\n",
       "      <td>Mr. Zuckerberg detailed plans to integrate Instagram, WhatsApp and Messenger so that people can communicate privately and directly across networks. The shift follows years of scandal for Facebook, which has been criticized over its handling of use...</td>\n",
       "    </tr>\n",
       "    <tr>\n",
       "      <th>2019-11-10</th>\n",
       "      <td>Who’s spying on you online? If you’re a Saudi dissident, it could be anyone — even a Twitter employee. But if you’re a child in China, it’s the government, which just passed new rules to stop minors from spending so much time on video games. Here’s everything you need to know about the week’s top stories in business and tech.</td>\n",
       "      <td>NaN</td>\n",
       "    </tr>\n",
       "    <tr>\n",
       "      <th>2020-07-07</th>\n",
       "      <td>United Airlines said on Tuesday that it was cutting back on the August flight schedule it announced just last week because travel demand was sliding again as coronavirus cases surged across much of the country.</td>\n",
       "      <td>NaN</td>\n",
       "    </tr>\n",
       "    <tr>\n",
       "      <th>2020-07-07</th>\n",
       "      <td>Britons are in fields across the country doing something they probably would not have imagined a few months ago: working as farm laborers, picking berries.</td>\n",
       "      <td>NaN</td>\n",
       "    </tr>\n",
       "    <tr>\n",
       "      <th>2020-07-08</th>\n",
       "      <td>Stocks on Wall Street dipped on Tuesday, cooling off after a five-day rally, as new economic data for Europe forecast a grim outlook for the year and cases of Covid-19 continued to spread.</td>\n",
       "      <td>NaN</td>\n",
       "    </tr>\n",
       "    <tr>\n",
       "      <th>...</th>\n",
       "      <td>...</td>\n",
       "      <td>...</td>\n",
       "    </tr>\n",
       "    <tr>\n",
       "      <th>2021-07-13</th>\n",
       "      <td>Investors are increasingly eyeing the creator economy — the huge, largely unexplored market of providing digital tools to influencers and helping them run their businesses.</td>\n",
       "      <td>NaN</td>\n",
       "    </tr>\n",
       "    <tr>\n",
       "      <th>2021-07-14</th>\n",
       "      <td>Americans get millions of illegal robocalls every month, despite attempts by the telecommunications industry and government agencies to stop them.</td>\n",
       "      <td>NaN</td>\n",
       "    </tr>\n",
       "    <tr>\n",
       "      <th>2021-07-29</th>\n",
       "      <td>Nothing demonstrated the horrors of the coronavirus contagion in the early stages of the pandemic like the major outbreaks onboard cruise ships, when vacation selfies abruptly turned into grim journals of endless days spent confined to cabins as the virus raged, eventually infecting thousands of people on board, and killing more than 100.</td>\n",
       "      <td>NaN</td>\n",
       "    </tr>\n",
       "    <tr>\n",
       "      <th>2021-08-09</th>\n",
       "      <td>Senators spent a second weekend in a row wrangling over the details of a $1 trillion bipartisan infrastructure proposal, putting off a planned summer break. “We’re doing it the old-fashioned way,” Senator Mitt Romney, Republican of Utah, told reporters on Sunday about the many days of debate.</td>\n",
       "      <td>NaN</td>\n",
       "    </tr>\n",
       "    <tr>\n",
       "      <th>2021-08-17</th>\n",
       "      <td>Jerome H. Powell’s term as chair of the Federal Reserve ends in February. Slots for the vice chair and the Fed’s top bank regulator will also be up for grabs soon, and a position on the Fed’s Board of Governors is already vacant.</td>\n",
       "      <td>NaN</td>\n",
       "    </tr>\n",
       "  </tbody>\n",
       "</table>\n",
       "<p>601 rows × 2 columns</p>\n",
       "</div>"
      ],
      "text/plain": [
       "                                                                                                                                                                                                                                                                                                                                                        abstract  \\\n",
       "date                                                                                                                                                                                                                                                                                                                                                               \n",
       "2019-03-06                                                       Mr. Zuckerberg detailed plans to integrate Instagram, WhatsApp and Messenger so that people can communicate privately and directly across networks. The shift follows years of scandal for Facebook, which has been criticized over its handling of user data and the spread of disinformation.   \n",
       "2019-11-10               Who’s spying on you online? If you’re a Saudi dissident, it could be anyone — even a Twitter employee. But if you’re a child in China, it’s the government, which just passed new rules to stop minors from spending so much time on video games. Here’s everything you need to know about the week’s top stories in business and tech.   \n",
       "2020-07-07                                                                                                                                    United Airlines said on Tuesday that it was cutting back on the August flight schedule it announced just last week because travel demand was sliding again as coronavirus cases surged across much of the country.   \n",
       "2020-07-07                                                                                                                                                                                           Britons are in fields across the country doing something they probably would not have imagined a few months ago: working as farm laborers, picking berries.   \n",
       "2020-07-08                                                                                                                                                          Stocks on Wall Street dipped on Tuesday, cooling off after a five-day rally, as new economic data for Europe forecast a grim outlook for the year and cases of Covid-19 continued to spread.   \n",
       "...                                                                                                                                                                                                                                                                                                                                                          ...   \n",
       "2021-07-13                                                                                                                                                                          Investors are increasingly eyeing the creator economy — the huge, largely unexplored market of providing digital tools to influencers and helping them run their businesses.   \n",
       "2021-07-14                                                                                                                                                                                                    Americans get millions of illegal robocalls every month, despite attempts by the telecommunications industry and government agencies to stop them.   \n",
       "2021-07-29  Nothing demonstrated the horrors of the coronavirus contagion in the early stages of the pandemic like the major outbreaks onboard cruise ships, when vacation selfies abruptly turned into grim journals of endless days spent confined to cabins as the virus raged, eventually infecting thousands of people on board, and killing more than 100.   \n",
       "2021-08-09                                                 Senators spent a second weekend in a row wrangling over the details of a $1 trillion bipartisan infrastructure proposal, putting off a planned summer break. “We’re doing it the old-fashioned way,” Senator Mitt Romney, Republican of Utah, told reporters on Sunday about the many days of debate.   \n",
       "2021-08-17                                                                                                                 Jerome H. Powell’s term as chair of the Federal Reserve ends in February. Slots for the vice chair and the Fed’s top bank regulator will also be up for grabs soon, and a position on the Fed’s Board of Governors is already vacant.   \n",
       "\n",
       "                                                                                                                                                                                                                                                               snippet  \n",
       "date                                                                                                                                                                                                                                                                    \n",
       "2019-03-06  Mr. Zuckerberg detailed plans to integrate Instagram, WhatsApp and Messenger so that people can communicate privately and directly across networks. The shift follows years of scandal for Facebook, which has been criticized over its handling of use...  \n",
       "2019-11-10                                                                                                                                                                                                                                                         NaN  \n",
       "2020-07-07                                                                                                                                                                                                                                                         NaN  \n",
       "2020-07-07                                                                                                                                                                                                                                                         NaN  \n",
       "2020-07-08                                                                                                                                                                                                                                                         NaN  \n",
       "...                                                                                                                                                                                                                                                                ...  \n",
       "2021-07-13                                                                                                                                                                                                                                                         NaN  \n",
       "2021-07-14                                                                                                                                                                                                                                                         NaN  \n",
       "2021-07-29                                                                                                                                                                                                                                                         NaN  \n",
       "2021-08-09                                                                                                                                                                                                                                                         NaN  \n",
       "2021-08-17                                                                                                                                                                                                                                                         NaN  \n",
       "\n",
       "[601 rows x 2 columns]"
      ]
     },
     "execution_count": 48,
     "metadata": {},
     "output_type": "execute_result"
    }
   ],
   "source": [
    "data[data['abstract']!= data['snippet']][['abstract','snippet']]"
   ]
  },
  {
   "cell_type": "code",
   "execution_count": 49,
   "id": "c628511d-bffe-4200-9f0d-b0cf39c48d9c",
   "metadata": {
    "execution": {
     "iopub.execute_input": "2021-08-23T05:51:18.399173Z",
     "iopub.status.busy": "2021-08-23T05:51:18.399040Z",
     "iopub.status.idle": "2021-08-23T05:51:18.410161Z",
     "shell.execute_reply": "2021-08-23T05:51:18.409595Z",
     "shell.execute_reply.started": "2021-08-23T05:51:18.399156Z"
    }
   },
   "outputs": [
    {
     "data": {
      "text/plain": [
       "abstract      0\n",
       "snippet     598\n",
       "dtype: int64"
      ]
     },
     "execution_count": 49,
     "metadata": {},
     "output_type": "execute_result"
    }
   ],
   "source": [
    "data[data['abstract']!= data['snippet']][['abstract','snippet']].isnull().sum()"
   ]
  },
  {
   "cell_type": "code",
   "execution_count": 50,
   "id": "b02c72f7-71ba-4cf2-8df2-c687eb88083e",
   "metadata": {
    "execution": {
     "iopub.execute_input": "2021-08-23T05:51:18.410991Z",
     "iopub.status.busy": "2021-08-23T05:51:18.410861Z",
     "iopub.status.idle": "2021-08-23T05:51:18.415340Z",
     "shell.execute_reply": "2021-08-23T05:51:18.414641Z",
     "shell.execute_reply.started": "2021-08-23T05:51:18.410976Z"
    }
   },
   "outputs": [
    {
     "data": {
      "text/plain": [
       "0.030984172810228385"
      ]
     },
     "execution_count": 50,
     "metadata": {},
     "output_type": "execute_result"
    }
   ],
   "source": [
    "601/len(data)"
   ]
  },
  {
   "cell_type": "markdown",
   "id": "02e91ca8-f250-455e-8266-e5eabaaaeb3c",
   "metadata": {},
   "source": [
    "Only two articles have both abstract and snippet (non-null) that is different. \n",
    "\n",
    "snippet does not provide new information so we can drop it "
   ]
  },
  {
   "cell_type": "code",
   "execution_count": 51,
   "id": "45ac3fe5-c73f-4bfe-a61e-5f9baaff9286",
   "metadata": {
    "execution": {
     "iopub.execute_input": "2021-08-23T05:51:18.416206Z",
     "iopub.status.busy": "2021-08-23T05:51:18.416074Z",
     "iopub.status.idle": "2021-08-23T05:51:18.424336Z",
     "shell.execute_reply": "2021-08-23T05:51:18.423623Z",
     "shell.execute_reply.started": "2021-08-23T05:51:18.416190Z"
    }
   },
   "outputs": [],
   "source": [
    "data.drop(columns='snippet',inplace=True)"
   ]
  },
  {
   "cell_type": "markdown",
   "id": "069f47f2-3be4-42f7-84aa-2f0839b36a6b",
   "metadata": {},
   "source": [
    "## lead_paragraph\n"
   ]
  },
  {
   "cell_type": "code",
   "execution_count": 52,
   "id": "82ea7877-d2c5-478c-9b11-dcd40628f65b",
   "metadata": {
    "execution": {
     "iopub.execute_input": "2021-08-23T05:51:18.425299Z",
     "iopub.status.busy": "2021-08-23T05:51:18.425160Z",
     "iopub.status.idle": "2021-08-23T05:51:18.435289Z",
     "shell.execute_reply": "2021-08-23T05:51:18.434647Z",
     "shell.execute_reply.started": "2021-08-23T05:51:18.425283Z"
    }
   },
   "outputs": [
    {
     "data": {
      "text/html": [
       "<div>\n",
       "<style scoped>\n",
       "    .dataframe tbody tr th:only-of-type {\n",
       "        vertical-align: middle;\n",
       "    }\n",
       "\n",
       "    .dataframe tbody tr th {\n",
       "        vertical-align: top;\n",
       "    }\n",
       "\n",
       "    .dataframe thead th {\n",
       "        text-align: right;\n",
       "    }\n",
       "</style>\n",
       "<table border=\"1\" class=\"dataframe\">\n",
       "  <thead>\n",
       "    <tr style=\"text-align: right;\">\n",
       "      <th></th>\n",
       "      <th>abstract</th>\n",
       "      <th>lead_paragraph</th>\n",
       "    </tr>\n",
       "    <tr>\n",
       "      <th>date</th>\n",
       "      <th></th>\n",
       "      <th></th>\n",
       "    </tr>\n",
       "  </thead>\n",
       "  <tbody>\n",
       "    <tr>\n",
       "      <th>2016-09-06</th>\n",
       "      <td>Pershing Square takes a 9.9 percent stake, making it the second-largest holder after Fidelity. Shares rose in after-hours trading.</td>\n",
       "      <td>William A. Ackman has a craving for fast food.</td>\n",
       "    </tr>\n",
       "    <tr>\n",
       "      <th>2016-09-06</th>\n",
       "      <td>Shareholders can be finicky and opaque, but the Tesla-SolarCity deal shows the importance of having all buyers of significant assets hold a vote.</td>\n",
       "      <td>Tesla Motors’ proposed acquisition of SolarCity is most likely to come down to whether shareholders support Elon Musk in his vision of creating a solar power juggernaut. Yet the deal also raises broader issues of how and when shareholders should vote to approve acquisitions.</td>\n",
       "    </tr>\n",
       "    <tr>\n",
       "      <th>2016-09-06</th>\n",
       "      <td>Delegates at symposium on economic crime in Cambridge, Mass., sought solutions for fighting crimes like money laundering, fraud and insider trading.</td>\n",
       "      <td>CAMBRIDGE, England — The record of combating economic crime is so woeful that governments need a new approach. That was the view of many at a gathering of about 1,600 delegates from academia and the legal and compliance profession here on Monday.</td>\n",
       "    </tr>\n",
       "    <tr>\n",
       "      <th>2016-09-06</th>\n",
       "      <td>Recent commercial real estate transactions in New York City.</td>\n",
       "      <td>$11.57 MILLION</td>\n",
       "    </tr>\n",
       "    <tr>\n",
       "      <th>2016-09-06</th>\n",
       "      <td>A study of Australian women points to discrimination as a cause of a pay gap, with men getting raises 20 percent of the time they asked, compared with 16 percent for women.</td>\n",
       "      <td>One common theory to explain the pay gap between men and women assigns blame to women themselves: Maybe they just aren’t asking for raises.</td>\n",
       "    </tr>\n",
       "    <tr>\n",
       "      <th>...</th>\n",
       "      <td>...</td>\n",
       "      <td>...</td>\n",
       "    </tr>\n",
       "    <tr>\n",
       "      <th>2021-08-17</th>\n",
       "      <td>News of Xu Jiayin’s departure sent Evergrande’s shares tumbling and was another sign of Beijing’s efforts to rein in corporate debt.</td>\n",
       "      <td>The billionaire founder of Evergrande, China’s most indebted property developer, has stepped down from his position as chairman of the company’s main real estate arm, Hengda Real Estate Group, according to a notice filed to a government website on Tuesday.</td>\n",
       "    </tr>\n",
       "    <tr>\n",
       "      <th>2021-08-17</th>\n",
       "      <td>The 1.1 percent decline was sharper than economists had expected and came as sales of cars and home goods dropped.</td>\n",
       "      <td>Retail sales dropped in July, the Commerce Department reported Tuesday, a sign that consumer spending was hampered amid an uneven economic recovery from pandemic-induced restrictions.</td>\n",
       "    </tr>\n",
       "    <tr>\n",
       "      <th>2021-08-17</th>\n",
       "      <td>Jerome H. Powell’s term as chair of the Federal Reserve ends in February. Slots for the vice chair and the Fed’s top bank regulator will also be up for grabs soon, and a position on the Fed’s Board of Governors is already vacant.</td>\n",
       "      <td>Jerome H. Powell’s term as chair of the Federal Reserve ends in February. Slots for the vice chair and the Fed’s top bank regulator will also be up for grabs soon, and a position on the Fed’s Board of Governors is already vacant.</td>\n",
       "    </tr>\n",
       "    <tr>\n",
       "      <th>2021-08-17</th>\n",
       "      <td>A 2019 crash in Florida highlights how gaps in Tesla’s driver-assistance system and distractions can have tragic consequences.</td>\n",
       "      <td>George Brian McGee, a finance executive in Florida, was driving home in a Tesla Model S operating on Autopilot, a system that can steer, brake and accelerate a car on its own, when he dropped his phone during a call and bent down to look for it.</td>\n",
       "    </tr>\n",
       "    <tr>\n",
       "      <th>2021-08-17</th>\n",
       "      <td>After performing poorly in a stress test, Monte dei Paschi di Siena, founded in 1472, could be swallowed by UniCredit.</td>\n",
       "      <td>SIENA, Italy — Last month Banca Monte dei Paschi di Siena, the world’s oldest bank, acquired another distinction: Europe’s weakest lender.</td>\n",
       "    </tr>\n",
       "  </tbody>\n",
       "</table>\n",
       "<p>19397 rows × 2 columns</p>\n",
       "</div>"
      ],
      "text/plain": [
       "                                                                                                                                                                                                                                         abstract  \\\n",
       "date                                                                                                                                                                                                                                                \n",
       "2016-09-06                                                                                                     Pershing Square takes a 9.9 percent stake, making it the second-largest holder after Fidelity. Shares rose in after-hours trading.   \n",
       "2016-09-06                                                                                      Shareholders can be finicky and opaque, but the Tesla-SolarCity deal shows the importance of having all buyers of significant assets hold a vote.   \n",
       "2016-09-06                                                                                   Delegates at symposium on economic crime in Cambridge, Mass., sought solutions for fighting crimes like money laundering, fraud and insider trading.   \n",
       "2016-09-06                                                                                                                                                                           Recent commercial real estate transactions in New York City.   \n",
       "2016-09-06                                                           A study of Australian women points to discrimination as a cause of a pay gap, with men getting raises 20 percent of the time they asked, compared with 16 percent for women.   \n",
       "...                                                                                                                                                                                                                                           ...   \n",
       "2021-08-17                                                                                                   News of Xu Jiayin’s departure sent Evergrande’s shares tumbling and was another sign of Beijing’s efforts to rein in corporate debt.   \n",
       "2021-08-17                                                                                                                     The 1.1 percent decline was sharper than economists had expected and came as sales of cars and home goods dropped.   \n",
       "2021-08-17  Jerome H. Powell’s term as chair of the Federal Reserve ends in February. Slots for the vice chair and the Fed’s top bank regulator will also be up for grabs soon, and a position on the Fed’s Board of Governors is already vacant.   \n",
       "2021-08-17                                                                                                         A 2019 crash in Florida highlights how gaps in Tesla’s driver-assistance system and distractions can have tragic consequences.   \n",
       "2021-08-17                                                                                                                 After performing poorly in a stress test, Monte dei Paschi di Siena, founded in 1472, could be swallowed by UniCredit.   \n",
       "\n",
       "                                                                                                                                                                                                                                                                                 lead_paragraph  \n",
       "date                                                                                                                                                                                                                                                                                             \n",
       "2016-09-06                                                                                                                                                                                                                                       William A. Ackman has a craving for fast food.  \n",
       "2016-09-06  Tesla Motors’ proposed acquisition of SolarCity is most likely to come down to whether shareholders support Elon Musk in his vision of creating a solar power juggernaut. Yet the deal also raises broader issues of how and when shareholders should vote to approve acquisitions.  \n",
       "2016-09-06                               CAMBRIDGE, England — The record of combating economic crime is so woeful that governments need a new approach. That was the view of many at a gathering of about 1,600 delegates from academia and the legal and compliance profession here on Monday.  \n",
       "2016-09-06                                                                                                                                                                                                                                                                       $11.57 MILLION  \n",
       "2016-09-06                                                                                                                                          One common theory to explain the pay gap between men and women assigns blame to women themselves: Maybe they just aren’t asking for raises.  \n",
       "...                                                                                                                                                                                                                                                                                         ...  \n",
       "2021-08-17                     The billionaire founder of Evergrande, China’s most indebted property developer, has stepped down from his position as chairman of the company’s main real estate arm, Hengda Real Estate Group, according to a notice filed to a government website on Tuesday.  \n",
       "2021-08-17                                                                                              Retail sales dropped in July, the Commerce Department reported Tuesday, a sign that consumer spending was hampered amid an uneven economic recovery from pandemic-induced restrictions.  \n",
       "2021-08-17                                                Jerome H. Powell’s term as chair of the Federal Reserve ends in February. Slots for the vice chair and the Fed’s top bank regulator will also be up for grabs soon, and a position on the Fed’s Board of Governors is already vacant.  \n",
       "2021-08-17                                George Brian McGee, a finance executive in Florida, was driving home in a Tesla Model S operating on Autopilot, a system that can steer, brake and accelerate a car on its own, when he dropped his phone during a call and bent down to look for it.  \n",
       "2021-08-17                                                                                                                                           SIENA, Italy — Last month Banca Monte dei Paschi di Siena, the world’s oldest bank, acquired another distinction: Europe’s weakest lender.  \n",
       "\n",
       "[19397 rows x 2 columns]"
      ]
     },
     "execution_count": 52,
     "metadata": {},
     "output_type": "execute_result"
    }
   ],
   "source": [
    "# see if abstract and lead_paragraph provide same information.\n",
    "data[['abstract','lead_paragraph']]"
   ]
  },
  {
   "cell_type": "markdown",
   "id": "521a63f9-fa92-48ad-bcbc-4d0666393156",
   "metadata": {},
   "source": [
    "Looks like lead paragraph provide different information about the same thing. This will give us more relevent text to work. \n",
    "\n",
    "We can consider combining the two relevent text fields into a single column for simplicity.  "
   ]
  },
  {
   "cell_type": "code",
   "execution_count": 53,
   "id": "11c2722f-971a-4f16-af63-ac0f778a2bbd",
   "metadata": {
    "execution": {
     "iopub.execute_input": "2021-08-23T05:51:18.436340Z",
     "iopub.status.busy": "2021-08-23T05:51:18.436175Z",
     "iopub.status.idle": "2021-08-23T05:51:18.474491Z",
     "shell.execute_reply": "2021-08-23T05:51:18.473671Z",
     "shell.execute_reply.started": "2021-08-23T05:51:18.436323Z"
    },
    "tags": []
   },
   "outputs": [],
   "source": [
    "data['text']= data['abstract']+ data['lead_paragraph']"
   ]
  },
  {
   "cell_type": "code",
   "execution_count": 54,
   "id": "93c8a406-fdce-4739-9398-dca6b09f89e7",
   "metadata": {
    "execution": {
     "iopub.execute_input": "2021-08-23T05:51:18.475522Z",
     "iopub.status.busy": "2021-08-23T05:51:18.475365Z",
     "iopub.status.idle": "2021-08-23T05:51:18.491597Z",
     "shell.execute_reply": "2021-08-23T05:51:18.490689Z",
     "shell.execute_reply.started": "2021-08-23T05:51:18.475504Z"
    },
    "tags": []
   },
   "outputs": [],
   "source": [
    "# drop abstract and lead_paragraph \n",
    "data.drop(columns=['abstract','lead_paragraph'],inplace=True)"
   ]
  },
  {
   "cell_type": "markdown",
   "id": "3323dfd0-1310-491e-8ebf-3b637f7fcc05",
   "metadata": {},
   "source": [
    "As a human reading the first text field does not provide me enough information to know what is happening. If we can get keywords into the same text field it should give it much more meaning. "
   ]
  },
  {
   "cell_type": "code",
   "execution_count": null,
   "id": "da91debe-cbc9-4bf3-bc46-798d70902b54",
   "metadata": {},
   "outputs": [],
   "source": []
  },
  {
   "cell_type": "markdown",
   "id": "e63d44e7-16e6-42f0-bc1a-02029d1b58c8",
   "metadata": {},
   "source": [
    "## keywords"
   ]
  },
  {
   "cell_type": "code",
   "execution_count": 55,
   "id": "360b5066-56d9-4fa5-be2f-6106d4ddfa53",
   "metadata": {
    "execution": {
     "iopub.execute_input": "2021-08-23T05:51:18.492615Z",
     "iopub.status.busy": "2021-08-23T05:51:18.492466Z",
     "iopub.status.idle": "2021-08-23T05:51:18.511220Z",
     "shell.execute_reply": "2021-08-23T05:51:18.510633Z",
     "shell.execute_reply.started": "2021-08-23T05:51:18.492599Z"
    },
    "tags": []
   },
   "outputs": [
    {
     "data": {
      "text/plain": [
       "18372"
      ]
     },
     "execution_count": 55,
     "metadata": {},
     "output_type": "execute_result"
    }
   ],
   "source": [
    "# unique entries for keywords \n",
    "len(data['keywords'].value_counts())"
   ]
  },
  {
   "cell_type": "code",
   "execution_count": 56,
   "id": "a8f2bad8-7da6-41f6-949f-b4df0be3038a",
   "metadata": {
    "execution": {
     "iopub.execute_input": "2021-08-23T05:51:18.512042Z",
     "iopub.status.busy": "2021-08-23T05:51:18.511916Z",
     "iopub.status.idle": "2021-08-23T05:51:18.517431Z",
     "shell.execute_reply": "2021-08-23T05:51:18.516646Z",
     "shell.execute_reply.started": "2021-08-23T05:51:18.512026Z"
    },
    "tags": []
   },
   "outputs": [
    {
     "data": {
      "text/plain": [
       "\"[{'name': 'persons', 'value': 'Ackman, William A', 'rank': 2, 'major': 'N'}, {'name': 'organizations', 'value': 'Chipotle Mexican Grill Inc', 'rank': 3, 'major': 'N'}, {'name': 'subject', 'value': 'Fast Food Industry', 'rank': 4, 'major': 'N'}, {'name': 'organizations', 'value': 'Pershing Square Holdings', 'rank': 5, 'major': 'N'}]\""
      ]
     },
     "execution_count": 56,
     "metadata": {},
     "output_type": "execute_result"
    }
   ],
   "source": [
    "data['keywords'][0]"
   ]
  },
  {
   "cell_type": "code",
   "execution_count": 57,
   "id": "950b5e89-7a20-4d54-b3d7-e44ef647e536",
   "metadata": {
    "execution": {
     "iopub.execute_input": "2021-08-23T05:51:18.518338Z",
     "iopub.status.busy": "2021-08-23T05:51:18.518188Z",
     "iopub.status.idle": "2021-08-23T05:51:18.523294Z",
     "shell.execute_reply": "2021-08-23T05:51:18.522631Z",
     "shell.execute_reply.started": "2021-08-23T05:51:18.518321Z"
    }
   },
   "outputs": [
    {
     "data": {
      "text/plain": [
       "['[',\n",
       " \"'name': 'persons', 'value': 'Ackman, William A', 'rank': 2, 'major': 'N'}, \",\n",
       " \"'name': 'organizations', 'value': 'Chipotle Mexican Grill Inc', 'rank': 3, 'major': 'N'}, \",\n",
       " \"'name': 'subject', 'value': 'Fast Food Industry', 'rank': 4, 'major': 'N'}, \",\n",
       " \"'name': 'organizations', 'value': 'Pershing Square Holdings', 'rank': 5, 'major': 'N'}]\"]"
      ]
     },
     "execution_count": 57,
     "metadata": {},
     "output_type": "execute_result"
    }
   ],
   "source": [
    "#split using { start of dictionary \n",
    "data['keywords'][0].split(\"{\")"
   ]
  },
  {
   "cell_type": "code",
   "execution_count": 58,
   "id": "82515802-715d-4817-9624-b9cc873b292d",
   "metadata": {
    "execution": {
     "iopub.execute_input": "2021-08-23T05:51:18.524145Z",
     "iopub.status.busy": "2021-08-23T05:51:18.523999Z",
     "iopub.status.idle": "2021-08-23T05:51:18.528184Z",
     "shell.execute_reply": "2021-08-23T05:51:18.527619Z",
     "shell.execute_reply.started": "2021-08-23T05:51:18.524129Z"
    }
   },
   "outputs": [
    {
     "data": {
      "text/plain": [
       "[\"'name': 'persons', 'value': 'Ackman, William A', 'rank': 2, 'major': 'N'}, \",\n",
       " \"'name': 'organizations', 'value': 'Chipotle Mexican Grill Inc', 'rank': 3, 'major': 'N'}, \",\n",
       " \"'name': 'subject', 'value': 'Fast Food Industry', 'rank': 4, 'major': 'N'}, \",\n",
       " \"'name': 'organizations', 'value': 'Pershing Square Holdings', 'rank': 5, 'major': 'N'}]\"]"
      ]
     },
     "execution_count": 58,
     "metadata": {},
     "output_type": "execute_result"
    }
   ],
   "source": [
    "# ignore first entry in list cause not keyword \n",
    "data['keywords'][0].split(\"{\")[1:]"
   ]
  },
  {
   "cell_type": "code",
   "execution_count": 59,
   "id": "8d51dedb-4361-4ca7-800a-c5ee05aece0e",
   "metadata": {
    "execution": {
     "iopub.execute_input": "2021-08-23T05:51:18.528934Z",
     "iopub.status.busy": "2021-08-23T05:51:18.528812Z",
     "iopub.status.idle": "2021-08-23T05:51:18.533416Z",
     "shell.execute_reply": "2021-08-23T05:51:18.532657Z",
     "shell.execute_reply.started": "2021-08-23T05:51:18.528920Z"
    }
   },
   "outputs": [
    {
     "data": {
      "text/plain": [
       "\"'name': 'persons', 'value': 'Ackman, William A', 'rank': 2, 'major': 'N'}, \""
      ]
     },
     "execution_count": 59,
     "metadata": {},
     "output_type": "execute_result"
    }
   ],
   "source": [
    "# first entry in list \n",
    "data['keywords'][0].split(\"{\")[1:][0]"
   ]
  },
  {
   "cell_type": "code",
   "execution_count": 60,
   "id": "4ff4ceb7-935c-4ea7-a70c-5ac52327e681",
   "metadata": {
    "execution": {
     "iopub.execute_input": "2021-08-23T05:51:18.534265Z",
     "iopub.status.busy": "2021-08-23T05:51:18.534112Z",
     "iopub.status.idle": "2021-08-23T05:51:18.539277Z",
     "shell.execute_reply": "2021-08-23T05:51:18.538655Z",
     "shell.execute_reply.started": "2021-08-23T05:51:18.534248Z"
    },
    "tags": []
   },
   "outputs": [
    {
     "data": {
      "text/plain": [
       "[\"'name': 'persons'\",\n",
       " \" 'value': 'Ackman\",\n",
       " \" William A'\",\n",
       " \" 'rank': 2\",\n",
       " \" 'major': 'N'}\",\n",
       " ' ']"
      ]
     },
     "execution_count": 60,
     "metadata": {},
     "output_type": "execute_result"
    }
   ],
   "source": [
    "data['keywords'][0].split(\"{\")[1:][0].split(\",\")"
   ]
  },
  {
   "cell_type": "code",
   "execution_count": 61,
   "id": "ba662942-3925-42a1-81db-26155ea0e74e",
   "metadata": {
    "execution": {
     "iopub.execute_input": "2021-08-23T05:51:18.540138Z",
     "iopub.status.busy": "2021-08-23T05:51:18.540003Z",
     "iopub.status.idle": "2021-08-23T05:51:18.543397Z",
     "shell.execute_reply": "2021-08-23T05:51:18.542738Z",
     "shell.execute_reply.started": "2021-08-23T05:51:18.540122Z"
    },
    "tags": []
   },
   "outputs": [],
   "source": [
    "# 2nd method \n",
    "# referenced https://stackoverflow.com/questions/988228/convert-a-string-representation-of-a-dictionary-to-a-dictionary\n",
    "import ast"
   ]
  },
  {
   "cell_type": "code",
   "execution_count": 62,
   "id": "d0144b8e-2991-4d3b-8f5b-b0281fc14baf",
   "metadata": {
    "execution": {
     "iopub.execute_input": "2021-08-23T05:51:18.544216Z",
     "iopub.status.busy": "2021-08-23T05:51:18.544087Z",
     "iopub.status.idle": "2021-08-23T05:51:18.549234Z",
     "shell.execute_reply": "2021-08-23T05:51:18.548639Z",
     "shell.execute_reply.started": "2021-08-23T05:51:18.544200Z"
    },
    "tags": []
   },
   "outputs": [
    {
     "data": {
      "text/plain": [
       "[{'name': 'persons', 'value': 'Ackman, William A', 'rank': 2, 'major': 'N'},\n",
       " {'name': 'organizations',\n",
       "  'value': 'Chipotle Mexican Grill Inc',\n",
       "  'rank': 3,\n",
       "  'major': 'N'},\n",
       " {'name': 'subject', 'value': 'Fast Food Industry', 'rank': 4, 'major': 'N'},\n",
       " {'name': 'organizations',\n",
       "  'value': 'Pershing Square Holdings',\n",
       "  'rank': 5,\n",
       "  'major': 'N'}]"
      ]
     },
     "execution_count": 62,
     "metadata": {},
     "output_type": "execute_result"
    }
   ],
   "source": [
    "values_list = ast.literal_eval(\"[{'name': 'persons', 'value': 'Ackman, William A', 'rank': 2, 'major': 'N'}, {'name': 'organizations', 'value': 'Chipotle Mexican Grill Inc', 'rank': 3, 'major': 'N'}, {'name': 'subject', 'value': 'Fast Food Industry', 'rank': 4, 'major': 'N'}, {'name': 'organizations', 'value': 'Pershing Square Holdings', 'rank': 5, 'major': 'N'}]\")\n",
    "values_list"
   ]
  },
  {
   "cell_type": "code",
   "execution_count": 63,
   "id": "328020cc-ade6-49dd-bc4b-72453787d0f3",
   "metadata": {
    "execution": {
     "iopub.execute_input": "2021-08-23T05:51:18.550127Z",
     "iopub.status.busy": "2021-08-23T05:51:18.549965Z",
     "iopub.status.idle": "2021-08-23T05:51:18.554275Z",
     "shell.execute_reply": "2021-08-23T05:51:18.553649Z",
     "shell.execute_reply.started": "2021-08-23T05:51:18.550110Z"
    },
    "tags": []
   },
   "outputs": [
    {
     "name": "stdout",
     "output_type": "stream",
     "text": [
      "Ackman, William A\n",
      "Chipotle Mexican Grill Inc\n",
      "Fast Food Industry\n",
      "Pershing Square Holdings\n"
     ]
    }
   ],
   "source": [
    "for value in values_list: \n",
    "    print(value['value'])"
   ]
  },
  {
   "cell_type": "code",
   "execution_count": 64,
   "id": "1d4df214-178e-4761-b063-c8eb61560fed",
   "metadata": {
    "execution": {
     "iopub.execute_input": "2021-08-23T05:51:18.555033Z",
     "iopub.status.busy": "2021-08-23T05:51:18.554909Z",
     "iopub.status.idle": "2021-08-23T05:51:18.558383Z",
     "shell.execute_reply": "2021-08-23T05:51:18.557626Z",
     "shell.execute_reply.started": "2021-08-23T05:51:18.555018Z"
    },
    "tags": []
   },
   "outputs": [],
   "source": [
    "# helper function \n",
    "def grab_keywords(entry):\n",
    "    'returns keywords as string from keyword entry for an article'\n",
    "    result= ''\n",
    "    entry_list= ast.literal_eval(entry)\n",
    "    for value in entry_list:\n",
    "        result += value['value'] + ' '\n",
    "    return result.strip()\n",
    "    "
   ]
  },
  {
   "cell_type": "code",
   "execution_count": 65,
   "id": "bcfca290-acc3-49c7-ba34-f36900780ec2",
   "metadata": {
    "execution": {
     "iopub.execute_input": "2021-08-23T05:51:18.559376Z",
     "iopub.status.busy": "2021-08-23T05:51:18.559234Z",
     "iopub.status.idle": "2021-08-23T05:51:18.564377Z",
     "shell.execute_reply": "2021-08-23T05:51:18.563660Z",
     "shell.execute_reply.started": "2021-08-23T05:51:18.559359Z"
    },
    "tags": []
   },
   "outputs": [
    {
     "data": {
      "text/plain": [
       "'Ackman, William A Chipotle Mexican Grill Inc Fast Food Industry Pershing Square Holdings'"
      ]
     },
     "execution_count": 65,
     "metadata": {},
     "output_type": "execute_result"
    }
   ],
   "source": [
    "# test that the function works \n",
    "grab_keywords(data['keywords'][0])"
   ]
  },
  {
   "cell_type": "code",
   "execution_count": 66,
   "id": "c1fea0e2-093d-4433-afa1-0a4bdf4707a3",
   "metadata": {
    "execution": {
     "iopub.execute_input": "2021-08-23T05:51:18.565232Z",
     "iopub.status.busy": "2021-08-23T05:51:18.565104Z",
     "iopub.status.idle": "2021-08-23T05:51:20.010876Z",
     "shell.execute_reply": "2021-08-23T05:51:20.010036Z",
     "shell.execute_reply.started": "2021-08-23T05:51:18.565214Z"
    },
    "tags": []
   },
   "outputs": [],
   "source": [
    "# make new column for topics using info from keywords \n",
    "data['topics']= data['keywords'].apply(grab_keywords)"
   ]
  },
  {
   "cell_type": "code",
   "execution_count": 67,
   "id": "a00ae340-aa99-4f25-ae04-0a3987aaebda",
   "metadata": {
    "execution": {
     "iopub.execute_input": "2021-08-23T05:51:20.012079Z",
     "iopub.status.busy": "2021-08-23T05:51:20.011885Z",
     "iopub.status.idle": "2021-08-23T05:51:20.024748Z",
     "shell.execute_reply": "2021-08-23T05:51:20.023988Z",
     "shell.execute_reply.started": "2021-08-23T05:51:20.012062Z"
    }
   },
   "outputs": [],
   "source": [
    "# drop keyword column\n",
    "data.drop(columns='keywords',inplace=True)"
   ]
  },
  {
   "cell_type": "markdown",
   "id": "d1316dfe-f036-4245-809d-2abd428b9746",
   "metadata": {
    "execution": {
     "iopub.execute_input": "2021-08-23T01:07:34.653168Z",
     "iopub.status.busy": "2021-08-23T01:07:34.652755Z",
     "iopub.status.idle": "2021-08-23T01:07:34.658604Z",
     "shell.execute_reply": "2021-08-23T01:07:34.658000Z",
     "shell.execute_reply.started": "2021-08-23T01:07:34.653127Z"
    }
   },
   "source": [
    "QUESTION: Should we add topics to the text column or keep it seperate?\n",
    "    - If we add it then it makes the text column less like actual sentences. May make it harder for model to understand? May it eaiser for model to understand? \n",
    "    "
   ]
  },
  {
   "cell_type": "markdown",
   "id": "d8e71e6f-a4a8-4d85-b6b0-897e23b8d2b6",
   "metadata": {},
   "source": [
    "## headline "
   ]
  },
  {
   "cell_type": "code",
   "execution_count": 68,
   "id": "cf16db59-c6a8-4a81-a7ab-d9a81a52c5f2",
   "metadata": {
    "execution": {
     "iopub.execute_input": "2021-08-23T05:51:20.025809Z",
     "iopub.status.busy": "2021-08-23T05:51:20.025665Z",
     "iopub.status.idle": "2021-08-23T05:51:20.031526Z",
     "shell.execute_reply": "2021-08-23T05:51:20.030970Z",
     "shell.execute_reply.started": "2021-08-23T05:51:20.025792Z"
    },
    "tags": []
   },
   "outputs": [
    {
     "data": {
      "text/plain": [
       "date\n",
       "2016-09-06     {'main': 'William Ackman’s Pershing Square Takes a Stake in Chipotle', 'kicker': None, 'content_kicker': None, 'print_headline': 'Pershing Square Capital Takes a Stake in Chipotle', 'name': None, 'seo': None, 'sub': None}\n",
       "2016-09-06    {'main': 'Elon Musk’s Solar Vision, Up for a Dicey Vote', 'kicker': 'Deal Professor', 'content_kicker': None, 'print_headline': 'An Entrepreneur’s Solar Vision, Up for a Dicey Vote', 'name': None, 'seo': None, 'sub': None}\n",
       "2016-09-06                                                       {'main': 'Law Enforcement ‘Not Winning’ War on White-Collar Crime', 'kicker': None, 'content_kicker': None, 'print_headline': None, 'name': None, 'seo': None, 'sub': None}\n",
       "2016-09-06                                                          {'main': 'Recent Commercial Real Estate Transactions', 'kicker': None, 'content_kicker': None, 'print_headline': 'Transactions', 'name': None, 'seo': None, 'sub': None}\n",
       "2016-09-06                                          {'main': 'Research Suggests Women Are Asking for Raises, but Men Get Them More', 'kicker': None, 'content_kicker': None, 'print_headline': None, 'name': None, 'seo': None, 'sub': None}\n",
       "Name: headline, dtype: object"
      ]
     },
     "execution_count": 68,
     "metadata": {},
     "output_type": "execute_result"
    }
   ],
   "source": [
    "data['headline'].head()"
   ]
  },
  {
   "cell_type": "markdown",
   "id": "d86a4d93-90d0-4d23-9c4a-2e22b022fb32",
   "metadata": {},
   "source": [
    "Extract main since print headline will only exist if it was printed? \n"
   ]
  },
  {
   "cell_type": "code",
   "execution_count": 69,
   "id": "76df12f1-81eb-46f8-8302-1fba38317920",
   "metadata": {
    "execution": {
     "iopub.execute_input": "2021-08-23T05:51:20.032319Z",
     "iopub.status.busy": "2021-08-23T05:51:20.032191Z",
     "iopub.status.idle": "2021-08-23T05:51:20.037656Z",
     "shell.execute_reply": "2021-08-23T05:51:20.036977Z",
     "shell.execute_reply.started": "2021-08-23T05:51:20.032303Z"
    }
   },
   "outputs": [
    {
     "data": {
      "text/plain": [
       "\"{'main': 'William Ackman’s Pershing Square Takes a Stake in Chipotle', 'kicker': None, 'content_kicker': None, 'print_headline': 'Pershing Square Capital Takes a Stake in Chipotle', 'name': None, 'seo': None, 'sub': None}\""
      ]
     },
     "execution_count": 69,
     "metadata": {},
     "output_type": "execute_result"
    }
   ],
   "source": [
    "data['headline'][0]"
   ]
  },
  {
   "cell_type": "code",
   "execution_count": 70,
   "id": "355d88b7-38a9-4af5-986e-1eff55623c0e",
   "metadata": {
    "execution": {
     "iopub.execute_input": "2021-08-23T05:51:20.038424Z",
     "iopub.status.busy": "2021-08-23T05:51:20.038295Z",
     "iopub.status.idle": "2021-08-23T05:51:20.043667Z",
     "shell.execute_reply": "2021-08-23T05:51:20.042983Z",
     "shell.execute_reply.started": "2021-08-23T05:51:20.038405Z"
    },
    "tags": []
   },
   "outputs": [
    {
     "data": {
      "text/plain": [
       "{'main': 'William Ackman’s Pershing Square Takes a Stake in Chipotle',\n",
       " 'kicker': None,\n",
       " 'content_kicker': None,\n",
       " 'print_headline': 'Pershing Square Capital Takes a Stake in Chipotle',\n",
       " 'name': None,\n",
       " 'seo': None,\n",
       " 'sub': None}"
      ]
     },
     "execution_count": 70,
     "metadata": {},
     "output_type": "execute_result"
    }
   ],
   "source": [
    "ast.literal_eval(data['headline'][0])# ['main']"
   ]
  },
  {
   "cell_type": "code",
   "execution_count": 71,
   "id": "f81b04a8-4183-4284-bdb3-6446d7a9c343",
   "metadata": {
    "execution": {
     "iopub.execute_input": "2021-08-23T05:51:20.044489Z",
     "iopub.status.busy": "2021-08-23T05:51:20.044373Z",
     "iopub.status.idle": "2021-08-23T05:51:20.048784Z",
     "shell.execute_reply": "2021-08-23T05:51:20.048019Z",
     "shell.execute_reply.started": "2021-08-23T05:51:20.044474Z"
    }
   },
   "outputs": [],
   "source": [
    "# helper function \n",
    "def grab_headline(entry):\n",
    "    'returns main headline from headline column for a single entry'\n",
    "    return ast.literal_eval(entry)['main']\n",
    "\n",
    "     "
   ]
  },
  {
   "cell_type": "code",
   "execution_count": 72,
   "id": "e3f3cc0d-7dbe-42a2-8e64-87716db9312e",
   "metadata": {
    "execution": {
     "iopub.execute_input": "2021-08-23T05:51:20.049588Z",
     "iopub.status.busy": "2021-08-23T05:51:20.049457Z",
     "iopub.status.idle": "2021-08-23T05:51:20.054859Z",
     "shell.execute_reply": "2021-08-23T05:51:20.054060Z",
     "shell.execute_reply.started": "2021-08-23T05:51:20.049572Z"
    },
    "tags": []
   },
   "outputs": [
    {
     "data": {
      "text/plain": [
       "'William Ackman’s Pershing Square Takes a Stake in Chipotle'"
      ]
     },
     "execution_count": 72,
     "metadata": {},
     "output_type": "execute_result"
    }
   ],
   "source": [
    "# test that the function works \n",
    "grab_headline(data['headline'][0])"
   ]
  },
  {
   "cell_type": "code",
   "execution_count": 73,
   "id": "3d7e3da5-eee0-4e20-9986-1ff0f594da37",
   "metadata": {
    "execution": {
     "iopub.execute_input": "2021-08-23T05:51:20.055814Z",
     "iopub.status.busy": "2021-08-23T05:51:20.055677Z",
     "iopub.status.idle": "2021-08-23T05:51:20.483598Z",
     "shell.execute_reply": "2021-08-23T05:51:20.482707Z",
     "shell.execute_reply.started": "2021-08-23T05:51:20.055797Z"
    },
    "tags": []
   },
   "outputs": [],
   "source": [
    "# grab headline for each entry in sample \n",
    "data['headline']= data['headline'].apply(grab_headline)"
   ]
  },
  {
   "cell_type": "code",
   "execution_count": null,
   "id": "3b8c9115-91bd-4b5e-98d4-6ea6af4fd97c",
   "metadata": {},
   "outputs": [],
   "source": []
  },
  {
   "cell_type": "code",
   "execution_count": 74,
   "id": "e3c11cd2-eea4-40ae-9d31-2b97463b64f5",
   "metadata": {
    "execution": {
     "iopub.execute_input": "2021-08-23T05:51:20.484584Z",
     "iopub.status.busy": "2021-08-23T05:51:20.484444Z",
     "iopub.status.idle": "2021-08-23T05:51:20.518465Z",
     "shell.execute_reply": "2021-08-23T05:51:20.517748Z",
     "shell.execute_reply.started": "2021-08-23T05:51:20.484567Z"
    },
    "tags": []
   },
   "outputs": [],
   "source": [
    "# add headline to front of text column for each observation \n",
    "data['text']= data['headline'] +\". \"+ data['text']"
   ]
  },
  {
   "cell_type": "code",
   "execution_count": 75,
   "id": "22b1eb0b-bc40-42f3-9f7b-330a9b868330",
   "metadata": {
    "execution": {
     "iopub.execute_input": "2021-08-23T05:51:20.519367Z",
     "iopub.status.busy": "2021-08-23T05:51:20.519231Z",
     "iopub.status.idle": "2021-08-23T05:51:20.525427Z",
     "shell.execute_reply": "2021-08-23T05:51:20.524722Z",
     "shell.execute_reply.started": "2021-08-23T05:51:20.519350Z"
    },
    "tags": []
   },
   "outputs": [],
   "source": [
    "# drop headline column \n",
    "data.drop(columns='headline',inplace=True)"
   ]
  },
  {
   "cell_type": "markdown",
   "id": "715f1f78-d512-4d4a-ba5a-0ff5da1a11cf",
   "metadata": {},
   "source": [
    "## S&P 500 "
   ]
  },
  {
   "cell_type": "code",
   "execution_count": 76,
   "id": "1af2f180-bd27-41d3-a82a-45a96acef316",
   "metadata": {
    "execution": {
     "iopub.execute_input": "2021-08-23T05:51:20.526289Z",
     "iopub.status.busy": "2021-08-23T05:51:20.526153Z",
     "iopub.status.idle": "2021-08-23T05:51:20.530424Z",
     "shell.execute_reply": "2021-08-23T05:51:20.529724Z",
     "shell.execute_reply.started": "2021-08-23T05:51:20.526273Z"
    },
    "tags": []
   },
   "outputs": [],
   "source": [
    "data.rename(columns={'S&P 500':'sp500'},inplace=True)"
   ]
  },
  {
   "cell_type": "code",
   "execution_count": 77,
   "id": "2de0d9df-8b8e-4607-af71-823c6cb8b100",
   "metadata": {
    "execution": {
     "iopub.execute_input": "2021-08-23T05:51:20.531241Z",
     "iopub.status.busy": "2021-08-23T05:51:20.531116Z",
     "iopub.status.idle": "2021-08-23T05:51:20.680586Z",
     "shell.execute_reply": "2021-08-23T05:51:20.679771Z",
     "shell.execute_reply.started": "2021-08-23T05:51:20.531225Z"
    },
    "tags": []
   },
   "outputs": [
    {
     "data": {
      "image/png": "[encoded data removed]",
      "text/plain": [
       "<Figure size 432x288 with 1 Axes>"
      ]
     },
     "metadata": {
      "needs_background": "light"
     },
     "output_type": "display_data"
    }
   ],
   "source": [
    "# sp500 over time in sample set\n",
    "sns.scatterplot(x=data.index,y=data.sp500);\n",
    "plt.title('S&P 500 Price');\n"
   ]
  },
  {
   "cell_type": "markdown",
   "id": "f617a9d9-53d6-4914-a65a-673c43b35ee8",
   "metadata": {},
   "source": [
    "- What to do with sp500?\n",
    "    - keep as is? \n",
    "    - change to binary (0 went down, 1 went up) \n",
    "    - change to delta from previous day? \n",
    "    \n",
    "- Need to deal with missing values     "
   ]
  },
  {
   "cell_type": "markdown",
   "id": "9974818c-684e-4a1c-a239-686d6d4aac8e",
   "metadata": {},
   "source": [
    "###  impute nulls"
   ]
  },
  {
   "cell_type": "code",
   "execution_count": 78,
   "id": "22b6c870-e196-4b28-a542-cc680c0135f2",
   "metadata": {
    "execution": {
     "iopub.execute_input": "2021-08-23T05:51:20.681455Z",
     "iopub.status.busy": "2021-08-23T05:51:20.681325Z",
     "iopub.status.idle": "2021-08-23T05:51:20.686451Z",
     "shell.execute_reply": "2021-08-23T05:51:20.685738Z",
     "shell.execute_reply.started": "2021-08-23T05:51:20.681438Z"
    },
    "tags": []
   },
   "outputs": [
    {
     "data": {
      "text/plain": [
       "2237"
      ]
     },
     "execution_count": 78,
     "metadata": {},
     "output_type": "execute_result"
    }
   ],
   "source": [
    "data['sp500'].isnull().sum()"
   ]
  },
  {
   "cell_type": "markdown",
   "id": "5776020b-ebca-45d5-9915-d699cb2ac4a1",
   "metadata": {},
   "source": [
    "we wont have data for weekends or holidays (days when market is closed) so impute price from previous day! "
   ]
  },
  {
   "cell_type": "code",
   "execution_count": 79,
   "id": "3095160e-acf4-4395-bfab-a64d00af3ff8",
   "metadata": {
    "execution": {
     "iopub.execute_input": "2021-08-23T05:51:20.689858Z",
     "iopub.status.busy": "2021-08-23T05:51:20.689711Z",
     "iopub.status.idle": "2021-08-23T05:51:20.695461Z",
     "shell.execute_reply": "2021-08-23T05:51:20.694782Z",
     "shell.execute_reply.started": "2021-08-23T05:51:20.689842Z"
    }
   },
   "outputs": [],
   "source": [
    "# fill nulls with dummy value \n",
    "data['sp500'].fillna('replace',inplace=True) "
   ]
  },
  {
   "cell_type": "code",
   "execution_count": 80,
   "id": "0d367bc0-0168-4228-9a14-d4bae6dc6d4e",
   "metadata": {
    "execution": {
     "iopub.execute_input": "2021-08-23T05:51:20.696591Z",
     "iopub.status.busy": "2021-08-23T05:51:20.696457Z",
     "iopub.status.idle": "2021-08-23T05:51:20.701474Z",
     "shell.execute_reply": "2021-08-23T05:51:20.700764Z",
     "shell.execute_reply.started": "2021-08-23T05:51:20.696575Z"
    }
   },
   "outputs": [
    {
     "data": {
      "text/plain": [
       "Index([2016-09-06, 2016-09-06, 2016-09-06, 2016-09-06, 2016-09-06, 2016-09-06,\n",
       "       2016-09-06, 2016-09-06, 2016-09-06, 2016-09-06,\n",
       "       ...\n",
       "       2021-08-17, 2021-08-17, 2021-08-17, 2021-08-17, 2021-08-17, 2021-08-17,\n",
       "       2021-08-17, 2021-08-17, 2021-08-17, 2021-08-17],\n",
       "      dtype='object', name='date', length=19397)"
      ]
     },
     "execution_count": 80,
     "metadata": {},
     "output_type": "execute_result"
    }
   ],
   "source": [
    "data.index"
   ]
  },
  {
   "cell_type": "code",
   "execution_count": 81,
   "id": "fd9fbdae-6277-428e-bd5a-ccbb9b4b2f78",
   "metadata": {
    "execution": {
     "iopub.execute_input": "2021-08-23T05:51:20.702314Z",
     "iopub.status.busy": "2021-08-23T05:51:20.702176Z",
     "iopub.status.idle": "2021-08-23T05:51:20.707463Z",
     "shell.execute_reply": "2021-08-23T05:51:20.706783Z",
     "shell.execute_reply.started": "2021-08-23T05:51:20.702299Z"
    },
    "tags": []
   },
   "outputs": [],
   "source": [
    "# remove date from index for now \n",
    "data.reset_index(inplace=True)"
   ]
  },
  {
   "cell_type": "code",
   "execution_count": 82,
   "id": "26e2797b-e68c-4459-821b-cb9b9bc10799",
   "metadata": {
    "execution": {
     "iopub.execute_input": "2021-08-23T05:51:20.708293Z",
     "iopub.status.busy": "2021-08-23T05:51:20.708162Z",
     "iopub.status.idle": "2021-08-23T05:51:21.429678Z",
     "shell.execute_reply": "2021-08-23T05:51:21.428965Z",
     "shell.execute_reply.started": "2021-08-23T05:51:20.708277Z"
    },
    "tags": []
   },
   "outputs": [],
   "source": [
    "# replace nulls with price from previous day \n",
    "for i in range(1,len(data)): # \n",
    "    if data.loc[i,'sp500']=='replace':\n",
    "        data.loc[i,'sp500'] = data.loc[i-1,'sp500']\n",
    "    \n",
    "    "
   ]
  },
  {
   "cell_type": "code",
   "execution_count": 83,
   "id": "4f49a5f4-b6b4-4ddc-9556-c8d10fe0a222",
   "metadata": {
    "execution": {
     "iopub.execute_input": "2021-08-23T05:51:21.430596Z",
     "iopub.status.busy": "2021-08-23T05:51:21.430439Z",
     "iopub.status.idle": "2021-08-23T05:51:21.436752Z",
     "shell.execute_reply": "2021-08-23T05:51:21.436009Z",
     "shell.execute_reply.started": "2021-08-23T05:51:21.430580Z"
    }
   },
   "outputs": [
    {
     "data": {
      "text/plain": [
       "False"
      ]
     },
     "execution_count": 83,
     "metadata": {},
     "output_type": "execute_result"
    }
   ],
   "source": [
    "# make sure all replaced properly \n",
    "'replace' in set(data['sp500'])"
   ]
  },
  {
   "cell_type": "code",
   "execution_count": 84,
   "id": "df846c43-37a9-43c6-af22-e911e1d9d59d",
   "metadata": {
    "execution": {
     "iopub.execute_input": "2021-08-23T05:51:21.437500Z",
     "iopub.status.busy": "2021-08-23T05:51:21.437363Z",
     "iopub.status.idle": "2021-08-23T05:51:21.441684Z",
     "shell.execute_reply": "2021-08-23T05:51:21.440956Z",
     "shell.execute_reply.started": "2021-08-23T05:51:21.437484Z"
    },
    "tags": []
   },
   "outputs": [],
   "source": [
    "# add date as index again \n",
    "data.set_index('date',inplace=True)"
   ]
  },
  {
   "cell_type": "markdown",
   "id": "593dc974-a3b7-41cf-b09c-8a748b557010",
   "metadata": {},
   "source": [
    "Thoughts: \n",
    "- ADD COLUMNS FOR HOLIDAY (if the day is a holiday),\n",
    "- ADD COLUMNS FOR WEEKEND? to show model if it is weekend \n",
    "Alternatively:\n",
    "- just leave date column and let the model learn that weekends the price does not change? \n",
    "    - should have enough datapoints for a model to learn the pattern of 5 weekdays of price change and 2 weekend days with no price change \n",
    "    - not sure if based on 10 years of data the model will be able to learn and predict when will be holidays? \n",
    "    "
   ]
  },
  {
   "cell_type": "markdown",
   "id": "06ed0641-b116-45f0-96bd-6b7f550135f6",
   "metadata": {},
   "source": [
    "### change in price  "
   ]
  },
  {
   "cell_type": "markdown",
   "id": "bc3ef2b8-08c5-450b-85d3-da8c29c69504",
   "metadata": {},
   "source": [
    "#### combine text from articles to single row "
   ]
  },
  {
   "cell_type": "code",
   "execution_count": 85,
   "id": "bd29218a-ff5f-469d-a628-2b21a2f1660e",
   "metadata": {
    "execution": {
     "iopub.execute_input": "2021-08-23T05:51:21.442612Z",
     "iopub.status.busy": "2021-08-23T05:51:21.442465Z",
     "iopub.status.idle": "2021-08-23T05:51:21.449713Z",
     "shell.execute_reply": "2021-08-23T05:51:21.448953Z",
     "shell.execute_reply.started": "2021-08-23T05:51:21.442595Z"
    }
   },
   "outputs": [
    {
     "data": {
      "text/plain": [
       "date\n",
       "2016-09-06    2186.48\n",
       "2016-09-06    2186.48\n",
       "2016-09-06    2186.48\n",
       "2016-09-06    2186.48\n",
       "2016-09-06    2186.48\n",
       "               ...   \n",
       "2021-08-17    4448.08\n",
       "2021-08-17    4448.08\n",
       "2021-08-17    4448.08\n",
       "2021-08-17    4448.08\n",
       "2021-08-17    4448.08\n",
       "Name: sp500, Length: 19397, dtype: object"
      ]
     },
     "execution_count": 85,
     "metadata": {},
     "output_type": "execute_result"
    }
   ],
   "source": [
    "data['sp500']"
   ]
  },
  {
   "cell_type": "markdown",
   "id": "e2e6f131-fcc0-47b9-b6cf-12ec3c2a9c03",
   "metadata": {},
   "source": [
    "- Approaches: \n",
    "    - combine all text from one day into a single column making a single entry for each day \n",
    "        - all articles from one day are one data point so ok to combine? \n",
    "        - have to decide if want to keep keywords: better to just add them to text \n",
    "    - dont combine? what value does seperate articles bring? \n",
    "        - model can take each article and weight them seperately and combine results to predict for day? vs doing it all at once? \n",
    "        - lost urls for articles? oh well "
   ]
  },
  {
   "cell_type": "code",
   "execution_count": 86,
   "id": "5e64aec7-0088-4dc6-b07a-9345a2234436",
   "metadata": {
    "execution": {
     "iopub.execute_input": "2021-08-23T05:51:21.450671Z",
     "iopub.status.busy": "2021-08-23T05:51:21.450532Z",
     "iopub.status.idle": "2021-08-23T05:51:21.457518Z",
     "shell.execute_reply": "2021-08-23T05:51:21.456941Z",
     "shell.execute_reply.started": "2021-08-23T05:51:21.450655Z"
    },
    "tags": []
   },
   "outputs": [],
   "source": [
    "test = data.copy()"
   ]
  },
  {
   "cell_type": "code",
   "execution_count": 87,
   "id": "026549c8-3124-4f82-ace3-75b881a9c99c",
   "metadata": {
    "execution": {
     "iopub.execute_input": "2021-08-23T05:51:21.458300Z",
     "iopub.status.busy": "2021-08-23T05:51:21.458175Z",
     "iopub.status.idle": "2021-08-23T05:51:21.462557Z",
     "shell.execute_reply": "2021-08-23T05:51:21.461945Z",
     "shell.execute_reply.started": "2021-08-23T05:51:21.458285Z"
    },
    "tags": []
   },
   "outputs": [
    {
     "data": {
      "text/plain": [
       "Index(['web_url', 'sp500', 'text', 'topics'], dtype='object')"
      ]
     },
     "execution_count": 87,
     "metadata": {},
     "output_type": "execute_result"
    }
   ],
   "source": [
    "data.columns"
   ]
  },
  {
   "cell_type": "code",
   "execution_count": 88,
   "id": "0eeec92e-7c28-496e-a835-e3d06d1d9e33",
   "metadata": {
    "execution": {
     "iopub.execute_input": "2021-08-23T05:51:21.463301Z",
     "iopub.status.busy": "2021-08-23T05:51:21.463179Z",
     "iopub.status.idle": "2021-08-23T05:51:21.495629Z",
     "shell.execute_reply": "2021-08-23T05:51:21.494960Z",
     "shell.execute_reply.started": "2021-08-23T05:51:21.463287Z"
    },
    "tags": []
   },
   "outputs": [],
   "source": [
    "# add topics to text column\n",
    "test['text']= test['text']+ test['topics']"
   ]
  },
  {
   "cell_type": "code",
   "execution_count": 89,
   "id": "154fec62-6e32-44ce-9a07-b3c54f9c8b03",
   "metadata": {
    "execution": {
     "iopub.execute_input": "2021-08-23T05:51:21.496516Z",
     "iopub.status.busy": "2021-08-23T05:51:21.496399Z",
     "iopub.status.idle": "2021-08-23T05:51:21.503797Z",
     "shell.execute_reply": "2021-08-23T05:51:21.503057Z",
     "shell.execute_reply.started": "2021-08-23T05:51:21.496500Z"
    },
    "tags": []
   },
   "outputs": [],
   "source": [
    "# drop web_urls \n",
    "test.drop(columns=['web_url','topics'],inplace=True)"
   ]
  },
  {
   "cell_type": "code",
   "execution_count": 90,
   "id": "1ec15e61-ba15-4ad8-8458-4c57c9617476",
   "metadata": {
    "execution": {
     "iopub.execute_input": "2021-08-23T05:51:21.504767Z",
     "iopub.status.busy": "2021-08-23T05:51:21.504595Z",
     "iopub.status.idle": "2021-08-23T05:51:21.512589Z",
     "shell.execute_reply": "2021-08-23T05:51:21.511958Z",
     "shell.execute_reply.started": "2021-08-23T05:51:21.504751Z"
    },
    "tags": []
   },
   "outputs": [
    {
     "data": {
      "text/html": [
       "<div>\n",
       "<style scoped>\n",
       "    .dataframe tbody tr th:only-of-type {\n",
       "        vertical-align: middle;\n",
       "    }\n",
       "\n",
       "    .dataframe tbody tr th {\n",
       "        vertical-align: top;\n",
       "    }\n",
       "\n",
       "    .dataframe thead th {\n",
       "        text-align: right;\n",
       "    }\n",
       "</style>\n",
       "<table border=\"1\" class=\"dataframe\">\n",
       "  <thead>\n",
       "    <tr style=\"text-align: right;\">\n",
       "      <th></th>\n",
       "      <th>sp500</th>\n",
       "      <th>text</th>\n",
       "    </tr>\n",
       "    <tr>\n",
       "      <th>date</th>\n",
       "      <th></th>\n",
       "      <th></th>\n",
       "    </tr>\n",
       "  </thead>\n",
       "  <tbody>\n",
       "    <tr>\n",
       "      <th>2016-09-06</th>\n",
       "      <td>2186.48</td>\n",
       "      <td>William Ackman’s Pershing Square Takes a Stake in Chipotle. Pershing Square takes a 9.9 percent stake, making it the second-largest holder after Fidelity. Shares rose in after-hours trading.William A. Ackman has a craving for fast food.Ackman, William A Chipotle Mexican Grill Inc Fast Food Industry Pershing Square Holdings</td>\n",
       "    </tr>\n",
       "    <tr>\n",
       "      <th>2016-09-06</th>\n",
       "      <td>2186.48</td>\n",
       "      <td>Elon Musk’s Solar Vision, Up for a Dicey Vote. Shareholders can be finicky and opaque, but the Tesla-SolarCity deal shows the importance of having all buyers of significant assets hold a vote.Tesla Motors’ proposed acquisition of SolarCity is most likely to come down to whether shareholders support Elon Musk in his vision of creating a solar power juggernaut. Yet the deal also raises broader issues of how and when shareholders should vote to approve acquisitions.Shareholder Rights and Activism Mergers, Acquisitions and Divestitures Tesla Motors Inc SolarCity Inc Musk, Elon Solar Energy</td>\n",
       "    </tr>\n",
       "    <tr>\n",
       "      <th>2016-09-06</th>\n",
       "      <td>2186.48</td>\n",
       "      <td>Law Enforcement ‘Not Winning’ War on White-Collar Crime. Delegates at symposium on economic crime in Cambridge, Mass., sought solutions for fighting crimes like money laundering, fraud and insider trading.CAMBRIDGE, England — The record of combating economic crime is so woeful that governments need a new approach. That was the view of many at a gathering of about 1,600 delegates from academia and the legal and compliance profession here on Monday.Legal Profession Frauds and Swindling</td>\n",
       "    </tr>\n",
       "    <tr>\n",
       "      <th>2016-09-06</th>\n",
       "      <td>2186.48</td>\n",
       "      <td>Recent Commercial Real Estate Transactions. Recent commercial real estate transactions in New York City.$11.57 MILLIONReal Estate and Housing (Residential) Real Estate (Commercial) Renting and Leasing (Real Estate)</td>\n",
       "    </tr>\n",
       "    <tr>\n",
       "      <th>2016-09-06</th>\n",
       "      <td>2186.48</td>\n",
       "      <td>Research Suggests Women Are Asking for Raises, but Men Get Them More. A study of Australian women points to discrimination as a cause of a pay gap, with men getting raises 20 percent of the time they asked, compared with 16 percent for women.One common theory to explain the pay gap between men and women assigns blame to women themselves: Maybe they just aren’t asking for raises.Women and Girls Wages and Salaries Discrimination Cass Business School University of Warwick University of Wisconsin Obama, Barack Australia United States Goodall, Amanda H</td>\n",
       "    </tr>\n",
       "  </tbody>\n",
       "</table>\n",
       "</div>"
      ],
      "text/plain": [
       "              sp500  \\\n",
       "date                  \n",
       "2016-09-06  2186.48   \n",
       "2016-09-06  2186.48   \n",
       "2016-09-06  2186.48   \n",
       "2016-09-06  2186.48   \n",
       "2016-09-06  2186.48   \n",
       "\n",
       "                                                                                                                                                                                                                                                                                                                                                                                                                                                                                                                                                                                                                        text  \n",
       "date                                                                                                                                                                                                                                                                                                                                                                                                                                                                                                                                                                                                                          \n",
       "2016-09-06                                                                                                                                                                                                                                                                              William Ackman’s Pershing Square Takes a Stake in Chipotle. Pershing Square takes a 9.9 percent stake, making it the second-largest holder after Fidelity. Shares rose in after-hours trading.William A. Ackman has a craving for fast food.Ackman, William A Chipotle Mexican Grill Inc Fast Food Industry Pershing Square Holdings  \n",
       "2016-09-06  Elon Musk’s Solar Vision, Up for a Dicey Vote. Shareholders can be finicky and opaque, but the Tesla-SolarCity deal shows the importance of having all buyers of significant assets hold a vote.Tesla Motors’ proposed acquisition of SolarCity is most likely to come down to whether shareholders support Elon Musk in his vision of creating a solar power juggernaut. Yet the deal also raises broader issues of how and when shareholders should vote to approve acquisitions.Shareholder Rights and Activism Mergers, Acquisitions and Divestitures Tesla Motors Inc SolarCity Inc Musk, Elon Solar Energy  \n",
       "2016-09-06                                                                                                          Law Enforcement ‘Not Winning’ War on White-Collar Crime. Delegates at symposium on economic crime in Cambridge, Mass., sought solutions for fighting crimes like money laundering, fraud and insider trading.CAMBRIDGE, England — The record of combating economic crime is so woeful that governments need a new approach. That was the view of many at a gathering of about 1,600 delegates from academia and the legal and compliance profession here on Monday.Legal Profession Frauds and Swindling  \n",
       "2016-09-06                                                                                                                                                                                                                                                                                                                                                                                            Recent Commercial Real Estate Transactions. Recent commercial real estate transactions in New York City.$11.57 MILLIONReal Estate and Housing (Residential) Real Estate (Commercial) Renting and Leasing (Real Estate)  \n",
       "2016-09-06                                         Research Suggests Women Are Asking for Raises, but Men Get Them More. A study of Australian women points to discrimination as a cause of a pay gap, with men getting raises 20 percent of the time they asked, compared with 16 percent for women.One common theory to explain the pay gap between men and women assigns blame to women themselves: Maybe they just aren’t asking for raises.Women and Girls Wages and Salaries Discrimination Cass Business School University of Warwick University of Wisconsin Obama, Barack Australia United States Goodall, Amanda H  "
      ]
     },
     "execution_count": 90,
     "metadata": {},
     "output_type": "execute_result"
    }
   ],
   "source": [
    "test.head()"
   ]
  },
  {
   "cell_type": "code",
   "execution_count": 91,
   "id": "0d2fed9b-7133-4d36-8da1-b4f45d13b47d",
   "metadata": {
    "execution": {
     "iopub.execute_input": "2021-08-23T05:51:21.513365Z",
     "iopub.status.busy": "2021-08-23T05:51:21.513242Z",
     "iopub.status.idle": "2021-08-23T05:51:21.518825Z",
     "shell.execute_reply": "2021-08-23T05:51:21.518058Z",
     "shell.execute_reply.started": "2021-08-23T05:51:21.513350Z"
    },
    "tags": []
   },
   "outputs": [],
   "source": [
    "# take out date from index to make manipulation easier\n",
    "test.reset_index(inplace=True)"
   ]
  },
  {
   "cell_type": "code",
   "execution_count": 92,
   "id": "7e02d1af-15be-4226-940c-dbf01f546533",
   "metadata": {
    "execution": {
     "iopub.execute_input": "2021-08-23T05:51:21.519686Z",
     "iopub.status.busy": "2021-08-23T05:51:21.519553Z",
     "iopub.status.idle": "2021-08-23T05:51:21.527310Z",
     "shell.execute_reply": "2021-08-23T05:51:21.526591Z",
     "shell.execute_reply.started": "2021-08-23T05:51:21.519670Z"
    },
    "tags": []
   },
   "outputs": [
    {
     "data": {
      "text/html": [
       "<div>\n",
       "<style scoped>\n",
       "    .dataframe tbody tr th:only-of-type {\n",
       "        vertical-align: middle;\n",
       "    }\n",
       "\n",
       "    .dataframe tbody tr th {\n",
       "        vertical-align: top;\n",
       "    }\n",
       "\n",
       "    .dataframe thead th {\n",
       "        text-align: right;\n",
       "    }\n",
       "</style>\n",
       "<table border=\"1\" class=\"dataframe\">\n",
       "  <thead>\n",
       "    <tr style=\"text-align: right;\">\n",
       "      <th></th>\n",
       "      <th>date</th>\n",
       "      <th>sp500</th>\n",
       "      <th>text</th>\n",
       "    </tr>\n",
       "  </thead>\n",
       "  <tbody>\n",
       "    <tr>\n",
       "      <th>0</th>\n",
       "      <td>2016-09-06</td>\n",
       "      <td>2186.48</td>\n",
       "      <td>William Ackman’s Pershing Square Takes a Stake in Chipotle. Pershing Square takes a 9.9 percent stake, making it the second-largest holder after Fidelity. Shares rose in after-hours trading.William A. Ackman has a craving for fast food.Ackman, William A Chipotle Mexican Grill Inc Fast Food Industry Pershing Square Holdings</td>\n",
       "    </tr>\n",
       "    <tr>\n",
       "      <th>1</th>\n",
       "      <td>2016-09-06</td>\n",
       "      <td>2186.48</td>\n",
       "      <td>Elon Musk’s Solar Vision, Up for a Dicey Vote. Shareholders can be finicky and opaque, but the Tesla-SolarCity deal shows the importance of having all buyers of significant assets hold a vote.Tesla Motors’ proposed acquisition of SolarCity is most likely to come down to whether shareholders support Elon Musk in his vision of creating a solar power juggernaut. Yet the deal also raises broader issues of how and when shareholders should vote to approve acquisitions.Shareholder Rights and Activism Mergers, Acquisitions and Divestitures Tesla Motors Inc SolarCity Inc Musk, Elon Solar Energy</td>\n",
       "    </tr>\n",
       "    <tr>\n",
       "      <th>2</th>\n",
       "      <td>2016-09-06</td>\n",
       "      <td>2186.48</td>\n",
       "      <td>Law Enforcement ‘Not Winning’ War on White-Collar Crime. Delegates at symposium on economic crime in Cambridge, Mass., sought solutions for fighting crimes like money laundering, fraud and insider trading.CAMBRIDGE, England — The record of combating economic crime is so woeful that governments need a new approach. That was the view of many at a gathering of about 1,600 delegates from academia and the legal and compliance profession here on Monday.Legal Profession Frauds and Swindling</td>\n",
       "    </tr>\n",
       "    <tr>\n",
       "      <th>3</th>\n",
       "      <td>2016-09-06</td>\n",
       "      <td>2186.48</td>\n",
       "      <td>Recent Commercial Real Estate Transactions. Recent commercial real estate transactions in New York City.$11.57 MILLIONReal Estate and Housing (Residential) Real Estate (Commercial) Renting and Leasing (Real Estate)</td>\n",
       "    </tr>\n",
       "    <tr>\n",
       "      <th>4</th>\n",
       "      <td>2016-09-06</td>\n",
       "      <td>2186.48</td>\n",
       "      <td>Research Suggests Women Are Asking for Raises, but Men Get Them More. A study of Australian women points to discrimination as a cause of a pay gap, with men getting raises 20 percent of the time they asked, compared with 16 percent for women.One common theory to explain the pay gap between men and women assigns blame to women themselves: Maybe they just aren’t asking for raises.Women and Girls Wages and Salaries Discrimination Cass Business School University of Warwick University of Wisconsin Obama, Barack Australia United States Goodall, Amanda H</td>\n",
       "    </tr>\n",
       "  </tbody>\n",
       "</table>\n",
       "</div>"
      ],
      "text/plain": [
       "         date    sp500  \\\n",
       "0  2016-09-06  2186.48   \n",
       "1  2016-09-06  2186.48   \n",
       "2  2016-09-06  2186.48   \n",
       "3  2016-09-06  2186.48   \n",
       "4  2016-09-06  2186.48   \n",
       "\n",
       "                                                                                                                                                                                                                                                                                                                                                                                                                                                                                                                                                                                                               text  \n",
       "0                                                                                                                                                                                                                                                                              William Ackman’s Pershing Square Takes a Stake in Chipotle. Pershing Square takes a 9.9 percent stake, making it the second-largest holder after Fidelity. Shares rose in after-hours trading.William A. Ackman has a craving for fast food.Ackman, William A Chipotle Mexican Grill Inc Fast Food Industry Pershing Square Holdings  \n",
       "1  Elon Musk’s Solar Vision, Up for a Dicey Vote. Shareholders can be finicky and opaque, but the Tesla-SolarCity deal shows the importance of having all buyers of significant assets hold a vote.Tesla Motors’ proposed acquisition of SolarCity is most likely to come down to whether shareholders support Elon Musk in his vision of creating a solar power juggernaut. Yet the deal also raises broader issues of how and when shareholders should vote to approve acquisitions.Shareholder Rights and Activism Mergers, Acquisitions and Divestitures Tesla Motors Inc SolarCity Inc Musk, Elon Solar Energy  \n",
       "2                                                                                                          Law Enforcement ‘Not Winning’ War on White-Collar Crime. Delegates at symposium on economic crime in Cambridge, Mass., sought solutions for fighting crimes like money laundering, fraud and insider trading.CAMBRIDGE, England — The record of combating economic crime is so woeful that governments need a new approach. That was the view of many at a gathering of about 1,600 delegates from academia and the legal and compliance profession here on Monday.Legal Profession Frauds and Swindling  \n",
       "3                                                                                                                                                                                                                                                                                                                                                                                            Recent Commercial Real Estate Transactions. Recent commercial real estate transactions in New York City.$11.57 MILLIONReal Estate and Housing (Residential) Real Estate (Commercial) Renting and Leasing (Real Estate)  \n",
       "4                                         Research Suggests Women Are Asking for Raises, but Men Get Them More. A study of Australian women points to discrimination as a cause of a pay gap, with men getting raises 20 percent of the time they asked, compared with 16 percent for women.One common theory to explain the pay gap between men and women assigns blame to women themselves: Maybe they just aren’t asking for raises.Women and Girls Wages and Salaries Discrimination Cass Business School University of Warwick University of Wisconsin Obama, Barack Australia United States Goodall, Amanda H  "
      ]
     },
     "execution_count": 92,
     "metadata": {},
     "output_type": "execute_result"
    }
   ],
   "source": [
    "test.head()"
   ]
  },
  {
   "cell_type": "code",
   "execution_count": 93,
   "id": "8876af17-abe8-40d3-a54e-7f92a6193829",
   "metadata": {
    "execution": {
     "iopub.execute_input": "2021-08-23T05:51:21.528214Z",
     "iopub.status.busy": "2021-08-23T05:51:21.528054Z",
     "iopub.status.idle": "2021-08-23T05:51:21.889204Z",
     "shell.execute_reply": "2021-08-23T05:51:21.888631Z",
     "shell.execute_reply.started": "2021-08-23T05:51:21.528196Z"
    },
    "tags": []
   },
   "outputs": [],
   "source": [
    "dates = dict()\n",
    "for i in range(len(test)):\n",
    "    if test.loc[i,'date'] in dates.keys(): # if already in dates dict \n",
    "        dates[test.loc[i,'date']] += ' ' + str(test.loc[i,'text'])\n",
    "    else: \n",
    "        dates[test.loc[i,'date']] = test.loc[i,'text']\n",
    "    \n",
    "        \n",
    "        "
   ]
  },
  {
   "cell_type": "code",
   "execution_count": 94,
   "id": "713baae1-1bcf-4bd0-8dc5-7d63d509e490",
   "metadata": {
    "execution": {
     "iopub.execute_input": "2021-08-23T05:51:21.890004Z",
     "iopub.status.busy": "2021-08-23T05:51:21.889870Z",
     "iopub.status.idle": "2021-08-23T05:51:21.894624Z",
     "shell.execute_reply": "2021-08-23T05:51:21.893670Z",
     "shell.execute_reply.started": "2021-08-23T05:51:21.889988Z"
    },
    "tags": []
   },
   "outputs": [],
   "source": [
    "# make dates dict into dataframe\n",
    "daily = pd.DataFrame(list(dates.items()),columns=['date','text'])"
   ]
  },
  {
   "cell_type": "code",
   "execution_count": 95,
   "id": "b72a1295-87a7-45a9-9d32-64694f7b47c6",
   "metadata": {
    "execution": {
     "iopub.execute_input": "2021-08-23T05:51:21.895467Z",
     "iopub.status.busy": "2021-08-23T05:51:21.895335Z",
     "iopub.status.idle": "2021-08-23T05:51:21.899583Z",
     "shell.execute_reply": "2021-08-23T05:51:21.898651Z",
     "shell.execute_reply.started": "2021-08-23T05:51:21.895452Z"
    },
    "tags": []
   },
   "outputs": [],
   "source": [
    "sp500.set_index('date',inplace=True)"
   ]
  },
  {
   "cell_type": "code",
   "execution_count": 99,
   "id": "a49d8b84-271b-4e38-81aa-a94e0b533462",
   "metadata": {
    "execution": {
     "iopub.execute_input": "2021-08-23T05:52:42.304443Z",
     "iopub.status.busy": "2021-08-23T05:52:42.304232Z",
     "iopub.status.idle": "2021-08-23T05:52:43.015191Z",
     "shell.execute_reply": "2021-08-23T05:52:43.014461Z",
     "shell.execute_reply.started": "2021-08-23T05:52:42.304425Z"
    },
    "tags": []
   },
   "outputs": [],
   "source": [
    "# get sp500 price for every date in daily \n",
    "for i in range(len(daily)):\n",
    "    day= daily.loc[i,'date']\n",
    "    if day in set(sp500.index):\n",
    "        daily.loc[i,'price'] = sp500.loc[day,'S&P 500']\n",
    "    else: \n",
    "        daily.loc[i,'price']= 'replace'\n",
    "    "
   ]
  },
  {
   "cell_type": "code",
   "execution_count": 100,
   "id": "983906d3-4562-4e7a-abfa-1403ddd9cd67",
   "metadata": {
    "execution": {
     "iopub.execute_input": "2021-08-23T05:52:45.154202Z",
     "iopub.status.busy": "2021-08-23T05:52:45.153998Z",
     "iopub.status.idle": "2021-08-23T05:52:45.160982Z",
     "shell.execute_reply": "2021-08-23T05:52:45.160326Z",
     "shell.execute_reply.started": "2021-08-23T05:52:45.154184Z"
    },
    "tags": []
   },
   "outputs": [
    {
     "data": {
      "text/plain": [
       "0       2186.48\n",
       "1       2186.16\n",
       "2        2181.3\n",
       "3       2127.81\n",
       "4       replace\n",
       "         ...   \n",
       "1785     4468.0\n",
       "1786    replace\n",
       "1787    replace\n",
       "1788    4479.71\n",
       "1789    4448.08\n",
       "Name: price, Length: 1790, dtype: object"
      ]
     },
     "execution_count": 100,
     "metadata": {},
     "output_type": "execute_result"
    }
   ],
   "source": [
    "daily['price']"
   ]
  },
  {
   "cell_type": "code",
   "execution_count": 101,
   "id": "2d3d43b7-3773-4f2d-887b-23809b7bed15",
   "metadata": {
    "execution": {
     "iopub.execute_input": "2021-08-23T05:52:49.768540Z",
     "iopub.status.busy": "2021-08-23T05:52:49.768353Z",
     "iopub.status.idle": "2021-08-23T05:52:49.931756Z",
     "shell.execute_reply": "2021-08-23T05:52:49.930960Z",
     "shell.execute_reply.started": "2021-08-23T05:52:49.768523Z"
    },
    "tags": []
   },
   "outputs": [],
   "source": [
    "# update replace to price from previous day \n",
    "for i in range(len(daily)):\n",
    "    if daily.loc[i,'price']=='replace':\n",
    "        daily.loc[i,'price']= daily.loc[i-1,'price']"
   ]
  },
  {
   "cell_type": "code",
   "execution_count": 102,
   "id": "d1d49e40-509f-40b1-a31a-da48db6a543f",
   "metadata": {
    "execution": {
     "iopub.execute_input": "2021-08-23T05:52:54.511258Z",
     "iopub.status.busy": "2021-08-23T05:52:54.511066Z",
     "iopub.status.idle": "2021-08-23T05:52:54.516378Z",
     "shell.execute_reply": "2021-08-23T05:52:54.515678Z",
     "shell.execute_reply.started": "2021-08-23T05:52:54.511241Z"
    },
    "tags": []
   },
   "outputs": [
    {
     "data": {
      "text/plain": [
       "False"
      ]
     },
     "execution_count": 102,
     "metadata": {},
     "output_type": "execute_result"
    }
   ],
   "source": [
    "# confirm updated \n",
    "'replace' in set(daily['price'])"
   ]
  },
  {
   "cell_type": "code",
   "execution_count": 103,
   "id": "3f1185f1-d90b-4d58-be08-66a3da36ed9f",
   "metadata": {
    "execution": {
     "iopub.execute_input": "2021-08-23T05:52:55.448544Z",
     "iopub.status.busy": "2021-08-23T05:52:55.448336Z",
     "iopub.status.idle": "2021-08-23T05:52:55.453178Z",
     "shell.execute_reply": "2021-08-23T05:52:55.452421Z",
     "shell.execute_reply.started": "2021-08-23T05:52:55.448527Z"
    },
    "tags": []
   },
   "outputs": [
    {
     "data": {
      "text/plain": [
       "Index(['date', 'text', 'price'], dtype='object')"
      ]
     },
     "execution_count": 103,
     "metadata": {},
     "output_type": "execute_result"
    }
   ],
   "source": [
    "daily.columns"
   ]
  },
  {
   "cell_type": "markdown",
   "id": "404b26e2-6e27-48b7-becd-bfa54b3f72bf",
   "metadata": {},
   "source": [
    "#### column for change in price  "
   ]
  },
  {
   "cell_type": "code",
   "execution_count": 104,
   "id": "e437f5b9-ef43-4cbc-96cc-04b30886e5cd",
   "metadata": {
    "execution": {
     "iopub.execute_input": "2021-08-23T05:52:59.105647Z",
     "iopub.status.busy": "2021-08-23T05:52:59.105458Z",
     "iopub.status.idle": "2021-08-23T05:52:59.111945Z",
     "shell.execute_reply": "2021-08-23T05:52:59.111205Z",
     "shell.execute_reply.started": "2021-08-23T05:52:59.105629Z"
    },
    "tags": []
   },
   "outputs": [
    {
     "data": {
      "text/plain": [
       "0       2186.48\n",
       "1       2186.16\n",
       "2        2181.3\n",
       "3       2127.81\n",
       "4       2127.81\n",
       "         ...   \n",
       "1785     4468.0\n",
       "1786     4468.0\n",
       "1787     4468.0\n",
       "1788    4479.71\n",
       "1789    4448.08\n",
       "Name: price, Length: 1790, dtype: object"
      ]
     },
     "execution_count": 104,
     "metadata": {},
     "output_type": "execute_result"
    }
   ],
   "source": [
    "daily['price']"
   ]
  },
  {
   "cell_type": "code",
   "execution_count": 109,
   "id": "b9d940cd-a261-4181-be49-489ec64cf41a",
   "metadata": {
    "execution": {
     "iopub.execute_input": "2021-08-23T05:54:37.035337Z",
     "iopub.status.busy": "2021-08-23T05:54:37.035149Z",
     "iopub.status.idle": "2021-08-23T05:54:37.072317Z",
     "shell.execute_reply": "2021-08-23T05:54:37.071523Z",
     "shell.execute_reply.started": "2021-08-23T05:54:37.035320Z"
    },
    "tags": []
   },
   "outputs": [],
   "source": [
    "change=['first']\n",
    "for i in range(1,len(daily)):\n",
    "    change.append(100*(daily.loc[i,'price']-daily.loc[i-1,'price'])/daily.loc[i-1,'price'])\n",
    "daily['change_percent']=change    "
   ]
  },
  {
   "cell_type": "markdown",
   "id": "043c7744-a02f-4803-90d8-21c26e069134",
   "metadata": {},
   "source": [
    "- change = percentage change in price from yesterday "
   ]
  },
  {
   "cell_type": "code",
   "execution_count": 110,
   "id": "ec42861e-002b-4867-b3da-04e4c5778e8d",
   "metadata": {
    "execution": {
     "iopub.execute_input": "2021-08-23T05:55:37.304005Z",
     "iopub.status.busy": "2021-08-23T05:55:37.303784Z",
     "iopub.status.idle": "2021-08-23T05:55:37.314194Z",
     "shell.execute_reply": "2021-08-23T05:55:37.313417Z",
     "shell.execute_reply.started": "2021-08-23T05:55:37.303986Z"
    },
    "tags": []
   },
   "outputs": [
    {
     "data": {
      "text/html": [
       "<div>\n",
       "<style scoped>\n",
       "    .dataframe tbody tr th:only-of-type {\n",
       "        vertical-align: middle;\n",
       "    }\n",
       "\n",
       "    .dataframe tbody tr th {\n",
       "        vertical-align: top;\n",
       "    }\n",
       "\n",
       "    .dataframe thead th {\n",
       "        text-align: right;\n",
       "    }\n",
       "</style>\n",
       "<table border=\"1\" class=\"dataframe\">\n",
       "  <thead>\n",
       "    <tr style=\"text-align: right;\">\n",
       "      <th></th>\n",
       "      <th>price</th>\n",
       "      <th>change_percent</th>\n",
       "    </tr>\n",
       "  </thead>\n",
       "  <tbody>\n",
       "    <tr>\n",
       "      <th>0</th>\n",
       "      <td>2186.48</td>\n",
       "      <td>first</td>\n",
       "    </tr>\n",
       "    <tr>\n",
       "      <th>1</th>\n",
       "      <td>2186.16</td>\n",
       "      <td>-0.014635</td>\n",
       "    </tr>\n",
       "    <tr>\n",
       "      <th>2</th>\n",
       "      <td>2181.3</td>\n",
       "      <td>-0.222308</td>\n",
       "    </tr>\n",
       "    <tr>\n",
       "      <th>3</th>\n",
       "      <td>2127.81</td>\n",
       "      <td>-2.452207</td>\n",
       "    </tr>\n",
       "    <tr>\n",
       "      <th>4</th>\n",
       "      <td>2127.81</td>\n",
       "      <td>0.0</td>\n",
       "    </tr>\n",
       "    <tr>\n",
       "      <th>...</th>\n",
       "      <td>...</td>\n",
       "      <td>...</td>\n",
       "    </tr>\n",
       "    <tr>\n",
       "      <th>1785</th>\n",
       "      <td>4468.0</td>\n",
       "      <td>0.160732</td>\n",
       "    </tr>\n",
       "    <tr>\n",
       "      <th>1786</th>\n",
       "      <td>4468.0</td>\n",
       "      <td>0.0</td>\n",
       "    </tr>\n",
       "    <tr>\n",
       "      <th>1787</th>\n",
       "      <td>4468.0</td>\n",
       "      <td>0.0</td>\n",
       "    </tr>\n",
       "    <tr>\n",
       "      <th>1788</th>\n",
       "      <td>4479.71</td>\n",
       "      <td>0.262086</td>\n",
       "    </tr>\n",
       "    <tr>\n",
       "      <th>1789</th>\n",
       "      <td>4448.08</td>\n",
       "      <td>-0.706072</td>\n",
       "    </tr>\n",
       "  </tbody>\n",
       "</table>\n",
       "<p>1790 rows × 2 columns</p>\n",
       "</div>"
      ],
      "text/plain": [
       "        price change_percent\n",
       "0     2186.48          first\n",
       "1     2186.16      -0.014635\n",
       "2      2181.3      -0.222308\n",
       "3     2127.81      -2.452207\n",
       "4     2127.81            0.0\n",
       "...       ...            ...\n",
       "1785   4468.0       0.160732\n",
       "1786   4468.0            0.0\n",
       "1787   4468.0            0.0\n",
       "1788  4479.71       0.262086\n",
       "1789  4448.08      -0.706072\n",
       "\n",
       "[1790 rows x 2 columns]"
      ]
     },
     "execution_count": 110,
     "metadata": {},
     "output_type": "execute_result"
    }
   ],
   "source": [
    "daily[['price','change_percent']]"
   ]
  },
  {
   "cell_type": "code",
   "execution_count": 111,
   "id": "db0b53f4-8450-4e88-aea9-d5ae8e2c18e9",
   "metadata": {
    "execution": {
     "iopub.execute_input": "2021-08-23T05:58:39.795272Z",
     "iopub.status.busy": "2021-08-23T05:58:39.795078Z",
     "iopub.status.idle": "2021-08-23T05:58:39.818992Z",
     "shell.execute_reply": "2021-08-23T05:58:39.818211Z",
     "shell.execute_reply.started": "2021-08-23T05:58:39.795254Z"
    }
   },
   "outputs": [],
   "source": [
    "# add column for type of change_type \n",
    "change_type=['first']\n",
    "for i in range(1,len(daily)):\n",
    "    if daily.loc[i,'change_percent']>0: change_type.append('up')\n",
    "    elif daily.loc[i,'change_percent']<0: change_type.append('down')\n",
    "    else: change_type.append('same')\n",
    "daily['change_type']= change_type"
   ]
  },
  {
   "cell_type": "code",
   "execution_count": 112,
   "id": "571658ae-7421-4161-8d79-de86bb27ca2a",
   "metadata": {
    "execution": {
     "iopub.execute_input": "2021-08-23T05:58:51.786992Z",
     "iopub.status.busy": "2021-08-23T05:58:51.786801Z",
     "iopub.status.idle": "2021-08-23T05:58:51.798041Z",
     "shell.execute_reply": "2021-08-23T05:58:51.797361Z",
     "shell.execute_reply.started": "2021-08-23T05:58:51.786974Z"
    }
   },
   "outputs": [
    {
     "data": {
      "text/html": [
       "<div>\n",
       "<style scoped>\n",
       "    .dataframe tbody tr th:only-of-type {\n",
       "        vertical-align: middle;\n",
       "    }\n",
       "\n",
       "    .dataframe tbody tr th {\n",
       "        vertical-align: top;\n",
       "    }\n",
       "\n",
       "    .dataframe thead th {\n",
       "        text-align: right;\n",
       "    }\n",
       "</style>\n",
       "<table border=\"1\" class=\"dataframe\">\n",
       "  <thead>\n",
       "    <tr style=\"text-align: right;\">\n",
       "      <th></th>\n",
       "      <th>price</th>\n",
       "      <th>change_percent</th>\n",
       "      <th>change_type</th>\n",
       "    </tr>\n",
       "  </thead>\n",
       "  <tbody>\n",
       "    <tr>\n",
       "      <th>0</th>\n",
       "      <td>2186.48</td>\n",
       "      <td>first</td>\n",
       "      <td>first</td>\n",
       "    </tr>\n",
       "    <tr>\n",
       "      <th>1</th>\n",
       "      <td>2186.16</td>\n",
       "      <td>-0.014635</td>\n",
       "      <td>down</td>\n",
       "    </tr>\n",
       "    <tr>\n",
       "      <th>2</th>\n",
       "      <td>2181.3</td>\n",
       "      <td>-0.222308</td>\n",
       "      <td>down</td>\n",
       "    </tr>\n",
       "    <tr>\n",
       "      <th>3</th>\n",
       "      <td>2127.81</td>\n",
       "      <td>-2.452207</td>\n",
       "      <td>down</td>\n",
       "    </tr>\n",
       "    <tr>\n",
       "      <th>4</th>\n",
       "      <td>2127.81</td>\n",
       "      <td>0.0</td>\n",
       "      <td>same</td>\n",
       "    </tr>\n",
       "    <tr>\n",
       "      <th>...</th>\n",
       "      <td>...</td>\n",
       "      <td>...</td>\n",
       "      <td>...</td>\n",
       "    </tr>\n",
       "    <tr>\n",
       "      <th>1785</th>\n",
       "      <td>4468.0</td>\n",
       "      <td>0.160732</td>\n",
       "      <td>up</td>\n",
       "    </tr>\n",
       "    <tr>\n",
       "      <th>1786</th>\n",
       "      <td>4468.0</td>\n",
       "      <td>0.0</td>\n",
       "      <td>same</td>\n",
       "    </tr>\n",
       "    <tr>\n",
       "      <th>1787</th>\n",
       "      <td>4468.0</td>\n",
       "      <td>0.0</td>\n",
       "      <td>same</td>\n",
       "    </tr>\n",
       "    <tr>\n",
       "      <th>1788</th>\n",
       "      <td>4479.71</td>\n",
       "      <td>0.262086</td>\n",
       "      <td>up</td>\n",
       "    </tr>\n",
       "    <tr>\n",
       "      <th>1789</th>\n",
       "      <td>4448.08</td>\n",
       "      <td>-0.706072</td>\n",
       "      <td>down</td>\n",
       "    </tr>\n",
       "  </tbody>\n",
       "</table>\n",
       "<p>1790 rows × 3 columns</p>\n",
       "</div>"
      ],
      "text/plain": [
       "        price change_percent change_type\n",
       "0     2186.48          first       first\n",
       "1     2186.16      -0.014635        down\n",
       "2      2181.3      -0.222308        down\n",
       "3     2127.81      -2.452207        down\n",
       "4     2127.81            0.0        same\n",
       "...       ...            ...         ...\n",
       "1785   4468.0       0.160732          up\n",
       "1786   4468.0            0.0        same\n",
       "1787   4468.0            0.0        same\n",
       "1788  4479.71       0.262086          up\n",
       "1789  4448.08      -0.706072        down\n",
       "\n",
       "[1790 rows x 3 columns]"
      ]
     },
     "execution_count": 112,
     "metadata": {},
     "output_type": "execute_result"
    }
   ],
   "source": [
    "daily[['price','change_percent','change_type']]"
   ]
  },
  {
   "cell_type": "code",
   "execution_count": 115,
   "id": "aeb07bbb-0224-45cc-a8fc-d9a7cb9d6498",
   "metadata": {
    "execution": {
     "iopub.execute_input": "2021-08-23T06:00:11.965373Z",
     "iopub.status.busy": "2021-08-23T06:00:11.965182Z",
     "iopub.status.idle": "2021-08-23T06:00:11.969112Z",
     "shell.execute_reply": "2021-08-23T06:00:11.968183Z",
     "shell.execute_reply.started": "2021-08-23T06:00:11.965356Z"
    },
    "tags": []
   },
   "outputs": [],
   "source": [
    "# get rid of first value in sample \n",
    "daily= daily.loc[1:,]"
   ]
  },
  {
   "cell_type": "code",
   "execution_count": 116,
   "id": "36022b00-839e-40e7-b968-49d41c29e1f7",
   "metadata": {
    "execution": {
     "iopub.execute_input": "2021-08-23T06:00:12.442925Z",
     "iopub.status.busy": "2021-08-23T06:00:12.442717Z",
     "iopub.status.idle": "2021-08-23T06:00:12.450561Z",
     "shell.execute_reply": "2021-08-23T06:00:12.449789Z",
     "shell.execute_reply.started": "2021-08-23T06:00:12.442908Z"
    },
    "tags": []
   },
   "outputs": [
    {
     "data": {
      "text/plain": [
       "up      0.390162\n",
       "down    0.305198\n",
       "same    0.304639\n",
       "Name: change_type, dtype: float64"
      ]
     },
     "execution_count": 116,
     "metadata": {},
     "output_type": "execute_result"
    }
   ],
   "source": [
    "daily['change_type'].value_counts(normalize=True)"
   ]
  },
  {
   "cell_type": "markdown",
   "id": "c57f0aeb-9513-475d-b957-12646d3f4308",
   "metadata": {},
   "source": [
    "Roughly even split! "
   ]
  },
  {
   "cell_type": "code",
   "execution_count": 117,
   "id": "27d797e5-5a40-468e-84bd-c72e0c9709a3",
   "metadata": {
    "execution": {
     "iopub.execute_input": "2021-08-23T06:00:48.252743Z",
     "iopub.status.busy": "2021-08-23T06:00:48.252553Z",
     "iopub.status.idle": "2021-08-23T06:00:48.413151Z",
     "shell.execute_reply": "2021-08-23T06:00:48.412492Z",
     "shell.execute_reply.started": "2021-08-23T06:00:48.252726Z"
    }
   },
   "outputs": [],
   "source": [
    "daily.to_csv('daily.csv')"
   ]
  },
  {
   "cell_type": "code",
   "execution_count": 120,
   "id": "775d9843-4751-412c-9ded-aeb2bfc7b5a9",
   "metadata": {
    "execution": {
     "iopub.execute_input": "2021-08-23T06:02:14.402555Z",
     "iopub.status.busy": "2021-08-23T06:02:14.402339Z",
     "iopub.status.idle": "2021-08-23T06:02:14.407215Z",
     "shell.execute_reply": "2021-08-23T06:02:14.406531Z",
     "shell.execute_reply.started": "2021-08-23T06:02:14.402537Z"
    }
   },
   "outputs": [
    {
     "data": {
      "text/plain": [
       "Index(['date', 'text', 'price', 'change_percent', 'change_type'], dtype='object')"
      ]
     },
     "execution_count": 120,
     "metadata": {},
     "output_type": "execute_result"
    }
   ],
   "source": [
    "daily.columns"
   ]
  },
  {
   "cell_type": "code",
   "execution_count": 121,
   "id": "004187c2-7c11-4525-a514-31ce6b0a6215",
   "metadata": {
    "execution": {
     "iopub.execute_input": "2021-08-23T06:02:45.841852Z",
     "iopub.status.busy": "2021-08-23T06:02:45.841651Z",
     "iopub.status.idle": "2021-08-23T06:02:45.947530Z",
     "shell.execute_reply": "2021-08-23T06:02:45.946866Z",
     "shell.execute_reply.started": "2021-08-23T06:02:45.841835Z"
    }
   },
   "outputs": [
    {
     "data": {
      "text/plain": [
       "<AxesSubplot:xlabel='date', ylabel='change_percent'>"
      ]
     },
     "execution_count": 121,
     "metadata": {},
     "output_type": "execute_result"
    },
    {
     "data": {
      "image/png": "[encoded data removed]",
      "text/plain": [
       "<Figure size 432x288 with 1 Axes>"
      ]
     },
     "metadata": {
      "needs_background": "light"
     },
     "output_type": "display_data"
    }
   ],
   "source": [
    "sns.scatterplot(x=daily['date'],y=daily['change_percent'])"
   ]
  },
  {
   "cell_type": "markdown",
   "id": "49829c87-a7a2-414e-a98a-5c913ba79122",
   "metadata": {},
   "source": [
    "Usually not more then a few percentage points in either direction with some outliers "
   ]
  },
  {
   "cell_type": "code",
   "execution_count": null,
   "id": "1117f3c9-0210-4654-b61b-766b6e41626d",
   "metadata": {},
   "outputs": [],
   "source": []
  }
 ],
 "metadata": {
  "kernelspec": {
   "display_name": "Python 3",
   "language": "python",
   "name": "python3"
  },
  "language_info": {
   "codemirror_mode": {
    "name": "ipython",
    "version": 3
   },
   "file_extension": ".py",
   "mimetype": "text/x-python",
   "name": "python",
   "nbconvert_exporter": "python",
   "pygments_lexer": "ipython3",
   "version": "3.8.8"
  },
  "toc-autonumbering": true
 },
 "nbformat": 4,
 "nbformat_minor": 5
}
