{
 "cells": [
  {
   "cell_type": "code",
   "execution_count": 1,
   "id": "3054e6a6-996e-45cd-8b75-88df149811ad",
   "metadata": {
    "execution": {
     "iopub.execute_input": "2021-08-24T14:28:02.779164Z",
     "iopub.status.busy": "2021-08-24T14:28:02.779008Z",
     "iopub.status.idle": "2021-08-24T14:28:03.309437Z",
     "shell.execute_reply": "2021-08-24T14:28:03.308354Z",
     "shell.execute_reply.started": "2021-08-24T14:28:02.779117Z"
    },
    "tags": []
   },
   "outputs": [],
   "source": [
    "#Imports\n",
    "import pandas as pd \n",
    "import numpy as np\n",
    "import seaborn as sns\n",
    "import matplotlib.pyplot as plt \n",
    "import datetime"
   ]
  },
  {
   "cell_type": "code",
   "execution_count": 2,
   "id": "08af6ab4-6ce0-4178-bdfd-52dc8d2d8c38",
   "metadata": {
    "execution": {
     "iopub.execute_input": "2021-08-24T14:28:03.310499Z",
     "iopub.status.busy": "2021-08-24T14:28:03.310371Z",
     "iopub.status.idle": "2021-08-24T14:28:05.424170Z",
     "shell.execute_reply": "2021-08-24T14:28:05.423385Z",
     "shell.execute_reply.started": "2021-08-24T14:28:03.310483Z"
    },
    "tags": []
   },
   "outputs": [],
   "source": [
    "# import hyrum \n",
    "\n",
    "articles_1 = pd.read_csv('2014_2017.csv')\n"
   ]
  },
  {
   "cell_type": "code",
   "execution_count": 3,
   "id": "7e3da1e9-c167-429c-a93a-d13124e4d85d",
   "metadata": {
    "execution": {
     "iopub.execute_input": "2021-08-24T14:28:05.425108Z",
     "iopub.status.busy": "2021-08-24T14:28:05.424977Z",
     "iopub.status.idle": "2021-08-24T14:28:05.432169Z",
     "shell.execute_reply": "2021-08-24T14:28:05.431408Z",
     "shell.execute_reply.started": "2021-08-24T14:28:05.425091Z"
    },
    "tags": []
   },
   "outputs": [
    {
     "data": {
      "text/plain": [
       "(26000, 20)"
      ]
     },
     "execution_count": 3,
     "metadata": {},
     "output_type": "execute_result"
    }
   ],
   "source": [
    "articles_1.shape"
   ]
  },
  {
   "cell_type": "code",
   "execution_count": 4,
   "id": "9b4d2d99-145f-4307-98ae-ed83631c44ca",
   "metadata": {
    "execution": {
     "iopub.execute_input": "2021-08-24T14:28:05.433035Z",
     "iopub.status.busy": "2021-08-24T14:28:05.432904Z",
     "iopub.status.idle": "2021-08-24T14:28:05.437913Z",
     "shell.execute_reply": "2021-08-24T14:28:05.437337Z",
     "shell.execute_reply.started": "2021-08-24T14:28:05.433018Z"
    },
    "tags": []
   },
   "outputs": [
    {
     "data": {
      "text/plain": [
       "Index(['abstract', 'web_url', 'snippet', 'lead_paragraph', 'print_section',\n",
       "       'print_page', 'source', 'multimedia', 'headline', 'keywords',\n",
       "       'pub_date', 'document_type', 'news_desk', 'section_name',\n",
       "       'subsection_name', 'byline', 'type_of_material', '_id', 'word_count',\n",
       "       'uri'],\n",
       "      dtype='object')"
      ]
     },
     "execution_count": 4,
     "metadata": {},
     "output_type": "execute_result"
    }
   ],
   "source": [
    "articles_1.columns"
   ]
  },
  {
   "cell_type": "code",
   "execution_count": 5,
   "id": "ea10a12b-40ad-4a07-a30a-3bd01194e7fa",
   "metadata": {
    "execution": {
     "iopub.execute_input": "2021-08-24T14:28:05.438687Z",
     "iopub.status.busy": "2021-08-24T14:28:05.438562Z",
     "iopub.status.idle": "2021-08-24T14:28:06.028583Z",
     "shell.execute_reply": "2021-08-24T14:28:06.027771Z",
     "shell.execute_reply.started": "2021-08-24T14:28:05.438672Z"
    },
    "tags": []
   },
   "outputs": [],
   "source": [
    "# import pat pulls\n",
    "articles_2 = pd.read_csv('data_2011-2013_PL.csv')"
   ]
  },
  {
   "cell_type": "code",
   "execution_count": 6,
   "id": "9b7638ec-8d04-48d7-9ad3-b7506160c9ba",
   "metadata": {
    "execution": {
     "iopub.execute_input": "2021-08-24T14:28:06.029644Z",
     "iopub.status.busy": "2021-08-24T14:28:06.029482Z",
     "iopub.status.idle": "2021-08-24T14:28:06.034372Z",
     "shell.execute_reply": "2021-08-24T14:28:06.033686Z",
     "shell.execute_reply.started": "2021-08-24T14:28:06.029609Z"
    },
    "tags": []
   },
   "outputs": [
    {
     "data": {
      "text/plain": [
       "(16800, 21)"
      ]
     },
     "execution_count": 6,
     "metadata": {},
     "output_type": "execute_result"
    }
   ],
   "source": [
    "articles_2.shape"
   ]
  },
  {
   "cell_type": "code",
   "execution_count": 7,
   "id": "c3e6e90c-c465-48c4-93f0-905c4d27ccb0",
   "metadata": {
    "execution": {
     "iopub.execute_input": "2021-08-24T14:28:06.035899Z",
     "iopub.status.busy": "2021-08-24T14:28:06.035756Z",
     "iopub.status.idle": "2021-08-24T14:28:06.041309Z",
     "shell.execute_reply": "2021-08-24T14:28:06.040694Z",
     "shell.execute_reply.started": "2021-08-24T14:28:06.035883Z"
    },
    "tags": []
   },
   "outputs": [
    {
     "data": {
      "text/plain": [
       "Index(['Unnamed: 0', 'abstract', 'web_url', 'snippet', 'lead_paragraph',\n",
       "       'print_section', 'print_page', 'source', 'multimedia', 'headline',\n",
       "       'keywords', 'pub_date', 'document_type', 'news_desk', 'section_name',\n",
       "       'byline', 'type_of_material', '_id', 'word_count', 'uri',\n",
       "       'subsection_name'],\n",
       "      dtype='object')"
      ]
     },
     "execution_count": 7,
     "metadata": {},
     "output_type": "execute_result"
    }
   ],
   "source": [
    "articles_2.columns"
   ]
  },
  {
   "cell_type": "code",
   "execution_count": 8,
   "id": "414688bf-1b6c-45d2-944f-f835fffe2783",
   "metadata": {
    "execution": {
     "iopub.execute_input": "2021-08-24T14:28:06.042344Z",
     "iopub.status.busy": "2021-08-24T14:28:06.042217Z",
     "iopub.status.idle": "2021-08-24T14:28:06.048456Z",
     "shell.execute_reply": "2021-08-24T14:28:06.047748Z",
     "shell.execute_reply.started": "2021-08-24T14:28:06.042329Z"
    },
    "tags": []
   },
   "outputs": [
    {
     "data": {
      "text/plain": [
       "0        2013-12-31 23:48:51+00:00\n",
       "1        2013-12-31 22:56:18+00:00\n",
       "2        2013-12-31 22:48:35+00:00\n",
       "3        2013-12-31 21:36:51+00:00\n",
       "4        2013-12-31 19:37:42+00:00\n",
       "                   ...            \n",
       "16795    2010-12-28 01:26:13+00:00\n",
       "16796    2010-12-28 01:18:26+00:00\n",
       "16797    2010-12-28 01:09:45+00:00\n",
       "16798    2010-12-28 01:03:13+00:00\n",
       "16799    2010-12-27 23:38:59+00:00\n",
       "Name: pub_date, Length: 16800, dtype: object"
      ]
     },
     "execution_count": 8,
     "metadata": {},
     "output_type": "execute_result"
    }
   ],
   "source": [
    "articles_2['pub_date']"
   ]
  },
  {
   "cell_type": "code",
   "execution_count": 9,
   "id": "119dfa7a-b2e5-43bd-81b2-9d8e47c4822b",
   "metadata": {
    "execution": {
     "iopub.execute_input": "2021-08-24T14:28:06.049209Z",
     "iopub.status.busy": "2021-08-24T14:28:06.049081Z",
     "iopub.status.idle": "2021-08-24T14:28:08.834114Z",
     "shell.execute_reply": "2021-08-24T14:28:08.833330Z",
     "shell.execute_reply.started": "2021-08-24T14:28:06.049192Z"
    },
    "tags": []
   },
   "outputs": [],
   "source": [
    "# import Tan pulls \n",
    "df_1 = pd.read_csv('df_1.csv')\n",
    "df_2 = pd.read_csv('df_2.csv')\n",
    "df_3 = pd.read_csv('df_3.csv')\n",
    "df_4 = pd.read_csv('df_4.csv')\n",
    "df_5 = pd.read_csv('df_5.csv')\n",
    "df_6 = pd.read_csv('df_6.csv')\n",
    "df_7 = pd.read_csv('df_7.csv')\n",
    "df_8 = pd.read_csv('df_8.csv')\n",
    "df_9 = pd.read_csv('df_9.csv')\n",
    "df_10 = pd.read_csv('df_10.csv')\n",
    "df_11 = pd.read_csv('df_11.csv')\n",
    "\n",
    "# combine Tan files into single dataframe \n",
    "dfs = [df_1,df_2,df_3,df_4,df_5,df_6,df_7,df_8,df_9,df_10,df_11]\n",
    "articles_3 = pd.concat(dfs,ignore_index=True)\n"
   ]
  },
  {
   "cell_type": "code",
   "execution_count": 10,
   "id": "a0dbcc15-5c44-4766-afe8-058d141b4097",
   "metadata": {
    "execution": {
     "iopub.execute_input": "2021-08-24T14:28:08.835073Z",
     "iopub.status.busy": "2021-08-24T14:28:08.834941Z",
     "iopub.status.idle": "2021-08-24T14:28:08.840622Z",
     "shell.execute_reply": "2021-08-24T14:28:08.839320Z",
     "shell.execute_reply.started": "2021-08-24T14:28:08.835057Z"
    },
    "tags": []
   },
   "outputs": [
    {
     "data": {
      "text/plain": [
       "(21000, 21)"
      ]
     },
     "execution_count": 10,
     "metadata": {},
     "output_type": "execute_result"
    }
   ],
   "source": [
    "articles_3.shape"
   ]
  },
  {
   "cell_type": "code",
   "execution_count": 11,
   "id": "24eb3f94-ef99-401d-83d9-af035b131844",
   "metadata": {
    "execution": {
     "iopub.execute_input": "2021-08-24T14:28:08.841816Z",
     "iopub.status.busy": "2021-08-24T14:28:08.841634Z",
     "iopub.status.idle": "2021-08-24T14:28:08.848006Z",
     "shell.execute_reply": "2021-08-24T14:28:08.847322Z",
     "shell.execute_reply.started": "2021-08-24T14:28:08.841796Z"
    },
    "tags": []
   },
   "outputs": [
    {
     "data": {
      "text/plain": [
       "0        2021-08-17 21:47:12+00:00\n",
       "1        2021-08-17 18:12:52+00:00\n",
       "2        2021-08-17 16:59:51+00:00\n",
       "3        2021-08-17 15:33:53+00:00\n",
       "4        2021-08-17 15:00:06+00:00\n",
       "                   ...            \n",
       "20995    2016-09-06 15:33:30+00:00\n",
       "20996    2016-09-06 15:32:36+00:00\n",
       "20997    2016-09-06 15:25:36+00:00\n",
       "20998    2016-09-06 13:54:02+00:00\n",
       "20999    2016-09-06 13:20:44+00:00\n",
       "Name: pub_date, Length: 21000, dtype: object"
      ]
     },
     "execution_count": 11,
     "metadata": {},
     "output_type": "execute_result"
    }
   ],
   "source": [
    "articles_3['pub_date']"
   ]
  },
  {
   "cell_type": "code",
   "execution_count": 12,
   "id": "c23353a2-7add-4f71-a246-dfda8172c12c",
   "metadata": {
    "execution": {
     "iopub.execute_input": "2021-08-24T14:28:08.848934Z",
     "iopub.status.busy": "2021-08-24T14:28:08.848794Z",
     "iopub.status.idle": "2021-08-24T14:28:08.909450Z",
     "shell.execute_reply": "2021-08-24T14:28:08.908573Z",
     "shell.execute_reply.started": "2021-08-24T14:28:08.848918Z"
    },
    "tags": []
   },
   "outputs": [],
   "source": [
    "articles_df = pd.concat([articles_1,articles_2,articles_3])"
   ]
  },
  {
   "cell_type": "code",
   "execution_count": 13,
   "id": "e25c61b8-883d-400c-8b0b-cfb50aa8deec",
   "metadata": {
    "execution": {
     "iopub.execute_input": "2021-08-24T14:28:08.910741Z",
     "iopub.status.busy": "2021-08-24T14:28:08.910591Z",
     "iopub.status.idle": "2021-08-24T14:28:08.915995Z",
     "shell.execute_reply": "2021-08-24T14:28:08.915331Z",
     "shell.execute_reply.started": "2021-08-24T14:28:08.910724Z"
    },
    "tags": []
   },
   "outputs": [
    {
     "data": {
      "text/plain": [
       "(63800, 21)"
      ]
     },
     "execution_count": 13,
     "metadata": {},
     "output_type": "execute_result"
    }
   ],
   "source": [
    "articles_df.shape"
   ]
  },
  {
   "cell_type": "code",
   "execution_count": 14,
   "id": "c2e73c72-b31b-4a78-93f5-463c9e1bda48",
   "metadata": {
    "execution": {
     "iopub.execute_input": "2021-08-24T14:28:08.916935Z",
     "iopub.status.busy": "2021-08-24T14:28:08.916795Z",
     "iopub.status.idle": "2021-08-24T14:28:09.005935Z",
     "shell.execute_reply": "2021-08-24T14:28:09.005336Z",
     "shell.execute_reply.started": "2021-08-24T14:28:08.916920Z"
    },
    "tags": []
   },
   "outputs": [
    {
     "data": {
      "text/plain": [
       "abstract               33\n",
       "web_url                 0\n",
       "snippet               635\n",
       "lead_paragraph        111\n",
       "print_section       18710\n",
       "print_page          18704\n",
       "source                  0\n",
       "multimedia              0\n",
       "headline                0\n",
       "keywords                0\n",
       "pub_date                0\n",
       "document_type           0\n",
       "news_desk               0\n",
       "section_name            0\n",
       "subsection_name     34385\n",
       "byline                  0\n",
       "type_of_material        0\n",
       "_id                     0\n",
       "word_count              0\n",
       "uri                     0\n",
       "Unnamed: 0          26000\n",
       "dtype: int64"
      ]
     },
     "execution_count": 14,
     "metadata": {},
     "output_type": "execute_result"
    }
   ],
   "source": [
    "articles_df.isnull().sum()"
   ]
  },
  {
   "cell_type": "code",
   "execution_count": 15,
   "id": "67172936-a960-4cfc-9394-4dc6c587f978",
   "metadata": {
    "execution": {
     "iopub.execute_input": "2021-08-24T14:28:09.007198Z",
     "iopub.status.busy": "2021-08-24T14:28:09.006984Z",
     "iopub.status.idle": "2021-08-24T14:28:09.154393Z",
     "shell.execute_reply": "2021-08-24T14:28:09.153488Z",
     "shell.execute_reply.started": "2021-08-24T14:28:09.007178Z"
    },
    "tags": []
   },
   "outputs": [],
   "source": [
    "# drop duplicates \n",
    "articles_df = articles_df.drop_duplicates(subset='lead_paragraph')"
   ]
  },
  {
   "cell_type": "code",
   "execution_count": 16,
   "id": "fb39f34a-f6fa-444d-a249-13caadf10e6f",
   "metadata": {
    "execution": {
     "iopub.execute_input": "2021-08-24T14:28:09.155404Z",
     "iopub.status.busy": "2021-08-24T14:28:09.155249Z",
     "iopub.status.idle": "2021-08-24T14:28:09.217445Z",
     "shell.execute_reply": "2021-08-24T14:28:09.216464Z",
     "shell.execute_reply.started": "2021-08-24T14:28:09.155385Z"
    },
    "tags": []
   },
   "outputs": [],
   "source": [
    "# sort entries by date \n",
    "articles_df= articles_df.sort_values(by='pub_date')"
   ]
  },
  {
   "cell_type": "code",
   "execution_count": 17,
   "id": "c5e6535c-58f5-4795-86ef-e9d282d15190",
   "metadata": {
    "execution": {
     "iopub.execute_input": "2021-08-24T14:28:09.218468Z",
     "iopub.status.busy": "2021-08-24T14:28:09.218326Z",
     "iopub.status.idle": "2021-08-24T14:28:09.222047Z",
     "shell.execute_reply": "2021-08-24T14:28:09.221371Z",
     "shell.execute_reply.started": "2021-08-24T14:28:09.218450Z"
    }
   },
   "outputs": [],
   "source": [
    "articles_df.reset_index(drop=True,inplace=True)"
   ]
  },
  {
   "cell_type": "code",
   "execution_count": 18,
   "id": "1ca40a07-dc2c-45c1-960b-583a0aac6bae",
   "metadata": {
    "execution": {
     "iopub.execute_input": "2021-08-24T14:28:09.222804Z",
     "iopub.status.busy": "2021-08-24T14:28:09.222676Z",
     "iopub.status.idle": "2021-08-24T14:28:09.229133Z",
     "shell.execute_reply": "2021-08-24T14:28:09.228402Z",
     "shell.execute_reply.started": "2021-08-24T14:28:09.222788Z"
    }
   },
   "outputs": [],
   "source": [
    "#import sp500 file \n",
    "sp500 = pd.read_csv('sp500.csv')"
   ]
  },
  {
   "cell_type": "markdown",
   "id": "750131ff-7e55-485d-8987-0994c47ddd7e",
   "metadata": {},
   "source": [
    "# Combine articles and sp500 data "
   ]
  },
  {
   "cell_type": "code",
   "execution_count": 19,
   "id": "46591351-e7b6-4b84-bb4c-12fa0f4da226",
   "metadata": {
    "execution": {
     "iopub.execute_input": "2021-08-24T14:28:09.230023Z",
     "iopub.status.busy": "2021-08-24T14:28:09.229894Z",
     "iopub.status.idle": "2021-08-24T14:28:09.236274Z",
     "shell.execute_reply": "2021-08-24T14:28:09.235421Z",
     "shell.execute_reply.started": "2021-08-24T14:28:09.230006Z"
    }
   },
   "outputs": [
    {
     "data": {
      "text/plain": [
       "datetime.date(2011, 7, 29)"
      ]
     },
     "execution_count": 19,
     "metadata": {},
     "output_type": "execute_result"
    }
   ],
   "source": [
    "# how to convert sp500 effective date to datetime date \n",
    "datetime.datetime.date(datetime.datetime.strptime(sp500['Effective date '][0],'%m/%d/%Y'))"
   ]
  },
  {
   "cell_type": "code",
   "execution_count": 20,
   "id": "990e4b95-628f-4de2-9b18-ea5a295827f5",
   "metadata": {
    "execution": {
     "iopub.execute_input": "2021-08-24T14:28:09.237100Z",
     "iopub.status.busy": "2021-08-24T14:28:09.236969Z",
     "iopub.status.idle": "2021-08-24T14:28:09.241967Z",
     "shell.execute_reply": "2021-08-24T14:28:09.241391Z",
     "shell.execute_reply.started": "2021-08-24T14:28:09.237084Z"
    },
    "tags": []
   },
   "outputs": [
    {
     "data": {
      "text/plain": [
       "'2010-12-27'"
      ]
     },
     "execution_count": 20,
     "metadata": {},
     "output_type": "execute_result"
    }
   ],
   "source": [
    "articles_df['pub_date'][0].split()[0]"
   ]
  },
  {
   "cell_type": "code",
   "execution_count": 21,
   "id": "2bd81f8e-0d70-4ba0-a730-0e2dbd40a2fe",
   "metadata": {
    "execution": {
     "iopub.execute_input": "2021-08-24T14:28:09.242738Z",
     "iopub.status.busy": "2021-08-24T14:28:09.242607Z",
     "iopub.status.idle": "2021-08-24T14:28:09.248498Z",
     "shell.execute_reply": "2021-08-24T14:28:09.247508Z",
     "shell.execute_reply.started": "2021-08-24T14:28:09.242723Z"
    }
   },
   "outputs": [
    {
     "data": {
      "text/plain": [
       "datetime.date(2010, 12, 27)"
      ]
     },
     "execution_count": 21,
     "metadata": {},
     "output_type": "execute_result"
    }
   ],
   "source": [
    "# how to convert articles pub_date to datetime \n",
    "datetime.datetime.date(datetime.datetime.strptime(articles_df['pub_date'][0].split()[0],'%Y-%m-%d'))"
   ]
  },
  {
   "cell_type": "code",
   "execution_count": 22,
   "id": "64c374ed-7bc0-41f7-bb7e-2013ba8c018a",
   "metadata": {
    "execution": {
     "iopub.execute_input": "2021-08-24T14:28:09.249512Z",
     "iopub.status.busy": "2021-08-24T14:28:09.249368Z",
     "iopub.status.idle": "2021-08-24T14:28:09.552427Z",
     "shell.execute_reply": "2021-08-24T14:28:09.551521Z",
     "shell.execute_reply.started": "2021-08-24T14:28:09.249497Z"
    }
   },
   "outputs": [],
   "source": [
    "# update values in pub_date \n",
    "articles_df['date']= articles_df['pub_date'].apply(lambda x:datetime.datetime.date(datetime.datetime.strptime(x.split()[0],'%Y-%m-%d')) )"
   ]
  },
  {
   "cell_type": "code",
   "execution_count": 23,
   "id": "8079735e-e099-47fa-8ad7-64d35f879c29",
   "metadata": {
    "execution": {
     "iopub.execute_input": "2021-08-24T14:28:09.553496Z",
     "iopub.status.busy": "2021-08-24T14:28:09.553335Z",
     "iopub.status.idle": "2021-08-24T14:28:09.571455Z",
     "shell.execute_reply": "2021-08-24T14:28:09.570487Z",
     "shell.execute_reply.started": "2021-08-24T14:28:09.553479Z"
    }
   },
   "outputs": [],
   "source": [
    "# update values in sp500 \n",
    "sp500['date']= sp500['Effective date '].apply(lambda x:datetime.datetime.date(datetime.datetime.strptime(x,'%m/%d/%Y')) )"
   ]
  },
  {
   "cell_type": "code",
   "execution_count": 24,
   "id": "734f4d74-a581-48a0-8252-e938241be9b1",
   "metadata": {
    "execution": {
     "iopub.execute_input": "2021-08-24T14:28:09.572594Z",
     "iopub.status.busy": "2021-08-24T14:28:09.572385Z",
     "iopub.status.idle": "2021-08-24T14:28:09.699171Z",
     "shell.execute_reply": "2021-08-24T14:28:09.697809Z",
     "shell.execute_reply.started": "2021-08-24T14:28:09.572576Z"
    }
   },
   "outputs": [],
   "source": [
    "# combine articles and sp500 \n",
    "data = articles_df.set_index('date').join(sp500.set_index('date'))"
   ]
  },
  {
   "cell_type": "code",
   "execution_count": 25,
   "id": "1df020f6-b677-4db4-a8aa-bdea7adbb13e",
   "metadata": {
    "execution": {
     "iopub.execute_input": "2021-08-24T14:28:09.701771Z",
     "iopub.status.busy": "2021-08-24T14:28:09.701588Z",
     "iopub.status.idle": "2021-08-24T14:28:09.708415Z",
     "shell.execute_reply": "2021-08-24T14:28:09.707608Z",
     "shell.execute_reply.started": "2021-08-24T14:28:09.701753Z"
    }
   },
   "outputs": [
    {
     "data": {
      "text/plain": [
       "Index(['abstract', 'web_url', 'snippet', 'lead_paragraph', 'print_section',\n",
       "       'print_page', 'source', 'multimedia', 'headline', 'keywords',\n",
       "       'pub_date', 'document_type', 'news_desk', 'section_name',\n",
       "       'subsection_name', 'byline', 'type_of_material', '_id', 'word_count',\n",
       "       'uri', 'Unnamed: 0', 'Effective date ', 'S&P 500'],\n",
       "      dtype='object')"
      ]
     },
     "execution_count": 25,
     "metadata": {},
     "output_type": "execute_result"
    }
   ],
   "source": [
    "data.columns"
   ]
  },
  {
   "cell_type": "code",
   "execution_count": 26,
   "id": "ccd54b1a-0a61-4080-9bee-deffed57ecf8",
   "metadata": {
    "execution": {
     "iopub.execute_input": "2021-08-24T14:28:09.710021Z",
     "iopub.status.busy": "2021-08-24T14:28:09.709860Z",
     "iopub.status.idle": "2021-08-24T14:28:09.799584Z",
     "shell.execute_reply": "2021-08-24T14:28:09.798636Z",
     "shell.execute_reply.started": "2021-08-24T14:28:09.710003Z"
    }
   },
   "outputs": [],
   "source": [
    "# drop duplicate entries for date \n",
    "data.drop(columns=['Effective date ','pub_date'],inplace=True)"
   ]
  },
  {
   "cell_type": "code",
   "execution_count": null,
   "id": "a728ca38-2180-48f8-bd4d-711db9f01d8c",
   "metadata": {},
   "outputs": [],
   "source": []
  },
  {
   "cell_type": "markdown",
   "id": "af3e1b93-41e6-4511-afdc-80ddf476a905",
   "metadata": {
    "execution": {
     "iopub.execute_input": "2021-08-24T14:18:19.778987Z",
     "iopub.status.busy": "2021-08-24T14:18:19.778772Z",
     "iopub.status.idle": "2021-08-24T14:18:19.783278Z",
     "shell.execute_reply": "2021-08-24T14:18:19.782413Z",
     "shell.execute_reply.started": "2021-08-24T14:18:19.778970Z"
    }
   },
   "source": [
    "# Go through all columns\n"
   ]
  },
  {
   "cell_type": "code",
   "execution_count": 27,
   "id": "6f3632fc-16ea-4569-8f58-a0a9be21af04",
   "metadata": {
    "execution": {
     "iopub.execute_input": "2021-08-24T14:28:09.800990Z",
     "iopub.status.busy": "2021-08-24T14:28:09.800804Z",
     "iopub.status.idle": "2021-08-24T14:28:09.806272Z",
     "shell.execute_reply": "2021-08-24T14:28:09.805514Z",
     "shell.execute_reply.started": "2021-08-24T14:28:09.800971Z"
    },
    "tags": []
   },
   "outputs": [
    {
     "data": {
      "text/plain": [
       "Index(['abstract', 'web_url', 'snippet', 'lead_paragraph', 'print_section',\n",
       "       'print_page', 'source', 'multimedia', 'headline', 'keywords',\n",
       "       'document_type', 'news_desk', 'section_name', 'subsection_name',\n",
       "       'byline', 'type_of_material', '_id', 'word_count', 'uri', 'Unnamed: 0',\n",
       "       'S&P 500'],\n",
       "      dtype='object')"
      ]
     },
     "execution_count": 27,
     "metadata": {},
     "output_type": "execute_result"
    }
   ],
   "source": [
    "data.columns"
   ]
  },
  {
   "cell_type": "code",
   "execution_count": 28,
   "id": "e0224c4b-46b1-428b-b5d7-c488c7ab684b",
   "metadata": {
    "execution": {
     "iopub.execute_input": "2021-08-24T14:28:09.807179Z",
     "iopub.status.busy": "2021-08-24T14:28:09.807037Z",
     "iopub.status.idle": "2021-08-24T14:28:09.846435Z",
     "shell.execute_reply": "2021-08-24T14:28:09.845595Z",
     "shell.execute_reply.started": "2021-08-24T14:28:09.807162Z"
    },
    "tags": []
   },
   "outputs": [],
   "source": [
    "# drop useless columns\n",
    "data.drop(columns=['print_page','print_section','uri','_id','Unnamed: 0'],inplace=True)"
   ]
  },
  {
   "cell_type": "markdown",
   "id": "16528e34-1682-4e89-9c5c-6070490504ea",
   "metadata": {},
   "source": [
    "## Source "
   ]
  },
  {
   "cell_type": "code",
   "execution_count": 29,
   "id": "a7fc495d-c491-4101-be48-14458bada5cd",
   "metadata": {
    "execution": {
     "iopub.execute_input": "2021-08-24T14:28:09.847735Z",
     "iopub.status.busy": "2021-08-24T14:28:09.847529Z",
     "iopub.status.idle": "2021-08-24T14:28:09.857299Z",
     "shell.execute_reply": "2021-08-24T14:28:09.856556Z",
     "shell.execute_reply.started": "2021-08-24T14:28:09.847715Z"
    }
   },
   "outputs": [
    {
     "data": {
      "text/plain": [
       "The New York Times              0.965591\n",
       "International Herald Tribune    0.025414\n",
       "International New York Times    0.008978\n",
       "AllBusiness                     0.000017\n",
       "Name: source, dtype: float64"
      ]
     },
     "execution_count": 29,
     "metadata": {},
     "output_type": "execute_result"
    }
   ],
   "source": [
    "data['source'].value_counts(normalize=True)"
   ]
  },
  {
   "cell_type": "code",
   "execution_count": 30,
   "id": "72af6bf5-f250-4e43-99e3-549cf45eb1f4",
   "metadata": {
    "execution": {
     "iopub.execute_input": "2021-08-24T14:28:09.858154Z",
     "iopub.status.busy": "2021-08-24T14:28:09.858015Z",
     "iopub.status.idle": "2021-08-24T14:28:09.891279Z",
     "shell.execute_reply": "2021-08-24T14:28:09.890556Z",
     "shell.execute_reply.started": "2021-08-24T14:28:09.858138Z"
    }
   },
   "outputs": [],
   "source": [
    "data.drop(columns='source',inplace=True)"
   ]
  },
  {
   "cell_type": "markdown",
   "id": "e1f13b34-30a1-4d7d-a5ed-ed6b07a41635",
   "metadata": {},
   "source": [
    "## multimedia "
   ]
  },
  {
   "cell_type": "code",
   "execution_count": 31,
   "id": "9ea073a0-d7c4-42df-8f49-c91f5e25e0ce",
   "metadata": {
    "execution": {
     "iopub.execute_input": "2021-08-24T14:28:09.892208Z",
     "iopub.status.busy": "2021-08-24T14:28:09.892060Z",
     "iopub.status.idle": "2021-08-24T14:28:09.960510Z",
     "shell.execute_reply": "2021-08-24T14:28:09.959624Z",
     "shell.execute_reply.started": "2021-08-24T14:28:09.892191Z"
    }
   },
   "outputs": [
    {
     "data": {
      "text/html": [
       "<div>\n",
       "<style scoped>\n",
       "    .dataframe tbody tr th:only-of-type {\n",
       "        vertical-align: middle;\n",
       "    }\n",
       "\n",
       "    .dataframe tbody tr th {\n",
       "        vertical-align: top;\n",
       "    }\n",
       "\n",
       "    .dataframe thead th {\n",
       "        text-align: right;\n",
       "    }\n",
       "</style>\n",
       "<table border=\"1\" class=\"dataframe\">\n",
       "  <thead>\n",
       "    <tr style=\"text-align: right;\">\n",
       "      <th></th>\n",
       "      <th>multimedia</th>\n",
       "    </tr>\n",
       "  </thead>\n",
       "  <tbody>\n",
       "    <tr>\n",
       "      <th>0</th>\n",
       "      <td>[{'rank': 0, 'subtype': 'jumbo', 'caption': None, 'credit': None, 'type': 'image', 'url': 'images/2010/12/28/business/shop/shop-jumbo.jpg', 'height': 616, 'width': 1024, 'legacy': {}, 'subType': 'jumbo', 'crop_name': 'jumbo'}, {'rank': 0, 'subtype': 'popup', 'caption': None, 'credit': None, 'type': 'image', 'url': 'images/2010/12/28/business/shop/shop-popup.jpg', 'height': 391, 'width': 650, 'legacy': {}, 'subType': 'popup', 'crop_name': 'popup'}, {'rank': 0, 'subtype': 'articleInline', 'caption': None, 'credit': None, 'type': 'image', 'url': 'images/2010/12/28/business/shop/shop-articleInline.jpg', 'height': 114, 'width': 190, 'legacy': {}, 'subType': 'articleInline', 'crop_name': 'articleInline'}, {'rank': 0, 'subtype': 'sfSpan', 'caption': None, 'credit': None, 'type': 'image', 'url': 'images/2010/12/28/business/shop/shop-sfSpan.jpg', 'height': 238, 'width': 395, 'legacy': {}, 'subType': 'sfSpan', 'crop_name': 'sfSpan'}, {'rank': 0, 'subtype': 'thumbnail', 'caption': None, 'credit': None, 'type': 'image', 'url': 'images/2010/12/28/business/shop/shop-thumbStandard.jpg', 'height': 75, 'width': 75, 'legacy': {'thumbnail': 'images/2010/12/28/business/shop/shop-thumbStandard.jpg', 'thumbnailwidth': 75, 'thumbnailheight': 75}, 'subType': 'thumbnail', 'crop_name': 'thumbStandard'}]</td>\n",
       "    </tr>\n",
       "  </tbody>\n",
       "</table>\n",
       "</div>"
      ],
      "text/plain": [
       "                                                                                                                                                                                                                                                                                                                                                                                                                                                                                                                                                                                                                                                                                                                                                                                                                                                                                                                                                                                                                                                                                                                                                                                                                                                                                                                                           multimedia\n",
       "0  [{'rank': 0, 'subtype': 'jumbo', 'caption': None, 'credit': None, 'type': 'image', 'url': 'images/2010/12/28/business/shop/shop-jumbo.jpg', 'height': 616, 'width': 1024, 'legacy': {}, 'subType': 'jumbo', 'crop_name': 'jumbo'}, {'rank': 0, 'subtype': 'popup', 'caption': None, 'credit': None, 'type': 'image', 'url': 'images/2010/12/28/business/shop/shop-popup.jpg', 'height': 391, 'width': 650, 'legacy': {}, 'subType': 'popup', 'crop_name': 'popup'}, {'rank': 0, 'subtype': 'articleInline', 'caption': None, 'credit': None, 'type': 'image', 'url': 'images/2010/12/28/business/shop/shop-articleInline.jpg', 'height': 114, 'width': 190, 'legacy': {}, 'subType': 'articleInline', 'crop_name': 'articleInline'}, {'rank': 0, 'subtype': 'sfSpan', 'caption': None, 'credit': None, 'type': 'image', 'url': 'images/2010/12/28/business/shop/shop-sfSpan.jpg', 'height': 238, 'width': 395, 'legacy': {}, 'subType': 'sfSpan', 'crop_name': 'sfSpan'}, {'rank': 0, 'subtype': 'thumbnail', 'caption': None, 'credit': None, 'type': 'image', 'url': 'images/2010/12/28/business/shop/shop-thumbStandard.jpg', 'height': 75, 'width': 75, 'legacy': {'thumbnail': 'images/2010/12/28/business/shop/shop-thumbStandard.jpg', 'thumbnailwidth': 75, 'thumbnailheight': 75}, 'subType': 'thumbnail', 'crop_name': 'thumbStandard'}]"
      ]
     },
     "execution_count": 31,
     "metadata": {},
     "output_type": "execute_result"
    }
   ],
   "source": [
    "pd.set_option('max_colwidth',None)\n",
    "articles_df[['multimedia']].head(1)"
   ]
  },
  {
   "cell_type": "code",
   "execution_count": 32,
   "id": "44b4ef00-7ec0-44e4-87f3-f249708ab755",
   "metadata": {
    "execution": {
     "iopub.execute_input": "2021-08-24T14:28:09.961722Z",
     "iopub.status.busy": "2021-08-24T14:28:09.961545Z",
     "iopub.status.idle": "2021-08-24T14:28:09.986523Z",
     "shell.execute_reply": "2021-08-24T14:28:09.985599Z",
     "shell.execute_reply.started": "2021-08-24T14:28:09.961699Z"
    }
   },
   "outputs": [],
   "source": [
    "data.drop(columns='multimedia',inplace=True)"
   ]
  },
  {
   "cell_type": "markdown",
   "id": "24bce690-1efd-4fb3-9189-727400db926f",
   "metadata": {},
   "source": [
    "## news_desk"
   ]
  },
  {
   "cell_type": "code",
   "execution_count": 33,
   "id": "f75a86f8-c1dd-427f-8ddb-90a2994318f8",
   "metadata": {
    "execution": {
     "iopub.execute_input": "2021-08-24T14:28:09.987670Z",
     "iopub.status.busy": "2021-08-24T14:28:09.987473Z",
     "iopub.status.idle": "2021-08-24T14:28:09.996381Z",
     "shell.execute_reply": "2021-08-24T14:28:09.995616Z",
     "shell.execute_reply.started": "2021-08-24T14:28:09.987651Z"
    }
   },
   "outputs": [
    {
     "data": {
      "text/plain": [
       "Business    59810\n",
       "Name: news_desk, dtype: int64"
      ]
     },
     "execution_count": 33,
     "metadata": {},
     "output_type": "execute_result"
    }
   ],
   "source": [
    "data['news_desk'].value_counts()"
   ]
  },
  {
   "cell_type": "code",
   "execution_count": 34,
   "id": "1d102071-cc49-45da-863f-eb6f14c51c98",
   "metadata": {
    "execution": {
     "iopub.execute_input": "2021-08-24T14:28:09.997337Z",
     "iopub.status.busy": "2021-08-24T14:28:09.997194Z",
     "iopub.status.idle": "2021-08-24T14:28:10.022309Z",
     "shell.execute_reply": "2021-08-24T14:28:10.021591Z",
     "shell.execute_reply.started": "2021-08-24T14:28:09.997320Z"
    },
    "tags": []
   },
   "outputs": [],
   "source": [
    "# all the same so drop \n",
    "data.drop(columns='news_desk',inplace=True)"
   ]
  },
  {
   "cell_type": "markdown",
   "id": "bace5457-cf8c-4e4f-9516-92cfc6e88e4a",
   "metadata": {},
   "source": [
    "## byline"
   ]
  },
  {
   "cell_type": "code",
   "execution_count": 35,
   "id": "9e5a0032-9851-406a-99a6-a77e3938e72e",
   "metadata": {
    "execution": {
     "iopub.execute_input": "2021-08-24T14:28:10.023191Z",
     "iopub.status.busy": "2021-08-24T14:28:10.023059Z",
     "iopub.status.idle": "2021-08-24T14:28:10.047408Z",
     "shell.execute_reply": "2021-08-24T14:28:10.046603Z",
     "shell.execute_reply.started": "2021-08-24T14:28:10.023173Z"
    },
    "tags": []
   },
   "outputs": [
    {
     "data": {
      "text/plain": [
       "(6094, 59810)"
      ]
     },
     "execution_count": 35,
     "metadata": {},
     "output_type": "execute_result"
    }
   ],
   "source": [
    "len(data['byline'].unique()),len(data)"
   ]
  },
  {
   "cell_type": "code",
   "execution_count": 36,
   "id": "2de0ac1d-efb6-4005-b1d9-e578798aff85",
   "metadata": {
    "execution": {
     "iopub.execute_input": "2021-08-24T14:28:10.048413Z",
     "iopub.status.busy": "2021-08-24T14:28:10.048261Z",
     "iopub.status.idle": "2021-08-24T14:28:10.074471Z",
     "shell.execute_reply": "2021-08-24T14:28:10.073628Z",
     "shell.execute_reply.started": "2021-08-24T14:28:10.048396Z"
    }
   },
   "outputs": [],
   "source": [
    "data.drop(columns='byline',inplace=True)"
   ]
  },
  {
   "cell_type": "markdown",
   "id": "990ba6f2-86b2-4264-8838-6f92b4a48a3a",
   "metadata": {},
   "source": [
    "## word_count \n",
    "\n",
    "number of words in article "
   ]
  },
  {
   "cell_type": "code",
   "execution_count": 37,
   "id": "d2d720a2-43eb-4dfa-ae65-64e6543433f6",
   "metadata": {
    "execution": {
     "iopub.execute_input": "2021-08-24T14:28:10.075569Z",
     "iopub.status.busy": "2021-08-24T14:28:10.075405Z",
     "iopub.status.idle": "2021-08-24T14:28:10.501850Z",
     "shell.execute_reply": "2021-08-24T14:28:10.500770Z",
     "shell.execute_reply.started": "2021-08-24T14:28:10.075552Z"
    }
   },
   "outputs": [
    {
     "data": {
      "text/plain": [
       "<seaborn.axisgrid.FacetGrid at 0x7f053182d070>"
      ]
     },
     "execution_count": 37,
     "metadata": {},
     "output_type": "execute_result"
    },
    {
     "data": {
      "image/png": "[encoded data removed]",
      "text/plain": [
       "<Figure size 360x360 with 1 Axes>"
      ]
     },
     "metadata": {
      "needs_background": "light"
     },
     "output_type": "display_data"
    }
   ],
   "source": [
    "sns.displot(data=data,x='word_count',)"
   ]
  },
  {
   "cell_type": "code",
   "execution_count": 38,
   "id": "22bf5608-3934-414a-9755-be36550652bc",
   "metadata": {
    "execution": {
     "iopub.execute_input": "2021-08-24T14:28:20.025903Z",
     "iopub.status.busy": "2021-08-24T14:28:20.025702Z",
     "iopub.status.idle": "2021-08-24T14:28:20.207136Z",
     "shell.execute_reply": "2021-08-24T14:28:20.206436Z",
     "shell.execute_reply.started": "2021-08-24T14:28:20.025885Z"
    }
   },
   "outputs": [
    {
     "data": {
      "text/plain": [
       "<AxesSubplot:xlabel='word_count', ylabel='S&P 500'>"
      ]
     },
     "execution_count": 38,
     "metadata": {},
     "output_type": "execute_result"
    },
    {
     "data": {
      "image/png": "[encoded data removed]",
      "text/plain": [
       "<Figure size 432x288 with 1 Axes>"
      ]
     },
     "metadata": {
      "needs_background": "light"
     },
     "output_type": "display_data"
    }
   ],
   "source": [
    "sns.scatterplot(x=data['word_count'],y=data['S&P 500'])"
   ]
  },
  {
   "cell_type": "markdown",
   "id": "ae6a1aae-339d-433f-90fc-6172a03e28ed",
   "metadata": {},
   "source": [
    "No real relationship not useful  "
   ]
  },
  {
   "cell_type": "code",
   "execution_count": 39,
   "id": "3f590ce4-c373-4a6b-9e7e-ae0fcb3d75b4",
   "metadata": {
    "execution": {
     "iopub.execute_input": "2021-08-24T14:28:32.450506Z",
     "iopub.status.busy": "2021-08-24T14:28:32.450316Z",
     "iopub.status.idle": "2021-08-24T14:28:32.466614Z",
     "shell.execute_reply": "2021-08-24T14:28:32.465948Z",
     "shell.execute_reply.started": "2021-08-24T14:28:32.450489Z"
    }
   },
   "outputs": [],
   "source": [
    "data.drop(columns='word_count',inplace=True)"
   ]
  },
  {
   "cell_type": "markdown",
   "id": "f95b0fb1-ac24-448a-9c2a-b9aa4e932699",
   "metadata": {
    "execution": {
     "iopub.execute_input": "2021-08-24T14:28:38.179864Z",
     "iopub.status.busy": "2021-08-24T14:28:38.179678Z",
     "iopub.status.idle": "2021-08-24T14:28:38.183944Z",
     "shell.execute_reply": "2021-08-24T14:28:38.183256Z",
     "shell.execute_reply.started": "2021-08-24T14:28:38.179847Z"
    }
   },
   "source": [
    "## subsection_name"
   ]
  },
  {
   "cell_type": "code",
   "execution_count": 41,
   "id": "84477a94-b050-4d0c-a22f-ef7ef4b9e2dc",
   "metadata": {
    "execution": {
     "iopub.execute_input": "2021-08-24T14:28:47.023844Z",
     "iopub.status.busy": "2021-08-24T14:28:47.023652Z",
     "iopub.status.idle": "2021-08-24T14:28:47.027392Z",
     "shell.execute_reply": "2021-08-24T14:28:47.026803Z",
     "shell.execute_reply.started": "2021-08-24T14:28:47.023826Z"
    }
   },
   "outputs": [],
   "source": [
    "def missing_check(df):\n",
    "    return df.isnull().sum()/len(df)"
   ]
  },
  {
   "cell_type": "code",
   "execution_count": 42,
   "id": "90fcd921-b161-496a-ae39-68955cc78414",
   "metadata": {
    "execution": {
     "iopub.execute_input": "2021-08-24T14:28:50.719071Z",
     "iopub.status.busy": "2021-08-24T14:28:50.718863Z",
     "iopub.status.idle": "2021-08-24T14:28:50.725530Z",
     "shell.execute_reply": "2021-08-24T14:28:50.724998Z",
     "shell.execute_reply.started": "2021-08-24T14:28:50.719053Z"
    }
   },
   "outputs": [
    {
     "data": {
      "text/plain": [
       "0.5450593546229727"
      ]
     },
     "execution_count": 42,
     "metadata": {},
     "output_type": "execute_result"
    }
   ],
   "source": [
    "# percentage of missing values \n",
    "missing_check(data['subsection_name'])"
   ]
  },
  {
   "cell_type": "code",
   "execution_count": 44,
   "id": "ffb481d3-454b-4241-85cb-229ff8a4493c",
   "metadata": {
    "execution": {
     "iopub.execute_input": "2021-08-24T14:29:15.323739Z",
     "iopub.status.busy": "2021-08-24T14:29:15.323515Z",
     "iopub.status.idle": "2021-08-24T14:29:15.332114Z",
     "shell.execute_reply": "2021-08-24T14:29:15.331241Z",
     "shell.execute_reply.started": "2021-08-24T14:29:15.323718Z"
    },
    "tags": []
   },
   "outputs": [
    {
     "data": {
      "text/plain": [
       "Media                     0.282911\n",
       "DealBook                  0.228188\n",
       "Global Business           0.123631\n",
       "Economy                   0.087284\n",
       "International Business    0.081073\n",
       "                            ...   \n",
       "Fitness & Nutrition       0.000037\n",
       "Africa                    0.000037\n",
       "Health Guide              0.000037\n",
       "Rugby                     0.000037\n",
       "Books Update              0.000037\n",
       "Name: subsection_name, Length: 71, dtype: float64"
      ]
     },
     "execution_count": 44,
     "metadata": {},
     "output_type": "execute_result"
    }
   ],
   "source": [
    "data['subsection_name'].value_counts(normalize=True)"
   ]
  },
  {
   "cell_type": "markdown",
   "id": "96ea0ee5-0323-4090-9f6b-e7c95d54c231",
   "metadata": {},
   "source": [
    "54% missing values and rest mostly in two categories. \n",
    "Missing values not missing at random as they are just general business articles without particular subsections. \n"
   ]
  },
  {
   "cell_type": "code",
   "execution_count": 47,
   "id": "cef6f83b-5194-4107-bc71-c4651c76f16f",
   "metadata": {
    "execution": {
     "iopub.execute_input": "2021-08-24T14:30:56.047974Z",
     "iopub.status.busy": "2021-08-24T14:30:56.047783Z",
     "iopub.status.idle": "2021-08-24T14:30:56.065040Z",
     "shell.execute_reply": "2021-08-24T14:30:56.064329Z",
     "shell.execute_reply.started": "2021-08-24T14:30:56.047956Z"
    }
   },
   "outputs": [],
   "source": [
    "data.drop(columns='subsection_name',inplace=True)"
   ]
  },
  {
   "cell_type": "markdown",
   "id": "a1241ea2-6f5f-4fb5-a998-247926c0eb41",
   "metadata": {},
   "source": [
    "## document_type"
   ]
  },
  {
   "cell_type": "code",
   "execution_count": 48,
   "id": "c53459f5-d8eb-4e95-8f0e-2b0643daa17a",
   "metadata": {
    "execution": {
     "iopub.execute_input": "2021-08-24T14:31:08.481014Z",
     "iopub.status.busy": "2021-08-24T14:31:08.480826Z",
     "iopub.status.idle": "2021-08-24T14:31:08.488101Z",
     "shell.execute_reply": "2021-08-24T14:31:08.487277Z",
     "shell.execute_reply.started": "2021-08-24T14:31:08.480996Z"
    }
   },
   "outputs": [
    {
     "data": {
      "text/plain": [
       "0.0"
      ]
     },
     "execution_count": 48,
     "metadata": {},
     "output_type": "execute_result"
    }
   ],
   "source": [
    "missing_check(data['document_type'])"
   ]
  },
  {
   "cell_type": "code",
   "execution_count": 49,
   "id": "647a9c86-35f6-4d02-9631-e9e02c9fb56d",
   "metadata": {
    "execution": {
     "iopub.execute_input": "2021-08-24T14:31:11.368486Z",
     "iopub.status.busy": "2021-08-24T14:31:11.368295Z",
     "iopub.status.idle": "2021-08-24T14:31:11.376702Z",
     "shell.execute_reply": "2021-08-24T14:31:11.376082Z",
     "shell.execute_reply.started": "2021-08-24T14:31:11.368468Z"
    }
   },
   "outputs": [
    {
     "data": {
      "text/plain": [
       "article    59810\n",
       "Name: document_type, dtype: int64"
      ]
     },
     "execution_count": 49,
     "metadata": {},
     "output_type": "execute_result"
    }
   ],
   "source": [
    "data['document_type'].value_counts()"
   ]
  },
  {
   "cell_type": "markdown",
   "id": "a1b73584-ade0-46c9-bb72-ebef509ba59f",
   "metadata": {},
   "source": [
    "- All results of same type so not useful "
   ]
  },
  {
   "cell_type": "code",
   "execution_count": 50,
   "id": "09ce1d10-a4af-4548-8d6c-2851e19ee50f",
   "metadata": {
    "execution": {
     "iopub.execute_input": "2021-08-24T14:31:22.935178Z",
     "iopub.status.busy": "2021-08-24T14:31:22.934983Z",
     "iopub.status.idle": "2021-08-24T14:31:22.951741Z",
     "shell.execute_reply": "2021-08-24T14:31:22.951041Z",
     "shell.execute_reply.started": "2021-08-24T14:31:22.935160Z"
    }
   },
   "outputs": [],
   "source": [
    "data.drop(columns='document_type',inplace=True)"
   ]
  },
  {
   "cell_type": "markdown",
   "id": "fc258a59-6000-494a-b41c-806ef0156438",
   "metadata": {},
   "source": [
    "## section_name"
   ]
  },
  {
   "cell_type": "code",
   "execution_count": 51,
   "id": "fd6e681d-1e71-4ed2-b300-41603b1e3921",
   "metadata": {
    "execution": {
     "iopub.execute_input": "2021-08-24T14:31:34.081795Z",
     "iopub.status.busy": "2021-08-24T14:31:34.081567Z",
     "iopub.status.idle": "2021-08-24T14:31:34.088735Z",
     "shell.execute_reply": "2021-08-24T14:31:34.088171Z",
     "shell.execute_reply.started": "2021-08-24T14:31:34.081776Z"
    }
   },
   "outputs": [
    {
     "data": {
      "text/plain": [
       "0.0"
      ]
     },
     "execution_count": 51,
     "metadata": {},
     "output_type": "execute_result"
    }
   ],
   "source": [
    "missing_check(data['section_name'])"
   ]
  },
  {
   "cell_type": "code",
   "execution_count": 52,
   "id": "bb81d436-7448-4605-aad3-430b8e592686",
   "metadata": {
    "execution": {
     "iopub.execute_input": "2021-08-24T14:31:37.336066Z",
     "iopub.status.busy": "2021-08-24T14:31:37.335856Z",
     "iopub.status.idle": "2021-08-24T14:31:37.344920Z",
     "shell.execute_reply": "2021-08-24T14:31:37.344291Z",
     "shell.execute_reply.started": "2021-08-24T14:31:37.336049Z"
    }
   },
   "outputs": [
    {
     "data": {
      "text/plain": [
       "Business Day                  0.711938\n",
       "Technology                    0.166042\n",
       "Your Money                    0.035245\n",
       "Crosswords & Games            0.020515\n",
       "Real Estate                   0.016017\n",
       "Automobiles                   0.012205\n",
       "The Upshot                    0.009079\n",
       "Great Homes & Destinations    0.007457\n",
       "U.S.                          0.006236\n",
       "Health                        0.003478\n",
       "Arts                          0.003478\n",
       "World                         0.001806\n",
       "Giving                        0.001221\n",
       "Education                     0.001170\n",
       "Science                       0.001070\n",
       "Fashion & Style               0.000669\n",
       "Smarter Living                0.000518\n",
       "Travel                        0.000351\n",
       "Books                         0.000251\n",
       "Movies                        0.000217\n",
       "Food                          0.000201\n",
       "Climate                       0.000184\n",
       "Sports                        0.000184\n",
       "Well                          0.000117\n",
       "New York                      0.000067\n",
       "Reader Center                 0.000067\n",
       "Booming                       0.000050\n",
       "Times Insider                 0.000050\n",
       "Universal                     0.000033\n",
       "Job Market                    0.000033\n",
       "Style                         0.000033\n",
       "Admin                         0.000017\n",
       "Name: section_name, dtype: float64"
      ]
     },
     "execution_count": 52,
     "metadata": {},
     "output_type": "execute_result"
    }
   ],
   "source": [
    "data['section_name'].value_counts(normalize=True)"
   ]
  },
  {
   "cell_type": "markdown",
   "id": "a5562501-b57d-4da0-9ef6-432ad605bb1e",
   "metadata": {},
   "source": [
    "Mostly in two categories. Not useful for what we are trying to do. "
   ]
  },
  {
   "cell_type": "code",
   "execution_count": 53,
   "id": "b8af9631-0048-4303-ba9e-2c9a0c184820",
   "metadata": {
    "execution": {
     "iopub.execute_input": "2021-08-24T14:31:52.056582Z",
     "iopub.status.busy": "2021-08-24T14:31:52.056388Z",
     "iopub.status.idle": "2021-08-24T14:31:52.073417Z",
     "shell.execute_reply": "2021-08-24T14:31:52.072622Z",
     "shell.execute_reply.started": "2021-08-24T14:31:52.056564Z"
    }
   },
   "outputs": [],
   "source": [
    "data.drop(columns='section_name',inplace=True)"
   ]
  },
  {
   "cell_type": "markdown",
   "id": "206093f9-278d-4bf3-9fed-7f4b04a0afa2",
   "metadata": {},
   "source": [
    "## type_of_material\n"
   ]
  },
  {
   "cell_type": "code",
   "execution_count": 86,
   "id": "4e5ba0f9-9bcd-4972-911d-c3e614637481",
   "metadata": {
    "execution": {
     "iopub.execute_input": "2021-08-24T14:43:45.334661Z",
     "iopub.status.busy": "2021-08-24T14:43:45.334459Z",
     "iopub.status.idle": "2021-08-24T14:43:45.343135Z",
     "shell.execute_reply": "2021-08-24T14:43:45.342399Z",
     "shell.execute_reply.started": "2021-08-24T14:43:45.334643Z"
    }
   },
   "outputs": [
    {
     "data": {
      "text/plain": [
       "News             0.990470\n",
       "News Analysis    0.004247\n",
       "Interview        0.003745\n",
       "List             0.001304\n",
       "Text             0.000234\n",
       "Name: type_of_material, dtype: float64"
      ]
     },
     "execution_count": 86,
     "metadata": {},
     "output_type": "execute_result"
    }
   ],
   "source": [
    "data['type_of_material'].value_counts(normalize=True)"
   ]
  },
  {
   "cell_type": "code",
   "execution_count": 87,
   "id": "d5db8c68-a46b-423e-8792-cab9813bb34f",
   "metadata": {
    "execution": {
     "iopub.execute_input": "2021-08-24T14:43:51.292511Z",
     "iopub.status.busy": "2021-08-24T14:43:51.292319Z",
     "iopub.status.idle": "2021-08-24T14:43:51.302712Z",
     "shell.execute_reply": "2021-08-24T14:43:51.302054Z",
     "shell.execute_reply.started": "2021-08-24T14:43:51.292492Z"
    }
   },
   "outputs": [],
   "source": [
    "data.drop(columns='type_of_material',inplace=True)"
   ]
  },
  {
   "cell_type": "markdown",
   "id": "57533c26-d843-4f97-a95f-974aae07378d",
   "metadata": {},
   "source": [
    "## web_url"
   ]
  },
  {
   "cell_type": "code",
   "execution_count": 54,
   "id": "a444548c-ee12-4ca9-981f-140ebd201393",
   "metadata": {
    "execution": {
     "iopub.execute_input": "2021-08-24T14:32:07.882652Z",
     "iopub.status.busy": "2021-08-24T14:32:07.882428Z",
     "iopub.status.idle": "2021-08-24T14:32:07.891679Z",
     "shell.execute_reply": "2021-08-24T14:32:07.891074Z",
     "shell.execute_reply.started": "2021-08-24T14:32:07.882633Z"
    }
   },
   "outputs": [
    {
     "data": {
      "text/plain": [
       "0.0"
      ]
     },
     "execution_count": 54,
     "metadata": {},
     "output_type": "execute_result"
    }
   ],
   "source": [
    "missing_check(data['web_url'])"
   ]
  },
  {
   "cell_type": "markdown",
   "id": "48b8be84-1a6f-461d-9d77-a09e9a6e8381",
   "metadata": {},
   "source": [
    "No missing values we can leave as identifier for now "
   ]
  },
  {
   "cell_type": "code",
   "execution_count": 55,
   "id": "c0009e63-543c-409b-ae73-f6dbd114b3d5",
   "metadata": {
    "execution": {
     "iopub.execute_input": "2021-08-24T14:32:21.490505Z",
     "iopub.status.busy": "2021-08-24T14:32:21.490308Z",
     "iopub.status.idle": "2021-08-24T14:32:21.513952Z",
     "shell.execute_reply": "2021-08-24T14:32:21.513272Z",
     "shell.execute_reply.started": "2021-08-24T14:32:21.490487Z"
    }
   },
   "outputs": [
    {
     "data": {
      "text/plain": [
       "True"
      ]
     },
     "execution_count": 55,
     "metadata": {},
     "output_type": "execute_result"
    }
   ],
   "source": [
    "# confirm all unique articles \n",
    "len(data['web_url'].unique()) == len(data['web_url'])"
   ]
  },
  {
   "cell_type": "markdown",
   "id": "c6d070af-9577-4bb5-b007-c5829ec7ca22",
   "metadata": {},
   "source": [
    "## abstract and snippet "
   ]
  },
  {
   "cell_type": "code",
   "execution_count": 56,
   "id": "78683122-3af9-4fe8-85eb-f83abceabce2",
   "metadata": {
    "execution": {
     "iopub.execute_input": "2021-08-24T14:32:33.121933Z",
     "iopub.status.busy": "2021-08-24T14:32:33.121738Z",
     "iopub.status.idle": "2021-08-24T14:32:33.139794Z",
     "shell.execute_reply": "2021-08-24T14:32:33.139032Z",
     "shell.execute_reply.started": "2021-08-24T14:32:33.121915Z"
    }
   },
   "outputs": [
    {
     "data": {
      "text/plain": [
       "(0.0, 0.0099983280387895)"
      ]
     },
     "execution_count": 56,
     "metadata": {},
     "output_type": "execute_result"
    }
   ],
   "source": [
    "missing_check(data['abstract']),missing_check(data['snippet'])"
   ]
  },
  {
   "cell_type": "code",
   "execution_count": 57,
   "id": "fec42851-6c02-4197-8b62-54ec10ce28ef",
   "metadata": {
    "execution": {
     "iopub.execute_input": "2021-08-24T14:32:41.623868Z",
     "iopub.status.busy": "2021-08-24T14:32:41.623671Z",
     "iopub.status.idle": "2021-08-24T14:32:41.627918Z",
     "shell.execute_reply": "2021-08-24T14:32:41.627216Z",
     "shell.execute_reply.started": "2021-08-24T14:32:41.623850Z"
    }
   },
   "outputs": [],
   "source": [
    "pd.set_option('max_colwidth',None)"
   ]
  },
  {
   "cell_type": "code",
   "execution_count": 58,
   "id": "18ed20c0-3dc8-47db-902f-554e5d0fa081",
   "metadata": {
    "execution": {
     "iopub.execute_input": "2021-08-24T14:32:44.625238Z",
     "iopub.status.busy": "2021-08-24T14:32:44.625035Z",
     "iopub.status.idle": "2021-08-24T14:32:44.646771Z",
     "shell.execute_reply": "2021-08-24T14:32:44.646200Z",
     "shell.execute_reply.started": "2021-08-24T14:32:44.625221Z"
    }
   },
   "outputs": [
    {
     "data": {
      "text/html": [
       "<div>\n",
       "<style scoped>\n",
       "    .dataframe tbody tr th:only-of-type {\n",
       "        vertical-align: middle;\n",
       "    }\n",
       "\n",
       "    .dataframe tbody tr th {\n",
       "        vertical-align: top;\n",
       "    }\n",
       "\n",
       "    .dataframe thead th {\n",
       "        text-align: right;\n",
       "    }\n",
       "</style>\n",
       "<table border=\"1\" class=\"dataframe\">\n",
       "  <thead>\n",
       "    <tr style=\"text-align: right;\">\n",
       "      <th></th>\n",
       "      <th>abstract</th>\n",
       "      <th>snippet</th>\n",
       "    </tr>\n",
       "    <tr>\n",
       "      <th>date</th>\n",
       "      <th></th>\n",
       "      <th></th>\n",
       "    </tr>\n",
       "  </thead>\n",
       "  <tbody>\n",
       "    <tr>\n",
       "      <th>2010-12-31</th>\n",
       "      <td>Using a new mandate that gives the government unprecedented power over banks, Finance Minister Brian Lenihan said he would transfer billions of euros from national pension reserves into Allied Irish to guard against loan losses, and delist it from major stock exchanges, largely wiping out shareholders.</td>\n",
       "      <td>Using a new mandate that gives the government unprecedented power over banks, Finance Minister Brian Lenihan said he would transfer billions of euros from national pension reserves into Allied Irish to guard against loan losses, and delist it from...</td>\n",
       "    </tr>\n",
       "    <tr>\n",
       "      <th>2011-06-22</th>\n",
       "      <td>The European drug maker AstraZeneca said on Wednesday that it was selling its Astra Tech dental and medical device business to the American company Dentsply for $1.8 billion, in a deal that would create the third-largest dental implant company in the world.</td>\n",
       "      <td>The European drug maker AstraZeneca said on Wednesday that it was selling its Astra Tech dental and medical device business to the American company Dentsply for $1.8 billion, in a deal that would create the third-largest dental implant company in ...</td>\n",
       "    </tr>\n",
       "    <tr>\n",
       "      <th>2011-10-10</th>\n",
       "      <td>Adara Media, Mountain View, Calif., hired four executives: Jeff Cohen, vice president for strategic accounts; Brandon Meyers, sales director; Mark Hersch, vice president for strategic accounts, and Andrew Freedman, regional sales director for the eastern region.</td>\n",
       "      <td>Adara Media, Mountain View, Calif., hired four executives: Jeff Cohen, vice president for strategic accounts; Brandon Meyers, sales director; Mark Hersch, vice president for strategic accounts, and Andrew Freedman, regional sales director for the ...</td>\n",
       "    </tr>\n",
       "    <tr>\n",
       "      <th>2011-11-11</th>\n",
       "      <td>In its first over the air software update, Apple on Thursday issued a software update for the iOS 5 mobile platform that rectifies a battery problem on the iPhone 4S. The software update also adds missing multitasking gestures to the first iPad, fixes a security bug in the Apple iPad 2 and solves a syncing problem with documents and iCloud.</td>\n",
       "      <td>In its first over the air software update, Apple on Thursday issued a software update for the iOS 5 mobile platform that rectifies a battery problem on the iPhone 4S. The software update also adds missing multitasking gestures to the first iPad, f...</td>\n",
       "    </tr>\n",
       "    <tr>\n",
       "      <th>2011-11-11</th>\n",
       "      <td>The technology reporters and editors of The New York Times scour the Web looking for the most interesting, insightful and just plain odd news that might otherwise go unnoticed and unremarked. This morning brings a video of a precocious child who wows his audience, British attempts to recreate Silicon Valley and the patent for teasing a cat with a laser pen.</td>\n",
       "      <td>The technology reporters and editors of The New York Times scour the Web looking for the most interesting, insightful and just plain odd news that might otherwise go unnoticed and unremarked. This morning brings a video of a precocious child who w...</td>\n",
       "    </tr>\n",
       "    <tr>\n",
       "      <th>...</th>\n",
       "      <td>...</td>\n",
       "      <td>...</td>\n",
       "    </tr>\n",
       "    <tr>\n",
       "      <th>2021-07-13</th>\n",
       "      <td>Investors are increasingly eyeing the creator economy — the huge, largely unexplored market of providing digital tools to influencers and helping them run their businesses.</td>\n",
       "      <td>NaN</td>\n",
       "    </tr>\n",
       "    <tr>\n",
       "      <th>2021-07-14</th>\n",
       "      <td>Americans get millions of illegal robocalls every month, despite attempts by the telecommunications industry and government agencies to stop them.</td>\n",
       "      <td>NaN</td>\n",
       "    </tr>\n",
       "    <tr>\n",
       "      <th>2021-07-29</th>\n",
       "      <td>Nothing demonstrated the horrors of the coronavirus contagion in the early stages of the pandemic like the major outbreaks onboard cruise ships, when vacation selfies abruptly turned into grim journals of endless days spent confined to cabins as the virus raged, eventually infecting thousands of people on board, and killing more than 100.</td>\n",
       "      <td>NaN</td>\n",
       "    </tr>\n",
       "    <tr>\n",
       "      <th>2021-08-09</th>\n",
       "      <td>Senators spent a second weekend in a row wrangling over the details of a $1 trillion bipartisan infrastructure proposal, putting off a planned summer break. “We’re doing it the old-fashioned way,” Senator Mitt Romney, Republican of Utah, told reporters on Sunday about the many days of debate.</td>\n",
       "      <td>NaN</td>\n",
       "    </tr>\n",
       "    <tr>\n",
       "      <th>2021-08-17</th>\n",
       "      <td>Jerome H. Powell’s term as chair of the Federal Reserve ends in February. Slots for the vice chair and the Fed’s top bank regulator will also be up for grabs soon, and a position on the Fed’s Board of Governors is already vacant.</td>\n",
       "      <td>NaN</td>\n",
       "    </tr>\n",
       "  </tbody>\n",
       "</table>\n",
       "<p>958 rows × 2 columns</p>\n",
       "</div>"
      ],
      "text/plain": [
       "                                                                                                                                                                                                                                                                                                                                                                           abstract  \\\n",
       "date                                                                                                                                                                                                                                                                                                                                                                                  \n",
       "2010-12-31                                                          Using a new mandate that gives the government unprecedented power over banks, Finance Minister Brian Lenihan said he would transfer billions of euros from national pension reserves into Allied Irish to guard against loan losses, and delist it from major stock exchanges, largely wiping out shareholders.   \n",
       "2011-06-22                                                                                                        The European drug maker AstraZeneca said on Wednesday that it was selling its Astra Tech dental and medical device business to the American company Dentsply for $1.8 billion, in a deal that would create the third-largest dental implant company in the world.   \n",
       "2011-10-10                                                                                                   Adara Media, Mountain View, Calif., hired four executives: Jeff Cohen, vice president for strategic accounts; Brandon Meyers, sales director; Mark Hersch, vice president for strategic accounts, and Andrew Freedman, regional sales director for the eastern region.   \n",
       "2011-11-11                   In its first over the air software update, Apple on Thursday issued a software update for the iOS 5 mobile platform that rectifies a battery problem on the iPhone 4S. The software update also adds missing multitasking gestures to the first iPad, fixes a security bug in the Apple iPad 2 and solves a syncing problem with documents and iCloud.   \n",
       "2011-11-11  The technology reporters and editors of The New York Times scour the Web looking for the most interesting, insightful and just plain odd news that might otherwise go unnoticed and unremarked. This morning brings a video of a precocious child who wows his audience, British attempts to recreate Silicon Valley and the patent for teasing a cat with a laser pen.   \n",
       "...                                                                                                                                                                                                                                                                                                                                                                             ...   \n",
       "2021-07-13                                                                                                                                                                                             Investors are increasingly eyeing the creator economy — the huge, largely unexplored market of providing digital tools to influencers and helping them run their businesses.   \n",
       "2021-07-14                                                                                                                                                                                                                       Americans get millions of illegal robocalls every month, despite attempts by the telecommunications industry and government agencies to stop them.   \n",
       "2021-07-29                     Nothing demonstrated the horrors of the coronavirus contagion in the early stages of the pandemic like the major outbreaks onboard cruise ships, when vacation selfies abruptly turned into grim journals of endless days spent confined to cabins as the virus raged, eventually infecting thousands of people on board, and killing more than 100.   \n",
       "2021-08-09                                                                    Senators spent a second weekend in a row wrangling over the details of a $1 trillion bipartisan infrastructure proposal, putting off a planned summer break. “We’re doing it the old-fashioned way,” Senator Mitt Romney, Republican of Utah, told reporters on Sunday about the many days of debate.   \n",
       "2021-08-17                                                                                                                                    Jerome H. Powell’s term as chair of the Federal Reserve ends in February. Slots for the vice chair and the Fed’s top bank regulator will also be up for grabs soon, and a position on the Fed’s Board of Governors is already vacant.   \n",
       "\n",
       "                                                                                                                                                                                                                                                               snippet  \n",
       "date                                                                                                                                                                                                                                                                    \n",
       "2010-12-31  Using a new mandate that gives the government unprecedented power over banks, Finance Minister Brian Lenihan said he would transfer billions of euros from national pension reserves into Allied Irish to guard against loan losses, and delist it from...  \n",
       "2011-06-22  The European drug maker AstraZeneca said on Wednesday that it was selling its Astra Tech dental and medical device business to the American company Dentsply for $1.8 billion, in a deal that would create the third-largest dental implant company in ...  \n",
       "2011-10-10  Adara Media, Mountain View, Calif., hired four executives: Jeff Cohen, vice president for strategic accounts; Brandon Meyers, sales director; Mark Hersch, vice president for strategic accounts, and Andrew Freedman, regional sales director for the ...  \n",
       "2011-11-11  In its first over the air software update, Apple on Thursday issued a software update for the iOS 5 mobile platform that rectifies a battery problem on the iPhone 4S. The software update also adds missing multitasking gestures to the first iPad, f...  \n",
       "2011-11-11  The technology reporters and editors of The New York Times scour the Web looking for the most interesting, insightful and just plain odd news that might otherwise go unnoticed and unremarked. This morning brings a video of a precocious child who w...  \n",
       "...                                                                                                                                                                                                                                                                ...  \n",
       "2021-07-13                                                                                                                                                                                                                                                         NaN  \n",
       "2021-07-14                                                                                                                                                                                                                                                         NaN  \n",
       "2021-07-29                                                                                                                                                                                                                                                         NaN  \n",
       "2021-08-09                                                                                                                                                                                                                                                         NaN  \n",
       "2021-08-17                                                                                                                                                                                                                                                         NaN  \n",
       "\n",
       "[958 rows x 2 columns]"
      ]
     },
     "execution_count": 58,
     "metadata": {},
     "output_type": "execute_result"
    }
   ],
   "source": [
    "data[data['abstract']!= data['snippet']][['abstract','snippet']]"
   ]
  },
  {
   "cell_type": "code",
   "execution_count": 59,
   "id": "36cc61db-a275-4cc1-882e-e56ac48fe148",
   "metadata": {
    "execution": {
     "iopub.execute_input": "2021-08-24T14:33:08.049696Z",
     "iopub.status.busy": "2021-08-24T14:33:08.049502Z",
     "iopub.status.idle": "2021-08-24T14:33:08.070533Z",
     "shell.execute_reply": "2021-08-24T14:33:08.069865Z",
     "shell.execute_reply.started": "2021-08-24T14:33:08.049678Z"
    }
   },
   "outputs": [
    {
     "data": {
      "text/plain": [
       "abstract      0\n",
       "snippet     598\n",
       "dtype: int64"
      ]
     },
     "execution_count": 59,
     "metadata": {},
     "output_type": "execute_result"
    }
   ],
   "source": [
    "data[data['abstract']!= data['snippet']][['abstract','snippet']].isnull().sum()"
   ]
  },
  {
   "cell_type": "code",
   "execution_count": 60,
   "id": "c10f1d62-65bd-4b8f-8b95-3264bfd125ce",
   "metadata": {
    "execution": {
     "iopub.execute_input": "2021-08-24T14:33:19.792234Z",
     "iopub.status.busy": "2021-08-24T14:33:19.792024Z",
     "iopub.status.idle": "2021-08-24T14:33:19.796471Z",
     "shell.execute_reply": "2021-08-24T14:33:19.795855Z",
     "shell.execute_reply.started": "2021-08-24T14:33:19.792216Z"
    }
   },
   "outputs": [
    {
     "data": {
      "text/plain": [
       "0.010048486875104498"
      ]
     },
     "execution_count": 60,
     "metadata": {},
     "output_type": "execute_result"
    }
   ],
   "source": [
    "601/len(data)"
   ]
  },
  {
   "cell_type": "markdown",
   "id": "f73280ac-65e1-4eef-b94d-81074468b41f",
   "metadata": {},
   "source": [
    "Less then 1% of articles have different values for abstract and snippet. No point in keeping both "
   ]
  },
  {
   "cell_type": "code",
   "execution_count": 61,
   "id": "08522346-6be3-4ebb-b64a-a74c4b3f09fb",
   "metadata": {
    "execution": {
     "iopub.execute_input": "2021-08-24T14:34:00.058715Z",
     "iopub.status.busy": "2021-08-24T14:34:00.058516Z",
     "iopub.status.idle": "2021-08-24T14:34:00.074228Z",
     "shell.execute_reply": "2021-08-24T14:34:00.073367Z",
     "shell.execute_reply.started": "2021-08-24T14:34:00.058694Z"
    }
   },
   "outputs": [],
   "source": [
    "data.drop(columns='snippet',inplace=True)"
   ]
  },
  {
   "cell_type": "markdown",
   "id": "44d3a542-3b0e-4343-897a-6bc337cd7716",
   "metadata": {},
   "source": [
    "## lead_paragraph\n"
   ]
  },
  {
   "cell_type": "code",
   "execution_count": 62,
   "id": "0a596e62-c811-4838-abd2-df66b3de0ad1",
   "metadata": {
    "execution": {
     "iopub.execute_input": "2021-08-24T14:34:14.634805Z",
     "iopub.status.busy": "2021-08-24T14:34:14.634601Z",
     "iopub.status.idle": "2021-08-24T14:34:14.647698Z",
     "shell.execute_reply": "2021-08-24T14:34:14.647045Z",
     "shell.execute_reply.started": "2021-08-24T14:34:14.634787Z"
    }
   },
   "outputs": [
    {
     "data": {
      "text/html": [
       "<div>\n",
       "<style scoped>\n",
       "    .dataframe tbody tr th:only-of-type {\n",
       "        vertical-align: middle;\n",
       "    }\n",
       "\n",
       "    .dataframe tbody tr th {\n",
       "        vertical-align: top;\n",
       "    }\n",
       "\n",
       "    .dataframe thead th {\n",
       "        text-align: right;\n",
       "    }\n",
       "</style>\n",
       "<table border=\"1\" class=\"dataframe\">\n",
       "  <thead>\n",
       "    <tr style=\"text-align: right;\">\n",
       "      <th></th>\n",
       "      <th>abstract</th>\n",
       "      <th>lead_paragraph</th>\n",
       "    </tr>\n",
       "    <tr>\n",
       "      <th>date</th>\n",
       "      <th></th>\n",
       "      <th></th>\n",
       "    </tr>\n",
       "  </thead>\n",
       "  <tbody>\n",
       "    <tr>\n",
       "      <th>2010-12-27</th>\n",
       "      <td>Shoppers spent more this holiday season than at any time since before the recession, according to preliminary data.</td>\n",
       "      <td>Americans are splurging as though it’s 2007 again.</td>\n",
       "    </tr>\n",
       "    <tr>\n",
       "      <th>2010-12-28</th>\n",
       "      <td>The senators are inquiring about spinal surgeries on veterans and soldiers at the Walter Reed Army Medical Center.</td>\n",
       "      <td>Two senators are raising new questions about an experimental use of a Medtronic device in spinal surgery on veterans and soldiers at the Walter Reed Army Medical Center from 2002 to 2004.</td>\n",
       "    </tr>\n",
       "    <tr>\n",
       "      <th>2010-12-28</th>\n",
       "      <td>Some of Canada’s five big banks, which have plenty of money to expand, have their eyes on the American banks despite lackluster investments so far.</td>\n",
       "      <td>OTTAWA — The Bank of Nova Scotia is sometimes praised for having a nearly perfect record with its investments in the United States. But it is the only one of Canada’s five large banks that has largely avoided the American market.</td>\n",
       "    </tr>\n",
       "    <tr>\n",
       "      <th>2010-12-28</th>\n",
       "      <td>Major companies are building playgrounds to publicize their names, improve their images, encourage employees to volunteer and to promote fitness.</td>\n",
       "      <td>MARKETERS like Kraft Foods, MetLife, CVS and Dr Pepper/Snapple Group are steering millions in charitable dollars to a new and somewhat unlikely project — building neighborhood playgrounds for children.</td>\n",
       "    </tr>\n",
       "    <tr>\n",
       "      <th>2010-12-28</th>\n",
       "      <td>Banks will probably be required to hold more capital in 2011, which will make them safer.</td>\n",
       "      <td>The “too big to fail” problem among banks will be partly fixed in 2011.</td>\n",
       "    </tr>\n",
       "    <tr>\n",
       "      <th>...</th>\n",
       "      <td>...</td>\n",
       "      <td>...</td>\n",
       "    </tr>\n",
       "    <tr>\n",
       "      <th>2021-08-17</th>\n",
       "      <td>His newsletter will be free, and readers will have the option to pay a subscription fee to access video chats and previews of his upcoming projects.</td>\n",
       "      <td>The filmmaker and left-wing provocateur Michael Moore has a new venue for his work: the digital newsletter platform Substack.</td>\n",
       "    </tr>\n",
       "    <tr>\n",
       "      <th>2021-08-17</th>\n",
       "      <td>Proof that the online future has arrived: The biggest e-commerce company outside China has unseated the biggest brick-and-mortar seller.</td>\n",
       "      <td>SEATTLE — Amazon has eclipsed Walmart to become the world’s largest retail seller outside China, according to corporate and industry data, a milestone in the shift from brick-and-mortar to online shopping that has changed how people buy everything from Teddy Grahams to teddy bears.</td>\n",
       "    </tr>\n",
       "    <tr>\n",
       "      <th>2021-08-17</th>\n",
       "      <td>Amazon might not be the best shopping site, but using it can feel like magic.</td>\n",
       "      <td>This is a preview of the On Tech With Shira Ovide newsletter, which is now reserved for Times subscribers. Sign up to get it in your inbox three times a week.</td>\n",
       "    </tr>\n",
       "    <tr>\n",
       "      <th>2021-08-17</th>\n",
       "      <td>Some $76 billion of the program’s $800 billion in loans may have been taken improperly, a new paper concludes.</td>\n",
       "      <td>When the Paycheck Protection Program began last year to help small businesses that were struggling during the pandemic, the federal government was determined to get the relief money out fast — so it waived much of the vetting lenders traditionally do on business loans.</td>\n",
       "    </tr>\n",
       "    <tr>\n",
       "      <th>2021-08-17</th>\n",
       "      <td>Robert Allbritton, the owner of Politico, is weighing a lucrative payday against maintaining full control over a widely read Washington news site.</td>\n",
       "      <td>Politico, the Washington news site popular with Beltway power brokers, is seeking as much as $1 billion in a potential deal with the German publishing giant Axel Springer.</td>\n",
       "    </tr>\n",
       "  </tbody>\n",
       "</table>\n",
       "<p>59810 rows × 2 columns</p>\n",
       "</div>"
      ],
      "text/plain": [
       "                                                                                                                                                        abstract  \\\n",
       "date                                                                                                                                                               \n",
       "2010-12-27                                   Shoppers spent more this holiday season than at any time since before the recession, according to preliminary data.   \n",
       "2010-12-28                                    The senators are inquiring about spinal surgeries on veterans and soldiers at the Walter Reed Army Medical Center.   \n",
       "2010-12-28   Some of Canada’s five big banks, which have plenty of money to expand, have their eyes on the American banks despite lackluster investments so far.   \n",
       "2010-12-28     Major companies are building playgrounds to publicize their names, improve their images, encourage employees to volunteer and to promote fitness.   \n",
       "2010-12-28                                                             Banks will probably be required to hold more capital in 2011, which will make them safer.   \n",
       "...                                                                                                                                                          ...   \n",
       "2021-08-17  His newsletter will be free, and readers will have the option to pay a subscription fee to access video chats and previews of his upcoming projects.   \n",
       "2021-08-17              Proof that the online future has arrived: The biggest e-commerce company outside China has unseated the biggest brick-and-mortar seller.   \n",
       "2021-08-17                                                                         Amazon might not be the best shopping site, but using it can feel like magic.   \n",
       "2021-08-17                                        Some $76 billion of the program’s $800 billion in loans may have been taken improperly, a new paper concludes.   \n",
       "2021-08-17    Robert Allbritton, the owner of Politico, is weighing a lucrative payday against maintaining full control over a widely read Washington news site.   \n",
       "\n",
       "                                                                                                                                                                                                                                                                                        lead_paragraph  \n",
       "date                                                                                                                                                                                                                                                                                                    \n",
       "2010-12-27                                                                                                                                                                                                                                          Americans are splurging as though it’s 2007 again.  \n",
       "2010-12-28                                                                                                 Two senators are raising new questions about an experimental use of a Medtronic device in spinal surgery on veterans and soldiers at the Walter Reed Army Medical Center from 2002 to 2004.  \n",
       "2010-12-28                                                       OTTAWA — The Bank of Nova Scotia is sometimes praised for having a nearly perfect record with its investments in the United States. But it is the only one of Canada’s five large banks that has largely avoided the American market.  \n",
       "2010-12-28                                                                                   MARKETERS like Kraft Foods, MetLife, CVS and Dr Pepper/Snapple Group are steering millions in charitable dollars to a new and somewhat unlikely project — building neighborhood playgrounds for children.  \n",
       "2010-12-28                                                                                                                                                                                                                     The “too big to fail” problem among banks will be partly fixed in 2011.  \n",
       "...                                                                                                                                                                                                                                                                                                ...  \n",
       "2021-08-17                                                                                                                                                               The filmmaker and left-wing provocateur Michael Moore has a new venue for his work: the digital newsletter platform Substack.  \n",
       "2021-08-17  SEATTLE — Amazon has eclipsed Walmart to become the world’s largest retail seller outside China, according to corporate and industry data, a milestone in the shift from brick-and-mortar to online shopping that has changed how people buy everything from Teddy Grahams to teddy bears.  \n",
       "2021-08-17                                                                                                                              This is a preview of the On Tech With Shira Ovide newsletter, which is now reserved for Times subscribers. Sign up to get it in your inbox three times a week.  \n",
       "2021-08-17               When the Paycheck Protection Program began last year to help small businesses that were struggling during the pandemic, the federal government was determined to get the relief money out fast — so it waived much of the vetting lenders traditionally do on business loans.  \n",
       "2021-08-17                                                                                                                 Politico, the Washington news site popular with Beltway power brokers, is seeking as much as $1 billion in a potential deal with the German publishing giant Axel Springer.  \n",
       "\n",
       "[59810 rows x 2 columns]"
      ]
     },
     "execution_count": 62,
     "metadata": {},
     "output_type": "execute_result"
    }
   ],
   "source": [
    "# see if abstract and lead_paragraph provide same information.\n",
    "data[['abstract','lead_paragraph']]"
   ]
  },
  {
   "cell_type": "markdown",
   "id": "7759c943-5baf-46dd-bc2d-b4969918494e",
   "metadata": {},
   "source": [
    "Looks like lead paragraph provide different information about the same thing. This will give us more relevent text to work. \n",
    "\n",
    "We can consider combining the two relevent text fields into a single column for simplicity.  "
   ]
  },
  {
   "cell_type": "code",
   "execution_count": 63,
   "id": "6c3d13c6-ff42-404f-89b3-414578eec8f9",
   "metadata": {
    "execution": {
     "iopub.execute_input": "2021-08-24T14:34:41.947181Z",
     "iopub.status.busy": "2021-08-24T14:34:41.946985Z",
     "iopub.status.idle": "2021-08-24T14:34:42.017746Z",
     "shell.execute_reply": "2021-08-24T14:34:42.016753Z",
     "shell.execute_reply.started": "2021-08-24T14:34:41.947164Z"
    }
   },
   "outputs": [],
   "source": [
    "data['text']= data['abstract']+ data['lead_paragraph']"
   ]
  },
  {
   "cell_type": "code",
   "execution_count": 64,
   "id": "efab7ecb-4a21-4338-b49e-e740ca66d364",
   "metadata": {
    "execution": {
     "iopub.execute_input": "2021-08-24T14:34:45.961419Z",
     "iopub.status.busy": "2021-08-24T14:34:45.961229Z",
     "iopub.status.idle": "2021-08-24T14:34:45.999606Z",
     "shell.execute_reply": "2021-08-24T14:34:45.998906Z",
     "shell.execute_reply.started": "2021-08-24T14:34:45.961402Z"
    }
   },
   "outputs": [],
   "source": [
    "# drop abstract and lead_paragraph \n",
    "data.drop(columns=['abstract','lead_paragraph'],inplace=True)"
   ]
  },
  {
   "cell_type": "markdown",
   "id": "8f76a435-570e-4392-bee3-31d96f56c05e",
   "metadata": {},
   "source": [
    "## keywords"
   ]
  },
  {
   "cell_type": "code",
   "execution_count": 65,
   "id": "69373a40-9519-4ada-a479-2a05b4d194b6",
   "metadata": {
    "execution": {
     "iopub.execute_input": "2021-08-24T14:35:10.837659Z",
     "iopub.status.busy": "2021-08-24T14:35:10.837324Z",
     "iopub.status.idle": "2021-08-24T14:35:10.893121Z",
     "shell.execute_reply": "2021-08-24T14:35:10.892430Z",
     "shell.execute_reply.started": "2021-08-24T14:35:10.837626Z"
    }
   },
   "outputs": [
    {
     "data": {
      "text/plain": [
       "55722"
      ]
     },
     "execution_count": 65,
     "metadata": {},
     "output_type": "execute_result"
    }
   ],
   "source": [
    "# unique entries for keywords \n",
    "len(data['keywords'].value_counts())"
   ]
  },
  {
   "cell_type": "code",
   "execution_count": 66,
   "id": "ad187370-3d17-454a-b32c-a843d6155a0e",
   "metadata": {
    "execution": {
     "iopub.execute_input": "2021-08-24T14:35:15.273708Z",
     "iopub.status.busy": "2021-08-24T14:35:15.273508Z",
     "iopub.status.idle": "2021-08-24T14:35:15.279624Z",
     "shell.execute_reply": "2021-08-24T14:35:15.278954Z",
     "shell.execute_reply.started": "2021-08-24T14:35:15.273690Z"
    }
   },
   "outputs": [
    {
     "data": {
      "text/plain": [
       "\"[{'name': 'subject', 'value': 'Shopping and Retail', 'rank': 1, 'major': 'N'}, {'name': 'subject', 'value': 'United States Economy', 'rank': 2, 'major': 'N'}, {'name': 'subject', 'value': 'Holidays and Special Occasions', 'rank': 3, 'major': 'N'}, {'name': 'subject', 'value': 'Sales', 'rank': 4, 'major': 'N'}, {'name': 'subject', 'value': 'Recession and Depression', 'rank': 5, 'major': 'N'}]\""
      ]
     },
     "execution_count": 66,
     "metadata": {},
     "output_type": "execute_result"
    }
   ],
   "source": [
    "data['keywords'][0]"
   ]
  },
  {
   "cell_type": "code",
   "execution_count": 68,
   "id": "f4c1c4b0-63e5-4416-bee9-4b13d4b02781",
   "metadata": {
    "execution": {
     "iopub.execute_input": "2021-08-24T14:35:37.242079Z",
     "iopub.status.busy": "2021-08-24T14:35:37.241868Z",
     "iopub.status.idle": "2021-08-24T14:35:37.247617Z",
     "shell.execute_reply": "2021-08-24T14:35:37.246985Z",
     "shell.execute_reply.started": "2021-08-24T14:35:37.242060Z"
    }
   },
   "outputs": [
    {
     "data": {
      "text/plain": [
       "[\"'name': 'subject', 'value': 'Shopping and Retail', 'rank': 1, 'major': 'N'}, \",\n",
       " \"'name': 'subject', 'value': 'United States Economy', 'rank': 2, 'major': 'N'}, \",\n",
       " \"'name': 'subject', 'value': 'Holidays and Special Occasions', 'rank': 3, 'major': 'N'}, \",\n",
       " \"'name': 'subject', 'value': 'Sales', 'rank': 4, 'major': 'N'}, \",\n",
       " \"'name': 'subject', 'value': 'Recession and Depression', 'rank': 5, 'major': 'N'}]\"]"
      ]
     },
     "execution_count": 68,
     "metadata": {},
     "output_type": "execute_result"
    }
   ],
   "source": [
    "# ignore first entry in list cause not keyword \n",
    "data['keywords'][0].split(\"{\")[1:]"
   ]
  },
  {
   "cell_type": "code",
   "execution_count": 69,
   "id": "a0e450a4-ea48-4195-bf55-37399bbcb407",
   "metadata": {
    "execution": {
     "iopub.execute_input": "2021-08-24T14:35:45.473867Z",
     "iopub.status.busy": "2021-08-24T14:35:45.473679Z",
     "iopub.status.idle": "2021-08-24T14:35:45.478840Z",
     "shell.execute_reply": "2021-08-24T14:35:45.478197Z",
     "shell.execute_reply.started": "2021-08-24T14:35:45.473849Z"
    }
   },
   "outputs": [
    {
     "data": {
      "text/plain": [
       "\"'name': 'subject', 'value': 'Shopping and Retail', 'rank': 1, 'major': 'N'}, \""
      ]
     },
     "execution_count": 69,
     "metadata": {},
     "output_type": "execute_result"
    }
   ],
   "source": [
    "# first entry in list \n",
    "data['keywords'][0].split(\"{\")[1:][0]"
   ]
  },
  {
   "cell_type": "code",
   "execution_count": 70,
   "id": "df92c9ad-c97c-4df2-86d2-f73b71d0a1dc",
   "metadata": {
    "execution": {
     "iopub.execute_input": "2021-08-24T14:36:23.349871Z",
     "iopub.status.busy": "2021-08-24T14:36:23.349679Z",
     "iopub.status.idle": "2021-08-24T14:36:23.353356Z",
     "shell.execute_reply": "2021-08-24T14:36:23.352524Z",
     "shell.execute_reply.started": "2021-08-24T14:36:23.349852Z"
    }
   },
   "outputs": [],
   "source": [
    "# 2nd method \n",
    "# referenced https://stackoverflow.com/questions/988228/convert-a-string-representation-of-a-dictionary-to-a-dictionary\n",
    "import ast"
   ]
  },
  {
   "cell_type": "code",
   "execution_count": 71,
   "id": "d73e0f5b-37ef-4a07-921d-5991a715a227",
   "metadata": {
    "execution": {
     "iopub.execute_input": "2021-08-24T14:36:26.605878Z",
     "iopub.status.busy": "2021-08-24T14:36:26.605689Z",
     "iopub.status.idle": "2021-08-24T14:36:26.611054Z",
     "shell.execute_reply": "2021-08-24T14:36:26.610461Z",
     "shell.execute_reply.started": "2021-08-24T14:36:26.605860Z"
    }
   },
   "outputs": [
    {
     "data": {
      "text/plain": [
       "[{'name': 'persons', 'value': 'Ackman, William A', 'rank': 2, 'major': 'N'},\n",
       " {'name': 'organizations',\n",
       "  'value': 'Chipotle Mexican Grill Inc',\n",
       "  'rank': 3,\n",
       "  'major': 'N'},\n",
       " {'name': 'subject', 'value': 'Fast Food Industry', 'rank': 4, 'major': 'N'},\n",
       " {'name': 'organizations',\n",
       "  'value': 'Pershing Square Holdings',\n",
       "  'rank': 5,\n",
       "  'major': 'N'}]"
      ]
     },
     "execution_count": 71,
     "metadata": {},
     "output_type": "execute_result"
    }
   ],
   "source": [
    "values_list = ast.literal_eval(\"[{'name': 'persons', 'value': 'Ackman, William A', 'rank': 2, 'major': 'N'}, {'name': 'organizations', 'value': 'Chipotle Mexican Grill Inc', 'rank': 3, 'major': 'N'}, {'name': 'subject', 'value': 'Fast Food Industry', 'rank': 4, 'major': 'N'}, {'name': 'organizations', 'value': 'Pershing Square Holdings', 'rank': 5, 'major': 'N'}]\")\n",
    "values_list"
   ]
  },
  {
   "cell_type": "code",
   "execution_count": 72,
   "id": "008591b0-cd06-4c20-9aa3-ef4ee20fb999",
   "metadata": {
    "execution": {
     "iopub.execute_input": "2021-08-24T14:36:36.738106Z",
     "iopub.status.busy": "2021-08-24T14:36:36.737909Z",
     "iopub.status.idle": "2021-08-24T14:36:36.742556Z",
     "shell.execute_reply": "2021-08-24T14:36:36.741982Z",
     "shell.execute_reply.started": "2021-08-24T14:36:36.738089Z"
    }
   },
   "outputs": [
    {
     "name": "stdout",
     "output_type": "stream",
     "text": [
      "Ackman, William A\n",
      "Chipotle Mexican Grill Inc\n",
      "Fast Food Industry\n",
      "Pershing Square Holdings\n"
     ]
    }
   ],
   "source": [
    "for value in values_list: \n",
    "    print(value['value'])"
   ]
  },
  {
   "cell_type": "code",
   "execution_count": 73,
   "id": "121e9e28-9cfd-4eec-be1c-51cf16f0acf9",
   "metadata": {
    "execution": {
     "iopub.execute_input": "2021-08-24T14:36:47.517995Z",
     "iopub.status.busy": "2021-08-24T14:36:47.517760Z",
     "iopub.status.idle": "2021-08-24T14:36:47.522345Z",
     "shell.execute_reply": "2021-08-24T14:36:47.521410Z",
     "shell.execute_reply.started": "2021-08-24T14:36:47.517977Z"
    }
   },
   "outputs": [],
   "source": [
    "# helper function \n",
    "def grab_keywords(entry):\n",
    "    'returns keywords as string from keyword entry for an article'\n",
    "    result= ''\n",
    "    entry_list= ast.literal_eval(entry)\n",
    "    for value in entry_list:\n",
    "        result += value['value'] + ' '\n",
    "    return result.strip()\n",
    "    "
   ]
  },
  {
   "cell_type": "code",
   "execution_count": 74,
   "id": "4287e5a7-1411-4d62-a145-a69bd4fe294f",
   "metadata": {
    "execution": {
     "iopub.execute_input": "2021-08-24T14:36:51.642514Z",
     "iopub.status.busy": "2021-08-24T14:36:51.642322Z",
     "iopub.status.idle": "2021-08-24T14:36:51.647827Z",
     "shell.execute_reply": "2021-08-24T14:36:51.647195Z",
     "shell.execute_reply.started": "2021-08-24T14:36:51.642496Z"
    }
   },
   "outputs": [
    {
     "data": {
      "text/plain": [
       "'Shopping and Retail United States Economy Holidays and Special Occasions Sales Recession and Depression'"
      ]
     },
     "execution_count": 74,
     "metadata": {},
     "output_type": "execute_result"
    }
   ],
   "source": [
    "# test that the function works \n",
    "grab_keywords(data['keywords'][0])"
   ]
  },
  {
   "cell_type": "code",
   "execution_count": 75,
   "id": "f2ee6174-09c2-433b-9904-77ab122fc600",
   "metadata": {
    "execution": {
     "iopub.execute_input": "2021-08-24T14:37:05.594497Z",
     "iopub.status.busy": "2021-08-24T14:37:05.594303Z",
     "iopub.status.idle": "2021-08-24T14:37:09.727829Z",
     "shell.execute_reply": "2021-08-24T14:37:09.726952Z",
     "shell.execute_reply.started": "2021-08-24T14:37:05.594479Z"
    }
   },
   "outputs": [],
   "source": [
    "# make new column for topics using info from keywords \n",
    "data['topics']= data['keywords'].apply(grab_keywords)"
   ]
  },
  {
   "cell_type": "code",
   "execution_count": 76,
   "id": "8542023d-fc67-4394-b821-9e065084ce7a",
   "metadata": {
    "execution": {
     "iopub.execute_input": "2021-08-24T14:41:08.827491Z",
     "iopub.status.busy": "2021-08-24T14:41:08.827266Z",
     "iopub.status.idle": "2021-08-24T14:41:08.858798Z",
     "shell.execute_reply": "2021-08-24T14:41:08.858058Z",
     "shell.execute_reply.started": "2021-08-24T14:41:08.827472Z"
    }
   },
   "outputs": [],
   "source": [
    "# drop keyword column\n",
    "data.drop(columns='keywords',inplace=True)"
   ]
  },
  {
   "cell_type": "markdown",
   "id": "1dad6a91-c992-4262-bd53-b42e6e1276d2",
   "metadata": {},
   "source": [
    "## headline \n"
   ]
  },
  {
   "cell_type": "code",
   "execution_count": 77,
   "id": "fc3bc63e-cdfc-4377-b0ed-e5785f9f497d",
   "metadata": {
    "execution": {
     "iopub.execute_input": "2021-08-24T14:41:25.325427Z",
     "iopub.status.busy": "2021-08-24T14:41:25.325080Z",
     "iopub.status.idle": "2021-08-24T14:41:25.331893Z",
     "shell.execute_reply": "2021-08-24T14:41:25.331235Z",
     "shell.execute_reply.started": "2021-08-24T14:41:25.325384Z"
    }
   },
   "outputs": [
    {
     "data": {
      "text/plain": [
       "date\n",
       "2010-12-27                                             {'main': 'Retail Sales Rebound, Beating Forecasts', 'kicker': None, 'content_kicker': None, 'print_headline': 'Retail Sales Rebound, Beating Forecasts', 'name': None, 'seo': None, 'sub': None}\n",
       "2010-12-28                 {'main': '2 Senators Raise Questions on Use of Medtronic Device', 'kicker': None, 'content_kicker': None, 'print_headline': '2 Senators Raise Questions On Use of Medtronic Device', 'name': None, 'seo': None, 'sub': None}\n",
       "2010-12-28                 {'main': 'U.S. Entices Big Banks in Canada', 'kicker': None, 'content_kicker': None, 'print_headline': 'U.S. Entices Some Banks in Canada Seeking Growth, Despite Variable Results', 'name': None, 'seo': None, 'sub': None}\n",
       "2010-12-28    {'main': 'Companies Promote Health and Brands, Making Playgrounds', 'kicker': 'Advertising', 'content_kicker': None, 'print_headline': 'Companies Promote Health and Brands, Making Playgrounds', 'name': None, 'seo': None, 'sub': None}\n",
       "2010-12-28                                                            {'main': 'Shoring Up Banks So None Fail', 'kicker': None, 'content_kicker': None, 'print_headline': 'Shoring Up Banks So That None Fail', 'name': None, 'seo': None, 'sub': None}\n",
       "Name: headline, dtype: object"
      ]
     },
     "execution_count": 77,
     "metadata": {},
     "output_type": "execute_result"
    }
   ],
   "source": [
    "data['headline'].head()"
   ]
  },
  {
   "cell_type": "markdown",
   "id": "321bfb41-4b65-4033-8796-27411e4d2ded",
   "metadata": {},
   "source": [
    "Extract main since print headline will only exist if it was printed"
   ]
  },
  {
   "cell_type": "code",
   "execution_count": 78,
   "id": "ed17976b-e17e-4f31-a9ee-b0c795cfda01",
   "metadata": {
    "execution": {
     "iopub.execute_input": "2021-08-24T14:41:46.788863Z",
     "iopub.status.busy": "2021-08-24T14:41:46.788666Z",
     "iopub.status.idle": "2021-08-24T14:41:46.793988Z",
     "shell.execute_reply": "2021-08-24T14:41:46.793342Z",
     "shell.execute_reply.started": "2021-08-24T14:41:46.788845Z"
    }
   },
   "outputs": [
    {
     "data": {
      "text/plain": [
       "\"{'main': 'Retail Sales Rebound, Beating Forecasts', 'kicker': None, 'content_kicker': None, 'print_headline': 'Retail Sales Rebound, Beating Forecasts', 'name': None, 'seo': None, 'sub': None}\""
      ]
     },
     "execution_count": 78,
     "metadata": {},
     "output_type": "execute_result"
    }
   ],
   "source": [
    "data['headline'][0]"
   ]
  },
  {
   "cell_type": "code",
   "execution_count": 79,
   "id": "d21a5361-6b16-440b-a2ef-8cd661036937",
   "metadata": {
    "execution": {
     "iopub.execute_input": "2021-08-24T14:41:57.619524Z",
     "iopub.status.busy": "2021-08-24T14:41:57.619325Z",
     "iopub.status.idle": "2021-08-24T14:41:57.624387Z",
     "shell.execute_reply": "2021-08-24T14:41:57.623695Z",
     "shell.execute_reply.started": "2021-08-24T14:41:57.619505Z"
    }
   },
   "outputs": [
    {
     "data": {
      "text/plain": [
       "{'main': 'Retail Sales Rebound, Beating Forecasts',\n",
       " 'kicker': None,\n",
       " 'content_kicker': None,\n",
       " 'print_headline': 'Retail Sales Rebound, Beating Forecasts',\n",
       " 'name': None,\n",
       " 'seo': None,\n",
       " 'sub': None}"
      ]
     },
     "execution_count": 79,
     "metadata": {},
     "output_type": "execute_result"
    }
   ],
   "source": [
    "ast.literal_eval(data['headline'][0])"
   ]
  },
  {
   "cell_type": "code",
   "execution_count": 80,
   "id": "e473bee6-4900-47d9-b2e4-d3ed0ac86451",
   "metadata": {
    "execution": {
     "iopub.execute_input": "2021-08-24T14:42:05.543041Z",
     "iopub.status.busy": "2021-08-24T14:42:05.542805Z",
     "iopub.status.idle": "2021-08-24T14:42:05.547139Z",
     "shell.execute_reply": "2021-08-24T14:42:05.546419Z",
     "shell.execute_reply.started": "2021-08-24T14:42:05.542984Z"
    }
   },
   "outputs": [],
   "source": [
    "# helper function \n",
    "def grab_headline(entry):\n",
    "    'returns main headline from headline column for a single entry'\n",
    "    return ast.literal_eval(entry)['main']\n",
    "\n",
    "     "
   ]
  },
  {
   "cell_type": "code",
   "execution_count": 81,
   "id": "3eb853ec-8595-45e6-9eca-6c11647a8296",
   "metadata": {
    "execution": {
     "iopub.execute_input": "2021-08-24T14:42:12.212110Z",
     "iopub.status.busy": "2021-08-24T14:42:12.211895Z",
     "iopub.status.idle": "2021-08-24T14:42:12.217107Z",
     "shell.execute_reply": "2021-08-24T14:42:12.216461Z",
     "shell.execute_reply.started": "2021-08-24T14:42:12.212091Z"
    }
   },
   "outputs": [
    {
     "data": {
      "text/plain": [
       "'Retail Sales Rebound, Beating Forecasts'"
      ]
     },
     "execution_count": 81,
     "metadata": {},
     "output_type": "execute_result"
    }
   ],
   "source": [
    "# test that the function works \n",
    "grab_headline(data['headline'][0])"
   ]
  },
  {
   "cell_type": "code",
   "execution_count": 82,
   "id": "0caf90fa-9478-4bd2-a93d-fdcfb7b5f3f4",
   "metadata": {
    "execution": {
     "iopub.execute_input": "2021-08-24T14:42:24.276400Z",
     "iopub.status.busy": "2021-08-24T14:42:24.276185Z",
     "iopub.status.idle": "2021-08-24T14:42:25.491047Z",
     "shell.execute_reply": "2021-08-24T14:42:25.490178Z",
     "shell.execute_reply.started": "2021-08-24T14:42:24.276381Z"
    }
   },
   "outputs": [],
   "source": [
    "# grab headline for each entry in sample \n",
    "data['headline']= data['headline'].apply(grab_headline)"
   ]
  },
  {
   "cell_type": "code",
   "execution_count": 83,
   "id": "885c96d2-fd4e-4821-ad5f-c9af597f72db",
   "metadata": {
    "execution": {
     "iopub.execute_input": "2021-08-24T14:42:35.550198Z",
     "iopub.status.busy": "2021-08-24T14:42:35.549999Z",
     "iopub.status.idle": "2021-08-24T14:42:35.643626Z",
     "shell.execute_reply": "2021-08-24T14:42:35.642635Z",
     "shell.execute_reply.started": "2021-08-24T14:42:35.550180Z"
    }
   },
   "outputs": [],
   "source": [
    "# add headline to front of text column for each observation \n",
    "data['text']= data['headline'] +\". \"+ data['text']"
   ]
  },
  {
   "cell_type": "code",
   "execution_count": 84,
   "id": "4029d38d-4bc0-432d-aa4f-2f973d1c9d26",
   "metadata": {
    "execution": {
     "iopub.execute_input": "2021-08-24T14:42:41.507306Z",
     "iopub.status.busy": "2021-08-24T14:42:41.507111Z",
     "iopub.status.idle": "2021-08-24T14:42:41.515373Z",
     "shell.execute_reply": "2021-08-24T14:42:41.514632Z",
     "shell.execute_reply.started": "2021-08-24T14:42:41.507288Z"
    }
   },
   "outputs": [],
   "source": [
    "# drop headline column \n",
    "data.drop(columns='headline',inplace=True)"
   ]
  },
  {
   "cell_type": "code",
   "execution_count": null,
   "id": "5c1f6521-b50e-4556-9565-50944c41af61",
   "metadata": {},
   "outputs": [],
   "source": []
  },
  {
   "cell_type": "code",
   "execution_count": 88,
   "id": "0c2e81df-6c60-41b2-abea-00b9486c22ed",
   "metadata": {
    "execution": {
     "iopub.execute_input": "2021-08-24T14:44:00.486411Z",
     "iopub.status.busy": "2021-08-24T14:44:00.486216Z",
     "iopub.status.idle": "2021-08-24T14:44:00.491644Z",
     "shell.execute_reply": "2021-08-24T14:44:00.490965Z",
     "shell.execute_reply.started": "2021-08-24T14:44:00.486393Z"
    },
    "tags": []
   },
   "outputs": [
    {
     "data": {
      "text/plain": [
       "Index(['web_url', 'S&P 500', 'text', 'topics'], dtype='object')"
      ]
     },
     "execution_count": 88,
     "metadata": {},
     "output_type": "execute_result"
    }
   ],
   "source": [
    "data.columns\n"
   ]
  },
  {
   "cell_type": "markdown",
   "id": "eeaa7848-77e3-4f61-a928-8793c7a700e0",
   "metadata": {},
   "source": [
    "## S&P 500 \n"
   ]
  },
  {
   "cell_type": "code",
   "execution_count": 89,
   "id": "a97c2e02-77ae-448e-823d-5074efc5bcdf",
   "metadata": {
    "execution": {
     "iopub.execute_input": "2021-08-24T14:44:38.574774Z",
     "iopub.status.busy": "2021-08-24T14:44:38.574580Z",
     "iopub.status.idle": "2021-08-24T14:44:38.580003Z",
     "shell.execute_reply": "2021-08-24T14:44:38.579309Z",
     "shell.execute_reply.started": "2021-08-24T14:44:38.574757Z"
    }
   },
   "outputs": [],
   "source": [
    "data.rename(columns={'S&P 500':'sp500'},inplace=True)"
   ]
  },
  {
   "cell_type": "code",
   "execution_count": 90,
   "id": "ce123f4c-19a6-4177-8ab3-0cf9b6d8c863",
   "metadata": {
    "execution": {
     "iopub.execute_input": "2021-08-24T14:44:44.905824Z",
     "iopub.status.busy": "2021-08-24T14:44:44.905566Z",
     "iopub.status.idle": "2021-08-24T14:44:45.147183Z",
     "shell.execute_reply": "2021-08-24T14:44:45.146469Z",
     "shell.execute_reply.started": "2021-08-24T14:44:44.905806Z"
    }
   },
   "outputs": [
    {
     "data": {
      "image/png": "[encoded data removed]",
      "text/plain": [
       "<Figure size 432x288 with 1 Axes>"
      ]
     },
     "metadata": {
      "needs_background": "light"
     },
     "output_type": "display_data"
    }
   ],
   "source": [
    "# sp500 over time in sample set\n",
    "sns.scatterplot(x=data.index,y=data.sp500);\n",
    "plt.title('S&P 500 Price');\n"
   ]
  },
  {
   "cell_type": "code",
   "execution_count": 91,
   "id": "1baa36eb-d47b-460d-8b87-e8e58da30466",
   "metadata": {
    "execution": {
     "iopub.execute_input": "2021-08-24T14:45:59.265087Z",
     "iopub.status.busy": "2021-08-24T14:45:59.264891Z",
     "iopub.status.idle": "2021-08-24T14:45:59.270420Z",
     "shell.execute_reply": "2021-08-24T14:45:59.269746Z",
     "shell.execute_reply.started": "2021-08-24T14:45:59.265070Z"
    }
   },
   "outputs": [
    {
     "data": {
      "text/plain": [
       "0.1639023574653068"
      ]
     },
     "execution_count": 91,
     "metadata": {},
     "output_type": "execute_result"
    }
   ],
   "source": [
    "missing_check(data['sp500'])"
   ]
  },
  {
   "cell_type": "code",
   "execution_count": null,
   "id": "d82616c7-01ba-42a1-a63d-239bed6b76e8",
   "metadata": {},
   "outputs": [],
   "source": [
    "# drop days in sp500 with no articles \n"
   ]
  },
  {
   "cell_type": "markdown",
   "id": "cc3796d0-e7ef-483c-a059-3636182686d3",
   "metadata": {},
   "source": [
    "###  impute nulls"
   ]
  },
  {
   "cell_type": "markdown",
   "id": "0504775c-7cd0-4029-ab93-b6151ee4ff00",
   "metadata": {},
   "source": [
    "we wont have data for weekends or holidays (days when market is closed) so impute price from previous day! m"
   ]
  },
  {
   "cell_type": "code",
   "execution_count": 92,
   "id": "a28e56bd-2933-47fb-9f7c-e37297dc2373",
   "metadata": {
    "execution": {
     "iopub.execute_input": "2021-08-24T14:46:31.266558Z",
     "iopub.status.busy": "2021-08-24T14:46:31.266360Z",
     "iopub.status.idle": "2021-08-24T14:46:31.273549Z",
     "shell.execute_reply": "2021-08-24T14:46:31.272918Z",
     "shell.execute_reply.started": "2021-08-24T14:46:31.266541Z"
    }
   },
   "outputs": [],
   "source": [
    "# fill nulls with dummy value \n",
    "data['sp500'].fillna('replace',inplace=True) "
   ]
  },
  {
   "cell_type": "code",
   "execution_count": 93,
   "id": "41b04800-da34-45de-8fe7-fb0b8474ad42",
   "metadata": {
    "execution": {
     "iopub.execute_input": "2021-08-24T14:46:36.489561Z",
     "iopub.status.busy": "2021-08-24T14:46:36.489368Z",
     "iopub.status.idle": "2021-08-24T14:46:36.494663Z",
     "shell.execute_reply": "2021-08-24T14:46:36.493966Z",
     "shell.execute_reply.started": "2021-08-24T14:46:36.489544Z"
    }
   },
   "outputs": [
    {
     "data": {
      "text/plain": [
       "Index([2010-12-27, 2010-12-28, 2010-12-28, 2010-12-28, 2010-12-28, 2010-12-28,\n",
       "       2010-12-28, 2010-12-28, 2010-12-28, 2010-12-28,\n",
       "       ...\n",
       "       2021-08-17, 2021-08-17, 2021-08-17, 2021-08-17, 2021-08-17, 2021-08-17,\n",
       "       2021-08-17, 2021-08-17, 2021-08-17, 2021-08-17],\n",
       "      dtype='object', name='date', length=59810)"
      ]
     },
     "execution_count": 93,
     "metadata": {},
     "output_type": "execute_result"
    }
   ],
   "source": [
    "data.index"
   ]
  },
  {
   "cell_type": "code",
   "execution_count": 94,
   "id": "6233d5ca-c68e-491b-aac2-c44c63dc8646",
   "metadata": {
    "execution": {
     "iopub.execute_input": "2021-08-24T14:47:00.110832Z",
     "iopub.status.busy": "2021-08-24T14:47:00.110644Z",
     "iopub.status.idle": "2021-08-24T14:47:00.117198Z",
     "shell.execute_reply": "2021-08-24T14:47:00.116410Z",
     "shell.execute_reply.started": "2021-08-24T14:47:00.110814Z"
    }
   },
   "outputs": [],
   "source": [
    "# remove date from index for now \n",
    "data.reset_index(inplace=True)"
   ]
  },
  {
   "cell_type": "code",
   "execution_count": 95,
   "id": "5d705766-55f1-480b-bc6a-5ab67084a4a8",
   "metadata": {
    "execution": {
     "iopub.execute_input": "2021-08-24T14:47:18.800966Z",
     "iopub.status.busy": "2021-08-24T14:47:18.800750Z",
     "iopub.status.idle": "2021-08-24T14:47:24.180030Z",
     "shell.execute_reply": "2021-08-24T14:47:24.179186Z",
     "shell.execute_reply.started": "2021-08-24T14:47:18.800946Z"
    }
   },
   "outputs": [],
   "source": [
    "# replace nulls with price from previous day \n",
    "for i in range(1,len(data)): # \n",
    "    if data.loc[i,'sp500']=='replace':\n",
    "        data.loc[i,'sp500'] = data.loc[i-1,'sp500']\n",
    "    \n",
    "    "
   ]
  },
  {
   "cell_type": "code",
   "execution_count": 96,
   "id": "6fbce9bb-743f-41b7-bce2-2844edf635d4",
   "metadata": {
    "execution": {
     "iopub.execute_input": "2021-08-24T14:47:26.613878Z",
     "iopub.status.busy": "2021-08-24T14:47:26.613665Z",
     "iopub.status.idle": "2021-08-24T14:47:26.624414Z",
     "shell.execute_reply": "2021-08-24T14:47:26.623772Z",
     "shell.execute_reply.started": "2021-08-24T14:47:26.613860Z"
    }
   },
   "outputs": [
    {
     "data": {
      "text/plain": [
       "True"
      ]
     },
     "execution_count": 96,
     "metadata": {},
     "output_type": "execute_result"
    }
   ],
   "source": [
    "# make sure all replaced properly \n",
    "'replace' in set(data['sp500'])"
   ]
  },
  {
   "cell_type": "code",
   "execution_count": 108,
   "id": "dd97c869-2bf7-4c58-9685-7448a108628c",
   "metadata": {
    "execution": {
     "iopub.execute_input": "2021-08-24T15:06:36.183982Z",
     "iopub.status.busy": "2021-08-24T15:06:36.183790Z",
     "iopub.status.idle": "2021-08-24T15:06:36.194000Z",
     "shell.execute_reply": "2021-08-24T15:06:36.193123Z",
     "shell.execute_reply.started": "2021-08-24T15:06:36.183963Z"
    },
    "tags": []
   },
   "outputs": [
    {
     "data": {
      "text/plain": [
       "0       2010-12-27\n",
       "1       2010-12-28\n",
       "2       2010-12-28\n",
       "3       2010-12-28\n",
       "4       2010-12-28\n",
       "           ...    \n",
       "3410    2011-07-28\n",
       "3411    2011-07-28\n",
       "3412    2011-07-28\n",
       "3413    2011-07-28\n",
       "3414    2011-07-28\n",
       "Name: date, Length: 3415, dtype: object"
      ]
     },
     "execution_count": 108,
     "metadata": {},
     "output_type": "execute_result"
    }
   ],
   "source": [
    "data[data['sp500']=='replace']['date']"
   ]
  },
  {
   "cell_type": "code",
   "execution_count": 109,
   "id": "92ce05dc-1998-4a0f-ac45-ec27d3edd0ee",
   "metadata": {
    "execution": {
     "iopub.execute_input": "2021-08-24T15:07:36.768332Z",
     "iopub.status.busy": "2021-08-24T15:07:36.768137Z",
     "iopub.status.idle": "2021-08-24T15:07:36.774638Z",
     "shell.execute_reply": "2021-08-24T15:07:36.773995Z",
     "shell.execute_reply.started": "2021-08-24T15:07:36.768315Z"
    }
   },
   "outputs": [
    {
     "data": {
      "text/plain": [
       "0       7/29/2011\n",
       "1        8/1/2011\n",
       "2        8/2/2011\n",
       "3        8/3/2011\n",
       "4        8/4/2011\n",
       "          ...    \n",
       "2528    8/16/2021\n",
       "2529    8/17/2021\n",
       "2530    8/18/2021\n",
       "2531    8/19/2021\n",
       "2532    8/20/2021\n",
       "Name: Effective date , Length: 2533, dtype: object"
      ]
     },
     "execution_count": 109,
     "metadata": {},
     "output_type": "execute_result"
    }
   ],
   "source": [
    "sp500['Effective date ']"
   ]
  },
  {
   "cell_type": "markdown",
   "id": "b3dcd8a4-246f-4e9e-85cf-61c56e88d7c3",
   "metadata": {},
   "source": [
    "The ones with replace are ones that we do not have sp500 data from. \n",
    "\n",
    "We will drop these entries for now. "
   ]
  },
  {
   "cell_type": "code",
   "execution_count": 111,
   "id": "d77636d4-9c6e-44ff-97c6-3c24e773de6d",
   "metadata": {
    "execution": {
     "iopub.execute_input": "2021-08-24T15:10:08.360268Z",
     "iopub.status.busy": "2021-08-24T15:10:08.360067Z",
     "iopub.status.idle": "2021-08-24T15:10:08.373373Z",
     "shell.execute_reply": "2021-08-24T15:10:08.372723Z",
     "shell.execute_reply.started": "2021-08-24T15:10:08.360251Z"
    },
    "tags": []
   },
   "outputs": [],
   "source": [
    "# drop all rows for which we do not have sp500 (older then 10 years ago)\n",
    "data= data[data['sp500']!='replace']"
   ]
  },
  {
   "cell_type": "code",
   "execution_count": 115,
   "id": "26278e7e-d285-451e-b575-ca77d9808894",
   "metadata": {
    "execution": {
     "iopub.execute_input": "2021-08-24T15:12:13.084244Z",
     "iopub.status.busy": "2021-08-24T15:12:13.084045Z",
     "iopub.status.idle": "2021-08-24T15:12:13.088055Z",
     "shell.execute_reply": "2021-08-24T15:12:13.087204Z",
     "shell.execute_reply.started": "2021-08-24T15:12:13.084226Z"
    },
    "tags": []
   },
   "outputs": [],
   "source": [
    "data.reset_index(drop=True,inplace=True)"
   ]
  },
  {
   "cell_type": "markdown",
   "id": "f34b4212-744a-4465-8a9b-8cdfa6097c2b",
   "metadata": {},
   "source": [
    "### change in price  "
   ]
  },
  {
   "cell_type": "markdown",
   "id": "05e70a83-4e09-49e9-b571-1ece221cd8aa",
   "metadata": {},
   "source": [
    "#### combine text from articles to single row "
   ]
  },
  {
   "cell_type": "code",
   "execution_count": 117,
   "id": "95c07c8d-94e1-4a5a-baf4-acfa3f8b6ed9",
   "metadata": {
    "execution": {
     "iopub.execute_input": "2021-08-24T15:13:26.280121Z",
     "iopub.status.busy": "2021-08-24T15:13:26.279918Z",
     "iopub.status.idle": "2021-08-24T15:13:26.472402Z",
     "shell.execute_reply": "2021-08-24T15:13:26.471642Z",
     "shell.execute_reply.started": "2021-08-24T15:13:26.280102Z"
    },
    "tags": []
   },
   "outputs": [
    {
     "name": "stderr",
     "output_type": "stream",
     "text": [
      "<ipython-input-117-6b201c8c49a0>:2: SettingWithCopyWarning: \n",
      "A value is trying to be set on a copy of a slice from a DataFrame.\n",
      "Try using .loc[row_indexer,col_indexer] = value instead\n",
      "\n",
      "See the caveats in the documentation: https://pandas.pydata.org/pandas-docs/stable/user_guide/indexing.html#returning-a-view-versus-a-copy\n",
      "  data['text']= data['text']+ ' ' + data['topics']\n"
     ]
    }
   ],
   "source": [
    "# add topics to text column\n",
    "data['text']= data['text']+ ' ' + data['topics']"
   ]
  },
  {
   "cell_type": "code",
   "execution_count": 119,
   "id": "0ba93e42-dd67-447f-9166-6257de73eef6",
   "metadata": {
    "execution": {
     "iopub.execute_input": "2021-08-24T15:13:36.578947Z",
     "iopub.status.busy": "2021-08-24T15:13:36.578751Z",
     "iopub.status.idle": "2021-08-24T15:13:36.583390Z",
     "shell.execute_reply": "2021-08-24T15:13:36.582782Z",
     "shell.execute_reply.started": "2021-08-24T15:13:36.578928Z"
    },
    "tags": []
   },
   "outputs": [
    {
     "data": {
      "text/plain": [
       "'Drug App Comes Free, Ads Included. Epocrates has won over nearly half of the nation’s doctors with its smartphone app. But “free” comes with a price.Epocrates has won over nearly half of the nation’s doctors for its free smartphone apps that lets them look up information on drug dosing, interactions and insurance coverage while seeing a patient.Epocrates Inc Drugs (Pharmaceuticals) Mobile Applications Doctors Advertising and Marketing Smartphones Epocrates Inc Drugs (Pharmaceuticals) Mobile Applications Doctors Advertising and Marketing Smartphones'"
      ]
     },
     "execution_count": 119,
     "metadata": {},
     "output_type": "execute_result"
    }
   ],
   "source": [
    "# confirm worked \n",
    "data['text'][0]"
   ]
  },
  {
   "cell_type": "code",
   "execution_count": 121,
   "id": "7b7adc20-d3c4-4ff7-9f56-82787a3732d5",
   "metadata": {
    "execution": {
     "iopub.execute_input": "2021-08-24T15:13:42.447708Z",
     "iopub.status.busy": "2021-08-24T15:13:42.447519Z",
     "iopub.status.idle": "2021-08-24T15:13:42.454806Z",
     "shell.execute_reply": "2021-08-24T15:13:42.454164Z",
     "shell.execute_reply.started": "2021-08-24T15:13:42.447690Z"
    },
    "tags": []
   },
   "outputs": [
    {
     "name": "stderr",
     "output_type": "stream",
     "text": [
      "/home/tanveer/anaconda3/lib/python3.8/site-packages/pandas/core/frame.py:4901: SettingWithCopyWarning: \n",
      "A value is trying to be set on a copy of a slice from a DataFrame\n",
      "\n",
      "See the caveats in the documentation: https://pandas.pydata.org/pandas-docs/stable/user_guide/indexing.html#returning-a-view-versus-a-copy\n",
      "  return super().drop(\n"
     ]
    }
   ],
   "source": [
    "# drop web_urls and topics \n",
    "data.drop(columns=['web_url','topics'],inplace=True)"
   ]
  },
  {
   "cell_type": "code",
   "execution_count": 122,
   "id": "99162eab-ba1b-4cb8-a899-94a832cbbd86",
   "metadata": {
    "execution": {
     "iopub.execute_input": "2021-08-24T15:14:01.679827Z",
     "iopub.status.busy": "2021-08-24T15:14:01.679632Z",
     "iopub.status.idle": "2021-08-24T15:14:01.687701Z",
     "shell.execute_reply": "2021-08-24T15:14:01.686982Z",
     "shell.execute_reply.started": "2021-08-24T15:14:01.679809Z"
    }
   },
   "outputs": [
    {
     "data": {
      "text/html": [
       "<div>\n",
       "<style scoped>\n",
       "    .dataframe tbody tr th:only-of-type {\n",
       "        vertical-align: middle;\n",
       "    }\n",
       "\n",
       "    .dataframe tbody tr th {\n",
       "        vertical-align: top;\n",
       "    }\n",
       "\n",
       "    .dataframe thead th {\n",
       "        text-align: right;\n",
       "    }\n",
       "</style>\n",
       "<table border=\"1\" class=\"dataframe\">\n",
       "  <thead>\n",
       "    <tr style=\"text-align: right;\">\n",
       "      <th></th>\n",
       "      <th>date</th>\n",
       "      <th>sp500</th>\n",
       "      <th>text</th>\n",
       "    </tr>\n",
       "  </thead>\n",
       "  <tbody>\n",
       "    <tr>\n",
       "      <th>0</th>\n",
       "      <td>2011-07-29</td>\n",
       "      <td>1292.28</td>\n",
       "      <td>Drug App Comes Free, Ads Included. Epocrates has won over nearly half of the nation’s doctors with its smartphone app. But “free” comes with a price.Epocrates has won over nearly half of the nation’s doctors for its free smartphone apps that lets them look up information on drug dosing, interactions and insurance coverage while seeing a patient.Epocrates Inc Drugs (Pharmaceuticals) Mobile Applications Doctors Advertising and Marketing Smartphones Epocrates Inc Drugs (Pharmaceuticals) Mobile Applications Doctors Advertising and Marketing Smartphones</td>\n",
       "    </tr>\n",
       "    <tr>\n",
       "      <th>1</th>\n",
       "      <td>2011-07-29</td>\n",
       "      <td>1292.28</td>\n",
       "      <td>Just Before Deadline, County in Alabama Delays Bankruptcy Move. Commissioners are taking seven days to study a proposal that would reduce the total amount owed, bring down the county’s interest rate and avert bankruptcy.There may still be a way out for Jefferson County, the Alabama county being crushed by its debt.Bankruptcies Alabama Local Government Bankruptcies Alabama Local Government</td>\n",
       "    </tr>\n",
       "    <tr>\n",
       "      <th>2</th>\n",
       "      <td>2011-07-29</td>\n",
       "      <td>1292.28</td>\n",
       "      <td>Judge’s Ruling in Madoff Case Could Reduce Money for Victims. The ruling could pare billions of dollars from the sum that may ultimately be recovered for victims of Bernard L. Madoff’s Ponzi scheme.A federal judge ruled on Thursday that the bankruptcy trustee trying to recover billions for those who lost money in Bernard L. Madoff’s enormous Ponzi scheme did not have the right to sue banks and other third parties on behalf of the victims.Madoff, Bernard L Rakoff, Jed S Picard, Irving H HSBC Holdings PLC Decisions and Verdicts Ponzi Schemes Madoff, Bernard L Rakoff, Jed S Picard, Irving H HSBC Holdings PLC Decisions and Verdicts Ponzi Schemes</td>\n",
       "    </tr>\n",
       "    <tr>\n",
       "      <th>3</th>\n",
       "      <td>2011-07-29</td>\n",
       "      <td>1292.28</td>\n",
       "      <td>Making the Diaper Change Easier for the Changer. Marketing for Huggies Little Movers Slip-On Diapers is focusing on mothers of babies who have a tendency to squirm during a diaper change.IN a new commercial for Huggies Little Movers Slip-On Diapers, which have leg holes and slide on like underwear, a baby rolls over twice in the same direction as a voiceover begins, “Huggies presents a whole new way to change a rolling pin.” Diapers Consumer Behavior Babies and Infants Diapers Consumer Behavior Babies and Infants</td>\n",
       "    </tr>\n",
       "    <tr>\n",
       "      <th>4</th>\n",
       "      <td>2011-07-29</td>\n",
       "      <td>1292.28</td>\n",
       "      <td>Carmakers Back Strict New Rules for Gas Mileage. A hike in government fuel rules to 54.5 miles per gallon by 2025 is being meekly accepted by the car industry.DETROIT — Four years ago, the American auto industry was so opposed to higher fuel economy standards that executives of Detroit camped out in Washington in an unsuccessful bid to undercut them.Automobiles Fuel Efficiency United States Politics and Government General Motors Chrysler LLC Ford Motor Company Obama, Barack Automobiles Fuel Efficiency United States Politics and Government General Motors Chrysler LLC Ford Motor Company Obama, Barack</td>\n",
       "    </tr>\n",
       "  </tbody>\n",
       "</table>\n",
       "</div>"
      ],
      "text/plain": [
       "         date    sp500  \\\n",
       "0  2011-07-29  1292.28   \n",
       "1  2011-07-29  1292.28   \n",
       "2  2011-07-29  1292.28   \n",
       "3  2011-07-29  1292.28   \n",
       "4  2011-07-29  1292.28   \n",
       "\n",
       "                                                                                                                                                                                                                                                                                                                                                                                                                                                                                                                                                                                                                                                                        text  \n",
       "0                                                                                                 Drug App Comes Free, Ads Included. Epocrates has won over nearly half of the nation’s doctors with its smartphone app. But “free” comes with a price.Epocrates has won over nearly half of the nation’s doctors for its free smartphone apps that lets them look up information on drug dosing, interactions and insurance coverage while seeing a patient.Epocrates Inc Drugs (Pharmaceuticals) Mobile Applications Doctors Advertising and Marketing Smartphones Epocrates Inc Drugs (Pharmaceuticals) Mobile Applications Doctors Advertising and Marketing Smartphones  \n",
       "1                                                                                                                                                                                                                                                                    Just Before Deadline, County in Alabama Delays Bankruptcy Move. Commissioners are taking seven days to study a proposal that would reduce the total amount owed, bring down the county’s interest rate and avert bankruptcy.There may still be a way out for Jefferson County, the Alabama county being crushed by its debt.Bankruptcies Alabama Local Government Bankruptcies Alabama Local Government  \n",
       "2  Judge’s Ruling in Madoff Case Could Reduce Money for Victims. The ruling could pare billions of dollars from the sum that may ultimately be recovered for victims of Bernard L. Madoff’s Ponzi scheme.A federal judge ruled on Thursday that the bankruptcy trustee trying to recover billions for those who lost money in Bernard L. Madoff’s enormous Ponzi scheme did not have the right to sue banks and other third parties on behalf of the victims.Madoff, Bernard L Rakoff, Jed S Picard, Irving H HSBC Holdings PLC Decisions and Verdicts Ponzi Schemes Madoff, Bernard L Rakoff, Jed S Picard, Irving H HSBC Holdings PLC Decisions and Verdicts Ponzi Schemes  \n",
       "3                                                                                                                                     Making the Diaper Change Easier for the Changer. Marketing for Huggies Little Movers Slip-On Diapers is focusing on mothers of babies who have a tendency to squirm during a diaper change.IN a new commercial for Huggies Little Movers Slip-On Diapers, which have leg holes and slide on like underwear, a baby rolls over twice in the same direction as a voiceover begins, “Huggies presents a whole new way to change a rolling pin.” Diapers Consumer Behavior Babies and Infants Diapers Consumer Behavior Babies and Infants  \n",
       "4                                              Carmakers Back Strict New Rules for Gas Mileage. A hike in government fuel rules to 54.5 miles per gallon by 2025 is being meekly accepted by the car industry.DETROIT — Four years ago, the American auto industry was so opposed to higher fuel economy standards that executives of Detroit camped out in Washington in an unsuccessful bid to undercut them.Automobiles Fuel Efficiency United States Politics and Government General Motors Chrysler LLC Ford Motor Company Obama, Barack Automobiles Fuel Efficiency United States Politics and Government General Motors Chrysler LLC Ford Motor Company Obama, Barack  "
      ]
     },
     "execution_count": 122,
     "metadata": {},
     "output_type": "execute_result"
    }
   ],
   "source": [
    "data.head()"
   ]
  },
  {
   "cell_type": "code",
   "execution_count": 124,
   "id": "c7f35369-02c9-41c6-b528-31798d61cbb1",
   "metadata": {
    "execution": {
     "iopub.execute_input": "2021-08-24T15:15:34.506408Z",
     "iopub.status.busy": "2021-08-24T15:15:34.506218Z",
     "iopub.status.idle": "2021-08-24T15:15:35.488136Z",
     "shell.execute_reply": "2021-08-24T15:15:35.486978Z",
     "shell.execute_reply.started": "2021-08-24T15:15:34.506391Z"
    },
    "tags": []
   },
   "outputs": [],
   "source": [
    "# make dictionary with dates and keys and all text for that date as values \n",
    "dates = dict()\n",
    "for i in range(len(data)):\n",
    "    if data.loc[i,'date'] in dates.keys(): # if already in dates dict \n",
    "        dates[data.loc[i,'date']] += ' ' + str(data.loc[i,'text'])\n",
    "    else: \n",
    "        dates[data.loc[i,'date']] = data.loc[i,'text']\n",
    "    \n",
    "        "
   ]
  },
  {
   "cell_type": "code",
   "execution_count": 125,
   "id": "47023288-6612-4340-9397-2cd32145cab4",
   "metadata": {
    "execution": {
     "iopub.execute_input": "2021-08-24T15:15:50.464170Z",
     "iopub.status.busy": "2021-08-24T15:15:50.463962Z",
     "iopub.status.idle": "2021-08-24T15:15:50.470257Z",
     "shell.execute_reply": "2021-08-24T15:15:50.469475Z",
     "shell.execute_reply.started": "2021-08-24T15:15:50.464152Z"
    }
   },
   "outputs": [],
   "source": [
    "# make dates dict into dataframe\n",
    "daily = pd.DataFrame(list(dates.items()),columns=['date','text'])"
   ]
  },
  {
   "cell_type": "code",
   "execution_count": 126,
   "id": "4b661631-c5ab-42fd-9063-9f3fde10e5ac",
   "metadata": {
    "execution": {
     "iopub.execute_input": "2021-08-24T15:16:17.431566Z",
     "iopub.status.busy": "2021-08-24T15:16:17.431373Z",
     "iopub.status.idle": "2021-08-24T15:16:17.436182Z",
     "shell.execute_reply": "2021-08-24T15:16:17.435279Z",
     "shell.execute_reply.started": "2021-08-24T15:16:17.431548Z"
    }
   },
   "outputs": [],
   "source": [
    "# make date index for sp500 dataframe \n",
    "sp500.set_index('date',inplace=True)"
   ]
  },
  {
   "cell_type": "code",
   "execution_count": 127,
   "id": "51334798-16ec-4efc-a824-ba3b6766a250",
   "metadata": {
    "execution": {
     "iopub.execute_input": "2021-08-24T15:16:32.380297Z",
     "iopub.status.busy": "2021-08-24T15:16:32.380024Z",
     "iopub.status.idle": "2021-08-24T15:16:33.973242Z",
     "shell.execute_reply": "2021-08-24T15:16:33.972438Z",
     "shell.execute_reply.started": "2021-08-24T15:16:32.380279Z"
    }
   },
   "outputs": [],
   "source": [
    "# get sp500 price for every date in daily \n",
    "for i in range(len(daily)):\n",
    "    day= daily.loc[i,'date']\n",
    "    if day in set(sp500.index):\n",
    "        daily.loc[i,'price'] = sp500.loc[day,'S&P 500']\n",
    "    else: \n",
    "        daily.loc[i,'price']= 'replace'\n",
    "    "
   ]
  },
  {
   "cell_type": "code",
   "execution_count": 128,
   "id": "abd1d07f-4c71-4761-b244-ec2113bca8ae",
   "metadata": {
    "execution": {
     "iopub.execute_input": "2021-08-24T15:16:46.186226Z",
     "iopub.status.busy": "2021-08-24T15:16:46.186036Z",
     "iopub.status.idle": "2021-08-24T15:16:46.191961Z",
     "shell.execute_reply": "2021-08-24T15:16:46.191331Z",
     "shell.execute_reply.started": "2021-08-24T15:16:46.186208Z"
    }
   },
   "outputs": [
    {
     "data": {
      "text/plain": [
       "0       1292.28\n",
       "1       replace\n",
       "2       replace\n",
       "3       1286.94\n",
       "4       1254.05\n",
       "         ...   \n",
       "3648     4468.0\n",
       "3649    replace\n",
       "3650    replace\n",
       "3651    4479.71\n",
       "3652    4448.08\n",
       "Name: price, Length: 3653, dtype: object"
      ]
     },
     "execution_count": 128,
     "metadata": {},
     "output_type": "execute_result"
    }
   ],
   "source": [
    "daily['price']"
   ]
  },
  {
   "cell_type": "code",
   "execution_count": 130,
   "id": "6cc4e29d-9d66-431a-a21e-0bd99d6a1c04",
   "metadata": {
    "execution": {
     "iopub.execute_input": "2021-08-24T15:19:00.081229Z",
     "iopub.status.busy": "2021-08-24T15:19:00.081030Z",
     "iopub.status.idle": "2021-08-24T15:19:00.386912Z",
     "shell.execute_reply": "2021-08-24T15:19:00.386248Z",
     "shell.execute_reply.started": "2021-08-24T15:19:00.081211Z"
    }
   },
   "outputs": [],
   "source": [
    "# update replace to price from previous day \n",
    "for i in range(len(daily)):\n",
    "    if daily.loc[i,'price']=='replace':\n",
    "        daily.loc[i,'price']= daily.loc[i-1,'price']"
   ]
  },
  {
   "cell_type": "code",
   "execution_count": 131,
   "id": "137f983a-c53c-48bf-9cd5-0d833c7c1cdb",
   "metadata": {
    "execution": {
     "iopub.execute_input": "2021-08-24T15:19:06.786264Z",
     "iopub.status.busy": "2021-08-24T15:19:06.786072Z",
     "iopub.status.idle": "2021-08-24T15:19:06.791638Z",
     "shell.execute_reply": "2021-08-24T15:19:06.790920Z",
     "shell.execute_reply.started": "2021-08-24T15:19:06.786247Z"
    }
   },
   "outputs": [
    {
     "data": {
      "text/plain": [
       "False"
      ]
     },
     "execution_count": 131,
     "metadata": {},
     "output_type": "execute_result"
    }
   ],
   "source": [
    "# confirm updated \n",
    "'replace' in set(daily['price'])"
   ]
  },
  {
   "cell_type": "code",
   "execution_count": 132,
   "id": "c9ad045e-62b1-483b-8011-67c2bb34614e",
   "metadata": {
    "execution": {
     "iopub.execute_input": "2021-08-24T15:19:40.223633Z",
     "iopub.status.busy": "2021-08-24T15:19:40.223427Z",
     "iopub.status.idle": "2021-08-24T15:19:40.232305Z",
     "shell.execute_reply": "2021-08-24T15:19:40.231692Z",
     "shell.execute_reply.started": "2021-08-24T15:19:40.223602Z"
    }
   },
   "outputs": [
    {
     "data": {
      "text/html": [
       "<div>\n",
       "<style scoped>\n",
       "    .dataframe tbody tr th:only-of-type {\n",
       "        vertical-align: middle;\n",
       "    }\n",
       "\n",
       "    .dataframe tbody tr th {\n",
       "        vertical-align: top;\n",
       "    }\n",
       "\n",
       "    .dataframe thead th {\n",
       "        text-align: right;\n",
       "    }\n",
       "</style>\n",
       "<table border=\"1\" class=\"dataframe\">\n",
       "  <thead>\n",
       "    <tr style=\"text-align: right;\">\n",
       "      <th></th>\n",
       "      <th>date</th>\n",
       "      <th>text</th>\n",
       "      <th>price</th>\n",
       "    </tr>\n",
       "  </thead>\n",
       "  <tbody>\n",
       "    <tr>\n",
       "      <th>0</th>\n",
       "      <td>2011-07-29</td>\n",
       "      <td>Drug App Comes Free, Ads Included. Epocrates has won over nearly half of the nation’s doctors with its smartphone app. But “free” comes with a price.Epocrates has won over nearly half of the nation’s doctors for its free smartphone apps that lets them look up information on drug dosing, interactions and insurance coverage while seeing a patient.Epocrates Inc Drugs (Pharmaceuticals) Mobile Applications Doctors Advertising and Marketing Smartphones Epocrates Inc Drugs (Pharmaceuticals) Mobile Applications Doctors Advertising and Marketing Smartphones Just Before Deadline, County in Alabama Delays Bankruptcy Move. Commissioners are taking seven days to study a proposal that would reduce the total amount owed, bring down the county’s interest rate and avert bankruptcy.There may still be a way out for Jefferson County, the Alabama county being crushed by its debt.Bankruptcies Alabama Local Government Bankruptcies Alabama Local Government Judge’s Ruling in Madoff Case Could Reduce Money for Victims. The ruling could pare billions of dollars from the sum that may ultimately be recovered for victims of Bernard L. Madoff’s Ponzi scheme.A federal judge ruled on Thursday that the bankruptcy trustee trying to recover billions for those who lost money in Bernard L. Madoff’s enormous Ponzi scheme did not have the right to sue banks and other third parties on behalf of the victims.Madoff, Bernard L Rakoff, Jed S Picard, Irving H HSBC Holdings PLC Decisions and Verdicts Ponzi Schemes Madoff, Bernard L Rakoff, Jed S Picard, Irving H HSBC Holdings PLC Decisions and Verdicts Ponzi Schemes Making the Diaper Change Easier for the Changer. Marketing for Huggies Little Movers Slip-On Diapers is focusing on mothers of babies who have a tendency to squirm during a diaper change.IN a new commercial for Huggies Little Movers Slip-On Diapers, which have leg holes and slide on like underwear, a baby rolls over twice in the same direction as a voiceover begins, “Huggies presents a whole new way to change a rolling pin.” Diapers Consumer Behavior Babies and Infants Diapers Consumer Behavior Babies and Infants Carmakers Back Strict New Rules for Gas Mileage. A hike in government fuel rules to 54.5 miles per gallon by 2025 is being meekly accepted by the car industry.DETROIT — Four years ago, the American auto industry was so opposed to higher fuel economy standards that executives of Detroit camped out in Washington in an unsuccessful bid to undercut them.Automobiles Fuel Efficiency United States Politics and Government General Motors Chrysler LLC Ford Motor Company Obama, Barack Automobiles Fuel Efficiency United States Politics and Government General Motors Chrysler LLC Ford Motor Company Obama, Barack Boutique Firms Are Bearing Up. The smaller shops have been able to prosper despite the slowdown.Wall Street firms that specialize in mergers and acquisitions are hitting a few wobbles after a good run. Lazard missed second-quarter estimates on Thursday, though only by a penny, because of lower growth in advisory fees than peers. Evercore Partners delivered a similar underperformance as compensation expenses more than doubled. And Greenhill &amp; Company has been frantically trying to calm nerves about departing executives.Mergers, Acquisitions and Divestitures Exxon Mobil Corporation Company Reports Mergers, Acquisitions and Divestitures Exxon Mobil Corporation Company Reports In Deal With NBC, Amazon Seeks to Widen Its Video Streaming Service. Amazon announced a deal for access to part of Universal’s film library, its second such pact in streaming video in as many weeks.Amazon, the online retailing giant, announced a deal with NBCUniversal for access to part of Universal Pictures’ film library on Thursday, its second such pact in the streaming video space in as many weeks.Amazon.com Inc Universal Pictures National Broadcasting Co Computers and the Internet Television Netflix Inc Movies Amazon.com Inc Universal Pictures National Broadcasting Co Computers and the Internet Television Netflix Inc Movies Study Faults Approval Process for Medical Devices. A top scientific group said the system that examines the safety of devices like artificial hips should be replaced.The government’s system for regulating many medical devices like artificial hips should be abandoned and replaced because it fails to examine their safety and effectiveness before sale, according to a report released Friday by one of the nation’s top scientific groups. Medical Devices Institute of Medicine Accidents and Safety Regulation and Deregulation of Industry Medical Devices Institute of Medicine Accidents and Safety Regulation and Deregulation of Industry New Data Shows Sharp Slowdown in Growth Rate. The 1.3 percent annual rate of growth for the U.S. economy was well below expectations, and revised data showed that the recession was worse than initially estimated.WASHINGTON — The economy slowed to a snail’s pace in the first half of 2011, underscoring a growing risk that the recovery itself may hang in the balance with budget and debt decisions in Washington.United States Economy Gross Domestic Product United States Economy Gross Domestic Product Stocks Fall After G.D.P. Data. The Dow continued its weeklong descent when second-quarter growth data came in lower than forecast.A disappointing report on the nation’s second-quarter economic activity spurred a steep initial decline in stocks in the United States on Friday, adding to the malaise in the markets as investors wait for an outcome of the debt ceiling debate in Washington.Stocks and Bonds United States Economy Gross Domestic Product Stocks and Bonds United States Economy Gross Domestic Product Usual Growth Leaders Absent From Recovery. The current jobs picture is glum largely because construction and government jobs aren’t being created.WHY has the job picture been so bleak in the current recovery? A large part of the problem can be traced to unusual weakness in two categories: construction jobs and government jobs.Labor and Jobs United States Economy Economic Conditions and Trends Labor and Jobs United States Economy Economic Conditions and Trends Owning a Ranch Offers Returns Beyond the Financial. Ranching has emerged as an alternative investment for those with deep pockets and a very long time horizon.AMONG the fantasies that keep many of us going on dreary days, owning a vast ranch out West would surely rank up there, along with living on a beach or gazing out over your vineyard at night. Personal Finances High Net Worth Individuals Ranches Personal Finances High Net Worth Individuals Ranches Options for Self-Publishing Proliferate, Easing the Bar to Entry. A wide range of options exists for authors who choose to forgo traditional book publishing.I’M a snob. Oh, I don’t particularly care what kind of car you drive or if you wear the latest designer fashions, but until recently I turned up my nose at authors who published their own books.Personal Finances Book Trade and Publishing Electronic Books and Readers Personal Finances Book Trade and Publishing Electronic Books and Readers Ruling Upholds Gene Patent in Cancer Test. A federal appeals court ruled on Friday that genes can be patented, overturning a lower court decision that had shocked the biotechnology industry.In a closely watched case, a federal appeals court ruled on Friday that genes can be patented, overturning a lower court decision that had shocked the biotechnology industry.Myriad Genetics Incorporated Genetics and Heredity Decisions and Verdicts Inventions and Patents DNA (Deoxyribonucleic Acid) Breast Cancer Ovarian Cancer Myriad Genetics Incorporated Genetics and Heredity Decisions and Verdicts Inventions and Patents DNA (Deoxyribonucleic Acid) Breast Cancer Ovarian Cancer A Flooring Designer’s Riviera Oasis. Kamyar Moghadam’s home is filled with a variety of stone, unusual woods, manicured trees and colorful furnishings, and all with a panoramic view.EZE-SUR-MER, FRANCE — Not too far from Bono’s home in this exclusive Riviera enclave, Kamyar Moghadam, a German flooring designer, has built a beach house where the Mediterranean seems to flow right through the Bali-style interiors.Housing and Real Estate France Housing and Real Estate France What Would It Take to End Stalemate. Most investors are still counting on a political resolution that would avert a default on United States debt, but the markets may have to force the issue.Politicians are loath to make painful decisions unless they are forced to. This week, as stocks kept sinking, the question was whether the markets would finally force their hand.United States Economy National Debt (US) Stocks and Bonds United States Politics and Government Law and Legislation United States Economy National Debt (US) Stocks and Bonds United States Politics and Government Law and Legislation Japan Proposes Aggressive Recovery Plan. The government laid out a five-year plan to buoy an economy reeling after the March 11 earthquake and subsequent nuclear plant crisis.TOKYO — Japan on Friday proposed an aggressive plan to spend 13 trillion yen ($167 billion) over five years in hopes of bringing about a swift recovery after its recent natural and nuclear disasters.Japan Japan Earthquake and Tsunami (2011) Economic Conditions and Trends Fukushima Daiichi Nuclear Power Plant (Japan) Japan Japan Earthquake and Tsunami (2011) Economic Conditions and Trends Fukushima Daiichi Nuclear Power Plant (Japan) The Week That Was, in Verse. The debt ceiling may have dominated the headlines, but it was a busy week for Wall Street. A look back at some of the top DealBook stories.It’s not all about the debt ceiling deadline, you know? Here, we run down the top DealBook stories from the week, in poetic form:  BSkyB Lands Formula One Rights. The move away from exclusive coverage on the BBC chips away at the racing circuit's commitment to free TV.PARIS — Starting next year, Formula One auto racing fans in Britain will have to pay up if they want to watch all of the races on television under an agreement announced Friday that chips away at the racing circuit’s longstanding commitment to free TV.Formula One British Broadcasting Corp Television British Sky Broadcasting Group (BSkyB) Athletics and Sports Hackers (Computers) Formula One British Broadcasting Corp Television British Sky Broadcasting Group (BSkyB) Athletics and Sports Hackers (Computers) Salvation at Chrysler, in the Form of Fiat. Meet David Kelleher, president of a Chrysler dealership in Pennsylvania and a survivor of the carmaker’s darkest days, when liquidation seemed probable. And then Fiat came along.A little more than two years ago, the White House’s auto industry task force concluded flatly that Chrysler was “not viable as a stand-alone company.” Fiat SpA Chrysler LLC Automobiles Mergers, Acquisitions and Divestitures Fiat SpA Chrysler LLC Automobiles Mergers, Acquisitions and Divestitures</td>\n",
       "      <td>1292.28</td>\n",
       "    </tr>\n",
       "    <tr>\n",
       "      <th>1</th>\n",
       "      <td>2011-07-30</td>\n",
       "      <td>Global Concern Over U.S. Debt Ceiling Disagreement. The stewards of the world’s largest economies are anxious for a compromise in the U.S. to keep their own finances from damage.PARIS — While the debt debacle in Washington preoccupies America, it is causing jitters in power corridors from Beijing to Brussels. The stewards of the world’s largest economies are anxious for a compromise, to keep their own finances from suffering collateral damage.United States Economy United States Politics and Government Government Bonds National Debt (US) China Europe Japan International Trade and World Market United States Economy United States Politics and Government Government Bonds National Debt (US) China Europe Japan International Trade and World Market Muddying the Budget Waters. In the fight over the federal budget, Social Security has been put on the table, although it has not contributed to the deficit.All the political wrangling over the budget in Washington has been focused on one theme: how much the government should cut and when those cuts should take effect.Federal Budget (US) Social Security (US) Social Security Administration National Debt (US) United States Politics and Government Federal Budget (US) Social Security (US) Social Security Administration National Debt (US) United States Politics and Government Philanthropists Start Requiring Management Courses to Keep Nonprofits Productive. Some philanthropists are steering charities toward better management as they donate.Pierre M. Omidyar and Peter B. Lewis are in many ways opposites. Mr. Omidyar, the founder of eBay, is shy, soft-spoken and formal, while Mr. Lewis, who made Progressive Insurance into the powerhouse it is today, bluntly speaks his mind and revels in stopping people midsentence by taking off his prosthetic leg during meetings. Lewis, Peter B Omidyar Network Executives and Management Nonprofit Organizations Philanthropy Lewis, Peter B Omidyar Network Executives and Management Nonprofit Organizations Philanthropy Obama Reveals Details of Gas Mileage Rules. The new automobile fuel-efficiency standards requiring an average 54.5 miles per gallon by 2025 could end up in the low 40s after incentives and discounts.DETROIT — President Obama announced new automobile fuel-efficiency standards on Friday that require an average 54.5 miles per gallon by 2025. But even if the auto industry manages to meet the new standards, it is unlikely car buyers will see many fuel-economy stickers with such high mileage.Automobiles Fuel Efficiency Automobiles Fuel Efficiency A Mobilization in Washington by Wall Street. Last-minute phone calls, a group missive, a flood of research reports to Congress — Wall Street is sweating over what could happen if the debt ceiling isn’t raised.After a year of clashing with Washington over new financial reforms, the country’s most powerful bankers have found common ground with regulators in the hard-fought effort to lift the debt ceiling and avoid a default.Banking and Financial Institutions National Debt (US) United States Politics and Government Credit and Debt Stocks and Bonds Banking and Financial Institutions National Debt (US) United States Politics and Government Credit and Debt Stocks and Bonds</td>\n",
       "      <td>1292.28</td>\n",
       "    </tr>\n",
       "    <tr>\n",
       "      <th>2</th>\n",
       "      <td>2011-07-31</td>\n",
       "      <td>Deal May Avert Default, but Some Ask, ‘Is That Good?’. A small group of economists and financiers argue that it would be better to focus on long-term financial health, even if it means not paying the bills right away.The resounding view on Wall Street and among many financial regulators and veteran lawmakers is that there will be a catastrophe if the United States does not raise its debt limit in the next few days.United States Economy National Debt (US) United States Economy National Debt (US) Obstacles to Capturing Carbon Gas. Capturing carbon emissions and burying them underground could make fossil fuels greener, but costs and local opposition are hindering efforts to develop commercial-scale projects.BRUSSELS — Can the world use fossil fuels and protect the climate too?Greenhouse Gas Emissions Carbon Dioxide Environment Greenhouse Gas Emissions Carbon Dioxide Environment China’s Low Roaming Fees Won’t Be Matched Soon. Chinese travelers can call home for what it costs to make a local call in those markets.BERLIN — When Su Xiaoqin, a Chinese translator living in Düsseldorf, calls family and friends back in Shanghai, she does not use the mobile network of her German operator, O2. She pops in the SIM card for China Mobile.Telephones and Telecommunications China Mobile Ltd China Unicom (Hong Kong) Ltd China Telecom Corporation Ltd China Telecom Italia S.p.A Telephones and Telecommunications China Mobile Ltd China Unicom (Hong Kong) Ltd China Telecom Corporation Ltd China Telecom Italia S.p.A Al Jazeera’s New Goal in Sports. For the first time, Al Jazeera will broadcast a major Western sporting event in the league’s domestic market, bringing Ligue 1 soccer to French viewers starting next year.PARIS — Al Jazeera used to be known, somewhat unfairly, as the television network of Osama bin Laden. Now it wants to become the network of Yoann Gourcuff, Alou Diarra and Eden Hazard.Al Jazeera Television Athletics and Sports France Al Jazeera Television Athletics and Sports France HSBC to Announce 10,000 Job Cuts. As part of its cost-cutting strategy, the bank said Sunday it will sell 195 branches in upstate New York to First Niagara.LONDON — HSBC, Europe’s biggest bank, plans to announce thousands of job cuts on Monday as part of a wide-ranging cost-reduction program that started in May, a person with direct knowledge of the decision said Sunday.Banking and Financial Institutions Layoffs and Job Reductions HSBC Holdings PLC Banking and Financial Institutions Layoffs and Job Reductions HSBC Holdings PLC Flaunting Latino Clichés in Effort to Defuse Them. A new ad campaign for the New York International Latino Film Festival makes fun of stereotypes to attract attendees while drawing attention to the problem.FOR some Hollywood movies, clichés are everything. An asteroid destroys a major city. A shadowy figure appears behind someone in the reflection of medicine cabinet mirror. A Latina maid marries a successful businessman and lives happily ever after. Hispanic-Americans Advertising and Marketing Movies New York International Latino Film Festival Hispanic-Americans Advertising and Marketing Movies New York International Latino Film Festival Uncertainty Driving Treasury Bill Fluctuations. In a financial market not usually known for excitement, stability has been replaced with concern, reflected in falling prices for short-term offerings.In normal times, it is hard to find a financial market that is more boring than the one where short-term Treasury bills are traded. Credit and Debt United States Economy Treasury Department Prices (Fares, Fees and Rates) Credit and Debt United States Economy Treasury Department Prices (Fares, Fees and Rates) Ticket Sales Start-Up Aims at Smaller Box Offices. Using a ticket system it created, Eventbrite has entered the multibillion-dollar ticketing industry and set its sights on events below Ticketmaster’s radar.On July 23, 3,000 carnivores salivated their way through Meatopia, a festival on a Brooklyn pier where 45 chefs from around the country offered fleshy dishes like veal belly gyros and Southern pulled-pork shooters.Eventbrite Mobile Applications Sales Start-ups Eventbrite Mobile Applications Sales Start-ups Bringing Comfort Food to Print Fans. A new food magazine co-created by the owner of Momofuku breaks many of the conventions of magazine journalism and is even a pleasure to hold.After an improbable rise as a chef who took a tiny noodle shop in New York and parlayed it into a kind of punk rock culinary movement and five wildly successful restaurants, David Chang seemed destined to become a television star. Now famous and ubiquitous, he would be a natural to join the legions of knife-wielding, apron-wearing stars who terrorize amateur cooks for the benefit of an audience. Either that or he could look into the camera and patiently explain how you too could make food that would knock people out of their chairs.Cooking and Cookbooks Magazines Mobile Applications Chang, David (Chef) Cooking and Cookbooks Magazines Mobile Applications Chang, David (Chef) A Patent Fever Over Smartphones. Wireless patents, which cover everything from app icons to address books, could dictate the future of the rapidly growing smartphone market.A Patent Fever Over Smartphones Smartphones Inventions and Patents Mobile Applications Android (Operating System) iPhone Telefonaktiebolaget L M Ericsson Smartphones Inventions and Patents Mobile Applications Android (Operating System) iPhone Telefonaktiebolaget L M Ericsson</td>\n",
       "      <td>1292.28</td>\n",
       "    </tr>\n",
       "    <tr>\n",
       "      <th>3</th>\n",
       "      <td>2011-08-01</td>\n",
       "      <td>Charging a Premium for Movies, at a Cost. High-priced tickets and premiums for 3-D are rewarding shareholders but may be driving away moviegoers.SANTA MONICA, Calif. — Would you go to the movies more if tickets cost less?Prices (Fares, Fees and Rates) Movies Three-Dimensional Devices and Effects Prices (Fares, Fees and Rates) Movies Three-Dimensional Devices and Effects Data Centers’ Power Use Less Than Was Expected. Data centers’ unquenchable thirst for power has been slaked by the recession and new technology, a report says.SAN FRANCISCO — Data centers’ unquenchable thirst for electricity has been slaked by the global recession and by a combination of new power-saving technologies, according to an independent report on data center power use from 2005 to 2010.Data Centers Recession and Depression Computers and the Internet Electric Light and Power Data Centers Recession and Depression Computers and the Internet Electric Light and Power For New Yorker on iPad, Words Are the Thing. With a minimum of bells and whistles and a focus on a readable format, The New Yorker attained iPad sales higher than those of any other iPad edition sold by Condé Nast.When magazine publishers began pouring their resources and hopes into the iPad, their thinking was that readers wanted something substantially more than just words on a screen. A simple PDF of a page just would not do. The app had to dazzle the senses. Mobile Applications iPad Magazines New Yorker Conde Nast Publications Inc Mobile Applications iPad Magazines New Yorker Conde Nast Publications Inc Optimism on Wall St. Tempered by Hurdles. Doomsday talk that had dominated recent weeks faded as political leaders signaled they had reached a compromise.After an anxious weekend spent glued to their BlackBerrys and iPhones, bankers and investors breathed a sigh of relief Sunday as lawmakers forged an agreement to raise the nation’s debt ceiling ahead of Monday’s trading.Banking and Financial Institutions Credit and Debt United States Economy Economic Conditions and Trends National Debt (US) Law and Legislation Banking and Financial Institutions Credit and Debt United States Economy Economic Conditions and Trends National Debt (US) Law and Legislation Hopeful, but Wary at Money Markets. While some investors have shifted assets to combat the uncertainty surrounding the debt ceiling debate, managers and regulators of money market funds say they’re optimistic.WASHINGTON — Money market funds, stuffed with Treasury notes and other short-term government securities, have long been considered the safest of harbors by millions of investors and institutions alike. But with the prospect of a default or a downgrade in the nation’s creditworthiness, billions of dollars have fled the funds as investors grapple with uncertainty.Banking and Financial Institutions Money Market Accounts Stocks and Bonds National Debt (US) Banking and Financial Institutions Money Market Accounts Stocks and Bonds National Debt (US) Looking Ahead. Data will include the Institute for Supply Management reports on manufacturing and nonmanufacturing and the monthly jobless numbers, as well as numerous corporate earnings reports.ECONOMIC REPORTS Reports will include construction spending and I.S.M. manufacturing (Monday); personal spending, personal income and monthly auto sales (Tuesday); M.B.A. mortgage applications, ADP employment report, I.S.M. nonmanufacturing index and factory orders (Wednesday); weekly jobless claims and ICSC chain store sales (Thursday); and the monthly unemployment rate for July and consumer credit (Friday).United States Politics and Government Company Reports United States Economy United States United States Politics and Government Company Reports United States Economy United States Al Jazeera English Arrives on N.Y. Cable. The Qatar-based Al Jazeera has struggled to secure American outlets for its English-language TV news channel.Every cable news channel has its moment.Al Jazeera News and News Media Television Al Jazeera News and News Media Television Relief Rally Vanishes After New Data. Wall Street followed European and Asian markets higher in relief over the debt agreement in Washington, but the rally was short-lived, as indexes turned negative.Hopes were high for a rally in stocks in the wake of Sunday’s debt limit agreement. But the bounce was a thud. Stocks and Bonds Nikkei Stock Average National Debt (US) Standard &amp; Poor's 500-Stock Index Stocks and Bonds Nikkei Stock Average National Debt (US) Standard &amp; Poor's 500-Stock Index Asia Seeks to Cut Its Ties to Western Borrowers. Most Asian countries have healthy government balance sheets and vast amounts of reserves on hand. But there are vulnerable spots in Taiwan, South Korea, Malaysia and New Zealand.SINGAPORE — Averting a U.S. debt default solves only the immediate fiscal problem for the West and its big creditors in Asia.Economic Conditions and Trends International Trade and World Market Economic Conditions and Trends International Trade and World Market Small City, Big Debt Problems. Retired employees of Central Falls, R.I., face sharp benefit cuts, but bondholders appear to be unscathed.Even as officials in Washington pledged to cut domestic spending, the city of Central Falls, R.I., landed in bankruptcy court on Monday, a stark reminder that some American cities have debts so overwhelming that no amount of belt tightening can set things right.Central Falls (RI) Bankruptcies Pensions and Retirement Plans Government Employees Central Falls (RI) Bankruptcies Pensions and Retirement Plans Government Employees Improve Your Backstroke While Staying Dry. Syrup, part of the LBi Group, has created the Speedo Pace Club, an online, interactive service for swimming enthusiasts who want to improve their training efforts and buy products.Speedo has created a new interactive, online club for swimming enthusiasts that it hopes will help their training efforts and, more importantly, inspire them to buy merchandise.Advertising and Marketing Online Advertising Advertising and Marketing Online Advertising The Airport Experience Now Includes Shopping for the Family. The draw of airport retailing is simple: an attentive clientele. Domestic travelers spend more than an hour, on average, waiting in airports once they have passed security.After visits to malls plummeted during the recession — and have yet to bounce back — many mass-market retailers stepped up their search for other locations to lure shoppers.Airports Shopping and Retail Travel and Vacations Airports Shopping and Retail Travel and Vacations To Share Grievances, Microblogging the Frustrations of Flight. A computer scientist vents with fellow fliers over Twitter and learns to keep a paper backup for smartphone boarding passes.I’M not the most talkative person on airplanes. I used to be much friendlier, but an inevitable question is, “What do you do?” When I say, “I’m a professor of computer science,” I always wind up doing a lot of free consulting.Airlines and Airplanes Business Travel Airlines and Airplanes Business Travel India’s Widening Iron Ore Scandal Hurts Stocks. In the wake of a government report on corruption, shares of mining companies have lost value, including the flagship of one of India’s richest men.MUMBAI, India — India’s wave of corruption scandals has hit yet another industry, iron ore mining, implicating companies that include the flagship of one of this nation’s richest men.India Corruption in Government Mines and Mining India Corruption in Government Mines and Mining Star Alliance Puts Air India on an Indefinite Standby. Star Alliance, a global network of airlines that caters to frequent international travelers, said Monday that Air India’s pending membership had been suspended.NEW DELHI — Star Alliance, a global network of airlines that caters to frequent international travelers, said Monday that Air India’s pending membership had been suspended. Airlines and Airplanes Air India Star Alliance Airlines and Airplanes Air India Star Alliance When the Numbers Outweigh the Message. As Validus Holdings showed when it switched public relations firms during its hostile bid for Transatlantic Holdings, messaging doesn’t win deals, numbers do.Can public relations alone rescue a struggling deal? By taking the uncommon tactic of switching communicators in the heat of battle, that’s sort of what the reinsurer Validus Holdings is trying with its hostile bid for its $3.2 billion rival, Transatlantic Holdings. Validus shareholders have so far scorned the idea. The trouble is, messaging doesn’t win deals, numbers do. On that score, Validus isn’t far enough ahead.Mergers, Acquisitions and Divestitures Mergers, Acquisitions and Divestitures That Chat at the Airport Is Anything but Idle. The Transportation Security Administration is expanding its behavioral approach to detect airport threats, while the revival of a trusted flier program offers one alternative.THE older I get, the longer the list of people I don’t want to talk to.Airports Security and Warning Systems Transportation Security Administration Airports Security and Warning Systems Transportation Security Administration</td>\n",
       "      <td>1286.94</td>\n",
       "    </tr>\n",
       "    <tr>\n",
       "      <th>4</th>\n",
       "      <td>2011-08-02</td>\n",
       "      <td>Pearls, Finer but Still Cheap, Flow From China. Chinese companies are using new techniques that help make pearls cheaper, throwing the industry into turmoil.ZHUJI, China — One of the most feared men in the worldwide pearl industry these days is a muscular, Ferrari-driving 40-year-old who is doing the improbable: growing pearls that are nearing the highest quality and may be affordable for middle-class Americans.Pearls China Factories and Manufacturing Pearls China Factories and Manufacturing Focus Turns Back to Fed on Economy. Political divisions in Congress have all but immobilized the levers of fiscal policy, raising pressure on the Federal Reserve to address the nation’s economic lethargy.WASHINGTON — Even as Congress escapes from its brush with default, political divisions have all but immobilized the levers of fiscal policy, raising pressure on the Federal Reserve to address the nation’s economic lethargy. United States Economy National Debt (US) Federal Reserve System United States Politics and Government United States Economy National Debt (US) Federal Reserve System United States Politics and Government A Rift Divides Members of Journalism Groups. The National Association of Black Journalists is splitting from Unity, an umbrella group, over revenue.As the National Association of Black Journalists opens its annual conference in Philadelphia on Wednesday, a topic of conversation is likely to be its recent efforts to get more black anchors on prime-time news programs. News and News Media Minorities Unity: Journalists of Color National Assn of Black Journalists News and News Media Minorities Unity: Journalists of Color National Assn of Black Journalists Shampoo to Match a No-Nonsense Attitude. For about a decade, Pert Plus has been advertised only intermittently, but now Helen of Troy is introducing an ambitious campaign aimed at men aged 25 to 34.SHAMPOO advertising often promises to add sheen to dull, lifeless hair, but sometimes it is the shampoo brands themselves that lose their luster.Advertising and Marketing Hair Advertising and Marketing Hair Britain’s Economic Policies Gain Backing From I.M.F.. A weak economic environment and rising inflation are only temporary, the fund said, so Britain should not change those polices.LONDON — The International Monetary Fund endorsed the British government’s tight budget policy and loose monetary stance on Monday, while warning that the authorities should stand ready to change course if growth failed to improve.Economic Conditions and Trends Great Britain International Monetary Fund Economic Conditions and Trends Great Britain International Monetary Fund Toyota, Rebounding From Quake, Raises Profit Forecast. The revised estimate came as the Japanese automaker posted a 1.1 billion yen net profit for the April-June quarter, a tiny fraction of the 190.4 billion yen it earned a year earlier.TOKYO — Citing a quicker than expected recovery from Japan’s earthquake, the Toyota Motor Corporation raised its full-year profit forecast by almost 40 percent Tuesday, although it warned that a strong yen continued to weigh on its bottom line. Toyota Motor Corp Company Reports Yen (Currency) Toyota Motor Corp Company Reports Yen (Currency) Worries Rise Over Spain and Italy Debt. Investors are returning their attention to the debt woes in Europe, and they do not like what they see.PARIS — Just as European markets seemed to resume their normalcy after the tumult of their sovereign debt crises, the wolves are back at the door. European Sovereign Debt Crisis (2010- ) Italy Spain Zapatero, Jose Luis Rodriguez Berlusconi, Silvio European Sovereign Debt Crisis (2010- ) Italy Spain Zapatero, Jose Luis Rodriguez Berlusconi, Silvio World Markets Staggered by Weak Consumer Data. The Standard &amp; Poor’s index erased all of the gains of this year, while the Dow recorded its eighth consecutive day of declines.As the debt limit drama ended in Washington, storm clouds thickened in the financial markets.Consumer Behavior United States Economy Stocks and Bonds Consumer Behavior United States Economy Stocks and Bonds Morning Take-Out. Highlights from the DealBook newsletter.Revolving Door at S.E.C. Is Hurdle to Crisis Cleanup | Before working on the financial crisis cleanup, a senior S.E.C. lawyer helped create the opaque securities that contributed to the mess.  Despite Rising U.S. Sales, Automakers Are Struggling. Honda and Toyota posted sharp decreases, while General Motors, Ford and Chrysler reported increases.DETROIT — Sales of new vehicles in the United States rose in July but were still hampered by economic concerns and low inventories of many Japanese models.Automobiles Sales Automobiles Sales Costly Drone Is Poised to Replace U-2 Spy Plane. Despite countless delays and budget battles, the Air Force is betting that a $12 billion program of unmanned drones is ready to gather intelligence from heights only dreamed of.PALMDALE, Calif. — Tucked away here in the Mojave Desert, the assembly plant for the high-flying Global Hawk jet resembles a giant hobby shop.Military Aircraft Drones (Pilotless Planes) United States Defense and Military Forces Budgets and Budgeting United States Air Force Military Aircraft Drones (Pilotless Planes) United States Defense and Military Forces Budgets and Budgeting United States Air Force Cities See the Other Side of the Tracks. After the success of Manhattan’s High Line park, other cities are turning abandoned rail lines into public spaces.The High Line park, built on an elevated railway trestle in Manhattan, has become both a symbol and a catalyst for an explosion of growth in the meatpacking district and the Chelsea neighborhood.High Line (NYC) Railroads Area Planning and Renewal Parks and Other Recreation Areas St Louis (Mo) Chicago (Ill) Philadelphia (Pa) New York City High Line (NYC) Railroads Area Planning and Renewal Parks and Other Recreation Areas St Louis (Mo) Chicago (Ill) Philadelphia (Pa) New York City Sales of Pain Drugs Help Pfizer’s Profit Beat Forecasts. Sales of the company’s Lyrica pain pill and its Enbrel arthritis medicine topped analysts’ predictions.Pfizer, the world’s biggest drug maker, reported second-quarter profit that topped analysts’ estimates as sales of pain medicines offset declining revenue from expired patents.Company Reports Pfizer Inc Drugs (Pharmaceuticals) Sales Medicine and Health Company Reports Pfizer Inc Drugs (Pharmaceuticals) Sales Medicine and Health Apollo Group to Buy Maker of Math Courses. Hoping to retain more students, the company behind the profit-making University of Phoenix is paying $75 million for Carnegie Learning, which offers computer-based math instruction.Hoping to keep more of its students from dropping out, the Apollo Group, which operates the profit-making University of Phoenix, said Tuesday that it would pay $75 million to buy Carnegie Learning, which offers computer-based math instruction. Mergers, Acquisitions and Divestitures Carnegie Mellon University E-Learning Mathematics University of Phoenix Apollo Group Inc Mergers, Acquisitions and Divestitures Carnegie Mellon University E-Learning Mathematics University of Phoenix Apollo Group Inc NYSE Profit Declines on Lower Revenue. NYSE Euronext, the exchange company that Deutsche Börse is planning to buy, said its second-quarter profit fell on lower revenue from European derivatives and United States equity trading.NYSE Euronext, the exchange company that Deutsche Börse is planning to buy, said its second-quarter profit fell on lower revenue from European derivatives and United States equity trading.Deutsche Borse AG NYSE Euronext Company Reports Regulation and Deregulation of Industry Deutsche Borse AG NYSE Euronext Company Reports Regulation and Deregulation of Industry</td>\n",
       "      <td>1254.05</td>\n",
       "    </tr>\n",
       "  </tbody>\n",
       "</table>\n",
       "</div>"
      ],
      "text/plain": [
       "         date  \\\n",
       "0  2011-07-29   \n",
       "1  2011-07-30   \n",
       "2  2011-07-31   \n",
       "3  2011-08-01   \n",
       "4  2011-08-02   \n",
       "\n",
       "                                                                                                                                                                                                                                                                                                                                                                                                                                                                                                                                                                                                                                                                                                                                                                                                                                                                                                                                                                                                                                                                                                                                                                                                                                                                                                                                                                                                                                                                                                                                                                                                                                                                                                                                                                                                                                                                                                                                                                                                                                                                                                                                                                                                                                                                                                                                                                                                                                                                                                                                                                                                                                                                                                                                                                                                                                                                                                                                                                                                                                                                                                                                                                                                                                                                                                                                                                                                                                                                                                                                                                                                                                                                                                                                                                                                                                                                                                                                                                                                                                                                                                                                                                                                                                                                                                                                                                                                                                                                                                                                                                                                                                                                                                                                                                                                                                                                                                                                                                                                                                                                                                                                                                                                                                                                                                                                                                                                                                                                                                                                                                                                                                                                                                                                                                                                                                                                                                                                                                                                                                                                                                                                                                                                                                                                                                                                                                                                                                                                                                                                                                                                                                                                                                                                                                                                                                                                                                                                                                                                                                                                                                                                                                                                                                                                                                                                                                                                                                                                                                                                                                                                                                                                                                                                                                                                                                                                                                                                                                                                                                                                                                                                                                                                                                                                                                                                                                                                                                                                                                                                                                                                                                                                                                                                                                                                                                                                                                                                                                                                                                                                                                                                                                                                                                                                                                                                                                                                                                                                                                                                                                                                                                                                                                                                                                                                                                                                                                                                                                                                                                                                                                                                                                                                                                                                                                                                                                                                                                                                                                                                                                                                                                                                                                                                                                                                                                                                                                                                                                                                                                                                                                                                                                                                                                                                                                                                                                                 text  \\\n",
       "0  Drug App Comes Free, Ads Included. Epocrates has won over nearly half of the nation’s doctors with its smartphone app. But “free” comes with a price.Epocrates has won over nearly half of the nation’s doctors for its free smartphone apps that lets them look up information on drug dosing, interactions and insurance coverage while seeing a patient.Epocrates Inc Drugs (Pharmaceuticals) Mobile Applications Doctors Advertising and Marketing Smartphones Epocrates Inc Drugs (Pharmaceuticals) Mobile Applications Doctors Advertising and Marketing Smartphones Just Before Deadline, County in Alabama Delays Bankruptcy Move. Commissioners are taking seven days to study a proposal that would reduce the total amount owed, bring down the county’s interest rate and avert bankruptcy.There may still be a way out for Jefferson County, the Alabama county being crushed by its debt.Bankruptcies Alabama Local Government Bankruptcies Alabama Local Government Judge’s Ruling in Madoff Case Could Reduce Money for Victims. The ruling could pare billions of dollars from the sum that may ultimately be recovered for victims of Bernard L. Madoff’s Ponzi scheme.A federal judge ruled on Thursday that the bankruptcy trustee trying to recover billions for those who lost money in Bernard L. Madoff’s enormous Ponzi scheme did not have the right to sue banks and other third parties on behalf of the victims.Madoff, Bernard L Rakoff, Jed S Picard, Irving H HSBC Holdings PLC Decisions and Verdicts Ponzi Schemes Madoff, Bernard L Rakoff, Jed S Picard, Irving H HSBC Holdings PLC Decisions and Verdicts Ponzi Schemes Making the Diaper Change Easier for the Changer. Marketing for Huggies Little Movers Slip-On Diapers is focusing on mothers of babies who have a tendency to squirm during a diaper change.IN a new commercial for Huggies Little Movers Slip-On Diapers, which have leg holes and slide on like underwear, a baby rolls over twice in the same direction as a voiceover begins, “Huggies presents a whole new way to change a rolling pin.” Diapers Consumer Behavior Babies and Infants Diapers Consumer Behavior Babies and Infants Carmakers Back Strict New Rules for Gas Mileage. A hike in government fuel rules to 54.5 miles per gallon by 2025 is being meekly accepted by the car industry.DETROIT — Four years ago, the American auto industry was so opposed to higher fuel economy standards that executives of Detroit camped out in Washington in an unsuccessful bid to undercut them.Automobiles Fuel Efficiency United States Politics and Government General Motors Chrysler LLC Ford Motor Company Obama, Barack Automobiles Fuel Efficiency United States Politics and Government General Motors Chrysler LLC Ford Motor Company Obama, Barack Boutique Firms Are Bearing Up. The smaller shops have been able to prosper despite the slowdown.Wall Street firms that specialize in mergers and acquisitions are hitting a few wobbles after a good run. Lazard missed second-quarter estimates on Thursday, though only by a penny, because of lower growth in advisory fees than peers. Evercore Partners delivered a similar underperformance as compensation expenses more than doubled. And Greenhill & Company has been frantically trying to calm nerves about departing executives.Mergers, Acquisitions and Divestitures Exxon Mobil Corporation Company Reports Mergers, Acquisitions and Divestitures Exxon Mobil Corporation Company Reports In Deal With NBC, Amazon Seeks to Widen Its Video Streaming Service. Amazon announced a deal for access to part of Universal’s film library, its second such pact in streaming video in as many weeks.Amazon, the online retailing giant, announced a deal with NBCUniversal for access to part of Universal Pictures’ film library on Thursday, its second such pact in the streaming video space in as many weeks.Amazon.com Inc Universal Pictures National Broadcasting Co Computers and the Internet Television Netflix Inc Movies Amazon.com Inc Universal Pictures National Broadcasting Co Computers and the Internet Television Netflix Inc Movies Study Faults Approval Process for Medical Devices. A top scientific group said the system that examines the safety of devices like artificial hips should be replaced.The government’s system for regulating many medical devices like artificial hips should be abandoned and replaced because it fails to examine their safety and effectiveness before sale, according to a report released Friday by one of the nation’s top scientific groups. Medical Devices Institute of Medicine Accidents and Safety Regulation and Deregulation of Industry Medical Devices Institute of Medicine Accidents and Safety Regulation and Deregulation of Industry New Data Shows Sharp Slowdown in Growth Rate. The 1.3 percent annual rate of growth for the U.S. economy was well below expectations, and revised data showed that the recession was worse than initially estimated.WASHINGTON — The economy slowed to a snail’s pace in the first half of 2011, underscoring a growing risk that the recovery itself may hang in the balance with budget and debt decisions in Washington.United States Economy Gross Domestic Product United States Economy Gross Domestic Product Stocks Fall After G.D.P. Data. The Dow continued its weeklong descent when second-quarter growth data came in lower than forecast.A disappointing report on the nation’s second-quarter economic activity spurred a steep initial decline in stocks in the United States on Friday, adding to the malaise in the markets as investors wait for an outcome of the debt ceiling debate in Washington.Stocks and Bonds United States Economy Gross Domestic Product Stocks and Bonds United States Economy Gross Domestic Product Usual Growth Leaders Absent From Recovery. The current jobs picture is glum largely because construction and government jobs aren’t being created.WHY has the job picture been so bleak in the current recovery? A large part of the problem can be traced to unusual weakness in two categories: construction jobs and government jobs.Labor and Jobs United States Economy Economic Conditions and Trends Labor and Jobs United States Economy Economic Conditions and Trends Owning a Ranch Offers Returns Beyond the Financial. Ranching has emerged as an alternative investment for those with deep pockets and a very long time horizon.AMONG the fantasies that keep many of us going on dreary days, owning a vast ranch out West would surely rank up there, along with living on a beach or gazing out over your vineyard at night. Personal Finances High Net Worth Individuals Ranches Personal Finances High Net Worth Individuals Ranches Options for Self-Publishing Proliferate, Easing the Bar to Entry. A wide range of options exists for authors who choose to forgo traditional book publishing.I’M a snob. Oh, I don’t particularly care what kind of car you drive or if you wear the latest designer fashions, but until recently I turned up my nose at authors who published their own books.Personal Finances Book Trade and Publishing Electronic Books and Readers Personal Finances Book Trade and Publishing Electronic Books and Readers Ruling Upholds Gene Patent in Cancer Test. A federal appeals court ruled on Friday that genes can be patented, overturning a lower court decision that had shocked the biotechnology industry.In a closely watched case, a federal appeals court ruled on Friday that genes can be patented, overturning a lower court decision that had shocked the biotechnology industry.Myriad Genetics Incorporated Genetics and Heredity Decisions and Verdicts Inventions and Patents DNA (Deoxyribonucleic Acid) Breast Cancer Ovarian Cancer Myriad Genetics Incorporated Genetics and Heredity Decisions and Verdicts Inventions and Patents DNA (Deoxyribonucleic Acid) Breast Cancer Ovarian Cancer A Flooring Designer’s Riviera Oasis. Kamyar Moghadam’s home is filled with a variety of stone, unusual woods, manicured trees and colorful furnishings, and all with a panoramic view.EZE-SUR-MER, FRANCE — Not too far from Bono’s home in this exclusive Riviera enclave, Kamyar Moghadam, a German flooring designer, has built a beach house where the Mediterranean seems to flow right through the Bali-style interiors.Housing and Real Estate France Housing and Real Estate France What Would It Take to End Stalemate. Most investors are still counting on a political resolution that would avert a default on United States debt, but the markets may have to force the issue.Politicians are loath to make painful decisions unless they are forced to. This week, as stocks kept sinking, the question was whether the markets would finally force their hand.United States Economy National Debt (US) Stocks and Bonds United States Politics and Government Law and Legislation United States Economy National Debt (US) Stocks and Bonds United States Politics and Government Law and Legislation Japan Proposes Aggressive Recovery Plan. The government laid out a five-year plan to buoy an economy reeling after the March 11 earthquake and subsequent nuclear plant crisis.TOKYO — Japan on Friday proposed an aggressive plan to spend 13 trillion yen ($167 billion) over five years in hopes of bringing about a swift recovery after its recent natural and nuclear disasters.Japan Japan Earthquake and Tsunami (2011) Economic Conditions and Trends Fukushima Daiichi Nuclear Power Plant (Japan) Japan Japan Earthquake and Tsunami (2011) Economic Conditions and Trends Fukushima Daiichi Nuclear Power Plant (Japan) The Week That Was, in Verse. The debt ceiling may have dominated the headlines, but it was a busy week for Wall Street. A look back at some of the top DealBook stories.It’s not all about the debt ceiling deadline, you know? Here, we run down the top DealBook stories from the week, in poetic form:  BSkyB Lands Formula One Rights. The move away from exclusive coverage on the BBC chips away at the racing circuit's commitment to free TV.PARIS — Starting next year, Formula One auto racing fans in Britain will have to pay up if they want to watch all of the races on television under an agreement announced Friday that chips away at the racing circuit’s longstanding commitment to free TV.Formula One British Broadcasting Corp Television British Sky Broadcasting Group (BSkyB) Athletics and Sports Hackers (Computers) Formula One British Broadcasting Corp Television British Sky Broadcasting Group (BSkyB) Athletics and Sports Hackers (Computers) Salvation at Chrysler, in the Form of Fiat. Meet David Kelleher, president of a Chrysler dealership in Pennsylvania and a survivor of the carmaker’s darkest days, when liquidation seemed probable. And then Fiat came along.A little more than two years ago, the White House’s auto industry task force concluded flatly that Chrysler was “not viable as a stand-alone company.” Fiat SpA Chrysler LLC Automobiles Mergers, Acquisitions and Divestitures Fiat SpA Chrysler LLC Automobiles Mergers, Acquisitions and Divestitures   \n",
       "1                                                                                                                                                                                                                                                                                                                                                                                                                                                                                                                                                                                                                                                                                                                                                                                                                                                                                                                                                                                                                                                                                                                                                                                                                                                                                                                                                                                                                                                                                                                                                                                                                                                                                                                                                                                                                                                                                                                                                                                                                                                                                                                                                                                                                                                                                                                                                                                                                                                                                                                                                                                                                                                                                                                                                                                                                                                                                                                                                                                                                                                                                                                                                                                                                                                                                                                                                                                                                                                                                                                                                                                                                                                                                                                                                                                                                                                                                                                                                                                                                                                                                                                                                                                                                                                                                                                                                                                                                                                                                                                                                                                                                                                                                                                                                                                                                                                                                                                                                                                                                                                                                                                                                                                                                                                                                                                                                                                                                                                                                                                                                                                                                                                                                                                                                                                                                                                                                                                                                                                                                                                                                                                                                                                                                                                                                                                                                                                                                                                                                                                                                                                                                                                                                                                                                                                                                                                                                                                                                                                                                                                                                                                                                                                                                                                                                                                                                                                                                                                                                                                                                                                                                                                                                                                                                                                                                                                                                                                                                                                                                    Global Concern Over U.S. Debt Ceiling Disagreement. The stewards of the world’s largest economies are anxious for a compromise in the U.S. to keep their own finances from damage.PARIS — While the debt debacle in Washington preoccupies America, it is causing jitters in power corridors from Beijing to Brussels. The stewards of the world’s largest economies are anxious for a compromise, to keep their own finances from suffering collateral damage.United States Economy United States Politics and Government Government Bonds National Debt (US) China Europe Japan International Trade and World Market United States Economy United States Politics and Government Government Bonds National Debt (US) China Europe Japan International Trade and World Market Muddying the Budget Waters. In the fight over the federal budget, Social Security has been put on the table, although it has not contributed to the deficit.All the political wrangling over the budget in Washington has been focused on one theme: how much the government should cut and when those cuts should take effect.Federal Budget (US) Social Security (US) Social Security Administration National Debt (US) United States Politics and Government Federal Budget (US) Social Security (US) Social Security Administration National Debt (US) United States Politics and Government Philanthropists Start Requiring Management Courses to Keep Nonprofits Productive. Some philanthropists are steering charities toward better management as they donate.Pierre M. Omidyar and Peter B. Lewis are in many ways opposites. Mr. Omidyar, the founder of eBay, is shy, soft-spoken and formal, while Mr. Lewis, who made Progressive Insurance into the powerhouse it is today, bluntly speaks his mind and revels in stopping people midsentence by taking off his prosthetic leg during meetings. Lewis, Peter B Omidyar Network Executives and Management Nonprofit Organizations Philanthropy Lewis, Peter B Omidyar Network Executives and Management Nonprofit Organizations Philanthropy Obama Reveals Details of Gas Mileage Rules. The new automobile fuel-efficiency standards requiring an average 54.5 miles per gallon by 2025 could end up in the low 40s after incentives and discounts.DETROIT — President Obama announced new automobile fuel-efficiency standards on Friday that require an average 54.5 miles per gallon by 2025. But even if the auto industry manages to meet the new standards, it is unlikely car buyers will see many fuel-economy stickers with such high mileage.Automobiles Fuel Efficiency Automobiles Fuel Efficiency A Mobilization in Washington by Wall Street. Last-minute phone calls, a group missive, a flood of research reports to Congress — Wall Street is sweating over what could happen if the debt ceiling isn’t raised.After a year of clashing with Washington over new financial reforms, the country’s most powerful bankers have found common ground with regulators in the hard-fought effort to lift the debt ceiling and avoid a default.Banking and Financial Institutions National Debt (US) United States Politics and Government Credit and Debt Stocks and Bonds Banking and Financial Institutions National Debt (US) United States Politics and Government Credit and Debt Stocks and Bonds   \n",
       "2                                                                                                                                                                                                                                                                                                                                                                                                                                                                                                                                                                                                                                                                                                                                                                                                                                                                                                                                                                                                                                                                                                                                                                                                                                                                                                                                                                                                                                                                                                                                                                                                                                                                                                                                                                                                                                                                                                                                                                                                                                                                                                                                                                                                                                                                                                                                                                                                                                                                                                                                                                                                                                                                                                                                                                                                                                                                                                                                                                                                                                                                                                                                                                                                                                                                                                                                                                                                                                                                                                                                                                                                                                                                                                                                                                                                                                                                                                                                                                                                                                                                                                                                                                                                                                                                                                                                                                                                                                                                                                                                                                                                                                                                                                                                                                                                                                                                                                                                                                                                                                                                                                                                                                                                                                                                                                                                                                                                                                                                                                                                                                                                                                        Deal May Avert Default, but Some Ask, ‘Is That Good?’. A small group of economists and financiers argue that it would be better to focus on long-term financial health, even if it means not paying the bills right away.The resounding view on Wall Street and among many financial regulators and veteran lawmakers is that there will be a catastrophe if the United States does not raise its debt limit in the next few days.United States Economy National Debt (US) United States Economy National Debt (US) Obstacles to Capturing Carbon Gas. Capturing carbon emissions and burying them underground could make fossil fuels greener, but costs and local opposition are hindering efforts to develop commercial-scale projects.BRUSSELS — Can the world use fossil fuels and protect the climate too?Greenhouse Gas Emissions Carbon Dioxide Environment Greenhouse Gas Emissions Carbon Dioxide Environment China’s Low Roaming Fees Won’t Be Matched Soon. Chinese travelers can call home for what it costs to make a local call in those markets.BERLIN — When Su Xiaoqin, a Chinese translator living in Düsseldorf, calls family and friends back in Shanghai, she does not use the mobile network of her German operator, O2. She pops in the SIM card for China Mobile.Telephones and Telecommunications China Mobile Ltd China Unicom (Hong Kong) Ltd China Telecom Corporation Ltd China Telecom Italia S.p.A Telephones and Telecommunications China Mobile Ltd China Unicom (Hong Kong) Ltd China Telecom Corporation Ltd China Telecom Italia S.p.A Al Jazeera’s New Goal in Sports. For the first time, Al Jazeera will broadcast a major Western sporting event in the league’s domestic market, bringing Ligue 1 soccer to French viewers starting next year.PARIS — Al Jazeera used to be known, somewhat unfairly, as the television network of Osama bin Laden. Now it wants to become the network of Yoann Gourcuff, Alou Diarra and Eden Hazard.Al Jazeera Television Athletics and Sports France Al Jazeera Television Athletics and Sports France HSBC to Announce 10,000 Job Cuts. As part of its cost-cutting strategy, the bank said Sunday it will sell 195 branches in upstate New York to First Niagara.LONDON — HSBC, Europe’s biggest bank, plans to announce thousands of job cuts on Monday as part of a wide-ranging cost-reduction program that started in May, a person with direct knowledge of the decision said Sunday.Banking and Financial Institutions Layoffs and Job Reductions HSBC Holdings PLC Banking and Financial Institutions Layoffs and Job Reductions HSBC Holdings PLC Flaunting Latino Clichés in Effort to Defuse Them. A new ad campaign for the New York International Latino Film Festival makes fun of stereotypes to attract attendees while drawing attention to the problem.FOR some Hollywood movies, clichés are everything. An asteroid destroys a major city. A shadowy figure appears behind someone in the reflection of medicine cabinet mirror. A Latina maid marries a successful businessman and lives happily ever after. Hispanic-Americans Advertising and Marketing Movies New York International Latino Film Festival Hispanic-Americans Advertising and Marketing Movies New York International Latino Film Festival Uncertainty Driving Treasury Bill Fluctuations. In a financial market not usually known for excitement, stability has been replaced with concern, reflected in falling prices for short-term offerings.In normal times, it is hard to find a financial market that is more boring than the one where short-term Treasury bills are traded. Credit and Debt United States Economy Treasury Department Prices (Fares, Fees and Rates) Credit and Debt United States Economy Treasury Department Prices (Fares, Fees and Rates) Ticket Sales Start-Up Aims at Smaller Box Offices. Using a ticket system it created, Eventbrite has entered the multibillion-dollar ticketing industry and set its sights on events below Ticketmaster’s radar.On July 23, 3,000 carnivores salivated their way through Meatopia, a festival on a Brooklyn pier where 45 chefs from around the country offered fleshy dishes like veal belly gyros and Southern pulled-pork shooters.Eventbrite Mobile Applications Sales Start-ups Eventbrite Mobile Applications Sales Start-ups Bringing Comfort Food to Print Fans. A new food magazine co-created by the owner of Momofuku breaks many of the conventions of magazine journalism and is even a pleasure to hold.After an improbable rise as a chef who took a tiny noodle shop in New York and parlayed it into a kind of punk rock culinary movement and five wildly successful restaurants, David Chang seemed destined to become a television star. Now famous and ubiquitous, he would be a natural to join the legions of knife-wielding, apron-wearing stars who terrorize amateur cooks for the benefit of an audience. Either that or he could look into the camera and patiently explain how you too could make food that would knock people out of their chairs.Cooking and Cookbooks Magazines Mobile Applications Chang, David (Chef) Cooking and Cookbooks Magazines Mobile Applications Chang, David (Chef) A Patent Fever Over Smartphones. Wireless patents, which cover everything from app icons to address books, could dictate the future of the rapidly growing smartphone market.A Patent Fever Over Smartphones Smartphones Inventions and Patents Mobile Applications Android (Operating System) iPhone Telefonaktiebolaget L M Ericsson Smartphones Inventions and Patents Mobile Applications Android (Operating System) iPhone Telefonaktiebolaget L M Ericsson   \n",
       "3                                                                                                                                                                                                                                                                                                                                                                                                                                                                                                                                                                                                                                                                                                                                                                                                                                                                                                                                                                                                                                                                                                                                                                                                                                                                                                                                                                                                                                                                                                                                                                                                                                                                                                                                                                                                                          Charging a Premium for Movies, at a Cost. High-priced tickets and premiums for 3-D are rewarding shareholders but may be driving away moviegoers.SANTA MONICA, Calif. — Would you go to the movies more if tickets cost less?Prices (Fares, Fees and Rates) Movies Three-Dimensional Devices and Effects Prices (Fares, Fees and Rates) Movies Three-Dimensional Devices and Effects Data Centers’ Power Use Less Than Was Expected. Data centers’ unquenchable thirst for power has been slaked by the recession and new technology, a report says.SAN FRANCISCO — Data centers’ unquenchable thirst for electricity has been slaked by the global recession and by a combination of new power-saving technologies, according to an independent report on data center power use from 2005 to 2010.Data Centers Recession and Depression Computers and the Internet Electric Light and Power Data Centers Recession and Depression Computers and the Internet Electric Light and Power For New Yorker on iPad, Words Are the Thing. With a minimum of bells and whistles and a focus on a readable format, The New Yorker attained iPad sales higher than those of any other iPad edition sold by Condé Nast.When magazine publishers began pouring their resources and hopes into the iPad, their thinking was that readers wanted something substantially more than just words on a screen. A simple PDF of a page just would not do. The app had to dazzle the senses. Mobile Applications iPad Magazines New Yorker Conde Nast Publications Inc Mobile Applications iPad Magazines New Yorker Conde Nast Publications Inc Optimism on Wall St. Tempered by Hurdles. Doomsday talk that had dominated recent weeks faded as political leaders signaled they had reached a compromise.After an anxious weekend spent glued to their BlackBerrys and iPhones, bankers and investors breathed a sigh of relief Sunday as lawmakers forged an agreement to raise the nation’s debt ceiling ahead of Monday’s trading.Banking and Financial Institutions Credit and Debt United States Economy Economic Conditions and Trends National Debt (US) Law and Legislation Banking and Financial Institutions Credit and Debt United States Economy Economic Conditions and Trends National Debt (US) Law and Legislation Hopeful, but Wary at Money Markets. While some investors have shifted assets to combat the uncertainty surrounding the debt ceiling debate, managers and regulators of money market funds say they’re optimistic.WASHINGTON — Money market funds, stuffed with Treasury notes and other short-term government securities, have long been considered the safest of harbors by millions of investors and institutions alike. But with the prospect of a default or a downgrade in the nation’s creditworthiness, billions of dollars have fled the funds as investors grapple with uncertainty.Banking and Financial Institutions Money Market Accounts Stocks and Bonds National Debt (US) Banking and Financial Institutions Money Market Accounts Stocks and Bonds National Debt (US) Looking Ahead. Data will include the Institute for Supply Management reports on manufacturing and nonmanufacturing and the monthly jobless numbers, as well as numerous corporate earnings reports.ECONOMIC REPORTS Reports will include construction spending and I.S.M. manufacturing (Monday); personal spending, personal income and monthly auto sales (Tuesday); M.B.A. mortgage applications, ADP employment report, I.S.M. nonmanufacturing index and factory orders (Wednesday); weekly jobless claims and ICSC chain store sales (Thursday); and the monthly unemployment rate for July and consumer credit (Friday).United States Politics and Government Company Reports United States Economy United States United States Politics and Government Company Reports United States Economy United States Al Jazeera English Arrives on N.Y. Cable. The Qatar-based Al Jazeera has struggled to secure American outlets for its English-language TV news channel.Every cable news channel has its moment.Al Jazeera News and News Media Television Al Jazeera News and News Media Television Relief Rally Vanishes After New Data. Wall Street followed European and Asian markets higher in relief over the debt agreement in Washington, but the rally was short-lived, as indexes turned negative.Hopes were high for a rally in stocks in the wake of Sunday’s debt limit agreement. But the bounce was a thud. Stocks and Bonds Nikkei Stock Average National Debt (US) Standard & Poor's 500-Stock Index Stocks and Bonds Nikkei Stock Average National Debt (US) Standard & Poor's 500-Stock Index Asia Seeks to Cut Its Ties to Western Borrowers. Most Asian countries have healthy government balance sheets and vast amounts of reserves on hand. But there are vulnerable spots in Taiwan, South Korea, Malaysia and New Zealand.SINGAPORE — Averting a U.S. debt default solves only the immediate fiscal problem for the West and its big creditors in Asia.Economic Conditions and Trends International Trade and World Market Economic Conditions and Trends International Trade and World Market Small City, Big Debt Problems. Retired employees of Central Falls, R.I., face sharp benefit cuts, but bondholders appear to be unscathed.Even as officials in Washington pledged to cut domestic spending, the city of Central Falls, R.I., landed in bankruptcy court on Monday, a stark reminder that some American cities have debts so overwhelming that no amount of belt tightening can set things right.Central Falls (RI) Bankruptcies Pensions and Retirement Plans Government Employees Central Falls (RI) Bankruptcies Pensions and Retirement Plans Government Employees Improve Your Backstroke While Staying Dry. Syrup, part of the LBi Group, has created the Speedo Pace Club, an online, interactive service for swimming enthusiasts who want to improve their training efforts and buy products.Speedo has created a new interactive, online club for swimming enthusiasts that it hopes will help their training efforts and, more importantly, inspire them to buy merchandise.Advertising and Marketing Online Advertising Advertising and Marketing Online Advertising The Airport Experience Now Includes Shopping for the Family. The draw of airport retailing is simple: an attentive clientele. Domestic travelers spend more than an hour, on average, waiting in airports once they have passed security.After visits to malls plummeted during the recession — and have yet to bounce back — many mass-market retailers stepped up their search for other locations to lure shoppers.Airports Shopping and Retail Travel and Vacations Airports Shopping and Retail Travel and Vacations To Share Grievances, Microblogging the Frustrations of Flight. A computer scientist vents with fellow fliers over Twitter and learns to keep a paper backup for smartphone boarding passes.I’M not the most talkative person on airplanes. I used to be much friendlier, but an inevitable question is, “What do you do?” When I say, “I’m a professor of computer science,” I always wind up doing a lot of free consulting.Airlines and Airplanes Business Travel Airlines and Airplanes Business Travel India’s Widening Iron Ore Scandal Hurts Stocks. In the wake of a government report on corruption, shares of mining companies have lost value, including the flagship of one of India’s richest men.MUMBAI, India — India’s wave of corruption scandals has hit yet another industry, iron ore mining, implicating companies that include the flagship of one of this nation’s richest men.India Corruption in Government Mines and Mining India Corruption in Government Mines and Mining Star Alliance Puts Air India on an Indefinite Standby. Star Alliance, a global network of airlines that caters to frequent international travelers, said Monday that Air India’s pending membership had been suspended.NEW DELHI — Star Alliance, a global network of airlines that caters to frequent international travelers, said Monday that Air India’s pending membership had been suspended. Airlines and Airplanes Air India Star Alliance Airlines and Airplanes Air India Star Alliance When the Numbers Outweigh the Message. As Validus Holdings showed when it switched public relations firms during its hostile bid for Transatlantic Holdings, messaging doesn’t win deals, numbers do.Can public relations alone rescue a struggling deal? By taking the uncommon tactic of switching communicators in the heat of battle, that’s sort of what the reinsurer Validus Holdings is trying with its hostile bid for its $3.2 billion rival, Transatlantic Holdings. Validus shareholders have so far scorned the idea. The trouble is, messaging doesn’t win deals, numbers do. On that score, Validus isn’t far enough ahead.Mergers, Acquisitions and Divestitures Mergers, Acquisitions and Divestitures That Chat at the Airport Is Anything but Idle. The Transportation Security Administration is expanding its behavioral approach to detect airport threats, while the revival of a trusted flier program offers one alternative.THE older I get, the longer the list of people I don’t want to talk to.Airports Security and Warning Systems Transportation Security Administration Airports Security and Warning Systems Transportation Security Administration   \n",
       "4                                                                                                                                                                                                                                                                                                                                                                                                                                                                                                                                                                                                                                                                                                                                                                                                                                                                                                                                                                                                                                                                                                                                                                                                                                                                                                                                                                                                                                                                                                                                                                                                                                                                                                                                                                                                                                                                                                                                                                                                                                                                                                                                                                                                                                                                                                                                                                                                                                                                                                                                                                                                                                                                                                                                                                                                                                                                                                                                                                                                                                                                                                                                                                                                                                                                                     Pearls, Finer but Still Cheap, Flow From China. Chinese companies are using new techniques that help make pearls cheaper, throwing the industry into turmoil.ZHUJI, China — One of the most feared men in the worldwide pearl industry these days is a muscular, Ferrari-driving 40-year-old who is doing the improbable: growing pearls that are nearing the highest quality and may be affordable for middle-class Americans.Pearls China Factories and Manufacturing Pearls China Factories and Manufacturing Focus Turns Back to Fed on Economy. Political divisions in Congress have all but immobilized the levers of fiscal policy, raising pressure on the Federal Reserve to address the nation’s economic lethargy.WASHINGTON — Even as Congress escapes from its brush with default, political divisions have all but immobilized the levers of fiscal policy, raising pressure on the Federal Reserve to address the nation’s economic lethargy. United States Economy National Debt (US) Federal Reserve System United States Politics and Government United States Economy National Debt (US) Federal Reserve System United States Politics and Government A Rift Divides Members of Journalism Groups. The National Association of Black Journalists is splitting from Unity, an umbrella group, over revenue.As the National Association of Black Journalists opens its annual conference in Philadelphia on Wednesday, a topic of conversation is likely to be its recent efforts to get more black anchors on prime-time news programs. News and News Media Minorities Unity: Journalists of Color National Assn of Black Journalists News and News Media Minorities Unity: Journalists of Color National Assn of Black Journalists Shampoo to Match a No-Nonsense Attitude. For about a decade, Pert Plus has been advertised only intermittently, but now Helen of Troy is introducing an ambitious campaign aimed at men aged 25 to 34.SHAMPOO advertising often promises to add sheen to dull, lifeless hair, but sometimes it is the shampoo brands themselves that lose their luster.Advertising and Marketing Hair Advertising and Marketing Hair Britain’s Economic Policies Gain Backing From I.M.F.. A weak economic environment and rising inflation are only temporary, the fund said, so Britain should not change those polices.LONDON — The International Monetary Fund endorsed the British government’s tight budget policy and loose monetary stance on Monday, while warning that the authorities should stand ready to change course if growth failed to improve.Economic Conditions and Trends Great Britain International Monetary Fund Economic Conditions and Trends Great Britain International Monetary Fund Toyota, Rebounding From Quake, Raises Profit Forecast. The revised estimate came as the Japanese automaker posted a 1.1 billion yen net profit for the April-June quarter, a tiny fraction of the 190.4 billion yen it earned a year earlier.TOKYO — Citing a quicker than expected recovery from Japan’s earthquake, the Toyota Motor Corporation raised its full-year profit forecast by almost 40 percent Tuesday, although it warned that a strong yen continued to weigh on its bottom line. Toyota Motor Corp Company Reports Yen (Currency) Toyota Motor Corp Company Reports Yen (Currency) Worries Rise Over Spain and Italy Debt. Investors are returning their attention to the debt woes in Europe, and they do not like what they see.PARIS — Just as European markets seemed to resume their normalcy after the tumult of their sovereign debt crises, the wolves are back at the door. European Sovereign Debt Crisis (2010- ) Italy Spain Zapatero, Jose Luis Rodriguez Berlusconi, Silvio European Sovereign Debt Crisis (2010- ) Italy Spain Zapatero, Jose Luis Rodriguez Berlusconi, Silvio World Markets Staggered by Weak Consumer Data. The Standard & Poor’s index erased all of the gains of this year, while the Dow recorded its eighth consecutive day of declines.As the debt limit drama ended in Washington, storm clouds thickened in the financial markets.Consumer Behavior United States Economy Stocks and Bonds Consumer Behavior United States Economy Stocks and Bonds Morning Take-Out. Highlights from the DealBook newsletter.Revolving Door at S.E.C. Is Hurdle to Crisis Cleanup | Before working on the financial crisis cleanup, a senior S.E.C. lawyer helped create the opaque securities that contributed to the mess.  Despite Rising U.S. Sales, Automakers Are Struggling. Honda and Toyota posted sharp decreases, while General Motors, Ford and Chrysler reported increases.DETROIT — Sales of new vehicles in the United States rose in July but were still hampered by economic concerns and low inventories of many Japanese models.Automobiles Sales Automobiles Sales Costly Drone Is Poised to Replace U-2 Spy Plane. Despite countless delays and budget battles, the Air Force is betting that a $12 billion program of unmanned drones is ready to gather intelligence from heights only dreamed of.PALMDALE, Calif. — Tucked away here in the Mojave Desert, the assembly plant for the high-flying Global Hawk jet resembles a giant hobby shop.Military Aircraft Drones (Pilotless Planes) United States Defense and Military Forces Budgets and Budgeting United States Air Force Military Aircraft Drones (Pilotless Planes) United States Defense and Military Forces Budgets and Budgeting United States Air Force Cities See the Other Side of the Tracks. After the success of Manhattan’s High Line park, other cities are turning abandoned rail lines into public spaces.The High Line park, built on an elevated railway trestle in Manhattan, has become both a symbol and a catalyst for an explosion of growth in the meatpacking district and the Chelsea neighborhood.High Line (NYC) Railroads Area Planning and Renewal Parks and Other Recreation Areas St Louis (Mo) Chicago (Ill) Philadelphia (Pa) New York City High Line (NYC) Railroads Area Planning and Renewal Parks and Other Recreation Areas St Louis (Mo) Chicago (Ill) Philadelphia (Pa) New York City Sales of Pain Drugs Help Pfizer’s Profit Beat Forecasts. Sales of the company’s Lyrica pain pill and its Enbrel arthritis medicine topped analysts’ predictions.Pfizer, the world’s biggest drug maker, reported second-quarter profit that topped analysts’ estimates as sales of pain medicines offset declining revenue from expired patents.Company Reports Pfizer Inc Drugs (Pharmaceuticals) Sales Medicine and Health Company Reports Pfizer Inc Drugs (Pharmaceuticals) Sales Medicine and Health Apollo Group to Buy Maker of Math Courses. Hoping to retain more students, the company behind the profit-making University of Phoenix is paying $75 million for Carnegie Learning, which offers computer-based math instruction.Hoping to keep more of its students from dropping out, the Apollo Group, which operates the profit-making University of Phoenix, said Tuesday that it would pay $75 million to buy Carnegie Learning, which offers computer-based math instruction. Mergers, Acquisitions and Divestitures Carnegie Mellon University E-Learning Mathematics University of Phoenix Apollo Group Inc Mergers, Acquisitions and Divestitures Carnegie Mellon University E-Learning Mathematics University of Phoenix Apollo Group Inc NYSE Profit Declines on Lower Revenue. NYSE Euronext, the exchange company that Deutsche Börse is planning to buy, said its second-quarter profit fell on lower revenue from European derivatives and United States equity trading.NYSE Euronext, the exchange company that Deutsche Börse is planning to buy, said its second-quarter profit fell on lower revenue from European derivatives and United States equity trading.Deutsche Borse AG NYSE Euronext Company Reports Regulation and Deregulation of Industry Deutsche Borse AG NYSE Euronext Company Reports Regulation and Deregulation of Industry   \n",
       "\n",
       "     price  \n",
       "0  1292.28  \n",
       "1  1292.28  \n",
       "2  1292.28  \n",
       "3  1286.94  \n",
       "4  1254.05  "
      ]
     },
     "execution_count": 132,
     "metadata": {},
     "output_type": "execute_result"
    }
   ],
   "source": [
    "daily.head()"
   ]
  },
  {
   "cell_type": "markdown",
   "id": "12eddaa7-db73-4bde-8848-fd1271b6179d",
   "metadata": {},
   "source": [
    "# Feature Engineering  "
   ]
  },
  {
   "cell_type": "markdown",
   "id": "faa635c6-74f3-4e26-8556-c059ff89b913",
   "metadata": {},
   "source": [
    "## column for percent change in price  \n"
   ]
  },
  {
   "cell_type": "code",
   "execution_count": 133,
   "id": "9522b91a-9d48-4c90-9ecd-479cae1488d9",
   "metadata": {
    "execution": {
     "iopub.execute_input": "2021-08-24T15:20:53.870500Z",
     "iopub.status.busy": "2021-08-24T15:20:53.870227Z",
     "iopub.status.idle": "2021-08-24T15:20:53.876348Z",
     "shell.execute_reply": "2021-08-24T15:20:53.875681Z",
     "shell.execute_reply.started": "2021-08-24T15:20:53.870447Z"
    }
   },
   "outputs": [
    {
     "data": {
      "text/plain": [
       "0       1292.28\n",
       "1       1292.28\n",
       "2       1292.28\n",
       "3       1286.94\n",
       "4       1254.05\n",
       "         ...   \n",
       "3648     4468.0\n",
       "3649     4468.0\n",
       "3650     4468.0\n",
       "3651    4479.71\n",
       "3652    4448.08\n",
       "Name: price, Length: 3653, dtype: object"
      ]
     },
     "execution_count": 133,
     "metadata": {},
     "output_type": "execute_result"
    }
   ],
   "source": [
    "daily['price']"
   ]
  },
  {
   "cell_type": "code",
   "execution_count": 136,
   "id": "84ecea49-e3cd-4540-952a-150454abe44d",
   "metadata": {
    "execution": {
     "iopub.execute_input": "2021-08-24T15:22:10.037688Z",
     "iopub.status.busy": "2021-08-24T15:22:10.037499Z",
     "iopub.status.idle": "2021-08-24T15:22:10.043898Z",
     "shell.execute_reply": "2021-08-24T15:22:10.043133Z",
     "shell.execute_reply.started": "2021-08-24T15:22:10.037670Z"
    },
    "tags": []
   },
   "outputs": [],
   "source": [
    "daily['pct_change']= daily['price'].pct_change()"
   ]
  },
  {
   "cell_type": "code",
   "execution_count": 138,
   "id": "2abf14e4-d0d8-476d-b5a8-6f493ada1cf5",
   "metadata": {
    "execution": {
     "iopub.execute_input": "2021-08-24T15:23:06.519837Z",
     "iopub.status.busy": "2021-08-24T15:23:06.519643Z",
     "iopub.status.idle": "2021-08-24T15:23:06.528245Z",
     "shell.execute_reply": "2021-08-24T15:23:06.527481Z",
     "shell.execute_reply.started": "2021-08-24T15:23:06.519818Z"
    },
    "tags": []
   },
   "outputs": [
    {
     "data": {
      "text/html": [
       "<div>\n",
       "<style scoped>\n",
       "    .dataframe tbody tr th:only-of-type {\n",
       "        vertical-align: middle;\n",
       "    }\n",
       "\n",
       "    .dataframe tbody tr th {\n",
       "        vertical-align: top;\n",
       "    }\n",
       "\n",
       "    .dataframe thead th {\n",
       "        text-align: right;\n",
       "    }\n",
       "</style>\n",
       "<table border=\"1\" class=\"dataframe\">\n",
       "  <thead>\n",
       "    <tr style=\"text-align: right;\">\n",
       "      <th></th>\n",
       "      <th>price</th>\n",
       "      <th>pct_change</th>\n",
       "    </tr>\n",
       "  </thead>\n",
       "  <tbody>\n",
       "    <tr>\n",
       "      <th>0</th>\n",
       "      <td>1292.28</td>\n",
       "      <td>NaN</td>\n",
       "    </tr>\n",
       "    <tr>\n",
       "      <th>1</th>\n",
       "      <td>1292.28</td>\n",
       "      <td>0.000000</td>\n",
       "    </tr>\n",
       "    <tr>\n",
       "      <th>2</th>\n",
       "      <td>1292.28</td>\n",
       "      <td>0.000000</td>\n",
       "    </tr>\n",
       "    <tr>\n",
       "      <th>3</th>\n",
       "      <td>1286.94</td>\n",
       "      <td>-0.004132</td>\n",
       "    </tr>\n",
       "    <tr>\n",
       "      <th>4</th>\n",
       "      <td>1254.05</td>\n",
       "      <td>-0.025557</td>\n",
       "    </tr>\n",
       "  </tbody>\n",
       "</table>\n",
       "</div>"
      ],
      "text/plain": [
       "     price  pct_change\n",
       "0  1292.28         NaN\n",
       "1  1292.28    0.000000\n",
       "2  1292.28    0.000000\n",
       "3  1286.94   -0.004132\n",
       "4  1254.05   -0.025557"
      ]
     },
     "execution_count": 138,
     "metadata": {},
     "output_type": "execute_result"
    }
   ],
   "source": [
    "daily[['price','pct_change']].head()"
   ]
  },
  {
   "cell_type": "markdown",
   "id": "facc123f-a50d-4c38-bd8a-c3c3d21521cd",
   "metadata": {},
   "source": [
    "## Add Column for direction of change  "
   ]
  },
  {
   "cell_type": "code",
   "execution_count": 139,
   "id": "ce0c6b06-521c-45e9-a8b1-2ab537a29e5b",
   "metadata": {
    "execution": {
     "iopub.execute_input": "2021-08-24T15:24:59.757887Z",
     "iopub.status.busy": "2021-08-24T15:24:59.757695Z",
     "iopub.status.idle": "2021-08-24T15:24:59.797619Z",
     "shell.execute_reply": "2021-08-24T15:24:59.796807Z",
     "shell.execute_reply.started": "2021-08-24T15:24:59.757870Z"
    }
   },
   "outputs": [],
   "source": [
    "# add column for type of price_direction \n",
    "price_direction=['first']\n",
    "for i in range(1,len(daily)):\n",
    "    if daily.loc[i,'pct_change']>0: price_direction.append('up')\n",
    "    elif daily.loc[i,'pct_change']<0: price_direction.append('down')\n",
    "    else: price_direction.append('same')\n",
    "daily['price_direction']= price_direction"
   ]
  },
  {
   "cell_type": "code",
   "execution_count": 140,
   "id": "ffc9e26f-2207-4eee-bef8-f75ca44961fe",
   "metadata": {
    "execution": {
     "iopub.execute_input": "2021-08-24T15:25:11.877287Z",
     "iopub.status.busy": "2021-08-24T15:25:11.877092Z",
     "iopub.status.idle": "2021-08-24T15:25:11.887024Z",
     "shell.execute_reply": "2021-08-24T15:25:11.886338Z",
     "shell.execute_reply.started": "2021-08-24T15:25:11.877269Z"
    }
   },
   "outputs": [
    {
     "data": {
      "text/html": [
       "<div>\n",
       "<style scoped>\n",
       "    .dataframe tbody tr th:only-of-type {\n",
       "        vertical-align: middle;\n",
       "    }\n",
       "\n",
       "    .dataframe tbody tr th {\n",
       "        vertical-align: top;\n",
       "    }\n",
       "\n",
       "    .dataframe thead th {\n",
       "        text-align: right;\n",
       "    }\n",
       "</style>\n",
       "<table border=\"1\" class=\"dataframe\">\n",
       "  <thead>\n",
       "    <tr style=\"text-align: right;\">\n",
       "      <th></th>\n",
       "      <th>price</th>\n",
       "      <th>pct_change</th>\n",
       "      <th>price_direction</th>\n",
       "    </tr>\n",
       "  </thead>\n",
       "  <tbody>\n",
       "    <tr>\n",
       "      <th>0</th>\n",
       "      <td>1292.28</td>\n",
       "      <td>NaN</td>\n",
       "      <td>first</td>\n",
       "    </tr>\n",
       "    <tr>\n",
       "      <th>1</th>\n",
       "      <td>1292.28</td>\n",
       "      <td>0.000000</td>\n",
       "      <td>same</td>\n",
       "    </tr>\n",
       "    <tr>\n",
       "      <th>2</th>\n",
       "      <td>1292.28</td>\n",
       "      <td>0.000000</td>\n",
       "      <td>same</td>\n",
       "    </tr>\n",
       "    <tr>\n",
       "      <th>3</th>\n",
       "      <td>1286.94</td>\n",
       "      <td>-0.004132</td>\n",
       "      <td>down</td>\n",
       "    </tr>\n",
       "    <tr>\n",
       "      <th>4</th>\n",
       "      <td>1254.05</td>\n",
       "      <td>-0.025557</td>\n",
       "      <td>down</td>\n",
       "    </tr>\n",
       "  </tbody>\n",
       "</table>\n",
       "</div>"
      ],
      "text/plain": [
       "     price  pct_change price_direction\n",
       "0  1292.28         NaN           first\n",
       "1  1292.28    0.000000            same\n",
       "2  1292.28    0.000000            same\n",
       "3  1286.94   -0.004132            down\n",
       "4  1254.05   -0.025557            down"
      ]
     },
     "execution_count": 140,
     "metadata": {},
     "output_type": "execute_result"
    }
   ],
   "source": [
    "daily[['price','pct_change','price_direction']].head()"
   ]
  },
  {
   "cell_type": "code",
   "execution_count": 142,
   "id": "3da0c93a-1d7a-42c3-9338-86fd115dc50a",
   "metadata": {
    "execution": {
     "iopub.execute_input": "2021-08-24T15:25:37.387747Z",
     "iopub.status.busy": "2021-08-24T15:25:37.387554Z",
     "iopub.status.idle": "2021-08-24T15:25:37.395254Z",
     "shell.execute_reply": "2021-08-24T15:25:37.394550Z",
     "shell.execute_reply.started": "2021-08-24T15:25:37.387728Z"
    },
    "tags": []
   },
   "outputs": [
    {
     "data": {
      "text/plain": [
       "up       0.380783\n",
       "down     0.311251\n",
       "same     0.307692\n",
       "first    0.000274\n",
       "Name: price_direction, dtype: float64"
      ]
     },
     "execution_count": 142,
     "metadata": {},
     "output_type": "execute_result"
    }
   ],
   "source": [
    "daily['price_direction'].value_counts(normalize=True)"
   ]
  },
  {
   "cell_type": "markdown",
   "id": "7e717a33-8efb-4564-9d6f-3bfa4cc1c78b",
   "metadata": {},
   "source": [
    "## add column for day of the week \n"
   ]
  },
  {
   "cell_type": "code",
   "execution_count": 143,
   "id": "afcc70db-4db9-4689-9c86-73d38c76b55f",
   "metadata": {
    "execution": {
     "iopub.execute_input": "2021-08-24T15:26:41.174163Z",
     "iopub.status.busy": "2021-08-24T15:26:41.173959Z",
     "iopub.status.idle": "2021-08-24T15:26:41.179892Z",
     "shell.execute_reply": "2021-08-24T15:26:41.179106Z",
     "shell.execute_reply.started": "2021-08-24T15:26:41.174145Z"
    }
   },
   "outputs": [],
   "source": [
    "# make column for day of the week \n",
    "daily['day_of_week']= daily['date'].apply(lambda x: x.weekday())"
   ]
  },
  {
   "cell_type": "code",
   "execution_count": 144,
   "id": "cca5c005-84db-4c97-a753-377cf56eb032",
   "metadata": {
    "execution": {
     "iopub.execute_input": "2021-08-24T15:26:55.043592Z",
     "iopub.status.busy": "2021-08-24T15:26:55.043378Z",
     "iopub.status.idle": "2021-08-24T15:26:55.050191Z",
     "shell.execute_reply": "2021-08-24T15:26:55.049543Z",
     "shell.execute_reply.started": "2021-08-24T15:26:55.043574Z"
    }
   },
   "outputs": [
    {
     "data": {
      "text/plain": [
       "4    0.143717\n",
       "0    0.143717\n",
       "1    0.143717\n",
       "2    0.143444\n",
       "3    0.143444\n",
       "6    0.142896\n",
       "5    0.139064\n",
       "Name: day_of_week, dtype: float64"
      ]
     },
     "execution_count": 144,
     "metadata": {},
     "output_type": "execute_result"
    }
   ],
   "source": [
    "daily['day_of_week'].value_counts(normalize=True)"
   ]
  },
  {
   "cell_type": "markdown",
   "id": "b9edb708-0e6c-4e7e-adf6-9ab44012ab9d",
   "metadata": {},
   "source": [
    "## add column is_holiday\n",
    "\n",
    "When a holiday falls on a weekend, market closures are dictated by two rules:\n",
    "\n",
    "If the holiday falls on a Saturday, the market will close on the preceding Friday.\n",
    "\n",
    "If the holiday falls on a Sunday, the market will close on the subsequent Monday.\n",
    "\n",
    "Early close days not included because market is open so people have an oppurtunity to respond to market conditions. "
   ]
  },
  {
   "cell_type": "code",
   "execution_count": 145,
   "id": "715fc36d-1674-4a99-abaf-d58e349d5d81",
   "metadata": {
    "execution": {
     "iopub.execute_input": "2021-08-24T15:27:50.001514Z",
     "iopub.status.busy": "2021-08-24T15:27:50.001320Z",
     "iopub.status.idle": "2021-08-24T15:27:50.018070Z",
     "shell.execute_reply": "2021-08-24T15:27:50.017132Z",
     "shell.execute_reply.started": "2021-08-24T15:27:50.001496Z"
    }
   },
   "outputs": [],
   "source": [
    "# holidays for each year where market is closed \n",
    "\n",
    "# source: https://www.nyse.com/markets/hours-calendars\n",
    "holidays_2021 = [datetime.date(2021,1,1),datetime.date(2021,1,18),\n",
    "                datetime.date(2021,2,15), datetime.date(2021,4,2),\n",
    "                datetime.date(2021,5,31),datetime.date(2021,7,5),\n",
    "                datetime.date(2021,9,6),datetime.date(2021,12,24)]\n",
    "\n",
    "#source: https://www.yahoo.com/now/2020-stock-market-holidays-bond-170244040.html\n",
    "holidays_2020 = [datetime.date(2020,1,1),datetime.date(2020,1,20),\n",
    "                datetime.date(2020,2,17),\n",
    "                 datetime.date(2020,4,10),\n",
    "                 datetime.date(2020,5,25),datetime.date(2020,7,3),\n",
    "                 datetime.date(2020,9,7), datetime.date(2020,11,26),\n",
    "                 datetime.date(2020,12,25),]\n",
    "\n",
    "# source: https://www.yahoo.com/now/2019-stock-market-holidays-bond-200739197.html\n",
    "holidays_2019 = [datetime.date(2019,1,1),datetime.date(2019,1,21),\n",
    "                datetime.date(2019,2,18),datetime.date(2019,4,19),\n",
    "                datetime.date(2019,1,1),datetime.date(2019,5,27),\n",
    "                datetime.date(2019,7,4),datetime.date(2019,9,2),\n",
    "                datetime.date(2019,11,28),datetime.date(2019,12,25),]\n",
    "\n",
    "# source: https://www.yahoo.com/now/2018-stock-market-holidays-bond-184004911.html\n",
    "holidays_2018 = [datetime.date(2018,1,1),datetime.date(2018,1,15),\n",
    "                datetime.date(2018,2,19),datetime.date(2018,3,30),\n",
    "                datetime.date(2018,5,28),datetime.date(2018,7,4),\n",
    "                datetime.date(2018,9,3),datetime.date(2018,11,22),\n",
    "                datetime.date(2018,12,5),datetime.date(2018,12,25),]\n",
    "\n",
    "# source: https://www.businesswire.com/news/home/20160202006502/en/NYSE-Group-Announces-2017-Holiday-and-Early-Closings-Calendar\n",
    "holidays_2017= [datetime.date(2017,1,2),datetime.date(2017,1,16),\n",
    "               datetime.date(2017,2,20),datetime.date(2017,4,14),\n",
    "               datetime.date(2017,5,29),datetime.date(2017,7,4),\n",
    "               datetime.date(2017,9,4),datetime.date(2017,11,23),\n",
    "               datetime.date(2017,12,25),]\n",
    "\n",
    "# source: https://money.com/nyse-nasdaq-market-holidays-2016/\n",
    "holidays_2016 = [datetime.date(2016,1,1),datetime.date(2016,1,18),\n",
    "                datetime.date(2016,2,15),datetime.date(2016,3,25),\n",
    "                datetime.date(2016,5,30),datetime.date(2016,7,4),\n",
    "                datetime.date(2016,9,5),datetime.date(2016,11,24),\n",
    "                datetime.date(2016,12,26),]\n",
    "\n",
    "# source: https://www.fool.com/investing/general/2015/05/29/stock-market-holidays-2015.aspx\n",
    "holidays_2015 = [datetime.date(2015,1,1),datetime.date(2015,1,19),\n",
    "                datetime.date(2015,2,16),datetime.date(2015,4,3),\n",
    "                datetime.date(2015,5,25),datetime.date(2015,7,3),\n",
    "                datetime.date(2015,9,7),datetime.date(2015,11,26),\n",
    "                datetime.date(2015,12,25),]\n",
    "\n",
    "# source: https://stock-market-holidays.org/2014-new-york-stock-exchange-holidays/\n",
    "holidays_2014= [datetime.date(2014,1,1),datetime.date(2014,1,20),\n",
    "               datetime.date(2014,2,17),datetime.date(2014,4,18),\n",
    "               datetime.date(2014,5,26),datetime.date(2014,7,4),\n",
    "               datetime.date(2014,9,1),datetime.date(2014,11,27),\n",
    "               datetime.date(2014,12,25),]\n",
    "\n",
    "# source:https://www.aol.com/2013/02/15/stock-market-holidays-closings-2013/\n",
    "holidays_2013= [datetime.date(2013,1,1),datetime.date(2013,1,21),\n",
    "               datetime.date(2013,2,18),datetime.date(2013,3,29),\n",
    "               datetime.date(2013,5,27),datetime.date(2013,7,4),\n",
    "               datetime.date(2013,9,2),datetime.date(2013,11,28),\n",
    "               datetime.date(2013,12,25),]\n",
    "\n",
    "# source: https://holidaystracker.com/stock-market/new-york-stock-exchange-holidays-2012/\n",
    "holidays_2012 = [datetime.date(2012,1,2),datetime.date(2012,1,16),\n",
    "               datetime.date(2012,2,20),datetime.date(2012,4,6),\n",
    "               datetime.date(2012,5,28),datetime.date(2012,7,4),\n",
    "               datetime.date(2012,9,3),datetime.date(2012,11,22),\n",
    "               datetime.date(2012,12,25),]\n",
    "\n",
    "# source: http://www.market-holidays.com/2011\n",
    "holidays_2011 = [datetime.date(2010,12,31),datetime.date(2011,1,17),\n",
    "               datetime.date(2011,2,21),datetime.date(2011,4,22),\n",
    "               datetime.date(2011,5,30),datetime.date(2011,7,4),\n",
    "               datetime.date(2011,9,5),datetime.date(2011,11,24),\n",
    "               datetime.date(2011,12,26),]\n",
    "\n",
    "# source: http://www.market-holidays.com/2010\n",
    "holidays_2010 = [datetime.date(2010,1,1),datetime.date(2010,1,18),\n",
    "               datetime.date(2010,2,15),datetime.date(2010,4,2),\n",
    "               datetime.date(2010,5,31),datetime.date(2010,7,5),\n",
    "               datetime.date(2010,9,6),datetime.date(2010,11,25),\n",
    "               datetime.date(2010,12,24),]\n",
    "\n",
    "# source: http://www.market-holidays.com/2009\n",
    "holidays_2009 = [datetime.date(2009,1,1),datetime.date(2009,1,19),\n",
    "               datetime.date(2009,2,16),datetime.date(2009,4,10),\n",
    "               datetime.date(2009,5,25),datetime.date(2009,7,3),\n",
    "               datetime.date(2009,9,7),datetime.date(2009,11,26),\n",
    "               datetime.date(2009,12,25),]"
   ]
  },
  {
   "cell_type": "code",
   "execution_count": 146,
   "id": "69e3b50a-1371-42d2-afa3-85ea6a81e2d8",
   "metadata": {
    "execution": {
     "iopub.execute_input": "2021-08-24T15:32:16.097962Z",
     "iopub.status.busy": "2021-08-24T15:32:16.097689Z",
     "iopub.status.idle": "2021-08-24T15:32:16.102903Z",
     "shell.execute_reply": "2021-08-24T15:32:16.102277Z",
     "shell.execute_reply.started": "2021-08-24T15:32:16.097943Z"
    }
   },
   "outputs": [],
   "source": [
    "# combine  lists \n",
    "holidays_2021.extend(holidays_2020)\n",
    "holidays_2021.extend(holidays_2019)\n",
    "holidays_2021.extend(holidays_2018)\n",
    "holidays_2021.extend(holidays_2017)\n",
    "holidays_2021.extend(holidays_2016)\n",
    "holidays_2021.extend(holidays_2015)\n",
    "holidays_2021.extend(holidays_2014)\n",
    "holidays_2021.extend(holidays_2013)\n",
    "holidays_2021.extend(holidays_2012)\n",
    "holidays_2021.extend(holidays_2011)\n",
    "holidays_2021.extend(holidays_2010)\n",
    "holidays_2021.extend(holidays_2009)"
   ]
  },
  {
   "cell_type": "code",
   "execution_count": 147,
   "id": "0577d4f7-20d0-4c02-af6a-1f4091da331b",
   "metadata": {
    "execution": {
     "iopub.execute_input": "2021-08-24T15:32:37.422240Z",
     "iopub.status.busy": "2021-08-24T15:32:37.422050Z",
     "iopub.status.idle": "2021-08-24T15:32:37.434903Z",
     "shell.execute_reply": "2021-08-24T15:32:37.434475Z",
     "shell.execute_reply.started": "2021-08-24T15:32:37.422223Z"
    }
   },
   "outputs": [],
   "source": [
    "# make column indicating if that date is a holiday for the stock market \n",
    "daily['is_holiday']= daily['date'].apply(lambda x: 1 if x in set(holidays_2021) else 0)"
   ]
  },
  {
   "cell_type": "code",
   "execution_count": 148,
   "id": "f1b17e27-0ebd-4faf-ae97-91d7948d7759",
   "metadata": {
    "execution": {
     "iopub.execute_input": "2021-08-24T15:32:50.622308Z",
     "iopub.status.busy": "2021-08-24T15:32:50.622130Z",
     "iopub.status.idle": "2021-08-24T15:32:50.626534Z",
     "shell.execute_reply": "2021-08-24T15:32:50.625806Z",
     "shell.execute_reply.started": "2021-08-24T15:32:50.622291Z"
    }
   },
   "outputs": [
    {
     "data": {
      "text/plain": [
       "91"
      ]
     },
     "execution_count": 148,
     "metadata": {},
     "output_type": "execute_result"
    }
   ],
   "source": [
    "daily['is_holiday'].sum()"
   ]
  },
  {
   "cell_type": "markdown",
   "id": "5988584b-ea1e-4b29-8518-3efeb5658ffe",
   "metadata": {
    "execution": {
     "iopub.execute_input": "2021-08-24T15:32:59.425107Z",
     "iopub.status.busy": "2021-08-24T15:32:59.424903Z",
     "iopub.status.idle": "2021-08-24T15:32:59.430551Z",
     "shell.execute_reply": "2021-08-24T15:32:59.429846Z",
     "shell.execute_reply.started": "2021-08-24T15:32:59.425088Z"
    }
   },
   "source": [
    "About 9 holidays per year for the stock market so this is reasonable considering we have data for 10 years.  "
   ]
  },
  {
   "cell_type": "code",
   "execution_count": 150,
   "id": "c3109c82-d71d-4a4d-beb7-de6c94d008fa",
   "metadata": {
    "execution": {
     "iopub.execute_input": "2021-08-24T15:34:52.726136Z",
     "iopub.status.busy": "2021-08-24T15:34:52.725941Z",
     "iopub.status.idle": "2021-08-24T15:34:52.793783Z",
     "shell.execute_reply": "2021-08-24T15:34:52.792979Z",
     "shell.execute_reply.started": "2021-08-24T15:34:52.726119Z"
    }
   },
   "outputs": [],
   "source": [
    "# save file \n",
    "daily.to_pickle('daily.pkl')"
   ]
  },
  {
   "cell_type": "code",
   "execution_count": 155,
   "id": "9cd36e6f-ba5a-41a2-8e9b-11ede0a60bc5",
   "metadata": {
    "execution": {
     "iopub.execute_input": "2021-08-24T15:38:47.134299Z",
     "iopub.status.busy": "2021-08-24T15:38:47.134067Z",
     "iopub.status.idle": "2021-08-24T15:38:47.138444Z",
     "shell.execute_reply": "2021-08-24T15:38:47.137522Z",
     "shell.execute_reply.started": "2021-08-24T15:38:47.134281Z"
    }
   },
   "outputs": [],
   "source": [
    "# to load file \n",
    "# daily = pd.read_pickle('daily.pkl')"
   ]
  },
  {
   "cell_type": "code",
   "execution_count": 156,
   "id": "0df7ae24-179a-4c72-b02a-4cecaae504d6",
   "metadata": {
    "execution": {
     "iopub.execute_input": "2021-08-24T16:14:40.349039Z",
     "iopub.status.busy": "2021-08-24T16:14:40.348834Z",
     "iopub.status.idle": "2021-08-24T16:14:40.851643Z",
     "shell.execute_reply": "2021-08-24T16:14:40.850874Z",
     "shell.execute_reply.started": "2021-08-24T16:14:40.349021Z"
    }
   },
   "outputs": [],
   "source": [
    "daily.to_csv('daily.csv')"
   ]
  },
  {
   "cell_type": "markdown",
   "id": "5619b2d7-08f6-4c76-a977-fe5367bd9906",
   "metadata": {},
   "source": [
    "# Open and close price "
   ]
  },
  {
   "cell_type": "code",
   "execution_count": 158,
   "id": "691de9bb-d409-4d56-a2c2-605d48dd2f9c",
   "metadata": {
    "execution": {
     "iopub.execute_input": "2021-08-25T13:22:39.468339Z",
     "iopub.status.busy": "2021-08-25T13:22:39.468131Z",
     "iopub.status.idle": "2021-08-25T13:22:43.015419Z",
     "shell.execute_reply": "2021-08-25T13:22:43.014774Z",
     "shell.execute_reply.started": "2021-08-25T13:22:39.468320Z"
    },
    "tags": []
   },
   "outputs": [
    {
     "name": "stdout",
     "output_type": "stream",
     "text": [
      "Collecting yfinance\n",
      "  Downloading yfinance-0.1.63.tar.gz (26 kB)\n",
      "Requirement already satisfied: pandas>=0.24 in /home/tanveer/anaconda3/lib/python3.8/site-packages (from yfinance) (1.3.1)\n",
      "Requirement already satisfied: numpy>=1.15 in /home/tanveer/anaconda3/lib/python3.8/site-packages (from yfinance) (1.19.5)\n",
      "Requirement already satisfied: requests>=2.20 in /home/tanveer/anaconda3/lib/python3.8/site-packages (from yfinance) (2.26.0)\n",
      "Collecting multitasking>=0.0.7\n",
      "  Downloading multitasking-0.0.9.tar.gz (8.1 kB)\n",
      "Requirement already satisfied: lxml>=4.5.1 in /home/tanveer/anaconda3/lib/python3.8/site-packages (from yfinance) (4.6.3)\n",
      "Requirement already satisfied: python-dateutil>=2.7.3 in /home/tanveer/anaconda3/lib/python3.8/site-packages (from pandas>=0.24->yfinance) (2.8.2)\n",
      "Requirement already satisfied: pytz>=2017.3 in /home/tanveer/anaconda3/lib/python3.8/site-packages (from pandas>=0.24->yfinance) (2021.1)\n",
      "Requirement already satisfied: six>=1.5 in /home/tanveer/anaconda3/lib/python3.8/site-packages (from python-dateutil>=2.7.3->pandas>=0.24->yfinance) (1.15.0)\n",
      "Requirement already satisfied: certifi>=2017.4.17 in /home/tanveer/anaconda3/lib/python3.8/site-packages (from requests>=2.20->yfinance) (2021.5.30)\n",
      "Requirement already satisfied: charset-normalizer~=2.0.0 in /home/tanveer/anaconda3/lib/python3.8/site-packages (from requests>=2.20->yfinance) (2.0.4)\n",
      "Requirement already satisfied: idna<4,>=2.5 in /home/tanveer/anaconda3/lib/python3.8/site-packages (from requests>=2.20->yfinance) (2.10)\n",
      "Requirement already satisfied: urllib3<1.27,>=1.21.1 in /home/tanveer/anaconda3/lib/python3.8/site-packages (from requests>=2.20->yfinance) (1.26.6)\n",
      "Building wheels for collected packages: yfinance, multitasking\n",
      "  Building wheel for yfinance (setup.py) ... \u001b[?25ldone\n",
      "\u001b[?25h  Created wheel for yfinance: filename=yfinance-0.1.63-py2.py3-none-any.whl size=23909 sha256=a1a29a7f4db06fd4d5ccf68048df2bcd966f7bd39daac1ac66c236791759208a\n",
      "  Stored in directory: /home/tanveer/.cache/pip/wheels/ec/cc/c1/32da8ee853d742d5d7cbd11ee04421222eb354672020b57297\n",
      "  Building wheel for multitasking (setup.py) ... \u001b[?25ldone\n",
      "\u001b[?25h  Created wheel for multitasking: filename=multitasking-0.0.9-py3-none-any.whl size=8368 sha256=99e86c2547a8d0c7105d06bf3d2cbc4ac104078664c7fef43593a018e31b91d4\n",
      "  Stored in directory: /home/tanveer/.cache/pip/wheels/57/6d/a3/a39b839cc75274d2acfb1c58bfead2f726c6577fe8c4723f13\n",
      "Successfully built yfinance multitasking\n",
      "Installing collected packages: multitasking, yfinance\n",
      "Successfully installed multitasking-0.0.9 yfinance-0.1.63\n",
      "Note: you may need to restart the kernel to use updated packages.\n"
     ]
    }
   ],
   "source": [
    "pip install yfinance"
   ]
  },
  {
   "cell_type": "code",
   "execution_count": 159,
   "id": "e355e98e-6790-4c21-a229-a14a9c775f0a",
   "metadata": {
    "execution": {
     "iopub.execute_input": "2021-08-25T13:22:50.821528Z",
     "iopub.status.busy": "2021-08-25T13:22:50.821301Z",
     "iopub.status.idle": "2021-08-25T13:22:50.899781Z",
     "shell.execute_reply": "2021-08-25T13:22:50.898726Z",
     "shell.execute_reply.started": "2021-08-25T13:22:50.821507Z"
    }
   },
   "outputs": [],
   "source": [
    "import yfinance as yf"
   ]
  },
  {
   "cell_type": "code",
   "execution_count": 164,
   "id": "eeff916d-3ee0-45b5-b676-a06a9ca74068",
   "metadata": {
    "execution": {
     "iopub.execute_input": "2021-08-25T13:24:07.905577Z",
     "iopub.status.busy": "2021-08-25T13:24:07.905370Z",
     "iopub.status.idle": "2021-08-25T13:24:08.199333Z",
     "shell.execute_reply": "2021-08-25T13:24:08.198535Z",
     "shell.execute_reply.started": "2021-08-25T13:24:07.905544Z"
    },
    "tags": []
   },
   "outputs": [],
   "source": [
    "sp500 = yf.Ticker('^GSPC')\n",
    "sp500_hist = sp500.history(period='11y')\n"
   ]
  },
  {
   "cell_type": "code",
   "execution_count": 168,
   "id": "bf77d0d2-225b-45b5-8ccd-8cad6ed3357b",
   "metadata": {
    "execution": {
     "iopub.execute_input": "2021-08-25T13:24:25.271972Z",
     "iopub.status.busy": "2021-08-25T13:24:25.271591Z",
     "iopub.status.idle": "2021-08-25T13:24:25.283510Z",
     "shell.execute_reply": "2021-08-25T13:24:25.282742Z",
     "shell.execute_reply.started": "2021-08-25T13:24:25.271934Z"
    },
    "tags": []
   },
   "outputs": [
    {
     "data": {
      "text/html": [
       "<div>\n",
       "<style scoped>\n",
       "    .dataframe tbody tr th:only-of-type {\n",
       "        vertical-align: middle;\n",
       "    }\n",
       "\n",
       "    .dataframe tbody tr th {\n",
       "        vertical-align: top;\n",
       "    }\n",
       "\n",
       "    .dataframe thead th {\n",
       "        text-align: right;\n",
       "    }\n",
       "</style>\n",
       "<table border=\"1\" class=\"dataframe\">\n",
       "  <thead>\n",
       "    <tr style=\"text-align: right;\">\n",
       "      <th></th>\n",
       "      <th>Open</th>\n",
       "      <th>High</th>\n",
       "      <th>Low</th>\n",
       "      <th>Close</th>\n",
       "      <th>Volume</th>\n",
       "      <th>Dividends</th>\n",
       "      <th>Stock Splits</th>\n",
       "    </tr>\n",
       "    <tr>\n",
       "      <th>Date</th>\n",
       "      <th></th>\n",
       "      <th></th>\n",
       "      <th></th>\n",
       "      <th></th>\n",
       "      <th></th>\n",
       "      <th></th>\n",
       "      <th></th>\n",
       "    </tr>\n",
       "  </thead>\n",
       "  <tbody>\n",
       "    <tr>\n",
       "      <th>2010-08-25</th>\n",
       "      <td>1048.979980</td>\n",
       "      <td>1059.380005</td>\n",
       "      <td>1039.829956</td>\n",
       "      <td>1055.329956</td>\n",
       "      <td>4360190000</td>\n",
       "      <td>0</td>\n",
       "      <td>0</td>\n",
       "    </tr>\n",
       "    <tr>\n",
       "      <th>2010-08-26</th>\n",
       "      <td>1056.280029</td>\n",
       "      <td>1061.449951</td>\n",
       "      <td>1045.400024</td>\n",
       "      <td>1047.219971</td>\n",
       "      <td>3646710000</td>\n",
       "      <td>0</td>\n",
       "      <td>0</td>\n",
       "    </tr>\n",
       "    <tr>\n",
       "      <th>2010-08-27</th>\n",
       "      <td>1049.270020</td>\n",
       "      <td>1065.209961</td>\n",
       "      <td>1039.699951</td>\n",
       "      <td>1064.589966</td>\n",
       "      <td>4102460000</td>\n",
       "      <td>0</td>\n",
       "      <td>0</td>\n",
       "    </tr>\n",
       "    <tr>\n",
       "      <th>2010-08-30</th>\n",
       "      <td>1062.900024</td>\n",
       "      <td>1064.400024</td>\n",
       "      <td>1048.790039</td>\n",
       "      <td>1048.920044</td>\n",
       "      <td>2917990000</td>\n",
       "      <td>0</td>\n",
       "      <td>0</td>\n",
       "    </tr>\n",
       "    <tr>\n",
       "      <th>2010-08-31</th>\n",
       "      <td>1046.880005</td>\n",
       "      <td>1055.140015</td>\n",
       "      <td>1040.880005</td>\n",
       "      <td>1049.329956</td>\n",
       "      <td>4038770000</td>\n",
       "      <td>0</td>\n",
       "      <td>0</td>\n",
       "    </tr>\n",
       "    <tr>\n",
       "      <th>...</th>\n",
       "      <td>...</td>\n",
       "      <td>...</td>\n",
       "      <td>...</td>\n",
       "      <td>...</td>\n",
       "      <td>...</td>\n",
       "      <td>...</td>\n",
       "      <td>...</td>\n",
       "    </tr>\n",
       "    <tr>\n",
       "      <th>2021-08-18</th>\n",
       "      <td>4440.939941</td>\n",
       "      <td>4454.319824</td>\n",
       "      <td>4397.589844</td>\n",
       "      <td>4400.270020</td>\n",
       "      <td>2965210000</td>\n",
       "      <td>0</td>\n",
       "      <td>0</td>\n",
       "    </tr>\n",
       "    <tr>\n",
       "      <th>2021-08-19</th>\n",
       "      <td>4382.439941</td>\n",
       "      <td>4418.609863</td>\n",
       "      <td>4367.729980</td>\n",
       "      <td>4405.799805</td>\n",
       "      <td>3120840000</td>\n",
       "      <td>0</td>\n",
       "      <td>0</td>\n",
       "    </tr>\n",
       "    <tr>\n",
       "      <th>2021-08-20</th>\n",
       "      <td>4410.560059</td>\n",
       "      <td>4444.350098</td>\n",
       "      <td>4406.799805</td>\n",
       "      <td>4441.669922</td>\n",
       "      <td>2867770000</td>\n",
       "      <td>0</td>\n",
       "      <td>0</td>\n",
       "    </tr>\n",
       "    <tr>\n",
       "      <th>2021-08-23</th>\n",
       "      <td>4450.290039</td>\n",
       "      <td>4489.879883</td>\n",
       "      <td>4450.290039</td>\n",
       "      <td>4479.529785</td>\n",
       "      <td>2965520000</td>\n",
       "      <td>0</td>\n",
       "      <td>0</td>\n",
       "    </tr>\n",
       "    <tr>\n",
       "      <th>2021-08-24</th>\n",
       "      <td>4484.399902</td>\n",
       "      <td>4492.810059</td>\n",
       "      <td>4482.279785</td>\n",
       "      <td>4486.229980</td>\n",
       "      <td>3037770000</td>\n",
       "      <td>0</td>\n",
       "      <td>0</td>\n",
       "    </tr>\n",
       "  </tbody>\n",
       "</table>\n",
       "<p>2769 rows × 7 columns</p>\n",
       "</div>"
      ],
      "text/plain": [
       "                   Open         High          Low        Close      Volume  \\\n",
       "Date                                                                         \n",
       "2010-08-25  1048.979980  1059.380005  1039.829956  1055.329956  4360190000   \n",
       "2010-08-26  1056.280029  1061.449951  1045.400024  1047.219971  3646710000   \n",
       "2010-08-27  1049.270020  1065.209961  1039.699951  1064.589966  4102460000   \n",
       "2010-08-30  1062.900024  1064.400024  1048.790039  1048.920044  2917990000   \n",
       "2010-08-31  1046.880005  1055.140015  1040.880005  1049.329956  4038770000   \n",
       "...                 ...          ...          ...          ...         ...   \n",
       "2021-08-18  4440.939941  4454.319824  4397.589844  4400.270020  2965210000   \n",
       "2021-08-19  4382.439941  4418.609863  4367.729980  4405.799805  3120840000   \n",
       "2021-08-20  4410.560059  4444.350098  4406.799805  4441.669922  2867770000   \n",
       "2021-08-23  4450.290039  4489.879883  4450.290039  4479.529785  2965520000   \n",
       "2021-08-24  4484.399902  4492.810059  4482.279785  4486.229980  3037770000   \n",
       "\n",
       "            Dividends  Stock Splits  \n",
       "Date                                 \n",
       "2010-08-25          0             0  \n",
       "2010-08-26          0             0  \n",
       "2010-08-27          0             0  \n",
       "2010-08-30          0             0  \n",
       "2010-08-31          0             0  \n",
       "...               ...           ...  \n",
       "2021-08-18          0             0  \n",
       "2021-08-19          0             0  \n",
       "2021-08-20          0             0  \n",
       "2021-08-23          0             0  \n",
       "2021-08-24          0             0  \n",
       "\n",
       "[2769 rows x 7 columns]"
      ]
     },
     "execution_count": 168,
     "metadata": {},
     "output_type": "execute_result"
    }
   ],
   "source": [
    "sp500_hist"
   ]
  },
  {
   "cell_type": "code",
   "execution_count": 169,
   "id": "8acf4b97-740f-458f-8247-5ab7b908d4bc",
   "metadata": {
    "execution": {
     "iopub.execute_input": "2021-08-25T13:24:41.556326Z",
     "iopub.status.busy": "2021-08-25T13:24:41.556108Z",
     "iopub.status.idle": "2021-08-25T13:24:41.560804Z",
     "shell.execute_reply": "2021-08-25T13:24:41.560066Z",
     "shell.execute_reply.started": "2021-08-25T13:24:41.556308Z"
    },
    "tags": []
   },
   "outputs": [
    {
     "data": {
      "text/plain": [
       "Index(['Open', 'High', 'Low', 'Close', 'Volume', 'Dividends', 'Stock Splits'], dtype='object')"
      ]
     },
     "execution_count": 169,
     "metadata": {},
     "output_type": "execute_result"
    }
   ],
   "source": [
    "sp500_hist.columns"
   ]
  },
  {
   "cell_type": "code",
   "execution_count": 171,
   "id": "84e4c07f-4957-42f4-9a9d-4ac361db9b9c",
   "metadata": {
    "execution": {
     "iopub.execute_input": "2021-08-25T13:26:08.490809Z",
     "iopub.status.busy": "2021-08-25T13:26:08.490608Z",
     "iopub.status.idle": "2021-08-25T13:26:08.494910Z",
     "shell.execute_reply": "2021-08-25T13:26:08.494088Z",
     "shell.execute_reply.started": "2021-08-25T13:26:08.490790Z"
    },
    "tags": []
   },
   "outputs": [],
   "source": [
    "# keep only open,close and volume \n",
    "sp500_hist= sp500_hist[['Open','Close','Volume']]"
   ]
  },
  {
   "cell_type": "code",
   "execution_count": 173,
   "id": "e0a5e8ae-118d-41ff-9a4d-c33902f30d89",
   "metadata": {
    "execution": {
     "iopub.execute_input": "2021-08-25T13:33:03.173985Z",
     "iopub.status.busy": "2021-08-25T13:33:03.173778Z",
     "iopub.status.idle": "2021-08-25T13:33:03.178747Z",
     "shell.execute_reply": "2021-08-25T13:33:03.177958Z",
     "shell.execute_reply.started": "2021-08-25T13:33:03.173967Z"
    },
    "tags": []
   },
   "outputs": [],
   "source": [
    "# make a copy of daily to add open and close prices \n",
    "oc_daily = daily.copy()"
   ]
  },
  {
   "cell_type": "code",
   "execution_count": 175,
   "id": "17adfd62-35b1-4825-b465-bbc82976cdd5",
   "metadata": {
    "execution": {
     "iopub.execute_input": "2021-08-25T13:33:41.980095Z",
     "iopub.status.busy": "2021-08-25T13:33:41.979905Z",
     "iopub.status.idle": "2021-08-25T13:33:41.984803Z",
     "shell.execute_reply": "2021-08-25T13:33:41.983919Z",
     "shell.execute_reply.started": "2021-08-25T13:33:41.980078Z"
    },
    "tags": []
   },
   "outputs": [],
   "source": [
    "# drop old price columns before adding open/close\n",
    "oc_daily.drop(columns=['price', 'pct_change', 'price_direction'],inplace=True)"
   ]
  },
  {
   "cell_type": "code",
   "execution_count": 178,
   "id": "6a1510e1-5361-40d3-a58a-d780b7bb1435",
   "metadata": {
    "execution": {
     "iopub.execute_input": "2021-08-25T13:34:54.966610Z",
     "iopub.status.busy": "2021-08-25T13:34:54.966415Z",
     "iopub.status.idle": "2021-08-25T13:34:54.970742Z",
     "shell.execute_reply": "2021-08-25T13:34:54.969941Z",
     "shell.execute_reply.started": "2021-08-25T13:34:54.966592Z"
    },
    "tags": []
   },
   "outputs": [],
   "source": [
    "# set date as index for easier combining with articles \n",
    "oc_daily.set_index('date',inplace=True)"
   ]
  },
  {
   "cell_type": "code",
   "execution_count": 192,
   "id": "188bc92a-a1bb-4eb0-9d2c-893ce41f0e34",
   "metadata": {
    "execution": {
     "iopub.execute_input": "2021-08-25T13:41:44.087375Z",
     "iopub.status.busy": "2021-08-25T13:41:44.087190Z",
     "iopub.status.idle": "2021-08-25T13:41:44.093429Z",
     "shell.execute_reply": "2021-08-25T13:41:44.092575Z",
     "shell.execute_reply.started": "2021-08-25T13:41:44.087358Z"
    },
    "tags": []
   },
   "outputs": [],
   "source": [
    "#combine oc_daily with sp500_hist \n",
    "test= oc_daily.join(sp500_hist)"
   ]
  },
  {
   "cell_type": "code",
   "execution_count": 193,
   "id": "665f67ff-4708-4577-955f-9cc488960e79",
   "metadata": {
    "execution": {
     "iopub.execute_input": "2021-08-25T13:41:44.986044Z",
     "iopub.status.busy": "2021-08-25T13:41:44.985844Z",
     "iopub.status.idle": "2021-08-25T13:41:44.990863Z",
     "shell.execute_reply": "2021-08-25T13:41:44.990171Z",
     "shell.execute_reply.started": "2021-08-25T13:41:44.986026Z"
    },
    "tags": []
   },
   "outputs": [
    {
     "data": {
      "text/plain": [
       "(3653, 6)"
      ]
     },
     "execution_count": 193,
     "metadata": {},
     "output_type": "execute_result"
    }
   ],
   "source": [
    "# check size of result\n",
    "test.shape"
   ]
  },
  {
   "cell_type": "code",
   "execution_count": 194,
   "id": "afcca716-65a4-4fe1-8033-7a4523069f5c",
   "metadata": {
    "execution": {
     "iopub.execute_input": "2021-08-25T13:41:52.712567Z",
     "iopub.status.busy": "2021-08-25T13:41:52.712378Z",
     "iopub.status.idle": "2021-08-25T13:41:52.717360Z",
     "shell.execute_reply": "2021-08-25T13:41:52.716670Z",
     "shell.execute_reply.started": "2021-08-25T13:41:52.712550Z"
    },
    "tags": []
   },
   "outputs": [
    {
     "data": {
      "text/plain": [
       "Index(['text', 'day_of_week', 'is_holiday', 'Open', 'Close', 'Volume'], dtype='object')"
      ]
     },
     "execution_count": 194,
     "metadata": {},
     "output_type": "execute_result"
    }
   ],
   "source": [
    "test.columns"
   ]
  },
  {
   "cell_type": "code",
   "execution_count": 195,
   "id": "7d5de123-79ae-4610-9b04-bb184377ba3d",
   "metadata": {
    "execution": {
     "iopub.execute_input": "2021-08-25T13:42:07.251567Z",
     "iopub.status.busy": "2021-08-25T13:42:07.251382Z",
     "iopub.status.idle": "2021-08-25T13:42:07.259595Z",
     "shell.execute_reply": "2021-08-25T13:42:07.258905Z",
     "shell.execute_reply.started": "2021-08-25T13:42:07.251550Z"
    },
    "tags": []
   },
   "outputs": [
    {
     "data": {
      "text/plain": [
       "text              0\n",
       "day_of_week       0\n",
       "is_holiday        0\n",
       "Open           1123\n",
       "Close          1123\n",
       "Volume         1123\n",
       "dtype: int64"
      ]
     },
     "execution_count": 195,
     "metadata": {},
     "output_type": "execute_result"
    }
   ],
   "source": [
    "test.isnull().sum()"
   ]
  },
  {
   "cell_type": "code",
   "execution_count": 196,
   "id": "92aaa878-686d-4f61-9d41-c4dd561a1528",
   "metadata": {
    "execution": {
     "iopub.execute_input": "2021-08-25T13:42:11.298374Z",
     "iopub.status.busy": "2021-08-25T13:42:11.298183Z",
     "iopub.status.idle": "2021-08-25T13:42:11.311458Z",
     "shell.execute_reply": "2021-08-25T13:42:11.310862Z",
     "shell.execute_reply.started": "2021-08-25T13:42:11.298356Z"
    },
    "tags": []
   },
   "outputs": [
    {
     "data": {
      "text/html": [
       "<div>\n",
       "<style scoped>\n",
       "    .dataframe tbody tr th:only-of-type {\n",
       "        vertical-align: middle;\n",
       "    }\n",
       "\n",
       "    .dataframe tbody tr th {\n",
       "        vertical-align: top;\n",
       "    }\n",
       "\n",
       "    .dataframe thead th {\n",
       "        text-align: right;\n",
       "    }\n",
       "</style>\n",
       "<table border=\"1\" class=\"dataframe\">\n",
       "  <thead>\n",
       "    <tr style=\"text-align: right;\">\n",
       "      <th></th>\n",
       "      <th>day_of_week</th>\n",
       "      <th>is_holiday</th>\n",
       "      <th>Open</th>\n",
       "      <th>Close</th>\n",
       "      <th>Volume</th>\n",
       "    </tr>\n",
       "    <tr>\n",
       "      <th>date</th>\n",
       "      <th></th>\n",
       "      <th></th>\n",
       "      <th></th>\n",
       "      <th></th>\n",
       "      <th></th>\n",
       "    </tr>\n",
       "  </thead>\n",
       "  <tbody>\n",
       "    <tr>\n",
       "      <th>2011-07-30</th>\n",
       "      <td>5</td>\n",
       "      <td>0</td>\n",
       "      <td>NaN</td>\n",
       "      <td>NaN</td>\n",
       "      <td>NaN</td>\n",
       "    </tr>\n",
       "    <tr>\n",
       "      <th>2011-07-31</th>\n",
       "      <td>6</td>\n",
       "      <td>0</td>\n",
       "      <td>NaN</td>\n",
       "      <td>NaN</td>\n",
       "      <td>NaN</td>\n",
       "    </tr>\n",
       "    <tr>\n",
       "      <th>2011-08-06</th>\n",
       "      <td>5</td>\n",
       "      <td>0</td>\n",
       "      <td>NaN</td>\n",
       "      <td>NaN</td>\n",
       "      <td>NaN</td>\n",
       "    </tr>\n",
       "    <tr>\n",
       "      <th>2011-08-07</th>\n",
       "      <td>6</td>\n",
       "      <td>0</td>\n",
       "      <td>NaN</td>\n",
       "      <td>NaN</td>\n",
       "      <td>NaN</td>\n",
       "    </tr>\n",
       "    <tr>\n",
       "      <th>2011-08-13</th>\n",
       "      <td>5</td>\n",
       "      <td>0</td>\n",
       "      <td>NaN</td>\n",
       "      <td>NaN</td>\n",
       "      <td>NaN</td>\n",
       "    </tr>\n",
       "    <tr>\n",
       "      <th>...</th>\n",
       "      <td>...</td>\n",
       "      <td>...</td>\n",
       "      <td>...</td>\n",
       "      <td>...</td>\n",
       "      <td>...</td>\n",
       "    </tr>\n",
       "    <tr>\n",
       "      <th>2021-08-01</th>\n",
       "      <td>6</td>\n",
       "      <td>0</td>\n",
       "      <td>NaN</td>\n",
       "      <td>NaN</td>\n",
       "      <td>NaN</td>\n",
       "    </tr>\n",
       "    <tr>\n",
       "      <th>2021-08-07</th>\n",
       "      <td>5</td>\n",
       "      <td>0</td>\n",
       "      <td>NaN</td>\n",
       "      <td>NaN</td>\n",
       "      <td>NaN</td>\n",
       "    </tr>\n",
       "    <tr>\n",
       "      <th>2021-08-08</th>\n",
       "      <td>6</td>\n",
       "      <td>0</td>\n",
       "      <td>NaN</td>\n",
       "      <td>NaN</td>\n",
       "      <td>NaN</td>\n",
       "    </tr>\n",
       "    <tr>\n",
       "      <th>2021-08-14</th>\n",
       "      <td>5</td>\n",
       "      <td>0</td>\n",
       "      <td>NaN</td>\n",
       "      <td>NaN</td>\n",
       "      <td>NaN</td>\n",
       "    </tr>\n",
       "    <tr>\n",
       "      <th>2021-08-15</th>\n",
       "      <td>6</td>\n",
       "      <td>0</td>\n",
       "      <td>NaN</td>\n",
       "      <td>NaN</td>\n",
       "      <td>NaN</td>\n",
       "    </tr>\n",
       "  </tbody>\n",
       "</table>\n",
       "<p>1123 rows × 5 columns</p>\n",
       "</div>"
      ],
      "text/plain": [
       "            day_of_week  is_holiday  Open  Close  Volume\n",
       "date                                                    \n",
       "2011-07-30            5           0   NaN    NaN     NaN\n",
       "2011-07-31            6           0   NaN    NaN     NaN\n",
       "2011-08-06            5           0   NaN    NaN     NaN\n",
       "2011-08-07            6           0   NaN    NaN     NaN\n",
       "2011-08-13            5           0   NaN    NaN     NaN\n",
       "...                 ...         ...   ...    ...     ...\n",
       "2021-08-01            6           0   NaN    NaN     NaN\n",
       "2021-08-07            5           0   NaN    NaN     NaN\n",
       "2021-08-08            6           0   NaN    NaN     NaN\n",
       "2021-08-14            5           0   NaN    NaN     NaN\n",
       "2021-08-15            6           0   NaN    NaN     NaN\n",
       "\n",
       "[1123 rows x 5 columns]"
      ]
     },
     "execution_count": 196,
     "metadata": {},
     "output_type": "execute_result"
    }
   ],
   "source": [
    "# look at which days have null values \n",
    "test[test['Open'].isnull()][['day_of_week', 'is_holiday', 'Open', 'Close', 'Volume']]"
   ]
  },
  {
   "cell_type": "code",
   "execution_count": 198,
   "id": "fa73c7e3-3951-49e1-aaad-f530753adb94",
   "metadata": {
    "execution": {
     "iopub.execute_input": "2021-08-25T13:43:36.987991Z",
     "iopub.status.busy": "2021-08-25T13:43:36.987786Z",
     "iopub.status.idle": "2021-08-25T13:43:36.997403Z",
     "shell.execute_reply": "2021-08-25T13:43:36.996762Z",
     "shell.execute_reply.started": "2021-08-25T13:43:36.987973Z"
    }
   },
   "outputs": [
    {
     "data": {
      "text/plain": [
       "day_of_week\n",
       "6              522\n",
       "5              508\n",
       "0               49\n",
       "4               17\n",
       "3               14\n",
       "2                7\n",
       "1                6\n",
       "dtype: int64"
      ]
     },
     "execution_count": 198,
     "metadata": {},
     "output_type": "execute_result"
    }
   ],
   "source": [
    "#check days of the week for missing values \n",
    "test[test['Open'].isnull()][[ 'day_of_week']].value_counts()"
   ]
  },
  {
   "cell_type": "code",
   "execution_count": 197,
   "id": "918bfbe5-4b03-47cd-adad-63ef3771ebc8",
   "metadata": {
    "execution": {
     "iopub.execute_input": "2021-08-25T13:43:12.225786Z",
     "iopub.status.busy": "2021-08-25T13:43:12.225597Z",
     "iopub.status.idle": "2021-08-25T13:43:12.236484Z",
     "shell.execute_reply": "2021-08-25T13:43:12.235869Z",
     "shell.execute_reply.started": "2021-08-25T13:43:12.225768Z"
    }
   },
   "outputs": [
    {
     "data": {
      "text/plain": [
       "is_holiday\n",
       "0             1032\n",
       "1               91\n",
       "dtype: int64"
      ]
     },
     "execution_count": 197,
     "metadata": {},
     "output_type": "execute_result"
    }
   ],
   "source": [
    "# check how many holidays are missing \n",
    "test[test['Open'].isnull()][[ 'is_holiday']].value_counts()"
   ]
  },
  {
   "cell_type": "code",
   "execution_count": 203,
   "id": "157dd8d2-8073-4dc9-9d58-29ee334823cd",
   "metadata": {
    "execution": {
     "iopub.execute_input": "2021-08-25T13:46:04.853864Z",
     "iopub.status.busy": "2021-08-25T13:46:04.853674Z",
     "iopub.status.idle": "2021-08-25T13:46:04.864818Z",
     "shell.execute_reply": "2021-08-25T13:46:04.864200Z",
     "shell.execute_reply.started": "2021-08-25T13:46:04.853845Z"
    },
    "tags": []
   },
   "outputs": [
    {
     "data": {
      "text/html": [
       "<div>\n",
       "<style scoped>\n",
       "    .dataframe tbody tr th:only-of-type {\n",
       "        vertical-align: middle;\n",
       "    }\n",
       "\n",
       "    .dataframe tbody tr th {\n",
       "        vertical-align: top;\n",
       "    }\n",
       "\n",
       "    .dataframe thead th {\n",
       "        text-align: right;\n",
       "    }\n",
       "</style>\n",
       "<table border=\"1\" class=\"dataframe\">\n",
       "  <thead>\n",
       "    <tr style=\"text-align: right;\">\n",
       "      <th></th>\n",
       "      <th>day_of_week</th>\n",
       "      <th>is_holiday</th>\n",
       "      <th>Open</th>\n",
       "      <th>Close</th>\n",
       "      <th>Volume</th>\n",
       "    </tr>\n",
       "    <tr>\n",
       "      <th>date</th>\n",
       "      <th></th>\n",
       "      <th></th>\n",
       "      <th></th>\n",
       "      <th></th>\n",
       "      <th></th>\n",
       "    </tr>\n",
       "  </thead>\n",
       "  <tbody>\n",
       "    <tr>\n",
       "      <th>2012-10-29</th>\n",
       "      <td>0</td>\n",
       "      <td>0</td>\n",
       "      <td>NaN</td>\n",
       "      <td>NaN</td>\n",
       "      <td>NaN</td>\n",
       "    </tr>\n",
       "    <tr>\n",
       "      <th>2012-10-30</th>\n",
       "      <td>1</td>\n",
       "      <td>0</td>\n",
       "      <td>NaN</td>\n",
       "      <td>NaN</td>\n",
       "      <td>NaN</td>\n",
       "    </tr>\n",
       "    <tr>\n",
       "      <th>2018-11-22</th>\n",
       "      <td>3</td>\n",
       "      <td>0</td>\n",
       "      <td>NaN</td>\n",
       "      <td>NaN</td>\n",
       "      <td>NaN</td>\n",
       "    </tr>\n",
       "  </tbody>\n",
       "</table>\n",
       "</div>"
      ],
      "text/plain": [
       "            day_of_week  is_holiday  Open  Close  Volume\n",
       "date                                                    \n",
       "2012-10-29            0           0   NaN    NaN     NaN\n",
       "2012-10-30            1           0   NaN    NaN     NaN\n",
       "2018-11-22            3           0   NaN    NaN     NaN"
      ]
     },
     "execution_count": 203,
     "metadata": {},
     "output_type": "execute_result"
    }
   ],
   "source": [
    "# see what is missing and not a weekend or holiday \n",
    "test[(test['Open'].isnull()) & (test['day_of_week']<5)&(test['is_holiday']!=1)][['day_of_week', 'is_holiday', 'Open', 'Close', 'Volume']]"
   ]
  },
  {
   "cell_type": "markdown",
   "id": "89bf7676-2b3a-49f9-b18d-aac5963756ff",
   "metadata": {},
   "source": [
    "source: https://www.onthisday.com/date/2012/october/29\n",
    "Huricane Sandy closed markets \n",
    "source: https://www.wincalendar.com/Calendar/Date/November-22-2018\n",
    "Thanksgiving so should be holiday \n"
   ]
  },
  {
   "cell_type": "code",
   "execution_count": 208,
   "id": "aca46467-ab14-41a4-90f0-ca64e5aa8634",
   "metadata": {
    "execution": {
     "iopub.execute_input": "2021-08-25T13:57:50.083405Z",
     "iopub.status.busy": "2021-08-25T13:57:50.083213Z",
     "iopub.status.idle": "2021-08-25T13:57:50.088444Z",
     "shell.execute_reply": "2021-08-25T13:57:50.087559Z",
     "shell.execute_reply.started": "2021-08-25T13:57:50.083387Z"
    },
    "tags": []
   },
   "outputs": [],
   "source": [
    "# remove date from index for manipulation \n",
    "test.reset_index(drop=False,inplace=True)"
   ]
  },
  {
   "cell_type": "code",
   "execution_count": null,
   "id": "b1ea78e5-217d-4535-a109-ce93a257cdef",
   "metadata": {},
   "outputs": [],
   "source": [
    "for i in test.index:\n",
    "    if test.loc[i,'Open'].isnull(): \n",
    "        "
   ]
  },
  {
   "cell_type": "code",
   "execution_count": null,
   "id": "610bd162-c532-46df-bdec-c2b709a67fae",
   "metadata": {},
   "outputs": [],
   "source": []
  },
  {
   "cell_type": "markdown",
   "id": "f4d671b1-2d9c-4170-84c6-772b4478f093",
   "metadata": {},
   "source": [
    " Entries with missing values are on the weekend so we can impute the closing price from Friday. "
   ]
  },
  {
   "cell_type": "code",
   "execution_count": 188,
   "id": "aed73ed9-9120-473d-8c54-900c6498e7b3",
   "metadata": {
    "execution": {
     "iopub.execute_input": "2021-08-25T13:41:01.932380Z",
     "iopub.status.busy": "2021-08-25T13:41:01.932188Z",
     "iopub.status.idle": "2021-08-25T13:41:01.937473Z",
     "shell.execute_reply": "2021-08-25T13:41:01.936727Z",
     "shell.execute_reply.started": "2021-08-25T13:41:01.932363Z"
    }
   },
   "outputs": [
    {
     "data": {
      "text/plain": [
       "(5, 6)"
      ]
     },
     "execution_count": 188,
     "metadata": {},
     "output_type": "execute_result"
    }
   ],
   "source": [
    "test.shape"
   ]
  },
  {
   "cell_type": "code",
   "execution_count": 187,
   "id": "159f99a3-3784-4d62-b281-d55ff056247e",
   "metadata": {
    "execution": {
     "iopub.execute_input": "2021-08-25T13:40:51.234091Z",
     "iopub.status.busy": "2021-08-25T13:40:51.233868Z",
     "iopub.status.idle": "2021-08-25T13:40:51.243239Z",
     "shell.execute_reply": "2021-08-25T13:40:51.242392Z",
     "shell.execute_reply.started": "2021-08-25T13:40:51.234073Z"
    }
   },
   "outputs": [
    {
     "data": {
      "text/html": [
       "<div>\n",
       "<style scoped>\n",
       "    .dataframe tbody tr th:only-of-type {\n",
       "        vertical-align: middle;\n",
       "    }\n",
       "\n",
       "    .dataframe tbody tr th {\n",
       "        vertical-align: top;\n",
       "    }\n",
       "\n",
       "    .dataframe thead th {\n",
       "        text-align: right;\n",
       "    }\n",
       "</style>\n",
       "<table border=\"1\" class=\"dataframe\">\n",
       "  <thead>\n",
       "    <tr style=\"text-align: right;\">\n",
       "      <th></th>\n",
       "      <th>day_of_week</th>\n",
       "      <th>is_holiday</th>\n",
       "      <th>Open</th>\n",
       "      <th>Close</th>\n",
       "      <th>Volume</th>\n",
       "    </tr>\n",
       "    <tr>\n",
       "      <th>date</th>\n",
       "      <th></th>\n",
       "      <th></th>\n",
       "      <th></th>\n",
       "      <th></th>\n",
       "      <th></th>\n",
       "    </tr>\n",
       "  </thead>\n",
       "  <tbody>\n",
       "    <tr>\n",
       "      <th>2011-07-29</th>\n",
       "      <td>4</td>\n",
       "      <td>0</td>\n",
       "      <td>1300.119995</td>\n",
       "      <td>1292.280029</td>\n",
       "      <td>5.061190e+09</td>\n",
       "    </tr>\n",
       "    <tr>\n",
       "      <th>2011-07-30</th>\n",
       "      <td>5</td>\n",
       "      <td>0</td>\n",
       "      <td>NaN</td>\n",
       "      <td>NaN</td>\n",
       "      <td>NaN</td>\n",
       "    </tr>\n",
       "    <tr>\n",
       "      <th>2011-07-31</th>\n",
       "      <td>6</td>\n",
       "      <td>0</td>\n",
       "      <td>NaN</td>\n",
       "      <td>NaN</td>\n",
       "      <td>NaN</td>\n",
       "    </tr>\n",
       "    <tr>\n",
       "      <th>2011-08-01</th>\n",
       "      <td>0</td>\n",
       "      <td>0</td>\n",
       "      <td>1292.589966</td>\n",
       "      <td>1286.939941</td>\n",
       "      <td>4.967390e+09</td>\n",
       "    </tr>\n",
       "    <tr>\n",
       "      <th>2011-08-02</th>\n",
       "      <td>1</td>\n",
       "      <td>0</td>\n",
       "      <td>1286.560059</td>\n",
       "      <td>1254.050049</td>\n",
       "      <td>5.206290e+09</td>\n",
       "    </tr>\n",
       "  </tbody>\n",
       "</table>\n",
       "</div>"
      ],
      "text/plain": [
       "            day_of_week  is_holiday         Open        Close        Volume\n",
       "date                                                                       \n",
       "2011-07-29            4           0  1300.119995  1292.280029  5.061190e+09\n",
       "2011-07-30            5           0          NaN          NaN           NaN\n",
       "2011-07-31            6           0          NaN          NaN           NaN\n",
       "2011-08-01            0           0  1292.589966  1286.939941  4.967390e+09\n",
       "2011-08-02            1           0  1286.560059  1254.050049  5.206290e+09"
      ]
     },
     "execution_count": 187,
     "metadata": {},
     "output_type": "execute_result"
    }
   ],
   "source": [
    "test[['day_of_week', 'is_holiday', 'Open', 'Close', 'Volume']]"
   ]
  },
  {
   "cell_type": "code",
   "execution_count": 211,
   "id": "fa9d9758-057e-4d9c-88f4-c20ab15e5795",
   "metadata": {
    "execution": {
     "iopub.execute_input": "2021-08-25T14:05:32.882761Z",
     "iopub.status.busy": "2021-08-25T14:05:32.882530Z",
     "iopub.status.idle": "2021-08-25T14:05:32.899827Z",
     "shell.execute_reply": "2021-08-25T14:05:32.899152Z",
     "shell.execute_reply.started": "2021-08-25T14:05:32.882743Z"
    },
    "tags": []
   },
   "outputs": [],
   "source": [
    "# add replace for all nulls \n",
    "test.fillna('replace',inplace=True) "
   ]
  },
  {
   "cell_type": "code",
   "execution_count": 215,
   "id": "11774ef8-0d67-44bb-9b6e-df32c2f52f03",
   "metadata": {
    "execution": {
     "iopub.execute_input": "2021-08-25T14:09:35.425874Z",
     "iopub.status.busy": "2021-08-25T14:09:35.425685Z",
     "iopub.status.idle": "2021-08-25T14:09:35.430795Z",
     "shell.execute_reply": "2021-08-25T14:09:35.430185Z",
     "shell.execute_reply.started": "2021-08-25T14:09:35.425856Z"
    }
   },
   "outputs": [
    {
     "data": {
      "text/plain": [
       "Index(['date', 'text', 'day_of_week', 'is_holiday', 'Open', 'Close', 'Volume'], dtype='object')"
      ]
     },
     "execution_count": 215,
     "metadata": {},
     "output_type": "execute_result"
    }
   ],
   "source": [
    "test.columns"
   ]
  },
  {
   "cell_type": "code",
   "execution_count": 216,
   "id": "5eb8c01f-caa9-45e4-817e-618181a758d7",
   "metadata": {
    "execution": {
     "iopub.execute_input": "2021-08-25T14:10:03.408919Z",
     "iopub.status.busy": "2021-08-25T14:10:03.408726Z",
     "iopub.status.idle": "2021-08-25T14:10:04.091117Z",
     "shell.execute_reply": "2021-08-25T14:10:04.090304Z",
     "shell.execute_reply.started": "2021-08-25T14:10:03.408901Z"
    },
    "tags": []
   },
   "outputs": [],
   "source": [
    "# add prices and volumes for nulls \n",
    "for i in range(1,len(test)): # \n",
    "    if test.loc[i,'Open']=='replace': # if nulls \n",
    "        test.loc[i,'Open'] = test.loc[i-1,'Close'] # make open to yesterdays close since no change \n",
    "        test.loc[i,'Close'] = test.loc[i-1,'Close'] # make close to yesterdays close since no change\n",
    "        test.loc[i,'Volume'] = 0 # make volume 0 since no trading occured \n",
    "    \n",
    "    "
   ]
  },
  {
   "cell_type": "code",
   "execution_count": 217,
   "id": "252fefe2-e052-4bc4-b0e4-4c39d0a12cdc",
   "metadata": {
    "execution": {
     "iopub.execute_input": "2021-08-25T14:10:31.782646Z",
     "iopub.status.busy": "2021-08-25T14:10:31.782434Z",
     "iopub.status.idle": "2021-08-25T14:10:31.788224Z",
     "shell.execute_reply": "2021-08-25T14:10:31.787594Z",
     "shell.execute_reply.started": "2021-08-25T14:10:31.782628Z"
    }
   },
   "outputs": [
    {
     "data": {
      "text/plain": [
       "False"
      ]
     },
     "execution_count": 217,
     "metadata": {},
     "output_type": "execute_result"
    }
   ],
   "source": [
    "# check results \n",
    "'result' in set(test['Open'])"
   ]
  },
  {
   "cell_type": "code",
   "execution_count": 218,
   "id": "bae59d5f-568a-4cf5-962c-a6e831ca2e6d",
   "metadata": {
    "execution": {
     "iopub.execute_input": "2021-08-25T14:10:45.933225Z",
     "iopub.status.busy": "2021-08-25T14:10:45.933036Z",
     "iopub.status.idle": "2021-08-25T14:10:45.942210Z",
     "shell.execute_reply": "2021-08-25T14:10:45.941570Z",
     "shell.execute_reply.started": "2021-08-25T14:10:45.933207Z"
    }
   },
   "outputs": [
    {
     "data": {
      "text/plain": [
       "date           0\n",
       "text           0\n",
       "day_of_week    0\n",
       "is_holiday     0\n",
       "Open           0\n",
       "Close          0\n",
       "Volume         0\n",
       "dtype: int64"
      ]
     },
     "execution_count": 218,
     "metadata": {},
     "output_type": "execute_result"
    }
   ],
   "source": [
    "# confirm no more nulls \n",
    "test.isnull().sum()"
   ]
  },
  {
   "cell_type": "code",
   "execution_count": 220,
   "id": "c7264d7d-cd9b-468a-8136-7dd5c26972df",
   "metadata": {
    "execution": {
     "iopub.execute_input": "2021-08-25T14:11:55.095346Z",
     "iopub.status.busy": "2021-08-25T14:11:55.095138Z",
     "iopub.status.idle": "2021-08-25T14:11:55.100356Z",
     "shell.execute_reply": "2021-08-25T14:11:55.099576Z",
     "shell.execute_reply.started": "2021-08-25T14:11:55.095328Z"
    }
   },
   "outputs": [
    {
     "data": {
      "text/plain": [
       "(3653, 7)"
      ]
     },
     "execution_count": 220,
     "metadata": {},
     "output_type": "execute_result"
    }
   ],
   "source": [
    "test.shape"
   ]
  },
  {
   "cell_type": "code",
   "execution_count": 221,
   "id": "d7e17cf9-ca93-46b5-b7eb-bc36f9c2de0e",
   "metadata": {
    "execution": {
     "iopub.execute_input": "2021-08-25T14:12:03.651918Z",
     "iopub.status.busy": "2021-08-25T14:12:03.651725Z",
     "iopub.status.idle": "2021-08-25T14:12:03.656365Z",
     "shell.execute_reply": "2021-08-25T14:12:03.655565Z",
     "shell.execute_reply.started": "2021-08-25T14:12:03.651900Z"
    },
    "tags": []
   },
   "outputs": [],
   "source": [
    "# set Date as index again \n",
    "test.set_index('date',inplace=True)"
   ]
  },
  {
   "cell_type": "code",
   "execution_count": 223,
   "id": "4f3a50a8-57e3-4332-870b-a53cf000ad45",
   "metadata": {
    "execution": {
     "iopub.execute_input": "2021-08-25T14:14:28.398442Z",
     "iopub.status.busy": "2021-08-25T14:14:28.398235Z",
     "iopub.status.idle": "2021-08-25T14:14:28.939400Z",
     "shell.execute_reply": "2021-08-25T14:14:28.938501Z",
     "shell.execute_reply.started": "2021-08-25T14:14:28.398409Z"
    },
    "tags": []
   },
   "outputs": [],
   "source": [
    "# save results as csv \n",
    "test.to_csv('./Data/oc_daily.csv')"
   ]
  },
  {
   "cell_type": "code",
   "execution_count": null,
   "id": "9aad9d67-e699-4cb7-b818-b9cd964f1847",
   "metadata": {},
   "outputs": [],
   "source": []
  },
  {
   "cell_type": "code",
   "execution_count": null,
   "id": "87f6ac0a-3e50-4acc-b061-453a89449cc7",
   "metadata": {},
   "outputs": [],
   "source": []
  },
  {
   "cell_type": "code",
   "execution_count": null,
   "id": "f518c70a-9c50-44d4-b45b-a667d21ac964",
   "metadata": {},
   "outputs": [],
   "source": []
  },
  {
   "cell_type": "markdown",
   "id": "d13d76ff-f134-4e6d-abd9-c56e4005fe9c",
   "metadata": {},
   "source": [
    "# Columns to add \n",
    "\n",
    "- trends in price? seasonality? \n",
    "- lagged price? how many days? \n",
    "- lagged text or sentiment analysis? \n",
    "- rolling mean of price? \n",
    "- check autocorrelation and partial autocorrelation plots! Box-Pierce test?Ljung-Box test? \n",
    "\n",
    "- check for white noise? \n",
    "- box-cox transformation\n",
    "- \n",
    "# models \n",
    "\n",
    "- baseline model with only non-text/nlp features for comparison with \n",
    "    -average method \n",
    "    - naive method \n",
    "    - drift method \n",
    "    - https://otexts.com/fpp2/simple-methods.html\n",
    "- check accuracy/residuals for comparing different models?  https://otexts.com/fpp2/residuals.html\n",
    "    -Mean absolute percentage error \n",
    "- prediction intervals https://otexts.com/fpp2/prediction-intervals.html\n",
    "- \n",
    "    "
   ]
  }
 ],
 "metadata": {
  "kernelspec": {
   "display_name": "Python 3",
   "language": "python",
   "name": "python3"
  },
  "language_info": {
   "codemirror_mode": {
    "name": "ipython",
    "version": 3
   },
   "file_extension": ".py",
   "mimetype": "text/x-python",
   "name": "python",
   "nbconvert_exporter": "python",
   "pygments_lexer": "ipython3",
   "version": "3.8.8"
  }
 },
 "nbformat": 4,
 "nbformat_minor": 5
}
