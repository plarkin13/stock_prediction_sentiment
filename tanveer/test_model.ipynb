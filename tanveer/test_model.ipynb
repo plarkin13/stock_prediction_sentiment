{
 "cells": [
  {
   "cell_type": "markdown",
   "id": "deb6a9f6-f02a-4a0c-a993-5de49209eb58",
   "metadata": {},
   "source": [
    "# Trial run with NN and no sentiment analysis "
   ]
  },
  {
   "cell_type": "markdown",
   "id": "3109e8fc-05b2-4a24-a7be-263399ce2ab2",
   "metadata": {},
   "source": [
    "Referenced: # https://colab.research.google.com/drive/1tUr5t0ZJ-I4Ni40dkbjku92HAU5SyR_2?usp=sharing#scrollTo=VJAhUNVOG7Xl\n"
   ]
  },
  {
   "cell_type": "code",
   "execution_count": null,
   "id": "379c0e3a-c3cd-4a23-8859-2bd360dfaf3d",
   "metadata": {},
   "outputs": [],
   "source": []
  },
  {
   "cell_type": "code",
   "execution_count": 3,
   "id": "d70c4dfa-55ba-4627-8345-99b5d38ab45d",
   "metadata": {
    "execution": {
     "iopub.execute_input": "2021-08-23T06:11:15.631469Z",
     "iopub.status.busy": "2021-08-23T06:11:15.631289Z",
     "iopub.status.idle": "2021-08-23T06:11:16.053595Z",
     "shell.execute_reply": "2021-08-23T06:11:16.052766Z",
     "shell.execute_reply.started": "2021-08-23T06:11:15.631450Z"
    },
    "tags": []
   },
   "outputs": [],
   "source": [
    "import tensorflow as tf\n",
    "from tensorflow.keras import Sequential\n",
    "from tensorflow.keras.layers import Dense,Input\n",
    "from sklearn.utils import shuffle\n",
    "import tensorflow_hub as hub\n",
    "import matplotlib.pyplot as plt\n",
    "from sklearn.model_selection import train_test_split\n",
    "import numpy as np\n",
    "import os\n",
    "import pandas as pd"
   ]
  },
  {
   "cell_type": "code",
   "execution_count": 6,
   "id": "2cb43d5e-376d-4d2d-a9d7-ce9ca64f96af",
   "metadata": {
    "execution": {
     "iopub.execute_input": "2021-08-23T06:12:09.448721Z",
     "iopub.status.busy": "2021-08-23T06:12:09.448538Z",
     "iopub.status.idle": "2021-08-23T06:12:09.535054Z",
     "shell.execute_reply": "2021-08-23T06:12:09.534451Z",
     "shell.execute_reply.started": "2021-08-23T06:12:09.448704Z"
    },
    "tags": []
   },
   "outputs": [],
   "source": [
    "df = pd.read_csv('daily.csv')"
   ]
  },
  {
   "cell_type": "code",
   "execution_count": 21,
   "id": "781e1bb1-7da8-4397-b986-2343118324b8",
   "metadata": {
    "execution": {
     "iopub.execute_input": "2021-08-23T06:25:20.093283Z",
     "iopub.status.busy": "2021-08-23T06:25:20.093099Z",
     "iopub.status.idle": "2021-08-23T06:25:20.098596Z",
     "shell.execute_reply": "2021-08-23T06:25:20.097879Z",
     "shell.execute_reply.started": "2021-08-23T06:25:20.093266Z"
    },
    "tags": []
   },
   "outputs": [],
   "source": [
    "df,df_test = train_test_split(df,test_size=0.2,shuffle=False,random_state=42)"
   ]
  },
  {
   "cell_type": "code",
   "execution_count": 22,
   "id": "0936ef0e-0ce0-43a3-999e-d143326fd246",
   "metadata": {
    "execution": {
     "iopub.execute_input": "2021-08-23T06:25:22.622695Z",
     "iopub.status.busy": "2021-08-23T06:25:22.622509Z",
     "iopub.status.idle": "2021-08-23T06:25:22.631587Z",
     "shell.execute_reply": "2021-08-23T06:25:22.630860Z",
     "shell.execute_reply.started": "2021-08-23T06:25:22.622679Z"
    },
    "tags": []
   },
   "outputs": [
    {
     "data": {
      "text/html": [
       "<div>\n",
       "<style scoped>\n",
       "    .dataframe tbody tr th:only-of-type {\n",
       "        vertical-align: middle;\n",
       "    }\n",
       "\n",
       "    .dataframe tbody tr th {\n",
       "        vertical-align: top;\n",
       "    }\n",
       "\n",
       "    .dataframe thead th {\n",
       "        text-align: right;\n",
       "    }\n",
       "</style>\n",
       "<table border=\"1\" class=\"dataframe\">\n",
       "  <thead>\n",
       "    <tr style=\"text-align: right;\">\n",
       "      <th></th>\n",
       "      <th>date</th>\n",
       "      <th>text</th>\n",
       "      <th>price</th>\n",
       "      <th>change_percent</th>\n",
       "      <th>change_type</th>\n",
       "    </tr>\n",
       "  </thead>\n",
       "  <tbody>\n",
       "    <tr>\n",
       "      <th>0</th>\n",
       "      <td>2016-09-07</td>\n",
       "      <td>Ruling Tips Uber Drivers Away From Class-Actio...</td>\n",
       "      <td>2186.16</td>\n",
       "      <td>-0.014635</td>\n",
       "      <td>down</td>\n",
       "    </tr>\n",
       "    <tr>\n",
       "      <th>1</th>\n",
       "      <td>2016-09-08</td>\n",
       "      <td>Clinton-Trump Presidential Forum Draws 15 Mill...</td>\n",
       "      <td>2181.30</td>\n",
       "      <td>-0.222308</td>\n",
       "      <td>down</td>\n",
       "    </tr>\n",
       "    <tr>\n",
       "      <th>2</th>\n",
       "      <td>2016-09-09</td>\n",
       "      <td>Galaxy Note 7 Owners Are Urged to Stop Using T...</td>\n",
       "      <td>2127.81</td>\n",
       "      <td>-2.452207</td>\n",
       "      <td>down</td>\n",
       "    </tr>\n",
       "    <tr>\n",
       "      <th>3</th>\n",
       "      <td>2016-09-10</td>\n",
       "      <td>No Driver? Bring It On. How Pittsburgh Became ...</td>\n",
       "      <td>2127.81</td>\n",
       "      <td>0.000000</td>\n",
       "      <td>same</td>\n",
       "    </tr>\n",
       "    <tr>\n",
       "      <th>4</th>\n",
       "      <td>2016-09-11</td>\n",
       "      <td>After 11 Years, Case of A.I.G.’s Ex-Chief Is G...</td>\n",
       "      <td>2127.81</td>\n",
       "      <td>0.000000</td>\n",
       "      <td>same</td>\n",
       "    </tr>\n",
       "  </tbody>\n",
       "</table>\n",
       "</div>"
      ],
      "text/plain": [
       "         date                                               text    price  \\\n",
       "0  2016-09-07  Ruling Tips Uber Drivers Away From Class-Actio...  2186.16   \n",
       "1  2016-09-08  Clinton-Trump Presidential Forum Draws 15 Mill...  2181.30   \n",
       "2  2016-09-09  Galaxy Note 7 Owners Are Urged to Stop Using T...  2127.81   \n",
       "3  2016-09-10  No Driver? Bring It On. How Pittsburgh Became ...  2127.81   \n",
       "4  2016-09-11  After 11 Years, Case of A.I.G.’s Ex-Chief Is G...  2127.81   \n",
       "\n",
       "   change_percent change_type  \n",
       "0       -0.014635        down  \n",
       "1       -0.222308        down  \n",
       "2       -2.452207        down  \n",
       "3        0.000000        same  \n",
       "4        0.000000        same  "
      ]
     },
     "execution_count": 22,
     "metadata": {},
     "output_type": "execute_result"
    }
   ],
   "source": [
    "df.head()"
   ]
  },
  {
   "cell_type": "code",
   "execution_count": 23,
   "id": "631b323d-fdd6-4b67-a2d9-af6d77e15133",
   "metadata": {
    "execution": {
     "iopub.execute_input": "2021-08-23T06:25:29.634803Z",
     "iopub.status.busy": "2021-08-23T06:25:29.634613Z",
     "iopub.status.idle": "2021-08-23T06:25:32.854184Z",
     "shell.execute_reply": "2021-08-23T06:25:32.853439Z",
     "shell.execute_reply.started": "2021-08-23T06:25:29.634786Z"
    },
    "tags": []
   },
   "outputs": [],
   "source": [
    "embed = hub.load(\"https://tfhub.dev/google/universal-sentence-encoder/4\")\n"
   ]
  },
  {
   "cell_type": "code",
   "execution_count": 24,
   "id": "4d143b98-b68c-4ec8-b1ef-f92fb878cdec",
   "metadata": {
    "execution": {
     "iopub.execute_input": "2021-08-23T06:25:32.855826Z",
     "iopub.status.busy": "2021-08-23T06:25:32.855693Z",
     "iopub.status.idle": "2021-08-23T06:25:37.274872Z",
     "shell.execute_reply": "2021-08-23T06:25:37.274136Z",
     "shell.execute_reply.started": "2021-08-23T06:25:32.855811Z"
    },
    "scrolled": true,
    "tags": []
   },
   "outputs": [],
   "source": [
    "def vectorize(df):\n",
    "    embeded_tweets = embed(df['text'].values.tolist()).numpy()\n",
    "    targets = df.change_percent.values\n",
    "    return embeded_tweets,targets\n",
    "\n",
    "embeded_tweets,targets = vectorize(df)"
   ]
  },
  {
   "cell_type": "code",
   "execution_count": 25,
   "id": "7989f111-2583-49d7-9f91-522befd439c1",
   "metadata": {
    "execution": {
     "iopub.execute_input": "2021-08-23T06:25:37.276550Z",
     "iopub.status.busy": "2021-08-23T06:25:37.276103Z",
     "iopub.status.idle": "2021-08-23T06:25:37.280636Z",
     "shell.execute_reply": "2021-08-23T06:25:37.280084Z",
     "shell.execute_reply.started": "2021-08-23T06:25:37.276532Z"
    },
    "tags": []
   },
   "outputs": [
    {
     "data": {
      "text/plain": [
       "(1431, 512)"
      ]
     },
     "execution_count": 25,
     "metadata": {},
     "output_type": "execute_result"
    }
   ],
   "source": [
    "embeded_tweets.shape"
   ]
  },
  {
   "cell_type": "code",
   "execution_count": 26,
   "id": "4bd76fb9-30eb-414f-ac88-7d8fd5f4bc2b",
   "metadata": {
    "execution": {
     "iopub.execute_input": "2021-08-23T06:25:37.281513Z",
     "iopub.status.busy": "2021-08-23T06:25:37.281387Z",
     "iopub.status.idle": "2021-08-23T06:25:37.305227Z",
     "shell.execute_reply": "2021-08-23T06:25:37.304603Z",
     "shell.execute_reply.started": "2021-08-23T06:25:37.281497Z"
    },
    "tags": []
   },
   "outputs": [
    {
     "name": "stdout",
     "output_type": "stream",
     "text": [
      "WARNING:tensorflow:Please add `keras.layers.InputLayer` instead of `keras.Input` to Sequential model. `keras.Input` is intended to be used by Functional model.\n"
     ]
    },
    {
     "name": "stderr",
     "output_type": "stream",
     "text": [
      "WARNING:tensorflow:Please add `keras.layers.InputLayer` instead of `keras.Input` to Sequential model. `keras.Input` is intended to be used by Functional model.\n"
     ]
    }
   ],
   "source": [
    "model = Sequential()\n",
    "model.add(Input(shape=(512,),dtype='float32'))\n",
    "model.add(Dense(128, activation = 'relu'))\n",
    "model.add(Dense(64, activation = 'relu'))\n",
    "model.add(Dense(1, activation = 'linear'))\n",
    "\n",
    "model.compile(loss='mse', \n",
    "              optimizer='adam',\n",
    "              metrics=['acc'])"
   ]
  },
  {
   "cell_type": "code",
   "execution_count": 27,
   "id": "b53129d4-ad17-41ed-b2f0-108ecee51b92",
   "metadata": {
    "execution": {
     "iopub.execute_input": "2021-08-23T06:25:37.306124Z",
     "iopub.status.busy": "2021-08-23T06:25:37.305987Z",
     "iopub.status.idle": "2021-08-23T06:25:37.312136Z",
     "shell.execute_reply": "2021-08-23T06:25:37.311584Z",
     "shell.execute_reply.started": "2021-08-23T06:25:37.306109Z"
    },
    "tags": []
   },
   "outputs": [
    {
     "name": "stdout",
     "output_type": "stream",
     "text": [
      "Model: \"sequential_1\"\n",
      "_________________________________________________________________\n",
      "Layer (type)                 Output Shape              Param #   \n",
      "=================================================================\n",
      "dense_3 (Dense)              (None, 128)               65664     \n",
      "_________________________________________________________________\n",
      "dense_4 (Dense)              (None, 64)                8256      \n",
      "_________________________________________________________________\n",
      "dense_5 (Dense)              (None, 1)                 65        \n",
      "=================================================================\n",
      "Total params: 73,985\n",
      "Trainable params: 73,985\n",
      "Non-trainable params: 0\n",
      "_________________________________________________________________\n"
     ]
    }
   ],
   "source": [
    "model.summary()"
   ]
  },
  {
   "cell_type": "code",
   "execution_count": 28,
   "id": "4ae1beae-5dce-4821-a9ff-fd881d5086d3",
   "metadata": {
    "execution": {
     "iopub.execute_input": "2021-08-23T06:25:37.313145Z",
     "iopub.status.busy": "2021-08-23T06:25:37.312974Z",
     "iopub.status.idle": "2021-08-23T06:25:37.317170Z",
     "shell.execute_reply": "2021-08-23T06:25:37.316594Z",
     "shell.execute_reply.started": "2021-08-23T06:25:37.313128Z"
    },
    "tags": []
   },
   "outputs": [
    {
     "data": {
      "text/plain": [
       "256"
      ]
     },
     "execution_count": 28,
     "metadata": {},
     "output_type": "execute_result"
    }
   ],
   "source": [
    "2**8"
   ]
  },
  {
   "cell_type": "code",
   "execution_count": 29,
   "id": "7f179ec5-2fe0-499d-a3ea-7ca6d8b69a0e",
   "metadata": {
    "execution": {
     "iopub.execute_input": "2021-08-23T06:25:37.861076Z",
     "iopub.status.busy": "2021-08-23T06:25:37.860851Z",
     "iopub.status.idle": "2021-08-23T06:25:43.205451Z",
     "shell.execute_reply": "2021-08-23T06:25:43.204728Z",
     "shell.execute_reply.started": "2021-08-23T06:25:37.861056Z"
    },
    "scrolled": true,
    "tags": []
   },
   "outputs": [
    {
     "name": "stdout",
     "output_type": "stream",
     "text": [
      "Epoch 1/100\n",
      "6/6 [==============================] - 0s 18ms/step - loss: 1.0059 - acc: 0.3061 - val_loss: 2.0853 - val_acc: 0.3056\n",
      "Epoch 2/100\n",
      "6/6 [==============================] - 0s 5ms/step - loss: 1.0003 - acc: 0.3061 - val_loss: 2.0752 - val_acc: 0.3056\n",
      "Epoch 3/100\n",
      "6/6 [==============================] - 0s 5ms/step - loss: 1.0007 - acc: 0.3061 - val_loss: 2.0629 - val_acc: 0.3056\n",
      "Epoch 4/100\n",
      "6/6 [==============================] - 0s 4ms/step - loss: 1.0048 - acc: 0.3061 - val_loss: 2.0551 - val_acc: 0.3056\n",
      "Epoch 5/100\n",
      "6/6 [==============================] - 0s 5ms/step - loss: 1.0031 - acc: 0.3061 - val_loss: 2.0556 - val_acc: 0.3056\n",
      "Epoch 6/100\n",
      "6/6 [==============================] - 0s 5ms/step - loss: 0.9998 - acc: 0.3061 - val_loss: 2.0616 - val_acc: 0.3056\n",
      "Epoch 7/100\n",
      "6/6 [==============================] - 0s 5ms/step - loss: 0.9976 - acc: 0.3061 - val_loss: 2.0686 - val_acc: 0.3056\n",
      "Epoch 8/100\n",
      "6/6 [==============================] - 0s 5ms/step - loss: 0.9972 - acc: 0.3054 - val_loss: 2.0824 - val_acc: 0.2847\n",
      "Epoch 9/100\n",
      "6/6 [==============================] - 0s 6ms/step - loss: 0.9973 - acc: 0.3038 - val_loss: 2.0993 - val_acc: 0.2639\n",
      "Epoch 10/100\n",
      "6/6 [==============================] - 0s 6ms/step - loss: 0.9997 - acc: 0.2984 - val_loss: 2.1244 - val_acc: 0.2361\n",
      "Epoch 11/100\n",
      "6/6 [==============================] - 0s 5ms/step - loss: 1.0100 - acc: 0.2906 - val_loss: 2.1636 - val_acc: 0.1875\n",
      "Epoch 12/100\n",
      "6/6 [==============================] - 0s 5ms/step - loss: 1.0169 - acc: 0.2813 - val_loss: 2.2012 - val_acc: 0.1875\n",
      "Epoch 13/100\n",
      "6/6 [==============================] - 0s 5ms/step - loss: 1.0300 - acc: 0.2735 - val_loss: 2.2458 - val_acc: 0.1806\n",
      "Epoch 14/100\n",
      "6/6 [==============================] - 0s 5ms/step - loss: 1.0482 - acc: 0.2681 - val_loss: 2.3026 - val_acc: 0.1667\n",
      "Epoch 15/100\n",
      "6/6 [==============================] - 0s 6ms/step - loss: 1.0669 - acc: 0.2494 - val_loss: 2.3573 - val_acc: 0.1597\n",
      "Epoch 16/100\n",
      "6/6 [==============================] - 0s 5ms/step - loss: 1.0911 - acc: 0.2517 - val_loss: 2.4227 - val_acc: 0.1528\n",
      "Epoch 17/100\n",
      "6/6 [==============================] - 0s 5ms/step - loss: 1.1128 - acc: 0.2331 - val_loss: 2.4605 - val_acc: 0.1597\n",
      "Epoch 18/100\n",
      "6/6 [==============================] - 0s 6ms/step - loss: 1.1214 - acc: 0.2323 - val_loss: 2.5192 - val_acc: 0.1597\n",
      "Epoch 19/100\n",
      "6/6 [==============================] - 0s 5ms/step - loss: 1.1376 - acc: 0.2238 - val_loss: 2.5667 - val_acc: 0.1667\n",
      "Epoch 20/100\n",
      "6/6 [==============================] - 0s 6ms/step - loss: 1.1677 - acc: 0.2269 - val_loss: 2.6112 - val_acc: 0.1736\n",
      "Epoch 21/100\n",
      "6/6 [==============================] - 0s 6ms/step - loss: 1.1496 - acc: 0.2331 - val_loss: 2.6735 - val_acc: 0.1667\n",
      "Epoch 22/100\n",
      "6/6 [==============================] - 0s 6ms/step - loss: 1.1328 - acc: 0.2246 - val_loss: 2.7429 - val_acc: 0.1806\n",
      "Epoch 23/100\n",
      "6/6 [==============================] - 0s 6ms/step - loss: 1.1711 - acc: 0.2230 - val_loss: 2.8030 - val_acc: 0.1875\n",
      "Epoch 24/100\n",
      "6/6 [==============================] - 0s 6ms/step - loss: 1.1788 - acc: 0.2463 - val_loss: 2.7708 - val_acc: 0.1736\n",
      "Epoch 25/100\n",
      "6/6 [==============================] - 0s 6ms/step - loss: 1.0883 - acc: 0.2525 - val_loss: 2.8284 - val_acc: 0.1667\n",
      "Epoch 26/100\n",
      "6/6 [==============================] - 0s 5ms/step - loss: 1.1266 - acc: 0.2160 - val_loss: 2.9359 - val_acc: 0.1806\n",
      "Epoch 27/100\n",
      "6/6 [==============================] - 0s 5ms/step - loss: 1.1768 - acc: 0.2284 - val_loss: 2.9677 - val_acc: 0.1806\n",
      "Epoch 28/100\n",
      "6/6 [==============================] - 0s 6ms/step - loss: 1.1467 - acc: 0.2688 - val_loss: 2.9073 - val_acc: 0.1597\n",
      "Epoch 29/100\n",
      "6/6 [==============================] - 0s 6ms/step - loss: 1.1059 - acc: 0.2261 - val_loss: 2.8190 - val_acc: 0.2014\n",
      "Epoch 30/100\n",
      "6/6 [==============================] - 0s 6ms/step - loss: 1.0972 - acc: 0.2067 - val_loss: 3.0483 - val_acc: 0.1944\n",
      "Epoch 31/100\n",
      "6/6 [==============================] - 0s 6ms/step - loss: 1.1556 - acc: 0.2657 - val_loss: 3.1173 - val_acc: 0.1458\n",
      "Epoch 32/100\n",
      "6/6 [==============================] - 0s 5ms/step - loss: 1.0138 - acc: 0.2626 - val_loss: 2.8167 - val_acc: 0.1944\n",
      "Epoch 33/100\n",
      "6/6 [==============================] - 0s 6ms/step - loss: 0.9955 - acc: 0.2269 - val_loss: 2.9081 - val_acc: 0.2083\n",
      "Epoch 34/100\n",
      "6/6 [==============================] - 0s 5ms/step - loss: 0.9617 - acc: 0.2665 - val_loss: 2.9291 - val_acc: 0.1806\n",
      "Epoch 35/100\n",
      "6/6 [==============================] - 0s 5ms/step - loss: 0.9236 - acc: 0.2727 - val_loss: 2.8786 - val_acc: 0.1806\n",
      "Epoch 36/100\n",
      "6/6 [==============================] - 0s 5ms/step - loss: 0.9017 - acc: 0.2611 - val_loss: 2.8696 - val_acc: 0.2083\n",
      "Epoch 37/100\n",
      "6/6 [==============================] - 0s 6ms/step - loss: 0.8859 - acc: 0.2650 - val_loss: 2.9252 - val_acc: 0.1944\n",
      "Epoch 38/100\n",
      "6/6 [==============================] - 0s 5ms/step - loss: 0.8848 - acc: 0.2797 - val_loss: 2.8895 - val_acc: 0.1944\n",
      "Epoch 39/100\n",
      "6/6 [==============================] - 0s 5ms/step - loss: 0.8555 - acc: 0.2789 - val_loss: 2.8460 - val_acc: 0.1944\n",
      "Epoch 40/100\n",
      "6/6 [==============================] - 0s 6ms/step - loss: 0.8636 - acc: 0.2611 - val_loss: 2.8973 - val_acc: 0.2014\n",
      "Epoch 41/100\n",
      "6/6 [==============================] - 0s 6ms/step - loss: 0.8420 - acc: 0.2712 - val_loss: 2.9405 - val_acc: 0.2083\n",
      "Epoch 42/100\n",
      "6/6 [==============================] - 0s 5ms/step - loss: 0.8566 - acc: 0.2852 - val_loss: 2.8321 - val_acc: 0.2014\n",
      "Epoch 43/100\n",
      "6/6 [==============================] - 0s 5ms/step - loss: 0.8143 - acc: 0.2867 - val_loss: 2.8283 - val_acc: 0.1944\n",
      "Epoch 44/100\n",
      "6/6 [==============================] - 0s 5ms/step - loss: 0.8488 - acc: 0.2541 - val_loss: 2.9501 - val_acc: 0.2083\n",
      "Epoch 45/100\n",
      "6/6 [==============================] - 0s 5ms/step - loss: 0.8360 - acc: 0.2704 - val_loss: 2.9501 - val_acc: 0.2083\n",
      "Epoch 46/100\n",
      "6/6 [==============================] - 0s 6ms/step - loss: 0.8354 - acc: 0.2898 - val_loss: 2.8148 - val_acc: 0.1806\n",
      "Epoch 47/100\n",
      "6/6 [==============================] - 0s 5ms/step - loss: 0.8427 - acc: 0.2673 - val_loss: 2.8291 - val_acc: 0.2083\n",
      "Epoch 48/100\n",
      "6/6 [==============================] - 0s 5ms/step - loss: 0.8323 - acc: 0.2362 - val_loss: 3.1187 - val_acc: 0.2222\n",
      "Epoch 49/100\n",
      "6/6 [==============================] - 0s 6ms/step - loss: 0.9287 - acc: 0.2751 - val_loss: 2.9444 - val_acc: 0.1875\n",
      "Epoch 50/100\n",
      "6/6 [==============================] - 0s 5ms/step - loss: 0.8013 - acc: 0.2929 - val_loss: 2.7826 - val_acc: 0.2014\n",
      "Epoch 51/100\n",
      "6/6 [==============================] - 0s 5ms/step - loss: 0.8492 - acc: 0.2385 - val_loss: 3.0480 - val_acc: 0.2361\n",
      "Epoch 52/100\n",
      "6/6 [==============================] - 0s 5ms/step - loss: 0.8051 - acc: 0.2751 - val_loss: 2.9272 - val_acc: 0.2014\n",
      "Epoch 53/100\n",
      "6/6 [==============================] - 0s 6ms/step - loss: 0.7726 - acc: 0.2991 - val_loss: 2.8380 - val_acc: 0.2014\n",
      "Epoch 54/100\n",
      "6/6 [==============================] - 0s 6ms/step - loss: 0.7417 - acc: 0.2673 - val_loss: 2.9175 - val_acc: 0.2222\n",
      "Epoch 55/100\n",
      "6/6 [==============================] - 0s 6ms/step - loss: 0.7159 - acc: 0.2782 - val_loss: 2.8922 - val_acc: 0.2083\n",
      "Epoch 56/100\n",
      "6/6 [==============================] - 0s 5ms/step - loss: 0.7055 - acc: 0.2968 - val_loss: 2.8595 - val_acc: 0.2014\n",
      "Epoch 57/100\n",
      "6/6 [==============================] - 0s 5ms/step - loss: 0.6837 - acc: 0.2914 - val_loss: 2.8464 - val_acc: 0.2014\n",
      "Epoch 58/100\n",
      "6/6 [==============================] - 0s 6ms/step - loss: 0.6730 - acc: 0.2828 - val_loss: 2.8981 - val_acc: 0.2083\n",
      "Epoch 59/100\n",
      "6/6 [==============================] - 0s 6ms/step - loss: 0.6656 - acc: 0.2914 - val_loss: 2.8589 - val_acc: 0.2083\n",
      "Epoch 60/100\n",
      "6/6 [==============================] - 0s 6ms/step - loss: 0.6512 - acc: 0.2968 - val_loss: 2.8236 - val_acc: 0.2014\n",
      "Epoch 61/100\n",
      "6/6 [==============================] - 0s 6ms/step - loss: 0.6478 - acc: 0.2898 - val_loss: 2.8409 - val_acc: 0.2014\n",
      "Epoch 62/100\n",
      "6/6 [==============================] - 0s 5ms/step - loss: 0.6356 - acc: 0.2875 - val_loss: 2.9179 - val_acc: 0.2222\n",
      "Epoch 63/100\n",
      "6/6 [==============================] - 0s 6ms/step - loss: 0.6449 - acc: 0.2922 - val_loss: 2.8693 - val_acc: 0.2014\n",
      "Epoch 64/100\n",
      "6/6 [==============================] - 0s 6ms/step - loss: 0.6238 - acc: 0.3007 - val_loss: 2.8181 - val_acc: 0.2014\n",
      "Epoch 65/100\n",
      "6/6 [==============================] - 0s 6ms/step - loss: 0.6468 - acc: 0.2743 - val_loss: 2.8713 - val_acc: 0.2014\n",
      "Epoch 66/100\n",
      "6/6 [==============================] - 0s 5ms/step - loss: 0.6201 - acc: 0.2743 - val_loss: 2.9992 - val_acc: 0.2292\n",
      "Epoch 67/100\n",
      "6/6 [==============================] - 0s 6ms/step - loss: 0.6700 - acc: 0.2875 - val_loss: 2.8763 - val_acc: 0.2014\n",
      "Epoch 68/100\n",
      "6/6 [==============================] - 0s 6ms/step - loss: 0.6193 - acc: 0.3007 - val_loss: 2.8094 - val_acc: 0.1875\n",
      "Epoch 69/100\n",
      "6/6 [==============================] - 0s 6ms/step - loss: 0.6928 - acc: 0.2525 - val_loss: 2.9405 - val_acc: 0.2222\n",
      "Epoch 70/100\n",
      "6/6 [==============================] - 0s 5ms/step - loss: 0.6370 - acc: 0.2657 - val_loss: 3.0653 - val_acc: 0.2292\n",
      "Epoch 71/100\n",
      "6/6 [==============================] - 0s 5ms/step - loss: 0.7176 - acc: 0.2914 - val_loss: 2.8326 - val_acc: 0.2014\n",
      "Epoch 72/100\n",
      "6/6 [==============================] - 0s 5ms/step - loss: 0.6463 - acc: 0.2867 - val_loss: 2.8079 - val_acc: 0.1944\n",
      "Epoch 73/100\n",
      "6/6 [==============================] - 0s 6ms/step - loss: 0.6985 - acc: 0.2354 - val_loss: 3.1874 - val_acc: 0.2292\n",
      "Epoch 74/100\n",
      "6/6 [==============================] - 0s 6ms/step - loss: 0.7157 - acc: 0.2681 - val_loss: 2.9364 - val_acc: 0.1944\n",
      "Epoch 75/100\n",
      "6/6 [==============================] - 0s 6ms/step - loss: 0.6303 - acc: 0.3015 - val_loss: 2.8031 - val_acc: 0.1736\n",
      "Epoch 76/100\n",
      "6/6 [==============================] - 0s 6ms/step - loss: 0.6840 - acc: 0.2409 - val_loss: 3.1176 - val_acc: 0.2569\n",
      "Epoch 77/100\n",
      "6/6 [==============================] - 0s 6ms/step - loss: 0.6167 - acc: 0.2657 - val_loss: 2.9626 - val_acc: 0.2222\n",
      "Epoch 78/100\n",
      "6/6 [==============================] - 0s 7ms/step - loss: 0.6113 - acc: 0.3030 - val_loss: 2.8968 - val_acc: 0.1806\n",
      "Epoch 79/100\n",
      "6/6 [==============================] - 0s 6ms/step - loss: 0.5771 - acc: 0.2813 - val_loss: 2.9578 - val_acc: 0.2153\n",
      "Epoch 80/100\n",
      "6/6 [==============================] - 0s 5ms/step - loss: 0.5496 - acc: 0.2712 - val_loss: 3.0485 - val_acc: 0.2222\n",
      "Epoch 81/100\n",
      "6/6 [==============================] - 0s 6ms/step - loss: 0.5641 - acc: 0.2968 - val_loss: 2.8833 - val_acc: 0.2014\n",
      "Epoch 82/100\n",
      "6/6 [==============================] - 0s 6ms/step - loss: 0.5199 - acc: 0.2953 - val_loss: 2.8477 - val_acc: 0.2083\n",
      "Epoch 83/100\n",
      "6/6 [==============================] - 0s 6ms/step - loss: 0.5158 - acc: 0.2828 - val_loss: 3.0298 - val_acc: 0.2292\n",
      "Epoch 84/100\n",
      "6/6 [==============================] - 0s 6ms/step - loss: 0.5143 - acc: 0.2929 - val_loss: 2.9095 - val_acc: 0.2222\n",
      "Epoch 85/100\n",
      "6/6 [==============================] - 0s 6ms/step - loss: 0.4847 - acc: 0.3015 - val_loss: 2.8634 - val_acc: 0.2083\n",
      "Epoch 86/100\n",
      "6/6 [==============================] - 0s 5ms/step - loss: 0.4880 - acc: 0.2867 - val_loss: 2.9674 - val_acc: 0.2222\n",
      "Epoch 87/100\n",
      "6/6 [==============================] - 0s 6ms/step - loss: 0.4636 - acc: 0.2937 - val_loss: 2.9840 - val_acc: 0.2222\n",
      "Epoch 88/100\n",
      "6/6 [==============================] - 0s 6ms/step - loss: 0.4691 - acc: 0.2999 - val_loss: 2.8890 - val_acc: 0.2083\n",
      "Epoch 89/100\n",
      "6/6 [==============================] - 0s 5ms/step - loss: 0.4537 - acc: 0.2991 - val_loss: 2.8863 - val_acc: 0.2153\n",
      "Epoch 90/100\n",
      "6/6 [==============================] - 0s 5ms/step - loss: 0.4571 - acc: 0.2844 - val_loss: 3.0533 - val_acc: 0.2222\n",
      "Epoch 91/100\n",
      "6/6 [==============================] - 0s 6ms/step - loss: 0.4688 - acc: 0.2898 - val_loss: 2.9596 - val_acc: 0.2222\n",
      "Epoch 92/100\n",
      "6/6 [==============================] - 0s 8ms/step - loss: 0.4474 - acc: 0.3030 - val_loss: 2.8663 - val_acc: 0.1944\n",
      "Epoch 93/100\n",
      "6/6 [==============================] - 0s 6ms/step - loss: 0.4853 - acc: 0.2782 - val_loss: 2.9719 - val_acc: 0.2222\n",
      "Epoch 94/100\n",
      "6/6 [==============================] - 0s 6ms/step - loss: 0.4429 - acc: 0.2766 - val_loss: 3.1212 - val_acc: 0.2222\n",
      "Epoch 95/100\n",
      "6/6 [==============================] - 0s 5ms/step - loss: 0.5011 - acc: 0.2898 - val_loss: 2.9103 - val_acc: 0.1944\n",
      "Epoch 96/100\n",
      "6/6 [==============================] - 0s 6ms/step - loss: 0.4512 - acc: 0.3007 - val_loss: 2.8839 - val_acc: 0.1875\n",
      "Epoch 97/100\n",
      "6/6 [==============================] - 0s 5ms/step - loss: 0.5279 - acc: 0.2362 - val_loss: 3.2219 - val_acc: 0.2431\n",
      "Epoch 98/100\n",
      "6/6 [==============================] - 0s 5ms/step - loss: 0.5104 - acc: 0.2735 - val_loss: 2.9965 - val_acc: 0.2153\n",
      "Epoch 99/100\n",
      "6/6 [==============================] - 0s 6ms/step - loss: 0.4675 - acc: 0.3038 - val_loss: 2.8697 - val_acc: 0.1667\n",
      "Epoch 100/100\n",
      "6/6 [==============================] - 0s 6ms/step - loss: 0.5445 - acc: 0.2448 - val_loss: 3.1075 - val_acc: 0.2431\n"
     ]
    }
   ],
   "source": [
    "num_epochs = 100\n",
    "batch_size = 256   ## 2^x\n",
    "\n",
    "history = model.fit(embeded_tweets, \n",
    "                    targets, \n",
    "                    epochs=num_epochs, \n",
    "                    validation_split=0.1, \n",
    "                    shuffle=False,\n",
    "                    batch_size=batch_size)"
   ]
  },
  {
   "cell_type": "code",
   "execution_count": 30,
   "id": "3d27f1f1-8efb-4227-bb41-3ceef5f1ff88",
   "metadata": {
    "execution": {
     "iopub.execute_input": "2021-08-23T06:25:54.306144Z",
     "iopub.status.busy": "2021-08-23T06:25:54.305916Z",
     "iopub.status.idle": "2021-08-23T06:25:54.405575Z",
     "shell.execute_reply": "2021-08-23T06:25:54.405012Z",
     "shell.execute_reply.started": "2021-08-23T06:25:54.306126Z"
    },
    "tags": []
   },
   "outputs": [
    {
     "data": {
      "text/plain": [
       "<matplotlib.legend.Legend at 0x7fb25c7a3eb0>"
      ]
     },
     "execution_count": 30,
     "metadata": {},
     "output_type": "execute_result"
    },
    {
     "data": {
      "image/png": "[encoded data removed]",
      "text/plain": [
       "<Figure size 432x288 with 1 Axes>"
      ]
     },
     "metadata": {
      "needs_background": "light"
     },
     "output_type": "display_data"
    }
   ],
   "source": [
    "plt.plot(history.history['acc'])\n",
    "plt.plot(history.history['val_acc'])\n",
    "plt.title('model accuracy') \n",
    "plt.ylabel('accuracy')\n",
    "plt.xlabel('epoch')\n",
    "plt.legend(['train', 'test'], loc='upper left')"
   ]
  },
  {
   "cell_type": "code",
   "execution_count": 31,
   "id": "be99dfd2-479c-449e-8044-655b050b1972",
   "metadata": {
    "execution": {
     "iopub.execute_input": "2021-08-23T06:26:04.881285Z",
     "iopub.status.busy": "2021-08-23T06:26:04.881079Z",
     "iopub.status.idle": "2021-08-23T06:26:04.893409Z",
     "shell.execute_reply": "2021-08-23T06:26:04.892707Z",
     "shell.execute_reply.started": "2021-08-23T06:26:04.881254Z"
    }
   },
   "outputs": [
    {
     "data": {
      "text/html": [
       "<div>\n",
       "<style scoped>\n",
       "    .dataframe tbody tr th:only-of-type {\n",
       "        vertical-align: middle;\n",
       "    }\n",
       "\n",
       "    .dataframe tbody tr th {\n",
       "        vertical-align: top;\n",
       "    }\n",
       "\n",
       "    .dataframe thead th {\n",
       "        text-align: right;\n",
       "    }\n",
       "</style>\n",
       "<table border=\"1\" class=\"dataframe\">\n",
       "  <thead>\n",
       "    <tr style=\"text-align: right;\">\n",
       "      <th></th>\n",
       "      <th>date</th>\n",
       "      <th>text</th>\n",
       "      <th>price</th>\n",
       "      <th>change_percent</th>\n",
       "      <th>change_type</th>\n",
       "    </tr>\n",
       "  </thead>\n",
       "  <tbody>\n",
       "    <tr>\n",
       "      <th>0</th>\n",
       "      <td>2016-09-07</td>\n",
       "      <td>Ruling Tips Uber Drivers Away From Class-Actio...</td>\n",
       "      <td>2186.16</td>\n",
       "      <td>-0.014635</td>\n",
       "      <td>down</td>\n",
       "    </tr>\n",
       "    <tr>\n",
       "      <th>1</th>\n",
       "      <td>2016-09-08</td>\n",
       "      <td>Clinton-Trump Presidential Forum Draws 15 Mill...</td>\n",
       "      <td>2181.30</td>\n",
       "      <td>-0.222308</td>\n",
       "      <td>down</td>\n",
       "    </tr>\n",
       "    <tr>\n",
       "      <th>2</th>\n",
       "      <td>2016-09-09</td>\n",
       "      <td>Galaxy Note 7 Owners Are Urged to Stop Using T...</td>\n",
       "      <td>2127.81</td>\n",
       "      <td>-2.452207</td>\n",
       "      <td>down</td>\n",
       "    </tr>\n",
       "    <tr>\n",
       "      <th>3</th>\n",
       "      <td>2016-09-10</td>\n",
       "      <td>No Driver? Bring It On. How Pittsburgh Became ...</td>\n",
       "      <td>2127.81</td>\n",
       "      <td>0.000000</td>\n",
       "      <td>same</td>\n",
       "    </tr>\n",
       "    <tr>\n",
       "      <th>4</th>\n",
       "      <td>2016-09-11</td>\n",
       "      <td>After 11 Years, Case of A.I.G.’s Ex-Chief Is G...</td>\n",
       "      <td>2127.81</td>\n",
       "      <td>0.000000</td>\n",
       "      <td>same</td>\n",
       "    </tr>\n",
       "    <tr>\n",
       "      <th>...</th>\n",
       "      <td>...</td>\n",
       "      <td>...</td>\n",
       "      <td>...</td>\n",
       "      <td>...</td>\n",
       "      <td>...</td>\n",
       "    </tr>\n",
       "    <tr>\n",
       "      <th>1426</th>\n",
       "      <td>2020-08-14</td>\n",
       "      <td>Pinterest Employees Demand Gender and Race Equ...</td>\n",
       "      <td>3372.85</td>\n",
       "      <td>-0.017193</td>\n",
       "      <td>down</td>\n",
       "    </tr>\n",
       "    <tr>\n",
       "      <th>1427</th>\n",
       "      <td>2020-08-15</td>\n",
       "      <td>Trump Officially Orders TikTok’s Chinese Owner...</td>\n",
       "      <td>3372.85</td>\n",
       "      <td>0.000000</td>\n",
       "      <td>same</td>\n",
       "    </tr>\n",
       "    <tr>\n",
       "      <th>1428</th>\n",
       "      <td>2020-08-16</td>\n",
       "      <td>Rolling Blackouts in California Have Power Exp...</td>\n",
       "      <td>3372.85</td>\n",
       "      <td>0.000000</td>\n",
       "      <td>same</td>\n",
       "    </tr>\n",
       "    <tr>\n",
       "      <th>1429</th>\n",
       "      <td>2020-08-17</td>\n",
       "      <td>California Expresses Frustration as Blackouts ...</td>\n",
       "      <td>3381.99</td>\n",
       "      <td>0.270987</td>\n",
       "      <td>up</td>\n",
       "    </tr>\n",
       "    <tr>\n",
       "      <th>1430</th>\n",
       "      <td>2020-08-18</td>\n",
       "      <td>TV Audiences Dip for First Night of Democrats’...</td>\n",
       "      <td>3389.78</td>\n",
       "      <td>0.230338</td>\n",
       "      <td>up</td>\n",
       "    </tr>\n",
       "  </tbody>\n",
       "</table>\n",
       "<p>1431 rows × 5 columns</p>\n",
       "</div>"
      ],
      "text/plain": [
       "            date                                               text    price  \\\n",
       "0     2016-09-07  Ruling Tips Uber Drivers Away From Class-Actio...  2186.16   \n",
       "1     2016-09-08  Clinton-Trump Presidential Forum Draws 15 Mill...  2181.30   \n",
       "2     2016-09-09  Galaxy Note 7 Owners Are Urged to Stop Using T...  2127.81   \n",
       "3     2016-09-10  No Driver? Bring It On. How Pittsburgh Became ...  2127.81   \n",
       "4     2016-09-11  After 11 Years, Case of A.I.G.’s Ex-Chief Is G...  2127.81   \n",
       "...          ...                                                ...      ...   \n",
       "1426  2020-08-14  Pinterest Employees Demand Gender and Race Equ...  3372.85   \n",
       "1427  2020-08-15  Trump Officially Orders TikTok’s Chinese Owner...  3372.85   \n",
       "1428  2020-08-16  Rolling Blackouts in California Have Power Exp...  3372.85   \n",
       "1429  2020-08-17  California Expresses Frustration as Blackouts ...  3381.99   \n",
       "1430  2020-08-18  TV Audiences Dip for First Night of Democrats’...  3389.78   \n",
       "\n",
       "      change_percent change_type  \n",
       "0          -0.014635        down  \n",
       "1          -0.222308        down  \n",
       "2          -2.452207        down  \n",
       "3           0.000000        same  \n",
       "4           0.000000        same  \n",
       "...              ...         ...  \n",
       "1426       -0.017193        down  \n",
       "1427        0.000000        same  \n",
       "1428        0.000000        same  \n",
       "1429        0.270987          up  \n",
       "1430        0.230338          up  \n",
       "\n",
       "[1431 rows x 5 columns]"
      ]
     },
     "execution_count": 31,
     "metadata": {},
     "output_type": "execute_result"
    }
   ],
   "source": [
    "df"
   ]
  },
  {
   "cell_type": "code",
   "execution_count": 33,
   "id": "d1857685-2727-4100-9016-45e9e6cab06b",
   "metadata": {
    "execution": {
     "iopub.execute_input": "2021-08-23T06:26:44.341209Z",
     "iopub.status.busy": "2021-08-23T06:26:44.341019Z",
     "iopub.status.idle": "2021-08-23T06:26:44.344830Z",
     "shell.execute_reply": "2021-08-23T06:26:44.343968Z",
     "shell.execute_reply.started": "2021-08-23T06:26:44.341188Z"
    }
   },
   "outputs": [],
   "source": [
    "from sklearn.metrics import accuracy_score"
   ]
  },
  {
   "cell_type": "code",
   "execution_count": 37,
   "id": "46bed4e4-64fd-40bf-9500-238d7fef1821",
   "metadata": {
    "execution": {
     "iopub.execute_input": "2021-08-23T06:27:40.857988Z",
     "iopub.status.busy": "2021-08-23T06:27:40.857777Z",
     "iopub.status.idle": "2021-08-23T06:27:40.863561Z",
     "shell.execute_reply": "2021-08-23T06:27:40.862917Z",
     "shell.execute_reply.started": "2021-08-23T06:27:40.857971Z"
    },
    "tags": []
   },
   "outputs": [
    {
     "data": {
      "text/plain": [
       "1431    Big-Box Retailers’ Profits Surge as Pandemic M...\n",
       "1432    Unemployment Claims Rise as Rollout of $300 Be...\n",
       "1433    National Enquirer Chief David Pecker Loses Top...\n",
       "1434    TikTok to Challenge Trump Administration Over ...\n",
       "1435    Twitter Flags Trump Tweet for Dissuading Votin...\n",
       "                              ...                        \n",
       "1784    Snopes Retracts 60 Articles Plagiarized by Co-...\n",
       "1785    The Limits of Vacation. During the pandemic, s...\n",
       "1786    You’ve Never Heard of the Biggest Digital Medi...\n",
       "1787    Janet Yellen Gets a Chance to Shape the Fed, T...\n",
       "1788    The owner of Politico is said to be seeking $1...\n",
       "Name: text, Length: 358, dtype: object"
      ]
     },
     "execution_count": 37,
     "metadata": {},
     "output_type": "execute_result"
    }
   ],
   "source": [
    "df_test['text']"
   ]
  },
  {
   "cell_type": "code",
   "execution_count": 39,
   "id": "d58fc375-b9c7-4caf-baf7-149b41aaa35d",
   "metadata": {
    "execution": {
     "iopub.execute_input": "2021-08-23T06:29:22.917292Z",
     "iopub.status.busy": "2021-08-23T06:29:22.917101Z",
     "iopub.status.idle": "2021-08-23T06:29:22.922660Z",
     "shell.execute_reply": "2021-08-23T06:29:22.922057Z",
     "shell.execute_reply.started": "2021-08-23T06:29:22.917275Z"
    }
   },
   "outputs": [
    {
     "data": {
      "text/plain": [
       "Index(['date', 'text', 'price', 'change_percent', 'change_type'], dtype='object')"
      ]
     },
     "execution_count": 39,
     "metadata": {},
     "output_type": "execute_result"
    }
   ],
   "source": [
    "df_test.columns"
   ]
  },
  {
   "cell_type": "code",
   "execution_count": 40,
   "id": "82fc1de0-71e4-4a64-afcb-4b0cf3df9890",
   "metadata": {
    "execution": {
     "iopub.execute_input": "2021-08-23T06:29:54.400509Z",
     "iopub.status.busy": "2021-08-23T06:29:54.400325Z",
     "iopub.status.idle": "2021-08-23T06:29:54.404831Z",
     "shell.execute_reply": "2021-08-23T06:29:54.404178Z",
     "shell.execute_reply.started": "2021-08-23T06:29:54.400492Z"
    },
    "tags": []
   },
   "outputs": [],
   "source": [
    "#embed_test,targets = vectorize(df_test['text'])\n",
    "#predictions = model.predict(embed_test).astype(int)\n",
    "#accuracy_score(predictions,targets)*100"
   ]
  },
  {
   "cell_type": "markdown",
   "id": "d2351cd6-d809-41a5-afa2-f38b0ffa2093",
   "metadata": {},
   "source": [
    "# Count Vectorizer/TFIDF + Multinomial Naive Bayes"
   ]
  },
  {
   "cell_type": "code",
   "execution_count": 71,
   "id": "48153e38-36b7-4b5d-959e-fde25bac56e4",
   "metadata": {
    "execution": {
     "iopub.execute_input": "2021-08-23T06:48:29.204871Z",
     "iopub.status.busy": "2021-08-23T06:48:29.204566Z",
     "iopub.status.idle": "2021-08-23T06:48:29.208693Z",
     "shell.execute_reply": "2021-08-23T06:48:29.208384Z",
     "shell.execute_reply.started": "2021-08-23T06:48:29.204853Z"
    },
    "tags": []
   },
   "outputs": [],
   "source": [
    "# imports \n",
    "import matplotlib.pyplot as plt\n",
    "import pandas as pd\n",
    "import seaborn as sns\n",
    "import numpy as np\n",
    "\n",
    "# transformer\n",
    "from sklearn.feature_extraction.text import CountVectorizer,TfidfVectorizer,TfidfTransformer\n",
    "\n",
    "# model pipeline \n",
    "from sklearn.pipeline import Pipeline\n",
    "from sklearn.model_selection import train_test_split, RandomizedSearchCV, GridSearchCV\n",
    "# models \n",
    "from sklearn.naive_bayes import MultinomialNB\n",
    "from sklearn.tree import DecisionTreeClassifier\n",
    "from sklearn.dummy import DummyClassifier\n",
    "\n",
    "#distributions for searching different hyperparamters\n",
    "from scipy.stats import uniform, loguniform,randint\n",
    "\n",
    "# model metrics\n",
    "import sklearn.metrics"
   ]
  },
  {
   "cell_type": "code",
   "execution_count": 55,
   "id": "44dc2e84-0209-4f15-ba39-d82b893fe09b",
   "metadata": {
    "execution": {
     "iopub.execute_input": "2021-08-23T06:36:18.072341Z",
     "iopub.status.busy": "2021-08-23T06:36:18.072156Z",
     "iopub.status.idle": "2021-08-23T06:36:18.076419Z",
     "shell.execute_reply": "2021-08-23T06:36:18.075638Z",
     "shell.execute_reply.started": "2021-08-23T06:36:18.072325Z"
    },
    "tags": []
   },
   "outputs": [],
   "source": [
    "# helper function to visualize impact of different values for hyperparamters \n",
    "def graph_cv_results(model,param):\n",
    "    'returns graph of different param values tried by search against F1 score'\n",
    "    model_results = pd.DataFrame(model.cv_results_)\n",
    "    x=model_results[f\"param_{param}\"]\n",
    "    y=model_results['mean_test_f1_weighted']\n",
    "    sns.scatterplot(x=x,y=y)\n",
    "  #ymax = max(y)\n",
    "  #xpos = y.index(ymax)\n",
    "    return #f\"Max Value of mean_test_f1_weighted occurs at {max(x)} \""
   ]
  },
  {
   "cell_type": "code",
   "execution_count": 49,
   "id": "2a9699b5-f5e4-4907-b5ab-24a27e6facba",
   "metadata": {
    "execution": {
     "iopub.execute_input": "2021-08-23T06:32:06.651985Z",
     "iopub.status.busy": "2021-08-23T06:32:06.651800Z",
     "iopub.status.idle": "2021-08-23T06:32:06.737454Z",
     "shell.execute_reply": "2021-08-23T06:32:06.736651Z",
     "shell.execute_reply.started": "2021-08-23T06:32:06.651968Z"
    },
    "tags": []
   },
   "outputs": [],
   "source": [
    "df = pd.read_csv('daily.csv')"
   ]
  },
  {
   "cell_type": "code",
   "execution_count": 57,
   "id": "4ec0f36f-5ee9-42e4-a35f-50fc2fe0f476",
   "metadata": {
    "execution": {
     "iopub.execute_input": "2021-08-23T06:37:16.054762Z",
     "iopub.status.busy": "2021-08-23T06:37:16.054575Z",
     "iopub.status.idle": "2021-08-23T06:37:16.063709Z",
     "shell.execute_reply": "2021-08-23T06:37:16.062955Z",
     "shell.execute_reply.started": "2021-08-23T06:37:16.054744Z"
    },
    "tags": []
   },
   "outputs": [
    {
     "data": {
      "text/html": [
       "<div>\n",
       "<style scoped>\n",
       "    .dataframe tbody tr th:only-of-type {\n",
       "        vertical-align: middle;\n",
       "    }\n",
       "\n",
       "    .dataframe tbody tr th {\n",
       "        vertical-align: top;\n",
       "    }\n",
       "\n",
       "    .dataframe thead th {\n",
       "        text-align: right;\n",
       "    }\n",
       "</style>\n",
       "<table border=\"1\" class=\"dataframe\">\n",
       "  <thead>\n",
       "    <tr style=\"text-align: right;\">\n",
       "      <th></th>\n",
       "      <th>date</th>\n",
       "      <th>text</th>\n",
       "      <th>price</th>\n",
       "      <th>change_percent</th>\n",
       "      <th>change_type</th>\n",
       "    </tr>\n",
       "  </thead>\n",
       "  <tbody>\n",
       "    <tr>\n",
       "      <th>0</th>\n",
       "      <td>2016-09-07</td>\n",
       "      <td>Ruling Tips Uber Drivers Away From Class-Actio...</td>\n",
       "      <td>2186.16</td>\n",
       "      <td>-0.014635</td>\n",
       "      <td>down</td>\n",
       "    </tr>\n",
       "    <tr>\n",
       "      <th>1</th>\n",
       "      <td>2016-09-08</td>\n",
       "      <td>Clinton-Trump Presidential Forum Draws 15 Mill...</td>\n",
       "      <td>2181.30</td>\n",
       "      <td>-0.222308</td>\n",
       "      <td>down</td>\n",
       "    </tr>\n",
       "    <tr>\n",
       "      <th>2</th>\n",
       "      <td>2016-09-09</td>\n",
       "      <td>Galaxy Note 7 Owners Are Urged to Stop Using T...</td>\n",
       "      <td>2127.81</td>\n",
       "      <td>-2.452207</td>\n",
       "      <td>down</td>\n",
       "    </tr>\n",
       "    <tr>\n",
       "      <th>3</th>\n",
       "      <td>2016-09-10</td>\n",
       "      <td>No Driver? Bring It On. How Pittsburgh Became ...</td>\n",
       "      <td>2127.81</td>\n",
       "      <td>0.000000</td>\n",
       "      <td>same</td>\n",
       "    </tr>\n",
       "    <tr>\n",
       "      <th>4</th>\n",
       "      <td>2016-09-11</td>\n",
       "      <td>After 11 Years, Case of A.I.G.’s Ex-Chief Is G...</td>\n",
       "      <td>2127.81</td>\n",
       "      <td>0.000000</td>\n",
       "      <td>same</td>\n",
       "    </tr>\n",
       "  </tbody>\n",
       "</table>\n",
       "</div>"
      ],
      "text/plain": [
       "         date                                               text    price  \\\n",
       "0  2016-09-07  Ruling Tips Uber Drivers Away From Class-Actio...  2186.16   \n",
       "1  2016-09-08  Clinton-Trump Presidential Forum Draws 15 Mill...  2181.30   \n",
       "2  2016-09-09  Galaxy Note 7 Owners Are Urged to Stop Using T...  2127.81   \n",
       "3  2016-09-10  No Driver? Bring It On. How Pittsburgh Became ...  2127.81   \n",
       "4  2016-09-11  After 11 Years, Case of A.I.G.’s Ex-Chief Is G...  2127.81   \n",
       "\n",
       "   change_percent change_type  \n",
       "0       -0.014635        down  \n",
       "1       -0.222308        down  \n",
       "2       -2.452207        down  \n",
       "3        0.000000        same  \n",
       "4        0.000000        same  "
      ]
     },
     "execution_count": 57,
     "metadata": {},
     "output_type": "execute_result"
    }
   ],
   "source": [
    "df.head()"
   ]
  },
  {
   "cell_type": "code",
   "execution_count": 59,
   "id": "8823c428-facd-4db3-96e4-732a1bfb6e02",
   "metadata": {
    "execution": {
     "iopub.execute_input": "2021-08-23T06:38:51.102912Z",
     "iopub.status.busy": "2021-08-23T06:38:51.102426Z",
     "iopub.status.idle": "2021-08-23T06:38:51.108560Z",
     "shell.execute_reply": "2021-08-23T06:38:51.107932Z",
     "shell.execute_reply.started": "2021-08-23T06:38:51.102892Z"
    },
    "tags": []
   },
   "outputs": [],
   "source": [
    "# define X and y \n",
    "X= df['text'] \n",
    "y=df['change_type']\n",
    "\n",
    "# Define training and testing sets.\n",
    "X_train, X_test, y_train, y_test = train_test_split(X,\n",
    "                                                    y,\n",
    "                                                    shuffle=False,\n",
    "                                                    random_state=42)"
   ]
  },
  {
   "cell_type": "code",
   "execution_count": 60,
   "id": "3f490ad3-729a-49a1-b402-befba1536c90",
   "metadata": {
    "execution": {
     "iopub.execute_input": "2021-08-23T06:39:09.774679Z",
     "iopub.status.busy": "2021-08-23T06:39:09.774495Z",
     "iopub.status.idle": "2021-08-23T06:39:10.355695Z",
     "shell.execute_reply": "2021-08-23T06:39:10.354919Z",
     "shell.execute_reply.started": "2021-08-23T06:39:09.774662Z"
    }
   },
   "outputs": [
    {
     "data": {
      "text/plain": [
       "Pipeline(steps=[('cvec', CountVectorizer()), ('nb', MultinomialNB())])"
      ]
     },
     "execution_count": 60,
     "metadata": {},
     "output_type": "execute_result"
    }
   ],
   "source": [
    "# Default hyperparamters \n",
    "\n",
    "#instantiate pipeline \n",
    "cvec_pipe= Pipeline([\n",
    "                     ('cvec',CountVectorizer()),\n",
    "                     ('nb',MultinomialNB())\n",
    "])\n",
    "# fit pipeline with default hyperparamters  \n",
    "cvec_pipe.fit(X_train,y_train)"
   ]
  },
  {
   "cell_type": "code",
   "execution_count": 62,
   "id": "0da39421-aa51-4f4e-9739-080e77ec2374",
   "metadata": {
    "execution": {
     "iopub.execute_input": "2021-08-23T06:39:45.016256Z",
     "iopub.status.busy": "2021-08-23T06:39:45.016068Z",
     "iopub.status.idle": "2021-08-23T06:39:45.708792Z",
     "shell.execute_reply": "2021-08-23T06:39:45.707991Z",
     "shell.execute_reply.started": "2021-08-23T06:39:45.016237Z"
    },
    "tags": []
   },
   "outputs": [
    {
     "data": {
      "text/plain": [
       "(0.934762348555452, 0.3687150837988827)"
      ]
     },
     "execution_count": 62,
     "metadata": {},
     "output_type": "execute_result"
    }
   ],
   "source": [
    "cvec_pipe.score(X_train,y_train),cvec_pipe.score(X_test,y_test)"
   ]
  },
  {
   "cell_type": "code",
   "execution_count": 67,
   "id": "0da565ef-4e7a-4d34-b730-fc99861b2b09",
   "metadata": {
    "execution": {
     "iopub.execute_input": "2021-08-23T06:44:55.758578Z",
     "iopub.status.busy": "2021-08-23T06:44:55.758275Z",
     "iopub.status.idle": "2021-08-23T06:44:56.355095Z",
     "shell.execute_reply": "2021-08-23T06:44:56.354780Z",
     "shell.execute_reply.started": "2021-08-23T06:44:55.758561Z"
    },
    "tags": []
   },
   "outputs": [
    {
     "data": {
      "text/plain": [
       "Pipeline(steps=[('tvec', TfidfVectorizer()), ('nb', MultinomialNB())])"
      ]
     },
     "execution_count": 67,
     "metadata": {},
     "output_type": "execute_result"
    }
   ],
   "source": [
    "# add tfidf  \n",
    "\n",
    "#instantiate pipeline \n",
    "tvec_pipe= Pipeline([\n",
    "                     #('cvec',CountVectorizer()),\n",
    "                     ('tvec', TfidfVectorizer()),\n",
    "                     ('nb',MultinomialNB())\n",
    "])\n",
    "# fit pipeline with default hyperparamters  \n",
    "tvec_pipe.fit(X_train,y_train)"
   ]
  },
  {
   "cell_type": "code",
   "execution_count": 68,
   "id": "09ad16f2-31d8-4c74-bd07-a606e00ba413",
   "metadata": {
    "execution": {
     "iopub.execute_input": "2021-08-23T06:45:07.322790Z",
     "iopub.status.busy": "2021-08-23T06:45:07.322297Z",
     "iopub.status.idle": "2021-08-23T06:45:08.035157Z",
     "shell.execute_reply": "2021-08-23T06:45:08.034821Z",
     "shell.execute_reply.started": "2021-08-23T06:45:07.322751Z"
    }
   },
   "outputs": [
    {
     "data": {
      "text/plain": [
       "(0.3811742777260019, 0.4134078212290503)"
      ]
     },
     "execution_count": 68,
     "metadata": {},
     "output_type": "execute_result"
    }
   ],
   "source": [
    "tvec_pipe.score(X_train,y_train),tvec_pipe.score(X_test,y_test)"
   ]
  },
  {
   "cell_type": "code",
   "execution_count": 72,
   "id": "697fe8fe-f29f-4beb-bcc1-3d2a393a0245",
   "metadata": {
    "execution": {
     "iopub.execute_input": "2021-08-23T06:48:35.620546Z",
     "iopub.status.busy": "2021-08-23T06:48:35.620234Z",
     "iopub.status.idle": "2021-08-23T06:48:36.230197Z",
     "shell.execute_reply": "2021-08-23T06:48:36.229580Z",
     "shell.execute_reply.started": "2021-08-23T06:48:35.620529Z"
    },
    "tags": []
   },
   "outputs": [
    {
     "data": {
      "text/plain": [
       "Pipeline(steps=[('cvec', CountVectorizer()), ('tvec', TfidfTransformer()),\n",
       "                ('nb', MultinomialNB())])"
      ]
     },
     "execution_count": 72,
     "metadata": {},
     "output_type": "execute_result"
    }
   ],
   "source": [
    "#cvec and ttrans\n",
    "tvec_pipe1= Pipeline([\n",
    "                     ('cvec',CountVectorizer()),\n",
    "                     ('ttrans', TfidfTransformer()),\n",
    "                     ('nb',MultinomialNB())\n",
    "])\n",
    "# fit pipeline with default hyperparamters  \n",
    "tvec_pipe1.fit(X_train,y_train)"
   ]
  },
  {
   "cell_type": "code",
   "execution_count": 73,
   "id": "1d85870e-a847-4f84-8f45-c57c44c51198",
   "metadata": {
    "execution": {
     "iopub.execute_input": "2021-08-23T06:48:48.401908Z",
     "iopub.status.busy": "2021-08-23T06:48:48.401729Z",
     "iopub.status.idle": "2021-08-23T06:48:49.127051Z",
     "shell.execute_reply": "2021-08-23T06:48:49.126473Z",
     "shell.execute_reply.started": "2021-08-23T06:48:48.401892Z"
    }
   },
   "outputs": [
    {
     "data": {
      "text/plain": [
       "(0.3811742777260019, 0.4134078212290503)"
      ]
     },
     "execution_count": 73,
     "metadata": {},
     "output_type": "execute_result"
    }
   ],
   "source": [
    "tvec_pipe1.score(X_train,y_train),tvec_pipe1.score(X_test,y_test)"
   ]
  },
  {
   "cell_type": "markdown",
   "id": "6afbc771-7c92-4dda-b123-1386d811de26",
   "metadata": {},
   "source": [
    "# Word2Vec"
   ]
  },
  {
   "cell_type": "code",
   "execution_count": 74,
   "id": "1775a949-6645-4f7e-a8be-b4da7794805f",
   "metadata": {
    "execution": {
     "iopub.execute_input": "2021-08-23T07:00:17.046807Z",
     "iopub.status.busy": "2021-08-23T07:00:17.046625Z",
     "iopub.status.idle": "2021-08-23T07:03:26.951554Z",
     "shell.execute_reply": "2021-08-23T07:03:26.950791Z",
     "shell.execute_reply.started": "2021-08-23T07:00:17.046791Z"
    },
    "scrolled": true,
    "tags": []
   },
   "outputs": [
    {
     "name": "stderr",
     "output_type": "stream",
     "text": [
      "/home/tanveer/anaconda3/lib/python3.8/site-packages/gensim/similarities/__init__.py:15: UserWarning: The gensim.similarities.levenshtein submodule is disabled, because the optional Levenshtein package <https://pypi.org/project/python-Levenshtein/> is unavailable. Install Levenhstein (e.g. `pip install python-Levenshtein`) to suppress this warning.\n",
      "  warnings.warn(msg)\n"
     ]
    },
    {
     "name": "stdout",
     "output_type": "stream",
     "text": [
      "[--------------------------------------------------] 1.4% 23.4/1662.8MB downloaded"
     ]
    },
    {
     "name": "stderr",
     "output_type": "stream",
     "text": [
      "IOPub message rate exceeded.\n",
      "The Jupyter server will temporarily stop sending output\n",
      "to the client in order to avoid crashing it.\n",
      "To change this limit, set the config variable\n",
      "`--ServerApp.iopub_msg_rate_limit`.\n",
      "\n",
      "Current values:\n",
      "ServerApp.iopub_msg_rate_limit=1000.0 (msgs/sec)\n",
      "ServerApp.rate_limit_window=3.0 (secs)\n",
      "\n"
     ]
    },
    {
     "name": "stdout",
     "output_type": "stream",
     "text": [
      "[=-------------------------------------------------] 3.5% 57.4/1662.8MB downloaded"
     ]
    },
    {
     "name": "stderr",
     "output_type": "stream",
     "text": [
      "IOPub message rate exceeded.\n",
      "The Jupyter server will temporarily stop sending output\n",
      "to the client in order to avoid crashing it.\n",
      "To change this limit, set the config variable\n",
      "`--ServerApp.iopub_msg_rate_limit`.\n",
      "\n",
      "Current values:\n",
      "ServerApp.iopub_msg_rate_limit=1000.0 (msgs/sec)\n",
      "ServerApp.rate_limit_window=3.0 (secs)\n",
      "\n"
     ]
    },
    {
     "name": "stdout",
     "output_type": "stream",
     "text": [
      "[==------------------------------------------------] 5.5% 91.6/1662.8MB downloaded"
     ]
    },
    {
     "name": "stderr",
     "output_type": "stream",
     "text": [
      "IOPub message rate exceeded.\n",
      "The Jupyter server will temporarily stop sending output\n",
      "to the client in order to avoid crashing it.\n",
      "To change this limit, set the config variable\n",
      "`--ServerApp.iopub_msg_rate_limit`.\n",
      "\n",
      "Current values:\n",
      "ServerApp.iopub_msg_rate_limit=1000.0 (msgs/sec)\n",
      "ServerApp.rate_limit_window=3.0 (secs)\n",
      "\n"
     ]
    },
    {
     "name": "stdout",
     "output_type": "stream",
     "text": [
      "[===-----------------------------------------------] 7.6% 125.8/1662.8MB downloaded"
     ]
    },
    {
     "name": "stderr",
     "output_type": "stream",
     "text": [
      "IOPub message rate exceeded.\n",
      "The Jupyter server will temporarily stop sending output\n",
      "to the client in order to avoid crashing it.\n",
      "To change this limit, set the config variable\n",
      "`--ServerApp.iopub_msg_rate_limit`.\n",
      "\n",
      "Current values:\n",
      "ServerApp.iopub_msg_rate_limit=1000.0 (msgs/sec)\n",
      "ServerApp.rate_limit_window=3.0 (secs)\n",
      "\n"
     ]
    },
    {
     "name": "stdout",
     "output_type": "stream",
     "text": [
      "[====----------------------------------------------] 9.6% 159.8/1662.8MB downloaded"
     ]
    },
    {
     "name": "stderr",
     "output_type": "stream",
     "text": [
      "IOPub message rate exceeded.\n",
      "The Jupyter server will temporarily stop sending output\n",
      "to the client in order to avoid crashing it.\n",
      "To change this limit, set the config variable\n",
      "`--ServerApp.iopub_msg_rate_limit`.\n",
      "\n",
      "Current values:\n",
      "ServerApp.iopub_msg_rate_limit=1000.0 (msgs/sec)\n",
      "ServerApp.rate_limit_window=3.0 (secs)\n",
      "\n"
     ]
    },
    {
     "name": "stdout",
     "output_type": "stream",
     "text": [
      "[=====---------------------------------------------] 11.6% 193.6/1662.8MB downloaded"
     ]
    },
    {
     "name": "stderr",
     "output_type": "stream",
     "text": [
      "IOPub message rate exceeded.\n",
      "The Jupyter server will temporarily stop sending output\n",
      "to the client in order to avoid crashing it.\n",
      "To change this limit, set the config variable\n",
      "`--ServerApp.iopub_msg_rate_limit`.\n",
      "\n",
      "Current values:\n",
      "ServerApp.iopub_msg_rate_limit=1000.0 (msgs/sec)\n",
      "ServerApp.rate_limit_window=3.0 (secs)\n",
      "\n"
     ]
    },
    {
     "name": "stdout",
     "output_type": "stream",
     "text": [
      "[======--------------------------------------------] 13.7% 227.8/1662.8MB downloaded"
     ]
    },
    {
     "name": "stderr",
     "output_type": "stream",
     "text": [
      "IOPub message rate exceeded.\n",
      "The Jupyter server will temporarily stop sending output\n",
      "to the client in order to avoid crashing it.\n",
      "To change this limit, set the config variable\n",
      "`--ServerApp.iopub_msg_rate_limit`.\n",
      "\n",
      "Current values:\n",
      "ServerApp.iopub_msg_rate_limit=1000.0 (msgs/sec)\n",
      "ServerApp.rate_limit_window=3.0 (secs)\n",
      "\n"
     ]
    },
    {
     "name": "stdout",
     "output_type": "stream",
     "text": [
      "[=======-------------------------------------------] 15.7% 261.8/1662.8MB downloaded"
     ]
    },
    {
     "name": "stderr",
     "output_type": "stream",
     "text": [
      "IOPub message rate exceeded.\n",
      "The Jupyter server will temporarily stop sending output\n",
      "to the client in order to avoid crashing it.\n",
      "To change this limit, set the config variable\n",
      "`--ServerApp.iopub_msg_rate_limit`.\n",
      "\n",
      "Current values:\n",
      "ServerApp.iopub_msg_rate_limit=1000.0 (msgs/sec)\n",
      "ServerApp.rate_limit_window=3.0 (secs)\n",
      "\n"
     ]
    },
    {
     "name": "stdout",
     "output_type": "stream",
     "text": [
      "[========------------------------------------------] 17.8% 295.6/1662.8MB downloaded"
     ]
    },
    {
     "name": "stderr",
     "output_type": "stream",
     "text": [
      "IOPub message rate exceeded.\n",
      "The Jupyter server will temporarily stop sending output\n",
      "to the client in order to avoid crashing it.\n",
      "To change this limit, set the config variable\n",
      "`--ServerApp.iopub_msg_rate_limit`.\n",
      "\n",
      "Current values:\n",
      "ServerApp.iopub_msg_rate_limit=1000.0 (msgs/sec)\n",
      "ServerApp.rate_limit_window=3.0 (secs)\n",
      "\n"
     ]
    },
    {
     "name": "stdout",
     "output_type": "stream",
     "text": [
      "[=========-----------------------------------------] 19.8% 329.4/1662.8MB downloaded"
     ]
    },
    {
     "name": "stderr",
     "output_type": "stream",
     "text": [
      "IOPub message rate exceeded.\n",
      "The Jupyter server will temporarily stop sending output\n",
      "to the client in order to avoid crashing it.\n",
      "To change this limit, set the config variable\n",
      "`--ServerApp.iopub_msg_rate_limit`.\n",
      "\n",
      "Current values:\n",
      "ServerApp.iopub_msg_rate_limit=1000.0 (msgs/sec)\n",
      "ServerApp.rate_limit_window=3.0 (secs)\n",
      "\n"
     ]
    },
    {
     "name": "stdout",
     "output_type": "stream",
     "text": [
      "[==========----------------------------------------] 21.9% 363.5/1662.8MB downloaded"
     ]
    },
    {
     "name": "stderr",
     "output_type": "stream",
     "text": [
      "IOPub message rate exceeded.\n",
      "The Jupyter server will temporarily stop sending output\n",
      "to the client in order to avoid crashing it.\n",
      "To change this limit, set the config variable\n",
      "`--ServerApp.iopub_msg_rate_limit`.\n",
      "\n",
      "Current values:\n",
      "ServerApp.iopub_msg_rate_limit=1000.0 (msgs/sec)\n",
      "ServerApp.rate_limit_window=3.0 (secs)\n",
      "\n"
     ]
    },
    {
     "name": "stdout",
     "output_type": "stream",
     "text": [
      "[===========---------------------------------------] 23.9% 397.4/1662.8MB downloaded"
     ]
    },
    {
     "name": "stderr",
     "output_type": "stream",
     "text": [
      "IOPub message rate exceeded.\n",
      "The Jupyter server will temporarily stop sending output\n",
      "to the client in order to avoid crashing it.\n",
      "To change this limit, set the config variable\n",
      "`--ServerApp.iopub_msg_rate_limit`.\n",
      "\n",
      "Current values:\n",
      "ServerApp.iopub_msg_rate_limit=1000.0 (msgs/sec)\n",
      "ServerApp.rate_limit_window=3.0 (secs)\n",
      "\n"
     ]
    },
    {
     "name": "stdout",
     "output_type": "stream",
     "text": [
      "[============--------------------------------------] 25.9% 431.4/1662.8MB downloaded"
     ]
    },
    {
     "name": "stderr",
     "output_type": "stream",
     "text": [
      "IOPub message rate exceeded.\n",
      "The Jupyter server will temporarily stop sending output\n",
      "to the client in order to avoid crashing it.\n",
      "To change this limit, set the config variable\n",
      "`--ServerApp.iopub_msg_rate_limit`.\n",
      "\n",
      "Current values:\n",
      "ServerApp.iopub_msg_rate_limit=1000.0 (msgs/sec)\n",
      "ServerApp.rate_limit_window=3.0 (secs)\n",
      "\n"
     ]
    },
    {
     "name": "stdout",
     "output_type": "stream",
     "text": [
      "[=============-------------------------------------] 28.0% 465.3/1662.8MB downloaded"
     ]
    },
    {
     "name": "stderr",
     "output_type": "stream",
     "text": [
      "IOPub message rate exceeded.\n",
      "The Jupyter server will temporarily stop sending output\n",
      "to the client in order to avoid crashing it.\n",
      "To change this limit, set the config variable\n",
      "`--ServerApp.iopub_msg_rate_limit`.\n",
      "\n",
      "Current values:\n",
      "ServerApp.iopub_msg_rate_limit=1000.0 (msgs/sec)\n",
      "ServerApp.rate_limit_window=3.0 (secs)\n",
      "\n"
     ]
    },
    {
     "name": "stdout",
     "output_type": "stream",
     "text": [
      "[==============------------------------------------] 29.9% 497.9/1662.8MB downloaded"
     ]
    },
    {
     "name": "stderr",
     "output_type": "stream",
     "text": [
      "IOPub message rate exceeded.\n",
      "The Jupyter server will temporarily stop sending output\n",
      "to the client in order to avoid crashing it.\n",
      "To change this limit, set the config variable\n",
      "`--ServerApp.iopub_msg_rate_limit`.\n",
      "\n",
      "Current values:\n",
      "ServerApp.iopub_msg_rate_limit=1000.0 (msgs/sec)\n",
      "ServerApp.rate_limit_window=3.0 (secs)\n",
      "\n"
     ]
    },
    {
     "name": "stdout",
     "output_type": "stream",
     "text": [
      "[================----------------------------------] 32.3% 537.3/1662.8MB downloaded"
     ]
    },
    {
     "name": "stderr",
     "output_type": "stream",
     "text": [
      "IOPub message rate exceeded.\n",
      "The Jupyter server will temporarily stop sending output\n",
      "to the client in order to avoid crashing it.\n",
      "To change this limit, set the config variable\n",
      "`--ServerApp.iopub_msg_rate_limit`.\n",
      "\n",
      "Current values:\n",
      "ServerApp.iopub_msg_rate_limit=1000.0 (msgs/sec)\n",
      "ServerApp.rate_limit_window=3.0 (secs)\n",
      "\n"
     ]
    },
    {
     "name": "stdout",
     "output_type": "stream",
     "text": [
      "[=================---------------------------------] 34.9% 580.6/1662.8MB downloaded"
     ]
    },
    {
     "name": "stderr",
     "output_type": "stream",
     "text": [
      "IOPub message rate exceeded.\n",
      "The Jupyter server will temporarily stop sending output\n",
      "to the client in order to avoid crashing it.\n",
      "To change this limit, set the config variable\n",
      "`--ServerApp.iopub_msg_rate_limit`.\n",
      "\n",
      "Current values:\n",
      "ServerApp.iopub_msg_rate_limit=1000.0 (msgs/sec)\n",
      "ServerApp.rate_limit_window=3.0 (secs)\n",
      "\n"
     ]
    },
    {
     "name": "stdout",
     "output_type": "stream",
     "text": [
      "[==================--------------------------------] 37.3% 619.9/1662.8MB downloaded"
     ]
    },
    {
     "name": "stderr",
     "output_type": "stream",
     "text": [
      "IOPub message rate exceeded.\n",
      "The Jupyter server will temporarily stop sending output\n",
      "to the client in order to avoid crashing it.\n",
      "To change this limit, set the config variable\n",
      "`--ServerApp.iopub_msg_rate_limit`.\n",
      "\n",
      "Current values:\n",
      "ServerApp.iopub_msg_rate_limit=1000.0 (msgs/sec)\n",
      "ServerApp.rate_limit_window=3.0 (secs)\n",
      "\n"
     ]
    },
    {
     "name": "stdout",
     "output_type": "stream",
     "text": [
      "[===================-------------------------------] 39.3% 653.4/1662.8MB downloaded"
     ]
    },
    {
     "name": "stderr",
     "output_type": "stream",
     "text": [
      "IOPub message rate exceeded.\n",
      "The Jupyter server will temporarily stop sending output\n",
      "to the client in order to avoid crashing it.\n",
      "To change this limit, set the config variable\n",
      "`--ServerApp.iopub_msg_rate_limit`.\n",
      "\n",
      "Current values:\n",
      "ServerApp.iopub_msg_rate_limit=1000.0 (msgs/sec)\n",
      "ServerApp.rate_limit_window=3.0 (secs)\n",
      "\n"
     ]
    },
    {
     "name": "stdout",
     "output_type": "stream",
     "text": [
      "[=====================-----------------------------] 42.3% 702.8/1662.8MB downloaded"
     ]
    },
    {
     "name": "stderr",
     "output_type": "stream",
     "text": [
      "IOPub message rate exceeded.\n",
      "The Jupyter server will temporarily stop sending output\n",
      "to the client in order to avoid crashing it.\n",
      "To change this limit, set the config variable\n",
      "`--ServerApp.iopub_msg_rate_limit`.\n",
      "\n",
      "Current values:\n",
      "ServerApp.iopub_msg_rate_limit=1000.0 (msgs/sec)\n",
      "ServerApp.rate_limit_window=3.0 (secs)\n",
      "\n"
     ]
    },
    {
     "name": "stdout",
     "output_type": "stream",
     "text": [
      "[======================----------------------------] 44.7% 743.2/1662.8MB downloaded"
     ]
    },
    {
     "name": "stderr",
     "output_type": "stream",
     "text": [
      "IOPub message rate exceeded.\n",
      "The Jupyter server will temporarily stop sending output\n",
      "to the client in order to avoid crashing it.\n",
      "To change this limit, set the config variable\n",
      "`--ServerApp.iopub_msg_rate_limit`.\n",
      "\n",
      "Current values:\n",
      "ServerApp.iopub_msg_rate_limit=1000.0 (msgs/sec)\n",
      "ServerApp.rate_limit_window=3.0 (secs)\n",
      "\n"
     ]
    },
    {
     "name": "stdout",
     "output_type": "stream",
     "text": [
      "[=======================---------------------------] 47.8% 795.2/1662.8MB downloaded"
     ]
    },
    {
     "name": "stderr",
     "output_type": "stream",
     "text": [
      "IOPub message rate exceeded.\n",
      "The Jupyter server will temporarily stop sending output\n",
      "to the client in order to avoid crashing it.\n",
      "To change this limit, set the config variable\n",
      "`--ServerApp.iopub_msg_rate_limit`.\n",
      "\n",
      "Current values:\n",
      "ServerApp.iopub_msg_rate_limit=1000.0 (msgs/sec)\n",
      "ServerApp.rate_limit_window=3.0 (secs)\n",
      "\n"
     ]
    },
    {
     "name": "stdout",
     "output_type": "stream",
     "text": [
      "[========================--------------------------] 50.0% 831.3/1662.8MB downloaded"
     ]
    },
    {
     "name": "stderr",
     "output_type": "stream",
     "text": [
      "IOPub message rate exceeded.\n",
      "The Jupyter server will temporarily stop sending output\n",
      "to the client in order to avoid crashing it.\n",
      "To change this limit, set the config variable\n",
      "`--ServerApp.iopub_msg_rate_limit`.\n",
      "\n",
      "Current values:\n",
      "ServerApp.iopub_msg_rate_limit=1000.0 (msgs/sec)\n",
      "ServerApp.rate_limit_window=3.0 (secs)\n",
      "\n"
     ]
    },
    {
     "name": "stdout",
     "output_type": "stream",
     "text": [
      "[==========================------------------------] 53.0% 881.4/1662.8MB downloaded"
     ]
    },
    {
     "name": "stderr",
     "output_type": "stream",
     "text": [
      "IOPub message rate exceeded.\n",
      "The Jupyter server will temporarily stop sending output\n",
      "to the client in order to avoid crashing it.\n",
      "To change this limit, set the config variable\n",
      "`--ServerApp.iopub_msg_rate_limit`.\n",
      "\n",
      "Current values:\n",
      "ServerApp.iopub_msg_rate_limit=1000.0 (msgs/sec)\n",
      "ServerApp.rate_limit_window=3.0 (secs)\n",
      "\n"
     ]
    },
    {
     "name": "stdout",
     "output_type": "stream",
     "text": [
      "[===========================-----------------------] 55.0% 915.3/1662.8MB downloaded"
     ]
    },
    {
     "name": "stderr",
     "output_type": "stream",
     "text": [
      "IOPub message rate exceeded.\n",
      "The Jupyter server will temporarily stop sending output\n",
      "to the client in order to avoid crashing it.\n",
      "To change this limit, set the config variable\n",
      "`--ServerApp.iopub_msg_rate_limit`.\n",
      "\n",
      "Current values:\n",
      "ServerApp.iopub_msg_rate_limit=1000.0 (msgs/sec)\n",
      "ServerApp.rate_limit_window=3.0 (secs)\n",
      "\n"
     ]
    },
    {
     "name": "stdout",
     "output_type": "stream",
     "text": [
      "[============================----------------------] 58.0% 963.6/1662.8MB downloaded"
     ]
    },
    {
     "name": "stderr",
     "output_type": "stream",
     "text": [
      "IOPub message rate exceeded.\n",
      "The Jupyter server will temporarily stop sending output\n",
      "to the client in order to avoid crashing it.\n",
      "To change this limit, set the config variable\n",
      "`--ServerApp.iopub_msg_rate_limit`.\n",
      "\n",
      "Current values:\n",
      "ServerApp.iopub_msg_rate_limit=1000.0 (msgs/sec)\n",
      "ServerApp.rate_limit_window=3.0 (secs)\n",
      "\n"
     ]
    },
    {
     "name": "stdout",
     "output_type": "stream",
     "text": [
      "[==============================--------------------] 60.7% 1009.7/1662.8MB downloaded"
     ]
    },
    {
     "name": "stderr",
     "output_type": "stream",
     "text": [
      "IOPub message rate exceeded.\n",
      "The Jupyter server will temporarily stop sending output\n",
      "to the client in order to avoid crashing it.\n",
      "To change this limit, set the config variable\n",
      "`--ServerApp.iopub_msg_rate_limit`.\n",
      "\n",
      "Current values:\n",
      "ServerApp.iopub_msg_rate_limit=1000.0 (msgs/sec)\n",
      "ServerApp.rate_limit_window=3.0 (secs)\n",
      "\n"
     ]
    },
    {
     "name": "stdout",
     "output_type": "stream",
     "text": [
      "[===============================-------------------] 62.7% 1043.4/1662.8MB downloaded"
     ]
    },
    {
     "name": "stderr",
     "output_type": "stream",
     "text": [
      "IOPub message rate exceeded.\n",
      "The Jupyter server will temporarily stop sending output\n",
      "to the client in order to avoid crashing it.\n",
      "To change this limit, set the config variable\n",
      "`--ServerApp.iopub_msg_rate_limit`.\n",
      "\n",
      "Current values:\n",
      "ServerApp.iopub_msg_rate_limit=1000.0 (msgs/sec)\n",
      "ServerApp.rate_limit_window=3.0 (secs)\n",
      "\n"
     ]
    },
    {
     "name": "stdout",
     "output_type": "stream",
     "text": [
      "[=================================-----------------] 66.1% 1098.5/1662.8MB downloaded"
     ]
    },
    {
     "name": "stderr",
     "output_type": "stream",
     "text": [
      "IOPub message rate exceeded.\n",
      "The Jupyter server will temporarily stop sending output\n",
      "to the client in order to avoid crashing it.\n",
      "To change this limit, set the config variable\n",
      "`--ServerApp.iopub_msg_rate_limit`.\n",
      "\n",
      "Current values:\n",
      "ServerApp.iopub_msg_rate_limit=1000.0 (msgs/sec)\n",
      "ServerApp.rate_limit_window=3.0 (secs)\n",
      "\n"
     ]
    },
    {
     "name": "stdout",
     "output_type": "stream",
     "text": [
      "[==================================----------------] 68.0% 1131.0/1662.8MB downloaded"
     ]
    },
    {
     "name": "stderr",
     "output_type": "stream",
     "text": [
      "IOPub message rate exceeded.\n",
      "The Jupyter server will temporarily stop sending output\n",
      "to the client in order to avoid crashing it.\n",
      "To change this limit, set the config variable\n",
      "`--ServerApp.iopub_msg_rate_limit`.\n",
      "\n",
      "Current values:\n",
      "ServerApp.iopub_msg_rate_limit=1000.0 (msgs/sec)\n",
      "ServerApp.rate_limit_window=3.0 (secs)\n",
      "\n"
     ]
    },
    {
     "name": "stdout",
     "output_type": "stream",
     "text": [
      "[===================================---------------] 71.3% 1184.8/1662.8MB downloaded"
     ]
    },
    {
     "name": "stderr",
     "output_type": "stream",
     "text": [
      "IOPub message rate exceeded.\n",
      "The Jupyter server will temporarily stop sending output\n",
      "to the client in order to avoid crashing it.\n",
      "To change this limit, set the config variable\n",
      "`--ServerApp.iopub_msg_rate_limit`.\n",
      "\n",
      "Current values:\n",
      "ServerApp.iopub_msg_rate_limit=1000.0 (msgs/sec)\n",
      "ServerApp.rate_limit_window=3.0 (secs)\n",
      "\n"
     ]
    },
    {
     "name": "stdout",
     "output_type": "stream",
     "text": [
      "[====================================--------------] 73.2% 1216.5/1662.8MB downloaded"
     ]
    },
    {
     "name": "stderr",
     "output_type": "stream",
     "text": [
      "IOPub message rate exceeded.\n",
      "The Jupyter server will temporarily stop sending output\n",
      "to the client in order to avoid crashing it.\n",
      "To change this limit, set the config variable\n",
      "`--ServerApp.iopub_msg_rate_limit`.\n",
      "\n",
      "Current values:\n",
      "ServerApp.iopub_msg_rate_limit=1000.0 (msgs/sec)\n",
      "ServerApp.rate_limit_window=3.0 (secs)\n",
      "\n"
     ]
    },
    {
     "name": "stdout",
     "output_type": "stream",
     "text": [
      "[======================================------------] 76.2% 1266.6/1662.8MB downloaded"
     ]
    },
    {
     "name": "stderr",
     "output_type": "stream",
     "text": [
      "IOPub message rate exceeded.\n",
      "The Jupyter server will temporarily stop sending output\n",
      "to the client in order to avoid crashing it.\n",
      "To change this limit, set the config variable\n",
      "`--ServerApp.iopub_msg_rate_limit`.\n",
      "\n",
      "Current values:\n",
      "ServerApp.iopub_msg_rate_limit=1000.0 (msgs/sec)\n",
      "ServerApp.rate_limit_window=3.0 (secs)\n",
      "\n"
     ]
    },
    {
     "name": "stdout",
     "output_type": "stream",
     "text": [
      "[=======================================-----------] 78.2% 1300.4/1662.8MB downloaded"
     ]
    },
    {
     "name": "stderr",
     "output_type": "stream",
     "text": [
      "IOPub message rate exceeded.\n",
      "The Jupyter server will temporarily stop sending output\n",
      "to the client in order to avoid crashing it.\n",
      "To change this limit, set the config variable\n",
      "`--ServerApp.iopub_msg_rate_limit`.\n",
      "\n",
      "Current values:\n",
      "ServerApp.iopub_msg_rate_limit=1000.0 (msgs/sec)\n",
      "ServerApp.rate_limit_window=3.0 (secs)\n",
      "\n"
     ]
    },
    {
     "name": "stdout",
     "output_type": "stream",
     "text": [
      "[========================================----------] 81.8% 1360.3/1662.8MB downloaded"
     ]
    },
    {
     "name": "stderr",
     "output_type": "stream",
     "text": [
      "IOPub message rate exceeded.\n",
      "The Jupyter server will temporarily stop sending output\n",
      "to the client in order to avoid crashing it.\n",
      "To change this limit, set the config variable\n",
      "`--ServerApp.iopub_msg_rate_limit`.\n",
      "\n",
      "Current values:\n",
      "ServerApp.iopub_msg_rate_limit=1000.0 (msgs/sec)\n",
      "ServerApp.rate_limit_window=3.0 (secs)\n",
      "\n"
     ]
    },
    {
     "name": "stdout",
     "output_type": "stream",
     "text": [
      "[==========================================--------] 84.3% 1401.0/1662.8MB downloaded"
     ]
    },
    {
     "name": "stderr",
     "output_type": "stream",
     "text": [
      "IOPub message rate exceeded.\n",
      "The Jupyter server will temporarily stop sending output\n",
      "to the client in order to avoid crashing it.\n",
      "To change this limit, set the config variable\n",
      "`--ServerApp.iopub_msg_rate_limit`.\n",
      "\n",
      "Current values:\n",
      "ServerApp.iopub_msg_rate_limit=1000.0 (msgs/sec)\n",
      "ServerApp.rate_limit_window=3.0 (secs)\n",
      "\n"
     ]
    },
    {
     "name": "stdout",
     "output_type": "stream",
     "text": [
      "[===========================================-------] 86.3% 1434.8/1662.8MB downloaded"
     ]
    },
    {
     "name": "stderr",
     "output_type": "stream",
     "text": [
      "IOPub message rate exceeded.\n",
      "The Jupyter server will temporarily stop sending output\n",
      "to the client in order to avoid crashing it.\n",
      "To change this limit, set the config variable\n",
      "`--ServerApp.iopub_msg_rate_limit`.\n",
      "\n",
      "Current values:\n",
      "ServerApp.iopub_msg_rate_limit=1000.0 (msgs/sec)\n",
      "ServerApp.rate_limit_window=3.0 (secs)\n",
      "\n"
     ]
    },
    {
     "name": "stdout",
     "output_type": "stream",
     "text": [
      "[============================================------] 89.8% 1492.5/1662.8MB downloaded"
     ]
    },
    {
     "name": "stderr",
     "output_type": "stream",
     "text": [
      "IOPub message rate exceeded.\n",
      "The Jupyter server will temporarily stop sending output\n",
      "to the client in order to avoid crashing it.\n",
      "To change this limit, set the config variable\n",
      "`--ServerApp.iopub_msg_rate_limit`.\n",
      "\n",
      "Current values:\n",
      "ServerApp.iopub_msg_rate_limit=1000.0 (msgs/sec)\n",
      "ServerApp.rate_limit_window=3.0 (secs)\n",
      "\n"
     ]
    },
    {
     "name": "stdout",
     "output_type": "stream",
     "text": [
      "[==============================================----] 92.2% 1532.8/1662.8MB downloaded"
     ]
    },
    {
     "name": "stderr",
     "output_type": "stream",
     "text": [
      "IOPub message rate exceeded.\n",
      "The Jupyter server will temporarily stop sending output\n",
      "to the client in order to avoid crashing it.\n",
      "To change this limit, set the config variable\n",
      "`--ServerApp.iopub_msg_rate_limit`.\n",
      "\n",
      "Current values:\n",
      "ServerApp.iopub_msg_rate_limit=1000.0 (msgs/sec)\n",
      "ServerApp.rate_limit_window=3.0 (secs)\n",
      "\n"
     ]
    },
    {
     "name": "stdout",
     "output_type": "stream",
     "text": [
      "[===============================================---] 94.4% 1569.3/1662.8MB downloaded"
     ]
    },
    {
     "name": "stderr",
     "output_type": "stream",
     "text": [
      "IOPub message rate exceeded.\n",
      "The Jupyter server will temporarily stop sending output\n",
      "to the client in order to avoid crashing it.\n",
      "To change this limit, set the config variable\n",
      "`--ServerApp.iopub_msg_rate_limit`.\n",
      "\n",
      "Current values:\n",
      "ServerApp.iopub_msg_rate_limit=1000.0 (msgs/sec)\n",
      "ServerApp.rate_limit_window=3.0 (secs)\n",
      "\n"
     ]
    },
    {
     "name": "stdout",
     "output_type": "stream",
     "text": [
      "[================================================--] 97.8% 1626.2/1662.8MB downloaded"
     ]
    },
    {
     "name": "stderr",
     "output_type": "stream",
     "text": [
      "IOPub message rate exceeded.\n",
      "The Jupyter server will temporarily stop sending output\n",
      "to the client in order to avoid crashing it.\n",
      "To change this limit, set the config variable\n",
      "`--ServerApp.iopub_msg_rate_limit`.\n",
      "\n",
      "Current values:\n",
      "ServerApp.iopub_msg_rate_limit=1000.0 (msgs/sec)\n",
      "ServerApp.rate_limit_window=3.0 (secs)\n",
      "\n"
     ]
    },
    {
     "name": "stdout",
     "output_type": "stream",
     "text": [
      "[==================================================] 100.0% 1662.8/1662.8MB downloaded\n"
     ]
    }
   ],
   "source": [
    "# https://radimrehurek.com/gensim/auto_examples/tutorials/run_word2vec.html\n",
    "# WARNING THIS DOWNLOADS ABOUT 2 GB of data \n",
    "import gensim.downloader as api\n",
    "w2v = api.load('word2vec-google-news-300')"
   ]
  },
  {
   "cell_type": "code",
   "execution_count": 82,
   "id": "e10d9845-c6c2-4c88-a967-de25c8ce4dfd",
   "metadata": {
    "execution": {
     "iopub.execute_input": "2021-08-23T07:07:51.216170Z",
     "iopub.status.busy": "2021-08-23T07:07:51.215978Z",
     "iopub.status.idle": "2021-08-23T07:07:51.221524Z",
     "shell.execute_reply": "2021-08-23T07:07:51.220901Z",
     "shell.execute_reply.started": "2021-08-23T07:07:51.216153Z"
    },
    "tags": []
   },
   "outputs": [
    {
     "data": {
      "text/plain": [
       "<gensim.models.keyedvectors.KeyedVectors at 0x7fb1d4c8fb80>"
      ]
     },
     "execution_count": 82,
     "metadata": {},
     "output_type": "execute_result"
    }
   ],
   "source": [
    "w2v"
   ]
  },
  {
   "cell_type": "code",
   "execution_count": 84,
   "id": "a2f9d31a-66e7-4d42-883f-ac710d3d3d7c",
   "metadata": {
    "execution": {
     "iopub.execute_input": "2021-08-23T07:10:13.143492Z",
     "iopub.status.busy": "2021-08-23T07:10:13.143300Z",
     "iopub.status.idle": "2021-08-23T07:10:13.146629Z",
     "shell.execute_reply": "2021-08-23T07:10:13.145978Z",
     "shell.execute_reply.started": "2021-08-23T07:10:13.143475Z"
    },
    "tags": []
   },
   "outputs": [],
   "source": [
    "#w2v.get_vector('hello')"
   ]
  },
  {
   "cell_type": "code",
   "execution_count": 77,
   "id": "287469be-11d6-470c-a8f3-2918037975c6",
   "metadata": {
    "execution": {
     "iopub.execute_input": "2021-08-23T07:04:51.074792Z",
     "iopub.status.busy": "2021-08-23T07:04:51.074608Z",
     "iopub.status.idle": "2021-08-23T07:05:03.509503Z",
     "shell.execute_reply": "2021-08-23T07:05:03.508727Z",
     "shell.execute_reply.started": "2021-08-23T07:04:51.074776Z"
    },
    "tags": []
   },
   "outputs": [],
   "source": [
    "# saves model for later use without downloading \n",
    "import tempfile\n",
    "\n",
    "with tempfile.NamedTemporaryFile(prefix='gensim-model-', delete=False) as tmp:\n",
    "    temporary_filepath = tmp.name\n",
    "    w2v.save(temporary_filepath)"
   ]
  },
  {
   "cell_type": "code",
   "execution_count": null,
   "id": "c432c858-1575-4023-98b5-14755560d582",
   "metadata": {},
   "outputs": [],
   "source": []
  },
  {
   "cell_type": "code",
   "execution_count": 79,
   "id": "06ce81b5-f945-4abe-98b4-1acc01cb9446",
   "metadata": {
    "execution": {
     "iopub.execute_input": "2021-08-23T07:06:13.813563Z",
     "iopub.status.busy": "2021-08-23T07:06:13.813384Z",
     "iopub.status.idle": "2021-08-23T07:06:13.817069Z",
     "shell.execute_reply": "2021-08-23T07:06:13.816143Z",
     "shell.execute_reply.started": "2021-08-23T07:06:13.813546Z"
    }
   },
   "outputs": [],
   "source": [
    "import gensim.models\n"
   ]
  },
  {
   "cell_type": "code",
   "execution_count": 81,
   "id": "504b1c5f-ac65-400f-90e0-d23afb8916f8",
   "metadata": {
    "execution": {
     "iopub.execute_input": "2021-08-23T07:06:56.792922Z",
     "iopub.status.busy": "2021-08-23T07:06:56.792711Z",
     "iopub.status.idle": "2021-08-23T07:06:56.796530Z",
     "shell.execute_reply": "2021-08-23T07:06:56.795841Z",
     "shell.execute_reply.started": "2021-08-23T07:06:56.792904Z"
    },
    "tags": []
   },
   "outputs": [],
   "source": [
    "# # to load model again without downloading  \n",
    "#new_model = gensim.models.Word2Vec.load(temporary_filepath)"
   ]
  },
  {
   "cell_type": "markdown",
   "id": "609360b0-35d3-4d90-b2ef-dccee122d12a",
   "metadata": {},
   "source": [
    "Not sure how to use word2vec for modeling "
   ]
  },
  {
   "cell_type": "markdown",
   "id": "e1e562b6-2744-40f4-bec1-3f65590da84a",
   "metadata": {},
   "source": [
    "# Keras Model  "
   ]
  },
  {
   "cell_type": "code",
   "execution_count": null,
   "id": "24a74a30-7627-4d33-a85a-8ccc39bf1432",
   "metadata": {},
   "outputs": [],
   "source": []
  }
 ],
 "metadata": {
  "kernelspec": {
   "display_name": "Python 3",
   "language": "python",
   "name": "python3"
  },
  "language_info": {
   "codemirror_mode": {
    "name": "ipython",
    "version": 3
   },
   "file_extension": ".py",
   "mimetype": "text/x-python",
   "name": "python",
   "nbconvert_exporter": "python",
   "pygments_lexer": "ipython3",
   "version": "3.8.8"
  }
 },
 "nbformat": 4,
 "nbformat_minor": 5
}
