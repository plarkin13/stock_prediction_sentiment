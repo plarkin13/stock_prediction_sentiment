{
 "cells": [
  {
   "cell_type": "markdown",
   "id": "3f2804a8-be8c-4849-8804-1d4b1f42fe4a",
   "metadata": {},
   "source": [
    "# Single Pull "
   ]
  },
  {
   "cell_type": "code",
   "execution_count": 1,
   "id": "5a9b9edf",
   "metadata": {
    "execution": {
     "iopub.execute_input": "2021-08-15T18:30:18.431527Z",
     "iopub.status.busy": "2021-08-15T18:30:18.431332Z",
     "iopub.status.idle": "2021-08-15T18:30:18.638997Z",
     "shell.execute_reply": "2021-08-15T18:30:18.638329Z",
     "shell.execute_reply.started": "2021-08-15T18:30:18.431476Z"
    }
   },
   "outputs": [],
   "source": [
    "#imports\n",
    "import pandas as pd \n",
    "import numpy as np \n",
    "import requests \n",
    "import datetime as dt \n",
    "import time\n",
    "\n"
   ]
  },
  {
   "cell_type": "code",
   "execution_count": null,
   "id": "ef262e5a-26c9-4060-8284-3d7cd3b94922",
   "metadata": {},
   "outputs": [],
   "source": []
  },
  {
   "cell_type": "code",
   "execution_count": 2,
   "id": "8ac7d44b-dff3-43fa-9a80-e3bb1369a3db",
   "metadata": {
    "execution": {
     "iopub.execute_input": "2021-08-15T18:30:27.942976Z",
     "iopub.status.busy": "2021-08-15T18:30:27.942800Z",
     "iopub.status.idle": "2021-08-15T18:30:27.946482Z",
     "shell.execute_reply": "2021-08-15T18:30:27.945741Z",
     "shell.execute_reply.started": "2021-08-15T18:30:27.942960Z"
    }
   },
   "outputs": [],
   "source": [
    "#set options so entire dataframe is viewable\n",
    "pd.options.display.max_columns = 10000\n",
    "pd.options.display.max_rows = 10000"
   ]
  },
  {
   "cell_type": "code",
   "execution_count": 3,
   "id": "956bc8ed-d985-4008-acd6-d179d691015f",
   "metadata": {
    "execution": {
     "iopub.execute_input": "2021-08-15T18:31:41.150376Z",
     "iopub.status.busy": "2021-08-15T18:31:41.150195Z",
     "iopub.status.idle": "2021-08-15T18:31:41.153502Z",
     "shell.execute_reply": "2021-08-15T18:31:41.152911Z",
     "shell.execute_reply.started": "2021-08-15T18:31:41.150360Z"
    }
   },
   "outputs": [],
   "source": [
    "#define base url to add parameters to for searching \n",
    "base_url = 'https://api.nytimes.com/svc/search/v2/articlesearch.json?'"
   ]
  },
  {
   "cell_type": "code",
   "execution_count": 4,
   "id": "d57a9b09-62bf-40e2-a618-f3770ccd126d",
   "metadata": {
    "execution": {
     "iopub.execute_input": "2021-08-15T18:34:03.293372Z",
     "iopub.status.busy": "2021-08-15T18:34:03.293186Z",
     "iopub.status.idle": "2021-08-15T18:34:03.296866Z",
     "shell.execute_reply": "2021-08-15T18:34:03.296190Z",
     "shell.execute_reply.started": "2021-08-15T18:34:03.293356Z"
    },
    "tags": []
   },
   "outputs": [],
   "source": [
    "# make dictionary of params for searching field-name:(\"value\")\n",
    "params = {}"
   ]
  },
  {
   "cell_type": "code",
   "execution_count": null,
   "id": "3c10aa0f-d6fe-43f4-abab-c2c0c623b1d8",
   "metadata": {},
   "outputs": [],
   "source": [
    "# combine base and params for final url for call "
   ]
  },
  {
   "cell_type": "code",
   "execution_count": null,
   "id": "e0481e0e-971f-42e7-8a8b-a034b963660b",
   "metadata": {},
   "outputs": [],
   "source": [
    "# GET request \n",
    "req = requests.get# add url "
   ]
  },
  {
   "cell_type": "code",
   "execution_count": null,
   "id": "0b78c2e5-71cf-4ae9-acff-da1e3152efa9",
   "metadata": {},
   "outputs": [],
   "source": [
    "# confim request successful \n",
    "req.status_code\n"
   ]
  },
  {
   "cell_type": "code",
   "execution_count": null,
   "id": "cfb175d1-9d7e-45b8-8a97-1dc682fd5e93",
   "metadata": {},
   "outputs": [],
   "source": [
    "# save json data\n",
    "data = req.json()"
   ]
  },
  {
   "cell_type": "code",
   "execution_count": null,
   "id": "00f37c53-f3c2-4aca-81a0-ad9c2aa22f58",
   "metadata": {},
   "outputs": [],
   "source": [
    "# check it outttttttt "
   ]
  }
 ],
 "metadata": {
  "kernelspec": {
   "display_name": "Python 3",
   "language": "python",
   "name": "python3"
  },
  "language_info": {
   "codemirror_mode": {
    "name": "ipython",
    "version": 3
   },
   "file_extension": ".py",
   "mimetype": "text/x-python",
   "name": "python",
   "nbconvert_exporter": "python",
   "pygments_lexer": "ipython3",
   "version": "3.8.8"
  }
 },
 "nbformat": 4,
 "nbformat_minor": 5
}
