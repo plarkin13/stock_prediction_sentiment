{
 "cells": [
  {
   "cell_type": "markdown",
   "id": "ee93feb8-abd2-41ee-8a4e-1bcaa375f6c4",
   "metadata": {},
   "source": [
    "# Imports "
   ]
  },
  {
   "cell_type": "code",
   "execution_count": 202,
   "id": "727e12da-d518-4a51-a5b1-3870f91ae18a",
   "metadata": {
    "execution": {
     "iopub.execute_input": "2021-08-27T02:50:52.476335Z",
     "iopub.status.busy": "2021-08-27T02:50:52.476145Z",
     "iopub.status.idle": "2021-08-27T02:50:52.482198Z",
     "shell.execute_reply": "2021-08-27T02:50:52.481437Z",
     "shell.execute_reply.started": "2021-08-27T02:50:52.476317Z"
    },
    "tags": []
   },
   "outputs": [],
   "source": [
    "import pandas as pd \n",
    "import numpy as np\n",
    "import matplotlib.pyplot as plt \n",
    "import seaborn as sns \n",
    "import datetime \n",
    "from sklearn.model_selection import train_test_split\n",
    "\n",
    "# Import the autocorrelation function (ACF) plot.\n",
    "from statsmodels.graphics.tsaplots import plot_acf,plot_pacf\n",
    "import statsmodels.api as sm\n",
    "\n",
    "# We are required to do this in order to avoid \"FutureWarning\" issues.\n",
    "from pandas.plotting import register_matplotlib_converters\n",
    "register_matplotlib_converters()\n",
    "\n",
    "from skopt import BayesSearchCV\n",
    "from skopt.space import Real, Categorical, Integer\n",
    "from tensorflow.keras.wrappers.scikit_learn import KerasRegressor\n",
    "\n",
    "from tensorflow.keras.layers import LSTM\n",
    "\n",
    "from tensorflow.keras.layers import Dense, Dropout, GRU\n",
    "from tensorflow.keras.preprocessing.sequence import TimeseriesGenerator\n",
    "\n",
    "from tensorflow.keras.models import Sequential\n",
    "from tensorflow.keras.layers import Dense\n",
    "from tensorflow.keras.utils import to_categorical\n",
    "\n",
    "from sklearn.svm import SVR\n",
    "\n",
    "\n",
    "from sklearn.preprocessing import StandardScaler\n",
    "\n",
    "from statsmodels.tsa.arima.model import ARIMA"
   ]
  },
  {
   "cell_type": "code",
   "execution_count": 6,
   "id": "a0b5823f-9823-4fd5-8e80-592348e7548b",
   "metadata": {
    "execution": {
     "iopub.execute_input": "2021-08-26T15:27:25.012951Z",
     "iopub.status.busy": "2021-08-26T15:27:25.012738Z",
     "iopub.status.idle": "2021-08-26T15:27:25.019424Z",
     "shell.execute_reply": "2021-08-26T15:27:25.018820Z",
     "shell.execute_reply.started": "2021-08-26T15:27:25.012934Z"
    },
    "tags": []
   },
   "outputs": [],
   "source": [
    "data = pd.read_pickle('clean_daily_oc.pkl')"
   ]
  },
  {
   "cell_type": "code",
   "execution_count": 7,
   "id": "58e1a1d1-225e-481b-b59c-6ab704c705b9",
   "metadata": {
    "execution": {
     "iopub.execute_input": "2021-08-26T15:27:25.501981Z",
     "iopub.status.busy": "2021-08-26T15:27:25.501790Z",
     "iopub.status.idle": "2021-08-26T15:27:25.506465Z",
     "shell.execute_reply": "2021-08-26T15:27:25.505745Z",
     "shell.execute_reply.started": "2021-08-26T15:27:25.501964Z"
    },
    "tags": []
   },
   "outputs": [
    {
     "data": {
      "text/plain": [
       "(3651, 14)"
      ]
     },
     "execution_count": 7,
     "metadata": {},
     "output_type": "execute_result"
    }
   ],
   "source": [
    "data.shape"
   ]
  },
  {
   "cell_type": "code",
   "execution_count": 8,
   "id": "38cf30f7-05e6-4533-906e-7c0d4667c9ad",
   "metadata": {
    "execution": {
     "iopub.execute_input": "2021-08-26T15:27:25.828870Z",
     "iopub.status.busy": "2021-08-26T15:27:25.828652Z",
     "iopub.status.idle": "2021-08-26T15:27:25.840097Z",
     "shell.execute_reply": "2021-08-26T15:27:25.839215Z",
     "shell.execute_reply.started": "2021-08-26T15:27:25.828851Z"
    },
    "tags": []
   },
   "outputs": [
    {
     "name": "stdout",
     "output_type": "stream",
     "text": [
      "<class 'pandas.core.frame.DataFrame'>\n",
      "Index: 3651 entries, 2011-07-31 to 2021-08-17\n",
      "Data columns (total 14 columns):\n",
      " #   Column          Non-Null Count  Dtype  \n",
      "---  ------          --------------  -----  \n",
      " 0   day_of_week_1   3651 non-null   uint8  \n",
      " 1   day_of_week_2   3651 non-null   uint8  \n",
      " 2   day_of_week_3   3651 non-null   uint8  \n",
      " 3   day_of_week_4   3651 non-null   uint8  \n",
      " 4   day_of_week_5   3651 non-null   uint8  \n",
      " 5   day_of_week_6   3651 non-null   uint8  \n",
      " 6   is_holiday_1    3651 non-null   uint8  \n",
      " 7   Open_pct        3651 non-null   float64\n",
      " 8   Close_pct       3651 non-null   float64\n",
      " 9   Volume_diff     3651 non-null   float64\n",
      " 10  Open_pct_l1     3651 non-null   float64\n",
      " 11  Close_pct_l1    3651 non-null   float64\n",
      " 12  Volume_diff_l1  3651 non-null   float64\n",
      " 13  direction       3651 non-null   object \n",
      "dtypes: float64(6), object(1), uint8(7)\n",
      "memory usage: 253.1+ KB\n"
     ]
    }
   ],
   "source": [
    "data.info()"
   ]
  },
  {
   "cell_type": "code",
   "execution_count": 322,
   "id": "e84f05c7-bb74-4b72-aa8a-41b940e91e9a",
   "metadata": {
    "execution": {
     "iopub.execute_input": "2021-08-27T12:34:57.794095Z",
     "iopub.status.busy": "2021-08-27T12:34:57.793902Z",
     "iopub.status.idle": "2021-08-27T12:34:57.799497Z",
     "shell.execute_reply": "2021-08-27T12:34:57.798752Z",
     "shell.execute_reply.started": "2021-08-27T12:34:57.794077Z"
    },
    "tags": []
   },
   "outputs": [],
   "source": [
    "# define X and y \n",
    "X= data.drop(columns=['Open_pct','Close_pct','Volume_diff','direction'])\n",
    "y= data['Open_pct']"
   ]
  },
  {
   "cell_type": "code",
   "execution_count": 323,
   "id": "3cb14f25-0b36-4d2d-9d69-9bf6b5ab577d",
   "metadata": {
    "execution": {
     "iopub.execute_input": "2021-08-27T12:34:58.399536Z",
     "iopub.status.busy": "2021-08-27T12:34:58.399298Z",
     "iopub.status.idle": "2021-08-27T12:34:58.403526Z",
     "shell.execute_reply": "2021-08-27T12:34:58.402587Z",
     "shell.execute_reply.started": "2021-08-27T12:34:58.399515Z"
    },
    "tags": []
   },
   "outputs": [],
   "source": [
    "# X.index = pd.DatetimeIndex(X.index).to_period('D')\n"
   ]
  },
  {
   "cell_type": "code",
   "execution_count": 324,
   "id": "f3a9757e-4d90-4e2f-aec4-b24415a11dc8",
   "metadata": {
    "execution": {
     "iopub.execute_input": "2021-08-27T12:34:58.853491Z",
     "iopub.status.busy": "2021-08-27T12:34:58.853277Z",
     "iopub.status.idle": "2021-08-27T12:34:58.860400Z",
     "shell.execute_reply": "2021-08-27T12:34:58.859715Z",
     "shell.execute_reply.started": "2021-08-27T12:34:58.853472Z"
    },
    "tags": []
   },
   "outputs": [],
   "source": [
    "# test train split \n",
    "X_train,X_test,y_train,y_test= train_test_split(X,y,test_size=0.2,shuffle=False)"
   ]
  },
  {
   "cell_type": "code",
   "execution_count": 325,
   "id": "57569413-22e3-4dfa-9b8a-a353b4713b64",
   "metadata": {
    "execution": {
     "iopub.execute_input": "2021-08-27T12:35:12.596962Z",
     "iopub.status.busy": "2021-08-27T12:35:12.596764Z",
     "iopub.status.idle": "2021-08-27T12:35:12.607065Z",
     "shell.execute_reply": "2021-08-27T12:35:12.606264Z",
     "shell.execute_reply.started": "2021-08-27T12:35:12.596945Z"
    },
    "tags": []
   },
   "outputs": [],
   "source": [
    "# Scale data \n",
    "scaler = StandardScaler()\n",
    "Xs_train = scaler.fit_transform(X_train)\n",
    "Xs_test = scaler.transform(X_test)"
   ]
  },
  {
   "cell_type": "code",
   "execution_count": 326,
   "id": "0d285e14-2327-43dd-b45f-16ac02e30314",
   "metadata": {
    "execution": {
     "iopub.execute_input": "2021-08-27T12:35:13.407671Z",
     "iopub.status.busy": "2021-08-27T12:35:13.407431Z",
     "iopub.status.idle": "2021-08-27T12:35:13.412748Z",
     "shell.execute_reply": "2021-08-27T12:35:13.412062Z",
     "shell.execute_reply.started": "2021-08-27T12:35:13.407653Z"
    },
    "tags": []
   },
   "outputs": [
    {
     "data": {
      "text/plain": [
       "((2920, 10), (731, 10))"
      ]
     },
     "execution_count": 326,
     "metadata": {},
     "output_type": "execute_result"
    }
   ],
   "source": [
    "# check sizes of train and test sets \n",
    "Xs_train.shape,Xs_test.shape"
   ]
  },
  {
   "cell_type": "markdown",
   "id": "82f781bc-5f32-49f4-b530-e771056f80dd",
   "metadata": {},
   "source": [
    "# Linear Regression \n"
   ]
  },
  {
   "cell_type": "code",
   "execution_count": 18,
   "id": "c38d76ab-2eab-40b2-b25f-9acf44286d79",
   "metadata": {
    "execution": {
     "iopub.execute_input": "2021-08-26T22:07:02.598872Z",
     "iopub.status.busy": "2021-08-26T22:07:02.598657Z",
     "iopub.status.idle": "2021-08-26T22:07:02.602505Z",
     "shell.execute_reply": "2021-08-26T22:07:02.601879Z",
     "shell.execute_reply.started": "2021-08-26T22:07:02.598853Z"
    }
   },
   "outputs": [],
   "source": [
    "from sklearn.linear_model import LinearRegression\n",
    "from sklearn.metrics import mean_squared_error"
   ]
  },
  {
   "cell_type": "code",
   "execution_count": 19,
   "id": "fa3ec2d0-4868-495b-afe9-91bcf10da588",
   "metadata": {
    "execution": {
     "iopub.execute_input": "2021-08-26T22:07:44.247222Z",
     "iopub.status.busy": "2021-08-26T22:07:44.247029Z",
     "iopub.status.idle": "2021-08-26T22:07:44.253424Z",
     "shell.execute_reply": "2021-08-26T22:07:44.252702Z",
     "shell.execute_reply.started": "2021-08-26T22:07:44.247204Z"
    }
   },
   "outputs": [],
   "source": [
    "# Instantiate and fit linreg model \n",
    "linreg = LinearRegression().fit(Xs_train,y_train)"
   ]
  },
  {
   "cell_type": "code",
   "execution_count": 175,
   "id": "da1fbc84-a760-4392-8038-6805512765f6",
   "metadata": {
    "execution": {
     "iopub.execute_input": "2021-08-27T00:31:24.912309Z",
     "iopub.status.busy": "2021-08-27T00:31:24.912096Z",
     "iopub.status.idle": "2021-08-27T00:31:24.917149Z",
     "shell.execute_reply": "2021-08-27T00:31:24.916181Z",
     "shell.execute_reply.started": "2021-08-27T00:31:24.912291Z"
    },
    "tags": []
   },
   "outputs": [],
   "source": [
    "def get_metrics(model,X_train=Xs_train,X_test=Xs_test):\n",
    "    'MSE on unscaled data'\n",
    "    # get predictions \n",
    "    train_preds= model.predict(X_train)\n",
    "    test_preds= model.predict(X_test)\n",
    "    # invert back to original scale \n",
    "    #inv_train_preds = ss.inverse_transform(train_preds)\n",
    "    #inv_test_preds = ss.inverse_transform(test_preds)\n",
    "    # calculate MSE \n",
    "    train_mse = mean_squared_error(y_train,train_preds)\n",
    "    test_mse= mean_squared_error(y_test,test_preds)\n",
    "    \n",
    "    print(f'Training MSE: {train_mse}')\n",
    "    print(f'Testing MSE: {test_mse}')\n",
    "    print(f'Test - Train(overage): {(test_mse)-(train_mse)}')\n",
    "    return "
   ]
  },
  {
   "cell_type": "markdown",
   "id": "ee911a14-cc57-454e-a59f-63569432b737",
   "metadata": {
    "execution": {
     "iopub.execute_input": "2021-08-26T22:21:47.876861Z",
     "iopub.status.busy": "2021-08-26T22:21:47.876658Z",
     "iopub.status.idle": "2021-08-26T22:21:47.882105Z",
     "shell.execute_reply": "2021-08-26T22:21:47.881442Z",
     "shell.execute_reply.started": "2021-08-26T22:21:47.876843Z"
    },
    "tags": []
   },
   "source": [
    "def get_metrics(model):\n",
    "    # get predictions \n",
    "    train_preds= model.predict(Xs_train)\n",
    "    test_preds= model.predict(Xs_test)\n",
    "    # invert back to original scale \n",
    "    inv_train_preds = ss.inverse_transform(train_preds)\n",
    "    inv_test_preds = ss.inverse_transform(test_preds)\n",
    "    # calculate MSE \n",
    "    train_mse = mean_squared_error(y_train,inv_train_preds)\n",
    "    test_mse= mean_squared_error(y_test,inv_test_preds)\n",
    "    \n",
    "    print(f'Training MSE: {train_mse}')\n",
    "    print(f'Testing MSE: {test_mse}')\n",
    "    print(f'Test - Train(overage): {(test_mse)-(train_mse)}')\n",
    "    return "
   ]
  },
  {
   "cell_type": "code",
   "execution_count": 45,
   "id": "67d74a4e-5311-4dcc-8aa8-d4573fb1a276",
   "metadata": {
    "execution": {
     "iopub.execute_input": "2021-08-26T22:33:44.500178Z",
     "iopub.status.busy": "2021-08-26T22:33:44.499954Z",
     "iopub.status.idle": "2021-08-26T22:33:44.507550Z",
     "shell.execute_reply": "2021-08-26T22:33:44.506826Z",
     "shell.execute_reply.started": "2021-08-26T22:33:44.500158Z"
    },
    "tags": []
   },
   "outputs": [
    {
     "name": "stdout",
     "output_type": "stream",
     "text": [
      "Training MSE: 6.340143414696441e-06\n",
      "Testing MSE: 8.130747996531363e-05\n",
      "Test - Train(overage): 7.496733655061718e-05\n"
     ]
    }
   ],
   "source": [
    "get_metrics(linreg)"
   ]
  },
  {
   "cell_type": "markdown",
   "id": "fe7a2bae-3deb-4989-8ded-e70810db5b7d",
   "metadata": {},
   "source": [
    "#  Decision Tree "
   ]
  },
  {
   "cell_type": "code",
   "execution_count": 46,
   "id": "7cc9525a-11b5-4e9a-bac8-2380d10851bb",
   "metadata": {
    "execution": {
     "iopub.execute_input": "2021-08-26T22:36:57.108038Z",
     "iopub.status.busy": "2021-08-26T22:36:57.107797Z",
     "iopub.status.idle": "2021-08-26T22:36:57.112091Z",
     "shell.execute_reply": "2021-08-26T22:36:57.111432Z",
     "shell.execute_reply.started": "2021-08-26T22:36:57.108019Z"
    }
   },
   "outputs": [],
   "source": [
    "from sklearn.tree import DecisionTreeRegressor"
   ]
  },
  {
   "cell_type": "code",
   "execution_count": 47,
   "id": "d6ececf6-5dde-4bd6-ba16-c48897a3831d",
   "metadata": {
    "execution": {
     "iopub.execute_input": "2021-08-26T22:37:44.836258Z",
     "iopub.status.busy": "2021-08-26T22:37:44.836063Z",
     "iopub.status.idle": "2021-08-26T22:37:44.850286Z",
     "shell.execute_reply": "2021-08-26T22:37:44.849465Z",
     "shell.execute_reply.started": "2021-08-26T22:37:44.836240Z"
    }
   },
   "outputs": [],
   "source": [
    "# instantiate and fit model \n",
    "dt= DecisionTreeRegressor(random_state=42,).fit(Xs_train,y_train)"
   ]
  },
  {
   "cell_type": "code",
   "execution_count": 48,
   "id": "4d828f05-3fdc-4fce-bee4-b188b95fa206",
   "metadata": {
    "execution": {
     "iopub.execute_input": "2021-08-26T22:37:53.771783Z",
     "iopub.status.busy": "2021-08-26T22:37:53.771593Z",
     "iopub.status.idle": "2021-08-26T22:37:53.777950Z",
     "shell.execute_reply": "2021-08-26T22:37:53.777319Z",
     "shell.execute_reply.started": "2021-08-26T22:37:53.771766Z"
    }
   },
   "outputs": [
    {
     "name": "stdout",
     "output_type": "stream",
     "text": [
      "Training MSE: 9.091757867318713e-07\n",
      "Testing MSE: 8.055994576502805e-05\n",
      "Test - Train(overage): 7.965076997829618e-05\n"
     ]
    }
   ],
   "source": [
    "get_metrics(dt)"
   ]
  },
  {
   "cell_type": "code",
   "execution_count": 49,
   "id": "be5fa2df-b556-4dae-8fd2-82d2ed6fdafb",
   "metadata": {
    "execution": {
     "iopub.execute_input": "2021-08-26T22:38:52.748590Z",
     "iopub.status.busy": "2021-08-26T22:38:52.748395Z",
     "iopub.status.idle": "2021-08-26T22:38:52.751859Z",
     "shell.execute_reply": "2021-08-26T22:38:52.751320Z",
     "shell.execute_reply.started": "2021-08-26T22:38:52.748572Z"
    }
   },
   "outputs": [],
   "source": [
    "# https://scikit-learn.org/stable/modules/generated/sklearn.tree.DecisionTreeRegressor.html"
   ]
  },
  {
   "cell_type": "markdown",
   "id": "76be2766-8128-4fcc-83e0-97945bff051f",
   "metadata": {},
   "source": [
    "# Bagging Regressor  "
   ]
  },
  {
   "cell_type": "code",
   "execution_count": 50,
   "id": "cf33b4e5-ff95-4bb3-b43a-35f9c0689d62",
   "metadata": {
    "execution": {
     "iopub.execute_input": "2021-08-26T22:41:30.676399Z",
     "iopub.status.busy": "2021-08-26T22:41:30.676207Z",
     "iopub.status.idle": "2021-08-26T22:41:30.680380Z",
     "shell.execute_reply": "2021-08-26T22:41:30.679667Z",
     "shell.execute_reply.started": "2021-08-26T22:41:30.676381Z"
    }
   },
   "outputs": [],
   "source": [
    "from sklearn.ensemble import BaggingRegressor"
   ]
  },
  {
   "cell_type": "code",
   "execution_count": 51,
   "id": "779ca35b-5cce-42e7-a70d-f33fa7d82a8b",
   "metadata": {
    "execution": {
     "iopub.execute_input": "2021-08-26T22:42:10.435603Z",
     "iopub.status.busy": "2021-08-26T22:42:10.435407Z",
     "iopub.status.idle": "2021-08-26T22:42:10.504366Z",
     "shell.execute_reply": "2021-08-26T22:42:10.503549Z",
     "shell.execute_reply.started": "2021-08-26T22:42:10.435585Z"
    }
   },
   "outputs": [],
   "source": [
    "# instantiate and fit model \n",
    "bagreg = BaggingRegressor(bootstrap_features=True,random_state=42).fit(Xs_train,y_train)\n"
   ]
  },
  {
   "cell_type": "code",
   "execution_count": 52,
   "id": "ae7adc23-0178-46ad-8742-2754ce7f76a0",
   "metadata": {
    "execution": {
     "iopub.execute_input": "2021-08-26T22:42:16.069277Z",
     "iopub.status.busy": "2021-08-26T22:42:16.069073Z",
     "iopub.status.idle": "2021-08-26T22:42:16.080335Z",
     "shell.execute_reply": "2021-08-26T22:42:16.079662Z",
     "shell.execute_reply.started": "2021-08-26T22:42:16.069260Z"
    }
   },
   "outputs": [
    {
     "name": "stdout",
     "output_type": "stream",
     "text": [
      "Training MSE: 5.091393063401981e-06\n",
      "Testing MSE: 6.52462619564124e-05\n",
      "Test - Train(overage): 6.0154868893010426e-05\n"
     ]
    }
   ],
   "source": [
    "get_metrics(bagreg)"
   ]
  },
  {
   "cell_type": "code",
   "execution_count": 53,
   "id": "1fb0028c-03ad-4e43-b886-155e4762544f",
   "metadata": {
    "execution": {
     "iopub.execute_input": "2021-08-26T22:42:26.939969Z",
     "iopub.status.busy": "2021-08-26T22:42:26.939782Z",
     "iopub.status.idle": "2021-08-26T22:42:26.944022Z",
     "shell.execute_reply": "2021-08-26T22:42:26.943291Z",
     "shell.execute_reply.started": "2021-08-26T22:42:26.939951Z"
    }
   },
   "outputs": [],
   "source": [
    "# https://scikit-learn.org/stable/modules/generated/sklearn.ensemble.BaggingRegressor.html"
   ]
  },
  {
   "cell_type": "markdown",
   "id": "872a7b5e-ba16-42c8-b817-a81d3b7ebcdc",
   "metadata": {},
   "source": [
    "# Random Forest Regressor"
   ]
  },
  {
   "cell_type": "code",
   "execution_count": 54,
   "id": "a9d04481-0982-44ae-9b8e-aba707e7f9a5",
   "metadata": {
    "execution": {
     "iopub.execute_input": "2021-08-26T22:43:18.892679Z",
     "iopub.status.busy": "2021-08-26T22:43:18.892481Z",
     "iopub.status.idle": "2021-08-26T22:43:18.896086Z",
     "shell.execute_reply": "2021-08-26T22:43:18.895391Z",
     "shell.execute_reply.started": "2021-08-26T22:43:18.892661Z"
    }
   },
   "outputs": [],
   "source": [
    "from sklearn.ensemble import RandomForestRegressor"
   ]
  },
  {
   "cell_type": "code",
   "execution_count": 55,
   "id": "563a71c4-05f2-482c-af42-13e76568f76c",
   "metadata": {
    "execution": {
     "iopub.execute_input": "2021-08-26T22:43:54.228171Z",
     "iopub.status.busy": "2021-08-26T22:43:54.227965Z",
     "iopub.status.idle": "2021-08-26T22:43:54.796696Z",
     "shell.execute_reply": "2021-08-26T22:43:54.795887Z",
     "shell.execute_reply.started": "2021-08-26T22:43:54.228153Z"
    }
   },
   "outputs": [],
   "source": [
    "# instantiate and fit model \n",
    "randfor = RandomForestRegressor(random_state=42).fit(Xs_train,y_train)\n",
    "\n"
   ]
  },
  {
   "cell_type": "code",
   "execution_count": 56,
   "id": "7717ec9e-e8fd-4f4f-88a9-8566b6074e80",
   "metadata": {
    "execution": {
     "iopub.execute_input": "2021-08-26T22:44:05.558538Z",
     "iopub.status.busy": "2021-08-26T22:44:05.558343Z",
     "iopub.status.idle": "2021-08-26T22:44:05.612684Z",
     "shell.execute_reply": "2021-08-26T22:44:05.611866Z",
     "shell.execute_reply.started": "2021-08-26T22:44:05.558520Z"
    }
   },
   "outputs": [
    {
     "name": "stdout",
     "output_type": "stream",
     "text": [
      "Training MSE: 1.7713238591330902e-06\n",
      "Testing MSE: 6.725446609322385e-05\n",
      "Test - Train(overage): 6.548314223409075e-05\n"
     ]
    }
   ],
   "source": [
    "# get metrics \n",
    "get_metrics(randfor)"
   ]
  },
  {
   "cell_type": "code",
   "execution_count": 57,
   "id": "459e309a-a175-47c9-9638-cb82b1e07c6d",
   "metadata": {
    "execution": {
     "iopub.execute_input": "2021-08-26T22:44:19.228348Z",
     "iopub.status.busy": "2021-08-26T22:44:19.228157Z",
     "iopub.status.idle": "2021-08-26T22:44:19.231987Z",
     "shell.execute_reply": "2021-08-26T22:44:19.231078Z",
     "shell.execute_reply.started": "2021-08-26T22:44:19.228331Z"
    }
   },
   "outputs": [],
   "source": [
    "# https://scikit-learn.org/stable/modules/generated/sklearn.ensemble.RandomForestRegressor.html"
   ]
  },
  {
   "cell_type": "markdown",
   "id": "c1cd0b17-4758-41be-99e4-0bcd140d7945",
   "metadata": {},
   "source": [
    "# GradientBoostingRegressor"
   ]
  },
  {
   "cell_type": "code",
   "execution_count": 58,
   "id": "fd43a723-ee7b-436e-ab23-fd0601c5cfa6",
   "metadata": {
    "execution": {
     "iopub.execute_input": "2021-08-26T22:44:59.109718Z",
     "iopub.status.busy": "2021-08-26T22:44:59.109496Z",
     "iopub.status.idle": "2021-08-26T22:44:59.113264Z",
     "shell.execute_reply": "2021-08-26T22:44:59.112433Z",
     "shell.execute_reply.started": "2021-08-26T22:44:59.109699Z"
    }
   },
   "outputs": [],
   "source": [
    "from sklearn.ensemble import GradientBoostingRegressor"
   ]
  },
  {
   "cell_type": "code",
   "execution_count": 59,
   "id": "73349a43-079e-497e-b838-845ac5740b4a",
   "metadata": {
    "execution": {
     "iopub.execute_input": "2021-08-26T22:45:56.190844Z",
     "iopub.status.busy": "2021-08-26T22:45:56.190649Z",
     "iopub.status.idle": "2021-08-26T22:45:56.404244Z",
     "shell.execute_reply": "2021-08-26T22:45:56.403484Z",
     "shell.execute_reply.started": "2021-08-26T22:45:56.190826Z"
    }
   },
   "outputs": [],
   "source": [
    "# instantiate and fit model \n",
    "gbr = GradientBoostingRegressor(random_state=42,).fit(Xs_train,y_train)"
   ]
  },
  {
   "cell_type": "code",
   "execution_count": 61,
   "id": "9fcf2d26-e491-4001-a572-fb4c37417f98",
   "metadata": {
    "execution": {
     "iopub.execute_input": "2021-08-26T22:46:08.287850Z",
     "iopub.status.busy": "2021-08-26T22:46:08.287649Z",
     "iopub.status.idle": "2021-08-26T22:46:08.297269Z",
     "shell.execute_reply": "2021-08-26T22:46:08.296444Z",
     "shell.execute_reply.started": "2021-08-26T22:46:08.287833Z"
    },
    "tags": []
   },
   "outputs": [
    {
     "name": "stdout",
     "output_type": "stream",
     "text": [
      "Training MSE: 4.40874471535815e-06\n",
      "Testing MSE: 6.299270715832176e-05\n",
      "Test - Train(overage): 5.8583962442963614e-05\n"
     ]
    }
   ],
   "source": [
    "get_metrics(gbr)"
   ]
  },
  {
   "cell_type": "code",
   "execution_count": 62,
   "id": "aaa1ba28-24dd-4288-a504-33081e82a6b7",
   "metadata": {
    "execution": {
     "iopub.execute_input": "2021-08-26T22:46:28.356891Z",
     "iopub.status.busy": "2021-08-26T22:46:28.356695Z",
     "iopub.status.idle": "2021-08-26T22:46:28.360674Z",
     "shell.execute_reply": "2021-08-26T22:46:28.360056Z",
     "shell.execute_reply.started": "2021-08-26T22:46:28.356873Z"
    }
   },
   "outputs": [],
   "source": [
    "# https://scikit-learn.org/stable/modules/generated/sklearn.ensemble.GradientBoostingRegressor.html"
   ]
  },
  {
   "cell_type": "code",
   "execution_count": 451,
   "id": "b57efe19-f532-431f-aba0-f155f08e89b0",
   "metadata": {
    "execution": {
     "iopub.execute_input": "2021-08-27T14:16:54.828612Z",
     "iopub.status.busy": "2021-08-27T14:16:54.828419Z",
     "iopub.status.idle": "2021-08-27T14:16:54.832569Z",
     "shell.execute_reply": "2021-08-27T14:16:54.831865Z",
     "shell.execute_reply.started": "2021-08-27T14:16:54.828594Z"
    },
    "tags": []
   },
   "outputs": [],
   "source": [
    "# start with full data \n",
    "preds_df = data.copy()\n",
    "# make dataframe with values of predictions to add to preds_df "
   ]
  },
  {
   "cell_type": "code",
   "execution_count": 452,
   "id": "d5b4468a-2cb9-4250-bf38-dbd1bc3e4da0",
   "metadata": {
    "execution": {
     "iopub.execute_input": "2021-08-27T14:16:55.229860Z",
     "iopub.status.busy": "2021-08-27T14:16:55.229668Z",
     "iopub.status.idle": "2021-08-27T14:16:55.235759Z",
     "shell.execute_reply": "2021-08-27T14:16:55.235317Z",
     "shell.execute_reply.started": "2021-08-27T14:16:55.229842Z"
    },
    "tags": []
   },
   "outputs": [
    {
     "data": {
      "text/plain": [
       "(731,)"
      ]
     },
     "execution_count": 452,
     "metadata": {},
     "output_type": "execute_result"
    }
   ],
   "source": [
    "preds = gbr.predict(Xs_test)\n",
    "preds.shape\n",
    "#start with y_train and add preds to bottom \n"
   ]
  },
  {
   "cell_type": "code",
   "execution_count": 453,
   "id": "e88a9a57-e2c6-46ea-9fb7-8c32acd66f02",
   "metadata": {
    "execution": {
     "iopub.execute_input": "2021-08-27T14:16:55.579907Z",
     "iopub.status.busy": "2021-08-27T14:16:55.579732Z",
     "iopub.status.idle": "2021-08-27T14:16:55.585354Z",
     "shell.execute_reply": "2021-08-27T14:16:55.584517Z",
     "shell.execute_reply.started": "2021-08-27T14:16:55.579891Z"
    },
    "tags": []
   },
   "outputs": [],
   "source": [
    "# make preds into dataframe with index for dates \n",
    "preds= pd.Series(preds,index= X_test.index)\n",
    "# combine preds with y_train \n",
    "old_preds = pd.DataFrame(pd.concat([y_train,preds]),columns=['Predictions'])"
   ]
  },
  {
   "cell_type": "code",
   "execution_count": 454,
   "id": "3ba930f1-1532-4cd3-938f-61ab538481c6",
   "metadata": {
    "execution": {
     "iopub.execute_input": "2021-08-27T14:16:55.991873Z",
     "iopub.status.busy": "2021-08-27T14:16:55.991446Z",
     "iopub.status.idle": "2021-08-27T14:16:55.996274Z",
     "shell.execute_reply": "2021-08-27T14:16:55.995101Z",
     "shell.execute_reply.started": "2021-08-27T14:16:55.991853Z"
    },
    "tags": []
   },
   "outputs": [],
   "source": [
    "# make copy of data\n",
    "df_preds = data.copy()"
   ]
  },
  {
   "cell_type": "code",
   "execution_count": 455,
   "id": "c60c2992-698d-4c3a-aa86-a8e406a38cda",
   "metadata": {
    "execution": {
     "iopub.execute_input": "2021-08-27T14:16:56.379940Z",
     "iopub.status.busy": "2021-08-27T14:16:56.379742Z",
     "iopub.status.idle": "2021-08-27T14:16:56.384750Z",
     "shell.execute_reply": "2021-08-27T14:16:56.384138Z",
     "shell.execute_reply.started": "2021-08-27T14:16:56.379923Z"
    },
    "tags": []
   },
   "outputs": [],
   "source": [
    "# add predictions of open_pct to df_preds\n",
    "df_preds= df_preds.join(old_preds)"
   ]
  },
  {
   "cell_type": "code",
   "execution_count": 456,
   "id": "b49061ae-68f9-4822-8eed-dcef39499ed6",
   "metadata": {
    "execution": {
     "iopub.execute_input": "2021-08-27T14:16:56.749532Z",
     "iopub.status.busy": "2021-08-27T14:16:56.749310Z",
     "iopub.status.idle": "2021-08-27T14:16:57.050761Z",
     "shell.execute_reply": "2021-08-27T14:16:57.049858Z",
     "shell.execute_reply.started": "2021-08-27T14:16:56.749515Z"
    },
    "tags": []
   },
   "outputs": [],
   "source": [
    "# read in dataset with actual prices \n",
    "daily = pd.read_csv('./Data/daily.csv')"
   ]
  },
  {
   "cell_type": "code",
   "execution_count": 457,
   "id": "81c05a86-b518-4d9c-8cfc-51ef6c7b7a29",
   "metadata": {
    "execution": {
     "iopub.execute_input": "2021-08-27T14:16:57.150793Z",
     "iopub.status.busy": "2021-08-27T14:16:57.150602Z",
     "iopub.status.idle": "2021-08-27T14:16:57.156917Z",
     "shell.execute_reply": "2021-08-27T14:16:57.156031Z",
     "shell.execute_reply.started": "2021-08-27T14:16:57.150776Z"
    },
    "tags": []
   },
   "outputs": [
    {
     "data": {
      "text/plain": [
       "array([1292.28, 1286.94, 1254.05, ..., 4468.  , 4479.71, 4448.08])"
      ]
     },
     "execution_count": 457,
     "metadata": {},
     "output_type": "execute_result"
    }
   ],
   "source": [
    "# testing \n",
    "daily['price'][2:].values"
   ]
  },
  {
   "cell_type": "code",
   "execution_count": 458,
   "id": "f9a61a17-c1d4-491b-8922-164a2df41a7b",
   "metadata": {
    "execution": {
     "iopub.execute_input": "2021-08-27T14:16:57.606014Z",
     "iopub.status.busy": "2021-08-27T14:16:57.605792Z",
     "iopub.status.idle": "2021-08-27T14:16:57.611897Z",
     "shell.execute_reply": "2021-08-27T14:16:57.611090Z",
     "shell.execute_reply.started": "2021-08-27T14:16:57.605982Z"
    },
    "tags": []
   },
   "outputs": [],
   "source": [
    "# add true_price to preds_df \n",
    "df_preds['true_price']=daily['price'][2:].values"
   ]
  },
  {
   "cell_type": "code",
   "execution_count": 459,
   "id": "1ea05a21-04d7-49ac-a3aa-86911fe08e3d",
   "metadata": {
    "execution": {
     "iopub.execute_input": "2021-08-27T14:16:58.030030Z",
     "iopub.status.busy": "2021-08-27T14:16:58.029827Z",
     "iopub.status.idle": "2021-08-27T14:16:58.036779Z",
     "shell.execute_reply": "2021-08-27T14:16:58.036189Z",
     "shell.execute_reply.started": "2021-08-27T14:16:58.030012Z"
    },
    "tags": []
   },
   "outputs": [
    {
     "data": {
      "text/plain": [
       "Index(['day_of_week_1', 'day_of_week_2', 'day_of_week_3', 'day_of_week_4',\n",
       "       'day_of_week_5', 'day_of_week_6', 'is_holiday_1', 'Open_pct',\n",
       "       'Close_pct', 'Volume_diff', 'Open_pct_l1', 'Close_pct_l1',\n",
       "       'Volume_diff_l1', 'direction', 'Predictions', 'true_price'],\n",
       "      dtype='object')"
      ]
     },
     "execution_count": 459,
     "metadata": {},
     "output_type": "execute_result"
    }
   ],
   "source": [
    "df_preds.columns"
   ]
  },
  {
   "cell_type": "markdown",
   "id": "e549f517-e5a7-4f5c-ac1d-bbb1e78de7e1",
   "metadata": {
    "execution": {
     "iopub.execute_input": "2021-08-27T14:02:32.986439Z",
     "iopub.status.busy": "2021-08-27T14:02:32.986223Z",
     "iopub.status.idle": "2021-08-27T14:02:32.991992Z",
     "shell.execute_reply": "2021-08-27T14:02:32.991353Z",
     "shell.execute_reply.started": "2021-08-27T14:02:32.986421Z"
    },
    "tags": []
   },
   "source": [
    "pct change = (new-old)/old\n",
    "pct*old+old = new \n",
    "new = old(1+pct) "
   ]
  },
  {
   "cell_type": "code",
   "execution_count": 462,
   "id": "2d5bbec0-3bb4-45ab-a42c-0ca678d678fa",
   "metadata": {
    "execution": {
     "iopub.execute_input": "2021-08-27T14:17:13.606671Z",
     "iopub.status.busy": "2021-08-27T14:17:13.606471Z",
     "iopub.status.idle": "2021-08-27T14:17:13.611230Z",
     "shell.execute_reply": "2021-08-27T14:17:13.610290Z",
     "shell.execute_reply.started": "2021-08-27T14:17:13.606653Z"
    },
    "tags": []
   },
   "outputs": [],
   "source": [
    "# get yesterdays price \n",
    "last_price= df_preds.loc[df_preds.index[0],'true_price']\n",
    "# get todays pct change \n",
    "change_pct= df_preds.loc[df_preds.index[0+1],'Open_pct']\n",
    "# get new price \n",
    "new_price= last_price*(1+change_pct)"
   ]
  },
  {
   "cell_type": "code",
   "execution_count": 463,
   "id": "3abc09b9-63a5-46e0-8f25-30f9d15c2de7",
   "metadata": {
    "execution": {
     "iopub.execute_input": "2021-08-27T14:17:14.268670Z",
     "iopub.status.busy": "2021-08-27T14:17:14.268466Z",
     "iopub.status.idle": "2021-08-27T14:17:14.273207Z",
     "shell.execute_reply": "2021-08-27T14:17:14.272191Z",
     "shell.execute_reply.started": "2021-08-27T14:17:14.268652Z"
    },
    "tags": []
   },
   "outputs": [],
   "source": [
    "# take out date from index for easier manipulation \n",
    "df_preds.reset_index(drop=False,inplace=True)"
   ]
  },
  {
   "cell_type": "code",
   "execution_count": 464,
   "id": "2189089f-4139-43fc-b4c9-68d3b65f49cf",
   "metadata": {
    "execution": {
     "iopub.execute_input": "2021-08-27T14:17:15.390820Z",
     "iopub.status.busy": "2021-08-27T14:17:15.390609Z",
     "iopub.status.idle": "2021-08-27T14:17:15.395428Z",
     "shell.execute_reply": "2021-08-27T14:17:15.394772Z",
     "shell.execute_reply.started": "2021-08-27T14:17:15.390802Z"
    },
    "tags": []
   },
   "outputs": [
    {
     "data": {
      "text/plain": [
       "Index(['index', 'date', 'day_of_week_1', 'day_of_week_2', 'day_of_week_3',\n",
       "       'day_of_week_4', 'day_of_week_5', 'day_of_week_6', 'is_holiday_1',\n",
       "       'Open_pct', 'Close_pct', 'Volume_diff', 'Open_pct_l1', 'Close_pct_l1',\n",
       "       'Volume_diff_l1', 'direction', 'Predictions', 'true_price'],\n",
       "      dtype='object')"
      ]
     },
     "execution_count": 464,
     "metadata": {},
     "output_type": "execute_result"
    }
   ],
   "source": [
    "df_preds.columns"
   ]
  },
  {
   "cell_type": "code",
   "execution_count": 465,
   "id": "c174ce10-1561-45b2-864b-51c0370b6a77",
   "metadata": {
    "execution": {
     "iopub.execute_input": "2021-08-27T14:17:16.558566Z",
     "iopub.status.busy": "2021-08-27T14:17:16.558321Z",
     "iopub.status.idle": "2021-08-27T14:17:16.603704Z",
     "shell.execute_reply": "2021-08-27T14:17:16.603029Z",
     "shell.execute_reply.started": "2021-08-27T14:17:16.558548Z"
    },
    "tags": []
   },
   "outputs": [],
   "source": [
    "# get predicted price for each predicted pct_change ('predictions')\n",
    "price_preds=[]\n",
    "for i in range(1,len(preds_df)):\n",
    "    last_price= df_preds.loc[i-1,'true_price']\n",
    "    change_pct= df_preds.loc[i,'Predictions']\n",
    "    new_price= last_price*(1+change_pct)\n",
    "    price_preds.append(new_price)\n",
    "\n",
    "# true_price vs predicted price "
   ]
  },
  {
   "cell_type": "code",
   "execution_count": 468,
   "id": "f8deb2c5-c5fb-428e-93d0-f7f933641601",
   "metadata": {
    "execution": {
     "iopub.execute_input": "2021-08-27T14:17:47.104125Z",
     "iopub.status.busy": "2021-08-27T14:17:47.103812Z",
     "iopub.status.idle": "2021-08-27T14:17:47.108540Z",
     "shell.execute_reply": "2021-08-27T14:17:47.107805Z",
     "shell.execute_reply.started": "2021-08-27T14:17:47.104101Z"
    },
    "tags": []
   },
   "outputs": [
    {
     "data": {
      "text/plain": [
       "3650"
      ]
     },
     "execution_count": 468,
     "metadata": {},
     "output_type": "execute_result"
    }
   ],
   "source": [
    "len(price_preds) # testing "
   ]
  },
  {
   "cell_type": "code",
   "execution_count": 472,
   "id": "39e21756-afac-4697-b4f8-9f31eb822beb",
   "metadata": {
    "execution": {
     "iopub.execute_input": "2021-08-27T14:18:56.212784Z",
     "iopub.status.busy": "2021-08-27T14:18:56.212559Z",
     "iopub.status.idle": "2021-08-27T14:18:56.217642Z",
     "shell.execute_reply": "2021-08-27T14:18:56.217050Z",
     "shell.execute_reply.started": "2021-08-27T14:18:56.212766Z"
    },
    "tags": []
   },
   "outputs": [
    {
     "data": {
      "text/plain": [
       "(3650, 18)"
      ]
     },
     "execution_count": 472,
     "metadata": {},
     "output_type": "execute_result"
    }
   ],
   "source": [
    "df_preds[1:].shape # testing "
   ]
  },
  {
   "cell_type": "code",
   "execution_count": 474,
   "id": "efc15742-bddd-4889-9b40-a643e099d49c",
   "metadata": {
    "execution": {
     "iopub.execute_input": "2021-08-27T14:19:34.515282Z",
     "iopub.status.busy": "2021-08-27T14:19:34.515073Z",
     "iopub.status.idle": "2021-08-27T14:19:34.519234Z",
     "shell.execute_reply": "2021-08-27T14:19:34.518277Z",
     "shell.execute_reply.started": "2021-08-27T14:19:34.515247Z"
    },
    "tags": []
   },
   "outputs": [],
   "source": [
    "df_preds= df_preds[1:] # drop first so can add price preds "
   ]
  },
  {
   "cell_type": "code",
   "execution_count": 476,
   "id": "9196837b-c84d-4ed3-9877-d393ef024023",
   "metadata": {
    "execution": {
     "iopub.execute_input": "2021-08-27T14:20:21.641092Z",
     "iopub.status.busy": "2021-08-27T14:20:21.640867Z",
     "iopub.status.idle": "2021-08-27T14:20:21.645571Z",
     "shell.execute_reply": "2021-08-27T14:20:21.645000Z",
     "shell.execute_reply.started": "2021-08-27T14:20:21.641075Z"
    }
   },
   "outputs": [
    {
     "data": {
      "text/plain": [
       "(3649, 18)"
      ]
     },
     "execution_count": 476,
     "metadata": {},
     "output_type": "execute_result"
    }
   ],
   "source": [
    "df_preds.shape"
   ]
  },
  {
   "cell_type": "code",
   "execution_count": 477,
   "id": "16f0295f-7aed-4590-b74e-137a98af3356",
   "metadata": {
    "execution": {
     "iopub.execute_input": "2021-08-27T14:20:37.685585Z",
     "iopub.status.busy": "2021-08-27T14:20:37.685394Z",
     "iopub.status.idle": "2021-08-27T14:20:37.691816Z",
     "shell.execute_reply": "2021-08-27T14:20:37.691018Z",
     "shell.execute_reply.started": "2021-08-27T14:20:37.685567Z"
    },
    "tags": []
   },
   "outputs": [],
   "source": [
    "# add predicted prices to df_preds\n",
    "df_preds['pred_price'] = price_preds[1:] # adding one cause shapes dont match can fix later"
   ]
  },
  {
   "cell_type": "code",
   "execution_count": 479,
   "id": "9e35a72d-1077-4b19-afae-1eb06afe8822",
   "metadata": {
    "execution": {
     "iopub.execute_input": "2021-08-27T14:21:07.555773Z",
     "iopub.status.busy": "2021-08-27T14:21:07.555580Z",
     "iopub.status.idle": "2021-08-27T14:21:07.563616Z",
     "shell.execute_reply": "2021-08-27T14:21:07.562966Z",
     "shell.execute_reply.started": "2021-08-27T14:21:07.555755Z"
    },
    "tags": []
   },
   "outputs": [
    {
     "data": {
      "text/html": [
       "<div>\n",
       "<style scoped>\n",
       "    .dataframe tbody tr th:only-of-type {\n",
       "        vertical-align: middle;\n",
       "    }\n",
       "\n",
       "    .dataframe tbody tr th {\n",
       "        vertical-align: top;\n",
       "    }\n",
       "\n",
       "    .dataframe thead th {\n",
       "        text-align: right;\n",
       "    }\n",
       "</style>\n",
       "<table border=\"1\" class=\"dataframe\">\n",
       "  <thead>\n",
       "    <tr style=\"text-align: right;\">\n",
       "      <th></th>\n",
       "      <th>pred_price</th>\n",
       "      <th>true_price</th>\n",
       "    </tr>\n",
       "  </thead>\n",
       "  <tbody>\n",
       "    <tr>\n",
       "      <th>2</th>\n",
       "      <td>1280.936450</td>\n",
       "      <td>1254.05</td>\n",
       "    </tr>\n",
       "    <tr>\n",
       "      <th>3</th>\n",
       "      <td>1222.556384</td>\n",
       "      <td>1260.34</td>\n",
       "    </tr>\n",
       "    <tr>\n",
       "      <th>4</th>\n",
       "      <td>1266.349016</td>\n",
       "      <td>1200.07</td>\n",
       "    </tr>\n",
       "    <tr>\n",
       "      <th>5</th>\n",
       "      <td>1142.981898</td>\n",
       "      <td>1199.38</td>\n",
       "    </tr>\n",
       "    <tr>\n",
       "      <th>6</th>\n",
       "      <td>1198.480650</td>\n",
       "      <td>1199.38</td>\n",
       "    </tr>\n",
       "  </tbody>\n",
       "</table>\n",
       "</div>"
      ],
      "text/plain": [
       "    pred_price  true_price\n",
       "2  1280.936450     1254.05\n",
       "3  1222.556384     1260.34\n",
       "4  1266.349016     1200.07\n",
       "5  1142.981898     1199.38\n",
       "6  1198.480650     1199.38"
      ]
     },
     "execution_count": 479,
     "metadata": {},
     "output_type": "execute_result"
    }
   ],
   "source": [
    "df_preds[['pred_price','true_price']].head() # confirm worked "
   ]
  },
  {
   "cell_type": "code",
   "execution_count": 490,
   "id": "44c22e5e-fe6d-4a21-b555-07c565d2062e",
   "metadata": {
    "execution": {
     "iopub.execute_input": "2021-08-27T14:27:17.004457Z",
     "iopub.status.busy": "2021-08-27T14:27:17.004247Z",
     "iopub.status.idle": "2021-08-27T14:27:17.009341Z",
     "shell.execute_reply": "2021-08-27T14:27:17.008416Z",
     "shell.execute_reply.started": "2021-08-27T14:27:17.004440Z"
    }
   },
   "outputs": [
    {
     "data": {
      "text/plain": [
       "731"
      ]
     },
     "execution_count": 490,
     "metadata": {},
     "output_type": "execute_result"
    }
   ],
   "source": [
    "len(preds)"
   ]
  },
  {
   "cell_type": "code",
   "execution_count": 511,
   "id": "1d41c097-76c9-44e5-8c67-2dce926c8e54",
   "metadata": {
    "execution": {
     "iopub.execute_input": "2021-08-27T14:35:21.047095Z",
     "iopub.status.busy": "2021-08-27T14:35:21.046897Z",
     "iopub.status.idle": "2021-08-27T14:35:21.163268Z",
     "shell.execute_reply": "2021-08-27T14:35:21.162639Z",
     "shell.execute_reply.started": "2021-08-27T14:35:21.047077Z"
    },
    "tags": []
   },
   "outputs": [
    {
     "data": {
      "text/plain": [
       "<matplotlib.legend.Legend at 0x7fd77e503880>"
      ]
     },
     "execution_count": 511,
     "metadata": {},
     "output_type": "execute_result"
    },
    {
     "data": {
      "image/png": "[encoded data removed]",
      "text/plain": [
       "<Figure size 720x720 with 1 Axes>"
      ]
     },
     "metadata": {
      "needs_background": "light"
     },
     "output_type": "display_data"
    }
   ],
   "source": [
    "plt.figure(figsize=(10,10))\n",
    "plt.plot(df_preds['true_price'][-len(preds):],label='True Price',color='red')\n",
    "plt.plot(df_preds['pred_price'][-len(preds):],'o',label='Predicted Price',color='green',)\n",
    "plt.title('True vs Predicted Price For Test Data')\n",
    "plt.legend()"
   ]
  },
  {
   "cell_type": "code",
   "execution_count": 512,
   "id": "7df1b929-fd90-4577-9ffa-02fb2d9db69b",
   "metadata": {
    "execution": {
     "iopub.execute_input": "2021-08-27T14:38:40.993037Z",
     "iopub.status.busy": "2021-08-27T14:38:40.992831Z",
     "iopub.status.idle": "2021-08-27T14:38:41.119766Z",
     "shell.execute_reply": "2021-08-27T14:38:41.119322Z",
     "shell.execute_reply.started": "2021-08-27T14:38:40.993018Z"
    },
    "tags": []
   },
   "outputs": [
    {
     "data": {
      "text/plain": [
       "<matplotlib.legend.Legend at 0x7fd77cb42250>"
      ]
     },
     "execution_count": 512,
     "metadata": {},
     "output_type": "execute_result"
    },
    {
     "data": {
      "image/png": "[encoded data removed]",
      "text/plain": [
       "<Figure size 720x720 with 1 Axes>"
      ]
     },
     "metadata": {
      "needs_background": "light"
     },
     "output_type": "display_data"
    }
   ],
   "source": [
    "plt.figure(figsize=(10,10))\n",
    "plt.plot(df_preds['true_price'],label='True Price',color='red')\n",
    "plt.plot(df_preds['pred_price'][-len(preds):],'o',label='Predicted Price',color='green',)\n",
    "plt.title('True vs Predicted Price ')\n",
    "plt.legend()\n"
   ]
  },
  {
   "cell_type": "code",
   "execution_count": 514,
   "id": "72b53952-dc3d-429e-a9bc-15ef04d6ab17",
   "metadata": {
    "execution": {
     "iopub.execute_input": "2021-08-27T14:39:48.772620Z",
     "iopub.status.busy": "2021-08-27T14:39:48.772338Z",
     "iopub.status.idle": "2021-08-27T14:39:48.903095Z",
     "shell.execute_reply": "2021-08-27T14:39:48.902731Z",
     "shell.execute_reply.started": "2021-08-27T14:39:48.772599Z"
    },
    "tags": []
   },
   "outputs": [
    {
     "data": {
      "text/plain": [
       "<matplotlib.legend.Legend at 0x7fd8e71a8f10>"
      ]
     },
     "execution_count": 514,
     "metadata": {},
     "output_type": "execute_result"
    },
    {
     "data": {
      "image/png": "[encoded data removed]",
      "text/plain": [
       "<Figure size 720x720 with 1 Axes>"
      ]
     },
     "metadata": {
      "needs_background": "light"
     },
     "output_type": "display_data"
    }
   ],
   "source": [
    "plt.figure(figsize=(10,10))\n",
    "plt.plot(df_preds['Open_pct'],label='Actual percent change')\n",
    "plt.plot(df_preds['Predictions'][-len(preds):],label='Predicted percent change')\n",
    "plt.title('True vs Predicted Percentage Change in Opening Price')\n",
    "plt.legend()"
   ]
  },
  {
   "cell_type": "code",
   "execution_count": 427,
   "id": "01c39af9-b80a-4a16-ade0-8de8d8148e1e",
   "metadata": {
    "execution": {
     "iopub.execute_input": "2021-08-27T14:03:44.745641Z",
     "iopub.status.busy": "2021-08-27T14:03:44.745447Z",
     "iopub.status.idle": "2021-08-27T14:03:44.752407Z",
     "shell.execute_reply": "2021-08-27T14:03:44.751826Z",
     "shell.execute_reply.started": "2021-08-27T14:03:44.745623Z"
    }
   },
   "outputs": [
    {
     "data": {
      "text/plain": [
       "date\n",
       "2011-07-31    1292.28\n",
       "2011-08-01    1286.94\n",
       "2011-08-02    1254.05\n",
       "2011-08-03    1260.34\n",
       "2011-08-04    1200.07\n",
       "Name: true_price, dtype: float64"
      ]
     },
     "execution_count": 427,
     "metadata": {},
     "output_type": "execute_result"
    }
   ],
   "source": [
    "preds_df['true_price'].head()"
   ]
  },
  {
   "cell_type": "code",
   "execution_count": null,
   "id": "aa305b2b-9be1-4a5a-92c3-75ee705e8620",
   "metadata": {},
   "outputs": [],
   "source": []
  },
  {
   "cell_type": "code",
   "execution_count": 399,
   "id": "930ad8a4-5dad-4fbf-8e5a-9565070f5e51",
   "metadata": {
    "execution": {
     "iopub.execute_input": "2021-08-27T13:52:27.041993Z",
     "iopub.status.busy": "2021-08-27T13:52:27.041781Z",
     "iopub.status.idle": "2021-08-27T13:52:27.052297Z",
     "shell.execute_reply": "2021-08-27T13:52:27.051548Z",
     "shell.execute_reply.started": "2021-08-27T13:52:27.041975Z"
    },
    "tags": []
   },
   "outputs": [
    {
     "data": {
      "text/html": [
       "<div>\n",
       "<style scoped>\n",
       "    .dataframe tbody tr th:only-of-type {\n",
       "        vertical-align: middle;\n",
       "    }\n",
       "\n",
       "    .dataframe tbody tr th {\n",
       "        vertical-align: top;\n",
       "    }\n",
       "\n",
       "    .dataframe thead th {\n",
       "        text-align: right;\n",
       "    }\n",
       "</style>\n",
       "<table border=\"1\" class=\"dataframe\">\n",
       "  <thead>\n",
       "    <tr style=\"text-align: right;\">\n",
       "      <th></th>\n",
       "      <th>Open_pct</th>\n",
       "      <th>Predictions</th>\n",
       "      <th>true_price</th>\n",
       "    </tr>\n",
       "    <tr>\n",
       "      <th>date</th>\n",
       "      <th></th>\n",
       "      <th></th>\n",
       "      <th></th>\n",
       "    </tr>\n",
       "  </thead>\n",
       "  <tbody>\n",
       "    <tr>\n",
       "      <th>2011-07-31</th>\n",
       "      <td>0.000000</td>\n",
       "      <td>0.000000</td>\n",
       "      <td>1292.28</td>\n",
       "    </tr>\n",
       "    <tr>\n",
       "      <th>2011-08-01</th>\n",
       "      <td>0.000240</td>\n",
       "      <td>0.000240</td>\n",
       "      <td>1286.94</td>\n",
       "    </tr>\n",
       "    <tr>\n",
       "      <th>2011-08-02</th>\n",
       "      <td>-0.004665</td>\n",
       "      <td>-0.004665</td>\n",
       "      <td>1254.05</td>\n",
       "    </tr>\n",
       "    <tr>\n",
       "      <th>2011-08-03</th>\n",
       "      <td>-0.025114</td>\n",
       "      <td>-0.025114</td>\n",
       "      <td>1260.34</td>\n",
       "    </tr>\n",
       "    <tr>\n",
       "      <th>2011-08-04</th>\n",
       "      <td>0.004768</td>\n",
       "      <td>0.004768</td>\n",
       "      <td>1200.07</td>\n",
       "    </tr>\n",
       "    <tr>\n",
       "      <th>...</th>\n",
       "      <td>...</td>\n",
       "      <td>...</td>\n",
       "      <td>...</td>\n",
       "    </tr>\n",
       "    <tr>\n",
       "      <th>2021-08-13</th>\n",
       "      <td>0.004219</td>\n",
       "      <td>0.003615</td>\n",
       "      <td>4468.00</td>\n",
       "    </tr>\n",
       "    <tr>\n",
       "      <th>2021-08-14</th>\n",
       "      <td>0.000708</td>\n",
       "      <td>0.001025</td>\n",
       "      <td>4468.00</td>\n",
       "    </tr>\n",
       "    <tr>\n",
       "      <th>2021-08-15</th>\n",
       "      <td>0.000000</td>\n",
       "      <td>-0.000108</td>\n",
       "      <td>4468.00</td>\n",
       "    </tr>\n",
       "    <tr>\n",
       "      <th>2021-08-16</th>\n",
       "      <td>-0.001421</td>\n",
       "      <td>0.000158</td>\n",
       "      <td>4479.71</td>\n",
       "    </tr>\n",
       "    <tr>\n",
       "      <th>2021-08-17</th>\n",
       "      <td>0.000105</td>\n",
       "      <td>0.002040</td>\n",
       "      <td>4448.08</td>\n",
       "    </tr>\n",
       "  </tbody>\n",
       "</table>\n",
       "<p>3651 rows × 3 columns</p>\n",
       "</div>"
      ],
      "text/plain": [
       "            Open_pct  Predictions  true_price\n",
       "date                                         \n",
       "2011-07-31  0.000000     0.000000     1292.28\n",
       "2011-08-01  0.000240     0.000240     1286.94\n",
       "2011-08-02 -0.004665    -0.004665     1254.05\n",
       "2011-08-03 -0.025114    -0.025114     1260.34\n",
       "2011-08-04  0.004768     0.004768     1200.07\n",
       "...              ...          ...         ...\n",
       "2021-08-13  0.004219     0.003615     4468.00\n",
       "2021-08-14  0.000708     0.001025     4468.00\n",
       "2021-08-15  0.000000    -0.000108     4468.00\n",
       "2021-08-16 -0.001421     0.000158     4479.71\n",
       "2021-08-17  0.000105     0.002040     4448.08\n",
       "\n",
       "[3651 rows x 3 columns]"
      ]
     },
     "execution_count": 399,
     "metadata": {},
     "output_type": "execute_result"
    }
   ],
   "source": [
    "preds_df[['Open_pct','Predictions','true_price']]"
   ]
  },
  {
   "cell_type": "code",
   "execution_count": 385,
   "id": "96be77ea-95f3-40b3-aa53-b931dab8ccb5",
   "metadata": {
    "execution": {
     "iopub.execute_input": "2021-08-27T13:49:56.930938Z",
     "iopub.status.busy": "2021-08-27T13:49:56.930727Z",
     "iopub.status.idle": "2021-08-27T13:49:56.937581Z",
     "shell.execute_reply": "2021-08-27T13:49:56.936876Z",
     "shell.execute_reply.started": "2021-08-27T13:49:56.930921Z"
    }
   },
   "outputs": [
    {
     "data": {
      "text/plain": [
       "0      NaN\n",
       "1      NaN\n",
       "2      NaN\n",
       "3      NaN\n",
       "4      NaN\n",
       "        ..\n",
       "3648   NaN\n",
       "3649   NaN\n",
       "3650   NaN\n",
       "3651   NaN\n",
       "3652   NaN\n",
       "Name: preds, Length: 3653, dtype: float64"
      ]
     },
     "execution_count": 385,
     "metadata": {},
     "output_type": "execute_result"
    }
   ],
   "source": [
    "daily['preds']"
   ]
  },
  {
   "cell_type": "code",
   "execution_count": 346,
   "id": "da24eff7-2e82-4d7e-899b-4b299acef77a",
   "metadata": {
    "execution": {
     "iopub.execute_input": "2021-08-27T12:51:07.935990Z",
     "iopub.status.busy": "2021-08-27T12:51:07.935689Z",
     "iopub.status.idle": "2021-08-27T12:51:07.943123Z",
     "shell.execute_reply": "2021-08-27T12:51:07.942807Z",
     "shell.execute_reply.started": "2021-08-27T12:51:07.935971Z"
    },
    "tags": []
   },
   "outputs": [
    {
     "data": {
      "text/plain": [
       "(2920,)"
      ]
     },
     "execution_count": 346,
     "metadata": {},
     "output_type": "execute_result"
    }
   ],
   "source": [
    "gbr.predict(Xs_train).shape"
   ]
  },
  {
   "cell_type": "code",
   "execution_count": 403,
   "id": "6d9c1528-8a5f-4c41-95de-e7053f9ccec5",
   "metadata": {
    "execution": {
     "iopub.execute_input": "2021-08-27T13:55:33.219491Z",
     "iopub.status.busy": "2021-08-27T13:55:33.219297Z",
     "iopub.status.idle": "2021-08-27T13:55:33.227467Z",
     "shell.execute_reply": "2021-08-27T13:55:33.226802Z",
     "shell.execute_reply.started": "2021-08-27T13:55:33.219473Z"
    },
    "tags": []
   },
   "outputs": [
    {
     "data": {
      "text/plain": [
       "(2920,)"
      ]
     },
     "execution_count": 403,
     "metadata": {},
     "output_type": "execute_result"
    }
   ],
   "source": [
    "preds = gbr.predict(Xs_train)\n",
    "preds.shape\n"
   ]
  },
  {
   "cell_type": "markdown",
   "id": "9fe6f2c4-5ede-4304-955c-79e3c52ce7a8",
   "metadata": {},
   "source": [
    "# SVM "
   ]
  },
  {
   "cell_type": "code",
   "execution_count": 63,
   "id": "5566f7f7-7c65-4c6c-86ab-93251b090b99",
   "metadata": {
    "execution": {
     "iopub.execute_input": "2021-08-26T22:47:07.430621Z",
     "iopub.status.busy": "2021-08-26T22:47:07.430430Z",
     "iopub.status.idle": "2021-08-26T22:47:07.434535Z",
     "shell.execute_reply": "2021-08-26T22:47:07.433856Z",
     "shell.execute_reply.started": "2021-08-26T22:47:07.430604Z"
    }
   },
   "outputs": [],
   "source": [
    "from sklearn.svm import SVR"
   ]
  },
  {
   "cell_type": "code",
   "execution_count": 64,
   "id": "838b66ce-8b2c-4c15-a4b2-23cefb249a88",
   "metadata": {
    "execution": {
     "iopub.execute_input": "2021-08-26T22:47:48.519609Z",
     "iopub.status.busy": "2021-08-26T22:47:48.519411Z",
     "iopub.status.idle": "2021-08-26T22:47:48.525752Z",
     "shell.execute_reply": "2021-08-26T22:47:48.525095Z",
     "shell.execute_reply.started": "2021-08-26T22:47:48.519590Z"
    }
   },
   "outputs": [],
   "source": [
    "# instantiate and fit model \n",
    "svr = SVR().fit(Xs_train,y_train)"
   ]
  },
  {
   "cell_type": "code",
   "execution_count": 65,
   "id": "22cb1a4c-d4fe-48b8-a9f5-ded078c61202",
   "metadata": {
    "execution": {
     "iopub.execute_input": "2021-08-26T22:48:03.535046Z",
     "iopub.status.busy": "2021-08-26T22:48:03.534852Z",
     "iopub.status.idle": "2021-08-26T22:48:03.541171Z",
     "shell.execute_reply": "2021-08-26T22:48:03.540419Z",
     "shell.execute_reply.started": "2021-08-26T22:48:03.535027Z"
    }
   },
   "outputs": [
    {
     "name": "stdout",
     "output_type": "stream",
     "text": [
      "Training MSE: 0.00015126085217047924\n",
      "Testing MSE: 0.0002188761185762155\n",
      "Test - Train(overage): 6.761526640573627e-05\n"
     ]
    }
   ],
   "source": [
    "get_metrics(svr)"
   ]
  },
  {
   "cell_type": "code",
   "execution_count": 66,
   "id": "c9a363cf-b697-484d-a240-ed510e338ca9",
   "metadata": {
    "execution": {
     "iopub.execute_input": "2021-08-26T22:48:36.333801Z",
     "iopub.status.busy": "2021-08-26T22:48:36.333589Z",
     "iopub.status.idle": "2021-08-26T22:48:36.337565Z",
     "shell.execute_reply": "2021-08-26T22:48:36.336812Z",
     "shell.execute_reply.started": "2021-08-26T22:48:36.333784Z"
    }
   },
   "outputs": [],
   "source": [
    "# https://scikit-learn.org/stable/modules/generated/sklearn.svm.SVR.html"
   ]
  },
  {
   "cell_type": "markdown",
   "id": "8925c360-8acc-449d-8603-7a872fc98980",
   "metadata": {},
   "source": [
    "# Feed Forward Neural Network \n",
    "\n"
   ]
  },
  {
   "cell_type": "code",
   "execution_count": 67,
   "id": "87f92e4f-1617-4ab4-a290-d480d7bfbedf",
   "metadata": {
    "execution": {
     "iopub.execute_input": "2021-08-26T22:50:08.735487Z",
     "iopub.status.busy": "2021-08-26T22:50:08.735282Z",
     "iopub.status.idle": "2021-08-26T22:50:08.740110Z",
     "shell.execute_reply": "2021-08-26T22:50:08.739463Z",
     "shell.execute_reply.started": "2021-08-26T22:50:08.735469Z"
    }
   },
   "outputs": [],
   "source": [
    "from tensorflow.keras.layers import LSTM\n",
    "\n",
    "from tensorflow.keras.layers import Dense, Dropout, GRU\n",
    "from tensorflow.keras.preprocessing.sequence import TimeseriesGenerator\n",
    "\n",
    "from tensorflow.keras.models import Sequential\n",
    "from tensorflow.keras.layers import Dense\n",
    "from tensorflow.keras.utils import to_categorical\n",
    "from tensorflow.keras.wrappers.scikit_learn import KerasRegressor\n",
    "\n",
    "from sklearn.model_selection import GridSearchCV"
   ]
  },
  {
   "cell_type": "code",
   "execution_count": 68,
   "id": "44c90281-b136-4fc3-bfb0-96c76ee965c7",
   "metadata": {
    "execution": {
     "iopub.execute_input": "2021-08-26T22:50:52.213598Z",
     "iopub.status.busy": "2021-08-26T22:50:52.213396Z",
     "iopub.status.idle": "2021-08-26T22:50:52.218460Z",
     "shell.execute_reply": "2021-08-26T22:50:52.217802Z",
     "shell.execute_reply.started": "2021-08-26T22:50:52.213581Z"
    }
   },
   "outputs": [
    {
     "data": {
      "text/plain": [
       "(2920, 10)"
      ]
     },
     "execution_count": 68,
     "metadata": {},
     "output_type": "execute_result"
    }
   ],
   "source": [
    "Xs_train.shape"
   ]
  },
  {
   "cell_type": "code",
   "execution_count": 70,
   "id": "7e988016-aaf6-4197-876a-a0d657d9c0be",
   "metadata": {
    "execution": {
     "iopub.execute_input": "2021-08-26T22:53:07.090651Z",
     "iopub.status.busy": "2021-08-26T22:53:07.090447Z",
     "iopub.status.idle": "2021-08-26T22:53:07.137560Z",
     "shell.execute_reply": "2021-08-26T22:53:07.136730Z",
     "shell.execute_reply.started": "2021-08-26T22:53:07.090633Z"
    },
    "tags": []
   },
   "outputs": [
    {
     "name": "stdout",
     "output_type": "stream",
     "text": [
      "Model: \"sequential\"\n",
      "_________________________________________________________________\n",
      "Layer (type)                 Output Shape              Param #   \n",
      "=================================================================\n",
      "dense (Dense)                (None, 128)               1408      \n",
      "_________________________________________________________________\n",
      "dense_1 (Dense)              (None, 64)                8256      \n",
      "_________________________________________________________________\n",
      "dense_2 (Dense)              (None, 1)                 65        \n",
      "=================================================================\n",
      "Total params: 9,729\n",
      "Trainable params: 9,729\n",
      "Non-trainable params: 0\n",
      "_________________________________________________________________\n"
     ]
    }
   ],
   "source": [
    "# model network \n",
    "\n",
    "fnn= Sequential()\n",
    "fnn.add(Dense(128,activation=\"relu\",input_shape=(10,)))\n",
    "fnn.add(Dense(64, activation=\"relu\"))\n",
    "fnn.add(Dense(1))\n",
    "        \n",
    "# compile model \n",
    "fnn.compile(optimizer='adam',loss='mse',)\n",
    "\n",
    "# check model \n",
    "fnn.summary()"
   ]
  },
  {
   "cell_type": "code",
   "execution_count": 71,
   "id": "194ccdfb-dd94-4aad-94fd-b468050deb9e",
   "metadata": {
    "execution": {
     "iopub.execute_input": "2021-08-26T22:53:42.320944Z",
     "iopub.status.busy": "2021-08-26T22:53:42.320704Z",
     "iopub.status.idle": "2021-08-26T22:53:42.324824Z",
     "shell.execute_reply": "2021-08-26T22:53:42.323919Z",
     "shell.execute_reply.started": "2021-08-26T22:53:42.320925Z"
    }
   },
   "outputs": [],
   "source": [
    "validation_data= (Xs_test,y_test)"
   ]
  },
  {
   "cell_type": "code",
   "execution_count": 72,
   "id": "84af5624-3c3f-4934-b393-e175b9cacdcc",
   "metadata": {
    "execution": {
     "iopub.execute_input": "2021-08-26T22:54:23.670936Z",
     "iopub.status.busy": "2021-08-26T22:54:23.670739Z",
     "iopub.status.idle": "2021-08-26T22:54:36.286372Z",
     "shell.execute_reply": "2021-08-26T22:54:36.285727Z",
     "shell.execute_reply.started": "2021-08-26T22:54:23.670917Z"
    },
    "scrolled": true,
    "tags": []
   },
   "outputs": [
    {
     "name": "stdout",
     "output_type": "stream",
     "text": [
      "Epoch 1/100\n",
      "92/92 [==============================] - 0s 2ms/step - loss: 0.0071 - val_loss: 0.0036\n",
      "Epoch 2/100\n",
      "92/92 [==============================] - 0s 1ms/step - loss: 9.6161e-04 - val_loss: 0.0016\n",
      "Epoch 3/100\n",
      "92/92 [==============================] - 0s 1ms/step - loss: 2.6436e-04 - val_loss: 0.0011\n",
      "Epoch 4/100\n",
      "92/92 [==============================] - 0s 1ms/step - loss: 1.6487e-04 - val_loss: 9.0141e-04\n",
      "Epoch 5/100\n",
      "92/92 [==============================] - 0s 1ms/step - loss: 1.2234e-04 - val_loss: 7.8584e-04\n",
      "Epoch 6/100\n",
      "92/92 [==============================] - 0s 1ms/step - loss: 1.0179e-04 - val_loss: 7.3596e-04\n",
      "Epoch 7/100\n",
      "92/92 [==============================] - 0s 1ms/step - loss: 9.4889e-05 - val_loss: 6.8557e-04\n",
      "Epoch 8/100\n",
      "92/92 [==============================] - 0s 1ms/step - loss: 9.5709e-05 - val_loss: 6.6925e-04\n",
      "Epoch 9/100\n",
      "92/92 [==============================] - 0s 1ms/step - loss: 8.0669e-05 - val_loss: 6.4678e-04\n",
      "Epoch 10/100\n",
      "92/92 [==============================] - 0s 1ms/step - loss: 9.4016e-05 - val_loss: 6.6381e-04\n",
      "Epoch 11/100\n",
      "92/92 [==============================] - 0s 1ms/step - loss: 8.9611e-05 - val_loss: 6.3728e-04\n",
      "Epoch 12/100\n",
      "92/92 [==============================] - 0s 1ms/step - loss: 1.0283e-04 - val_loss: 6.2700e-04\n",
      "Epoch 13/100\n",
      "92/92 [==============================] - 0s 1ms/step - loss: 8.9928e-05 - val_loss: 6.6940e-04\n",
      "Epoch 14/100\n",
      "92/92 [==============================] - 0s 1ms/step - loss: 1.5558e-04 - val_loss: 7.0149e-04\n",
      "Epoch 15/100\n",
      "92/92 [==============================] - 0s 1ms/step - loss: 2.1930e-04 - val_loss: 0.0012\n",
      "Epoch 16/100\n",
      "92/92 [==============================] - 0s 1ms/step - loss: 6.6054e-04 - val_loss: 8.9473e-04\n",
      "Epoch 17/100\n",
      "92/92 [==============================] - 0s 1ms/step - loss: 3.2034e-04 - val_loss: 4.9289e-04\n",
      "Epoch 18/100\n",
      "92/92 [==============================] - 0s 1ms/step - loss: 1.8587e-04 - val_loss: 4.8663e-04\n",
      "Epoch 19/100\n",
      "92/92 [==============================] - 0s 1ms/step - loss: 4.0662e-04 - val_loss: 4.4883e-04\n",
      "Epoch 20/100\n",
      "92/92 [==============================] - 0s 1ms/step - loss: 1.3017e-04 - val_loss: 5.5800e-04\n",
      "Epoch 21/100\n",
      "92/92 [==============================] - 0s 1ms/step - loss: 1.6247e-04 - val_loss: 3.7114e-04\n",
      "Epoch 22/100\n",
      "92/92 [==============================] - 0s 1ms/step - loss: 1.0424e-04 - val_loss: 3.5748e-04\n",
      "Epoch 23/100\n",
      "92/92 [==============================] - 0s 1ms/step - loss: 7.4594e-05 - val_loss: 3.7772e-04\n",
      "Epoch 24/100\n",
      "92/92 [==============================] - 0s 1ms/step - loss: 1.4445e-04 - val_loss: 3.7254e-04\n",
      "Epoch 25/100\n",
      "92/92 [==============================] - 0s 1ms/step - loss: 1.6735e-04 - val_loss: 5.6670e-04\n",
      "Epoch 26/100\n",
      "92/92 [==============================] - 0s 1ms/step - loss: 3.0046e-04 - val_loss: 5.0313e-04\n",
      "Epoch 27/100\n",
      "92/92 [==============================] - 0s 1ms/step - loss: 2.9972e-04 - val_loss: 8.0165e-04\n",
      "Epoch 28/100\n",
      "92/92 [==============================] - 0s 1ms/step - loss: 3.1368e-04 - val_loss: 7.4359e-04\n",
      "Epoch 29/100\n",
      "92/92 [==============================] - 0s 1ms/step - loss: 2.4236e-04 - val_loss: 5.0977e-04\n",
      "Epoch 30/100\n",
      "92/92 [==============================] - 0s 1ms/step - loss: 1.2530e-04 - val_loss: 2.5142e-04\n",
      "Epoch 31/100\n",
      "92/92 [==============================] - 0s 1ms/step - loss: 7.4490e-05 - val_loss: 2.3952e-04\n",
      "Epoch 32/100\n",
      "92/92 [==============================] - 0s 1ms/step - loss: 3.0810e-05 - val_loss: 1.6746e-04\n",
      "Epoch 33/100\n",
      "92/92 [==============================] - 0s 1ms/step - loss: 2.6167e-05 - val_loss: 1.7816e-04\n",
      "Epoch 34/100\n",
      "92/92 [==============================] - 0s 1ms/step - loss: 1.9377e-05 - val_loss: 1.7323e-04\n",
      "Epoch 35/100\n",
      "92/92 [==============================] - 0s 1ms/step - loss: 2.0498e-05 - val_loss: 1.6450e-04\n",
      "Epoch 36/100\n",
      "92/92 [==============================] - 0s 1ms/step - loss: 1.8478e-05 - val_loss: 1.8158e-04\n",
      "Epoch 37/100\n",
      "92/92 [==============================] - 0s 1ms/step - loss: 1.9127e-05 - val_loss: 1.6523e-04\n",
      "Epoch 38/100\n",
      "92/92 [==============================] - 0s 1ms/step - loss: 2.2502e-05 - val_loss: 1.8094e-04\n",
      "Epoch 39/100\n",
      "92/92 [==============================] - 0s 1ms/step - loss: 3.7130e-05 - val_loss: 1.7375e-04\n",
      "Epoch 40/100\n",
      "92/92 [==============================] - 0s 1ms/step - loss: 6.8245e-05 - val_loss: 2.0435e-04\n",
      "Epoch 41/100\n",
      "92/92 [==============================] - 0s 1ms/step - loss: 1.2334e-04 - val_loss: 2.2095e-04\n",
      "Epoch 42/100\n",
      "92/92 [==============================] - 0s 2ms/step - loss: 1.7570e-04 - val_loss: 2.7050e-04\n",
      "Epoch 43/100\n",
      "92/92 [==============================] - 0s 1ms/step - loss: 1.3628e-04 - val_loss: 2.3843e-04\n",
      "Epoch 44/100\n",
      "92/92 [==============================] - 0s 1ms/step - loss: 1.3715e-04 - val_loss: 2.1566e-04\n",
      "Epoch 45/100\n",
      "92/92 [==============================] - 0s 1ms/step - loss: 5.0165e-05 - val_loss: 2.0286e-04\n",
      "Epoch 46/100\n",
      "92/92 [==============================] - 0s 1ms/step - loss: 5.6459e-05 - val_loss: 2.0976e-04\n",
      "Epoch 47/100\n",
      "92/92 [==============================] - 0s 1ms/step - loss: 5.7273e-05 - val_loss: 1.6580e-04\n",
      "Epoch 48/100\n",
      "92/92 [==============================] - 0s 2ms/step - loss: 7.6382e-05 - val_loss: 1.7765e-04\n",
      "Epoch 49/100\n",
      "92/92 [==============================] - 0s 1ms/step - loss: 6.6473e-05 - val_loss: 1.4407e-04\n",
      "Epoch 50/100\n",
      "92/92 [==============================] - 0s 1ms/step - loss: 3.3206e-05 - val_loss: 1.9274e-04\n",
      "Epoch 51/100\n",
      "92/92 [==============================] - 0s 1ms/step - loss: 3.7208e-05 - val_loss: 1.6445e-04\n",
      "Epoch 52/100\n",
      "92/92 [==============================] - 0s 1ms/step - loss: 2.9523e-05 - val_loss: 1.6733e-04\n",
      "Epoch 53/100\n",
      "92/92 [==============================] - 0s 1ms/step - loss: 3.3449e-05 - val_loss: 2.2928e-04\n",
      "Epoch 54/100\n",
      "92/92 [==============================] - 0s 1ms/step - loss: 7.4012e-05 - val_loss: 2.9116e-04\n",
      "Epoch 55/100\n",
      "92/92 [==============================] - 0s 1ms/step - loss: 1.2134e-04 - val_loss: 3.5489e-04\n",
      "Epoch 56/100\n",
      "92/92 [==============================] - 0s 1ms/step - loss: 1.1909e-04 - val_loss: 2.2338e-04\n",
      "Epoch 57/100\n",
      "92/92 [==============================] - 0s 1ms/step - loss: 9.0858e-05 - val_loss: 2.0330e-04\n",
      "Epoch 58/100\n",
      "92/92 [==============================] - 0s 1ms/step - loss: 5.5513e-05 - val_loss: 1.4927e-04\n",
      "Epoch 59/100\n",
      "92/92 [==============================] - 0s 1ms/step - loss: 3.9171e-05 - val_loss: 1.5404e-04\n",
      "Epoch 60/100\n",
      "92/92 [==============================] - 0s 1ms/step - loss: 2.5425e-05 - val_loss: 1.3374e-04\n",
      "Epoch 61/100\n",
      "92/92 [==============================] - 0s 1ms/step - loss: 1.7004e-05 - val_loss: 1.4993e-04\n",
      "Epoch 62/100\n",
      "92/92 [==============================] - 0s 1ms/step - loss: 1.7725e-05 - val_loss: 1.2650e-04\n",
      "Epoch 63/100\n",
      "92/92 [==============================] - 0s 1ms/step - loss: 1.8643e-05 - val_loss: 1.5796e-04\n",
      "Epoch 64/100\n",
      "92/92 [==============================] - 0s 1ms/step - loss: 1.9131e-05 - val_loss: 1.2124e-04\n",
      "Epoch 65/100\n",
      "92/92 [==============================] - 0s 1ms/step - loss: 2.3528e-05 - val_loss: 1.5451e-04\n",
      "Epoch 66/100\n",
      "92/92 [==============================] - 0s 2ms/step - loss: 1.6301e-05 - val_loss: 1.1864e-04\n",
      "Epoch 67/100\n",
      "92/92 [==============================] - 0s 1ms/step - loss: 2.2312e-05 - val_loss: 1.5889e-04\n",
      "Epoch 68/100\n",
      "92/92 [==============================] - 0s 1ms/step - loss: 3.4409e-05 - val_loss: 1.5686e-04\n",
      "Epoch 69/100\n",
      "92/92 [==============================] - 0s 1ms/step - loss: 2.3868e-05 - val_loss: 1.4499e-04\n",
      "Epoch 70/100\n",
      "92/92 [==============================] - 0s 1ms/step - loss: 1.7537e-05 - val_loss: 1.2168e-04\n",
      "Epoch 71/100\n",
      "92/92 [==============================] - 0s 1ms/step - loss: 1.2971e-05 - val_loss: 1.2340e-04\n",
      "Epoch 72/100\n",
      "92/92 [==============================] - 0s 1ms/step - loss: 1.5135e-05 - val_loss: 1.2869e-04\n",
      "Epoch 73/100\n",
      "92/92 [==============================] - 0s 1ms/step - loss: 2.0124e-05 - val_loss: 1.4509e-04\n",
      "Epoch 74/100\n",
      "92/92 [==============================] - 0s 1ms/step - loss: 2.7628e-05 - val_loss: 1.5131e-04\n",
      "Epoch 75/100\n",
      "92/92 [==============================] - 0s 1ms/step - loss: 3.9871e-05 - val_loss: 1.4638e-04\n",
      "Epoch 76/100\n",
      "92/92 [==============================] - 0s 1ms/step - loss: 3.7025e-05 - val_loss: 1.3376e-04\n",
      "Epoch 77/100\n",
      "92/92 [==============================] - 0s 1ms/step - loss: 3.0967e-05 - val_loss: 1.2803e-04\n",
      "Epoch 78/100\n",
      "92/92 [==============================] - 0s 1ms/step - loss: 3.0496e-05 - val_loss: 1.4751e-04\n",
      "Epoch 79/100\n",
      "92/92 [==============================] - 0s 1ms/step - loss: 4.3611e-05 - val_loss: 1.2900e-04\n",
      "Epoch 80/100\n",
      "92/92 [==============================] - 0s 1ms/step - loss: 4.7081e-05 - val_loss: 1.1284e-04\n",
      "Epoch 81/100\n",
      "92/92 [==============================] - 0s 1ms/step - loss: 2.9459e-05 - val_loss: 9.2996e-05\n",
      "Epoch 82/100\n",
      "92/92 [==============================] - 0s 1ms/step - loss: 1.9450e-05 - val_loss: 9.6804e-05\n",
      "Epoch 83/100\n",
      "92/92 [==============================] - 0s 1ms/step - loss: 2.7678e-05 - val_loss: 1.0053e-04\n",
      "Epoch 84/100\n",
      "92/92 [==============================] - 0s 1ms/step - loss: 1.6423e-05 - val_loss: 9.4697e-05\n",
      "Epoch 85/100\n",
      "92/92 [==============================] - 0s 1ms/step - loss: 1.8466e-05 - val_loss: 1.0102e-04\n",
      "Epoch 86/100\n",
      "92/92 [==============================] - 0s 1ms/step - loss: 1.3835e-05 - val_loss: 9.2736e-05\n",
      "Epoch 87/100\n",
      "92/92 [==============================] - 0s 1ms/step - loss: 1.5607e-05 - val_loss: 1.0999e-04\n",
      "Epoch 88/100\n",
      "92/92 [==============================] - 0s 1ms/step - loss: 1.4822e-05 - val_loss: 9.4219e-05\n",
      "Epoch 89/100\n",
      "92/92 [==============================] - 0s 1ms/step - loss: 1.8666e-05 - val_loss: 1.1415e-04\n",
      "Epoch 90/100\n",
      "92/92 [==============================] - 0s 1ms/step - loss: 1.4780e-05 - val_loss: 8.3794e-05\n",
      "Epoch 91/100\n",
      "92/92 [==============================] - 0s 1ms/step - loss: 1.2233e-05 - val_loss: 9.5358e-05\n",
      "Epoch 92/100\n",
      "92/92 [==============================] - 0s 1ms/step - loss: 1.2779e-05 - val_loss: 8.3305e-05\n",
      "Epoch 93/100\n",
      "92/92 [==============================] - 0s 1ms/step - loss: 1.3042e-05 - val_loss: 8.4355e-05\n",
      "Epoch 94/100\n",
      "92/92 [==============================] - 0s 1ms/step - loss: 1.5369e-05 - val_loss: 9.8601e-05\n",
      "Epoch 95/100\n",
      "92/92 [==============================] - 0s 1ms/step - loss: 1.6353e-05 - val_loss: 8.6735e-05\n",
      "Epoch 96/100\n",
      "92/92 [==============================] - 0s 1ms/step - loss: 1.8292e-05 - val_loss: 9.8751e-05\n",
      "Epoch 97/100\n",
      "92/92 [==============================] - 0s 1ms/step - loss: 1.6593e-05 - val_loss: 9.1021e-05\n",
      "Epoch 98/100\n",
      "92/92 [==============================] - 0s 1ms/step - loss: 1.8024e-05 - val_loss: 9.0740e-05\n",
      "Epoch 99/100\n",
      "92/92 [==============================] - 0s 1ms/step - loss: 1.3461e-05 - val_loss: 7.7361e-05\n",
      "Epoch 100/100\n",
      "92/92 [==============================] - 0s 1ms/step - loss: 1.1591e-05 - val_loss: 7.6876e-05\n"
     ]
    }
   ],
   "source": [
    "hist_fnn = fnn.fit(Xs_train,y_train,epochs=100,validation_data=validation_data,\n",
    "                  shuffle=False)"
   ]
  },
  {
   "cell_type": "code",
   "execution_count": 73,
   "id": "2b6dc79d-8a61-42e2-a3a3-393018fa6726",
   "metadata": {
    "execution": {
     "iopub.execute_input": "2021-08-26T22:55:27.150839Z",
     "iopub.status.busy": "2021-08-26T22:55:27.150642Z",
     "iopub.status.idle": "2021-08-26T22:55:27.154677Z",
     "shell.execute_reply": "2021-08-26T22:55:27.153895Z",
     "shell.execute_reply.started": "2021-08-26T22:55:27.150821Z"
    }
   },
   "outputs": [],
   "source": [
    "def plot_loss(hist):\n",
    "    plt.plot(hist.history['loss'], label='Train MSE')\n",
    "    plt.plot(hist.history['val_loss'], label='Test MSE')\n",
    "    plt.legend();"
   ]
  },
  {
   "cell_type": "code",
   "execution_count": 74,
   "id": "b16d33d5-e22f-46c9-bf96-8e39b35c445c",
   "metadata": {
    "execution": {
     "iopub.execute_input": "2021-08-26T22:55:39.128651Z",
     "iopub.status.busy": "2021-08-26T22:55:39.128462Z",
     "iopub.status.idle": "2021-08-26T22:55:39.245001Z",
     "shell.execute_reply": "2021-08-26T22:55:39.244320Z",
     "shell.execute_reply.started": "2021-08-26T22:55:39.128634Z"
    }
   },
   "outputs": [
    {
     "data": {
      "image/png": "[encoded data removed]",
      "text/plain": [
       "<Figure size 432x288 with 1 Axes>"
      ]
     },
     "metadata": {
      "needs_background": "light"
     },
     "output_type": "display_data"
    }
   ],
   "source": [
    "plot_loss(hist_fnn)"
   ]
  },
  {
   "cell_type": "code",
   "execution_count": 75,
   "id": "f45e1c6e-9920-45ce-b9b0-fe6bce19727b",
   "metadata": {
    "execution": {
     "iopub.execute_input": "2021-08-26T22:56:04.761132Z",
     "iopub.status.busy": "2021-08-26T22:56:04.760927Z",
     "iopub.status.idle": "2021-08-26T22:56:04.913277Z",
     "shell.execute_reply": "2021-08-26T22:56:04.912480Z",
     "shell.execute_reply.started": "2021-08-26T22:56:04.761114Z"
    }
   },
   "outputs": [
    {
     "name": "stdout",
     "output_type": "stream",
     "text": [
      "Training MSE: 1.3602208431510047e-05\n",
      "Testing MSE: 7.68757353174335e-05\n",
      "Test - Train(overage): 6.327352688592346e-05\n"
     ]
    }
   ],
   "source": [
    "get_metrics(fnn)"
   ]
  },
  {
   "cell_type": "markdown",
   "id": "6feee7ed-3bc7-400f-9535-af5d49160168",
   "metadata": {},
   "source": [
    "# RNN "
   ]
  },
  {
   "cell_type": "code",
   "execution_count": 76,
   "id": "e8ba7e4e-16d9-4ec5-b714-4d300bbed292",
   "metadata": {
    "execution": {
     "iopub.execute_input": "2021-08-26T23:00:45.721207Z",
     "iopub.status.busy": "2021-08-26T23:00:45.720958Z",
     "iopub.status.idle": "2021-08-26T23:00:45.726100Z",
     "shell.execute_reply": "2021-08-26T23:00:45.725235Z",
     "shell.execute_reply.started": "2021-08-26T23:00:45.721163Z"
    }
   },
   "outputs": [],
   "source": [
    "# Create training sequences\n",
    "train_sequences = TimeseriesGenerator(Xs_train, y_train, length=1,batch_size=64)\n",
    "\n",
    "# Create Test Sequences\n",
    "test_sequences = TimeseriesGenerator(Xs_test, y_test, length=1,batch_size=64)"
   ]
  },
  {
   "cell_type": "code",
   "execution_count": 77,
   "id": "44dd8216-f283-4ee7-b52a-416fd046dad1",
   "metadata": {
    "execution": {
     "iopub.execute_input": "2021-08-26T23:00:55.831820Z",
     "iopub.status.busy": "2021-08-26T23:00:55.831626Z",
     "iopub.status.idle": "2021-08-26T23:00:55.837924Z",
     "shell.execute_reply": "2021-08-26T23:00:55.837324Z",
     "shell.execute_reply.started": "2021-08-26T23:00:55.831802Z"
    }
   },
   "outputs": [
    {
     "data": {
      "text/plain": [
       "(64, 1, 10)"
      ]
     },
     "execution_count": 77,
     "metadata": {},
     "output_type": "execute_result"
    }
   ],
   "source": [
    "train_sequences[0][0].shape\n"
   ]
  },
  {
   "cell_type": "code",
   "execution_count": 78,
   "id": "ccc3022d-a6ec-465f-983b-d66b4832c540",
   "metadata": {
    "execution": {
     "iopub.execute_input": "2021-08-26T23:01:05.767937Z",
     "iopub.status.busy": "2021-08-26T23:01:05.767741Z",
     "iopub.status.idle": "2021-08-26T23:01:05.773173Z",
     "shell.execute_reply": "2021-08-26T23:01:05.772494Z",
     "shell.execute_reply.started": "2021-08-26T23:01:05.767919Z"
    }
   },
   "outputs": [],
   "source": [
    "input_shape = train_sequences[0][0][0].shape"
   ]
  },
  {
   "cell_type": "code",
   "execution_count": 98,
   "id": "444b5824-8732-4b93-b996-ea2eca74187b",
   "metadata": {
    "execution": {
     "iopub.execute_input": "2021-08-26T23:16:47.187306Z",
     "iopub.status.busy": "2021-08-26T23:16:47.187115Z",
     "iopub.status.idle": "2021-08-26T23:16:47.447974Z",
     "shell.execute_reply": "2021-08-26T23:16:47.446999Z",
     "shell.execute_reply.started": "2021-08-26T23:16:47.187288Z"
    },
    "tags": []
   },
   "outputs": [
    {
     "name": "stdout",
     "output_type": "stream",
     "text": [
      "Model: \"sequential_7\"\n",
      "_________________________________________________________________\n",
      "Layer (type)                 Output Shape              Param #   \n",
      "=================================================================\n",
      "gru_10 (GRU)                 (None, 1, 20)             1920      \n",
      "_________________________________________________________________\n",
      "gru_11 (GRU)                 (None, 20)                2520      \n",
      "_________________________________________________________________\n",
      "dense_14 (Dense)             (None, 10)                210       \n",
      "_________________________________________________________________\n",
      "dense_15 (Dense)             (None, 1)                 11        \n",
      "=================================================================\n",
      "Total params: 4,661\n",
      "Trainable params: 4,661\n",
      "Non-trainable params: 0\n",
      "_________________________________________________________________\n"
     ]
    }
   ],
   "source": [
    "# model network \n",
    "\n",
    "rnn = Sequential()\n",
    "rnn.add(GRU(20,input_shape=input_shape, return_sequences=True))\n",
    "rnn.add(GRU(20,return_sequences=False)) # false if next layer dense\n",
    "rnn.add(Dense(10,activation='relu'))\n",
    "rnn.add(Dense(1))\n",
    "\n",
    "# compile model \n",
    "rnn.compile(optimizer='adam',loss='mse',)\n",
    "\n",
    "# show summary \n",
    "rnn.summary()"
   ]
  },
  {
   "cell_type": "code",
   "execution_count": 99,
   "id": "98efd726-b97a-4685-aa3c-f5b0915908bd",
   "metadata": {
    "execution": {
     "iopub.execute_input": "2021-08-26T23:16:48.461781Z",
     "iopub.status.busy": "2021-08-26T23:16:48.461584Z",
     "iopub.status.idle": "2021-08-26T23:17:13.836921Z",
     "shell.execute_reply": "2021-08-26T23:17:13.835960Z",
     "shell.execute_reply.started": "2021-08-26T23:16:48.461762Z"
    },
    "scrolled": true,
    "tags": []
   },
   "outputs": [
    {
     "name": "stdout",
     "output_type": "stream",
     "text": [
      "Epoch 1/100\n",
      "46/46 - 2s - loss: 3.3713e-04 - val_loss: 1.7230e-04\n",
      "Epoch 2/100\n",
      "46/46 - 0s - loss: 7.3781e-05 - val_loss: 1.2915e-04\n",
      "Epoch 3/100\n",
      "46/46 - 0s - loss: 6.2896e-05 - val_loss: 1.1744e-04\n",
      "Epoch 4/100\n",
      "46/46 - 0s - loss: 6.0641e-05 - val_loss: 1.1579e-04\n",
      "Epoch 5/100\n",
      "46/46 - 0s - loss: 5.6046e-05 - val_loss: 1.2263e-04\n",
      "Epoch 6/100\n",
      "46/46 - 0s - loss: 5.5678e-05 - val_loss: 1.1894e-04\n",
      "Epoch 7/100\n",
      "46/46 - 0s - loss: 5.5554e-05 - val_loss: 1.1636e-04\n",
      "Epoch 8/100\n",
      "46/46 - 0s - loss: 5.3298e-05 - val_loss: 1.1731e-04\n",
      "Epoch 9/100\n",
      "46/46 - 0s - loss: 5.4253e-05 - val_loss: 1.1815e-04\n",
      "Epoch 10/100\n",
      "46/46 - 0s - loss: 5.4630e-05 - val_loss: 1.2185e-04\n",
      "Epoch 11/100\n",
      "46/46 - 0s - loss: 5.3919e-05 - val_loss: 1.1295e-04\n",
      "Epoch 12/100\n",
      "46/46 - 0s - loss: 5.3152e-05 - val_loss: 1.1773e-04\n",
      "Epoch 13/100\n",
      "46/46 - 0s - loss: 5.3391e-05 - val_loss: 1.1549e-04\n",
      "Epoch 14/100\n",
      "46/46 - 0s - loss: 5.2585e-05 - val_loss: 1.2013e-04\n",
      "Epoch 15/100\n",
      "46/46 - 0s - loss: 5.4121e-05 - val_loss: 1.1871e-04\n",
      "Epoch 16/100\n",
      "46/46 - 0s - loss: 5.2592e-05 - val_loss: 1.1650e-04\n",
      "Epoch 17/100\n",
      "46/46 - 0s - loss: 5.2394e-05 - val_loss: 1.1785e-04\n",
      "Epoch 18/100\n",
      "46/46 - 0s - loss: 5.1451e-05 - val_loss: 1.1554e-04\n",
      "Epoch 19/100\n",
      "46/46 - 0s - loss: 5.0426e-05 - val_loss: 1.1912e-04\n",
      "Epoch 20/100\n",
      "46/46 - 0s - loss: 5.2453e-05 - val_loss: 1.2473e-04\n",
      "Epoch 21/100\n",
      "46/46 - 0s - loss: 5.2604e-05 - val_loss: 1.2529e-04\n",
      "Epoch 22/100\n",
      "46/46 - 0s - loss: 5.1976e-05 - val_loss: 1.1463e-04\n",
      "Epoch 23/100\n",
      "46/46 - 0s - loss: 5.0256e-05 - val_loss: 1.1920e-04\n",
      "Epoch 24/100\n",
      "46/46 - 0s - loss: 5.1154e-05 - val_loss: 1.1856e-04\n",
      "Epoch 25/100\n",
      "46/46 - 0s - loss: 5.2634e-05 - val_loss: 1.1885e-04\n",
      "Epoch 26/100\n",
      "46/46 - 0s - loss: 5.0743e-05 - val_loss: 1.1763e-04\n",
      "Epoch 27/100\n",
      "46/46 - 0s - loss: 5.1475e-05 - val_loss: 1.2105e-04\n",
      "Epoch 28/100\n",
      "46/46 - 0s - loss: 5.0432e-05 - val_loss: 1.1934e-04\n",
      "Epoch 29/100\n",
      "46/46 - 0s - loss: 5.0814e-05 - val_loss: 1.2253e-04\n",
      "Epoch 30/100\n",
      "46/46 - 0s - loss: 5.0455e-05 - val_loss: 1.2379e-04\n",
      "Epoch 31/100\n",
      "46/46 - 0s - loss: 5.0487e-05 - val_loss: 1.1659e-04\n",
      "Epoch 32/100\n",
      "46/46 - 0s - loss: 5.0105e-05 - val_loss: 1.1913e-04\n",
      "Epoch 33/100\n",
      "46/46 - 0s - loss: 5.1313e-05 - val_loss: 1.2026e-04\n",
      "Epoch 34/100\n",
      "46/46 - 0s - loss: 5.0880e-05 - val_loss: 1.2541e-04\n",
      "Epoch 35/100\n",
      "46/46 - 0s - loss: 5.1147e-05 - val_loss: 1.2248e-04\n",
      "Epoch 36/100\n",
      "46/46 - 0s - loss: 4.9459e-05 - val_loss: 1.2066e-04\n",
      "Epoch 37/100\n",
      "46/46 - 0s - loss: 4.9644e-05 - val_loss: 1.2243e-04\n",
      "Epoch 38/100\n",
      "46/46 - 0s - loss: 5.0624e-05 - val_loss: 1.2409e-04\n",
      "Epoch 39/100\n",
      "46/46 - 0s - loss: 4.9868e-05 - val_loss: 1.2107e-04\n",
      "Epoch 40/100\n",
      "46/46 - 0s - loss: 5.1957e-05 - val_loss: 1.1852e-04\n",
      "Epoch 41/100\n",
      "46/46 - 0s - loss: 5.1182e-05 - val_loss: 1.2408e-04\n",
      "Epoch 42/100\n",
      "46/46 - 0s - loss: 4.9601e-05 - val_loss: 1.2122e-04\n",
      "Epoch 43/100\n",
      "46/46 - 0s - loss: 5.0238e-05 - val_loss: 1.1775e-04\n",
      "Epoch 44/100\n",
      "46/46 - 0s - loss: 5.1181e-05 - val_loss: 1.1936e-04\n",
      "Epoch 45/100\n",
      "46/46 - 0s - loss: 5.0876e-05 - val_loss: 1.2197e-04\n",
      "Epoch 46/100\n",
      "46/46 - 0s - loss: 4.9316e-05 - val_loss: 1.2352e-04\n",
      "Epoch 47/100\n",
      "46/46 - 0s - loss: 4.9518e-05 - val_loss: 1.2311e-04\n",
      "Epoch 48/100\n",
      "46/46 - 0s - loss: 4.9345e-05 - val_loss: 1.2457e-04\n",
      "Epoch 49/100\n",
      "46/46 - 0s - loss: 5.1230e-05 - val_loss: 1.2086e-04\n",
      "Epoch 50/100\n",
      "46/46 - 0s - loss: 5.0690e-05 - val_loss: 1.2428e-04\n",
      "Epoch 51/100\n",
      "46/46 - 0s - loss: 4.9902e-05 - val_loss: 1.1725e-04\n",
      "Epoch 52/100\n",
      "46/46 - 0s - loss: 5.1743e-05 - val_loss: 1.2260e-04\n",
      "Epoch 53/100\n",
      "46/46 - 0s - loss: 5.0318e-05 - val_loss: 1.1578e-04\n",
      "Epoch 54/100\n",
      "46/46 - 0s - loss: 4.8861e-05 - val_loss: 1.2766e-04\n",
      "Epoch 55/100\n",
      "46/46 - 0s - loss: 4.9193e-05 - val_loss: 1.2248e-04\n",
      "Epoch 56/100\n",
      "46/46 - 0s - loss: 4.9157e-05 - val_loss: 1.2362e-04\n",
      "Epoch 57/100\n",
      "46/46 - 0s - loss: 4.9995e-05 - val_loss: 1.2303e-04\n",
      "Epoch 58/100\n",
      "46/46 - 0s - loss: 5.0016e-05 - val_loss: 1.2707e-04\n",
      "Epoch 59/100\n",
      "46/46 - 0s - loss: 4.9048e-05 - val_loss: 1.2086e-04\n",
      "Epoch 60/100\n",
      "46/46 - 0s - loss: 4.8359e-05 - val_loss: 1.2381e-04\n",
      "Epoch 61/100\n",
      "46/46 - 0s - loss: 4.8742e-05 - val_loss: 1.2277e-04\n",
      "Epoch 62/100\n",
      "46/46 - 0s - loss: 5.0089e-05 - val_loss: 1.1868e-04\n",
      "Epoch 63/100\n",
      "46/46 - 0s - loss: 4.9316e-05 - val_loss: 1.2304e-04\n",
      "Epoch 64/100\n",
      "46/46 - 0s - loss: 4.9325e-05 - val_loss: 1.2552e-04\n",
      "Epoch 65/100\n",
      "46/46 - 0s - loss: 4.8717e-05 - val_loss: 1.2441e-04\n",
      "Epoch 66/100\n",
      "46/46 - 0s - loss: 4.8750e-05 - val_loss: 1.2441e-04\n",
      "Epoch 67/100\n",
      "46/46 - 0s - loss: 5.0080e-05 - val_loss: 1.3188e-04\n",
      "Epoch 68/100\n",
      "46/46 - 0s - loss: 5.0241e-05 - val_loss: 1.2539e-04\n",
      "Epoch 69/100\n",
      "46/46 - 0s - loss: 4.8249e-05 - val_loss: 1.2070e-04\n",
      "Epoch 70/100\n",
      "46/46 - 0s - loss: 4.8449e-05 - val_loss: 1.2669e-04\n",
      "Epoch 71/100\n",
      "46/46 - 0s - loss: 4.8236e-05 - val_loss: 1.1685e-04\n",
      "Epoch 72/100\n",
      "46/46 - 0s - loss: 4.9207e-05 - val_loss: 1.2489e-04\n",
      "Epoch 73/100\n",
      "46/46 - 0s - loss: 4.9114e-05 - val_loss: 1.2750e-04\n",
      "Epoch 74/100\n",
      "46/46 - 0s - loss: 4.8733e-05 - val_loss: 1.2105e-04\n",
      "Epoch 75/100\n",
      "46/46 - 0s - loss: 4.8494e-05 - val_loss: 1.2260e-04\n",
      "Epoch 76/100\n",
      "46/46 - 0s - loss: 4.7556e-05 - val_loss: 1.2303e-04\n",
      "Epoch 77/100\n",
      "46/46 - 0s - loss: 4.8432e-05 - val_loss: 1.2476e-04\n",
      "Epoch 78/100\n",
      "46/46 - 0s - loss: 4.7684e-05 - val_loss: 1.2301e-04\n",
      "Epoch 79/100\n",
      "46/46 - 0s - loss: 4.8531e-05 - val_loss: 1.1463e-04\n",
      "Epoch 80/100\n",
      "46/46 - 0s - loss: 4.8475e-05 - val_loss: 1.2339e-04\n",
      "Epoch 81/100\n",
      "46/46 - 0s - loss: 4.7980e-05 - val_loss: 1.2240e-04\n",
      "Epoch 82/100\n",
      "46/46 - 0s - loss: 4.8221e-05 - val_loss: 1.2199e-04\n",
      "Epoch 83/100\n",
      "46/46 - 0s - loss: 4.7793e-05 - val_loss: 1.1999e-04\n",
      "Epoch 84/100\n",
      "46/46 - 0s - loss: 4.8103e-05 - val_loss: 1.2281e-04\n",
      "Epoch 85/100\n",
      "46/46 - 0s - loss: 4.8800e-05 - val_loss: 1.2588e-04\n",
      "Epoch 86/100\n",
      "46/46 - 0s - loss: 4.7194e-05 - val_loss: 1.2122e-04\n",
      "Epoch 87/100\n",
      "46/46 - 0s - loss: 4.7838e-05 - val_loss: 1.2991e-04\n",
      "Epoch 88/100\n",
      "46/46 - 0s - loss: 4.8823e-05 - val_loss: 1.1466e-04\n",
      "Epoch 89/100\n",
      "46/46 - 0s - loss: 4.7275e-05 - val_loss: 1.1902e-04\n",
      "Epoch 90/100\n",
      "46/46 - 0s - loss: 4.9500e-05 - val_loss: 1.3348e-04\n",
      "Epoch 91/100\n",
      "46/46 - 0s - loss: 4.9227e-05 - val_loss: 1.1932e-04\n",
      "Epoch 92/100\n",
      "46/46 - 0s - loss: 4.7496e-05 - val_loss: 1.1901e-04\n",
      "Epoch 93/100\n",
      "46/46 - 0s - loss: 4.8652e-05 - val_loss: 1.1462e-04\n",
      "Epoch 94/100\n",
      "46/46 - 0s - loss: 4.8122e-05 - val_loss: 1.2133e-04\n",
      "Epoch 95/100\n",
      "46/46 - 0s - loss: 4.7559e-05 - val_loss: 1.2879e-04\n",
      "Epoch 96/100\n",
      "46/46 - 0s - loss: 4.7025e-05 - val_loss: 1.1460e-04\n",
      "Epoch 97/100\n",
      "46/46 - 0s - loss: 4.8645e-05 - val_loss: 1.1268e-04\n",
      "Epoch 98/100\n",
      "46/46 - 0s - loss: 4.7209e-05 - val_loss: 1.2203e-04\n",
      "Epoch 99/100\n",
      "46/46 - 0s - loss: 4.9674e-05 - val_loss: 1.1556e-04\n",
      "Epoch 100/100\n",
      "46/46 - 0s - loss: 5.0692e-05 - val_loss: 1.2024e-04\n"
     ]
    }
   ],
   "source": [
    "hist_rnn = rnn.fit(train_sequences,validation_data=test_sequences,\n",
    "                  epochs=100,verbose=2)"
   ]
  },
  {
   "cell_type": "code",
   "execution_count": 100,
   "id": "386567e5-d7ef-4829-855e-59b9718f6a2f",
   "metadata": {
    "execution": {
     "iopub.execute_input": "2021-08-26T23:17:13.838464Z",
     "iopub.status.busy": "2021-08-26T23:17:13.838311Z",
     "iopub.status.idle": "2021-08-26T23:17:13.940663Z",
     "shell.execute_reply": "2021-08-26T23:17:13.939816Z",
     "shell.execute_reply.started": "2021-08-26T23:17:13.838447Z"
    },
    "tags": []
   },
   "outputs": [
    {
     "data": {
      "image/png": "[encoded data removed]",
      "text/plain": [
       "<Figure size 432x288 with 1 Axes>"
      ]
     },
     "metadata": {
      "needs_background": "light"
     },
     "output_type": "display_data"
    }
   ],
   "source": [
    "plot_loss(hist_rnn)"
   ]
  },
  {
   "cell_type": "code",
   "execution_count": 84,
   "id": "7d62273a-ec2a-4bc4-9000-a48d08e76706",
   "metadata": {
    "execution": {
     "iopub.execute_input": "2021-08-26T23:08:14.261601Z",
     "iopub.status.busy": "2021-08-26T23:08:14.261397Z",
     "iopub.status.idle": "2021-08-26T23:08:14.265505Z",
     "shell.execute_reply": "2021-08-26T23:08:14.264805Z",
     "shell.execute_reply.started": "2021-08-26T23:08:14.261583Z"
    },
    "tags": []
   },
   "outputs": [],
   "source": [
    "# get_metrics(rnn) "
   ]
  },
  {
   "cell_type": "markdown",
   "id": "c6f2df3f-fa62-449b-b206-33a92636fa5f",
   "metadata": {},
   "source": [
    "# LSTM \n",
    "\n"
   ]
  },
  {
   "cell_type": "code",
   "execution_count": 85,
   "id": "3231818e-ce7e-4bdb-88b1-7d1571705c24",
   "metadata": {
    "execution": {
     "iopub.execute_input": "2021-08-26T23:10:11.450805Z",
     "iopub.status.busy": "2021-08-26T23:10:11.450608Z",
     "iopub.status.idle": "2021-08-26T23:10:11.456266Z",
     "shell.execute_reply": "2021-08-26T23:10:11.455524Z",
     "shell.execute_reply.started": "2021-08-26T23:10:11.450787Z"
    }
   },
   "outputs": [
    {
     "data": {
      "text/plain": [
       "(2920, 10)"
      ]
     },
     "execution_count": 85,
     "metadata": {},
     "output_type": "execute_result"
    }
   ],
   "source": [
    "Xs_train.shape"
   ]
  },
  {
   "cell_type": "code",
   "execution_count": 88,
   "id": "86ca25dd-401f-4db3-94c8-c69ecf2897e5",
   "metadata": {
    "execution": {
     "iopub.execute_input": "2021-08-26T23:10:56.027788Z",
     "iopub.status.busy": "2021-08-26T23:10:56.027595Z",
     "iopub.status.idle": "2021-08-26T23:10:56.031852Z",
     "shell.execute_reply": "2021-08-26T23:10:56.030992Z",
     "shell.execute_reply.started": "2021-08-26T23:10:56.027769Z"
    },
    "tags": []
   },
   "outputs": [],
   "source": [
    "# reshape for LSTM layers \n",
    "X_train_lstm= np.reshape(Xs_train,(Xs_train.shape[0],1,Xs_train.shape[1]))\n",
    "X_test_lstm = np.reshape(Xs_test,(Xs_test.shape[0],1,Xs_test.shape[1]))"
   ]
  },
  {
   "cell_type": "code",
   "execution_count": 89,
   "id": "4f61906e-7082-4383-8822-d9ded9d77818",
   "metadata": {
    "execution": {
     "iopub.execute_input": "2021-08-26T23:11:00.593480Z",
     "iopub.status.busy": "2021-08-26T23:11:00.593252Z",
     "iopub.status.idle": "2021-08-26T23:11:00.598434Z",
     "shell.execute_reply": "2021-08-26T23:11:00.597781Z",
     "shell.execute_reply.started": "2021-08-26T23:11:00.593460Z"
    }
   },
   "outputs": [
    {
     "data": {
      "text/plain": [
       "(2920, 1, 10)"
      ]
     },
     "execution_count": 89,
     "metadata": {},
     "output_type": "execute_result"
    }
   ],
   "source": [
    "X_train_lstm.shape"
   ]
  },
  {
   "cell_type": "code",
   "execution_count": 90,
   "id": "f1115148-94e3-465c-a2e4-67a41ce60a4e",
   "metadata": {
    "execution": {
     "iopub.execute_input": "2021-08-26T23:11:04.378478Z",
     "iopub.status.busy": "2021-08-26T23:11:04.378274Z",
     "iopub.status.idle": "2021-08-26T23:11:04.383149Z",
     "shell.execute_reply": "2021-08-26T23:11:04.382548Z",
     "shell.execute_reply.started": "2021-08-26T23:11:04.378458Z"
    }
   },
   "outputs": [
    {
     "data": {
      "text/plain": [
       "(731, 1, 10)"
      ]
     },
     "execution_count": 90,
     "metadata": {},
     "output_type": "execute_result"
    }
   ],
   "source": [
    "X_test_lstm.shape"
   ]
  },
  {
   "cell_type": "code",
   "execution_count": 331,
   "id": "6f754191-23b5-4d0d-838c-466316be2f9b",
   "metadata": {
    "execution": {
     "iopub.execute_input": "2021-08-27T12:40:40.422340Z",
     "iopub.status.busy": "2021-08-27T12:40:40.422148Z",
     "iopub.status.idle": "2021-08-27T12:40:40.605290Z",
     "shell.execute_reply": "2021-08-27T12:40:40.604940Z",
     "shell.execute_reply.started": "2021-08-27T12:40:40.422322Z"
    },
    "tags": []
   },
   "outputs": [
    {
     "name": "stdout",
     "output_type": "stream",
     "text": [
      "Model: \"sequential_209\"\n",
      "_________________________________________________________________\n",
      "Layer (type)                 Output Shape              Param #   \n",
      "=================================================================\n",
      "lstm_202 (LSTM)              (None, 30)                4920      \n",
      "_________________________________________________________________\n",
      "dense_409 (Dense)            (None, 20)                620       \n",
      "_________________________________________________________________\n",
      "dense_410 (Dense)            (None, 1)                 21        \n",
      "=================================================================\n",
      "Total params: 5,561\n",
      "Trainable params: 5,561\n",
      "Non-trainable params: 0\n",
      "_________________________________________________________________\n"
     ]
    }
   ],
   "source": [
    "# model network \n",
    "\n",
    "lstm = Sequential()\n",
    "lstm.add(LSTM(30,input_shape=(1,10)))\n",
    "lstm.add(Dense(20,activation='relu'))\n",
    "lstm.add(Dense(1))\n",
    "# compile model \n",
    "lstm.compile(optimizer='adam',loss='mse',)\n",
    "\n",
    "lstm.summary()"
   ]
  },
  {
   "cell_type": "code",
   "execution_count": 332,
   "id": "749042c6-9a84-433d-8c61-f4dfd1ec3c5e",
   "metadata": {
    "execution": {
     "iopub.execute_input": "2021-08-27T12:40:47.623289Z",
     "iopub.status.busy": "2021-08-27T12:40:47.623009Z",
     "iopub.status.idle": "2021-08-27T12:41:10.415448Z",
     "shell.execute_reply": "2021-08-27T12:41:10.414700Z",
     "shell.execute_reply.started": "2021-08-27T12:40:47.623271Z"
    },
    "scrolled": true,
    "tags": []
   },
   "outputs": [
    {
     "name": "stdout",
     "output_type": "stream",
     "text": [
      "Epoch 1/100\n",
      "92/92 - 1s - loss: 6.2142e-04 - val_loss: 3.8211e-04\n",
      "Epoch 2/100\n",
      "92/92 - 0s - loss: 6.3273e-05 - val_loss: 2.1640e-04\n",
      "Epoch 3/100\n",
      "92/92 - 0s - loss: 3.2210e-05 - val_loss: 1.5745e-04\n",
      "Epoch 4/100\n",
      "92/92 - 0s - loss: 2.3225e-05 - val_loss: 1.2622e-04\n",
      "Epoch 5/100\n",
      "92/92 - 0s - loss: 1.9654e-05 - val_loss: 1.1105e-04\n",
      "Epoch 6/100\n",
      "92/92 - 0s - loss: 1.6650e-05 - val_loss: 1.0597e-04\n",
      "Epoch 7/100\n",
      "92/92 - 0s - loss: 1.3865e-05 - val_loss: 9.6254e-05\n",
      "Epoch 8/100\n",
      "92/92 - 0s - loss: 1.3051e-05 - val_loss: 9.7491e-05\n",
      "Epoch 9/100\n",
      "92/92 - 0s - loss: 1.3075e-05 - val_loss: 9.7121e-05\n",
      "Epoch 10/100\n",
      "92/92 - 0s - loss: 1.3245e-05 - val_loss: 8.5103e-05\n",
      "Epoch 11/100\n",
      "92/92 - 0s - loss: 1.1671e-05 - val_loss: 8.3372e-05\n",
      "Epoch 12/100\n",
      "92/92 - 0s - loss: 1.1048e-05 - val_loss: 9.4790e-05\n",
      "Epoch 13/100\n",
      "92/92 - 0s - loss: 1.2295e-05 - val_loss: 9.9154e-05\n",
      "Epoch 14/100\n",
      "92/92 - 0s - loss: 1.0967e-05 - val_loss: 9.3234e-05\n",
      "Epoch 15/100\n",
      "92/92 - 0s - loss: 1.0365e-05 - val_loss: 8.0010e-05\n",
      "Epoch 16/100\n",
      "92/92 - 0s - loss: 1.0513e-05 - val_loss: 9.7041e-05\n",
      "Epoch 17/100\n",
      "92/92 - 0s - loss: 9.6810e-06 - val_loss: 8.1942e-05\n",
      "Epoch 18/100\n",
      "92/92 - 0s - loss: 1.0270e-05 - val_loss: 8.5487e-05\n",
      "Epoch 19/100\n",
      "92/92 - 0s - loss: 9.4231e-06 - val_loss: 8.4885e-05\n",
      "Epoch 20/100\n",
      "92/92 - 0s - loss: 1.0183e-05 - val_loss: 8.5812e-05\n",
      "Epoch 21/100\n",
      "92/92 - 0s - loss: 9.8615e-06 - val_loss: 9.0162e-05\n",
      "Epoch 22/100\n",
      "92/92 - 0s - loss: 9.6949e-06 - val_loss: 7.8232e-05\n",
      "Epoch 23/100\n",
      "92/92 - 0s - loss: 9.6328e-06 - val_loss: 9.8659e-05\n",
      "Epoch 24/100\n",
      "92/92 - 0s - loss: 9.5385e-06 - val_loss: 8.5613e-05\n",
      "Epoch 25/100\n",
      "92/92 - 0s - loss: 9.6521e-06 - val_loss: 7.7192e-05\n",
      "Epoch 26/100\n",
      "92/92 - 0s - loss: 1.0834e-05 - val_loss: 9.5822e-05\n",
      "Epoch 27/100\n",
      "92/92 - 0s - loss: 9.6654e-06 - val_loss: 7.7284e-05\n",
      "Epoch 28/100\n",
      "92/92 - 0s - loss: 9.3204e-06 - val_loss: 7.9921e-05\n",
      "Epoch 29/100\n",
      "92/92 - 0s - loss: 7.8590e-06 - val_loss: 8.0416e-05\n",
      "Epoch 30/100\n",
      "92/92 - 0s - loss: 9.7443e-06 - val_loss: 1.2001e-04\n",
      "Epoch 31/100\n",
      "92/92 - 0s - loss: 1.6107e-05 - val_loss: 8.7247e-05\n",
      "Epoch 32/100\n",
      "92/92 - 0s - loss: 1.1413e-05 - val_loss: 9.5390e-05\n",
      "Epoch 33/100\n",
      "92/92 - 0s - loss: 9.4418e-06 - val_loss: 8.4733e-05\n",
      "Epoch 34/100\n",
      "92/92 - 0s - loss: 1.0421e-05 - val_loss: 1.0289e-04\n",
      "Epoch 35/100\n",
      "92/92 - 0s - loss: 1.0630e-05 - val_loss: 8.8069e-05\n",
      "Epoch 36/100\n",
      "92/92 - 0s - loss: 1.0805e-05 - val_loss: 1.0975e-04\n",
      "Epoch 37/100\n",
      "92/92 - 0s - loss: 8.5924e-06 - val_loss: 7.9774e-05\n",
      "Epoch 38/100\n",
      "92/92 - 0s - loss: 8.9514e-06 - val_loss: 7.9588e-05\n",
      "Epoch 39/100\n",
      "92/92 - 0s - loss: 9.8935e-06 - val_loss: 1.0389e-04\n",
      "Epoch 40/100\n",
      "92/92 - 0s - loss: 9.3871e-06 - val_loss: 9.2326e-05\n",
      "Epoch 41/100\n",
      "92/92 - 0s - loss: 9.1594e-06 - val_loss: 1.0266e-04\n",
      "Epoch 42/100\n",
      "92/92 - 0s - loss: 9.1681e-06 - val_loss: 8.7192e-05\n",
      "Epoch 43/100\n",
      "92/92 - 0s - loss: 9.3056e-06 - val_loss: 8.8362e-05\n",
      "Epoch 44/100\n",
      "92/92 - 0s - loss: 1.1406e-05 - val_loss: 9.2577e-05\n",
      "Epoch 45/100\n",
      "92/92 - 0s - loss: 9.9930e-06 - val_loss: 7.9168e-05\n",
      "Epoch 46/100\n",
      "92/92 - 0s - loss: 7.6488e-06 - val_loss: 9.4030e-05\n",
      "Epoch 47/100\n",
      "92/92 - 0s - loss: 9.7913e-06 - val_loss: 8.7073e-05\n",
      "Epoch 48/100\n",
      "92/92 - 0s - loss: 8.3987e-06 - val_loss: 9.3770e-05\n",
      "Epoch 49/100\n",
      "92/92 - 0s - loss: 7.9533e-06 - val_loss: 8.6412e-05\n",
      "Epoch 50/100\n",
      "92/92 - 0s - loss: 8.2264e-06 - val_loss: 9.7214e-05\n",
      "Epoch 51/100\n",
      "92/92 - 0s - loss: 9.3492e-06 - val_loss: 1.0225e-04\n",
      "Epoch 52/100\n",
      "92/92 - 0s - loss: 8.9331e-06 - val_loss: 9.8173e-05\n",
      "Epoch 53/100\n",
      "92/92 - 0s - loss: 7.8918e-06 - val_loss: 9.0425e-05\n",
      "Epoch 54/100\n",
      "92/92 - 0s - loss: 9.0676e-06 - val_loss: 9.0297e-05\n",
      "Epoch 55/100\n",
      "92/92 - 0s - loss: 8.3717e-06 - val_loss: 1.0307e-04\n",
      "Epoch 56/100\n",
      "92/92 - 0s - loss: 9.0096e-06 - val_loss: 1.0163e-04\n",
      "Epoch 57/100\n",
      "92/92 - 0s - loss: 7.9290e-06 - val_loss: 8.7611e-05\n",
      "Epoch 58/100\n",
      "92/92 - 0s - loss: 7.3905e-06 - val_loss: 8.9731e-05\n",
      "Epoch 59/100\n",
      "92/92 - 0s - loss: 8.6016e-06 - val_loss: 1.0407e-04\n",
      "Epoch 60/100\n",
      "92/92 - 0s - loss: 1.3457e-05 - val_loss: 7.7648e-05\n",
      "Epoch 61/100\n",
      "92/92 - 0s - loss: 1.1838e-05 - val_loss: 9.6290e-05\n",
      "Epoch 62/100\n",
      "92/92 - 0s - loss: 8.4340e-06 - val_loss: 8.8930e-05\n",
      "Epoch 63/100\n",
      "92/92 - 0s - loss: 9.1444e-06 - val_loss: 9.4495e-05\n",
      "Epoch 64/100\n",
      "92/92 - 0s - loss: 7.7121e-06 - val_loss: 1.1099e-04\n",
      "Epoch 65/100\n",
      "92/92 - 0s - loss: 8.5556e-06 - val_loss: 1.0122e-04\n",
      "Epoch 66/100\n",
      "92/92 - 0s - loss: 7.1832e-06 - val_loss: 8.8931e-05\n",
      "Epoch 67/100\n",
      "92/92 - 0s - loss: 7.2343e-06 - val_loss: 1.0065e-04\n",
      "Epoch 68/100\n",
      "92/92 - 0s - loss: 7.4416e-06 - val_loss: 8.2081e-05\n",
      "Epoch 69/100\n",
      "92/92 - 0s - loss: 7.7861e-06 - val_loss: 9.5954e-05\n",
      "Epoch 70/100\n",
      "92/92 - 0s - loss: 7.8692e-06 - val_loss: 9.0040e-05\n",
      "Epoch 71/100\n",
      "92/92 - 0s - loss: 9.0192e-06 - val_loss: 9.3420e-05\n",
      "Epoch 72/100\n",
      "92/92 - 0s - loss: 8.3503e-06 - val_loss: 9.2268e-05\n",
      "Epoch 73/100\n",
      "92/92 - 0s - loss: 8.3908e-06 - val_loss: 8.7926e-05\n",
      "Epoch 74/100\n",
      "92/92 - 0s - loss: 8.4145e-06 - val_loss: 8.6626e-05\n",
      "Epoch 75/100\n",
      "92/92 - 0s - loss: 7.6502e-06 - val_loss: 8.4272e-05\n",
      "Epoch 76/100\n",
      "92/92 - 0s - loss: 6.8922e-06 - val_loss: 8.8022e-05\n",
      "Epoch 77/100\n",
      "92/92 - 0s - loss: 6.7704e-06 - val_loss: 7.8823e-05\n",
      "Epoch 78/100\n",
      "92/92 - 0s - loss: 8.4417e-06 - val_loss: 7.8248e-05\n",
      "Epoch 79/100\n",
      "92/92 - 0s - loss: 7.1213e-06 - val_loss: 8.2709e-05\n",
      "Epoch 80/100\n",
      "92/92 - 0s - loss: 7.4577e-06 - val_loss: 7.6890e-05\n",
      "Epoch 81/100\n",
      "92/92 - 0s - loss: 6.7144e-06 - val_loss: 7.6559e-05\n",
      "Epoch 82/100\n",
      "92/92 - 0s - loss: 6.4952e-06 - val_loss: 7.9572e-05\n",
      "Epoch 83/100\n",
      "92/92 - 0s - loss: 6.7819e-06 - val_loss: 6.9478e-05\n",
      "Epoch 84/100\n",
      "92/92 - 0s - loss: 7.2541e-06 - val_loss: 7.8320e-05\n",
      "Epoch 85/100\n",
      "92/92 - 0s - loss: 7.0458e-06 - val_loss: 9.0301e-05\n",
      "Epoch 86/100\n",
      "92/92 - 0s - loss: 7.4155e-06 - val_loss: 8.6696e-05\n",
      "Epoch 87/100\n",
      "92/92 - 0s - loss: 7.5981e-06 - val_loss: 8.4438e-05\n",
      "Epoch 88/100\n",
      "92/92 - 0s - loss: 7.2691e-06 - val_loss: 8.2612e-05\n",
      "Epoch 89/100\n",
      "92/92 - 0s - loss: 6.8597e-06 - val_loss: 8.2219e-05\n",
      "Epoch 90/100\n",
      "92/92 - 0s - loss: 7.8919e-06 - val_loss: 8.5987e-05\n",
      "Epoch 91/100\n",
      "92/92 - 0s - loss: 7.3278e-06 - val_loss: 7.8462e-05\n",
      "Epoch 92/100\n",
      "92/92 - 0s - loss: 6.6317e-06 - val_loss: 7.9018e-05\n",
      "Epoch 93/100\n",
      "92/92 - 0s - loss: 6.7915e-06 - val_loss: 8.2337e-05\n",
      "Epoch 94/100\n",
      "92/92 - 0s - loss: 6.2479e-06 - val_loss: 7.9516e-05\n",
      "Epoch 95/100\n",
      "92/92 - 0s - loss: 7.1536e-06 - val_loss: 7.3608e-05\n",
      "Epoch 96/100\n",
      "92/92 - 0s - loss: 7.0132e-06 - val_loss: 8.0784e-05\n",
      "Epoch 97/100\n",
      "92/92 - 0s - loss: 6.4139e-06 - val_loss: 7.9179e-05\n",
      "Epoch 98/100\n",
      "92/92 - 0s - loss: 7.4006e-06 - val_loss: 7.9634e-05\n",
      "Epoch 99/100\n",
      "92/92 - 0s - loss: 7.0232e-06 - val_loss: 8.4295e-05\n",
      "Epoch 100/100\n",
      "92/92 - 0s - loss: 6.9135e-06 - val_loss: 7.6063e-05\n"
     ]
    }
   ],
   "source": [
    "# fit model \n",
    "hist_lstm = lstm.fit(X_train_lstm,y_train,\n",
    "                     validation_data=(X_test_lstm,y_test),\n",
    "                  epochs=100,verbose=2)"
   ]
  },
  {
   "cell_type": "code",
   "execution_count": 333,
   "id": "c2145fee-b2f8-4675-bac8-4350cd935de4",
   "metadata": {
    "execution": {
     "iopub.execute_input": "2021-08-27T12:41:10.417326Z",
     "iopub.status.busy": "2021-08-27T12:41:10.417156Z",
     "iopub.status.idle": "2021-08-27T12:41:10.427372Z",
     "shell.execute_reply": "2021-08-27T12:41:10.426684Z",
     "shell.execute_reply.started": "2021-08-27T12:41:10.417310Z"
    },
    "tags": []
   },
   "outputs": [
    {
     "data": {
      "text/html": [
       "<div>\n",
       "<style scoped>\n",
       "    .dataframe tbody tr th:only-of-type {\n",
       "        vertical-align: middle;\n",
       "    }\n",
       "\n",
       "    .dataframe tbody tr th {\n",
       "        vertical-align: top;\n",
       "    }\n",
       "\n",
       "    .dataframe thead th {\n",
       "        text-align: right;\n",
       "    }\n",
       "</style>\n",
       "<table border=\"1\" class=\"dataframe\">\n",
       "  <thead>\n",
       "    <tr style=\"text-align: right;\">\n",
       "      <th></th>\n",
       "      <th>loss</th>\n",
       "      <th>val_loss</th>\n",
       "    </tr>\n",
       "  </thead>\n",
       "  <tbody>\n",
       "    <tr>\n",
       "      <th>82</th>\n",
       "      <td>0.000007</td>\n",
       "      <td>0.000069</td>\n",
       "    </tr>\n",
       "    <tr>\n",
       "      <th>94</th>\n",
       "      <td>0.000007</td>\n",
       "      <td>0.000074</td>\n",
       "    </tr>\n",
       "    <tr>\n",
       "      <th>99</th>\n",
       "      <td>0.000007</td>\n",
       "      <td>0.000076</td>\n",
       "    </tr>\n",
       "    <tr>\n",
       "      <th>80</th>\n",
       "      <td>0.000007</td>\n",
       "      <td>0.000077</td>\n",
       "    </tr>\n",
       "    <tr>\n",
       "      <th>79</th>\n",
       "      <td>0.000007</td>\n",
       "      <td>0.000077</td>\n",
       "    </tr>\n",
       "    <tr>\n",
       "      <th>...</th>\n",
       "      <td>...</td>\n",
       "      <td>...</td>\n",
       "    </tr>\n",
       "    <tr>\n",
       "      <th>29</th>\n",
       "      <td>0.000010</td>\n",
       "      <td>0.000120</td>\n",
       "    </tr>\n",
       "    <tr>\n",
       "      <th>3</th>\n",
       "      <td>0.000023</td>\n",
       "      <td>0.000126</td>\n",
       "    </tr>\n",
       "    <tr>\n",
       "      <th>2</th>\n",
       "      <td>0.000032</td>\n",
       "      <td>0.000157</td>\n",
       "    </tr>\n",
       "    <tr>\n",
       "      <th>1</th>\n",
       "      <td>0.000063</td>\n",
       "      <td>0.000216</td>\n",
       "    </tr>\n",
       "    <tr>\n",
       "      <th>0</th>\n",
       "      <td>0.000621</td>\n",
       "      <td>0.000382</td>\n",
       "    </tr>\n",
       "  </tbody>\n",
       "</table>\n",
       "<p>100 rows × 2 columns</p>\n",
       "</div>"
      ],
      "text/plain": [
       "        loss  val_loss\n",
       "82  0.000007  0.000069\n",
       "94  0.000007  0.000074\n",
       "99  0.000007  0.000076\n",
       "80  0.000007  0.000077\n",
       "79  0.000007  0.000077\n",
       "..       ...       ...\n",
       "29  0.000010  0.000120\n",
       "3   0.000023  0.000126\n",
       "2   0.000032  0.000157\n",
       "1   0.000063  0.000216\n",
       "0   0.000621  0.000382\n",
       "\n",
       "[100 rows x 2 columns]"
      ]
     },
     "execution_count": 333,
     "metadata": {},
     "output_type": "execute_result"
    }
   ],
   "source": [
    "pd.DataFrame(hist_lstm.history).sort_values(by='val_loss')"
   ]
  },
  {
   "cell_type": "code",
   "execution_count": 334,
   "id": "12cc4efd-8804-491e-86ba-06cb2e9ce312",
   "metadata": {
    "execution": {
     "iopub.execute_input": "2021-08-27T12:43:12.401668Z",
     "iopub.status.busy": "2021-08-27T12:43:12.401470Z",
     "iopub.status.idle": "2021-08-27T12:43:12.496605Z",
     "shell.execute_reply": "2021-08-27T12:43:12.495859Z",
     "shell.execute_reply.started": "2021-08-27T12:43:12.401649Z"
    },
    "tags": []
   },
   "outputs": [
    {
     "data": {
      "image/png": "[encoded data removed]",
      "text/plain": [
       "<Figure size 432x288 with 1 Axes>"
      ]
     },
     "metadata": {
      "needs_background": "light"
     },
     "output_type": "display_data"
    }
   ],
   "source": [
    "plot_loss(hist_lstm)"
   ]
  },
  {
   "cell_type": "code",
   "execution_count": 337,
   "id": "b34054bc-4e25-40b6-97e1-d62748de37dc",
   "metadata": {
    "execution": {
     "iopub.execute_input": "2021-08-27T12:44:29.100990Z",
     "iopub.status.busy": "2021-08-27T12:44:29.100786Z",
     "iopub.status.idle": "2021-08-27T12:44:29.265302Z",
     "shell.execute_reply": "2021-08-27T12:44:29.264487Z",
     "shell.execute_reply.started": "2021-08-27T12:44:29.100972Z"
    }
   },
   "outputs": [
    {
     "name": "stdout",
     "output_type": "stream",
     "text": [
      "Training MSE: 7.162298833787815e-06\n",
      "Testing MSE: 7.606285853361118e-05\n",
      "Test - Train(overage): 6.890055969982336e-05\n"
     ]
    }
   ],
   "source": [
    "get_metrics(lstm,X_train_lstm,X_test_lstm)"
   ]
  },
  {
   "cell_type": "code",
   "execution_count": null,
   "id": "574a3f21-07a2-4660-874f-f5807680ff97",
   "metadata": {},
   "outputs": [],
   "source": [
    "validation_data=(X_test_lstm,y_test)"
   ]
  },
  {
   "cell_type": "code",
   "execution_count": 179,
   "id": "df06b105-a943-4701-9f38-94227d68e9ba",
   "metadata": {
    "execution": {
     "iopub.execute_input": "2021-08-27T00:34:00.150613Z",
     "iopub.status.busy": "2021-08-27T00:34:00.150419Z",
     "iopub.status.idle": "2021-08-27T00:34:00.153585Z",
     "shell.execute_reply": "2021-08-27T00:34:00.153005Z",
     "shell.execute_reply.started": "2021-08-27T00:34:00.150595Z"
    },
    "tags": []
   },
   "outputs": [],
   "source": [
    "# get_metrics(lstm,X_train=X_train_lstm,X_test=X_test_lstm) FIX THIS "
   ]
  },
  {
   "cell_type": "code",
   "execution_count": 285,
   "id": "9f213235-dbf2-4ca4-8039-8f7b0b33655e",
   "metadata": {
    "execution": {
     "iopub.execute_input": "2021-08-27T10:35:39.873585Z",
     "iopub.status.busy": "2021-08-27T10:35:39.872918Z",
     "iopub.status.idle": "2021-08-27T10:35:39.884310Z",
     "shell.execute_reply": "2021-08-27T10:35:39.883524Z",
     "shell.execute_reply.started": "2021-08-27T10:35:39.873521Z"
    },
    "tags": []
   },
   "outputs": [],
   "source": [
    "def show_plot(plot_data, delta, title):\n",
    "    labels = [\"History\", \"True Future\", \"Model Prediction\"]\n",
    "    marker = [\".-\", \"rx\", \"go\"]\n",
    "    time_steps = list(range(-(plot_data[0].shape[0]), 0))\n",
    "    if delta:\n",
    "        future = delta\n",
    "    else:\n",
    "        future = 0\n",
    "\n",
    "    plt.title(title)\n",
    "    for i, val in enumerate(plot_data):\n",
    "        if i:\n",
    "            plt.plot(future, plot_data[i], marker[i], markersize=10, label=labels[i])\n",
    "        else:\n",
    "            plt.plot(time_steps, plot_data[i].flatten(), marker[i], label=labels[i])\n",
    "    plt.legend()\n",
    "    plt.xlim([time_steps[0], (future + 5) * 2])\n",
    "    plt.xlabel(\"Time-Step\")\n",
    "    plt.show()\n",
    "    return\n",
    "\n",
    "\n"
   ]
  },
  {
   "cell_type": "markdown",
   "id": "a0d07343-9267-4c61-ad4d-2beb45dc1e3d",
   "metadata": {},
   "source": [
    "## Baysian Search "
   ]
  },
  {
   "cell_type": "code",
   "execution_count": 107,
   "id": "f62f062c-9a1e-4cb3-8929-0470daeb3c74",
   "metadata": {
    "execution": {
     "iopub.execute_input": "2021-08-26T23:26:39.850889Z",
     "iopub.status.busy": "2021-08-26T23:26:39.850583Z",
     "iopub.status.idle": "2021-08-26T23:26:39.854180Z",
     "shell.execute_reply": "2021-08-26T23:26:39.853577Z",
     "shell.execute_reply.started": "2021-08-26T23:26:39.850871Z"
    }
   },
   "outputs": [],
   "source": [
    "from skopt import BayesSearchCV\n",
    "from skopt.space import Real, Categorical, Integer"
   ]
  },
  {
   "cell_type": "code",
   "execution_count": null,
   "id": "322b8cf6-1888-4d8c-a023-4879aecc6ea7",
   "metadata": {},
   "outputs": [],
   "source": [
    "Integer()"
   ]
  },
  {
   "cell_type": "code",
   "execution_count": 241,
   "id": "2bb712b3-83ca-44c8-9e39-6ea8de4b9e03",
   "metadata": {
    "execution": {
     "iopub.execute_input": "2021-08-27T04:23:32.651073Z",
     "iopub.status.busy": "2021-08-27T04:23:32.650867Z",
     "iopub.status.idle": "2021-08-27T04:23:32.656492Z",
     "shell.execute_reply": "2021-08-27T04:23:32.655558Z",
     "shell.execute_reply.started": "2021-08-27T04:23:32.651055Z"
    },
    "tags": []
   },
   "outputs": [],
   "source": [
    "# function to make models \n",
    "def func_lstm_model(nodes_lstm,nodes_dense):\n",
    "    model = Sequential()\n",
    "    model.add(LSTM(nodes_lstm,input_shape=(1,10)))\n",
    "    model.add(Dense(nodes_dense,activation='relu'))\n",
    "    model.add(Dense(1,))\n",
    "    model.compile(optimizer='adam',loss='mse')\n",
    "    return model "
   ]
  },
  {
   "cell_type": "code",
   "execution_count": 242,
   "id": "efcab9e9-7972-47e5-8b65-9697de618e0a",
   "metadata": {
    "execution": {
     "iopub.execute_input": "2021-08-27T04:23:35.262881Z",
     "iopub.status.busy": "2021-08-27T04:23:35.262682Z",
     "iopub.status.idle": "2021-08-27T04:23:35.266955Z",
     "shell.execute_reply": "2021-08-27T04:23:35.266145Z",
     "shell.execute_reply.started": "2021-08-27T04:23:35.262864Z"
    },
    "tags": []
   },
   "outputs": [],
   "source": [
    "lstm_modeler = KerasRegressor(build_fn=func_lstm_model,epochs=50,verbose=1)"
   ]
  },
  {
   "cell_type": "code",
   "execution_count": 247,
   "id": "4a2af4a1-a0e3-47d7-bd1a-a38a4b0a302c",
   "metadata": {
    "execution": {
     "iopub.execute_input": "2021-08-27T04:25:11.245232Z",
     "iopub.status.busy": "2021-08-27T04:25:11.245006Z",
     "iopub.status.idle": "2021-08-27T04:25:11.250272Z",
     "shell.execute_reply": "2021-08-27T04:25:11.249543Z",
     "shell.execute_reply.started": "2021-08-27T04:25:11.245214Z"
    },
    "tags": []
   },
   "outputs": [],
   "source": [
    "search_space_lstm = {\n",
    "    'nodes_lstm':Integer(10,100),\n",
    "    'nodes_dense':Integer(10,100)\n",
    "}\n"
   ]
  },
  {
   "cell_type": "code",
   "execution_count": 248,
   "id": "9715f452-e01f-4e66-8805-108fb0336143",
   "metadata": {
    "execution": {
     "iopub.execute_input": "2021-08-27T04:25:12.130329Z",
     "iopub.status.busy": "2021-08-27T04:25:12.130113Z",
     "iopub.status.idle": "2021-08-27T04:25:12.133919Z",
     "shell.execute_reply": "2021-08-27T04:25:12.133204Z",
     "shell.execute_reply.started": "2021-08-27T04:25:12.130310Z"
    },
    "tags": []
   },
   "outputs": [],
   "source": [
    "lstm_bs1 = BayesSearchCV(lstm_modeler,search_space_lstm,n_iter=500,random_state=42,verbose=2,)"
   ]
  },
  {
   "cell_type": "code",
   "execution_count": 249,
   "id": "4ef66d29-5a90-457d-bebc-b7a87874a2ec",
   "metadata": {
    "execution": {
     "iopub.execute_input": "2021-08-27T04:25:13.864355Z",
     "iopub.status.busy": "2021-08-27T04:25:13.864166Z",
     "iopub.status.idle": "2021-08-27T04:29:08.181687Z",
     "shell.execute_reply": "2021-08-27T04:29:08.180624Z",
     "shell.execute_reply.started": "2021-08-27T04:25:13.864337Z"
    },
    "scrolled": true,
    "tags": []
   },
   "outputs": [
    {
     "name": "stdout",
     "output_type": "stream",
     "text": [
      "Fitting 5 folds for each of 1 candidates, totalling 5 fits\n",
      "[CV] nodes_dense=47, nodes_lstm=75 ...................................\n",
      "Epoch 1/50\n"
     ]
    },
    {
     "name": "stderr",
     "output_type": "stream",
     "text": [
      "[Parallel(n_jobs=1)]: Using backend SequentialBackend with 1 concurrent workers.\n"
     ]
    },
    {
     "name": "stdout",
     "output_type": "stream",
     "text": [
      "73/73 [==============================] - 1s 3ms/step - loss: 2.7173e-04 - mse: 2.7173e-04\n",
      "Epoch 2/50\n",
      "73/73 [==============================] - 0s 3ms/step - loss: 2.6232e-05 - mse: 2.6232e-05\n",
      "Epoch 3/50\n",
      "73/73 [==============================] - 0s 3ms/step - loss: 1.8050e-05 - mse: 1.8050e-05\n",
      "Epoch 4/50\n",
      "73/73 [==============================] - 0s 3ms/step - loss: 1.4511e-05 - mse: 1.4511e-05\n",
      "Epoch 5/50\n",
      "73/73 [==============================] - 0s 3ms/step - loss: 1.4009e-05 - mse: 1.4009e-05\n",
      "Epoch 6/50\n",
      "73/73 [==============================] - 0s 3ms/step - loss: 1.4109e-05 - mse: 1.4109e-05\n",
      "Epoch 7/50\n",
      "73/73 [==============================] - 0s 3ms/step - loss: 1.2830e-05 - mse: 1.2830e-05\n",
      "Epoch 8/50\n",
      "73/73 [==============================] - 0s 3ms/step - loss: 1.3139e-05 - mse: 1.3139e-05\n",
      "Epoch 9/50\n",
      "73/73 [==============================] - 0s 3ms/step - loss: 1.1226e-05 - mse: 1.1226e-05\n",
      "Epoch 10/50\n",
      "73/73 [==============================] - 0s 3ms/step - loss: 1.0733e-05 - mse: 1.0733e-05\n",
      "Epoch 11/50\n",
      "73/73 [==============================] - 0s 3ms/step - loss: 1.1259e-05 - mse: 1.1259e-05\n",
      "Epoch 12/50\n",
      "73/73 [==============================] - 0s 3ms/step - loss: 1.0150e-05 - mse: 1.0150e-05\n",
      "Epoch 13/50\n",
      "73/73 [==============================] - 0s 3ms/step - loss: 1.0151e-05 - mse: 1.0151e-05\n",
      "Epoch 14/50\n",
      "73/73 [==============================] - 0s 3ms/step - loss: 1.0061e-05 - mse: 1.0061e-05\n",
      "Epoch 15/50\n",
      "73/73 [==============================] - 0s 3ms/step - loss: 9.2588e-06 - mse: 9.2588e-06\n",
      "Epoch 16/50\n",
      "73/73 [==============================] - 0s 3ms/step - loss: 1.0020e-05 - mse: 1.0020e-05\n",
      "Epoch 17/50\n",
      "73/73 [==============================] - 0s 3ms/step - loss: 1.0332e-05 - mse: 1.0332e-05\n",
      "Epoch 18/50\n",
      "73/73 [==============================] - 0s 3ms/step - loss: 9.5109e-06 - mse: 9.5109e-06\n",
      "Epoch 19/50\n",
      "73/73 [==============================] - 0s 3ms/step - loss: 1.0699e-05 - mse: 1.0699e-05\n",
      "Epoch 20/50\n",
      "73/73 [==============================] - 0s 3ms/step - loss: 1.0449e-05 - mse: 1.0449e-05\n",
      "Epoch 21/50\n",
      "73/73 [==============================] - 0s 3ms/step - loss: 1.0580e-05 - mse: 1.0580e-05\n",
      "Epoch 22/50\n",
      "73/73 [==============================] - 0s 2ms/step - loss: 1.0791e-05 - mse: 1.0791e-05\n",
      "Epoch 23/50\n",
      "73/73 [==============================] - 0s 2ms/step - loss: 9.9155e-06 - mse: 9.9155e-06\n",
      "Epoch 24/50\n",
      "73/73 [==============================] - 0s 2ms/step - loss: 1.0202e-05 - mse: 1.0202e-05\n",
      "Epoch 25/50\n",
      "73/73 [==============================] - 0s 2ms/step - loss: 1.3582e-05 - mse: 1.3582e-05\n",
      "Epoch 26/50\n",
      "73/73 [==============================] - 0s 2ms/step - loss: 1.2538e-05 - mse: 1.2538e-05\n",
      "Epoch 27/50\n",
      "73/73 [==============================] - 0s 2ms/step - loss: 9.7453e-06 - mse: 9.7453e-06\n",
      "Epoch 28/50\n",
      "73/73 [==============================] - 0s 2ms/step - loss: 1.1943e-05 - mse: 1.1943e-05\n",
      "Epoch 29/50\n",
      "73/73 [==============================] - 0s 2ms/step - loss: 1.2870e-05 - mse: 1.2870e-05\n",
      "Epoch 30/50\n",
      "73/73 [==============================] - 0s 2ms/step - loss: 9.0268e-06 - mse: 9.0268e-06\n",
      "Epoch 31/50\n",
      "73/73 [==============================] - 0s 3ms/step - loss: 8.9686e-06 - mse: 8.9686e-06\n",
      "Epoch 32/50\n",
      "73/73 [==============================] - 0s 3ms/step - loss: 8.5629e-06 - mse: 8.5629e-06\n",
      "Epoch 33/50\n",
      "73/73 [==============================] - 0s 3ms/step - loss: 8.2146e-06 - mse: 8.2146e-06\n",
      "Epoch 34/50\n",
      "73/73 [==============================] - 0s 3ms/step - loss: 8.1204e-06 - mse: 8.1204e-06\n",
      "Epoch 35/50\n",
      "73/73 [==============================] - 0s 3ms/step - loss: 8.3456e-06 - mse: 8.3456e-06\n",
      "Epoch 36/50\n",
      "73/73 [==============================] - 0s 3ms/step - loss: 9.4993e-06 - mse: 9.4993e-06\n",
      "Epoch 37/50\n",
      "73/73 [==============================] - 0s 3ms/step - loss: 8.9575e-06 - mse: 8.9575e-06\n",
      "Epoch 38/50\n",
      "73/73 [==============================] - 0s 3ms/step - loss: 9.4503e-06 - mse: 9.4503e-06\n",
      "Epoch 39/50\n",
      "73/73 [==============================] - 0s 3ms/step - loss: 8.4799e-06 - mse: 8.4799e-06\n",
      "Epoch 40/50\n",
      "73/73 [==============================] - 0s 3ms/step - loss: 8.5764e-06 - mse: 8.5764e-06\n",
      "Epoch 41/50\n",
      "73/73 [==============================] - 0s 3ms/step - loss: 8.7547e-06 - mse: 8.7547e-06\n",
      "Epoch 42/50\n",
      "73/73 [==============================] - 0s 3ms/step - loss: 8.4540e-06 - mse: 8.4540e-06\n",
      "Epoch 43/50\n",
      "73/73 [==============================] - 0s 3ms/step - loss: 8.7308e-06 - mse: 8.7308e-06\n",
      "Epoch 44/50\n",
      "73/73 [==============================] - 0s 3ms/step - loss: 9.8885e-06 - mse: 9.8885e-06\n",
      "Epoch 45/50\n",
      "73/73 [==============================] - 0s 3ms/step - loss: 9.2079e-06 - mse: 9.2079e-06\n",
      "Epoch 46/50\n",
      "73/73 [==============================] - 0s 3ms/step - loss: 9.8337e-06 - mse: 9.8337e-06\n",
      "Epoch 47/50\n",
      "73/73 [==============================] - 0s 3ms/step - loss: 9.8733e-06 - mse: 9.8733e-06\n",
      "Epoch 48/50\n",
      "73/73 [==============================] - 0s 3ms/step - loss: 9.8762e-06 - mse: 9.8762e-06\n",
      "Epoch 49/50\n",
      "73/73 [==============================] - 0s 3ms/step - loss: 8.2871e-06 - mse: 8.2871e-06\n",
      "Epoch 50/50\n",
      "73/73 [==============================] - 0s 3ms/step - loss: 8.4084e-06 - mse: 8.4084e-06\n",
      "19/19 [==============================] - 0s 2ms/step - loss: 1.0320e-05 - mse: 1.0320e-05\n",
      "[CV] .................... nodes_dense=47, nodes_lstm=75, total=  11.1s\n",
      "[CV] nodes_dense=47, nodes_lstm=75 ...................................\n"
     ]
    },
    {
     "name": "stderr",
     "output_type": "stream",
     "text": [
      "[Parallel(n_jobs=1)]: Done   1 out of   1 | elapsed:   11.1s remaining:    0.0s\n"
     ]
    },
    {
     "name": "stdout",
     "output_type": "stream",
     "text": [
      "Epoch 1/50\n",
      "73/73 [==============================] - 1s 3ms/step - loss: 2.6328e-04 - mse: 2.6328e-04\n",
      "Epoch 2/50\n",
      "73/73 [==============================] - 0s 3ms/step - loss: 2.4359e-05 - mse: 2.4359e-05\n",
      "Epoch 3/50\n",
      "73/73 [==============================] - 0s 3ms/step - loss: 1.5980e-05 - mse: 1.5980e-05\n",
      "Epoch 4/50\n",
      "73/73 [==============================] - 0s 3ms/step - loss: 1.3496e-05 - mse: 1.3496e-05\n",
      "Epoch 5/50\n",
      "73/73 [==============================] - 0s 3ms/step - loss: 1.3045e-05 - mse: 1.3045e-05\n",
      "Epoch 6/50\n",
      "73/73 [==============================] - 0s 3ms/step - loss: 1.1662e-05 - mse: 1.1662e-05\n",
      "Epoch 7/50\n",
      "73/73 [==============================] - 0s 2ms/step - loss: 1.0960e-05 - mse: 1.0960e-05\n",
      "Epoch 8/50\n",
      "73/73 [==============================] - 0s 2ms/step - loss: 1.2678e-05 - mse: 1.2678e-05\n",
      "Epoch 9/50\n",
      "73/73 [==============================] - 0s 2ms/step - loss: 1.3791e-05 - mse: 1.3791e-05\n",
      "Epoch 10/50\n",
      "73/73 [==============================] - 0s 2ms/step - loss: 1.3113e-05 - mse: 1.3113e-05\n",
      "Epoch 11/50\n",
      "73/73 [==============================] - 0s 2ms/step - loss: 1.1221e-05 - mse: 1.1221e-05\n",
      "Epoch 12/50\n",
      "73/73 [==============================] - 0s 2ms/step - loss: 1.1125e-05 - mse: 1.1125e-05\n",
      "Epoch 13/50\n",
      "73/73 [==============================] - 0s 2ms/step - loss: 1.0950e-05 - mse: 1.0950e-05\n",
      "Epoch 14/50\n",
      "73/73 [==============================] - 0s 2ms/step - loss: 1.2489e-05 - mse: 1.2489e-05\n",
      "Epoch 15/50\n",
      "73/73 [==============================] - 0s 2ms/step - loss: 1.1283e-05 - mse: 1.1283e-05\n",
      "Epoch 16/50\n",
      "73/73 [==============================] - 0s 2ms/step - loss: 1.3430e-05 - mse: 1.3430e-05\n",
      "Epoch 17/50\n",
      "73/73 [==============================] - 0s 2ms/step - loss: 1.3299e-05 - mse: 1.3299e-05\n",
      "Epoch 18/50\n",
      "73/73 [==============================] - 0s 2ms/step - loss: 1.2597e-05 - mse: 1.2597e-05\n",
      "Epoch 19/50\n",
      "73/73 [==============================] - 0s 3ms/step - loss: 1.0998e-05 - mse: 1.0998e-05\n",
      "Epoch 20/50\n",
      "73/73 [==============================] - 0s 2ms/step - loss: 1.0160e-05 - mse: 1.0160e-05\n",
      "Epoch 21/50\n",
      "73/73 [==============================] - 0s 3ms/step - loss: 1.0561e-05 - mse: 1.0561e-05\n",
      "Epoch 22/50\n",
      "73/73 [==============================] - 0s 3ms/step - loss: 1.1235e-05 - mse: 1.1235e-05\n",
      "Epoch 23/50\n",
      "73/73 [==============================] - 0s 2ms/step - loss: 1.1198e-05 - mse: 1.1198e-05\n",
      "Epoch 24/50\n",
      "73/73 [==============================] - 0s 2ms/step - loss: 1.1650e-05 - mse: 1.1650e-05\n",
      "Epoch 25/50\n",
      "73/73 [==============================] - 0s 2ms/step - loss: 1.1383e-05 - mse: 1.1383e-05\n",
      "Epoch 26/50\n",
      "73/73 [==============================] - 0s 2ms/step - loss: 1.1580e-05 - mse: 1.1580e-05\n",
      "Epoch 27/50\n",
      "73/73 [==============================] - 0s 3ms/step - loss: 1.0558e-05 - mse: 1.0558e-05\n",
      "Epoch 28/50\n",
      "73/73 [==============================] - 0s 3ms/step - loss: 1.1029e-05 - mse: 1.1029e-05\n",
      "Epoch 29/50\n",
      "73/73 [==============================] - 0s 2ms/step - loss: 1.0302e-05 - mse: 1.0302e-05\n",
      "Epoch 30/50\n",
      "73/73 [==============================] - 0s 2ms/step - loss: 9.7867e-06 - mse: 9.7867e-06\n",
      "Epoch 31/50\n",
      "73/73 [==============================] - 0s 3ms/step - loss: 1.0357e-05 - mse: 1.0357e-05\n",
      "Epoch 32/50\n",
      "73/73 [==============================] - 0s 2ms/step - loss: 1.1035e-05 - mse: 1.1035e-05\n",
      "Epoch 33/50\n",
      "73/73 [==============================] - 0s 3ms/step - loss: 1.0933e-05 - mse: 1.0933e-05\n",
      "Epoch 34/50\n",
      "73/73 [==============================] - 0s 3ms/step - loss: 1.1634e-05 - mse: 1.1634e-05\n",
      "Epoch 35/50\n",
      "73/73 [==============================] - 0s 3ms/step - loss: 9.5762e-06 - mse: 9.5762e-06\n",
      "Epoch 36/50\n",
      "73/73 [==============================] - 0s 3ms/step - loss: 9.7383e-06 - mse: 9.7383e-06\n",
      "Epoch 37/50\n",
      "73/73 [==============================] - 0s 2ms/step - loss: 1.1170e-05 - mse: 1.1170e-05\n",
      "Epoch 38/50\n",
      "73/73 [==============================] - 0s 2ms/step - loss: 1.0350e-05 - mse: 1.0350e-05\n",
      "Epoch 39/50\n",
      "73/73 [==============================] - 0s 2ms/step - loss: 9.4500e-06 - mse: 9.4500e-06\n",
      "Epoch 40/50\n",
      "73/73 [==============================] - 0s 3ms/step - loss: 8.9964e-06 - mse: 8.9964e-06\n",
      "Epoch 41/50\n",
      "73/73 [==============================] - 0s 3ms/step - loss: 9.5262e-06 - mse: 9.5262e-06\n",
      "Epoch 42/50\n",
      "73/73 [==============================] - 0s 2ms/step - loss: 8.9807e-06 - mse: 8.9807e-06\n",
      "Epoch 43/50\n",
      "73/73 [==============================] - 0s 2ms/step - loss: 8.9712e-06 - mse: 8.9712e-06\n",
      "Epoch 44/50\n",
      "73/73 [==============================] - 0s 3ms/step - loss: 8.8061e-06 - mse: 8.8061e-06\n",
      "Epoch 45/50\n",
      "73/73 [==============================] - 0s 3ms/step - loss: 1.0483e-05 - mse: 1.0483e-05\n",
      "Epoch 46/50\n",
      "73/73 [==============================] - 0s 2ms/step - loss: 9.7398e-06 - mse: 9.7398e-06\n",
      "Epoch 47/50\n",
      "73/73 [==============================] - 0s 3ms/step - loss: 8.8844e-06 - mse: 8.8844e-06\n",
      "Epoch 48/50\n",
      "73/73 [==============================] - 0s 2ms/step - loss: 8.7257e-06 - mse: 8.7257e-06\n",
      "Epoch 49/50\n",
      "73/73 [==============================] - 0s 2ms/step - loss: 9.4813e-06 - mse: 9.4813e-06\n",
      "Epoch 50/50\n",
      "73/73 [==============================] - 0s 3ms/step - loss: 9.3906e-06 - mse: 9.3906e-06\n",
      "19/19 [==============================] - 0s 1ms/step - loss: 3.7551e-06 - mse: 3.7551e-06\n",
      "[CV] .................... nodes_dense=47, nodes_lstm=75, total=  10.4s\n",
      "[CV] nodes_dense=47, nodes_lstm=75 ...................................\n",
      "Epoch 1/50\n",
      "73/73 [==============================] - 1s 2ms/step - loss: 3.2995e-04 - mse: 3.2995e-04\n",
      "Epoch 2/50\n",
      "73/73 [==============================] - 0s 2ms/step - loss: 3.3065e-05 - mse: 3.3065e-05\n",
      "Epoch 3/50\n",
      "73/73 [==============================] - 0s 2ms/step - loss: 2.0157e-05 - mse: 2.0157e-05\n",
      "Epoch 4/50\n",
      "73/73 [==============================] - 0s 2ms/step - loss: 1.5481e-05 - mse: 1.5481e-05\n",
      "Epoch 5/50\n",
      "73/73 [==============================] - 0s 2ms/step - loss: 1.4532e-05 - mse: 1.4532e-05\n",
      "Epoch 6/50\n",
      "73/73 [==============================] - 0s 2ms/step - loss: 1.2278e-05 - mse: 1.2278e-05\n",
      "Epoch 7/50\n",
      "73/73 [==============================] - 0s 2ms/step - loss: 1.1908e-05 - mse: 1.1908e-05\n",
      "Epoch 8/50\n",
      "73/73 [==============================] - 0s 2ms/step - loss: 1.2356e-05 - mse: 1.2356e-05\n",
      "Epoch 9/50\n",
      "73/73 [==============================] - 0s 2ms/step - loss: 1.1344e-05 - mse: 1.1344e-05\n",
      "Epoch 10/50\n",
      "73/73 [==============================] - 0s 3ms/step - loss: 1.0073e-05 - mse: 1.0073e-05\n",
      "Epoch 11/50\n",
      "73/73 [==============================] - 0s 3ms/step - loss: 1.3131e-05 - mse: 1.3131e-05\n",
      "Epoch 12/50\n",
      "73/73 [==============================] - 0s 3ms/step - loss: 1.1534e-05 - mse: 1.1534e-05\n",
      "Epoch 13/50\n",
      "73/73 [==============================] - 0s 3ms/step - loss: 1.1333e-05 - mse: 1.1333e-05\n",
      "Epoch 14/50\n",
      "73/73 [==============================] - 0s 3ms/step - loss: 1.1106e-05 - mse: 1.1106e-05\n",
      "Epoch 15/50\n",
      "73/73 [==============================] - 0s 2ms/step - loss: 1.0457e-05 - mse: 1.0457e-05\n",
      "Epoch 16/50\n",
      "73/73 [==============================] - 0s 3ms/step - loss: 9.9068e-06 - mse: 9.9068e-06\n",
      "Epoch 17/50\n",
      "73/73 [==============================] - 0s 3ms/step - loss: 1.0363e-05 - mse: 1.0363e-05\n",
      "Epoch 18/50\n",
      "73/73 [==============================] - 0s 3ms/step - loss: 1.1139e-05 - mse: 1.1139e-05\n",
      "Epoch 19/50\n",
      "73/73 [==============================] - 0s 3ms/step - loss: 1.2065e-05 - mse: 1.2065e-05\n",
      "Epoch 20/50\n",
      "73/73 [==============================] - 0s 3ms/step - loss: 1.1251e-05 - mse: 1.1251e-05\n",
      "Epoch 21/50\n",
      "73/73 [==============================] - 0s 3ms/step - loss: 1.1937e-05 - mse: 1.1937e-05\n",
      "Epoch 22/50\n",
      "73/73 [==============================] - 0s 3ms/step - loss: 9.8201e-06 - mse: 9.8201e-06\n",
      "Epoch 23/50\n",
      "73/73 [==============================] - 0s 3ms/step - loss: 1.3831e-05 - mse: 1.3831e-05\n",
      "Epoch 24/50\n",
      "73/73 [==============================] - 0s 3ms/step - loss: 1.0600e-05 - mse: 1.0600e-05\n",
      "Epoch 25/50\n",
      "73/73 [==============================] - 0s 2ms/step - loss: 9.8986e-06 - mse: 9.8986e-06\n",
      "Epoch 26/50\n",
      "73/73 [==============================] - 0s 3ms/step - loss: 9.6855e-06 - mse: 9.6855e-06\n",
      "Epoch 27/50\n",
      "73/73 [==============================] - 0s 3ms/step - loss: 1.0342e-05 - mse: 1.0342e-05\n",
      "Epoch 28/50\n",
      "73/73 [==============================] - 0s 3ms/step - loss: 1.1864e-05 - mse: 1.1864e-05\n",
      "Epoch 29/50\n",
      "73/73 [==============================] - 0s 3ms/step - loss: 1.0685e-05 - mse: 1.0685e-05\n",
      "Epoch 30/50\n",
      "73/73 [==============================] - 0s 2ms/step - loss: 9.8512e-06 - mse: 9.8512e-06\n",
      "Epoch 31/50\n",
      "73/73 [==============================] - 0s 3ms/step - loss: 9.4665e-06 - mse: 9.4665e-06\n",
      "Epoch 32/50\n",
      "73/73 [==============================] - 0s 3ms/step - loss: 1.0131e-05 - mse: 1.0131e-05\n",
      "Epoch 33/50\n",
      "73/73 [==============================] - 0s 3ms/step - loss: 1.0214e-05 - mse: 1.0214e-05\n",
      "Epoch 34/50\n",
      "73/73 [==============================] - 0s 2ms/step - loss: 9.6783e-06 - mse: 9.6783e-06\n",
      "Epoch 35/50\n",
      "73/73 [==============================] - 0s 2ms/step - loss: 8.6193e-06 - mse: 8.6193e-06\n",
      "Epoch 36/50\n",
      "73/73 [==============================] - 0s 3ms/step - loss: 9.2617e-06 - mse: 9.2617e-06\n",
      "Epoch 37/50\n",
      "73/73 [==============================] - 0s 3ms/step - loss: 1.0104e-05 - mse: 1.0104e-05\n",
      "Epoch 38/50\n",
      "73/73 [==============================] - 0s 2ms/step - loss: 9.1152e-06 - mse: 9.1152e-06\n",
      "Epoch 39/50\n",
      "73/73 [==============================] - 0s 2ms/step - loss: 9.3035e-06 - mse: 9.3035e-06\n",
      "Epoch 40/50\n",
      "73/73 [==============================] - 0s 3ms/step - loss: 1.0328e-05 - mse: 1.0328e-05\n",
      "Epoch 41/50\n",
      "73/73 [==============================] - 0s 3ms/step - loss: 1.0395e-05 - mse: 1.0395e-05\n",
      "Epoch 42/50\n",
      "73/73 [==============================] - 0s 3ms/step - loss: 1.1951e-05 - mse: 1.1951e-05\n",
      "Epoch 43/50\n",
      "73/73 [==============================] - 0s 3ms/step - loss: 1.3266e-05 - mse: 1.3266e-05\n",
      "Epoch 44/50\n",
      "73/73 [==============================] - 0s 3ms/step - loss: 1.0934e-05 - mse: 1.0934e-05\n",
      "Epoch 45/50\n",
      "73/73 [==============================] - 0s 2ms/step - loss: 9.0085e-06 - mse: 9.0085e-06\n",
      "Epoch 46/50\n",
      "73/73 [==============================] - 0s 2ms/step - loss: 8.6961e-06 - mse: 8.6961e-06\n",
      "Epoch 47/50\n",
      "73/73 [==============================] - 0s 2ms/step - loss: 1.0751e-05 - mse: 1.0751e-05\n",
      "Epoch 48/50\n",
      "73/73 [==============================] - 0s 2ms/step - loss: 9.2945e-06 - mse: 9.2945e-06\n",
      "Epoch 49/50\n",
      "73/73 [==============================] - 0s 3ms/step - loss: 8.5165e-06 - mse: 8.5165e-06\n",
      "Epoch 50/50\n",
      "73/73 [==============================] - 0s 2ms/step - loss: 9.3435e-06 - mse: 9.3435e-06\n",
      "19/19 [==============================] - 0s 1ms/step - loss: 5.0199e-06 - mse: 5.0199e-06\n",
      "[CV] .................... nodes_dense=47, nodes_lstm=75, total=  10.6s\n",
      "[CV] nodes_dense=47, nodes_lstm=75 ...................................\n",
      "Epoch 1/50\n",
      "73/73 [==============================] - 1s 3ms/step - loss: 3.1249e-04 - mse: 3.1249e-04\n",
      "Epoch 2/50\n",
      "73/73 [==============================] - 0s 3ms/step - loss: 3.5085e-05 - mse: 3.5085e-05\n",
      "Epoch 3/50\n",
      "73/73 [==============================] - 0s 3ms/step - loss: 2.3956e-05 - mse: 2.3956e-05\n",
      "Epoch 4/50\n",
      "73/73 [==============================] - 0s 3ms/step - loss: 2.0532e-05 - mse: 2.0532e-05\n",
      "Epoch 5/50\n",
      "73/73 [==============================] - 0s 3ms/step - loss: 1.5502e-05 - mse: 1.5502e-05\n",
      "Epoch 6/50\n",
      "73/73 [==============================] - 0s 3ms/step - loss: 1.4521e-05 - mse: 1.4521e-05\n",
      "Epoch 7/50\n",
      "73/73 [==============================] - 0s 3ms/step - loss: 1.4407e-05 - mse: 1.4407e-05\n",
      "Epoch 8/50\n",
      "73/73 [==============================] - 0s 3ms/step - loss: 1.2766e-05 - mse: 1.2766e-05\n",
      "Epoch 9/50\n",
      "73/73 [==============================] - 0s 3ms/step - loss: 1.2213e-05 - mse: 1.2213e-05\n",
      "Epoch 10/50\n",
      "73/73 [==============================] - 0s 3ms/step - loss: 1.2806e-05 - mse: 1.2806e-05\n",
      "Epoch 11/50\n",
      "73/73 [==============================] - 0s 3ms/step - loss: 1.7443e-05 - mse: 1.7443e-05\n",
      "Epoch 12/50\n",
      "73/73 [==============================] - 0s 3ms/step - loss: 1.4225e-05 - mse: 1.4225e-05\n",
      "Epoch 13/50\n",
      "73/73 [==============================] - 0s 3ms/step - loss: 1.2151e-05 - mse: 1.2151e-05\n",
      "Epoch 14/50\n",
      "73/73 [==============================] - 0s 3ms/step - loss: 1.1889e-05 - mse: 1.1889e-05\n",
      "Epoch 15/50\n",
      "73/73 [==============================] - 0s 3ms/step - loss: 1.1768e-05 - mse: 1.1768e-05\n",
      "Epoch 16/50\n",
      "73/73 [==============================] - 0s 3ms/step - loss: 1.1210e-05 - mse: 1.1210e-05\n",
      "Epoch 17/50\n",
      "73/73 [==============================] - 0s 3ms/step - loss: 1.1145e-05 - mse: 1.1145e-05\n",
      "Epoch 18/50\n",
      "73/73 [==============================] - 0s 3ms/step - loss: 1.0433e-05 - mse: 1.0433e-05\n",
      "Epoch 19/50\n",
      "73/73 [==============================] - 0s 3ms/step - loss: 1.2286e-05 - mse: 1.2286e-05\n",
      "Epoch 20/50\n",
      "73/73 [==============================] - 0s 2ms/step - loss: 1.1653e-05 - mse: 1.1653e-05\n",
      "Epoch 21/50\n",
      "73/73 [==============================] - 0s 3ms/step - loss: 1.1235e-05 - mse: 1.1235e-05\n",
      "Epoch 22/50\n",
      "73/73 [==============================] - 0s 3ms/step - loss: 1.0486e-05 - mse: 1.0486e-05\n",
      "Epoch 23/50\n",
      "73/73 [==============================] - 0s 3ms/step - loss: 1.1267e-05 - mse: 1.1267e-05\n",
      "Epoch 24/50\n",
      "73/73 [==============================] - 0s 3ms/step - loss: 1.2365e-05 - mse: 1.2365e-05\n",
      "Epoch 25/50\n",
      "73/73 [==============================] - 0s 3ms/step - loss: 1.1138e-05 - mse: 1.1138e-05\n",
      "Epoch 26/50\n",
      "73/73 [==============================] - 0s 3ms/step - loss: 1.1156e-05 - mse: 1.1156e-05\n",
      "Epoch 27/50\n",
      "73/73 [==============================] - 0s 3ms/step - loss: 1.2158e-05 - mse: 1.2158e-05\n",
      "Epoch 28/50\n",
      "73/73 [==============================] - 0s 3ms/step - loss: 1.4629e-05 - mse: 1.4629e-05\n",
      "Epoch 29/50\n",
      "73/73 [==============================] - 0s 3ms/step - loss: 1.2353e-05 - mse: 1.2353e-05\n",
      "Epoch 30/50\n",
      "73/73 [==============================] - 0s 2ms/step - loss: 9.7741e-06 - mse: 9.7741e-06\n",
      "Epoch 31/50\n",
      "73/73 [==============================] - 0s 2ms/step - loss: 1.0138e-05 - mse: 1.0138e-05\n",
      "Epoch 32/50\n",
      "73/73 [==============================] - 0s 2ms/step - loss: 1.0828e-05 - mse: 1.0828e-05\n",
      "Epoch 33/50\n",
      "73/73 [==============================] - 0s 3ms/step - loss: 1.1515e-05 - mse: 1.1515e-05\n",
      "Epoch 34/50\n",
      "73/73 [==============================] - 0s 3ms/step - loss: 1.0523e-05 - mse: 1.0523e-05\n",
      "Epoch 35/50\n",
      "73/73 [==============================] - 0s 3ms/step - loss: 9.9198e-06 - mse: 9.9198e-06\n",
      "Epoch 36/50\n",
      "73/73 [==============================] - 0s 3ms/step - loss: 9.6089e-06 - mse: 9.6089e-06\n",
      "Epoch 37/50\n",
      "73/73 [==============================] - 0s 2ms/step - loss: 8.5216e-06 - mse: 8.5216e-06\n",
      "Epoch 38/50\n",
      "73/73 [==============================] - 0s 2ms/step - loss: 8.7625e-06 - mse: 8.7625e-06\n",
      "Epoch 39/50\n",
      "73/73 [==============================] - 0s 3ms/step - loss: 8.8872e-06 - mse: 8.8872e-06\n",
      "Epoch 40/50\n",
      "73/73 [==============================] - 0s 2ms/step - loss: 8.6523e-06 - mse: 8.6523e-06\n",
      "Epoch 41/50\n",
      "73/73 [==============================] - 0s 3ms/step - loss: 8.7829e-06 - mse: 8.7829e-06\n",
      "Epoch 42/50\n",
      "73/73 [==============================] - 0s 3ms/step - loss: 8.0999e-06 - mse: 8.0999e-06\n",
      "Epoch 43/50\n",
      "73/73 [==============================] - 0s 3ms/step - loss: 1.0071e-05 - mse: 1.0071e-05\n",
      "Epoch 44/50\n",
      "73/73 [==============================] - 0s 2ms/step - loss: 1.1582e-05 - mse: 1.1582e-05\n",
      "Epoch 45/50\n",
      "73/73 [==============================] - 0s 2ms/step - loss: 1.0176e-05 - mse: 1.0176e-05\n",
      "Epoch 46/50\n",
      "73/73 [==============================] - 0s 2ms/step - loss: 9.5308e-06 - mse: 9.5308e-06\n",
      "Epoch 47/50\n",
      "73/73 [==============================] - 0s 3ms/step - loss: 8.9221e-06 - mse: 8.9221e-06\n",
      "Epoch 48/50\n",
      "73/73 [==============================] - 0s 3ms/step - loss: 8.2184e-06 - mse: 8.2184e-06\n",
      "Epoch 49/50\n",
      "73/73 [==============================] - 0s 2ms/step - loss: 8.1517e-06 - mse: 8.1517e-06\n",
      "Epoch 50/50\n",
      "73/73 [==============================] - 0s 3ms/step - loss: 8.9109e-06 - mse: 8.9109e-06\n",
      "19/19 [==============================] - 0s 2ms/step - loss: 7.3148e-06 - mse: 7.3148e-06\n",
      "[CV] .................... nodes_dense=47, nodes_lstm=75, total=  11.1s\n",
      "[CV] nodes_dense=47, nodes_lstm=75 ...................................\n",
      "Epoch 1/50\n",
      "73/73 [==============================] - 1s 3ms/step - loss: 2.6757e-04 - mse: 2.6757e-04\n",
      "Epoch 2/50\n",
      "73/73 [==============================] - 0s 2ms/step - loss: 2.1428e-05 - mse: 2.1428e-05\n",
      "Epoch 3/50\n",
      "73/73 [==============================] - 0s 2ms/step - loss: 1.2207e-05 - mse: 1.2207e-05\n",
      "Epoch 4/50\n",
      "73/73 [==============================] - 0s 2ms/step - loss: 1.0302e-05 - mse: 1.0302e-05\n",
      "Epoch 5/50\n",
      "73/73 [==============================] - 0s 2ms/step - loss: 7.1990e-06 - mse: 7.1990e-06\n",
      "Epoch 6/50\n",
      "73/73 [==============================] - 0s 2ms/step - loss: 6.5669e-06 - mse: 6.5669e-06\n",
      "Epoch 7/50\n",
      "73/73 [==============================] - 0s 3ms/step - loss: 5.4509e-06 - mse: 5.4509e-06\n",
      "Epoch 8/50\n",
      "73/73 [==============================] - 0s 3ms/step - loss: 5.7626e-06 - mse: 5.7626e-06\n",
      "Epoch 9/50\n",
      "73/73 [==============================] - 0s 3ms/step - loss: 5.6502e-06 - mse: 5.6502e-06\n",
      "Epoch 10/50\n",
      "73/73 [==============================] - 0s 3ms/step - loss: 5.5285e-06 - mse: 5.5285e-06\n",
      "Epoch 11/50\n",
      "73/73 [==============================] - 0s 3ms/step - loss: 4.2570e-06 - mse: 4.2570e-06\n",
      "Epoch 12/50\n",
      "73/73 [==============================] - 0s 3ms/step - loss: 4.4069e-06 - mse: 4.4069e-06\n",
      "Epoch 13/50\n",
      "73/73 [==============================] - 0s 2ms/step - loss: 4.2954e-06 - mse: 4.2954e-06\n",
      "Epoch 14/50\n",
      "73/73 [==============================] - 0s 3ms/step - loss: 5.5043e-06 - mse: 5.5043e-06\n",
      "Epoch 15/50\n",
      "73/73 [==============================] - 0s 2ms/step - loss: 5.0455e-06 - mse: 5.0455e-06\n",
      "Epoch 16/50\n",
      "73/73 [==============================] - 0s 2ms/step - loss: 5.6307e-06 - mse: 5.6307e-06\n",
      "Epoch 17/50\n",
      "73/73 [==============================] - 0s 2ms/step - loss: 1.1701e-05 - mse: 1.1701e-05\n",
      "Epoch 18/50\n",
      "73/73 [==============================] - 0s 2ms/step - loss: 8.5697e-06 - mse: 8.5697e-06\n",
      "Epoch 19/50\n",
      "73/73 [==============================] - 0s 2ms/step - loss: 5.8199e-06 - mse: 5.8199e-06\n",
      "Epoch 20/50\n",
      "73/73 [==============================] - 0s 2ms/step - loss: 6.3027e-06 - mse: 6.3027e-06\n",
      "Epoch 21/50\n",
      "73/73 [==============================] - 0s 2ms/step - loss: 5.3139e-06 - mse: 5.3139e-06\n",
      "Epoch 22/50\n",
      "73/73 [==============================] - 0s 2ms/step - loss: 4.8077e-06 - mse: 4.8077e-06\n",
      "Epoch 23/50\n",
      "73/73 [==============================] - 0s 2ms/step - loss: 5.3978e-06 - mse: 5.3978e-06\n",
      "Epoch 24/50\n",
      "73/73 [==============================] - 0s 2ms/step - loss: 5.3452e-06 - mse: 5.3452e-06\n",
      "Epoch 25/50\n",
      "73/73 [==============================] - 0s 2ms/step - loss: 7.1303e-06 - mse: 7.1303e-06\n",
      "Epoch 26/50\n",
      "73/73 [==============================] - 0s 3ms/step - loss: 6.0268e-06 - mse: 6.0268e-06\n",
      "Epoch 27/50\n",
      "73/73 [==============================] - 0s 3ms/step - loss: 5.0487e-06 - mse: 5.0487e-06\n",
      "Epoch 28/50\n",
      "73/73 [==============================] - 0s 3ms/step - loss: 3.8263e-06 - mse: 3.8263e-06\n",
      "Epoch 29/50\n",
      "73/73 [==============================] - 0s 3ms/step - loss: 6.1606e-06 - mse: 6.1606e-06\n",
      "Epoch 30/50\n",
      "73/73 [==============================] - 0s 3ms/step - loss: 5.9858e-06 - mse: 5.9858e-06\n",
      "Epoch 31/50\n",
      "73/73 [==============================] - 0s 3ms/step - loss: 7.0510e-06 - mse: 7.0510e-06\n",
      "Epoch 32/50\n",
      "73/73 [==============================] - 0s 3ms/step - loss: 9.5031e-06 - mse: 9.5031e-06\n",
      "Epoch 33/50\n",
      "73/73 [==============================] - 0s 3ms/step - loss: 4.1007e-06 - mse: 4.1007e-06\n",
      "Epoch 34/50\n",
      "73/73 [==============================] - 0s 3ms/step - loss: 3.9994e-06 - mse: 3.9994e-06\n",
      "Epoch 35/50\n",
      "73/73 [==============================] - 0s 3ms/step - loss: 3.9359e-06 - mse: 3.9359e-06\n",
      "Epoch 36/50\n",
      "73/73 [==============================] - 0s 2ms/step - loss: 4.2585e-06 - mse: 4.2585e-06\n",
      "Epoch 37/50\n",
      "73/73 [==============================] - 0s 3ms/step - loss: 3.7324e-06 - mse: 3.7324e-06\n",
      "Epoch 38/50\n",
      "73/73 [==============================] - 0s 2ms/step - loss: 3.7392e-06 - mse: 3.7392e-06\n",
      "Epoch 39/50\n",
      "73/73 [==============================] - 0s 3ms/step - loss: 3.6171e-06 - mse: 3.6171e-06\n",
      "Epoch 40/50\n",
      "73/73 [==============================] - 0s 3ms/step - loss: 3.9351e-06 - mse: 3.9351e-06\n",
      "Epoch 41/50\n",
      "73/73 [==============================] - 0s 3ms/step - loss: 4.1902e-06 - mse: 4.1902e-06\n",
      "Epoch 42/50\n",
      "73/73 [==============================] - 0s 3ms/step - loss: 3.7449e-06 - mse: 3.7449e-06\n",
      "Epoch 43/50\n",
      "73/73 [==============================] - 0s 3ms/step - loss: 3.2645e-06 - mse: 3.2645e-06\n",
      "Epoch 44/50\n",
      "73/73 [==============================] - 0s 2ms/step - loss: 4.2005e-06 - mse: 4.2005e-06\n",
      "Epoch 45/50\n",
      "73/73 [==============================] - 0s 3ms/step - loss: 3.9987e-06 - mse: 3.9987e-06\n",
      "Epoch 46/50\n",
      "73/73 [==============================] - 0s 3ms/step - loss: 3.8381e-06 - mse: 3.8381e-06\n",
      "Epoch 47/50\n",
      "73/73 [==============================] - 0s 3ms/step - loss: 5.9599e-06 - mse: 5.9599e-06\n",
      "Epoch 48/50\n",
      "73/73 [==============================] - 0s 2ms/step - loss: 4.0383e-06 - mse: 4.0383e-06\n",
      "Epoch 49/50\n",
      "73/73 [==============================] - 0s 3ms/step - loss: 5.8117e-06 - mse: 5.8117e-06\n",
      "Epoch 50/50\n",
      "73/73 [==============================] - 0s 3ms/step - loss: 9.3068e-06 - mse: 9.3068e-06\n",
      "19/19 [==============================] - 0s 1ms/step - loss: 2.7477e-05 - mse: 2.7477e-05\n",
      "[CV] .................... nodes_dense=47, nodes_lstm=75, total=  10.7s\n",
      "Fitting 5 folds for each of 1 candidates, totalling 5 fits\n",
      "[CV] nodes_dense=85, nodes_lstm=89 ...................................\n"
     ]
    },
    {
     "name": "stderr",
     "output_type": "stream",
     "text": [
      "[Parallel(n_jobs=1)]: Done   5 out of   5 | elapsed:   53.8s finished\n",
      "[Parallel(n_jobs=1)]: Using backend SequentialBackend with 1 concurrent workers.\n"
     ]
    },
    {
     "name": "stdout",
     "output_type": "stream",
     "text": [
      "Epoch 1/50\n",
      "73/73 [==============================] - 1s 3ms/step - loss: 2.5654e-04 - mse: 2.5654e-04\n",
      "Epoch 2/50\n",
      "73/73 [==============================] - 0s 3ms/step - loss: 2.0155e-05 - mse: 2.0155e-05\n",
      "Epoch 3/50\n",
      "73/73 [==============================] - 0s 2ms/step - loss: 1.4503e-05 - mse: 1.4503e-05\n",
      "Epoch 4/50\n",
      "73/73 [==============================] - 0s 3ms/step - loss: 1.2887e-05 - mse: 1.2887e-05\n",
      "Epoch 5/50\n",
      "73/73 [==============================] - 0s 3ms/step - loss: 1.1361e-05 - mse: 1.1361e-05\n",
      "Epoch 6/50\n",
      "73/73 [==============================] - 0s 2ms/step - loss: 1.1168e-05 - mse: 1.1168e-05\n",
      "Epoch 7/50\n",
      "73/73 [==============================] - 0s 2ms/step - loss: 1.2173e-05 - mse: 1.2173e-05\n",
      "Epoch 8/50\n",
      "73/73 [==============================] - 0s 3ms/step - loss: 1.2123e-05 - mse: 1.2123e-05\n",
      "Epoch 9/50\n",
      "73/73 [==============================] - 0s 3ms/step - loss: 1.2987e-05 - mse: 1.2987e-05\n",
      "Epoch 10/50\n",
      "73/73 [==============================] - 0s 2ms/step - loss: 1.0809e-05 - mse: 1.0809e-05\n",
      "Epoch 11/50\n",
      "73/73 [==============================] - 0s 3ms/step - loss: 1.1334e-05 - mse: 1.1334e-05\n",
      "Epoch 12/50\n",
      "73/73 [==============================] - 0s 3ms/step - loss: 1.0549e-05 - mse: 1.0549e-05\n",
      "Epoch 13/50\n",
      "73/73 [==============================] - 0s 3ms/step - loss: 1.0132e-05 - mse: 1.0132e-05\n",
      "Epoch 14/50\n",
      "73/73 [==============================] - 0s 3ms/step - loss: 1.0696e-05 - mse: 1.0696e-05\n",
      "Epoch 15/50\n",
      "73/73 [==============================] - 0s 3ms/step - loss: 1.0963e-05 - mse: 1.0963e-05\n",
      "Epoch 16/50\n",
      "73/73 [==============================] - 0s 3ms/step - loss: 1.2143e-05 - mse: 1.2143e-05\n",
      "Epoch 17/50\n",
      "73/73 [==============================] - 0s 2ms/step - loss: 1.1306e-05 - mse: 1.1306e-05\n",
      "Epoch 18/50\n",
      "73/73 [==============================] - 0s 3ms/step - loss: 1.1195e-05 - mse: 1.1195e-05\n",
      "Epoch 19/50\n",
      "73/73 [==============================] - 0s 3ms/step - loss: 1.0716e-05 - mse: 1.0716e-05\n",
      "Epoch 20/50\n",
      "73/73 [==============================] - 0s 3ms/step - loss: 1.2918e-05 - mse: 1.2918e-05\n",
      "Epoch 21/50\n",
      "73/73 [==============================] - 0s 3ms/step - loss: 1.0953e-05 - mse: 1.0953e-05\n",
      "Epoch 22/50\n",
      "73/73 [==============================] - 0s 3ms/step - loss: 1.1347e-05 - mse: 1.1347e-05\n",
      "Epoch 23/50\n",
      "73/73 [==============================] - 0s 3ms/step - loss: 1.0757e-05 - mse: 1.0757e-05\n",
      "Epoch 24/50\n",
      "73/73 [==============================] - 0s 3ms/step - loss: 1.0116e-05 - mse: 1.0116e-05\n",
      "Epoch 25/50\n",
      "73/73 [==============================] - 0s 3ms/step - loss: 1.0888e-05 - mse: 1.0888e-05\n",
      "Epoch 26/50\n",
      "73/73 [==============================] - 0s 3ms/step - loss: 9.8330e-06 - mse: 9.8330e-06\n",
      "Epoch 27/50\n",
      "73/73 [==============================] - 0s 2ms/step - loss: 1.1879e-05 - mse: 1.1879e-05\n",
      "Epoch 28/50\n",
      "73/73 [==============================] - 0s 3ms/step - loss: 1.0308e-05 - mse: 1.0308e-05\n",
      "Epoch 29/50\n",
      "73/73 [==============================] - 0s 2ms/step - loss: 1.0256e-05 - mse: 1.0256e-05\n",
      "Epoch 30/50\n",
      "73/73 [==============================] - 0s 3ms/step - loss: 9.1641e-06 - mse: 9.1641e-06\n",
      "Epoch 31/50\n",
      "73/73 [==============================] - 0s 3ms/step - loss: 9.9644e-06 - mse: 9.9644e-06\n",
      "Epoch 32/50\n",
      "73/73 [==============================] - 0s 3ms/step - loss: 8.3325e-06 - mse: 8.3325e-06\n",
      "Epoch 33/50\n",
      "73/73 [==============================] - 0s 3ms/step - loss: 8.4138e-06 - mse: 8.4138e-06\n",
      "Epoch 34/50\n",
      "73/73 [==============================] - 0s 3ms/step - loss: 9.4087e-06 - mse: 9.4087e-06\n",
      "Epoch 35/50\n",
      "73/73 [==============================] - 0s 2ms/step - loss: 9.4254e-06 - mse: 9.4254e-06\n",
      "Epoch 36/50\n",
      "73/73 [==============================] - 0s 2ms/step - loss: 1.0262e-05 - mse: 1.0262e-05\n",
      "Epoch 37/50\n",
      "73/73 [==============================] - 0s 2ms/step - loss: 1.0382e-05 - mse: 1.0382e-05\n",
      "Epoch 38/50\n",
      "73/73 [==============================] - 0s 3ms/step - loss: 9.0407e-06 - mse: 9.0407e-06\n",
      "Epoch 39/50\n",
      "73/73 [==============================] - 0s 2ms/step - loss: 8.4616e-06 - mse: 8.4616e-06\n",
      "Epoch 40/50\n",
      "73/73 [==============================] - 0s 2ms/step - loss: 9.4506e-06 - mse: 9.4506e-06\n",
      "Epoch 41/50\n",
      "73/73 [==============================] - 0s 3ms/step - loss: 8.4039e-06 - mse: 8.4039e-06\n",
      "Epoch 42/50\n",
      "73/73 [==============================] - 0s 2ms/step - loss: 8.2968e-06 - mse: 8.2968e-06\n",
      "Epoch 43/50\n",
      "73/73 [==============================] - 0s 2ms/step - loss: 8.7462e-06 - mse: 8.7462e-06\n",
      "Epoch 44/50\n",
      "73/73 [==============================] - 0s 2ms/step - loss: 8.5929e-06 - mse: 8.5929e-06\n",
      "Epoch 45/50\n",
      "73/73 [==============================] - 0s 2ms/step - loss: 9.2871e-06 - mse: 9.2871e-06\n",
      "Epoch 46/50\n",
      "73/73 [==============================] - 0s 2ms/step - loss: 9.1549e-06 - mse: 9.1549e-06\n",
      "Epoch 47/50\n",
      "73/73 [==============================] - 0s 2ms/step - loss: 8.6630e-06 - mse: 8.6630e-06\n",
      "Epoch 48/50\n",
      "73/73 [==============================] - 0s 2ms/step - loss: 8.3479e-06 - mse: 8.3479e-06\n",
      "Epoch 49/50\n",
      "73/73 [==============================] - 0s 2ms/step - loss: 8.9920e-06 - mse: 8.9920e-06\n",
      "Epoch 50/50\n",
      "73/73 [==============================] - 0s 2ms/step - loss: 8.5824e-06 - mse: 8.5824e-06\n",
      "19/19 [==============================] - 0s 2ms/step - loss: 1.0784e-05 - mse: 1.0784e-05\n",
      "[CV] .................... nodes_dense=85, nodes_lstm=89, total=  10.8s\n",
      "[CV] nodes_dense=85, nodes_lstm=89 ...................................\n",
      "Epoch 1/50\n"
     ]
    },
    {
     "name": "stderr",
     "output_type": "stream",
     "text": [
      "[Parallel(n_jobs=1)]: Done   1 out of   1 | elapsed:   10.8s remaining:    0.0s\n"
     ]
    },
    {
     "name": "stdout",
     "output_type": "stream",
     "text": [
      "73/73 [==============================] - 1s 3ms/step - loss: 2.6028e-04 - mse: 2.6028e-04\n",
      "Epoch 2/50\n",
      "73/73 [==============================] - 0s 3ms/step - loss: 2.2810e-05 - mse: 2.2810e-05\n",
      "Epoch 3/50\n",
      "73/73 [==============================] - 0s 3ms/step - loss: 1.5588e-05 - mse: 1.5588e-05\n",
      "Epoch 4/50\n",
      "73/73 [==============================] - 0s 3ms/step - loss: 1.2665e-05 - mse: 1.2665e-05\n",
      "Epoch 5/50\n",
      "73/73 [==============================] - 0s 3ms/step - loss: 1.4110e-05 - mse: 1.4110e-05\n",
      "Epoch 6/50\n",
      "73/73 [==============================] - 0s 3ms/step - loss: 1.3595e-05 - mse: 1.3595e-05\n",
      "Epoch 7/50\n",
      "73/73 [==============================] - 0s 3ms/step - loss: 1.1759e-05 - mse: 1.1759e-05\n",
      "Epoch 8/50\n",
      "73/73 [==============================] - 0s 2ms/step - loss: 1.4798e-05 - mse: 1.4798e-05\n",
      "Epoch 9/50\n",
      "73/73 [==============================] - 0s 3ms/step - loss: 1.7264e-05 - mse: 1.7264e-05\n",
      "Epoch 10/50\n",
      "73/73 [==============================] - 0s 3ms/step - loss: 1.7766e-05 - mse: 1.7766e-05\n",
      "Epoch 11/50\n",
      "73/73 [==============================] - 0s 3ms/step - loss: 1.0982e-05 - mse: 1.0982e-05\n",
      "Epoch 12/50\n",
      "73/73 [==============================] - 0s 3ms/step - loss: 1.1115e-05 - mse: 1.1115e-05\n",
      "Epoch 13/50\n",
      "73/73 [==============================] - 0s 3ms/step - loss: 1.0691e-05 - mse: 1.0691e-05\n",
      "Epoch 14/50\n",
      "73/73 [==============================] - 0s 3ms/step - loss: 9.7685e-06 - mse: 9.7685e-06\n",
      "Epoch 15/50\n",
      "73/73 [==============================] - 0s 3ms/step - loss: 1.0641e-05 - mse: 1.0641e-05\n",
      "Epoch 16/50\n",
      "73/73 [==============================] - 0s 3ms/step - loss: 1.3439e-05 - mse: 1.3439e-05\n",
      "Epoch 17/50\n",
      "73/73 [==============================] - 0s 3ms/step - loss: 2.0191e-05 - mse: 2.0191e-05\n",
      "Epoch 18/50\n",
      "73/73 [==============================] - 0s 3ms/step - loss: 1.5135e-05 - mse: 1.5135e-05\n",
      "Epoch 19/50\n",
      "73/73 [==============================] - 0s 3ms/step - loss: 1.2110e-05 - mse: 1.2110e-05\n",
      "Epoch 20/50\n",
      "73/73 [==============================] - 0s 3ms/step - loss: 1.0815e-05 - mse: 1.0815e-05\n",
      "Epoch 21/50\n",
      "73/73 [==============================] - 0s 3ms/step - loss: 1.3426e-05 - mse: 1.3426e-05\n",
      "Epoch 22/50\n",
      "73/73 [==============================] - 0s 3ms/step - loss: 1.1059e-05 - mse: 1.1059e-05\n",
      "Epoch 23/50\n",
      "73/73 [==============================] - 0s 3ms/step - loss: 1.3860e-05 - mse: 1.3860e-05\n",
      "Epoch 24/50\n",
      "73/73 [==============================] - 0s 3ms/step - loss: 1.4765e-05 - mse: 1.4765e-05\n",
      "Epoch 25/50\n",
      "73/73 [==============================] - 0s 2ms/step - loss: 1.2120e-05 - mse: 1.2120e-05\n",
      "Epoch 26/50\n",
      "73/73 [==============================] - 0s 3ms/step - loss: 9.9276e-06 - mse: 9.9276e-06\n",
      "Epoch 27/50\n",
      "73/73 [==============================] - 0s 2ms/step - loss: 9.3165e-06 - mse: 9.3165e-06\n",
      "Epoch 28/50\n",
      "73/73 [==============================] - 0s 3ms/step - loss: 8.2050e-06 - mse: 8.2050e-06\n",
      "Epoch 29/50\n",
      "73/73 [==============================] - 0s 2ms/step - loss: 9.4028e-06 - mse: 9.4028e-06\n",
      "Epoch 30/50\n",
      "73/73 [==============================] - 0s 2ms/step - loss: 8.4232e-06 - mse: 8.4232e-06\n",
      "Epoch 31/50\n",
      "73/73 [==============================] - 0s 2ms/step - loss: 8.6498e-06 - mse: 8.6498e-06\n",
      "Epoch 32/50\n",
      "73/73 [==============================] - 0s 2ms/step - loss: 8.7205e-06 - mse: 8.7205e-06\n",
      "Epoch 33/50\n",
      "73/73 [==============================] - 0s 2ms/step - loss: 8.4712e-06 - mse: 8.4712e-06\n",
      "Epoch 34/50\n",
      "73/73 [==============================] - 0s 2ms/step - loss: 1.1193e-05 - mse: 1.1193e-05\n",
      "Epoch 35/50\n",
      "73/73 [==============================] - 0s 2ms/step - loss: 9.4003e-06 - mse: 9.4003e-06\n",
      "Epoch 36/50\n",
      "73/73 [==============================] - 0s 2ms/step - loss: 1.0047e-05 - mse: 1.0047e-05\n",
      "Epoch 37/50\n",
      "73/73 [==============================] - 0s 3ms/step - loss: 9.2262e-06 - mse: 9.2262e-06\n",
      "Epoch 38/50\n",
      "73/73 [==============================] - 0s 3ms/step - loss: 1.1629e-05 - mse: 1.1629e-05\n",
      "Epoch 39/50\n",
      "73/73 [==============================] - 0s 3ms/step - loss: 9.7487e-06 - mse: 9.7487e-06\n",
      "Epoch 40/50\n",
      "73/73 [==============================] - 0s 3ms/step - loss: 8.9304e-06 - mse: 8.9304e-06\n",
      "Epoch 41/50\n",
      "73/73 [==============================] - 0s 3ms/step - loss: 9.3188e-06 - mse: 9.3188e-06\n",
      "Epoch 42/50\n",
      "73/73 [==============================] - 0s 3ms/step - loss: 8.2850e-06 - mse: 8.2850e-06\n",
      "Epoch 43/50\n",
      "73/73 [==============================] - 0s 3ms/step - loss: 8.6003e-06 - mse: 8.6003e-06\n",
      "Epoch 44/50\n",
      "73/73 [==============================] - 0s 3ms/step - loss: 8.9084e-06 - mse: 8.9084e-06\n",
      "Epoch 45/50\n",
      "73/73 [==============================] - 0s 3ms/step - loss: 8.5047e-06 - mse: 8.5047e-06\n",
      "Epoch 46/50\n",
      "73/73 [==============================] - 0s 3ms/step - loss: 9.2885e-06 - mse: 9.2885e-06\n",
      "Epoch 47/50\n",
      "73/73 [==============================] - 0s 3ms/step - loss: 8.9430e-06 - mse: 8.9430e-06\n",
      "Epoch 48/50\n",
      "73/73 [==============================] - 0s 3ms/step - loss: 1.0457e-05 - mse: 1.0457e-05\n",
      "Epoch 49/50\n",
      "73/73 [==============================] - 0s 3ms/step - loss: 9.1329e-06 - mse: 9.1329e-06\n",
      "Epoch 50/50\n",
      "73/73 [==============================] - 0s 3ms/step - loss: 8.8885e-06 - mse: 8.8885e-06\n",
      "19/19 [==============================] - 0s 2ms/step - loss: 2.6952e-06 - mse: 2.6952e-06\n",
      "[CV] .................... nodes_dense=85, nodes_lstm=89, total=  11.0s\n",
      "[CV] nodes_dense=85, nodes_lstm=89 ...................................\n",
      "Epoch 1/50\n",
      "73/73 [==============================] - 1s 3ms/step - loss: 3.0234e-04 - mse: 3.0234e-04\n",
      "Epoch 2/50\n",
      "73/73 [==============================] - 0s 3ms/step - loss: 2.2757e-05 - mse: 2.2757e-05\n",
      "Epoch 3/50\n",
      "73/73 [==============================] - 0s 3ms/step - loss: 1.6605e-05 - mse: 1.6605e-05\n",
      "Epoch 4/50\n",
      "73/73 [==============================] - 0s 3ms/step - loss: 1.2525e-05 - mse: 1.2525e-05\n",
      "Epoch 5/50\n",
      "73/73 [==============================] - 0s 3ms/step - loss: 1.1831e-05 - mse: 1.1831e-05\n",
      "Epoch 6/50\n",
      "73/73 [==============================] - 0s 3ms/step - loss: 1.1497e-05 - mse: 1.1497e-05\n",
      "Epoch 7/50\n",
      "73/73 [==============================] - 0s 3ms/step - loss: 1.0261e-05 - mse: 1.0261e-05\n",
      "Epoch 8/50\n",
      "73/73 [==============================] - 0s 3ms/step - loss: 9.8995e-06 - mse: 9.8995e-06\n",
      "Epoch 9/50\n",
      "73/73 [==============================] - 0s 3ms/step - loss: 1.1138e-05 - mse: 1.1138e-05\n",
      "Epoch 10/50\n",
      "73/73 [==============================] - 0s 3ms/step - loss: 1.1065e-05 - mse: 1.1065e-05\n",
      "Epoch 11/50\n",
      "73/73 [==============================] - 0s 2ms/step - loss: 1.2714e-05 - mse: 1.2714e-05\n",
      "Epoch 12/50\n",
      "73/73 [==============================] - 0s 2ms/step - loss: 1.1815e-05 - mse: 1.1815e-05\n",
      "Epoch 13/50\n",
      "73/73 [==============================] - 0s 2ms/step - loss: 1.0074e-05 - mse: 1.0074e-05\n",
      "Epoch 14/50\n",
      "73/73 [==============================] - 0s 2ms/step - loss: 1.1157e-05 - mse: 1.1157e-05\n",
      "Epoch 15/50\n",
      "73/73 [==============================] - 0s 2ms/step - loss: 1.2784e-05 - mse: 1.2784e-05\n",
      "Epoch 16/50\n",
      "73/73 [==============================] - 0s 2ms/step - loss: 2.4779e-05 - mse: 2.4779e-05\n",
      "Epoch 17/50\n",
      "73/73 [==============================] - 0s 2ms/step - loss: 2.1064e-05 - mse: 2.1064e-05\n",
      "Epoch 18/50\n",
      "73/73 [==============================] - 0s 2ms/step - loss: 1.3949e-05 - mse: 1.3949e-05\n",
      "Epoch 19/50\n",
      "73/73 [==============================] - 0s 3ms/step - loss: 1.4292e-05 - mse: 1.4292e-05\n",
      "Epoch 20/50\n",
      "73/73 [==============================] - 0s 3ms/step - loss: 1.1567e-05 - mse: 1.1567e-05\n",
      "Epoch 21/50\n",
      "73/73 [==============================] - 0s 3ms/step - loss: 1.4321e-05 - mse: 1.4321e-05\n",
      "Epoch 22/50\n",
      "73/73 [==============================] - 0s 3ms/step - loss: 1.0471e-05 - mse: 1.0471e-05\n",
      "Epoch 23/50\n",
      "73/73 [==============================] - 0s 3ms/step - loss: 1.0156e-05 - mse: 1.0156e-05\n",
      "Epoch 24/50\n",
      "73/73 [==============================] - 0s 3ms/step - loss: 1.0612e-05 - mse: 1.0612e-05\n",
      "Epoch 25/50\n",
      "73/73 [==============================] - 0s 3ms/step - loss: 9.2609e-06 - mse: 9.2609e-06\n",
      "Epoch 26/50\n",
      "73/73 [==============================] - 0s 3ms/step - loss: 8.3973e-06 - mse: 8.3973e-06\n",
      "Epoch 27/50\n",
      "73/73 [==============================] - 0s 3ms/step - loss: 8.4312e-06 - mse: 8.4312e-06\n",
      "Epoch 28/50\n",
      "73/73 [==============================] - 0s 3ms/step - loss: 8.3111e-06 - mse: 8.3111e-06\n",
      "Epoch 29/50\n",
      "73/73 [==============================] - 0s 3ms/step - loss: 8.1498e-06 - mse: 8.1498e-06\n",
      "Epoch 30/50\n",
      "73/73 [==============================] - 0s 3ms/step - loss: 8.2435e-06 - mse: 8.2435e-06\n",
      "Epoch 31/50\n",
      "73/73 [==============================] - 0s 3ms/step - loss: 9.0137e-06 - mse: 9.0137e-06\n",
      "Epoch 32/50\n",
      "73/73 [==============================] - 0s 3ms/step - loss: 8.1788e-06 - mse: 8.1788e-06\n",
      "Epoch 33/50\n",
      "73/73 [==============================] - 0s 3ms/step - loss: 9.1059e-06 - mse: 9.1059e-06\n",
      "Epoch 34/50\n",
      "73/73 [==============================] - 0s 3ms/step - loss: 1.0926e-05 - mse: 1.0926e-05\n",
      "Epoch 35/50\n",
      "73/73 [==============================] - 0s 3ms/step - loss: 9.4064e-06 - mse: 9.4064e-06\n",
      "Epoch 36/50\n",
      "73/73 [==============================] - 0s 3ms/step - loss: 8.8321e-06 - mse: 8.8321e-06\n",
      "Epoch 37/50\n",
      "73/73 [==============================] - 0s 3ms/step - loss: 8.3725e-06 - mse: 8.3725e-06\n",
      "Epoch 38/50\n",
      "73/73 [==============================] - 0s 3ms/step - loss: 8.1890e-06 - mse: 8.1890e-06\n",
      "Epoch 39/50\n",
      "73/73 [==============================] - 0s 3ms/step - loss: 8.5404e-06 - mse: 8.5404e-06\n",
      "Epoch 40/50\n",
      "73/73 [==============================] - 0s 3ms/step - loss: 1.0344e-05 - mse: 1.0344e-05\n",
      "Epoch 41/50\n",
      "73/73 [==============================] - 0s 3ms/step - loss: 9.4886e-06 - mse: 9.4886e-06\n",
      "Epoch 42/50\n",
      "73/73 [==============================] - 0s 3ms/step - loss: 9.3327e-06 - mse: 9.3327e-06\n",
      "Epoch 43/50\n",
      "73/73 [==============================] - 0s 3ms/step - loss: 8.9578e-06 - mse: 8.9578e-06\n",
      "Epoch 44/50\n",
      "73/73 [==============================] - 0s 3ms/step - loss: 8.4728e-06 - mse: 8.4728e-06\n",
      "Epoch 45/50\n",
      "73/73 [==============================] - 0s 3ms/step - loss: 8.1483e-06 - mse: 8.1483e-06\n",
      "Epoch 46/50\n",
      "73/73 [==============================] - 0s 3ms/step - loss: 9.3257e-06 - mse: 9.3257e-06\n",
      "Epoch 47/50\n",
      "73/73 [==============================] - 0s 3ms/step - loss: 8.4076e-06 - mse: 8.4076e-06\n",
      "Epoch 48/50\n",
      "73/73 [==============================] - 0s 3ms/step - loss: 8.1216e-06 - mse: 8.1216e-06\n",
      "Epoch 49/50\n",
      "73/73 [==============================] - 0s 3ms/step - loss: 8.3020e-06 - mse: 8.3020e-06\n",
      "Epoch 50/50\n",
      "73/73 [==============================] - 0s 3ms/step - loss: 8.1977e-06 - mse: 8.1977e-06\n",
      "19/19 [==============================] - 0s 1ms/step - loss: 5.8627e-06 - mse: 5.8627e-06\n",
      "[CV] .................... nodes_dense=85, nodes_lstm=89, total=  12.5s\n",
      "[CV] nodes_dense=85, nodes_lstm=89 ...................................\n",
      "Epoch 1/50\n",
      "73/73 [==============================] - 1s 2ms/step - loss: 2.7007e-04 - mse: 2.7007e-04\n",
      "Epoch 2/50\n",
      "73/73 [==============================] - 0s 3ms/step - loss: 1.8909e-05 - mse: 1.8909e-05\n",
      "Epoch 3/50\n",
      "73/73 [==============================] - 0s 3ms/step - loss: 1.4547e-05 - mse: 1.4547e-05\n",
      "Epoch 4/50\n",
      "73/73 [==============================] - 0s 3ms/step - loss: 1.2589e-05 - mse: 1.2589e-05\n",
      "Epoch 5/50\n",
      "73/73 [==============================] - 0s 3ms/step - loss: 1.0589e-05 - mse: 1.0589e-05\n",
      "Epoch 6/50\n",
      "73/73 [==============================] - 0s 3ms/step - loss: 1.0267e-05 - mse: 1.0267e-05\n",
      "Epoch 7/50\n",
      "73/73 [==============================] - 0s 3ms/step - loss: 1.0122e-05 - mse: 1.0122e-05\n",
      "Epoch 8/50\n",
      "73/73 [==============================] - 0s 3ms/step - loss: 9.7744e-06 - mse: 9.7744e-06\n",
      "Epoch 9/50\n",
      "73/73 [==============================] - 0s 3ms/step - loss: 1.0368e-05 - mse: 1.0368e-05\n",
      "Epoch 10/50\n",
      "73/73 [==============================] - 0s 3ms/step - loss: 1.0719e-05 - mse: 1.0719e-05\n",
      "Epoch 11/50\n",
      "73/73 [==============================] - 0s 3ms/step - loss: 1.0119e-05 - mse: 1.0119e-05\n",
      "Epoch 12/50\n",
      "73/73 [==============================] - 0s 2ms/step - loss: 1.1968e-05 - mse: 1.1968e-05\n",
      "Epoch 13/50\n",
      "73/73 [==============================] - 0s 3ms/step - loss: 1.1135e-05 - mse: 1.1135e-05\n",
      "Epoch 14/50\n",
      "73/73 [==============================] - 0s 3ms/step - loss: 1.0882e-05 - mse: 1.0882e-05\n",
      "Epoch 15/50\n",
      "73/73 [==============================] - 0s 3ms/step - loss: 1.3875e-05 - mse: 1.3875e-05\n",
      "Epoch 16/50\n",
      "73/73 [==============================] - 0s 3ms/step - loss: 1.2391e-05 - mse: 1.2391e-05\n",
      "Epoch 17/50\n",
      "73/73 [==============================] - 0s 3ms/step - loss: 1.1733e-05 - mse: 1.1733e-05\n",
      "Epoch 18/50\n",
      "73/73 [==============================] - 0s 3ms/step - loss: 1.3955e-05 - mse: 1.3955e-05\n",
      "Epoch 19/50\n",
      "73/73 [==============================] - 0s 3ms/step - loss: 1.6811e-05 - mse: 1.6811e-05\n",
      "Epoch 20/50\n",
      "73/73 [==============================] - 0s 3ms/step - loss: 9.6694e-06 - mse: 9.6694e-06\n",
      "Epoch 21/50\n",
      "73/73 [==============================] - 0s 3ms/step - loss: 9.8550e-06 - mse: 9.8550e-06\n",
      "Epoch 22/50\n",
      "73/73 [==============================] - 0s 3ms/step - loss: 9.5206e-06 - mse: 9.5206e-06\n",
      "Epoch 23/50\n",
      "73/73 [==============================] - 0s 3ms/step - loss: 1.0536e-05 - mse: 1.0536e-05\n",
      "Epoch 24/50\n",
      "73/73 [==============================] - 0s 3ms/step - loss: 9.3215e-06 - mse: 9.3215e-06\n",
      "Epoch 25/50\n",
      "73/73 [==============================] - 0s 3ms/step - loss: 8.8234e-06 - mse: 8.8234e-06\n",
      "Epoch 26/50\n",
      "73/73 [==============================] - 0s 3ms/step - loss: 9.4726e-06 - mse: 9.4726e-06\n",
      "Epoch 27/50\n",
      "73/73 [==============================] - 0s 3ms/step - loss: 8.3334e-06 - mse: 8.3334e-06\n",
      "Epoch 28/50\n",
      "73/73 [==============================] - 0s 3ms/step - loss: 8.2807e-06 - mse: 8.2807e-06\n",
      "Epoch 29/50\n",
      "73/73 [==============================] - 0s 3ms/step - loss: 8.9662e-06 - mse: 8.9662e-06\n",
      "Epoch 30/50\n",
      "73/73 [==============================] - 0s 3ms/step - loss: 8.4762e-06 - mse: 8.4762e-06\n",
      "Epoch 31/50\n",
      "73/73 [==============================] - 0s 3ms/step - loss: 8.5296e-06 - mse: 8.5296e-06\n",
      "Epoch 32/50\n",
      "73/73 [==============================] - 0s 3ms/step - loss: 8.5023e-06 - mse: 8.5023e-06\n",
      "Epoch 33/50\n",
      "73/73 [==============================] - 0s 3ms/step - loss: 8.9287e-06 - mse: 8.9287e-06\n",
      "Epoch 34/50\n",
      "73/73 [==============================] - 0s 3ms/step - loss: 9.2265e-06 - mse: 9.2265e-06\n",
      "Epoch 35/50\n",
      "73/73 [==============================] - 0s 3ms/step - loss: 8.0266e-06 - mse: 8.0266e-06\n",
      "Epoch 36/50\n",
      "73/73 [==============================] - 0s 3ms/step - loss: 8.1834e-06 - mse: 8.1834e-06\n",
      "Epoch 37/50\n",
      "73/73 [==============================] - 0s 3ms/step - loss: 1.0359e-05 - mse: 1.0359e-05\n",
      "Epoch 38/50\n",
      "73/73 [==============================] - 0s 2ms/step - loss: 9.0852e-06 - mse: 9.0852e-06\n",
      "Epoch 39/50\n",
      "73/73 [==============================] - 0s 2ms/step - loss: 9.7915e-06 - mse: 9.7915e-06\n",
      "Epoch 40/50\n",
      "73/73 [==============================] - 0s 2ms/step - loss: 9.0056e-06 - mse: 9.0056e-06\n",
      "Epoch 41/50\n",
      "73/73 [==============================] - 0s 2ms/step - loss: 7.6421e-06 - mse: 7.6421e-06\n",
      "Epoch 42/50\n",
      "73/73 [==============================] - 0s 2ms/step - loss: 8.0307e-06 - mse: 8.0307e-06\n",
      "Epoch 43/50\n",
      "73/73 [==============================] - 0s 2ms/step - loss: 7.8621e-06 - mse: 7.8621e-06\n",
      "Epoch 44/50\n",
      "73/73 [==============================] - 0s 2ms/step - loss: 7.6853e-06 - mse: 7.6853e-06\n",
      "Epoch 45/50\n",
      "73/73 [==============================] - 0s 2ms/step - loss: 8.2765e-06 - mse: 8.2765e-06\n",
      "Epoch 46/50\n",
      "73/73 [==============================] - 0s 3ms/step - loss: 7.8507e-06 - mse: 7.8507e-06\n",
      "Epoch 47/50\n",
      "73/73 [==============================] - 0s 3ms/step - loss: 7.3912e-06 - mse: 7.3912e-06\n",
      "Epoch 48/50\n",
      "73/73 [==============================] - 0s 3ms/step - loss: 7.8670e-06 - mse: 7.8670e-06\n",
      "Epoch 49/50\n",
      "73/73 [==============================] - 0s 3ms/step - loss: 7.1928e-06 - mse: 7.1928e-06\n",
      "Epoch 50/50\n",
      "73/73 [==============================] - 0s 2ms/step - loss: 7.9621e-06 - mse: 7.9621e-06\n",
      "19/19 [==============================] - 0s 1ms/step - loss: 6.2437e-06 - mse: 6.2437e-06\n",
      "[CV] .................... nodes_dense=85, nodes_lstm=89, total=  11.0s\n",
      "[CV] nodes_dense=85, nodes_lstm=89 ...................................\n",
      "Epoch 1/50\n",
      "73/73 [==============================] - 1s 3ms/step - loss: 2.2709e-04 - mse: 2.2709e-04\n",
      "Epoch 2/50\n",
      "73/73 [==============================] - 0s 3ms/step - loss: 2.0457e-05 - mse: 2.0457e-05\n",
      "Epoch 3/50\n",
      "73/73 [==============================] - 0s 3ms/step - loss: 1.0287e-05 - mse: 1.0287e-05\n",
      "Epoch 4/50\n",
      "73/73 [==============================] - 0s 3ms/step - loss: 1.0965e-05 - mse: 1.0965e-05\n",
      "Epoch 5/50\n",
      "73/73 [==============================] - 0s 3ms/step - loss: 6.7289e-06 - mse: 6.7289e-06\n",
      "Epoch 6/50\n",
      "73/73 [==============================] - ETA: 0s - loss: 8.1725e-06 - mse: 8.1725e-0 - 0s 3ms/step - loss: 7.7766e-06 - mse: 7.7766e-06\n",
      "Epoch 7/50\n",
      "73/73 [==============================] - 0s 3ms/step - loss: 7.2476e-06 - mse: 7.2476e-06\n",
      "Epoch 8/50\n",
      "73/73 [==============================] - 0s 3ms/step - loss: 9.3179e-06 - mse: 9.3179e-06\n",
      "Epoch 9/50\n",
      "73/73 [==============================] - 0s 3ms/step - loss: 9.6832e-06 - mse: 9.6832e-06\n",
      "Epoch 10/50\n",
      "73/73 [==============================] - 0s 3ms/step - loss: 1.0959e-05 - mse: 1.0959e-05\n",
      "Epoch 11/50\n",
      "73/73 [==============================] - 0s 3ms/step - loss: 1.7231e-05 - mse: 1.7231e-05\n",
      "Epoch 12/50\n",
      "73/73 [==============================] - 0s 3ms/step - loss: 1.3366e-05 - mse: 1.3366e-05\n",
      "Epoch 13/50\n",
      "73/73 [==============================] - 0s 3ms/step - loss: 1.2552e-05 - mse: 1.2552e-05\n",
      "Epoch 14/50\n",
      "73/73 [==============================] - 0s 3ms/step - loss: 8.9699e-06 - mse: 8.9699e-06\n",
      "Epoch 15/50\n",
      "73/73 [==============================] - 0s 3ms/step - loss: 5.8640e-06 - mse: 5.8640e-06\n",
      "Epoch 16/50\n",
      "73/73 [==============================] - 0s 3ms/step - loss: 7.7148e-06 - mse: 7.7148e-06\n",
      "Epoch 17/50\n",
      "73/73 [==============================] - 0s 2ms/step - loss: 1.4855e-05 - mse: 1.4855e-05\n",
      "Epoch 18/50\n",
      "73/73 [==============================] - 0s 3ms/step - loss: 4.6281e-06 - mse: 4.6281e-06\n",
      "Epoch 19/50\n",
      "73/73 [==============================] - 0s 2ms/step - loss: 4.4311e-06 - mse: 4.4311e-06\n",
      "Epoch 20/50\n",
      "73/73 [==============================] - 0s 2ms/step - loss: 4.1049e-06 - mse: 4.1049e-06\n",
      "Epoch 21/50\n",
      "73/73 [==============================] - 0s 2ms/step - loss: 3.7983e-06 - mse: 3.7983e-06\n",
      "Epoch 22/50\n",
      "73/73 [==============================] - 0s 2ms/step - loss: 3.4903e-06 - mse: 3.4903e-06\n",
      "Epoch 23/50\n",
      "73/73 [==============================] - 0s 2ms/step - loss: 3.6787e-06 - mse: 3.6787e-06\n",
      "Epoch 24/50\n",
      "73/73 [==============================] - 0s 2ms/step - loss: 3.9662e-06 - mse: 3.9662e-06\n",
      "Epoch 25/50\n",
      "73/73 [==============================] - 0s 2ms/step - loss: 3.9078e-06 - mse: 3.9078e-06\n",
      "Epoch 26/50\n",
      "73/73 [==============================] - 0s 2ms/step - loss: 3.6109e-06 - mse: 3.6109e-06\n",
      "Epoch 27/50\n",
      "73/73 [==============================] - 0s 2ms/step - loss: 4.0770e-06 - mse: 4.0770e-06\n",
      "Epoch 28/50\n",
      "73/73 [==============================] - 0s 4ms/step - loss: 4.0915e-06 - mse: 4.0915e-06\n",
      "Epoch 29/50\n",
      "73/73 [==============================] - 0s 3ms/step - loss: 6.4667e-06 - mse: 6.4667e-06\n",
      "Epoch 30/50\n",
      "73/73 [==============================] - 0s 3ms/step - loss: 5.0541e-06 - mse: 5.0541e-06\n",
      "Epoch 31/50\n",
      "73/73 [==============================] - 0s 3ms/step - loss: 6.8767e-06 - mse: 6.8767e-06\n",
      "Epoch 32/50\n",
      "73/73 [==============================] - 0s 3ms/step - loss: 6.7918e-06 - mse: 6.7918e-06\n",
      "Epoch 33/50\n",
      "73/73 [==============================] - 0s 3ms/step - loss: 6.4860e-06 - mse: 6.4860e-06\n",
      "Epoch 34/50\n",
      "73/73 [==============================] - 0s 3ms/step - loss: 4.0087e-06 - mse: 4.0087e-06\n",
      "Epoch 35/50\n",
      "73/73 [==============================] - 0s 3ms/step - loss: 3.9804e-06 - mse: 3.9804e-06\n",
      "Epoch 36/50\n",
      "73/73 [==============================] - 0s 3ms/step - loss: 4.7065e-06 - mse: 4.7065e-06\n",
      "Epoch 37/50\n",
      "73/73 [==============================] - 0s 3ms/step - loss: 4.4043e-06 - mse: 4.4043e-06\n",
      "Epoch 38/50\n",
      "73/73 [==============================] - 0s 3ms/step - loss: 4.4791e-06 - mse: 4.4791e-06\n",
      "Epoch 39/50\n",
      "73/73 [==============================] - 0s 3ms/step - loss: 4.7842e-06 - mse: 4.7842e-06\n",
      "Epoch 40/50\n",
      "73/73 [==============================] - 0s 3ms/step - loss: 3.8609e-06 - mse: 3.8609e-06\n",
      "Epoch 41/50\n",
      "73/73 [==============================] - 0s 3ms/step - loss: 4.7849e-06 - mse: 4.7849e-06\n",
      "Epoch 42/50\n",
      "73/73 [==============================] - 0s 3ms/step - loss: 4.6723e-06 - mse: 4.6723e-06\n",
      "Epoch 43/50\n",
      "73/73 [==============================] - 0s 3ms/step - loss: 5.0655e-06 - mse: 5.0655e-06\n",
      "Epoch 44/50\n",
      "73/73 [==============================] - 0s 3ms/step - loss: 5.3672e-06 - mse: 5.3672e-06\n",
      "Epoch 45/50\n",
      "73/73 [==============================] - 0s 3ms/step - loss: 3.6736e-06 - mse: 3.6736e-06\n",
      "Epoch 46/50\n",
      "73/73 [==============================] - 0s 3ms/step - loss: 3.6079e-06 - mse: 3.6079e-06\n",
      "Epoch 47/50\n",
      "73/73 [==============================] - 0s 3ms/step - loss: 3.6464e-06 - mse: 3.6464e-06\n",
      "Epoch 48/50\n",
      "73/73 [==============================] - 0s 3ms/step - loss: 3.8987e-06 - mse: 3.8987e-06\n",
      "Epoch 49/50\n",
      "73/73 [==============================] - 0s 3ms/step - loss: 3.4643e-06 - mse: 3.4643e-06\n",
      "Epoch 50/50\n",
      "73/73 [==============================] - 0s 3ms/step - loss: 3.0571e-06 - mse: 3.0571e-06\n",
      "19/19 [==============================] - 0s 2ms/step - loss: 2.4947e-05 - mse: 2.4947e-05\n",
      "[CV] .................... nodes_dense=85, nodes_lstm=89, total=  11.3s\n",
      "Fitting 5 folds for each of 1 candidates, totalling 5 fits\n",
      "[CV] nodes_dense=50, nodes_lstm=93 ...................................\n",
      "Epoch 1/50\n"
     ]
    },
    {
     "name": "stderr",
     "output_type": "stream",
     "text": [
      "[Parallel(n_jobs=1)]: Done   5 out of   5 | elapsed:   56.6s finished\n",
      "[Parallel(n_jobs=1)]: Using backend SequentialBackend with 1 concurrent workers.\n"
     ]
    },
    {
     "name": "stdout",
     "output_type": "stream",
     "text": [
      "73/73 [==============================] - 1s 3ms/step - loss: 1.7825e-04 - mse: 1.7825e-04\n",
      "Epoch 2/50\n",
      "73/73 [==============================] - 0s 3ms/step - loss: 2.5796e-05 - mse: 2.5796e-05\n",
      "Epoch 3/50\n",
      "73/73 [==============================] - 0s 3ms/step - loss: 1.8903e-05 - mse: 1.8903e-05\n",
      "Epoch 4/50\n",
      "73/73 [==============================] - 0s 2ms/step - loss: 1.5189e-05 - mse: 1.5189e-05\n",
      "Epoch 5/50\n",
      "73/73 [==============================] - 0s 2ms/step - loss: 1.3962e-05 - mse: 1.3962e-05\n",
      "Epoch 6/50\n",
      "73/73 [==============================] - 0s 2ms/step - loss: 1.4275e-05 - mse: 1.4275e-05\n",
      "Epoch 7/50\n",
      "73/73 [==============================] - 0s 2ms/step - loss: 1.4672e-05 - mse: 1.4672e-05\n",
      "Epoch 8/50\n",
      "73/73 [==============================] - 0s 2ms/step - loss: 1.3755e-05 - mse: 1.3755e-05\n",
      "Epoch 9/50\n",
      "73/73 [==============================] - 0s 3ms/step - loss: 1.3406e-05 - mse: 1.3406e-05\n",
      "Epoch 10/50\n",
      "73/73 [==============================] - 0s 2ms/step - loss: 1.7784e-05 - mse: 1.7784e-05\n",
      "Epoch 11/50\n",
      "73/73 [==============================] - 0s 2ms/step - loss: 1.2829e-05 - mse: 1.2829e-05\n",
      "Epoch 12/50\n",
      "73/73 [==============================] - 0s 2ms/step - loss: 1.1628e-05 - mse: 1.1628e-05\n",
      "Epoch 13/50\n",
      "73/73 [==============================] - 0s 2ms/step - loss: 1.1721e-05 - mse: 1.1721e-05\n",
      "Epoch 14/50\n",
      "73/73 [==============================] - 0s 2ms/step - loss: 1.1105e-05 - mse: 1.1105e-05\n",
      "Epoch 15/50\n",
      "73/73 [==============================] - 0s 2ms/step - loss: 1.0854e-05 - mse: 1.0854e-05\n",
      "Epoch 16/50\n",
      "73/73 [==============================] - 0s 3ms/step - loss: 1.2051e-05 - mse: 1.2051e-05\n",
      "Epoch 17/50\n",
      "73/73 [==============================] - 0s 3ms/step - loss: 1.2083e-05 - mse: 1.2083e-05\n",
      "Epoch 18/50\n",
      "73/73 [==============================] - 0s 3ms/step - loss: 1.0475e-05 - mse: 1.0475e-05\n",
      "Epoch 19/50\n",
      "73/73 [==============================] - 0s 3ms/step - loss: 1.1987e-05 - mse: 1.1987e-05\n",
      "Epoch 20/50\n",
      "73/73 [==============================] - 0s 3ms/step - loss: 1.0027e-05 - mse: 1.0027e-05\n",
      "Epoch 21/50\n",
      "73/73 [==============================] - 0s 3ms/step - loss: 1.1733e-05 - mse: 1.1733e-05\n",
      "Epoch 22/50\n",
      "73/73 [==============================] - 0s 3ms/step - loss: 1.0323e-05 - mse: 1.0323e-05\n",
      "Epoch 23/50\n",
      "73/73 [==============================] - 0s 3ms/step - loss: 9.9945e-06 - mse: 9.9945e-06\n",
      "Epoch 24/50\n",
      "73/73 [==============================] - 0s 3ms/step - loss: 1.0018e-05 - mse: 1.0018e-05\n",
      "Epoch 25/50\n",
      "73/73 [==============================] - 0s 3ms/step - loss: 1.1373e-05 - mse: 1.1373e-05\n",
      "Epoch 26/50\n",
      "73/73 [==============================] - 0s 3ms/step - loss: 1.1839e-05 - mse: 1.1839e-05\n",
      "Epoch 27/50\n",
      "73/73 [==============================] - 0s 3ms/step - loss: 1.1358e-05 - mse: 1.1358e-05\n",
      "Epoch 28/50\n",
      "73/73 [==============================] - 0s 3ms/step - loss: 8.7302e-06 - mse: 8.7302e-06\n",
      "Epoch 29/50\n",
      "73/73 [==============================] - 0s 3ms/step - loss: 1.0966e-05 - mse: 1.0966e-05\n",
      "Epoch 30/50\n",
      "73/73 [==============================] - 0s 3ms/step - loss: 8.7232e-06 - mse: 8.7232e-06\n",
      "Epoch 31/50\n",
      "73/73 [==============================] - 0s 3ms/step - loss: 1.0236e-05 - mse: 1.0236e-05\n",
      "Epoch 32/50\n",
      "73/73 [==============================] - 0s 3ms/step - loss: 8.9650e-06 - mse: 8.9650e-06\n",
      "Epoch 33/50\n",
      "73/73 [==============================] - 0s 2ms/step - loss: 9.9783e-06 - mse: 9.9783e-06\n",
      "Epoch 34/50\n",
      "73/73 [==============================] - 0s 3ms/step - loss: 9.6334e-06 - mse: 9.6334e-06\n",
      "Epoch 35/50\n",
      "73/73 [==============================] - 0s 3ms/step - loss: 9.9218e-06 - mse: 9.9218e-06\n",
      "Epoch 36/50\n",
      "73/73 [==============================] - 0s 3ms/step - loss: 1.1666e-05 - mse: 1.1666e-05\n",
      "Epoch 37/50\n",
      "73/73 [==============================] - 0s 3ms/step - loss: 1.2491e-05 - mse: 1.2491e-05\n",
      "Epoch 38/50\n",
      "73/73 [==============================] - 0s 3ms/step - loss: 1.0793e-05 - mse: 1.0793e-05\n",
      "Epoch 39/50\n",
      "73/73 [==============================] - 0s 3ms/step - loss: 8.6647e-06 - mse: 8.6647e-06\n",
      "Epoch 40/50\n",
      "73/73 [==============================] - 0s 3ms/step - loss: 8.4312e-06 - mse: 8.4312e-06\n",
      "Epoch 41/50\n",
      "73/73 [==============================] - 0s 3ms/step - loss: 8.6487e-06 - mse: 8.6487e-06\n",
      "Epoch 42/50\n",
      "73/73 [==============================] - 0s 3ms/step - loss: 8.9463e-06 - mse: 8.9463e-06\n",
      "Epoch 43/50\n",
      "73/73 [==============================] - 0s 3ms/step - loss: 8.3613e-06 - mse: 8.3613e-06\n",
      "Epoch 44/50\n",
      "73/73 [==============================] - 0s 3ms/step - loss: 8.0312e-06 - mse: 8.0312e-06\n",
      "Epoch 45/50\n",
      "73/73 [==============================] - 0s 3ms/step - loss: 8.3608e-06 - mse: 8.3608e-06\n",
      "Epoch 46/50\n",
      "73/73 [==============================] - 0s 3ms/step - loss: 8.2107e-06 - mse: 8.2107e-06\n",
      "Epoch 47/50\n",
      "73/73 [==============================] - 0s 3ms/step - loss: 7.8626e-06 - mse: 7.8626e-06\n",
      "Epoch 48/50\n",
      "73/73 [==============================] - 0s 3ms/step - loss: 8.6852e-06 - mse: 8.6852e-06\n",
      "Epoch 49/50\n",
      "73/73 [==============================] - 0s 3ms/step - loss: 8.4322e-06 - mse: 8.4322e-06\n",
      "Epoch 50/50\n",
      "73/73 [==============================] - 0s 3ms/step - loss: 8.0180e-06 - mse: 8.0180e-06\n",
      "19/19 [==============================] - 0s 1ms/step - loss: 1.1801e-05 - mse: 1.1801e-05\n",
      "[CV] .................... nodes_dense=50, nodes_lstm=93, total=  10.9s\n",
      "[CV] nodes_dense=50, nodes_lstm=93 ...................................\n",
      "Epoch 1/50\n"
     ]
    },
    {
     "name": "stderr",
     "output_type": "stream",
     "text": [
      "[Parallel(n_jobs=1)]: Done   1 out of   1 | elapsed:   10.9s remaining:    0.0s\n"
     ]
    },
    {
     "name": "stdout",
     "output_type": "stream",
     "text": [
      "73/73 [==============================] - 1s 2ms/step - loss: 2.0591e-04 - mse: 2.0591e-04\n",
      "Epoch 2/50\n",
      "73/73 [==============================] - 0s 3ms/step - loss: 2.5179e-05 - mse: 2.5179e-05\n",
      "Epoch 3/50\n",
      "73/73 [==============================] - 0s 3ms/step - loss: 1.7319e-05 - mse: 1.7319e-05\n",
      "Epoch 4/50\n",
      "73/73 [==============================] - 0s 3ms/step - loss: 1.3768e-05 - mse: 1.3768e-05\n",
      "Epoch 5/50\n",
      "73/73 [==============================] - 0s 3ms/step - loss: 1.4802e-05 - mse: 1.4802e-05\n",
      "Epoch 6/50\n",
      "73/73 [==============================] - 0s 3ms/step - loss: 1.3244e-05 - mse: 1.3244e-05\n",
      "Epoch 7/50\n",
      "73/73 [==============================] - 0s 3ms/step - loss: 1.1402e-05 - mse: 1.1402e-05\n",
      "Epoch 8/50\n",
      "73/73 [==============================] - 0s 3ms/step - loss: 1.1425e-05 - mse: 1.1425e-05\n",
      "Epoch 9/50\n",
      "73/73 [==============================] - 0s 3ms/step - loss: 1.1138e-05 - mse: 1.1138e-05\n",
      "Epoch 10/50\n",
      "73/73 [==============================] - 0s 3ms/step - loss: 1.1014e-05 - mse: 1.1014e-05\n",
      "Epoch 11/50\n",
      "73/73 [==============================] - 0s 3ms/step - loss: 1.2063e-05 - mse: 1.2063e-05\n",
      "Epoch 12/50\n",
      "73/73 [==============================] - 0s 2ms/step - loss: 1.2060e-05 - mse: 1.2060e-05\n",
      "Epoch 13/50\n",
      "73/73 [==============================] - 0s 3ms/step - loss: 1.1965e-05 - mse: 1.1965e-05\n",
      "Epoch 14/50\n",
      "73/73 [==============================] - 0s 3ms/step - loss: 1.1916e-05 - mse: 1.1916e-05\n",
      "Epoch 15/50\n",
      "73/73 [==============================] - 0s 3ms/step - loss: 1.8436e-05 - mse: 1.8436e-05\n",
      "Epoch 16/50\n",
      "73/73 [==============================] - 0s 3ms/step - loss: 2.1727e-05 - mse: 2.1727e-05\n",
      "Epoch 17/50\n",
      "73/73 [==============================] - 0s 3ms/step - loss: 1.2095e-05 - mse: 1.2095e-05\n",
      "Epoch 18/50\n",
      "73/73 [==============================] - 0s 3ms/step - loss: 1.1269e-05 - mse: 1.1269e-05\n",
      "Epoch 19/50\n",
      "73/73 [==============================] - 0s 3ms/step - loss: 1.1626e-05 - mse: 1.1626e-05\n",
      "Epoch 20/50\n",
      "73/73 [==============================] - 0s 3ms/step - loss: 1.0754e-05 - mse: 1.0754e-05\n",
      "Epoch 21/50\n",
      "73/73 [==============================] - 0s 3ms/step - loss: 1.0043e-05 - mse: 1.0043e-05\n",
      "Epoch 22/50\n",
      "73/73 [==============================] - 0s 3ms/step - loss: 1.0672e-05 - mse: 1.0672e-05\n",
      "Epoch 23/50\n",
      "73/73 [==============================] - 0s 3ms/step - loss: 1.0385e-05 - mse: 1.0385e-05\n",
      "Epoch 24/50\n",
      "73/73 [==============================] - 0s 3ms/step - loss: 1.0290e-05 - mse: 1.0290e-05\n",
      "Epoch 25/50\n",
      "73/73 [==============================] - 0s 3ms/step - loss: 1.0675e-05 - mse: 1.0675e-05\n",
      "Epoch 26/50\n",
      "73/73 [==============================] - 0s 3ms/step - loss: 1.1534e-05 - mse: 1.1534e-05\n",
      "Epoch 27/50\n",
      "73/73 [==============================] - 0s 3ms/step - loss: 1.3520e-05 - mse: 1.3520e-05\n",
      "Epoch 28/50\n",
      "73/73 [==============================] - 0s 2ms/step - loss: 1.3194e-05 - mse: 1.3194e-05\n",
      "Epoch 29/50\n",
      "73/73 [==============================] - 0s 2ms/step - loss: 1.0564e-05 - mse: 1.0564e-05\n",
      "Epoch 30/50\n",
      "73/73 [==============================] - 0s 3ms/step - loss: 9.3852e-06 - mse: 9.3852e-06\n",
      "Epoch 31/50\n",
      "73/73 [==============================] - 0s 2ms/step - loss: 9.3876e-06 - mse: 9.3876e-06\n",
      "Epoch 32/50\n",
      "73/73 [==============================] - 0s 3ms/step - loss: 8.7851e-06 - mse: 8.7851e-06\n",
      "Epoch 33/50\n",
      "73/73 [==============================] - 0s 3ms/step - loss: 9.9456e-06 - mse: 9.9456e-06\n",
      "Epoch 34/50\n",
      "73/73 [==============================] - 0s 2ms/step - loss: 8.6791e-06 - mse: 8.6791e-06\n",
      "Epoch 35/50\n",
      "73/73 [==============================] - 0s 2ms/step - loss: 7.9723e-06 - mse: 7.9723e-06\n",
      "Epoch 36/50\n",
      "73/73 [==============================] - 0s 2ms/step - loss: 8.9496e-06 - mse: 8.9496e-06\n",
      "Epoch 37/50\n",
      "73/73 [==============================] - 0s 2ms/step - loss: 9.5568e-06 - mse: 9.5568e-06\n",
      "Epoch 38/50\n",
      "73/73 [==============================] - 0s 3ms/step - loss: 8.4410e-06 - mse: 8.4410e-06\n",
      "Epoch 39/50\n",
      "73/73 [==============================] - 0s 3ms/step - loss: 9.2116e-06 - mse: 9.2116e-06\n",
      "Epoch 40/50\n",
      "73/73 [==============================] - 0s 3ms/step - loss: 1.0369e-05 - mse: 1.0369e-05\n",
      "Epoch 41/50\n",
      "73/73 [==============================] - 0s 3ms/step - loss: 1.0200e-05 - mse: 1.0200e-05\n",
      "Epoch 42/50\n",
      "73/73 [==============================] - 0s 3ms/step - loss: 9.4528e-06 - mse: 9.4528e-06\n",
      "Epoch 43/50\n",
      "73/73 [==============================] - 0s 3ms/step - loss: 1.1590e-05 - mse: 1.1590e-05\n",
      "Epoch 44/50\n",
      "73/73 [==============================] - 0s 3ms/step - loss: 1.2937e-05 - mse: 1.2937e-05\n",
      "Epoch 45/50\n",
      "73/73 [==============================] - 0s 3ms/step - loss: 1.1092e-05 - mse: 1.1092e-05\n",
      "Epoch 46/50\n",
      "73/73 [==============================] - 0s 3ms/step - loss: 1.0815e-05 - mse: 1.0815e-05\n",
      "Epoch 47/50\n",
      "73/73 [==============================] - 0s 2ms/step - loss: 8.6137e-06 - mse: 8.6137e-06\n",
      "Epoch 48/50\n",
      "73/73 [==============================] - 0s 2ms/step - loss: 9.4031e-06 - mse: 9.4031e-06\n",
      "Epoch 49/50\n",
      "73/73 [==============================] - 0s 2ms/step - loss: 8.5434e-06 - mse: 8.5434e-06\n",
      "Epoch 50/50\n",
      "73/73 [==============================] - 0s 3ms/step - loss: 8.4329e-06 - mse: 8.4329e-06\n",
      "19/19 [==============================] - 0s 2ms/step - loss: 3.6453e-06 - mse: 3.6453e-06\n",
      "[CV] .................... nodes_dense=50, nodes_lstm=93, total=  11.2s\n",
      "[CV] nodes_dense=50, nodes_lstm=93 ...................................\n",
      "Epoch 1/50\n",
      "73/73 [==============================] - 1s 3ms/step - loss: 4.3124e-04 - mse: 4.3124e-04\n",
      "Epoch 2/50\n",
      "73/73 [==============================] - 0s 3ms/step - loss: 3.0437e-05 - mse: 3.0437e-05A: 0s - loss: 3.1304e-05 - mse: 3.1304e-0\n",
      "Epoch 3/50\n",
      "73/73 [==============================] - 0s 3ms/step - loss: 1.8227e-05 - mse: 1.8227e-05\n",
      "Epoch 4/50\n",
      "73/73 [==============================] - 0s 3ms/step - loss: 1.6108e-05 - mse: 1.6108e-05\n",
      "Epoch 5/50\n",
      "73/73 [==============================] - 0s 3ms/step - loss: 1.3719e-05 - mse: 1.3719e-05\n",
      "Epoch 6/50\n",
      "73/73 [==============================] - 0s 3ms/step - loss: 1.2863e-05 - mse: 1.2863e-05\n",
      "Epoch 7/50\n",
      "73/73 [==============================] - 0s 3ms/step - loss: 1.4203e-05 - mse: 1.4203e-05\n",
      "Epoch 8/50\n",
      "73/73 [==============================] - 0s 3ms/step - loss: 2.0695e-05 - mse: 2.0695e-05\n",
      "Epoch 9/50\n",
      "73/73 [==============================] - 0s 3ms/step - loss: 2.1719e-05 - mse: 2.1719e-05\n",
      "Epoch 10/50\n",
      "73/73 [==============================] - 0s 3ms/step - loss: 1.6136e-05 - mse: 1.6136e-05\n",
      "Epoch 11/50\n",
      "73/73 [==============================] - 0s 3ms/step - loss: 1.5159e-05 - mse: 1.5159e-05\n",
      "Epoch 12/50\n",
      "73/73 [==============================] - 0s 2ms/step - loss: 1.1313e-05 - mse: 1.1313e-05\n",
      "Epoch 13/50\n",
      "73/73 [==============================] - 0s 2ms/step - loss: 1.0886e-05 - mse: 1.0886e-05\n",
      "Epoch 14/50\n",
      "73/73 [==============================] - 0s 2ms/step - loss: 9.8953e-06 - mse: 9.8953e-06\n",
      "Epoch 15/50\n",
      "73/73 [==============================] - 0s 3ms/step - loss: 9.9941e-06 - mse: 9.9941e-06\n",
      "Epoch 16/50\n",
      "73/73 [==============================] - 0s 3ms/step - loss: 1.0312e-05 - mse: 1.0312e-05\n",
      "Epoch 17/50\n",
      "73/73 [==============================] - 0s 2ms/step - loss: 1.2072e-05 - mse: 1.2072e-05\n",
      "Epoch 18/50\n",
      "73/73 [==============================] - 0s 2ms/step - loss: 1.1288e-05 - mse: 1.1288e-05\n",
      "Epoch 19/50\n",
      "73/73 [==============================] - 0s 2ms/step - loss: 1.3636e-05 - mse: 1.3636e-05\n",
      "Epoch 20/50\n",
      "73/73 [==============================] - 0s 2ms/step - loss: 1.1507e-05 - mse: 1.1507e-05\n",
      "Epoch 21/50\n",
      "73/73 [==============================] - 0s 2ms/step - loss: 1.3725e-05 - mse: 1.3725e-05\n",
      "Epoch 22/50\n",
      "73/73 [==============================] - 0s 2ms/step - loss: 1.1792e-05 - mse: 1.1792e-05\n",
      "Epoch 23/50\n",
      "73/73 [==============================] - 0s 2ms/step - loss: 1.2154e-05 - mse: 1.2154e-05\n",
      "Epoch 24/50\n",
      "73/73 [==============================] - 0s 2ms/step - loss: 1.0985e-05 - mse: 1.0985e-05\n",
      "Epoch 25/50\n",
      "73/73 [==============================] - 0s 2ms/step - loss: 1.2828e-05 - mse: 1.2828e-05\n",
      "Epoch 26/50\n",
      "73/73 [==============================] - 0s 2ms/step - loss: 1.2492e-05 - mse: 1.2492e-05\n",
      "Epoch 27/50\n",
      "73/73 [==============================] - 0s 3ms/step - loss: 1.1756e-05 - mse: 1.1756e-05\n",
      "Epoch 28/50\n",
      "73/73 [==============================] - 0s 3ms/step - loss: 1.0078e-05 - mse: 1.0078e-05\n",
      "Epoch 29/50\n",
      "73/73 [==============================] - 0s 3ms/step - loss: 9.7370e-06 - mse: 9.7370e-06\n",
      "Epoch 30/50\n",
      "73/73 [==============================] - 0s 3ms/step - loss: 9.3407e-06 - mse: 9.3407e-06\n",
      "Epoch 31/50\n",
      "73/73 [==============================] - 0s 3ms/step - loss: 9.5782e-06 - mse: 9.5782e-06\n",
      "Epoch 32/50\n",
      "73/73 [==============================] - 0s 3ms/step - loss: 9.1964e-06 - mse: 9.1964e-06\n",
      "Epoch 33/50\n",
      "73/73 [==============================] - 0s 3ms/step - loss: 9.2551e-06 - mse: 9.2551e-06\n",
      "Epoch 34/50\n",
      "73/73 [==============================] - 0s 3ms/step - loss: 9.2097e-06 - mse: 9.2097e-06\n",
      "Epoch 35/50\n",
      "73/73 [==============================] - 0s 3ms/step - loss: 9.5885e-06 - mse: 9.5885e-06\n",
      "Epoch 36/50\n",
      "73/73 [==============================] - 0s 3ms/step - loss: 1.0438e-05 - mse: 1.0438e-05\n",
      "Epoch 37/50\n",
      "73/73 [==============================] - 0s 3ms/step - loss: 9.3567e-06 - mse: 9.3567e-06\n",
      "Epoch 38/50\n",
      "73/73 [==============================] - 0s 3ms/step - loss: 9.5128e-06 - mse: 9.5128e-06\n",
      "Epoch 39/50\n",
      "73/73 [==============================] - 0s 3ms/step - loss: 9.3942e-06 - mse: 9.3942e-06\n",
      "Epoch 40/50\n",
      "73/73 [==============================] - 0s 3ms/step - loss: 9.7170e-06 - mse: 9.7170e-06\n",
      "Epoch 41/50\n",
      "73/73 [==============================] - 0s 3ms/step - loss: 9.2470e-06 - mse: 9.2470e-06\n",
      "Epoch 42/50\n",
      "73/73 [==============================] - 0s 3ms/step - loss: 9.1591e-06 - mse: 9.1591e-06\n",
      "Epoch 43/50\n",
      "73/73 [==============================] - 0s 3ms/step - loss: 9.5977e-06 - mse: 9.5977e-06\n",
      "Epoch 44/50\n",
      "73/73 [==============================] - 0s 3ms/step - loss: 9.5781e-06 - mse: 9.5781e-06\n",
      "Epoch 45/50\n",
      "73/73 [==============================] - 0s 3ms/step - loss: 1.1493e-05 - mse: 1.1493e-05\n",
      "Epoch 46/50\n",
      "73/73 [==============================] - 0s 3ms/step - loss: 9.2421e-06 - mse: 9.2421e-06\n",
      "Epoch 47/50\n",
      "73/73 [==============================] - 0s 3ms/step - loss: 9.1971e-06 - mse: 9.1971e-06\n",
      "Epoch 48/50\n",
      "73/73 [==============================] - 0s 3ms/step - loss: 9.3083e-06 - mse: 9.3083e-06\n",
      "Epoch 49/50\n",
      "73/73 [==============================] - 0s 3ms/step - loss: 1.0067e-05 - mse: 1.0067e-05\n",
      "Epoch 50/50\n",
      "73/73 [==============================] - 0s 3ms/step - loss: 9.8328e-06 - mse: 9.8328e-06\n",
      "19/19 [==============================] - 0s 1ms/step - loss: 6.4763e-06 - mse: 6.4763e-06\n",
      "[CV] .................... nodes_dense=50, nodes_lstm=93, total=  10.9s\n",
      "[CV] nodes_dense=50, nodes_lstm=93 ...................................\n",
      "Epoch 1/50\n",
      "73/73 [==============================] - 1s 3ms/step - loss: 2.5692e-04 - mse: 2.5692e-04\n",
      "Epoch 2/50\n",
      "73/73 [==============================] - 0s 3ms/step - loss: 2.5362e-05 - mse: 2.5362e-05\n",
      "Epoch 3/50\n",
      "73/73 [==============================] - 0s 3ms/step - loss: 1.5901e-05 - mse: 1.5901e-05\n",
      "Epoch 4/50\n",
      "73/73 [==============================] - 0s 3ms/step - loss: 1.4238e-05 - mse: 1.4238e-05\n",
      "Epoch 5/50\n",
      "73/73 [==============================] - 0s 2ms/step - loss: 1.4047e-05 - mse: 1.4047e-05\n",
      "Epoch 6/50\n",
      "73/73 [==============================] - 0s 3ms/step - loss: 1.1251e-05 - mse: 1.1251e-05\n",
      "Epoch 7/50\n",
      "73/73 [==============================] - 0s 2ms/step - loss: 1.1407e-05 - mse: 1.1407e-05\n",
      "Epoch 8/50\n",
      "73/73 [==============================] - 0s 2ms/step - loss: 1.1529e-05 - mse: 1.1529e-05\n",
      "Epoch 9/50\n",
      "73/73 [==============================] - 0s 2ms/step - loss: 1.0571e-05 - mse: 1.0571e-05\n",
      "Epoch 10/50\n",
      "73/73 [==============================] - 0s 2ms/step - loss: 1.0256e-05 - mse: 1.0256e-05\n",
      "Epoch 11/50\n",
      "73/73 [==============================] - 0s 2ms/step - loss: 1.2609e-05 - mse: 1.2609e-05\n",
      "Epoch 12/50\n",
      "73/73 [==============================] - 0s 2ms/step - loss: 1.1530e-05 - mse: 1.1530e-05\n",
      "Epoch 13/50\n",
      "73/73 [==============================] - 0s 2ms/step - loss: 1.1967e-05 - mse: 1.1967e-05\n",
      "Epoch 14/50\n",
      "73/73 [==============================] - 0s 2ms/step - loss: 1.1089e-05 - mse: 1.1089e-05\n",
      "Epoch 15/50\n",
      "73/73 [==============================] - 0s 2ms/step - loss: 1.1231e-05 - mse: 1.1231e-05\n",
      "Epoch 16/50\n",
      "73/73 [==============================] - 0s 2ms/step - loss: 1.0090e-05 - mse: 1.0090e-05\n",
      "Epoch 17/50\n",
      "73/73 [==============================] - 0s 3ms/step - loss: 1.1419e-05 - mse: 1.1419e-05\n",
      "Epoch 18/50\n",
      "73/73 [==============================] - 0s 2ms/step - loss: 9.4616e-06 - mse: 9.4616e-06\n",
      "Epoch 19/50\n",
      "73/73 [==============================] - 0s 2ms/step - loss: 1.0105e-05 - mse: 1.0105e-05\n",
      "Epoch 20/50\n",
      "73/73 [==============================] - 0s 2ms/step - loss: 1.0548e-05 - mse: 1.0548e-05\n",
      "Epoch 21/50\n",
      "73/73 [==============================] - 0s 2ms/step - loss: 1.0516e-05 - mse: 1.0516e-05\n",
      "Epoch 22/50\n",
      "73/73 [==============================] - 0s 2ms/step - loss: 8.5468e-06 - mse: 8.5468e-06\n",
      "Epoch 23/50\n",
      "73/73 [==============================] - 0s 2ms/step - loss: 1.0031e-05 - mse: 1.0031e-05\n",
      "Epoch 24/50\n",
      "73/73 [==============================] - 0s 2ms/step - loss: 1.1221e-05 - mse: 1.1221e-05\n",
      "Epoch 25/50\n",
      "73/73 [==============================] - 0s 2ms/step - loss: 1.1186e-05 - mse: 1.1186e-05\n",
      "Epoch 26/50\n",
      "73/73 [==============================] - 0s 2ms/step - loss: 1.1310e-05 - mse: 1.1310e-05\n",
      "Epoch 27/50\n",
      "73/73 [==============================] - 0s 2ms/step - loss: 1.0753e-05 - mse: 1.0753e-05\n",
      "Epoch 28/50\n",
      "73/73 [==============================] - 0s 2ms/step - loss: 1.1542e-05 - mse: 1.1542e-05\n",
      "Epoch 29/50\n",
      "73/73 [==============================] - 0s 2ms/step - loss: 9.2729e-06 - mse: 9.2729e-06\n",
      "Epoch 30/50\n",
      "73/73 [==============================] - 0s 2ms/step - loss: 9.8696e-06 - mse: 9.8696e-06\n",
      "Epoch 31/50\n",
      "73/73 [==============================] - 0s 3ms/step - loss: 1.0424e-05 - mse: 1.0424e-05\n",
      "Epoch 32/50\n",
      "73/73 [==============================] - 0s 3ms/step - loss: 9.1881e-06 - mse: 9.1881e-06\n",
      "Epoch 33/50\n",
      "73/73 [==============================] - 0s 3ms/step - loss: 9.2834e-06 - mse: 9.2834e-06\n",
      "Epoch 34/50\n",
      "73/73 [==============================] - 0s 3ms/step - loss: 8.9346e-06 - mse: 8.9346e-06\n",
      "Epoch 35/50\n",
      "73/73 [==============================] - 0s 3ms/step - loss: 9.2283e-06 - mse: 9.2283e-06\n",
      "Epoch 36/50\n",
      "73/73 [==============================] - 0s 3ms/step - loss: 1.1587e-05 - mse: 1.1587e-05\n",
      "Epoch 37/50\n",
      "73/73 [==============================] - 0s 3ms/step - loss: 9.8420e-06 - mse: 9.8420e-06\n",
      "Epoch 38/50\n",
      "73/73 [==============================] - 0s 3ms/step - loss: 8.5806e-06 - mse: 8.5806e-06\n",
      "Epoch 39/50\n",
      "73/73 [==============================] - 0s 3ms/step - loss: 7.7325e-06 - mse: 7.7325e-06\n",
      "Epoch 40/50\n",
      "73/73 [==============================] - 0s 2ms/step - loss: 7.4388e-06 - mse: 7.4388e-06\n",
      "Epoch 41/50\n",
      "73/73 [==============================] - 0s 3ms/step - loss: 7.3031e-06 - mse: 7.3031e-06\n",
      "Epoch 42/50\n",
      "73/73 [==============================] - 0s 3ms/step - loss: 8.0621e-06 - mse: 8.0621e-06\n",
      "Epoch 43/50\n",
      "73/73 [==============================] - 0s 3ms/step - loss: 7.5395e-06 - mse: 7.5395e-06\n",
      "Epoch 44/50\n",
      "73/73 [==============================] - 0s 3ms/step - loss: 7.7581e-06 - mse: 7.7581e-06\n",
      "Epoch 45/50\n",
      "73/73 [==============================] - 0s 3ms/step - loss: 7.9884e-06 - mse: 7.9884e-06\n",
      "Epoch 46/50\n",
      "73/73 [==============================] - 0s 3ms/step - loss: 7.7229e-06 - mse: 7.7229e-06\n",
      "Epoch 47/50\n",
      "73/73 [==============================] - 0s 3ms/step - loss: 8.0864e-06 - mse: 8.0864e-06\n",
      "Epoch 48/50\n",
      "73/73 [==============================] - 0s 3ms/step - loss: 8.3178e-06 - mse: 8.3178e-06\n",
      "Epoch 49/50\n",
      "73/73 [==============================] - 0s 3ms/step - loss: 8.0716e-06 - mse: 8.0716e-06\n",
      "Epoch 50/50\n",
      "73/73 [==============================] - 0s 3ms/step - loss: 8.2852e-06 - mse: 8.2852e-06\n",
      "19/19 [==============================] - 0s 2ms/step - loss: 6.3284e-06 - mse: 6.3284e-06\n",
      "[CV] .................... nodes_dense=50, nodes_lstm=93, total=  10.9s\n",
      "[CV] nodes_dense=50, nodes_lstm=93 ...................................\n",
      "Epoch 1/50\n",
      "73/73 [==============================] - 1s 3ms/step - loss: 2.4080e-04 - mse: 2.4080e-04\n",
      "Epoch 2/50\n",
      "73/73 [==============================] - 0s 3ms/step - loss: 2.0948e-05 - mse: 2.0948e-05\n",
      "Epoch 3/50\n",
      "73/73 [==============================] - 0s 3ms/step - loss: 1.2064e-05 - mse: 1.2064e-05\n",
      "Epoch 4/50\n",
      "73/73 [==============================] - 0s 3ms/step - loss: 8.9220e-06 - mse: 8.9220e-06\n",
      "Epoch 5/50\n",
      "73/73 [==============================] - 0s 3ms/step - loss: 7.4615e-06 - mse: 7.4615e-06\n",
      "Epoch 6/50\n",
      "73/73 [==============================] - 0s 3ms/step - loss: 7.6444e-06 - mse: 7.6444e-06\n",
      "Epoch 7/50\n",
      "73/73 [==============================] - 0s 3ms/step - loss: 9.6594e-06 - mse: 9.6594e-06\n",
      "Epoch 8/50\n",
      "73/73 [==============================] - 0s 2ms/step - loss: 8.6002e-06 - mse: 8.6002e-06\n",
      "Epoch 9/50\n",
      "73/73 [==============================] - 0s 2ms/step - loss: 9.8766e-06 - mse: 9.8766e-06\n",
      "Epoch 10/50\n",
      "73/73 [==============================] - 0s 2ms/step - loss: 6.0315e-06 - mse: 6.0315e-06\n",
      "Epoch 11/50\n",
      "73/73 [==============================] - 0s 2ms/step - loss: 5.0842e-06 - mse: 5.0842e-06\n",
      "Epoch 12/50\n",
      "73/73 [==============================] - 0s 2ms/step - loss: 6.8512e-06 - mse: 6.8512e-06\n",
      "Epoch 13/50\n",
      "73/73 [==============================] - 0s 2ms/step - loss: 6.2088e-06 - mse: 6.2088e-06\n",
      "Epoch 14/50\n",
      "73/73 [==============================] - 0s 2ms/step - loss: 7.1298e-06 - mse: 7.1298e-06\n",
      "Epoch 15/50\n",
      "73/73 [==============================] - 0s 2ms/step - loss: 7.6189e-06 - mse: 7.6189e-06\n",
      "Epoch 16/50\n",
      "73/73 [==============================] - 0s 2ms/step - loss: 7.2057e-06 - mse: 7.2057e-06\n",
      "Epoch 17/50\n",
      "73/73 [==============================] - 0s 2ms/step - loss: 7.5468e-06 - mse: 7.5468e-06\n",
      "Epoch 18/50\n",
      "73/73 [==============================] - 0s 2ms/step - loss: 6.7957e-06 - mse: 6.7957e-06\n",
      "Epoch 19/50\n",
      "73/73 [==============================] - 0s 2ms/step - loss: 7.1744e-06 - mse: 7.1744e-06\n",
      "Epoch 20/50\n",
      "73/73 [==============================] - 0s 2ms/step - loss: 7.1336e-06 - mse: 7.1336e-06\n",
      "Epoch 21/50\n",
      "73/73 [==============================] - 0s 2ms/step - loss: 5.8270e-06 - mse: 5.8270e-06\n",
      "Epoch 22/50\n",
      "73/73 [==============================] - 0s 3ms/step - loss: 6.9853e-06 - mse: 6.9853e-06\n",
      "Epoch 23/50\n",
      "73/73 [==============================] - 0s 3ms/step - loss: 8.0799e-06 - mse: 8.0799e-06\n",
      "Epoch 24/50\n",
      "73/73 [==============================] - 0s 3ms/step - loss: 1.5883e-05 - mse: 1.5883e-05\n",
      "Epoch 25/50\n",
      "73/73 [==============================] - 0s 3ms/step - loss: 9.3486e-06 - mse: 9.3486e-06\n",
      "Epoch 26/50\n",
      "73/73 [==============================] - 0s 3ms/step - loss: 9.9636e-06 - mse: 9.9636e-06\n",
      "Epoch 27/50\n",
      "73/73 [==============================] - 0s 3ms/step - loss: 5.7425e-06 - mse: 5.7425e-06\n",
      "Epoch 28/50\n",
      "73/73 [==============================] - 0s 3ms/step - loss: 4.3823e-06 - mse: 4.3823e-06\n",
      "Epoch 29/50\n",
      "73/73 [==============================] - 0s 2ms/step - loss: 3.8957e-06 - mse: 3.8957e-06\n",
      "Epoch 30/50\n",
      "73/73 [==============================] - 0s 3ms/step - loss: 3.0787e-06 - mse: 3.0787e-06\n",
      "Epoch 31/50\n",
      "73/73 [==============================] - 0s 3ms/step - loss: 3.6799e-06 - mse: 3.6799e-06\n",
      "Epoch 32/50\n",
      "73/73 [==============================] - 0s 3ms/step - loss: 4.1928e-06 - mse: 4.1928e-06\n",
      "Epoch 33/50\n",
      "73/73 [==============================] - 0s 2ms/step - loss: 3.9764e-06 - mse: 3.9764e-06\n",
      "Epoch 34/50\n",
      "73/73 [==============================] - 0s 3ms/step - loss: 3.9255e-06 - mse: 3.9255e-06\n",
      "Epoch 35/50\n",
      "73/73 [==============================] - 0s 2ms/step - loss: 4.6731e-06 - mse: 4.6731e-06\n",
      "Epoch 36/50\n",
      "73/73 [==============================] - 0s 3ms/step - loss: 4.7557e-06 - mse: 4.7557e-06\n",
      "Epoch 37/50\n",
      "73/73 [==============================] - 0s 3ms/step - loss: 7.0202e-06 - mse: 7.0202e-06\n",
      "Epoch 38/50\n",
      "73/73 [==============================] - 0s 3ms/step - loss: 5.9972e-06 - mse: 5.9972e-06\n",
      "Epoch 39/50\n",
      "73/73 [==============================] - 0s 3ms/step - loss: 3.9055e-06 - mse: 3.9055e-06\n",
      "Epoch 40/50\n",
      "73/73 [==============================] - 0s 3ms/step - loss: 3.8293e-06 - mse: 3.8293e-06\n",
      "Epoch 41/50\n",
      "73/73 [==============================] - 0s 3ms/step - loss: 3.3291e-06 - mse: 3.3291e-06\n",
      "Epoch 42/50\n",
      "73/73 [==============================] - 0s 3ms/step - loss: 3.5534e-06 - mse: 3.5534e-06\n",
      "Epoch 43/50\n",
      "73/73 [==============================] - 0s 3ms/step - loss: 4.0722e-06 - mse: 4.0722e-06\n",
      "Epoch 44/50\n",
      "73/73 [==============================] - 0s 3ms/step - loss: 3.5262e-06 - mse: 3.5262e-06\n",
      "Epoch 45/50\n",
      "73/73 [==============================] - 0s 3ms/step - loss: 4.3296e-06 - mse: 4.3296e-06\n",
      "Epoch 46/50\n",
      "73/73 [==============================] - 0s 3ms/step - loss: 4.0049e-06 - mse: 4.0049e-06\n",
      "Epoch 47/50\n",
      "73/73 [==============================] - 0s 3ms/step - loss: 4.5282e-06 - mse: 4.5282e-06\n",
      "Epoch 48/50\n",
      "73/73 [==============================] - 0s 3ms/step - loss: 4.2037e-06 - mse: 4.2037e-06\n",
      "Epoch 49/50\n",
      "73/73 [==============================] - 0s 3ms/step - loss: 3.6644e-06 - mse: 3.6644e-06\n",
      "Epoch 50/50\n",
      "73/73 [==============================] - 0s 3ms/step - loss: 4.1219e-06 - mse: 4.1219e-06\n",
      "19/19 [==============================] - 0s 1ms/step - loss: 2.5196e-05 - mse: 2.5196e-05\n",
      "[CV] .................... nodes_dense=50, nodes_lstm=93, total=  10.8s\n",
      "Fitting 5 folds for each of 1 candidates, totalling 5 fits\n",
      "[CV] nodes_dense=83, nodes_lstm=25 ...................................\n",
      "Epoch 1/50\n"
     ]
    },
    {
     "name": "stderr",
     "output_type": "stream",
     "text": [
      "[Parallel(n_jobs=1)]: Done   5 out of   5 | elapsed:   54.6s finished\n",
      "[Parallel(n_jobs=1)]: Using backend SequentialBackend with 1 concurrent workers.\n"
     ]
    },
    {
     "name": "stdout",
     "output_type": "stream",
     "text": [
      "73/73 [==============================] - 1s 2ms/step - loss: 3.8383e-04 - mse: 3.8383e-04\n",
      "Epoch 2/50\n",
      "73/73 [==============================] - 0s 2ms/step - loss: 3.6990e-05 - mse: 3.6990e-05\n",
      "Epoch 3/50\n",
      "73/73 [==============================] - 0s 2ms/step - loss: 2.1075e-05 - mse: 2.1075e-05\n",
      "Epoch 4/50\n",
      "73/73 [==============================] - 0s 2ms/step - loss: 1.5795e-05 - mse: 1.5795e-05\n",
      "Epoch 5/50\n",
      "73/73 [==============================] - 0s 2ms/step - loss: 1.3334e-05 - mse: 1.3334e-05\n",
      "Epoch 6/50\n",
      "73/73 [==============================] - 0s 2ms/step - loss: 1.1093e-05 - mse: 1.1093e-05\n",
      "Epoch 7/50\n",
      "73/73 [==============================] - 0s 2ms/step - loss: 1.0003e-05 - mse: 1.0003e-05\n",
      "Epoch 8/50\n",
      "73/73 [==============================] - 0s 2ms/step - loss: 1.0095e-05 - mse: 1.0095e-05\n",
      "Epoch 9/50\n",
      "73/73 [==============================] - 0s 2ms/step - loss: 9.3988e-06 - mse: 9.3988e-06\n",
      "Epoch 10/50\n",
      "73/73 [==============================] - 0s 2ms/step - loss: 9.4159e-06 - mse: 9.4159e-06\n",
      "Epoch 11/50\n",
      "73/73 [==============================] - 0s 2ms/step - loss: 8.9972e-06 - mse: 8.9972e-06\n",
      "Epoch 12/50\n",
      "73/73 [==============================] - 0s 3ms/step - loss: 8.6982e-06 - mse: 8.6982e-06\n",
      "Epoch 13/50\n",
      "73/73 [==============================] - 0s 2ms/step - loss: 8.7115e-06 - mse: 8.7115e-06\n",
      "Epoch 14/50\n",
      "73/73 [==============================] - 0s 2ms/step - loss: 8.4347e-06 - mse: 8.4347e-06\n",
      "Epoch 15/50\n",
      "73/73 [==============================] - 0s 2ms/step - loss: 8.4451e-06 - mse: 8.4451e-06\n",
      "Epoch 16/50\n",
      "73/73 [==============================] - 0s 2ms/step - loss: 8.0609e-06 - mse: 8.0609e-06\n",
      "Epoch 17/50\n",
      "73/73 [==============================] - 0s 2ms/step - loss: 7.9767e-06 - mse: 7.9767e-06\n",
      "Epoch 18/50\n",
      "73/73 [==============================] - 0s 2ms/step - loss: 8.2461e-06 - mse: 8.2461e-06\n",
      "Epoch 19/50\n",
      "73/73 [==============================] - 0s 3ms/step - loss: 7.9915e-06 - mse: 7.9915e-06\n",
      "Epoch 20/50\n",
      "73/73 [==============================] - 0s 3ms/step - loss: 8.3779e-06 - mse: 8.3779e-06\n",
      "Epoch 21/50\n",
      "73/73 [==============================] - 0s 2ms/step - loss: 8.3219e-06 - mse: 8.3219e-06\n",
      "Epoch 22/50\n",
      "73/73 [==============================] - 0s 2ms/step - loss: 8.2389e-06 - mse: 8.2389e-06\n",
      "Epoch 23/50\n",
      "73/73 [==============================] - 0s 2ms/step - loss: 8.1826e-06 - mse: 8.1826e-06\n",
      "Epoch 24/50\n",
      "73/73 [==============================] - 0s 2ms/step - loss: 8.2765e-06 - mse: 8.2765e-06\n",
      "Epoch 25/50\n",
      "73/73 [==============================] - 0s 2ms/step - loss: 7.6447e-06 - mse: 7.6447e-06\n",
      "Epoch 26/50\n",
      "73/73 [==============================] - 0s 2ms/step - loss: 8.0799e-06 - mse: 8.0799e-06\n",
      "Epoch 27/50\n",
      "73/73 [==============================] - 0s 2ms/step - loss: 8.5430e-06 - mse: 8.5430e-06\n",
      "Epoch 28/50\n",
      "73/73 [==============================] - 0s 3ms/step - loss: 8.6402e-06 - mse: 8.6402e-06\n",
      "Epoch 29/50\n",
      "73/73 [==============================] - 0s 2ms/step - loss: 7.8642e-06 - mse: 7.8642e-06\n",
      "Epoch 30/50\n",
      "73/73 [==============================] - 0s 2ms/step - loss: 7.6049e-06 - mse: 7.6049e-06\n",
      "Epoch 31/50\n",
      "73/73 [==============================] - 0s 2ms/step - loss: 7.8046e-06 - mse: 7.8046e-06\n",
      "Epoch 32/50\n",
      "73/73 [==============================] - 0s 3ms/step - loss: 7.5435e-06 - mse: 7.5435e-06\n",
      "Epoch 33/50\n",
      "73/73 [==============================] - 0s 3ms/step - loss: 8.2078e-06 - mse: 8.2078e-06\n",
      "Epoch 34/50\n",
      "73/73 [==============================] - 0s 3ms/step - loss: 8.0617e-06 - mse: 8.0617e-06\n",
      "Epoch 35/50\n",
      "73/73 [==============================] - 0s 2ms/step - loss: 7.7779e-06 - mse: 7.7779e-06\n",
      "Epoch 36/50\n",
      "73/73 [==============================] - 0s 3ms/step - loss: 7.7695e-06 - mse: 7.7695e-06\n",
      "Epoch 37/50\n",
      "73/73 [==============================] - 0s 2ms/step - loss: 8.0616e-06 - mse: 8.0616e-06\n",
      "Epoch 38/50\n",
      "73/73 [==============================] - 0s 2ms/step - loss: 8.2885e-06 - mse: 8.2885e-06\n",
      "Epoch 39/50\n",
      "73/73 [==============================] - 0s 2ms/step - loss: 8.5164e-06 - mse: 8.5164e-06\n",
      "Epoch 40/50\n",
      "73/73 [==============================] - 0s 2ms/step - loss: 8.5712e-06 - mse: 8.5712e-06\n",
      "Epoch 41/50\n",
      "73/73 [==============================] - 0s 2ms/step - loss: 7.7857e-06 - mse: 7.7857e-06\n",
      "Epoch 42/50\n",
      "73/73 [==============================] - 0s 2ms/step - loss: 7.9435e-06 - mse: 7.9435e-06\n",
      "Epoch 43/50\n",
      "73/73 [==============================] - 0s 2ms/step - loss: 7.7794e-06 - mse: 7.7794e-06\n",
      "Epoch 44/50\n",
      "73/73 [==============================] - 0s 2ms/step - loss: 8.4554e-06 - mse: 8.4554e-06\n",
      "Epoch 45/50\n",
      "73/73 [==============================] - 0s 2ms/step - loss: 8.0659e-06 - mse: 8.0659e-06\n",
      "Epoch 46/50\n",
      "73/73 [==============================] - 0s 2ms/step - loss: 7.5829e-06 - mse: 7.5829e-06\n",
      "Epoch 47/50\n",
      "73/73 [==============================] - 0s 2ms/step - loss: 7.8059e-06 - mse: 7.8059e-06\n",
      "Epoch 48/50\n",
      "73/73 [==============================] - 0s 2ms/step - loss: 7.9931e-06 - mse: 7.9931e-06\n",
      "Epoch 49/50\n",
      "73/73 [==============================] - 0s 2ms/step - loss: 8.1423e-06 - mse: 8.1423e-06\n",
      "Epoch 50/50\n",
      "73/73 [==============================] - 0s 2ms/step - loss: 8.3776e-06 - mse: 8.3776e-06\n",
      "19/19 [==============================] - 0s 1ms/step - loss: 1.5560e-05 - mse: 1.5560e-05\n",
      "[CV] .................... nodes_dense=83, nodes_lstm=25, total=   9.9s\n",
      "[CV] nodes_dense=83, nodes_lstm=25 ...................................\n"
     ]
    },
    {
     "name": "stderr",
     "output_type": "stream",
     "text": [
      "[Parallel(n_jobs=1)]: Done   1 out of   1 | elapsed:    9.9s remaining:    0.0s\n"
     ]
    },
    {
     "name": "stdout",
     "output_type": "stream",
     "text": [
      "Epoch 1/50\n",
      "73/73 [==============================] - 1s 3ms/step - loss: 2.8946e-04 - mse: 2.8946e-04\n",
      "Epoch 2/50\n",
      "73/73 [==============================] - 0s 2ms/step - loss: 3.5397e-05 - mse: 3.5397e-05\n",
      "Epoch 3/50\n",
      "73/73 [==============================] - 0s 2ms/step - loss: 2.2521e-05 - mse: 2.2521e-05\n",
      "Epoch 4/50\n",
      "73/73 [==============================] - 0s 2ms/step - loss: 1.6192e-05 - mse: 1.6192e-05\n",
      "Epoch 5/50\n",
      "73/73 [==============================] - 0s 3ms/step - loss: 1.3467e-05 - mse: 1.3467e-05\n",
      "Epoch 6/50\n",
      "73/73 [==============================] - 0s 2ms/step - loss: 1.2180e-05 - mse: 1.2180e-05\n",
      "Epoch 7/50\n",
      "73/73 [==============================] - 0s 2ms/step - loss: 1.1210e-05 - mse: 1.1210e-05\n",
      "Epoch 8/50\n",
      "73/73 [==============================] - 0s 2ms/step - loss: 1.0889e-05 - mse: 1.0889e-05\n",
      "Epoch 9/50\n",
      "73/73 [==============================] - 0s 2ms/step - loss: 1.0439e-05 - mse: 1.0439e-05\n",
      "Epoch 10/50\n",
      "73/73 [==============================] - 0s 2ms/step - loss: 1.0831e-05 - mse: 1.0831e-05\n",
      "Epoch 11/50\n",
      "73/73 [==============================] - 0s 2ms/step - loss: 9.7419e-06 - mse: 9.7419e-06\n",
      "Epoch 12/50\n",
      "73/73 [==============================] - 0s 2ms/step - loss: 9.9093e-06 - mse: 9.9093e-06\n",
      "Epoch 13/50\n",
      "73/73 [==============================] - 0s 3ms/step - loss: 9.3115e-06 - mse: 9.3115e-06\n",
      "Epoch 14/50\n",
      "73/73 [==============================] - 0s 2ms/step - loss: 9.7509e-06 - mse: 9.7509e-06\n",
      "Epoch 15/50\n",
      "73/73 [==============================] - 0s 2ms/step - loss: 9.0064e-06 - mse: 9.0064e-06\n",
      "Epoch 16/50\n",
      "73/73 [==============================] - 0s 3ms/step - loss: 8.5094e-06 - mse: 8.5094e-06\n",
      "Epoch 17/50\n",
      "73/73 [==============================] - 0s 3ms/step - loss: 9.5856e-06 - mse: 9.5856e-06\n",
      "Epoch 18/50\n",
      "73/73 [==============================] - 0s 3ms/step - loss: 1.0042e-05 - mse: 1.0042e-05\n",
      "Epoch 19/50\n",
      "73/73 [==============================] - 0s 3ms/step - loss: 9.8819e-06 - mse: 9.8819e-06\n",
      "Epoch 20/50\n",
      "73/73 [==============================] - 0s 3ms/step - loss: 9.5012e-06 - mse: 9.5012e-06\n",
      "Epoch 21/50\n",
      "73/73 [==============================] - 0s 3ms/step - loss: 9.6169e-06 - mse: 9.6169e-06\n",
      "Epoch 22/50\n",
      "73/73 [==============================] - 0s 3ms/step - loss: 8.4966e-06 - mse: 8.4966e-06\n",
      "Epoch 23/50\n",
      "73/73 [==============================] - 0s 3ms/step - loss: 9.5950e-06 - mse: 9.5950e-06\n",
      "Epoch 24/50\n",
      "73/73 [==============================] - 0s 3ms/step - loss: 9.1697e-06 - mse: 9.1697e-06\n",
      "Epoch 25/50\n",
      "73/73 [==============================] - 0s 2ms/step - loss: 8.4099e-06 - mse: 8.4099e-06\n",
      "Epoch 26/50\n",
      "73/73 [==============================] - 0s 3ms/step - loss: 8.4684e-06 - mse: 8.4684e-06\n",
      "Epoch 27/50\n",
      "73/73 [==============================] - 0s 2ms/step - loss: 9.4794e-06 - mse: 9.4794e-06\n",
      "Epoch 28/50\n",
      "73/73 [==============================] - 0s 3ms/step - loss: 1.4394e-05 - mse: 1.4394e-05\n",
      "Epoch 29/50\n",
      "73/73 [==============================] - 0s 2ms/step - loss: 1.5475e-05 - mse: 1.5475e-05\n",
      "Epoch 30/50\n",
      "73/73 [==============================] - 0s 2ms/step - loss: 8.8743e-06 - mse: 8.8743e-06\n",
      "Epoch 31/50\n",
      "73/73 [==============================] - 0s 2ms/step - loss: 8.8629e-06 - mse: 8.8629e-06\n",
      "Epoch 32/50\n",
      "73/73 [==============================] - 0s 2ms/step - loss: 8.7087e-06 - mse: 8.7087e-06\n",
      "Epoch 33/50\n",
      "73/73 [==============================] - 0s 2ms/step - loss: 8.7602e-06 - mse: 8.7602e-06\n",
      "Epoch 34/50\n",
      "73/73 [==============================] - 0s 2ms/step - loss: 8.2747e-06 - mse: 8.2747e-06\n",
      "Epoch 35/50\n",
      "73/73 [==============================] - 0s 2ms/step - loss: 8.5921e-06 - mse: 8.5921e-06\n",
      "Epoch 36/50\n",
      "73/73 [==============================] - 0s 2ms/step - loss: 8.7119e-06 - mse: 8.7119e-06\n",
      "Epoch 37/50\n",
      "73/73 [==============================] - 0s 2ms/step - loss: 8.8246e-06 - mse: 8.8246e-06\n",
      "Epoch 38/50\n",
      "73/73 [==============================] - 0s 2ms/step - loss: 8.5509e-06 - mse: 8.5509e-06\n",
      "Epoch 39/50\n",
      "73/73 [==============================] - 0s 2ms/step - loss: 9.1757e-06 - mse: 9.1757e-06\n",
      "Epoch 40/50\n",
      "73/73 [==============================] - 0s 3ms/step - loss: 8.4844e-06 - mse: 8.4844e-06\n",
      "Epoch 41/50\n",
      "73/73 [==============================] - 0s 2ms/step - loss: 8.6800e-06 - mse: 8.6800e-06\n",
      "Epoch 42/50\n",
      "73/73 [==============================] - 0s 3ms/step - loss: 8.9513e-06 - mse: 8.9513e-06\n",
      "Epoch 43/50\n",
      "73/73 [==============================] - 0s 3ms/step - loss: 7.9016e-06 - mse: 7.9016e-06\n",
      "Epoch 44/50\n",
      "73/73 [==============================] - 0s 2ms/step - loss: 7.7697e-06 - mse: 7.7697e-06\n",
      "Epoch 45/50\n",
      "73/73 [==============================] - 0s 2ms/step - loss: 8.8901e-06 - mse: 8.8901e-06\n",
      "Epoch 46/50\n",
      "73/73 [==============================] - 0s 3ms/step - loss: 8.7045e-06 - mse: 8.7045e-06\n",
      "Epoch 47/50\n",
      "73/73 [==============================] - 0s 2ms/step - loss: 7.7723e-06 - mse: 7.7723e-06\n",
      "Epoch 48/50\n",
      "73/73 [==============================] - 0s 3ms/step - loss: 8.5044e-06 - mse: 8.5044e-06\n",
      "Epoch 49/50\n",
      "73/73 [==============================] - 0s 2ms/step - loss: 9.5642e-06 - mse: 9.5642e-06\n",
      "Epoch 50/50\n",
      "73/73 [==============================] - 0s 3ms/step - loss: 8.1397e-06 - mse: 8.1397e-06\n",
      "19/19 [==============================] - 0s 1ms/step - loss: 3.2373e-06 - mse: 3.2373e-06\n",
      "[CV] .................... nodes_dense=83, nodes_lstm=25, total=  11.3s\n",
      "[CV] nodes_dense=83, nodes_lstm=25 ...................................\n",
      "Epoch 1/50\n",
      "73/73 [==============================] - 1s 2ms/step - loss: 4.0761e-04 - mse: 4.0761e-04\n",
      "Epoch 2/50\n",
      "73/73 [==============================] - 0s 3ms/step - loss: 3.2636e-05 - mse: 3.2636e-05\n",
      "Epoch 3/50\n",
      "73/73 [==============================] - 0s 2ms/step - loss: 2.0313e-05 - mse: 2.0313e-05\n",
      "Epoch 4/50\n",
      "73/73 [==============================] - 0s 3ms/step - loss: 1.5763e-05 - mse: 1.5763e-05\n",
      "Epoch 5/50\n",
      "73/73 [==============================] - 0s 2ms/step - loss: 1.3007e-05 - mse: 1.3007e-05\n",
      "Epoch 6/50\n",
      "73/73 [==============================] - 0s 2ms/step - loss: 1.1411e-05 - mse: 1.1411e-05\n",
      "Epoch 7/50\n",
      "73/73 [==============================] - 0s 2ms/step - loss: 1.0780e-05 - mse: 1.0780e-05\n",
      "Epoch 8/50\n",
      "73/73 [==============================] - 0s 2ms/step - loss: 1.0392e-05 - mse: 1.0392e-05\n",
      "Epoch 9/50\n",
      "73/73 [==============================] - 0s 2ms/step - loss: 9.6516e-06 - mse: 9.6516e-06\n",
      "Epoch 10/50\n",
      "73/73 [==============================] - 0s 3ms/step - loss: 9.4894e-06 - mse: 9.4894e-06\n",
      "Epoch 11/50\n",
      "73/73 [==============================] - 0s 3ms/step - loss: 9.0518e-06 - mse: 9.0518e-06\n",
      "Epoch 12/50\n",
      "73/73 [==============================] - 0s 2ms/step - loss: 8.6682e-06 - mse: 8.6682e-06\n",
      "Epoch 13/50\n",
      "73/73 [==============================] - 0s 3ms/step - loss: 9.4682e-06 - mse: 9.4682e-06\n",
      "Epoch 14/50\n",
      "73/73 [==============================] - 0s 3ms/step - loss: 8.8831e-06 - mse: 8.8831e-06\n",
      "Epoch 15/50\n",
      "73/73 [==============================] - 0s 3ms/step - loss: 8.5967e-06 - mse: 8.5967e-06\n",
      "Epoch 16/50\n",
      "73/73 [==============================] - 0s 2ms/step - loss: 8.0544e-06 - mse: 8.0544e-06\n",
      "Epoch 17/50\n",
      "73/73 [==============================] - 0s 2ms/step - loss: 8.8249e-06 - mse: 8.8249e-06\n",
      "Epoch 18/50\n",
      "73/73 [==============================] - 0s 3ms/step - loss: 8.6984e-06 - mse: 8.6984e-06\n",
      "Epoch 19/50\n",
      "73/73 [==============================] - 0s 2ms/step - loss: 8.3037e-06 - mse: 8.3037e-06\n",
      "Epoch 20/50\n",
      "73/73 [==============================] - 0s 2ms/step - loss: 8.0725e-06 - mse: 8.0725e-06\n",
      "Epoch 21/50\n",
      "73/73 [==============================] - 0s 2ms/step - loss: 8.1016e-06 - mse: 8.1016e-06\n",
      "Epoch 22/50\n",
      "73/73 [==============================] - 0s 2ms/step - loss: 8.4669e-06 - mse: 8.4669e-06\n",
      "Epoch 23/50\n",
      "73/73 [==============================] - 0s 2ms/step - loss: 9.1580e-06 - mse: 9.1580e-06\n",
      "Epoch 24/50\n",
      "73/73 [==============================] - 0s 2ms/step - loss: 8.2607e-06 - mse: 8.2607e-06\n",
      "Epoch 25/50\n",
      "73/73 [==============================] - 0s 2ms/step - loss: 8.0035e-06 - mse: 8.0035e-06\n",
      "Epoch 26/50\n",
      "73/73 [==============================] - 0s 2ms/step - loss: 8.0022e-06 - mse: 8.0022e-06\n",
      "Epoch 27/50\n",
      "73/73 [==============================] - 0s 2ms/step - loss: 7.9475e-06 - mse: 7.9475e-06\n",
      "Epoch 28/50\n",
      "73/73 [==============================] - 0s 2ms/step - loss: 8.0625e-06 - mse: 8.0625e-06\n",
      "Epoch 29/50\n",
      "73/73 [==============================] - 0s 2ms/step - loss: 8.1728e-06 - mse: 8.1728e-06\n",
      "Epoch 30/50\n",
      "73/73 [==============================] - 0s 2ms/step - loss: 8.3398e-06 - mse: 8.3398e-06\n",
      "Epoch 31/50\n",
      "73/73 [==============================] - 0s 3ms/step - loss: 8.5879e-06 - mse: 8.5879e-06\n",
      "Epoch 32/50\n",
      "73/73 [==============================] - 0s 2ms/step - loss: 7.7428e-06 - mse: 7.7428e-06\n",
      "Epoch 33/50\n",
      "73/73 [==============================] - 0s 3ms/step - loss: 8.1715e-06 - mse: 8.1715e-06\n",
      "Epoch 34/50\n",
      "73/73 [==============================] - 0s 2ms/step - loss: 7.7661e-06 - mse: 7.7661e-06\n",
      "Epoch 35/50\n",
      "73/73 [==============================] - 0s 3ms/step - loss: 7.7068e-06 - mse: 7.7068e-06\n",
      "Epoch 36/50\n",
      "73/73 [==============================] - 0s 3ms/step - loss: 7.9014e-06 - mse: 7.9014e-06\n",
      "Epoch 37/50\n",
      "73/73 [==============================] - 0s 3ms/step - loss: 7.6736e-06 - mse: 7.6736e-06\n",
      "Epoch 38/50\n",
      "73/73 [==============================] - 0s 3ms/step - loss: 7.5600e-06 - mse: 7.5600e-06\n",
      "Epoch 39/50\n",
      "73/73 [==============================] - 0s 3ms/step - loss: 7.9746e-06 - mse: 7.9746e-06\n",
      "Epoch 40/50\n",
      "73/73 [==============================] - 0s 2ms/step - loss: 7.4851e-06 - mse: 7.4851e-06\n",
      "Epoch 41/50\n",
      "73/73 [==============================] - 0s 2ms/step - loss: 8.0565e-06 - mse: 8.0565e-06\n",
      "Epoch 42/50\n",
      "73/73 [==============================] - 0s 3ms/step - loss: 8.2690e-06 - mse: 8.2690e-06\n",
      "Epoch 43/50\n",
      "73/73 [==============================] - 0s 2ms/step - loss: 7.5498e-06 - mse: 7.5498e-06\n",
      "Epoch 44/50\n",
      "73/73 [==============================] - 0s 2ms/step - loss: 7.9778e-06 - mse: 7.9778e-06\n",
      "Epoch 45/50\n",
      "73/73 [==============================] - 0s 3ms/step - loss: 8.1701e-06 - mse: 8.1701e-06\n",
      "Epoch 46/50\n",
      "73/73 [==============================] - 0s 3ms/step - loss: 7.5376e-06 - mse: 7.5376e-06\n",
      "Epoch 47/50\n",
      "73/73 [==============================] - 0s 3ms/step - loss: 7.9529e-06 - mse: 7.9529e-06\n",
      "Epoch 48/50\n",
      "73/73 [==============================] - 0s 3ms/step - loss: 7.7809e-06 - mse: 7.7809e-06\n",
      "Epoch 49/50\n",
      "73/73 [==============================] - 0s 3ms/step - loss: 8.1953e-06 - mse: 8.1953e-06\n",
      "Epoch 50/50\n",
      "73/73 [==============================] - 0s 2ms/step - loss: 7.6331e-06 - mse: 7.6331e-06\n",
      "19/19 [==============================] - 0s 1ms/step - loss: 4.1794e-06 - mse: 4.1794e-06\n",
      "[CV] .................... nodes_dense=83, nodes_lstm=25, total=  11.5s\n",
      "[CV] nodes_dense=83, nodes_lstm=25 ...................................\n",
      "Epoch 1/50\n",
      "73/73 [==============================] - 1s 2ms/step - loss: 7.0648e-04 - mse: 7.0648e-04\n",
      "Epoch 2/50\n",
      "73/73 [==============================] - 0s 2ms/step - loss: 5.2572e-05 - mse: 5.2572e-05\n",
      "Epoch 3/50\n",
      "73/73 [==============================] - 0s 2ms/step - loss: 2.9920e-05 - mse: 2.9920e-05\n",
      "Epoch 4/50\n",
      "73/73 [==============================] - 0s 2ms/step - loss: 2.1138e-05 - mse: 2.1138e-05\n",
      "Epoch 5/50\n",
      "73/73 [==============================] - 0s 2ms/step - loss: 1.6430e-05 - mse: 1.6430e-05\n",
      "Epoch 6/50\n",
      "73/73 [==============================] - 0s 2ms/step - loss: 1.3731e-05 - mse: 1.3731e-05\n",
      "Epoch 7/50\n",
      "73/73 [==============================] - 0s 2ms/step - loss: 1.2525e-05 - mse: 1.2525e-05\n",
      "Epoch 8/50\n",
      "73/73 [==============================] - 0s 2ms/step - loss: 1.1626e-05 - mse: 1.1626e-05\n",
      "Epoch 9/50\n",
      "73/73 [==============================] - 0s 2ms/step - loss: 1.0469e-05 - mse: 1.0469e-05\n",
      "Epoch 10/50\n",
      "73/73 [==============================] - 0s 3ms/step - loss: 9.9137e-06 - mse: 9.9137e-06\n",
      "Epoch 11/50\n",
      "73/73 [==============================] - 0s 2ms/step - loss: 9.4364e-06 - mse: 9.4364e-06\n",
      "Epoch 12/50\n",
      "73/73 [==============================] - 0s 2ms/step - loss: 9.3191e-06 - mse: 9.3191e-06\n",
      "Epoch 13/50\n",
      "73/73 [==============================] - 0s 2ms/step - loss: 9.2960e-06 - mse: 9.2960e-06\n",
      "Epoch 14/50\n",
      "73/73 [==============================] - 0s 2ms/step - loss: 8.9925e-06 - mse: 8.9925e-06\n",
      "Epoch 15/50\n",
      "73/73 [==============================] - 0s 3ms/step - loss: 8.5196e-06 - mse: 8.5196e-06\n",
      "Epoch 16/50\n",
      "73/73 [==============================] - 0s 2ms/step - loss: 8.0041e-06 - mse: 8.0041e-06\n",
      "Epoch 17/50\n",
      "73/73 [==============================] - 0s 3ms/step - loss: 8.0177e-06 - mse: 8.0177e-06\n",
      "Epoch 18/50\n",
      "73/73 [==============================] - 0s 3ms/step - loss: 8.0722e-06 - mse: 8.0722e-06\n",
      "Epoch 19/50\n",
      "73/73 [==============================] - 0s 2ms/step - loss: 8.6631e-06 - mse: 8.6631e-06\n",
      "Epoch 20/50\n",
      "73/73 [==============================] - 0s 3ms/step - loss: 8.1783e-06 - mse: 8.1783e-06\n",
      "Epoch 21/50\n",
      "73/73 [==============================] - 0s 2ms/step - loss: 8.1727e-06 - mse: 8.1727e-06\n",
      "Epoch 22/50\n",
      "73/73 [==============================] - 0s 2ms/step - loss: 8.4080e-06 - mse: 8.4080e-06\n",
      "Epoch 23/50\n",
      "73/73 [==============================] - 0s 2ms/step - loss: 7.9481e-06 - mse: 7.9481e-06\n",
      "Epoch 24/50\n",
      "73/73 [==============================] - 0s 3ms/step - loss: 7.7213e-06 - mse: 7.7213e-06\n",
      "Epoch 25/50\n",
      "73/73 [==============================] - 0s 2ms/step - loss: 7.7952e-06 - mse: 7.7952e-06\n",
      "Epoch 26/50\n",
      "73/73 [==============================] - 0s 2ms/step - loss: 7.5452e-06 - mse: 7.5452e-06\n",
      "Epoch 27/50\n",
      "73/73 [==============================] - 0s 3ms/step - loss: 7.6141e-06 - mse: 7.6141e-06\n",
      "Epoch 28/50\n",
      "73/73 [==============================] - 0s 2ms/step - loss: 7.8270e-06 - mse: 7.8270e-06\n",
      "Epoch 29/50\n",
      "73/73 [==============================] - 0s 2ms/step - loss: 7.8824e-06 - mse: 7.8824e-06\n",
      "Epoch 30/50\n",
      "73/73 [==============================] - 0s 2ms/step - loss: 8.0842e-06 - mse: 8.0842e-06\n",
      "Epoch 31/50\n",
      "73/73 [==============================] - 0s 2ms/step - loss: 7.9528e-06 - mse: 7.9528e-06\n",
      "Epoch 32/50\n",
      "73/73 [==============================] - 0s 2ms/step - loss: 7.5054e-06 - mse: 7.5054e-06\n",
      "Epoch 33/50\n",
      "73/73 [==============================] - 0s 2ms/step - loss: 7.9178e-06 - mse: 7.9178e-06\n",
      "Epoch 34/50\n",
      "73/73 [==============================] - 0s 2ms/step - loss: 7.5818e-06 - mse: 7.5818e-06\n",
      "Epoch 35/50\n",
      "73/73 [==============================] - 0s 2ms/step - loss: 7.6551e-06 - mse: 7.6551e-06\n",
      "Epoch 36/50\n",
      "73/73 [==============================] - 0s 2ms/step - loss: 7.8256e-06 - mse: 7.8256e-06\n",
      "Epoch 37/50\n",
      "73/73 [==============================] - 0s 3ms/step - loss: 7.7282e-06 - mse: 7.7282e-06\n",
      "Epoch 38/50\n",
      "73/73 [==============================] - 0s 3ms/step - loss: 7.4811e-06 - mse: 7.4811e-06\n",
      "Epoch 39/50\n",
      "73/73 [==============================] - 0s 3ms/step - loss: 8.5814e-06 - mse: 8.5814e-06\n",
      "Epoch 40/50\n",
      "73/73 [==============================] - 0s 3ms/step - loss: 7.7018e-06 - mse: 7.7018e-06\n",
      "Epoch 41/50\n",
      "73/73 [==============================] - 0s 3ms/step - loss: 7.9709e-06 - mse: 7.9709e-06\n",
      "Epoch 42/50\n",
      "73/73 [==============================] - 0s 3ms/step - loss: 8.1739e-06 - mse: 8.1739e-06\n",
      "Epoch 43/50\n",
      "73/73 [==============================] - 0s 3ms/step - loss: 8.1124e-06 - mse: 8.1124e-06\n",
      "Epoch 44/50\n",
      "73/73 [==============================] - 0s 3ms/step - loss: 7.4971e-06 - mse: 7.4971e-06\n",
      "Epoch 45/50\n",
      "73/73 [==============================] - 0s 3ms/step - loss: 7.4891e-06 - mse: 7.4891e-06\n",
      "Epoch 46/50\n",
      "73/73 [==============================] - 0s 3ms/step - loss: 7.7798e-06 - mse: 7.7798e-06\n",
      "Epoch 47/50\n",
      "73/73 [==============================] - 0s 2ms/step - loss: 7.4125e-06 - mse: 7.4125e-06\n",
      "Epoch 48/50\n",
      "73/73 [==============================] - 0s 2ms/step - loss: 7.9830e-06 - mse: 7.9830e-06\n",
      "Epoch 49/50\n",
      "73/73 [==============================] - 0s 2ms/step - loss: 8.5910e-06 - mse: 8.5910e-06\n",
      "Epoch 50/50\n",
      "73/73 [==============================] - 0s 2ms/step - loss: 8.2997e-06 - mse: 8.2997e-06\n",
      "19/19 [==============================] - 0s 1ms/step - loss: 7.1539e-06 - mse: 7.1539e-06\n",
      "[CV] .................... nodes_dense=83, nodes_lstm=25, total=  10.3s\n",
      "[CV] nodes_dense=83, nodes_lstm=25 ...................................\n",
      "Epoch 1/50\n",
      "73/73 [==============================] - 1s 2ms/step - loss: 2.0135e-04 - mse: 2.0135e-04\n",
      "Epoch 2/50\n",
      "73/73 [==============================] - 0s 2ms/step - loss: 2.1431e-05 - mse: 2.1431e-05\n",
      "Epoch 3/50\n",
      "73/73 [==============================] - 0s 2ms/step - loss: 1.3102e-05 - mse: 1.3102e-05\n",
      "Epoch 4/50\n",
      "73/73 [==============================] - 0s 2ms/step - loss: 9.5782e-06 - mse: 9.5782e-06\n",
      "Epoch 5/50\n",
      "73/73 [==============================] - 0s 2ms/step - loss: 7.5006e-06 - mse: 7.5006e-06\n",
      "Epoch 6/50\n",
      "73/73 [==============================] - 0s 3ms/step - loss: 6.4744e-06 - mse: 6.4744e-06\n",
      "Epoch 7/50\n",
      "73/73 [==============================] - 0s 2ms/step - loss: 6.2968e-06 - mse: 6.2968e-06\n",
      "Epoch 8/50\n",
      "73/73 [==============================] - 0s 3ms/step - loss: 5.4291e-06 - mse: 5.4291e-06\n",
      "Epoch 9/50\n",
      "73/73 [==============================] - 0s 3ms/step - loss: 5.1871e-06 - mse: 5.1871e-06\n",
      "Epoch 10/50\n",
      "73/73 [==============================] - 0s 2ms/step - loss: 4.7767e-06 - mse: 4.7767e-06\n",
      "Epoch 11/50\n",
      "73/73 [==============================] - 0s 3ms/step - loss: 4.9102e-06 - mse: 4.9102e-06\n",
      "Epoch 12/50\n",
      "73/73 [==============================] - 0s 3ms/step - loss: 4.3422e-06 - mse: 4.3422e-06\n",
      "Epoch 13/50\n",
      "73/73 [==============================] - 0s 3ms/step - loss: 4.3041e-06 - mse: 4.3041e-06\n",
      "Epoch 14/50\n",
      "73/73 [==============================] - 0s 2ms/step - loss: 4.4642e-06 - mse: 4.4642e-06\n",
      "Epoch 15/50\n",
      "73/73 [==============================] - 0s 3ms/step - loss: 3.9428e-06 - mse: 3.9428e-06\n",
      "Epoch 16/50\n",
      "73/73 [==============================] - 0s 2ms/step - loss: 4.2449e-06 - mse: 4.2449e-06\n",
      "Epoch 17/50\n",
      "73/73 [==============================] - 0s 2ms/step - loss: 4.4581e-06 - mse: 4.4581e-06\n",
      "Epoch 18/50\n",
      "73/73 [==============================] - 0s 3ms/step - loss: 4.0014e-06 - mse: 4.0014e-06\n",
      "Epoch 19/50\n",
      "73/73 [==============================] - 0s 2ms/step - loss: 4.1808e-06 - mse: 4.1808e-06\n",
      "Epoch 20/50\n",
      "73/73 [==============================] - 0s 2ms/step - loss: 3.8093e-06 - mse: 3.8093e-06\n",
      "Epoch 21/50\n",
      "73/73 [==============================] - 0s 2ms/step - loss: 4.0194e-06 - mse: 4.0194e-06\n",
      "Epoch 22/50\n",
      "73/73 [==============================] - 0s 3ms/step - loss: 3.6672e-06 - mse: 3.6672e-06\n",
      "Epoch 23/50\n",
      "73/73 [==============================] - 0s 2ms/step - loss: 3.9515e-06 - mse: 3.9515e-06\n",
      "Epoch 24/50\n",
      "73/73 [==============================] - 0s 3ms/step - loss: 4.3819e-06 - mse: 4.3819e-06\n",
      "Epoch 25/50\n",
      "73/73 [==============================] - 0s 3ms/step - loss: 3.5860e-06 - mse: 3.5860e-06\n",
      "Epoch 26/50\n",
      "73/73 [==============================] - 0s 3ms/step - loss: 3.3677e-06 - mse: 3.3677e-06\n",
      "Epoch 27/50\n",
      "73/73 [==============================] - 0s 3ms/step - loss: 3.4079e-06 - mse: 3.4079e-06\n",
      "Epoch 28/50\n",
      "73/73 [==============================] - 0s 2ms/step - loss: 3.7647e-06 - mse: 3.7647e-06\n",
      "Epoch 29/50\n",
      "73/73 [==============================] - 0s 2ms/step - loss: 3.8260e-06 - mse: 3.8260e-06\n",
      "Epoch 30/50\n",
      "73/73 [==============================] - 0s 3ms/step - loss: 3.9561e-06 - mse: 3.9561e-06\n",
      "Epoch 31/50\n",
      "73/73 [==============================] - 0s 3ms/step - loss: 3.8027e-06 - mse: 3.8027e-06\n",
      "Epoch 32/50\n",
      "73/73 [==============================] - 0s 3ms/step - loss: 3.8044e-06 - mse: 3.8044e-06\n",
      "Epoch 33/50\n",
      "73/73 [==============================] - 0s 3ms/step - loss: 3.6118e-06 - mse: 3.6118e-06\n",
      "Epoch 34/50\n",
      "73/73 [==============================] - 0s 2ms/step - loss: 3.7861e-06 - mse: 3.7861e-06\n",
      "Epoch 35/50\n",
      "73/73 [==============================] - 0s 2ms/step - loss: 3.4814e-06 - mse: 3.4814e-06\n",
      "Epoch 36/50\n",
      "73/73 [==============================] - 0s 2ms/step - loss: 3.0957e-06 - mse: 3.0957e-06\n",
      "Epoch 37/50\n",
      "73/73 [==============================] - 0s 2ms/step - loss: 3.5611e-06 - mse: 3.5611e-06\n",
      "Epoch 38/50\n",
      "73/73 [==============================] - 0s 2ms/step - loss: 4.2832e-06 - mse: 4.2832e-06\n",
      "Epoch 39/50\n",
      "73/73 [==============================] - 0s 3ms/step - loss: 3.6012e-06 - mse: 3.6012e-06\n",
      "Epoch 40/50\n",
      "73/73 [==============================] - 0s 2ms/step - loss: 3.4518e-06 - mse: 3.4518e-06\n",
      "Epoch 41/50\n",
      "73/73 [==============================] - 0s 2ms/step - loss: 3.2711e-06 - mse: 3.2711e-06\n",
      "Epoch 42/50\n",
      "73/73 [==============================] - 0s 2ms/step - loss: 3.2200e-06 - mse: 3.2200e-06\n",
      "Epoch 43/50\n",
      "73/73 [==============================] - 0s 2ms/step - loss: 3.1807e-06 - mse: 3.1807e-06\n",
      "Epoch 44/50\n",
      "73/73 [==============================] - 0s 2ms/step - loss: 3.2074e-06 - mse: 3.2074e-06\n",
      "Epoch 45/50\n",
      "73/73 [==============================] - 0s 2ms/step - loss: 3.3774e-06 - mse: 3.3774e-06\n",
      "Epoch 46/50\n",
      "73/73 [==============================] - 0s 3ms/step - loss: 3.4882e-06 - mse: 3.4882e-06\n",
      "Epoch 47/50\n",
      "73/73 [==============================] - 0s 3ms/step - loss: 3.5239e-06 - mse: 3.5239e-06\n",
      "Epoch 48/50\n",
      "73/73 [==============================] - 0s 3ms/step - loss: 3.0683e-06 - mse: 3.0683e-06\n",
      "Epoch 49/50\n",
      "73/73 [==============================] - 0s 3ms/step - loss: 3.0078e-06 - mse: 3.0078e-06\n",
      "Epoch 50/50\n",
      "73/73 [==============================] - 0s 3ms/step - loss: 3.4261e-06 - mse: 3.4261e-06\n",
      "19/19 [==============================] - 0s 1ms/step - loss: 2.5867e-05 - mse: 2.5867e-05\n",
      "[CV] .................... nodes_dense=83, nodes_lstm=25, total=  10.4s\n",
      "Fitting 5 folds for each of 1 candidates, totalling 5 fits\n",
      "[CV] nodes_dense=82, nodes_lstm=49 ...................................\n",
      "Epoch 1/50\n"
     ]
    },
    {
     "name": "stderr",
     "output_type": "stream",
     "text": [
      "[Parallel(n_jobs=1)]: Done   5 out of   5 | elapsed:   53.4s finished\n",
      "[Parallel(n_jobs=1)]: Using backend SequentialBackend with 1 concurrent workers.\n"
     ]
    },
    {
     "name": "stdout",
     "output_type": "stream",
     "text": [
      "73/73 [==============================] - 1s 3ms/step - loss: 3.5888e-04 - mse: 3.5888e-04\n",
      "Epoch 2/50\n",
      "73/73 [==============================] - 0s 3ms/step - loss: 2.3193e-05 - mse: 2.3193e-05\n",
      "Epoch 3/50\n",
      "73/73 [==============================] - 0s 3ms/step - loss: 1.5315e-05 - mse: 1.5315e-05\n",
      "Epoch 4/50\n",
      "73/73 [==============================] - 0s 2ms/step - loss: 1.2915e-05 - mse: 1.2915e-05\n",
      "Epoch 5/50\n",
      "73/73 [==============================] - 0s 3ms/step - loss: 1.1564e-05 - mse: 1.1564e-05\n",
      "Epoch 6/50\n",
      "73/73 [==============================] - 0s 3ms/step - loss: 1.1019e-05 - mse: 1.1019e-05\n",
      "Epoch 7/50\n",
      "73/73 [==============================] - 0s 3ms/step - loss: 1.0226e-05 - mse: 1.0226e-05\n",
      "Epoch 8/50\n",
      "73/73 [==============================] - 0s 2ms/step - loss: 9.7870e-06 - mse: 9.7870e-06\n",
      "Epoch 9/50\n",
      "73/73 [==============================] - 0s 3ms/step - loss: 9.6068e-06 - mse: 9.6068e-06\n",
      "Epoch 10/50\n",
      "73/73 [==============================] - 0s 3ms/step - loss: 9.7603e-06 - mse: 9.7603e-06\n",
      "Epoch 11/50\n",
      "73/73 [==============================] - 0s 3ms/step - loss: 9.6581e-06 - mse: 9.6581e-06\n",
      "Epoch 12/50\n",
      "73/73 [==============================] - 0s 3ms/step - loss: 8.5518e-06 - mse: 8.5518e-06\n",
      "Epoch 13/50\n",
      "73/73 [==============================] - 0s 3ms/step - loss: 8.8567e-06 - mse: 8.8567e-06\n",
      "Epoch 14/50\n",
      "73/73 [==============================] - 0s 2ms/step - loss: 8.8146e-06 - mse: 8.8146e-06\n",
      "Epoch 15/50\n",
      "73/73 [==============================] - 0s 2ms/step - loss: 9.4532e-06 - mse: 9.4532e-06\n",
      "Epoch 16/50\n",
      "73/73 [==============================] - 0s 2ms/step - loss: 9.5840e-06 - mse: 9.5840e-06\n",
      "Epoch 17/50\n",
      "73/73 [==============================] - 0s 3ms/step - loss: 9.1139e-06 - mse: 9.1139e-06\n",
      "Epoch 18/50\n",
      "73/73 [==============================] - 0s 3ms/step - loss: 8.7702e-06 - mse: 8.7702e-06\n",
      "Epoch 19/50\n",
      "73/73 [==============================] - 0s 3ms/step - loss: 9.3368e-06 - mse: 9.3368e-06\n",
      "Epoch 20/50\n",
      "73/73 [==============================] - 0s 3ms/step - loss: 1.3444e-05 - mse: 1.3444e-05\n",
      "Epoch 21/50\n",
      "73/73 [==============================] - 0s 3ms/step - loss: 1.0184e-05 - mse: 1.0184e-05\n",
      "Epoch 22/50\n",
      "73/73 [==============================] - 0s 3ms/step - loss: 1.0241e-05 - mse: 1.0241e-05\n",
      "Epoch 23/50\n",
      "73/73 [==============================] - 0s 2ms/step - loss: 9.0684e-06 - mse: 9.0684e-06\n",
      "Epoch 24/50\n",
      "73/73 [==============================] - 0s 2ms/step - loss: 8.2308e-06 - mse: 8.2308e-06\n",
      "Epoch 25/50\n",
      "73/73 [==============================] - 0s 2ms/step - loss: 8.5915e-06 - mse: 8.5915e-06\n",
      "Epoch 26/50\n",
      "73/73 [==============================] - 0s 2ms/step - loss: 9.0252e-06 - mse: 9.0252e-06\n",
      "Epoch 27/50\n",
      "73/73 [==============================] - 0s 2ms/step - loss: 9.3850e-06 - mse: 9.3850e-06\n",
      "Epoch 28/50\n",
      "73/73 [==============================] - 0s 2ms/step - loss: 8.3713e-06 - mse: 8.3713e-06\n",
      "Epoch 29/50\n",
      "73/73 [==============================] - 0s 2ms/step - loss: 8.5460e-06 - mse: 8.5460e-06\n",
      "Epoch 30/50\n",
      "73/73 [==============================] - 0s 2ms/step - loss: 8.9670e-06 - mse: 8.9670e-06\n",
      "Epoch 31/50\n",
      "73/73 [==============================] - 0s 2ms/step - loss: 8.7772e-06 - mse: 8.7772e-06\n",
      "Epoch 32/50\n",
      "73/73 [==============================] - 0s 2ms/step - loss: 8.0995e-06 - mse: 8.0995e-06\n",
      "Epoch 33/50\n",
      "73/73 [==============================] - 0s 3ms/step - loss: 7.7986e-06 - mse: 7.7986e-06\n",
      "Epoch 34/50\n",
      "73/73 [==============================] - 0s 3ms/step - loss: 8.5190e-06 - mse: 8.5190e-06\n",
      "Epoch 35/50\n",
      "73/73 [==============================] - 0s 3ms/step - loss: 1.0174e-05 - mse: 1.0174e-05\n",
      "Epoch 36/50\n",
      "73/73 [==============================] - 0s 3ms/step - loss: 8.7178e-06 - mse: 8.7178e-06\n",
      "Epoch 37/50\n",
      "73/73 [==============================] - 0s 3ms/step - loss: 8.9608e-06 - mse: 8.9608e-06\n",
      "Epoch 38/50\n",
      "73/73 [==============================] - 0s 3ms/step - loss: 8.5953e-06 - mse: 8.5953e-06\n",
      "Epoch 39/50\n",
      "73/73 [==============================] - 0s 3ms/step - loss: 8.1480e-06 - mse: 8.1480e-06\n",
      "Epoch 40/50\n",
      "73/73 [==============================] - 0s 3ms/step - loss: 8.3229e-06 - mse: 8.3229e-06\n",
      "Epoch 41/50\n",
      "73/73 [==============================] - 0s 3ms/step - loss: 7.8860e-06 - mse: 7.8860e-06\n",
      "Epoch 42/50\n",
      "73/73 [==============================] - 0s 3ms/step - loss: 8.5638e-06 - mse: 8.5638e-06\n",
      "Epoch 43/50\n",
      "73/73 [==============================] - 0s 3ms/step - loss: 8.7950e-06 - mse: 8.7950e-06\n",
      "Epoch 44/50\n",
      "73/73 [==============================] - 0s 3ms/step - loss: 8.4029e-06 - mse: 8.4029e-06\n",
      "Epoch 45/50\n",
      "73/73 [==============================] - 0s 3ms/step - loss: 8.2860e-06 - mse: 8.2860e-06\n",
      "Epoch 46/50\n",
      "73/73 [==============================] - 0s 3ms/step - loss: 8.5044e-06 - mse: 8.5044e-06\n",
      "Epoch 47/50\n",
      "73/73 [==============================] - 0s 3ms/step - loss: 7.9936e-06 - mse: 7.9936e-06\n",
      "Epoch 48/50\n",
      "73/73 [==============================] - 0s 3ms/step - loss: 8.3573e-06 - mse: 8.3573e-06\n",
      "Epoch 49/50\n",
      "73/73 [==============================] - 0s 3ms/step - loss: 8.4427e-06 - mse: 8.4427e-06\n",
      "Epoch 50/50\n",
      "73/73 [==============================] - 0s 3ms/step - loss: 8.5483e-06 - mse: 8.5483e-06\n",
      "19/19 [==============================] - 0s 1ms/step - loss: 8.6904e-06 - mse: 8.6904e-06\n",
      "[CV] .................... nodes_dense=82, nodes_lstm=49, total=  10.8s\n",
      "[CV] nodes_dense=82, nodes_lstm=49 ...................................\n",
      "Epoch 1/50\n"
     ]
    },
    {
     "name": "stderr",
     "output_type": "stream",
     "text": [
      "[Parallel(n_jobs=1)]: Done   1 out of   1 | elapsed:   10.8s remaining:    0.0s\n"
     ]
    },
    {
     "name": "stdout",
     "output_type": "stream",
     "text": [
      "73/73 [==============================] - 1s 2ms/step - loss: 3.1551e-04 - mse: 3.1551e-04\n",
      "Epoch 2/50\n",
      "73/73 [==============================] - 0s 2ms/step - loss: 2.9871e-05 - mse: 2.9871e-05\n",
      "Epoch 3/50\n",
      "73/73 [==============================] - 0s 2ms/step - loss: 2.0273e-05 - mse: 2.0273e-05\n",
      "Epoch 4/50\n",
      "73/73 [==============================] - 0s 3ms/step - loss: 1.5499e-05 - mse: 1.5499e-05\n",
      "Epoch 5/50\n",
      "73/73 [==============================] - 0s 2ms/step - loss: 1.4423e-05 - mse: 1.4423e-05\n",
      "Epoch 6/50\n",
      "73/73 [==============================] - 0s 2ms/step - loss: 1.2218e-05 - mse: 1.2218e-05\n",
      "Epoch 7/50\n",
      "73/73 [==============================] - 0s 3ms/step - loss: 1.1778e-05 - mse: 1.1778e-05\n",
      "Epoch 8/50\n",
      "73/73 [==============================] - 0s 2ms/step - loss: 1.0946e-05 - mse: 1.0946e-05\n",
      "Epoch 9/50\n",
      "73/73 [==============================] - 0s 3ms/step - loss: 1.0750e-05 - mse: 1.0750e-05\n",
      "Epoch 10/50\n",
      "73/73 [==============================] - 0s 2ms/step - loss: 1.0932e-05 - mse: 1.0932e-05\n",
      "Epoch 11/50\n",
      "73/73 [==============================] - 0s 2ms/step - loss: 1.1843e-05 - mse: 1.1843e-05\n",
      "Epoch 12/50\n",
      "73/73 [==============================] - 0s 2ms/step - loss: 1.0309e-05 - mse: 1.0309e-05\n",
      "Epoch 13/50\n",
      "73/73 [==============================] - 0s 2ms/step - loss: 1.0313e-05 - mse: 1.0313e-05\n",
      "Epoch 14/50\n",
      "73/73 [==============================] - 0s 2ms/step - loss: 1.0218e-05 - mse: 1.0218e-05\n",
      "Epoch 15/50\n",
      "73/73 [==============================] - 0s 2ms/step - loss: 1.0485e-05 - mse: 1.0485e-05\n",
      "Epoch 16/50\n",
      "73/73 [==============================] - 0s 2ms/step - loss: 9.4420e-06 - mse: 9.4420e-06\n",
      "Epoch 17/50\n",
      "73/73 [==============================] - 0s 2ms/step - loss: 1.0224e-05 - mse: 1.0224e-05\n",
      "Epoch 18/50\n",
      "73/73 [==============================] - 0s 2ms/step - loss: 1.0224e-05 - mse: 1.0224e-05\n",
      "Epoch 19/50\n",
      "73/73 [==============================] - 0s 2ms/step - loss: 1.1699e-05 - mse: 1.1699e-05\n",
      "Epoch 20/50\n",
      "73/73 [==============================] - 0s 2ms/step - loss: 1.7966e-05 - mse: 1.7966e-05\n",
      "Epoch 21/50\n",
      "73/73 [==============================] - 0s 3ms/step - loss: 1.1261e-05 - mse: 1.1261e-05\n",
      "Epoch 22/50\n",
      "73/73 [==============================] - 0s 3ms/step - loss: 1.0310e-05 - mse: 1.0310e-05\n",
      "Epoch 23/50\n",
      "73/73 [==============================] - 0s 3ms/step - loss: 9.6238e-06 - mse: 9.6238e-06\n",
      "Epoch 24/50\n",
      " 1/73 [..............................] - ETA: 0s - loss: 5.1406e-06 - mse: 5.1406e-06"
     ]
    },
    {
     "ename": "KeyboardInterrupt",
     "evalue": "",
     "output_type": "error",
     "traceback": [
      "\u001b[0;31m---------------------------------------------------------------------------\u001b[0m",
      "\u001b[0;31mKeyboardInterrupt\u001b[0m                         Traceback (most recent call last)",
      "\u001b[0;32m<ipython-input-249-f5099b654f04>\u001b[0m in \u001b[0;36m<module>\u001b[0;34m\u001b[0m\n\u001b[0;32m----> 1\u001b[0;31m \u001b[0mlstm_bs1\u001b[0m\u001b[0;34m.\u001b[0m\u001b[0mfit\u001b[0m\u001b[0;34m(\u001b[0m\u001b[0mX_train_lstm\u001b[0m\u001b[0;34m,\u001b[0m\u001b[0my_train\u001b[0m\u001b[0;34m)\u001b[0m\u001b[0;34m\u001b[0m\u001b[0;34m\u001b[0m\u001b[0m\n\u001b[0m",
      "\u001b[0;32m~/anaconda3/lib/python3.8/site-packages/skopt/searchcv.py\u001b[0m in \u001b[0;36mfit\u001b[0;34m(self, X, y, groups, callback)\u001b[0m\n\u001b[1;32m    690\u001b[0m                 \u001b[0mn_points_adjusted\u001b[0m \u001b[0;34m=\u001b[0m \u001b[0mmin\u001b[0m\u001b[0;34m(\u001b[0m\u001b[0mn_iter\u001b[0m\u001b[0;34m,\u001b[0m \u001b[0mn_points\u001b[0m\u001b[0;34m)\u001b[0m\u001b[0;34m\u001b[0m\u001b[0;34m\u001b[0m\u001b[0m\n\u001b[1;32m    691\u001b[0m \u001b[0;34m\u001b[0m\u001b[0m\n\u001b[0;32m--> 692\u001b[0;31m                 optim_result = self._step(\n\u001b[0m\u001b[1;32m    693\u001b[0m                     \u001b[0mX\u001b[0m\u001b[0;34m,\u001b[0m \u001b[0my\u001b[0m\u001b[0;34m,\u001b[0m \u001b[0msearch_space\u001b[0m\u001b[0;34m,\u001b[0m \u001b[0moptimizer\u001b[0m\u001b[0;34m,\u001b[0m\u001b[0;34m\u001b[0m\u001b[0;34m\u001b[0m\u001b[0m\n\u001b[1;32m    694\u001b[0m                     \u001b[0mgroups\u001b[0m\u001b[0;34m=\u001b[0m\u001b[0mgroups\u001b[0m\u001b[0;34m,\u001b[0m \u001b[0mn_points\u001b[0m\u001b[0;34m=\u001b[0m\u001b[0mn_points_adjusted\u001b[0m\u001b[0;34m\u001b[0m\u001b[0;34m\u001b[0m\u001b[0m\n",
      "\u001b[0;32m~/anaconda3/lib/python3.8/site-packages/skopt/searchcv.py\u001b[0m in \u001b[0;36m_step\u001b[0;34m(self, X, y, search_space, optimizer, groups, n_points)\u001b[0m\n\u001b[1;32m    577\u001b[0m         \u001b[0mrefit\u001b[0m \u001b[0;34m=\u001b[0m \u001b[0mself\u001b[0m\u001b[0;34m.\u001b[0m\u001b[0mrefit\u001b[0m\u001b[0;34m\u001b[0m\u001b[0;34m\u001b[0m\u001b[0m\n\u001b[1;32m    578\u001b[0m         \u001b[0mself\u001b[0m\u001b[0;34m.\u001b[0m\u001b[0mrefit\u001b[0m \u001b[0;34m=\u001b[0m \u001b[0;32mFalse\u001b[0m\u001b[0;34m\u001b[0m\u001b[0;34m\u001b[0m\u001b[0m\n\u001b[0;32m--> 579\u001b[0;31m         \u001b[0mself\u001b[0m\u001b[0;34m.\u001b[0m\u001b[0m_fit\u001b[0m\u001b[0;34m(\u001b[0m\u001b[0mX\u001b[0m\u001b[0;34m,\u001b[0m \u001b[0my\u001b[0m\u001b[0;34m,\u001b[0m \u001b[0mgroups\u001b[0m\u001b[0;34m,\u001b[0m \u001b[0mparams_dict\u001b[0m\u001b[0;34m)\u001b[0m\u001b[0;34m\u001b[0m\u001b[0;34m\u001b[0m\u001b[0m\n\u001b[0m\u001b[1;32m    580\u001b[0m         \u001b[0mself\u001b[0m\u001b[0;34m.\u001b[0m\u001b[0mrefit\u001b[0m \u001b[0;34m=\u001b[0m \u001b[0mrefit\u001b[0m\u001b[0;34m\u001b[0m\u001b[0;34m\u001b[0m\u001b[0m\n\u001b[1;32m    581\u001b[0m \u001b[0;34m\u001b[0m\u001b[0m\n",
      "\u001b[0;32m~/anaconda3/lib/python3.8/site-packages/skopt/searchcv.py\u001b[0m in \u001b[0;36m_fit\u001b[0;34m(self, X, y, groups, parameter_iterable)\u001b[0m\n\u001b[1;32m    408\u001b[0m \u001b[0;34m\u001b[0m\u001b[0m\n\u001b[1;32m    409\u001b[0m         \u001b[0mcv_iter\u001b[0m \u001b[0;34m=\u001b[0m \u001b[0mlist\u001b[0m\u001b[0;34m(\u001b[0m\u001b[0mcv\u001b[0m\u001b[0;34m.\u001b[0m\u001b[0msplit\u001b[0m\u001b[0;34m(\u001b[0m\u001b[0mX\u001b[0m\u001b[0;34m,\u001b[0m \u001b[0my\u001b[0m\u001b[0;34m,\u001b[0m \u001b[0mgroups\u001b[0m\u001b[0;34m)\u001b[0m\u001b[0;34m)\u001b[0m\u001b[0;34m\u001b[0m\u001b[0;34m\u001b[0m\u001b[0m\n\u001b[0;32m--> 410\u001b[0;31m         out = Parallel(\n\u001b[0m\u001b[1;32m    411\u001b[0m             \u001b[0mn_jobs\u001b[0m\u001b[0;34m=\u001b[0m\u001b[0mself\u001b[0m\u001b[0;34m.\u001b[0m\u001b[0mn_jobs\u001b[0m\u001b[0;34m,\u001b[0m \u001b[0mverbose\u001b[0m\u001b[0;34m=\u001b[0m\u001b[0mself\u001b[0m\u001b[0;34m.\u001b[0m\u001b[0mverbose\u001b[0m\u001b[0;34m,\u001b[0m\u001b[0;34m\u001b[0m\u001b[0;34m\u001b[0m\u001b[0m\n\u001b[1;32m    412\u001b[0m             \u001b[0mpre_dispatch\u001b[0m\u001b[0;34m=\u001b[0m\u001b[0mpre_dispatch\u001b[0m\u001b[0;34m\u001b[0m\u001b[0;34m\u001b[0m\u001b[0m\n",
      "\u001b[0;32m~/anaconda3/lib/python3.8/site-packages/joblib/parallel.py\u001b[0m in \u001b[0;36m__call__\u001b[0;34m(self, iterable)\u001b[0m\n\u001b[1;32m   1042\u001b[0m                 \u001b[0mself\u001b[0m\u001b[0;34m.\u001b[0m\u001b[0m_iterating\u001b[0m \u001b[0;34m=\u001b[0m \u001b[0mself\u001b[0m\u001b[0;34m.\u001b[0m\u001b[0m_original_iterator\u001b[0m \u001b[0;32mis\u001b[0m \u001b[0;32mnot\u001b[0m \u001b[0;32mNone\u001b[0m\u001b[0;34m\u001b[0m\u001b[0;34m\u001b[0m\u001b[0m\n\u001b[1;32m   1043\u001b[0m \u001b[0;34m\u001b[0m\u001b[0m\n\u001b[0;32m-> 1044\u001b[0;31m             \u001b[0;32mwhile\u001b[0m \u001b[0mself\u001b[0m\u001b[0;34m.\u001b[0m\u001b[0mdispatch_one_batch\u001b[0m\u001b[0;34m(\u001b[0m\u001b[0miterator\u001b[0m\u001b[0;34m)\u001b[0m\u001b[0;34m:\u001b[0m\u001b[0;34m\u001b[0m\u001b[0;34m\u001b[0m\u001b[0m\n\u001b[0m\u001b[1;32m   1045\u001b[0m                 \u001b[0;32mpass\u001b[0m\u001b[0;34m\u001b[0m\u001b[0;34m\u001b[0m\u001b[0m\n\u001b[1;32m   1046\u001b[0m \u001b[0;34m\u001b[0m\u001b[0m\n",
      "\u001b[0;32m~/anaconda3/lib/python3.8/site-packages/joblib/parallel.py\u001b[0m in \u001b[0;36mdispatch_one_batch\u001b[0;34m(self, iterator)\u001b[0m\n\u001b[1;32m    857\u001b[0m                 \u001b[0;32mreturn\u001b[0m \u001b[0;32mFalse\u001b[0m\u001b[0;34m\u001b[0m\u001b[0;34m\u001b[0m\u001b[0m\n\u001b[1;32m    858\u001b[0m             \u001b[0;32melse\u001b[0m\u001b[0;34m:\u001b[0m\u001b[0;34m\u001b[0m\u001b[0;34m\u001b[0m\u001b[0m\n\u001b[0;32m--> 859\u001b[0;31m                 \u001b[0mself\u001b[0m\u001b[0;34m.\u001b[0m\u001b[0m_dispatch\u001b[0m\u001b[0;34m(\u001b[0m\u001b[0mtasks\u001b[0m\u001b[0;34m)\u001b[0m\u001b[0;34m\u001b[0m\u001b[0;34m\u001b[0m\u001b[0m\n\u001b[0m\u001b[1;32m    860\u001b[0m                 \u001b[0;32mreturn\u001b[0m \u001b[0;32mTrue\u001b[0m\u001b[0;34m\u001b[0m\u001b[0;34m\u001b[0m\u001b[0m\n\u001b[1;32m    861\u001b[0m \u001b[0;34m\u001b[0m\u001b[0m\n",
      "\u001b[0;32m~/anaconda3/lib/python3.8/site-packages/joblib/parallel.py\u001b[0m in \u001b[0;36m_dispatch\u001b[0;34m(self, batch)\u001b[0m\n\u001b[1;32m    775\u001b[0m         \u001b[0;32mwith\u001b[0m \u001b[0mself\u001b[0m\u001b[0;34m.\u001b[0m\u001b[0m_lock\u001b[0m\u001b[0;34m:\u001b[0m\u001b[0;34m\u001b[0m\u001b[0;34m\u001b[0m\u001b[0m\n\u001b[1;32m    776\u001b[0m             \u001b[0mjob_idx\u001b[0m \u001b[0;34m=\u001b[0m \u001b[0mlen\u001b[0m\u001b[0;34m(\u001b[0m\u001b[0mself\u001b[0m\u001b[0;34m.\u001b[0m\u001b[0m_jobs\u001b[0m\u001b[0;34m)\u001b[0m\u001b[0;34m\u001b[0m\u001b[0;34m\u001b[0m\u001b[0m\n\u001b[0;32m--> 777\u001b[0;31m             \u001b[0mjob\u001b[0m \u001b[0;34m=\u001b[0m \u001b[0mself\u001b[0m\u001b[0;34m.\u001b[0m\u001b[0m_backend\u001b[0m\u001b[0;34m.\u001b[0m\u001b[0mapply_async\u001b[0m\u001b[0;34m(\u001b[0m\u001b[0mbatch\u001b[0m\u001b[0;34m,\u001b[0m \u001b[0mcallback\u001b[0m\u001b[0;34m=\u001b[0m\u001b[0mcb\u001b[0m\u001b[0;34m)\u001b[0m\u001b[0;34m\u001b[0m\u001b[0;34m\u001b[0m\u001b[0m\n\u001b[0m\u001b[1;32m    778\u001b[0m             \u001b[0;31m# A job can complete so quickly than its callback is\u001b[0m\u001b[0;34m\u001b[0m\u001b[0;34m\u001b[0m\u001b[0;34m\u001b[0m\u001b[0m\n\u001b[1;32m    779\u001b[0m             \u001b[0;31m# called before we get here, causing self._jobs to\u001b[0m\u001b[0;34m\u001b[0m\u001b[0;34m\u001b[0m\u001b[0;34m\u001b[0m\u001b[0m\n",
      "\u001b[0;32m~/anaconda3/lib/python3.8/site-packages/joblib/_parallel_backends.py\u001b[0m in \u001b[0;36mapply_async\u001b[0;34m(self, func, callback)\u001b[0m\n\u001b[1;32m    206\u001b[0m     \u001b[0;32mdef\u001b[0m \u001b[0mapply_async\u001b[0m\u001b[0;34m(\u001b[0m\u001b[0mself\u001b[0m\u001b[0;34m,\u001b[0m \u001b[0mfunc\u001b[0m\u001b[0;34m,\u001b[0m \u001b[0mcallback\u001b[0m\u001b[0;34m=\u001b[0m\u001b[0;32mNone\u001b[0m\u001b[0;34m)\u001b[0m\u001b[0;34m:\u001b[0m\u001b[0;34m\u001b[0m\u001b[0;34m\u001b[0m\u001b[0m\n\u001b[1;32m    207\u001b[0m         \u001b[0;34m\"\"\"Schedule a func to be run\"\"\"\u001b[0m\u001b[0;34m\u001b[0m\u001b[0;34m\u001b[0m\u001b[0m\n\u001b[0;32m--> 208\u001b[0;31m         \u001b[0mresult\u001b[0m \u001b[0;34m=\u001b[0m \u001b[0mImmediateResult\u001b[0m\u001b[0;34m(\u001b[0m\u001b[0mfunc\u001b[0m\u001b[0;34m)\u001b[0m\u001b[0;34m\u001b[0m\u001b[0;34m\u001b[0m\u001b[0m\n\u001b[0m\u001b[1;32m    209\u001b[0m         \u001b[0;32mif\u001b[0m \u001b[0mcallback\u001b[0m\u001b[0;34m:\u001b[0m\u001b[0;34m\u001b[0m\u001b[0;34m\u001b[0m\u001b[0m\n\u001b[1;32m    210\u001b[0m             \u001b[0mcallback\u001b[0m\u001b[0;34m(\u001b[0m\u001b[0mresult\u001b[0m\u001b[0;34m)\u001b[0m\u001b[0;34m\u001b[0m\u001b[0;34m\u001b[0m\u001b[0m\n",
      "\u001b[0;32m~/anaconda3/lib/python3.8/site-packages/joblib/_parallel_backends.py\u001b[0m in \u001b[0;36m__init__\u001b[0;34m(self, batch)\u001b[0m\n\u001b[1;32m    570\u001b[0m         \u001b[0;31m# Don't delay the application, to avoid keeping the input\u001b[0m\u001b[0;34m\u001b[0m\u001b[0;34m\u001b[0m\u001b[0;34m\u001b[0m\u001b[0m\n\u001b[1;32m    571\u001b[0m         \u001b[0;31m# arguments in memory\u001b[0m\u001b[0;34m\u001b[0m\u001b[0;34m\u001b[0m\u001b[0;34m\u001b[0m\u001b[0m\n\u001b[0;32m--> 572\u001b[0;31m         \u001b[0mself\u001b[0m\u001b[0;34m.\u001b[0m\u001b[0mresults\u001b[0m \u001b[0;34m=\u001b[0m \u001b[0mbatch\u001b[0m\u001b[0;34m(\u001b[0m\u001b[0;34m)\u001b[0m\u001b[0;34m\u001b[0m\u001b[0;34m\u001b[0m\u001b[0m\n\u001b[0m\u001b[1;32m    573\u001b[0m \u001b[0;34m\u001b[0m\u001b[0m\n\u001b[1;32m    574\u001b[0m     \u001b[0;32mdef\u001b[0m \u001b[0mget\u001b[0m\u001b[0;34m(\u001b[0m\u001b[0mself\u001b[0m\u001b[0;34m)\u001b[0m\u001b[0;34m:\u001b[0m\u001b[0;34m\u001b[0m\u001b[0;34m\u001b[0m\u001b[0m\n",
      "\u001b[0;32m~/anaconda3/lib/python3.8/site-packages/joblib/parallel.py\u001b[0m in \u001b[0;36m__call__\u001b[0;34m(self)\u001b[0m\n\u001b[1;32m    260\u001b[0m         \u001b[0;31m# change the default number of processes to -1\u001b[0m\u001b[0;34m\u001b[0m\u001b[0;34m\u001b[0m\u001b[0;34m\u001b[0m\u001b[0m\n\u001b[1;32m    261\u001b[0m         \u001b[0;32mwith\u001b[0m \u001b[0mparallel_backend\u001b[0m\u001b[0;34m(\u001b[0m\u001b[0mself\u001b[0m\u001b[0;34m.\u001b[0m\u001b[0m_backend\u001b[0m\u001b[0;34m,\u001b[0m \u001b[0mn_jobs\u001b[0m\u001b[0;34m=\u001b[0m\u001b[0mself\u001b[0m\u001b[0;34m.\u001b[0m\u001b[0m_n_jobs\u001b[0m\u001b[0;34m)\u001b[0m\u001b[0;34m:\u001b[0m\u001b[0;34m\u001b[0m\u001b[0;34m\u001b[0m\u001b[0m\n\u001b[0;32m--> 262\u001b[0;31m             return [func(*args, **kwargs)\n\u001b[0m\u001b[1;32m    263\u001b[0m                     for func, args, kwargs in self.items]\n\u001b[1;32m    264\u001b[0m \u001b[0;34m\u001b[0m\u001b[0m\n",
      "\u001b[0;32m~/anaconda3/lib/python3.8/site-packages/joblib/parallel.py\u001b[0m in \u001b[0;36m<listcomp>\u001b[0;34m(.0)\u001b[0m\n\u001b[1;32m    260\u001b[0m         \u001b[0;31m# change the default number of processes to -1\u001b[0m\u001b[0;34m\u001b[0m\u001b[0;34m\u001b[0m\u001b[0;34m\u001b[0m\u001b[0m\n\u001b[1;32m    261\u001b[0m         \u001b[0;32mwith\u001b[0m \u001b[0mparallel_backend\u001b[0m\u001b[0;34m(\u001b[0m\u001b[0mself\u001b[0m\u001b[0;34m.\u001b[0m\u001b[0m_backend\u001b[0m\u001b[0;34m,\u001b[0m \u001b[0mn_jobs\u001b[0m\u001b[0;34m=\u001b[0m\u001b[0mself\u001b[0m\u001b[0;34m.\u001b[0m\u001b[0m_n_jobs\u001b[0m\u001b[0;34m)\u001b[0m\u001b[0;34m:\u001b[0m\u001b[0;34m\u001b[0m\u001b[0;34m\u001b[0m\u001b[0m\n\u001b[0;32m--> 262\u001b[0;31m             return [func(*args, **kwargs)\n\u001b[0m\u001b[1;32m    263\u001b[0m                     for func, args, kwargs in self.items]\n\u001b[1;32m    264\u001b[0m \u001b[0;34m\u001b[0m\u001b[0m\n",
      "\u001b[0;32m~/anaconda3/lib/python3.8/site-packages/sklearn/model_selection/_validation.py\u001b[0m in \u001b[0;36m_fit_and_score\u001b[0;34m(estimator, X, y, scorer, train, test, verbose, parameters, fit_params, return_train_score, return_parameters, return_n_test_samples, return_times, return_estimator, error_score)\u001b[0m\n\u001b[1;32m    529\u001b[0m             \u001b[0mestimator\u001b[0m\u001b[0;34m.\u001b[0m\u001b[0mfit\u001b[0m\u001b[0;34m(\u001b[0m\u001b[0mX_train\u001b[0m\u001b[0;34m,\u001b[0m \u001b[0;34m**\u001b[0m\u001b[0mfit_params\u001b[0m\u001b[0;34m)\u001b[0m\u001b[0;34m\u001b[0m\u001b[0;34m\u001b[0m\u001b[0m\n\u001b[1;32m    530\u001b[0m         \u001b[0;32melse\u001b[0m\u001b[0;34m:\u001b[0m\u001b[0;34m\u001b[0m\u001b[0;34m\u001b[0m\u001b[0m\n\u001b[0;32m--> 531\u001b[0;31m             \u001b[0mestimator\u001b[0m\u001b[0;34m.\u001b[0m\u001b[0mfit\u001b[0m\u001b[0;34m(\u001b[0m\u001b[0mX_train\u001b[0m\u001b[0;34m,\u001b[0m \u001b[0my_train\u001b[0m\u001b[0;34m,\u001b[0m \u001b[0;34m**\u001b[0m\u001b[0mfit_params\u001b[0m\u001b[0;34m)\u001b[0m\u001b[0;34m\u001b[0m\u001b[0;34m\u001b[0m\u001b[0m\n\u001b[0m\u001b[1;32m    532\u001b[0m \u001b[0;34m\u001b[0m\u001b[0m\n\u001b[1;32m    533\u001b[0m     \u001b[0;32mexcept\u001b[0m \u001b[0mException\u001b[0m \u001b[0;32mas\u001b[0m \u001b[0me\u001b[0m\u001b[0;34m:\u001b[0m\u001b[0;34m\u001b[0m\u001b[0;34m\u001b[0m\u001b[0m\n",
      "\u001b[0;32m~/anaconda3/lib/python3.8/site-packages/tensorflow/python/keras/wrappers/scikit_learn.py\u001b[0m in \u001b[0;36mfit\u001b[0;34m(self, x, y, **kwargs)\u001b[0m\n\u001b[1;32m    161\u001b[0m     \u001b[0mfit_args\u001b[0m\u001b[0;34m.\u001b[0m\u001b[0mupdate\u001b[0m\u001b[0;34m(\u001b[0m\u001b[0mkwargs\u001b[0m\u001b[0;34m)\u001b[0m\u001b[0;34m\u001b[0m\u001b[0;34m\u001b[0m\u001b[0m\n\u001b[1;32m    162\u001b[0m \u001b[0;34m\u001b[0m\u001b[0m\n\u001b[0;32m--> 163\u001b[0;31m     \u001b[0mhistory\u001b[0m \u001b[0;34m=\u001b[0m \u001b[0mself\u001b[0m\u001b[0;34m.\u001b[0m\u001b[0mmodel\u001b[0m\u001b[0;34m.\u001b[0m\u001b[0mfit\u001b[0m\u001b[0;34m(\u001b[0m\u001b[0mx\u001b[0m\u001b[0;34m,\u001b[0m \u001b[0my\u001b[0m\u001b[0;34m,\u001b[0m \u001b[0;34m**\u001b[0m\u001b[0mfit_args\u001b[0m\u001b[0;34m)\u001b[0m\u001b[0;34m\u001b[0m\u001b[0;34m\u001b[0m\u001b[0m\n\u001b[0m\u001b[1;32m    164\u001b[0m \u001b[0;34m\u001b[0m\u001b[0m\n\u001b[1;32m    165\u001b[0m     \u001b[0;32mreturn\u001b[0m \u001b[0mhistory\u001b[0m\u001b[0;34m\u001b[0m\u001b[0;34m\u001b[0m\u001b[0m\n",
      "\u001b[0;32m~/anaconda3/lib/python3.8/site-packages/tensorflow/python/keras/engine/training.py\u001b[0m in \u001b[0;36mfit\u001b[0;34m(self, x, y, batch_size, epochs, verbose, callbacks, validation_split, validation_data, shuffle, class_weight, sample_weight, initial_epoch, steps_per_epoch, validation_steps, validation_batch_size, validation_freq, max_queue_size, workers, use_multiprocessing)\u001b[0m\n\u001b[1;32m   1181\u001b[0m                 _r=1):\n\u001b[1;32m   1182\u001b[0m               \u001b[0mcallbacks\u001b[0m\u001b[0;34m.\u001b[0m\u001b[0mon_train_batch_begin\u001b[0m\u001b[0;34m(\u001b[0m\u001b[0mstep\u001b[0m\u001b[0;34m)\u001b[0m\u001b[0;34m\u001b[0m\u001b[0;34m\u001b[0m\u001b[0m\n\u001b[0;32m-> 1183\u001b[0;31m               \u001b[0mtmp_logs\u001b[0m \u001b[0;34m=\u001b[0m \u001b[0mself\u001b[0m\u001b[0;34m.\u001b[0m\u001b[0mtrain_function\u001b[0m\u001b[0;34m(\u001b[0m\u001b[0miterator\u001b[0m\u001b[0;34m)\u001b[0m\u001b[0;34m\u001b[0m\u001b[0;34m\u001b[0m\u001b[0m\n\u001b[0m\u001b[1;32m   1184\u001b[0m               \u001b[0;32mif\u001b[0m \u001b[0mdata_handler\u001b[0m\u001b[0;34m.\u001b[0m\u001b[0mshould_sync\u001b[0m\u001b[0;34m:\u001b[0m\u001b[0;34m\u001b[0m\u001b[0;34m\u001b[0m\u001b[0m\n\u001b[1;32m   1185\u001b[0m                 \u001b[0mcontext\u001b[0m\u001b[0;34m.\u001b[0m\u001b[0masync_wait\u001b[0m\u001b[0;34m(\u001b[0m\u001b[0;34m)\u001b[0m\u001b[0;34m\u001b[0m\u001b[0;34m\u001b[0m\u001b[0m\n",
      "\u001b[0;32m~/anaconda3/lib/python3.8/site-packages/tensorflow/python/eager/def_function.py\u001b[0m in \u001b[0;36m__call__\u001b[0;34m(self, *args, **kwds)\u001b[0m\n\u001b[1;32m    887\u001b[0m \u001b[0;34m\u001b[0m\u001b[0m\n\u001b[1;32m    888\u001b[0m       \u001b[0;32mwith\u001b[0m \u001b[0mOptionalXlaContext\u001b[0m\u001b[0;34m(\u001b[0m\u001b[0mself\u001b[0m\u001b[0;34m.\u001b[0m\u001b[0m_jit_compile\u001b[0m\u001b[0;34m)\u001b[0m\u001b[0;34m:\u001b[0m\u001b[0;34m\u001b[0m\u001b[0;34m\u001b[0m\u001b[0m\n\u001b[0;32m--> 889\u001b[0;31m         \u001b[0mresult\u001b[0m \u001b[0;34m=\u001b[0m \u001b[0mself\u001b[0m\u001b[0;34m.\u001b[0m\u001b[0m_call\u001b[0m\u001b[0;34m(\u001b[0m\u001b[0;34m*\u001b[0m\u001b[0margs\u001b[0m\u001b[0;34m,\u001b[0m \u001b[0;34m**\u001b[0m\u001b[0mkwds\u001b[0m\u001b[0;34m)\u001b[0m\u001b[0;34m\u001b[0m\u001b[0;34m\u001b[0m\u001b[0m\n\u001b[0m\u001b[1;32m    890\u001b[0m \u001b[0;34m\u001b[0m\u001b[0m\n\u001b[1;32m    891\u001b[0m       \u001b[0mnew_tracing_count\u001b[0m \u001b[0;34m=\u001b[0m \u001b[0mself\u001b[0m\u001b[0;34m.\u001b[0m\u001b[0mexperimental_get_tracing_count\u001b[0m\u001b[0;34m(\u001b[0m\u001b[0;34m)\u001b[0m\u001b[0;34m\u001b[0m\u001b[0;34m\u001b[0m\u001b[0m\n",
      "\u001b[0;32m~/anaconda3/lib/python3.8/site-packages/tensorflow/python/eager/def_function.py\u001b[0m in \u001b[0;36m_call\u001b[0;34m(self, *args, **kwds)\u001b[0m\n\u001b[1;32m    915\u001b[0m       \u001b[0;31m# In this case we have created variables on the first call, so we run the\u001b[0m\u001b[0;34m\u001b[0m\u001b[0;34m\u001b[0m\u001b[0;34m\u001b[0m\u001b[0m\n\u001b[1;32m    916\u001b[0m       \u001b[0;31m# defunned version which is guaranteed to never create variables.\u001b[0m\u001b[0;34m\u001b[0m\u001b[0;34m\u001b[0m\u001b[0;34m\u001b[0m\u001b[0m\n\u001b[0;32m--> 917\u001b[0;31m       \u001b[0;32mreturn\u001b[0m \u001b[0mself\u001b[0m\u001b[0;34m.\u001b[0m\u001b[0m_stateless_fn\u001b[0m\u001b[0;34m(\u001b[0m\u001b[0;34m*\u001b[0m\u001b[0margs\u001b[0m\u001b[0;34m,\u001b[0m \u001b[0;34m**\u001b[0m\u001b[0mkwds\u001b[0m\u001b[0;34m)\u001b[0m  \u001b[0;31m# pylint: disable=not-callable\u001b[0m\u001b[0;34m\u001b[0m\u001b[0;34m\u001b[0m\u001b[0m\n\u001b[0m\u001b[1;32m    918\u001b[0m     \u001b[0;32melif\u001b[0m \u001b[0mself\u001b[0m\u001b[0;34m.\u001b[0m\u001b[0m_stateful_fn\u001b[0m \u001b[0;32mis\u001b[0m \u001b[0;32mnot\u001b[0m \u001b[0;32mNone\u001b[0m\u001b[0;34m:\u001b[0m\u001b[0;34m\u001b[0m\u001b[0;34m\u001b[0m\u001b[0m\n\u001b[1;32m    919\u001b[0m       \u001b[0;31m# Release the lock early so that multiple threads can perform the call\u001b[0m\u001b[0;34m\u001b[0m\u001b[0;34m\u001b[0m\u001b[0;34m\u001b[0m\u001b[0m\n",
      "\u001b[0;32m~/anaconda3/lib/python3.8/site-packages/tensorflow/python/eager/function.py\u001b[0m in \u001b[0;36m__call__\u001b[0;34m(self, *args, **kwargs)\u001b[0m\n\u001b[1;32m   3021\u001b[0m       (graph_function,\n\u001b[1;32m   3022\u001b[0m        filtered_flat_args) = self._maybe_define_function(args, kwargs)\n\u001b[0;32m-> 3023\u001b[0;31m     return graph_function._call_flat(\n\u001b[0m\u001b[1;32m   3024\u001b[0m         filtered_flat_args, captured_inputs=graph_function.captured_inputs)  # pylint: disable=protected-access\n\u001b[1;32m   3025\u001b[0m \u001b[0;34m\u001b[0m\u001b[0m\n",
      "\u001b[0;32m~/anaconda3/lib/python3.8/site-packages/tensorflow/python/eager/function.py\u001b[0m in \u001b[0;36m_call_flat\u001b[0;34m(self, args, captured_inputs, cancellation_manager)\u001b[0m\n\u001b[1;32m   1958\u001b[0m         and executing_eagerly):\n\u001b[1;32m   1959\u001b[0m       \u001b[0;31m# No tape is watching; skip to running the function.\u001b[0m\u001b[0;34m\u001b[0m\u001b[0;34m\u001b[0m\u001b[0;34m\u001b[0m\u001b[0m\n\u001b[0;32m-> 1960\u001b[0;31m       return self._build_call_outputs(self._inference_function.call(\n\u001b[0m\u001b[1;32m   1961\u001b[0m           ctx, args, cancellation_manager=cancellation_manager))\n\u001b[1;32m   1962\u001b[0m     forward_backward = self._select_forward_and_backward_functions(\n",
      "\u001b[0;32m~/anaconda3/lib/python3.8/site-packages/tensorflow/python/eager/function.py\u001b[0m in \u001b[0;36mcall\u001b[0;34m(self, ctx, args, cancellation_manager)\u001b[0m\n\u001b[1;32m    589\u001b[0m       \u001b[0;32mwith\u001b[0m \u001b[0m_InterpolateFunctionError\u001b[0m\u001b[0;34m(\u001b[0m\u001b[0mself\u001b[0m\u001b[0;34m)\u001b[0m\u001b[0;34m:\u001b[0m\u001b[0;34m\u001b[0m\u001b[0;34m\u001b[0m\u001b[0m\n\u001b[1;32m    590\u001b[0m         \u001b[0;32mif\u001b[0m \u001b[0mcancellation_manager\u001b[0m \u001b[0;32mis\u001b[0m \u001b[0;32mNone\u001b[0m\u001b[0;34m:\u001b[0m\u001b[0;34m\u001b[0m\u001b[0;34m\u001b[0m\u001b[0m\n\u001b[0;32m--> 591\u001b[0;31m           outputs = execute.execute(\n\u001b[0m\u001b[1;32m    592\u001b[0m               \u001b[0mstr\u001b[0m\u001b[0;34m(\u001b[0m\u001b[0mself\u001b[0m\u001b[0;34m.\u001b[0m\u001b[0msignature\u001b[0m\u001b[0;34m.\u001b[0m\u001b[0mname\u001b[0m\u001b[0;34m)\u001b[0m\u001b[0;34m,\u001b[0m\u001b[0;34m\u001b[0m\u001b[0;34m\u001b[0m\u001b[0m\n\u001b[1;32m    593\u001b[0m               \u001b[0mnum_outputs\u001b[0m\u001b[0;34m=\u001b[0m\u001b[0mself\u001b[0m\u001b[0;34m.\u001b[0m\u001b[0m_num_outputs\u001b[0m\u001b[0;34m,\u001b[0m\u001b[0;34m\u001b[0m\u001b[0;34m\u001b[0m\u001b[0m\n",
      "\u001b[0;32m~/anaconda3/lib/python3.8/site-packages/tensorflow/python/eager/execute.py\u001b[0m in \u001b[0;36mquick_execute\u001b[0;34m(op_name, num_outputs, inputs, attrs, ctx, name)\u001b[0m\n\u001b[1;32m     57\u001b[0m   \u001b[0;32mtry\u001b[0m\u001b[0;34m:\u001b[0m\u001b[0;34m\u001b[0m\u001b[0;34m\u001b[0m\u001b[0m\n\u001b[1;32m     58\u001b[0m     \u001b[0mctx\u001b[0m\u001b[0;34m.\u001b[0m\u001b[0mensure_initialized\u001b[0m\u001b[0;34m(\u001b[0m\u001b[0;34m)\u001b[0m\u001b[0;34m\u001b[0m\u001b[0;34m\u001b[0m\u001b[0m\n\u001b[0;32m---> 59\u001b[0;31m     tensors = pywrap_tfe.TFE_Py_Execute(ctx._handle, device_name, op_name,\n\u001b[0m\u001b[1;32m     60\u001b[0m                                         inputs, attrs, num_outputs)\n\u001b[1;32m     61\u001b[0m   \u001b[0;32mexcept\u001b[0m \u001b[0mcore\u001b[0m\u001b[0;34m.\u001b[0m\u001b[0m_NotOkStatusException\u001b[0m \u001b[0;32mas\u001b[0m \u001b[0me\u001b[0m\u001b[0;34m:\u001b[0m\u001b[0;34m\u001b[0m\u001b[0;34m\u001b[0m\u001b[0m\n",
      "\u001b[0;31mKeyboardInterrupt\u001b[0m: "
     ]
    }
   ],
   "source": [
    "lstm_bs1.fit(X_train_lstm,y_train)"
   ]
  },
  {
   "cell_type": "code",
   "execution_count": 297,
   "id": "6e07e994-b4a2-49e5-aa86-a4536d28df0f",
   "metadata": {
    "execution": {
     "iopub.execute_input": "2021-08-27T12:06:47.357747Z",
     "iopub.status.busy": "2021-08-27T12:06:47.357556Z",
     "iopub.status.idle": "2021-08-27T12:06:47.368892Z",
     "shell.execute_reply": "2021-08-27T12:06:47.368293Z",
     "shell.execute_reply.started": "2021-08-27T12:06:47.357729Z"
    },
    "tags": []
   },
   "outputs": [
    {
     "data": {
      "text/html": [
       "<div>\n",
       "<style scoped>\n",
       "    .dataframe tbody tr th:only-of-type {\n",
       "        vertical-align: middle;\n",
       "    }\n",
       "\n",
       "    .dataframe tbody tr th {\n",
       "        vertical-align: top;\n",
       "    }\n",
       "\n",
       "    .dataframe thead th {\n",
       "        text-align: right;\n",
       "    }\n",
       "</style>\n",
       "<table border=\"1\" class=\"dataframe\">\n",
       "  <thead>\n",
       "    <tr style=\"text-align: right;\">\n",
       "      <th></th>\n",
       "      <th>params</th>\n",
       "      <th>mean_test_score</th>\n",
       "    </tr>\n",
       "  </thead>\n",
       "  <tbody>\n",
       "    <tr>\n",
       "      <th>1</th>\n",
       "      <td>{'nodes_dense': 85, 'nodes_lstm': 89}</td>\n",
       "      <td>-0.000010</td>\n",
       "    </tr>\n",
       "    <tr>\n",
       "      <th>2</th>\n",
       "      <td>{'nodes_dense': 50, 'nodes_lstm': 93}</td>\n",
       "      <td>-0.000011</td>\n",
       "    </tr>\n",
       "    <tr>\n",
       "      <th>0</th>\n",
       "      <td>{'nodes_dense': 47, 'nodes_lstm': 75}</td>\n",
       "      <td>-0.000011</td>\n",
       "    </tr>\n",
       "    <tr>\n",
       "      <th>3</th>\n",
       "      <td>{'nodes_dense': 83, 'nodes_lstm': 25}</td>\n",
       "      <td>-0.000011</td>\n",
       "    </tr>\n",
       "  </tbody>\n",
       "</table>\n",
       "</div>"
      ],
      "text/plain": [
       "                                  params  mean_test_score\n",
       "1  {'nodes_dense': 85, 'nodes_lstm': 89}        -0.000010\n",
       "2  {'nodes_dense': 50, 'nodes_lstm': 93}        -0.000011\n",
       "0  {'nodes_dense': 47, 'nodes_lstm': 75}        -0.000011\n",
       "3  {'nodes_dense': 83, 'nodes_lstm': 25}        -0.000011"
      ]
     },
     "execution_count": 297,
     "metadata": {},
     "output_type": "execute_result"
    }
   ],
   "source": [
    "pd.DataFrame(lstm_bs1.cv_results_)[['params','mean_test_score']].sort_values(by='mean_test_score',ascending=False)"
   ]
  },
  {
   "cell_type": "code",
   "execution_count": 340,
   "id": "0b935acb-e899-48e5-a3fd-44c92e432d16",
   "metadata": {
    "execution": {
     "iopub.execute_input": "2021-08-27T12:47:11.089886Z",
     "iopub.status.busy": "2021-08-27T12:47:11.089606Z",
     "iopub.status.idle": "2021-08-27T12:47:36.691478Z",
     "shell.execute_reply": "2021-08-27T12:47:36.690726Z",
     "shell.execute_reply.started": "2021-08-27T12:47:11.089868Z"
    },
    "scrolled": true,
    "tags": []
   },
   "outputs": [
    {
     "name": "stdout",
     "output_type": "stream",
     "text": [
      "Epoch 1/100\n",
      "92/92 - 1s - loss: 1.8765e-04 - val_loss: 1.1793e-04\n",
      "Epoch 2/100\n",
      "92/92 - 0s - loss: 1.9785e-05 - val_loss: 1.0712e-04\n",
      "Epoch 3/100\n",
      "92/92 - 0s - loss: 1.8946e-05 - val_loss: 1.3429e-04\n",
      "Epoch 4/100\n",
      "92/92 - 0s - loss: 1.5783e-05 - val_loss: 1.0494e-04\n",
      "Epoch 5/100\n",
      "92/92 - 0s - loss: 1.6972e-05 - val_loss: 1.0322e-04\n",
      "Epoch 6/100\n",
      "92/92 - 0s - loss: 1.3546e-05 - val_loss: 9.5902e-05\n",
      "Epoch 7/100\n",
      "92/92 - 0s - loss: 2.2559e-05 - val_loss: 8.5713e-05\n",
      "Epoch 8/100\n",
      "92/92 - 0s - loss: 1.5788e-05 - val_loss: 1.2617e-04\n",
      "Epoch 9/100\n",
      "92/92 - 0s - loss: 3.4061e-05 - val_loss: 1.0279e-04\n",
      "Epoch 10/100\n",
      "92/92 - 0s - loss: 3.2420e-05 - val_loss: 9.7006e-05\n",
      "Epoch 11/100\n",
      "92/92 - 0s - loss: 3.1259e-05 - val_loss: 9.7881e-05\n",
      "Epoch 12/100\n",
      "92/92 - 0s - loss: 2.1405e-05 - val_loss: 9.8087e-05\n",
      "Epoch 13/100\n",
      "92/92 - 0s - loss: 1.4043e-05 - val_loss: 9.9858e-05\n",
      "Epoch 14/100\n",
      "92/92 - 0s - loss: 1.6520e-05 - val_loss: 9.1024e-05\n",
      "Epoch 15/100\n",
      "92/92 - 0s - loss: 1.1546e-05 - val_loss: 9.4924e-05\n",
      "Epoch 16/100\n",
      "92/92 - 0s - loss: 1.0885e-05 - val_loss: 8.6311e-05\n",
      "Epoch 17/100\n",
      "92/92 - 0s - loss: 1.1158e-05 - val_loss: 8.7296e-05\n",
      "Epoch 18/100\n",
      "92/92 - 0s - loss: 9.4651e-06 - val_loss: 9.0722e-05\n",
      "Epoch 19/100\n",
      "92/92 - 0s - loss: 1.0909e-05 - val_loss: 8.8863e-05\n",
      "Epoch 20/100\n",
      "92/92 - 0s - loss: 1.1214e-05 - val_loss: 6.8149e-05\n",
      "Epoch 21/100\n",
      "92/92 - 0s - loss: 1.6766e-05 - val_loss: 8.6184e-05\n",
      "Epoch 22/100\n",
      "92/92 - 0s - loss: 1.1909e-05 - val_loss: 9.4656e-05\n",
      "Epoch 23/100\n",
      "92/92 - 0s - loss: 1.0025e-05 - val_loss: 8.0843e-05\n",
      "Epoch 24/100\n",
      "92/92 - 0s - loss: 1.8507e-05 - val_loss: 1.0156e-04\n",
      "Epoch 25/100\n",
      "92/92 - 0s - loss: 9.8128e-06 - val_loss: 8.3367e-05\n",
      "Epoch 26/100\n",
      "92/92 - 0s - loss: 9.7206e-06 - val_loss: 8.2025e-05\n",
      "Epoch 27/100\n",
      "92/92 - 0s - loss: 1.0880e-05 - val_loss: 8.0967e-05\n",
      "Epoch 28/100\n",
      "92/92 - 0s - loss: 8.6587e-06 - val_loss: 7.6218e-05\n",
      "Epoch 29/100\n",
      "92/92 - 0s - loss: 8.6250e-06 - val_loss: 7.0196e-05\n",
      "Epoch 30/100\n",
      "92/92 - 0s - loss: 8.2177e-06 - val_loss: 7.3598e-05\n",
      "Epoch 31/100\n",
      "92/92 - 0s - loss: 8.7121e-06 - val_loss: 1.0419e-04\n",
      "Epoch 32/100\n",
      "92/92 - 0s - loss: 8.6953e-06 - val_loss: 8.4724e-05\n",
      "Epoch 33/100\n",
      "92/92 - 0s - loss: 9.2406e-06 - val_loss: 9.6672e-05\n",
      "Epoch 34/100\n",
      "92/92 - 0s - loss: 7.5556e-06 - val_loss: 1.1542e-04\n",
      "Epoch 35/100\n",
      "92/92 - 0s - loss: 1.0889e-05 - val_loss: 8.7194e-05\n",
      "Epoch 36/100\n",
      "92/92 - 0s - loss: 1.1691e-05 - val_loss: 9.2274e-05\n",
      "Epoch 37/100\n",
      "92/92 - 0s - loss: 8.2559e-06 - val_loss: 8.4597e-05\n",
      "Epoch 38/100\n",
      "92/92 - 0s - loss: 8.8930e-06 - val_loss: 8.4533e-05\n",
      "Epoch 39/100\n",
      "92/92 - 0s - loss: 8.7334e-06 - val_loss: 8.9719e-05\n",
      "Epoch 40/100\n",
      "92/92 - 0s - loss: 1.0282e-05 - val_loss: 1.0219e-04\n",
      "Epoch 41/100\n",
      "92/92 - 0s - loss: 8.2710e-06 - val_loss: 9.2859e-05\n",
      "Epoch 42/100\n",
      "92/92 - 0s - loss: 8.1734e-06 - val_loss: 7.5943e-05\n",
      "Epoch 43/100\n",
      "92/92 - 0s - loss: 1.0414e-05 - val_loss: 8.4624e-05\n",
      "Epoch 44/100\n",
      "92/92 - 0s - loss: 7.7106e-06 - val_loss: 8.9729e-05\n",
      "Epoch 45/100\n",
      "92/92 - 0s - loss: 8.4288e-06 - val_loss: 8.0797e-05\n",
      "Epoch 46/100\n",
      "92/92 - 0s - loss: 8.8277e-06 - val_loss: 9.7269e-05\n",
      "Epoch 47/100\n",
      "92/92 - 0s - loss: 8.7540e-06 - val_loss: 8.5507e-05\n",
      "Epoch 48/100\n",
      "92/92 - 0s - loss: 7.9139e-06 - val_loss: 1.0852e-04\n",
      "Epoch 49/100\n",
      "92/92 - 0s - loss: 7.2589e-06 - val_loss: 7.5897e-05\n",
      "Epoch 50/100\n",
      "92/92 - 0s - loss: 7.2472e-06 - val_loss: 8.7959e-05\n",
      "Epoch 51/100\n",
      "92/92 - 0s - loss: 6.9936e-06 - val_loss: 9.4895e-05\n",
      "Epoch 52/100\n",
      "92/92 - 0s - loss: 7.3568e-06 - val_loss: 8.6456e-05\n",
      "Epoch 53/100\n",
      "92/92 - 0s - loss: 7.1647e-06 - val_loss: 9.2483e-05\n",
      "Epoch 54/100\n",
      "92/92 - 0s - loss: 7.2262e-06 - val_loss: 8.9916e-05\n",
      "Epoch 55/100\n",
      "92/92 - 0s - loss: 7.8663e-06 - val_loss: 9.6139e-05\n",
      "Epoch 56/100\n",
      "92/92 - 0s - loss: 7.1755e-06 - val_loss: 9.6714e-05\n",
      "Epoch 57/100\n",
      "92/92 - 0s - loss: 7.2779e-06 - val_loss: 8.4535e-05\n",
      "Epoch 58/100\n",
      "92/92 - 0s - loss: 9.7093e-06 - val_loss: 8.6702e-05\n",
      "Epoch 59/100\n",
      "92/92 - 0s - loss: 7.9143e-06 - val_loss: 8.2309e-05\n",
      "Epoch 60/100\n",
      "92/92 - 0s - loss: 6.7409e-06 - val_loss: 8.4379e-05\n",
      "Epoch 61/100\n",
      "92/92 - 0s - loss: 7.2051e-06 - val_loss: 8.7928e-05\n",
      "Epoch 62/100\n",
      "92/92 - 0s - loss: 7.5405e-06 - val_loss: 8.3886e-05\n",
      "Epoch 63/100\n",
      "92/92 - 0s - loss: 6.5282e-06 - val_loss: 7.5536e-05\n",
      "Epoch 64/100\n",
      "92/92 - 0s - loss: 6.4324e-06 - val_loss: 9.6663e-05\n",
      "Epoch 65/100\n",
      "92/92 - 0s - loss: 7.0473e-06 - val_loss: 7.5816e-05\n",
      "Epoch 66/100\n",
      "92/92 - 0s - loss: 7.1852e-06 - val_loss: 9.1554e-05\n",
      "Epoch 67/100\n",
      "92/92 - 0s - loss: 6.5998e-06 - val_loss: 8.6196e-05\n",
      "Epoch 68/100\n",
      "92/92 - 0s - loss: 7.0547e-06 - val_loss: 8.7849e-05\n",
      "Epoch 69/100\n",
      "92/92 - 0s - loss: 6.2819e-06 - val_loss: 8.1017e-05\n",
      "Epoch 70/100\n",
      "92/92 - 0s - loss: 6.5702e-06 - val_loss: 7.8330e-05\n",
      "Epoch 71/100\n",
      "92/92 - 0s - loss: 6.7111e-06 - val_loss: 9.3601e-05\n",
      "Epoch 72/100\n",
      "92/92 - 0s - loss: 6.2972e-06 - val_loss: 9.7380e-05\n",
      "Epoch 73/100\n",
      "92/92 - 0s - loss: 6.4149e-06 - val_loss: 8.8087e-05\n",
      "Epoch 74/100\n",
      "92/92 - 0s - loss: 6.5853e-06 - val_loss: 7.6536e-05\n",
      "Epoch 75/100\n",
      "92/92 - 0s - loss: 6.4490e-06 - val_loss: 8.8542e-05\n",
      "Epoch 76/100\n",
      "92/92 - 0s - loss: 6.4365e-06 - val_loss: 7.3610e-05\n",
      "Epoch 77/100\n",
      "92/92 - 0s - loss: 6.3356e-06 - val_loss: 9.0712e-05\n",
      "Epoch 78/100\n",
      "92/92 - 0s - loss: 6.3400e-06 - val_loss: 8.6745e-05\n",
      "Epoch 79/100\n",
      "92/92 - 0s - loss: 6.2195e-06 - val_loss: 8.7348e-05\n",
      "Epoch 80/100\n",
      "92/92 - 0s - loss: 6.6538e-06 - val_loss: 8.5436e-05\n",
      "Epoch 81/100\n",
      "92/92 - 0s - loss: 6.6915e-06 - val_loss: 9.1866e-05\n",
      "Epoch 82/100\n",
      "92/92 - 0s - loss: 6.4623e-06 - val_loss: 9.7598e-05\n",
      "Epoch 83/100\n",
      "92/92 - 0s - loss: 6.5039e-06 - val_loss: 8.1902e-05\n",
      "Epoch 84/100\n",
      "92/92 - 0s - loss: 6.3455e-06 - val_loss: 9.5029e-05\n",
      "Epoch 85/100\n",
      "92/92 - 0s - loss: 6.8160e-06 - val_loss: 8.0020e-05\n",
      "Epoch 86/100\n",
      "92/92 - 0s - loss: 6.8003e-06 - val_loss: 9.0059e-05\n",
      "Epoch 87/100\n",
      "92/92 - 0s - loss: 6.4840e-06 - val_loss: 8.4461e-05\n",
      "Epoch 88/100\n",
      "92/92 - 0s - loss: 6.4679e-06 - val_loss: 7.7935e-05\n",
      "Epoch 89/100\n",
      "92/92 - 0s - loss: 6.1602e-06 - val_loss: 9.0258e-05\n",
      "Epoch 90/100\n",
      "92/92 - 0s - loss: 6.1285e-06 - val_loss: 7.7439e-05\n",
      "Epoch 91/100\n",
      "92/92 - 0s - loss: 6.3598e-06 - val_loss: 8.3620e-05\n",
      "Epoch 92/100\n",
      "92/92 - 0s - loss: 6.4506e-06 - val_loss: 8.3133e-05\n",
      "Epoch 93/100\n",
      "92/92 - 0s - loss: 6.0597e-06 - val_loss: 8.8916e-05\n",
      "Epoch 94/100\n",
      "92/92 - 0s - loss: 6.0907e-06 - val_loss: 9.4497e-05\n",
      "Epoch 95/100\n",
      "92/92 - 0s - loss: 6.1592e-06 - val_loss: 9.0501e-05\n",
      "Epoch 96/100\n",
      "92/92 - 0s - loss: 6.3881e-06 - val_loss: 8.1509e-05\n",
      "Epoch 97/100\n",
      "92/92 - 0s - loss: 5.9955e-06 - val_loss: 7.5084e-05\n",
      "Epoch 98/100\n",
      "92/92 - 0s - loss: 5.7523e-06 - val_loss: 8.1736e-05\n",
      "Epoch 99/100\n",
      "92/92 - 0s - loss: 5.7739e-06 - val_loss: 9.5917e-05\n",
      "Epoch 100/100\n",
      "92/92 - 0s - loss: 6.3648e-06 - val_loss: 8.6344e-05\n"
     ]
    }
   ],
   "source": [
    "lstm_best= Sequential()\n",
    "lstm_best.add(LSTM(89,input_shape=(1,10)))\n",
    "lstm_best.add(Dense(85,activation='relu'))\n",
    "lstm_best.add(Dense(1))\n",
    "\n",
    "lstm_best.compile(optimizer='adam',loss='mse')\n",
    "\n",
    "hist_best_lstm = lstm_best.fit(X_train_lstm,y_train,\n",
    "                     validation_data=(X_test_lstm,y_test),\n",
    "                  epochs=100,verbose=2)"
   ]
  },
  {
   "cell_type": "code",
   "execution_count": 342,
   "id": "5df66869-88ac-4877-84b8-ae34714c7806",
   "metadata": {
    "execution": {
     "iopub.execute_input": "2021-08-27T12:48:20.927032Z",
     "iopub.status.busy": "2021-08-27T12:48:20.926803Z",
     "iopub.status.idle": "2021-08-27T12:48:21.028473Z",
     "shell.execute_reply": "2021-08-27T12:48:21.027587Z",
     "shell.execute_reply.started": "2021-08-27T12:48:20.927014Z"
    },
    "tags": []
   },
   "outputs": [
    {
     "data": {
      "text/plain": [
       "<matplotlib.legend.Legend at 0x7fd6f867fee0>"
      ]
     },
     "execution_count": 342,
     "metadata": {},
     "output_type": "execute_result"
    },
    {
     "data": {
      "image/png": "[encoded data removed]",
      "text/plain": [
       "<Figure size 432x288 with 1 Axes>"
      ]
     },
     "metadata": {
      "needs_background": "light"
     },
     "output_type": "display_data"
    }
   ],
   "source": [
    "plt.plot(hist_best_lstm.history['loss'],label='Train MSE')\n",
    "plt.plot(hist_best_lstm.history['val_loss'],label='Test MSE')\n",
    "plt.legend()"
   ]
  },
  {
   "cell_type": "code",
   "execution_count": null,
   "id": "91c18e26-05ad-4ceb-9cd4-c57ac790bd6f",
   "metadata": {},
   "outputs": [],
   "source": []
  },
  {
   "cell_type": "code",
   "execution_count": 343,
   "id": "0a861fc7-0dac-4b2b-8b2c-ebd307bcb6da",
   "metadata": {
    "execution": {
     "iopub.execute_input": "2021-08-27T12:48:25.595874Z",
     "iopub.status.busy": "2021-08-27T12:48:25.595677Z",
     "iopub.status.idle": "2021-08-27T12:48:25.951889Z",
     "shell.execute_reply": "2021-08-27T12:48:25.951231Z",
     "shell.execute_reply.started": "2021-08-27T12:48:25.595857Z"
    },
    "tags": []
   },
   "outputs": [
    {
     "name": "stdout",
     "output_type": "stream",
     "text": [
      "Training MSE: 5.450667336522919e-06\n",
      "Testing MSE: 8.634419844482044e-05\n",
      "Test - Train(overage): 8.089353110829752e-05\n"
     ]
    }
   ],
   "source": [
    "get_metrics(lstm_best,X_train_lstm,X_test_lstm)"
   ]
  },
  {
   "cell_type": "code",
   "execution_count": 311,
   "id": "7e16b528-fd59-4fa1-aff0-929ca65128c0",
   "metadata": {
    "execution": {
     "iopub.execute_input": "2021-08-27T12:16:47.757159Z",
     "iopub.status.busy": "2021-08-27T12:16:47.756957Z",
     "iopub.status.idle": "2021-08-27T12:16:47.761989Z",
     "shell.execute_reply": "2021-08-27T12:16:47.761332Z",
     "shell.execute_reply.started": "2021-08-27T12:16:47.757141Z"
    }
   },
   "outputs": [
    {
     "data": {
      "text/plain": [
       "(2920, 1, 10)"
      ]
     },
     "execution_count": 311,
     "metadata": {},
     "output_type": "execute_result"
    }
   ],
   "source": [
    "X_train_lstm.shape"
   ]
  },
  {
   "cell_type": "code",
   "execution_count": 320,
   "id": "ed12f892-d877-49b2-a69b-a5faf9bd5ba2",
   "metadata": {
    "execution": {
     "iopub.execute_input": "2021-08-27T12:32:39.839421Z",
     "iopub.status.busy": "2021-08-27T12:32:39.839209Z",
     "iopub.status.idle": "2021-08-27T12:32:39.862226Z",
     "shell.execute_reply": "2021-08-27T12:32:39.861450Z",
     "shell.execute_reply.started": "2021-08-27T12:32:39.839402Z"
    },
    "tags": []
   },
   "outputs": [
    {
     "data": {
      "text/plain": [
       "TensorShape([2920, 3])"
      ]
     },
     "execution_count": 320,
     "metadata": {},
     "output_type": "execute_result"
    }
   ],
   "source": [
    "preds = lstm_best(X_train_lstm)\n",
    "preds.shape"
   ]
  },
  {
   "cell_type": "code",
   "execution_count": 329,
   "id": "a53f5444-9685-4859-b580-35b38f47bbef",
   "metadata": {
    "execution": {
     "iopub.execute_input": "2021-08-27T12:37:13.384948Z",
     "iopub.status.busy": "2021-08-27T12:37:13.384744Z",
     "iopub.status.idle": "2021-08-27T12:37:13.390109Z",
     "shell.execute_reply": "2021-08-27T12:37:13.389453Z",
     "shell.execute_reply.started": "2021-08-27T12:37:13.384928Z"
    },
    "tags": []
   },
   "outputs": [
    {
     "data": {
      "text/plain": [
       "(2920, 1, 10)"
      ]
     },
     "execution_count": 329,
     "metadata": {},
     "output_type": "execute_result"
    }
   ],
   "source": [
    "X_train_lstm.shape"
   ]
  },
  {
   "cell_type": "code",
   "execution_count": 330,
   "id": "643e95c7-bf0e-43d6-85d4-29241c7e18c1",
   "metadata": {
    "execution": {
     "iopub.execute_input": "2021-08-27T12:37:23.151939Z",
     "iopub.status.busy": "2021-08-27T12:37:23.151742Z",
     "iopub.status.idle": "2021-08-27T12:37:23.158791Z",
     "shell.execute_reply": "2021-08-27T12:37:23.158123Z",
     "shell.execute_reply.started": "2021-08-27T12:37:23.151921Z"
    }
   },
   "outputs": [
    {
     "data": {
      "text/plain": [
       "date\n",
       "2011-07-31    0.000000\n",
       "2011-08-01    0.000240\n",
       "2011-08-02   -0.004665\n",
       "2011-08-03   -0.025114\n",
       "2011-08-04    0.004768\n",
       "                ...   \n",
       "2019-08-03   -0.004025\n",
       "2019-08-04    0.000000\n",
       "2019-08-05   -0.011589\n",
       "2019-08-06   -0.012729\n",
       "2019-08-07   -0.000884\n",
       "Name: Open_pct, Length: 2920, dtype: float64"
      ]
     },
     "execution_count": 330,
     "metadata": {},
     "output_type": "execute_result"
    }
   ],
   "source": [
    "y_train"
   ]
  },
  {
   "cell_type": "code",
   "execution_count": 327,
   "id": "bfcb0527-b2ee-460f-b578-0947901195bc",
   "metadata": {
    "execution": {
     "iopub.execute_input": "2021-08-27T12:36:07.775385Z",
     "iopub.status.busy": "2021-08-27T12:36:07.775193Z",
     "iopub.status.idle": "2021-08-27T12:36:07.791380Z",
     "shell.execute_reply": "2021-08-27T12:36:07.790556Z",
     "shell.execute_reply.started": "2021-08-27T12:36:07.775367Z"
    },
    "tags": []
   },
   "outputs": [
    {
     "ename": "ValueError",
     "evalue": "operands could not be broadcast together with shapes (2920,3) (10,) (2920,3) ",
     "output_type": "error",
     "traceback": [
      "\u001b[0;31m---------------------------------------------------------------------------\u001b[0m",
      "\u001b[0;31mValueError\u001b[0m                                Traceback (most recent call last)",
      "\u001b[0;32m<ipython-input-327-468e71d0f41b>\u001b[0m in \u001b[0;36m<module>\u001b[0;34m\u001b[0m\n\u001b[0;32m----> 1\u001b[0;31m \u001b[0mscaler\u001b[0m\u001b[0;34m.\u001b[0m\u001b[0minverse_transform\u001b[0m\u001b[0;34m(\u001b[0m\u001b[0mpreds\u001b[0m\u001b[0;34m)\u001b[0m\u001b[0;34m\u001b[0m\u001b[0;34m\u001b[0m\u001b[0m\n\u001b[0m",
      "\u001b[0;32m~/anaconda3/lib/python3.8/site-packages/sklearn/preprocessing/_data.py\u001b[0m in \u001b[0;36minverse_transform\u001b[0;34m(self, X, copy)\u001b[0m\n\u001b[1;32m    843\u001b[0m                 \u001b[0mX\u001b[0m \u001b[0;34m=\u001b[0m \u001b[0mX\u001b[0m\u001b[0;34m.\u001b[0m\u001b[0mcopy\u001b[0m\u001b[0;34m(\u001b[0m\u001b[0;34m)\u001b[0m\u001b[0;34m\u001b[0m\u001b[0;34m\u001b[0m\u001b[0m\n\u001b[1;32m    844\u001b[0m             \u001b[0;32mif\u001b[0m \u001b[0mself\u001b[0m\u001b[0;34m.\u001b[0m\u001b[0mwith_std\u001b[0m\u001b[0;34m:\u001b[0m\u001b[0;34m\u001b[0m\u001b[0;34m\u001b[0m\u001b[0m\n\u001b[0;32m--> 845\u001b[0;31m                 \u001b[0mX\u001b[0m \u001b[0;34m*=\u001b[0m \u001b[0mself\u001b[0m\u001b[0;34m.\u001b[0m\u001b[0mscale_\u001b[0m\u001b[0;34m\u001b[0m\u001b[0;34m\u001b[0m\u001b[0m\n\u001b[0m\u001b[1;32m    846\u001b[0m             \u001b[0;32mif\u001b[0m \u001b[0mself\u001b[0m\u001b[0;34m.\u001b[0m\u001b[0mwith_mean\u001b[0m\u001b[0;34m:\u001b[0m\u001b[0;34m\u001b[0m\u001b[0;34m\u001b[0m\u001b[0m\n\u001b[1;32m    847\u001b[0m                 \u001b[0mX\u001b[0m \u001b[0;34m+=\u001b[0m \u001b[0mself\u001b[0m\u001b[0;34m.\u001b[0m\u001b[0mmean_\u001b[0m\u001b[0;34m\u001b[0m\u001b[0;34m\u001b[0m\u001b[0m\n",
      "\u001b[0;31mValueError\u001b[0m: operands could not be broadcast together with shapes (2920,3) (10,) (2920,3) "
     ]
    }
   ],
   "source": [
    "np.reshape(preds,())"
   ]
  },
  {
   "cell_type": "code",
   "execution_count": 314,
   "id": "20d3dae1-f1cd-44db-86db-652e716a51b5",
   "metadata": {
    "execution": {
     "iopub.execute_input": "2021-08-27T12:22:07.527634Z",
     "iopub.status.busy": "2021-08-27T12:22:07.527441Z",
     "iopub.status.idle": "2021-08-27T12:22:07.534027Z",
     "shell.execute_reply": "2021-08-27T12:22:07.533285Z",
     "shell.execute_reply.started": "2021-08-27T12:22:07.527616Z"
    }
   },
   "outputs": [
    {
     "data": {
      "text/plain": [
       "date\n",
       "2011-07-31    0.000000\n",
       "2011-08-01    0.000240\n",
       "2011-08-02   -0.004665\n",
       "2011-08-03   -0.025114\n",
       "2011-08-04    0.004768\n",
       "                ...   \n",
       "2019-08-03   -0.004025\n",
       "2019-08-04    0.000000\n",
       "2019-08-05   -0.011589\n",
       "2019-08-06   -0.012729\n",
       "2019-08-07   -0.000884\n",
       "Name: Open_pct, Length: 2920, dtype: float64"
      ]
     },
     "execution_count": 314,
     "metadata": {},
     "output_type": "execute_result"
    }
   ],
   "source": [
    "# reshape for LSTM layers \n",
    "X_train_lstm= np.reshape(Xs_train,(Xs_train.shape[0],1,Xs_train.shape[1]))\n",
    "X_test_lstm = np.reshape(Xs_test,(Xs_test.shape[0],1,Xs_test.shape[1]))"
   ]
  },
  {
   "cell_type": "code",
   "execution_count": null,
   "id": "71f8d971-a9c0-47f6-9a23-90742ff286c8",
   "metadata": {},
   "outputs": [],
   "source": [
    "lstm_best= Sequential()\n",
    "lstm_best.add(LSTM(89,input_shape=(1,10)))\n",
    "lstm_best.add(Dense(85,activation='relu'))\n",
    "lstm_best.add(Dense(3))\n",
    "\n",
    "lstm_best.compile(optimizer='adam',loss='mse')\n",
    "\n",
    "hist_best_lstm = lstm_best.fit(X_train_lstm,y_train,\n",
    "                     validation_data=(X_test_lstm,y_test),\n",
    "                  epochs=100,verbose=2)"
   ]
  },
  {
   "cell_type": "markdown",
   "id": "21772c14-d0fc-4ae0-a8f5-c3cbc9c93fd5",
   "metadata": {},
   "source": [
    "## Randomized Search \n"
   ]
  },
  {
   "cell_type": "code",
   "execution_count": 148,
   "id": "534b9302-a2ff-423a-94d1-c3d0b2556770",
   "metadata": {
    "execution": {
     "iopub.execute_input": "2021-08-26T23:51:19.236900Z",
     "iopub.status.busy": "2021-08-26T23:51:19.236691Z",
     "iopub.status.idle": "2021-08-26T23:51:19.240583Z",
     "shell.execute_reply": "2021-08-26T23:51:19.239916Z",
     "shell.execute_reply.started": "2021-08-26T23:51:19.236880Z"
    }
   },
   "outputs": [],
   "source": [
    "from sklearn.model_selection import RandomizedSearchCV\n",
    "from scipy.stats import randint"
   ]
  },
  {
   "cell_type": "code",
   "execution_count": 149,
   "id": "348090aa-eb6c-4e12-a581-3663bd198ac8",
   "metadata": {
    "execution": {
     "iopub.execute_input": "2021-08-26T23:51:20.423529Z",
     "iopub.status.busy": "2021-08-26T23:51:20.423337Z",
     "iopub.status.idle": "2021-08-26T23:51:20.427910Z",
     "shell.execute_reply": "2021-08-26T23:51:20.426972Z",
     "shell.execute_reply.started": "2021-08-26T23:51:20.423511Z"
    },
    "tags": []
   },
   "outputs": [],
   "source": [
    "# function to make models \n",
    "def func_lstm_model(nodes_lstm,nodes_dense):\n",
    "    model = Sequential()\n",
    "    model.add(LSTM(nodes_lstm,input_shape=(1,10)))\n",
    "    model.add(Dense(nodes_dense,activation='relu'))\n",
    "    model.add(Dense(3,))\n",
    "    model.compile(optimizer='adam',loss='mse',)\n",
    "    return model "
   ]
  },
  {
   "cell_type": "code",
   "execution_count": 155,
   "id": "37a28502-fafd-414c-995c-70da8efe60ec",
   "metadata": {
    "execution": {
     "iopub.execute_input": "2021-08-26T23:52:42.280712Z",
     "iopub.status.busy": "2021-08-26T23:52:42.280517Z",
     "iopub.status.idle": "2021-08-26T23:52:42.284389Z",
     "shell.execute_reply": "2021-08-26T23:52:42.283459Z",
     "shell.execute_reply.started": "2021-08-26T23:52:42.280694Z"
    },
    "tags": []
   },
   "outputs": [],
   "source": [
    "lstm_modeler = KerasRegressor(build_fn=func_lstm_model,epochs=50,verbose=0)"
   ]
  },
  {
   "cell_type": "code",
   "execution_count": 156,
   "id": "3cf36c97-802d-4264-aabf-8e81322a5894",
   "metadata": {
    "execution": {
     "iopub.execute_input": "2021-08-26T23:52:42.764031Z",
     "iopub.status.busy": "2021-08-26T23:52:42.763836Z",
     "iopub.status.idle": "2021-08-27T00:03:59.820596Z",
     "shell.execute_reply": "2021-08-27T00:03:59.819935Z",
     "shell.execute_reply.started": "2021-08-26T23:52:42.764013Z"
    },
    "scrolled": true,
    "tags": []
   },
   "outputs": [
    {
     "name": "stdout",
     "output_type": "stream",
     "text": [
      "Fitting 2 folds for each of 50 candidates, totalling 100 fits\n",
      "[CV] nodes_dense=61, nodes_lstm=24 ...................................\n"
     ]
    },
    {
     "name": "stderr",
     "output_type": "stream",
     "text": [
      "[Parallel(n_jobs=1)]: Using backend SequentialBackend with 1 concurrent workers.\n"
     ]
    },
    {
     "name": "stdout",
     "output_type": "stream",
     "text": [
      "[CV] .................... nodes_dense=61, nodes_lstm=24, total=   5.8s\n",
      "[CV] nodes_dense=61, nodes_lstm=24 ...................................\n"
     ]
    },
    {
     "name": "stderr",
     "output_type": "stream",
     "text": [
      "[Parallel(n_jobs=1)]: Done   1 out of   1 | elapsed:    5.8s remaining:    0.0s\n"
     ]
    },
    {
     "name": "stdout",
     "output_type": "stream",
     "text": [
      "[CV] .................... nodes_dense=61, nodes_lstm=24, total=   6.6s\n",
      "[CV] nodes_dense=81, nodes_lstm=70 ...................................\n",
      "[CV] .................... nodes_dense=81, nodes_lstm=70, total=   6.7s\n",
      "[CV] nodes_dense=81, nodes_lstm=70 ...................................\n",
      "[CV] .................... nodes_dense=81, nodes_lstm=70, total=   6.6s\n",
      "[CV] nodes_dense=30, nodes_lstm=92 ...................................\n",
      "[CV] .................... nodes_dense=30, nodes_lstm=92, total=   6.3s\n",
      "[CV] nodes_dense=30, nodes_lstm=92 ...................................\n",
      "[CV] .................... nodes_dense=30, nodes_lstm=92, total=   6.1s\n",
      "[CV] nodes_dense=96, nodes_lstm=84 ...................................\n",
      "[CV] .................... nodes_dense=96, nodes_lstm=84, total=   6.1s\n",
      "[CV] nodes_dense=96, nodes_lstm=84 ...................................\n",
      "[CV] .................... nodes_dense=96, nodes_lstm=84, total=   6.1s\n",
      "[CV] nodes_dense=84, nodes_lstm=97 ...................................\n",
      "[CV] .................... nodes_dense=84, nodes_lstm=97, total=   7.6s\n",
      "[CV] nodes_dense=84, nodes_lstm=97 ...................................\n",
      "[CV] .................... nodes_dense=84, nodes_lstm=97, total=   7.1s\n",
      "[CV] nodes_dense=33, nodes_lstm=12 ...................................\n",
      "[CV] .................... nodes_dense=33, nodes_lstm=12, total=   5.8s\n",
      "[CV] nodes_dense=33, nodes_lstm=12 ...................................\n",
      "[CV] .................... nodes_dense=33, nodes_lstm=12, total=   5.8s\n",
      "[CV] nodes_dense=31, nodes_lstm=62 ...................................\n",
      "[CV] .................... nodes_dense=31, nodes_lstm=62, total=   6.1s\n",
      "[CV] nodes_dense=31, nodes_lstm=62 ...................................\n",
      "[CV] .................... nodes_dense=31, nodes_lstm=62, total=   6.0s\n",
      "[CV] nodes_dense=11, nodes_lstm=97 ...................................\n",
      "[CV] .................... nodes_dense=11, nodes_lstm=97, total=   7.8s\n",
      "[CV] nodes_dense=11, nodes_lstm=97 ...................................\n",
      "[CV] .................... nodes_dense=11, nodes_lstm=97, total=   6.4s\n",
      "[CV] nodes_dense=39, nodes_lstm=47 ...................................\n",
      "[CV] .................... nodes_dense=39, nodes_lstm=47, total=   6.5s\n",
      "[CV] nodes_dense=39, nodes_lstm=47 ...................................\n",
      "[CV] .................... nodes_dense=39, nodes_lstm=47, total=   6.7s\n",
      "[CV] nodes_dense=11, nodes_lstm=73 ...................................\n",
      "[CV] .................... nodes_dense=11, nodes_lstm=73, total=   7.1s\n",
      "[CV] nodes_dense=11, nodes_lstm=73 ...................................\n",
      "[CV] .................... nodes_dense=11, nodes_lstm=73, total=   6.9s\n",
      "[CV] nodes_dense=69, nodes_lstm=30 ...................................\n",
      "[CV] .................... nodes_dense=69, nodes_lstm=30, total=   6.4s\n",
      "[CV] nodes_dense=69, nodes_lstm=30 ...................................\n",
      "[CV] .................... nodes_dense=69, nodes_lstm=30, total=   6.9s\n",
      "[CV] nodes_dense=42, nodes_lstm=85 ...................................\n",
      "[CV] .................... nodes_dense=42, nodes_lstm=85, total=   6.2s\n",
      "[CV] nodes_dense=42, nodes_lstm=85 ...................................\n",
      "[CV] .................... nodes_dense=42, nodes_lstm=85, total=   6.2s\n",
      "[CV] nodes_dense=67, nodes_lstm=31 ...................................\n",
      "[CV] .................... nodes_dense=67, nodes_lstm=31, total=   6.5s\n",
      "[CV] nodes_dense=67, nodes_lstm=31 ...................................\n",
      "[CV] .................... nodes_dense=67, nodes_lstm=31, total=  11.6s\n",
      "[CV] nodes_dense=98, nodes_lstm=58 ...................................\n",
      "[CV] .................... nodes_dense=98, nodes_lstm=58, total=   6.4s\n",
      "[CV] nodes_dense=98, nodes_lstm=58 ...................................\n",
      "[CV] .................... nodes_dense=98, nodes_lstm=58, total=   6.4s\n",
      "[CV] nodes_dense=68, nodes_lstm=51 ...................................\n",
      "[CV] .................... nodes_dense=68, nodes_lstm=51, total=   6.8s\n",
      "[CV] nodes_dense=68, nodes_lstm=51 ...................................\n",
      "[CV] .................... nodes_dense=68, nodes_lstm=51, total=   6.2s\n",
      "[CV] nodes_dense=69, nodes_lstm=89 ...................................\n",
      "[CV] .................... nodes_dense=69, nodes_lstm=89, total=   6.5s\n",
      "[CV] nodes_dense=69, nodes_lstm=89 ...................................\n",
      "[CV] .................... nodes_dense=69, nodes_lstm=89, total=   6.5s\n",
      "[CV] nodes_dense=24, nodes_lstm=71 ...................................\n",
      "[CV] .................... nodes_dense=24, nodes_lstm=71, total=  11.5s\n",
      "[CV] nodes_dense=24, nodes_lstm=71 ...................................\n",
      "[CV] .................... nodes_dense=24, nodes_lstm=71, total=   6.1s\n",
      "[CV] nodes_dense=71, nodes_lstm=56 ...................................\n",
      "[CV] .................... nodes_dense=71, nodes_lstm=56, total=   7.1s\n",
      "[CV] nodes_dense=71, nodes_lstm=56 ...................................\n",
      "[CV] .................... nodes_dense=71, nodes_lstm=56, total=   6.1s\n",
      "[CV] nodes_dense=71, nodes_lstm=60 ...................................\n",
      "[CV] .................... nodes_dense=71, nodes_lstm=60, total=   6.5s\n",
      "[CV] nodes_dense=71, nodes_lstm=60 ...................................\n",
      "[CV] .................... nodes_dense=71, nodes_lstm=60, total=   7.0s\n",
      "[CV] nodes_dense=64, nodes_lstm=73 ...................................\n",
      "[CV] .................... nodes_dense=64, nodes_lstm=73, total=   6.2s\n",
      "[CV] nodes_dense=64, nodes_lstm=73 ...................................\n",
      "[CV] .................... nodes_dense=64, nodes_lstm=73, total=   6.2s\n",
      "[CV] nodes_dense=12, nodes_lstm=60 ...................................\n",
      "[CV] .................... nodes_dense=12, nodes_lstm=60, total=   6.3s\n",
      "[CV] nodes_dense=12, nodes_lstm=60 ...................................\n",
      "[CV] .................... nodes_dense=12, nodes_lstm=60, total=   7.1s\n",
      "[CV] nodes_dense=16, nodes_lstm=30 ...................................\n",
      "[CV] .................... nodes_dense=16, nodes_lstm=30, total=   6.5s\n",
      "[CV] nodes_dense=16, nodes_lstm=30 ...................................\n",
      "[CV] .................... nodes_dense=16, nodes_lstm=30, total=   6.9s\n",
      "[CV] nodes_dense=82, nodes_lstm=48 ...................................\n",
      "[CV] .................... nodes_dense=82, nodes_lstm=48, total=   6.4s\n",
      "[CV] nodes_dense=82, nodes_lstm=48 ...................................\n",
      "[CV] .................... nodes_dense=82, nodes_lstm=48, total=   6.3s\n",
      "[CV] nodes_dense=27, nodes_lstm=13 ...................................\n",
      "[CV] .................... nodes_dense=27, nodes_lstm=13, total=   6.3s\n",
      "[CV] nodes_dense=27, nodes_lstm=13 ...................................\n",
      "[CV] .................... nodes_dense=27, nodes_lstm=13, total=   6.6s\n",
      "[CV] nodes_dense=98, nodes_lstm=69 ...................................\n",
      "[CV] .................... nodes_dense=98, nodes_lstm=69, total=   7.1s\n",
      "[CV] nodes_dense=98, nodes_lstm=69 ...................................\n",
      "[CV] .................... nodes_dense=98, nodes_lstm=69, total=  11.5s\n",
      "[CV] nodes_dense=23, nodes_lstm=18 ...................................\n",
      "[CV] .................... nodes_dense=23, nodes_lstm=18, total=   6.4s\n",
      "[CV] nodes_dense=23, nodes_lstm=18 ...................................\n",
      "[CV] .................... nodes_dense=23, nodes_lstm=18, total=   6.0s\n",
      "[CV] nodes_dense=99, nodes_lstm=62 ...................................\n",
      "[CV] .................... nodes_dense=99, nodes_lstm=62, total=   6.7s\n",
      "[CV] nodes_dense=99, nodes_lstm=62 ...................................\n",
      "[CV] .................... nodes_dense=99, nodes_lstm=62, total=   6.5s\n",
      "[CV] nodes_dense=11, nodes_lstm=93 ...................................\n",
      "[CV] .................... nodes_dense=11, nodes_lstm=93, total=   6.6s\n",
      "[CV] nodes_dense=11, nodes_lstm=93 ...................................\n",
      "[CV] .................... nodes_dense=11, nodes_lstm=93, total=   8.0s\n",
      "[CV] nodes_dense=69, nodes_lstm=80 ...................................\n",
      "[CV] .................... nodes_dense=69, nodes_lstm=80, total=   6.5s\n",
      "[CV] nodes_dense=69, nodes_lstm=80 ...................................\n",
      "[CV] .................... nodes_dense=69, nodes_lstm=80, total=   6.6s\n",
      "[CV] nodes_dense=53, nodes_lstm=17 ...................................\n",
      "[CV] .................... nodes_dense=53, nodes_lstm=17, total=   6.0s\n",
      "[CV] nodes_dense=53, nodes_lstm=17 ...................................\n",
      "[CV] .................... nodes_dense=53, nodes_lstm=17, total=   6.2s\n",
      "[CV] nodes_dense=56, nodes_lstm=44 ...................................\n",
      "[CV] .................... nodes_dense=56, nodes_lstm=44, total=   6.1s\n",
      "[CV] nodes_dense=56, nodes_lstm=44 ...................................\n",
      "[CV] .................... nodes_dense=56, nodes_lstm=44, total=   7.3s\n",
      "[CV] nodes_dense=87, nodes_lstm=90 ...................................\n",
      "[CV] .................... nodes_dense=87, nodes_lstm=90, total=   6.8s\n",
      "[CV] nodes_dense=87, nodes_lstm=90 ...................................\n",
      "[CV] .................... nodes_dense=87, nodes_lstm=90, total=   6.5s\n",
      "[CV] nodes_dense=45, nodes_lstm=59 ...................................\n",
      "[CV] .................... nodes_dense=45, nodes_lstm=59, total=   6.2s\n",
      "[CV] nodes_dense=45, nodes_lstm=59 ...................................\n",
      "[CV] .................... nodes_dense=45, nodes_lstm=59, total=   6.3s\n",
      "[CV] nodes_dense=13, nodes_lstm=11 ...................................\n",
      "[CV] .................... nodes_dense=13, nodes_lstm=11, total=   5.9s\n",
      "[CV] nodes_dense=13, nodes_lstm=11 ...................................\n",
      "[CV] .................... nodes_dense=13, nodes_lstm=11, total=   5.8s\n",
      "[CV] nodes_dense=15, nodes_lstm=63 ...................................\n",
      "[CV] .................... nodes_dense=15, nodes_lstm=63, total=   6.9s\n",
      "[CV] nodes_dense=15, nodes_lstm=63 ...................................\n",
      "[CV] .................... nodes_dense=15, nodes_lstm=63, total=   6.1s\n",
      "[CV] nodes_dense=13, nodes_lstm=63 ...................................\n",
      "[CV] .................... nodes_dense=13, nodes_lstm=63, total=   6.2s\n",
      "[CV] nodes_dense=13, nodes_lstm=63 ...................................\n",
      "[CV] .................... nodes_dense=13, nodes_lstm=63, total=   6.3s\n",
      "[CV] nodes_dense=72, nodes_lstm=27 ...................................\n",
      "[CV] .................... nodes_dense=72, nodes_lstm=27, total=  11.5s\n",
      "[CV] nodes_dense=72, nodes_lstm=27 ...................................\n",
      "[CV] .................... nodes_dense=72, nodes_lstm=27, total=   5.8s\n",
      "[CV] nodes_dense=99, nodes_lstm=53 ...................................\n",
      "[CV] .................... nodes_dense=99, nodes_lstm=53, total=   7.4s\n",
      "[CV] nodes_dense=99, nodes_lstm=53 ...................................\n",
      "[CV] .................... nodes_dense=99, nodes_lstm=53, total=   6.7s\n",
      "[CV] nodes_dense=43, nodes_lstm=83 ...................................\n",
      "[CV] .................... nodes_dense=43, nodes_lstm=83, total=   6.8s\n",
      "[CV] nodes_dense=43, nodes_lstm=83 ...................................\n",
      "[CV] .................... nodes_dense=43, nodes_lstm=83, total=   6.7s\n",
      "[CV] nodes_dense=71, nodes_lstm=23 ...................................\n",
      "[CV] .................... nodes_dense=71, nodes_lstm=23, total=   6.4s\n",
      "[CV] nodes_dense=71, nodes_lstm=23 ...................................\n",
      "[CV] .................... nodes_dense=71, nodes_lstm=23, total=   6.3s\n",
      "[CV] nodes_dense=57, nodes_lstm=24 ...................................\n",
      "[CV] .................... nodes_dense=57, nodes_lstm=24, total=   6.2s\n",
      "[CV] nodes_dense=57, nodes_lstm=24 ...................................\n",
      "[CV] .................... nodes_dense=57, nodes_lstm=24, total=   6.5s\n",
      "[CV] nodes_dense=81, nodes_lstm=87 ...................................\n",
      "[CV] .................... nodes_dense=81, nodes_lstm=87, total=   6.2s\n",
      "[CV] nodes_dense=81, nodes_lstm=87 ...................................\n",
      "[CV] .................... nodes_dense=81, nodes_lstm=87, total=   6.1s\n",
      "[CV] nodes_dense=96, nodes_lstm=71 ...................................\n",
      "[CV] .................... nodes_dense=96, nodes_lstm=71, total=   6.1s\n",
      "[CV] nodes_dense=96, nodes_lstm=71 ...................................\n",
      "[CV] .................... nodes_dense=96, nodes_lstm=71, total=   6.1s\n",
      "[CV] nodes_dense=49, nodes_lstm=94 ...................................\n",
      "[CV] .................... nodes_dense=49, nodes_lstm=94, total=   6.1s\n",
      "[CV] nodes_dense=49, nodes_lstm=94 ...................................\n",
      "[CV] .................... nodes_dense=49, nodes_lstm=94, total=   6.6s\n",
      "[CV] nodes_dense=89, nodes_lstm=91 ...................................\n",
      "[CV] .................... nodes_dense=89, nodes_lstm=91, total=   6.9s\n",
      "[CV] nodes_dense=89, nodes_lstm=91 ...................................\n",
      "[CV] .................... nodes_dense=89, nodes_lstm=91, total=   6.2s\n",
      "[CV] nodes_dense=62, nodes_lstm=33 ...................................\n",
      "[CV] .................... nodes_dense=62, nodes_lstm=33, total=   5.9s\n",
      "[CV] nodes_dense=62, nodes_lstm=33 ...................................\n",
      "[CV] .................... nodes_dense=62, nodes_lstm=33, total=   5.9s\n",
      "[CV] nodes_dense=35, nodes_lstm=98 ...................................\n",
      "[CV] .................... nodes_dense=35, nodes_lstm=98, total=   6.4s\n",
      "[CV] nodes_dense=35, nodes_lstm=98 ...................................\n",
      "[CV] .................... nodes_dense=35, nodes_lstm=98, total=   6.2s\n",
      "[CV] nodes_dense=69, nodes_lstm=50 ...................................\n",
      "[CV] .................... nodes_dense=69, nodes_lstm=50, total=   7.2s\n",
      "[CV] nodes_dense=69, nodes_lstm=50 ...................................\n",
      "[CV] .................... nodes_dense=69, nodes_lstm=50, total=   7.1s\n",
      "[CV] nodes_dense=38, nodes_lstm=24 ...................................\n",
      "[CV] .................... nodes_dense=38, nodes_lstm=24, total=   6.5s\n",
      "[CV] nodes_dense=38, nodes_lstm=24 ...................................\n",
      "[CV] .................... nodes_dense=38, nodes_lstm=24, total=   5.8s\n",
      "[CV] nodes_dense=54, nodes_lstm=74 ...................................\n",
      "[CV] .................... nodes_dense=54, nodes_lstm=74, total=   6.1s\n",
      "[CV] nodes_dense=54, nodes_lstm=74 ...................................\n",
      "[CV] .................... nodes_dense=54, nodes_lstm=74, total=   6.4s\n"
     ]
    },
    {
     "name": "stderr",
     "output_type": "stream",
     "text": [
      "[Parallel(n_jobs=1)]: Done 100 out of 100 | elapsed: 11.1min finished\n"
     ]
    },
    {
     "data": {
      "text/plain": [
       "RandomizedSearchCV(cv=2,\n",
       "                   estimator=<tensorflow.python.keras.wrappers.scikit_learn.KerasRegressor object at 0x7fd79c104f40>,\n",
       "                   n_iter=50,\n",
       "                   param_distributions={'nodes_dense': <scipy.stats._distn_infrastructure.rv_frozen object at 0x7fd8e6d2e580>,\n",
       "                                        'nodes_lstm': <scipy.stats._distn_infrastructure.rv_frozen object at 0x7fd8086a5f40>},\n",
       "                   random_state=42, verbose=2)"
      ]
     },
     "execution_count": 156,
     "metadata": {},
     "output_type": "execute_result"
    }
   ],
   "source": [
    "# params = \n",
    "params_rs_lstm1 = {\n",
    "    'nodes_lstm': randint(10,100),\n",
    "    'nodes_dense': randint(10,100)\n",
    "}\n",
    "\n",
    "rs_lstm_1 = RandomizedSearchCV(lstm_modeler,params_rs_lstm1,n_iter=50,random_state=42,verbose=2,cv=2)\n",
    "\n",
    "# fit \n",
    "rs_lstm_1.fit(X_train_lstm,y_train)"
   ]
  },
  {
   "cell_type": "code",
   "execution_count": 160,
   "id": "539baca1-70e1-4a3c-afff-6a4e1dfca5f2",
   "metadata": {
    "execution": {
     "iopub.execute_input": "2021-08-27T00:13:09.684414Z",
     "iopub.status.busy": "2021-08-27T00:13:09.684186Z",
     "iopub.status.idle": "2021-08-27T00:13:09.687860Z",
     "shell.execute_reply": "2021-08-27T00:13:09.687055Z",
     "shell.execute_reply.started": "2021-08-27T00:13:09.684396Z"
    },
    "tags": []
   },
   "outputs": [],
   "source": [
    "def rs_results(rs):\n",
    "    return pd.DataFrame(rs.cv_results_)[['params','mean_test_score']].sort_values(by='mean_test_score',ascending=False).head(10)"
   ]
  },
  {
   "cell_type": "code",
   "execution_count": 161,
   "id": "6b3eb3d6-30ff-42bc-ba86-c087b84a8a4f",
   "metadata": {
    "execution": {
     "iopub.execute_input": "2021-08-27T00:13:10.041771Z",
     "iopub.status.busy": "2021-08-27T00:13:10.041557Z",
     "iopub.status.idle": "2021-08-27T00:13:10.053071Z",
     "shell.execute_reply": "2021-08-27T00:13:10.052350Z",
     "shell.execute_reply.started": "2021-08-27T00:13:10.041753Z"
    },
    "tags": []
   },
   "outputs": [
    {
     "data": {
      "text/html": [
       "<div>\n",
       "<style scoped>\n",
       "    .dataframe tbody tr th:only-of-type {\n",
       "        vertical-align: middle;\n",
       "    }\n",
       "\n",
       "    .dataframe tbody tr th {\n",
       "        vertical-align: top;\n",
       "    }\n",
       "\n",
       "    .dataframe thead th {\n",
       "        text-align: right;\n",
       "    }\n",
       "</style>\n",
       "<table border=\"1\" class=\"dataframe\">\n",
       "  <thead>\n",
       "    <tr style=\"text-align: right;\">\n",
       "      <th></th>\n",
       "      <th>params</th>\n",
       "      <th>mean_test_score</th>\n",
       "    </tr>\n",
       "  </thead>\n",
       "  <tbody>\n",
       "    <tr>\n",
       "      <th>27</th>\n",
       "      <td>{'nodes_dense': 11, 'nodes_lstm': 93}</td>\n",
       "      <td>-0.000011</td>\n",
       "    </tr>\n",
       "    <tr>\n",
       "      <th>34</th>\n",
       "      <td>{'nodes_dense': 15, 'nodes_lstm': 63}</td>\n",
       "      <td>-0.000011</td>\n",
       "    </tr>\n",
       "    <tr>\n",
       "      <th>35</th>\n",
       "      <td>{'nodes_dense': 13, 'nodes_lstm': 63}</td>\n",
       "      <td>-0.000011</td>\n",
       "    </tr>\n",
       "    <tr>\n",
       "      <th>11</th>\n",
       "      <td>{'nodes_dense': 42, 'nodes_lstm': 85}</td>\n",
       "      <td>-0.000012</td>\n",
       "    </tr>\n",
       "    <tr>\n",
       "      <th>7</th>\n",
       "      <td>{'nodes_dense': 11, 'nodes_lstm': 97}</td>\n",
       "      <td>-0.000012</td>\n",
       "    </tr>\n",
       "    <tr>\n",
       "      <th>20</th>\n",
       "      <td>{'nodes_dense': 12, 'nodes_lstm': 60}</td>\n",
       "      <td>-0.000012</td>\n",
       "    </tr>\n",
       "    <tr>\n",
       "      <th>2</th>\n",
       "      <td>{'nodes_dense': 30, 'nodes_lstm': 92}</td>\n",
       "      <td>-0.000012</td>\n",
       "    </tr>\n",
       "    <tr>\n",
       "      <th>32</th>\n",
       "      <td>{'nodes_dense': 45, 'nodes_lstm': 59}</td>\n",
       "      <td>-0.000012</td>\n",
       "    </tr>\n",
       "    <tr>\n",
       "      <th>22</th>\n",
       "      <td>{'nodes_dense': 82, 'nodes_lstm': 48}</td>\n",
       "      <td>-0.000012</td>\n",
       "    </tr>\n",
       "    <tr>\n",
       "      <th>43</th>\n",
       "      <td>{'nodes_dense': 49, 'nodes_lstm': 94}</td>\n",
       "      <td>-0.000012</td>\n",
       "    </tr>\n",
       "  </tbody>\n",
       "</table>\n",
       "</div>"
      ],
      "text/plain": [
       "                                   params  mean_test_score\n",
       "27  {'nodes_dense': 11, 'nodes_lstm': 93}        -0.000011\n",
       "34  {'nodes_dense': 15, 'nodes_lstm': 63}        -0.000011\n",
       "35  {'nodes_dense': 13, 'nodes_lstm': 63}        -0.000011\n",
       "11  {'nodes_dense': 42, 'nodes_lstm': 85}        -0.000012\n",
       "7   {'nodes_dense': 11, 'nodes_lstm': 97}        -0.000012\n",
       "20  {'nodes_dense': 12, 'nodes_lstm': 60}        -0.000012\n",
       "2   {'nodes_dense': 30, 'nodes_lstm': 92}        -0.000012\n",
       "32  {'nodes_dense': 45, 'nodes_lstm': 59}        -0.000012\n",
       "22  {'nodes_dense': 82, 'nodes_lstm': 48}        -0.000012\n",
       "43  {'nodes_dense': 49, 'nodes_lstm': 94}        -0.000012"
      ]
     },
     "execution_count": 161,
     "metadata": {},
     "output_type": "execute_result"
    }
   ],
   "source": [
    "rs_results(rs_lstm_1)"
   ]
  },
  {
   "cell_type": "code",
   "execution_count": null,
   "id": "de139ff7-4433-4ba5-9c2c-61bef497acf5",
   "metadata": {},
   "outputs": [],
   "source": []
  },
  {
   "cell_type": "code",
   "execution_count": 256,
   "id": "287810a3-b5e9-417d-8713-c93f89002ddf",
   "metadata": {
    "execution": {
     "iopub.execute_input": "2021-08-27T04:30:43.150282Z",
     "iopub.status.busy": "2021-08-27T04:30:43.149993Z",
     "iopub.status.idle": "2021-08-27T04:30:43.323885Z",
     "shell.execute_reply": "2021-08-27T04:30:43.323494Z",
     "shell.execute_reply.started": "2021-08-27T04:30:43.150261Z"
    },
    "tags": []
   },
   "outputs": [
    {
     "name": "stdout",
     "output_type": "stream",
     "text": [
      "Model: \"sequential_207\"\n",
      "_________________________________________________________________\n",
      "Layer (type)                 Output Shape              Param #   \n",
      "=================================================================\n",
      "lstm_200 (LSTM)              (None, 93)                38688     \n",
      "_________________________________________________________________\n",
      "dense_406 (Dense)            (None, 11)                1034      \n",
      "=================================================================\n",
      "Total params: 39,722\n",
      "Trainable params: 39,722\n",
      "Non-trainable params: 0\n",
      "_________________________________________________________________\n"
     ]
    }
   ],
   "source": [
    "# Make model with best params from search \n",
    "\n",
    "# model network \n",
    "\n",
    "lstm_2 = Sequential()\n",
    "lstm_2.add(LSTM(93,input_shape=(1,10)))\n",
    "lstm_2.add(Dense(11))\n",
    "\n",
    "# compile model \n",
    "lstm_2.compile(optimizer='adam',loss='mse',)\n",
    "\n",
    "lstm_2.summary()\n"
   ]
  },
  {
   "cell_type": "code",
   "execution_count": 257,
   "id": "b3dcbf38-073f-4d4c-aa09-e5df70912e7b",
   "metadata": {
    "execution": {
     "iopub.execute_input": "2021-08-27T04:30:48.079363Z",
     "iopub.status.busy": "2021-08-27T04:30:48.079046Z",
     "iopub.status.idle": "2021-08-27T04:31:17.844389Z",
     "shell.execute_reply": "2021-08-27T04:31:17.843524Z",
     "shell.execute_reply.started": "2021-08-27T04:30:48.079342Z"
    },
    "scrolled": true,
    "tags": []
   },
   "outputs": [
    {
     "name": "stdout",
     "output_type": "stream",
     "text": [
      "Epoch 1/100\n",
      "92/92 - 1s - loss: 4.6145e-04 - val_loss: 2.0208e-04\n",
      "Epoch 2/100\n",
      "92/92 - 0s - loss: 2.4926e-05 - val_loss: 1.3471e-04\n",
      "Epoch 3/100\n",
      "92/92 - 0s - loss: 1.5794e-05 - val_loss: 1.1727e-04\n",
      "Epoch 4/100\n",
      "92/92 - 0s - loss: 1.2401e-05 - val_loss: 1.1116e-04\n",
      "Epoch 5/100\n",
      "92/92 - 0s - loss: 1.0996e-05 - val_loss: 9.8138e-05\n",
      "Epoch 6/100\n",
      "92/92 - 0s - loss: 1.0215e-05 - val_loss: 1.0801e-04\n",
      "Epoch 7/100\n",
      "92/92 - 0s - loss: 9.5859e-06 - val_loss: 9.8439e-05\n",
      "Epoch 8/100\n",
      "92/92 - 0s - loss: 9.1656e-06 - val_loss: 1.0408e-04\n",
      "Epoch 9/100\n",
      "92/92 - 0s - loss: 8.9354e-06 - val_loss: 1.0465e-04\n",
      "Epoch 10/100\n",
      "92/92 - 0s - loss: 8.6175e-06 - val_loss: 9.9037e-05\n",
      "Epoch 11/100\n",
      "92/92 - 0s - loss: 8.5154e-06 - val_loss: 8.8224e-05\n",
      "Epoch 12/100\n",
      "92/92 - 0s - loss: 8.3198e-06 - val_loss: 9.4811e-05\n",
      "Epoch 13/100\n",
      "92/92 - 0s - loss: 8.7623e-06 - val_loss: 8.3110e-05\n",
      "Epoch 14/100\n",
      "92/92 - 0s - loss: 8.5686e-06 - val_loss: 8.7850e-05\n",
      "Epoch 15/100\n",
      "92/92 - 0s - loss: 8.0437e-06 - val_loss: 9.4911e-05\n",
      "Epoch 16/100\n",
      "92/92 - 0s - loss: 7.9027e-06 - val_loss: 8.9191e-05\n",
      "Epoch 17/100\n",
      "92/92 - 0s - loss: 8.3765e-06 - val_loss: 9.5961e-05\n",
      "Epoch 18/100\n",
      "92/92 - 0s - loss: 8.3430e-06 - val_loss: 8.5748e-05\n",
      "Epoch 19/100\n",
      "92/92 - 0s - loss: 7.9517e-06 - val_loss: 8.6151e-05\n",
      "Epoch 20/100\n",
      "92/92 - 0s - loss: 8.6983e-06 - val_loss: 8.2454e-05\n",
      "Epoch 21/100\n",
      "92/92 - 0s - loss: 8.9902e-06 - val_loss: 9.1827e-05\n",
      "Epoch 22/100\n",
      "92/92 - 0s - loss: 8.1359e-06 - val_loss: 7.7910e-05\n",
      "Epoch 23/100\n",
      "92/92 - 0s - loss: 8.1603e-06 - val_loss: 7.7868e-05\n",
      "Epoch 24/100\n",
      "92/92 - 0s - loss: 7.8560e-06 - val_loss: 8.4292e-05\n",
      "Epoch 25/100\n",
      "92/92 - 0s - loss: 8.0703e-06 - val_loss: 8.6572e-05\n",
      "Epoch 26/100\n",
      "92/92 - 0s - loss: 8.0752e-06 - val_loss: 8.2724e-05\n",
      "Epoch 27/100\n",
      "92/92 - 0s - loss: 8.1478e-06 - val_loss: 9.6724e-05\n",
      "Epoch 28/100\n",
      "92/92 - 0s - loss: 7.7959e-06 - val_loss: 8.0882e-05\n",
      "Epoch 29/100\n",
      "92/92 - 0s - loss: 8.2291e-06 - val_loss: 7.9673e-05\n",
      "Epoch 30/100\n",
      "92/92 - 0s - loss: 7.9383e-06 - val_loss: 9.2229e-05\n",
      "Epoch 31/100\n",
      "92/92 - 0s - loss: 8.2839e-06 - val_loss: 8.3969e-05\n",
      "Epoch 32/100\n",
      "92/92 - 0s - loss: 7.9902e-06 - val_loss: 8.8203e-05\n",
      "Epoch 33/100\n",
      "92/92 - 0s - loss: 7.5678e-06 - val_loss: 9.3791e-05\n",
      "Epoch 34/100\n",
      "92/92 - 0s - loss: 7.8894e-06 - val_loss: 8.5480e-05\n",
      "Epoch 35/100\n",
      "92/92 - 0s - loss: 7.6761e-06 - val_loss: 7.8927e-05\n",
      "Epoch 36/100\n",
      "92/92 - 0s - loss: 7.6675e-06 - val_loss: 7.5466e-05\n",
      "Epoch 37/100\n",
      "92/92 - 0s - loss: 7.6340e-06 - val_loss: 8.3610e-05\n",
      "Epoch 38/100\n",
      "92/92 - 0s - loss: 7.5635e-06 - val_loss: 9.8714e-05\n",
      "Epoch 39/100\n",
      "92/92 - 0s - loss: 7.4584e-06 - val_loss: 7.7313e-05\n",
      "Epoch 40/100\n",
      "92/92 - 0s - loss: 8.3286e-06 - val_loss: 8.3931e-05\n",
      "Epoch 41/100\n",
      "92/92 - 0s - loss: 7.9879e-06 - val_loss: 8.5024e-05\n",
      "Epoch 42/100\n",
      "92/92 - 0s - loss: 8.0083e-06 - val_loss: 7.2172e-05\n",
      "Epoch 43/100\n",
      "92/92 - 0s - loss: 7.6769e-06 - val_loss: 7.9123e-05\n",
      "Epoch 44/100\n",
      "92/92 - 0s - loss: 7.6385e-06 - val_loss: 8.2819e-05\n",
      "Epoch 45/100\n",
      "92/92 - 0s - loss: 8.0353e-06 - val_loss: 8.4295e-05\n",
      "Epoch 46/100\n",
      "92/92 - 0s - loss: 9.7423e-06 - val_loss: 7.4646e-05\n",
      "Epoch 47/100\n",
      "92/92 - 0s - loss: 8.5356e-06 - val_loss: 7.0472e-05\n",
      "Epoch 48/100\n",
      "92/92 - 0s - loss: 8.2341e-06 - val_loss: 8.2491e-05\n",
      "Epoch 49/100\n",
      "92/92 - 0s - loss: 7.3492e-06 - val_loss: 7.7945e-05\n",
      "Epoch 50/100\n",
      "92/92 - 0s - loss: 7.5340e-06 - val_loss: 8.4240e-05\n",
      "Epoch 51/100\n",
      "92/92 - 0s - loss: 7.9311e-06 - val_loss: 8.0161e-05\n",
      "Epoch 52/100\n",
      "92/92 - 0s - loss: 7.2657e-06 - val_loss: 7.9927e-05\n",
      "Epoch 53/100\n",
      "92/92 - 0s - loss: 7.8978e-06 - val_loss: 7.1177e-05\n",
      "Epoch 54/100\n",
      "92/92 - 0s - loss: 7.1133e-06 - val_loss: 7.9125e-05\n",
      "Epoch 55/100\n",
      "92/92 - 0s - loss: 7.9457e-06 - val_loss: 7.6803e-05\n",
      "Epoch 56/100\n",
      "92/92 - 0s - loss: 8.0779e-06 - val_loss: 7.7208e-05\n",
      "Epoch 57/100\n",
      "92/92 - 0s - loss: 8.1246e-06 - val_loss: 6.7772e-05\n",
      "Epoch 58/100\n",
      "92/92 - 0s - loss: 7.5865e-06 - val_loss: 7.7057e-05\n",
      "Epoch 59/100\n",
      "92/92 - 0s - loss: 8.1647e-06 - val_loss: 7.6329e-05\n",
      "Epoch 60/100\n",
      "92/92 - 0s - loss: 7.2626e-06 - val_loss: 8.1012e-05\n",
      "Epoch 61/100\n",
      "92/92 - 0s - loss: 7.2779e-06 - val_loss: 7.2710e-05\n",
      "Epoch 62/100\n",
      "92/92 - 0s - loss: 7.1157e-06 - val_loss: 8.1787e-05\n",
      "Epoch 63/100\n",
      "92/92 - 0s - loss: 7.3814e-06 - val_loss: 7.9130e-05\n",
      "Epoch 64/100\n",
      "92/92 - 0s - loss: 7.6891e-06 - val_loss: 8.0727e-05\n",
      "Epoch 65/100\n",
      "92/92 - 0s - loss: 7.2509e-06 - val_loss: 7.4046e-05\n",
      "Epoch 66/100\n",
      "92/92 - 0s - loss: 7.0612e-06 - val_loss: 7.6594e-05\n",
      "Epoch 67/100\n",
      "92/92 - 0s - loss: 7.2252e-06 - val_loss: 7.8682e-05\n",
      "Epoch 68/100\n",
      "92/92 - 0s - loss: 7.5301e-06 - val_loss: 7.4815e-05\n",
      "Epoch 69/100\n",
      "92/92 - 0s - loss: 7.6482e-06 - val_loss: 7.9032e-05\n",
      "Epoch 70/100\n",
      "92/92 - 0s - loss: 7.2518e-06 - val_loss: 7.4545e-05\n",
      "Epoch 71/100\n",
      "92/92 - 0s - loss: 7.1740e-06 - val_loss: 7.2489e-05\n",
      "Epoch 72/100\n",
      "92/92 - 0s - loss: 7.3593e-06 - val_loss: 7.0120e-05\n",
      "Epoch 73/100\n",
      "92/92 - 0s - loss: 7.6743e-06 - val_loss: 8.3960e-05\n",
      "Epoch 74/100\n",
      "92/92 - 0s - loss: 7.2445e-06 - val_loss: 9.7316e-05\n",
      "Epoch 75/100\n",
      "92/92 - 0s - loss: 7.8499e-06 - val_loss: 7.5930e-05\n",
      "Epoch 76/100\n",
      "92/92 - 0s - loss: 7.1176e-06 - val_loss: 7.5339e-05\n",
      "Epoch 77/100\n",
      "92/92 - 0s - loss: 7.2196e-06 - val_loss: 7.0755e-05\n",
      "Epoch 78/100\n",
      "92/92 - 0s - loss: 6.8752e-06 - val_loss: 7.0426e-05\n",
      "Epoch 79/100\n",
      "92/92 - 0s - loss: 6.9743e-06 - val_loss: 7.1094e-05\n",
      "Epoch 80/100\n",
      "92/92 - 0s - loss: 7.4735e-06 - val_loss: 7.6398e-05\n",
      "Epoch 81/100\n",
      "92/92 - 0s - loss: 7.1205e-06 - val_loss: 7.1591e-05\n",
      "Epoch 82/100\n",
      "92/92 - 0s - loss: 7.0769e-06 - val_loss: 7.6150e-05\n",
      "Epoch 83/100\n",
      "92/92 - 0s - loss: 9.7927e-06 - val_loss: 7.6983e-05\n",
      "Epoch 84/100\n",
      "92/92 - 0s - loss: 7.3593e-06 - val_loss: 7.5557e-05\n",
      "Epoch 85/100\n",
      "92/92 - 0s - loss: 6.9246e-06 - val_loss: 7.0454e-05\n",
      "Epoch 86/100\n",
      "92/92 - 0s - loss: 6.8951e-06 - val_loss: 7.6601e-05\n",
      "Epoch 87/100\n",
      "92/92 - 0s - loss: 7.0304e-06 - val_loss: 7.1537e-05\n",
      "Epoch 88/100\n",
      "92/92 - 0s - loss: 7.1022e-06 - val_loss: 7.3813e-05\n",
      "Epoch 89/100\n",
      "92/92 - 0s - loss: 7.8999e-06 - val_loss: 7.5799e-05\n",
      "Epoch 90/100\n",
      "92/92 - 0s - loss: 7.2664e-06 - val_loss: 7.4965e-05\n",
      "Epoch 91/100\n",
      "92/92 - 0s - loss: 6.9107e-06 - val_loss: 6.8682e-05\n",
      "Epoch 92/100\n",
      "92/92 - 0s - loss: 6.9160e-06 - val_loss: 8.2347e-05\n",
      "Epoch 93/100\n",
      "92/92 - 0s - loss: 7.1121e-06 - val_loss: 7.4474e-05\n",
      "Epoch 94/100\n",
      "92/92 - 0s - loss: 7.1259e-06 - val_loss: 7.5914e-05\n",
      "Epoch 95/100\n",
      "92/92 - 0s - loss: 7.0785e-06 - val_loss: 7.5490e-05\n",
      "Epoch 96/100\n",
      "92/92 - 0s - loss: 7.0123e-06 - val_loss: 6.7552e-05\n",
      "Epoch 97/100\n",
      "92/92 - 0s - loss: 6.8033e-06 - val_loss: 7.2588e-05\n",
      "Epoch 98/100\n",
      "92/92 - 0s - loss: 7.3035e-06 - val_loss: 7.3477e-05\n",
      "Epoch 99/100\n",
      "92/92 - 0s - loss: 6.8032e-06 - val_loss: 7.7062e-05\n",
      "Epoch 100/100\n",
      "92/92 - 0s - loss: 7.3227e-06 - val_loss: 8.2466e-05\n"
     ]
    }
   ],
   "source": [
    "# fit model \n",
    "hist_lstm_2 = lstm_2.fit(X_train_lstm,y_train,\n",
    "                     validation_data=(X_test_lstm,y_test),\n",
    "                  epochs=100,verbose=2)"
   ]
  },
  {
   "cell_type": "code",
   "execution_count": 258,
   "id": "219d1cdb-aa13-4df0-b392-1088a06be4f5",
   "metadata": {
    "execution": {
     "iopub.execute_input": "2021-08-27T04:31:30.176592Z",
     "iopub.status.busy": "2021-08-27T04:31:30.176367Z",
     "iopub.status.idle": "2021-08-27T04:31:30.268157Z",
     "shell.execute_reply": "2021-08-27T04:31:30.267536Z",
     "shell.execute_reply.started": "2021-08-27T04:31:30.176573Z"
    }
   },
   "outputs": [
    {
     "data": {
      "image/png": "[encoded data removed]",
      "text/plain": [
       "<Figure size 432x288 with 1 Axes>"
      ]
     },
     "metadata": {
      "needs_background": "light"
     },
     "output_type": "display_data"
    }
   ],
   "source": [
    "plot_loss(hist_lstm_2)"
   ]
  },
  {
   "cell_type": "code",
   "execution_count": 266,
   "id": "81686f61-7f61-48d0-9d72-b8d42af15e70",
   "metadata": {
    "execution": {
     "iopub.execute_input": "2021-08-27T04:38:11.345218Z",
     "iopub.status.busy": "2021-08-27T04:38:11.345016Z",
     "iopub.status.idle": "2021-08-27T04:38:11.350378Z",
     "shell.execute_reply": "2021-08-27T04:38:11.349748Z",
     "shell.execute_reply.started": "2021-08-27T04:38:11.345200Z"
    },
    "tags": []
   },
   "outputs": [
    {
     "data": {
      "text/plain": [
       "(2920,)"
      ]
     },
     "execution_count": 266,
     "metadata": {},
     "output_type": "execute_result"
    }
   ],
   "source": [
    "y_train.shape"
   ]
  },
  {
   "cell_type": "code",
   "execution_count": 264,
   "id": "8dcd02ae-cf41-440e-8b52-5a6f95a2949d",
   "metadata": {
    "execution": {
     "iopub.execute_input": "2021-08-27T04:37:40.670915Z",
     "iopub.status.busy": "2021-08-27T04:37:40.670702Z",
     "iopub.status.idle": "2021-08-27T04:37:40.692497Z",
     "shell.execute_reply": "2021-08-27T04:37:40.691828Z",
     "shell.execute_reply.started": "2021-08-27T04:37:40.670897Z"
    },
    "tags": []
   },
   "outputs": [
    {
     "data": {
      "text/plain": [
       "TensorShape([2920, 11])"
      ]
     },
     "execution_count": 264,
     "metadata": {},
     "output_type": "execute_result"
    }
   ],
   "source": [
    "lstm_2(X_train_lstm).shape\n"
   ]
  },
  {
   "cell_type": "code",
   "execution_count": 262,
   "id": "73af1292-ac7a-4fd6-a23e-e9d7a43d117b",
   "metadata": {
    "execution": {
     "iopub.execute_input": "2021-08-27T04:34:34.088055Z",
     "iopub.status.busy": "2021-08-27T04:34:34.087829Z",
     "iopub.status.idle": "2021-08-27T04:34:34.237403Z",
     "shell.execute_reply": "2021-08-27T04:34:34.236083Z",
     "shell.execute_reply.started": "2021-08-27T04:34:34.088017Z"
    },
    "tags": []
   },
   "outputs": [
    {
     "name": "stderr",
     "output_type": "stream",
     "text": [
      "/home/tanveer/anaconda3/lib/python3.8/site-packages/tensorflow/python/keras/engine/sequential.py:455: UserWarning: `model.predict_classes()` is deprecated and will be removed after 2021-01-01. Please use instead:* `np.argmax(model.predict(x), axis=-1)`,   if your model does multi-class classification   (e.g. if it uses a `softmax` last-layer activation).* `(model.predict(x) > 0.5).astype(\"int32\")`,   if your model does binary classification   (e.g. if it uses a `sigmoid` last-layer activation).\n",
      "  warnings.warn('`model.predict_classes()` is deprecated and '\n"
     ]
    },
    {
     "data": {
      "text/plain": [
       "25.020366608530807"
      ]
     },
     "execution_count": 262,
     "metadata": {},
     "output_type": "execute_result"
    }
   ],
   "source": [
    "mean_squared_error(y_train,lstm_2.predict_classes(X_train_lstm))"
   ]
  },
  {
   "cell_type": "code",
   "execution_count": null,
   "id": "1b60ae53-e71d-4e47-827c-ab1d19d9d2b9",
   "metadata": {},
   "outputs": [],
   "source": [
    "rs_lstm_1"
   ]
  },
  {
   "cell_type": "code",
   "execution_count": 163,
   "id": "81b391f0-c4ba-4ca1-846b-54aa5d82a811",
   "metadata": {
    "execution": {
     "iopub.execute_input": "2021-08-27T00:13:58.023937Z",
     "iopub.status.busy": "2021-08-27T00:13:58.023746Z",
     "iopub.status.idle": "2021-08-27T00:13:58.029437Z",
     "shell.execute_reply": "2021-08-27T00:13:58.028680Z",
     "shell.execute_reply.started": "2021-08-27T00:13:58.023920Z"
    },
    "tags": []
   },
   "outputs": [
    {
     "data": {
      "text/plain": [
       "Index(['mean_fit_time', 'std_fit_time', 'mean_score_time', 'std_score_time',\n",
       "       'param_nodes_dense', 'param_nodes_lstm', 'params', 'split0_test_score',\n",
       "       'split1_test_score', 'mean_test_score', 'std_test_score',\n",
       "       'rank_test_score'],\n",
       "      dtype='object')"
      ]
     },
     "execution_count": 163,
     "metadata": {},
     "output_type": "execute_result"
    }
   ],
   "source": [
    "pd.DataFrame(rs_lstm_1.cv_results_).columns"
   ]
  },
  {
   "cell_type": "code",
   "execution_count": 171,
   "id": "77e0dad6-bdf2-4992-b9de-c9f396f233cb",
   "metadata": {
    "execution": {
     "iopub.execute_input": "2021-08-27T00:15:57.817555Z",
     "iopub.status.busy": "2021-08-27T00:15:57.817368Z",
     "iopub.status.idle": "2021-08-27T00:15:57.917725Z",
     "shell.execute_reply": "2021-08-27T00:15:57.917047Z",
     "shell.execute_reply.started": "2021-08-27T00:15:57.817538Z"
    },
    "tags": []
   },
   "outputs": [
    {
     "data": {
      "text/plain": [
       "<AxesSubplot:xlabel='param_nodes_dense', ylabel='mean_test_score'>"
      ]
     },
     "execution_count": 171,
     "metadata": {},
     "output_type": "execute_result"
    },
    {
     "data": {
      "image/png": "[encoded data removed]",
      "text/plain": [
       "<Figure size 432x288 with 1 Axes>"
      ]
     },
     "metadata": {
      "needs_background": "light"
     },
     "output_type": "display_data"
    }
   ],
   "source": [
    "sns.scatterplot(x=pd.DataFrame(rs_lstm_1.cv_results_)['param_nodes_dense'],y=pd.DataFrame(rs_lstm_1.cv_results_)['mean_test_score'])"
   ]
  },
  {
   "cell_type": "code",
   "execution_count": 172,
   "id": "dbbe14a6-dab4-483f-a5b1-413929889225",
   "metadata": {
    "execution": {
     "iopub.execute_input": "2021-08-27T00:16:14.203879Z",
     "iopub.status.busy": "2021-08-27T00:16:14.203680Z",
     "iopub.status.idle": "2021-08-27T00:16:14.305096Z",
     "shell.execute_reply": "2021-08-27T00:16:14.304314Z",
     "shell.execute_reply.started": "2021-08-27T00:16:14.203861Z"
    }
   },
   "outputs": [
    {
     "data": {
      "text/plain": [
       "<AxesSubplot:xlabel='param_nodes_lstm', ylabel='mean_test_score'>"
      ]
     },
     "execution_count": 172,
     "metadata": {},
     "output_type": "execute_result"
    },
    {
     "data": {
      "image/png": "[encoded data removed]",
      "text/plain": [
       "<Figure size 432x288 with 1 Axes>"
      ]
     },
     "metadata": {
      "needs_background": "light"
     },
     "output_type": "display_data"
    }
   ],
   "source": [
    "sns.scatterplot(x=pd.DataFrame(rs_lstm_1.cv_results_)['param_nodes_lstm'],y=pd.DataFrame(rs_lstm_1.cv_results_)['mean_test_score'])"
   ]
  },
  {
   "cell_type": "code",
   "execution_count": 173,
   "id": "1d5c3c27-bb7c-4d36-bed2-ea7ab82f552b",
   "metadata": {
    "execution": {
     "iopub.execute_input": "2021-08-27T00:18:04.628087Z",
     "iopub.status.busy": "2021-08-27T00:18:04.627897Z",
     "iopub.status.idle": "2021-08-27T00:18:04.631533Z",
     "shell.execute_reply": "2021-08-27T00:18:04.630560Z",
     "shell.execute_reply.started": "2021-08-27T00:18:04.628070Z"
    }
   },
   "outputs": [],
   "source": [
    "# plot on same axis "
   ]
  },
  {
   "cell_type": "code",
   "execution_count": null,
   "id": "4ed18f9f-e75b-4b44-b665-7379e63fde66",
   "metadata": {},
   "outputs": [],
   "source": []
  },
  {
   "cell_type": "code",
   "execution_count": 180,
   "id": "a2b455dd-3f22-4274-a78e-85f6f867e248",
   "metadata": {
    "execution": {
     "iopub.execute_input": "2021-08-27T00:34:29.995299Z",
     "iopub.status.busy": "2021-08-27T00:34:29.995100Z",
     "iopub.status.idle": "2021-08-27T00:34:29.998556Z",
     "shell.execute_reply": "2021-08-27T00:34:29.997695Z",
     "shell.execute_reply.started": "2021-08-27T00:34:29.995281Z"
    },
    "tags": []
   },
   "outputs": [],
   "source": [
    "# get_metrics(rs_lstm_1)"
   ]
  },
  {
   "cell_type": "code",
   "execution_count": 221,
   "id": "34b132be-e0f7-4c1c-958d-67418ba1682b",
   "metadata": {
    "execution": {
     "iopub.execute_input": "2021-08-27T03:38:08.675551Z",
     "iopub.status.busy": "2021-08-27T03:38:08.675354Z",
     "iopub.status.idle": "2021-08-27T03:38:08.688202Z",
     "shell.execute_reply": "2021-08-27T03:38:08.687435Z",
     "shell.execute_reply.started": "2021-08-27T03:38:08.675534Z"
    },
    "tags": []
   },
   "outputs": [
    {
     "data": {
      "text/html": [
       "<div>\n",
       "<style scoped>\n",
       "    .dataframe tbody tr th:only-of-type {\n",
       "        vertical-align: middle;\n",
       "    }\n",
       "\n",
       "    .dataframe tbody tr th {\n",
       "        vertical-align: top;\n",
       "    }\n",
       "\n",
       "    .dataframe thead th {\n",
       "        text-align: right;\n",
       "    }\n",
       "</style>\n",
       "<table border=\"1\" class=\"dataframe\">\n",
       "  <thead>\n",
       "    <tr style=\"text-align: right;\">\n",
       "      <th></th>\n",
       "      <th>day_of_week_1</th>\n",
       "      <th>day_of_week_2</th>\n",
       "      <th>day_of_week_3</th>\n",
       "      <th>day_of_week_4</th>\n",
       "      <th>day_of_week_5</th>\n",
       "      <th>day_of_week_6</th>\n",
       "      <th>is_holiday_1</th>\n",
       "      <th>Open_pct_l1</th>\n",
       "      <th>Close_pct_l1</th>\n",
       "      <th>Volume_diff_l1</th>\n",
       "    </tr>\n",
       "    <tr>\n",
       "      <th>date</th>\n",
       "      <th></th>\n",
       "      <th></th>\n",
       "      <th></th>\n",
       "      <th></th>\n",
       "      <th></th>\n",
       "      <th></th>\n",
       "      <th></th>\n",
       "      <th></th>\n",
       "      <th></th>\n",
       "      <th></th>\n",
       "    </tr>\n",
       "  </thead>\n",
       "  <tbody>\n",
       "    <tr>\n",
       "      <th>2011-07-31</th>\n",
       "      <td>0</td>\n",
       "      <td>0</td>\n",
       "      <td>0</td>\n",
       "      <td>0</td>\n",
       "      <td>0</td>\n",
       "      <td>1</td>\n",
       "      <td>0</td>\n",
       "      <td>-0.006030</td>\n",
       "      <td>0.000000</td>\n",
       "      <td>-5.061190e+09</td>\n",
       "    </tr>\n",
       "    <tr>\n",
       "      <th>2011-08-01</th>\n",
       "      <td>0</td>\n",
       "      <td>0</td>\n",
       "      <td>0</td>\n",
       "      <td>0</td>\n",
       "      <td>0</td>\n",
       "      <td>0</td>\n",
       "      <td>0</td>\n",
       "      <td>0.000000</td>\n",
       "      <td>0.000000</td>\n",
       "      <td>0.000000e+00</td>\n",
       "    </tr>\n",
       "    <tr>\n",
       "      <th>2011-08-02</th>\n",
       "      <td>1</td>\n",
       "      <td>0</td>\n",
       "      <td>0</td>\n",
       "      <td>0</td>\n",
       "      <td>0</td>\n",
       "      <td>0</td>\n",
       "      <td>0</td>\n",
       "      <td>0.000240</td>\n",
       "      <td>-0.004132</td>\n",
       "      <td>4.967390e+09</td>\n",
       "    </tr>\n",
       "    <tr>\n",
       "      <th>2011-08-03</th>\n",
       "      <td>0</td>\n",
       "      <td>1</td>\n",
       "      <td>0</td>\n",
       "      <td>0</td>\n",
       "      <td>0</td>\n",
       "      <td>0</td>\n",
       "      <td>0</td>\n",
       "      <td>-0.004665</td>\n",
       "      <td>-0.025557</td>\n",
       "      <td>2.389000e+08</td>\n",
       "    </tr>\n",
       "    <tr>\n",
       "      <th>2011-08-04</th>\n",
       "      <td>0</td>\n",
       "      <td>0</td>\n",
       "      <td>1</td>\n",
       "      <td>0</td>\n",
       "      <td>0</td>\n",
       "      <td>0</td>\n",
       "      <td>0</td>\n",
       "      <td>-0.025114</td>\n",
       "      <td>0.005016</td>\n",
       "      <td>1.240650e+09</td>\n",
       "    </tr>\n",
       "    <tr>\n",
       "      <th>...</th>\n",
       "      <td>...</td>\n",
       "      <td>...</td>\n",
       "      <td>...</td>\n",
       "      <td>...</td>\n",
       "      <td>...</td>\n",
       "      <td>...</td>\n",
       "      <td>...</td>\n",
       "      <td>...</td>\n",
       "      <td>...</td>\n",
       "      <td>...</td>\n",
       "    </tr>\n",
       "    <tr>\n",
       "      <th>2019-08-03</th>\n",
       "      <td>0</td>\n",
       "      <td>0</td>\n",
       "      <td>0</td>\n",
       "      <td>0</td>\n",
       "      <td>1</td>\n",
       "      <td>0</td>\n",
       "      <td>0</td>\n",
       "      <td>-0.012220</td>\n",
       "      <td>-0.007283</td>\n",
       "      <td>-8.876400e+08</td>\n",
       "    </tr>\n",
       "    <tr>\n",
       "      <th>2019-08-04</th>\n",
       "      <td>0</td>\n",
       "      <td>0</td>\n",
       "      <td>0</td>\n",
       "      <td>0</td>\n",
       "      <td>0</td>\n",
       "      <td>1</td>\n",
       "      <td>0</td>\n",
       "      <td>-0.004025</td>\n",
       "      <td>0.000000</td>\n",
       "      <td>-3.874660e+09</td>\n",
       "    </tr>\n",
       "    <tr>\n",
       "      <th>2019-08-05</th>\n",
       "      <td>0</td>\n",
       "      <td>0</td>\n",
       "      <td>0</td>\n",
       "      <td>0</td>\n",
       "      <td>0</td>\n",
       "      <td>0</td>\n",
       "      <td>0</td>\n",
       "      <td>0.000000</td>\n",
       "      <td>0.000000</td>\n",
       "      <td>0.000000e+00</td>\n",
       "    </tr>\n",
       "    <tr>\n",
       "      <th>2019-08-06</th>\n",
       "      <td>1</td>\n",
       "      <td>0</td>\n",
       "      <td>0</td>\n",
       "      <td>0</td>\n",
       "      <td>0</td>\n",
       "      <td>0</td>\n",
       "      <td>0</td>\n",
       "      <td>-0.011589</td>\n",
       "      <td>-0.029778</td>\n",
       "      <td>4.513730e+09</td>\n",
       "    </tr>\n",
       "    <tr>\n",
       "      <th>2019-08-07</th>\n",
       "      <td>0</td>\n",
       "      <td>1</td>\n",
       "      <td>0</td>\n",
       "      <td>0</td>\n",
       "      <td>0</td>\n",
       "      <td>0</td>\n",
       "      <td>0</td>\n",
       "      <td>-0.012729</td>\n",
       "      <td>0.013017</td>\n",
       "      <td>-3.594900e+08</td>\n",
       "    </tr>\n",
       "  </tbody>\n",
       "</table>\n",
       "<p>2920 rows × 10 columns</p>\n",
       "</div>"
      ],
      "text/plain": [
       "            day_of_week_1  day_of_week_2  day_of_week_3  day_of_week_4  \\\n",
       "date                                                                     \n",
       "2011-07-31              0              0              0              0   \n",
       "2011-08-01              0              0              0              0   \n",
       "2011-08-02              1              0              0              0   \n",
       "2011-08-03              0              1              0              0   \n",
       "2011-08-04              0              0              1              0   \n",
       "...                   ...            ...            ...            ...   \n",
       "2019-08-03              0              0              0              0   \n",
       "2019-08-04              0              0              0              0   \n",
       "2019-08-05              0              0              0              0   \n",
       "2019-08-06              1              0              0              0   \n",
       "2019-08-07              0              1              0              0   \n",
       "\n",
       "            day_of_week_5  day_of_week_6  is_holiday_1  Open_pct_l1  \\\n",
       "date                                                                  \n",
       "2011-07-31              0              1             0    -0.006030   \n",
       "2011-08-01              0              0             0     0.000000   \n",
       "2011-08-02              0              0             0     0.000240   \n",
       "2011-08-03              0              0             0    -0.004665   \n",
       "2011-08-04              0              0             0    -0.025114   \n",
       "...                   ...            ...           ...          ...   \n",
       "2019-08-03              1              0             0    -0.012220   \n",
       "2019-08-04              0              1             0    -0.004025   \n",
       "2019-08-05              0              0             0     0.000000   \n",
       "2019-08-06              0              0             0    -0.011589   \n",
       "2019-08-07              0              0             0    -0.012729   \n",
       "\n",
       "            Close_pct_l1  Volume_diff_l1  \n",
       "date                                      \n",
       "2011-07-31      0.000000   -5.061190e+09  \n",
       "2011-08-01      0.000000    0.000000e+00  \n",
       "2011-08-02     -0.004132    4.967390e+09  \n",
       "2011-08-03     -0.025557    2.389000e+08  \n",
       "2011-08-04      0.005016    1.240650e+09  \n",
       "...                  ...             ...  \n",
       "2019-08-03     -0.007283   -8.876400e+08  \n",
       "2019-08-04      0.000000   -3.874660e+09  \n",
       "2019-08-05      0.000000    0.000000e+00  \n",
       "2019-08-06     -0.029778    4.513730e+09  \n",
       "2019-08-07      0.013017   -3.594900e+08  \n",
       "\n",
       "[2920 rows x 10 columns]"
      ]
     },
     "execution_count": 221,
     "metadata": {},
     "output_type": "execute_result"
    }
   ],
   "source": [
    "X_train"
   ]
  },
  {
   "cell_type": "markdown",
   "id": "67f5f421-3b24-4ab3-9d9a-965bc078c668",
   "metadata": {},
   "source": [
    "# ARIMA  "
   ]
  },
  {
   "cell_type": "code",
   "execution_count": 187,
   "id": "d84494e9-6947-4f5b-a2ec-e840ebd07ecb",
   "metadata": {
    "execution": {
     "iopub.execute_input": "2021-08-27T02:32:46.909942Z",
     "iopub.status.busy": "2021-08-27T02:32:46.909632Z",
     "iopub.status.idle": "2021-08-27T02:32:46.979089Z",
     "shell.execute_reply": "2021-08-27T02:32:46.978201Z",
     "shell.execute_reply.started": "2021-08-27T02:32:46.909889Z"
    }
   },
   "outputs": [],
   "source": [
    "from statsmodels.tsa.seasonal import seasonal_decompose\n",
    "from statsmodels.graphics.tsaplots import plot_acf, plot_pacf\n",
    "from statsmodels.tsa.arima_model import ARIMA\n",
    "from statsmodels.tsa.stattools import adfuller # ADFuller Hypothesis test\n",
    "from statsmodels.tsa.statespace.sarimax import SARIMAX\n",
    "\n",
    "from pmdarima import auto_arima"
   ]
  },
  {
   "cell_type": "code",
   "execution_count": 191,
   "id": "ac2ef98c-b61a-40fe-94c8-921f2ec11128",
   "metadata": {
    "execution": {
     "iopub.execute_input": "2021-08-27T02:34:25.136397Z",
     "iopub.status.busy": "2021-08-27T02:34:25.136212Z",
     "iopub.status.idle": "2021-08-27T02:34:25.142624Z",
     "shell.execute_reply": "2021-08-27T02:34:25.141945Z",
     "shell.execute_reply.started": "2021-08-27T02:34:25.136380Z"
    },
    "tags": []
   },
   "outputs": [
    {
     "data": {
      "text/plain": [
       "date\n",
       "2011-07-31    0.000000\n",
       "2011-08-01    0.000240\n",
       "2011-08-02   -0.004665\n",
       "2011-08-03   -0.025114\n",
       "2011-08-04    0.004768\n",
       "                ...   \n",
       "2021-08-13    0.004219\n",
       "2021-08-14    0.000708\n",
       "2021-08-15    0.000000\n",
       "2021-08-16   -0.001421\n",
       "2021-08-17    0.000105\n",
       "Name: Open_pct, Length: 3651, dtype: float64"
      ]
     },
     "execution_count": 191,
     "metadata": {},
     "output_type": "execute_result"
    }
   ],
   "source": [
    "y"
   ]
  },
  {
   "cell_type": "code",
   "execution_count": 228,
   "id": "ab4c454d-0474-4fa2-bb61-9d2525a0b1bd",
   "metadata": {
    "execution": {
     "iopub.execute_input": "2021-08-27T03:41:39.421813Z",
     "iopub.status.busy": "2021-08-27T03:41:39.421620Z",
     "iopub.status.idle": "2021-08-27T03:42:03.802144Z",
     "shell.execute_reply": "2021-08-27T03:42:03.801354Z",
     "shell.execute_reply.started": "2021-08-27T03:41:39.421796Z"
    },
    "tags": []
   },
   "outputs": [
    {
     "name": "stdout",
     "output_type": "stream",
     "text": [
      "Performing stepwise search to minimize aic\n",
      " ARIMA(0,0,0)(0,0,0)[0]             : AIC=-6256.597, Time=1.26 sec\n",
      " ARIMA(1,0,0)(0,0,0)[0]             : AIC=-27212.876, Time=1.14 sec\n",
      " ARIMA(0,0,1)(0,0,0)[0]             : AIC=-27347.369, Time=1.19 sec\n",
      " ARIMA(1,0,1)(0,0,0)[0]             : AIC=-27351.217, Time=1.44 sec\n",
      " ARIMA(2,0,1)(0,0,0)[0]             : AIC=-27355.878, Time=1.53 sec\n",
      " ARIMA(2,0,0)(0,0,0)[0]             : AIC=-27349.916, Time=1.61 sec\n",
      " ARIMA(3,0,1)(0,0,0)[0]             : AIC=-27353.923, Time=2.61 sec\n",
      " ARIMA(2,0,2)(0,0,0)[0]             : AIC=-27350.768, Time=2.73 sec\n",
      " ARIMA(1,0,2)(0,0,0)[0]             : AIC=-27348.217, Time=2.35 sec\n",
      " ARIMA(3,0,0)(0,0,0)[0]             : AIC=-27356.214, Time=2.22 sec\n",
      " ARIMA(4,0,0)(0,0,0)[0]             : AIC=-27354.256, Time=1.89 sec\n",
      " ARIMA(4,0,1)(0,0,0)[0]             : AIC=-27352.132, Time=2.43 sec\n",
      " ARIMA(3,0,0)(0,0,0)[0] intercept   : AIC=-27355.813, Time=1.96 sec\n",
      "\n",
      "Best model:  ARIMA(3,0,0)(0,0,0)[0]          \n",
      "Total fit time: 24.371 seconds\n"
     ]
    }
   ],
   "source": [
    "arima_search1 = auto_arima(y_train,X_train,\n",
    "                          start_p=0,\n",
    "                          start_P=0,\n",
    "                          start_q=0,\n",
    "                          start_Q=0,\n",
    "                          max_d=5,\n",
    "                          max_D=5,\n",
    "                          max_P=5,\n",
    "                          max_p=5,\n",
    "                          max_q=5,\n",
    "                          max_Q=5,\n",
    "                        max_order=None,\n",
    "                          seasonal=False,\n",
    "                          trace=True,\n",
    "                          error_action='ignore',\n",
    "                          suppress_warnings=True,)"
   ]
  },
  {
   "cell_type": "code",
   "execution_count": 198,
   "id": "8f1b47ae-752f-41cc-8b80-6482ceba0174",
   "metadata": {
    "execution": {
     "iopub.execute_input": "2021-08-27T02:45:18.431742Z",
     "iopub.status.busy": "2021-08-27T02:45:18.431601Z",
     "iopub.status.idle": "2021-08-27T02:45:18.816432Z",
     "shell.execute_reply": "2021-08-27T02:45:18.815637Z",
     "shell.execute_reply.started": "2021-08-27T02:45:18.431725Z"
    },
    "tags": []
   },
   "outputs": [
    {
     "name": "stderr",
     "output_type": "stream",
     "text": [
      "/home/tanveer/anaconda3/lib/python3.8/site-packages/statsmodels/graphics/gofplots.py:993: UserWarning: marker is redundantly defined by the 'marker' keyword argument and the fmt string \"bo\" (-> marker='o'). The keyword argument will take precedence.\n",
      "  ax.plot(x, y, fmt, **plot_style)\n"
     ]
    },
    {
     "data": {
      "image/png": "[encoded data removed]",
      "text/plain": [
       "<Figure size 864x576 with 4 Axes>"
      ]
     },
     "metadata": {
      "needs_background": "light"
     },
     "output_type": "display_data"
    }
   ],
   "source": [
    "arima_search1.plot_diagnostics(figsize=(12,8));"
   ]
  },
  {
   "cell_type": "code",
   "execution_count": 199,
   "id": "4e442c5c-45df-42d7-abd2-67164264a216",
   "metadata": {
    "execution": {
     "iopub.execute_input": "2021-08-27T02:45:51.349869Z",
     "iopub.status.busy": "2021-08-27T02:45:51.349649Z",
     "iopub.status.idle": "2021-08-27T02:46:49.448203Z",
     "shell.execute_reply": "2021-08-27T02:46:49.447381Z",
     "shell.execute_reply.started": "2021-08-27T02:45:51.349852Z"
    }
   },
   "outputs": [
    {
     "name": "stdout",
     "output_type": "stream",
     "text": [
      "Performing stepwise search to minimize aic\n",
      " ARIMA(2,0,2)(0,0,0)[0]             : AIC=-27429.711, Time=4.44 sec\n",
      " ARIMA(0,0,0)(0,0,0)[0]             : AIC=-26598.920, Time=1.87 sec\n",
      " ARIMA(1,0,0)(0,0,0)[0]             : AIC=-27239.204, Time=2.36 sec\n",
      " ARIMA(0,0,1)(0,0,0)[0]             : AIC=-27429.474, Time=1.81 sec\n",
      " ARIMA(1,0,2)(0,0,0)[0]             : AIC=-27462.215, Time=7.39 sec\n",
      " ARIMA(0,0,2)(0,0,0)[0]             : AIC=-27427.851, Time=1.73 sec\n",
      " ARIMA(1,0,1)(0,0,0)[0]             : AIC=-27424.862, Time=3.20 sec\n",
      " ARIMA(1,0,3)(0,0,0)[0]             : AIC=-27432.940, Time=2.47 sec\n",
      " ARIMA(0,0,3)(0,0,0)[0]             : AIC=-27437.472, Time=2.80 sec\n",
      " ARIMA(2,0,1)(0,0,0)[0]             : AIC=-27434.800, Time=5.39 sec\n",
      " ARIMA(2,0,3)(0,0,0)[0]             : AIC=-27426.221, Time=4.30 sec\n",
      " ARIMA(1,0,2)(0,0,0)[0] intercept   : AIC=-27716.531, Time=3.23 sec\n",
      " ARIMA(0,0,2)(0,0,0)[0] intercept   : AIC=-27713.898, Time=2.21 sec\n",
      " ARIMA(1,0,1)(0,0,0)[0] intercept   : AIC=-27719.817, Time=4.08 sec\n",
      " ARIMA(0,0,1)(0,0,0)[0] intercept   : AIC=-27725.671, Time=4.95 sec\n",
      " ARIMA(0,0,0)(0,0,0)[0] intercept   : AIC=-26637.738, Time=1.38 sec\n",
      " ARIMA(1,0,0)(0,0,0)[0] intercept   : AIC=-27351.036, Time=4.49 sec\n",
      "\n",
      "Best model:  ARIMA(0,0,1)(0,0,0)[0] intercept\n",
      "Total fit time: 58.090 seconds\n"
     ]
    }
   ],
   "source": [
    "arima_search1 = auto_arima(y_train,Xs_train,\n",
    "                          #start_p=0,\n",
    "                          #start_P=0,\n",
    "                          #start_q=0,\n",
    "                          #start_Q=0,\n",
    "                          max_d=5,\n",
    "                          max_D=5,\n",
    "                          max_P=5,\n",
    "                          max_p=5,\n",
    "                          max_q=5,\n",
    "                          max_Q=5,\n",
    "                        max_order=None,\n",
    "                          seasonal=False,\n",
    "                          trace=True,\n",
    "                          error_action='ignore',\n",
    "                          suppress_warnings=True,)"
   ]
  },
  {
   "cell_type": "code",
   "execution_count": 215,
   "id": "61a58122-8743-413e-9c40-5ac9d8f787db",
   "metadata": {
    "execution": {
     "iopub.execute_input": "2021-08-27T03:20:44.074930Z",
     "iopub.status.busy": "2021-08-27T03:20:44.074778Z",
     "iopub.status.idle": "2021-08-27T03:21:51.121461Z",
     "shell.execute_reply": "2021-08-27T03:21:51.120801Z",
     "shell.execute_reply.started": "2021-08-27T03:20:44.074912Z"
    },
    "tags": []
   },
   "outputs": [
    {
     "name": "stdout",
     "output_type": "stream",
     "text": [
      "Performing stepwise search to minimize aic\n",
      " ARIMA(5,0,5)(0,0,0)[0]             : AIC=-26578.982, Time=7.53 sec\n",
      " ARIMA(0,0,0)(0,0,0)[0]             : AIC=-26598.920, Time=1.87 sec\n",
      " ARIMA(1,0,0)(0,0,0)[0]             : AIC=-27239.204, Time=2.73 sec\n",
      " ARIMA(0,0,1)(0,0,0)[0]             : AIC=-27429.474, Time=1.63 sec\n",
      " ARIMA(1,0,1)(0,0,0)[0]             : AIC=-27424.862, Time=3.46 sec\n",
      " ARIMA(0,0,2)(0,0,0)[0]             : AIC=-27427.851, Time=2.04 sec\n",
      " ARIMA(1,0,2)(0,0,0)[0]             : AIC=-27462.215, Time=5.82 sec\n",
      " ARIMA(2,0,2)(0,0,0)[0]             : AIC=-27429.711, Time=5.50 sec\n",
      " ARIMA(1,0,3)(0,0,0)[0]             : AIC=-27432.940, Time=2.37 sec\n",
      " ARIMA(0,0,3)(0,0,0)[0]             : AIC=-27437.472, Time=2.33 sec\n",
      " ARIMA(2,0,1)(0,0,0)[0]             : AIC=-27434.800, Time=6.07 sec\n",
      " ARIMA(2,0,3)(0,0,0)[0]             : AIC=-27426.221, Time=4.94 sec\n",
      " ARIMA(1,0,2)(0,0,0)[0] intercept   : AIC=-27716.531, Time=3.14 sec\n",
      " ARIMA(0,0,2)(0,0,0)[0] intercept   : AIC=-27713.898, Time=2.14 sec\n",
      " ARIMA(1,0,1)(0,0,0)[0] intercept   : AIC=-27719.817, Time=4.23 sec\n",
      " ARIMA(0,0,1)(0,0,0)[0] intercept   : AIC=-27725.671, Time=4.98 sec\n",
      " ARIMA(0,0,0)(0,0,0)[0] intercept   : AIC=-26637.738, Time=1.42 sec\n",
      " ARIMA(1,0,0)(0,0,0)[0] intercept   : AIC=-27351.036, Time=4.81 sec\n",
      "\n",
      "Best model:  ARIMA(0,0,1)(0,0,0)[0] intercept\n",
      "Total fit time: 67.036 seconds\n"
     ]
    }
   ],
   "source": [
    "arima_search1 = auto_arima(y_train,Xs_train,\n",
    "                          start_p=5,\n",
    "                          start_P=5,\n",
    "                          start_q=5,\n",
    "                          start_Q=5,\n",
    "                          max_d=50,\n",
    "                          max_D=50,\n",
    "                          max_P=50,\n",
    "                          max_p=50,\n",
    "                          max_q=50,\n",
    "                          max_Q=50,\n",
    "                        max_order=None,\n",
    "                          seasonal=False,\n",
    "                          trace=True,\n",
    "                          error_action='ignore',\n",
    "                          suppress_warnings=True,)"
   ]
  },
  {
   "cell_type": "code",
   "execution_count": null,
   "id": "71dbf145-f25c-41d9-99e0-5e668b1e2e87",
   "metadata": {},
   "outputs": [],
   "source": []
  },
  {
   "cell_type": "code",
   "execution_count": null,
   "id": "75fb882a-9971-4cfd-bcd7-3f401b00106a",
   "metadata": {},
   "outputs": [],
   "source": []
  },
  {
   "cell_type": "markdown",
   "id": "d7f8b89e-ec33-4d67-84e1-5e8ea1ce3a8c",
   "metadata": {},
   "source": [
    "# ARIMAX "
   ]
  },
  {
   "cell_type": "code",
   "execution_count": 210,
   "id": "9094651d-7bff-4b1e-a640-a12592f895de",
   "metadata": {
    "execution": {
     "iopub.execute_input": "2021-08-27T02:53:56.188986Z",
     "iopub.status.busy": "2021-08-27T02:53:56.188681Z",
     "iopub.status.idle": "2021-08-27T02:53:56.198249Z",
     "shell.execute_reply": "2021-08-27T02:53:56.197856Z",
     "shell.execute_reply.started": "2021-08-27T02:53:56.188968Z"
    },
    "tags": []
   },
   "outputs": [
    {
     "name": "stderr",
     "output_type": "stream",
     "text": [
      "/home/tanveer/anaconda3/lib/python3.8/site-packages/statsmodels/tsa/base/tsa_model.py:581: ValueWarning: A date index has been provided, but it has no associated frequency information and so will be ignored when e.g. forecasting.\n",
      "  warnings.warn('A date index has been provided, but it has no'\n",
      "/home/tanveer/anaconda3/lib/python3.8/site-packages/statsmodels/tsa/base/tsa_model.py:581: ValueWarning: A date index has been provided, but it has no associated frequency information and so will be ignored when e.g. forecasting.\n",
      "  warnings.warn('A date index has been provided, but it has no'\n",
      "/home/tanveer/anaconda3/lib/python3.8/site-packages/statsmodels/tsa/base/tsa_model.py:581: ValueWarning: A date index has been provided, but it has no associated frequency information and so will be ignored when e.g. forecasting.\n",
      "  warnings.warn('A date index has been provided, but it has no'\n"
     ]
    }
   ],
   "source": [
    "arimax1 = ARIMA(endog=y_train,exog=Xs_train,order())"
   ]
  },
  {
   "cell_type": "code",
   "execution_count": 211,
   "id": "25ac0281-31b5-4cdc-82b4-6ee52ee5a303",
   "metadata": {
    "execution": {
     "iopub.execute_input": "2021-08-27T02:53:56.454294Z",
     "iopub.status.busy": "2021-08-27T02:53:56.454008Z",
     "iopub.status.idle": "2021-08-27T02:53:58.571553Z",
     "shell.execute_reply": "2021-08-27T02:53:58.571169Z",
     "shell.execute_reply.started": "2021-08-27T02:53:56.454276Z"
    },
    "tags": []
   },
   "outputs": [],
   "source": [
    "arimax1_results = arimax1.fit()"
   ]
  },
  {
   "cell_type": "code",
   "execution_count": 212,
   "id": "bfefcaba-577e-49d7-bd9e-d62607abdd56",
   "metadata": {
    "execution": {
     "iopub.execute_input": "2021-08-27T02:53:59.542575Z",
     "iopub.status.busy": "2021-08-27T02:53:59.542400Z",
     "iopub.status.idle": "2021-08-27T02:53:59.557483Z",
     "shell.execute_reply": "2021-08-27T02:53:59.556779Z",
     "shell.execute_reply.started": "2021-08-27T02:53:59.542558Z"
    },
    "tags": []
   },
   "outputs": [
    {
     "data": {
      "text/html": [
       "<table class=\"simpletable\">\n",
       "<caption>SARIMAX Results</caption>\n",
       "<tr>\n",
       "  <th>Dep. Variable:</th>       <td>Open_pct</td>     <th>  No. Observations:  </th>    <td>2920</td>   \n",
       "</tr>\n",
       "<tr>\n",
       "  <th>Model:</th>                 <td>ARIMA</td>      <th>  Log Likelihood     </th>  <td>13330.783</td>\n",
       "</tr>\n",
       "<tr>\n",
       "  <th>Date:</th>            <td>Thu, 26 Aug 2021</td> <th>  AIC                </th> <td>-26637.567</td>\n",
       "</tr>\n",
       "<tr>\n",
       "  <th>Time:</th>                <td>22:53:59</td>     <th>  BIC                </th> <td>-26565.815</td>\n",
       "</tr>\n",
       "<tr>\n",
       "  <th>Sample:</th>                  <td>0</td>        <th>  HQIC               </th> <td>-26611.722</td>\n",
       "</tr>\n",
       "<tr>\n",
       "  <th></th>                      <td> - 2920</td>     <th>                     </th>      <td> </td>    \n",
       "</tr>\n",
       "<tr>\n",
       "  <th>Covariance Type:</th>        <td>opg</td>       <th>                     </th>      <td> </td>    \n",
       "</tr>\n",
       "</table>\n",
       "<table class=\"simpletable\">\n",
       "<tr>\n",
       "     <td></td>       <th>coef</th>     <th>std err</th>      <th>z</th>      <th>P>|z|</th>  <th>[0.025</th>    <th>0.975]</th>  \n",
       "</tr>\n",
       "<tr>\n",
       "  <th>const</th>  <td>    0.0003</td> <td> 9.99e-05</td> <td>    2.936</td> <td> 0.003</td> <td> 9.75e-05</td> <td>    0.000</td>\n",
       "</tr>\n",
       "<tr>\n",
       "  <th>x1</th>     <td>   -0.0001</td> <td> 7.68e-05</td> <td>   -1.543</td> <td> 0.123</td> <td>   -0.000</td> <td>  3.2e-05</td>\n",
       "</tr>\n",
       "<tr>\n",
       "  <th>x2</th>     <td>-6.498e-05</td> <td> 5.91e-05</td> <td>   -1.100</td> <td> 0.271</td> <td>   -0.000</td> <td> 5.08e-05</td>\n",
       "</tr>\n",
       "<tr>\n",
       "  <th>x3</th>     <td>   -0.0001</td> <td> 5.94e-05</td> <td>   -2.271</td> <td> 0.023</td> <td>   -0.000</td> <td>-1.85e-05</td>\n",
       "</tr>\n",
       "<tr>\n",
       "  <th>x4</th>     <td> 2.289e-05</td> <td> 5.75e-05</td> <td>    0.398</td> <td> 0.691</td> <td>-8.98e-05</td> <td>    0.000</td>\n",
       "</tr>\n",
       "<tr>\n",
       "  <th>x5</th>     <td>   -0.0001</td> <td> 7.09e-05</td> <td>   -1.701</td> <td> 0.089</td> <td>   -0.000</td> <td> 1.84e-05</td>\n",
       "</tr>\n",
       "<tr>\n",
       "  <th>x6</th>     <td>-4.373e-05</td> <td>    0.000</td> <td>   -0.196</td> <td> 0.845</td> <td>   -0.000</td> <td>    0.000</td>\n",
       "</tr>\n",
       "<tr>\n",
       "  <th>x7</th>     <td>-4.405e-05</td> <td>    0.000</td> <td>   -0.380</td> <td> 0.704</td> <td>   -0.000</td> <td>    0.000</td>\n",
       "</tr>\n",
       "<tr>\n",
       "  <th>x8</th>     <td>   -0.0004</td> <td> 3.02e-05</td> <td>  -12.164</td> <td> 0.000</td> <td>   -0.000</td> <td>   -0.000</td>\n",
       "</tr>\n",
       "<tr>\n",
       "  <th>x9</th>     <td>    0.0068</td> <td>  3.1e-05</td> <td>  218.814</td> <td> 0.000</td> <td>    0.007</td> <td>    0.007</td>\n",
       "</tr>\n",
       "<tr>\n",
       "  <th>x10</th>    <td> 6.933e-05</td> <td>    8e-05</td> <td>    0.866</td> <td> 0.386</td> <td>-8.75e-05</td> <td>    0.000</td>\n",
       "</tr>\n",
       "<tr>\n",
       "  <th>sigma2</th> <td>  6.36e-06</td> <td> 7.18e-08</td> <td>   88.617</td> <td> 0.000</td> <td> 6.22e-06</td> <td>  6.5e-06</td>\n",
       "</tr>\n",
       "</table>\n",
       "<table class=\"simpletable\">\n",
       "<tr>\n",
       "  <th>Ljung-Box (L1) (Q):</th>     <td>517.07</td> <th>  Jarque-Bera (JB):  </th> <td>12937.94</td>\n",
       "</tr>\n",
       "<tr>\n",
       "  <th>Prob(Q):</th>                 <td>0.00</td>  <th>  Prob(JB):          </th>   <td>0.00</td>  \n",
       "</tr>\n",
       "<tr>\n",
       "  <th>Heteroskedasticity (H):</th>  <td>11.06</td> <th>  Skew:              </th>   <td>-0.06</td> \n",
       "</tr>\n",
       "<tr>\n",
       "  <th>Prob(H) (two-sided):</th>     <td>0.00</td>  <th>  Kurtosis:          </th>   <td>13.31</td> \n",
       "</tr>\n",
       "</table><br/><br/>Warnings:<br/>[1] Covariance matrix calculated using the outer product of gradients (complex-step)."
      ],
      "text/plain": [
       "<class 'statsmodels.iolib.summary.Summary'>\n",
       "\"\"\"\n",
       "                               SARIMAX Results                                \n",
       "==============================================================================\n",
       "Dep. Variable:               Open_pct   No. Observations:                 2920\n",
       "Model:                          ARIMA   Log Likelihood               13330.783\n",
       "Date:                Thu, 26 Aug 2021   AIC                         -26637.567\n",
       "Time:                        22:53:59   BIC                         -26565.815\n",
       "Sample:                             0   HQIC                        -26611.722\n",
       "                               - 2920                                         \n",
       "Covariance Type:                  opg                                         \n",
       "==============================================================================\n",
       "                 coef    std err          z      P>|z|      [0.025      0.975]\n",
       "------------------------------------------------------------------------------\n",
       "const          0.0003   9.99e-05      2.936      0.003    9.75e-05       0.000\n",
       "x1            -0.0001   7.68e-05     -1.543      0.123      -0.000     3.2e-05\n",
       "x2         -6.498e-05   5.91e-05     -1.100      0.271      -0.000    5.08e-05\n",
       "x3            -0.0001   5.94e-05     -2.271      0.023      -0.000   -1.85e-05\n",
       "x4          2.289e-05   5.75e-05      0.398      0.691   -8.98e-05       0.000\n",
       "x5            -0.0001   7.09e-05     -1.701      0.089      -0.000    1.84e-05\n",
       "x6         -4.373e-05      0.000     -0.196      0.845      -0.000       0.000\n",
       "x7         -4.405e-05      0.000     -0.380      0.704      -0.000       0.000\n",
       "x8            -0.0004   3.02e-05    -12.164      0.000      -0.000      -0.000\n",
       "x9             0.0068    3.1e-05    218.814      0.000       0.007       0.007\n",
       "x10         6.933e-05      8e-05      0.866      0.386   -8.75e-05       0.000\n",
       "sigma2       6.36e-06   7.18e-08     88.617      0.000    6.22e-06     6.5e-06\n",
       "===================================================================================\n",
       "Ljung-Box (L1) (Q):                 517.07   Jarque-Bera (JB):             12937.94\n",
       "Prob(Q):                              0.00   Prob(JB):                         0.00\n",
       "Heteroskedasticity (H):              11.06   Skew:                            -0.06\n",
       "Prob(H) (two-sided):                  0.00   Kurtosis:                        13.31\n",
       "===================================================================================\n",
       "\n",
       "Warnings:\n",
       "[1] Covariance matrix calculated using the outer product of gradients (complex-step).\n",
       "\"\"\""
      ]
     },
     "execution_count": 212,
     "metadata": {},
     "output_type": "execute_result"
    }
   ],
   "source": [
    "arimax1_results.summary()"
   ]
  },
  {
   "cell_type": "code",
   "execution_count": 213,
   "id": "1b2f4559-4587-4353-9486-e817efbe841a",
   "metadata": {
    "execution": {
     "iopub.execute_input": "2021-08-27T03:18:21.521642Z",
     "iopub.status.busy": "2021-08-27T03:18:21.521435Z",
     "iopub.status.idle": "2021-08-27T03:18:21.527387Z",
     "shell.execute_reply": "2021-08-27T03:18:21.526698Z",
     "shell.execute_reply.started": "2021-08-27T03:18:21.521609Z"
    }
   },
   "outputs": [
    {
     "data": {
      "text/plain": [
       "{'trend': 0,\n",
       " 'exog': 11,\n",
       " 'ar': 0,\n",
       " 'ma': 0,\n",
       " 'seasonal_ar': 0,\n",
       " 'seasonal_ma': 0,\n",
       " 'reduced_ar': 0,\n",
       " 'reduced_ma': 0,\n",
       " 'exog_variance': 0,\n",
       " 'measurement_variance': 0,\n",
       " 'variance': 1}"
      ]
     },
     "execution_count": 213,
     "metadata": {},
     "output_type": "execute_result"
    }
   ],
   "source": [
    "arimax1_results.model_orders"
   ]
  },
  {
   "cell_type": "markdown",
   "id": "5587e627-afc9-45ae-ae4a-d44c280e1408",
   "metadata": {},
   "source": [
    "There is a trend so ARIMA not useful "
   ]
  },
  {
   "cell_type": "markdown",
   "id": "58f25160-6f6d-4c13-80db-f7db069c86cd",
   "metadata": {},
   "source": [
    "# Exponential Smoothing "
   ]
  },
  {
   "cell_type": "code",
   "execution_count": 216,
   "id": "2578f485-b9c7-41ed-84a9-5e9be80ef03c",
   "metadata": {
    "execution": {
     "iopub.execute_input": "2021-08-27T03:32:44.380454Z",
     "iopub.status.busy": "2021-08-27T03:32:44.380182Z",
     "iopub.status.idle": "2021-08-27T03:32:44.383959Z",
     "shell.execute_reply": "2021-08-27T03:32:44.383211Z",
     "shell.execute_reply.started": "2021-08-27T03:32:44.380435Z"
    }
   },
   "outputs": [],
   "source": [
    "from statsmodels.tsa.holtwinters import SimpleExpSmoothing, Holt\n"
   ]
  },
  {
   "cell_type": "code",
   "execution_count": 217,
   "id": "66c8f646-29eb-43ae-8cf4-dad243514cf7",
   "metadata": {
    "execution": {
     "iopub.execute_input": "2021-08-27T03:36:04.940219Z",
     "iopub.status.busy": "2021-08-27T03:36:04.940026Z",
     "iopub.status.idle": "2021-08-27T03:36:04.949260Z",
     "shell.execute_reply": "2021-08-27T03:36:04.948588Z",
     "shell.execute_reply.started": "2021-08-27T03:36:04.940201Z"
    }
   },
   "outputs": [
    {
     "name": "stderr",
     "output_type": "stream",
     "text": [
      "/home/tanveer/anaconda3/lib/python3.8/site-packages/statsmodels/tsa/base/tsa_model.py:581: ValueWarning: A date index has been provided, but it has no associated frequency information and so will be ignored when e.g. forecasting.\n",
      "  warnings.warn('A date index has been provided, but it has no'\n",
      "/home/tanveer/anaconda3/lib/python3.8/site-packages/statsmodels/tsa/holtwinters/model.py:427: FutureWarning: After 0.13 initialization must be handled at model creation\n",
      "  warnings.warn(\n"
     ]
    }
   ],
   "source": [
    "holt1 = Holt(endog=y_train,)"
   ]
  },
  {
   "cell_type": "code",
   "execution_count": 267,
   "id": "f66631bb-0857-4041-a71a-75a0628926ca",
   "metadata": {
    "execution": {
     "iopub.execute_input": "2021-08-27T04:51:14.603100Z",
     "iopub.status.busy": "2021-08-27T04:51:14.602903Z",
     "iopub.status.idle": "2021-08-27T04:51:14.640317Z",
     "shell.execute_reply": "2021-08-27T04:51:14.639684Z",
     "shell.execute_reply.started": "2021-08-27T04:51:14.603082Z"
    },
    "tags": []
   },
   "outputs": [
    {
     "name": "stderr",
     "output_type": "stream",
     "text": [
      "<ipython-input-267-f7efb98d141e>:1: FutureWarning: the 'smoothing_slope'' keyword is deprecated, use 'smoothing_trend' instead\n",
      "  holt1_results = holt1.fit(smoothing_level=.3, smoothing_slope=.05,optimized=True)\n"
     ]
    },
    {
     "data": {
      "text/html": [
       "<table class=\"simpletable\">\n",
       "<caption>Holt Model Results</caption>\n",
       "<tr>\n",
       "  <th>Dep. Variable:</th>    <td>Open_pct</td> <th>  No. Observations:  </th>       <td>2920</td>      \n",
       "</tr>\n",
       "<tr>\n",
       "  <th>Model:</th>              <td>Holt</td>   <th>  SSE                </th>       <td>0.186</td>     \n",
       "</tr>\n",
       "<tr>\n",
       "  <th>Optimized:</th>          <td>True</td>   <th>  AIC                </th>    <td>-28197.946</td>   \n",
       "</tr>\n",
       "<tr>\n",
       "  <th>Trend:</th>            <td>Additive</td> <th>  BIC                </th>    <td>-28174.028</td>   \n",
       "</tr>\n",
       "<tr>\n",
       "  <th>Seasonal:</th>           <td>None</td>   <th>  AICC               </th>    <td>-28197.917</td>   \n",
       "</tr>\n",
       "<tr>\n",
       "  <th>Seasonal Periods:</th>   <td>None</td>   <th>  Date:              </th> <td>Fri, 27 Aug 2021</td>\n",
       "</tr>\n",
       "<tr>\n",
       "  <th>Box-Cox:</th>            <td>False</td>  <th>  Time:              </th>     <td>00:51:14</td>    \n",
       "</tr>\n",
       "<tr>\n",
       "  <th>Box-Cox Coeff.:</th>     <td>None</td>   <th>                     </th>         <td> </td>       \n",
       "</tr>\n",
       "</table>\n",
       "<table class=\"simpletable\">\n",
       "<tr>\n",
       "         <td></td>                 <th>coeff</th>                <th>code</th>               <th>optimized</th>     \n",
       "</tr>\n",
       "<tr>\n",
       "  <th>smoothing_level</th> <td>           0.3000000</td> <td>               alpha</td> <td>               False</td>\n",
       "</tr>\n",
       "<tr>\n",
       "  <th>smoothing_trend</th> <td>           0.0500000</td> <td>                beta</td> <td>               False</td>\n",
       "</tr>\n",
       "<tr>\n",
       "  <th>initial_level</th>   <td>          -0.0070507</td> <td>                 l.0</td> <td>                True</td>\n",
       "</tr>\n",
       "<tr>\n",
       "  <th>initial_trend</th>   <td>           0.0001335</td> <td>                 b.0</td> <td>                True</td>\n",
       "</tr>\n",
       "</table>"
      ],
      "text/plain": [
       "<class 'statsmodels.iolib.summary.Summary'>\n",
       "\"\"\"\n",
       "                              Holt Model Results                              \n",
       "==============================================================================\n",
       "Dep. Variable:               Open_pct   No. Observations:                 2920\n",
       "Model:                           Holt   SSE                              0.186\n",
       "Optimized:                       True   AIC                         -28197.946\n",
       "Trend:                       Additive   BIC                         -28174.028\n",
       "Seasonal:                        None   AICC                        -28197.917\n",
       "Seasonal Periods:                None   Date:                 Fri, 27 Aug 2021\n",
       "Box-Cox:                        False   Time:                         00:51:14\n",
       "Box-Cox Coeff.:                  None                                         \n",
       "==============================================================================\n",
       "                       coeff                 code              optimized      \n",
       "------------------------------------------------------------------------------\n",
       "smoothing_level            0.3000000                alpha                False\n",
       "smoothing_trend            0.0500000                 beta                False\n",
       "initial_level             -0.0070507                  l.0                 True\n",
       "initial_trend              0.0001335                  b.0                 True\n",
       "------------------------------------------------------------------------------\n",
       "\"\"\""
      ]
     },
     "execution_count": 267,
     "metadata": {},
     "output_type": "execute_result"
    }
   ],
   "source": [
    "holt1_results = holt1.fit(smoothing_level=.3, smoothing_slope=.05,optimized=True)\n",
    "holt1_results.summary()"
   ]
  },
  {
   "cell_type": "code",
   "execution_count": 270,
   "id": "3dc95885-4445-4121-b156-593e3a7ef37a",
   "metadata": {
    "execution": {
     "iopub.execute_input": "2021-08-27T04:57:29.142842Z",
     "iopub.status.busy": "2021-08-27T04:57:29.142609Z",
     "iopub.status.idle": "2021-08-27T04:57:29.149490Z",
     "shell.execute_reply": "2021-08-27T04:57:29.148886Z",
     "shell.execute_reply.started": "2021-08-27T04:57:29.142811Z"
    },
    "tags": []
   },
   "outputs": [
    {
     "data": {
      "text/plain": [
       "array([ 0.        ,  0.00023984, -0.00466498, ..., -0.01158915,\n",
       "       -0.01272921, -0.00088426])"
      ]
     },
     "execution_count": 270,
     "metadata": {},
     "output_type": "execute_result"
    }
   ],
   "source": [
    "y_train.values"
   ]
  },
  {
   "cell_type": "code",
   "execution_count": 272,
   "id": "72cf8553-5521-4cef-9494-b13c891a9169",
   "metadata": {
    "execution": {
     "iopub.execute_input": "2021-08-27T04:58:01.725371Z",
     "iopub.status.busy": "2021-08-27T04:58:01.725170Z",
     "iopub.status.idle": "2021-08-27T04:58:01.730369Z",
     "shell.execute_reply": "2021-08-27T04:58:01.729728Z",
     "shell.execute_reply.started": "2021-08-27T04:58:01.725354Z"
    },
    "tags": []
   },
   "outputs": [
    {
     "data": {
      "text/plain": [
       "-28197.945567260882"
      ]
     },
     "execution_count": 272,
     "metadata": {},
     "output_type": "execute_result"
    }
   ],
   "source": [
    "holt1_results.aic"
   ]
  },
  {
   "cell_type": "code",
   "execution_count": 276,
   "id": "1235a873-9134-479b-9388-7a4b70091bf6",
   "metadata": {
    "execution": {
     "iopub.execute_input": "2021-08-27T05:01:22.570323Z",
     "iopub.status.busy": "2021-08-27T05:01:22.570126Z",
     "iopub.status.idle": "2021-08-27T05:01:26.354052Z",
     "shell.execute_reply": "2021-08-27T05:01:26.353105Z",
     "shell.execute_reply.started": "2021-08-27T05:01:22.570305Z"
    },
    "scrolled": true,
    "tags": []
   },
   "outputs": [
    {
     "name": "stderr",
     "output_type": "stream",
     "text": [
      "/home/tanveer/anaconda3/lib/python3.8/site-packages/statsmodels/tsa/base/tsa_model.py:581: ValueWarning: A date index has been provided, but it has no associated frequency information and so will be ignored when e.g. forecasting.\n",
      "  warnings.warn('A date index has been provided, but it has no'\n",
      "<ipython-input-276-1d3739b3310f>:14: FutureWarning: the 'smoothing_slope'' keyword is deprecated, use 'smoothing_trend' instead\n",
      "  holt_results = holt.fit(smoothing_level=sl, smoothing_slope=ss,optimized=True)\n",
      "/home/tanveer/anaconda3/lib/python3.8/site-packages/statsmodels/tsa/base/tsa_model.py:581: ValueWarning: A date index has been provided, but it has no associated frequency information and so will be ignored when e.g. forecasting.\n",
      "  warnings.warn('A date index has been provided, but it has no'\n",
      "/home/tanveer/anaconda3/lib/python3.8/site-packages/statsmodels/tsa/base/tsa_model.py:581: ValueWarning: A date index has been provided, but it has no associated frequency information and so will be ignored when e.g. forecasting.\n",
      "  warnings.warn('A date index has been provided, but it has no'\n",
      "/home/tanveer/anaconda3/lib/python3.8/site-packages/statsmodels/tsa/base/tsa_model.py:581: ValueWarning: A date index has been provided, but it has no associated frequency information and so will be ignored when e.g. forecasting.\n",
      "  warnings.warn('A date index has been provided, but it has no'\n",
      "/home/tanveer/anaconda3/lib/python3.8/site-packages/statsmodels/tsa/base/tsa_model.py:581: ValueWarning: A date index has been provided, but it has no associated frequency information and so will be ignored when e.g. forecasting.\n",
      "  warnings.warn('A date index has been provided, but it has no'\n",
      "/home/tanveer/anaconda3/lib/python3.8/site-packages/statsmodels/tsa/base/tsa_model.py:581: ValueWarning: A date index has been provided, but it has no associated frequency information and so will be ignored when e.g. forecasting.\n",
      "  warnings.warn('A date index has been provided, but it has no'\n",
      "/home/tanveer/anaconda3/lib/python3.8/site-packages/statsmodels/tsa/base/tsa_model.py:581: ValueWarning: A date index has been provided, but it has no associated frequency information and so will be ignored when e.g. forecasting.\n",
      "  warnings.warn('A date index has been provided, but it has no'\n",
      "/home/tanveer/anaconda3/lib/python3.8/site-packages/statsmodels/tsa/base/tsa_model.py:581: ValueWarning: A date index has been provided, but it has no associated frequency information and so will be ignored when e.g. forecasting.\n",
      "  warnings.warn('A date index has been provided, but it has no'\n",
      "/home/tanveer/anaconda3/lib/python3.8/site-packages/statsmodels/tsa/base/tsa_model.py:581: ValueWarning: A date index has been provided, but it has no associated frequency information and so will be ignored when e.g. forecasting.\n",
      "  warnings.warn('A date index has been provided, but it has no'\n",
      "/home/tanveer/anaconda3/lib/python3.8/site-packages/statsmodels/tsa/base/tsa_model.py:581: ValueWarning: A date index has been provided, but it has no associated frequency information and so will be ignored when e.g. forecasting.\n",
      "  warnings.warn('A date index has been provided, but it has no'\n",
      "/home/tanveer/anaconda3/lib/python3.8/site-packages/statsmodels/tsa/base/tsa_model.py:581: ValueWarning: A date index has been provided, but it has no associated frequency information and so will be ignored when e.g. forecasting.\n",
      "  warnings.warn('A date index has been provided, but it has no'\n",
      "/home/tanveer/anaconda3/lib/python3.8/site-packages/statsmodels/tsa/base/tsa_model.py:581: ValueWarning: A date index has been provided, but it has no associated frequency information and so will be ignored when e.g. forecasting.\n",
      "  warnings.warn('A date index has been provided, but it has no'\n",
      "/home/tanveer/anaconda3/lib/python3.8/site-packages/statsmodels/tsa/base/tsa_model.py:581: ValueWarning: A date index has been provided, but it has no associated frequency information and so will be ignored when e.g. forecasting.\n",
      "  warnings.warn('A date index has been provided, but it has no'\n",
      "/home/tanveer/anaconda3/lib/python3.8/site-packages/statsmodels/tsa/base/tsa_model.py:581: ValueWarning: A date index has been provided, but it has no associated frequency information and so will be ignored when e.g. forecasting.\n",
      "  warnings.warn('A date index has been provided, but it has no'\n",
      "/home/tanveer/anaconda3/lib/python3.8/site-packages/statsmodels/tsa/base/tsa_model.py:581: ValueWarning: A date index has been provided, but it has no associated frequency information and so will be ignored when e.g. forecasting.\n",
      "  warnings.warn('A date index has been provided, but it has no'\n",
      "/home/tanveer/anaconda3/lib/python3.8/site-packages/statsmodels/tsa/base/tsa_model.py:581: ValueWarning: A date index has been provided, but it has no associated frequency information and so will be ignored when e.g. forecasting.\n",
      "  warnings.warn('A date index has been provided, but it has no'\n",
      "/home/tanveer/anaconda3/lib/python3.8/site-packages/statsmodels/tsa/base/tsa_model.py:581: ValueWarning: A date index has been provided, but it has no associated frequency information and so will be ignored when e.g. forecasting.\n",
      "  warnings.warn('A date index has been provided, but it has no'\n",
      "/home/tanveer/anaconda3/lib/python3.8/site-packages/statsmodels/tsa/base/tsa_model.py:581: ValueWarning: A date index has been provided, but it has no associated frequency information and so will be ignored when e.g. forecasting.\n",
      "  warnings.warn('A date index has been provided, but it has no'\n",
      "/home/tanveer/anaconda3/lib/python3.8/site-packages/statsmodels/tsa/base/tsa_model.py:581: ValueWarning: A date index has been provided, but it has no associated frequency information and so will be ignored when e.g. forecasting.\n",
      "  warnings.warn('A date index has been provided, but it has no'\n",
      "/home/tanveer/anaconda3/lib/python3.8/site-packages/statsmodels/tsa/base/tsa_model.py:581: ValueWarning: A date index has been provided, but it has no associated frequency information and so will be ignored when e.g. forecasting.\n",
      "  warnings.warn('A date index has been provided, but it has no'\n",
      "/home/tanveer/anaconda3/lib/python3.8/site-packages/statsmodels/tsa/base/tsa_model.py:581: ValueWarning: A date index has been provided, but it has no associated frequency information and so will be ignored when e.g. forecasting.\n",
      "  warnings.warn('A date index has been provided, but it has no'\n",
      "/home/tanveer/anaconda3/lib/python3.8/site-packages/statsmodels/tsa/base/tsa_model.py:581: ValueWarning: A date index has been provided, but it has no associated frequency information and so will be ignored when e.g. forecasting.\n",
      "  warnings.warn('A date index has been provided, but it has no'\n",
      "/home/tanveer/anaconda3/lib/python3.8/site-packages/statsmodels/tsa/base/tsa_model.py:581: ValueWarning: A date index has been provided, but it has no associated frequency information and so will be ignored when e.g. forecasting.\n",
      "  warnings.warn('A date index has been provided, but it has no'\n",
      "/home/tanveer/anaconda3/lib/python3.8/site-packages/statsmodels/tsa/base/tsa_model.py:581: ValueWarning: A date index has been provided, but it has no associated frequency information and so will be ignored when e.g. forecasting.\n",
      "  warnings.warn('A date index has been provided, but it has no'\n",
      "/home/tanveer/anaconda3/lib/python3.8/site-packages/statsmodels/tsa/base/tsa_model.py:581: ValueWarning: A date index has been provided, but it has no associated frequency information and so will be ignored when e.g. forecasting.\n",
      "  warnings.warn('A date index has been provided, but it has no'\n",
      "/home/tanveer/anaconda3/lib/python3.8/site-packages/statsmodels/tsa/base/tsa_model.py:581: ValueWarning: A date index has been provided, but it has no associated frequency information and so will be ignored when e.g. forecasting.\n",
      "  warnings.warn('A date index has been provided, but it has no'\n",
      "/home/tanveer/anaconda3/lib/python3.8/site-packages/statsmodels/tsa/base/tsa_model.py:581: ValueWarning: A date index has been provided, but it has no associated frequency information and so will be ignored when e.g. forecasting.\n",
      "  warnings.warn('A date index has been provided, but it has no'\n",
      "/home/tanveer/anaconda3/lib/python3.8/site-packages/statsmodels/tsa/base/tsa_model.py:581: ValueWarning: A date index has been provided, but it has no associated frequency information and so will be ignored when e.g. forecasting.\n",
      "  warnings.warn('A date index has been provided, but it has no'\n",
      "/home/tanveer/anaconda3/lib/python3.8/site-packages/statsmodels/tsa/base/tsa_model.py:581: ValueWarning: A date index has been provided, but it has no associated frequency information and so will be ignored when e.g. forecasting.\n",
      "  warnings.warn('A date index has been provided, but it has no'\n",
      "/home/tanveer/anaconda3/lib/python3.8/site-packages/statsmodels/tsa/base/tsa_model.py:581: ValueWarning: A date index has been provided, but it has no associated frequency information and so will be ignored when e.g. forecasting.\n",
      "  warnings.warn('A date index has been provided, but it has no'\n",
      "/home/tanveer/anaconda3/lib/python3.8/site-packages/statsmodels/tsa/base/tsa_model.py:581: ValueWarning: A date index has been provided, but it has no associated frequency information and so will be ignored when e.g. forecasting.\n",
      "  warnings.warn('A date index has been provided, but it has no'\n",
      "/home/tanveer/anaconda3/lib/python3.8/site-packages/statsmodels/tsa/base/tsa_model.py:581: ValueWarning: A date index has been provided, but it has no associated frequency information and so will be ignored when e.g. forecasting.\n",
      "  warnings.warn('A date index has been provided, but it has no'\n",
      "/home/tanveer/anaconda3/lib/python3.8/site-packages/statsmodels/tsa/base/tsa_model.py:581: ValueWarning: A date index has been provided, but it has no associated frequency information and so will be ignored when e.g. forecasting.\n",
      "  warnings.warn('A date index has been provided, but it has no'\n",
      "/home/tanveer/anaconda3/lib/python3.8/site-packages/statsmodels/tsa/base/tsa_model.py:581: ValueWarning: A date index has been provided, but it has no associated frequency information and so will be ignored when e.g. forecasting.\n",
      "  warnings.warn('A date index has been provided, but it has no'\n",
      "/home/tanveer/anaconda3/lib/python3.8/site-packages/statsmodels/tsa/base/tsa_model.py:581: ValueWarning: A date index has been provided, but it has no associated frequency information and so will be ignored when e.g. forecasting.\n",
      "  warnings.warn('A date index has been provided, but it has no'\n",
      "/home/tanveer/anaconda3/lib/python3.8/site-packages/statsmodels/tsa/base/tsa_model.py:581: ValueWarning: A date index has been provided, but it has no associated frequency information and so will be ignored when e.g. forecasting.\n",
      "  warnings.warn('A date index has been provided, but it has no'\n",
      "/home/tanveer/anaconda3/lib/python3.8/site-packages/statsmodels/tsa/base/tsa_model.py:581: ValueWarning: A date index has been provided, but it has no associated frequency information and so will be ignored when e.g. forecasting.\n",
      "  warnings.warn('A date index has been provided, but it has no'\n",
      "/home/tanveer/anaconda3/lib/python3.8/site-packages/statsmodels/tsa/base/tsa_model.py:581: ValueWarning: A date index has been provided, but it has no associated frequency information and so will be ignored when e.g. forecasting.\n",
      "  warnings.warn('A date index has been provided, but it has no'\n",
      "/home/tanveer/anaconda3/lib/python3.8/site-packages/statsmodels/tsa/base/tsa_model.py:581: ValueWarning: A date index has been provided, but it has no associated frequency information and so will be ignored when e.g. forecasting.\n",
      "  warnings.warn('A date index has been provided, but it has no'\n",
      "/home/tanveer/anaconda3/lib/python3.8/site-packages/statsmodels/tsa/base/tsa_model.py:581: ValueWarning: A date index has been provided, but it has no associated frequency information and so will be ignored when e.g. forecasting.\n",
      "  warnings.warn('A date index has been provided, but it has no'\n",
      "/home/tanveer/anaconda3/lib/python3.8/site-packages/statsmodels/tsa/base/tsa_model.py:581: ValueWarning: A date index has been provided, but it has no associated frequency information and so will be ignored when e.g. forecasting.\n",
      "  warnings.warn('A date index has been provided, but it has no'\n",
      "/home/tanveer/anaconda3/lib/python3.8/site-packages/statsmodels/tsa/base/tsa_model.py:581: ValueWarning: A date index has been provided, but it has no associated frequency information and so will be ignored when e.g. forecasting.\n",
      "  warnings.warn('A date index has been provided, but it has no'\n",
      "/home/tanveer/anaconda3/lib/python3.8/site-packages/statsmodels/tsa/base/tsa_model.py:581: ValueWarning: A date index has been provided, but it has no associated frequency information and so will be ignored when e.g. forecasting.\n",
      "  warnings.warn('A date index has been provided, but it has no'\n",
      "/home/tanveer/anaconda3/lib/python3.8/site-packages/statsmodels/tsa/base/tsa_model.py:581: ValueWarning: A date index has been provided, but it has no associated frequency information and so will be ignored when e.g. forecasting.\n",
      "  warnings.warn('A date index has been provided, but it has no'\n",
      "/home/tanveer/anaconda3/lib/python3.8/site-packages/statsmodels/tsa/base/tsa_model.py:581: ValueWarning: A date index has been provided, but it has no associated frequency information and so will be ignored when e.g. forecasting.\n",
      "  warnings.warn('A date index has been provided, but it has no'\n",
      "/home/tanveer/anaconda3/lib/python3.8/site-packages/statsmodels/tsa/base/tsa_model.py:581: ValueWarning: A date index has been provided, but it has no associated frequency information and so will be ignored when e.g. forecasting.\n",
      "  warnings.warn('A date index has been provided, but it has no'\n",
      "/home/tanveer/anaconda3/lib/python3.8/site-packages/statsmodels/tsa/base/tsa_model.py:581: ValueWarning: A date index has been provided, but it has no associated frequency information and so will be ignored when e.g. forecasting.\n",
      "  warnings.warn('A date index has been provided, but it has no'\n",
      "/home/tanveer/anaconda3/lib/python3.8/site-packages/statsmodels/tsa/base/tsa_model.py:581: ValueWarning: A date index has been provided, but it has no associated frequency information and so will be ignored when e.g. forecasting.\n",
      "  warnings.warn('A date index has been provided, but it has no'\n",
      "/home/tanveer/anaconda3/lib/python3.8/site-packages/statsmodels/tsa/base/tsa_model.py:581: ValueWarning: A date index has been provided, but it has no associated frequency information and so will be ignored when e.g. forecasting.\n",
      "  warnings.warn('A date index has been provided, but it has no'\n",
      "/home/tanveer/anaconda3/lib/python3.8/site-packages/statsmodels/tsa/base/tsa_model.py:581: ValueWarning: A date index has been provided, but it has no associated frequency information and so will be ignored when e.g. forecasting.\n",
      "  warnings.warn('A date index has been provided, but it has no'\n",
      "/home/tanveer/anaconda3/lib/python3.8/site-packages/statsmodels/tsa/base/tsa_model.py:581: ValueWarning: A date index has been provided, but it has no associated frequency information and so will be ignored when e.g. forecasting.\n",
      "  warnings.warn('A date index has been provided, but it has no'\n",
      "/home/tanveer/anaconda3/lib/python3.8/site-packages/statsmodels/tsa/base/tsa_model.py:581: ValueWarning: A date index has been provided, but it has no associated frequency information and so will be ignored when e.g. forecasting.\n",
      "  warnings.warn('A date index has been provided, but it has no'\n",
      "/home/tanveer/anaconda3/lib/python3.8/site-packages/statsmodels/tsa/base/tsa_model.py:581: ValueWarning: A date index has been provided, but it has no associated frequency information and so will be ignored when e.g. forecasting.\n",
      "  warnings.warn('A date index has been provided, but it has no'\n",
      "/home/tanveer/anaconda3/lib/python3.8/site-packages/statsmodels/tsa/base/tsa_model.py:581: ValueWarning: A date index has been provided, but it has no associated frequency information and so will be ignored when e.g. forecasting.\n",
      "  warnings.warn('A date index has been provided, but it has no'\n",
      "/home/tanveer/anaconda3/lib/python3.8/site-packages/statsmodels/tsa/base/tsa_model.py:581: ValueWarning: A date index has been provided, but it has no associated frequency information and so will be ignored when e.g. forecasting.\n",
      "  warnings.warn('A date index has been provided, but it has no'\n",
      "/home/tanveer/anaconda3/lib/python3.8/site-packages/statsmodels/tsa/base/tsa_model.py:581: ValueWarning: A date index has been provided, but it has no associated frequency information and so will be ignored when e.g. forecasting.\n",
      "  warnings.warn('A date index has been provided, but it has no'\n",
      "/home/tanveer/anaconda3/lib/python3.8/site-packages/statsmodels/tsa/base/tsa_model.py:581: ValueWarning: A date index has been provided, but it has no associated frequency information and so will be ignored when e.g. forecasting.\n",
      "  warnings.warn('A date index has been provided, but it has no'\n",
      "/home/tanveer/anaconda3/lib/python3.8/site-packages/statsmodels/tsa/base/tsa_model.py:581: ValueWarning: A date index has been provided, but it has no associated frequency information and so will be ignored when e.g. forecasting.\n",
      "  warnings.warn('A date index has been provided, but it has no'\n",
      "/home/tanveer/anaconda3/lib/python3.8/site-packages/statsmodels/tsa/base/tsa_model.py:581: ValueWarning: A date index has been provided, but it has no associated frequency information and so will be ignored when e.g. forecasting.\n",
      "  warnings.warn('A date index has been provided, but it has no'\n",
      "/home/tanveer/anaconda3/lib/python3.8/site-packages/statsmodels/tsa/base/tsa_model.py:581: ValueWarning: A date index has been provided, but it has no associated frequency information and so will be ignored when e.g. forecasting.\n",
      "  warnings.warn('A date index has been provided, but it has no'\n",
      "/home/tanveer/anaconda3/lib/python3.8/site-packages/statsmodels/tsa/base/tsa_model.py:581: ValueWarning: A date index has been provided, but it has no associated frequency information and so will be ignored when e.g. forecasting.\n",
      "  warnings.warn('A date index has been provided, but it has no'\n",
      "/home/tanveer/anaconda3/lib/python3.8/site-packages/statsmodels/tsa/base/tsa_model.py:581: ValueWarning: A date index has been provided, but it has no associated frequency information and so will be ignored when e.g. forecasting.\n",
      "  warnings.warn('A date index has been provided, but it has no'\n",
      "/home/tanveer/anaconda3/lib/python3.8/site-packages/statsmodels/tsa/base/tsa_model.py:581: ValueWarning: A date index has been provided, but it has no associated frequency information and so will be ignored when e.g. forecasting.\n",
      "  warnings.warn('A date index has been provided, but it has no'\n",
      "/home/tanveer/anaconda3/lib/python3.8/site-packages/statsmodels/tsa/base/tsa_model.py:581: ValueWarning: A date index has been provided, but it has no associated frequency information and so will be ignored when e.g. forecasting.\n",
      "  warnings.warn('A date index has been provided, but it has no'\n",
      "/home/tanveer/anaconda3/lib/python3.8/site-packages/statsmodels/tsa/base/tsa_model.py:581: ValueWarning: A date index has been provided, but it has no associated frequency information and so will be ignored when e.g. forecasting.\n",
      "  warnings.warn('A date index has been provided, but it has no'\n",
      "/home/tanveer/anaconda3/lib/python3.8/site-packages/statsmodels/tsa/base/tsa_model.py:581: ValueWarning: A date index has been provided, but it has no associated frequency information and so will be ignored when e.g. forecasting.\n",
      "  warnings.warn('A date index has been provided, but it has no'\n",
      "/home/tanveer/anaconda3/lib/python3.8/site-packages/statsmodels/tsa/base/tsa_model.py:581: ValueWarning: A date index has been provided, but it has no associated frequency information and so will be ignored when e.g. forecasting.\n",
      "  warnings.warn('A date index has been provided, but it has no'\n",
      "/home/tanveer/anaconda3/lib/python3.8/site-packages/statsmodels/tsa/base/tsa_model.py:581: ValueWarning: A date index has been provided, but it has no associated frequency information and so will be ignored when e.g. forecasting.\n",
      "  warnings.warn('A date index has been provided, but it has no'\n",
      "/home/tanveer/anaconda3/lib/python3.8/site-packages/statsmodels/tsa/base/tsa_model.py:581: ValueWarning: A date index has been provided, but it has no associated frequency information and so will be ignored when e.g. forecasting.\n",
      "  warnings.warn('A date index has been provided, but it has no'\n",
      "/home/tanveer/anaconda3/lib/python3.8/site-packages/statsmodels/tsa/base/tsa_model.py:581: ValueWarning: A date index has been provided, but it has no associated frequency information and so will be ignored when e.g. forecasting.\n",
      "  warnings.warn('A date index has been provided, but it has no'\n",
      "/home/tanveer/anaconda3/lib/python3.8/site-packages/statsmodels/tsa/base/tsa_model.py:581: ValueWarning: A date index has been provided, but it has no associated frequency information and so will be ignored when e.g. forecasting.\n",
      "  warnings.warn('A date index has been provided, but it has no'\n",
      "/home/tanveer/anaconda3/lib/python3.8/site-packages/statsmodels/tsa/base/tsa_model.py:581: ValueWarning: A date index has been provided, but it has no associated frequency information and so will be ignored when e.g. forecasting.\n",
      "  warnings.warn('A date index has been provided, but it has no'\n",
      "/home/tanveer/anaconda3/lib/python3.8/site-packages/statsmodels/tsa/base/tsa_model.py:581: ValueWarning: A date index has been provided, but it has no associated frequency information and so will be ignored when e.g. forecasting.\n",
      "  warnings.warn('A date index has been provided, but it has no'\n",
      "/home/tanveer/anaconda3/lib/python3.8/site-packages/statsmodels/tsa/base/tsa_model.py:581: ValueWarning: A date index has been provided, but it has no associated frequency information and so will be ignored when e.g. forecasting.\n",
      "  warnings.warn('A date index has been provided, but it has no'\n",
      "/home/tanveer/anaconda3/lib/python3.8/site-packages/statsmodels/tsa/base/tsa_model.py:581: ValueWarning: A date index has been provided, but it has no associated frequency information and so will be ignored when e.g. forecasting.\n",
      "  warnings.warn('A date index has been provided, but it has no'\n",
      "/home/tanveer/anaconda3/lib/python3.8/site-packages/statsmodels/tsa/base/tsa_model.py:581: ValueWarning: A date index has been provided, but it has no associated frequency information and so will be ignored when e.g. forecasting.\n",
      "  warnings.warn('A date index has been provided, but it has no'\n",
      "/home/tanveer/anaconda3/lib/python3.8/site-packages/statsmodels/tsa/base/tsa_model.py:581: ValueWarning: A date index has been provided, but it has no associated frequency information and so will be ignored when e.g. forecasting.\n",
      "  warnings.warn('A date index has been provided, but it has no'\n",
      "/home/tanveer/anaconda3/lib/python3.8/site-packages/statsmodels/tsa/base/tsa_model.py:581: ValueWarning: A date index has been provided, but it has no associated frequency information and so will be ignored when e.g. forecasting.\n",
      "  warnings.warn('A date index has been provided, but it has no'\n",
      "/home/tanveer/anaconda3/lib/python3.8/site-packages/statsmodels/tsa/base/tsa_model.py:581: ValueWarning: A date index has been provided, but it has no associated frequency information and so will be ignored when e.g. forecasting.\n",
      "  warnings.warn('A date index has been provided, but it has no'\n",
      "/home/tanveer/anaconda3/lib/python3.8/site-packages/statsmodels/tsa/base/tsa_model.py:581: ValueWarning: A date index has been provided, but it has no associated frequency information and so will be ignored when e.g. forecasting.\n",
      "  warnings.warn('A date index has been provided, but it has no'\n",
      "/home/tanveer/anaconda3/lib/python3.8/site-packages/statsmodels/tsa/base/tsa_model.py:581: ValueWarning: A date index has been provided, but it has no associated frequency information and so will be ignored when e.g. forecasting.\n",
      "  warnings.warn('A date index has been provided, but it has no'\n",
      "/home/tanveer/anaconda3/lib/python3.8/site-packages/statsmodels/tsa/base/tsa_model.py:581: ValueWarning: A date index has been provided, but it has no associated frequency information and so will be ignored when e.g. forecasting.\n",
      "  warnings.warn('A date index has been provided, but it has no'\n",
      "/home/tanveer/anaconda3/lib/python3.8/site-packages/statsmodels/tsa/base/tsa_model.py:581: ValueWarning: A date index has been provided, but it has no associated frequency information and so will be ignored when e.g. forecasting.\n",
      "  warnings.warn('A date index has been provided, but it has no'\n",
      "/home/tanveer/anaconda3/lib/python3.8/site-packages/statsmodels/tsa/base/tsa_model.py:581: ValueWarning: A date index has been provided, but it has no associated frequency information and so will be ignored when e.g. forecasting.\n",
      "  warnings.warn('A date index has been provided, but it has no'\n",
      "/home/tanveer/anaconda3/lib/python3.8/site-packages/statsmodels/tsa/base/tsa_model.py:581: ValueWarning: A date index has been provided, but it has no associated frequency information and so will be ignored when e.g. forecasting.\n",
      "  warnings.warn('A date index has been provided, but it has no'\n",
      "/home/tanveer/anaconda3/lib/python3.8/site-packages/statsmodels/tsa/base/tsa_model.py:581: ValueWarning: A date index has been provided, but it has no associated frequency information and so will be ignored when e.g. forecasting.\n",
      "  warnings.warn('A date index has been provided, but it has no'\n",
      "/home/tanveer/anaconda3/lib/python3.8/site-packages/statsmodels/tsa/base/tsa_model.py:581: ValueWarning: A date index has been provided, but it has no associated frequency information and so will be ignored when e.g. forecasting.\n",
      "  warnings.warn('A date index has been provided, but it has no'\n",
      "/home/tanveer/anaconda3/lib/python3.8/site-packages/statsmodels/tsa/base/tsa_model.py:581: ValueWarning: A date index has been provided, but it has no associated frequency information and so will be ignored when e.g. forecasting.\n",
      "  warnings.warn('A date index has been provided, but it has no'\n",
      "/home/tanveer/anaconda3/lib/python3.8/site-packages/statsmodels/tsa/base/tsa_model.py:581: ValueWarning: A date index has been provided, but it has no associated frequency information and so will be ignored when e.g. forecasting.\n",
      "  warnings.warn('A date index has been provided, but it has no'\n",
      "/home/tanveer/anaconda3/lib/python3.8/site-packages/statsmodels/tsa/base/tsa_model.py:581: ValueWarning: A date index has been provided, but it has no associated frequency information and so will be ignored when e.g. forecasting.\n",
      "  warnings.warn('A date index has been provided, but it has no'\n",
      "/home/tanveer/anaconda3/lib/python3.8/site-packages/statsmodels/tsa/base/tsa_model.py:581: ValueWarning: A date index has been provided, but it has no associated frequency information and so will be ignored when e.g. forecasting.\n",
      "  warnings.warn('A date index has been provided, but it has no'\n",
      "/home/tanveer/anaconda3/lib/python3.8/site-packages/statsmodels/tsa/base/tsa_model.py:581: ValueWarning: A date index has been provided, but it has no associated frequency information and so will be ignored when e.g. forecasting.\n",
      "  warnings.warn('A date index has been provided, but it has no'\n",
      "/home/tanveer/anaconda3/lib/python3.8/site-packages/statsmodels/tsa/base/tsa_model.py:581: ValueWarning: A date index has been provided, but it has no associated frequency information and so will be ignored when e.g. forecasting.\n",
      "  warnings.warn('A date index has been provided, but it has no'\n",
      "/home/tanveer/anaconda3/lib/python3.8/site-packages/statsmodels/tsa/base/tsa_model.py:581: ValueWarning: A date index has been provided, but it has no associated frequency information and so will be ignored when e.g. forecasting.\n",
      "  warnings.warn('A date index has been provided, but it has no'\n",
      "/home/tanveer/anaconda3/lib/python3.8/site-packages/statsmodels/tsa/base/tsa_model.py:581: ValueWarning: A date index has been provided, but it has no associated frequency information and so will be ignored when e.g. forecasting.\n",
      "  warnings.warn('A date index has been provided, but it has no'\n",
      "/home/tanveer/anaconda3/lib/python3.8/site-packages/statsmodels/tsa/base/tsa_model.py:581: ValueWarning: A date index has been provided, but it has no associated frequency information and so will be ignored when e.g. forecasting.\n",
      "  warnings.warn('A date index has been provided, but it has no'\n",
      "/home/tanveer/anaconda3/lib/python3.8/site-packages/statsmodels/tsa/base/tsa_model.py:581: ValueWarning: A date index has been provided, but it has no associated frequency information and so will be ignored when e.g. forecasting.\n",
      "  warnings.warn('A date index has been provided, but it has no'\n",
      "/home/tanveer/anaconda3/lib/python3.8/site-packages/statsmodels/tsa/base/tsa_model.py:581: ValueWarning: A date index has been provided, but it has no associated frequency information and so will be ignored when e.g. forecasting.\n",
      "  warnings.warn('A date index has been provided, but it has no'\n",
      "/home/tanveer/anaconda3/lib/python3.8/site-packages/statsmodels/tsa/base/tsa_model.py:581: ValueWarning: A date index has been provided, but it has no associated frequency information and so will be ignored when e.g. forecasting.\n",
      "  warnings.warn('A date index has been provided, but it has no'\n",
      "/home/tanveer/anaconda3/lib/python3.8/site-packages/statsmodels/tsa/base/tsa_model.py:581: ValueWarning: A date index has been provided, but it has no associated frequency information and so will be ignored when e.g. forecasting.\n",
      "  warnings.warn('A date index has been provided, but it has no'\n",
      "/home/tanveer/anaconda3/lib/python3.8/site-packages/statsmodels/tsa/base/tsa_model.py:581: ValueWarning: A date index has been provided, but it has no associated frequency information and so will be ignored when e.g. forecasting.\n",
      "  warnings.warn('A date index has been provided, but it has no'\n",
      "/home/tanveer/anaconda3/lib/python3.8/site-packages/statsmodels/tsa/base/tsa_model.py:581: ValueWarning: A date index has been provided, but it has no associated frequency information and so will be ignored when e.g. forecasting.\n",
      "  warnings.warn('A date index has been provided, but it has no'\n",
      "/home/tanveer/anaconda3/lib/python3.8/site-packages/statsmodels/tsa/base/tsa_model.py:581: ValueWarning: A date index has been provided, but it has no associated frequency information and so will be ignored when e.g. forecasting.\n",
      "  warnings.warn('A date index has been provided, but it has no'\n",
      "/home/tanveer/anaconda3/lib/python3.8/site-packages/statsmodels/tsa/base/tsa_model.py:581: ValueWarning: A date index has been provided, but it has no associated frequency information and so will be ignored when e.g. forecasting.\n",
      "  warnings.warn('A date index has been provided, but it has no'\n",
      "/home/tanveer/anaconda3/lib/python3.8/site-packages/statsmodels/tsa/base/tsa_model.py:581: ValueWarning: A date index has been provided, but it has no associated frequency information and so will be ignored when e.g. forecasting.\n",
      "  warnings.warn('A date index has been provided, but it has no'\n",
      "/home/tanveer/anaconda3/lib/python3.8/site-packages/statsmodels/tsa/base/tsa_model.py:581: ValueWarning: A date index has been provided, but it has no associated frequency information and so will be ignored when e.g. forecasting.\n",
      "  warnings.warn('A date index has been provided, but it has no'\n",
      "/home/tanveer/anaconda3/lib/python3.8/site-packages/statsmodels/tsa/base/tsa_model.py:581: ValueWarning: A date index has been provided, but it has no associated frequency information and so will be ignored when e.g. forecasting.\n",
      "  warnings.warn('A date index has been provided, but it has no'\n",
      "/home/tanveer/anaconda3/lib/python3.8/site-packages/statsmodels/tsa/base/tsa_model.py:581: ValueWarning: A date index has been provided, but it has no associated frequency information and so will be ignored when e.g. forecasting.\n",
      "  warnings.warn('A date index has been provided, but it has no'\n",
      "/home/tanveer/anaconda3/lib/python3.8/site-packages/statsmodels/tsa/base/tsa_model.py:581: ValueWarning: A date index has been provided, but it has no associated frequency information and so will be ignored when e.g. forecasting.\n",
      "  warnings.warn('A date index has been provided, but it has no'\n",
      "/home/tanveer/anaconda3/lib/python3.8/site-packages/statsmodels/tsa/base/tsa_model.py:581: ValueWarning: A date index has been provided, but it has no associated frequency information and so will be ignored when e.g. forecasting.\n",
      "  warnings.warn('A date index has been provided, but it has no'\n",
      "/home/tanveer/anaconda3/lib/python3.8/site-packages/statsmodels/tsa/base/tsa_model.py:581: ValueWarning: A date index has been provided, but it has no associated frequency information and so will be ignored when e.g. forecasting.\n",
      "  warnings.warn('A date index has been provided, but it has no'\n",
      "/home/tanveer/anaconda3/lib/python3.8/site-packages/statsmodels/tsa/base/tsa_model.py:581: ValueWarning: A date index has been provided, but it has no associated frequency information and so will be ignored when e.g. forecasting.\n",
      "  warnings.warn('A date index has been provided, but it has no'\n",
      "/home/tanveer/anaconda3/lib/python3.8/site-packages/statsmodels/tsa/base/tsa_model.py:581: ValueWarning: A date index has been provided, but it has no associated frequency information and so will be ignored when e.g. forecasting.\n",
      "  warnings.warn('A date index has been provided, but it has no'\n",
      "/home/tanveer/anaconda3/lib/python3.8/site-packages/statsmodels/tsa/base/tsa_model.py:581: ValueWarning: A date index has been provided, but it has no associated frequency information and so will be ignored when e.g. forecasting.\n",
      "  warnings.warn('A date index has been provided, but it has no'\n",
      "/home/tanveer/anaconda3/lib/python3.8/site-packages/statsmodels/tsa/base/tsa_model.py:581: ValueWarning: A date index has been provided, but it has no associated frequency information and so will be ignored when e.g. forecasting.\n",
      "  warnings.warn('A date index has been provided, but it has no'\n",
      "/home/tanveer/anaconda3/lib/python3.8/site-packages/statsmodels/tsa/base/tsa_model.py:581: ValueWarning: A date index has been provided, but it has no associated frequency information and so will be ignored when e.g. forecasting.\n",
      "  warnings.warn('A date index has been provided, but it has no'\n",
      "/home/tanveer/anaconda3/lib/python3.8/site-packages/statsmodels/tsa/base/tsa_model.py:581: ValueWarning: A date index has been provided, but it has no associated frequency information and so will be ignored when e.g. forecasting.\n",
      "  warnings.warn('A date index has been provided, but it has no'\n",
      "/home/tanveer/anaconda3/lib/python3.8/site-packages/statsmodels/tsa/base/tsa_model.py:581: ValueWarning: A date index has been provided, but it has no associated frequency information and so will be ignored when e.g. forecasting.\n",
      "  warnings.warn('A date index has been provided, but it has no'\n",
      "/home/tanveer/anaconda3/lib/python3.8/site-packages/statsmodels/tsa/base/tsa_model.py:581: ValueWarning: A date index has been provided, but it has no associated frequency information and so will be ignored when e.g. forecasting.\n",
      "  warnings.warn('A date index has been provided, but it has no'\n",
      "/home/tanveer/anaconda3/lib/python3.8/site-packages/statsmodels/tsa/base/tsa_model.py:581: ValueWarning: A date index has been provided, but it has no associated frequency information and so will be ignored when e.g. forecasting.\n",
      "  warnings.warn('A date index has been provided, but it has no'\n",
      "/home/tanveer/anaconda3/lib/python3.8/site-packages/statsmodels/tsa/base/tsa_model.py:581: ValueWarning: A date index has been provided, but it has no associated frequency information and so will be ignored when e.g. forecasting.\n",
      "  warnings.warn('A date index has been provided, but it has no'\n",
      "/home/tanveer/anaconda3/lib/python3.8/site-packages/statsmodels/tsa/base/tsa_model.py:581: ValueWarning: A date index has been provided, but it has no associated frequency information and so will be ignored when e.g. forecasting.\n",
      "  warnings.warn('A date index has been provided, but it has no'\n",
      "/home/tanveer/anaconda3/lib/python3.8/site-packages/statsmodels/tsa/base/tsa_model.py:581: ValueWarning: A date index has been provided, but it has no associated frequency information and so will be ignored when e.g. forecasting.\n",
      "  warnings.warn('A date index has been provided, but it has no'\n",
      "/home/tanveer/anaconda3/lib/python3.8/site-packages/statsmodels/tsa/base/tsa_model.py:581: ValueWarning: A date index has been provided, but it has no associated frequency information and so will be ignored when e.g. forecasting.\n",
      "  warnings.warn('A date index has been provided, but it has no'\n",
      "/home/tanveer/anaconda3/lib/python3.8/site-packages/statsmodels/tsa/base/tsa_model.py:581: ValueWarning: A date index has been provided, but it has no associated frequency information and so will be ignored when e.g. forecasting.\n",
      "  warnings.warn('A date index has been provided, but it has no'\n"
     ]
    }
   ],
   "source": [
    "# gridsearch over values for level, slope, damping between 0-1 \n",
    "smoothing_levels = [0.01,0.1,0.2,0.4,0.8]\n",
    "smoothing_slope= [0.01,0.1,0.2,0.4,0.8]\n",
    "damped_trends = [0.01,0.1,0.2,0.4,0.8]\n",
    "best_aic = 99 * (10 ** 16)\n",
    "best_sl = None\n",
    "best_ss = None\n",
    "best_dt =None\n",
    "# iterate through defined areas values \n",
    "for sl in smoothing_levels:\n",
    "    for ss in smoothing_slope:\n",
    "        for dt in damped_trends:\n",
    "            holt= Holt(endog=y_train,damped_trend=dt)\n",
    "            holt_results = holt.fit(smoothing_level=sl, smoothing_slope=ss,optimized=True)\n",
    "            if holt_results.aic < best_aic:\n",
    "                best_aic = holt_results.aic\n",
    "                best_sl = sl\n",
    "                best_ss = ss\n",
    "                best_dt =dt\n",
    "            "
   ]
  },
  {
   "cell_type": "code",
   "execution_count": 239,
   "id": "10db2df2-285d-4c6a-addb-bb15e612767d",
   "metadata": {
    "execution": {
     "iopub.execute_input": "2021-08-27T03:51:32.681262Z",
     "iopub.status.busy": "2021-08-27T03:51:32.681070Z",
     "iopub.status.idle": "2021-08-27T03:51:32.685486Z",
     "shell.execute_reply": "2021-08-27T03:51:32.684849Z",
     "shell.execute_reply.started": "2021-08-27T03:51:32.681245Z"
    },
    "tags": []
   },
   "outputs": [],
   "source": [
    "# holt1_results.predict(y_train)"
   ]
  },
  {
   "cell_type": "markdown",
   "id": "1709d1a4-88ed-4204-960e-55bf5586e4df",
   "metadata": {},
   "source": [
    "# Predictions \n",
    "\n",
    "- fit best model \n",
    "- get predictions \n",
    "- use original data to transform predictions to prices \n",
    "- plot actual vs predicted "
   ]
  },
  {
   "cell_type": "code",
   "execution_count": null,
   "id": "018c270e-379f-43ae-80e4-7e57dae2bcbe",
   "metadata": {},
   "outputs": [],
   "source": [
    "def show_plot(plot_data, delta, title):\n",
    "    labels = [\"History\", \"True Future\", \"Model Prediction\"]\n",
    "    marker = [\".-\", \"rx\", \"go\"]\n",
    "    time_steps = list(range(-(plot_data[0].shape[0]), 0))\n",
    "    if delta:\n",
    "        future = delta\n",
    "    else:\n",
    "        future = 0\n",
    "\n",
    "    plt.title(title)\n",
    "    for i, val in enumerate(plot_data):\n",
    "        if i:\n",
    "            plt.plot(future, plot_data[i], marker[i], markersize=10, label=labels[i])\n",
    "        else:\n",
    "            plt.plot(time_steps, plot_data[i].flatten(), marker[i], label=labels[i])\n",
    "    plt.legend()\n",
    "    plt.xlim([time_steps[0], (future + 5) * 2])\n",
    "    plt.xlabel(\"Time-Step\")\n",
    "    plt.show()\n",
    "    return\n",
    "\n",
    "\n",
    "for x, y in dataset_val.take(5):\n",
    "    show_plot(\n",
    "        [x[0][:, 1].numpy(), y[0].numpy(), model.predict(x)[0]],\n",
    "        12,\n",
    "        \"Single Step Prediction\",\n",
    "    )"
   ]
  }
 ],
 "metadata": {
  "kernelspec": {
   "display_name": "Python 3",
   "language": "python",
   "name": "python3"
  },
  "language_info": {
   "codemirror_mode": {
    "name": "ipython",
    "version": 3
   },
   "file_extension": ".py",
   "mimetype": "text/x-python",
   "name": "python",
   "nbconvert_exporter": "python",
   "pygments_lexer": "ipython3",
   "version": "3.8.8"
  }
 },
 "nbformat": 4,
 "nbformat_minor": 5
}
