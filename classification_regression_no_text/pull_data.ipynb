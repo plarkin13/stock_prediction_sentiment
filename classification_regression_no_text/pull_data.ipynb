{
 "cells": [
  {
   "cell_type": "code",
   "execution_count": 1,
   "id": "738de42b-2bcb-444a-a005-fe7900b83656",
   "metadata": {
    "execution": {
     "iopub.execute_input": "2021-08-18T18:44:06.863503Z",
     "iopub.status.busy": "2021-08-18T18:44:06.863287Z",
     "iopub.status.idle": "2021-08-18T18:44:06.867456Z",
     "shell.execute_reply": "2021-08-18T18:44:06.866701Z",
     "shell.execute_reply.started": "2021-08-18T18:44:06.863446Z"
    },
    "tags": []
   },
   "outputs": [],
   "source": [
    "# pip install --upgrade pynytimes\n"
   ]
  },
  {
   "cell_type": "code",
   "execution_count": 2,
   "id": "a487f8d0-d959-4c7f-94b1-7b600d37f613",
   "metadata": {
    "execution": {
     "iopub.execute_input": "2021-08-18T18:44:32.493539Z",
     "iopub.status.busy": "2021-08-18T18:44:32.493363Z",
     "iopub.status.idle": "2021-08-18T18:44:32.711416Z",
     "shell.execute_reply": "2021-08-18T18:44:32.710729Z",
     "shell.execute_reply.started": "2021-08-18T18:44:32.493524Z"
    },
    "tags": []
   },
   "outputs": [],
   "source": [
    "import numpy as np\n",
    "import pandas as pd \n",
    "import datetime\n",
    "from pynytimes import NYTAPI"
   ]
  },
  {
   "cell_type": "code",
   "execution_count": 3,
   "id": "93978fb8-21cb-4e48-87bd-1b3b52321c7d",
   "metadata": {
    "execution": {
     "iopub.execute_input": "2021-08-18T18:44:34.484123Z",
     "iopub.status.busy": "2021-08-18T18:44:34.483944Z",
     "iopub.status.idle": "2021-08-18T18:44:34.498680Z",
     "shell.execute_reply": "2021-08-18T18:44:34.498053Z",
     "shell.execute_reply.started": "2021-08-18T18:44:34.484106Z"
    },
    "tags": []
   },
   "outputs": [],
   "source": [
    "# import api_key \n",
    "api_key = str(np.loadtxt('nyt_key.txt',dtype=str))"
   ]
  },
  {
   "cell_type": "code",
   "execution_count": 4,
   "id": "5317fa76-7c13-41f4-9fd2-be0eac4c7b13",
   "metadata": {
    "execution": {
     "iopub.execute_input": "2021-08-18T18:44:38.756136Z",
     "iopub.status.busy": "2021-08-18T18:44:38.755955Z",
     "iopub.status.idle": "2021-08-18T18:44:38.759604Z",
     "shell.execute_reply": "2021-08-18T18:44:38.758653Z",
     "shell.execute_reply.started": "2021-08-18T18:44:38.756119Z"
    },
    "tags": []
   },
   "outputs": [],
   "source": [
    "# initialze with api key \n",
    "nyt = NYTAPI(api_key,parse_dates=True)"
   ]
  },
  {
   "cell_type": "code",
   "execution_count": 68,
   "id": "d182cba6-8d1d-4a62-ab55-7cab6ed57615",
   "metadata": {
    "execution": {
     "iopub.execute_input": "2021-08-17T23:34:57.701221Z",
     "iopub.status.busy": "2021-08-17T23:34:57.700911Z",
     "iopub.status.idle": "2021-08-17T23:34:58.739457Z",
     "shell.execute_reply": "2021-08-17T23:34:58.738722Z",
     "shell.execute_reply.started": "2021-08-17T23:34:57.701204Z"
    },
    "tags": []
   },
   "outputs": [],
   "source": [
    "biz_sent = nyt.article_search(\n",
    "    #query=\"stock\", #currently looking up stock as search term\n",
    "    results = 20, #pulling 5 results\n",
    "    #need to add time component\n",
    "    dates={\n",
    "        #\"start\": datetime.datetime(2020,1,2 ),\n",
    "        \"end\": datetime.datetime(2021, 8, 17)}, # need to break up dates when running large amount in order to not pull repeat articles from earlier dates\n",
    "    options = {\n",
    "        \"sort\": \"relevance\",\n",
    "        \"sources\": [\n",
    "            \"New York Times\",\n",
    "            \"AP\",\n",
    "            \"Reuters\",\n",
    "            \"International Herald Tribune\"\n",
    "        ],\n",
    "        \"news_desk\": [\n",
    "            \"Business\"\n",
    "        ],\n",
    "        \"type_of_material\": [\n",
    "            \"News Analysis\", \"Summary\", \"Text\" ,\"News\", \"List\", \"Interview\", \"Article\"\n",
    "        ]\n",
    "    }\n",
    ")"
   ]
  },
  {
   "cell_type": "code",
   "execution_count": 69,
   "id": "ec6c1655-f35b-4227-bb30-c7c028b42f4e",
   "metadata": {
    "execution": {
     "iopub.execute_input": "2021-08-17T23:34:58.740625Z",
     "iopub.status.busy": "2021-08-17T23:34:58.740487Z",
     "iopub.status.idle": "2021-08-17T23:34:58.746625Z",
     "shell.execute_reply": "2021-08-17T23:34:58.745709Z",
     "shell.execute_reply.started": "2021-08-17T23:34:58.740609Z"
    },
    "tags": []
   },
   "outputs": [],
   "source": [
    "df = pd.DataFrame(biz_sent)"
   ]
  },
  {
   "cell_type": "code",
   "execution_count": 70,
   "id": "c4d536ff-b100-4f5d-8587-71fd3aa162d0",
   "metadata": {
    "collapsed": true,
    "execution": {
     "iopub.execute_input": "2021-08-17T23:34:58.747964Z",
     "iopub.status.busy": "2021-08-17T23:34:58.747805Z",
     "iopub.status.idle": "2021-08-17T23:34:58.753777Z",
     "shell.execute_reply": "2021-08-17T23:34:58.752788Z",
     "shell.execute_reply.started": "2021-08-17T23:34:58.747946Z"
    },
    "jupyter": {
     "outputs_hidden": true
    },
    "tags": []
   },
   "outputs": [
    {
     "data": {
      "text/plain": [
       "Index(['abstract', 'web_url', 'snippet', 'lead_paragraph', 'print_section',\n",
       "       'print_page', 'source', 'multimedia', 'headline', 'keywords',\n",
       "       'pub_date', 'document_type', 'news_desk', 'section_name', 'byline',\n",
       "       'type_of_material', '_id', 'word_count', 'uri', 'subsection_name'],\n",
       "      dtype='object')"
      ]
     },
     "execution_count": 70,
     "metadata": {},
     "output_type": "execute_result"
    }
   ],
   "source": [
    "df.columns"
   ]
  },
  {
   "cell_type": "code",
   "execution_count": 71,
   "id": "c015cbb4-49ca-4b96-8f31-ac341d170c05",
   "metadata": {
    "execution": {
     "iopub.execute_input": "2021-08-17T23:34:59.076490Z",
     "iopub.status.busy": "2021-08-17T23:34:59.076293Z",
     "iopub.status.idle": "2021-08-17T23:34:59.081478Z",
     "shell.execute_reply": "2021-08-17T23:34:59.080819Z",
     "shell.execute_reply.started": "2021-08-17T23:34:59.076473Z"
    },
    "tags": []
   },
   "outputs": [],
   "source": [
    "df= df[['lead_paragraph','web_url','pub_date','document_type',\n",
    "       'news_desk', 'section_name', 'type_of_material','word_count']]"
   ]
  },
  {
   "cell_type": "code",
   "execution_count": 72,
   "id": "ab11ac03-e6ee-4bf0-8fd8-e3055e4be56f",
   "metadata": {
    "collapsed": true,
    "execution": {
     "iopub.execute_input": "2021-08-17T23:35:02.492932Z",
     "iopub.status.busy": "2021-08-17T23:35:02.492706Z",
     "iopub.status.idle": "2021-08-17T23:35:02.498202Z",
     "shell.execute_reply": "2021-08-17T23:35:02.497564Z",
     "shell.execute_reply.started": "2021-08-17T23:35:02.492915Z"
    },
    "jupyter": {
     "outputs_hidden": true,
     "source_hidden": true
    },
    "tags": []
   },
   "outputs": [
    {
     "data": {
      "text/plain": [
       "(20, 8)"
      ]
     },
     "execution_count": 72,
     "metadata": {},
     "output_type": "execute_result"
    }
   ],
   "source": [
    "df.shape"
   ]
  },
  {
   "cell_type": "code",
   "execution_count": 73,
   "id": "3e005340-88f9-4390-8227-34dfae588e3b",
   "metadata": {
    "execution": {
     "iopub.execute_input": "2021-08-17T23:35:02.932656Z",
     "iopub.status.busy": "2021-08-17T23:35:02.932455Z",
     "iopub.status.idle": "2021-08-17T23:35:02.936880Z",
     "shell.execute_reply": "2021-08-17T23:35:02.936153Z",
     "shell.execute_reply.started": "2021-08-17T23:35:02.932638Z"
    },
    "jupyter": {
     "source_hidden": true
    },
    "tags": []
   },
   "outputs": [],
   "source": [
    "pd.set_option('max_colwidth',None)"
   ]
  },
  {
   "cell_type": "code",
   "execution_count": 95,
   "id": "4ca0faa3-bef6-4f15-9889-8f2970118f19",
   "metadata": {
    "collapsed": true,
    "execution": {
     "iopub.execute_input": "2021-08-17T23:49:25.299170Z",
     "iopub.status.busy": "2021-08-17T23:49:25.298978Z",
     "iopub.status.idle": "2021-08-17T23:49:25.305814Z",
     "shell.execute_reply": "2021-08-17T23:49:25.304951Z",
     "shell.execute_reply.started": "2021-08-17T23:49:25.299153Z"
    },
    "jupyter": {
     "outputs_hidden": true,
     "source_hidden": true
    },
    "tags": []
   },
   "outputs": [
    {
     "data": {
      "text/plain": [
       "0    2020-01-01 17:46:22+00:00\n",
       "1    2020-01-01 10:12:44+00:00\n",
       "2    2020-01-01 10:00:16+00:00\n",
       "3    2020-01-01 08:00:13+00:00\n",
       "4    2019-12-31 22:27:14+00:00\n",
       "5    2019-12-31 21:26:24+00:00\n",
       "6    2019-12-31 19:40:38+00:00\n",
       "7    2019-12-31 18:00:12+00:00\n",
       "8    2019-12-31 13:04:30+00:00\n",
       "9    2019-12-31 12:30:53+00:00\n",
       "10   2019-12-31 10:00:25+00:00\n",
       "11   2019-12-31 10:00:19+00:00\n",
       "12   2019-12-31 10:00:14+00:00\n",
       "13   2019-12-31 03:55:29+00:00\n",
       "14   2019-12-31 01:32:45+00:00\n",
       "15   2019-12-30 21:56:21+00:00\n",
       "16   2019-12-30 17:26:15+00:00\n",
       "17   2019-12-30 16:20:46+00:00\n",
       "18   2019-12-30 12:43:46+00:00\n",
       "19   2019-12-30 10:00:20+00:00\n",
       "Name: pub_date, dtype: datetime64[ns, UTC]"
      ]
     },
     "execution_count": 95,
     "metadata": {},
     "output_type": "execute_result"
    }
   ],
   "source": [
    "df.pub_date"
   ]
  },
  {
   "cell_type": "code",
   "execution_count": 96,
   "id": "ebfab0db-37ac-4b16-bb12-2beeb62783d9",
   "metadata": {
    "execution": {
     "iopub.execute_input": "2021-08-17T23:49:26.122533Z",
     "iopub.status.busy": "2021-08-17T23:49:26.122340Z",
     "iopub.status.idle": "2021-08-17T23:49:26.126110Z",
     "shell.execute_reply": "2021-08-17T23:49:26.125207Z",
     "shell.execute_reply.started": "2021-08-17T23:49:26.122516Z"
    },
    "jupyter": {
     "source_hidden": true
    },
    "tags": []
   },
   "outputs": [],
   "source": [
    "n= len(df)-1 # get index of last element from df "
   ]
  },
  {
   "cell_type": "code",
   "execution_count": 97,
   "id": "a1835d00-3eea-4f66-95f3-17abe5d6dc28",
   "metadata": {
    "execution": {
     "iopub.execute_input": "2021-08-17T23:49:26.834496Z",
     "iopub.status.busy": "2021-08-17T23:49:26.834253Z",
     "iopub.status.idle": "2021-08-17T23:49:26.838929Z",
     "shell.execute_reply": "2021-08-17T23:49:26.837941Z",
     "shell.execute_reply.started": "2021-08-17T23:49:26.834478Z"
    },
    "jupyter": {
     "source_hidden": true
    },
    "tags": []
   },
   "outputs": [],
   "source": [
    "last_date = df['pub_date'][n] # returns date of last search result\n",
    "# ASSUMPTION: results returned in order (make check for this?)"
   ]
  },
  {
   "cell_type": "code",
   "execution_count": 98,
   "id": "8362d8fc-1d67-4aec-9136-e62b1a16ef3d",
   "metadata": {
    "execution": {
     "iopub.execute_input": "2021-08-17T23:49:27.610145Z",
     "iopub.status.busy": "2021-08-17T23:49:27.609939Z",
     "iopub.status.idle": "2021-08-17T23:49:27.615093Z",
     "shell.execute_reply": "2021-08-17T23:49:27.614303Z",
     "shell.execute_reply.started": "2021-08-17T23:49:27.610129Z"
    },
    "tags": []
   },
   "outputs": [
    {
     "data": {
      "text/plain": [
       "datetime.date(2019, 12, 30)"
      ]
     },
     "execution_count": 98,
     "metadata": {},
     "output_type": "execute_result"
    }
   ],
   "source": [
    "last_date= datetime.datetime.date(last_date)\n",
    "last_date"
   ]
  },
  {
   "cell_type": "code",
   "execution_count": 99,
   "id": "183bea6d-1563-4d22-ba99-e7d3856fb3a4",
   "metadata": {
    "collapsed": true,
    "execution": {
     "iopub.execute_input": "2021-08-18T00:22:02.336800Z",
     "iopub.status.busy": "2021-08-18T00:22:02.336583Z",
     "iopub.status.idle": "2021-08-18T00:45:31.949648Z",
     "shell.execute_reply": "2021-08-18T00:45:31.948926Z",
     "shell.execute_reply.started": "2021-08-18T00:22:02.336782Z"
    },
    "jupyter": {
     "outputs_hidden": true,
     "source_hidden": true
    },
    "scrolled": true,
    "tags": []
   },
   "outputs": [
    {
     "name": "stderr",
     "output_type": "stream",
     "text": [
      "/home/tanveer/anaconda3/lib/python3.8/site-packages/pynytimes/api.py:763: UserWarning: Asking for a lot of results, because of rate limits it can take a while.\n",
      "  warnings.warn(\n"
     ]
    }
   ],
   "source": [
    "biz_sent2k = nyt.article_search(\n",
    "    #query=\"stock\", #currently looking up stock as search term\n",
    "    results = 2000, #pulling 5 results\n",
    "    #need to add time component\n",
    "    dates={\n",
    "        #\"start\": datetime.datetime(2020,1,2 ),\n",
    "        \"end\": datetime.datetime(2020, 1, 1)}, # need to break up dates when running large amount in order to not pull repeat articles from earlier dates\n",
    "    options = {\n",
    "        \"sort\": \"relevance\",\n",
    "        \"sources\": [\n",
    "            \"New York Times\",\n",
    "            \"AP\",\n",
    "            \"Reuters\",\n",
    "            \"International Herald Tribune\"\n",
    "        ],\n",
    "        \"news_desk\": [\n",
    "            \"Business\"\n",
    "        ],\n",
    "        \"type_of_material\": [\n",
    "            \"News Analysis\", \"Summary\", \"Text\" ,\"News\", \"List\", \"Interview\", \"Article\"\n",
    "        ]\n",
    "    }\n",
    ")"
   ]
  },
  {
   "cell_type": "code",
   "execution_count": 101,
   "id": "f5eef27e-ab0b-4e96-a652-fe5e8a51ae97",
   "metadata": {
    "execution": {
     "iopub.execute_input": "2021-08-18T00:56:47.966007Z",
     "iopub.status.busy": "2021-08-18T00:56:47.965813Z",
     "iopub.status.idle": "2021-08-18T00:56:47.970873Z",
     "shell.execute_reply": "2021-08-18T00:56:47.970236Z",
     "shell.execute_reply.started": "2021-08-18T00:56:47.965989Z"
    },
    "jupyter": {
     "source_hidden": true
    },
    "tags": []
   },
   "outputs": [
    {
     "data": {
      "text/plain": [
       "2000"
      ]
     },
     "execution_count": 101,
     "metadata": {},
     "output_type": "execute_result"
    }
   ],
   "source": [
    "len(biz_sent2k)"
   ]
  },
  {
   "cell_type": "code",
   "execution_count": 102,
   "id": "775553b2-39b6-4ddc-b036-2f252e22cc71",
   "metadata": {
    "execution": {
     "iopub.execute_input": "2021-08-18T01:40:07.985880Z",
     "iopub.status.busy": "2021-08-18T01:40:07.985677Z",
     "iopub.status.idle": "2021-08-18T01:40:08.003627Z",
     "shell.execute_reply": "2021-08-18T01:40:08.002961Z",
     "shell.execute_reply.started": "2021-08-18T01:40:07.985847Z"
    },
    "jupyter": {
     "source_hidden": true
    },
    "tags": []
   },
   "outputs": [],
   "source": [
    "df_2k = pd.DataFrame(biz_sent2k)"
   ]
  },
  {
   "cell_type": "code",
   "execution_count": 103,
   "id": "e01e25e7-a2be-4fae-851e-b61770c8eab0",
   "metadata": {
    "execution": {
     "iopub.execute_input": "2021-08-18T01:40:32.134478Z",
     "iopub.status.busy": "2021-08-18T01:40:32.134280Z",
     "iopub.status.idle": "2021-08-18T01:40:32.139741Z",
     "shell.execute_reply": "2021-08-18T01:40:32.139052Z",
     "shell.execute_reply.started": "2021-08-18T01:40:32.134460Z"
    },
    "jupyter": {
     "source_hidden": true
    },
    "tags": []
   },
   "outputs": [
    {
     "data": {
      "text/plain": [
       "Timestamp('2019-06-01 02:18:42+0000', tz='UTC')"
      ]
     },
     "execution_count": 103,
     "metadata": {},
     "output_type": "execute_result"
    }
   ],
   "source": [
    "df_2k['pub_date'][len(df_2k)-1]"
   ]
  },
  {
   "cell_type": "code",
   "execution_count": 109,
   "id": "795eac16-e5f9-428e-a1af-eccd990dbf49",
   "metadata": {
    "collapsed": true,
    "execution": {
     "iopub.execute_input": "2021-08-18T01:42:49.896685Z",
     "iopub.status.busy": "2021-08-18T01:42:49.896490Z",
     "iopub.status.idle": "2021-08-18T01:42:49.901823Z",
     "shell.execute_reply": "2021-08-18T01:42:49.901184Z",
     "shell.execute_reply.started": "2021-08-18T01:42:49.896668Z"
    },
    "jupyter": {
     "outputs_hidden": true
    },
    "tags": []
   },
   "outputs": [
    {
     "data": {
      "text/plain": [
       "datetime.date(2019, 6, 1)"
      ]
     },
     "execution_count": 109,
     "metadata": {},
     "output_type": "execute_result"
    }
   ],
   "source": [
    "last_date = df_2k['pub_date'][len(df_2k)-1]\n",
    "last_date= datetime.datetime.date(last_date)\n",
    "last_date"
   ]
  },
  {
   "cell_type": "code",
   "execution_count": 14,
   "id": "a2480101-8c17-4b3a-8718-995bd9813a8d",
   "metadata": {
    "execution": {
     "iopub.execute_input": "2021-08-18T19:19:39.097916Z",
     "iopub.status.busy": "2021-08-18T19:19:39.097723Z",
     "iopub.status.idle": "2021-08-18T19:19:39.104460Z",
     "shell.execute_reply": "2021-08-18T19:19:39.103823Z",
     "shell.execute_reply.started": "2021-08-18T19:19:39.097899Z"
    }
   },
   "outputs": [
    {
     "ename": "TypeError",
     "evalue": "descriptor 'date' for 'datetime.datetime' objects doesn't apply to a 'int' object",
     "output_type": "error",
     "traceback": [
      "\u001b[0;31m---------------------------------------------------------------------------\u001b[0m",
      "\u001b[0;31mTypeError\u001b[0m                                 Traceback (most recent call last)",
      "\u001b[0;32m<ipython-input-14-793b6c13b310>\u001b[0m in \u001b[0;36m<module>\u001b[0;34m\u001b[0m\n\u001b[0;32m----> 1\u001b[0;31m datetime.datetime.date(2021,8,17\n\u001b[0m\u001b[1;32m      2\u001b[0m                       )\n",
      "\u001b[0;31mTypeError\u001b[0m: descriptor 'date' for 'datetime.datetime' objects doesn't apply to a 'int' object"
     ]
    }
   ],
   "source": [
    "datetime.datetime.date(2021,8,17)"
   ]
  },
  {
   "cell_type": "code",
   "execution_count": 16,
   "id": "ca1d8ab7-05bb-4cd2-8184-986cac6b7284",
   "metadata": {
    "execution": {
     "iopub.execute_input": "2021-08-18T19:21:17.511636Z",
     "iopub.status.busy": "2021-08-18T19:21:17.511449Z",
     "iopub.status.idle": "2021-08-18T19:40:32.090526Z",
     "shell.execute_reply": "2021-08-18T19:40:32.089870Z",
     "shell.execute_reply.started": "2021-08-18T19:21:17.511620Z"
    },
    "tags": []
   },
   "outputs": [],
   "source": [
    "pull_1 = nyt.article_search(\n",
    "    #query=\"stock\", #currently looking up stock as search term\n",
    "    results = 2000, #pulling 5 results\n",
    "    #need to add time component\n",
    "    dates={\n",
    "        #\"start\": datetime.datetime(2020,1,2 ),\n",
    "        \"end\": datetime.date(2021, 8, 17)}, # need to break up dates when running large amount in order to not pull repeat articles from earlier dates\n",
    "    options = {\n",
    "        \"sort\": \"relevance\",\n",
    "        \"sources\": [\n",
    "            \"New York Times\",\n",
    "            \"AP\",\n",
    "            \"Reuters\",\n",
    "            \"International Herald Tribune\"\n",
    "        ],\n",
    "        \"news_desk\": [\n",
    "            \"Business\"\n",
    "        ],\n",
    "        \"type_of_material\": [\n",
    "            \"News Analysis\", \"Summary\", \"Text\" ,\"News\", \"List\", \"Interview\", \"Article\"\n",
    "        ]\n",
    "    }\n",
    ")"
   ]
  },
  {
   "cell_type": "code",
   "execution_count": 115,
   "id": "44674e85-ded2-4d0e-8f85-0cee1df4df29",
   "metadata": {
    "execution": {
     "iopub.execute_input": "2021-08-18T01:54:17.794699Z",
     "iopub.status.busy": "2021-08-18T01:54:17.794506Z",
     "iopub.status.idle": "2021-08-18T01:54:17.805153Z",
     "shell.execute_reply": "2021-08-18T01:54:17.804425Z",
     "shell.execute_reply.started": "2021-08-18T01:54:17.794681Z"
    },
    "jupyter": {
     "source_hidden": true
    },
    "tags": []
   },
   "outputs": [],
   "source": [
    "df_3 = pd.DataFrame(biz_sent3)"
   ]
  },
  {
   "cell_type": "code",
   "execution_count": 19,
   "id": "b381ef46-84c9-4931-b765-efd788ea1a27",
   "metadata": {
    "execution": {
     "iopub.execute_input": "2021-08-18T20:11:43.834206Z",
     "iopub.status.busy": "2021-08-18T20:11:43.834020Z",
     "iopub.status.idle": "2021-08-18T20:11:43.839105Z",
     "shell.execute_reply": "2021-08-18T20:11:43.838495Z",
     "shell.execute_reply.started": "2021-08-18T20:11:43.834188Z"
    },
    "tags": []
   },
   "outputs": [
    {
     "data": {
      "text/plain": [
       "list"
      ]
     },
     "execution_count": 19,
     "metadata": {},
     "output_type": "execute_result"
    }
   ],
   "source": [
    "type(pull_1)"
   ]
  },
  {
   "cell_type": "code",
   "execution_count": 20,
   "id": "8449908d-be1a-45f4-997d-8d7124738291",
   "metadata": {
    "execution": {
     "iopub.execute_input": "2021-08-18T20:11:55.129846Z",
     "iopub.status.busy": "2021-08-18T20:11:55.129631Z",
     "iopub.status.idle": "2021-08-18T20:11:55.135228Z",
     "shell.execute_reply": "2021-08-18T20:11:55.134573Z",
     "shell.execute_reply.started": "2021-08-18T20:11:55.129828Z"
    }
   },
   "outputs": [
    {
     "data": {
      "text/plain": [
       "2000"
      ]
     },
     "execution_count": 20,
     "metadata": {},
     "output_type": "execute_result"
    }
   ],
   "source": [
    "len(pull_1)"
   ]
  },
  {
   "cell_type": "code",
   "execution_count": 22,
   "id": "854d3eb6-922b-4c06-a5b6-dcfd004c4e8c",
   "metadata": {
    "execution": {
     "iopub.execute_input": "2021-08-18T20:12:56.579412Z",
     "iopub.status.busy": "2021-08-18T20:12:56.579220Z",
     "iopub.status.idle": "2021-08-18T20:12:56.592323Z",
     "shell.execute_reply": "2021-08-18T20:12:56.591868Z",
     "shell.execute_reply.started": "2021-08-18T20:12:56.579395Z"
    },
    "tags": []
   },
   "outputs": [],
   "source": [
    "df_1= pd.DataFrame(pull_1)"
   ]
  },
  {
   "cell_type": "code",
   "execution_count": 23,
   "id": "00365a59-746e-40a8-974a-72410809c769",
   "metadata": {
    "execution": {
     "iopub.execute_input": "2021-08-18T20:13:16.409539Z",
     "iopub.status.busy": "2021-08-18T20:13:16.409351Z",
     "iopub.status.idle": "2021-08-18T20:13:17.282034Z",
     "shell.execute_reply": "2021-08-18T20:13:17.281200Z",
     "shell.execute_reply.started": "2021-08-18T20:13:16.409523Z"
    }
   },
   "outputs": [],
   "source": [
    "# save first pull results \n",
    "df_1.to_csv('df_1.csv')"
   ]
  },
  {
   "cell_type": "code",
   "execution_count": 24,
   "id": "13fdf281-6f05-4e55-a02b-15ee21f714fb",
   "metadata": {
    "execution": {
     "iopub.execute_input": "2021-08-18T20:23:30.537281Z",
     "iopub.status.busy": "2021-08-18T20:23:30.537084Z",
     "iopub.status.idle": "2021-08-18T20:23:30.543647Z",
     "shell.execute_reply": "2021-08-18T20:23:30.542755Z",
     "shell.execute_reply.started": "2021-08-18T20:23:30.537265Z"
    }
   },
   "outputs": [
    {
     "data": {
      "text/plain": [
       "0      2021-08-17 21:47:12+00:00\n",
       "1      2021-08-17 18:12:52+00:00\n",
       "2      2021-08-17 16:59:51+00:00\n",
       "3      2021-08-17 15:33:53+00:00\n",
       "4      2021-08-17 15:00:06+00:00\n",
       "                  ...           \n",
       "1995   2021-02-25 15:10:55+00:00\n",
       "1996   2021-02-25 14:56:00+00:00\n",
       "1997   2021-02-25 13:03:11+00:00\n",
       "1998   2021-02-25 12:22:07+00:00\n",
       "1999   2021-02-25 11:33:34+00:00\n",
       "Name: pub_date, Length: 2000, dtype: datetime64[ns, UTC]"
      ]
     },
     "execution_count": 24,
     "metadata": {},
     "output_type": "execute_result"
    }
   ],
   "source": [
    "df_1['pub_date']"
   ]
  },
  {
   "cell_type": "code",
   "execution_count": 25,
   "id": "a8186ad3-bbe3-48ef-ada8-34c9d196cdc9",
   "metadata": {
    "execution": {
     "iopub.execute_input": "2021-08-18T20:55:37.188279Z",
     "iopub.status.busy": "2021-08-18T20:55:37.188080Z",
     "iopub.status.idle": "2021-08-18T21:04:14.851496Z",
     "shell.execute_reply": "2021-08-18T21:04:14.850435Z",
     "shell.execute_reply.started": "2021-08-18T20:55:37.188262Z"
    },
    "tags": []
   },
   "outputs": [
    {
     "name": "stderr",
     "output_type": "stream",
     "text": [
      "/home/tanveer/anaconda3/lib/python3.8/site-packages/pynytimes/api.py:763: UserWarning: Asking for a lot of results, because of rate limits it can take a while.\n",
      "  warnings.warn(\n"
     ]
    }
   ],
   "source": [
    "pull_2 = nyt.article_search(\n",
    "    #query=\"stock\", #currently looking up stock as search term\n",
    "    results = 1000, #pulling 5 results\n",
    "    #need to add time component\n",
    "    dates={\n",
    "        #\"start\": datetime.datetime(2020,1,2 ),\n",
    "        \"end\": datetime.date(2021, 2, 25)}, # need to break up dates when running large amount in order to not pull repeat articles from earlier dates\n",
    "    options = {\n",
    "        \"sort\": \"relevance\",\n",
    "        \"sources\": [\n",
    "            \"New York Times\",\n",
    "            \"AP\",\n",
    "            \"Reuters\",\n",
    "            \"International Herald Tribune\"\n",
    "        ],\n",
    "        \"news_desk\": [\n",
    "            \"Business\"\n",
    "        ],\n",
    "        \"type_of_material\": [\n",
    "            \"News Analysis\", \"Summary\", \"Text\" ,\"News\", \"List\", \"Interview\", \"Article\"\n",
    "        ]\n",
    "    }\n",
    ")"
   ]
  },
  {
   "cell_type": "code",
   "execution_count": 26,
   "id": "33559007-ebe9-43b5-91a5-ce9d2418694d",
   "metadata": {
    "execution": {
     "iopub.execute_input": "2021-08-18T21:18:26.482569Z",
     "iopub.status.busy": "2021-08-18T21:18:26.482271Z",
     "iopub.status.idle": "2021-08-18T21:18:26.493068Z",
     "shell.execute_reply": "2021-08-18T21:18:26.492304Z",
     "shell.execute_reply.started": "2021-08-18T21:18:26.482540Z"
    }
   },
   "outputs": [],
   "source": [
    "df_2 = pd.DataFrame(pull_2)"
   ]
  },
  {
   "cell_type": "code",
   "execution_count": 28,
   "id": "fef10f02-75b4-48a5-8bfd-767a7bad14ef",
   "metadata": {
    "execution": {
     "iopub.execute_input": "2021-08-18T22:17:00.779623Z",
     "iopub.status.busy": "2021-08-18T22:17:00.779389Z",
     "iopub.status.idle": "2021-08-18T22:17:00.785780Z",
     "shell.execute_reply": "2021-08-18T22:17:00.785068Z",
     "shell.execute_reply.started": "2021-08-18T22:17:00.779605Z"
    }
   },
   "outputs": [
    {
     "data": {
      "text/plain": [
       "0     2021-02-25 18:44:33+00:00\n",
       "1     2021-02-25 17:18:30+00:00\n",
       "2     2021-02-25 16:45:31+00:00\n",
       "3     2021-02-25 15:10:55+00:00\n",
       "4     2021-02-25 14:56:00+00:00\n",
       "                 ...           \n",
       "995   2020-11-27 08:00:08+00:00\n",
       "996   2020-11-26 14:00:13+00:00\n",
       "997   2020-11-26 10:00:25+00:00\n",
       "998   2020-11-26 10:00:13+00:00\n",
       "999   2020-11-25 20:33:52+00:00\n",
       "Name: pub_date, Length: 1000, dtype: datetime64[ns, UTC]"
      ]
     },
     "execution_count": 28,
     "metadata": {},
     "output_type": "execute_result"
    }
   ],
   "source": [
    "df_2['pub_date']"
   ]
  },
  {
   "cell_type": "code",
   "execution_count": 27,
   "id": "9a4776c9-2fd6-485f-9010-f14fc538cf59",
   "metadata": {
    "execution": {
     "iopub.execute_input": "2021-08-18T21:21:25.737084Z",
     "iopub.status.busy": "2021-08-18T21:21:25.736896Z",
     "iopub.status.idle": "2021-08-18T21:21:26.173595Z",
     "shell.execute_reply": "2021-08-18T21:21:26.172849Z",
     "shell.execute_reply.started": "2021-08-18T21:21:25.737067Z"
    }
   },
   "outputs": [],
   "source": [
    "df_2.to_csv('df_2.csv')"
   ]
  },
  {
   "cell_type": "code",
   "execution_count": 29,
   "id": "855b2082-fa36-4e36-929d-9c78c7b19dbc",
   "metadata": {
    "execution": {
     "iopub.execute_input": "2021-08-18T22:31:18.185501Z",
     "iopub.status.busy": "2021-08-18T22:31:18.185292Z",
     "iopub.status.idle": "2021-08-18T22:50:30.745160Z",
     "shell.execute_reply": "2021-08-18T22:50:30.744519Z",
     "shell.execute_reply.started": "2021-08-18T22:31:18.185484Z"
    }
   },
   "outputs": [
    {
     "name": "stderr",
     "output_type": "stream",
     "text": [
      "/home/tanveer/anaconda3/lib/python3.8/site-packages/pynytimes/api.py:763: UserWarning: Asking for a lot of results, because of rate limits it can take a while.\n",
      "  warnings.warn(\n"
     ]
    }
   ],
   "source": [
    "pull_3 = nyt.article_search(\n",
    "    #query=\"stock\", #currently looking up stock as search term\n",
    "    results = 2000, #pulling 5 results\n",
    "    #need to add time component\n",
    "    dates={\n",
    "        #\"start\": datetime.datetime(2020,1,2 ),\n",
    "        \"end\": datetime.date(2020, 11, 25)}, # need to break up dates when running large amount in order to not pull repeat articles from earlier dates\n",
    "    options = {\n",
    "        \"sort\": \"relevance\",\n",
    "        \"sources\": [\n",
    "            \"New York Times\",\n",
    "            \"AP\",\n",
    "            \"Reuters\",\n",
    "            \"International Herald Tribune\"\n",
    "        ],\n",
    "        \"news_desk\": [\n",
    "            \"Business\"\n",
    "        ],\n",
    "        \"type_of_material\": [\n",
    "            \"News Analysis\", \"Summary\", \"Text\" ,\"News\", \"List\", \"Interview\", \"Article\"\n",
    "        ]\n",
    "    }\n",
    ")"
   ]
  },
  {
   "cell_type": "code",
   "execution_count": 30,
   "id": "6097c6df-2096-470f-b8dd-675b50b30d6b",
   "metadata": {
    "execution": {
     "iopub.execute_input": "2021-08-18T22:53:01.472031Z",
     "iopub.status.busy": "2021-08-18T22:53:01.471836Z",
     "iopub.status.idle": "2021-08-18T22:53:01.486171Z",
     "shell.execute_reply": "2021-08-18T22:53:01.485430Z",
     "shell.execute_reply.started": "2021-08-18T22:53:01.472014Z"
    }
   },
   "outputs": [
    {
     "data": {
      "text/plain": [
       "(2000, 20)"
      ]
     },
     "execution_count": 30,
     "metadata": {},
     "output_type": "execute_result"
    }
   ],
   "source": [
    "df_3 = pd.DataFrame(pull_3)\n",
    "df_3.shape"
   ]
  },
  {
   "cell_type": "code",
   "execution_count": 31,
   "id": "4b17459d-3937-4fe9-8fd8-d68860a6f746",
   "metadata": {
    "execution": {
     "iopub.execute_input": "2021-08-18T22:53:19.047005Z",
     "iopub.status.busy": "2021-08-18T22:53:19.046824Z",
     "iopub.status.idle": "2021-08-18T22:53:19.895563Z",
     "shell.execute_reply": "2021-08-18T22:53:19.894834Z",
     "shell.execute_reply.started": "2021-08-18T22:53:19.046989Z"
    }
   },
   "outputs": [],
   "source": [
    "df_3.to_csv('df_3.csv')"
   ]
  },
  {
   "cell_type": "code",
   "execution_count": 32,
   "id": "b4771383-c915-4124-a81a-d2a625977b1e",
   "metadata": {
    "execution": {
     "iopub.execute_input": "2021-08-18T22:53:42.108417Z",
     "iopub.status.busy": "2021-08-18T22:53:42.108236Z",
     "iopub.status.idle": "2021-08-18T22:53:42.114296Z",
     "shell.execute_reply": "2021-08-18T22:53:42.113657Z",
     "shell.execute_reply.started": "2021-08-18T22:53:42.108400Z"
    }
   },
   "outputs": [
    {
     "data": {
      "text/plain": [
       "0      2020-11-25 20:33:52+00:00\n",
       "1      2020-11-25 19:34:06+00:00\n",
       "2      2020-11-25 17:17:04+00:00\n",
       "3      2020-11-25 14:00:09+00:00\n",
       "4      2020-11-25 12:10:09+00:00\n",
       "                  ...           \n",
       "1995   2020-06-03 11:17:51+00:00\n",
       "1996   2020-06-03 09:00:23+00:00\n",
       "1997   2020-06-02 23:03:23+00:00\n",
       "1998   2020-06-02 20:52:06+00:00\n",
       "1999   2020-06-02 19:56:41+00:00\n",
       "Name: pub_date, Length: 2000, dtype: datetime64[ns, UTC]"
      ]
     },
     "execution_count": 32,
     "metadata": {},
     "output_type": "execute_result"
    }
   ],
   "source": [
    "df_3['pub_date']"
   ]
  },
  {
   "cell_type": "code",
   "execution_count": 33,
   "id": "0a2fdeb0-b80f-40cc-b4ec-0d9ba0b68f7f",
   "metadata": {
    "execution": {
     "iopub.execute_input": "2021-08-18T22:54:17.236694Z",
     "iopub.status.busy": "2021-08-18T22:54:17.236514Z",
     "iopub.status.idle": "2021-08-18T23:13:31.486011Z",
     "shell.execute_reply": "2021-08-18T23:13:31.485313Z",
     "shell.execute_reply.started": "2021-08-18T22:54:17.236677Z"
    }
   },
   "outputs": [
    {
     "name": "stderr",
     "output_type": "stream",
     "text": [
      "/home/tanveer/anaconda3/lib/python3.8/site-packages/pynytimes/api.py:763: UserWarning: Asking for a lot of results, because of rate limits it can take a while.\n",
      "  warnings.warn(\n"
     ]
    }
   ],
   "source": [
    "pull_4 = nyt.article_search(\n",
    "    #query=\"stock\", #currently looking up stock as search term\n",
    "    results = 2000, #pulling 5 results\n",
    "    #need to add time component\n",
    "    dates={\n",
    "        #\"start\": datetime.datetime(2020,1,2 ),\n",
    "        \"end\": datetime.date(2020, 6, 2)}, # need to break up dates when running large amount in order to not pull repeat articles from earlier dates\n",
    "    options = {\n",
    "        \"sort\": \"relevance\",\n",
    "        \"sources\": [\n",
    "            \"New York Times\",\n",
    "            \"AP\",\n",
    "            \"Reuters\",\n",
    "            \"International Herald Tribune\"\n",
    "        ],\n",
    "        \"news_desk\": [\n",
    "            \"Business\"\n",
    "        ],\n",
    "        \"type_of_material\": [\n",
    "            \"News Analysis\", \"Summary\", \"Text\" ,\"News\", \"List\", \"Interview\", \"Article\"\n",
    "        ]\n",
    "    }\n",
    ")"
   ]
  },
  {
   "cell_type": "code",
   "execution_count": 34,
   "id": "cca21362-8ce2-4bdc-8d54-bd77f412f237",
   "metadata": {
    "execution": {
     "iopub.execute_input": "2021-08-18T23:25:57.577256Z",
     "iopub.status.busy": "2021-08-18T23:25:57.577070Z",
     "iopub.status.idle": "2021-08-18T23:25:57.591554Z",
     "shell.execute_reply": "2021-08-18T23:25:57.590808Z",
     "shell.execute_reply.started": "2021-08-18T23:25:57.577240Z"
    }
   },
   "outputs": [
    {
     "data": {
      "text/plain": [
       "(2000, 20)"
      ]
     },
     "execution_count": 34,
     "metadata": {},
     "output_type": "execute_result"
    }
   ],
   "source": [
    "df_4 = pd.DataFrame(pull_4)\n",
    "df_4.shape"
   ]
  },
  {
   "cell_type": "code",
   "execution_count": 35,
   "id": "4f622fc3-3fdc-4045-9186-47d3cf810d4a",
   "metadata": {
    "execution": {
     "iopub.execute_input": "2021-08-18T23:26:06.681756Z",
     "iopub.status.busy": "2021-08-18T23:26:06.681552Z",
     "iopub.status.idle": "2021-08-18T23:26:06.688533Z",
     "shell.execute_reply": "2021-08-18T23:26:06.687809Z",
     "shell.execute_reply.started": "2021-08-18T23:26:06.681738Z"
    },
    "tags": []
   },
   "outputs": [
    {
     "data": {
      "text/plain": [
       "0      2020-06-02 23:03:23+00:00\n",
       "1      2020-06-02 20:52:06+00:00\n",
       "2      2020-06-02 19:56:41+00:00\n",
       "3      2020-06-02 19:19:04+00:00\n",
       "4      2020-06-02 18:48:20+00:00\n",
       "                  ...           \n",
       "1995   2019-11-13 19:36:27+00:00\n",
       "1996   2019-11-13 18:28:56+00:00\n",
       "1997   2019-11-13 17:52:17+00:00\n",
       "1998   2019-11-13 14:30:11+00:00\n",
       "1999   2019-11-13 14:00:12+00:00\n",
       "Name: pub_date, Length: 2000, dtype: datetime64[ns, UTC]"
      ]
     },
     "execution_count": 35,
     "metadata": {},
     "output_type": "execute_result"
    }
   ],
   "source": [
    "df_4['pub_date']"
   ]
  },
  {
   "cell_type": "code",
   "execution_count": 36,
   "id": "968a4cd7-7e4f-44b5-bff5-ec361a60e46b",
   "metadata": {
    "execution": {
     "iopub.execute_input": "2021-08-18T23:26:57.340018Z",
     "iopub.status.busy": "2021-08-18T23:26:57.339815Z",
     "iopub.status.idle": "2021-08-18T23:26:58.196169Z",
     "shell.execute_reply": "2021-08-18T23:26:58.195377Z",
     "shell.execute_reply.started": "2021-08-18T23:26:57.340001Z"
    }
   },
   "outputs": [],
   "source": [
    "df_4.to_csv('df_4.csv')"
   ]
  },
  {
   "cell_type": "code",
   "execution_count": 37,
   "id": "838e70ca-89cd-4f9c-b5ff-b82e329150ab",
   "metadata": {
    "execution": {
     "iopub.execute_input": "2021-08-18T23:27:12.255205Z",
     "iopub.status.busy": "2021-08-18T23:27:12.255018Z",
     "iopub.status.idle": "2021-08-18T23:46:28.592168Z",
     "shell.execute_reply": "2021-08-18T23:46:28.591700Z",
     "shell.execute_reply.started": "2021-08-18T23:27:12.255188Z"
    }
   },
   "outputs": [
    {
     "name": "stderr",
     "output_type": "stream",
     "text": [
      "/home/tanveer/anaconda3/lib/python3.8/site-packages/pynytimes/api.py:763: UserWarning: Asking for a lot of results, because of rate limits it can take a while.\n",
      "  warnings.warn(\n"
     ]
    }
   ],
   "source": [
    "pull_5 = nyt.article_search(\n",
    "    #query=\"stock\", #currently looking up stock as search term\n",
    "    results = 2000, #pulling 5 results\n",
    "    #need to add time component\n",
    "    dates={\n",
    "        #\"start\": datetime.datetime(2020,1,2 ),\n",
    "        \"end\": datetime.date(2019, 11, 13)}, # need to break up dates when running large amount in order to not pull repeat articles from earlier dates\n",
    "    options = {\n",
    "        \"sort\": \"relevance\",\n",
    "        \"sources\": [\n",
    "            \"New York Times\",\n",
    "            \"AP\",\n",
    "            \"Reuters\",\n",
    "            \"International Herald Tribune\"\n",
    "        ],\n",
    "        \"news_desk\": [\n",
    "            \"Business\"\n",
    "        ],\n",
    "        \"type_of_material\": [\n",
    "            \"News Analysis\", \"Summary\", \"Text\" ,\"News\", \"List\", \"Interview\", \"Article\"\n",
    "        ]\n",
    "    }\n",
    ")"
   ]
  },
  {
   "cell_type": "code",
   "execution_count": 38,
   "id": "6d69135c-7b8e-400f-bbee-5072867116e0",
   "metadata": {
    "execution": {
     "iopub.execute_input": "2021-08-18T23:46:28.626278Z",
     "iopub.status.busy": "2021-08-18T23:46:28.626090Z",
     "iopub.status.idle": "2021-08-18T23:46:28.640346Z",
     "shell.execute_reply": "2021-08-18T23:46:28.639817Z",
     "shell.execute_reply.started": "2021-08-18T23:46:28.626263Z"
    }
   },
   "outputs": [
    {
     "data": {
      "text/plain": [
       "(2000, 20)"
      ]
     },
     "execution_count": 38,
     "metadata": {},
     "output_type": "execute_result"
    }
   ],
   "source": [
    "df_5 = pd.DataFrame(pull_5)\n",
    "df_5.shape "
   ]
  },
  {
   "cell_type": "code",
   "execution_count": 39,
   "id": "61266f86-9ca0-4f24-9a4f-ffd5b7786fcf",
   "metadata": {
    "execution": {
     "iopub.execute_input": "2021-08-18T23:46:28.641147Z",
     "iopub.status.busy": "2021-08-18T23:46:28.640953Z",
     "iopub.status.idle": "2021-08-18T23:46:28.646023Z",
     "shell.execute_reply": "2021-08-18T23:46:28.645681Z",
     "shell.execute_reply.started": "2021-08-18T23:46:28.641130Z"
    }
   },
   "outputs": [
    {
     "data": {
      "text/plain": [
       "1999   2019-04-24 09:00:18+00:00\n",
       "Name: pub_date, dtype: datetime64[ns, UTC]"
      ]
     },
     "execution_count": 39,
     "metadata": {},
     "output_type": "execute_result"
    }
   ],
   "source": [
    "df_5['pub_date'].tail(1)"
   ]
  },
  {
   "cell_type": "code",
   "execution_count": 41,
   "id": "90965579-4dd2-4ef1-aecc-c5725ef92e1d",
   "metadata": {
    "execution": {
     "iopub.execute_input": "2021-08-18T23:58:36.219816Z",
     "iopub.status.busy": "2021-08-18T23:58:36.219542Z",
     "iopub.status.idle": "2021-08-18T23:58:37.192762Z",
     "shell.execute_reply": "2021-08-18T23:58:37.191994Z",
     "shell.execute_reply.started": "2021-08-18T23:58:36.219799Z"
    }
   },
   "outputs": [],
   "source": [
    "df_5.to_csv('df_5.csv')"
   ]
  },
  {
   "cell_type": "code",
   "execution_count": 42,
   "id": "b2019caf-8e1a-4594-88bb-31f8172a4cdd",
   "metadata": {
    "execution": {
     "iopub.execute_input": "2021-08-18T23:58:41.484787Z",
     "iopub.status.busy": "2021-08-18T23:58:41.484611Z",
     "iopub.status.idle": "2021-08-19T00:18:24.353177Z",
     "shell.execute_reply": "2021-08-19T00:18:24.352350Z",
     "shell.execute_reply.started": "2021-08-18T23:58:41.484770Z"
    },
    "tags": []
   },
   "outputs": [
    {
     "name": "stderr",
     "output_type": "stream",
     "text": [
      "/home/tanveer/anaconda3/lib/python3.8/site-packages/pynytimes/api.py:763: UserWarning: Asking for a lot of results, because of rate limits it can take a while.\n",
      "  warnings.warn(\n"
     ]
    }
   ],
   "source": [
    "pull_6 = nyt.article_search(\n",
    "    #query=\"stock\", #currently looking up stock as search term\n",
    "    results = 2000, #pulling 5 results\n",
    "    #need to add time component\n",
    "    dates={\n",
    "        #\"start\": datetime.datetime(2020,1,2 ),\n",
    "        \"end\": datetime.date(2019, 4, 24)}, # need to break up dates when running large amount in order to not pull repeat articles from earlier dates\n",
    "    options = {\n",
    "        \"sort\": \"relevance\",\n",
    "        \"sources\": [\n",
    "            \"New York Times\",\n",
    "            \"AP\",\n",
    "            \"Reuters\",\n",
    "            \"International Herald Tribune\"\n",
    "        ],\n",
    "        \"news_desk\": [\n",
    "            \"Business\"\n",
    "        ],\n",
    "        \"type_of_material\": [\n",
    "            \"News Analysis\", \"Summary\", \"Text\" ,\"News\", \"List\", \"Interview\", \"Article\"\n",
    "        ]\n",
    "    }\n",
    ")"
   ]
  },
  {
   "cell_type": "code",
   "execution_count": 44,
   "id": "0fce67aa-4f67-4803-a5f1-a568dc0c7f5b",
   "metadata": {
    "execution": {
     "iopub.execute_input": "2021-08-19T00:45:26.757023Z",
     "iopub.status.busy": "2021-08-19T00:45:26.756828Z",
     "iopub.status.idle": "2021-08-19T00:45:26.772668Z",
     "shell.execute_reply": "2021-08-19T00:45:26.772061Z",
     "shell.execute_reply.started": "2021-08-19T00:45:26.757005Z"
    }
   },
   "outputs": [
    {
     "name": "stdout",
     "output_type": "stream",
     "text": [
      "1997   2018-10-03 20:29:40+00:00\n",
      "1998   2018-10-03 20:00:04+00:00\n",
      "1999   2018-10-03 19:47:16+00:00\n",
      "Name: pub_date, dtype: datetime64[ns, UTC]\n"
     ]
    }
   ],
   "source": [
    "df_6 = post_pull(pull_6)"
   ]
  },
  {
   "cell_type": "code",
   "execution_count": 48,
   "id": "a9ed1cb3-0806-4376-a458-2f7510635aab",
   "metadata": {
    "execution": {
     "iopub.execute_input": "2021-08-19T00:47:53.027836Z",
     "iopub.status.busy": "2021-08-19T00:47:53.027639Z",
     "iopub.status.idle": "2021-08-19T00:47:53.870314Z",
     "shell.execute_reply": "2021-08-19T00:47:53.869538Z",
     "shell.execute_reply.started": "2021-08-19T00:47:53.027818Z"
    }
   },
   "outputs": [],
   "source": [
    "df_6.to_csv('df_6.csv')"
   ]
  },
  {
   "cell_type": "code",
   "execution_count": null,
   "id": "960c9c32-ca31-437f-ae78-8104d1640646",
   "metadata": {},
   "outputs": [],
   "source": [
    "DataFrame"
   ]
  },
  {
   "cell_type": "code",
   "execution_count": 50,
   "id": "82332bd5-772c-49d0-8d9b-70ef4af2af8f",
   "metadata": {
    "execution": {
     "iopub.execute_input": "2021-08-19T00:49:41.248589Z",
     "iopub.status.busy": "2021-08-19T00:49:41.248403Z",
     "iopub.status.idle": "2021-08-19T00:49:41.252510Z",
     "shell.execute_reply": "2021-08-19T00:49:41.251722Z",
     "shell.execute_reply.started": "2021-08-19T00:49:41.248570Z"
    },
    "tags": []
   },
   "outputs": [],
   "source": [
    "def pull_nyt(date):\n",
    "    pull = nyt.article_search(\n",
    "    #query=\"stock\", #currently looking up stock as search term\n",
    "    results = 2000, #pulling 5 results\n",
    "    #need to add time component\n",
    "    dates={\n",
    "        #\"start\": datetime.datetime(2020,1,2 ),\n",
    "        \"end\": date}, # need to break up dates when running large amount in order to not pull repeat articles from earlier dates\n",
    "    options = {\n",
    "        \"sort\": \"relevance\",\n",
    "        \"sources\": [\n",
    "            \"New York Times\",\n",
    "            \"AP\",\n",
    "            \"Reuters\",\n",
    "            \"International Herald Tribune\"\n",
    "        ],\n",
    "        \"news_desk\": [\n",
    "            \"Business\"\n",
    "        ],\n",
    "        \"type_of_material\": [\n",
    "            \"News Analysis\", \"Summary\", \"Text\" ,\"News\", \"List\", \"Interview\", \"Article\"\n",
    "        ]\n",
    "    }\n",
    ")\n",
    "    return post_pull(pull)"
   ]
  },
  {
   "cell_type": "code",
   "execution_count": 51,
   "id": "35ff302e-3e34-4e87-862b-c7052b6f804b",
   "metadata": {
    "execution": {
     "iopub.execute_input": "2021-08-19T00:49:42.730085Z",
     "iopub.status.busy": "2021-08-19T00:49:42.729904Z",
     "iopub.status.idle": "2021-08-19T00:49:42.733633Z",
     "shell.execute_reply": "2021-08-19T00:49:42.732708Z",
     "shell.execute_reply.started": "2021-08-19T00:49:42.730070Z"
    },
    "tags": []
   },
   "outputs": [],
   "source": [
    "def post_pull(pull):\n",
    "    df_pull = pd.DataFrame(pull)\n",
    "    print(f'shape:{df_pull.shape}')\n",
    "    print(df_pull['pub_date'].tail(3))\n",
    "    return df_pull"
   ]
  },
  {
   "cell_type": "code",
   "execution_count": 52,
   "id": "bf481584-d52b-452a-adf8-e0be362d6632",
   "metadata": {
    "execution": {
     "iopub.execute_input": "2021-08-19T00:49:45.984752Z",
     "iopub.status.busy": "2021-08-19T00:49:45.984556Z",
     "iopub.status.idle": "2021-08-19T01:09:10.001508Z",
     "shell.execute_reply": "2021-08-19T01:09:10.000694Z",
     "shell.execute_reply.started": "2021-08-19T00:49:45.984735Z"
    },
    "tags": []
   },
   "outputs": [
    {
     "name": "stdout",
     "output_type": "stream",
     "text": [
      "shape:(2000, 20)\n",
      "1997   2018-04-03 00:18:43+00:00\n",
      "1998   2018-04-03 00:15:47+00:00\n",
      "1999   2018-04-03 00:02:02+00:00\n",
      "Name: pub_date, dtype: datetime64[ns, UTC]\n"
     ]
    }
   ],
   "source": [
    "df_7= pull_nyt(datetime.date(2018, 10, 3))"
   ]
  },
  {
   "cell_type": "code",
   "execution_count": 53,
   "id": "c8470545-21df-4f9c-88d4-82b8b258b50e",
   "metadata": {
    "execution": {
     "iopub.execute_input": "2021-08-19T13:12:48.551093Z",
     "iopub.status.busy": "2021-08-19T13:12:48.550877Z",
     "iopub.status.idle": "2021-08-19T13:12:49.442920Z",
     "shell.execute_reply": "2021-08-19T13:12:49.442195Z",
     "shell.execute_reply.started": "2021-08-19T13:12:48.551076Z"
    }
   },
   "outputs": [],
   "source": [
    "df_7.to_csv('df_7.csv')"
   ]
  },
  {
   "cell_type": "code",
   "execution_count": 54,
   "id": "fef7ef36-207f-460e-b934-3c80952809fb",
   "metadata": {
    "execution": {
     "iopub.execute_input": "2021-08-19T13:13:13.043579Z",
     "iopub.status.busy": "2021-08-19T13:13:13.043396Z",
     "iopub.status.idle": "2021-08-19T13:32:27.801428Z",
     "shell.execute_reply": "2021-08-19T13:32:27.800746Z",
     "shell.execute_reply.started": "2021-08-19T13:13:13.043561Z"
    }
   },
   "outputs": [
    {
     "name": "stdout",
     "output_type": "stream",
     "text": [
      "shape:(2000, 20)\n",
      "1997   2017-10-24 11:16:20+00:00\n",
      "1998   2017-10-24 09:41:55+00:00\n",
      "1999   2017-10-24 04:02:29+00:00\n",
      "Name: pub_date, dtype: datetime64[ns, UTC]\n"
     ]
    }
   ],
   "source": [
    "df_8 = pull_nyt(datetime.date(2018, 4, 3))"
   ]
  },
  {
   "cell_type": "code",
   "execution_count": 55,
   "id": "44254f93-d48b-401b-939e-74b6d1865cb6",
   "metadata": {
    "execution": {
     "iopub.execute_input": "2021-08-19T13:36:12.576860Z",
     "iopub.status.busy": "2021-08-19T13:36:12.576668Z",
     "iopub.status.idle": "2021-08-19T13:36:13.557751Z",
     "shell.execute_reply": "2021-08-19T13:36:13.556924Z",
     "shell.execute_reply.started": "2021-08-19T13:36:12.576843Z"
    }
   },
   "outputs": [],
   "source": [
    "df_8.to_csv('df_8.csv')"
   ]
  },
  {
   "cell_type": "code",
   "execution_count": 57,
   "id": "b4b8051f-8405-4c1e-9d06-0afce6df4c6a",
   "metadata": {
    "execution": {
     "iopub.execute_input": "2021-08-19T13:37:01.894619Z",
     "iopub.status.busy": "2021-08-19T13:37:01.894427Z",
     "iopub.status.idle": "2021-08-19T13:56:10.362055Z",
     "shell.execute_reply": "2021-08-19T13:56:10.361346Z",
     "shell.execute_reply.started": "2021-08-19T13:37:01.894603Z"
    },
    "tags": []
   },
   "outputs": [
    {
     "name": "stdout",
     "output_type": "stream",
     "text": [
      "shape:(2000, 20)\n",
      "1997   2017-05-31 22:05:05+00:00\n",
      "1998   2017-05-31 22:00:19+00:00\n",
      "1999   2017-05-31 20:45:14+00:00\n",
      "Name: pub_date, dtype: datetime64[ns, UTC]\n"
     ]
    }
   ],
   "source": [
    "df_9 = pull_nyt(datetime.date(2017, 10, 24))"
   ]
  },
  {
   "cell_type": "code",
   "execution_count": 58,
   "id": "377013c2-5be8-43ce-a072-ef034db7f82e",
   "metadata": {
    "execution": {
     "iopub.execute_input": "2021-08-19T15:20:29.831974Z",
     "iopub.status.busy": "2021-08-19T15:20:29.831614Z",
     "iopub.status.idle": "2021-08-19T15:20:30.572778Z",
     "shell.execute_reply": "2021-08-19T15:20:30.572043Z",
     "shell.execute_reply.started": "2021-08-19T15:20:29.831937Z"
    }
   },
   "outputs": [],
   "source": [
    "df_9.to_csv('df_9.csv')"
   ]
  },
  {
   "cell_type": "code",
   "execution_count": 60,
   "id": "ecc46eb3-2bf5-467a-aa36-47a703a53b21",
   "metadata": {
    "execution": {
     "iopub.execute_input": "2021-08-19T16:00:56.602249Z",
     "iopub.status.busy": "2021-08-19T16:00:56.602018Z",
     "iopub.status.idle": "2021-08-19T16:19:32.441934Z",
     "shell.execute_reply": "2021-08-19T16:19:32.441246Z",
     "shell.execute_reply.started": "2021-08-19T16:00:56.602231Z"
    },
    "tags": []
   },
   "outputs": [
    {
     "name": "stdout",
     "output_type": "stream",
     "text": [
      "shape:(2000, 20)\n",
      "1997   2017-01-18 17:06:31+00:00\n",
      "1998   2017-01-18 16:52:18+00:00\n",
      "1999   2017-01-18 16:00:57+00:00\n",
      "Name: pub_date, dtype: datetime64[ns, UTC]\n"
     ]
    }
   ],
   "source": [
    "df_10 = pull_nyt(datetime.date(2017, 5, 31))"
   ]
  },
  {
   "cell_type": "code",
   "execution_count": 61,
   "id": "2ad067b3-31f3-4379-b8f9-1bbc890a5a40",
   "metadata": {
    "execution": {
     "iopub.execute_input": "2021-08-19T16:46:57.160544Z",
     "iopub.status.busy": "2021-08-19T16:46:57.160321Z",
     "iopub.status.idle": "2021-08-19T16:46:57.850717Z",
     "shell.execute_reply": "2021-08-19T16:46:57.849921Z",
     "shell.execute_reply.started": "2021-08-19T16:46:57.160507Z"
    }
   },
   "outputs": [],
   "source": [
    "df_10.to_csv('df_10.csv')"
   ]
  },
  {
   "cell_type": "code",
   "execution_count": 63,
   "id": "f0e1e6c6-59ac-443a-85a9-bef69393c8d7",
   "metadata": {
    "execution": {
     "iopub.execute_input": "2021-08-19T16:47:46.238174Z",
     "iopub.status.busy": "2021-08-19T16:47:46.237987Z",
     "iopub.status.idle": "2021-08-19T17:07:18.613863Z",
     "shell.execute_reply": "2021-08-19T17:07:18.613226Z",
     "shell.execute_reply.started": "2021-08-19T16:47:46.238158Z"
    },
    "tags": []
   },
   "outputs": [
    {
     "name": "stdout",
     "output_type": "stream",
     "text": [
      "shape:(2000, 20)\n",
      "1997   2016-09-06 15:25:36+00:00\n",
      "1998   2016-09-06 13:54:02+00:00\n",
      "1999   2016-09-06 13:20:44+00:00\n",
      "Name: pub_date, dtype: datetime64[ns, UTC]\n"
     ]
    }
   ],
   "source": [
    "df_11 = pull_nyt(datetime.date(2017, 1, 18))"
   ]
  },
  {
   "cell_type": "code",
   "execution_count": 64,
   "id": "e23f4955-4f40-4a75-a533-e15a7d7bd23a",
   "metadata": {
    "execution": {
     "iopub.execute_input": "2021-08-19T18:53:39.021752Z",
     "iopub.status.busy": "2021-08-19T18:53:39.021386Z",
     "iopub.status.idle": "2021-08-19T18:53:39.735712Z",
     "shell.execute_reply": "2021-08-19T18:53:39.734899Z",
     "shell.execute_reply.started": "2021-08-19T18:53:39.021733Z"
    }
   },
   "outputs": [],
   "source": [
    "df_11.to_csv('df_11.csv')"
   ]
  },
  {
   "cell_type": "code",
   "execution_count": 117,
   "id": "e740eff9-b900-417a-b7ce-832b9265ab06",
   "metadata": {
    "execution": {
     "iopub.execute_input": "2021-08-18T01:55:34.498639Z",
     "iopub.status.busy": "2021-08-18T01:55:34.498411Z",
     "iopub.status.idle": "2021-08-18T01:55:34.503549Z",
     "shell.execute_reply": "2021-08-18T01:55:34.502846Z",
     "shell.execute_reply.started": "2021-08-18T01:55:34.498621Z"
    },
    "jupyter": {
     "source_hidden": true
    },
    "tags": []
   },
   "outputs": [
    {
     "data": {
      "text/plain": [
       "datetime.date(2019, 2, 21)"
      ]
     },
     "execution_count": 117,
     "metadata": {},
     "output_type": "execute_result"
    }
   ],
   "source": [
    "last_date = df_3['pub_date'][len(df_3)-1]\n",
    "last_date= datetime.datetime.date(last_date)\n",
    "last_date"
   ]
  },
  {
   "cell_type": "markdown",
   "id": "02dbd07b-20c8-4a83-9ae4-e9fb9d4f8c09",
   "metadata": {},
   "source": [
    "# define function "
   ]
  },
  {
   "cell_type": "code",
   "execution_count": 8,
   "id": "4f4f8b33-884c-4d15-8668-c3747d0f1736",
   "metadata": {
    "execution": {
     "iopub.execute_input": "2021-08-18T19:10:02.038434Z",
     "iopub.status.busy": "2021-08-18T19:10:02.038244Z",
     "iopub.status.idle": "2021-08-18T19:10:02.045052Z",
     "shell.execute_reply": "2021-08-18T19:10:02.044353Z",
     "shell.execute_reply.started": "2021-08-18T19:10:02.038418Z"
    },
    "tags": []
   },
   "outputs": [],
   "source": [
    "# didnt use it \n",
    "def nyt_searcher(n_results,start_date,):\n",
    "    'number of results,start date (in datetime.date format)'\n",
    "    # add way to do more then one if n_results >2010 \n",
    "    # number of searches with 2k results each \n",
    "    num_2k_searches = n_results//2000\n",
    "    #number of searches left after doing all 2k searches\n",
    "    num_last_search = n_results%2000\n",
    "    # initial starting date \n",
    "    last_date = start_date\n",
    "    # initialize empty list to store results \n",
    "    results =[]\n",
    "    #do num_2k_searches\n",
    "    for i in range(num_2k_searches):\n",
    "        articles = nyt.article_search(\n",
    "            results= 2000, # 2k searchs each run \n",
    "            dates= {\"end\":last_date}, # gets updated each iteration\n",
    "            options = {\"sort\": \"relevance\",\n",
    "            \"sources\": [\n",
    "            \"New York Times\",\n",
    "            \"AP\",\n",
    "            \"Reuters\",\n",
    "            \"International Herald Tribune\"\n",
    "            ],\n",
    "            \"news_desk\": [\n",
    "            \"Business\"\n",
    "            ],\n",
    "            \"type_of_material\": [\n",
    "                \"News Analysis\", \"Summary\", \"Text\" ,\"News\", \"List\", \"Interview\", \"Article\"\n",
    "            ]\n",
    "        }\n",
    ")\n",
    "        results.append(articles) # add articles from this run to results list\n",
    "        articles_df = pd.DataFrame(articles) # prob better way to do this but this works for now\n",
    "        num_articles= len(articles) \n",
    "        last_date = articles_df['pub_date'][num_articles] # assuming they come in order...\n",
    "        last_date= datetime.datetime.date(last_date) # convert to datetime.date for usage in next iteration\n",
    "    # run last search for num_last_search results if greater then 0 \n",
    "    if num_last_search !=0: \n",
    "        last_articles = nyt.article_search(\n",
    "                results= num_last_search,\n",
    "                dates= {\"end\":last_date},\n",
    "                options = {\"sort\": \"relevance\",\n",
    "                \"sources\": [\n",
    "                \"New York Times\",\n",
    "                \"AP\",\n",
    "                \"Reuters\",\n",
    "                \"International Herald Tribune\"\n",
    "                ],\n",
    "                \"news_desk\": [\n",
    "                \"Business\"\n",
    "                ],\n",
    "                \"type_of_material\": [\n",
    "                    \"News Analysis\", \"Summary\", \"Text\" ,\"News\", \"List\", \"Interview\", \"Article\"\n",
    "                ]\n",
    "            }\n",
    "    ) \n",
    "        # add last_articles to results list \n",
    "        results.append(last_articles)\n",
    "    return results # testing to get output \n",
    "       #BELOW SECTION MAY NEED WORK ???\n",
    "   \n",
    "    "
   ]
  },
  {
   "cell_type": "markdown",
   "id": "1333ceb2-54be-43da-8f3a-2e697d0c1720",
   "metadata": {},
   "source": [
    " flatten_results = [val for sublist in results for val in sublist] \n",
    "    #results is returning a double listed dictionary value and this reduces it to a single list that we can create a dataframe out of\n",
    "    \n",
    "    # if less 2000 posts in search results\n",
    "    if len(results)==1:\n",
    "        results_df= pd.DataFrame(flatten_results)\n",
    "    else: \n",
    "        #make list of dictionaries into dataframe \n",
    "        results_df = pd.concat(results,sort=False)\n",
    "        #results_df= pd.DataFrame(flatten_results)\n",
    "    #drop duplicates \n",
    "    results_df.drop_duplicates(inplace=True)\n",
    "    return results_df"
   ]
  },
  {
   "cell_type": "markdown",
   "id": "7d6fee12-56c4-405e-bdfa-4531124e2b2b",
   "metadata": {},
   "source": [
    "# Testing EDA "
   ]
  },
  {
   "cell_type": "code",
   "execution_count": null,
   "id": "4f9443e0-80b1-41b9-a8da-e65d2b9820d7",
   "metadata": {},
   "outputs": [],
   "source": []
  },
  {
   "cell_type": "code",
   "execution_count": 90,
   "id": "b1c883cc-b6aa-49e0-a85e-54ac17f66fa5",
   "metadata": {
    "execution": {
     "iopub.execute_input": "2021-08-20T00:34:00.986146Z",
     "iopub.status.busy": "2021-08-20T00:34:00.985941Z",
     "iopub.status.idle": "2021-08-20T00:34:01.061633Z",
     "shell.execute_reply": "2021-08-20T00:34:01.060598Z",
     "shell.execute_reply.started": "2021-08-20T00:34:00.986129Z"
    }
   },
   "outputs": [
    {
     "name": "stdout",
     "output_type": "stream",
     "text": [
      "<class 'pandas.core.frame.DataFrame'>\n",
      "RangeIndex: 21000 entries, 0 to 20999\n",
      "Data columns (total 20 columns):\n",
      " #   Column            Non-Null Count  Dtype              \n",
      "---  ------            --------------  -----              \n",
      " 0   abstract          21000 non-null  object             \n",
      " 1   web_url           21000 non-null  object             \n",
      " 2   snippet           21000 non-null  object             \n",
      " 3   lead_paragraph    21000 non-null  object             \n",
      " 4   source            21000 non-null  object             \n",
      " 5   multimedia        21000 non-null  object             \n",
      " 6   headline          21000 non-null  object             \n",
      " 7   keywords          21000 non-null  object             \n",
      " 8   pub_date          21000 non-null  datetime64[ns, UTC]\n",
      " 9   document_type     21000 non-null  object             \n",
      " 10  news_desk         21000 non-null  object             \n",
      " 11  section_name      21000 non-null  object             \n",
      " 12  subsection_name   8660 non-null   object             \n",
      " 13  byline            21000 non-null  object             \n",
      " 14  type_of_material  21000 non-null  object             \n",
      " 15  _id               21000 non-null  object             \n",
      " 16  word_count        21000 non-null  int64              \n",
      " 17  uri               21000 non-null  object             \n",
      " 18  print_section     15971 non-null  object             \n",
      " 19  print_page        15977 non-null  object             \n",
      "dtypes: datetime64[ns, UTC](1), int64(1), object(18)\n",
      "memory usage: 3.2+ MB\n"
     ]
    }
   ],
   "source": [
    "articles_df.info()"
   ]
  },
  {
   "cell_type": "markdown",
   "id": "483cf57e-ace3-42ea-b77b-0ca670c2bed3",
   "metadata": {},
   "source": [
    "Nulls in: \n",
    "    - print_section, print_page , : probably not in print edition \n",
    "    - subsection_name : check unique values of subsection_name and see if it should be imputed. Are these just on the main section before subsections ? \n",
    "    "
   ]
  },
  {
   "cell_type": "code",
   "execution_count": 86,
   "id": "e68757e0-93e0-45f3-86f3-5b3c276f5635",
   "metadata": {
    "execution": {
     "iopub.execute_input": "2021-08-20T00:33:32.230695Z",
     "iopub.status.busy": "2021-08-20T00:33:32.230509Z",
     "iopub.status.idle": "2021-08-20T00:33:32.236098Z",
     "shell.execute_reply": "2021-08-20T00:33:32.235569Z",
     "shell.execute_reply.started": "2021-08-20T00:33:32.230679Z"
    },
    "tags": []
   },
   "outputs": [
    {
     "data": {
      "text/plain": [
       "0   2021-08-17 21:47:12+00:00\n",
       "Name: pub_date, dtype: datetime64[ns, UTC]"
      ]
     },
     "execution_count": 86,
     "metadata": {},
     "output_type": "execute_result"
    }
   ],
   "source": [
    "# latest articles from this date \n",
    "articles_df['pub_date'].head(1)"
   ]
  },
  {
   "cell_type": "code",
   "execution_count": 87,
   "id": "c28dde64-d22f-44bc-b37d-fc8f798eb854",
   "metadata": {
    "execution": {
     "iopub.execute_input": "2021-08-20T00:33:35.904347Z",
     "iopub.status.busy": "2021-08-20T00:33:35.904154Z",
     "iopub.status.idle": "2021-08-20T00:33:35.910114Z",
     "shell.execute_reply": "2021-08-20T00:33:35.909535Z",
     "shell.execute_reply.started": "2021-08-20T00:33:35.904330Z"
    },
    "tags": []
   },
   "outputs": [
    {
     "data": {
      "text/plain": [
       "20999   2016-09-06 13:20:44+00:00\n",
       "Name: pub_date, dtype: datetime64[ns, UTC]"
      ]
     },
     "execution_count": 87,
     "metadata": {},
     "output_type": "execute_result"
    }
   ],
   "source": [
    "# oldest articles from this date\n",
    "articles_df['pub_date'].tail(1)"
   ]
  },
  {
   "cell_type": "code",
   "execution_count": 92,
   "id": "7a4bae50-4ede-4c73-baab-02ba74cea232",
   "metadata": {
    "execution": {
     "iopub.execute_input": "2021-08-20T00:35:49.338509Z",
     "iopub.status.busy": "2021-08-20T00:35:49.338228Z",
     "iopub.status.idle": "2021-08-20T00:35:49.342344Z",
     "shell.execute_reply": "2021-08-20T00:35:49.342048Z",
     "shell.execute_reply.started": "2021-08-20T00:35:49.338492Z"
    }
   },
   "outputs": [
    {
     "data": {
      "text/plain": [
       "pandas.core.frame.DataFrame"
      ]
     },
     "execution_count": 92,
     "metadata": {},
     "output_type": "execute_result"
    }
   ],
   "source": [
    "type(articles_df)"
   ]
  },
  {
   "cell_type": "code",
   "execution_count": 101,
   "id": "9115fd73-c82b-4481-a4d9-ac493c78ac79",
   "metadata": {
    "execution": {
     "iopub.execute_input": "2021-08-20T00:40:50.497825Z",
     "iopub.status.busy": "2021-08-20T00:40:50.497634Z",
     "iopub.status.idle": "2021-08-20T00:40:50.501679Z",
     "shell.execute_reply": "2021-08-20T00:40:50.501058Z",
     "shell.execute_reply.started": "2021-08-20T00:40:50.497808Z"
    },
    "tags": []
   },
   "outputs": [],
   "source": [
    "pd.set_option('max_colwidth',None)\n",
    "#articles_df.head(1)\n",
    "# multimedia column useless and causing problems "
   ]
  },
  {
   "cell_type": "code",
   "execution_count": 110,
   "id": "86044df4-4e75-4dea-b1dd-0b86d25e5b15",
   "metadata": {
    "execution": {
     "iopub.execute_input": "2021-08-20T00:50:26.479085Z",
     "iopub.status.busy": "2021-08-20T00:50:26.478896Z",
     "iopub.status.idle": "2021-08-20T00:50:26.482263Z",
     "shell.execute_reply": "2021-08-20T00:50:26.481514Z",
     "shell.execute_reply.started": "2021-08-20T00:50:26.479069Z"
    },
    "tags": []
   },
   "outputs": [],
   "source": [
    "cols_to_drop = ['source','multimedia']"
   ]
  },
  {
   "cell_type": "code",
   "execution_count": 107,
   "id": "b828fa88-d27c-43c5-920e-e8237443361e",
   "metadata": {
    "execution": {
     "iopub.execute_input": "2021-08-20T00:44:00.278256Z",
     "iopub.status.busy": "2021-08-20T00:44:00.278041Z",
     "iopub.status.idle": "2021-08-20T00:44:00.291042Z",
     "shell.execute_reply": "2021-08-20T00:44:00.290412Z",
     "shell.execute_reply.started": "2021-08-20T00:44:00.278238Z"
    },
    "tags": []
   },
   "outputs": [
    {
     "data": {
      "text/plain": [
       "The New York Times              20978\n",
       "International New York Times       22\n",
       "Name: source, dtype: int64"
      ]
     },
     "execution_count": 107,
     "metadata": {},
     "output_type": "execute_result"
    }
   ],
   "source": [
    "articles_df['source'].value_counts()"
   ]
  },
  {
   "cell_type": "markdown",
   "id": "019e6fe8-4d17-4526-9f6e-01e13cb1e999",
   "metadata": {},
   "source": [
    "Only two sources. Does not provide useful information."
   ]
  },
  {
   "cell_type": "code",
   "execution_count": 105,
   "id": "1437215b-5cbc-4472-811a-ca56e7a1d4c8",
   "metadata": {
    "execution": {
     "iopub.execute_input": "2021-08-20T00:43:31.360192Z",
     "iopub.status.busy": "2021-08-20T00:43:31.359982Z",
     "iopub.status.idle": "2021-08-20T00:43:31.364885Z",
     "shell.execute_reply": "2021-08-20T00:43:31.364293Z",
     "shell.execute_reply.started": "2021-08-20T00:43:31.360167Z"
    }
   },
   "outputs": [
    {
     "data": {
      "text/plain": [
       "Index(['abstract', 'web_url', 'snippet', 'lead_paragraph', 'source',\n",
       "       'headline', 'keywords', 'pub_date', 'document_type', 'news_desk',\n",
       "       'section_name', 'subsection_name', 'byline', 'type_of_material', '_id',\n",
       "       'word_count', 'uri', 'print_section', 'print_page'],\n",
       "      dtype='object')"
      ]
     },
     "execution_count": 105,
     "metadata": {},
     "output_type": "execute_result"
    }
   ],
   "source": [
    "articles_df.columns"
   ]
  },
  {
   "cell_type": "code",
   "execution_count": 134,
   "id": "19a0d110-224f-4af6-af8b-9359ac23bfb5",
   "metadata": {
    "execution": {
     "iopub.execute_input": "2021-08-20T01:07:41.481282Z",
     "iopub.status.busy": "2021-08-20T01:07:41.481092Z",
     "iopub.status.idle": "2021-08-20T01:07:41.485069Z",
     "shell.execute_reply": "2021-08-20T01:07:41.484148Z",
     "shell.execute_reply.started": "2021-08-20T01:07:41.481265Z"
    },
    "tags": []
   },
   "outputs": [],
   "source": [
    "def null_per(col):\n",
    "    return round(articles_df[col].isnull().sum()/len(articles_df[col]),3)"
   ]
  },
  {
   "cell_type": "code",
   "execution_count": 135,
   "id": "a0211a6b-1c81-40ac-96b6-4391dff645e8",
   "metadata": {
    "execution": {
     "iopub.execute_input": "2021-08-20T01:07:43.186998Z",
     "iopub.status.busy": "2021-08-20T01:07:43.186803Z",
     "iopub.status.idle": "2021-08-20T01:07:43.195595Z",
     "shell.execute_reply": "2021-08-20T01:07:43.194787Z",
     "shell.execute_reply.started": "2021-08-20T01:07:43.186981Z"
    },
    "tags": []
   },
   "outputs": [
    {
     "data": {
      "text/plain": [
       "0.588"
      ]
     },
     "execution_count": 135,
     "metadata": {},
     "output_type": "execute_result"
    }
   ],
   "source": [
    "null_per('subsection_name')"
   ]
  },
  {
   "cell_type": "code",
   "execution_count": 114,
   "id": "a90e8501-debb-42f7-9f7b-76c54020d4b8",
   "metadata": {
    "execution": {
     "iopub.execute_input": "2021-08-20T00:52:04.264017Z",
     "iopub.status.busy": "2021-08-20T00:52:04.263826Z",
     "iopub.status.idle": "2021-08-20T00:52:04.273244Z",
     "shell.execute_reply": "2021-08-20T00:52:04.272663Z",
     "shell.execute_reply.started": "2021-08-20T00:52:04.264000Z"
    },
    "tags": []
   },
   "outputs": [
    {
     "data": {
      "text/plain": [
       "0.5876190476190476"
      ]
     },
     "execution_count": 114,
     "metadata": {},
     "output_type": "execute_result"
    }
   ],
   "source": [
    "# percentage missing \n",
    "articles_df['subsection_name'].isnull().sum()/len(articles_df['subsection_name'])"
   ]
  },
  {
   "cell_type": "code",
   "execution_count": 115,
   "id": "799c92f1-8f19-4d1c-a75c-7417ec866616",
   "metadata": {
    "execution": {
     "iopub.execute_input": "2021-08-20T00:53:18.597809Z",
     "iopub.status.busy": "2021-08-20T00:53:18.597559Z",
     "iopub.status.idle": "2021-08-20T00:53:18.605859Z",
     "shell.execute_reply": "2021-08-20T00:53:18.605157Z",
     "shell.execute_reply.started": "2021-08-20T00:53:18.597789Z"
    }
   },
   "outputs": [
    {
     "data": {
      "text/plain": [
       "44"
      ]
     },
     "execution_count": 115,
     "metadata": {},
     "output_type": "execute_result"
    }
   ],
   "source": [
    "# number of subsections in sample set\n",
    "len(articles_df['subsection_name'].value_counts())"
   ]
  },
  {
   "cell_type": "code",
   "execution_count": 116,
   "id": "3287561d-05e4-4956-ac67-999c1dd46824",
   "metadata": {
    "execution": {
     "iopub.execute_input": "2021-08-20T00:53:54.095784Z",
     "iopub.status.busy": "2021-08-20T00:53:54.095585Z",
     "iopub.status.idle": "2021-08-20T00:53:54.105996Z",
     "shell.execute_reply": "2021-08-20T00:53:54.105352Z",
     "shell.execute_reply.started": "2021-08-20T00:53:54.095767Z"
    },
    "tags": []
   },
   "outputs": [
    {
     "data": {
      "text/plain": [
       "DealBook                       0.414088\n",
       "Media                          0.272633\n",
       "Economy                        0.138684\n",
       "Personal Tech                  0.046420\n",
       "Energy & Environment           0.040878\n",
       "Politics                       0.025058\n",
       "Commercial Real Estate         0.022979\n",
       "International Business         0.008661\n",
       "Entrepreneurship               0.006351\n",
       "New Cars                       0.005543\n",
       "Wheels                         0.004273\n",
       "Asia Pacific                   0.003349\n",
       "Europe                         0.001617\n",
       "Retirement                     0.001039\n",
       "Paying for College             0.000693\n",
       "Television                     0.000693\n",
       "Asset Allocation               0.000577\n",
       "Australia                      0.000462\n",
       "Middle East                    0.000346\n",
       "Student Loans                  0.000346\n",
       "401(k)'s and Similar Plans     0.000346\n",
       "Automobiles                    0.000346\n",
       "Americas                       0.000346\n",
       "Stocks and Bonds               0.000346\n",
       "Taxes                          0.000346\n",
       "Brokerage and Bank Accounts    0.000231\n",
       "Family                         0.000231\n",
       "Eat                            0.000231\n",
       "Your Taxes                     0.000231\n",
       "Household Budgeting            0.000231\n",
       "Credit and Debit Cards         0.000231\n",
       "Credit Scores                  0.000231\n",
       "Auto Insurance                 0.000231\n",
       "Estate Planning                0.000231\n",
       "Health Insurance               0.000231\n",
       "Identify Theft                 0.000231\n",
       "Mortgages                      0.000231\n",
       "Financial Planners             0.000115\n",
       "Wirecutter                     0.000115\n",
       "Mutual Funds                   0.000115\n",
       "Art & Design                   0.000115\n",
       "Books Update                   0.000115\n",
       "Collectible Cars               0.000115\n",
       "Live                           0.000115\n",
       "Name: subsection_name, dtype: float64"
      ]
     },
     "execution_count": 116,
     "metadata": {},
     "output_type": "execute_result"
    }
   ],
   "source": [
    "articles_df['subsection_name'].value_counts(normalize=True)"
   ]
  },
  {
   "cell_type": "code",
   "execution_count": 131,
   "id": "35c61142-e689-4f82-9124-583994d9d068",
   "metadata": {
    "execution": {
     "iopub.execute_input": "2021-08-20T01:06:22.339224Z",
     "iopub.status.busy": "2021-08-20T01:06:22.339042Z",
     "iopub.status.idle": "2021-08-20T01:06:22.342434Z",
     "shell.execute_reply": "2021-08-20T01:06:22.341825Z",
     "shell.execute_reply.started": "2021-08-20T01:06:22.339208Z"
    },
    "tags": []
   },
   "outputs": [],
   "source": [
    "# articles_df[articles_df['subsection_name']=='DealBook'].head()\n",
    "# look at bunch of them "
   ]
  },
  {
   "cell_type": "code",
   "execution_count": 137,
   "id": "882dea38-6933-4403-9193-bce82913e8bb",
   "metadata": {
    "execution": {
     "iopub.execute_input": "2021-08-20T01:08:28.423560Z",
     "iopub.status.busy": "2021-08-20T01:08:28.423372Z",
     "iopub.status.idle": "2021-08-20T01:08:28.432515Z",
     "shell.execute_reply": "2021-08-20T01:08:28.431849Z",
     "shell.execute_reply.started": "2021-08-20T01:08:28.423543Z"
    },
    "tags": []
   },
   "outputs": [
    {
     "data": {
      "text/plain": [
       "0.588"
      ]
     },
     "execution_count": 137,
     "metadata": {},
     "output_type": "execute_result"
    }
   ],
   "source": [
    "null_per('subsection_name')"
   ]
  },
  {
   "cell_type": "code",
   "execution_count": 139,
   "id": "c6d3357e-e894-45e8-a25b-c34e530ceafe",
   "metadata": {
    "execution": {
     "iopub.execute_input": "2021-08-20T01:10:26.916902Z",
     "iopub.status.busy": "2021-08-20T01:10:26.916671Z",
     "iopub.status.idle": "2021-08-20T01:10:26.921912Z",
     "shell.execute_reply": "2021-08-20T01:10:26.921309Z",
     "shell.execute_reply.started": "2021-08-20T01:10:26.916884Z"
    }
   },
   "outputs": [
    {
     "data": {
      "text/plain": [
       "0    nyt://article/cc8b3cc4-e1d5-5d8b-aa1b-bf81c55a14c6\n",
       "1    nyt://article/5c972b13-426e-533c-a80d-c49b32e0ac67\n",
       "2    nyt://article/e9b3fc57-0512-5264-8e37-394e5f6bac54\n",
       "3    nyt://article/a7f3f118-c63d-559d-a473-d498ad6adeb6\n",
       "4    nyt://article/5b17cd75-e588-57a9-b453-c858c2386169\n",
       "Name: _id, dtype: object"
      ]
     },
     "execution_count": 139,
     "metadata": {},
     "output_type": "execute_result"
    }
   ],
   "source": [
    "articles_df['_id'].head()"
   ]
  },
  {
   "cell_type": "markdown",
   "id": "b2aa1f06-25c2-48ae-8ca8-190c5bbb8d5b",
   "metadata": {},
   "source": [
    "Looks like internal ID in NYT system. Not useful for our purposes. "
   ]
  },
  {
   "cell_type": "code",
   "execution_count": 140,
   "id": "f23b0b2d-4601-49e9-9e26-32409237cbef",
   "metadata": {
    "execution": {
     "iopub.execute_input": "2021-08-20T01:12:06.346786Z",
     "iopub.status.busy": "2021-08-20T01:12:06.346547Z",
     "iopub.status.idle": "2021-08-20T01:12:06.352300Z",
     "shell.execute_reply": "2021-08-20T01:12:06.351684Z",
     "shell.execute_reply.started": "2021-08-20T01:12:06.346770Z"
    }
   },
   "outputs": [
    {
     "data": {
      "text/plain": [
       "0    nyt://article/cc8b3cc4-e1d5-5d8b-aa1b-bf81c55a14c6\n",
       "1    nyt://article/5c972b13-426e-533c-a80d-c49b32e0ac67\n",
       "2    nyt://article/e9b3fc57-0512-5264-8e37-394e5f6bac54\n",
       "3    nyt://article/a7f3f118-c63d-559d-a473-d498ad6adeb6\n",
       "4    nyt://article/5b17cd75-e588-57a9-b453-c858c2386169\n",
       "Name: uri, dtype: object"
      ]
     },
     "execution_count": 140,
     "metadata": {},
     "output_type": "execute_result"
    }
   ],
   "source": [
    "articles_df['uri'].head()\n",
    "# also useless "
   ]
  },
  {
   "cell_type": "code",
   "execution_count": 142,
   "id": "7d9c145c-c2f3-47ac-9324-a933276684e7",
   "metadata": {
    "execution": {
     "iopub.execute_input": "2021-08-20T01:13:06.113904Z",
     "iopub.status.busy": "2021-08-20T01:13:06.113723Z",
     "iopub.status.idle": "2021-08-20T01:13:06.126747Z",
     "shell.execute_reply": "2021-08-20T01:13:06.126163Z",
     "shell.execute_reply.started": "2021-08-20T01:13:06.113887Z"
    },
    "tags": []
   },
   "outputs": [
    {
     "data": {
      "text/plain": [
       "Business    21000\n",
       "Name: news_desk, dtype: int64"
      ]
     },
     "execution_count": 142,
     "metadata": {},
     "output_type": "execute_result"
    }
   ],
   "source": [
    "articles_df['news_desk'].value_counts()\n",
    "# Useless "
   ]
  },
  {
   "cell_type": "code",
   "execution_count": 144,
   "id": "f791a885-fe72-465b-a8f5-b883bf56ad72",
   "metadata": {
    "execution": {
     "iopub.execute_input": "2021-08-20T01:13:26.456607Z",
     "iopub.status.busy": "2021-08-20T01:13:26.456416Z",
     "iopub.status.idle": "2021-08-20T01:13:26.468717Z",
     "shell.execute_reply": "2021-08-20T01:13:26.468111Z",
     "shell.execute_reply.started": "2021-08-20T01:13:26.456585Z"
    },
    "tags": []
   },
   "outputs": [
    {
     "data": {
      "text/plain": [
       "article    21000\n",
       "Name: document_type, dtype: int64"
      ]
     },
     "execution_count": 144,
     "metadata": {},
     "output_type": "execute_result"
    }
   ],
   "source": [
    "articles_df['document_type'].value_counts()\n",
    "# Useless "
   ]
  },
  {
   "cell_type": "code",
   "execution_count": 154,
   "id": "63a2f7df-56b1-4867-9ccf-33036c70c3ee",
   "metadata": {
    "execution": {
     "iopub.execute_input": "2021-08-20T01:29:34.753316Z",
     "iopub.status.busy": "2021-08-20T01:29:34.753126Z",
     "iopub.status.idle": "2021-08-20T01:29:34.756745Z",
     "shell.execute_reply": "2021-08-20T01:29:34.756162Z",
     "shell.execute_reply.started": "2021-08-20T01:29:34.753299Z"
    },
    "tags": []
   },
   "outputs": [],
   "source": [
    "#(articles_df['keywords'].head())\n",
    "# list of dictionaries \n"
   ]
  },
  {
   "cell_type": "code",
   "execution_count": 165,
   "id": "aed7abe2-5948-4e28-bab9-3e4fe2bee930",
   "metadata": {
    "execution": {
     "iopub.execute_input": "2021-08-20T02:02:49.394538Z",
     "iopub.status.busy": "2021-08-20T02:02:49.394359Z",
     "iopub.status.idle": "2021-08-20T02:02:49.398206Z",
     "shell.execute_reply": "2021-08-20T02:02:49.397450Z",
     "shell.execute_reply.started": "2021-08-20T02:02:49.394521Z"
    },
    "tags": []
   },
   "outputs": [],
   "source": [
    "#articles_df['type_of_material'].value_counts()\n",
    "#articles_df[articles_df['type_of_material']=='News Analysis']\n",
    "# useless can remove "
   ]
  },
  {
   "cell_type": "code",
   "execution_count": 166,
   "id": "43977e44-5f4b-4b33-b9ba-53699b1bcd77",
   "metadata": {
    "execution": {
     "iopub.execute_input": "2021-08-20T02:03:12.144619Z",
     "iopub.status.busy": "2021-08-20T02:03:12.144168Z",
     "iopub.status.idle": "2021-08-20T02:03:12.151213Z",
     "shell.execute_reply": "2021-08-20T02:03:12.150600Z",
     "shell.execute_reply.started": "2021-08-20T02:03:12.144598Z"
    }
   },
   "outputs": [
    {
     "data": {
      "text/plain": [
       "1364    33\n",
       "1292    31\n",
       "1293    30\n",
       "971     29\n",
       "1174    29\n",
       "        ..\n",
       "2130     1\n",
       "2787     1\n",
       "2397     1\n",
       "2300     1\n",
       "3945     1\n",
       "Name: word_count, Length: 2305, dtype: int64"
      ]
     },
     "execution_count": 166,
     "metadata": {},
     "output_type": "execute_result"
    }
   ],
   "source": [
    "articles_df['word_count'].value_counts()"
   ]
  },
  {
   "cell_type": "code",
   "execution_count": 138,
   "id": "c9300265-099a-41d4-b6d4-4255bcb6427a",
   "metadata": {
    "execution": {
     "iopub.execute_input": "2021-08-20T01:10:02.122064Z",
     "iopub.status.busy": "2021-08-20T01:10:02.121871Z",
     "iopub.status.idle": "2021-08-20T01:10:02.126699Z",
     "shell.execute_reply": "2021-08-20T01:10:02.126093Z",
     "shell.execute_reply.started": "2021-08-20T01:10:02.122045Z"
    }
   },
   "outputs": [
    {
     "data": {
      "text/plain": [
       "Index(['abstract', 'web_url', 'snippet', 'lead_paragraph', 'source',\n",
       "       'headline', 'keywords', 'pub_date', 'document_type', 'news_desk',\n",
       "       'section_name', 'subsection_name', 'byline', 'type_of_material', '_id',\n",
       "       'word_count', 'uri', 'print_section', 'print_page'],\n",
       "      dtype='object')"
      ]
     },
     "execution_count": 138,
     "metadata": {},
     "output_type": "execute_result"
    }
   ],
   "source": [
    "articles_df.columns"
   ]
  },
  {
   "cell_type": "code",
   "execution_count": null,
   "id": "6bd11889-c6d2-4665-8821-08039094587f",
   "metadata": {},
   "outputs": [],
   "source": []
  },
  {
   "cell_type": "code",
   "execution_count": 95,
   "id": "5929b25b-225b-4f28-8a4f-fbdd9f40ffd6",
   "metadata": {
    "execution": {
     "iopub.execute_input": "2021-08-20T00:36:12.659414Z",
     "iopub.status.busy": "2021-08-20T00:36:12.659146Z",
     "iopub.status.idle": "2021-08-20T00:36:12.749994Z",
     "shell.execute_reply": "2021-08-20T00:36:12.749066Z",
     "shell.execute_reply.started": "2021-08-20T00:36:12.659397Z"
    },
    "tags": []
   },
   "outputs": [
    {
     "ename": "TypeError",
     "evalue": "unhashable type: 'list'",
     "output_type": "error",
     "traceback": [
      "\u001b[0;31m---------------------------------------------------------------------------\u001b[0m",
      "\u001b[0;31mTypeError\u001b[0m                                 Traceback (most recent call last)",
      "\u001b[0;32m<ipython-input-95-1df49faf0b44>\u001b[0m in \u001b[0;36m<module>\u001b[0;34m\u001b[0m\n\u001b[0;32m----> 1\u001b[0;31m \u001b[0marticles_df\u001b[0m\u001b[0;34m.\u001b[0m\u001b[0mdrop_duplicates\u001b[0m\u001b[0;34m(\u001b[0m\u001b[0minplace\u001b[0m\u001b[0;34m=\u001b[0m \u001b[0;32mFalse\u001b[0m\u001b[0;34m)\u001b[0m\u001b[0;34m\u001b[0m\u001b[0;34m\u001b[0m\u001b[0m\n\u001b[0m",
      "\u001b[0;32m~/anaconda3/lib/python3.8/site-packages/pandas/util/_decorators.py\u001b[0m in \u001b[0;36mwrapper\u001b[0;34m(*args, **kwargs)\u001b[0m\n\u001b[1;32m    309\u001b[0m                     \u001b[0mstacklevel\u001b[0m\u001b[0;34m=\u001b[0m\u001b[0mstacklevel\u001b[0m\u001b[0;34m,\u001b[0m\u001b[0;34m\u001b[0m\u001b[0;34m\u001b[0m\u001b[0m\n\u001b[1;32m    310\u001b[0m                 )\n\u001b[0;32m--> 311\u001b[0;31m             \u001b[0;32mreturn\u001b[0m \u001b[0mfunc\u001b[0m\u001b[0;34m(\u001b[0m\u001b[0;34m*\u001b[0m\u001b[0margs\u001b[0m\u001b[0;34m,\u001b[0m \u001b[0;34m**\u001b[0m\u001b[0mkwargs\u001b[0m\u001b[0;34m)\u001b[0m\u001b[0;34m\u001b[0m\u001b[0;34m\u001b[0m\u001b[0m\n\u001b[0m\u001b[1;32m    312\u001b[0m \u001b[0;34m\u001b[0m\u001b[0m\n\u001b[1;32m    313\u001b[0m         \u001b[0;32mreturn\u001b[0m \u001b[0mwrapper\u001b[0m\u001b[0;34m\u001b[0m\u001b[0;34m\u001b[0m\u001b[0m\n",
      "\u001b[0;32m~/anaconda3/lib/python3.8/site-packages/pandas/core/frame.py\u001b[0m in \u001b[0;36mdrop_duplicates\u001b[0;34m(self, subset, keep, inplace, ignore_index)\u001b[0m\n\u001b[1;32m   6056\u001b[0m         \u001b[0minplace\u001b[0m \u001b[0;34m=\u001b[0m \u001b[0mvalidate_bool_kwarg\u001b[0m\u001b[0;34m(\u001b[0m\u001b[0minplace\u001b[0m\u001b[0;34m,\u001b[0m \u001b[0;34m\"inplace\"\u001b[0m\u001b[0;34m)\u001b[0m\u001b[0;34m\u001b[0m\u001b[0;34m\u001b[0m\u001b[0m\n\u001b[1;32m   6057\u001b[0m         \u001b[0mignore_index\u001b[0m \u001b[0;34m=\u001b[0m \u001b[0mvalidate_bool_kwarg\u001b[0m\u001b[0;34m(\u001b[0m\u001b[0mignore_index\u001b[0m\u001b[0;34m,\u001b[0m \u001b[0;34m\"ignore_index\"\u001b[0m\u001b[0;34m)\u001b[0m\u001b[0;34m\u001b[0m\u001b[0;34m\u001b[0m\u001b[0m\n\u001b[0;32m-> 6058\u001b[0;31m         \u001b[0mduplicated\u001b[0m \u001b[0;34m=\u001b[0m \u001b[0mself\u001b[0m\u001b[0;34m.\u001b[0m\u001b[0mduplicated\u001b[0m\u001b[0;34m(\u001b[0m\u001b[0msubset\u001b[0m\u001b[0;34m,\u001b[0m \u001b[0mkeep\u001b[0m\u001b[0;34m=\u001b[0m\u001b[0mkeep\u001b[0m\u001b[0;34m)\u001b[0m\u001b[0;34m\u001b[0m\u001b[0;34m\u001b[0m\u001b[0m\n\u001b[0m\u001b[1;32m   6059\u001b[0m \u001b[0;34m\u001b[0m\u001b[0m\n\u001b[1;32m   6060\u001b[0m         \u001b[0mresult\u001b[0m \u001b[0;34m=\u001b[0m \u001b[0mself\u001b[0m\u001b[0;34m[\u001b[0m\u001b[0;34m-\u001b[0m\u001b[0mduplicated\u001b[0m\u001b[0;34m]\u001b[0m\u001b[0;34m\u001b[0m\u001b[0;34m\u001b[0m\u001b[0m\n",
      "\u001b[0;32m~/anaconda3/lib/python3.8/site-packages/pandas/core/frame.py\u001b[0m in \u001b[0;36mduplicated\u001b[0;34m(self, subset, keep)\u001b[0m\n\u001b[1;32m   6193\u001b[0m \u001b[0;34m\u001b[0m\u001b[0m\n\u001b[1;32m   6194\u001b[0m         \u001b[0mvals\u001b[0m \u001b[0;34m=\u001b[0m \u001b[0;34m(\u001b[0m\u001b[0mcol\u001b[0m\u001b[0;34m.\u001b[0m\u001b[0mvalues\u001b[0m \u001b[0;32mfor\u001b[0m \u001b[0mname\u001b[0m\u001b[0;34m,\u001b[0m \u001b[0mcol\u001b[0m \u001b[0;32min\u001b[0m \u001b[0mself\u001b[0m\u001b[0;34m.\u001b[0m\u001b[0mitems\u001b[0m\u001b[0;34m(\u001b[0m\u001b[0;34m)\u001b[0m \u001b[0;32mif\u001b[0m \u001b[0mname\u001b[0m \u001b[0;32min\u001b[0m \u001b[0msubset\u001b[0m\u001b[0;34m)\u001b[0m\u001b[0;34m\u001b[0m\u001b[0;34m\u001b[0m\u001b[0m\n\u001b[0;32m-> 6195\u001b[0;31m         \u001b[0mlabels\u001b[0m\u001b[0;34m,\u001b[0m \u001b[0mshape\u001b[0m \u001b[0;34m=\u001b[0m \u001b[0mmap\u001b[0m\u001b[0;34m(\u001b[0m\u001b[0mlist\u001b[0m\u001b[0;34m,\u001b[0m \u001b[0mzip\u001b[0m\u001b[0;34m(\u001b[0m\u001b[0;34m*\u001b[0m\u001b[0mmap\u001b[0m\u001b[0;34m(\u001b[0m\u001b[0mf\u001b[0m\u001b[0;34m,\u001b[0m \u001b[0mvals\u001b[0m\u001b[0;34m)\u001b[0m\u001b[0;34m)\u001b[0m\u001b[0;34m)\u001b[0m\u001b[0;34m\u001b[0m\u001b[0;34m\u001b[0m\u001b[0m\n\u001b[0m\u001b[1;32m   6196\u001b[0m \u001b[0;34m\u001b[0m\u001b[0m\n\u001b[1;32m   6197\u001b[0m         ids = get_group_index(\n",
      "\u001b[0;32m~/anaconda3/lib/python3.8/site-packages/pandas/core/frame.py\u001b[0m in \u001b[0;36mf\u001b[0;34m(vals)\u001b[0m\n\u001b[1;32m   6166\u001b[0m \u001b[0;34m\u001b[0m\u001b[0m\n\u001b[1;32m   6167\u001b[0m         \u001b[0;32mdef\u001b[0m \u001b[0mf\u001b[0m\u001b[0;34m(\u001b[0m\u001b[0mvals\u001b[0m\u001b[0;34m)\u001b[0m \u001b[0;34m->\u001b[0m \u001b[0mtuple\u001b[0m\u001b[0;34m[\u001b[0m\u001b[0mnp\u001b[0m\u001b[0;34m.\u001b[0m\u001b[0mndarray\u001b[0m\u001b[0;34m,\u001b[0m \u001b[0mint\u001b[0m\u001b[0;34m]\u001b[0m\u001b[0;34m:\u001b[0m\u001b[0;34m\u001b[0m\u001b[0;34m\u001b[0m\u001b[0m\n\u001b[0;32m-> 6168\u001b[0;31m             \u001b[0mlabels\u001b[0m\u001b[0;34m,\u001b[0m \u001b[0mshape\u001b[0m \u001b[0;34m=\u001b[0m \u001b[0malgorithms\u001b[0m\u001b[0;34m.\u001b[0m\u001b[0mfactorize\u001b[0m\u001b[0;34m(\u001b[0m\u001b[0mvals\u001b[0m\u001b[0;34m,\u001b[0m \u001b[0msize_hint\u001b[0m\u001b[0;34m=\u001b[0m\u001b[0mlen\u001b[0m\u001b[0;34m(\u001b[0m\u001b[0mself\u001b[0m\u001b[0;34m)\u001b[0m\u001b[0;34m)\u001b[0m\u001b[0;34m\u001b[0m\u001b[0;34m\u001b[0m\u001b[0m\n\u001b[0m\u001b[1;32m   6169\u001b[0m             \u001b[0;32mreturn\u001b[0m \u001b[0mlabels\u001b[0m\u001b[0;34m.\u001b[0m\u001b[0mastype\u001b[0m\u001b[0;34m(\u001b[0m\u001b[0;34m\"i8\"\u001b[0m\u001b[0;34m,\u001b[0m \u001b[0mcopy\u001b[0m\u001b[0;34m=\u001b[0m\u001b[0;32mFalse\u001b[0m\u001b[0;34m)\u001b[0m\u001b[0;34m,\u001b[0m \u001b[0mlen\u001b[0m\u001b[0;34m(\u001b[0m\u001b[0mshape\u001b[0m\u001b[0;34m)\u001b[0m\u001b[0;34m\u001b[0m\u001b[0;34m\u001b[0m\u001b[0m\n\u001b[1;32m   6170\u001b[0m \u001b[0;34m\u001b[0m\u001b[0m\n",
      "\u001b[0;32m~/anaconda3/lib/python3.8/site-packages/pandas/core/algorithms.py\u001b[0m in \u001b[0;36mfactorize\u001b[0;34m(values, sort, na_sentinel, size_hint)\u001b[0m\n\u001b[1;32m    758\u001b[0m             \u001b[0mna_value\u001b[0m \u001b[0;34m=\u001b[0m \u001b[0;32mNone\u001b[0m\u001b[0;34m\u001b[0m\u001b[0;34m\u001b[0m\u001b[0m\n\u001b[1;32m    759\u001b[0m \u001b[0;34m\u001b[0m\u001b[0m\n\u001b[0;32m--> 760\u001b[0;31m         codes, uniques = factorize_array(\n\u001b[0m\u001b[1;32m    761\u001b[0m             \u001b[0mvalues\u001b[0m\u001b[0;34m,\u001b[0m \u001b[0mna_sentinel\u001b[0m\u001b[0;34m=\u001b[0m\u001b[0mna_sentinel\u001b[0m\u001b[0;34m,\u001b[0m \u001b[0msize_hint\u001b[0m\u001b[0;34m=\u001b[0m\u001b[0msize_hint\u001b[0m\u001b[0;34m,\u001b[0m \u001b[0mna_value\u001b[0m\u001b[0;34m=\u001b[0m\u001b[0mna_value\u001b[0m\u001b[0;34m\u001b[0m\u001b[0;34m\u001b[0m\u001b[0m\n\u001b[1;32m    762\u001b[0m         )\n",
      "\u001b[0;32m~/anaconda3/lib/python3.8/site-packages/pandas/core/algorithms.py\u001b[0m in \u001b[0;36mfactorize_array\u001b[0;34m(values, na_sentinel, size_hint, na_value, mask)\u001b[0m\n\u001b[1;32m    560\u001b[0m \u001b[0;34m\u001b[0m\u001b[0m\n\u001b[1;32m    561\u001b[0m     \u001b[0mtable\u001b[0m \u001b[0;34m=\u001b[0m \u001b[0mhash_klass\u001b[0m\u001b[0;34m(\u001b[0m\u001b[0msize_hint\u001b[0m \u001b[0;32mor\u001b[0m \u001b[0mlen\u001b[0m\u001b[0;34m(\u001b[0m\u001b[0mvalues\u001b[0m\u001b[0;34m)\u001b[0m\u001b[0;34m)\u001b[0m\u001b[0;34m\u001b[0m\u001b[0;34m\u001b[0m\u001b[0m\n\u001b[0;32m--> 562\u001b[0;31m     uniques, codes = table.factorize(\n\u001b[0m\u001b[1;32m    563\u001b[0m         \u001b[0mvalues\u001b[0m\u001b[0;34m,\u001b[0m \u001b[0mna_sentinel\u001b[0m\u001b[0;34m=\u001b[0m\u001b[0mna_sentinel\u001b[0m\u001b[0;34m,\u001b[0m \u001b[0mna_value\u001b[0m\u001b[0;34m=\u001b[0m\u001b[0mna_value\u001b[0m\u001b[0;34m,\u001b[0m \u001b[0mmask\u001b[0m\u001b[0;34m=\u001b[0m\u001b[0mmask\u001b[0m\u001b[0;34m\u001b[0m\u001b[0;34m\u001b[0m\u001b[0m\n\u001b[1;32m    564\u001b[0m     )\n",
      "\u001b[0;32mpandas/_libs/hashtable_class_helper.pxi\u001b[0m in \u001b[0;36mpandas._libs.hashtable.PyObjectHashTable.factorize\u001b[0;34m()\u001b[0m\n",
      "\u001b[0;32mpandas/_libs/hashtable_class_helper.pxi\u001b[0m in \u001b[0;36mpandas._libs.hashtable.PyObjectHashTable._unique\u001b[0;34m()\u001b[0m\n",
      "\u001b[0;31mTypeError\u001b[0m: unhashable type: 'list'"
     ]
    }
   ],
   "source": [
    "articles_df.drop_duplicates(inplace= False)"
   ]
  },
  {
   "cell_type": "code",
   "execution_count": null,
   "id": "221fb051-d6d4-46df-917d-96d8b183d71b",
   "metadata": {},
   "outputs": [],
   "source": []
  },
  {
   "cell_type": "code",
   "execution_count": null,
   "id": "970769d8-028d-4270-8837-f58df8238df8",
   "metadata": {},
   "outputs": [],
   "source": []
  },
  {
   "cell_type": "code",
   "execution_count": null,
   "id": "35b8e1ad-4969-4cc9-b363-ccc952a1bbf6",
   "metadata": {},
   "outputs": [],
   "source": []
  },
  {
   "cell_type": "code",
   "execution_count": null,
   "id": "2e60230e-89e5-4298-b4c4-69ae9042502a",
   "metadata": {},
   "outputs": [],
   "source": []
  },
  {
   "cell_type": "code",
   "execution_count": null,
   "id": "4370cd8a-8604-4ccb-a0a2-be3538653d88",
   "metadata": {},
   "outputs": [],
   "source": []
  },
  {
   "cell_type": "code",
   "execution_count": null,
   "id": "33a9af54-7186-4841-afdf-b9b4ba514760",
   "metadata": {},
   "outputs": [],
   "source": []
  },
  {
   "cell_type": "code",
   "execution_count": null,
   "id": "0396ee16-9e2c-4cc7-98e6-7ac574c836dd",
   "metadata": {},
   "outputs": [],
   "source": []
  },
  {
   "cell_type": "code",
   "execution_count": null,
   "id": "522a5067-a60f-4576-8a2b-80349cf479d6",
   "metadata": {},
   "outputs": [],
   "source": []
  },
  {
   "cell_type": "code",
   "execution_count": null,
   "id": "fe5e565c-73aa-4cb7-a0a9-009ed5dd64c0",
   "metadata": {},
   "outputs": [],
   "source": []
  },
  {
   "cell_type": "markdown",
   "id": "1e32a29d-f3e0-4cc8-8a54-588220008f4c",
   "metadata": {},
   "source": [
    "# Next steps \n",
    "\n",
    "- remove duplicates \n",
    "- EDA / Feature Engineering for non text information (if any) \n",
    "- vectorize words (try different methods? CountVectorizer/TFDIF/ BERT? ) \n",
    "- Sentiment analysis (try different methodss? VADER/ TextBlob/ Stanford CoreNLP/  Gensim/ spaCy/ \n",
    "    - https://www.iflexion.com/blog/sentiment-analysis-python\n",
    "    -https://elitedatascience.com/python-nlp-libraries\n",
    "    \n",
    "    "
   ]
  }
 ],
 "metadata": {
  "kernelspec": {
   "display_name": "Python 3",
   "language": "python",
   "name": "python3"
  },
  "language_info": {
   "codemirror_mode": {
    "name": "ipython",
    "version": 3
   },
   "file_extension": ".py",
   "mimetype": "text/x-python",
   "name": "python",
   "nbconvert_exporter": "python",
   "pygments_lexer": "ipython3",
   "version": "3.8.8"
  }
 },
 "nbformat": 4,
 "nbformat_minor": 5
}
