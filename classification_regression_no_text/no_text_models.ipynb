{
 "cells": [
  {
   "cell_type": "code",
   "execution_count": 79,
   "id": "49fb0db8-6477-4792-89c2-e2e21480eb7a",
   "metadata": {
    "execution": {
     "iopub.execute_input": "2021-08-26T07:55:57.469775Z",
     "iopub.status.busy": "2021-08-26T07:55:57.469577Z",
     "iopub.status.idle": "2021-08-26T07:55:57.474219Z",
     "shell.execute_reply": "2021-08-26T07:55:57.473233Z",
     "shell.execute_reply.started": "2021-08-26T07:55:57.469757Z"
    },
    "tags": []
   },
   "outputs": [],
   "source": [
    "import pandas as pd \n",
    "import numpy as np\n",
    "import matplotlib.pyplot as plt \n",
    "import seaborn as sns \n",
    "import datetime \n",
    "from sklearn.model_selection import train_test_split\n",
    "\n",
    "# Import the autocorrelation function (ACF) plot.\n",
    "from statsmodels.graphics.tsaplots import plot_acf,plot_pacf\n",
    "import statsmodels.api as sm\n",
    "\n",
    "# We are required to do this in order to avoid \"FutureWarning\" issues.\n",
    "from pandas.plotting import register_matplotlib_converters\n",
    "register_matplotlib_converters()"
   ]
  },
  {
   "cell_type": "code",
   "execution_count": 80,
   "id": "90c74a70-a8e2-4d5f-b4c0-28d4eb2c5c25",
   "metadata": {
    "execution": {
     "iopub.execute_input": "2021-08-26T07:55:59.003373Z",
     "iopub.status.busy": "2021-08-26T07:55:59.003171Z",
     "iopub.status.idle": "2021-08-26T07:55:59.331768Z",
     "shell.execute_reply": "2021-08-26T07:55:59.330952Z",
     "shell.execute_reply.started": "2021-08-26T07:55:59.003355Z"
    },
    "tags": []
   },
   "outputs": [],
   "source": [
    "# import data\n",
    "data = pd.read_csv('./Data/oc_daily.csv')"
   ]
  },
  {
   "cell_type": "code",
   "execution_count": 81,
   "id": "65a937af-5e1a-406a-a2c9-53ee415d7648",
   "metadata": {
    "execution": {
     "iopub.execute_input": "2021-08-26T07:56:00.061353Z",
     "iopub.status.busy": "2021-08-26T07:56:00.061145Z",
     "iopub.status.idle": "2021-08-26T07:56:00.066717Z",
     "shell.execute_reply": "2021-08-26T07:56:00.065997Z",
     "shell.execute_reply.started": "2021-08-26T07:56:00.061334Z"
    },
    "tags": []
   },
   "outputs": [
    {
     "data": {
      "text/plain": [
       "(3653, 7)"
      ]
     },
     "execution_count": 81,
     "metadata": {},
     "output_type": "execute_result"
    }
   ],
   "source": [
    "# check size \n",
    "data.shape"
   ]
  },
  {
   "cell_type": "code",
   "execution_count": 82,
   "id": "4fab94f0-5176-4d20-a00e-46c8217f0d7d",
   "metadata": {
    "execution": {
     "iopub.execute_input": "2021-08-26T07:56:00.964775Z",
     "iopub.status.busy": "2021-08-26T07:56:00.964570Z",
     "iopub.status.idle": "2021-08-26T07:56:00.969795Z",
     "shell.execute_reply": "2021-08-26T07:56:00.968988Z",
     "shell.execute_reply.started": "2021-08-26T07:56:00.964757Z"
    },
    "tags": []
   },
   "outputs": [
    {
     "data": {
      "text/plain": [
       "Index(['date', 'text', 'day_of_week', 'is_holiday', 'Open', 'Close', 'Volume'], dtype='object')"
      ]
     },
     "execution_count": 82,
     "metadata": {},
     "output_type": "execute_result"
    }
   ],
   "source": [
    "# check columns \n",
    "data.columns"
   ]
  },
  {
   "cell_type": "markdown",
   "id": "8b5d5f91-655a-41da-a68e-83852a63c5cb",
   "metadata": {},
   "source": [
    "For the purpose of this notebook we will ignore the text (News) and focus on the other predictors \n"
   ]
  },
  {
   "cell_type": "code",
   "execution_count": 83,
   "id": "81b0322f-49b4-4719-8aae-e8631cb803cd",
   "metadata": {
    "execution": {
     "iopub.execute_input": "2021-08-26T07:56:09.307619Z",
     "iopub.status.busy": "2021-08-26T07:56:09.307422Z",
     "iopub.status.idle": "2021-08-26T07:56:09.313743Z",
     "shell.execute_reply": "2021-08-26T07:56:09.313046Z",
     "shell.execute_reply.started": "2021-08-26T07:56:09.307602Z"
    },
    "tags": []
   },
   "outputs": [],
   "source": [
    "# drop text column\n",
    "data.drop(columns='text',inplace=True)"
   ]
  },
  {
   "cell_type": "code",
   "execution_count": 84,
   "id": "b43e8791-19ab-456e-9d68-5c7cb53a90c7",
   "metadata": {
    "execution": {
     "iopub.execute_input": "2021-08-26T07:56:10.261344Z",
     "iopub.status.busy": "2021-08-26T07:56:10.261140Z",
     "iopub.status.idle": "2021-08-26T07:56:10.272107Z",
     "shell.execute_reply": "2021-08-26T07:56:10.271460Z",
     "shell.execute_reply.started": "2021-08-26T07:56:10.261326Z"
    },
    "tags": []
   },
   "outputs": [
    {
     "name": "stdout",
     "output_type": "stream",
     "text": [
      "<class 'pandas.core.frame.DataFrame'>\n",
      "RangeIndex: 3653 entries, 0 to 3652\n",
      "Data columns (total 6 columns):\n",
      " #   Column       Non-Null Count  Dtype  \n",
      "---  ------       --------------  -----  \n",
      " 0   date         3653 non-null   object \n",
      " 1   day_of_week  3653 non-null   int64  \n",
      " 2   is_holiday   3653 non-null   int64  \n",
      " 3   Open         3653 non-null   float64\n",
      " 4   Close        3653 non-null   float64\n",
      " 5   Volume       3653 non-null   float64\n",
      "dtypes: float64(3), int64(2), object(1)\n",
      "memory usage: 171.4+ KB\n"
     ]
    }
   ],
   "source": [
    "# check for nulls and dtypes \n",
    "data.info()"
   ]
  },
  {
   "cell_type": "markdown",
   "id": "ca97efa7-b380-4b76-9ba4-12d73bc3630e",
   "metadata": {},
   "source": [
    "No null values. \n",
    "\n",
    "day_of_week and is_holiday should be categorical variables \n",
    " \n",
    "make date as index  "
   ]
  },
  {
   "cell_type": "code",
   "execution_count": 85,
   "id": "20d03f7e-c004-49ce-82d7-f4e7fd77d455",
   "metadata": {
    "execution": {
     "iopub.execute_input": "2021-08-26T07:56:12.949230Z",
     "iopub.status.busy": "2021-08-26T07:56:12.949033Z",
     "iopub.status.idle": "2021-08-26T07:56:12.954671Z",
     "shell.execute_reply": "2021-08-26T07:56:12.954007Z",
     "shell.execute_reply.started": "2021-08-26T07:56:12.949212Z"
    },
    "tags": []
   },
   "outputs": [
    {
     "data": {
      "text/plain": [
       "'2011-07-29'"
      ]
     },
     "execution_count": 85,
     "metadata": {},
     "output_type": "execute_result"
    }
   ],
   "source": [
    "data['date'][0]"
   ]
  },
  {
   "cell_type": "code",
   "execution_count": 86,
   "id": "e789e668-03e2-4bee-9a25-3fde0c3c1f6f",
   "metadata": {
    "execution": {
     "iopub.execute_input": "2021-08-26T07:56:17.257155Z",
     "iopub.status.busy": "2021-08-26T07:56:17.256959Z",
     "iopub.status.idle": "2021-08-26T07:56:17.262597Z",
     "shell.execute_reply": "2021-08-26T07:56:17.261919Z",
     "shell.execute_reply.started": "2021-08-26T07:56:17.257136Z"
    }
   },
   "outputs": [
    {
     "data": {
      "text/plain": [
       "datetime.date(2011, 7, 29)"
      ]
     },
     "execution_count": 86,
     "metadata": {},
     "output_type": "execute_result"
    }
   ],
   "source": [
    "datetime.datetime.strptime('2011-07-29','%Y-%m-%d').date()"
   ]
  },
  {
   "cell_type": "code",
   "execution_count": 87,
   "id": "fb8b82eb-1bb4-4aa8-ba80-1e6761cb5fb1",
   "metadata": {
    "execution": {
     "iopub.execute_input": "2021-08-26T07:56:18.036081Z",
     "iopub.status.busy": "2021-08-26T07:56:18.035862Z",
     "iopub.status.idle": "2021-08-26T07:56:18.061233Z",
     "shell.execute_reply": "2021-08-26T07:56:18.059891Z",
     "shell.execute_reply.started": "2021-08-26T07:56:18.036063Z"
    },
    "tags": []
   },
   "outputs": [],
   "source": [
    "# make date to datetime object \n",
    "#data['date'][0].strdfdsfsfd\n",
    "data['date']= data['date'].apply(lambda x:datetime.datetime.strptime(x,'%Y-%m-%d').date() )"
   ]
  },
  {
   "cell_type": "code",
   "execution_count": 88,
   "id": "e09b64df-fb5b-4552-a37a-78c9b0330979",
   "metadata": {
    "execution": {
     "iopub.execute_input": "2021-08-26T07:56:20.629992Z",
     "iopub.status.busy": "2021-08-26T07:56:20.629774Z",
     "iopub.status.idle": "2021-08-26T07:56:20.634525Z",
     "shell.execute_reply": "2021-08-26T07:56:20.634061Z",
     "shell.execute_reply.started": "2021-08-26T07:56:20.629969Z"
    },
    "tags": []
   },
   "outputs": [],
   "source": [
    "# make date index \n",
    "data.set_index('date',inplace=True)"
   ]
  },
  {
   "cell_type": "code",
   "execution_count": 89,
   "id": "87af54fe-deae-44ac-91a3-a95633fd1f69",
   "metadata": {
    "execution": {
     "iopub.execute_input": "2021-08-26T07:56:23.165402Z",
     "iopub.status.busy": "2021-08-26T07:56:23.165218Z",
     "iopub.status.idle": "2021-08-26T07:56:23.172825Z",
     "shell.execute_reply": "2021-08-26T07:56:23.172163Z",
     "shell.execute_reply.started": "2021-08-26T07:56:23.165385Z"
    },
    "tags": []
   },
   "outputs": [],
   "source": [
    "# dummify day_of_week and is_holiday\n",
    "data= pd.get_dummies(data,columns=['day_of_week','is_holiday'],drop_first=True)\n",
    "#making monday reference for day of week\n",
    "#making not holiday as baseline for is_holiday"
   ]
  },
  {
   "cell_type": "code",
   "execution_count": 90,
   "id": "f5f94bf8-831f-4536-b808-572abed0d8b8",
   "metadata": {
    "execution": {
     "iopub.execute_input": "2021-08-26T07:56:24.340248Z",
     "iopub.status.busy": "2021-08-26T07:56:24.340051Z",
     "iopub.status.idle": "2021-08-26T07:56:24.346141Z",
     "shell.execute_reply": "2021-08-26T07:56:24.345421Z",
     "shell.execute_reply.started": "2021-08-26T07:56:24.340230Z"
    },
    "tags": []
   },
   "outputs": [
    {
     "data": {
      "text/plain": [
       "Index(['Open', 'Close', 'Volume', 'day_of_week_1', 'day_of_week_2',\n",
       "       'day_of_week_3', 'day_of_week_4', 'day_of_week_5', 'day_of_week_6',\n",
       "       'is_holiday_1'],\n",
       "      dtype='object')"
      ]
     },
     "execution_count": 90,
     "metadata": {},
     "output_type": "execute_result"
    }
   ],
   "source": [
    "# check results\n",
    "data.columns"
   ]
  },
  {
   "cell_type": "code",
   "execution_count": null,
   "id": "3f339e39-fc2a-480f-96df-c6dbcb811e8e",
   "metadata": {},
   "outputs": [],
   "source": []
  },
  {
   "cell_type": "code",
   "execution_count": 91,
   "id": "475fb9b3-a335-48af-9de8-4bdefd7c11d2",
   "metadata": {
    "execution": {
     "iopub.execute_input": "2021-08-26T07:56:26.653967Z",
     "iopub.status.busy": "2021-08-26T07:56:26.653754Z",
     "iopub.status.idle": "2021-08-26T07:56:26.760943Z",
     "shell.execute_reply": "2021-08-26T07:56:26.760209Z",
     "shell.execute_reply.started": "2021-08-26T07:56:26.653948Z"
    },
    "tags": []
   },
   "outputs": [
    {
     "data": {
      "text/plain": [
       "<AxesSubplot:xlabel='date'>"
      ]
     },
     "execution_count": 91,
     "metadata": {},
     "output_type": "execute_result"
    },
    {
     "data": {
      "image/png": "[encoded data removed]",
      "text/plain": [
       "<Figure size 432x288 with 1 Axes>"
      ]
     },
     "metadata": {
      "needs_background": "light"
     },
     "output_type": "display_data"
    }
   ],
   "source": [
    "data['Open'].plot()"
   ]
  },
  {
   "cell_type": "code",
   "execution_count": 92,
   "id": "fffc5935-ee3b-435e-9d71-1e1edad898ad",
   "metadata": {
    "execution": {
     "iopub.execute_input": "2021-08-26T07:56:27.228389Z",
     "iopub.status.busy": "2021-08-26T07:56:27.228160Z",
     "iopub.status.idle": "2021-08-26T07:56:27.331358Z",
     "shell.execute_reply": "2021-08-26T07:56:27.330453Z",
     "shell.execute_reply.started": "2021-08-26T07:56:27.228370Z"
    },
    "tags": []
   },
   "outputs": [
    {
     "data": {
      "text/plain": [
       "<AxesSubplot:xlabel='date'>"
      ]
     },
     "execution_count": 92,
     "metadata": {},
     "output_type": "execute_result"
    },
    {
     "data": {
      "image/png": "[encoded data removed]",
      "text/plain": [
       "<Figure size 432x288 with 1 Axes>"
      ]
     },
     "metadata": {
      "needs_background": "light"
     },
     "output_type": "display_data"
    }
   ],
   "source": [
    "data['Close'].plot()"
   ]
  },
  {
   "cell_type": "code",
   "execution_count": 93,
   "id": "a5fd40e9-f8b5-47ee-96f5-b3bb7a201204",
   "metadata": {
    "execution": {
     "iopub.execute_input": "2021-08-26T07:56:27.916827Z",
     "iopub.status.busy": "2021-08-26T07:56:27.916608Z",
     "iopub.status.idle": "2021-08-26T07:56:28.022675Z",
     "shell.execute_reply": "2021-08-26T07:56:28.021846Z",
     "shell.execute_reply.started": "2021-08-26T07:56:27.916808Z"
    },
    "tags": []
   },
   "outputs": [
    {
     "data": {
      "text/plain": [
       "<AxesSubplot:xlabel='date'>"
      ]
     },
     "execution_count": 93,
     "metadata": {},
     "output_type": "execute_result"
    },
    {
     "data": {
      "image/png": "[encoded data removed]",
      "text/plain": [
       "<Figure size 432x288 with 1 Axes>"
      ]
     },
     "metadata": {
      "needs_background": "light"
     },
     "output_type": "display_data"
    }
   ],
   "source": [
    "data['Volume'].plot()"
   ]
  },
  {
   "cell_type": "code",
   "execution_count": 94,
   "id": "d71dbe55-d3a8-49e1-90ae-6c1762866c58",
   "metadata": {
    "execution": {
     "iopub.execute_input": "2021-08-26T07:56:28.643726Z",
     "iopub.status.busy": "2021-08-26T07:56:28.643517Z",
     "iopub.status.idle": "2021-08-26T07:56:28.648838Z",
     "shell.execute_reply": "2021-08-26T07:56:28.647894Z",
     "shell.execute_reply.started": "2021-08-26T07:56:28.643707Z"
    },
    "tags": []
   },
   "outputs": [],
   "source": [
    "from statsmodels.tsa.seasonal import seasonal_decompose\n"
   ]
  },
  {
   "cell_type": "markdown",
   "id": "9e5991b5-accc-49f4-8f93-79cdd37af663",
   "metadata": {
    "execution": {
     "iopub.execute_input": "2021-08-25T14:50:54.302246Z",
     "iopub.status.busy": "2021-08-25T14:50:54.302005Z",
     "iopub.status.idle": "2021-08-25T14:50:54.315174Z",
     "shell.execute_reply": "2021-08-25T14:50:54.314195Z",
     "shell.execute_reply.started": "2021-08-25T14:50:54.302228Z"
    },
    "tags": []
   },
   "source": [
    "No Seasonality in Open/Close \n",
    "\n",
    "Open/Close same shape \n"
   ]
  },
  {
   "cell_type": "code",
   "execution_count": 38,
   "id": "a9d0b332-2188-4981-89d1-532e0378e35e",
   "metadata": {
    "execution": {
     "iopub.execute_input": "2021-08-25T14:54:07.653789Z",
     "iopub.status.busy": "2021-08-25T14:54:07.653595Z",
     "iopub.status.idle": "2021-08-25T14:54:07.787888Z",
     "shell.execute_reply": "2021-08-25T14:54:07.787245Z",
     "shell.execute_reply.started": "2021-08-25T14:54:07.653771Z"
    }
   },
   "outputs": [
    {
     "data": {
      "image/png": "[encoded data removed]",
      "text/plain": [
       "<Figure size 432x288 with 1 Axes>"
      ]
     },
     "execution_count": 38,
     "metadata": {},
     "output_type": "execute_result"
    },
    {
     "data": {
      "image/png": "[encoded data removed]",
      "text/plain": [
       "<Figure size 432x288 with 1 Axes>"
      ]
     },
     "metadata": {
      "needs_background": "light"
     },
     "output_type": "display_data"
    }
   ],
   "source": [
    "plot_pacf(data['Open'],lags=20)"
   ]
  },
  {
   "cell_type": "markdown",
   "id": "32bcdb38-4cc9-4cb3-af3b-65cdd90f01ec",
   "metadata": {},
   "source": [
    "For Open consider 1 day lagged predictor "
   ]
  },
  {
   "cell_type": "code",
   "execution_count": 39,
   "id": "57b9dc64-d558-4f14-8fb2-f7c18db23ef2",
   "metadata": {
    "execution": {
     "iopub.execute_input": "2021-08-25T14:54:21.396695Z",
     "iopub.status.busy": "2021-08-25T14:54:21.396484Z",
     "iopub.status.idle": "2021-08-25T14:54:21.538285Z",
     "shell.execute_reply": "2021-08-25T14:54:21.537632Z",
     "shell.execute_reply.started": "2021-08-25T14:54:21.396678Z"
    }
   },
   "outputs": [
    {
     "data": {
      "image/png": "[encoded data removed]",
      "text/plain": [
       "<Figure size 432x288 with 1 Axes>"
      ]
     },
     "execution_count": 39,
     "metadata": {},
     "output_type": "execute_result"
    },
    {
     "data": {
      "image/png": "[encoded data removed]",
      "text/plain": [
       "<Figure size 432x288 with 1 Axes>"
      ]
     },
     "metadata": {
      "needs_background": "light"
     },
     "output_type": "display_data"
    }
   ],
   "source": [
    "plot_pacf(data['Close'],lags=20)"
   ]
  },
  {
   "cell_type": "markdown",
   "id": "8a5b6011-ca76-42ee-9d45-72b364cc2b20",
   "metadata": {},
   "source": [
    "'Close' one day lag "
   ]
  },
  {
   "cell_type": "code",
   "execution_count": 42,
   "id": "ef4028a5-359d-4716-bfba-55d170f9b09d",
   "metadata": {
    "execution": {
     "iopub.execute_input": "2021-08-25T14:55:03.160023Z",
     "iopub.status.busy": "2021-08-25T14:55:03.159825Z",
     "iopub.status.idle": "2021-08-25T14:55:03.313227Z",
     "shell.execute_reply": "2021-08-25T14:55:03.312594Z",
     "shell.execute_reply.started": "2021-08-25T14:55:03.160004Z"
    },
    "tags": []
   },
   "outputs": [
    {
     "data": {
      "image/png": "[encoded data removed]",
      "text/plain": [
       "<Figure size 432x288 with 1 Axes>"
      ]
     },
     "execution_count": 42,
     "metadata": {},
     "output_type": "execute_result"
    },
    {
     "data": {
      "image/png": "[encoded data removed]",
      "text/plain": [
       "<Figure size 432x288 with 1 Axes>"
      ]
     },
     "metadata": {
      "needs_background": "light"
     },
     "output_type": "display_data"
    }
   ],
   "source": [
    "plot_pacf(data['Volume'],lags=21)"
   ]
  },
  {
   "cell_type": "code",
   "execution_count": 49,
   "id": "ab655b97-932a-4934-84c5-5bd175f2cb17",
   "metadata": {
    "execution": {
     "iopub.execute_input": "2021-08-25T14:55:43.791661Z",
     "iopub.status.busy": "2021-08-25T14:55:43.791327Z",
     "iopub.status.idle": "2021-08-25T14:55:43.951237Z",
     "shell.execute_reply": "2021-08-25T14:55:43.950918Z",
     "shell.execute_reply.started": "2021-08-25T14:55:43.791642Z"
    },
    "tags": []
   },
   "outputs": [
    {
     "data": {
      "image/png": "[encoded data removed]",
      "text/plain": [
       "<Figure size 432x288 with 1 Axes>"
      ]
     },
     "execution_count": 49,
     "metadata": {},
     "output_type": "execute_result"
    },
    {
     "data": {
      "image/png": "[encoded data removed]",
      "text/plain": [
       "<Figure size 432x288 with 1 Axes>"
      ]
     },
     "metadata": {
      "needs_background": "light"
     },
     "output_type": "display_data"
    }
   ],
   "source": [
    "plot_pacf(data['Volume'],lags=40)"
   ]
  },
  {
   "cell_type": "markdown",
   "id": "1cd5a1bf-b306-45d3-9ab9-5550864a8fe8",
   "metadata": {},
   "source": [
    "Volume consider 40 day lag? "
   ]
  },
  {
   "cell_type": "code",
   "execution_count": 63,
   "id": "4636b57d-bb7b-40d6-91f0-e7ab3b2947dc",
   "metadata": {
    "execution": {
     "iopub.execute_input": "2021-08-26T07:45:18.202764Z",
     "iopub.status.busy": "2021-08-26T07:45:18.202575Z",
     "iopub.status.idle": "2021-08-26T07:45:18.206673Z",
     "shell.execute_reply": "2021-08-26T07:45:18.205943Z",
     "shell.execute_reply.started": "2021-08-26T07:45:18.202747Z"
    },
    "tags": []
   },
   "outputs": [],
   "source": [
    "from statsmodels.tsa.stattools import adfuller\n",
    "\n",
    "# Code written by Joseph Nelson.\n",
    "\n",
    "def interpret_dftest(dftest):\n",
    "    dfoutput = pd.Series(dftest[0:2], index=['Test Statistic','p-value'])\n",
    "    return dfoutput"
   ]
  },
  {
   "cell_type": "code",
   "execution_count": 96,
   "id": "45844dce-a0ca-499e-bc41-c614d271330d",
   "metadata": {
    "execution": {
     "iopub.execute_input": "2021-08-26T07:58:46.185520Z",
     "iopub.status.busy": "2021-08-26T07:58:46.185316Z",
     "iopub.status.idle": "2021-08-26T07:58:46.331329Z",
     "shell.execute_reply": "2021-08-26T07:58:46.321211Z",
     "shell.execute_reply.started": "2021-08-26T07:58:46.185501Z"
    }
   },
   "outputs": [
    {
     "data": {
      "text/plain": [
       "Test Statistic    1.113786\n",
       "p-value           0.995333\n",
       "dtype: float64"
      ]
     },
     "execution_count": 96,
     "metadata": {},
     "output_type": "execute_result"
    }
   ],
   "source": [
    "interpret_dftest(adfuller(data['Open']))"
   ]
  },
  {
   "cell_type": "code",
   "execution_count": 98,
   "id": "22d44c39-cfd2-43ef-98d7-cc31977caf02",
   "metadata": {
    "execution": {
     "iopub.execute_input": "2021-08-26T07:59:26.505111Z",
     "iopub.status.busy": "2021-08-26T07:59:26.504903Z",
     "iopub.status.idle": "2021-08-26T07:59:26.695566Z",
     "shell.execute_reply": "2021-08-26T07:59:26.694863Z",
     "shell.execute_reply.started": "2021-08-26T07:59:26.505094Z"
    },
    "tags": []
   },
   "outputs": [
    {
     "data": {
      "text/plain": [
       "Test Statistic   -1.227037e+01\n",
       "p-value           8.668281e-23\n",
       "dtype: float64"
      ]
     },
     "execution_count": 98,
     "metadata": {},
     "output_type": "execute_result"
    }
   ],
   "source": [
    "interpret_dftest(adfuller(data['Open'].diff().dropna()))"
   ]
  },
  {
   "cell_type": "markdown",
   "id": "d450c8fb-28c9-46f4-b252-7df78550ac98",
   "metadata": {},
   "source": [
    "One day lag for Open is good \n"
   ]
  },
  {
   "cell_type": "code",
   "execution_count": 99,
   "id": "e23d5e66-4868-4e00-b09a-a6306d31f7f2",
   "metadata": {
    "execution": {
     "iopub.execute_input": "2021-08-26T08:00:19.892989Z",
     "iopub.status.busy": "2021-08-26T08:00:19.892777Z",
     "iopub.status.idle": "2021-08-26T08:00:20.041966Z",
     "shell.execute_reply": "2021-08-26T08:00:20.041269Z",
     "shell.execute_reply.started": "2021-08-26T08:00:19.892971Z"
    }
   },
   "outputs": [
    {
     "data": {
      "text/plain": [
       "Test Statistic    1.022970\n",
       "p-value           0.994502\n",
       "dtype: float64"
      ]
     },
     "execution_count": 99,
     "metadata": {},
     "output_type": "execute_result"
    }
   ],
   "source": [
    "interpret_dftest(adfuller(data['Close'].dropna()))"
   ]
  },
  {
   "cell_type": "code",
   "execution_count": 100,
   "id": "3d207f2f-1cd9-4e95-9f5a-51c36b5779a2",
   "metadata": {
    "execution": {
     "iopub.execute_input": "2021-08-26T08:00:32.601200Z",
     "iopub.status.busy": "2021-08-26T08:00:32.600988Z",
     "iopub.status.idle": "2021-08-26T08:00:32.730962Z",
     "shell.execute_reply": "2021-08-26T08:00:32.730354Z",
     "shell.execute_reply.started": "2021-08-26T08:00:32.601182Z"
    }
   },
   "outputs": [
    {
     "data": {
      "text/plain": [
       "Test Statistic   -1.206075e+01\n",
       "p-value           2.472719e-22\n",
       "dtype: float64"
      ]
     },
     "execution_count": 100,
     "metadata": {},
     "output_type": "execute_result"
    }
   ],
   "source": [
    "interpret_dftest(adfuller(data['Close'].diff().dropna()))"
   ]
  },
  {
   "cell_type": "code",
   "execution_count": 101,
   "id": "78492193-0712-49eb-bf01-e527ccf3405e",
   "metadata": {
    "execution": {
     "iopub.execute_input": "2021-08-26T08:00:48.681496Z",
     "iopub.status.busy": "2021-08-26T08:00:48.681284Z",
     "iopub.status.idle": "2021-08-26T08:00:48.820851Z",
     "shell.execute_reply": "2021-08-26T08:00:48.820008Z",
     "shell.execute_reply.started": "2021-08-26T08:00:48.681477Z"
    }
   },
   "outputs": [
    {
     "data": {
      "text/plain": [
       "Test Statistic   -6.357419e+00\n",
       "p-value           2.522704e-08\n",
       "dtype: float64"
      ]
     },
     "execution_count": 101,
     "metadata": {},
     "output_type": "execute_result"
    }
   ],
   "source": [
    "interpret_dftest(adfuller(data['Volume'].dropna()))"
   ]
  },
  {
   "cell_type": "code",
   "execution_count": 104,
   "id": "92675cdb-eb6a-4682-a7c0-894f863fe3a5",
   "metadata": {
    "execution": {
     "iopub.execute_input": "2021-08-26T08:05:11.421415Z",
     "iopub.status.busy": "2021-08-26T08:05:11.421133Z",
     "iopub.status.idle": "2021-08-26T08:05:11.425438Z",
     "shell.execute_reply": "2021-08-26T08:05:11.424653Z",
     "shell.execute_reply.started": "2021-08-26T08:05:11.421398Z"
    }
   },
   "outputs": [],
   "source": [
    "# make copy of data df to add lagged variables \n",
    "data_lagged = data.copy()"
   ]
  },
  {
   "cell_type": "code",
   "execution_count": 106,
   "id": "1bcd9bd1-e9b7-4c28-9c6f-beab4b6a0bf9",
   "metadata": {
    "execution": {
     "iopub.execute_input": "2021-08-26T08:08:31.521240Z",
     "iopub.status.busy": "2021-08-26T08:08:31.521032Z",
     "iopub.status.idle": "2021-08-26T08:08:31.530240Z",
     "shell.execute_reply": "2021-08-26T08:08:31.529336Z",
     "shell.execute_reply.started": "2021-08-26T08:08:31.521222Z"
    }
   },
   "outputs": [],
   "source": [
    "# add lagged variables \n",
    "data_lagged['Open_l1']= data_lagged['Open'].shift(1)\n",
    "data_lagged['Close_l1'] = data_lagged['Close'].shift(1)\n",
    "# drop nulls \n",
    "data_lagged.dropna(inplace=True)"
   ]
  },
  {
   "cell_type": "markdown",
   "id": "0621863f-ead8-4619-822f-6dc50838830f",
   "metadata": {},
   "source": [
    "## differenced data  "
   ]
  },
  {
   "cell_type": "code",
   "execution_count": 179,
   "id": "fc8df438-d2c8-4f2e-bf98-b8f2ae0101f9",
   "metadata": {
    "execution": {
     "iopub.execute_input": "2021-08-26T09:33:59.244605Z",
     "iopub.status.busy": "2021-08-26T09:33:59.244397Z",
     "iopub.status.idle": "2021-08-26T09:33:59.248092Z",
     "shell.execute_reply": "2021-08-26T09:33:59.247266Z",
     "shell.execute_reply.started": "2021-08-26T09:33:59.244586Z"
    },
    "tags": []
   },
   "outputs": [],
   "source": [
    "df = data.copy()"
   ]
  },
  {
   "cell_type": "code",
   "execution_count": 180,
   "id": "8e9de035-118d-4add-89c4-54b01ccbc724",
   "metadata": {
    "execution": {
     "iopub.execute_input": "2021-08-26T09:33:59.819912Z",
     "iopub.status.busy": "2021-08-26T09:33:59.819706Z",
     "iopub.status.idle": "2021-08-26T09:33:59.829550Z",
     "shell.execute_reply": "2021-08-26T09:33:59.828666Z",
     "shell.execute_reply.started": "2021-08-26T09:33:59.819894Z"
    },
    "tags": []
   },
   "outputs": [],
   "source": [
    "df['Open'] = df['Open'].pct_change()\n",
    "df['Close']=df['Close'].pct_change()\n",
    "df['Volume']=df['Volume'].pct_change()\n",
    "df.dropna(inplace=True)"
   ]
  },
  {
   "cell_type": "code",
   "execution_count": 182,
   "id": "39ec19ce-6fc1-4f51-9040-6b98e628846f",
   "metadata": {
    "execution": {
     "iopub.execute_input": "2021-08-26T09:34:22.200000Z",
     "iopub.status.busy": "2021-08-26T09:34:22.199785Z",
     "iopub.status.idle": "2021-08-26T09:34:22.214254Z",
     "shell.execute_reply": "2021-08-26T09:34:22.213563Z",
     "shell.execute_reply.started": "2021-08-26T09:34:22.199981Z"
    }
   },
   "outputs": [
    {
     "data": {
      "text/html": [
       "<div>\n",
       "<style scoped>\n",
       "    .dataframe tbody tr th:only-of-type {\n",
       "        vertical-align: middle;\n",
       "    }\n",
       "\n",
       "    .dataframe tbody tr th {\n",
       "        vertical-align: top;\n",
       "    }\n",
       "\n",
       "    .dataframe thead th {\n",
       "        text-align: right;\n",
       "    }\n",
       "</style>\n",
       "<table border=\"1\" class=\"dataframe\">\n",
       "  <thead>\n",
       "    <tr style=\"text-align: right;\">\n",
       "      <th></th>\n",
       "      <th>Open</th>\n",
       "      <th>Close</th>\n",
       "      <th>Volume</th>\n",
       "      <th>day_of_week_1</th>\n",
       "      <th>day_of_week_2</th>\n",
       "      <th>day_of_week_3</th>\n",
       "      <th>day_of_week_4</th>\n",
       "      <th>day_of_week_5</th>\n",
       "      <th>day_of_week_6</th>\n",
       "      <th>is_holiday_1</th>\n",
       "    </tr>\n",
       "    <tr>\n",
       "      <th>date</th>\n",
       "      <th></th>\n",
       "      <th></th>\n",
       "      <th></th>\n",
       "      <th></th>\n",
       "      <th></th>\n",
       "      <th></th>\n",
       "      <th></th>\n",
       "      <th></th>\n",
       "      <th></th>\n",
       "      <th></th>\n",
       "    </tr>\n",
       "  </thead>\n",
       "  <tbody>\n",
       "    <tr>\n",
       "      <th>2011-07-29</th>\n",
       "      <td>1300.119995</td>\n",
       "      <td>1292.280029</td>\n",
       "      <td>5.061190e+09</td>\n",
       "      <td>0</td>\n",
       "      <td>0</td>\n",
       "      <td>0</td>\n",
       "      <td>1</td>\n",
       "      <td>0</td>\n",
       "      <td>0</td>\n",
       "      <td>0</td>\n",
       "    </tr>\n",
       "    <tr>\n",
       "      <th>2011-07-30</th>\n",
       "      <td>1292.280029</td>\n",
       "      <td>1292.280029</td>\n",
       "      <td>0.000000e+00</td>\n",
       "      <td>0</td>\n",
       "      <td>0</td>\n",
       "      <td>0</td>\n",
       "      <td>0</td>\n",
       "      <td>1</td>\n",
       "      <td>0</td>\n",
       "      <td>0</td>\n",
       "    </tr>\n",
       "    <tr>\n",
       "      <th>2011-07-31</th>\n",
       "      <td>1292.280029</td>\n",
       "      <td>1292.280029</td>\n",
       "      <td>0.000000e+00</td>\n",
       "      <td>0</td>\n",
       "      <td>0</td>\n",
       "      <td>0</td>\n",
       "      <td>0</td>\n",
       "      <td>0</td>\n",
       "      <td>1</td>\n",
       "      <td>0</td>\n",
       "    </tr>\n",
       "    <tr>\n",
       "      <th>2011-08-01</th>\n",
       "      <td>1292.589966</td>\n",
       "      <td>1286.939941</td>\n",
       "      <td>4.967390e+09</td>\n",
       "      <td>0</td>\n",
       "      <td>0</td>\n",
       "      <td>0</td>\n",
       "      <td>0</td>\n",
       "      <td>0</td>\n",
       "      <td>0</td>\n",
       "      <td>0</td>\n",
       "    </tr>\n",
       "    <tr>\n",
       "      <th>2011-08-02</th>\n",
       "      <td>1286.560059</td>\n",
       "      <td>1254.050049</td>\n",
       "      <td>5.206290e+09</td>\n",
       "      <td>1</td>\n",
       "      <td>0</td>\n",
       "      <td>0</td>\n",
       "      <td>0</td>\n",
       "      <td>0</td>\n",
       "      <td>0</td>\n",
       "      <td>0</td>\n",
       "    </tr>\n",
       "    <tr>\n",
       "      <th>...</th>\n",
       "      <td>...</td>\n",
       "      <td>...</td>\n",
       "      <td>...</td>\n",
       "      <td>...</td>\n",
       "      <td>...</td>\n",
       "      <td>...</td>\n",
       "      <td>...</td>\n",
       "      <td>...</td>\n",
       "      <td>...</td>\n",
       "      <td>...</td>\n",
       "    </tr>\n",
       "    <tr>\n",
       "      <th>2021-08-13</th>\n",
       "      <td>4464.839844</td>\n",
       "      <td>4468.000000</td>\n",
       "      <td>2.371630e+09</td>\n",
       "      <td>0</td>\n",
       "      <td>0</td>\n",
       "      <td>0</td>\n",
       "      <td>1</td>\n",
       "      <td>0</td>\n",
       "      <td>0</td>\n",
       "      <td>0</td>\n",
       "    </tr>\n",
       "    <tr>\n",
       "      <th>2021-08-14</th>\n",
       "      <td>4468.000000</td>\n",
       "      <td>4468.000000</td>\n",
       "      <td>0.000000e+00</td>\n",
       "      <td>0</td>\n",
       "      <td>0</td>\n",
       "      <td>0</td>\n",
       "      <td>0</td>\n",
       "      <td>1</td>\n",
       "      <td>0</td>\n",
       "      <td>0</td>\n",
       "    </tr>\n",
       "    <tr>\n",
       "      <th>2021-08-15</th>\n",
       "      <td>4468.000000</td>\n",
       "      <td>4468.000000</td>\n",
       "      <td>0.000000e+00</td>\n",
       "      <td>0</td>\n",
       "      <td>0</td>\n",
       "      <td>0</td>\n",
       "      <td>0</td>\n",
       "      <td>0</td>\n",
       "      <td>1</td>\n",
       "      <td>0</td>\n",
       "    </tr>\n",
       "    <tr>\n",
       "      <th>2021-08-16</th>\n",
       "      <td>4461.649902</td>\n",
       "      <td>4479.709961</td>\n",
       "      <td>2.707170e+09</td>\n",
       "      <td>0</td>\n",
       "      <td>0</td>\n",
       "      <td>0</td>\n",
       "      <td>0</td>\n",
       "      <td>0</td>\n",
       "      <td>0</td>\n",
       "      <td>0</td>\n",
       "    </tr>\n",
       "    <tr>\n",
       "      <th>2021-08-17</th>\n",
       "      <td>4462.120117</td>\n",
       "      <td>4448.080078</td>\n",
       "      <td>2.884000e+09</td>\n",
       "      <td>1</td>\n",
       "      <td>0</td>\n",
       "      <td>0</td>\n",
       "      <td>0</td>\n",
       "      <td>0</td>\n",
       "      <td>0</td>\n",
       "      <td>0</td>\n",
       "    </tr>\n",
       "  </tbody>\n",
       "</table>\n",
       "<p>3653 rows × 10 columns</p>\n",
       "</div>"
      ],
      "text/plain": [
       "                   Open        Close        Volume  day_of_week_1  \\\n",
       "date                                                                \n",
       "2011-07-29  1300.119995  1292.280029  5.061190e+09              0   \n",
       "2011-07-30  1292.280029  1292.280029  0.000000e+00              0   \n",
       "2011-07-31  1292.280029  1292.280029  0.000000e+00              0   \n",
       "2011-08-01  1292.589966  1286.939941  4.967390e+09              0   \n",
       "2011-08-02  1286.560059  1254.050049  5.206290e+09              1   \n",
       "...                 ...          ...           ...            ...   \n",
       "2021-08-13  4464.839844  4468.000000  2.371630e+09              0   \n",
       "2021-08-14  4468.000000  4468.000000  0.000000e+00              0   \n",
       "2021-08-15  4468.000000  4468.000000  0.000000e+00              0   \n",
       "2021-08-16  4461.649902  4479.709961  2.707170e+09              0   \n",
       "2021-08-17  4462.120117  4448.080078  2.884000e+09              1   \n",
       "\n",
       "            day_of_week_2  day_of_week_3  day_of_week_4  day_of_week_5  \\\n",
       "date                                                                     \n",
       "2011-07-29              0              0              1              0   \n",
       "2011-07-30              0              0              0              1   \n",
       "2011-07-31              0              0              0              0   \n",
       "2011-08-01              0              0              0              0   \n",
       "2011-08-02              0              0              0              0   \n",
       "...                   ...            ...            ...            ...   \n",
       "2021-08-13              0              0              1              0   \n",
       "2021-08-14              0              0              0              1   \n",
       "2021-08-15              0              0              0              0   \n",
       "2021-08-16              0              0              0              0   \n",
       "2021-08-17              0              0              0              0   \n",
       "\n",
       "            day_of_week_6  is_holiday_1  \n",
       "date                                     \n",
       "2011-07-29              0             0  \n",
       "2011-07-30              0             0  \n",
       "2011-07-31              1             0  \n",
       "2011-08-01              0             0  \n",
       "2011-08-02              0             0  \n",
       "...                   ...           ...  \n",
       "2021-08-13              0             0  \n",
       "2021-08-14              0             0  \n",
       "2021-08-15              1             0  \n",
       "2021-08-16              0             0  \n",
       "2021-08-17              0             0  \n",
       "\n",
       "[3653 rows x 10 columns]"
      ]
     },
     "execution_count": 182,
     "metadata": {},
     "output_type": "execute_result"
    }
   ],
   "source": [
    "data"
   ]
  },
  {
   "cell_type": "code",
   "execution_count": 181,
   "id": "c8faa1e9-52b7-4f62-8fc2-f5ff07c5e2e8",
   "metadata": {
    "execution": {
     "iopub.execute_input": "2021-08-26T09:34:00.397520Z",
     "iopub.status.busy": "2021-08-26T09:34:00.397256Z",
     "iopub.status.idle": "2021-08-26T09:34:00.410093Z",
     "shell.execute_reply": "2021-08-26T09:34:00.409476Z",
     "shell.execute_reply.started": "2021-08-26T09:34:00.397500Z"
    },
    "tags": []
   },
   "outputs": [
    {
     "data": {
      "text/html": [
       "<div>\n",
       "<style scoped>\n",
       "    .dataframe tbody tr th:only-of-type {\n",
       "        vertical-align: middle;\n",
       "    }\n",
       "\n",
       "    .dataframe tbody tr th {\n",
       "        vertical-align: top;\n",
       "    }\n",
       "\n",
       "    .dataframe thead th {\n",
       "        text-align: right;\n",
       "    }\n",
       "</style>\n",
       "<table border=\"1\" class=\"dataframe\">\n",
       "  <thead>\n",
       "    <tr style=\"text-align: right;\">\n",
       "      <th></th>\n",
       "      <th>Open</th>\n",
       "      <th>Close</th>\n",
       "      <th>Volume</th>\n",
       "      <th>day_of_week_1</th>\n",
       "      <th>day_of_week_2</th>\n",
       "      <th>day_of_week_3</th>\n",
       "      <th>day_of_week_4</th>\n",
       "      <th>day_of_week_5</th>\n",
       "      <th>day_of_week_6</th>\n",
       "      <th>is_holiday_1</th>\n",
       "    </tr>\n",
       "    <tr>\n",
       "      <th>date</th>\n",
       "      <th></th>\n",
       "      <th></th>\n",
       "      <th></th>\n",
       "      <th></th>\n",
       "      <th></th>\n",
       "      <th></th>\n",
       "      <th></th>\n",
       "      <th></th>\n",
       "      <th></th>\n",
       "      <th></th>\n",
       "    </tr>\n",
       "  </thead>\n",
       "  <tbody>\n",
       "    <tr>\n",
       "      <th>2011-07-30</th>\n",
       "      <td>-0.006030</td>\n",
       "      <td>0.000000</td>\n",
       "      <td>-1.000000</td>\n",
       "      <td>0</td>\n",
       "      <td>0</td>\n",
       "      <td>0</td>\n",
       "      <td>0</td>\n",
       "      <td>1</td>\n",
       "      <td>0</td>\n",
       "      <td>0</td>\n",
       "    </tr>\n",
       "    <tr>\n",
       "      <th>2011-08-01</th>\n",
       "      <td>0.000240</td>\n",
       "      <td>-0.004132</td>\n",
       "      <td>inf</td>\n",
       "      <td>0</td>\n",
       "      <td>0</td>\n",
       "      <td>0</td>\n",
       "      <td>0</td>\n",
       "      <td>0</td>\n",
       "      <td>0</td>\n",
       "      <td>0</td>\n",
       "    </tr>\n",
       "    <tr>\n",
       "      <th>2011-08-02</th>\n",
       "      <td>-0.004665</td>\n",
       "      <td>-0.025557</td>\n",
       "      <td>0.048094</td>\n",
       "      <td>1</td>\n",
       "      <td>0</td>\n",
       "      <td>0</td>\n",
       "      <td>0</td>\n",
       "      <td>0</td>\n",
       "      <td>0</td>\n",
       "      <td>0</td>\n",
       "    </tr>\n",
       "    <tr>\n",
       "      <th>2011-08-03</th>\n",
       "      <td>-0.025114</td>\n",
       "      <td>0.005016</td>\n",
       "      <td>0.238298</td>\n",
       "      <td>0</td>\n",
       "      <td>1</td>\n",
       "      <td>0</td>\n",
       "      <td>0</td>\n",
       "      <td>0</td>\n",
       "      <td>0</td>\n",
       "      <td>0</td>\n",
       "    </tr>\n",
       "    <tr>\n",
       "      <th>2011-08-04</th>\n",
       "      <td>0.004768</td>\n",
       "      <td>-0.047820</td>\n",
       "      <td>-0.338209</td>\n",
       "      <td>0</td>\n",
       "      <td>0</td>\n",
       "      <td>1</td>\n",
       "      <td>0</td>\n",
       "      <td>0</td>\n",
       "      <td>0</td>\n",
       "      <td>0</td>\n",
       "    </tr>\n",
       "    <tr>\n",
       "      <th>...</th>\n",
       "      <td>...</td>\n",
       "      <td>...</td>\n",
       "      <td>...</td>\n",
       "      <td>...</td>\n",
       "      <td>...</td>\n",
       "      <td>...</td>\n",
       "      <td>...</td>\n",
       "      <td>...</td>\n",
       "      <td>...</td>\n",
       "      <td>...</td>\n",
       "    </tr>\n",
       "    <tr>\n",
       "      <th>2021-08-12</th>\n",
       "      <td>0.000878</td>\n",
       "      <td>0.004146</td>\n",
       "      <td>-0.092470</td>\n",
       "      <td>0</td>\n",
       "      <td>0</td>\n",
       "      <td>1</td>\n",
       "      <td>0</td>\n",
       "      <td>0</td>\n",
       "      <td>0</td>\n",
       "      <td>0</td>\n",
       "    </tr>\n",
       "    <tr>\n",
       "      <th>2021-08-13</th>\n",
       "      <td>0.004219</td>\n",
       "      <td>0.001607</td>\n",
       "      <td>-0.067704</td>\n",
       "      <td>0</td>\n",
       "      <td>0</td>\n",
       "      <td>0</td>\n",
       "      <td>1</td>\n",
       "      <td>0</td>\n",
       "      <td>0</td>\n",
       "      <td>0</td>\n",
       "    </tr>\n",
       "    <tr>\n",
       "      <th>2021-08-14</th>\n",
       "      <td>0.000708</td>\n",
       "      <td>0.000000</td>\n",
       "      <td>-1.000000</td>\n",
       "      <td>0</td>\n",
       "      <td>0</td>\n",
       "      <td>0</td>\n",
       "      <td>0</td>\n",
       "      <td>1</td>\n",
       "      <td>0</td>\n",
       "      <td>0</td>\n",
       "    </tr>\n",
       "    <tr>\n",
       "      <th>2021-08-16</th>\n",
       "      <td>-0.001421</td>\n",
       "      <td>0.002621</td>\n",
       "      <td>inf</td>\n",
       "      <td>0</td>\n",
       "      <td>0</td>\n",
       "      <td>0</td>\n",
       "      <td>0</td>\n",
       "      <td>0</td>\n",
       "      <td>0</td>\n",
       "      <td>0</td>\n",
       "    </tr>\n",
       "    <tr>\n",
       "      <th>2021-08-17</th>\n",
       "      <td>0.000105</td>\n",
       "      <td>-0.007061</td>\n",
       "      <td>0.065319</td>\n",
       "      <td>1</td>\n",
       "      <td>0</td>\n",
       "      <td>0</td>\n",
       "      <td>0</td>\n",
       "      <td>0</td>\n",
       "      <td>0</td>\n",
       "      <td>0</td>\n",
       "    </tr>\n",
       "  </tbody>\n",
       "</table>\n",
       "<p>3080 rows × 10 columns</p>\n",
       "</div>"
      ],
      "text/plain": [
       "                Open     Close    Volume  day_of_week_1  day_of_week_2  \\\n",
       "date                                                                     \n",
       "2011-07-30 -0.006030  0.000000 -1.000000              0              0   \n",
       "2011-08-01  0.000240 -0.004132       inf              0              0   \n",
       "2011-08-02 -0.004665 -0.025557  0.048094              1              0   \n",
       "2011-08-03 -0.025114  0.005016  0.238298              0              1   \n",
       "2011-08-04  0.004768 -0.047820 -0.338209              0              0   \n",
       "...              ...       ...       ...            ...            ...   \n",
       "2021-08-12  0.000878  0.004146 -0.092470              0              0   \n",
       "2021-08-13  0.004219  0.001607 -0.067704              0              0   \n",
       "2021-08-14  0.000708  0.000000 -1.000000              0              0   \n",
       "2021-08-16 -0.001421  0.002621       inf              0              0   \n",
       "2021-08-17  0.000105 -0.007061  0.065319              1              0   \n",
       "\n",
       "            day_of_week_3  day_of_week_4  day_of_week_5  day_of_week_6  \\\n",
       "date                                                                     \n",
       "2011-07-30              0              0              1              0   \n",
       "2011-08-01              0              0              0              0   \n",
       "2011-08-02              0              0              0              0   \n",
       "2011-08-03              0              0              0              0   \n",
       "2011-08-04              1              0              0              0   \n",
       "...                   ...            ...            ...            ...   \n",
       "2021-08-12              1              0              0              0   \n",
       "2021-08-13              0              1              0              0   \n",
       "2021-08-14              0              0              1              0   \n",
       "2021-08-16              0              0              0              0   \n",
       "2021-08-17              0              0              0              0   \n",
       "\n",
       "            is_holiday_1  \n",
       "date                      \n",
       "2011-07-30             0  \n",
       "2011-08-01             0  \n",
       "2011-08-02             0  \n",
       "2011-08-03             0  \n",
       "2011-08-04             0  \n",
       "...                  ...  \n",
       "2021-08-12             0  \n",
       "2021-08-13             0  \n",
       "2021-08-14             0  \n",
       "2021-08-16             0  \n",
       "2021-08-17             0  \n",
       "\n",
       "[3080 rows x 10 columns]"
      ]
     },
     "execution_count": 181,
     "metadata": {},
     "output_type": "execute_result"
    }
   ],
   "source": [
    "df"
   ]
  },
  {
   "cell_type": "code",
   "execution_count": 172,
   "id": "9dc41158-81b0-4f5d-abad-4c4d3418f824",
   "metadata": {
    "execution": {
     "iopub.execute_input": "2021-08-26T09:30:56.246192Z",
     "iopub.status.busy": "2021-08-26T09:30:56.245905Z",
     "iopub.status.idle": "2021-08-26T09:30:56.267865Z",
     "shell.execute_reply": "2021-08-26T09:30:56.267271Z",
     "shell.execute_reply.started": "2021-08-26T09:30:56.246172Z"
    },
    "tags": []
   },
   "outputs": [
    {
     "data": {
      "text/html": [
       "<div>\n",
       "<style scoped>\n",
       "    .dataframe tbody tr th:only-of-type {\n",
       "        vertical-align: middle;\n",
       "    }\n",
       "\n",
       "    .dataframe tbody tr th {\n",
       "        vertical-align: top;\n",
       "    }\n",
       "\n",
       "    .dataframe thead th {\n",
       "        text-align: right;\n",
       "    }\n",
       "</style>\n",
       "<table border=\"1\" class=\"dataframe\">\n",
       "  <thead>\n",
       "    <tr style=\"text-align: right;\">\n",
       "      <th></th>\n",
       "      <th>Open</th>\n",
       "      <th>Close</th>\n",
       "      <th>Volume</th>\n",
       "    </tr>\n",
       "    <tr>\n",
       "      <th>date</th>\n",
       "      <th></th>\n",
       "      <th></th>\n",
       "      <th></th>\n",
       "    </tr>\n",
       "  </thead>\n",
       "  <tbody>\n",
       "    <tr>\n",
       "      <th>2011-07-29</th>\n",
       "      <td>NaN</td>\n",
       "      <td>NaN</td>\n",
       "      <td>NaN</td>\n",
       "    </tr>\n",
       "    <tr>\n",
       "      <th>2011-07-30</th>\n",
       "      <td>-0.006030</td>\n",
       "      <td>0.000000</td>\n",
       "      <td>-1.000000</td>\n",
       "    </tr>\n",
       "    <tr>\n",
       "      <th>2011-07-31</th>\n",
       "      <td>0.000000</td>\n",
       "      <td>0.000000</td>\n",
       "      <td>NaN</td>\n",
       "    </tr>\n",
       "    <tr>\n",
       "      <th>2011-08-01</th>\n",
       "      <td>0.000240</td>\n",
       "      <td>-0.004132</td>\n",
       "      <td>inf</td>\n",
       "    </tr>\n",
       "    <tr>\n",
       "      <th>2011-08-02</th>\n",
       "      <td>-0.004665</td>\n",
       "      <td>-0.025557</td>\n",
       "      <td>0.048094</td>\n",
       "    </tr>\n",
       "    <tr>\n",
       "      <th>...</th>\n",
       "      <td>...</td>\n",
       "      <td>...</td>\n",
       "      <td>...</td>\n",
       "    </tr>\n",
       "    <tr>\n",
       "      <th>2021-08-13</th>\n",
       "      <td>0.004219</td>\n",
       "      <td>0.001607</td>\n",
       "      <td>-0.067704</td>\n",
       "    </tr>\n",
       "    <tr>\n",
       "      <th>2021-08-14</th>\n",
       "      <td>0.000708</td>\n",
       "      <td>0.000000</td>\n",
       "      <td>-1.000000</td>\n",
       "    </tr>\n",
       "    <tr>\n",
       "      <th>2021-08-15</th>\n",
       "      <td>0.000000</td>\n",
       "      <td>0.000000</td>\n",
       "      <td>NaN</td>\n",
       "    </tr>\n",
       "    <tr>\n",
       "      <th>2021-08-16</th>\n",
       "      <td>-0.001421</td>\n",
       "      <td>0.002621</td>\n",
       "      <td>inf</td>\n",
       "    </tr>\n",
       "    <tr>\n",
       "      <th>2021-08-17</th>\n",
       "      <td>0.000105</td>\n",
       "      <td>-0.007061</td>\n",
       "      <td>0.065319</td>\n",
       "    </tr>\n",
       "  </tbody>\n",
       "</table>\n",
       "<p>3653 rows × 3 columns</p>\n",
       "</div>"
      ],
      "text/plain": [
       "                Open     Close    Volume\n",
       "date                                    \n",
       "2011-07-29       NaN       NaN       NaN\n",
       "2011-07-30 -0.006030  0.000000 -1.000000\n",
       "2011-07-31  0.000000  0.000000       NaN\n",
       "2011-08-01  0.000240 -0.004132       inf\n",
       "2011-08-02 -0.004665 -0.025557  0.048094\n",
       "...              ...       ...       ...\n",
       "2021-08-13  0.004219  0.001607 -0.067704\n",
       "2021-08-14  0.000708  0.000000 -1.000000\n",
       "2021-08-15  0.000000  0.000000       NaN\n",
       "2021-08-16 -0.001421  0.002621       inf\n",
       "2021-08-17  0.000105 -0.007061  0.065319\n",
       "\n",
       "[3653 rows x 3 columns]"
      ]
     },
     "execution_count": 172,
     "metadata": {},
     "output_type": "execute_result"
    }
   ],
   "source": [
    "data[['Open','Close','Volume']].pct_change()"
   ]
  },
  {
   "cell_type": "code",
   "execution_count": null,
   "id": "ca66b554-597c-4768-bb0c-b24548a65acc",
   "metadata": {},
   "outputs": [],
   "source": []
  },
  {
   "cell_type": "code",
   "execution_count": null,
   "id": "9f06d17b-4eb8-4eb6-af75-a6cf8838c6ea",
   "metadata": {},
   "outputs": [],
   "source": []
  },
  {
   "cell_type": "code",
   "execution_count": null,
   "id": "4e8611d2-6aa5-4c51-9a0d-6d35a790c9d5",
   "metadata": {},
   "outputs": [],
   "source": []
  },
  {
   "cell_type": "code",
   "execution_count": null,
   "id": "3c757eba-4894-4bee-84b3-1dd711922bac",
   "metadata": {},
   "outputs": [],
   "source": []
  },
  {
   "cell_type": "code",
   "execution_count": null,
   "id": "4e867023-d9f5-4853-8491-9626ad9ec8c8",
   "metadata": {},
   "outputs": [],
   "source": []
  },
  {
   "cell_type": "code",
   "execution_count": null,
   "id": "775214e1-a663-416d-9e1d-601f618e5780",
   "metadata": {},
   "outputs": [],
   "source": []
  },
  {
   "cell_type": "markdown",
   "id": "0683890f-9c31-414a-bb72-1c983955b492",
   "metadata": {},
   "source": [
    "# Linear Regression Model for Open Price \n",
    " ## no lagged variables "
   ]
  },
  {
   "cell_type": "code",
   "execution_count": 61,
   "id": "93da9d34-8499-41d3-b93e-c01287190cb2",
   "metadata": {
    "execution": {
     "iopub.execute_input": "2021-08-26T07:42:37.457082Z",
     "iopub.status.busy": "2021-08-26T07:42:37.456876Z",
     "iopub.status.idle": "2021-08-26T07:42:37.465145Z",
     "shell.execute_reply": "2021-08-26T07:42:37.464498Z",
     "shell.execute_reply.started": "2021-08-26T07:42:37.457065Z"
    },
    "tags": []
   },
   "outputs": [],
   "source": [
    "X_train,X_test,y_train,y_test= train_test_split(data.drop(columns='Open'),data['Open'],\n",
    "                                                test_size=0.2,shuffle=False,random_state=42)"
   ]
  },
  {
   "cell_type": "code",
   "execution_count": 70,
   "id": "2bfca15e-9d77-40c9-8670-f13699805b74",
   "metadata": {
    "execution": {
     "iopub.execute_input": "2021-08-26T07:49:28.915675Z",
     "iopub.status.busy": "2021-08-26T07:49:28.915487Z",
     "iopub.status.idle": "2021-08-26T07:49:28.918832Z",
     "shell.execute_reply": "2021-08-26T07:49:28.918182Z",
     "shell.execute_reply.started": "2021-08-26T07:49:28.915658Z"
    },
    "tags": []
   },
   "outputs": [],
   "source": [
    "# Import statsmodels.\n",
    "import statsmodels.api as sm"
   ]
  },
  {
   "cell_type": "code",
   "execution_count": 71,
   "id": "e17d4aa2-ee05-43d2-965b-9d6e9d0cddf6",
   "metadata": {
    "execution": {
     "iopub.execute_input": "2021-08-26T07:50:00.630888Z",
     "iopub.status.busy": "2021-08-26T07:50:00.630695Z",
     "iopub.status.idle": "2021-08-26T07:50:00.651791Z",
     "shell.execute_reply": "2021-08-26T07:50:00.651142Z",
     "shell.execute_reply.started": "2021-08-26T07:50:00.630870Z"
    },
    "tags": []
   },
   "outputs": [
    {
     "name": "stderr",
     "output_type": "stream",
     "text": [
      "/home/tanveer/anaconda3/lib/python3.8/site-packages/statsmodels/tsa/tsatools.py:142: FutureWarning: In a future version of pandas all arguments of concat except for the argument 'objs' will be keyword-only\n",
      "  x = pd.concat(x[::order], 1)\n"
     ]
    },
    {
     "data": {
      "text/html": [
       "<div>\n",
       "<style scoped>\n",
       "    .dataframe tbody tr th:only-of-type {\n",
       "        vertical-align: middle;\n",
       "    }\n",
       "\n",
       "    .dataframe tbody tr th {\n",
       "        vertical-align: top;\n",
       "    }\n",
       "\n",
       "    .dataframe thead th {\n",
       "        text-align: right;\n",
       "    }\n",
       "</style>\n",
       "<table border=\"1\" class=\"dataframe\">\n",
       "  <thead>\n",
       "    <tr style=\"text-align: right;\">\n",
       "      <th></th>\n",
       "      <th>const</th>\n",
       "      <th>Close</th>\n",
       "      <th>Volume</th>\n",
       "      <th>day_of_week_1</th>\n",
       "      <th>day_of_week_2</th>\n",
       "      <th>day_of_week_3</th>\n",
       "      <th>day_of_week_4</th>\n",
       "      <th>day_of_week_5</th>\n",
       "      <th>day_of_week_6</th>\n",
       "      <th>is_holiday_1</th>\n",
       "    </tr>\n",
       "    <tr>\n",
       "      <th>date</th>\n",
       "      <th></th>\n",
       "      <th></th>\n",
       "      <th></th>\n",
       "      <th></th>\n",
       "      <th></th>\n",
       "      <th></th>\n",
       "      <th></th>\n",
       "      <th></th>\n",
       "      <th></th>\n",
       "      <th></th>\n",
       "    </tr>\n",
       "  </thead>\n",
       "  <tbody>\n",
       "    <tr>\n",
       "      <th>2011-07-29</th>\n",
       "      <td>1.0</td>\n",
       "      <td>1292.280029</td>\n",
       "      <td>5.061190e+09</td>\n",
       "      <td>0</td>\n",
       "      <td>0</td>\n",
       "      <td>0</td>\n",
       "      <td>1</td>\n",
       "      <td>0</td>\n",
       "      <td>0</td>\n",
       "      <td>0</td>\n",
       "    </tr>\n",
       "    <tr>\n",
       "      <th>2011-07-30</th>\n",
       "      <td>1.0</td>\n",
       "      <td>1292.280029</td>\n",
       "      <td>0.000000e+00</td>\n",
       "      <td>0</td>\n",
       "      <td>0</td>\n",
       "      <td>0</td>\n",
       "      <td>0</td>\n",
       "      <td>1</td>\n",
       "      <td>0</td>\n",
       "      <td>0</td>\n",
       "    </tr>\n",
       "    <tr>\n",
       "      <th>2011-07-31</th>\n",
       "      <td>1.0</td>\n",
       "      <td>1292.280029</td>\n",
       "      <td>0.000000e+00</td>\n",
       "      <td>0</td>\n",
       "      <td>0</td>\n",
       "      <td>0</td>\n",
       "      <td>0</td>\n",
       "      <td>0</td>\n",
       "      <td>1</td>\n",
       "      <td>0</td>\n",
       "    </tr>\n",
       "    <tr>\n",
       "      <th>2011-08-01</th>\n",
       "      <td>1.0</td>\n",
       "      <td>1286.939941</td>\n",
       "      <td>4.967390e+09</td>\n",
       "      <td>0</td>\n",
       "      <td>0</td>\n",
       "      <td>0</td>\n",
       "      <td>0</td>\n",
       "      <td>0</td>\n",
       "      <td>0</td>\n",
       "      <td>0</td>\n",
       "    </tr>\n",
       "    <tr>\n",
       "      <th>2011-08-02</th>\n",
       "      <td>1.0</td>\n",
       "      <td>1254.050049</td>\n",
       "      <td>5.206290e+09</td>\n",
       "      <td>1</td>\n",
       "      <td>0</td>\n",
       "      <td>0</td>\n",
       "      <td>0</td>\n",
       "      <td>0</td>\n",
       "      <td>0</td>\n",
       "      <td>0</td>\n",
       "    </tr>\n",
       "  </tbody>\n",
       "</table>\n",
       "</div>"
      ],
      "text/plain": [
       "            const        Close        Volume  day_of_week_1  day_of_week_2  \\\n",
       "date                                                                         \n",
       "2011-07-29    1.0  1292.280029  5.061190e+09              0              0   \n",
       "2011-07-30    1.0  1292.280029  0.000000e+00              0              0   \n",
       "2011-07-31    1.0  1292.280029  0.000000e+00              0              0   \n",
       "2011-08-01    1.0  1286.939941  4.967390e+09              0              0   \n",
       "2011-08-02    1.0  1254.050049  5.206290e+09              1              0   \n",
       "\n",
       "            day_of_week_3  day_of_week_4  day_of_week_5  day_of_week_6  \\\n",
       "date                                                                     \n",
       "2011-07-29              0              1              0              0   \n",
       "2011-07-30              0              0              1              0   \n",
       "2011-07-31              0              0              0              1   \n",
       "2011-08-01              0              0              0              0   \n",
       "2011-08-02              0              0              0              0   \n",
       "\n",
       "            is_holiday_1  \n",
       "date                      \n",
       "2011-07-29             0  \n",
       "2011-07-30             0  \n",
       "2011-07-31             0  \n",
       "2011-08-01             0  \n",
       "2011-08-02             0  "
      ]
     },
     "execution_count": 71,
     "metadata": {},
     "output_type": "execute_result"
    }
   ],
   "source": [
    "X_train = sm.add_constant(X_train)\n",
    "X_test = sm.add_constant(X_test)\n",
    "\n",
    "# Confirm.\n",
    "X_train.head()"
   ]
  },
  {
   "cell_type": "code",
   "execution_count": 72,
   "id": "39bcb2dd-1ac7-4057-b44c-acf886db4c7c",
   "metadata": {
    "execution": {
     "iopub.execute_input": "2021-08-26T07:50:41.858572Z",
     "iopub.status.busy": "2021-08-26T07:50:41.858366Z",
     "iopub.status.idle": "2021-08-26T07:50:41.865882Z",
     "shell.execute_reply": "2021-08-26T07:50:41.865206Z",
     "shell.execute_reply.started": "2021-08-26T07:50:41.858554Z"
    }
   },
   "outputs": [
    {
     "data": {
      "text/plain": [
       "const            0\n",
       "Close            0\n",
       "Volume           0\n",
       "day_of_week_1    0\n",
       "day_of_week_2    0\n",
       "day_of_week_3    0\n",
       "day_of_week_4    0\n",
       "day_of_week_5    0\n",
       "day_of_week_6    0\n",
       "is_holiday_1     0\n",
       "dtype: int64"
      ]
     },
     "execution_count": 72,
     "metadata": {},
     "output_type": "execute_result"
    }
   ],
   "source": [
    "# confirm no missing values \n",
    "X_train.isnull().sum()"
   ]
  },
  {
   "cell_type": "code",
   "execution_count": 74,
   "id": "67074d98-a727-4331-9354-5a968e28d1ad",
   "metadata": {
    "execution": {
     "iopub.execute_input": "2021-08-26T07:51:42.701485Z",
     "iopub.status.busy": "2021-08-26T07:51:42.701291Z",
     "iopub.status.idle": "2021-08-26T07:51:42.734989Z",
     "shell.execute_reply": "2021-08-26T07:51:42.734352Z",
     "shell.execute_reply.started": "2021-08-26T07:51:42.701467Z"
    },
    "tags": []
   },
   "outputs": [
    {
     "data": {
      "text/html": [
       "<table class=\"simpletable\">\n",
       "<caption>OLS Regression Results</caption>\n",
       "<tr>\n",
       "  <th>Dep. Variable:</th>          <td>Open</td>       <th>  R-squared:         </th> <td>   0.999</td> \n",
       "</tr>\n",
       "<tr>\n",
       "  <th>Model:</th>                   <td>OLS</td>       <th>  Adj. R-squared:    </th> <td>   0.999</td> \n",
       "</tr>\n",
       "<tr>\n",
       "  <th>Method:</th>             <td>Least Squares</td>  <th>  F-statistic:       </th> <td>4.576e+05</td>\n",
       "</tr>\n",
       "<tr>\n",
       "  <th>Date:</th>             <td>Thu, 26 Aug 2021</td> <th>  Prob (F-statistic):</th>  <td>  0.00</td>  \n",
       "</tr>\n",
       "<tr>\n",
       "  <th>Time:</th>                 <td>03:51:42</td>     <th>  Log-Likelihood:    </th> <td> -11706.</td> \n",
       "</tr>\n",
       "<tr>\n",
       "  <th>No. Observations:</th>      <td>  2922</td>      <th>  AIC:               </th> <td>2.343e+04</td>\n",
       "</tr>\n",
       "<tr>\n",
       "  <th>Df Residuals:</th>          <td>  2912</td>      <th>  BIC:               </th> <td>2.349e+04</td>\n",
       "</tr>\n",
       "<tr>\n",
       "  <th>Df Model:</th>              <td>     9</td>      <th>                     </th>     <td> </td>    \n",
       "</tr>\n",
       "<tr>\n",
       "  <th>Covariance Type:</th>      <td>nonrobust</td>    <th>                     </th>     <td> </td>    \n",
       "</tr>\n",
       "</table>\n",
       "<table class=\"simpletable\">\n",
       "<tr>\n",
       "        <td></td>           <th>coef</th>     <th>std err</th>      <th>t</th>      <th>P>|t|</th>  <th>[0.025</th>    <th>0.975]</th>  \n",
       "</tr>\n",
       "<tr>\n",
       "  <th>const</th>         <td>   -8.0552</td> <td>    1.965</td> <td>   -4.099</td> <td> 0.000</td> <td>  -11.909</td> <td>   -4.202</td>\n",
       "</tr>\n",
       "<tr>\n",
       "  <th>Close</th>         <td>    1.0003</td> <td>    0.000</td> <td> 2017.435</td> <td> 0.000</td> <td>    0.999</td> <td>    1.001</td>\n",
       "</tr>\n",
       "<tr>\n",
       "  <th>Volume</th>        <td> 2.509e-09</td> <td> 4.23e-10</td> <td>    5.927</td> <td> 0.000</td> <td> 1.68e-09</td> <td> 3.34e-09</td>\n",
       "</tr>\n",
       "<tr>\n",
       "  <th>day_of_week_1</th> <td>   -2.6621</td> <td>    0.933</td> <td>   -2.855</td> <td> 0.004</td> <td>   -4.491</td> <td>   -0.834</td>\n",
       "</tr>\n",
       "<tr>\n",
       "  <th>day_of_week_2</th> <td>   -2.3830</td> <td>    0.937</td> <td>   -2.544</td> <td> 0.011</td> <td>   -4.220</td> <td>   -0.546</td>\n",
       "</tr>\n",
       "<tr>\n",
       "  <th>day_of_week_3</th> <td>   -2.2743</td> <td>    0.935</td> <td>   -2.434</td> <td> 0.015</td> <td>   -4.107</td> <td>   -0.442</td>\n",
       "</tr>\n",
       "<tr>\n",
       "  <th>day_of_week_4</th> <td>   -2.3000</td> <td>    0.934</td> <td>   -2.462</td> <td> 0.014</td> <td>   -4.132</td> <td>   -0.468</td>\n",
       "</tr>\n",
       "<tr>\n",
       "  <th>day_of_week_5</th> <td>    7.5150</td> <td>    1.713</td> <td>    4.387</td> <td> 0.000</td> <td>    4.156</td> <td>   10.873</td>\n",
       "</tr>\n",
       "<tr>\n",
       "  <th>day_of_week_6</th> <td>    7.4919</td> <td>    1.707</td> <td>    4.390</td> <td> 0.000</td> <td>    4.145</td> <td>   10.838</td>\n",
       "</tr>\n",
       "<tr>\n",
       "  <th>is_holiday_1</th>  <td>    8.4762</td> <td>    2.176</td> <td>    3.896</td> <td> 0.000</td> <td>    4.210</td> <td>   12.742</td>\n",
       "</tr>\n",
       "</table>\n",
       "<table class=\"simpletable\">\n",
       "<tr>\n",
       "  <th>Omnibus:</th>       <td>543.885</td> <th>  Durbin-Watson:     </th> <td>   2.063</td>\n",
       "</tr>\n",
       "<tr>\n",
       "  <th>Prob(Omnibus):</th> <td> 0.000</td>  <th>  Jarque-Bera (JB):  </th> <td>8644.025</td>\n",
       "</tr>\n",
       "<tr>\n",
       "  <th>Skew:</th>          <td> 0.408</td>  <th>  Prob(JB):          </th> <td>    0.00</td>\n",
       "</tr>\n",
       "<tr>\n",
       "  <th>Kurtosis:</th>      <td>11.386</td>  <th>  Cond. No.          </th> <td>4.15e+10</td>\n",
       "</tr>\n",
       "</table><br/><br/>Notes:<br/>[1] Standard Errors assume that the covariance matrix of the errors is correctly specified.<br/>[2] The condition number is large, 4.15e+10. This might indicate that there are<br/>strong multicollinearity or other numerical problems."
      ],
      "text/plain": [
       "<class 'statsmodels.iolib.summary.Summary'>\n",
       "\"\"\"\n",
       "                            OLS Regression Results                            \n",
       "==============================================================================\n",
       "Dep. Variable:                   Open   R-squared:                       0.999\n",
       "Model:                            OLS   Adj. R-squared:                  0.999\n",
       "Method:                 Least Squares   F-statistic:                 4.576e+05\n",
       "Date:                Thu, 26 Aug 2021   Prob (F-statistic):               0.00\n",
       "Time:                        03:51:42   Log-Likelihood:                -11706.\n",
       "No. Observations:                2922   AIC:                         2.343e+04\n",
       "Df Residuals:                    2912   BIC:                         2.349e+04\n",
       "Df Model:                           9                                         \n",
       "Covariance Type:            nonrobust                                         \n",
       "=================================================================================\n",
       "                    coef    std err          t      P>|t|      [0.025      0.975]\n",
       "---------------------------------------------------------------------------------\n",
       "const            -8.0552      1.965     -4.099      0.000     -11.909      -4.202\n",
       "Close             1.0003      0.000   2017.435      0.000       0.999       1.001\n",
       "Volume         2.509e-09   4.23e-10      5.927      0.000    1.68e-09    3.34e-09\n",
       "day_of_week_1    -2.6621      0.933     -2.855      0.004      -4.491      -0.834\n",
       "day_of_week_2    -2.3830      0.937     -2.544      0.011      -4.220      -0.546\n",
       "day_of_week_3    -2.2743      0.935     -2.434      0.015      -4.107      -0.442\n",
       "day_of_week_4    -2.3000      0.934     -2.462      0.014      -4.132      -0.468\n",
       "day_of_week_5     7.5150      1.713      4.387      0.000       4.156      10.873\n",
       "day_of_week_6     7.4919      1.707      4.390      0.000       4.145      10.838\n",
       "is_holiday_1      8.4762      2.176      3.896      0.000       4.210      12.742\n",
       "==============================================================================\n",
       "Omnibus:                      543.885   Durbin-Watson:                   2.063\n",
       "Prob(Omnibus):                  0.000   Jarque-Bera (JB):             8644.025\n",
       "Skew:                           0.408   Prob(JB):                         0.00\n",
       "Kurtosis:                      11.386   Cond. No.                     4.15e+10\n",
       "==============================================================================\n",
       "\n",
       "Notes:\n",
       "[1] Standard Errors assume that the covariance matrix of the errors is correctly specified.\n",
       "[2] The condition number is large, 4.15e+10. This might indicate that there are\n",
       "strong multicollinearity or other numerical problems.\n",
       "\"\"\""
      ]
     },
     "execution_count": 74,
     "metadata": {},
     "output_type": "execute_result"
    }
   ],
   "source": [
    "lm = sm.OLS(y_train, X_train)\n",
    "\n",
    "lm_results = lm.fit()\n",
    "\n",
    "# Display our summary!\n",
    "lm_results.summary()"
   ]
  },
  {
   "cell_type": "code",
   "execution_count": 102,
   "id": "e4ae5cb4-cd6c-4566-ba58-70ad79372740",
   "metadata": {
    "execution": {
     "iopub.execute_input": "2021-08-26T08:03:01.749475Z",
     "iopub.status.busy": "2021-08-26T08:03:01.748858Z",
     "iopub.status.idle": "2021-08-26T08:03:01.753029Z",
     "shell.execute_reply": "2021-08-26T08:03:01.752148Z",
     "shell.execute_reply.started": "2021-08-26T08:03:01.749424Z"
    },
    "tags": []
   },
   "outputs": [],
   "source": [
    "from sklearn.metrics import accuracy_score,mean_squared_error"
   ]
  },
  {
   "cell_type": "code",
   "execution_count": 103,
   "id": "4afcb04a-fd1d-420a-a345-282620590a3f",
   "metadata": {
    "execution": {
     "iopub.execute_input": "2021-08-26T08:04:11.310420Z",
     "iopub.status.busy": "2021-08-26T08:04:11.310224Z",
     "iopub.status.idle": "2021-08-26T08:04:11.327343Z",
     "shell.execute_reply": "2021-08-26T08:04:11.326737Z",
     "shell.execute_reply.started": "2021-08-26T08:04:11.310401Z"
    },
    "tags": []
   },
   "outputs": [
    {
     "data": {
      "text/plain": [
       "(13.293011491524853, 27.327080822288373)"
      ]
     },
     "execution_count": 103,
     "metadata": {},
     "output_type": "execute_result"
    }
   ],
   "source": [
    "lm_preds_test =lm_results.predict(X_test)\n",
    "lm_preds_train = lm_results.predict(X_train)\n",
    "mean_squared_error(y_train,lm_preds_train,squared=False),mean_squared_error(y_test,lm_preds_test,squared=False)\n",
    "#"
   ]
  },
  {
   "cell_type": "markdown",
   "id": "493b8342-f02b-453d-9923-a2df43f27bf5",
   "metadata": {},
   "source": [
    "## lagged variables included "
   ]
  },
  {
   "cell_type": "markdown",
   "id": "f93dff81-0337-4aaa-8ba8-19d4796aee0f",
   "metadata": {},
   "source": [
    "DATA LEAKAGE?"
   ]
  },
  {
   "cell_type": "code",
   "execution_count": 107,
   "id": "26ad1744-1af9-4693-a19a-c665b176dc3c",
   "metadata": {
    "execution": {
     "iopub.execute_input": "2021-08-26T08:12:33.240251Z",
     "iopub.status.busy": "2021-08-26T08:12:33.239983Z",
     "iopub.status.idle": "2021-08-26T08:12:33.247399Z",
     "shell.execute_reply": "2021-08-26T08:12:33.246724Z",
     "shell.execute_reply.started": "2021-08-26T08:12:33.240231Z"
    }
   },
   "outputs": [],
   "source": [
    "X_train,X_test,y_train,y_test= train_test_split(data_lagged.drop(columns='Open'),data_lagged['Open'],\n",
    "                                                test_size=0.2,shuffle=False,random_state=42)"
   ]
  },
  {
   "cell_type": "code",
   "execution_count": 108,
   "id": "1563504a-f799-4c62-b525-144ab693d2cb",
   "metadata": {
    "execution": {
     "iopub.execute_input": "2021-08-26T08:13:12.515415Z",
     "iopub.status.busy": "2021-08-26T08:13:12.515216Z",
     "iopub.status.idle": "2021-08-26T08:13:12.527408Z",
     "shell.execute_reply": "2021-08-26T08:13:12.526647Z",
     "shell.execute_reply.started": "2021-08-26T08:13:12.515397Z"
    }
   },
   "outputs": [
    {
     "name": "stderr",
     "output_type": "stream",
     "text": [
      "/home/tanveer/anaconda3/lib/python3.8/site-packages/statsmodels/tsa/tsatools.py:142: FutureWarning: In a future version of pandas all arguments of concat except for the argument 'objs' will be keyword-only\n",
      "  x = pd.concat(x[::order], 1)\n"
     ]
    }
   ],
   "source": [
    "X_train = sm.add_constant(X_train)\n",
    "X_test = sm.add_constant(X_test)"
   ]
  },
  {
   "cell_type": "code",
   "execution_count": 110,
   "id": "2bd6ba48-2c89-41b3-b865-6ceeed9f550b",
   "metadata": {
    "execution": {
     "iopub.execute_input": "2021-08-26T08:14:46.669710Z",
     "iopub.status.busy": "2021-08-26T08:14:46.669483Z",
     "iopub.status.idle": "2021-08-26T08:14:46.719089Z",
     "shell.execute_reply": "2021-08-26T08:14:46.715678Z",
     "shell.execute_reply.started": "2021-08-26T08:14:46.669692Z"
    }
   },
   "outputs": [
    {
     "data": {
      "text/html": [
       "<table class=\"simpletable\">\n",
       "<caption>OLS Regression Results</caption>\n",
       "<tr>\n",
       "  <th>Dep. Variable:</th>          <td>Open</td>       <th>  R-squared:         </th> <td>   1.000</td> \n",
       "</tr>\n",
       "<tr>\n",
       "  <th>Model:</th>                   <td>OLS</td>       <th>  Adj. R-squared:    </th> <td>   1.000</td> \n",
       "</tr>\n",
       "<tr>\n",
       "  <th>Method:</th>             <td>Least Squares</td>  <th>  F-statistic:       </th> <td>3.633e+06</td>\n",
       "</tr>\n",
       "<tr>\n",
       "  <th>Date:</th>             <td>Thu, 26 Aug 2021</td> <th>  Prob (F-statistic):</th>  <td>  0.00</td>  \n",
       "</tr>\n",
       "<tr>\n",
       "  <th>Time:</th>                 <td>04:14:46</td>     <th>  Log-Likelihood:    </th> <td> -8381.7</td> \n",
       "</tr>\n",
       "<tr>\n",
       "  <th>No. Observations:</th>      <td>  2921</td>      <th>  AIC:               </th> <td>1.679e+04</td>\n",
       "</tr>\n",
       "<tr>\n",
       "  <th>Df Residuals:</th>          <td>  2909</td>      <th>  BIC:               </th> <td>1.686e+04</td>\n",
       "</tr>\n",
       "<tr>\n",
       "  <th>Df Model:</th>              <td>    11</td>      <th>                     </th>     <td> </td>    \n",
       "</tr>\n",
       "<tr>\n",
       "  <th>Covariance Type:</th>      <td>nonrobust</td>    <th>                     </th>     <td> </td>    \n",
       "</tr>\n",
       "</table>\n",
       "<table class=\"simpletable\">\n",
       "<tr>\n",
       "        <td></td>           <th>coef</th>     <th>std err</th>      <th>t</th>      <th>P>|t|</th>  <th>[0.025</th>    <th>0.975]</th>  \n",
       "</tr>\n",
       "<tr>\n",
       "  <th>const</th>         <td>   -0.7039</td> <td>    0.633</td> <td>   -1.111</td> <td> 0.267</td> <td>   -1.946</td> <td>    0.538</td>\n",
       "</tr>\n",
       "<tr>\n",
       "  <th>Close</th>         <td>    0.1485</td> <td>    0.005</td> <td>   27.718</td> <td> 0.000</td> <td>    0.138</td> <td>    0.159</td>\n",
       "</tr>\n",
       "<tr>\n",
       "  <th>Volume</th>        <td> 1.211e-10</td> <td> 1.37e-10</td> <td>    0.883</td> <td> 0.377</td> <td>-1.48e-10</td> <td>  3.9e-10</td>\n",
       "</tr>\n",
       "<tr>\n",
       "  <th>day_of_week_1</th> <td>   -0.3280</td> <td>    0.300</td> <td>   -1.094</td> <td> 0.274</td> <td>   -0.916</td> <td>    0.260</td>\n",
       "</tr>\n",
       "<tr>\n",
       "  <th>day_of_week_2</th> <td>   -0.2603</td> <td>    0.301</td> <td>   -0.865</td> <td> 0.387</td> <td>   -0.851</td> <td>    0.330</td>\n",
       "</tr>\n",
       "<tr>\n",
       "  <th>day_of_week_3</th> <td>   -0.7321</td> <td>    0.300</td> <td>   -2.439</td> <td> 0.015</td> <td>   -1.321</td> <td>   -0.144</td>\n",
       "</tr>\n",
       "<tr>\n",
       "  <th>day_of_week_4</th> <td>   -0.2355</td> <td>    0.300</td> <td>   -0.784</td> <td> 0.433</td> <td>   -0.824</td> <td>    0.353</td>\n",
       "</tr>\n",
       "<tr>\n",
       "  <th>day_of_week_5</th> <td>   -0.1042</td> <td>    0.553</td> <td>   -0.189</td> <td> 0.850</td> <td>   -1.188</td> <td>    0.980</td>\n",
       "</tr>\n",
       "<tr>\n",
       "  <th>day_of_week_6</th> <td>   -0.1111</td> <td>    0.551</td> <td>   -0.202</td> <td> 0.840</td> <td>   -1.191</td> <td>    0.969</td>\n",
       "</tr>\n",
       "<tr>\n",
       "  <th>is_holiday_1</th>  <td>    0.0662</td> <td>    0.702</td> <td>    0.094</td> <td> 0.925</td> <td>   -1.310</td> <td>    1.442</td>\n",
       "</tr>\n",
       "<tr>\n",
       "  <th>Open_l1</th>       <td>    0.0094</td> <td>    0.006</td> <td>    1.583</td> <td> 0.114</td> <td>   -0.002</td> <td>    0.021</td>\n",
       "</tr>\n",
       "<tr>\n",
       "  <th>Close_l1</th>      <td>    0.8425</td> <td>    0.008</td> <td>  108.169</td> <td> 0.000</td> <td>    0.827</td> <td>    0.858</td>\n",
       "</tr>\n",
       "</table>\n",
       "<table class=\"simpletable\">\n",
       "<tr>\n",
       "  <th>Omnibus:</th>       <td>1247.789</td> <th>  Durbin-Watson:     </th> <td>   2.068</td> \n",
       "</tr>\n",
       "<tr>\n",
       "  <th>Prob(Omnibus):</th>  <td> 0.000</td>  <th>  Jarque-Bera (JB):  </th> <td>50905.070</td>\n",
       "</tr>\n",
       "<tr>\n",
       "  <th>Skew:</th>           <td>-1.319</td>  <th>  Prob(JB):          </th> <td>    0.00</td> \n",
       "</tr>\n",
       "<tr>\n",
       "  <th>Kurtosis:</th>       <td>23.280</td>  <th>  Cond. No.          </th> <td>4.18e+10</td> \n",
       "</tr>\n",
       "</table><br/><br/>Notes:<br/>[1] Standard Errors assume that the covariance matrix of the errors is correctly specified.<br/>[2] The condition number is large, 4.18e+10. This might indicate that there are<br/>strong multicollinearity or other numerical problems."
      ],
      "text/plain": [
       "<class 'statsmodels.iolib.summary.Summary'>\n",
       "\"\"\"\n",
       "                            OLS Regression Results                            \n",
       "==============================================================================\n",
       "Dep. Variable:                   Open   R-squared:                       1.000\n",
       "Model:                            OLS   Adj. R-squared:                  1.000\n",
       "Method:                 Least Squares   F-statistic:                 3.633e+06\n",
       "Date:                Thu, 26 Aug 2021   Prob (F-statistic):               0.00\n",
       "Time:                        04:14:46   Log-Likelihood:                -8381.7\n",
       "No. Observations:                2921   AIC:                         1.679e+04\n",
       "Df Residuals:                    2909   BIC:                         1.686e+04\n",
       "Df Model:                          11                                         \n",
       "Covariance Type:            nonrobust                                         \n",
       "=================================================================================\n",
       "                    coef    std err          t      P>|t|      [0.025      0.975]\n",
       "---------------------------------------------------------------------------------\n",
       "const            -0.7039      0.633     -1.111      0.267      -1.946       0.538\n",
       "Close             0.1485      0.005     27.718      0.000       0.138       0.159\n",
       "Volume         1.211e-10   1.37e-10      0.883      0.377   -1.48e-10     3.9e-10\n",
       "day_of_week_1    -0.3280      0.300     -1.094      0.274      -0.916       0.260\n",
       "day_of_week_2    -0.2603      0.301     -0.865      0.387      -0.851       0.330\n",
       "day_of_week_3    -0.7321      0.300     -2.439      0.015      -1.321      -0.144\n",
       "day_of_week_4    -0.2355      0.300     -0.784      0.433      -0.824       0.353\n",
       "day_of_week_5    -0.1042      0.553     -0.189      0.850      -1.188       0.980\n",
       "day_of_week_6    -0.1111      0.551     -0.202      0.840      -1.191       0.969\n",
       "is_holiday_1      0.0662      0.702      0.094      0.925      -1.310       1.442\n",
       "Open_l1           0.0094      0.006      1.583      0.114      -0.002       0.021\n",
       "Close_l1          0.8425      0.008    108.169      0.000       0.827       0.858\n",
       "==============================================================================\n",
       "Omnibus:                     1247.789   Durbin-Watson:                   2.068\n",
       "Prob(Omnibus):                  0.000   Jarque-Bera (JB):            50905.070\n",
       "Skew:                          -1.319   Prob(JB):                         0.00\n",
       "Kurtosis:                      23.280   Cond. No.                     4.18e+10\n",
       "==============================================================================\n",
       "\n",
       "Notes:\n",
       "[1] Standard Errors assume that the covariance matrix of the errors is correctly specified.\n",
       "[2] The condition number is large, 4.18e+10. This might indicate that there are\n",
       "strong multicollinearity or other numerical problems.\n",
       "\"\"\""
      ]
     },
     "execution_count": 110,
     "metadata": {},
     "output_type": "execute_result"
    }
   ],
   "source": [
    "\n",
    "lm_lag = sm.OLS(y_train, X_train)\n",
    "lm_lag_results= lm_lag.fit()\n",
    "lm_lag_results.summary()"
   ]
  },
  {
   "cell_type": "code",
   "execution_count": 117,
   "id": "5b57fc88-b4ae-477d-8d90-4e3081145399",
   "metadata": {
    "execution": {
     "iopub.execute_input": "2021-08-26T08:17:46.744762Z",
     "iopub.status.busy": "2021-08-26T08:17:46.744566Z",
     "iopub.status.idle": "2021-08-26T08:17:46.749922Z",
     "shell.execute_reply": "2021-08-26T08:17:46.749257Z",
     "shell.execute_reply.started": "2021-08-26T08:17:46.744745Z"
    },
    "tags": []
   },
   "outputs": [
    {
     "data": {
      "text/plain": [
       "(2921,)"
      ]
     },
     "execution_count": 117,
     "metadata": {},
     "output_type": "execute_result"
    }
   ],
   "source": [
    "lm_lag_preds_train.shape"
   ]
  },
  {
   "cell_type": "code",
   "execution_count": 118,
   "id": "3627ea63-1ed1-4179-b438-4373daddcfcb",
   "metadata": {
    "execution": {
     "iopub.execute_input": "2021-08-26T08:18:01.688037Z",
     "iopub.status.busy": "2021-08-26T08:18:01.687835Z",
     "iopub.status.idle": "2021-08-26T08:18:01.694813Z",
     "shell.execute_reply": "2021-08-26T08:18:01.694495Z",
     "shell.execute_reply.started": "2021-08-26T08:18:01.688019Z"
    },
    "tags": []
   },
   "outputs": [
    {
     "data": {
      "text/plain": [
       "(4.265343288002373, 15.713517374472273)"
      ]
     },
     "execution_count": 118,
     "metadata": {},
     "output_type": "execute_result"
    }
   ],
   "source": [
    "lm_lag_preds_test =lm_lag_results.predict(X_test)\n",
    "lm_lag_preds_train = lm_lag_results.predict(X_train)\n",
    "mean_squared_error(y_train,lm_lag_preds_train,squared=False),mean_squared_error(y_test,lm_lag_preds_test,squared=False)\n",
    "#"
   ]
  },
  {
   "cell_type": "markdown",
   "id": "a662d324-11f9-4e9f-aec1-1882a293de03",
   "metadata": {},
   "source": [
    "# Arimax"
   ]
  },
  {
   "cell_type": "code",
   "execution_count": 119,
   "id": "951dd50f-3746-4e19-a32b-9bbdd649f36e",
   "metadata": {
    "execution": {
     "iopub.execute_input": "2021-08-26T08:19:35.452618Z",
     "iopub.status.busy": "2021-08-26T08:19:35.452341Z",
     "iopub.status.idle": "2021-08-26T08:19:35.456369Z",
     "shell.execute_reply": "2021-08-26T08:19:35.455646Z",
     "shell.execute_reply.started": "2021-08-26T08:19:35.452598Z"
    }
   },
   "outputs": [],
   "source": [
    "from statsmodels.tsa.arima_model import ARIMA\n"
   ]
  },
  {
   "cell_type": "code",
   "execution_count": null,
   "id": "8b63ce48-9e07-4d41-aaf4-59b6aa8f8c4d",
   "metadata": {},
   "outputs": [],
   "source": [
    "ARIMA"
   ]
  },
  {
   "cell_type": "code",
   "execution_count": 121,
   "id": "275f6f4d-6533-4b44-aa51-a91357746c62",
   "metadata": {
    "execution": {
     "iopub.execute_input": "2021-08-26T08:23:04.649604Z",
     "iopub.status.busy": "2021-08-26T08:23:04.649407Z",
     "iopub.status.idle": "2021-08-26T08:23:04.655066Z",
     "shell.execute_reply": "2021-08-26T08:23:04.654343Z",
     "shell.execute_reply.started": "2021-08-26T08:23:04.649586Z"
    },
    "tags": []
   },
   "outputs": [
    {
     "data": {
      "text/plain": [
       "Index(['Open', 'Close', 'Volume', 'day_of_week_1', 'day_of_week_2',\n",
       "       'day_of_week_3', 'day_of_week_4', 'day_of_week_5', 'day_of_week_6',\n",
       "       'is_holiday_1'],\n",
       "      dtype='object')"
      ]
     },
     "execution_count": 121,
     "metadata": {},
     "output_type": "execute_result"
    }
   ],
   "source": [
    "data.columns"
   ]
  },
  {
   "cell_type": "code",
   "execution_count": 122,
   "id": "148bbd93-089e-40f7-9544-52bd252c6185",
   "metadata": {
    "execution": {
     "iopub.execute_input": "2021-08-26T08:23:05.141192Z",
     "iopub.status.busy": "2021-08-26T08:23:05.140933Z",
     "iopub.status.idle": "2021-08-26T08:23:05.148897Z",
     "shell.execute_reply": "2021-08-26T08:23:05.148078Z",
     "shell.execute_reply.started": "2021-08-26T08:23:05.141174Z"
    }
   },
   "outputs": [],
   "source": [
    "X_train,X_test,y_train,y_test= train_test_split(data.drop(columns='Open'),data['Open'],\n",
    "                                                test_size=0.2,shuffle=False,random_state=42)"
   ]
  },
  {
   "cell_type": "code",
   "execution_count": 124,
   "id": "db640e8c-46c0-432f-9543-36e161a2ff26",
   "metadata": {
    "execution": {
     "iopub.execute_input": "2021-08-26T08:25:21.006498Z",
     "iopub.status.busy": "2021-08-26T08:25:21.006303Z",
     "iopub.status.idle": "2021-08-26T08:25:21.067479Z",
     "shell.execute_reply": "2021-08-26T08:25:21.066555Z",
     "shell.execute_reply.started": "2021-08-26T08:25:21.006480Z"
    },
    "tags": []
   },
   "outputs": [],
   "source": [
    "from pmdarima import auto_arima"
   ]
  },
  {
   "cell_type": "code",
   "execution_count": 127,
   "id": "65f6c521-677a-4c14-8a93-0e26bbac9956",
   "metadata": {
    "execution": {
     "iopub.execute_input": "2021-08-26T08:41:06.334953Z",
     "iopub.status.busy": "2021-08-26T08:41:06.334747Z",
     "iopub.status.idle": "2021-08-26T08:51:09.310182Z",
     "shell.execute_reply": "2021-08-26T08:51:09.309245Z",
     "shell.execute_reply.started": "2021-08-26T08:41:06.334935Z"
    },
    "scrolled": true,
    "tags": []
   },
   "outputs": [
    {
     "name": "stdout",
     "output_type": "stream",
     "text": [
      " ARIMA(0,0,0)(0,0,0)[0]             : AIC=43845.535, Time=1.04 sec\n",
      " ARIMA(0,0,1)(0,0,0)[0]             : AIC=23448.095, Time=1.64 sec\n",
      " ARIMA(0,0,2)(0,0,0)[0]             : AIC=23450.066, Time=1.69 sec\n",
      " ARIMA(0,0,3)(0,0,0)[0]             : AIC=23446.161, Time=1.89 sec\n",
      " ARIMA(0,0,4)(0,0,0)[0]             : AIC=23449.737, Time=1.98 sec\n",
      " ARIMA(0,0,5)(0,0,0)[0]             : AIC=23452.960, Time=2.48 sec\n",
      " ARIMA(0,0,6)(0,0,0)[0]             : AIC=23456.953, Time=2.77 sec\n",
      " ARIMA(0,0,7)(0,0,0)[0]             : AIC=23445.526, Time=4.58 sec\n",
      " ARIMA(0,0,8)(0,0,0)[0]             : AIC=23447.975, Time=4.87 sec\n",
      " ARIMA(0,0,9)(0,0,0)[0]             : AIC=23450.305, Time=7.14 sec\n",
      " ARIMA(0,0,10)(0,0,0)[0]             : AIC=23450.286, Time=6.75 sec\n",
      " ARIMA(1,0,0)(0,0,0)[0]             : AIC=23448.132, Time=1.19 sec\n",
      " ARIMA(1,0,1)(0,0,0)[0]             : AIC=23450.595, Time=1.32 sec\n",
      " ARIMA(1,0,2)(0,0,0)[0]             : AIC=23451.734, Time=1.95 sec\n",
      " ARIMA(1,0,3)(0,0,0)[0]             : AIC=23448.196, Time=1.87 sec\n",
      " ARIMA(1,0,4)(0,0,0)[0]             : AIC=23451.548, Time=2.87 sec\n",
      " ARIMA(1,0,5)(0,0,0)[0]             : AIC=23454.533, Time=2.62 sec\n",
      " ARIMA(1,0,6)(0,0,0)[0]             : AIC=23457.188, Time=3.93 sec\n",
      " ARIMA(1,0,7)(0,0,0)[0]             : AIC=23447.717, Time=5.39 sec\n",
      " ARIMA(1,0,8)(0,0,0)[0]             : AIC=23450.107, Time=4.67 sec\n",
      " ARIMA(1,0,9)(0,0,0)[0]             : AIC=23452.453, Time=7.14 sec\n",
      " ARIMA(1,0,10)(0,0,0)[0]             : AIC=23452.100, Time=7.95 sec\n",
      " ARIMA(2,0,0)(0,0,0)[0]             : AIC=23449.890, Time=1.81 sec\n"
     ]
    },
    {
     "name": "stderr",
     "output_type": "stream",
     "text": [
      "/home/tanveer/anaconda3/lib/python3.8/site-packages/statsmodels/tsa/statespace/sarimax.py:1890: RuntimeWarning: divide by zero encountered in reciprocal\n",
      "  return np.roots(self.polynomial_reduced_ar)**-1\n",
      "/home/tanveer/anaconda3/lib/python3.8/site-packages/statsmodels/tsa/statespace/sarimax.py:1897: RuntimeWarning: divide by zero encountered in reciprocal\n",
      "  return np.roots(self.polynomial_reduced_ma)**-1\n"
     ]
    },
    {
     "name": "stdout",
     "output_type": "stream",
     "text": [
      " ARIMA(2,0,1)(0,0,0)[0]             : AIC=23454.912, Time=1.53 sec\n",
      " ARIMA(2,0,2)(0,0,0)[0]             : AIC=23451.923, Time=1.65 sec\n",
      " ARIMA(2,0,3)(0,0,0)[0]             : AIC=23451.747, Time=1.78 sec\n",
      " ARIMA(2,0,4)(0,0,0)[0]             : AIC=23453.777, Time=2.32 sec\n",
      " ARIMA(2,0,5)(0,0,0)[0]             : AIC=23456.450, Time=2.66 sec\n",
      " ARIMA(2,0,6)(0,0,0)[0]             : AIC=23459.166, Time=2.87 sec\n",
      " ARIMA(2,0,7)(0,0,0)[0]             : AIC=23448.444, Time=4.71 sec\n",
      " ARIMA(2,0,8)(0,0,0)[0]             : AIC=23451.491, Time=4.26 sec\n",
      " ARIMA(2,0,9)(0,0,0)[0]             : AIC=23453.193, Time=5.91 sec\n",
      " ARIMA(2,0,10)(0,0,0)[0]             : AIC=23453.085, Time=8.47 sec\n",
      " ARIMA(3,0,0)(0,0,0)[0]             : AIC=23445.428, Time=1.65 sec\n",
      " ARIMA(3,0,1)(0,0,0)[0]             : AIC=23447.436, Time=1.89 sec\n",
      " ARIMA(3,0,2)(0,0,0)[0]             : AIC=23450.955, Time=1.94 sec\n"
     ]
    },
    {
     "name": "stderr",
     "output_type": "stream",
     "text": [
      "/home/tanveer/anaconda3/lib/python3.8/site-packages/statsmodels/tsa/statespace/sarimax.py:1890: RuntimeWarning: divide by zero encountered in reciprocal\n",
      "  return np.roots(self.polynomial_reduced_ar)**-1\n"
     ]
    },
    {
     "name": "stdout",
     "output_type": "stream",
     "text": [
      " ARIMA(3,0,3)(0,0,0)[0]             : AIC=51345.766, Time=2.17 sec\n",
      " ARIMA(3,0,4)(0,0,0)[0]             : AIC=23456.899, Time=2.47 sec\n",
      " ARIMA(3,0,5)(0,0,0)[0]             : AIC=23461.179, Time=2.97 sec\n",
      " ARIMA(3,0,6)(0,0,0)[0]             : AIC=23462.744, Time=3.80 sec\n",
      " ARIMA(3,0,7)(0,0,0)[0]             : AIC=23449.949, Time=6.20 sec\n",
      " ARIMA(3,0,8)(0,0,0)[0]             : AIC=23453.265, Time=7.39 sec\n",
      " ARIMA(3,0,9)(0,0,0)[0]             : AIC=23453.978, Time=6.69 sec\n",
      " ARIMA(3,0,10)(0,0,0)[0]             : AIC=23455.121, Time=8.33 sec\n",
      " ARIMA(4,0,0)(0,0,0)[0]             : AIC=23447.427, Time=2.14 sec\n",
      " ARIMA(4,0,1)(0,0,0)[0]             : AIC=23449.426, Time=2.06 sec\n"
     ]
    },
    {
     "name": "stderr",
     "output_type": "stream",
     "text": [
      "/home/tanveer/anaconda3/lib/python3.8/site-packages/statsmodels/tsa/statespace/sarimax.py:1890: RuntimeWarning: divide by zero encountered in reciprocal\n",
      "  return np.roots(self.polynomial_reduced_ar)**-1\n",
      "/home/tanveer/anaconda3/lib/python3.8/site-packages/statsmodels/tsa/statespace/sarimax.py:1897: RuntimeWarning: divide by zero encountered in reciprocal\n",
      "  return np.roots(self.polynomial_reduced_ma)**-1\n"
     ]
    },
    {
     "name": "stdout",
     "output_type": "stream",
     "text": [
      " ARIMA(4,0,2)(0,0,0)[0]             : AIC=23461.044, Time=2.17 sec\n"
     ]
    },
    {
     "name": "stderr",
     "output_type": "stream",
     "text": [
      "/home/tanveer/anaconda3/lib/python3.8/site-packages/statsmodels/tsa/statespace/sarimax.py:1890: RuntimeWarning: divide by zero encountered in reciprocal\n",
      "  return np.roots(self.polynomial_reduced_ar)**-1\n",
      "/home/tanveer/anaconda3/lib/python3.8/site-packages/statsmodels/tsa/statespace/sarimax.py:1897: RuntimeWarning: divide by zero encountered in reciprocal\n",
      "  return np.roots(self.polynomial_reduced_ma)**-1\n"
     ]
    },
    {
     "name": "stdout",
     "output_type": "stream",
     "text": [
      " ARIMA(4,0,3)(0,0,0)[0]             : AIC=23463.990, Time=2.35 sec\n",
      " ARIMA(4,0,4)(0,0,0)[0]             : AIC=23454.474, Time=2.59 sec\n",
      " ARIMA(4,0,5)(0,0,0)[0]             : AIC=23458.145, Time=3.19 sec\n",
      " ARIMA(4,0,6)(0,0,0)[0]             : AIC=23459.293, Time=3.85 sec\n",
      " ARIMA(4,0,7)(0,0,0)[0]             : AIC=23451.572, Time=4.48 sec\n",
      " ARIMA(4,0,8)(0,0,0)[0]             : AIC=23455.786, Time=7.27 sec\n",
      " ARIMA(4,0,9)(0,0,0)[0]             : AIC=23456.084, Time=8.36 sec\n",
      " ARIMA(4,0,10)(0,0,0)[0]             : AIC=23456.883, Time=8.65 sec\n",
      " ARIMA(5,0,0)(0,0,0)[0]             : AIC=23448.625, Time=2.07 sec\n",
      " ARIMA(5,0,1)(0,0,0)[0]             : AIC=23450.617, Time=2.57 sec\n"
     ]
    },
    {
     "name": "stderr",
     "output_type": "stream",
     "text": [
      "/home/tanveer/anaconda3/lib/python3.8/site-packages/statsmodels/tsa/statespace/sarimax.py:1890: RuntimeWarning: divide by zero encountered in reciprocal\n",
      "  return np.roots(self.polynomial_reduced_ar)**-1\n",
      "/home/tanveer/anaconda3/lib/python3.8/site-packages/statsmodels/tsa/statespace/sarimax.py:1897: RuntimeWarning: divide by zero encountered in reciprocal\n",
      "  return np.roots(self.polynomial_reduced_ma)**-1\n"
     ]
    },
    {
     "name": "stdout",
     "output_type": "stream",
     "text": [
      " ARIMA(5,0,2)(0,0,0)[0]             : AIC=23463.044, Time=3.03 sec\n"
     ]
    },
    {
     "name": "stderr",
     "output_type": "stream",
     "text": [
      "/home/tanveer/anaconda3/lib/python3.8/site-packages/statsmodels/tsa/statespace/sarimax.py:1890: RuntimeWarning: divide by zero encountered in reciprocal\n",
      "  return np.roots(self.polynomial_reduced_ar)**-1\n",
      "/home/tanveer/anaconda3/lib/python3.8/site-packages/statsmodels/tsa/statespace/sarimax.py:1897: RuntimeWarning: divide by zero encountered in reciprocal\n",
      "  return np.roots(self.polynomial_reduced_ma)**-1\n"
     ]
    },
    {
     "name": "stdout",
     "output_type": "stream",
     "text": [
      " ARIMA(5,0,3)(0,0,0)[0]             : AIC=23466.127, Time=3.11 sec\n",
      " ARIMA(5,0,4)(0,0,0)[0]             : AIC=23454.354, Time=2.88 sec\n",
      " ARIMA(5,0,5)(0,0,0)[0]             : AIC=23457.101, Time=3.52 sec\n",
      " ARIMA(5,0,6)(0,0,0)[0]             : AIC=23459.460, Time=4.24 sec\n",
      " ARIMA(5,0,7)(0,0,0)[0]             : AIC=23453.568, Time=4.82 sec\n"
     ]
    },
    {
     "name": "stderr",
     "output_type": "stream",
     "text": [
      "/home/tanveer/anaconda3/lib/python3.8/site-packages/statsmodels/tsa/statespace/sarimax.py:1890: RuntimeWarning: divide by zero encountered in reciprocal\n",
      "  return np.roots(self.polynomial_reduced_ar)**-1\n",
      "/home/tanveer/anaconda3/lib/python3.8/site-packages/statsmodels/tsa/statespace/sarimax.py:1897: RuntimeWarning: divide by zero encountered in reciprocal\n",
      "  return np.roots(self.polynomial_reduced_ma)**-1\n"
     ]
    },
    {
     "name": "stdout",
     "output_type": "stream",
     "text": [
      " ARIMA(5,0,8)(0,0,0)[0]             : AIC=23478.334, Time=5.41 sec\n",
      " ARIMA(5,0,9)(0,0,0)[0]             : AIC=23457.622, Time=9.46 sec\n",
      " ARIMA(5,0,10)(0,0,0)[0]             : AIC=23458.808, Time=10.13 sec\n",
      " ARIMA(6,0,0)(0,0,0)[0]             : AIC=23450.554, Time=3.48 sec\n",
      " ARIMA(6,0,1)(0,0,0)[0]             : AIC=23452.585, Time=3.76 sec\n",
      " ARIMA(6,0,2)(0,0,0)[0]             : AIC=23454.565, Time=2.53 sec\n"
     ]
    },
    {
     "name": "stderr",
     "output_type": "stream",
     "text": [
      "/home/tanveer/anaconda3/lib/python3.8/site-packages/statsmodels/tsa/statespace/sarimax.py:1890: RuntimeWarning: divide by zero encountered in reciprocal\n",
      "  return np.roots(self.polynomial_reduced_ar)**-1\n",
      "/home/tanveer/anaconda3/lib/python3.8/site-packages/statsmodels/tsa/statespace/sarimax.py:1897: RuntimeWarning: divide by zero encountered in reciprocal\n",
      "  return np.roots(self.polynomial_reduced_ma)**-1\n"
     ]
    },
    {
     "name": "stdout",
     "output_type": "stream",
     "text": [
      " ARIMA(6,0,3)(0,0,0)[0]             : AIC=23468.128, Time=2.69 sec\n",
      " ARIMA(6,0,4)(0,0,0)[0]             : AIC=23456.434, Time=3.27 sec\n",
      " ARIMA(6,0,5)(0,0,0)[0]             : AIC=23459.471, Time=3.06 sec\n",
      " ARIMA(6,0,6)(0,0,0)[0]             : AIC=23461.488, Time=4.84 sec\n",
      " ARIMA(6,0,7)(0,0,0)[0]             : AIC=23455.574, Time=4.72 sec\n"
     ]
    },
    {
     "name": "stderr",
     "output_type": "stream",
     "text": [
      "/home/tanveer/anaconda3/lib/python3.8/site-packages/statsmodels/tsa/statespace/sarimax.py:1890: RuntimeWarning: divide by zero encountered in reciprocal\n",
      "  return np.roots(self.polynomial_reduced_ar)**-1\n",
      "/home/tanveer/anaconda3/lib/python3.8/site-packages/statsmodels/tsa/statespace/sarimax.py:1897: RuntimeWarning: divide by zero encountered in reciprocal\n",
      "  return np.roots(self.polynomial_reduced_ma)**-1\n"
     ]
    },
    {
     "name": "stdout",
     "output_type": "stream",
     "text": [
      " ARIMA(6,0,8)(0,0,0)[0]             : AIC=23480.336, Time=7.48 sec\n",
      " ARIMA(6,0,9)(0,0,0)[0]             : AIC=23459.342, Time=8.64 sec\n",
      " ARIMA(6,0,10)(0,0,0)[0]             : AIC=23461.379, Time=7.43 sec\n",
      " ARIMA(7,0,0)(0,0,0)[0]             : AIC=23439.235, Time=4.77 sec\n",
      " ARIMA(7,0,1)(0,0,0)[0]             : AIC=23441.212, Time=3.22 sec\n",
      " ARIMA(7,0,2)(0,0,0)[0]             : AIC=23443.211, Time=4.17 sec\n"
     ]
    },
    {
     "name": "stderr",
     "output_type": "stream",
     "text": [
      "/home/tanveer/anaconda3/lib/python3.8/site-packages/statsmodels/tsa/statespace/sarimax.py:1890: RuntimeWarning: divide by zero encountered in reciprocal\n",
      "  return np.roots(self.polynomial_reduced_ar)**-1\n",
      "/home/tanveer/anaconda3/lib/python3.8/site-packages/statsmodels/tsa/statespace/sarimax.py:1897: RuntimeWarning: divide by zero encountered in reciprocal\n",
      "  return np.roots(self.polynomial_reduced_ma)**-1\n"
     ]
    },
    {
     "name": "stdout",
     "output_type": "stream",
     "text": [
      " ARIMA(7,0,3)(0,0,0)[0]             : AIC=23470.128, Time=5.04 sec\n",
      " ARIMA(7,0,4)(0,0,0)[0]             : AIC=23446.165, Time=3.71 sec\n",
      " ARIMA(7,0,5)(0,0,0)[0]             : AIC=23449.988, Time=5.16 sec\n",
      " ARIMA(7,0,6)(0,0,0)[0]             : AIC=23453.610, Time=4.07 sec\n",
      " ARIMA(7,0,7)(0,0,0)[0]             : AIC=23456.629, Time=6.76 sec\n"
     ]
    },
    {
     "name": "stderr",
     "output_type": "stream",
     "text": [
      "/home/tanveer/anaconda3/lib/python3.8/site-packages/statsmodels/tsa/statespace/sarimax.py:1890: RuntimeWarning: divide by zero encountered in reciprocal\n",
      "  return np.roots(self.polynomial_reduced_ar)**-1\n",
      "/home/tanveer/anaconda3/lib/python3.8/site-packages/statsmodels/tsa/statespace/sarimax.py:1897: RuntimeWarning: divide by zero encountered in reciprocal\n",
      "  return np.roots(self.polynomial_reduced_ma)**-1\n"
     ]
    },
    {
     "name": "stdout",
     "output_type": "stream",
     "text": [
      " ARIMA(7,0,8)(0,0,0)[0]             : AIC=23482.336, Time=6.26 sec\n",
      " ARIMA(7,0,9)(0,0,0)[0]             : AIC=23463.684, Time=5.26 sec\n",
      " ARIMA(7,0,10)(0,0,0)[0]             : AIC=23461.977, Time=11.31 sec\n",
      " ARIMA(8,0,0)(0,0,0)[0]             : AIC=23441.191, Time=2.98 sec\n",
      " ARIMA(8,0,1)(0,0,0)[0]             : AIC=23443.190, Time=5.85 sec\n",
      " ARIMA(8,0,2)(0,0,0)[0]             : AIC=23445.194, Time=5.77 sec\n",
      " ARIMA(8,0,3)(0,0,0)[0]             : AIC=23447.872, Time=3.93 sec\n"
     ]
    },
    {
     "name": "stderr",
     "output_type": "stream",
     "text": [
      "/home/tanveer/anaconda3/lib/python3.8/site-packages/statsmodels/tsa/statespace/sarimax.py:1890: RuntimeWarning: divide by zero encountered in reciprocal\n",
      "  return np.roots(self.polynomial_reduced_ar)**-1\n",
      "/home/tanveer/anaconda3/lib/python3.8/site-packages/statsmodels/tsa/statespace/sarimax.py:1897: RuntimeWarning: divide by zero encountered in reciprocal\n",
      "  return np.roots(self.polynomial_reduced_ma)**-1\n"
     ]
    },
    {
     "name": "stdout",
     "output_type": "stream",
     "text": [
      " ARIMA(8,0,4)(0,0,0)[0]             : AIC=23475.146, Time=5.14 sec\n",
      " ARIMA(8,0,5)(0,0,0)[0]             : AIC=23458.091, Time=4.95 sec\n",
      " ARIMA(8,0,6)(0,0,0)[0]             : AIC=23456.344, Time=4.80 sec\n",
      " ARIMA(8,0,7)(0,0,0)[0]             : AIC=23460.669, Time=7.04 sec\n"
     ]
    },
    {
     "name": "stderr",
     "output_type": "stream",
     "text": [
      "/home/tanveer/anaconda3/lib/python3.8/site-packages/statsmodels/tsa/statespace/sarimax.py:1890: RuntimeWarning: divide by zero encountered in reciprocal\n",
      "  return np.roots(self.polynomial_reduced_ar)**-1\n",
      "/home/tanveer/anaconda3/lib/python3.8/site-packages/statsmodels/tsa/statespace/sarimax.py:1897: RuntimeWarning: divide by zero encountered in reciprocal\n",
      "  return np.roots(self.polynomial_reduced_ma)**-1\n"
     ]
    },
    {
     "name": "stdout",
     "output_type": "stream",
     "text": [
      " ARIMA(8,0,8)(0,0,0)[0]             : AIC=23484.387, Time=8.39 sec\n",
      " ARIMA(8,0,9)(0,0,0)[0]             : AIC=inf, Time=9.81 sec\n",
      " ARIMA(8,0,10)(0,0,0)[0]             : AIC=inf, Time=9.42 sec\n",
      " ARIMA(9,0,0)(0,0,0)[0]             : AIC=23443.160, Time=6.81 sec\n",
      " ARIMA(9,0,1)(0,0,0)[0]             : AIC=23445.151, Time=6.49 sec\n",
      " ARIMA(9,0,2)(0,0,0)[0]             : AIC=23447.532, Time=6.55 sec\n",
      " ARIMA(9,0,3)(0,0,0)[0]             : AIC=23449.489, Time=6.92 sec\n"
     ]
    },
    {
     "name": "stderr",
     "output_type": "stream",
     "text": [
      "/home/tanveer/anaconda3/lib/python3.8/site-packages/statsmodels/tsa/statespace/sarimax.py:1890: RuntimeWarning: divide by zero encountered in reciprocal\n",
      "  return np.roots(self.polynomial_reduced_ar)**-1\n",
      "/home/tanveer/anaconda3/lib/python3.8/site-packages/statsmodels/tsa/statespace/sarimax.py:1897: RuntimeWarning: divide by zero encountered in reciprocal\n",
      "  return np.roots(self.polynomial_reduced_ma)**-1\n"
     ]
    },
    {
     "name": "stdout",
     "output_type": "stream",
     "text": [
      " ARIMA(9,0,4)(0,0,0)[0]             : AIC=23477.146, Time=7.55 sec\n"
     ]
    },
    {
     "name": "stderr",
     "output_type": "stream",
     "text": [
      "/home/tanveer/anaconda3/lib/python3.8/site-packages/statsmodels/tsa/statespace/sarimax.py:1890: RuntimeWarning: divide by zero encountered in reciprocal\n",
      "  return np.roots(self.polynomial_reduced_ar)**-1\n",
      "/home/tanveer/anaconda3/lib/python3.8/site-packages/statsmodels/tsa/statespace/sarimax.py:1897: RuntimeWarning: divide by zero encountered in reciprocal\n",
      "  return np.roots(self.polynomial_reduced_ma)**-1\n"
     ]
    },
    {
     "name": "stdout",
     "output_type": "stream",
     "text": [
      " ARIMA(9,0,5)(0,0,0)[0]             : AIC=23479.234, Time=4.82 sec\n",
      " ARIMA(9,0,6)(0,0,0)[0]             : AIC=23458.091, Time=6.56 sec\n"
     ]
    },
    {
     "name": "stderr",
     "output_type": "stream",
     "text": [
      "/home/tanveer/anaconda3/lib/python3.8/site-packages/statsmodels/tsa/statespace/sarimax.py:1890: RuntimeWarning: divide by zero encountered in reciprocal\n",
      "  return np.roots(self.polynomial_reduced_ar)**-1\n",
      "/home/tanveer/anaconda3/lib/python3.8/site-packages/statsmodels/tsa/statespace/sarimax.py:1897: RuntimeWarning: divide by zero encountered in reciprocal\n",
      "  return np.roots(self.polynomial_reduced_ma)**-1\n"
     ]
    },
    {
     "name": "stdout",
     "output_type": "stream",
     "text": [
      " ARIMA(9,0,7)(0,0,0)[0]             : AIC=23484.155, Time=5.28 sec\n"
     ]
    },
    {
     "name": "stderr",
     "output_type": "stream",
     "text": [
      "/home/tanveer/anaconda3/lib/python3.8/site-packages/statsmodels/tsa/statespace/sarimax.py:1890: RuntimeWarning: divide by zero encountered in reciprocal\n",
      "  return np.roots(self.polynomial_reduced_ar)**-1\n",
      "/home/tanveer/anaconda3/lib/python3.8/site-packages/statsmodels/tsa/statespace/sarimax.py:1897: RuntimeWarning: divide by zero encountered in reciprocal\n",
      "  return np.roots(self.polynomial_reduced_ma)**-1\n"
     ]
    },
    {
     "name": "stdout",
     "output_type": "stream",
     "text": [
      " ARIMA(9,0,8)(0,0,0)[0]             : AIC=23486.402, Time=8.34 sec\n"
     ]
    },
    {
     "name": "stderr",
     "output_type": "stream",
     "text": [
      "/home/tanveer/anaconda3/lib/python3.8/site-packages/statsmodels/tsa/statespace/sarimax.py:1890: RuntimeWarning: divide by zero encountered in reciprocal\n",
      "  return np.roots(self.polynomial_reduced_ar)**-1\n",
      "/home/tanveer/anaconda3/lib/python3.8/site-packages/statsmodels/tsa/statespace/sarimax.py:1897: RuntimeWarning: divide by zero encountered in reciprocal\n",
      "  return np.roots(self.polynomial_reduced_ma)**-1\n"
     ]
    },
    {
     "name": "stdout",
     "output_type": "stream",
     "text": [
      " ARIMA(9,0,9)(0,0,0)[0]             : AIC=23488.559, Time=9.28 sec\n",
      " ARIMA(9,0,10)(0,0,0)[0]             : AIC=inf, Time=10.24 sec\n",
      " ARIMA(10,0,0)(0,0,0)[0]             : AIC=23442.901, Time=5.47 sec\n",
      " ARIMA(10,0,1)(0,0,0)[0]             : AIC=23445.315, Time=5.63 sec\n",
      " ARIMA(10,0,2)(0,0,0)[0]             : AIC=23447.529, Time=6.81 sec\n",
      " ARIMA(10,0,3)(0,0,0)[0]             : AIC=23449.805, Time=8.16 sec\n"
     ]
    },
    {
     "name": "stderr",
     "output_type": "stream",
     "text": [
      "/home/tanveer/anaconda3/lib/python3.8/site-packages/statsmodels/tsa/statespace/sarimax.py:1890: RuntimeWarning: divide by zero encountered in reciprocal\n",
      "  return np.roots(self.polynomial_reduced_ar)**-1\n",
      "/home/tanveer/anaconda3/lib/python3.8/site-packages/statsmodels/tsa/statespace/sarimax.py:1897: RuntimeWarning: divide by zero encountered in reciprocal\n",
      "  return np.roots(self.polynomial_reduced_ma)**-1\n"
     ]
    },
    {
     "name": "stdout",
     "output_type": "stream",
     "text": [
      " ARIMA(10,0,4)(0,0,0)[0]             : AIC=23479.146, Time=5.98 sec\n"
     ]
    },
    {
     "name": "stderr",
     "output_type": "stream",
     "text": [
      "/home/tanveer/anaconda3/lib/python3.8/site-packages/statsmodels/tsa/statespace/sarimax.py:1890: RuntimeWarning: divide by zero encountered in reciprocal\n",
      "  return np.roots(self.polynomial_reduced_ar)**-1\n",
      "/home/tanveer/anaconda3/lib/python3.8/site-packages/statsmodels/tsa/statespace/sarimax.py:1897: RuntimeWarning: divide by zero encountered in reciprocal\n",
      "  return np.roots(self.polynomial_reduced_ma)**-1\n"
     ]
    },
    {
     "name": "stdout",
     "output_type": "stream",
     "text": [
      " ARIMA(10,0,5)(0,0,0)[0]             : AIC=23481.238, Time=7.00 sec\n",
      " ARIMA(10,0,6)(0,0,0)[0]             : AIC=23472.311, Time=7.80 sec\n"
     ]
    },
    {
     "name": "stderr",
     "output_type": "stream",
     "text": [
      "/home/tanveer/anaconda3/lib/python3.8/site-packages/statsmodels/tsa/statespace/sarimax.py:1890: RuntimeWarning: divide by zero encountered in reciprocal\n",
      "  return np.roots(self.polynomial_reduced_ar)**-1\n",
      "/home/tanveer/anaconda3/lib/python3.8/site-packages/statsmodels/tsa/statespace/sarimax.py:1897: RuntimeWarning: divide by zero encountered in reciprocal\n",
      "  return np.roots(self.polynomial_reduced_ma)**-1\n"
     ]
    },
    {
     "name": "stdout",
     "output_type": "stream",
     "text": [
      " ARIMA(10,0,7)(0,0,0)[0]             : AIC=23486.165, Time=6.97 sec\n"
     ]
    },
    {
     "name": "stderr",
     "output_type": "stream",
     "text": [
      "/home/tanveer/anaconda3/lib/python3.8/site-packages/statsmodels/tsa/statespace/sarimax.py:1890: RuntimeWarning: divide by zero encountered in reciprocal\n",
      "  return np.roots(self.polynomial_reduced_ar)**-1\n",
      "/home/tanveer/anaconda3/lib/python3.8/site-packages/statsmodels/tsa/statespace/sarimax.py:1897: RuntimeWarning: divide by zero encountered in reciprocal\n",
      "  return np.roots(self.polynomial_reduced_ma)**-1\n"
     ]
    },
    {
     "name": "stdout",
     "output_type": "stream",
     "text": [
      " ARIMA(10,0,8)(0,0,0)[0]             : AIC=23488.407, Time=9.35 sec\n"
     ]
    },
    {
     "name": "stderr",
     "output_type": "stream",
     "text": [
      "/home/tanveer/anaconda3/lib/python3.8/site-packages/statsmodels/tsa/statespace/sarimax.py:1890: RuntimeWarning: divide by zero encountered in reciprocal\n",
      "  return np.roots(self.polynomial_reduced_ar)**-1\n",
      "/home/tanveer/anaconda3/lib/python3.8/site-packages/statsmodels/tsa/statespace/sarimax.py:1897: RuntimeWarning: divide by zero encountered in reciprocal\n",
      "  return np.roots(self.polynomial_reduced_ma)**-1\n"
     ]
    },
    {
     "name": "stdout",
     "output_type": "stream",
     "text": [
      " ARIMA(10,0,9)(0,0,0)[0]             : AIC=23490.574, Time=9.20 sec\n",
      " ARIMA(10,0,10)(0,0,0)[0]             : AIC=23469.821, Time=12.20 sec\n",
      "\n",
      "Best model:  ARIMA(7,0,0)(0,0,0)[0]          \n",
      "Total fit time: 602.883 seconds\n"
     ]
    }
   ],
   "source": [
    "arima_search1 = auto_arima(\n",
    "    y=y_train,\n",
    "    X=X_train,\n",
    "    start_p=0,\n",
    "    max_p=10,\n",
    "    start_q=0,\n",
    "    max_q=10,\n",
    "    start_d=0,\n",
    "    max_d=5,\n",
    "    start_P=0,\n",
    "    max_P=10,\n",
    "    start_Q=0,\n",
    "    max_Q=10,\n",
    "    start_D=0,\n",
    "    max_D=5,\n",
    "    max_order=None,\n",
    "    seasonal=False,\n",
    "    trace=True,\n",
    "    error_action='ignore',\n",
    "    suppress_warnings=True,\n",
    "stepwise=False),\n",
    "    \n",
    "\n",
    "\n",
    "\n"
   ]
  },
  {
   "cell_type": "code",
   "execution_count": 129,
   "id": "5915af71-23c6-4985-885d-2aae2367c2e3",
   "metadata": {
    "execution": {
     "iopub.execute_input": "2021-08-26T08:52:11.951961Z",
     "iopub.status.busy": "2021-08-26T08:52:11.951762Z",
     "iopub.status.idle": "2021-08-26T08:52:11.969404Z",
     "shell.execute_reply": "2021-08-26T08:52:11.968764Z",
     "shell.execute_reply.started": "2021-08-26T08:52:11.951944Z"
    }
   },
   "outputs": [
    {
     "data": {
      "text/plain": [
       "(ARIMA(order=(7, 0, 0), scoring_args={}, suppress_warnings=True,\n",
       "       with_intercept=False),)"
      ]
     },
     "execution_count": 129,
     "metadata": {},
     "output_type": "execute_result"
    }
   ],
   "source": [
    "arima_search1"
   ]
  },
  {
   "cell_type": "code",
   "execution_count": 132,
   "id": "90c08d48-380a-436e-b177-f9e6b715b58e",
   "metadata": {
    "execution": {
     "iopub.execute_input": "2021-08-26T08:52:57.070413Z",
     "iopub.status.busy": "2021-08-26T08:52:57.070220Z",
     "iopub.status.idle": "2021-08-26T08:52:58.558226Z",
     "shell.execute_reply": "2021-08-26T08:52:58.557385Z",
     "shell.execute_reply.started": "2021-08-26T08:52:57.070395Z"
    },
    "tags": []
   },
   "outputs": [
    {
     "name": "stderr",
     "output_type": "stream",
     "text": [
      "/home/tanveer/anaconda3/lib/python3.8/site-packages/statsmodels/tsa/base/tsa_model.py:581: ValueWarning: A date index has been provided, but it has no associated frequency information and so will be ignored when e.g. forecasting.\n",
      "  warnings.warn('A date index has been provided, but it has no'\n",
      "/home/tanveer/anaconda3/lib/python3.8/site-packages/statsmodels/base/model.py:547: HessianInversionWarning: Inverting hessian failed, no bse or cov_params available\n",
      "  warnings.warn('Inverting hessian failed, no bse or cov_params '\n",
      "/home/tanveer/anaconda3/lib/python3.8/site-packages/statsmodels/base/model.py:566: ConvergenceWarning: Maximum Likelihood optimization failed to converge. Check mle_retvals\n",
      "  warnings.warn(\"Maximum Likelihood optimization failed to \"\n"
     ]
    },
    {
     "data": {
      "text/plain": [
       "<statsmodels.tsa.arima_model.ARMAResultsWrapper at 0x7f5943973b20>"
      ]
     },
     "execution_count": 132,
     "metadata": {},
     "output_type": "execute_result"
    }
   ],
   "source": [
    "arimax_best= ARIMA(y_train,exog=X_train,order=(7,0,0) )\n",
    "arimax_best.fit()"
   ]
  },
  {
   "cell_type": "code",
   "execution_count": 135,
   "id": "3ee7373f-a157-4f9d-a659-aabd9826d234",
   "metadata": {
    "execution": {
     "iopub.execute_input": "2021-08-26T08:55:26.912021Z",
     "iopub.status.busy": "2021-08-26T08:55:26.911824Z",
     "iopub.status.idle": "2021-08-26T08:55:26.918485Z",
     "shell.execute_reply": "2021-08-26T08:55:26.917726Z",
     "shell.execute_reply.started": "2021-08-26T08:55:26.912003Z"
    },
    "tags": []
   },
   "outputs": [
    {
     "data": {
      "text/plain": [
       "datetime.date(2019, 8, 8)"
      ]
     },
     "execution_count": 135,
     "metadata": {},
     "output_type": "execute_result"
    }
   ],
   "source": [
    "starting_index = round(len(data) * .8)\n",
    "starting_index\n",
    "start_date = data.index[starting_index]\n",
    "start_date"
   ]
  },
  {
   "cell_type": "code",
   "execution_count": 142,
   "id": "ed5c0365-1105-4125-ab8a-97070d4512d4",
   "metadata": {
    "execution": {
     "iopub.execute_input": "2021-08-26T08:56:53.646931Z",
     "iopub.status.busy": "2021-08-26T08:56:53.646739Z",
     "iopub.status.idle": "2021-08-26T08:56:53.651617Z",
     "shell.execute_reply": "2021-08-26T08:56:53.651060Z",
     "shell.execute_reply.started": "2021-08-26T08:56:53.646914Z"
    },
    "tags": []
   },
   "outputs": [
    {
     "data": {
      "text/plain": [
       "datetime.date(2019, 8, 8)"
      ]
     },
     "execution_count": 142,
     "metadata": {},
     "output_type": "execute_result"
    }
   ],
   "source": [
    "y_test.index[0]"
   ]
  },
  {
   "cell_type": "code",
   "execution_count": 143,
   "id": "ccbaf07d-ac82-44fd-a160-b38fac4a4fdb",
   "metadata": {
    "execution": {
     "iopub.execute_input": "2021-08-26T08:56:57.168983Z",
     "iopub.status.busy": "2021-08-26T08:56:57.168775Z",
     "iopub.status.idle": "2021-08-26T08:56:57.198145Z",
     "shell.execute_reply": "2021-08-26T08:56:57.197210Z",
     "shell.execute_reply.started": "2021-08-26T08:56:57.168965Z"
    },
    "tags": []
   },
   "outputs": [
    {
     "ename": "KeyError",
     "evalue": "'The `start` argument could not be matched to a location related to the index of the data.'",
     "output_type": "error",
     "traceback": [
      "\u001b[0;31m---------------------------------------------------------------------------\u001b[0m",
      "\u001b[0;31mKeyError\u001b[0m                                  Traceback (most recent call last)",
      "\u001b[0;32m~/anaconda3/lib/python3.8/site-packages/pandas/core/indexes/base.py\u001b[0m in \u001b[0;36mget_loc\u001b[0;34m(self, key, method, tolerance)\u001b[0m\n\u001b[1;32m   3360\u001b[0m             \u001b[0;32mtry\u001b[0m\u001b[0;34m:\u001b[0m\u001b[0;34m\u001b[0m\u001b[0;34m\u001b[0m\u001b[0m\n\u001b[0;32m-> 3361\u001b[0;31m                 \u001b[0;32mreturn\u001b[0m \u001b[0mself\u001b[0m\u001b[0;34m.\u001b[0m\u001b[0m_engine\u001b[0m\u001b[0;34m.\u001b[0m\u001b[0mget_loc\u001b[0m\u001b[0;34m(\u001b[0m\u001b[0mcasted_key\u001b[0m\u001b[0;34m)\u001b[0m\u001b[0;34m\u001b[0m\u001b[0;34m\u001b[0m\u001b[0m\n\u001b[0m\u001b[1;32m   3362\u001b[0m             \u001b[0;32mexcept\u001b[0m \u001b[0mKeyError\u001b[0m \u001b[0;32mas\u001b[0m \u001b[0merr\u001b[0m\u001b[0;34m:\u001b[0m\u001b[0;34m\u001b[0m\u001b[0;34m\u001b[0m\u001b[0m\n",
      "\u001b[0;32m~/anaconda3/lib/python3.8/site-packages/pandas/_libs/index.pyx\u001b[0m in \u001b[0;36mpandas._libs.index.IndexEngine.get_loc\u001b[0;34m()\u001b[0m\n",
      "\u001b[0;32m~/anaconda3/lib/python3.8/site-packages/pandas/_libs/index.pyx\u001b[0m in \u001b[0;36mpandas._libs.index.IndexEngine.get_loc\u001b[0;34m()\u001b[0m\n",
      "\u001b[0;32mpandas/_libs/hashtable_class_helper.pxi\u001b[0m in \u001b[0;36mpandas._libs.hashtable.PyObjectHashTable.get_item\u001b[0;34m()\u001b[0m\n",
      "\u001b[0;32mpandas/_libs/hashtable_class_helper.pxi\u001b[0m in \u001b[0;36mpandas._libs.hashtable.PyObjectHashTable.get_item\u001b[0;34m()\u001b[0m\n",
      "\u001b[0;31mKeyError\u001b[0m: datetime.date(2019, 8, 8)",
      "\nThe above exception was the direct cause of the following exception:\n",
      "\u001b[0;31mKeyError\u001b[0m                                  Traceback (most recent call last)",
      "\u001b[0;32m~/anaconda3/lib/python3.8/site-packages/statsmodels/tsa/base/tsa_model.py\u001b[0m in \u001b[0;36mget_index_label_loc\u001b[0;34m(key, index, row_labels)\u001b[0m\n\u001b[1;32m    223\u001b[0m             \u001b[0;32mif\u001b[0m \u001b[0;32mnot\u001b[0m \u001b[0misinstance\u001b[0m\u001b[0;34m(\u001b[0m\u001b[0mkey\u001b[0m\u001b[0;34m,\u001b[0m \u001b[0;34m(\u001b[0m\u001b[0mint\u001b[0m\u001b[0;34m,\u001b[0m \u001b[0mnp\u001b[0m\u001b[0;34m.\u001b[0m\u001b[0minteger\u001b[0m\u001b[0;34m)\u001b[0m\u001b[0;34m)\u001b[0m\u001b[0;34m:\u001b[0m\u001b[0;34m\u001b[0m\u001b[0;34m\u001b[0m\u001b[0m\n\u001b[0;32m--> 224\u001b[0;31m                 \u001b[0mloc\u001b[0m \u001b[0;34m=\u001b[0m \u001b[0mrow_labels\u001b[0m\u001b[0;34m.\u001b[0m\u001b[0mget_loc\u001b[0m\u001b[0;34m(\u001b[0m\u001b[0mkey\u001b[0m\u001b[0;34m)\u001b[0m\u001b[0;34m\u001b[0m\u001b[0;34m\u001b[0m\u001b[0m\n\u001b[0m\u001b[1;32m    225\u001b[0m             \u001b[0;32melse\u001b[0m\u001b[0;34m:\u001b[0m\u001b[0;34m\u001b[0m\u001b[0;34m\u001b[0m\u001b[0m\n",
      "\u001b[0;32m~/anaconda3/lib/python3.8/site-packages/pandas/core/indexes/base.py\u001b[0m in \u001b[0;36mget_loc\u001b[0;34m(self, key, method, tolerance)\u001b[0m\n\u001b[1;32m   3362\u001b[0m             \u001b[0;32mexcept\u001b[0m \u001b[0mKeyError\u001b[0m \u001b[0;32mas\u001b[0m \u001b[0merr\u001b[0m\u001b[0;34m:\u001b[0m\u001b[0;34m\u001b[0m\u001b[0;34m\u001b[0m\u001b[0m\n\u001b[0;32m-> 3363\u001b[0;31m                 \u001b[0;32mraise\u001b[0m \u001b[0mKeyError\u001b[0m\u001b[0;34m(\u001b[0m\u001b[0mkey\u001b[0m\u001b[0;34m)\u001b[0m \u001b[0;32mfrom\u001b[0m \u001b[0merr\u001b[0m\u001b[0;34m\u001b[0m\u001b[0;34m\u001b[0m\u001b[0m\n\u001b[0m\u001b[1;32m   3364\u001b[0m \u001b[0;34m\u001b[0m\u001b[0m\n",
      "\u001b[0;31mKeyError\u001b[0m: datetime.date(2019, 8, 8)",
      "\nDuring handling of the above exception, another exception occurred:\n",
      "\u001b[0;31mKeyError\u001b[0m                                  Traceback (most recent call last)",
      "\u001b[0;32m~/anaconda3/lib/python3.8/site-packages/statsmodels/tsa/base/tsa_model.py\u001b[0m in \u001b[0;36mget_prediction_index\u001b[0;34m(start, end, nobs, base_index, index, silent, index_none, index_generated, data)\u001b[0m\n\u001b[1;32m    323\u001b[0m     \u001b[0;32mtry\u001b[0m\u001b[0;34m:\u001b[0m\u001b[0;34m\u001b[0m\u001b[0;34m\u001b[0m\u001b[0m\n\u001b[0;32m--> 324\u001b[0;31m         \u001b[0mstart\u001b[0m\u001b[0;34m,\u001b[0m \u001b[0m_\u001b[0m\u001b[0;34m,\u001b[0m \u001b[0mstart_oos\u001b[0m \u001b[0;34m=\u001b[0m \u001b[0mget_index_label_loc\u001b[0m\u001b[0;34m(\u001b[0m\u001b[0mstart\u001b[0m\u001b[0;34m,\u001b[0m \u001b[0mbase_index\u001b[0m\u001b[0;34m,\u001b[0m \u001b[0mdata\u001b[0m\u001b[0;34m.\u001b[0m\u001b[0mrow_labels\u001b[0m\u001b[0;34m)\u001b[0m\u001b[0;34m\u001b[0m\u001b[0;34m\u001b[0m\u001b[0m\n\u001b[0m\u001b[1;32m    325\u001b[0m     \u001b[0;32mexcept\u001b[0m \u001b[0mKeyError\u001b[0m\u001b[0;34m:\u001b[0m\u001b[0;34m\u001b[0m\u001b[0;34m\u001b[0m\u001b[0m\n",
      "\u001b[0;32m~/anaconda3/lib/python3.8/site-packages/statsmodels/tsa/base/tsa_model.py\u001b[0m in \u001b[0;36mget_index_label_loc\u001b[0;34m(key, index, row_labels)\u001b[0m\n\u001b[1;32m    255\u001b[0m         \u001b[0;32mexcept\u001b[0m\u001b[0;34m:\u001b[0m\u001b[0;34m\u001b[0m\u001b[0;34m\u001b[0m\u001b[0m\n\u001b[0;32m--> 256\u001b[0;31m             \u001b[0;32mraise\u001b[0m \u001b[0me\u001b[0m\u001b[0;34m\u001b[0m\u001b[0;34m\u001b[0m\u001b[0m\n\u001b[0m\u001b[1;32m    257\u001b[0m     \u001b[0;32mreturn\u001b[0m \u001b[0mloc\u001b[0m\u001b[0;34m,\u001b[0m \u001b[0mindex\u001b[0m\u001b[0;34m,\u001b[0m \u001b[0mindex_was_expanded\u001b[0m\u001b[0;34m\u001b[0m\u001b[0;34m\u001b[0m\u001b[0m\n",
      "\u001b[0;32m~/anaconda3/lib/python3.8/site-packages/statsmodels/tsa/base/tsa_model.py\u001b[0m in \u001b[0;36mget_index_label_loc\u001b[0;34m(key, index, row_labels)\u001b[0m\n\u001b[1;32m    219\u001b[0m     \u001b[0;32mtry\u001b[0m\u001b[0;34m:\u001b[0m\u001b[0;34m\u001b[0m\u001b[0;34m\u001b[0m\u001b[0m\n\u001b[0;32m--> 220\u001b[0;31m         \u001b[0mloc\u001b[0m\u001b[0;34m,\u001b[0m \u001b[0mindex\u001b[0m\u001b[0;34m,\u001b[0m \u001b[0mindex_was_expanded\u001b[0m \u001b[0;34m=\u001b[0m \u001b[0mget_index_loc\u001b[0m\u001b[0;34m(\u001b[0m\u001b[0mkey\u001b[0m\u001b[0;34m,\u001b[0m \u001b[0mindex\u001b[0m\u001b[0;34m)\u001b[0m\u001b[0;34m\u001b[0m\u001b[0;34m\u001b[0m\u001b[0m\n\u001b[0m\u001b[1;32m    221\u001b[0m     \u001b[0;32mexcept\u001b[0m \u001b[0mKeyError\u001b[0m \u001b[0;32mas\u001b[0m \u001b[0me\u001b[0m\u001b[0;34m:\u001b[0m\u001b[0;34m\u001b[0m\u001b[0;34m\u001b[0m\u001b[0m\n",
      "\u001b[0;32m~/anaconda3/lib/python3.8/site-packages/statsmodels/tsa/base/tsa_model.py\u001b[0m in \u001b[0;36mget_index_loc\u001b[0;34m(key, index)\u001b[0m\n\u001b[1;32m    169\u001b[0m         \u001b[0;32mexcept\u001b[0m \u001b[0;34m(\u001b[0m\u001b[0mIndexError\u001b[0m\u001b[0;34m,\u001b[0m \u001b[0mValueError\u001b[0m\u001b[0;34m)\u001b[0m \u001b[0;32mas\u001b[0m \u001b[0me\u001b[0m\u001b[0;34m:\u001b[0m\u001b[0;34m\u001b[0m\u001b[0;34m\u001b[0m\u001b[0m\n\u001b[0;32m--> 170\u001b[0;31m             \u001b[0;32mraise\u001b[0m \u001b[0mKeyError\u001b[0m\u001b[0;34m(\u001b[0m\u001b[0mstr\u001b[0m\u001b[0;34m(\u001b[0m\u001b[0me\u001b[0m\u001b[0;34m)\u001b[0m\u001b[0;34m)\u001b[0m\u001b[0;34m\u001b[0m\u001b[0;34m\u001b[0m\u001b[0m\n\u001b[0m\u001b[1;32m    171\u001b[0m         \u001b[0mloc\u001b[0m \u001b[0;34m=\u001b[0m \u001b[0mkey\u001b[0m\u001b[0;34m\u001b[0m\u001b[0;34m\u001b[0m\u001b[0m\n",
      "\u001b[0;31mKeyError\u001b[0m: 'only integers, slices (`:`), ellipsis (`...`), numpy.newaxis (`None`) and integer or boolean arrays are valid indices'",
      "\nDuring handling of the above exception, another exception occurred:\n",
      "\u001b[0;31mKeyError\u001b[0m                                  Traceback (most recent call last)",
      "\u001b[0;32m<ipython-input-143-1349181ac17b>\u001b[0m in \u001b[0;36m<module>\u001b[0;34m\u001b[0m\n\u001b[0;32m----> 1\u001b[0;31m \u001b[0marimax_best\u001b[0m\u001b[0;34m.\u001b[0m\u001b[0mpredict\u001b[0m\u001b[0;34m(\u001b[0m\u001b[0mparams\u001b[0m\u001b[0;34m=\u001b[0m\u001b[0;34m(\u001b[0m\u001b[0;36m7\u001b[0m\u001b[0;34m,\u001b[0m\u001b[0;36m0\u001b[0m\u001b[0;34m,\u001b[0m\u001b[0;36m0\u001b[0m\u001b[0;34m)\u001b[0m\u001b[0;34m,\u001b[0m\u001b[0mstart\u001b[0m\u001b[0;34m=\u001b[0m\u001b[0my_test\u001b[0m\u001b[0;34m.\u001b[0m\u001b[0mindex\u001b[0m\u001b[0;34m[\u001b[0m\u001b[0;36m0\u001b[0m\u001b[0;34m]\u001b[0m\u001b[0;34m)\u001b[0m\u001b[0;34m\u001b[0m\u001b[0;34m\u001b[0m\u001b[0m\n\u001b[0m",
      "\u001b[0;32m~/anaconda3/lib/python3.8/site-packages/statsmodels/tsa/arima_model.py\u001b[0m in \u001b[0;36mpredict\u001b[0;34m(self, params, start, end, exog, dynamic, **kwargs)\u001b[0m\n\u001b[1;32m    766\u001b[0m         \u001b[0;31m# will return an index of a date\u001b[0m\u001b[0;34m\u001b[0m\u001b[0;34m\u001b[0m\u001b[0;34m\u001b[0m\u001b[0m\n\u001b[1;32m    767\u001b[0m         start, end, out_of_sample, _ = (\n\u001b[0;32m--> 768\u001b[0;31m             self._get_prediction_index(start, end, dynamic))\n\u001b[0m\u001b[1;32m    769\u001b[0m \u001b[0;34m\u001b[0m\u001b[0m\n\u001b[1;32m    770\u001b[0m         \u001b[0;32mif\u001b[0m \u001b[0mout_of_sample\u001b[0m \u001b[0;32mand\u001b[0m \u001b[0;34m(\u001b[0m\u001b[0mexog\u001b[0m \u001b[0;32mis\u001b[0m \u001b[0;32mNone\u001b[0m \u001b[0;32mand\u001b[0m \u001b[0mself\u001b[0m\u001b[0;34m.\u001b[0m\u001b[0mk_exog\u001b[0m \u001b[0;34m>\u001b[0m \u001b[0;36m0\u001b[0m\u001b[0;34m)\u001b[0m\u001b[0;34m:\u001b[0m\u001b[0;34m\u001b[0m\u001b[0;34m\u001b[0m\u001b[0m\n",
      "\u001b[0;32m~/anaconda3/lib/python3.8/site-packages/statsmodels/tsa/arima_model.py\u001b[0m in \u001b[0;36m_get_prediction_index\u001b[0;34m(self, start, end, dynamic, index)\u001b[0m\n\u001b[1;32m    695\u001b[0m \u001b[0;34m\u001b[0m\u001b[0m\n\u001b[1;32m    696\u001b[0m         start, end, out_of_sample, prediction_index = (\n\u001b[0;32m--> 697\u001b[0;31m             super(ARMA, self)._get_prediction_index(start, end, index))\n\u001b[0m\u001b[1;32m    698\u001b[0m \u001b[0;34m\u001b[0m\u001b[0m\n\u001b[1;32m    699\u001b[0m         \u001b[0;31m# This replaces the _validate() call\u001b[0m\u001b[0;34m\u001b[0m\u001b[0;34m\u001b[0m\u001b[0;34m\u001b[0m\u001b[0m\n",
      "\u001b[0;32m~/anaconda3/lib/python3.8/site-packages/statsmodels/tsa/base/tsa_model.py\u001b[0m in \u001b[0;36m_get_prediction_index\u001b[0;34m(self, start, end, index, silent)\u001b[0m\n\u001b[1;32m    736\u001b[0m         \"\"\"\n\u001b[1;32m    737\u001b[0m         \u001b[0mnobs\u001b[0m \u001b[0;34m=\u001b[0m \u001b[0mlen\u001b[0m\u001b[0;34m(\u001b[0m\u001b[0mself\u001b[0m\u001b[0;34m.\u001b[0m\u001b[0mendog\u001b[0m\u001b[0;34m)\u001b[0m\u001b[0;34m\u001b[0m\u001b[0;34m\u001b[0m\u001b[0m\n\u001b[0;32m--> 738\u001b[0;31m         return get_prediction_index(start,\n\u001b[0m\u001b[1;32m    739\u001b[0m                                     \u001b[0mend\u001b[0m\u001b[0;34m,\u001b[0m\u001b[0;34m\u001b[0m\u001b[0;34m\u001b[0m\u001b[0m\n\u001b[1;32m    740\u001b[0m                                     \u001b[0mnobs\u001b[0m\u001b[0;34m,\u001b[0m\u001b[0;34m\u001b[0m\u001b[0;34m\u001b[0m\u001b[0m\n",
      "\u001b[0;32m~/anaconda3/lib/python3.8/site-packages/statsmodels/tsa/base/tsa_model.py\u001b[0m in \u001b[0;36mget_prediction_index\u001b[0;34m(start, end, nobs, base_index, index, silent, index_none, index_generated, data)\u001b[0m\n\u001b[1;32m    324\u001b[0m         \u001b[0mstart\u001b[0m\u001b[0;34m,\u001b[0m \u001b[0m_\u001b[0m\u001b[0;34m,\u001b[0m \u001b[0mstart_oos\u001b[0m \u001b[0;34m=\u001b[0m \u001b[0mget_index_label_loc\u001b[0m\u001b[0;34m(\u001b[0m\u001b[0mstart\u001b[0m\u001b[0;34m,\u001b[0m \u001b[0mbase_index\u001b[0m\u001b[0;34m,\u001b[0m \u001b[0mdata\u001b[0m\u001b[0;34m.\u001b[0m\u001b[0mrow_labels\u001b[0m\u001b[0;34m)\u001b[0m\u001b[0;34m\u001b[0m\u001b[0;34m\u001b[0m\u001b[0m\n\u001b[1;32m    325\u001b[0m     \u001b[0;32mexcept\u001b[0m \u001b[0mKeyError\u001b[0m\u001b[0;34m:\u001b[0m\u001b[0;34m\u001b[0m\u001b[0;34m\u001b[0m\u001b[0m\n\u001b[0;32m--> 326\u001b[0;31m         raise KeyError('The `start` argument could not be matched to a'\n\u001b[0m\u001b[1;32m    327\u001b[0m                        ' location related to the index of the data.')\n\u001b[1;32m    328\u001b[0m     \u001b[0;32mif\u001b[0m \u001b[0mend\u001b[0m \u001b[0;32mis\u001b[0m \u001b[0;32mNone\u001b[0m\u001b[0;34m:\u001b[0m\u001b[0;34m\u001b[0m\u001b[0;34m\u001b[0m\u001b[0m\n",
      "\u001b[0;31mKeyError\u001b[0m: 'The `start` argument could not be matched to a location related to the index of the data.'"
     ]
    }
   ],
   "source": [
    "#arimax_best.predict(params=(7,0,0),start=y_test.index[0])"
   ]
  },
  {
   "cell_type": "code",
   "execution_count": 144,
   "id": "e4c54f63-84bc-49e1-a17b-d285ab08a18b",
   "metadata": {
    "execution": {
     "iopub.execute_input": "2021-08-26T08:57:42.253409Z",
     "iopub.status.busy": "2021-08-26T08:57:42.253199Z",
     "iopub.status.idle": "2021-08-26T08:57:42.256379Z",
     "shell.execute_reply": "2021-08-26T08:57:42.255645Z",
     "shell.execute_reply.started": "2021-08-26T08:57:42.253391Z"
    },
    "tags": []
   },
   "outputs": [],
   "source": [
    "#y_train__preds_arima = arimax_best.predict(X_train)\n",
    "#y_test_pred_arima= arimax_best.predict(X_test)\n",
    "\n",
    "#mean_squared_error(y_train,y_train__preds_arima,squared=False),mean_squared_error(y_test,y_test_pred_arima,squared=False)\n"
   ]
  },
  {
   "cell_type": "markdown",
   "id": "3bd719fd-75f0-4c57-aa70-1b8a1bf47939",
   "metadata": {},
   "source": [
    "# some other model "
   ]
  },
  {
   "cell_type": "code",
   "execution_count": 148,
   "id": "8fdd90ff-acb0-4d0c-8ee7-92ef9d0f4b1e",
   "metadata": {
    "execution": {
     "iopub.execute_input": "2021-08-26T09:04:07.949227Z",
     "iopub.status.busy": "2021-08-26T09:04:07.949018Z",
     "iopub.status.idle": "2021-08-26T09:04:07.954529Z",
     "shell.execute_reply": "2021-08-26T09:04:07.953836Z",
     "shell.execute_reply.started": "2021-08-26T09:04:07.949208Z"
    },
    "tags": []
   },
   "outputs": [
    {
     "data": {
      "text/plain": [
       "Index(['Open', 'Close', 'Volume', 'day_of_week_1', 'day_of_week_2',\n",
       "       'day_of_week_3', 'day_of_week_4', 'day_of_week_5', 'day_of_week_6',\n",
       "       'is_holiday_1', 'Open_l1', 'Close_l1'],\n",
       "      dtype='object')"
      ]
     },
     "execution_count": 148,
     "metadata": {},
     "output_type": "execute_result"
    }
   ],
   "source": [
    "data_lagged.columns"
   ]
  },
  {
   "cell_type": "code",
   "execution_count": 151,
   "id": "0cbd9f41-5140-4a67-87d5-81bda8315552",
   "metadata": {
    "execution": {
     "iopub.execute_input": "2021-08-26T09:06:32.444406Z",
     "iopub.status.busy": "2021-08-26T09:06:32.444202Z",
     "iopub.status.idle": "2021-08-26T09:06:32.449337Z",
     "shell.execute_reply": "2021-08-26T09:06:32.448605Z",
     "shell.execute_reply.started": "2021-08-26T09:06:32.444387Z"
    }
   },
   "outputs": [],
   "source": [
    "data_lagged['Volume_l1']= data_lagged['Volume'].shift(1)"
   ]
  },
  {
   "cell_type": "code",
   "execution_count": 152,
   "id": "cd58fd1a-8542-491e-afda-fbc869f692bc",
   "metadata": {
    "execution": {
     "iopub.execute_input": "2021-08-26T09:06:35.228985Z",
     "iopub.status.busy": "2021-08-26T09:06:35.228762Z",
     "iopub.status.idle": "2021-08-26T09:06:35.234250Z",
     "shell.execute_reply": "2021-08-26T09:06:35.233592Z",
     "shell.execute_reply.started": "2021-08-26T09:06:35.228966Z"
    },
    "tags": []
   },
   "outputs": [],
   "source": [
    "# define X and y \n",
    "X= data_lagged.drop(columns=['Open','Close','Volume']) # wont have tomorrows close before predicting open price \n",
    "y=data_lagged['Open']"
   ]
  },
  {
   "cell_type": "code",
   "execution_count": 153,
   "id": "fbe2014e-fe46-4f90-a496-97a83329659e",
   "metadata": {
    "execution": {
     "iopub.execute_input": "2021-08-26T09:06:35.580695Z",
     "iopub.status.busy": "2021-08-26T09:06:35.580503Z",
     "iopub.status.idle": "2021-08-26T09:06:35.586040Z",
     "shell.execute_reply": "2021-08-26T09:06:35.585293Z",
     "shell.execute_reply.started": "2021-08-26T09:06:35.580677Z"
    },
    "tags": []
   },
   "outputs": [
    {
     "data": {
      "text/plain": [
       "Index(['day_of_week_1', 'day_of_week_2', 'day_of_week_3', 'day_of_week_4',\n",
       "       'day_of_week_5', 'day_of_week_6', 'is_holiday_1', 'Open_l1', 'Close_l1',\n",
       "       'Volume_l1'],\n",
       "      dtype='object')"
      ]
     },
     "execution_count": 153,
     "metadata": {},
     "output_type": "execute_result"
    }
   ],
   "source": [
    "X.columns"
   ]
  },
  {
   "cell_type": "code",
   "execution_count": 154,
   "id": "d4db04ad-2291-446c-8283-03483678241b",
   "metadata": {
    "execution": {
     "iopub.execute_input": "2021-08-26T09:07:52.599953Z",
     "iopub.status.busy": "2021-08-26T09:07:52.599741Z",
     "iopub.status.idle": "2021-08-26T09:07:52.604760Z",
     "shell.execute_reply": "2021-08-26T09:07:52.604084Z",
     "shell.execute_reply.started": "2021-08-26T09:07:52.599934Z"
    }
   },
   "outputs": [],
   "source": [
    "from sklearn.preprocessing import StandardScaler"
   ]
  },
  {
   "cell_type": "code",
   "execution_count": 155,
   "id": "e0114bdf-84da-4d4d-86fa-9f4e7a723aa5",
   "metadata": {
    "execution": {
     "iopub.execute_input": "2021-08-26T09:10:47.475921Z",
     "iopub.status.busy": "2021-08-26T09:10:47.475704Z",
     "iopub.status.idle": "2021-08-26T09:10:47.481488Z",
     "shell.execute_reply": "2021-08-26T09:10:47.480828Z",
     "shell.execute_reply.started": "2021-08-26T09:10:47.475903Z"
    }
   },
   "outputs": [],
   "source": [
    "X_train,X_test,y_train,y_test = train_test_split(X,y,\n",
    "                                                 test_size=0.2,\n",
    "                                            shuffle=False)"
   ]
  },
  {
   "cell_type": "code",
   "execution_count": 156,
   "id": "51cc9273-e636-4f5c-87a8-5163f50ed2d0",
   "metadata": {
    "execution": {
     "iopub.execute_input": "2021-08-26T09:11:12.824922Z",
     "iopub.status.busy": "2021-08-26T09:11:12.824712Z",
     "iopub.status.idle": "2021-08-26T09:11:12.834016Z",
     "shell.execute_reply": "2021-08-26T09:11:12.833103Z",
     "shell.execute_reply.started": "2021-08-26T09:11:12.824902Z"
    }
   },
   "outputs": [],
   "source": [
    "# scale data\n",
    "ss = StandardScaler()\n",
    "Xs_train= ss.fit_transform(X_train)\n",
    "Xs_test= ss.transform(X_test)\n"
   ]
  },
  {
   "cell_type": "code",
   "execution_count": 158,
   "id": "45057281-c401-4a0b-85f9-210db164dc50",
   "metadata": {
    "execution": {
     "iopub.execute_input": "2021-08-26T09:12:35.258909Z",
     "iopub.status.busy": "2021-08-26T09:12:35.258710Z",
     "iopub.status.idle": "2021-08-26T09:12:35.263930Z",
     "shell.execute_reply": "2021-08-26T09:12:35.263586Z",
     "shell.execute_reply.started": "2021-08-26T09:12:35.258891Z"
    },
    "tags": []
   },
   "outputs": [
    {
     "name": "stdout",
     "output_type": "stream",
     "text": [
      "(2921, 1, 10) (2921,) (731, 1, 10) (731,)\n"
     ]
    }
   ],
   "source": [
    "# source https://machinelearningmastery.com/multivariate-time-series-forecasting-lstms-keras/\n",
    "# reshape input to be 3D [samples, timesteps, features]\n",
    "Xs_train = Xs_train.reshape((Xs_train.shape[0], 1, Xs_train.shape[1]))\n",
    "Xs_test = Xs_test.reshape((Xs_test.shape[0], 1, Xs_test.shape[1]))\n",
    "print(Xs_train.shape, y_train.shape, Xs_test.shape, y_test.shape)"
   ]
  },
  {
   "cell_type": "code",
   "execution_count": 161,
   "id": "df455de6-af5d-4c2e-a88e-2efe6a483715",
   "metadata": {
    "execution": {
     "iopub.execute_input": "2021-08-26T09:18:33.388659Z",
     "iopub.status.busy": "2021-08-26T09:18:33.388434Z",
     "iopub.status.idle": "2021-08-26T09:18:33.392311Z",
     "shell.execute_reply": "2021-08-26T09:18:33.391688Z",
     "shell.execute_reply.started": "2021-08-26T09:18:33.388638Z"
    },
    "tags": []
   },
   "outputs": [],
   "source": [
    "from tensorflow.keras.models import Sequential\n",
    "from tensorflow.keras.layers import Dense, LSTM"
   ]
  },
  {
   "cell_type": "code",
   "execution_count": 167,
   "id": "577f8a69-e967-4b23-825f-7472f53c80d3",
   "metadata": {
    "execution": {
     "iopub.execute_input": "2021-08-26T09:26:31.546115Z",
     "iopub.status.busy": "2021-08-26T09:26:31.545916Z",
     "iopub.status.idle": "2021-08-26T09:26:31.709996Z",
     "shell.execute_reply": "2021-08-26T09:26:31.709045Z",
     "shell.execute_reply.started": "2021-08-26T09:26:31.546095Z"
    },
    "tags": []
   },
   "outputs": [],
   "source": [
    "# design network \n",
    "model_nn1 = Sequential()\n",
    "model_nn1.add(LSTM(50,input_shape=(Xs_train.shape[1],Xs_train.shape[2])))\n",
    "model_nn1.add(Dense(10,activation='relu'))\n",
    "\n",
    "model_nn1.add(Dense(1))\n",
    "model_nn1.compile(loss='mse',optimizer='adam')\n",
    "\n",
    "\n"
   ]
  },
  {
   "cell_type": "code",
   "execution_count": 168,
   "id": "39663226-1f78-4d76-bc42-012bf2309030",
   "metadata": {
    "execution": {
     "iopub.execute_input": "2021-08-26T09:26:32.509580Z",
     "iopub.status.busy": "2021-08-26T09:26:32.509368Z",
     "iopub.status.idle": "2021-08-26T09:26:32.517212Z",
     "shell.execute_reply": "2021-08-26T09:26:32.516406Z",
     "shell.execute_reply.started": "2021-08-26T09:26:32.509560Z"
    },
    "tags": []
   },
   "outputs": [
    {
     "name": "stdout",
     "output_type": "stream",
     "text": [
      "Model: \"sequential_3\"\n",
      "_________________________________________________________________\n",
      "Layer (type)                 Output Shape              Param #   \n",
      "=================================================================\n",
      "lstm_3 (LSTM)                (None, 50)                12200     \n",
      "_________________________________________________________________\n",
      "dense_3 (Dense)              (None, 10)                510       \n",
      "_________________________________________________________________\n",
      "dense_4 (Dense)              (None, 1)                 11        \n",
      "=================================================================\n",
      "Total params: 12,721\n",
      "Trainable params: 12,721\n",
      "Non-trainable params: 0\n",
      "_________________________________________________________________\n"
     ]
    }
   ],
   "source": [
    "model_nn1.summary()"
   ]
  },
  {
   "cell_type": "code",
   "execution_count": 169,
   "id": "9ce3145c-f21c-47cd-960b-00e6f08716df",
   "metadata": {
    "execution": {
     "iopub.execute_input": "2021-08-26T09:26:39.241145Z",
     "iopub.status.busy": "2021-08-26T09:26:39.240895Z",
     "iopub.status.idle": "2021-08-26T09:26:54.331748Z",
     "shell.execute_reply": "2021-08-26T09:26:54.330864Z",
     "shell.execute_reply.started": "2021-08-26T09:26:39.241126Z"
    },
    "scrolled": true,
    "tags": []
   },
   "outputs": [
    {
     "name": "stdout",
     "output_type": "stream",
     "text": [
      "Epoch 1/100\n",
      "41/41 [==============================] - 1s 10ms/step - loss: nan - val_loss: nan\n",
      "Epoch 2/100\n",
      "41/41 [==============================] - 0s 3ms/step - loss: nan - val_loss: nan\n",
      "Epoch 3/100\n",
      "41/41 [==============================] - 0s 3ms/step - loss: nan - val_loss: nan\n",
      "Epoch 4/100\n",
      "41/41 [==============================] - 0s 3ms/step - loss: nan - val_loss: nan\n",
      "Epoch 5/100\n",
      "41/41 [==============================] - 0s 3ms/step - loss: nan - val_loss: nan\n",
      "Epoch 6/100\n",
      "41/41 [==============================] - 0s 3ms/step - loss: nan - val_loss: nan\n",
      "Epoch 7/100\n",
      "41/41 [==============================] - 0s 3ms/step - loss: nan - val_loss: nan\n",
      "Epoch 8/100\n",
      "41/41 [==============================] - 0s 3ms/step - loss: nan - val_loss: nan\n",
      "Epoch 9/100\n",
      "41/41 [==============================] - 0s 4ms/step - loss: nan - val_loss: nan\n",
      "Epoch 10/100\n",
      "41/41 [==============================] - 0s 3ms/step - loss: nan - val_loss: nan\n",
      "Epoch 11/100\n",
      "41/41 [==============================] - 0s 3ms/step - loss: nan - val_loss: nan\n",
      "Epoch 12/100\n",
      "41/41 [==============================] - 0s 3ms/step - loss: nan - val_loss: nan\n",
      "Epoch 13/100\n",
      "41/41 [==============================] - 0s 3ms/step - loss: nan - val_loss: nan\n",
      "Epoch 14/100\n",
      "41/41 [==============================] - 0s 3ms/step - loss: nan - val_loss: nan\n",
      "Epoch 15/100\n",
      "41/41 [==============================] - 0s 3ms/step - loss: nan - val_loss: nan\n",
      "Epoch 16/100\n",
      "41/41 [==============================] - 0s 3ms/step - loss: nan - val_loss: nan\n",
      "Epoch 17/100\n",
      "41/41 [==============================] - 0s 3ms/step - loss: nan - val_loss: nan\n",
      "Epoch 18/100\n",
      "41/41 [==============================] - 0s 3ms/step - loss: nan - val_loss: nan\n",
      "Epoch 19/100\n",
      "41/41 [==============================] - 0s 3ms/step - loss: nan - val_loss: nan\n",
      "Epoch 20/100\n",
      "41/41 [==============================] - 0s 3ms/step - loss: nan - val_loss: nan\n",
      "Epoch 21/100\n",
      "41/41 [==============================] - 0s 3ms/step - loss: nan - val_loss: nan\n",
      "Epoch 22/100\n",
      "41/41 [==============================] - 0s 3ms/step - loss: nan - val_loss: nan\n",
      "Epoch 23/100\n",
      "41/41 [==============================] - 0s 3ms/step - loss: nan - val_loss: nan\n",
      "Epoch 24/100\n",
      "41/41 [==============================] - 0s 3ms/step - loss: nan - val_loss: nan\n",
      "Epoch 25/100\n",
      "41/41 [==============================] - 0s 3ms/step - loss: nan - val_loss: nan\n",
      "Epoch 26/100\n",
      "41/41 [==============================] - 0s 3ms/step - loss: nan - val_loss: nan\n",
      "Epoch 27/100\n",
      "41/41 [==============================] - 0s 3ms/step - loss: nan - val_loss: nan\n",
      "Epoch 28/100\n",
      "41/41 [==============================] - 0s 3ms/step - loss: nan - val_loss: nan\n",
      "Epoch 29/100\n",
      "41/41 [==============================] - 0s 3ms/step - loss: nan - val_loss: nan\n",
      "Epoch 30/100\n",
      "41/41 [==============================] - 0s 3ms/step - loss: nan - val_loss: nan\n",
      "Epoch 31/100\n",
      "41/41 [==============================] - 0s 3ms/step - loss: nan - val_loss: nan\n",
      "Epoch 32/100\n",
      "41/41 [==============================] - 0s 4ms/step - loss: nan - val_loss: nan\n",
      "Epoch 33/100\n",
      "41/41 [==============================] - 0s 3ms/step - loss: nan - val_loss: nan\n",
      "Epoch 34/100\n",
      "41/41 [==============================] - 0s 3ms/step - loss: nan - val_loss: nan\n",
      "Epoch 35/100\n",
      "41/41 [==============================] - 0s 3ms/step - loss: nan - val_loss: nan\n",
      "Epoch 36/100\n",
      "41/41 [==============================] - 0s 4ms/step - loss: nan - val_loss: nan\n",
      "Epoch 37/100\n",
      "41/41 [==============================] - 0s 3ms/step - loss: nan - val_loss: nan\n",
      "Epoch 38/100\n",
      "41/41 [==============================] - 0s 3ms/step - loss: nan - val_loss: nan\n",
      "Epoch 39/100\n",
      "41/41 [==============================] - 0s 3ms/step - loss: nan - val_loss: nan\n",
      "Epoch 40/100\n",
      "41/41 [==============================] - 0s 3ms/step - loss: nan - val_loss: nan\n",
      "Epoch 41/100\n",
      "41/41 [==============================] - 0s 3ms/step - loss: nan - val_loss: nan\n",
      "Epoch 42/100\n",
      "41/41 [==============================] - 0s 4ms/step - loss: nan - val_loss: nan\n",
      "Epoch 43/100\n",
      "41/41 [==============================] - 0s 3ms/step - loss: nan - val_loss: nan\n",
      "Epoch 44/100\n",
      "41/41 [==============================] - 0s 4ms/step - loss: nan - val_loss: nan\n",
      "Epoch 45/100\n",
      "41/41 [==============================] - 0s 4ms/step - loss: nan - val_loss: nan\n",
      "Epoch 46/100\n",
      "41/41 [==============================] - 0s 4ms/step - loss: nan - val_loss: nan\n",
      "Epoch 47/100\n",
      "41/41 [==============================] - 0s 3ms/step - loss: nan - val_loss: nan\n",
      "Epoch 48/100\n",
      "41/41 [==============================] - 0s 3ms/step - loss: nan - val_loss: nan\n",
      "Epoch 49/100\n",
      "41/41 [==============================] - 0s 3ms/step - loss: nan - val_loss: nan\n",
      "Epoch 50/100\n",
      "41/41 [==============================] - 0s 3ms/step - loss: nan - val_loss: nan\n",
      "Epoch 51/100\n",
      "41/41 [==============================] - 0s 4ms/step - loss: nan - val_loss: nan\n",
      "Epoch 52/100\n",
      "41/41 [==============================] - 0s 3ms/step - loss: nan - val_loss: nan\n",
      "Epoch 53/100\n",
      "41/41 [==============================] - 0s 4ms/step - loss: nan - val_loss: nan\n",
      "Epoch 54/100\n",
      "41/41 [==============================] - 0s 3ms/step - loss: nan - val_loss: nan\n",
      "Epoch 55/100\n",
      "41/41 [==============================] - 0s 3ms/step - loss: nan - val_loss: nan\n",
      "Epoch 56/100\n",
      "41/41 [==============================] - 0s 3ms/step - loss: nan - val_loss: nan\n",
      "Epoch 57/100\n",
      "41/41 [==============================] - 0s 3ms/step - loss: nan - val_loss: nan\n",
      "Epoch 58/100\n",
      "41/41 [==============================] - 0s 3ms/step - loss: nan - val_loss: nan\n",
      "Epoch 59/100\n",
      "41/41 [==============================] - 0s 3ms/step - loss: nan - val_loss: nan\n",
      "Epoch 60/100\n",
      "41/41 [==============================] - 0s 3ms/step - loss: nan - val_loss: nan\n",
      "Epoch 61/100\n",
      "41/41 [==============================] - 0s 3ms/step - loss: nan - val_loss: nan\n",
      "Epoch 62/100\n",
      "41/41 [==============================] - 0s 3ms/step - loss: nan - val_loss: nan\n",
      "Epoch 63/100\n",
      "41/41 [==============================] - 0s 3ms/step - loss: nan - val_loss: nan\n",
      "Epoch 64/100\n",
      "41/41 [==============================] - 0s 3ms/step - loss: nan - val_loss: nan\n",
      "Epoch 65/100\n",
      "41/41 [==============================] - 0s 3ms/step - loss: nan - val_loss: nan\n",
      "Epoch 66/100\n",
      "41/41 [==============================] - 0s 3ms/step - loss: nan - val_loss: nan\n",
      "Epoch 67/100\n",
      "41/41 [==============================] - 0s 3ms/step - loss: nan - val_loss: nan\n",
      "Epoch 68/100\n",
      "41/41 [==============================] - 0s 4ms/step - loss: nan - val_loss: nan\n",
      "Epoch 69/100\n",
      "41/41 [==============================] - 0s 3ms/step - loss: nan - val_loss: nan\n",
      "Epoch 70/100\n",
      "41/41 [==============================] - 0s 3ms/step - loss: nan - val_loss: nan\n",
      "Epoch 71/100\n",
      "41/41 [==============================] - 0s 3ms/step - loss: nan - val_loss: nan\n",
      "Epoch 72/100\n",
      "41/41 [==============================] - 0s 4ms/step - loss: nan - val_loss: nan\n",
      "Epoch 73/100\n",
      "41/41 [==============================] - 0s 3ms/step - loss: nan - val_loss: nan\n",
      "Epoch 74/100\n",
      "41/41 [==============================] - 0s 3ms/step - loss: nan - val_loss: nan\n",
      "Epoch 75/100\n",
      "41/41 [==============================] - 0s 4ms/step - loss: nan - val_loss: nan\n",
      "Epoch 76/100\n",
      "41/41 [==============================] - 0s 3ms/step - loss: nan - val_loss: nan\n",
      "Epoch 77/100\n",
      "41/41 [==============================] - 0s 4ms/step - loss: nan - val_loss: nan\n",
      "Epoch 78/100\n",
      "41/41 [==============================] - 0s 3ms/step - loss: nan - val_loss: nan\n",
      "Epoch 79/100\n",
      "41/41 [==============================] - 0s 3ms/step - loss: nan - val_loss: nan\n",
      "Epoch 80/100\n",
      "41/41 [==============================] - 0s 3ms/step - loss: nan - val_loss: nan\n",
      "Epoch 81/100\n",
      "41/41 [==============================] - 0s 3ms/step - loss: nan - val_loss: nan\n",
      "Epoch 82/100\n",
      "41/41 [==============================] - 0s 4ms/step - loss: nan - val_loss: nan\n",
      "Epoch 83/100\n",
      "41/41 [==============================] - 0s 3ms/step - loss: nan - val_loss: nan\n",
      "Epoch 84/100\n",
      "41/41 [==============================] - 0s 4ms/step - loss: nan - val_loss: nan\n",
      "Epoch 85/100\n",
      "41/41 [==============================] - 0s 3ms/step - loss: nan - val_loss: nan\n",
      "Epoch 86/100\n",
      "41/41 [==============================] - 0s 3ms/step - loss: nan - val_loss: nan\n",
      "Epoch 87/100\n",
      "41/41 [==============================] - 0s 3ms/step - loss: nan - val_loss: nan\n",
      "Epoch 88/100\n",
      "41/41 [==============================] - 0s 3ms/step - loss: nan - val_loss: nan\n",
      "Epoch 89/100\n",
      "41/41 [==============================] - 0s 3ms/step - loss: nan - val_loss: nan\n",
      "Epoch 90/100\n",
      "41/41 [==============================] - 0s 3ms/step - loss: nan - val_loss: nan\n",
      "Epoch 91/100\n",
      "41/41 [==============================] - 0s 3ms/step - loss: nan - val_loss: nan\n",
      "Epoch 92/100\n",
      "41/41 [==============================] - 0s 3ms/step - loss: nan - val_loss: nan\n",
      "Epoch 93/100\n",
      "41/41 [==============================] - 0s 3ms/step - loss: nan - val_loss: nan\n",
      "Epoch 94/100\n",
      "41/41 [==============================] - 0s 3ms/step - loss: nan - val_loss: nan\n",
      "Epoch 95/100\n",
      "41/41 [==============================] - 0s 3ms/step - loss: nan - val_loss: nan\n",
      "Epoch 96/100\n",
      "41/41 [==============================] - 0s 3ms/step - loss: nan - val_loss: nan\n",
      "Epoch 97/100\n",
      "41/41 [==============================] - 0s 4ms/step - loss: nan - val_loss: nan\n",
      "Epoch 98/100\n",
      "41/41 [==============================] - 0s 4ms/step - loss: nan - val_loss: nan\n",
      "Epoch 99/100\n",
      "41/41 [==============================] - 0s 4ms/step - loss: nan - val_loss: nan\n",
      "Epoch 100/100\n",
      "41/41 [==============================] - 0s 4ms/step - loss: nan - val_loss: nan\n"
     ]
    }
   ],
   "source": [
    "history_nn1= model_nn1.fit(Xs_train,y_train,epochs=100,batch_size=72,\n",
    "                      validation_data=(Xs_test,y_test),\n",
    "                      shuffle=False)"
   ]
  },
  {
   "cell_type": "code",
   "execution_count": null,
   "id": "e3e9b5f3-7edd-4cd7-a72a-e45798d7e814",
   "metadata": {},
   "outputs": [],
   "source": []
  }
 ],
 "metadata": {
  "kernelspec": {
   "display_name": "Python 3",
   "language": "python",
   "name": "python3"
  },
  "language_info": {
   "codemirror_mode": {
    "name": "ipython",
    "version": 3
   },
   "file_extension": ".py",
   "mimetype": "text/x-python",
   "name": "python",
   "nbconvert_exporter": "python",
   "pygments_lexer": "ipython3",
   "version": "3.8.8"
  }
 },
 "nbformat": 4,
 "nbformat_minor": 5
}
