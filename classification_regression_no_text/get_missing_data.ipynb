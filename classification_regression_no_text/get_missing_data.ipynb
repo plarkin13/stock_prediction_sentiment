{
 "cells": [
  {
   "cell_type": "code",
   "execution_count": 1,
   "id": "5f151f99-5ca9-4da7-bd83-5c5a7760dd06",
   "metadata": {
    "execution": {
     "iopub.execute_input": "2021-08-23T23:35:40.541220Z",
     "iopub.status.busy": "2021-08-23T23:35:40.541018Z",
     "iopub.status.idle": "2021-08-23T23:35:40.752230Z",
     "shell.execute_reply": "2021-08-23T23:35:40.751552Z",
     "shell.execute_reply.started": "2021-08-23T23:35:40.541166Z"
    }
   },
   "outputs": [],
   "source": [
    "import numpy as np\n",
    "import pandas as pd \n",
    "import datetime\n",
    "from pynytimes import NYTAPI\n",
    "\n"
   ]
  },
  {
   "cell_type": "code",
   "execution_count": 2,
   "id": "4e078c00-f539-4b31-a0b2-45265cdc61e3",
   "metadata": {
    "execution": {
     "iopub.execute_input": "2021-08-23T23:35:41.535061Z",
     "iopub.status.busy": "2021-08-23T23:35:41.534858Z",
     "iopub.status.idle": "2021-08-23T23:35:41.550067Z",
     "shell.execute_reply": "2021-08-23T23:35:41.549453Z",
     "shell.execute_reply.started": "2021-08-23T23:35:41.535045Z"
    }
   },
   "outputs": [],
   "source": [
    "# import api_key \n",
    "api_key = str(np.loadtxt('nyt_key.txt',dtype=str))"
   ]
  },
  {
   "cell_type": "code",
   "execution_count": 3,
   "id": "5a681638-76fc-4829-b599-df6e5d60682b",
   "metadata": {
    "execution": {
     "iopub.execute_input": "2021-08-23T23:35:50.741717Z",
     "iopub.status.busy": "2021-08-23T23:35:50.741535Z",
     "iopub.status.idle": "2021-08-23T23:35:50.744838Z",
     "shell.execute_reply": "2021-08-23T23:35:50.744114Z",
     "shell.execute_reply.started": "2021-08-23T23:35:50.741702Z"
    }
   },
   "outputs": [],
   "source": [
    "# initialze with api key \n",
    "nyt = NYTAPI(api_key,parse_dates=True)"
   ]
  },
  {
   "cell_type": "code",
   "execution_count": 4,
   "id": "d17eddaf-f326-4780-bb7c-eeb8313ce772",
   "metadata": {
    "execution": {
     "iopub.execute_input": "2021-08-23T23:36:32.575932Z",
     "iopub.status.busy": "2021-08-23T23:36:32.575748Z",
     "iopub.status.idle": "2021-08-23T23:36:32.580000Z",
     "shell.execute_reply": "2021-08-23T23:36:32.579201Z",
     "shell.execute_reply.started": "2021-08-23T23:36:32.575903Z"
    }
   },
   "outputs": [],
   "source": [
    "def pull_nyt(date):\n",
    "    pull = nyt.article_search(\n",
    "    #query=\"stock\", #currently looking up stock as search term\n",
    "    results = 2000, #pulling 5 results\n",
    "    #need to add time component\n",
    "    dates={\n",
    "        #\"start\": datetime.datetime(2020,1,2 ),\n",
    "        \"end\": date}, # need to break up dates when running large amount in order to not pull repeat articles from earlier dates\n",
    "    options = {\n",
    "        \"sort\": \"relevance\",\n",
    "        \"sources\": [\n",
    "            \"New York Times\",\n",
    "            \"AP\",\n",
    "            \"Reuters\",\n",
    "            \"International Herald Tribune\"\n",
    "        ],\n",
    "        \"news_desk\": [\n",
    "            \"Business\"\n",
    "        ],\n",
    "        \"type_of_material\": [\n",
    "            \"News Analysis\", \"Summary\", \"Text\" ,\"News\", \"List\", \"Interview\", \"Article\"\n",
    "        ]\n",
    "    }\n",
    ")\n",
    "    return post_pull(pull)"
   ]
  },
  {
   "cell_type": "code",
   "execution_count": 5,
   "id": "c62dc23d-bb69-48ea-9f6a-bfd57a12a48e",
   "metadata": {
    "execution": {
     "iopub.execute_input": "2021-08-23T23:36:45.100768Z",
     "iopub.status.busy": "2021-08-23T23:36:45.100596Z",
     "iopub.status.idle": "2021-08-23T23:36:45.103976Z",
     "shell.execute_reply": "2021-08-23T23:36:45.103199Z",
     "shell.execute_reply.started": "2021-08-23T23:36:45.100754Z"
    }
   },
   "outputs": [],
   "source": [
    "def post_pull(pull):\n",
    "    df_pull = pd.DataFrame(pull)\n",
    "    print(f'shape:{df_pull.shape}')\n",
    "    print(df_pull['pub_date'].tail(3))\n",
    "    return df_pull"
   ]
  },
  {
   "cell_type": "markdown",
   "id": "4cde53b7-9bbe-4e8c-a84e-143ba0dfac42",
   "metadata": {},
   "source": [
    "Need 2014,1,1 --->2016-09-06"
   ]
  },
  {
   "cell_type": "code",
   "execution_count": 6,
   "id": "d0cd5f82-1d09-46bf-be7c-7ec02d433fc6",
   "metadata": {
    "execution": {
     "iopub.execute_input": "2021-08-23T23:40:07.399323Z",
     "iopub.status.busy": "2021-08-23T23:40:07.398986Z",
     "iopub.status.idle": "2021-08-23T23:59:14.656211Z",
     "shell.execute_reply": "2021-08-23T23:59:14.655597Z",
     "shell.execute_reply.started": "2021-08-23T23:40:07.399291Z"
    }
   },
   "outputs": [
    {
     "name": "stderr",
     "output_type": "stream",
     "text": [
      "/home/tanveer/anaconda3/lib/python3.8/site-packages/pynytimes/api.py:763: UserWarning: Asking for a lot of results, because of rate limits it can take a while.\n",
      "  warnings.warn(\n"
     ]
    },
    {
     "name": "stdout",
     "output_type": "stream",
     "text": [
      "shape:(2000, 20)\n",
      "1997   2016-05-12 15:49:42+00:00\n",
      "1998   2016-05-12 14:01:29+00:00\n",
      "1999   2016-05-12 13:59:36+00:00\n",
      "Name: pub_date, dtype: datetime64[ns, UTC]\n"
     ]
    }
   ],
   "source": [
    "df_1= pull_nyt(datetime.date(2016, 9, 6))"
   ]
  },
  {
   "cell_type": "code",
   "execution_count": 7,
   "id": "685506bc-7b73-49e9-942a-8ae3d6d60e52",
   "metadata": {
    "execution": {
     "iopub.execute_input": "2021-08-24T00:00:25.542588Z",
     "iopub.status.busy": "2021-08-24T00:00:25.542216Z",
     "iopub.status.idle": "2021-08-24T00:19:31.527506Z",
     "shell.execute_reply": "2021-08-24T00:19:31.526641Z",
     "shell.execute_reply.started": "2021-08-24T00:00:25.542552Z"
    }
   },
   "outputs": [
    {
     "name": "stdout",
     "output_type": "stream",
     "text": [
      "shape:(2000, 20)\n",
      "1997   2016-02-08 01:05:31+00:00\n",
      "1998   2016-02-07 23:00:22+00:00\n",
      "1999   2016-02-07 22:14:56+00:00\n",
      "Name: pub_date, dtype: datetime64[ns, UTC]\n"
     ]
    }
   ],
   "source": [
    "df_2= pull_nyt(datetime.date(2016, 5, 12))"
   ]
  },
  {
   "cell_type": "code",
   "execution_count": 8,
   "id": "f9e2ee89-76c9-4797-980f-08c0dfa73f8b",
   "metadata": {
    "execution": {
     "iopub.execute_input": "2021-08-24T00:21:49.460052Z",
     "iopub.status.busy": "2021-08-24T00:21:49.459872Z",
     "iopub.status.idle": "2021-08-24T00:40:31.303774Z",
     "shell.execute_reply": "2021-08-24T00:40:31.303070Z",
     "shell.execute_reply.started": "2021-08-24T00:21:49.460036Z"
    }
   },
   "outputs": [
    {
     "name": "stdout",
     "output_type": "stream",
     "text": [
      "shape:(2000, 20)\n",
      "1997   2015-11-04 20:33:58+00:00\n",
      "1998   2015-11-04 20:30:18+00:00\n",
      "1999   2015-11-04 20:23:08+00:00\n",
      "Name: pub_date, dtype: datetime64[ns, UTC]\n"
     ]
    }
   ],
   "source": [
    "df_3= pull_nyt(datetime.date(2016, 2, 7))"
   ]
  },
  {
   "cell_type": "code",
   "execution_count": 9,
   "id": "c82064b3-057f-417e-aafb-7351d3e76c07",
   "metadata": {
    "execution": {
     "iopub.execute_input": "2021-08-24T00:44:17.815963Z",
     "iopub.status.busy": "2021-08-24T00:44:17.815784Z",
     "iopub.status.idle": "2021-08-24T01:03:25.120237Z",
     "shell.execute_reply": "2021-08-24T01:03:25.119498Z",
     "shell.execute_reply.started": "2021-08-24T00:44:17.815947Z"
    }
   },
   "outputs": [
    {
     "name": "stdout",
     "output_type": "stream",
     "text": [
      "shape:(2000, 20)\n",
      "1997   2015-08-09 14:15:51+00:00\n",
      "1998   2015-08-09 10:07:02+00:00\n",
      "1999   2015-08-08 22:33:00+00:00\n",
      "Name: pub_date, dtype: datetime64[ns, UTC]\n"
     ]
    }
   ],
   "source": [
    "df_4= pull_nyt(datetime.date(2015, 11, 4))"
   ]
  },
  {
   "cell_type": "code",
   "execution_count": 10,
   "id": "c8b55868-9eec-406d-935f-57077168910d",
   "metadata": {
    "execution": {
     "iopub.execute_input": "2021-08-24T01:06:55.187227Z",
     "iopub.status.busy": "2021-08-24T01:06:55.187049Z",
     "iopub.status.idle": "2021-08-24T01:25:07.510113Z",
     "shell.execute_reply": "2021-08-24T01:25:07.509414Z",
     "shell.execute_reply.started": "2021-08-24T01:06:55.187212Z"
    }
   },
   "outputs": [
    {
     "name": "stdout",
     "output_type": "stream",
     "text": [
      "shape:(2000, 20)\n",
      "1997   2015-05-12 23:40:13+00:00\n",
      "1998   2015-05-12 23:19:45+00:00\n",
      "1999   2015-05-12 22:23:56+00:00\n",
      "Name: pub_date, dtype: datetime64[ns, UTC]\n"
     ]
    }
   ],
   "source": [
    "df_5= pull_nyt(datetime.date(2015, 8, 8))"
   ]
  },
  {
   "cell_type": "code",
   "execution_count": 11,
   "id": "229550ec-1c36-41e6-a690-ed05c7208040",
   "metadata": {
    "execution": {
     "iopub.execute_input": "2021-08-24T01:28:12.629605Z",
     "iopub.status.busy": "2021-08-24T01:28:12.629345Z",
     "iopub.status.idle": "2021-08-24T01:47:18.448289Z",
     "shell.execute_reply": "2021-08-24T01:47:18.447958Z",
     "shell.execute_reply.started": "2021-08-24T01:28:12.629587Z"
    }
   },
   "outputs": [
    {
     "name": "stdout",
     "output_type": "stream",
     "text": [
      "shape:(2000, 20)\n",
      "1997   2015-02-19 12:45:26+00:00\n",
      "1998   2015-02-19 12:36:02+00:00\n",
      "1999   2015-02-19 12:30:46+00:00\n",
      "Name: pub_date, dtype: datetime64[ns, UTC]\n"
     ]
    }
   ],
   "source": [
    "df_6= pull_nyt(datetime.date(2015, 5, 12))"
   ]
  },
  {
   "cell_type": "code",
   "execution_count": 12,
   "id": "74de0e31-2269-48fb-bd84-4c3ae1d2a0ec",
   "metadata": {
    "execution": {
     "iopub.execute_input": "2021-08-24T01:58:57.605544Z",
     "iopub.status.busy": "2021-08-24T01:58:57.605378Z",
     "iopub.status.idle": "2021-08-24T02:18:06.255671Z",
     "shell.execute_reply": "2021-08-24T02:18:06.254920Z",
     "shell.execute_reply.started": "2021-08-24T01:58:57.605529Z"
    }
   },
   "outputs": [
    {
     "name": "stdout",
     "output_type": "stream",
     "text": [
      "shape:(2000, 20)\n",
      "1997   2014-12-09 03:18:48+00:00\n",
      "1998   2014-12-09 03:00:51+00:00\n",
      "1999   2014-12-09 02:23:33+00:00\n",
      "Name: pub_date, dtype: datetime64[ns, UTC]\n"
     ]
    }
   ],
   "source": [
    "df_7= pull_nyt(datetime.date(2015,2, 19))"
   ]
  },
  {
   "cell_type": "code",
   "execution_count": 13,
   "id": "ef24f240-eba0-4119-afe9-88c3f432ea38",
   "metadata": {
    "execution": {
     "iopub.execute_input": "2021-08-24T02:18:57.916572Z",
     "iopub.status.busy": "2021-08-24T02:18:57.916347Z",
     "iopub.status.idle": "2021-08-24T02:38:05.172108Z",
     "shell.execute_reply": "2021-08-24T02:38:05.171804Z",
     "shell.execute_reply.started": "2021-08-24T02:18:57.916555Z"
    }
   },
   "outputs": [
    {
     "name": "stdout",
     "output_type": "stream",
     "text": [
      "shape:(2000, 20)\n",
      "1997   2014-10-10 16:44:32+00:00\n",
      "1998   2014-10-10 16:25:21+00:00\n",
      "1999   2014-10-10 14:42:12+00:00\n",
      "Name: pub_date, dtype: datetime64[ns, UTC]\n"
     ]
    }
   ],
   "source": [
    "df_8= pull_nyt(datetime.date(2014,12,9))"
   ]
  },
  {
   "cell_type": "code",
   "execution_count": 14,
   "id": "9cf97100-c3e3-458b-9c85-cc0be9ee40c2",
   "metadata": {
    "execution": {
     "iopub.execute_input": "2021-08-24T02:38:46.674187Z",
     "iopub.status.busy": "2021-08-24T02:38:46.673925Z",
     "iopub.status.idle": "2021-08-24T02:58:07.035133Z",
     "shell.execute_reply": "2021-08-24T02:58:07.033920Z",
     "shell.execute_reply.started": "2021-08-24T02:38:46.674171Z"
    }
   },
   "outputs": [
    {
     "name": "stdout",
     "output_type": "stream",
     "text": [
      "shape:(2000, 20)\n",
      "1997   2014-08-12 22:48:40+00:00\n",
      "1998   2014-08-12 22:47:51+00:00\n",
      "1999   2014-08-12 22:43:35+00:00\n",
      "Name: pub_date, dtype: datetime64[ns, UTC]\n"
     ]
    }
   ],
   "source": [
    "df_9= pull_nyt(datetime.date(2014,10,10))"
   ]
  },
  {
   "cell_type": "code",
   "execution_count": 15,
   "id": "f9d0ad9c-0fce-41b5-aeee-92544538cd19",
   "metadata": {
    "execution": {
     "iopub.execute_input": "2021-08-24T03:04:36.322209Z",
     "iopub.status.busy": "2021-08-24T03:04:36.321923Z",
     "iopub.status.idle": "2021-08-24T03:23:09.174065Z",
     "shell.execute_reply": "2021-08-24T03:23:09.173279Z",
     "shell.execute_reply.started": "2021-08-24T03:04:36.322193Z"
    }
   },
   "outputs": [
    {
     "name": "stdout",
     "output_type": "stream",
     "text": [
      "shape:(2000, 20)\n",
      "1997   2014-06-13 14:47:19+00:00\n",
      "1998   2014-06-13 14:30:49+00:00\n",
      "1999   2014-06-13 14:18:12+00:00\n",
      "Name: pub_date, dtype: datetime64[ns, UTC]\n"
     ]
    }
   ],
   "source": [
    "df_10= pull_nyt(datetime.date(2014,8,12))"
   ]
  },
  {
   "cell_type": "code",
   "execution_count": 16,
   "id": "ece43a1d-4396-4c1b-b253-b25f62ea4da7",
   "metadata": {
    "execution": {
     "iopub.execute_input": "2021-08-24T03:31:25.625590Z",
     "iopub.status.busy": "2021-08-24T03:31:25.625357Z",
     "iopub.status.idle": "2021-08-24T03:50:33.010381Z",
     "shell.execute_reply": "2021-08-24T03:50:33.009669Z",
     "shell.execute_reply.started": "2021-08-24T03:31:25.625569Z"
    }
   },
   "outputs": [
    {
     "name": "stdout",
     "output_type": "stream",
     "text": [
      "shape:(2000, 20)\n",
      "1997   2014-04-17 17:24:46+00:00\n",
      "1998   2014-04-17 17:12:24+00:00\n",
      "1999   2014-04-17 17:00:38+00:00\n",
      "Name: pub_date, dtype: datetime64[ns, UTC]\n"
     ]
    }
   ],
   "source": [
    "df_11= pull_nyt(datetime.date(2014,6,13))"
   ]
  },
  {
   "cell_type": "code",
   "execution_count": 17,
   "id": "accbc59f-ff5e-42cd-89c8-d74b4b77e5c5",
   "metadata": {
    "execution": {
     "iopub.execute_input": "2021-08-24T03:52:04.153767Z",
     "iopub.status.busy": "2021-08-24T03:52:04.153587Z",
     "iopub.status.idle": "2021-08-24T04:11:07.703282Z",
     "shell.execute_reply": "2021-08-24T04:11:07.702550Z",
     "shell.execute_reply.started": "2021-08-24T03:52:04.153751Z"
    }
   },
   "outputs": [
    {
     "name": "stdout",
     "output_type": "stream",
     "text": [
      "shape:(2000, 20)\n",
      "1997   2014-02-26 17:57:29+00:00\n",
      "1998   2014-02-26 17:43:31+00:00\n",
      "1999   2014-02-26 17:37:30+00:00\n",
      "Name: pub_date, dtype: datetime64[ns, UTC]\n"
     ]
    }
   ],
   "source": [
    "df_12= pull_nyt(datetime.date(2014,4,17))"
   ]
  },
  {
   "cell_type": "code",
   "execution_count": 18,
   "id": "7ff5ff23-4ff0-437e-add7-38312420df49",
   "metadata": {
    "execution": {
     "iopub.execute_input": "2021-08-24T04:11:46.709408Z",
     "iopub.status.busy": "2021-08-24T04:11:46.709234Z",
     "iopub.status.idle": "2021-08-24T04:31:04.379805Z",
     "shell.execute_reply": "2021-08-24T04:31:04.379094Z",
     "shell.execute_reply.started": "2021-08-24T04:11:46.709393Z"
    },
    "tags": []
   },
   "outputs": [
    {
     "name": "stdout",
     "output_type": "stream",
     "text": [
      "shape:(2000, 20)\n",
      "1997   2013-11-15 23:10:57+00:00\n",
      "1998   2013-11-15 22:16:03+00:00\n",
      "1999   2013-11-15 21:10:29+00:00\n",
      "Name: pub_date, dtype: datetime64[ns, UTC]\n"
     ]
    }
   ],
   "source": [
    "df_13= pull_nyt(datetime.date(2014,2,26))"
   ]
  },
  {
   "cell_type": "code",
   "execution_count": 23,
   "id": "28644f0c-92fb-44dd-9b44-92ecce770552",
   "metadata": {
    "execution": {
     "iopub.execute_input": "2021-08-24T15:49:13.914194Z",
     "iopub.status.busy": "2021-08-24T15:49:13.913593Z",
     "iopub.status.idle": "2021-08-24T15:49:20.952589Z",
     "shell.execute_reply": "2021-08-24T15:49:20.952185Z",
     "shell.execute_reply.started": "2021-08-24T15:49:13.914164Z"
    },
    "tags": []
   },
   "outputs": [],
   "source": [
    "dfs = [df_1,df_2,df_3,df_4,df_5,df_6,df_7,df_8,df_9,df_10,df_11,df_12,df_13]\n",
    "articles = pd.concat(dfs,ignore_index=True)\n",
    "articles.to_csv('2014_2017.csv',index=False)"
   ]
  },
  {
   "cell_type": "code",
   "execution_count": 20,
   "id": "42bf3b3f-13c9-441d-a168-b61edb92108f",
   "metadata": {
    "execution": {
     "iopub.execute_input": "2021-08-24T04:34:39.302994Z",
     "iopub.status.busy": "2021-08-24T04:34:39.302794Z",
     "iopub.status.idle": "2021-08-24T04:34:39.313455Z",
     "shell.execute_reply": "2021-08-24T04:34:39.312902Z",
     "shell.execute_reply.started": "2021-08-24T04:34:39.302977Z"
    }
   },
   "outputs": [
    {
     "data": {
      "text/plain": [
       "0       2016-09-06 23:27:56+00:00\n",
       "1       2016-09-06 20:59:29+00:00\n",
       "2       2016-09-06 20:32:34+00:00\n",
       "3       2016-09-06 20:05:11+00:00\n",
       "4       2016-09-06 20:04:43+00:00\n",
       "                   ...           \n",
       "25995   2013-11-16 01:39:58+00:00\n",
       "25996   2013-11-16 01:34:20+00:00\n",
       "25997   2013-11-15 23:10:57+00:00\n",
       "25998   2013-11-15 22:16:03+00:00\n",
       "25999   2013-11-15 21:10:29+00:00\n",
       "Name: pub_date, Length: 26000, dtype: datetime64[ns, UTC]"
      ]
     },
     "execution_count": 20,
     "metadata": {},
     "output_type": "execute_result"
    }
   ],
   "source": [
    "articles['pub_date']"
   ]
  }
 ],
 "metadata": {
  "kernelspec": {
   "display_name": "Python 3",
   "language": "python",
   "name": "python3"
  },
  "language_info": {
   "codemirror_mode": {
    "name": "ipython",
    "version": 3
   },
   "file_extension": ".py",
   "mimetype": "text/x-python",
   "name": "python",
   "nbconvert_exporter": "python",
   "pygments_lexer": "ipython3",
   "version": "3.8.8"
  }
 },
 "nbformat": 4,
 "nbformat_minor": 5
}
