{
 "cells": [
  {
   "cell_type": "code",
   "execution_count": 3,
   "id": "048c6368",
   "metadata": {},
   "outputs": [],
   "source": [
    "import numpy as np\n",
    "import pandas as pd \n",
    "import datetime\n",
    "\n",
    "# imports\n",
    "import matplotlib.pyplot as plt\n",
    "import seaborn as sns\n",
    "from sklearn.model_selection import train_test_split, GridSearchCV\n",
    "from sklearn.pipeline import Pipeline\n",
    "from sklearn.naive_bayes import MultinomialNB\n",
    "# from sklearn.linear_model import LogisticRegression\n",
    "from sklearn.metrics import confusion_matrix, plot_confusion_matrix, accuracy_score\n",
    "from sklearn.neighbors import KNeighborsClassifier\n",
    "\n",
    "# Import TFIDFVectorizer\n",
    "from sklearn.feature_extraction.text import CountVectorizer, TfidfVectorizer\n",
    "from sklearn.feature_extraction import text \n",
    "\n",
    "#tokenizers\n",
    "from nltk.tokenize import sent_tokenize, word_tokenize, RegexpTokenizer\n",
    "from nltk.stem import WordNetLemmatizer\n",
    "from nltk.corpus import stopwords\n",
    "from nltk.sentiment.vader import SentimentIntensityAnalyzer\n",
    "import re\n",
    "\n"
   ]
  },
  {
   "cell_type": "markdown",
   "id": "f526adb7",
   "metadata": {},
   "source": [
    "# Working off of Tanveer's Clean Data "
   ]
  },
  {
   "cell_type": "code",
   "execution_count": 4,
   "id": "30ed3c9b",
   "metadata": {},
   "outputs": [
    {
     "data": {
      "text/html": [
       "<div>\n",
       "<style scoped>\n",
       "    .dataframe tbody tr th:only-of-type {\n",
       "        vertical-align: middle;\n",
       "    }\n",
       "\n",
       "    .dataframe tbody tr th {\n",
       "        vertical-align: top;\n",
       "    }\n",
       "\n",
       "    .dataframe thead th {\n",
       "        text-align: right;\n",
       "    }\n",
       "</style>\n",
       "<table border=\"1\" class=\"dataframe\">\n",
       "  <thead>\n",
       "    <tr style=\"text-align: right;\">\n",
       "      <th></th>\n",
       "      <th>Unnamed: 0</th>\n",
       "      <th>date</th>\n",
       "      <th>text</th>\n",
       "      <th>price</th>\n",
       "      <th>pct_change</th>\n",
       "      <th>price_direction</th>\n",
       "      <th>day_of_week</th>\n",
       "      <th>is_holiday</th>\n",
       "    </tr>\n",
       "  </thead>\n",
       "  <tbody>\n",
       "    <tr>\n",
       "      <th>0</th>\n",
       "      <td>0</td>\n",
       "      <td>2011-07-29</td>\n",
       "      <td>Drug App Comes Free, Ads Included. Epocrates h...</td>\n",
       "      <td>1292.28</td>\n",
       "      <td>NaN</td>\n",
       "      <td>first</td>\n",
       "      <td>4</td>\n",
       "      <td>0</td>\n",
       "    </tr>\n",
       "    <tr>\n",
       "      <th>1</th>\n",
       "      <td>1</td>\n",
       "      <td>2011-07-30</td>\n",
       "      <td>Global Concern Over U.S. Debt Ceiling Disagree...</td>\n",
       "      <td>1292.28</td>\n",
       "      <td>0.000000</td>\n",
       "      <td>same</td>\n",
       "      <td>5</td>\n",
       "      <td>0</td>\n",
       "    </tr>\n",
       "    <tr>\n",
       "      <th>2</th>\n",
       "      <td>2</td>\n",
       "      <td>2011-07-31</td>\n",
       "      <td>Deal May Avert Default, but Some Ask, ‘Is That...</td>\n",
       "      <td>1292.28</td>\n",
       "      <td>0.000000</td>\n",
       "      <td>same</td>\n",
       "      <td>6</td>\n",
       "      <td>0</td>\n",
       "    </tr>\n",
       "    <tr>\n",
       "      <th>3</th>\n",
       "      <td>3</td>\n",
       "      <td>2011-08-01</td>\n",
       "      <td>Charging a Premium for Movies, at a Cost. High...</td>\n",
       "      <td>1286.94</td>\n",
       "      <td>-0.004132</td>\n",
       "      <td>down</td>\n",
       "      <td>0</td>\n",
       "      <td>0</td>\n",
       "    </tr>\n",
       "    <tr>\n",
       "      <th>4</th>\n",
       "      <td>4</td>\n",
       "      <td>2011-08-02</td>\n",
       "      <td>Pearls, Finer but Still Cheap, Flow From China...</td>\n",
       "      <td>1254.05</td>\n",
       "      <td>-0.025557</td>\n",
       "      <td>down</td>\n",
       "      <td>1</td>\n",
       "      <td>0</td>\n",
       "    </tr>\n",
       "  </tbody>\n",
       "</table>\n",
       "</div>"
      ],
      "text/plain": [
       "   Unnamed: 0        date                                               text  \\\n",
       "0           0  2011-07-29  Drug App Comes Free, Ads Included. Epocrates h...   \n",
       "1           1  2011-07-30  Global Concern Over U.S. Debt Ceiling Disagree...   \n",
       "2           2  2011-07-31  Deal May Avert Default, but Some Ask, ‘Is That...   \n",
       "3           3  2011-08-01  Charging a Premium for Movies, at a Cost. High...   \n",
       "4           4  2011-08-02  Pearls, Finer but Still Cheap, Flow From China...   \n",
       "\n",
       "     price  pct_change price_direction  day_of_week  is_holiday  \n",
       "0  1292.28         NaN           first            4           0  \n",
       "1  1292.28    0.000000            same            5           0  \n",
       "2  1292.28    0.000000            same            6           0  \n",
       "3  1286.94   -0.004132            down            0           0  \n",
       "4  1254.05   -0.025557            down            1           0  "
      ]
     },
     "execution_count": 4,
     "metadata": {},
     "output_type": "execute_result"
    }
   ],
   "source": [
    "# to load file \n",
    "daily = pd.read_csv('/Users/plarkin/Downloads/daily.csv')\n",
    "daily.head()"
   ]
  },
  {
   "cell_type": "markdown",
   "id": "2ac7256f",
   "metadata": {},
   "source": [
    "## Sentiment Analysis"
   ]
  },
  {
   "cell_type": "markdown",
   "id": "9a34f2fa",
   "metadata": {},
   "source": [
    "#### Vader Sentiment Analysis"
   ]
  },
  {
   "cell_type": "code",
   "execution_count": 5,
   "id": "bbcbe783",
   "metadata": {},
   "outputs": [
    {
     "name": "stdout",
     "output_type": "stream",
     "text": [
      "CPU times: user 1e+03 ns, sys: 0 ns, total: 1e+03 ns\n",
      "Wall time: 4.05 µs\n"
     ]
    }
   ],
   "source": [
    "#Adding in Sentiment analysis with designated columns for each output (pos, neg, neu, compound)\n",
    "analyzer = SentimentIntensityAnalyzer()\n",
    "\n",
    "#daily['vader'] = daily['text'].map(lambda x:analyzer.polarity_scores(str(x)))\n",
    "\n",
    "\n",
    "daily['vader_compound'] = [analyzer.polarity_scores(x)['compound'] for x in daily['text']]\n",
    "# draft_df['vd_neg'] = [analyzer.polarity_scores(x)['neg'] for x in draft_df['alltext']]\n",
    "# draft_df['vd_neu'] = [analyzer.polarity_scores(x)['neu'] for x in draft_df['alltext']]\n",
    "# draft_df['vd_pos'] = [analyzer.polarity_scores(x)['pos'] for x in draft_df['alltext']]\n",
    "\n",
    "%time\n"
   ]
  },
  {
   "cell_type": "markdown",
   "id": "f3455eb9",
   "metadata": {},
   "source": [
    "#### Textblob Sentiment Analysis\n",
    "source : https://neptune.ai/blog/sentiment-analysis-python-textblob-vs-vader-vs-flair\n",
    "\n",
    "https://textblob.readthedocs.io/en/dev/"
   ]
  },
  {
   "cell_type": "code",
   "execution_count": 6,
   "id": "95477c3b",
   "metadata": {},
   "outputs": [
    {
     "name": "stdout",
     "output_type": "stream",
     "text": [
      "CPU times: user 2 µs, sys: 0 ns, total: 2 µs\n",
      "Wall time: 4.05 µs\n"
     ]
    }
   ],
   "source": [
    "from textblob import TextBlob\n",
    "#testimonial = TextBlob()\n",
    "#draft_df['tb_polarity'] = [testimonial.polarity(x)['polarity'] for x in draft_df['alltext']]\n",
    "#draft_df['tb_subj'] = [testimonial.sentiment(x)['subjectivity'] for x in draft_df['alltext']]\n",
    "daily['textblob_polarity'] = daily['text'].map(lambda words: TextBlob(str(words)).polarity) #polarity is more applicable and comparable to vader compound. subjectivity is more about opinion vs fact \n",
    "\n",
    "%time\n"
   ]
  },
  {
   "cell_type": "code",
   "execution_count": 7,
   "id": "a7cd596a",
   "metadata": {
    "scrolled": true
   },
   "outputs": [
    {
     "data": {
      "text/html": [
       "<div>\n",
       "<style scoped>\n",
       "    .dataframe tbody tr th:only-of-type {\n",
       "        vertical-align: middle;\n",
       "    }\n",
       "\n",
       "    .dataframe tbody tr th {\n",
       "        vertical-align: top;\n",
       "    }\n",
       "\n",
       "    .dataframe thead th {\n",
       "        text-align: right;\n",
       "    }\n",
       "</style>\n",
       "<table border=\"1\" class=\"dataframe\">\n",
       "  <thead>\n",
       "    <tr style=\"text-align: right;\">\n",
       "      <th></th>\n",
       "      <th>Unnamed: 0</th>\n",
       "      <th>date</th>\n",
       "      <th>text</th>\n",
       "      <th>price</th>\n",
       "      <th>pct_change</th>\n",
       "      <th>price_direction</th>\n",
       "      <th>day_of_week</th>\n",
       "      <th>is_holiday</th>\n",
       "      <th>vader_compound</th>\n",
       "      <th>textblob_polarity</th>\n",
       "    </tr>\n",
       "  </thead>\n",
       "  <tbody>\n",
       "    <tr>\n",
       "      <th>2591</th>\n",
       "      <td>2591</td>\n",
       "      <td>2018-09-08</td>\n",
       "      <td>Alex Jones’s Infowars Is Removed From Apple’s ...</td>\n",
       "      <td>2871.68</td>\n",
       "      <td>0.0</td>\n",
       "      <td>same</td>\n",
       "      <td>5</td>\n",
       "      <td>0</td>\n",
       "      <td>-0.9485</td>\n",
       "      <td>-0.333333</td>\n",
       "    </tr>\n",
       "    <tr>\n",
       "      <th>2216</th>\n",
       "      <td>2216</td>\n",
       "      <td>2017-08-26</td>\n",
       "      <td>James Staley’s Series of Unfortunate Events. A...</td>\n",
       "      <td>2443.05</td>\n",
       "      <td>0.0</td>\n",
       "      <td>same</td>\n",
       "      <td>5</td>\n",
       "      <td>0</td>\n",
       "      <td>-0.7717</td>\n",
       "      <td>-0.300000</td>\n",
       "    </tr>\n",
       "    <tr>\n",
       "      <th>155</th>\n",
       "      <td>155</td>\n",
       "      <td>2011-12-31</td>\n",
       "      <td>After Outcry, Verizon Abandons $2 Fee. Verizon...</td>\n",
       "      <td>1257.60</td>\n",
       "      <td>0.0</td>\n",
       "      <td>same</td>\n",
       "      <td>5</td>\n",
       "      <td>0</td>\n",
       "      <td>-0.9393</td>\n",
       "      <td>-0.233333</td>\n",
       "    </tr>\n",
       "    <tr>\n",
       "      <th>3575</th>\n",
       "      <td>3575</td>\n",
       "      <td>2021-05-30</td>\n",
       "      <td>‘It’s Going to Be a Big Summer for Hard Seltze...</td>\n",
       "      <td>4204.11</td>\n",
       "      <td>0.0</td>\n",
       "      <td>same</td>\n",
       "      <td>6</td>\n",
       "      <td>0</td>\n",
       "      <td>-0.8582</td>\n",
       "      <td>-0.195606</td>\n",
       "    </tr>\n",
       "    <tr>\n",
       "      <th>3209</th>\n",
       "      <td>3209</td>\n",
       "      <td>2020-05-24</td>\n",
       "      <td>Pay Cuts Become a Tool for Some Companies to A...</td>\n",
       "      <td>2955.45</td>\n",
       "      <td>0.0</td>\n",
       "      <td>same</td>\n",
       "      <td>6</td>\n",
       "      <td>0</td>\n",
       "      <td>-0.9403</td>\n",
       "      <td>-0.151852</td>\n",
       "    </tr>\n",
       "    <tr>\n",
       "      <th>...</th>\n",
       "      <td>...</td>\n",
       "      <td>...</td>\n",
       "      <td>...</td>\n",
       "      <td>...</td>\n",
       "      <td>...</td>\n",
       "      <td>...</td>\n",
       "      <td>...</td>\n",
       "      <td>...</td>\n",
       "      <td>...</td>\n",
       "      <td>...</td>\n",
       "    </tr>\n",
       "    <tr>\n",
       "      <th>2264</th>\n",
       "      <td>2264</td>\n",
       "      <td>2017-10-14</td>\n",
       "      <td>Tesla Fires Hundreds of Workers. The dismissal...</td>\n",
       "      <td>2553.17</td>\n",
       "      <td>0.0</td>\n",
       "      <td>same</td>\n",
       "      <td>5</td>\n",
       "      <td>0</td>\n",
       "      <td>-0.4588</td>\n",
       "      <td>0.280769</td>\n",
       "    </tr>\n",
       "    <tr>\n",
       "      <th>1763</th>\n",
       "      <td>1763</td>\n",
       "      <td>2016-05-28</td>\n",
       "      <td>Paper Points Up Flaws in Venture Fund Based on...</td>\n",
       "      <td>2099.06</td>\n",
       "      <td>0.0</td>\n",
       "      <td>same</td>\n",
       "      <td>5</td>\n",
       "      <td>0</td>\n",
       "      <td>0.9862</td>\n",
       "      <td>0.288625</td>\n",
       "    </tr>\n",
       "    <tr>\n",
       "      <th>3347</th>\n",
       "      <td>3347</td>\n",
       "      <td>2020-10-10</td>\n",
       "      <td>Airline Miles Programs Sure Are Profitable. Ar...</td>\n",
       "      <td>3477.13</td>\n",
       "      <td>0.0</td>\n",
       "      <td>same</td>\n",
       "      <td>5</td>\n",
       "      <td>0</td>\n",
       "      <td>0.9886</td>\n",
       "      <td>0.311180</td>\n",
       "    </tr>\n",
       "    <tr>\n",
       "      <th>1589</th>\n",
       "      <td>1589</td>\n",
       "      <td>2015-12-06</td>\n",
       "      <td>You and What Army?. Part 1 of a cluing discuss...</td>\n",
       "      <td>2091.69</td>\n",
       "      <td>0.0</td>\n",
       "      <td>same</td>\n",
       "      <td>6</td>\n",
       "      <td>0</td>\n",
       "      <td>-0.6655</td>\n",
       "      <td>0.315278</td>\n",
       "    </tr>\n",
       "    <tr>\n",
       "      <th>1930</th>\n",
       "      <td>1930</td>\n",
       "      <td>2016-11-13</td>\n",
       "      <td>Paul Newman Who? Salad Dressing Company Adjust...</td>\n",
       "      <td>2164.45</td>\n",
       "      <td>0.0</td>\n",
       "      <td>same</td>\n",
       "      <td>6</td>\n",
       "      <td>0</td>\n",
       "      <td>0.4404</td>\n",
       "      <td>0.372222</td>\n",
       "    </tr>\n",
       "  </tbody>\n",
       "</table>\n",
       "<p>3653 rows × 10 columns</p>\n",
       "</div>"
      ],
      "text/plain": [
       "      Unnamed: 0        date  \\\n",
       "2591        2591  2018-09-08   \n",
       "2216        2216  2017-08-26   \n",
       "155          155  2011-12-31   \n",
       "3575        3575  2021-05-30   \n",
       "3209        3209  2020-05-24   \n",
       "...          ...         ...   \n",
       "2264        2264  2017-10-14   \n",
       "1763        1763  2016-05-28   \n",
       "3347        3347  2020-10-10   \n",
       "1589        1589  2015-12-06   \n",
       "1930        1930  2016-11-13   \n",
       "\n",
       "                                                   text    price  pct_change  \\\n",
       "2591  Alex Jones’s Infowars Is Removed From Apple’s ...  2871.68         0.0   \n",
       "2216  James Staley’s Series of Unfortunate Events. A...  2443.05         0.0   \n",
       "155   After Outcry, Verizon Abandons $2 Fee. Verizon...  1257.60         0.0   \n",
       "3575  ‘It’s Going to Be a Big Summer for Hard Seltze...  4204.11         0.0   \n",
       "3209  Pay Cuts Become a Tool for Some Companies to A...  2955.45         0.0   \n",
       "...                                                 ...      ...         ...   \n",
       "2264  Tesla Fires Hundreds of Workers. The dismissal...  2553.17         0.0   \n",
       "1763  Paper Points Up Flaws in Venture Fund Based on...  2099.06         0.0   \n",
       "3347  Airline Miles Programs Sure Are Profitable. Ar...  3477.13         0.0   \n",
       "1589  You and What Army?. Part 1 of a cluing discuss...  2091.69         0.0   \n",
       "1930  Paul Newman Who? Salad Dressing Company Adjust...  2164.45         0.0   \n",
       "\n",
       "     price_direction  day_of_week  is_holiday  vader_compound  \\\n",
       "2591            same            5           0         -0.9485   \n",
       "2216            same            5           0         -0.7717   \n",
       "155             same            5           0         -0.9393   \n",
       "3575            same            6           0         -0.8582   \n",
       "3209            same            6           0         -0.9403   \n",
       "...              ...          ...         ...             ...   \n",
       "2264            same            5           0         -0.4588   \n",
       "1763            same            5           0          0.9862   \n",
       "3347            same            5           0          0.9886   \n",
       "1589            same            6           0         -0.6655   \n",
       "1930            same            6           0          0.4404   \n",
       "\n",
       "      textblob_polarity  \n",
       "2591          -0.333333  \n",
       "2216          -0.300000  \n",
       "155           -0.233333  \n",
       "3575          -0.195606  \n",
       "3209          -0.151852  \n",
       "...                 ...  \n",
       "2264           0.280769  \n",
       "1763           0.288625  \n",
       "3347           0.311180  \n",
       "1589           0.315278  \n",
       "1930           0.372222  \n",
       "\n",
       "[3653 rows x 10 columns]"
      ]
     },
     "execution_count": 7,
     "metadata": {},
     "output_type": "execute_result"
    }
   ],
   "source": [
    "daily.sort_values('textblob_polarity',ascending=True)"
   ]
  },
  {
   "cell_type": "code",
   "execution_count": 9,
   "id": "1eaa2f9c",
   "metadata": {},
   "outputs": [],
   "source": [
    "drop_first = daily\n",
    "drop_first.dropna(inplace=True)\n"
   ]
  },
  {
   "cell_type": "code",
   "execution_count": 10,
   "id": "b0862b87",
   "metadata": {},
   "outputs": [
    {
     "name": "stderr",
     "output_type": "stream",
     "text": [
      "<ipython-input-10-d4d395e29435>:1: FutureWarning: Indexing with multiple keys (implicitly converted to a tuple of keys) will be deprecated, use a list instead.\n",
      "  drop_first.groupby('price_direction')['vader_compound','textblob_polarity'].mean().T.plot(kind='bar', stacked=False)\n"
     ]
    },
    {
     "data": {
      "image/png": "[encoded data removed]",
      "text/plain": [
       "<Figure size 432x288 with 1 Axes>"
      ]
     },
     "metadata": {
      "needs_background": "light"
     },
     "output_type": "display_data"
    }
   ],
   "source": [
    "drop_first.groupby('price_direction')['vader_compound','textblob_polarity'].mean().T.plot(kind='bar', stacked=False)\n",
    "plt.title('Average Sentiment Analyses of NYT Business Articles \\nwith S&P 500 Price Change')\n",
    "plt.xlabel('Sentiment Analyzers')\n",
    "plt.ylabel('Sentiment Score');"
   ]
  },
  {
   "cell_type": "markdown",
   "id": "380b3fea",
   "metadata": {},
   "source": [
    "### Text Cleaning\n",
    "eliminate the punctuation, URL, and @\n",
    "#source: https://monkeylearn.com/blog/text-cleaning/"
   ]
  },
  {
   "cell_type": "code",
   "execution_count": 12,
   "id": "90839bb5",
   "metadata": {},
   "outputs": [],
   "source": [
    "#Use this to remove http, punctuation, URL, and @\n",
    "daily['text'] = daily['text'].map(lambda x: re.sub(r\"(@\\[A-Za-z0-9]+)|([^0-9A-Za-z \\t])|(\\w+:\\/\\/\\S+)|^rt|http.+?\", \"\", str(x.lower())))\n",
    "\n",
    "#convert price_direction to numerical and drop first row with NA value\n",
    "daily.dropna(inplace=True)\n",
    "daily['price_direction'] = daily['price_direction'].map({'down' : -1,'same' : 0 , 'up' : 1})"
   ]
  },
  {
   "cell_type": "markdown",
   "id": "976ec4c3",
   "metadata": {},
   "source": [
    "tokenize and lemmatize\n",
    "(no longer lemmatizing, results from gridsearch showed superior accuracy without lemmatizing)"
   ]
  },
  {
   "cell_type": "code",
   "execution_count": 17,
   "id": "f839f073",
   "metadata": {},
   "outputs": [
    {
     "data": {
      "text/plain": [
       " 1    1391\n",
       "-1    1137\n",
       " 0    1124\n",
       "Name: price_direction, dtype: int64"
      ]
     },
     "execution_count": 17,
     "metadata": {},
     "output_type": "execute_result"
    }
   ],
   "source": [
    "daily['price_direction'].value_counts()"
   ]
  },
  {
   "cell_type": "code",
   "execution_count": 25,
   "id": "73e5ae2b",
   "metadata": {},
   "outputs": [],
   "source": [
    "#declaring features and target variable for tfidf. It will not take an array as the X input\n",
    "X = daily['text']\n",
    "y = daily['price_direction']"
   ]
  },
  {
   "cell_type": "code",
   "execution_count": 14,
   "id": "eeb46fd8",
   "metadata": {},
   "outputs": [
    {
     "data": {
      "text/plain": [
       "1       global concern over us debt ceiling disagreeme...\n",
       "2       deal may avert default but some ask is that go...\n",
       "3       charging a premium for movies at a cost highpr...\n",
       "4       pearls finer but still cheap flow from china c...\n",
       "5       aaa rating is a rarity in business hanging ove...\n",
       "                              ...                        \n",
       "3648    6 ways to tame airline nightmares thousands of...\n",
       "3649    like choosing a pope how succession got messy ...\n",
       "3650    now going viral meeting online friends in real...\n",
       "3651    japans economy returns to growth but virus thr...\n",
       "3652    days may be numbered for the worlds oldest ban...\n",
       "Name: text, Length: 3652, dtype: object"
      ]
     },
     "execution_count": 14,
     "metadata": {},
     "output_type": "execute_result"
    }
   ],
   "source": [
    "X"
   ]
  },
  {
   "cell_type": "markdown",
   "id": "40b83dcf",
   "metadata": {},
   "source": [
    "## Gridsearch with TFIDF and Multinomial Bayes\n"
   ]
  },
  {
   "cell_type": "code",
   "execution_count": null,
   "id": "2f4563af",
   "metadata": {},
   "outputs": [],
   "source": [
    "# TFIDF, increased to 5000 to capture more dates\n"
   ]
  },
  {
   "cell_type": "code",
   "execution_count": 16,
   "id": "6023a00d",
   "metadata": {},
   "outputs": [
    {
     "data": {
      "text/plain": [
       "Text(0, 0.5, 'Words')"
      ]
     },
     "execution_count": 16,
     "metadata": {},
     "output_type": "execute_result"
    },
    {
     "data": {
      "image/png": "[encoded data removed]",
      "text/plain": [
       "<Figure size 432x288 with 1 Axes>"
      ]
     },
     "metadata": {
      "needs_background": "light"
     },
     "output_type": "display_data"
    }
   ],
   "source": [
    "# plot top occuring words\n",
    "tvec = TfidfVectorizer(stop_words='english')\n",
    "X_train_df = pd.DataFrame(tvec.fit_transform(X_train).todense(), \n",
    "                          columns=tvec.get_feature_names())\n",
    "X_train_df.sum().sort_values(ascending=False).head(10).plot(kind='barh');\n",
    "plt.title('Top 10 Words in NYT Business Articles', fontsize=16)\n",
    "plt.xlabel('Frequency', fontsize=12)\n",
    "plt.ylabel('Words', fontsize=12)"
   ]
  },
  {
   "cell_type": "code",
   "execution_count": 18,
   "id": "0187ea69",
   "metadata": {},
   "outputs": [
    {
     "name": "stdout",
     "output_type": "stream",
     "text": [
      "CPU times: user 2 µs, sys: 0 ns, total: 2 µs\n",
      "Wall time: 5.25 µs\n"
     ]
    }
   ],
   "source": [
    "# Set up a pipeline with tf-idf vectorizer and multinomial naive bayes\n",
    "\n",
    "pipe_tvec = Pipeline([\n",
    "    ('tvec', TfidfVectorizer()),\n",
    "    ('nb', MultinomialNB() )\n",
    "])\n",
    "\n",
    "# Search over the following values of hyperparameters:\n",
    "# Maximum number of features fit: 1000, 2000, 4000\n",
    "# No stop words and english stop words\n",
    "# Check (individual tokens) and also check (individual tokens and 2-grams).\n",
    "# check alpha alternates\n",
    "\n",
    "pipe_tvec_params = {\n",
    "    'tvec__max_features': [1000, 2000, 4000],\n",
    "    'tvec__stop_words': [None, 'english'],\n",
    "    'tvec__ngram_range': [(1,1), (1,2)],\n",
    "    'nb__alpha': [1,2]\n",
    "}\n",
    "\n",
    "# Instantiate GridSearchCV.\n",
    "gs_2 = GridSearchCV(pipe_tvec, pipe_tvec_params, cv = 3)\n",
    "gs_2.fit(X_train, y_train)\n",
    "gs_2.score(X_train, y_train), gs_2.score(X_test, y_test)\n",
    "%time"
   ]
  },
  {
   "cell_type": "code",
   "execution_count": 19,
   "id": "f123fb84",
   "metadata": {},
   "outputs": [
    {
     "data": {
      "text/plain": [
       "{'nb__alpha': 1,\n",
       " 'tvec__max_features': 2000,\n",
       " 'tvec__ngram_range': (1, 2),\n",
       " 'tvec__stop_words': 'english'}"
      ]
     },
     "execution_count": 19,
     "metadata": {},
     "output_type": "execute_result"
    }
   ],
   "source": [
    "gs_2.best_params_"
   ]
  },
  {
   "cell_type": "code",
   "execution_count": 20,
   "id": "0795bcc0",
   "metadata": {},
   "outputs": [
    {
     "data": {
      "image/png": "[encoded data removed]",
      "text/plain": [
       "<Figure size 432x288 with 2 Axes>"
      ]
     },
     "metadata": {
      "needs_background": "light"
     },
     "output_type": "display_data"
    }
   ],
   "source": [
    "# Get predictions\n",
    "preds_tvec = gs_2.predict(X_test)\n",
    "# View confusion matrix\n",
    "plot_confusion_matrix(gs_2, X_test, y_test, cmap='Blues');\n"
   ]
  },
  {
   "cell_type": "code",
   "execution_count": 21,
   "id": "edb1d6b5",
   "metadata": {},
   "outputs": [
    {
     "data": {
      "text/plain": [
       "0.45673603504928806"
      ]
     },
     "execution_count": 21,
     "metadata": {},
     "output_type": "execute_result"
    }
   ],
   "source": [
    "accuracy_score(y_test, preds_tvec, sample_weight=None)"
   ]
  },
  {
   "cell_type": "markdown",
   "id": "e7e580b7",
   "metadata": {},
   "source": [
    "## Running TFIDF and Multinomial Bayes on Best Params"
   ]
  },
  {
   "cell_type": "code",
   "execution_count": 44,
   "id": "702b0d39",
   "metadata": {
    "scrolled": true
   },
   "outputs": [
    {
     "data": {
      "image/png": "[encoded data removed]",
      "text/plain": [
       "<Figure size 432x288 with 1 Axes>"
      ]
     },
     "metadata": {
      "needs_background": "light"
     },
     "output_type": "display_data"
    }
   ],
   "source": [
    "# plot top occuring words\n",
    "tvec = TfidfVectorizer(stop_words='english', max_features = 2000, ngram_range= (1,2))\n",
    "tvec_df = pd.DataFrame(tvec.fit_transform(X_train).todense(), columns=tvec.get_feature_names())\n",
    "tvec_df.sum().sort_values(ascending=False).head(10).plot(kind='barh')\n",
    "plt.title('Top 10 Words in NYT Business Articles', fontsize=16)\n",
    "plt.xlabel('Frequency', fontsize=12)\n",
    "plt.ylabel('Words', fontsize=12);"
   ]
  },
  {
   "cell_type": "code",
   "execution_count": 51,
   "id": "75095dec",
   "metadata": {
    "scrolled": true
   },
   "outputs": [
    {
     "data": {
      "text/html": [
       "<div>\n",
       "<style scoped>\n",
       "    .dataframe tbody tr th:only-of-type {\n",
       "        vertical-align: middle;\n",
       "    }\n",
       "\n",
       "    .dataframe tbody tr th {\n",
       "        vertical-align: top;\n",
       "    }\n",
       "\n",
       "    .dataframe thead th {\n",
       "        text-align: right;\n",
       "    }\n",
       "</style>\n",
       "<table border=\"1\" class=\"dataframe\">\n",
       "  <thead>\n",
       "    <tr style=\"text-align: right;\">\n",
       "      <th></th>\n",
       "      <th>Unnamed: 0</th>\n",
       "      <th>date</th>\n",
       "      <th>text</th>\n",
       "      <th>price</th>\n",
       "      <th>pct_change</th>\n",
       "      <th>price_direction</th>\n",
       "      <th>day_of_week</th>\n",
       "      <th>is_holiday</th>\n",
       "      <th>vader_compound</th>\n",
       "      <th>textblob_polarity</th>\n",
       "    </tr>\n",
       "  </thead>\n",
       "  <tbody>\n",
       "    <tr>\n",
       "      <th>1</th>\n",
       "      <td>1</td>\n",
       "      <td>2011-07-30</td>\n",
       "      <td>global concern over us debt ceiling disagreeme...</td>\n",
       "      <td>1292.28</td>\n",
       "      <td>0.0</td>\n",
       "      <td>0</td>\n",
       "      <td>5</td>\n",
       "      <td>0</td>\n",
       "      <td>0.664</td>\n",
       "      <td>0.072709</td>\n",
       "    </tr>\n",
       "  </tbody>\n",
       "</table>\n",
       "</div>"
      ],
      "text/plain": [
       "   Unnamed: 0        date                                               text  \\\n",
       "1           1  2011-07-30  global concern over us debt ceiling disagreeme...   \n",
       "\n",
       "     price  pct_change  price_direction  day_of_week  is_holiday  \\\n",
       "1  1292.28         0.0                0            5           0   \n",
       "\n",
       "   vader_compound  textblob_polarity  \n",
       "1           0.664           0.072709  "
      ]
     },
     "execution_count": 51,
     "metadata": {},
     "output_type": "execute_result"
    }
   ],
   "source": [
    "daily.head(1)"
   ]
  },
  {
   "cell_type": "code",
   "execution_count": 45,
   "id": "3c2d2e74",
   "metadata": {},
   "outputs": [
    {
     "name": "stdout",
     "output_type": "stream",
     "text": [
      "<class 'pandas.core.frame.DataFrame'>\n",
      "RangeIndex: 2921 entries, 0 to 2920\n",
      "Columns: 2000 entries, 10 to zuckerberg mark\n",
      "dtypes: float64(2000)\n",
      "memory usage: 44.6 MB\n"
     ]
    }
   ],
   "source": [
    "tvec_df.info()"
   ]
  },
  {
   "cell_type": "code",
   "execution_count": 58,
   "id": "d714b608",
   "metadata": {},
   "outputs": [
    {
     "data": {
      "text/html": [
       "<div>\n",
       "<style scoped>\n",
       "    .dataframe tbody tr th:only-of-type {\n",
       "        vertical-align: middle;\n",
       "    }\n",
       "\n",
       "    .dataframe tbody tr th {\n",
       "        vertical-align: top;\n",
       "    }\n",
       "\n",
       "    .dataframe thead th {\n",
       "        text-align: right;\n",
       "    }\n",
       "</style>\n",
       "<table border=\"1\" class=\"dataframe\">\n",
       "  <thead>\n",
       "    <tr style=\"text-align: right;\">\n",
       "      <th></th>\n",
       "      <th>10</th>\n",
       "      <th>100</th>\n",
       "      <th>11</th>\n",
       "      <th>12</th>\n",
       "      <th>13</th>\n",
       "      <th>14</th>\n",
       "      <th>15</th>\n",
       "      <th>16</th>\n",
       "      <th>18</th>\n",
       "      <th>20</th>\n",
       "      <th>...</th>\n",
       "      <th>Unnamed: 0</th>\n",
       "      <th>date</th>\n",
       "      <th>text</th>\n",
       "      <th>price</th>\n",
       "      <th>pct_change</th>\n",
       "      <th>price_direction</th>\n",
       "      <th>day_of_week</th>\n",
       "      <th>is_holiday</th>\n",
       "      <th>vader_compound</th>\n",
       "      <th>textblob_polarity</th>\n",
       "    </tr>\n",
       "  </thead>\n",
       "  <tbody>\n",
       "    <tr>\n",
       "      <th>1</th>\n",
       "      <td>0.0</td>\n",
       "      <td>0.0</td>\n",
       "      <td>0.0</td>\n",
       "      <td>0.0</td>\n",
       "      <td>0.0</td>\n",
       "      <td>0.0</td>\n",
       "      <td>0.0</td>\n",
       "      <td>0.0</td>\n",
       "      <td>0.0</td>\n",
       "      <td>0.0</td>\n",
       "      <td>...</td>\n",
       "      <td>1</td>\n",
       "      <td>2011-07-30</td>\n",
       "      <td>global concern over us debt ceiling disagreeme...</td>\n",
       "      <td>1292.28</td>\n",
       "      <td>0.0</td>\n",
       "      <td>0</td>\n",
       "      <td>5</td>\n",
       "      <td>0</td>\n",
       "      <td>0.6640</td>\n",
       "      <td>0.072709</td>\n",
       "    </tr>\n",
       "    <tr>\n",
       "      <th>2</th>\n",
       "      <td>0.0</td>\n",
       "      <td>0.0</td>\n",
       "      <td>0.0</td>\n",
       "      <td>0.0</td>\n",
       "      <td>0.0</td>\n",
       "      <td>0.0</td>\n",
       "      <td>0.0</td>\n",
       "      <td>0.0</td>\n",
       "      <td>0.0</td>\n",
       "      <td>0.0</td>\n",
       "      <td>...</td>\n",
       "      <td>2</td>\n",
       "      <td>2011-07-31</td>\n",
       "      <td>deal may avert default but some ask is that go...</td>\n",
       "      <td>1292.28</td>\n",
       "      <td>0.0</td>\n",
       "      <td>0</td>\n",
       "      <td>6</td>\n",
       "      <td>0</td>\n",
       "      <td>0.9962</td>\n",
       "      <td>0.094384</td>\n",
       "    </tr>\n",
       "  </tbody>\n",
       "</table>\n",
       "<p>2 rows × 2010 columns</p>\n",
       "</div>"
      ],
      "text/plain": [
       "    10  100   11   12   13   14   15   16   18   20  ...  Unnamed: 0  \\\n",
       "1  0.0  0.0  0.0  0.0  0.0  0.0  0.0  0.0  0.0  0.0  ...           1   \n",
       "2  0.0  0.0  0.0  0.0  0.0  0.0  0.0  0.0  0.0  0.0  ...           2   \n",
       "\n",
       "         date                                               text    price  \\\n",
       "1  2011-07-30  global concern over us debt ceiling disagreeme...  1292.28   \n",
       "2  2011-07-31  deal may avert default but some ask is that go...  1292.28   \n",
       "\n",
       "   pct_change  price_direction  day_of_week  is_holiday  vader_compound  \\\n",
       "1         0.0                0            5           0          0.6640   \n",
       "2         0.0                0            6           0          0.9962   \n",
       "\n",
       "   textblob_polarity  \n",
       "1           0.072709  \n",
       "2           0.094384  \n",
       "\n",
       "[2 rows x 2010 columns]"
      ]
     },
     "execution_count": 58,
     "metadata": {},
     "output_type": "execute_result"
    }
   ],
   "source": [
    "#merging vectorized dataframe with original dataset including sentiment analysis. More features!\n",
    "merged_df = tvec_df.join(daily, how='inner',lsuffix= '_')\n",
    "merged_df.head(2)\n"
   ]
  },
  {
   "cell_type": "code",
   "execution_count": null,
   "id": "23e5588b",
   "metadata": {},
   "outputs": [],
   "source": [
    "#setting date as index and dropping text column for modeling\n",
    "merged_df.set_index('date', inplace=True)\n",
    "merged_df.sort_index(inplace=True)\n",
    "\n",
    "merged_df.drop(columns= ['text'], inplace=True)"
   ]
  },
  {
   "cell_type": "code",
   "execution_count": 62,
   "id": "4604dda1",
   "metadata": {
    "scrolled": true
   },
   "outputs": [
    {
     "name": "stdout",
     "output_type": "stream",
     "text": [
      "<class 'pandas.core.frame.DataFrame'>\n",
      "Int64Index: 2920 entries, 1 to 2920\n",
      "Columns: 2010 entries, 10 to textblob_polarity\n",
      "dtypes: float64(2004), int64(4), object(2)\n",
      "memory usage: 44.8+ MB\n"
     ]
    }
   ],
   "source": [
    "merged_df.info()\n",
    "#anything without relevant text data was dropped, went from 3652 entries to 2920"
   ]
  },
  {
   "cell_type": "markdown",
   "id": "9dfaf2df",
   "metadata": {},
   "source": [
    "### Train Test Split"
   ]
  },
  {
   "cell_type": "code",
   "execution_count": 75,
   "id": "bb6d0d45",
   "metadata": {},
   "outputs": [],
   "source": [
    "X = merged_df.drop(columns= ['price_direction'])\n",
    "y = merged_df['price_direction']"
   ]
  },
  {
   "cell_type": "code",
   "execution_count": 76,
   "id": "094c18bf",
   "metadata": {},
   "outputs": [],
   "source": [
    "#sticking with a test size of 0.20 to save 2 years of data to test on\n",
    "X_train, X_test, y_train, y_test = train_test_split(X, y, random_state=42, shuffle=False, test_size=0.2)\n"
   ]
  },
  {
   "cell_type": "code",
   "execution_count": 79,
   "id": "8d988fc2",
   "metadata": {},
   "outputs": [],
   "source": [
    "# multinuomial bayes cannot handle negative value features, so scaling\n",
    "from sklearn.preprocessing import MinMaxScaler\n",
    "\n",
    "scaler = MinMaxScaler()\n",
    "X_train = scaler.fit_transform(X_train)\n",
    "X_test = scaler.fit_transform(X_test)"
   ]
  },
  {
   "cell_type": "code",
   "execution_count": 81,
   "id": "0c619e6e",
   "metadata": {},
   "outputs": [
    {
     "data": {
      "text/plain": [
       "(0.7303082191780822, 0.5513698630136986)"
      ]
     },
     "execution_count": 81,
     "metadata": {},
     "output_type": "execute_result"
    }
   ],
   "source": [
    "mb = MultinomialNB(alpha=1)\n",
    "mb.fit(X_train, y_train)\n",
    "\n",
    "mb.score(X_train, y_train), mb.score(X_test, y_test)"
   ]
  },
  {
   "cell_type": "code",
   "execution_count": 82,
   "id": "6faefecc",
   "metadata": {},
   "outputs": [
    {
     "data": {
      "image/png": "[encoded data removed]",
      "text/plain": [
       "<Figure size 432x288 with 2 Axes>"
      ]
     },
     "metadata": {
      "needs_background": "light"
     },
     "output_type": "display_data"
    }
   ],
   "source": [
    "# predictions\n",
    "preds = mb.predict(X_test)\n",
    "\n",
    "# View confusion matrix\n",
    "plot_confusion_matrix(mb, X_test, y_test, cmap='Blues');\n"
   ]
  },
  {
   "cell_type": "code",
   "execution_count": 84,
   "id": "1489f638",
   "metadata": {},
   "outputs": [
    {
     "data": {
      "text/plain": [
       "0.5513698630136986"
      ]
     },
     "execution_count": 84,
     "metadata": {},
     "output_type": "execute_result"
    }
   ],
   "source": [
    "accuracy_score(y_test, preds, sample_weight=None)\n",
    "#aim for best accuracy, but also reduce false positives and negatives. "
   ]
  },
  {
   "cell_type": "code",
   "execution_count": 85,
   "id": "800396b4",
   "metadata": {},
   "outputs": [
    {
     "name": "stdout",
     "output_type": "stream",
     "text": [
      "Null accuracy: 1    0.378425\n",
      "Name: price_direction, dtype: float64\n"
     ]
    }
   ],
   "source": [
    "# calculate null accuracy (for multi-class classification problems)\n",
    "# .head(1) assesses the value 1208\n",
    "null_accuracy = y_test.value_counts().head(1) / len(y_test)\n",
    "print('Null accuracy:', null_accuracy)"
   ]
  },
  {
   "cell_type": "markdown",
   "id": "1e443ae9",
   "metadata": {},
   "source": [
    "## Evaluation of Models\n",
    "\n",
    "#### With lemmatization\n",
    "\n",
    "TFIDF\n",
    "{'tvec__max_features': 4000,\n",
    " 'tvec__ngram_range': (1, 2),\n",
    " 'tvec__stop_words': None}\n",
    " \n",
    " {'tvec__max_features': 2000,\n",
    " 'tvec__ngram_range': (1, 2),\n",
    " 'tvec__stop_words': None,\n",
    " 'tvec__sublinear_tf': True}\n",
    " \n",
    "CVEC\n",
    " {'cvec__max_df': 0.9,\n",
    " 'cvec__max_features': 4000,\n",
    " 'cvec__min_df': 3,\n",
    " 'cvec__ngram_range': (1, 2)}\n",
    " \n",
    "accuracy score with TFIDF and multinomial bayes:  52.4%\n",
    "accuracy score with CVEC and multinomial bayes: 44.2%\n",
    " \n",
    " \n",
    " \n",
    " \n",
    "#### Non-lemmatized\n",
    " \n",
    " \n",
    " \n",
    " {'tvec__max_features': 2000,\n",
    " 'tvec__ngram_range': (1, 2),\n",
    " 'tvec__stop_words': None,\n",
    " 'tvec__sublinear_tf': True}\n",
    "accuracy score with TFIDF and multinomial bayes:  52.13%\n",
    "\n",
    "\n",
    "{'nb__alpha': 1,\n",
    " 'tvec__max_features': 1000,\n",
    " 'tvec__ngram_range': (1, 1),\n",
    " 'tvec__sublinear_tf': True}\n",
    " \n",
    "accuracy score with TFIDF and multinomial bayes:  54.22%\n",
    "\n",
    "{'nb__alpha': 1,\n",
    " 'tvec__max_features': 1000,\n",
    " 'tvec__ngram_range': (1, 2),\n",
    " 'tvec__stop_words': 'english',\n",
    " 'tvec__sublinear_tf': True}\n",
    " accuracy score with TFIDF and multinomial bayes:  47.10%\n",
    " \n",
    " \n",
    " {'nb__alpha': 1,\n",
    " 'tvec__max_features': 2000,\n",
    " 'tvec__ngram_range': (1, 2),\n",
    " 'tvec__stop_words': 'english'}\n",
    " \n",
    " accuracy score with TFIDF and multinomial bayes:  45.67%\n",
    "\n",
    "\n",
    "\n",
    "models with sublinear_tf were removing/transforming the data of down days and altering predictions. those models will not be used."
   ]
  },
  {
   "cell_type": "code",
   "execution_count": null,
   "id": "9adee779",
   "metadata": {},
   "outputs": [],
   "source": []
  }
 ],
 "metadata": {
  "kernelspec": {
   "display_name": "Python 3",
   "language": "python",
   "name": "python3"
  },
  "language_info": {
   "codemirror_mode": {
    "name": "ipython",
    "version": 3
   },
   "file_extension": ".py",
   "mimetype": "text/x-python",
   "name": "python",
   "nbconvert_exporter": "python",
   "pygments_lexer": "ipython3",
   "version": "3.8.8"
  }
 },
 "nbformat": 4,
 "nbformat_minor": 5
}
