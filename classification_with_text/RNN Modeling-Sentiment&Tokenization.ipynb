{
 "cells": [
  {
   "cell_type": "code",
   "execution_count": 1,
   "id": "048c6368",
   "metadata": {},
   "outputs": [],
   "source": [
    "import numpy as np\n",
    "import pandas as pd \n",
    "import datetime\n",
    "\n",
    "# imports\n",
    "import matplotlib.pyplot as plt\n",
    "import seaborn as sns\n",
    "from sklearn.model_selection import train_test_split, GridSearchCV\n",
    "from sklearn.pipeline import Pipeline\n",
    "from sklearn.naive_bayes import MultinomialNB\n",
    "# from sklearn.linear_model import LogisticRegression\n",
    "from sklearn.metrics import confusion_matrix, plot_confusion_matrix, accuracy_score\n",
    "from sklearn.neighbors import KNeighborsClassifier\n",
    "\n",
    "# Import TFIDFVectorizer\n",
    "from sklearn.feature_extraction.text import CountVectorizer, TfidfVectorizer\n",
    "from sklearn.feature_extraction import text \n",
    "\n",
    "#tokenizers\n",
    "from nltk.tokenize import sent_tokenize, word_tokenize, RegexpTokenizer\n",
    "from nltk.stem import WordNetLemmatizer\n",
    "from nltk.corpus import stopwords\n",
    "from nltk.sentiment.vader import SentimentIntensityAnalyzer\n",
    "import re\n",
    "\n",
    "#neural network RNN\n",
    "from sklearn.preprocessing import StandardScaler\n",
    "from tensorflow.keras.models import Sequential\n",
    "from tensorflow.keras.layers import Dense, Dropout, GRU, BatchNormalization, LSTM\n",
    "from tensorflow.keras.optimizers import Adam\n",
    "from tensorflow.keras.utils import to_categorical\n",
    "from tensorflow.keras.preprocessing.sequence import TimeseriesGenerator\n",
    "from tensorflow.keras.callbacks import EarlyStopping\n",
    "\n"
   ]
  },
  {
   "cell_type": "markdown",
   "id": "b27b3f6f",
   "metadata": {},
   "source": [
    "#### Merging dataframes "
   ]
  },
  {
   "cell_type": "code",
   "execution_count": 2,
   "id": "962b01f6",
   "metadata": {},
   "outputs": [
    {
     "data": {
      "text/html": [
       "<div>\n",
       "<style scoped>\n",
       "    .dataframe tbody tr th:only-of-type {\n",
       "        vertical-align: middle;\n",
       "    }\n",
       "\n",
       "    .dataframe tbody tr th {\n",
       "        vertical-align: top;\n",
       "    }\n",
       "\n",
       "    .dataframe thead th {\n",
       "        text-align: right;\n",
       "    }\n",
       "</style>\n",
       "<table border=\"1\" class=\"dataframe\">\n",
       "  <thead>\n",
       "    <tr style=\"text-align: right;\">\n",
       "      <th></th>\n",
       "      <th>date</th>\n",
       "      <th>text</th>\n",
       "      <th>day_of_week</th>\n",
       "      <th>is_holiday</th>\n",
       "      <th>Open</th>\n",
       "      <th>Close</th>\n",
       "      <th>Volume</th>\n",
       "    </tr>\n",
       "  </thead>\n",
       "  <tbody>\n",
       "    <tr>\n",
       "      <th>0</th>\n",
       "      <td>2011-07-29</td>\n",
       "      <td>Drug App Comes Free, Ads Included. Epocrates h...</td>\n",
       "      <td>4</td>\n",
       "      <td>0</td>\n",
       "      <td>1300.119995</td>\n",
       "      <td>1292.280029</td>\n",
       "      <td>5.061190e+09</td>\n",
       "    </tr>\n",
       "  </tbody>\n",
       "</table>\n",
       "</div>"
      ],
      "text/plain": [
       "         date                                               text  day_of_week  \\\n",
       "0  2011-07-29  Drug App Comes Free, Ads Included. Epocrates h...            4   \n",
       "\n",
       "   is_holiday         Open        Close        Volume  \n",
       "0           0  1300.119995  1292.280029  5.061190e+09  "
      ]
     },
     "execution_count": 2,
     "metadata": {},
     "output_type": "execute_result"
    }
   ],
   "source": [
    "daily2 = pd.read_csv('/Users/plarkin/Documents/GA/projects/p5/tanveer/Data/oc_daily.csv')\n",
    "daily2.head(1)\n"
   ]
  },
  {
   "cell_type": "code",
   "execution_count": 3,
   "id": "30ed3c9b",
   "metadata": {},
   "outputs": [
    {
     "data": {
      "text/html": [
       "<div>\n",
       "<style scoped>\n",
       "    .dataframe tbody tr th:only-of-type {\n",
       "        vertical-align: middle;\n",
       "    }\n",
       "\n",
       "    .dataframe tbody tr th {\n",
       "        vertical-align: top;\n",
       "    }\n",
       "\n",
       "    .dataframe thead th {\n",
       "        text-align: right;\n",
       "    }\n",
       "</style>\n",
       "<table border=\"1\" class=\"dataframe\">\n",
       "  <thead>\n",
       "    <tr style=\"text-align: right;\">\n",
       "      <th></th>\n",
       "      <th>date</th>\n",
       "      <th>day_of_week_1</th>\n",
       "      <th>day_of_week_2</th>\n",
       "      <th>day_of_week_3</th>\n",
       "      <th>day_of_week_4</th>\n",
       "      <th>day_of_week_5</th>\n",
       "      <th>day_of_week_6</th>\n",
       "      <th>is_holiday_1</th>\n",
       "      <th>Open_pct</th>\n",
       "      <th>Close_pct</th>\n",
       "      <th>Volume_diff</th>\n",
       "      <th>Open_pct_l1</th>\n",
       "      <th>Close_pct_l1</th>\n",
       "      <th>Volume_diff_l1</th>\n",
       "      <th>direction</th>\n",
       "    </tr>\n",
       "  </thead>\n",
       "  <tbody>\n",
       "    <tr>\n",
       "      <th>0</th>\n",
       "      <td>2011-07-31</td>\n",
       "      <td>0</td>\n",
       "      <td>0</td>\n",
       "      <td>0</td>\n",
       "      <td>0</td>\n",
       "      <td>0</td>\n",
       "      <td>1</td>\n",
       "      <td>0</td>\n",
       "      <td>0.0</td>\n",
       "      <td>0.0</td>\n",
       "      <td>0.0</td>\n",
       "      <td>-0.00603</td>\n",
       "      <td>0.0</td>\n",
       "      <td>-5.061190e+09</td>\n",
       "      <td>same</td>\n",
       "    </tr>\n",
       "  </tbody>\n",
       "</table>\n",
       "</div>"
      ],
      "text/plain": [
       "         date  day_of_week_1  day_of_week_2  day_of_week_3  day_of_week_4  \\\n",
       "0  2011-07-31              0              0              0              0   \n",
       "\n",
       "   day_of_week_5  day_of_week_6  is_holiday_1  Open_pct  Close_pct  \\\n",
       "0              0              1             0       0.0        0.0   \n",
       "\n",
       "   Volume_diff  Open_pct_l1  Close_pct_l1  Volume_diff_l1 direction  \n",
       "0          0.0     -0.00603           0.0   -5.061190e+09      same  "
      ]
     },
     "execution_count": 3,
     "metadata": {},
     "output_type": "execute_result"
    }
   ],
   "source": [
    "# to load file \n",
    "daily = pd.read_csv('/Users/plarkin/Documents/GA/projects/p5/tanveer/clean_daily_oc.csv')\n",
    "daily.head(1)"
   ]
  },
  {
   "cell_type": "code",
   "execution_count": 4,
   "id": "357d440e",
   "metadata": {},
   "outputs": [
    {
     "data": {
      "text/plain": [
       "((3651, 15), (3653, 7))"
      ]
     },
     "execution_count": 4,
     "metadata": {},
     "output_type": "execute_result"
    }
   ],
   "source": [
    "daily.shape,daily2.shape"
   ]
  },
  {
   "cell_type": "code",
   "execution_count": 5,
   "id": "bc1d4924",
   "metadata": {},
   "outputs": [
    {
     "data": {
      "text/html": [
       "<div>\n",
       "<style scoped>\n",
       "    .dataframe tbody tr th:only-of-type {\n",
       "        vertical-align: middle;\n",
       "    }\n",
       "\n",
       "    .dataframe tbody tr th {\n",
       "        vertical-align: top;\n",
       "    }\n",
       "\n",
       "    .dataframe thead th {\n",
       "        text-align: right;\n",
       "    }\n",
       "</style>\n",
       "<table border=\"1\" class=\"dataframe\">\n",
       "  <thead>\n",
       "    <tr style=\"text-align: right;\">\n",
       "      <th></th>\n",
       "      <th>date_</th>\n",
       "      <th>day_of_week_1</th>\n",
       "      <th>day_of_week_2</th>\n",
       "      <th>day_of_week_3</th>\n",
       "      <th>day_of_week_4</th>\n",
       "      <th>day_of_week_5</th>\n",
       "      <th>day_of_week_6</th>\n",
       "      <th>is_holiday_1</th>\n",
       "      <th>Open_pct</th>\n",
       "      <th>Close_pct</th>\n",
       "      <th>...</th>\n",
       "      <th>Close_pct_l1</th>\n",
       "      <th>Volume_diff_l1</th>\n",
       "      <th>direction</th>\n",
       "      <th>date</th>\n",
       "      <th>text</th>\n",
       "      <th>day_of_week</th>\n",
       "      <th>is_holiday</th>\n",
       "      <th>Open</th>\n",
       "      <th>Close</th>\n",
       "      <th>Volume</th>\n",
       "    </tr>\n",
       "  </thead>\n",
       "  <tbody>\n",
       "    <tr>\n",
       "      <th>0</th>\n",
       "      <td>2011-07-31</td>\n",
       "      <td>0</td>\n",
       "      <td>0</td>\n",
       "      <td>0</td>\n",
       "      <td>0</td>\n",
       "      <td>0</td>\n",
       "      <td>1</td>\n",
       "      <td>0</td>\n",
       "      <td>0.0</td>\n",
       "      <td>0.0</td>\n",
       "      <td>...</td>\n",
       "      <td>0.0</td>\n",
       "      <td>-5.061190e+09</td>\n",
       "      <td>same</td>\n",
       "      <td>2011-07-29</td>\n",
       "      <td>Drug App Comes Free, Ads Included. Epocrates h...</td>\n",
       "      <td>4</td>\n",
       "      <td>0</td>\n",
       "      <td>1300.119995</td>\n",
       "      <td>1292.280029</td>\n",
       "      <td>5.061190e+09</td>\n",
       "    </tr>\n",
       "  </tbody>\n",
       "</table>\n",
       "<p>1 rows × 22 columns</p>\n",
       "</div>"
      ],
      "text/plain": [
       "        date_  day_of_week_1  day_of_week_2  day_of_week_3  day_of_week_4  \\\n",
       "0  2011-07-31              0              0              0              0   \n",
       "\n",
       "   day_of_week_5  day_of_week_6  is_holiday_1  Open_pct  Close_pct  ...  \\\n",
       "0              0              1             0       0.0        0.0  ...   \n",
       "\n",
       "   Close_pct_l1  Volume_diff_l1  direction        date  \\\n",
       "0           0.0   -5.061190e+09       same  2011-07-29   \n",
       "\n",
       "                                                text day_of_week is_holiday  \\\n",
       "0  Drug App Comes Free, Ads Included. Epocrates h...           4          0   \n",
       "\n",
       "          Open        Close        Volume  \n",
       "0  1300.119995  1292.280029  5.061190e+09  \n",
       "\n",
       "[1 rows x 22 columns]"
      ]
     },
     "execution_count": 5,
     "metadata": {},
     "output_type": "execute_result"
    }
   ],
   "source": [
    "daily = daily.join(daily2, how ='inner',lsuffix = '_')\n",
    "daily.head(1)"
   ]
  },
  {
   "cell_type": "code",
   "execution_count": 6,
   "id": "bf90a101",
   "metadata": {},
   "outputs": [
    {
     "data": {
      "text/plain": [
       "Index(['date_', 'day_of_week_1', 'day_of_week_2', 'day_of_week_3',\n",
       "       'day_of_week_4', 'day_of_week_5', 'day_of_week_6', 'is_holiday_1',\n",
       "       'Open_pct', 'Close_pct', 'Volume_diff', 'Open_pct_l1', 'Close_pct_l1',\n",
       "       'Volume_diff_l1', 'direction', 'date', 'text', 'day_of_week',\n",
       "       'is_holiday', 'Open', 'Close', 'Volume'],\n",
       "      dtype='object')"
      ]
     },
     "execution_count": 6,
     "metadata": {},
     "output_type": "execute_result"
    }
   ],
   "source": [
    "daily.columns"
   ]
  },
  {
   "cell_type": "markdown",
   "id": "2ac7256f",
   "metadata": {},
   "source": [
    "## Sentiment Analysis"
   ]
  },
  {
   "cell_type": "markdown",
   "id": "9a34f2fa",
   "metadata": {},
   "source": [
    "#### Vader Sentiment Analysis\n",
    "\n",
    "#### Textblob Sentiment Analysis\n",
    "source : https://neptune.ai/blog/sentiment-analysis-python-textblob-vs-vader-vs-flair\n",
    "\n",
    "https://textblob.readthedocs.io/en/dev/"
   ]
  },
  {
   "cell_type": "code",
   "execution_count": 7,
   "id": "bbcbe783",
   "metadata": {},
   "outputs": [
    {
     "name": "stdout",
     "output_type": "stream",
     "text": [
      "CPU times: user 2 µs, sys: 1 µs, total: 3 µs\n",
      "Wall time: 4.05 µs\n",
      "CPU times: user 2 µs, sys: 1 µs, total: 3 µs\n",
      "Wall time: 4.05 µs\n"
     ]
    }
   ],
   "source": [
    "#Adding in Sentiment analysis with designated columns for each output (pos, neg, neu, compound)\n",
    "analyzer = SentimentIntensityAnalyzer()\n",
    "\n",
    "#daily['vader'] = daily['text'].map(lambda x:analyzer.polarity_scores(str(x)))\n",
    "\n",
    "\n",
    "daily['vader_compound'] = [analyzer.polarity_scores(x)['compound'] for x in daily['text']]\n",
    "# draft_df['vd_neg'] = [analyzer.polarity_scores(x)['neg'] for x in draft_df['alltext']]\n",
    "# draft_df['vd_neu'] = [analyzer.polarity_scores(x)['neu'] for x in draft_df['alltext']]\n",
    "# draft_df['vd_pos'] = [analyzer.polarity_scores(x)['pos'] for x in draft_df['alltext']]\n",
    "\n",
    "%time\n",
    "\n",
    "from textblob import TextBlob\n",
    "#testimonial = TextBlob()\n",
    "#draft_df['tb_polarity'] = [testimonial.polarity(x)['polarity'] for x in draft_df['alltext']]\n",
    "#draft_df['tb_subj'] = [testimonial.sentiment(x)['subjectivity'] for x in draft_df['alltext']]\n",
    "daily['textblob_polarity'] = daily['text'].map(lambda words: TextBlob(str(words)).polarity) #polarity is more applicable and comparable to vader compound. subjectivity is more about opinion vs fact \n",
    "\n",
    "%time"
   ]
  },
  {
   "cell_type": "markdown",
   "id": "380b3fea",
   "metadata": {},
   "source": [
    "### Text Cleaning\n",
    "eliminate the punctuation, URL, and @\n",
    "#source: https://monkeylearn.com/blog/text-cleaning/"
   ]
  },
  {
   "cell_type": "code",
   "execution_count": 9,
   "id": "90839bb5",
   "metadata": {},
   "outputs": [],
   "source": [
    "#Use this to remove http, punctuation, URL, and @\n",
    "daily['text'] = daily['text'].map(lambda x: re.sub(r\"(@\\[A-Za-z0-9]+)|([^0-9A-Za-z \\t])|(\\w+:\\/\\/\\S+)|^rt|http.+?\", \"\", str(x.lower())))\n",
    "#convert price_direction to numerical and drop first row with NA value\n",
    "daily.dropna(inplace=True)\n",
    "daily['direction'] = daily['direction'].map({'down' : -1,'same' : 0 , 'up' : 1})"
   ]
  },
  {
   "cell_type": "markdown",
   "id": "976ec4c3",
   "metadata": {},
   "source": [
    "tokenize and lemmatize\n",
    "(no longer lemmatizing, results from gridsearch showed superior accuracy without lemmatizing)"
   ]
  },
  {
   "cell_type": "markdown",
   "id": "e7e580b7",
   "metadata": {},
   "source": [
    "## RNN with TFIDF"
   ]
  },
  {
   "cell_type": "code",
   "execution_count": 11,
   "id": "9761a5cd",
   "metadata": {},
   "outputs": [],
   "source": [
    "#declaring features and target variable for tfidf. It will not take an array as the X input\n",
    "the_text = daily['text']\n",
    "\n",
    "# TFIDF, increased to 5000 to capture more dates\n",
    "rnn_tvec = TfidfVectorizer(stop_words='english', max_features = 2000, ngram_range= (1,2))\n",
    "rnn_tvec_df = pd.DataFrame(rnn_tvec.fit_transform(the_text).todense(), columns=rnn_tvec.get_feature_names())\n"
   ]
  },
  {
   "cell_type": "code",
   "execution_count": 12,
   "id": "5cb482d9",
   "metadata": {
    "scrolled": false
   },
   "outputs": [
    {
     "data": {
      "text/html": [
       "<div>\n",
       "<style scoped>\n",
       "    .dataframe tbody tr th:only-of-type {\n",
       "        vertical-align: middle;\n",
       "    }\n",
       "\n",
       "    .dataframe tbody tr th {\n",
       "        vertical-align: top;\n",
       "    }\n",
       "\n",
       "    .dataframe thead th {\n",
       "        text-align: right;\n",
       "    }\n",
       "</style>\n",
       "<table border=\"1\" class=\"dataframe\">\n",
       "  <thead>\n",
       "    <tr style=\"text-align: right;\">\n",
       "      <th></th>\n",
       "      <th>date_</th>\n",
       "      <th>day_of_week_1</th>\n",
       "      <th>day_of_week_2</th>\n",
       "      <th>day_of_week_3</th>\n",
       "      <th>day_of_week_4</th>\n",
       "      <th>day_of_week_5</th>\n",
       "      <th>day_of_week_6</th>\n",
       "      <th>is_holiday_1</th>\n",
       "      <th>Open_pct</th>\n",
       "      <th>Close_pct</th>\n",
       "      <th>...</th>\n",
       "      <th>direction</th>\n",
       "      <th>date</th>\n",
       "      <th>text</th>\n",
       "      <th>day_of_week</th>\n",
       "      <th>is_holiday</th>\n",
       "      <th>Open</th>\n",
       "      <th>Close</th>\n",
       "      <th>Volume</th>\n",
       "      <th>vader_compound</th>\n",
       "      <th>textblob_polarity</th>\n",
       "    </tr>\n",
       "  </thead>\n",
       "  <tbody>\n",
       "    <tr>\n",
       "      <th>0</th>\n",
       "      <td>2011-07-31</td>\n",
       "      <td>0</td>\n",
       "      <td>0</td>\n",
       "      <td>0</td>\n",
       "      <td>0</td>\n",
       "      <td>0</td>\n",
       "      <td>1</td>\n",
       "      <td>0</td>\n",
       "      <td>0.0</td>\n",
       "      <td>0.0</td>\n",
       "      <td>...</td>\n",
       "      <td>0</td>\n",
       "      <td>2011-07-29</td>\n",
       "      <td>drug app comes free ads included epocrates has...</td>\n",
       "      <td>4</td>\n",
       "      <td>0</td>\n",
       "      <td>1300.119995</td>\n",
       "      <td>1292.280029</td>\n",
       "      <td>5.061190e+09</td>\n",
       "      <td>0.9591</td>\n",
       "      <td>0.056552</td>\n",
       "    </tr>\n",
       "  </tbody>\n",
       "</table>\n",
       "<p>1 rows × 24 columns</p>\n",
       "</div>"
      ],
      "text/plain": [
       "        date_  day_of_week_1  day_of_week_2  day_of_week_3  day_of_week_4  \\\n",
       "0  2011-07-31              0              0              0              0   \n",
       "\n",
       "   day_of_week_5  day_of_week_6  is_holiday_1  Open_pct  Close_pct  ...  \\\n",
       "0              0              1             0       0.0        0.0  ...   \n",
       "\n",
       "   direction        date                                               text  \\\n",
       "0          0  2011-07-29  drug app comes free ads included epocrates has...   \n",
       "\n",
       "   day_of_week  is_holiday         Open        Close        Volume  \\\n",
       "0            4           0  1300.119995  1292.280029  5.061190e+09   \n",
       "\n",
       "   vader_compound  textblob_polarity  \n",
       "0          0.9591           0.056552  \n",
       "\n",
       "[1 rows x 24 columns]"
      ]
     },
     "execution_count": 12,
     "metadata": {},
     "output_type": "execute_result"
    }
   ],
   "source": [
    "daily.head(1)"
   ]
  },
  {
   "cell_type": "code",
   "execution_count": 13,
   "id": "8a1c110c",
   "metadata": {},
   "outputs": [
    {
     "name": "stdout",
     "output_type": "stream",
     "text": [
      "<class 'pandas.core.frame.DataFrame'>\n",
      "RangeIndex: 3651 entries, 0 to 3650\n",
      "Columns: 2000 entries, 10 to zuckerberg mark\n",
      "dtypes: float64(2000)\n",
      "memory usage: 55.7 MB\n"
     ]
    }
   ],
   "source": [
    "rnn_tvec_df.info()"
   ]
  },
  {
   "cell_type": "code",
   "execution_count": 14,
   "id": "d714b608",
   "metadata": {},
   "outputs": [
    {
     "data": {
      "text/html": [
       "<div>\n",
       "<style scoped>\n",
       "    .dataframe tbody tr th:only-of-type {\n",
       "        vertical-align: middle;\n",
       "    }\n",
       "\n",
       "    .dataframe tbody tr th {\n",
       "        vertical-align: top;\n",
       "    }\n",
       "\n",
       "    .dataframe thead th {\n",
       "        text-align: right;\n",
       "    }\n",
       "</style>\n",
       "<table border=\"1\" class=\"dataframe\">\n",
       "  <thead>\n",
       "    <tr style=\"text-align: right;\">\n",
       "      <th></th>\n",
       "      <th>10</th>\n",
       "      <th>100</th>\n",
       "      <th>11</th>\n",
       "      <th>12</th>\n",
       "      <th>13</th>\n",
       "      <th>14</th>\n",
       "      <th>15</th>\n",
       "      <th>16</th>\n",
       "      <th>18</th>\n",
       "      <th>20</th>\n",
       "      <th>...</th>\n",
       "      <th>direction</th>\n",
       "      <th>date</th>\n",
       "      <th>text</th>\n",
       "      <th>day_of_week</th>\n",
       "      <th>is_holiday</th>\n",
       "      <th>Open</th>\n",
       "      <th>Close</th>\n",
       "      <th>Volume</th>\n",
       "      <th>vader_compound</th>\n",
       "      <th>textblob_polarity</th>\n",
       "    </tr>\n",
       "  </thead>\n",
       "  <tbody>\n",
       "    <tr>\n",
       "      <th>0</th>\n",
       "      <td>0.0</td>\n",
       "      <td>0.0</td>\n",
       "      <td>0.025245</td>\n",
       "      <td>0.0</td>\n",
       "      <td>0.05583</td>\n",
       "      <td>0.0</td>\n",
       "      <td>0.0</td>\n",
       "      <td>0.0</td>\n",
       "      <td>0.0</td>\n",
       "      <td>0.0</td>\n",
       "      <td>...</td>\n",
       "      <td>0</td>\n",
       "      <td>2011-07-29</td>\n",
       "      <td>drug app comes free ads included epocrates has...</td>\n",
       "      <td>4</td>\n",
       "      <td>0</td>\n",
       "      <td>1300.119995</td>\n",
       "      <td>1292.280029</td>\n",
       "      <td>5.061190e+09</td>\n",
       "      <td>0.9591</td>\n",
       "      <td>0.056552</td>\n",
       "    </tr>\n",
       "    <tr>\n",
       "      <th>1</th>\n",
       "      <td>0.0</td>\n",
       "      <td>0.0</td>\n",
       "      <td>0.000000</td>\n",
       "      <td>0.0</td>\n",
       "      <td>0.00000</td>\n",
       "      <td>0.0</td>\n",
       "      <td>0.0</td>\n",
       "      <td>0.0</td>\n",
       "      <td>0.0</td>\n",
       "      <td>0.0</td>\n",
       "      <td>...</td>\n",
       "      <td>1</td>\n",
       "      <td>2011-07-30</td>\n",
       "      <td>global concern over us debt ceiling disagreeme...</td>\n",
       "      <td>5</td>\n",
       "      <td>0</td>\n",
       "      <td>1292.280029</td>\n",
       "      <td>1292.280029</td>\n",
       "      <td>0.000000e+00</td>\n",
       "      <td>0.6640</td>\n",
       "      <td>0.072709</td>\n",
       "    </tr>\n",
       "  </tbody>\n",
       "</table>\n",
       "<p>2 rows × 2024 columns</p>\n",
       "</div>"
      ],
      "text/plain": [
       "    10  100        11   12       13   14   15   16   18   20  ...  direction  \\\n",
       "0  0.0  0.0  0.025245  0.0  0.05583  0.0  0.0  0.0  0.0  0.0  ...          0   \n",
       "1  0.0  0.0  0.000000  0.0  0.00000  0.0  0.0  0.0  0.0  0.0  ...          1   \n",
       "\n",
       "         date                                               text  day_of_week  \\\n",
       "0  2011-07-29  drug app comes free ads included epocrates has...            4   \n",
       "1  2011-07-30  global concern over us debt ceiling disagreeme...            5   \n",
       "\n",
       "   is_holiday         Open        Close        Volume  vader_compound  \\\n",
       "0           0  1300.119995  1292.280029  5.061190e+09          0.9591   \n",
       "1           0  1292.280029  1292.280029  0.000000e+00          0.6640   \n",
       "\n",
       "   textblob_polarity  \n",
       "0           0.056552  \n",
       "1           0.072709  \n",
       "\n",
       "[2 rows x 2024 columns]"
      ]
     },
     "execution_count": 14,
     "metadata": {},
     "output_type": "execute_result"
    }
   ],
   "source": [
    "#merging vectorized dataframe with original dataset including sentiment analysis. More features!\n",
    "merged_df = rnn_tvec_df.join(daily, how ='inner',lsuffix = '_')\n",
    "merged_df.head(2)\n"
   ]
  },
  {
   "cell_type": "code",
   "execution_count": 15,
   "id": "14bf0b63",
   "metadata": {
    "scrolled": true
   },
   "outputs": [],
   "source": [
    "#setting date as index and dropping text column for modeling\n",
    "merged_df.set_index('date', inplace=True)\n",
    "merged_df.sort_index(inplace=True)\n",
    "merged_df.drop(columns= ['text', 'day_of_week','date_'], inplace=True)\n"
   ]
  },
  {
   "cell_type": "markdown",
   "id": "7bae4a7a",
   "metadata": {},
   "source": [
    "### Train Test Split"
   ]
  },
  {
   "cell_type": "code",
   "execution_count": 16,
   "id": "6c959e3e",
   "metadata": {},
   "outputs": [],
   "source": [
    "X= merged_df.drop(columns=['Open_pct','Close_pct','Volume_diff','direction'])\n",
    "y=merged_df['direction']\n",
    "\n",
    "# X = merged_df.drop(columns= ['price_direction'])\n",
    "# y = merged_df[['price_direction']].values\n",
    "# yy = merged_df['price_direction']\n"
   ]
  },
  {
   "cell_type": "code",
   "execution_count": 17,
   "id": "2f844f0b",
   "metadata": {},
   "outputs": [
    {
     "ename": "NameError",
     "evalue": "name 'yy' is not defined",
     "output_type": "error",
     "traceback": [
      "\u001b[0;31m---------------------------------------------------------------------------\u001b[0m",
      "\u001b[0;31mNameError\u001b[0m                                 Traceback (most recent call last)",
      "\u001b[0;32m<ipython-input-17-770ce51cd4e3>\u001b[0m in \u001b[0;36m<module>\u001b[0;34m\u001b[0m\n\u001b[0;32m----> 1\u001b[0;31m \u001b[0myy\u001b[0m\u001b[0;34m.\u001b[0m\u001b[0mvalue_counts\u001b[0m\u001b[0;34m(\u001b[0m\u001b[0mnormalize\u001b[0m\u001b[0;34m=\u001b[0m\u001b[0;32mTrue\u001b[0m\u001b[0;34m)\u001b[0m\u001b[0;34m\u001b[0m\u001b[0;34m\u001b[0m\u001b[0m\n\u001b[0m",
      "\u001b[0;31mNameError\u001b[0m: name 'yy' is not defined"
     ]
    }
   ],
   "source": [
    "yy.value_counts(normalize=True)"
   ]
  },
  {
   "cell_type": "code",
   "execution_count": 18,
   "id": "40132c9e",
   "metadata": {},
   "outputs": [],
   "source": [
    "#sticking with a test size of 0.20 to save 2 years of data to test on\n",
    "X_train, X_test, y_train, y_test = train_test_split(X, y, random_state=42, shuffle=False, test_size=0.2)\n"
   ]
  },
  {
   "cell_type": "code",
   "execution_count": 19,
   "id": "80a8da27",
   "metadata": {},
   "outputs": [],
   "source": [
    "#need to one hot encode multiclass target in order to process in nn\n",
    "y_train = to_categorical(y_train, 3)\n",
    "y_test = to_categorical(y_test, 3)\n",
    "\n",
    "#source https://stackoverflow.com/questions/61550026/valueerror-shapes-none-1-and-none-3-are-incompatible"
   ]
  },
  {
   "cell_type": "code",
   "execution_count": 20,
   "id": "f99a700b",
   "metadata": {},
   "outputs": [],
   "source": [
    "# Scale for neural networks\n",
    "ss = StandardScaler()\n",
    "\n",
    "Xs_train = ss.fit_transform(X_train)\n",
    "Xs_test = ss.transform(X_test)"
   ]
  },
  {
   "cell_type": "code",
   "execution_count": 21,
   "id": "08ba85e7",
   "metadata": {},
   "outputs": [],
   "source": [
    "# the length parameter dictates how many rows will constitute a sample\n",
    "train_sequences = TimeseriesGenerator(Xs_train, y_train, length=90, batch_size=268) #increased batch sizes from 64 to 268\n",
    "# test sequences\n",
    "test_sequences = TimeseriesGenerator(Xs_test, y_test, length=90, batch_size=268)"
   ]
  },
  {
   "cell_type": "code",
   "execution_count": 22,
   "id": "657af9b1",
   "metadata": {},
   "outputs": [
    {
     "data": {
      "text/plain": [
       "(268, 90, 2016)"
      ]
     },
     "execution_count": 22,
     "metadata": {},
     "output_type": "execute_result"
    }
   ],
   "source": [
    "train_sequences[0][0].shape"
   ]
  },
  {
   "cell_type": "code",
   "execution_count": 23,
   "id": "c3f453f4",
   "metadata": {},
   "outputs": [
    {
     "data": {
      "text/plain": [
       "(90, 2016)"
      ]
     },
     "execution_count": 23,
     "metadata": {},
     "output_type": "execute_result"
    }
   ],
   "source": [
    "input_shape = train_sequences[0][0][0].shape\n",
    "input_shape"
   ]
  },
  {
   "cell_type": "markdown",
   "id": "17971ffe",
   "metadata": {},
   "source": [
    "# RNN \n",
    "https://towardsdatascience.com/multi-class-text-classification-with-lstm-1590bee1bd17"
   ]
  },
  {
   "cell_type": "code",
   "execution_count": 39,
   "id": "94da119c",
   "metadata": {},
   "outputs": [
    {
     "name": "stdout",
     "output_type": "stream",
     "text": [
      "Model: \"sequential_6\"\n",
      "_________________________________________________________________\n",
      "Layer (type)                 Output Shape              Param #   \n",
      "=================================================================\n",
      "gru_11 (GRU)                 (None, 90, 8)             48624     \n",
      "_________________________________________________________________\n",
      "gru_12 (GRU)                 (None, 90, 8)             432       \n",
      "_________________________________________________________________\n",
      "gru_13 (GRU)                 (None, 8)                 432       \n",
      "_________________________________________________________________\n",
      "dense_16 (Dense)             (None, 10)                90        \n",
      "_________________________________________________________________\n",
      "dense_17 (Dense)             (None, 10)                110       \n",
      "_________________________________________________________________\n",
      "dense_18 (Dense)             (None, 3)                 33        \n",
      "=================================================================\n",
      "Total params: 49,721\n",
      "Trainable params: 49,721\n",
      "Non-trainable params: 0\n",
      "_________________________________________________________________\n"
     ]
    }
   ],
   "source": [
    "# model network \n",
    "\n",
    "rnn3 = Sequential()\n",
    "\n",
    "rnn3.add(GRU(8,input_shape=input_shape, return_sequences=True))\n",
    "rnn3.add(GRU(8,return_sequences=True))\n",
    "rnn3.add(GRU(8,return_sequences=False)) # false if next layer dense\n",
    "\n",
    "rnn3.add(Dense(10,activation='relu'))\n",
    "model.add(Dropout(0.2)) #added to help regularize model\n",
    "rnn3.add(Dense(10,activation='relu'))\n",
    "model.add(Dropout(0.2)) #added to help regularize model\n",
    "\n",
    "\n",
    "rnn3.add(Dense(3,activation='softmax'))\n",
    "\n",
    "# compile model \n",
    "rnn3.compile(optimizer='adam',loss='categorical_crossentropy',metrics=['acc'])\n",
    "\n",
    "# show summary \n",
    "rnn3.summary()\n",
    "early_stop = EarlyStopping(monitor='val_loss', min_delta=0, patience=5, verbose=0, mode='auto')\n",
    "\n",
    "\n",
    "hist_rnn3 = rnn3.fit(train_sequences,validation_data=test_sequences,\n",
    "                  epochs=100,verbose=0, callbacks=[early_stop])"
   ]
  },
  {
   "cell_type": "code",
   "execution_count": 40,
   "id": "d879b6d7",
   "metadata": {},
   "outputs": [],
   "source": [
    "# helper function to plot train and val accuracy \n",
    "def plot_acc(hist):\n",
    "    plt.plot(hist.history['acc'], label='Train accuracy')\n",
    "    plt.plot(hist.history['val_acc'], label='Test accuracy')\n",
    "    plt.legend();"
   ]
  },
  {
   "cell_type": "code",
   "execution_count": 41,
   "id": "9c9c05f6",
   "metadata": {
    "scrolled": true
   },
   "outputs": [
    {
     "data": {
      "image/png": "[encoded data removed]",
      "text/plain": [
       "<Figure size 432x288 with 1 Axes>"
      ]
     },
     "metadata": {
      "needs_background": "light"
     },
     "output_type": "display_data"
    }
   ],
   "source": [
    "plot_acc(hist_rnn3)"
   ]
  },
  {
   "cell_type": "code",
   "execution_count": 29,
   "id": "3885b5a0",
   "metadata": {},
   "outputs": [],
   "source": [
    "#modeling and layers\n",
    "model = Sequential()\n",
    "\n",
    "model.add(GRU(8, input_shape=input_shape, return_sequences= True))\n",
    "model.add(GRU(8, return_sequences= False))\n",
    "\n",
    "\n",
    "model.add(Dense(2, activation='relu'))\n",
    "model.add(Dense(2, activation='relu'))\n",
    "model.add(Dense(3, activation='softmax'))\n",
    "\n",
    "#compile it\n",
    "model.compile(optimizer='Adam', loss='CategoricalCrossentropy', metrics=['acc'])\n",
    "\n",
    "#fit it\n",
    "\n",
    "\n",
    "history = model.fit(train_sequences, validation_data=test_sequences, epochs=100, verbose=0, callbacks=[early_stop]) #increased epochs from 100 to 300\n"
   ]
  },
  {
   "cell_type": "code",
   "execution_count": 30,
   "id": "74aad430",
   "metadata": {},
   "outputs": [
    {
     "data": {
      "image/png": "[encoded data removed]",
      "text/plain": [
       "<Figure size 432x288 with 1 Axes>"
      ]
     },
     "metadata": {
      "needs_background": "light"
     },
     "output_type": "display_data"
    }
   ],
   "source": [
    "#plot our results\n",
    "plt.plot(history.history['loss'], label='Train loss')\n",
    "plt.plot(history.history['val_loss'], label='Test loss')\n",
    "plt.legend();\n"
   ]
  },
  {
   "cell_type": "code",
   "execution_count": 31,
   "id": "80e6dccd",
   "metadata": {},
   "outputs": [
    {
     "data": {
      "image/png": "[encoded data removed]",
      "text/plain": [
       "<Figure size 432x288 with 1 Axes>"
      ]
     },
     "metadata": {
      "needs_background": "light"
     },
     "output_type": "display_data"
    }
   ],
   "source": [
    "plt.plot(history.history['acc'], label='Train accuracy')\n",
    "plt.plot(history.history['val_acc'], label='Test accuracy')\n",
    "plt.legend();"
   ]
  },
  {
   "cell_type": "code",
   "execution_count": 32,
   "id": "f2eb2c11",
   "metadata": {},
   "outputs": [
    {
     "data": {
      "text/plain": [
       "0.513260543346405"
      ]
     },
     "execution_count": 32,
     "metadata": {},
     "output_type": "execute_result"
    }
   ],
   "source": [
    "max(history.history['val_acc'])"
   ]
  },
  {
   "cell_type": "markdown",
   "id": "312fa0c9",
   "metadata": {},
   "source": [
    "RNN Model history/specs\n",
    "\n",
    "FIRST\n",
    "max test accuracy 0.45553821325302124\n",
    "\n",
    "\n",
    "#modeling and layers\n",
    "model = Sequential()\n",
    "\n",
    "model.add(GRU(8, input_shape=input_shape, return_sequences= True))\n",
    "model.add(GRU(8, return_sequences= False))\n",
    "\n",
    "\n",
    "model.add(Dense(2, activation='relu'))\n",
    "model.add(Dense(2, activation='relu'))\n",
    "model.add(Dense(3, activation='softmax'))\n",
    "\n",
    "#compile it\n",
    "model.compile(optimizer=Adam(learning_rate=.0005), loss='CategoricalCrossentropy', metrics=['acc'])\n",
    "\n",
    "#fit it\n",
    "history = model.fit(train_sequences, validation_data=test_sequences, epochs=100, verbose=0)\n",
    "\n",
    "notes: maxing out after 15-20 epochs \n",
    "\n",
    "SECOND\n",
    "max test accuracy 0.4570982754230499\n",
    "\n",
    "#modeling and layers\n",
    "model = Sequential()\n",
    "\n",
    "model.add(GRU(8, input_shape=input_shape, return_sequences= True))\n",
    "model.add(GRU(8, return_sequences= False))\n",
    "\n",
    "\n",
    "model.add(Dense(8, activation='relu'))#added and increased both hidden layers to 8\n",
    "model.add(Dense(8, activation='relu'))\n",
    "model.add(Dense(3, activation='softmax'))\n",
    "\n",
    "#compile it\n",
    "model.compile(optimizer=Adam(learning_rate=.0005), loss='CategoricalCrossentropy', metrics=['acc'])\n",
    "\n",
    "#fit it\n",
    "history = model.fit(train_sequences, validation_data=test_sequences, epochs=300, verbose=0) #increased epochs from 100 to 300\n",
    "\n",
    "notes: maxing out after 20 epochs \n",
    "\n",
    "THIRD\n",
    "0.4586583375930786\n",
    "\n",
    "#modeling and layers\n",
    "model = Sequential()\n",
    "\n",
    "model.add(GRU(8, input_shape=input_shape, return_sequences= True))\n",
    "model.add(GRU(8, return_sequences= False))\n",
    "\n",
    "\n",
    "model.add(Dense(32, activation='relu'))#added and increased both hidden layers to 32\n",
    "model.add(Dense(32, activation='relu'))\n",
    "model.add(Dense(3, activation='softmax'))\n",
    "\n",
    "#compile it\n",
    "model.compile(optimizer='Adam', loss='CategoricalCrossentropy', metrics=['acc'])\n",
    "\n",
    "#fit it\n",
    "\n",
    "history = model.fit(train_sequences, validation_data=test_sequences, epochs=20, verbose=0) #decreased epochs from 300 to 20\n",
    "\n",
    "\n",
    "FOURTH\n",
    "0.4602183997631073\n",
    "added earlystopping\n",
    "\n",
    "#modeling and layers\n",
    "model = Sequential()\n",
    "\n",
    "model.add(GRU(8, input_shape=input_shape, return_sequences= True))\n",
    "model.add(GRU(8, return_sequences= False))\n",
    "\n",
    "\n",
    "model.add(Dense(32, activation='relu'))#added and increased both hidden layers to 32\n",
    "model.add(Dense(32, activation='relu'))\n",
    "model.add(Dense(3, activation='softmax')) #softmax for multi-classification\n",
    "\n",
    "#compile it\n",
    "model.compile(optimizer='Adam', loss='CategoricalCrossentropy', metrics=['acc']) #categorical crossentropy for multi-classification\n",
    "\n",
    "#fit it\n",
    "#adding early stopping as a regularization technique\n",
    "early_stop = EarlyStopping(monitor='val_loss', min_delta=0, patience=5, verbose=0, mode='auto')\n",
    "\n",
    "\n",
    "history = model.fit(train_sequences, validation_data=test_sequences, epochs=20, verbose=0, callbacks=[early_stop]) \n",
    "\n",
    "FIFTH\n",
    "0.4492979645729065\n",
    "\n",
    "#modeling and layers\n",
    "model = Sequential()\n",
    "\n",
    "model.add(GRU(8, input_shape=input_shape, return_sequences= True))\n",
    "model.add(GRU(8, return_sequences= False))\n",
    "\n",
    "\n",
    "model.add(Dense(32, activation='relu'))#added and increased both hidden layers to 32\n",
    "model.add(BatchNormalization()) #added to help regularize model\n",
    "model.add(Dense(32, activation='relu'))\n",
    "model.add(Dense(3, activation='softmax')) #softmax for multi-classification\n",
    "\n",
    "#compile it\n",
    "model.compile(optimizer='Adam', loss='CategoricalCrossentropy', metrics=['acc']) #categorical crossentropy for multi-classification\n",
    "\n",
    "#fit it\n",
    "#adding early stopping as a regularization technique\n",
    "early_stop = EarlyStopping(monitor='val_loss', min_delta=0, patience=5, verbose=0, mode='auto')\n",
    "\n",
    "\n",
    "history = model.fit(train_sequences, validation_data=test_sequences, epochs=20, verbose=0, callbacks=[early_stop]) #increased epochs from 100 to 300\n",
    "\n",
    "\n",
    "SIXTH\n",
    "0.4836193323135376\n",
    "adding dropout 0.2\n",
    "\n",
    "#modeling and layers\n",
    "model = Sequential()\n",
    "\n",
    "model.add(GRU(8, input_shape=input_shape, return_sequences= True))\n",
    "model.add(GRU(8, return_sequences= False))\n",
    "\n",
    "\n",
    "model.add(Dense(32, activation='relu'))#added and increased both hidden layers to 32\n",
    "model.add(BatchNormalization()) #added to help regularize model\n",
    "model.add(Dropout(0.2)) #added to help regularize model\n",
    "model.add(Dense(32, activation='relu'))\n",
    "model.add(Dropout(0.2)) #added to help regularize model\n",
    "model.add(Dense(3, activation='softmax')) #softmax for multi-classification\n",
    "\n",
    "#compile it\n",
    "model.compile(optimizer='Adam', loss='CategoricalCrossentropy', metrics=['acc']) #categorical crossentropy for multi-classification\n",
    "\n",
    "#fit it\n",
    "#adding early stopping as a regularization technique\n",
    "early_stop = EarlyStopping(monitor='val_loss', min_delta=0, patience=5, verbose=0, mode='auto')\n",
    "\n",
    "\n",
    "history = model.fit(train_sequences, validation_data=test_sequences, epochs=20, verbose=0, callbacks=[early_stop]) #increased epochs from 100 to 300\n",
    "\n",
    "SEVENTH\n",
    "0.4492979645729065\n",
    "adding kernel regularization l1\n",
    "\n",
    "#modeling and layers\n",
    "model = Sequential()\n",
    "\n",
    "model.add(GRU(8, input_shape=input_shape, return_sequences= True))\n",
    "model.add(GRU(8, return_sequences= False))\n",
    "\n",
    "\n",
    "model.add(Dense(32, activation='relu'))#added and increased both hidden layers to 32\n",
    "model.add(BatchNormalization()) #added to help regularize model\n",
    "model.add(Dropout(0.2)) #added to help regularize model\n",
    "model.add(Dense(32, activation='relu', kernel_regularizer='l1'))\n",
    "model.add(Dropout(0.2)) #added to help regularize model\n",
    "model.add(Dense(3, activation='softmax', kernel_regularizer='l1')) #softmax for multi-classification\n",
    "\n",
    "#compile it\n",
    "model.compile(optimizer='Adam', loss='CategoricalCrossentropy', metrics=['acc']) #categorical crossentropy for multi-classification\n",
    "\n",
    "#fit it\n",
    "#adding early stopping as a regularization technique\n",
    "early_stop = EarlyStopping(monitor='val_loss', min_delta=0, patience=5, verbose=0, mode='auto')\n",
    "\n",
    "\n",
    "history = model.fit(train_sequences, validation_data=test_sequences, epochs=20, verbose=0, callbacks=[early_stop]) #increased epochs from 100 to 300\n"
   ]
  },
  {
   "cell_type": "code",
   "execution_count": null,
   "id": "6bc07846",
   "metadata": {},
   "outputs": [],
   "source": []
  },
  {
   "cell_type": "code",
   "execution_count": null,
   "id": "b52974c2",
   "metadata": {},
   "outputs": [],
   "source": []
  },
  {
   "cell_type": "code",
   "execution_count": null,
   "id": "1489f638",
   "metadata": {},
   "outputs": [],
   "source": [
    "accuracy_score(y_test, preds, sample_weight=None)\n",
    "#aim for best accuracy, but also reduce false positives and negatives. "
   ]
  },
  {
   "cell_type": "code",
   "execution_count": null,
   "id": "800396b4",
   "metadata": {},
   "outputs": [],
   "source": [
    "# calculate null accuracy (for multi-class classification problems)\n",
    "# .head(1) assesses the value 1208\n",
    "null_accuracy = y_test.value_counts().head(1) / len(y_test)\n",
    "print('Null accuracy:', null_accuracy)"
   ]
  },
  {
   "cell_type": "code",
   "execution_count": null,
   "id": "16224e1b",
   "metadata": {},
   "outputs": [],
   "source": [
    "# print message text for the false negatives (spam incorrectly classified as ham)\n",
    "\n",
    "fn= pd.DataFrame(X_test[preds < y_test])\n",
    "fn['vader_compound']\n",
    "# alternative less elegant but easier to understand\n",
    "# X_test[(y_pred_class=0) & (y_test=1)]"
   ]
  },
  {
   "cell_type": "markdown",
   "id": "c21527db",
   "metadata": {},
   "source": [
    "# LSTM"
   ]
  },
  {
   "cell_type": "code",
   "execution_count": 33,
   "id": "7e142571",
   "metadata": {},
   "outputs": [],
   "source": [
    "# make df? \n",
    "X_train_lstm= np.reshape(Xs_train,(Xs_train.shape[0],1,Xs_train.shape[1]))\n",
    "X_test_lstm = np.reshape(Xs_test,(Xs_test.shape[0],1,Xs_test.shape[1]))"
   ]
  },
  {
   "cell_type": "code",
   "execution_count": 34,
   "id": "9f33ebf0",
   "metadata": {},
   "outputs": [
    {
     "data": {
      "text/plain": [
       "((2920, 1, 2016), (731, 1, 2016))"
      ]
     },
     "execution_count": 34,
     "metadata": {},
     "output_type": "execute_result"
    }
   ],
   "source": [
    "X_train_lstm.shape, X_test_lstm.shape"
   ]
  },
  {
   "cell_type": "code",
   "execution_count": 36,
   "id": "ef9bd8a9",
   "metadata": {},
   "outputs": [
    {
     "name": "stdout",
     "output_type": "stream",
     "text": [
      "Model: \"sequential_5\"\n",
      "_________________________________________________________________\n",
      "Layer (type)                 Output Shape              Param #   \n",
      "=================================================================\n",
      "lstm_1 (LSTM)                (None, 64)                532736    \n",
      "_________________________________________________________________\n",
      "dense_14 (Dense)             (None, 8)                 520       \n",
      "_________________________________________________________________\n",
      "dense_15 (Dense)             (None, 3)                 27        \n",
      "=================================================================\n",
      "Total params: 533,283\n",
      "Trainable params: 533,283\n",
      "Non-trainable params: 0\n",
      "_________________________________________________________________\n"
     ]
    }
   ],
   "source": [
    "# model network \n",
    "\n",
    "lstm = Sequential()\n",
    "lstm.add(LSTM(64,input_shape=(1,2016)))\n",
    "lstm.add(Dense(8,activation='relu'))\n",
    "lstm.add(Dense(3,activation='softmax'))\n",
    "\n",
    "# compile model \n",
    "lstm.compile(optimizer='adam',loss='categorical_crossentropy',metrics=['acc'])\n",
    "\n",
    "lstm.summary()\n",
    "\n",
    "# fit model \n",
    "hist_lstm = lstm.fit(X_train_lstm,y_train, validation_data=(X_test_lstm,y_test), epochs=100,verbose=0)"
   ]
  },
  {
   "cell_type": "code",
   "execution_count": 37,
   "id": "9512da1b",
   "metadata": {},
   "outputs": [
    {
     "data": {
      "image/png": "[encoded data removed]",
      "text/plain": [
       "<Figure size 432x288 with 1 Axes>"
      ]
     },
     "metadata": {
      "needs_background": "light"
     },
     "output_type": "display_data"
    }
   ],
   "source": [
    "plot_acc(hist_lstm)"
   ]
  },
  {
   "cell_type": "code",
   "execution_count": 38,
   "id": "b58e5d18",
   "metadata": {},
   "outputs": [
    {
     "data": {
      "text/plain": [
       "0.5512995719909668"
      ]
     },
     "execution_count": 38,
     "metadata": {},
     "output_type": "execute_result"
    }
   ],
   "source": [
    "max(hist_lstm.history['val_acc'])"
   ]
  },
  {
   "cell_type": "code",
   "execution_count": null,
   "id": "8026274f",
   "metadata": {},
   "outputs": [],
   "source": []
  },
  {
   "cell_type": "markdown",
   "id": "889d705a",
   "metadata": {},
   "source": [
    "# TODO\" model best params with multinomial bayes, how accurate is it?\n"
   ]
  },
  {
   "cell_type": "markdown",
   "id": "1e443ae9",
   "metadata": {},
   "source": [
    "## Evaluation of Models\n",
    "\n"
   ]
  }
 ],
 "metadata": {
  "kernelspec": {
   "display_name": "Python 3",
   "language": "python",
   "name": "python3"
  },
  "language_info": {
   "codemirror_mode": {
    "name": "ipython",
    "version": 3
   },
   "file_extension": ".py",
   "mimetype": "text/x-python",
   "name": "python",
   "nbconvert_exporter": "python",
   "pygments_lexer": "ipython3",
   "version": "3.8.8"
  }
 },
 "nbformat": 4,
 "nbformat_minor": 5
}
