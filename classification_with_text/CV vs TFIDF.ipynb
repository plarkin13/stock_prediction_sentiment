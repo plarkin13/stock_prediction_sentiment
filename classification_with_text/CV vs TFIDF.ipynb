{
 "cells": [
  {
   "cell_type": "code",
   "execution_count": 2,
   "id": "048c6368",
   "metadata": {},
   "outputs": [],
   "source": [
    "import numpy as np\n",
    "import pandas as pd \n",
    "import datetime"
   ]
  },
  {
   "cell_type": "code",
   "execution_count": 2,
   "id": "aeeeea2c",
   "metadata": {},
   "outputs": [],
   "source": [
    "master_df = pd.read_csv('./data_2011-2013_PL.csv')"
   ]
  },
  {
   "cell_type": "code",
   "execution_count": 3,
   "id": "6cc2b21b",
   "metadata": {
    "scrolled": true
   },
   "outputs": [
    {
     "data": {
      "text/html": [
       "<div>\n",
       "<style scoped>\n",
       "    .dataframe tbody tr th:only-of-type {\n",
       "        vertical-align: middle;\n",
       "    }\n",
       "\n",
       "    .dataframe tbody tr th {\n",
       "        vertical-align: top;\n",
       "    }\n",
       "\n",
       "    .dataframe thead th {\n",
       "        text-align: right;\n",
       "    }\n",
       "</style>\n",
       "<table border=\"1\" class=\"dataframe\">\n",
       "  <thead>\n",
       "    <tr style=\"text-align: right;\">\n",
       "      <th></th>\n",
       "      <th>Unnamed: 0</th>\n",
       "      <th>abstract</th>\n",
       "      <th>web_url</th>\n",
       "      <th>snippet</th>\n",
       "      <th>lead_paragraph</th>\n",
       "      <th>print_section</th>\n",
       "      <th>print_page</th>\n",
       "      <th>source</th>\n",
       "      <th>multimedia</th>\n",
       "      <th>headline</th>\n",
       "      <th>keywords</th>\n",
       "      <th>pub_date</th>\n",
       "      <th>document_type</th>\n",
       "      <th>news_desk</th>\n",
       "      <th>section_name</th>\n",
       "      <th>byline</th>\n",
       "      <th>type_of_material</th>\n",
       "      <th>_id</th>\n",
       "      <th>word_count</th>\n",
       "      <th>uri</th>\n",
       "      <th>subsection_name</th>\n",
       "    </tr>\n",
       "  </thead>\n",
       "  <tbody>\n",
       "    <tr>\n",
       "      <th>0</th>\n",
       "      <td>0</td>\n",
       "      <td>Judge Edward R. Korman of the Eastern District...</td>\n",
       "      <td>https://www.nytimes.com/2014/01/01/business/ju...</td>\n",
       "      <td>Judge Edward R. Korman of the Eastern District...</td>\n",
       "      <td>The government’s right to search travelers’ el...</td>\n",
       "      <td>B</td>\n",
       "      <td>3.0</td>\n",
       "      <td>The New York Times</td>\n",
       "      <td>[{'rank': 0, 'subtype': 'wide', 'caption': Non...</td>\n",
       "      <td>{'main': 'District Judge Upholds Government’s ...</td>\n",
       "      <td>[{'name': 'subject', 'value': 'Search and Seiz...</td>\n",
       "      <td>2013-12-31 23:48:51+00:00</td>\n",
       "      <td>article</td>\n",
       "      <td>Business</td>\n",
       "      <td>Business Day</td>\n",
       "      <td>{'original': 'By Susan Stellin', 'person': [{'...</td>\n",
       "      <td>News</td>\n",
       "      <td>nyt://article/2b1e823c-a372-5db3-ae95-86f20e4a...</td>\n",
       "      <td>741</td>\n",
       "      <td>nyt://article/2b1e823c-a372-5db3-ae95-86f20e4a...</td>\n",
       "      <td>NaN</td>\n",
       "    </tr>\n",
       "  </tbody>\n",
       "</table>\n",
       "</div>"
      ],
      "text/plain": [
       "   Unnamed: 0                                           abstract  \\\n",
       "0           0  Judge Edward R. Korman of the Eastern District...   \n",
       "\n",
       "                                             web_url  \\\n",
       "0  https://www.nytimes.com/2014/01/01/business/ju...   \n",
       "\n",
       "                                             snippet  \\\n",
       "0  Judge Edward R. Korman of the Eastern District...   \n",
       "\n",
       "                                      lead_paragraph print_section  \\\n",
       "0  The government’s right to search travelers’ el...             B   \n",
       "\n",
       "   print_page              source  \\\n",
       "0         3.0  The New York Times   \n",
       "\n",
       "                                          multimedia  \\\n",
       "0  [{'rank': 0, 'subtype': 'wide', 'caption': Non...   \n",
       "\n",
       "                                            headline  \\\n",
       "0  {'main': 'District Judge Upholds Government’s ...   \n",
       "\n",
       "                                            keywords  \\\n",
       "0  [{'name': 'subject', 'value': 'Search and Seiz...   \n",
       "\n",
       "                    pub_date document_type news_desk  section_name  \\\n",
       "0  2013-12-31 23:48:51+00:00       article  Business  Business Day   \n",
       "\n",
       "                                              byline type_of_material  \\\n",
       "0  {'original': 'By Susan Stellin', 'person': [{'...             News   \n",
       "\n",
       "                                                 _id  word_count  \\\n",
       "0  nyt://article/2b1e823c-a372-5db3-ae95-86f20e4a...         741   \n",
       "\n",
       "                                                 uri subsection_name  \n",
       "0  nyt://article/2b1e823c-a372-5db3-ae95-86f20e4a...             NaN  "
      ]
     },
     "execution_count": 3,
     "metadata": {},
     "output_type": "execute_result"
    }
   ],
   "source": [
    "pd.set_option('display.max_columns', 22)\n",
    "master_df.head(1)"
   ]
  },
  {
   "cell_type": "code",
   "execution_count": 4,
   "id": "2889e582",
   "metadata": {
    "scrolled": true
   },
   "outputs": [
    {
     "name": "stdout",
     "output_type": "stream",
     "text": [
      "<class 'pandas.core.frame.DataFrame'>\n",
      "RangeIndex: 16800 entries, 0 to 16799\n",
      "Data columns (total 21 columns):\n",
      " #   Column            Non-Null Count  Dtype  \n",
      "---  ------            --------------  -----  \n",
      " 0   Unnamed: 0        16800 non-null  int64  \n",
      " 1   abstract          16800 non-null  object \n",
      " 2   web_url           16800 non-null  object \n",
      " 3   snippet           16800 non-null  object \n",
      " 4   lead_paragraph    16783 non-null  object \n",
      " 5   print_section     13467 non-null  object \n",
      " 6   print_page        13467 non-null  float64\n",
      " 7   source            16800 non-null  object \n",
      " 8   multimedia        16800 non-null  object \n",
      " 9   headline          16800 non-null  object \n",
      " 10  keywords          16800 non-null  object \n",
      " 11  pub_date          16800 non-null  object \n",
      " 12  document_type     16800 non-null  object \n",
      " 13  news_desk         16800 non-null  object \n",
      " 14  section_name      16800 non-null  object \n",
      " 15  byline            16800 non-null  object \n",
      " 16  type_of_material  16800 non-null  object \n",
      " 17  _id               16800 non-null  object \n",
      " 18  word_count        16800 non-null  int64  \n",
      " 19  uri               16800 non-null  object \n",
      " 20  subsection_name   9434 non-null   object \n",
      "dtypes: float64(1), int64(2), object(18)\n",
      "memory usage: 2.7+ MB\n"
     ]
    }
   ],
   "source": [
    "master_df.info()"
   ]
  },
  {
   "cell_type": "code",
   "execution_count": 5,
   "id": "fd7d0949",
   "metadata": {},
   "outputs": [
    {
     "data": {
      "text/plain": [
       "Unnamed: 0             0\n",
       "abstract               0\n",
       "web_url                0\n",
       "snippet                0\n",
       "lead_paragraph        17\n",
       "print_section       3333\n",
       "print_page          3333\n",
       "source                 0\n",
       "multimedia             0\n",
       "headline               0\n",
       "keywords               0\n",
       "pub_date               0\n",
       "document_type          0\n",
       "news_desk              0\n",
       "section_name           0\n",
       "byline                 0\n",
       "type_of_material       0\n",
       "_id                    0\n",
       "word_count             0\n",
       "uri                    0\n",
       "subsection_name     7366\n",
       "dtype: int64"
      ]
     },
     "execution_count": 5,
     "metadata": {},
     "output_type": "execute_result"
    }
   ],
   "source": [
    "master_df.isnull().sum()"
   ]
  },
  {
   "cell_type": "markdown",
   "id": "10bd3bf5",
   "metadata": {},
   "source": [
    "# Planned Deletions"
   ]
  },
  {
   "cell_type": "markdown",
   "id": "d562dc5f",
   "metadata": {},
   "source": [
    "Planning to delete subsection name. Nearly half do not have a value for that.\n",
    "Definitely a large portion of duplicates that need to be dropped in snippet and lead paragraph. Not sure best way to go about dropping those that are true duplicates and ones that may still have some info.\n",
    "Headline may have some value since it is the first thing someone sees, need to figure out way to extract that text\n",
    "Leaning towards deleting byline. Not sure any info in there could add to our sentiment analysis, possibly keep to have author, maybe we'll see some authors have a greater impact?\n",
    "\n",
    "\n",
    "At end should check average articles per day.\n",
    "Reindex"
   ]
  },
  {
   "cell_type": "code",
   "execution_count": 6,
   "id": "a7d82506",
   "metadata": {},
   "outputs": [
    {
     "data": {
      "text/html": [
       "<div>\n",
       "<style scoped>\n",
       "    .dataframe tbody tr th:only-of-type {\n",
       "        vertical-align: middle;\n",
       "    }\n",
       "\n",
       "    .dataframe tbody tr th {\n",
       "        vertical-align: top;\n",
       "    }\n",
       "\n",
       "    .dataframe thead th {\n",
       "        text-align: right;\n",
       "    }\n",
       "</style>\n",
       "<table border=\"1\" class=\"dataframe\">\n",
       "  <thead>\n",
       "    <tr style=\"text-align: right;\">\n",
       "      <th></th>\n",
       "      <th>Unnamed: 0</th>\n",
       "      <th>abstract</th>\n",
       "      <th>web_url</th>\n",
       "      <th>snippet</th>\n",
       "      <th>lead_paragraph</th>\n",
       "      <th>print_section</th>\n",
       "      <th>print_page</th>\n",
       "      <th>source</th>\n",
       "      <th>multimedia</th>\n",
       "      <th>headline</th>\n",
       "      <th>keywords</th>\n",
       "      <th>pub_date</th>\n",
       "      <th>document_type</th>\n",
       "      <th>news_desk</th>\n",
       "      <th>section_name</th>\n",
       "      <th>byline</th>\n",
       "      <th>type_of_material</th>\n",
       "      <th>_id</th>\n",
       "      <th>word_count</th>\n",
       "      <th>uri</th>\n",
       "      <th>subsection_name</th>\n",
       "    </tr>\n",
       "  </thead>\n",
       "  <tbody>\n",
       "    <tr>\n",
       "      <th>0</th>\n",
       "      <td>0</td>\n",
       "      <td>Judge Edward R. Korman of the Eastern District...</td>\n",
       "      <td>https://www.nytimes.com/2014/01/01/business/ju...</td>\n",
       "      <td>Judge Edward R. Korman of the Eastern District...</td>\n",
       "      <td>The government’s right to search travelers’ el...</td>\n",
       "      <td>B</td>\n",
       "      <td>3.0</td>\n",
       "      <td>The New York Times</td>\n",
       "      <td>[{'rank': 0, 'subtype': 'wide', 'caption': Non...</td>\n",
       "      <td>{'main': 'District Judge Upholds Government’s ...</td>\n",
       "      <td>[{'name': 'subject', 'value': 'Search and Seiz...</td>\n",
       "      <td>2013-12-31 23:48:51+00:00</td>\n",
       "      <td>article</td>\n",
       "      <td>Business</td>\n",
       "      <td>Business Day</td>\n",
       "      <td>{'original': 'By Susan Stellin', 'person': [{'...</td>\n",
       "      <td>News</td>\n",
       "      <td>nyt://article/2b1e823c-a372-5db3-ae95-86f20e4a...</td>\n",
       "      <td>741</td>\n",
       "      <td>nyt://article/2b1e823c-a372-5db3-ae95-86f20e4a...</td>\n",
       "      <td>NaN</td>\n",
       "    </tr>\n",
       "  </tbody>\n",
       "</table>\n",
       "</div>"
      ],
      "text/plain": [
       "   Unnamed: 0                                           abstract  \\\n",
       "0           0  Judge Edward R. Korman of the Eastern District...   \n",
       "\n",
       "                                             web_url  \\\n",
       "0  https://www.nytimes.com/2014/01/01/business/ju...   \n",
       "\n",
       "                                             snippet  \\\n",
       "0  Judge Edward R. Korman of the Eastern District...   \n",
       "\n",
       "                                      lead_paragraph print_section  \\\n",
       "0  The government’s right to search travelers’ el...             B   \n",
       "\n",
       "   print_page              source  \\\n",
       "0         3.0  The New York Times   \n",
       "\n",
       "                                          multimedia  \\\n",
       "0  [{'rank': 0, 'subtype': 'wide', 'caption': Non...   \n",
       "\n",
       "                                            headline  \\\n",
       "0  {'main': 'District Judge Upholds Government’s ...   \n",
       "\n",
       "                                            keywords  \\\n",
       "0  [{'name': 'subject', 'value': 'Search and Seiz...   \n",
       "\n",
       "                    pub_date document_type news_desk  section_name  \\\n",
       "0  2013-12-31 23:48:51+00:00       article  Business  Business Day   \n",
       "\n",
       "                                              byline type_of_material  \\\n",
       "0  {'original': 'By Susan Stellin', 'person': [{'...             News   \n",
       "\n",
       "                                                 _id  word_count  \\\n",
       "0  nyt://article/2b1e823c-a372-5db3-ae95-86f20e4a...         741   \n",
       "\n",
       "                                                 uri subsection_name  \n",
       "0  nyt://article/2b1e823c-a372-5db3-ae95-86f20e4a...             NaN  "
      ]
     },
     "execution_count": 6,
     "metadata": {},
     "output_type": "execute_result"
    }
   ],
   "source": [
    "master_df.head(1)"
   ]
  },
  {
   "cell_type": "code",
   "execution_count": 8,
   "id": "d24e4db5",
   "metadata": {},
   "outputs": [],
   "source": [
    "#stop, no run this cell\n",
    "#delete duplicates\n",
    "#web url has 200 duplicates\n",
    "master_df.drop_duplicates(['web_url'],inplace=True)\n",
    "\n",
    "#Planned deletions\n",
    "#Unnamed is another index, subsection name has too many na's and no relevant info, _id and uri are unique vals but already have web_url, all articles are from news_desk business, all articles are document_type article, keywords is just words with no sentimental words to improve model, multimedia is pics or vids in article that add nothing, source contains info stating NYT or Herald tribune,print_page indicates whether news was printed, print_section indicates what section it was printed in \n",
    "master_df.drop(['Unnamed: 0','subsection_name', '_id', 'uri', 'news_desk', 'document_type', 'keywords', 'multimedia', 'source', 'print_page', 'print_section', 'type_of_material',  'word_count'], axis =1, inplace=True)\n",
    "\n",
    "#drop all these rows\n",
    "#not dropping duplicates of abstract because there are duplicate abstract titles with unique lead_paragraphs. May need to fill it with empty cell?\n",
    "master_df.drop(master_df.loc[master_df['abstract']=='Notable properties that have been recently listed for sale, sold or leased.'].index, inplace=True)\n",
    "master_df.drop(master_df.loc[master_df['abstract']=='Account assignments, executive appointments and miscellaneous news from advertising agencies.'].index, inplace=True)\n",
    "master_df.drop(master_df.loc[master_df['abstract']=='The following tax-exempt fixed-income issues are scheduled for pricing this week.'].index, inplace=True)\n",
    "master_df.drop(master_df.loc[master_df['abstract']=='Account assignments, executive appointments and miscellaneous news from the advertising agencies.'].index, inplace=True)\n",
    "master_df['abstract'] = master_df['abstract'].map(lambda x: \"\" if 'Highlights from the DealBook newsletter.' in x else x) #blankifying because relevant data in other sections even if this isn't relevant to sentiment\n",
    "master_df['abstract'] = master_df['abstract'].map(lambda x: \"\" if 'Economic reports, corporate earnings and hearings this week in Washington.' in x else x)\n",
    "\n",
    "\n",
    "master_df['snippet'] = master_df['snippet'].map(lambda x: \"\" if 'Highlights from the DealBook newsletter.' in x else x)\n",
    "\n",
    "master_df.drop(master_df.loc[master_df['lead_paragraph'] == 'TOP STORIES'].index, inplace=True)\n",
    "\n",
    "#alltext column creation\n",
    "master_df['alltext'] = pd.DataFrame(master_df['abstract']+ master_df['lead_paragraph']+ master_df['snippet'])\n",
    "\n",
    "# adding column for only date from datetime\n",
    "master_df[\"Date\"] = master_df[\"pub_date\"].map(lambda x: x[0:10])\n",
    "\n",
    "#setting index to date to merge with stock data\n",
    "master_df.set_index('Date', inplace = True)\n",
    "                "
   ]
  },
  {
   "cell_type": "code",
   "execution_count": 27,
   "id": "152ef424",
   "metadata": {},
   "outputs": [
    {
     "data": {
      "text/plain": [
       "\"{'main': 'District Judge Upholds Government’s Right to Search Electronics at Border', 'kicker': None, 'content_kicker': None, 'print_headline': 'District Judge Upholds Government&#8217;s Right to Search Electronics at Border', 'name': None, 'seo': None, 'sub': None}\""
      ]
     },
     "execution_count": 27,
     "metadata": {},
     "output_type": "execute_result"
    }
   ],
   "source": [
    "master_df['headline'][0]"
   ]
  },
  {
   "cell_type": "code",
   "execution_count": null,
   "id": "ee6d3ef8",
   "metadata": {},
   "outputs": [],
   "source": [
    "json.loads(master_df['headline'][0])"
   ]
  },
  {
   "cell_type": "code",
   "execution_count": null,
   "id": "be1df89c",
   "metadata": {
    "scrolled": true
   },
   "outputs": [],
   "source": [
    "master_df['abstract'].value_counts().head(20)"
   ]
  },
  {
   "cell_type": "code",
   "execution_count": null,
   "id": "116452c3",
   "metadata": {},
   "outputs": [],
   "source": [
    "master_df['lead_paragraph'].value_counts().head(20)"
   ]
  },
  {
   "cell_type": "code",
   "execution_count": null,
   "id": "47034d85",
   "metadata": {},
   "outputs": [],
   "source": [
    "master_df.loc[master_df['lead_paragraph']=='Q: (Reader)']"
   ]
  },
  {
   "cell_type": "code",
   "execution_count": 35,
   "id": "13bf1786",
   "metadata": {},
   "outputs": [
    {
     "data": {
      "text/html": [
       "<div>\n",
       "<style scoped>\n",
       "    .dataframe tbody tr th:only-of-type {\n",
       "        vertical-align: middle;\n",
       "    }\n",
       "\n",
       "    .dataframe tbody tr th {\n",
       "        vertical-align: top;\n",
       "    }\n",
       "\n",
       "    .dataframe thead th {\n",
       "        text-align: right;\n",
       "    }\n",
       "</style>\n",
       "<table border=\"1\" class=\"dataframe\">\n",
       "  <thead>\n",
       "    <tr style=\"text-align: right;\">\n",
       "      <th></th>\n",
       "      <th>abstract</th>\n",
       "      <th>web_url</th>\n",
       "      <th>snippet</th>\n",
       "      <th>lead_paragraph</th>\n",
       "      <th>headline</th>\n",
       "      <th>pub_date</th>\n",
       "      <th>section_name</th>\n",
       "      <th>byline</th>\n",
       "      <th>alltext</th>\n",
       "    </tr>\n",
       "    <tr>\n",
       "      <th>Date</th>\n",
       "      <th></th>\n",
       "      <th></th>\n",
       "      <th></th>\n",
       "      <th></th>\n",
       "      <th></th>\n",
       "      <th></th>\n",
       "      <th></th>\n",
       "      <th></th>\n",
       "      <th></th>\n",
       "    </tr>\n",
       "  </thead>\n",
       "  <tbody>\n",
       "    <tr>\n",
       "      <th>2012-07-31</th>\n",
       "      <td>Germany’s finance minister and the United Stat...</td>\n",
       "      <td>https://www.nytimes.com/2012/07/31/business/sp...</td>\n",
       "      <td>Germany’s finance minister and the United Stat...</td>\n",
       "      <td>LONDON — Borrowing costs for Spain and Italy e...</td>\n",
       "      <td>{'main': 'Pledges of Euro Support Ease Some Bo...</td>\n",
       "      <td>2012-07-31 04:00:47+00:00</td>\n",
       "      <td>Business Day</td>\n",
       "      <td>{'original': 'By Stephen Castle', 'person': [{...</td>\n",
       "      <td>Germany’s finance minister and the United Stat...</td>\n",
       "    </tr>\n",
       "    <tr>\n",
       "      <th>2012-07-30</th>\n",
       "      <td>Germany’s finance minister and the United Stat...</td>\n",
       "      <td>https://www.nytimes.com/2012/07/31/business/gl...</td>\n",
       "      <td>Germany’s finance minister and the United Stat...</td>\n",
       "      <td>LONDON — Borrowing costs for Spain and Italy e...</td>\n",
       "      <td>{'main': 'Pledges of Euro Support Ease Some Bo...</td>\n",
       "      <td>2012-07-30 09:00:35+00:00</td>\n",
       "      <td>Business Day</td>\n",
       "      <td>{'original': 'By Stephen Castle', 'person': [{...</td>\n",
       "      <td>Germany’s finance minister and the United Stat...</td>\n",
       "    </tr>\n",
       "  </tbody>\n",
       "</table>\n",
       "</div>"
      ],
      "text/plain": [
       "                                                     abstract  \\\n",
       "Date                                                            \n",
       "2012-07-31  Germany’s finance minister and the United Stat...   \n",
       "2012-07-30  Germany’s finance minister and the United Stat...   \n",
       "\n",
       "                                                      web_url  \\\n",
       "Date                                                            \n",
       "2012-07-31  https://www.nytimes.com/2012/07/31/business/sp...   \n",
       "2012-07-30  https://www.nytimes.com/2012/07/31/business/gl...   \n",
       "\n",
       "                                                      snippet  \\\n",
       "Date                                                            \n",
       "2012-07-31  Germany’s finance minister and the United Stat...   \n",
       "2012-07-30  Germany’s finance minister and the United Stat...   \n",
       "\n",
       "                                               lead_paragraph  \\\n",
       "Date                                                            \n",
       "2012-07-31  LONDON — Borrowing costs for Spain and Italy e...   \n",
       "2012-07-30  LONDON — Borrowing costs for Spain and Italy e...   \n",
       "\n",
       "                                                     headline  \\\n",
       "Date                                                            \n",
       "2012-07-31  {'main': 'Pledges of Euro Support Ease Some Bo...   \n",
       "2012-07-30  {'main': 'Pledges of Euro Support Ease Some Bo...   \n",
       "\n",
       "                             pub_date  section_name  \\\n",
       "Date                                                  \n",
       "2012-07-31  2012-07-31 04:00:47+00:00  Business Day   \n",
       "2012-07-30  2012-07-30 09:00:35+00:00  Business Day   \n",
       "\n",
       "                                                       byline  \\\n",
       "Date                                                            \n",
       "2012-07-31  {'original': 'By Stephen Castle', 'person': [{...   \n",
       "2012-07-30  {'original': 'By Stephen Castle', 'person': [{...   \n",
       "\n",
       "                                                      alltext  \n",
       "Date                                                           \n",
       "2012-07-31  Germany’s finance minister and the United Stat...  \n",
       "2012-07-30  Germany’s finance minister and the United Stat...  "
      ]
     },
     "execution_count": 35,
     "metadata": {},
     "output_type": "execute_result"
    }
   ],
   "source": [
    "master_df.loc[master_df['abstract']=='Germany’s finance minister and the United States Treasury secretary expressed confidence in efforts to revamp euro zone economies.']"
   ]
  },
  {
   "cell_type": "code",
   "execution_count": null,
   "id": "6e840833",
   "metadata": {
    "scrolled": true
   },
   "outputs": [],
   "source": [
    "master_df['subsection_name'].value_counts()"
   ]
  },
  {
   "cell_type": "code",
   "execution_count": 30,
   "id": "60335ddd",
   "metadata": {},
   "outputs": [],
   "source": [
    "draft_df = pd.DataFrame(master_df['alltext'])"
   ]
  },
  {
   "cell_type": "code",
   "execution_count": 31,
   "id": "c1bbcfa7",
   "metadata": {
    "scrolled": true
   },
   "outputs": [
    {
     "data": {
      "text/html": [
       "<div>\n",
       "<style scoped>\n",
       "    .dataframe tbody tr th:only-of-type {\n",
       "        vertical-align: middle;\n",
       "    }\n",
       "\n",
       "    .dataframe tbody tr th {\n",
       "        vertical-align: top;\n",
       "    }\n",
       "\n",
       "    .dataframe thead th {\n",
       "        text-align: right;\n",
       "    }\n",
       "</style>\n",
       "<table border=\"1\" class=\"dataframe\">\n",
       "  <thead>\n",
       "    <tr style=\"text-align: right;\">\n",
       "      <th></th>\n",
       "      <th>alltext</th>\n",
       "    </tr>\n",
       "    <tr>\n",
       "      <th>Date</th>\n",
       "      <th></th>\n",
       "    </tr>\n",
       "  </thead>\n",
       "  <tbody>\n",
       "    <tr>\n",
       "      <th>2013-12-31</th>\n",
       "      <td>Judge Edward R. Korman of the Eastern District...</td>\n",
       "    </tr>\n",
       "  </tbody>\n",
       "</table>\n",
       "</div>"
      ],
      "text/plain": [
       "                                                      alltext\n",
       "Date                                                         \n",
       "2013-12-31  Judge Edward R. Korman of the Eastern District..."
      ]
     },
     "execution_count": 31,
     "metadata": {},
     "output_type": "execute_result"
    }
   ],
   "source": [
    "draft_df.head(1)"
   ]
  },
  {
   "cell_type": "code",
   "execution_count": 34,
   "id": "bfcca934",
   "metadata": {
    "scrolled": true
   },
   "outputs": [
    {
     "data": {
      "text/plain": [
       "alltext    17\n",
       "dtype: int64"
      ]
     },
     "execution_count": 34,
     "metadata": {},
     "output_type": "execute_result"
    }
   ],
   "source": [
    "draft_df.isnull().sum()"
   ]
  },
  {
   "cell_type": "markdown",
   "id": "f526adb7",
   "metadata": {},
   "source": [
    "# Working off of Tanveer's Clean Data "
   ]
  },
  {
   "cell_type": "code",
   "execution_count": 152,
   "id": "30ed3c9b",
   "metadata": {},
   "outputs": [
    {
     "data": {
      "text/html": [
       "<div>\n",
       "<style scoped>\n",
       "    .dataframe tbody tr th:only-of-type {\n",
       "        vertical-align: middle;\n",
       "    }\n",
       "\n",
       "    .dataframe tbody tr th {\n",
       "        vertical-align: top;\n",
       "    }\n",
       "\n",
       "    .dataframe thead th {\n",
       "        text-align: right;\n",
       "    }\n",
       "</style>\n",
       "<table border=\"1\" class=\"dataframe\">\n",
       "  <thead>\n",
       "    <tr style=\"text-align: right;\">\n",
       "      <th></th>\n",
       "      <th>Unnamed: 0</th>\n",
       "      <th>date</th>\n",
       "      <th>text</th>\n",
       "      <th>price</th>\n",
       "      <th>pct_change</th>\n",
       "      <th>price_direction</th>\n",
       "      <th>day_of_week</th>\n",
       "      <th>is_holiday</th>\n",
       "    </tr>\n",
       "  </thead>\n",
       "  <tbody>\n",
       "    <tr>\n",
       "      <th>0</th>\n",
       "      <td>0</td>\n",
       "      <td>2011-07-29</td>\n",
       "      <td>Drug App Comes Free, Ads Included. Epocrates h...</td>\n",
       "      <td>1292.28</td>\n",
       "      <td>NaN</td>\n",
       "      <td>first</td>\n",
       "      <td>4</td>\n",
       "      <td>0</td>\n",
       "    </tr>\n",
       "    <tr>\n",
       "      <th>1</th>\n",
       "      <td>1</td>\n",
       "      <td>2011-07-30</td>\n",
       "      <td>Global Concern Over U.S. Debt Ceiling Disagree...</td>\n",
       "      <td>1292.28</td>\n",
       "      <td>0.000000</td>\n",
       "      <td>same</td>\n",
       "      <td>5</td>\n",
       "      <td>0</td>\n",
       "    </tr>\n",
       "    <tr>\n",
       "      <th>2</th>\n",
       "      <td>2</td>\n",
       "      <td>2011-07-31</td>\n",
       "      <td>Deal May Avert Default, but Some Ask, ‘Is That...</td>\n",
       "      <td>1292.28</td>\n",
       "      <td>0.000000</td>\n",
       "      <td>same</td>\n",
       "      <td>6</td>\n",
       "      <td>0</td>\n",
       "    </tr>\n",
       "    <tr>\n",
       "      <th>3</th>\n",
       "      <td>3</td>\n",
       "      <td>2011-08-01</td>\n",
       "      <td>Charging a Premium for Movies, at a Cost. High...</td>\n",
       "      <td>1286.94</td>\n",
       "      <td>-0.004132</td>\n",
       "      <td>down</td>\n",
       "      <td>0</td>\n",
       "      <td>0</td>\n",
       "    </tr>\n",
       "    <tr>\n",
       "      <th>4</th>\n",
       "      <td>4</td>\n",
       "      <td>2011-08-02</td>\n",
       "      <td>Pearls, Finer but Still Cheap, Flow From China...</td>\n",
       "      <td>1254.05</td>\n",
       "      <td>-0.025557</td>\n",
       "      <td>down</td>\n",
       "      <td>1</td>\n",
       "      <td>0</td>\n",
       "    </tr>\n",
       "  </tbody>\n",
       "</table>\n",
       "</div>"
      ],
      "text/plain": [
       "   Unnamed: 0        date                                               text  \\\n",
       "0           0  2011-07-29  Drug App Comes Free, Ads Included. Epocrates h...   \n",
       "1           1  2011-07-30  Global Concern Over U.S. Debt Ceiling Disagree...   \n",
       "2           2  2011-07-31  Deal May Avert Default, but Some Ask, ‘Is That...   \n",
       "3           3  2011-08-01  Charging a Premium for Movies, at a Cost. High...   \n",
       "4           4  2011-08-02  Pearls, Finer but Still Cheap, Flow From China...   \n",
       "\n",
       "     price  pct_change price_direction  day_of_week  is_holiday  \n",
       "0  1292.28         NaN           first            4           0  \n",
       "1  1292.28    0.000000            same            5           0  \n",
       "2  1292.28    0.000000            same            6           0  \n",
       "3  1286.94   -0.004132            down            0           0  \n",
       "4  1254.05   -0.025557            down            1           0  "
      ]
     },
     "execution_count": 152,
     "metadata": {},
     "output_type": "execute_result"
    }
   ],
   "source": [
    "# to load file \n",
    "daily = pd.read_csv('/Users/plarkin/Downloads/daily.csv')\n",
    "daily.head()"
   ]
  },
  {
   "cell_type": "markdown",
   "id": "2ac7256f",
   "metadata": {},
   "source": [
    "## Sentiment Analysis"
   ]
  },
  {
   "cell_type": "code",
   "execution_count": 153,
   "id": "f56a511b",
   "metadata": {},
   "outputs": [],
   "source": [
    "# imports\n",
    "import matplotlib.pyplot as plt\n",
    "import seaborn as sns\n",
    "from sklearn.model_selection import train_test_split, GridSearchCV\n",
    "from sklearn.pipeline import Pipeline\n",
    "from sklearn.naive_bayes import MultinomialNB\n",
    "# from sklearn.linear_model import LogisticRegression\n",
    "from sklearn.metrics import confusion_matrix, plot_confusion_matrix, accuracy_score\n",
    "from sklearn.linear_model import LogisticRegression\n",
    "from sklearn.neighbors import KNeighborsClassifier\n",
    "\n",
    "\n",
    "# Imp ort CountVectorizer and TFIDFVectorizer from feature_extraction.text.\n",
    "from sklearn.feature_extraction.text import CountVectorizer, TfidfVectorizer\n",
    "from sklearn.feature_extraction import text \n",
    "\n",
    "#tokenizers\n",
    "from nltk.tokenize import sent_tokenize, word_tokenize, RegexpTokenizer\n",
    "from nltk.stem import WordNetLemmatizer\n",
    "from nltk.corpus import stopwords\n",
    "from nltk.sentiment.vader import SentimentIntensityAnalyzer\n",
    "import re\n",
    "\n"
   ]
  },
  {
   "cell_type": "markdown",
   "id": "9a34f2fa",
   "metadata": {},
   "source": [
    "#### Vader Sentiment Analysis"
   ]
  },
  {
   "cell_type": "code",
   "execution_count": 154,
   "id": "bbcbe783",
   "metadata": {},
   "outputs": [
    {
     "name": "stdout",
     "output_type": "stream",
     "text": [
      "CPU times: user 3 µs, sys: 1e+03 ns, total: 4 µs\n",
      "Wall time: 7.15 µs\n"
     ]
    }
   ],
   "source": [
    "#Adding in Sentiment analysis with designated columns for each output (pos, neg, neu, compound)\n",
    "analyzer = SentimentIntensityAnalyzer()\n",
    "\n",
    "#daily['vader'] = daily['text'].map(lambda x:analyzer.polarity_scores(str(x)))\n",
    "\n",
    "\n",
    "daily['vader_compound'] = [analyzer.polarity_scores(x)['compound'] for x in daily['text']]\n",
    "# draft_df['vd_neg'] = [analyzer.polarity_scores(x)['neg'] for x in draft_df['alltext']]\n",
    "# draft_df['vd_neu'] = [analyzer.polarity_scores(x)['neu'] for x in draft_df['alltext']]\n",
    "# draft_df['vd_pos'] = [analyzer.polarity_scores(x)['pos'] for x in draft_df['alltext']]\n",
    "\n",
    "%time\n"
   ]
  },
  {
   "cell_type": "markdown",
   "id": "f3455eb9",
   "metadata": {},
   "source": [
    "#### Textblob Sentiment Analysis\n",
    "source : https://neptune.ai/blog/sentiment-analysis-python-textblob-vs-vader-vs-flair\n",
    "\n",
    "https://textblob.readthedocs.io/en/dev/"
   ]
  },
  {
   "cell_type": "code",
   "execution_count": 155,
   "id": "95477c3b",
   "metadata": {},
   "outputs": [
    {
     "name": "stdout",
     "output_type": "stream",
     "text": [
      "CPU times: user 4 µs, sys: 1e+03 ns, total: 5 µs\n",
      "Wall time: 7.15 µs\n"
     ]
    }
   ],
   "source": [
    "from textblob import TextBlob\n",
    "#testimonial = TextBlob()\n",
    "#draft_df['tb_polarity'] = [testimonial.polarity(x)['polarity'] for x in draft_df['alltext']]\n",
    "#draft_df['tb_subj'] = [testimonial.sentiment(x)['subjectivity'] for x in draft_df['alltext']]\n",
    "daily['textblob_polarity'] = daily['text'].map(lambda words: TextBlob(str(words)).polarity) #polarity is more applicable and comparable to vader compound. subjectivity is more about opinion vs fact \n",
    "\n",
    "%time\n"
   ]
  },
  {
   "cell_type": "code",
   "execution_count": 147,
   "id": "a7cd596a",
   "metadata": {
    "scrolled": true
   },
   "outputs": [
    {
     "data": {
      "text/html": [
       "<div>\n",
       "<style scoped>\n",
       "    .dataframe tbody tr th:only-of-type {\n",
       "        vertical-align: middle;\n",
       "    }\n",
       "\n",
       "    .dataframe tbody tr th {\n",
       "        vertical-align: top;\n",
       "    }\n",
       "\n",
       "    .dataframe thead th {\n",
       "        text-align: right;\n",
       "    }\n",
       "</style>\n",
       "<table border=\"1\" class=\"dataframe\">\n",
       "  <thead>\n",
       "    <tr style=\"text-align: right;\">\n",
       "      <th></th>\n",
       "      <th>text</th>\n",
       "      <th>price</th>\n",
       "      <th>pct_change</th>\n",
       "      <th>price_direction</th>\n",
       "      <th>day_of_week</th>\n",
       "      <th>is_holiday</th>\n",
       "      <th>vader_compound</th>\n",
       "      <th>textblob_polarity</th>\n",
       "    </tr>\n",
       "    <tr>\n",
       "      <th>date</th>\n",
       "      <th></th>\n",
       "      <th></th>\n",
       "      <th></th>\n",
       "      <th></th>\n",
       "      <th></th>\n",
       "      <th></th>\n",
       "      <th></th>\n",
       "      <th></th>\n",
       "    </tr>\n",
       "  </thead>\n",
       "  <tbody>\n",
       "    <tr>\n",
       "      <th>2018-09-08</th>\n",
       "      <td>Alex Jones’s Infowars Is Removed From Apple’s ...</td>\n",
       "      <td>2871.68</td>\n",
       "      <td>0.0</td>\n",
       "      <td>0.0</td>\n",
       "      <td>5</td>\n",
       "      <td>0</td>\n",
       "      <td>-0.9485</td>\n",
       "      <td>-0.333333</td>\n",
       "    </tr>\n",
       "    <tr>\n",
       "      <th>2017-08-26</th>\n",
       "      <td>James Staley’s Series of Unfortunate Events. A...</td>\n",
       "      <td>2443.05</td>\n",
       "      <td>0.0</td>\n",
       "      <td>0.0</td>\n",
       "      <td>5</td>\n",
       "      <td>0</td>\n",
       "      <td>-0.7717</td>\n",
       "      <td>-0.300000</td>\n",
       "    </tr>\n",
       "    <tr>\n",
       "      <th>2011-12-31</th>\n",
       "      <td>After Outcry, Verizon Abandons $2 Fee. Verizon...</td>\n",
       "      <td>1257.60</td>\n",
       "      <td>0.0</td>\n",
       "      <td>0.0</td>\n",
       "      <td>5</td>\n",
       "      <td>0</td>\n",
       "      <td>-0.9393</td>\n",
       "      <td>-0.233333</td>\n",
       "    </tr>\n",
       "    <tr>\n",
       "      <th>2021-05-30</th>\n",
       "      <td>‘It’s Going to Be a Big Summer for Hard Seltze...</td>\n",
       "      <td>4204.11</td>\n",
       "      <td>0.0</td>\n",
       "      <td>0.0</td>\n",
       "      <td>6</td>\n",
       "      <td>0</td>\n",
       "      <td>-0.8582</td>\n",
       "      <td>-0.195606</td>\n",
       "    </tr>\n",
       "    <tr>\n",
       "      <th>2020-05-24</th>\n",
       "      <td>Pay Cuts Become a Tool for Some Companies to A...</td>\n",
       "      <td>2955.45</td>\n",
       "      <td>0.0</td>\n",
       "      <td>0.0</td>\n",
       "      <td>6</td>\n",
       "      <td>0</td>\n",
       "      <td>-0.9403</td>\n",
       "      <td>-0.151852</td>\n",
       "    </tr>\n",
       "    <tr>\n",
       "      <th>...</th>\n",
       "      <td>...</td>\n",
       "      <td>...</td>\n",
       "      <td>...</td>\n",
       "      <td>...</td>\n",
       "      <td>...</td>\n",
       "      <td>...</td>\n",
       "      <td>...</td>\n",
       "      <td>...</td>\n",
       "    </tr>\n",
       "    <tr>\n",
       "      <th>2017-10-14</th>\n",
       "      <td>Tesla Fires Hundreds of Workers. The dismissal...</td>\n",
       "      <td>2553.17</td>\n",
       "      <td>0.0</td>\n",
       "      <td>0.0</td>\n",
       "      <td>5</td>\n",
       "      <td>0</td>\n",
       "      <td>-0.4588</td>\n",
       "      <td>0.280769</td>\n",
       "    </tr>\n",
       "    <tr>\n",
       "      <th>2016-05-28</th>\n",
       "      <td>Paper Points Up Flaws in Venture Fund Based on...</td>\n",
       "      <td>2099.06</td>\n",
       "      <td>0.0</td>\n",
       "      <td>0.0</td>\n",
       "      <td>5</td>\n",
       "      <td>0</td>\n",
       "      <td>0.9862</td>\n",
       "      <td>0.288625</td>\n",
       "    </tr>\n",
       "    <tr>\n",
       "      <th>2020-10-10</th>\n",
       "      <td>Airline Miles Programs Sure Are Profitable. Ar...</td>\n",
       "      <td>3477.13</td>\n",
       "      <td>0.0</td>\n",
       "      <td>0.0</td>\n",
       "      <td>5</td>\n",
       "      <td>0</td>\n",
       "      <td>0.9886</td>\n",
       "      <td>0.311180</td>\n",
       "    </tr>\n",
       "    <tr>\n",
       "      <th>2015-12-06</th>\n",
       "      <td>You and What Army?. Part 1 of a cluing discuss...</td>\n",
       "      <td>2091.69</td>\n",
       "      <td>0.0</td>\n",
       "      <td>0.0</td>\n",
       "      <td>6</td>\n",
       "      <td>0</td>\n",
       "      <td>-0.6655</td>\n",
       "      <td>0.315278</td>\n",
       "    </tr>\n",
       "    <tr>\n",
       "      <th>2016-11-13</th>\n",
       "      <td>Paul Newman Who? Salad Dressing Company Adjust...</td>\n",
       "      <td>2164.45</td>\n",
       "      <td>0.0</td>\n",
       "      <td>0.0</td>\n",
       "      <td>6</td>\n",
       "      <td>0</td>\n",
       "      <td>0.4404</td>\n",
       "      <td>0.372222</td>\n",
       "    </tr>\n",
       "  </tbody>\n",
       "</table>\n",
       "<p>3652 rows × 8 columns</p>\n",
       "</div>"
      ],
      "text/plain": [
       "                                                         text    price  \\\n",
       "date                                                                     \n",
       "2018-09-08  Alex Jones’s Infowars Is Removed From Apple’s ...  2871.68   \n",
       "2017-08-26  James Staley’s Series of Unfortunate Events. A...  2443.05   \n",
       "2011-12-31  After Outcry, Verizon Abandons $2 Fee. Verizon...  1257.60   \n",
       "2021-05-30  ‘It’s Going to Be a Big Summer for Hard Seltze...  4204.11   \n",
       "2020-05-24  Pay Cuts Become a Tool for Some Companies to A...  2955.45   \n",
       "...                                                       ...      ...   \n",
       "2017-10-14  Tesla Fires Hundreds of Workers. The dismissal...  2553.17   \n",
       "2016-05-28  Paper Points Up Flaws in Venture Fund Based on...  2099.06   \n",
       "2020-10-10  Airline Miles Programs Sure Are Profitable. Ar...  3477.13   \n",
       "2015-12-06  You and What Army?. Part 1 of a cluing discuss...  2091.69   \n",
       "2016-11-13  Paul Newman Who? Salad Dressing Company Adjust...  2164.45   \n",
       "\n",
       "            pct_change  price_direction  day_of_week  is_holiday  \\\n",
       "date                                                               \n",
       "2018-09-08         0.0              0.0            5           0   \n",
       "2017-08-26         0.0              0.0            5           0   \n",
       "2011-12-31         0.0              0.0            5           0   \n",
       "2021-05-30         0.0              0.0            6           0   \n",
       "2020-05-24         0.0              0.0            6           0   \n",
       "...                ...              ...          ...         ...   \n",
       "2017-10-14         0.0              0.0            5           0   \n",
       "2016-05-28         0.0              0.0            5           0   \n",
       "2020-10-10         0.0              0.0            5           0   \n",
       "2015-12-06         0.0              0.0            6           0   \n",
       "2016-11-13         0.0              0.0            6           0   \n",
       "\n",
       "            vader_compound  textblob_polarity  \n",
       "date                                           \n",
       "2018-09-08         -0.9485          -0.333333  \n",
       "2017-08-26         -0.7717          -0.300000  \n",
       "2011-12-31         -0.9393          -0.233333  \n",
       "2021-05-30         -0.8582          -0.195606  \n",
       "2020-05-24         -0.9403          -0.151852  \n",
       "...                    ...                ...  \n",
       "2017-10-14         -0.4588           0.280769  \n",
       "2016-05-28          0.9862           0.288625  \n",
       "2020-10-10          0.9886           0.311180  \n",
       "2015-12-06         -0.6655           0.315278  \n",
       "2016-11-13          0.4404           0.372222  \n",
       "\n",
       "[3652 rows x 8 columns]"
      ]
     },
     "execution_count": 147,
     "metadata": {},
     "output_type": "execute_result"
    }
   ],
   "source": [
    "daily.sort_values('textblob_polarity',ascending=True)"
   ]
  },
  {
   "cell_type": "code",
   "execution_count": 137,
   "id": "b0862b87",
   "metadata": {},
   "outputs": [
    {
     "name": "stderr",
     "output_type": "stream",
     "text": [
      "<ipython-input-137-a4dfeba400c0>:1: FutureWarning: Indexing with multiple keys (implicitly converted to a tuple of keys) will be deprecated, use a list instead.\n",
      "  daily.groupby('price_direction')['vader_compound','textblob_polarity'].mean().T.plot(kind='bar', stacked=False)\n"
     ]
    },
    {
     "data": {
      "image/png": "[encoded data removed]",
      "text/plain": [
       "<Figure size 432x288 with 1 Axes>"
      ]
     },
     "metadata": {
      "needs_background": "light"
     },
     "output_type": "display_data"
    }
   ],
   "source": [
    "daily.groupby('price_direction')['vader_compound','textblob_polarity'].mean().T.plot(kind='bar', stacked=False)\n",
    "plt.title('Average Sentiment Analyses of NYT Business Articles with S&P 500 Price Change')\n",
    "plt.xlabel('Sentiment Analyzers')\n",
    "plt.ylabel('Sentiment Score');"
   ]
  },
  {
   "cell_type": "markdown",
   "id": "380b3fea",
   "metadata": {},
   "source": [
    "### Text Cleaning\n",
    "eliminate the punctuation, URL, and @\n",
    "#source: https://monkeylearn.com/blog/text-cleaning/"
   ]
  },
  {
   "cell_type": "code",
   "execution_count": 156,
   "id": "90839bb5",
   "metadata": {},
   "outputs": [],
   "source": [
    "#Use this to remove http, punctuation, URL, and @\n",
    "daily['text'] = daily['text'].map(lambda x: re.sub(r\"(@\\[A-Za-z0-9]+)|([^0-9A-Za-z \\t])|(\\w+:\\/\\/\\S+)|^rt|http.+?\", \"\", str(x)))\n"
   ]
  },
  {
   "cell_type": "markdown",
   "id": "976ec4c3",
   "metadata": {},
   "source": [
    "tokenize and lemmatize\n",
    "(no longer lemmatizing, results from gridsearch showed superior accuracy without lemmatizing)"
   ]
  },
  {
   "cell_type": "code",
   "execution_count": 139,
   "id": "d40ea43c",
   "metadata": {},
   "outputs": [],
   "source": [
    "\n",
    "# import string\n",
    "\n",
    "# lemmatizer = WordNetLemmatizer()\n",
    "# tokenizer = RegexpTokenizer(r'\\w+|\\$[\\d\\.]+|\\S+')\n",
    "\n",
    "# #removing additional \n",
    "# def tokelemma(z):\n",
    "#     z = str(z).lower().translate(str.maketrans('','','1234567890')).translate(str.maketrans('','',string.punctuation))\n",
    "#     #credit to DrChuck https://stackoverflow.com/questions/23175809/str-translate-gives-typeerror-translate-takes-one-argument-2-given-worked-i\n",
    "#     toke = tokenizer.tokenize(z.lower())\n",
    "#     toke = ' '.join([w for w in toke])\n",
    "#     return toke\n",
    "\n",
    "#     #lemmatized_output = ' '.join([lemmatizer.lemmatize(w) for w in toke])\n",
    "#     #return lemmatized_output\n",
    "# daily['text'] = daily['text'].map(tokelemma)\n",
    "\n",
    "# #has to ha lemmatizer issue with exceptions https://stackoverflow.com/questions/33594721/why-nltk-lemmatization-has-wrong-output-even-if-verb-exc-has-added-right-value"
   ]
  },
  {
   "cell_type": "markdown",
   "id": "df08d589",
   "metadata": {},
   "source": [
    "# Train Test Split"
   ]
  },
  {
   "cell_type": "code",
   "execution_count": 157,
   "id": "9c02512d",
   "metadata": {},
   "outputs": [
    {
     "data": {
      "text/html": [
       "<div>\n",
       "<style scoped>\n",
       "    .dataframe tbody tr th:only-of-type {\n",
       "        vertical-align: middle;\n",
       "    }\n",
       "\n",
       "    .dataframe tbody tr th {\n",
       "        vertical-align: top;\n",
       "    }\n",
       "\n",
       "    .dataframe thead th {\n",
       "        text-align: right;\n",
       "    }\n",
       "</style>\n",
       "<table border=\"1\" class=\"dataframe\">\n",
       "  <thead>\n",
       "    <tr style=\"text-align: right;\">\n",
       "      <th></th>\n",
       "      <th>Unnamed: 0</th>\n",
       "      <th>date</th>\n",
       "      <th>text</th>\n",
       "      <th>price</th>\n",
       "      <th>pct_change</th>\n",
       "      <th>price_direction</th>\n",
       "      <th>day_of_week</th>\n",
       "      <th>is_holiday</th>\n",
       "      <th>vader_compound</th>\n",
       "      <th>textblob_polarity</th>\n",
       "    </tr>\n",
       "  </thead>\n",
       "  <tbody>\n",
       "    <tr>\n",
       "      <th>0</th>\n",
       "      <td>0</td>\n",
       "      <td>2011-07-29</td>\n",
       "      <td>Drug App Comes Free Ads Included Epocrates has...</td>\n",
       "      <td>1292.28</td>\n",
       "      <td>NaN</td>\n",
       "      <td>first</td>\n",
       "      <td>4</td>\n",
       "      <td>0</td>\n",
       "      <td>0.9591</td>\n",
       "      <td>0.056552</td>\n",
       "    </tr>\n",
       "  </tbody>\n",
       "</table>\n",
       "</div>"
      ],
      "text/plain": [
       "   Unnamed: 0        date                                               text  \\\n",
       "0           0  2011-07-29  Drug App Comes Free Ads Included Epocrates has...   \n",
       "\n",
       "     price  pct_change price_direction  day_of_week  is_holiday  \\\n",
       "0  1292.28         NaN           first            4           0   \n",
       "\n",
       "   vader_compound  textblob_polarity  \n",
       "0          0.9591           0.056552  "
      ]
     },
     "execution_count": 157,
     "metadata": {},
     "output_type": "execute_result"
    }
   ],
   "source": [
    "daily.head(1)"
   ]
  },
  {
   "cell_type": "code",
   "execution_count": 158,
   "id": "44a906e2",
   "metadata": {
    "scrolled": true
   },
   "outputs": [
    {
     "data": {
      "text/plain": [
       "up       1391\n",
       "down     1137\n",
       "same     1124\n",
       "first       1\n",
       "Name: price_direction, dtype: int64"
      ]
     },
     "execution_count": 158,
     "metadata": {},
     "output_type": "execute_result"
    }
   ],
   "source": [
    "daily['price_direction'].value_counts()"
   ]
  },
  {
   "cell_type": "code",
   "execution_count": 159,
   "id": "6c5c6d73",
   "metadata": {},
   "outputs": [],
   "source": [
    "#prep columns to numerical\n",
    "daily.dropna(inplace=True)\n",
    "daily['price_direction'] = daily['price_direction'].map({'down' : -1,'same' : 0 , 'up' : 1})"
   ]
  },
  {
   "cell_type": "code",
   "execution_count": 143,
   "id": "73e5ae2b",
   "metadata": {},
   "outputs": [],
   "source": [
    "#declaring features and target variable for tfidf/countvectorization. They will not take an array as the X\n",
    "X = daily['text']\n",
    "y = daily['price_direction']\n",
    "\n",
    "#sticking with a test size of 0.20 to save 2 years of data to test on\n",
    "X_train, X_test, y_train, y_test = train_test_split(X, y, random_state=42, shuffle=False)"
   ]
  },
  {
   "cell_type": "code",
   "execution_count": 144,
   "id": "5ac54203",
   "metadata": {},
   "outputs": [
    {
     "data": {
      "text/plain": [
       "1       global concern over u debt ceiling disagreemen...\n",
       "2       deal may avert default but some ask is that go...\n",
       "3       charging a premium for movie at a cost highpri...\n",
       "4       pearl finer but still cheap flow from china ch...\n",
       "5       aaa rating is a rarity in business hanging ove...\n",
       "                              ...                        \n",
       "3648    way to tame airline nightmare thousand of pass...\n",
       "3649    like choosing a pope how succession got messy ...\n",
       "3650    now going viral meeting online friend in real ...\n",
       "3651    japan economy return to growth but virus threa...\n",
       "3652    day may be numbered for the world oldest bank ...\n",
       "Name: text, Length: 3652, dtype: object"
      ]
     },
     "execution_count": 144,
     "metadata": {},
     "output_type": "execute_result"
    }
   ],
   "source": [
    "X"
   ]
  },
  {
   "cell_type": "markdown",
   "id": "392479e8",
   "metadata": {},
   "source": [
    "### CountVectorizer"
   ]
  },
  {
   "cell_type": "code",
   "execution_count": 145,
   "id": "fc46afc0",
   "metadata": {},
   "outputs": [],
   "source": [
    "cvec = CountVectorizer(stop_words='english',ngram_range=(1,2))\n",
    "Xc_train = cvec.fit_transform(X_train)\n",
    "Xc_test = cvec.transform(X_test)"
   ]
  },
  {
   "cell_type": "code",
   "execution_count": 146,
   "id": "f10dbc0e",
   "metadata": {},
   "outputs": [
    {
     "ename": "NotFittedError",
     "evalue": "Vocabulary not fitted or provided",
     "output_type": "error",
     "traceback": [
      "\u001b[0;31m---------------------------------------------------------------------------\u001b[0m",
      "\u001b[0;31mNotFittedError\u001b[0m                            Traceback (most recent call last)",
      "\u001b[0;32m<ipython-input-146-7535f5dd65c6>\u001b[0m in \u001b[0;36m<module>\u001b[0;34m\u001b[0m\n\u001b[1;32m      1\u001b[0m \u001b[0;31m#processing CV on main dataframe\u001b[0m\u001b[0;34m\u001b[0m\u001b[0;34m\u001b[0m\u001b[0;34m\u001b[0m\u001b[0m\n\u001b[1;32m      2\u001b[0m \u001b[0mcvec\u001b[0m \u001b[0;34m=\u001b[0m \u001b[0mCountVectorizer\u001b[0m\u001b[0;34m(\u001b[0m\u001b[0mngram_range\u001b[0m\u001b[0;34m=\u001b[0m\u001b[0;34m(\u001b[0m\u001b[0;36m1\u001b[0m\u001b[0;34m,\u001b[0m\u001b[0;36m2\u001b[0m\u001b[0;34m)\u001b[0m\u001b[0;34m)\u001b[0m\u001b[0;34m\u001b[0m\u001b[0;34m\u001b[0m\u001b[0m\n\u001b[0;32m----> 3\u001b[0;31m \u001b[0mtext_fields\u001b[0m \u001b[0;34m=\u001b[0m \u001b[0mpd\u001b[0m\u001b[0;34m.\u001b[0m\u001b[0mDataFrame\u001b[0m\u001b[0;34m(\u001b[0m\u001b[0mXc_train\u001b[0m\u001b[0;34m.\u001b[0m\u001b[0mtodense\u001b[0m\u001b[0;34m(\u001b[0m\u001b[0;34m)\u001b[0m\u001b[0;34m,\u001b[0m \u001b[0mcolumns\u001b[0m \u001b[0;34m=\u001b[0m \u001b[0mcvec\u001b[0m\u001b[0;34m.\u001b[0m\u001b[0mget_feature_names\u001b[0m\u001b[0;34m(\u001b[0m\u001b[0;34m)\u001b[0m\u001b[0;34m)\u001b[0m\u001b[0;34m\u001b[0m\u001b[0;34m\u001b[0m\u001b[0m\n\u001b[0m\u001b[1;32m      4\u001b[0m \u001b[0mdf\u001b[0m \u001b[0;34m=\u001b[0m \u001b[0mtext_fields\u001b[0m\u001b[0;34m.\u001b[0m\u001b[0mjoin\u001b[0m\u001b[0;34m(\u001b[0m\u001b[0mdaily\u001b[0m\u001b[0;34m,\u001b[0m \u001b[0mhow\u001b[0m\u001b[0;34m=\u001b[0m\u001b[0;34m'outer'\u001b[0m\u001b[0;34m,\u001b[0m\u001b[0mlsuffix\u001b[0m\u001b[0;34m=\u001b[0m \u001b[0;34m'_'\u001b[0m\u001b[0;34m)\u001b[0m\u001b[0;34m\u001b[0m\u001b[0;34m\u001b[0m\u001b[0m\n\u001b[1;32m      5\u001b[0m \u001b[0mdf\u001b[0m\u001b[0;34m.\u001b[0m\u001b[0mhead\u001b[0m\u001b[0;34m(\u001b[0m\u001b[0;36m3\u001b[0m\u001b[0;34m)\u001b[0m\u001b[0;34m\u001b[0m\u001b[0;34m\u001b[0m\u001b[0m\n",
      "\u001b[0;32m~/opt/anaconda3/lib/python3.8/site-packages/sklearn/feature_extraction/text.py\u001b[0m in \u001b[0;36mget_feature_names\u001b[0;34m(self)\u001b[0m\n\u001b[1;32m   1298\u001b[0m         \"\"\"\n\u001b[1;32m   1299\u001b[0m \u001b[0;34m\u001b[0m\u001b[0m\n\u001b[0;32m-> 1300\u001b[0;31m         \u001b[0mself\u001b[0m\u001b[0;34m.\u001b[0m\u001b[0m_check_vocabulary\u001b[0m\u001b[0;34m(\u001b[0m\u001b[0;34m)\u001b[0m\u001b[0;34m\u001b[0m\u001b[0;34m\u001b[0m\u001b[0m\n\u001b[0m\u001b[1;32m   1301\u001b[0m \u001b[0;34m\u001b[0m\u001b[0m\n\u001b[1;32m   1302\u001b[0m         return [t for t, i in sorted(self.vocabulary_.items(),\n",
      "\u001b[0;32m~/opt/anaconda3/lib/python3.8/site-packages/sklearn/feature_extraction/text.py\u001b[0m in \u001b[0;36m_check_vocabulary\u001b[0;34m(self)\u001b[0m\n\u001b[1;32m    470\u001b[0m             \u001b[0mself\u001b[0m\u001b[0;34m.\u001b[0m\u001b[0m_validate_vocabulary\u001b[0m\u001b[0;34m(\u001b[0m\u001b[0;34m)\u001b[0m\u001b[0;34m\u001b[0m\u001b[0;34m\u001b[0m\u001b[0m\n\u001b[1;32m    471\u001b[0m             \u001b[0;32mif\u001b[0m \u001b[0;32mnot\u001b[0m \u001b[0mself\u001b[0m\u001b[0;34m.\u001b[0m\u001b[0mfixed_vocabulary_\u001b[0m\u001b[0;34m:\u001b[0m\u001b[0;34m\u001b[0m\u001b[0;34m\u001b[0m\u001b[0m\n\u001b[0;32m--> 472\u001b[0;31m                 \u001b[0;32mraise\u001b[0m \u001b[0mNotFittedError\u001b[0m\u001b[0;34m(\u001b[0m\u001b[0;34m\"Vocabulary not fitted or provided\"\u001b[0m\u001b[0;34m)\u001b[0m\u001b[0;34m\u001b[0m\u001b[0;34m\u001b[0m\u001b[0m\n\u001b[0m\u001b[1;32m    473\u001b[0m \u001b[0;34m\u001b[0m\u001b[0m\n\u001b[1;32m    474\u001b[0m         \u001b[0;32mif\u001b[0m \u001b[0mlen\u001b[0m\u001b[0;34m(\u001b[0m\u001b[0mself\u001b[0m\u001b[0;34m.\u001b[0m\u001b[0mvocabulary_\u001b[0m\u001b[0;34m)\u001b[0m \u001b[0;34m==\u001b[0m \u001b[0;36m0\u001b[0m\u001b[0;34m:\u001b[0m\u001b[0;34m\u001b[0m\u001b[0;34m\u001b[0m\u001b[0m\n",
      "\u001b[0;31mNotFittedError\u001b[0m: Vocabulary not fitted or provided"
     ]
    }
   ],
   "source": [
    "#processing CV on main dataframe\n",
    "cvec = CountVectorizer(ngram_range=(1,2))\n",
    "text_fields = pd.DataFrame(Xc_train.todense(), columns = cvec.get_feature_names())\n",
    "df = text_fields.join(daily, how='outer',lsuffix= '_')\n",
    "df.head(3)\n",
    "\n",
    "\n",
    "#dropping text series after vectorizing\n",
    "#daily.drop(columns = ['text'], inplace=True, axis =1)"
   ]
  },
  {
   "cell_type": "code",
   "execution_count": null,
   "id": "6f85e8d0",
   "metadata": {},
   "outputs": [],
   "source": [
    "# plot top occuring words\n",
    "Xc_train_df = pd.DataFrame(Xc_train.todense(), columns=cvec.get_feature_names())\n",
    "Xc_train_df.sum().sort_values(ascending = False).head(10).plot(kind = 'barh');\n",
    "#wa and ha are was and has. may need to eliminate these with manual stopword removal"
   ]
  },
  {
   "cell_type": "code",
   "execution_count": null,
   "id": "48c998b5",
   "metadata": {},
   "outputs": [],
   "source": [
    "#further data cleaning before modeling with all features\n",
    "stop\n",
    "daily.set_index('date', inplace=True)\n",
    "daily.drop(columns=['Unnamed: 0'], inplace=True)"
   ]
  },
  {
   "cell_type": "markdown",
   "id": "be1e234d",
   "metadata": {},
   "source": [
    "#### CV Grid search with MNB"
   ]
  },
  {
   "cell_type": "code",
   "execution_count": 127,
   "id": "3db3247e",
   "metadata": {},
   "outputs": [
    {
     "ename": "ValueError",
     "evalue": "Input contains NaN, infinity or a value too large for dtype('float64').",
     "output_type": "error",
     "traceback": [
      "\u001b[0;31m---------------------------------------------------------------------------\u001b[0m",
      "\u001b[0;31mValueError\u001b[0m                                Traceback (most recent call last)",
      "\u001b[0;32m<ipython-input-127-74cd46f4ea54>\u001b[0m in \u001b[0;36m<module>\u001b[0;34m\u001b[0m\n\u001b[1;32m     37\u001b[0m \u001b[0;34m\u001b[0m\u001b[0m\n\u001b[1;32m     38\u001b[0m \u001b[0mgs\u001b[0m \u001b[0;34m=\u001b[0m \u001b[0mGridSearchCV\u001b[0m\u001b[0;34m(\u001b[0m\u001b[0mpipe\u001b[0m\u001b[0;34m,\u001b[0m \u001b[0mpipe_params\u001b[0m\u001b[0;34m,\u001b[0m \u001b[0mcv\u001b[0m \u001b[0;34m=\u001b[0m\u001b[0;36m3\u001b[0m\u001b[0;34m)\u001b[0m\u001b[0;34m\u001b[0m\u001b[0;34m\u001b[0m\u001b[0m\n\u001b[0;32m---> 39\u001b[0;31m \u001b[0mgs\u001b[0m\u001b[0;34m.\u001b[0m\u001b[0mfit\u001b[0m\u001b[0;34m(\u001b[0m\u001b[0mX_train\u001b[0m\u001b[0;34m,\u001b[0m \u001b[0my_train\u001b[0m\u001b[0;34m)\u001b[0m\u001b[0;34m\u001b[0m\u001b[0;34m\u001b[0m\u001b[0m\n\u001b[0m\u001b[1;32m     40\u001b[0m \u001b[0;34m\u001b[0m\u001b[0m\n\u001b[1;32m     41\u001b[0m \u001b[0;31m# What's the best score?\u001b[0m\u001b[0;34m\u001b[0m\u001b[0;34m\u001b[0m\u001b[0;34m\u001b[0m\u001b[0m\n",
      "\u001b[0;32m~/opt/anaconda3/lib/python3.8/site-packages/sklearn/utils/validation.py\u001b[0m in \u001b[0;36minner_f\u001b[0;34m(*args, **kwargs)\u001b[0m\n\u001b[1;32m     61\u001b[0m             \u001b[0mextra_args\u001b[0m \u001b[0;34m=\u001b[0m \u001b[0mlen\u001b[0m\u001b[0;34m(\u001b[0m\u001b[0margs\u001b[0m\u001b[0;34m)\u001b[0m \u001b[0;34m-\u001b[0m \u001b[0mlen\u001b[0m\u001b[0;34m(\u001b[0m\u001b[0mall_args\u001b[0m\u001b[0;34m)\u001b[0m\u001b[0;34m\u001b[0m\u001b[0;34m\u001b[0m\u001b[0m\n\u001b[1;32m     62\u001b[0m             \u001b[0;32mif\u001b[0m \u001b[0mextra_args\u001b[0m \u001b[0;34m<=\u001b[0m \u001b[0;36m0\u001b[0m\u001b[0;34m:\u001b[0m\u001b[0;34m\u001b[0m\u001b[0;34m\u001b[0m\u001b[0m\n\u001b[0;32m---> 63\u001b[0;31m                 \u001b[0;32mreturn\u001b[0m \u001b[0mf\u001b[0m\u001b[0;34m(\u001b[0m\u001b[0;34m*\u001b[0m\u001b[0margs\u001b[0m\u001b[0;34m,\u001b[0m \u001b[0;34m**\u001b[0m\u001b[0mkwargs\u001b[0m\u001b[0;34m)\u001b[0m\u001b[0;34m\u001b[0m\u001b[0;34m\u001b[0m\u001b[0m\n\u001b[0m\u001b[1;32m     64\u001b[0m \u001b[0;34m\u001b[0m\u001b[0m\n\u001b[1;32m     65\u001b[0m             \u001b[0;31m# extra_args > 0\u001b[0m\u001b[0;34m\u001b[0m\u001b[0;34m\u001b[0m\u001b[0;34m\u001b[0m\u001b[0m\n",
      "\u001b[0;32m~/opt/anaconda3/lib/python3.8/site-packages/sklearn/model_selection/_search.py\u001b[0m in \u001b[0;36mfit\u001b[0;34m(self, X, y, groups, **fit_params)\u001b[0m\n\u001b[1;32m    760\u001b[0m         \u001b[0mfit_params\u001b[0m \u001b[0;34m=\u001b[0m \u001b[0m_check_fit_params\u001b[0m\u001b[0;34m(\u001b[0m\u001b[0mX\u001b[0m\u001b[0;34m,\u001b[0m \u001b[0mfit_params\u001b[0m\u001b[0;34m)\u001b[0m\u001b[0;34m\u001b[0m\u001b[0;34m\u001b[0m\u001b[0m\n\u001b[1;32m    761\u001b[0m \u001b[0;34m\u001b[0m\u001b[0m\n\u001b[0;32m--> 762\u001b[0;31m         \u001b[0mcv_orig\u001b[0m \u001b[0;34m=\u001b[0m \u001b[0mcheck_cv\u001b[0m\u001b[0;34m(\u001b[0m\u001b[0mself\u001b[0m\u001b[0;34m.\u001b[0m\u001b[0mcv\u001b[0m\u001b[0;34m,\u001b[0m \u001b[0my\u001b[0m\u001b[0;34m,\u001b[0m \u001b[0mclassifier\u001b[0m\u001b[0;34m=\u001b[0m\u001b[0mis_classifier\u001b[0m\u001b[0;34m(\u001b[0m\u001b[0mestimator\u001b[0m\u001b[0;34m)\u001b[0m\u001b[0;34m)\u001b[0m\u001b[0;34m\u001b[0m\u001b[0;34m\u001b[0m\u001b[0m\n\u001b[0m\u001b[1;32m    763\u001b[0m         \u001b[0mn_splits\u001b[0m \u001b[0;34m=\u001b[0m \u001b[0mcv_orig\u001b[0m\u001b[0;34m.\u001b[0m\u001b[0mget_n_splits\u001b[0m\u001b[0;34m(\u001b[0m\u001b[0mX\u001b[0m\u001b[0;34m,\u001b[0m \u001b[0my\u001b[0m\u001b[0;34m,\u001b[0m \u001b[0mgroups\u001b[0m\u001b[0;34m)\u001b[0m\u001b[0;34m\u001b[0m\u001b[0;34m\u001b[0m\u001b[0m\n\u001b[1;32m    764\u001b[0m \u001b[0;34m\u001b[0m\u001b[0m\n",
      "\u001b[0;32m~/opt/anaconda3/lib/python3.8/site-packages/sklearn/utils/validation.py\u001b[0m in \u001b[0;36minner_f\u001b[0;34m(*args, **kwargs)\u001b[0m\n\u001b[1;32m     61\u001b[0m             \u001b[0mextra_args\u001b[0m \u001b[0;34m=\u001b[0m \u001b[0mlen\u001b[0m\u001b[0;34m(\u001b[0m\u001b[0margs\u001b[0m\u001b[0;34m)\u001b[0m \u001b[0;34m-\u001b[0m \u001b[0mlen\u001b[0m\u001b[0;34m(\u001b[0m\u001b[0mall_args\u001b[0m\u001b[0;34m)\u001b[0m\u001b[0;34m\u001b[0m\u001b[0;34m\u001b[0m\u001b[0m\n\u001b[1;32m     62\u001b[0m             \u001b[0;32mif\u001b[0m \u001b[0mextra_args\u001b[0m \u001b[0;34m<=\u001b[0m \u001b[0;36m0\u001b[0m\u001b[0;34m:\u001b[0m\u001b[0;34m\u001b[0m\u001b[0;34m\u001b[0m\u001b[0m\n\u001b[0;32m---> 63\u001b[0;31m                 \u001b[0;32mreturn\u001b[0m \u001b[0mf\u001b[0m\u001b[0;34m(\u001b[0m\u001b[0;34m*\u001b[0m\u001b[0margs\u001b[0m\u001b[0;34m,\u001b[0m \u001b[0;34m**\u001b[0m\u001b[0mkwargs\u001b[0m\u001b[0;34m)\u001b[0m\u001b[0;34m\u001b[0m\u001b[0;34m\u001b[0m\u001b[0m\n\u001b[0m\u001b[1;32m     64\u001b[0m \u001b[0;34m\u001b[0m\u001b[0m\n\u001b[1;32m     65\u001b[0m             \u001b[0;31m# extra_args > 0\u001b[0m\u001b[0;34m\u001b[0m\u001b[0;34m\u001b[0m\u001b[0;34m\u001b[0m\u001b[0m\n",
      "\u001b[0;32m~/opt/anaconda3/lib/python3.8/site-packages/sklearn/model_selection/_split.py\u001b[0m in \u001b[0;36mcheck_cv\u001b[0;34m(cv, y, classifier)\u001b[0m\n\u001b[1;32m   2059\u001b[0m     \u001b[0;32mif\u001b[0m \u001b[0misinstance\u001b[0m\u001b[0;34m(\u001b[0m\u001b[0mcv\u001b[0m\u001b[0;34m,\u001b[0m \u001b[0mnumbers\u001b[0m\u001b[0;34m.\u001b[0m\u001b[0mIntegral\u001b[0m\u001b[0;34m)\u001b[0m\u001b[0;34m:\u001b[0m\u001b[0;34m\u001b[0m\u001b[0;34m\u001b[0m\u001b[0m\n\u001b[1;32m   2060\u001b[0m         if (classifier and (y is not None) and\n\u001b[0;32m-> 2061\u001b[0;31m                 (type_of_target(y) in ('binary', 'multiclass'))):\n\u001b[0m\u001b[1;32m   2062\u001b[0m             \u001b[0;32mreturn\u001b[0m \u001b[0mStratifiedKFold\u001b[0m\u001b[0;34m(\u001b[0m\u001b[0mcv\u001b[0m\u001b[0;34m)\u001b[0m\u001b[0;34m\u001b[0m\u001b[0;34m\u001b[0m\u001b[0m\n\u001b[1;32m   2063\u001b[0m         \u001b[0;32melse\u001b[0m\u001b[0;34m:\u001b[0m\u001b[0;34m\u001b[0m\u001b[0;34m\u001b[0m\u001b[0m\n",
      "\u001b[0;32m~/opt/anaconda3/lib/python3.8/site-packages/sklearn/utils/multiclass.py\u001b[0m in \u001b[0;36mtype_of_target\u001b[0;34m(y)\u001b[0m\n\u001b[1;32m    301\u001b[0m     \u001b[0;32mif\u001b[0m \u001b[0my\u001b[0m\u001b[0;34m.\u001b[0m\u001b[0mdtype\u001b[0m\u001b[0;34m.\u001b[0m\u001b[0mkind\u001b[0m \u001b[0;34m==\u001b[0m \u001b[0;34m'f'\u001b[0m \u001b[0;32mand\u001b[0m \u001b[0mnp\u001b[0m\u001b[0;34m.\u001b[0m\u001b[0many\u001b[0m\u001b[0;34m(\u001b[0m\u001b[0my\u001b[0m \u001b[0;34m!=\u001b[0m \u001b[0my\u001b[0m\u001b[0;34m.\u001b[0m\u001b[0mastype\u001b[0m\u001b[0;34m(\u001b[0m\u001b[0mint\u001b[0m\u001b[0;34m)\u001b[0m\u001b[0;34m)\u001b[0m\u001b[0;34m:\u001b[0m\u001b[0;34m\u001b[0m\u001b[0;34m\u001b[0m\u001b[0m\n\u001b[1;32m    302\u001b[0m         \u001b[0;31m# [.1, .2, 3] or [[.1, .2, 3]] or [[1., .2]] and not [1., 2., 3.]\u001b[0m\u001b[0;34m\u001b[0m\u001b[0;34m\u001b[0m\u001b[0;34m\u001b[0m\u001b[0m\n\u001b[0;32m--> 303\u001b[0;31m         \u001b[0m_assert_all_finite\u001b[0m\u001b[0;34m(\u001b[0m\u001b[0my\u001b[0m\u001b[0;34m)\u001b[0m\u001b[0;34m\u001b[0m\u001b[0;34m\u001b[0m\u001b[0m\n\u001b[0m\u001b[1;32m    304\u001b[0m         \u001b[0;32mreturn\u001b[0m \u001b[0;34m'continuous'\u001b[0m \u001b[0;34m+\u001b[0m \u001b[0msuffix\u001b[0m\u001b[0;34m\u001b[0m\u001b[0;34m\u001b[0m\u001b[0m\n\u001b[1;32m    305\u001b[0m \u001b[0;34m\u001b[0m\u001b[0m\n",
      "\u001b[0;32m~/opt/anaconda3/lib/python3.8/site-packages/sklearn/utils/validation.py\u001b[0m in \u001b[0;36m_assert_all_finite\u001b[0;34m(X, allow_nan, msg_dtype)\u001b[0m\n\u001b[1;32m    101\u001b[0m                 not allow_nan and not np.isfinite(X).all()):\n\u001b[1;32m    102\u001b[0m             \u001b[0mtype_err\u001b[0m \u001b[0;34m=\u001b[0m \u001b[0;34m'infinity'\u001b[0m \u001b[0;32mif\u001b[0m \u001b[0mallow_nan\u001b[0m \u001b[0;32melse\u001b[0m \u001b[0;34m'NaN, infinity'\u001b[0m\u001b[0;34m\u001b[0m\u001b[0;34m\u001b[0m\u001b[0m\n\u001b[0;32m--> 103\u001b[0;31m             raise ValueError(\n\u001b[0m\u001b[1;32m    104\u001b[0m                     \u001b[0mmsg_err\u001b[0m\u001b[0;34m.\u001b[0m\u001b[0mformat\u001b[0m\u001b[0;34m\u001b[0m\u001b[0;34m\u001b[0m\u001b[0m\n\u001b[1;32m    105\u001b[0m                     (type_err,\n",
      "\u001b[0;31mValueError\u001b[0m: Input contains NaN, infinity or a value too large for dtype('float64')."
     ]
    }
   ],
   "source": [
    "cvec = CountVectorizer() #trying while keeping stopwords\n",
    "#cvec = CountVectorizer(stop_words = 'english')\n",
    "Xc_train = cvec.fit_transform(X_train)\n",
    "Xc_test = cvec.transform(X_test)\n",
    "\n",
    "\n",
    "'''\n",
    "#To add custom stop words\n",
    "my_words = ['spoon', 'mustard', 'gucci', 'circle jerk', 'tortuga']\n",
    "\n",
    "stop_words = text.ENGLISH_STOP_WORDS.union(my_words)\n",
    "CountVectorizer(stopwords = stopwords)'''\n",
    "\n",
    "# Pipeline with two stages:\n",
    "# 1. CountVectorizer (transformer)\n",
    "# 2. Multinomial Naive Bayes (estimator)\n",
    "\n",
    "pipe = Pipeline([\n",
    "    ('cvec', CountVectorizer() ),\n",
    "    ('nb', MultinomialNB())\n",
    "])\n",
    "\n",
    "# Hyperparameters:\n",
    "# Maximum number of features fit: 2000, 3000, 4000, 5000\n",
    "# Minimum number of documents needed to include token: 2, 3\n",
    "# Maximum number of documents needed to include token: 90%, 95%\n",
    "# Check (individual tokens) and also check (individual tokens and 2-grams).\n",
    "\n",
    "pipe_params = {\n",
    "    'cvec__max_features': [1000, 2000, 4000, 5000],\n",
    "    'cvec__min_df': [2,3],\n",
    "    'cvec__max_df': [.9, .95],\n",
    "    'cvec__ngram_range': [(1,1), (1,2)]\n",
    "}\n",
    "\n",
    "# Instantiate GridSearchCV.\n",
    "\n",
    "gs = GridSearchCV(pipe, pipe_params, cv =3) \n",
    "gs.fit(X_train, y_train)\n",
    "\n",
    "# What's the best score?\n",
    "\n",
    "gs.score(X_train, y_train), gs.score(X_test, y_test)\n",
    "%time"
   ]
  },
  {
   "cell_type": "code",
   "execution_count": null,
   "id": "ef8e00f5",
   "metadata": {},
   "outputs": [],
   "source": [
    "gs.best_params_"
   ]
  },
  {
   "cell_type": "code",
   "execution_count": null,
   "id": "50ac0b74",
   "metadata": {},
   "outputs": [],
   "source": [
    "# predictions\n",
    "preds = gs.predict(X_test)\n",
    "\n",
    "# View confusion matrix\n",
    "plot_confusion_matrix(gs, X_test, y_test, cmap='Blues');\n"
   ]
  },
  {
   "cell_type": "code",
   "execution_count": null,
   "id": "5eb229c2",
   "metadata": {},
   "outputs": [],
   "source": [
    "accuracy_score(y_test, preds, sample_weight=None)"
   ]
  },
  {
   "cell_type": "markdown",
   "id": "40b83dcf",
   "metadata": {},
   "source": [
    "## TFIDF\n",
    "\n",
    "Less likely to use tFIDF since it is looking for relative and rare words across documents to weight them in comparison and that isn't necessarily the goal of our analysis. Weighting words is less important than finding sentiment from counting words."
   ]
  },
  {
   "cell_type": "code",
   "execution_count": 147,
   "id": "6023a00d",
   "metadata": {},
   "outputs": [
    {
     "data": {
      "text/plain": [
       "Text(0, 0.5, 'Words')"
      ]
     },
     "execution_count": 147,
     "metadata": {},
     "output_type": "execute_result"
    },
    {
     "data": {
      "image/png": "[encoded data removed]",
      "text/plain": [
       "<Figure size 432x288 with 1 Axes>"
      ]
     },
     "metadata": {
      "needs_background": "light"
     },
     "output_type": "display_data"
    }
   ],
   "source": [
    "# plot top occuring words\n",
    "tvec = TfidfVectorizer(stop_words='english')\n",
    "X_train_df = pd.DataFrame(tvec.fit_transform(X_train).todense(), \n",
    "                          columns=tvec.get_feature_names())\n",
    "X_train_df.sum().sort_values(ascending=False).head(10).plot(kind='barh');\n",
    "plt.title('Top 10 Words in NYT Business Articles', fontsize=16)\n",
    "plt.xlabel('Frequency', fontsize=18)\n",
    "plt.ylabel('Words', fontsize=18)"
   ]
  },
  {
   "cell_type": "code",
   "execution_count": 148,
   "id": "0187ea69",
   "metadata": {},
   "outputs": [
    {
     "name": "stdout",
     "output_type": "stream",
     "text": [
      "CPU times: user 1 µs, sys: 0 ns, total: 1 µs\n",
      "Wall time: 4.77 µs\n"
     ]
    }
   ],
   "source": [
    "# Set up a pipeline with tf-idf vectorizer and multinomial naive bayes\n",
    "\n",
    "pipe_tvec = Pipeline([\n",
    "    ('tvec', TfidfVectorizer()),\n",
    "    ('nb', MultinomialNB() )\n",
    "])\n",
    "\n",
    "# Search over the following values of hyperparameters:\n",
    "# Maximum number of features fit: 2000, 3000, 4000, 5000\n",
    "# No stop words and english stop words\n",
    "# Check (individual tokens) and also check (individual tokens and 2-grams).\n",
    "\n",
    "\n",
    "pipe_tvec_params = {\n",
    "    'tvec__max_features': [1000, 2000, 4000],\n",
    "    'tvec__stop_words': [None, 'english'],\n",
    "    'tvec__ngram_range': [(1,1), (1,2)],\n",
    "    'tvec__sublinear_tf': [True],\n",
    "    'nb__alpha': [1,2]\n",
    "}\n",
    "\n",
    "# Instantiate GridSearchCV.\n",
    "gs_2 = GridSearchCV(pipe_tvec, pipe_tvec_params, cv = 3)\n",
    "gs_2.fit(X_train, y_train)\n",
    "gs_2.score(X_train, y_train), gs_2.score(X_test, y_test)\n",
    "%time"
   ]
  },
  {
   "cell_type": "code",
   "execution_count": 149,
   "id": "e932d2bc",
   "metadata": {},
   "outputs": [
    {
     "data": {
      "text/plain": [
       "{'nb__alpha': 2,\n",
       " 'tvec__max_features': 1000,\n",
       " 'tvec__ngram_range': (1, 1),\n",
       " 'tvec__stop_words': None,\n",
       " 'tvec__sublinear_tf': True}"
      ]
     },
     "execution_count": 149,
     "metadata": {},
     "output_type": "execute_result"
    }
   ],
   "source": [
    "gs_2.best_params_"
   ]
  },
  {
   "cell_type": "code",
   "execution_count": 150,
   "id": "0795bcc0",
   "metadata": {},
   "outputs": [
    {
     "data": {
      "image/png": "[encoded data removed]",
      "text/plain": [
       "<Figure size 432x288 with 2 Axes>"
      ]
     },
     "metadata": {
      "needs_background": "light"
     },
     "output_type": "display_data"
    }
   ],
   "source": [
    "# Get predictions\n",
    "preds_tvec = gs_2.predict(X_test)\n",
    "# View confusion matrix\n",
    "plot_confusion_matrix(gs_2, X_test, y_test, cmap='Blues');\n"
   ]
  },
  {
   "cell_type": "code",
   "execution_count": 151,
   "id": "a9de3487",
   "metadata": {},
   "outputs": [
    {
     "data": {
      "text/plain": [
       "0.5388828039430449"
      ]
     },
     "execution_count": 151,
     "metadata": {},
     "output_type": "execute_result"
    }
   ],
   "source": [
    "accuracy_score(y_test, preds_tvec, sample_weight=None)"
   ]
  },
  {
   "cell_type": "markdown",
   "id": "c397ed7d",
   "metadata": {},
   "source": [
    "## Evaluation of Models\n",
    "\n",
    "#### With lemmatization\n",
    "\n",
    "TFIDF\n",
    "{'tvec__max_features': 4000,\n",
    " 'tvec__ngram_range': (1, 2),\n",
    " 'tvec__stop_words': None}\n",
    " \n",
    " {'tvec__max_features': 2000,\n",
    " 'tvec__ngram_range': (1, 2),\n",
    " 'tvec__stop_words': None,\n",
    " 'tvec__sublinear_tf': True}\n",
    " \n",
    "CVEC\n",
    " {'cvec__max_df': 0.9,\n",
    " 'cvec__max_features': 4000,\n",
    " 'cvec__min_df': 3,\n",
    " 'cvec__ngram_range': (1, 2)}\n",
    " \n",
    "accuracy score with TFIDF and multinomial bayes:  52.4%\n",
    "accuracy score with CVEC and multinomial bayes: 44.2%\n",
    " \n",
    " \n",
    " \n",
    " \n",
    "#### Non-lemmatized\n",
    " \n",
    " \n",
    " \n",
    " {'tvec__max_features': 2000,\n",
    " 'tvec__ngram_range': (1, 2),\n",
    " 'tvec__stop_words': None,\n",
    " 'tvec__sublinear_tf': True}\n",
    "accuracy score with TFIDF and multinomial bayes:  52.13%\n",
    "\n",
    "\n",
    "{'nb__alpha': 1,\n",
    " 'tvec__max_features': 1000,\n",
    " 'tvec__ngram_range': (1, 1),\n",
    " 'tvec__sublinear_tf': True}\n",
    " \n",
    "accuracy score with TFIDF and multinomial bayes:  54.22%\n",
    "\n",
    "{'nb__alpha': 1,\n",
    " 'tvec__max_features': 1000,\n",
    " 'tvec__ngram_range': (1, 2),\n",
    " 'tvec__stop_words': 'english',\n",
    " 'tvec__sublinear_tf': True}\n",
    " accuracy score with TFIDF and multinomial bayes:  47.10%\n",
    "\n"
   ]
  },
  {
   "cell_type": "code",
   "execution_count": null,
   "id": "1084c2e4",
   "metadata": {},
   "outputs": [],
   "source": []
  }
 ],
 "metadata": {
  "kernelspec": {
   "display_name": "Python 3",
   "language": "python",
   "name": "python3"
  },
  "language_info": {
   "codemirror_mode": {
    "name": "ipython",
    "version": 3
   },
   "file_extension": ".py",
   "mimetype": "text/x-python",
   "name": "python",
   "nbconvert_exporter": "python",
   "pygments_lexer": "ipython3",
   "version": "3.8.8"
  }
 },
 "nbformat": 4,
 "nbformat_minor": 5
}
