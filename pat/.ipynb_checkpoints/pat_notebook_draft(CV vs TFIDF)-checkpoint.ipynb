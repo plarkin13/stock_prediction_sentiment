{
 "cells": [
  {
   "cell_type": "code",
   "execution_count": 2,
   "id": "048c6368",
   "metadata": {},
   "outputs": [],
   "source": [
    "import numpy as np\n",
    "import pandas as pd \n",
    "import datetime"
   ]
  },
  {
   "cell_type": "code",
   "execution_count": 2,
   "id": "3ecae7b1",
   "metadata": {},
   "outputs": [],
   "source": [
    "master_df = pd.read_csv('./data_2011-2013_PL.csv')"
   ]
  },
  {
   "cell_type": "code",
   "execution_count": 3,
   "id": "6cc2b21b",
   "metadata": {},
   "outputs": [
    {
     "data": {
      "text/html": [
       "<div>\n",
       "<style scoped>\n",
       "    .dataframe tbody tr th:only-of-type {\n",
       "        vertical-align: middle;\n",
       "    }\n",
       "\n",
       "    .dataframe tbody tr th {\n",
       "        vertical-align: top;\n",
       "    }\n",
       "\n",
       "    .dataframe thead th {\n",
       "        text-align: right;\n",
       "    }\n",
       "</style>\n",
       "<table border=\"1\" class=\"dataframe\">\n",
       "  <thead>\n",
       "    <tr style=\"text-align: right;\">\n",
       "      <th></th>\n",
       "      <th>Unnamed: 0</th>\n",
       "      <th>abstract</th>\n",
       "      <th>web_url</th>\n",
       "      <th>snippet</th>\n",
       "      <th>lead_paragraph</th>\n",
       "      <th>print_section</th>\n",
       "      <th>print_page</th>\n",
       "      <th>source</th>\n",
       "      <th>multimedia</th>\n",
       "      <th>headline</th>\n",
       "      <th>keywords</th>\n",
       "      <th>pub_date</th>\n",
       "      <th>document_type</th>\n",
       "      <th>news_desk</th>\n",
       "      <th>section_name</th>\n",
       "      <th>byline</th>\n",
       "      <th>type_of_material</th>\n",
       "      <th>_id</th>\n",
       "      <th>word_count</th>\n",
       "      <th>uri</th>\n",
       "      <th>subsection_name</th>\n",
       "    </tr>\n",
       "  </thead>\n",
       "  <tbody>\n",
       "    <tr>\n",
       "      <th>0</th>\n",
       "      <td>0</td>\n",
       "      <td>Judge Edward R. Korman of the Eastern District...</td>\n",
       "      <td>https://www.nytimes.com/2014/01/01/business/ju...</td>\n",
       "      <td>Judge Edward R. Korman of the Eastern District...</td>\n",
       "      <td>The government’s right to search travelers’ el...</td>\n",
       "      <td>B</td>\n",
       "      <td>3.0</td>\n",
       "      <td>The New York Times</td>\n",
       "      <td>[{'rank': 0, 'subtype': 'wide', 'caption': Non...</td>\n",
       "      <td>{'main': 'District Judge Upholds Government’s ...</td>\n",
       "      <td>[{'name': 'subject', 'value': 'Search and Seiz...</td>\n",
       "      <td>2013-12-31 23:48:51+00:00</td>\n",
       "      <td>article</td>\n",
       "      <td>Business</td>\n",
       "      <td>Business Day</td>\n",
       "      <td>{'original': 'By Susan Stellin', 'person': [{'...</td>\n",
       "      <td>News</td>\n",
       "      <td>nyt://article/2b1e823c-a372-5db3-ae95-86f20e4a...</td>\n",
       "      <td>741</td>\n",
       "      <td>nyt://article/2b1e823c-a372-5db3-ae95-86f20e4a...</td>\n",
       "      <td>NaN</td>\n",
       "    </tr>\n",
       "  </tbody>\n",
       "</table>\n",
       "</div>"
      ],
      "text/plain": [
       "   Unnamed: 0                                           abstract  \\\n",
       "0           0  Judge Edward R. Korman of the Eastern District...   \n",
       "\n",
       "                                             web_url  \\\n",
       "0  https://www.nytimes.com/2014/01/01/business/ju...   \n",
       "\n",
       "                                             snippet  \\\n",
       "0  Judge Edward R. Korman of the Eastern District...   \n",
       "\n",
       "                                      lead_paragraph print_section  \\\n",
       "0  The government’s right to search travelers’ el...             B   \n",
       "\n",
       "   print_page              source  \\\n",
       "0         3.0  The New York Times   \n",
       "\n",
       "                                          multimedia  \\\n",
       "0  [{'rank': 0, 'subtype': 'wide', 'caption': Non...   \n",
       "\n",
       "                                            headline  \\\n",
       "0  {'main': 'District Judge Upholds Government’s ...   \n",
       "\n",
       "                                            keywords  \\\n",
       "0  [{'name': 'subject', 'value': 'Search and Seiz...   \n",
       "\n",
       "                    pub_date document_type news_desk  section_name  \\\n",
       "0  2013-12-31 23:48:51+00:00       article  Business  Business Day   \n",
       "\n",
       "                                              byline type_of_material  \\\n",
       "0  {'original': 'By Susan Stellin', 'person': [{'...             News   \n",
       "\n",
       "                                                 _id  word_count  \\\n",
       "0  nyt://article/2b1e823c-a372-5db3-ae95-86f20e4a...         741   \n",
       "\n",
       "                                                 uri subsection_name  \n",
       "0  nyt://article/2b1e823c-a372-5db3-ae95-86f20e4a...             NaN  "
      ]
     },
     "execution_count": 3,
     "metadata": {},
     "output_type": "execute_result"
    }
   ],
   "source": [
    "pd.set_option('display.max_columns', 22)\n",
    "master_df.head(1)"
   ]
  },
  {
   "cell_type": "code",
   "execution_count": 4,
   "id": "2889e582",
   "metadata": {},
   "outputs": [
    {
     "name": "stdout",
     "output_type": "stream",
     "text": [
      "<class 'pandas.core.frame.DataFrame'>\n",
      "RangeIndex: 16800 entries, 0 to 16799\n",
      "Data columns (total 21 columns):\n",
      " #   Column            Non-Null Count  Dtype  \n",
      "---  ------            --------------  -----  \n",
      " 0   Unnamed: 0        16800 non-null  int64  \n",
      " 1   abstract          16800 non-null  object \n",
      " 2   web_url           16800 non-null  object \n",
      " 3   snippet           16800 non-null  object \n",
      " 4   lead_paragraph    16783 non-null  object \n",
      " 5   print_section     13467 non-null  object \n",
      " 6   print_page        13467 non-null  float64\n",
      " 7   source            16800 non-null  object \n",
      " 8   multimedia        16800 non-null  object \n",
      " 9   headline          16800 non-null  object \n",
      " 10  keywords          16800 non-null  object \n",
      " 11  pub_date          16800 non-null  object \n",
      " 12  document_type     16800 non-null  object \n",
      " 13  news_desk         16800 non-null  object \n",
      " 14  section_name      16800 non-null  object \n",
      " 15  byline            16800 non-null  object \n",
      " 16  type_of_material  16800 non-null  object \n",
      " 17  _id               16800 non-null  object \n",
      " 18  word_count        16800 non-null  int64  \n",
      " 19  uri               16800 non-null  object \n",
      " 20  subsection_name   9434 non-null   object \n",
      "dtypes: float64(1), int64(2), object(18)\n",
      "memory usage: 2.7+ MB\n"
     ]
    }
   ],
   "source": [
    "master_df.info()"
   ]
  },
  {
   "cell_type": "code",
   "execution_count": 5,
   "id": "fd7d0949",
   "metadata": {},
   "outputs": [
    {
     "data": {
      "text/plain": [
       "Unnamed: 0             0\n",
       "abstract               0\n",
       "web_url                0\n",
       "snippet                0\n",
       "lead_paragraph        17\n",
       "print_section       3333\n",
       "print_page          3333\n",
       "source                 0\n",
       "multimedia             0\n",
       "headline               0\n",
       "keywords               0\n",
       "pub_date               0\n",
       "document_type          0\n",
       "news_desk              0\n",
       "section_name           0\n",
       "byline                 0\n",
       "type_of_material       0\n",
       "_id                    0\n",
       "word_count             0\n",
       "uri                    0\n",
       "subsection_name     7366\n",
       "dtype: int64"
      ]
     },
     "execution_count": 5,
     "metadata": {},
     "output_type": "execute_result"
    }
   ],
   "source": [
    "master_df.isnull().sum()"
   ]
  },
  {
   "cell_type": "markdown",
   "id": "10bd3bf5",
   "metadata": {},
   "source": [
    "# Planned Deletions"
   ]
  },
  {
   "cell_type": "markdown",
   "id": "d562dc5f",
   "metadata": {},
   "source": [
    "Planning to delete subsection name. Nearly half do not have a value for that.\n",
    "Definitely a large portion of duplicates that need to be dropped in snippet and lead paragraph. Not sure best way to go about dropping those that are true duplicates and ones that may still have some info.\n",
    "Headline may have some value since it is the first thing someone sees, need to figure out way to extract that text\n",
    "Leaning towards deleting byline. Not sure any info in there could add to our sentiment analysis, possibly keep to have author, maybe we'll see some authors have a greater impact?\n",
    "\n",
    "\n",
    "At end should check average articles per day.\n",
    "Reindex"
   ]
  },
  {
   "cell_type": "code",
   "execution_count": 6,
   "id": "a7d82506",
   "metadata": {},
   "outputs": [
    {
     "data": {
      "text/html": [
       "<div>\n",
       "<style scoped>\n",
       "    .dataframe tbody tr th:only-of-type {\n",
       "        vertical-align: middle;\n",
       "    }\n",
       "\n",
       "    .dataframe tbody tr th {\n",
       "        vertical-align: top;\n",
       "    }\n",
       "\n",
       "    .dataframe thead th {\n",
       "        text-align: right;\n",
       "    }\n",
       "</style>\n",
       "<table border=\"1\" class=\"dataframe\">\n",
       "  <thead>\n",
       "    <tr style=\"text-align: right;\">\n",
       "      <th></th>\n",
       "      <th>Unnamed: 0</th>\n",
       "      <th>abstract</th>\n",
       "      <th>web_url</th>\n",
       "      <th>snippet</th>\n",
       "      <th>lead_paragraph</th>\n",
       "      <th>print_section</th>\n",
       "      <th>print_page</th>\n",
       "      <th>source</th>\n",
       "      <th>multimedia</th>\n",
       "      <th>headline</th>\n",
       "      <th>keywords</th>\n",
       "      <th>pub_date</th>\n",
       "      <th>document_type</th>\n",
       "      <th>news_desk</th>\n",
       "      <th>section_name</th>\n",
       "      <th>byline</th>\n",
       "      <th>type_of_material</th>\n",
       "      <th>_id</th>\n",
       "      <th>word_count</th>\n",
       "      <th>uri</th>\n",
       "      <th>subsection_name</th>\n",
       "    </tr>\n",
       "  </thead>\n",
       "  <tbody>\n",
       "    <tr>\n",
       "      <th>0</th>\n",
       "      <td>0</td>\n",
       "      <td>Judge Edward R. Korman of the Eastern District...</td>\n",
       "      <td>https://www.nytimes.com/2014/01/01/business/ju...</td>\n",
       "      <td>Judge Edward R. Korman of the Eastern District...</td>\n",
       "      <td>The government’s right to search travelers’ el...</td>\n",
       "      <td>B</td>\n",
       "      <td>3.0</td>\n",
       "      <td>The New York Times</td>\n",
       "      <td>[{'rank': 0, 'subtype': 'wide', 'caption': Non...</td>\n",
       "      <td>{'main': 'District Judge Upholds Government’s ...</td>\n",
       "      <td>[{'name': 'subject', 'value': 'Search and Seiz...</td>\n",
       "      <td>2013-12-31 23:48:51+00:00</td>\n",
       "      <td>article</td>\n",
       "      <td>Business</td>\n",
       "      <td>Business Day</td>\n",
       "      <td>{'original': 'By Susan Stellin', 'person': [{'...</td>\n",
       "      <td>News</td>\n",
       "      <td>nyt://article/2b1e823c-a372-5db3-ae95-86f20e4a...</td>\n",
       "      <td>741</td>\n",
       "      <td>nyt://article/2b1e823c-a372-5db3-ae95-86f20e4a...</td>\n",
       "      <td>NaN</td>\n",
       "    </tr>\n",
       "  </tbody>\n",
       "</table>\n",
       "</div>"
      ],
      "text/plain": [
       "   Unnamed: 0                                           abstract  \\\n",
       "0           0  Judge Edward R. Korman of the Eastern District...   \n",
       "\n",
       "                                             web_url  \\\n",
       "0  https://www.nytimes.com/2014/01/01/business/ju...   \n",
       "\n",
       "                                             snippet  \\\n",
       "0  Judge Edward R. Korman of the Eastern District...   \n",
       "\n",
       "                                      lead_paragraph print_section  \\\n",
       "0  The government’s right to search travelers’ el...             B   \n",
       "\n",
       "   print_page              source  \\\n",
       "0         3.0  The New York Times   \n",
       "\n",
       "                                          multimedia  \\\n",
       "0  [{'rank': 0, 'subtype': 'wide', 'caption': Non...   \n",
       "\n",
       "                                            headline  \\\n",
       "0  {'main': 'District Judge Upholds Government’s ...   \n",
       "\n",
       "                                            keywords  \\\n",
       "0  [{'name': 'subject', 'value': 'Search and Seiz...   \n",
       "\n",
       "                    pub_date document_type news_desk  section_name  \\\n",
       "0  2013-12-31 23:48:51+00:00       article  Business  Business Day   \n",
       "\n",
       "                                              byline type_of_material  \\\n",
       "0  {'original': 'By Susan Stellin', 'person': [{'...             News   \n",
       "\n",
       "                                                 _id  word_count  \\\n",
       "0  nyt://article/2b1e823c-a372-5db3-ae95-86f20e4a...         741   \n",
       "\n",
       "                                                 uri subsection_name  \n",
       "0  nyt://article/2b1e823c-a372-5db3-ae95-86f20e4a...             NaN  "
      ]
     },
     "execution_count": 6,
     "metadata": {},
     "output_type": "execute_result"
    }
   ],
   "source": [
    "master_df.head(1)"
   ]
  },
  {
   "cell_type": "code",
   "execution_count": 8,
   "id": "d24e4db5",
   "metadata": {},
   "outputs": [],
   "source": [
    "#stop, no run this cell\n",
    "#delete duplicates\n",
    "#web url has 200 duplicates\n",
    "master_df.drop_duplicates(['web_url'],inplace=True)\n",
    "\n",
    "#Planned deletions\n",
    "#Unnamed is another index, subsection name has too many na's and no relevant info, _id and uri are unique vals but already have web_url, all articles are from news_desk business, all articles are document_type article, keywords is just words with no sentimental words to improve model, multimedia is pics or vids in article that add nothing, source contains info stating NYT or Herald tribune,print_page indicates whether news was printed, print_section indicates what section it was printed in \n",
    "master_df.drop(['Unnamed: 0','subsection_name', '_id', 'uri', 'news_desk', 'document_type', 'keywords', 'multimedia', 'source', 'print_page', 'print_section', 'type_of_material',  'word_count'], axis =1, inplace=True)\n",
    "\n",
    "#drop all these rows\n",
    "#not dropping duplicates of abstract because there are duplicate abstract titles with unique lead_paragraphs. May need to fill it with empty cell?\n",
    "master_df.drop(master_df.loc[master_df['abstract']=='Notable properties that have been recently listed for sale, sold or leased.'].index, inplace=True)\n",
    "master_df.drop(master_df.loc[master_df['abstract']=='Account assignments, executive appointments and miscellaneous news from advertising agencies.'].index, inplace=True)\n",
    "master_df.drop(master_df.loc[master_df['abstract']=='The following tax-exempt fixed-income issues are scheduled for pricing this week.'].index, inplace=True)\n",
    "master_df.drop(master_df.loc[master_df['abstract']=='Account assignments, executive appointments and miscellaneous news from the advertising agencies.'].index, inplace=True)\n",
    "master_df['abstract'] = master_df['abstract'].map(lambda x: \"\" if 'Highlights from the DealBook newsletter.' in x else x) #blankifying because relevant data in other sections even if this isn't relevant to sentiment\n",
    "master_df['abstract'] = master_df['abstract'].map(lambda x: \"\" if 'Economic reports, corporate earnings and hearings this week in Washington.' in x else x)\n",
    "\n",
    "\n",
    "master_df['snippet'] = master_df['snippet'].map(lambda x: \"\" if 'Highlights from the DealBook newsletter.' in x else x)\n",
    "\n",
    "master_df.drop(master_df.loc[master_df['lead_paragraph'] == 'TOP STORIES'].index, inplace=True)\n",
    "\n",
    "#alltext column creation\n",
    "master_df['alltext'] = pd.DataFrame(master_df['abstract']+ master_df['lead_paragraph']+ master_df['snippet'])\n",
    "\n",
    "# adding column for only date from datetime\n",
    "master_df[\"Date\"] = master_df[\"pub_date\"].map(lambda x: x[0:10])\n",
    "\n",
    "#setting index to date to merge with stock data\n",
    "master_df.set_index('Date', inplace = True)\n",
    "                "
   ]
  },
  {
   "cell_type": "code",
   "execution_count": 25,
   "id": "178c0036",
   "metadata": {},
   "outputs": [
    {
     "ename": "NameError",
     "evalue": "name 'x' is not defined",
     "output_type": "error",
     "traceback": [
      "\u001b[0;31m---------------------------------------------------------------------------\u001b[0m",
      "\u001b[0;31mNameError\u001b[0m                                 Traceback (most recent call last)",
      "\u001b[0;32m<ipython-input-25-cd495d3e010a>\u001b[0m in \u001b[0;36m<module>\u001b[0;34m\u001b[0m\n\u001b[1;32m      2\u001b[0m \u001b[0;31m# using json.loads()\u001b[0m\u001b[0;34m\u001b[0m\u001b[0;34m\u001b[0m\u001b[0;34m\u001b[0m\u001b[0m\n\u001b[1;32m      3\u001b[0m \u001b[0;31m# convert dictionary string to dictionary\u001b[0m\u001b[0;34m\u001b[0m\u001b[0;34m\u001b[0m\u001b[0;34m\u001b[0m\u001b[0m\n\u001b[0;32m----> 4\u001b[0;31m \u001b[0mjson\u001b[0m\u001b[0;34m.\u001b[0m\u001b[0mloads\u001b[0m\u001b[0;34m(\u001b[0m\u001b[0mx\u001b[0m\u001b[0;34m)\u001b[0m\u001b[0;34m\u001b[0m\u001b[0;34m\u001b[0m\u001b[0m\n\u001b[0m",
      "\u001b[0;31mNameError\u001b[0m: name 'x' is not defined"
     ]
    }
   ],
   "source": [
    "import json\n",
    "# using json.loads()\n",
    "# convert dictionary string to dictionary\n",
    "json.loads(x)"
   ]
  },
  {
   "cell_type": "code",
   "execution_count": 27,
   "id": "152ef424",
   "metadata": {},
   "outputs": [
    {
     "data": {
      "text/plain": [
       "\"{'main': 'District Judge Upholds Government’s Right to Search Electronics at Border', 'kicker': None, 'content_kicker': None, 'print_headline': 'District Judge Upholds Government&#8217;s Right to Search Electronics at Border', 'name': None, 'seo': None, 'sub': None}\""
      ]
     },
     "execution_count": 27,
     "metadata": {},
     "output_type": "execute_result"
    }
   ],
   "source": [
    "master_df['headline'][0]"
   ]
  },
  {
   "cell_type": "code",
   "execution_count": null,
   "id": "ee6d3ef8",
   "metadata": {},
   "outputs": [],
   "source": [
    "json.loads(master_df['headline'][0])"
   ]
  },
  {
   "cell_type": "code",
   "execution_count": null,
   "id": "be1df89c",
   "metadata": {
    "scrolled": true
   },
   "outputs": [],
   "source": [
    "master_df['abstract'].value_counts().head(20)"
   ]
  },
  {
   "cell_type": "code",
   "execution_count": null,
   "id": "116452c3",
   "metadata": {},
   "outputs": [],
   "source": [
    "master_df['lead_paragraph'].value_counts().head(20)"
   ]
  },
  {
   "cell_type": "code",
   "execution_count": null,
   "id": "47034d85",
   "metadata": {},
   "outputs": [],
   "source": [
    "master_df.loc[master_df['lead_paragraph']=='Q: (Reader)']"
   ]
  },
  {
   "cell_type": "code",
   "execution_count": 35,
   "id": "13bf1786",
   "metadata": {},
   "outputs": [
    {
     "data": {
      "text/html": [
       "<div>\n",
       "<style scoped>\n",
       "    .dataframe tbody tr th:only-of-type {\n",
       "        vertical-align: middle;\n",
       "    }\n",
       "\n",
       "    .dataframe tbody tr th {\n",
       "        vertical-align: top;\n",
       "    }\n",
       "\n",
       "    .dataframe thead th {\n",
       "        text-align: right;\n",
       "    }\n",
       "</style>\n",
       "<table border=\"1\" class=\"dataframe\">\n",
       "  <thead>\n",
       "    <tr style=\"text-align: right;\">\n",
       "      <th></th>\n",
       "      <th>abstract</th>\n",
       "      <th>web_url</th>\n",
       "      <th>snippet</th>\n",
       "      <th>lead_paragraph</th>\n",
       "      <th>headline</th>\n",
       "      <th>pub_date</th>\n",
       "      <th>section_name</th>\n",
       "      <th>byline</th>\n",
       "      <th>alltext</th>\n",
       "    </tr>\n",
       "    <tr>\n",
       "      <th>Date</th>\n",
       "      <th></th>\n",
       "      <th></th>\n",
       "      <th></th>\n",
       "      <th></th>\n",
       "      <th></th>\n",
       "      <th></th>\n",
       "      <th></th>\n",
       "      <th></th>\n",
       "      <th></th>\n",
       "    </tr>\n",
       "  </thead>\n",
       "  <tbody>\n",
       "    <tr>\n",
       "      <th>2012-07-31</th>\n",
       "      <td>Germany’s finance minister and the United Stat...</td>\n",
       "      <td>https://www.nytimes.com/2012/07/31/business/sp...</td>\n",
       "      <td>Germany’s finance minister and the United Stat...</td>\n",
       "      <td>LONDON — Borrowing costs for Spain and Italy e...</td>\n",
       "      <td>{'main': 'Pledges of Euro Support Ease Some Bo...</td>\n",
       "      <td>2012-07-31 04:00:47+00:00</td>\n",
       "      <td>Business Day</td>\n",
       "      <td>{'original': 'By Stephen Castle', 'person': [{...</td>\n",
       "      <td>Germany’s finance minister and the United Stat...</td>\n",
       "    </tr>\n",
       "    <tr>\n",
       "      <th>2012-07-30</th>\n",
       "      <td>Germany’s finance minister and the United Stat...</td>\n",
       "      <td>https://www.nytimes.com/2012/07/31/business/gl...</td>\n",
       "      <td>Germany’s finance minister and the United Stat...</td>\n",
       "      <td>LONDON — Borrowing costs for Spain and Italy e...</td>\n",
       "      <td>{'main': 'Pledges of Euro Support Ease Some Bo...</td>\n",
       "      <td>2012-07-30 09:00:35+00:00</td>\n",
       "      <td>Business Day</td>\n",
       "      <td>{'original': 'By Stephen Castle', 'person': [{...</td>\n",
       "      <td>Germany’s finance minister and the United Stat...</td>\n",
       "    </tr>\n",
       "  </tbody>\n",
       "</table>\n",
       "</div>"
      ],
      "text/plain": [
       "                                                     abstract  \\\n",
       "Date                                                            \n",
       "2012-07-31  Germany’s finance minister and the United Stat...   \n",
       "2012-07-30  Germany’s finance minister and the United Stat...   \n",
       "\n",
       "                                                      web_url  \\\n",
       "Date                                                            \n",
       "2012-07-31  https://www.nytimes.com/2012/07/31/business/sp...   \n",
       "2012-07-30  https://www.nytimes.com/2012/07/31/business/gl...   \n",
       "\n",
       "                                                      snippet  \\\n",
       "Date                                                            \n",
       "2012-07-31  Germany’s finance minister and the United Stat...   \n",
       "2012-07-30  Germany’s finance minister and the United Stat...   \n",
       "\n",
       "                                               lead_paragraph  \\\n",
       "Date                                                            \n",
       "2012-07-31  LONDON — Borrowing costs for Spain and Italy e...   \n",
       "2012-07-30  LONDON — Borrowing costs for Spain and Italy e...   \n",
       "\n",
       "                                                     headline  \\\n",
       "Date                                                            \n",
       "2012-07-31  {'main': 'Pledges of Euro Support Ease Some Bo...   \n",
       "2012-07-30  {'main': 'Pledges of Euro Support Ease Some Bo...   \n",
       "\n",
       "                             pub_date  section_name  \\\n",
       "Date                                                  \n",
       "2012-07-31  2012-07-31 04:00:47+00:00  Business Day   \n",
       "2012-07-30  2012-07-30 09:00:35+00:00  Business Day   \n",
       "\n",
       "                                                       byline  \\\n",
       "Date                                                            \n",
       "2012-07-31  {'original': 'By Stephen Castle', 'person': [{...   \n",
       "2012-07-30  {'original': 'By Stephen Castle', 'person': [{...   \n",
       "\n",
       "                                                      alltext  \n",
       "Date                                                           \n",
       "2012-07-31  Germany’s finance minister and the United Stat...  \n",
       "2012-07-30  Germany’s finance minister and the United Stat...  "
      ]
     },
     "execution_count": 35,
     "metadata": {},
     "output_type": "execute_result"
    }
   ],
   "source": [
    "master_df.loc[master_df['abstract']=='Germany’s finance minister and the United States Treasury secretary expressed confidence in efforts to revamp euro zone economies.']"
   ]
  },
  {
   "cell_type": "code",
   "execution_count": null,
   "id": "6e840833",
   "metadata": {
    "scrolled": true
   },
   "outputs": [],
   "source": [
    "master_df['subsection_name'].value_counts()"
   ]
  },
  {
   "cell_type": "code",
   "execution_count": 30,
   "id": "60335ddd",
   "metadata": {},
   "outputs": [],
   "source": [
    "draft_df = pd.DataFrame(master_df['alltext'])"
   ]
  },
  {
   "cell_type": "code",
   "execution_count": 31,
   "id": "c1bbcfa7",
   "metadata": {
    "scrolled": true
   },
   "outputs": [
    {
     "data": {
      "text/html": [
       "<div>\n",
       "<style scoped>\n",
       "    .dataframe tbody tr th:only-of-type {\n",
       "        vertical-align: middle;\n",
       "    }\n",
       "\n",
       "    .dataframe tbody tr th {\n",
       "        vertical-align: top;\n",
       "    }\n",
       "\n",
       "    .dataframe thead th {\n",
       "        text-align: right;\n",
       "    }\n",
       "</style>\n",
       "<table border=\"1\" class=\"dataframe\">\n",
       "  <thead>\n",
       "    <tr style=\"text-align: right;\">\n",
       "      <th></th>\n",
       "      <th>alltext</th>\n",
       "    </tr>\n",
       "    <tr>\n",
       "      <th>Date</th>\n",
       "      <th></th>\n",
       "    </tr>\n",
       "  </thead>\n",
       "  <tbody>\n",
       "    <tr>\n",
       "      <th>2013-12-31</th>\n",
       "      <td>Judge Edward R. Korman of the Eastern District...</td>\n",
       "    </tr>\n",
       "  </tbody>\n",
       "</table>\n",
       "</div>"
      ],
      "text/plain": [
       "                                                      alltext\n",
       "Date                                                         \n",
       "2013-12-31  Judge Edward R. Korman of the Eastern District..."
      ]
     },
     "execution_count": 31,
     "metadata": {},
     "output_type": "execute_result"
    }
   ],
   "source": [
    "draft_df.head(1)"
   ]
  },
  {
   "cell_type": "code",
   "execution_count": 34,
   "id": "bfcca934",
   "metadata": {
    "scrolled": true
   },
   "outputs": [
    {
     "data": {
      "text/plain": [
       "alltext    17\n",
       "dtype: int64"
      ]
     },
     "execution_count": 34,
     "metadata": {},
     "output_type": "execute_result"
    }
   ],
   "source": [
    "draft_df.isnull().sum()"
   ]
  },
  {
   "cell_type": "markdown",
   "id": "f526adb7",
   "metadata": {},
   "source": [
    "# Working off of Tanveer's Clean Data "
   ]
  },
  {
   "cell_type": "code",
   "execution_count": 3,
   "id": "30ed3c9b",
   "metadata": {},
   "outputs": [
    {
     "data": {
      "text/html": [
       "<div>\n",
       "<style scoped>\n",
       "    .dataframe tbody tr th:only-of-type {\n",
       "        vertical-align: middle;\n",
       "    }\n",
       "\n",
       "    .dataframe tbody tr th {\n",
       "        vertical-align: top;\n",
       "    }\n",
       "\n",
       "    .dataframe thead th {\n",
       "        text-align: right;\n",
       "    }\n",
       "</style>\n",
       "<table border=\"1\" class=\"dataframe\">\n",
       "  <thead>\n",
       "    <tr style=\"text-align: right;\">\n",
       "      <th></th>\n",
       "      <th>Unnamed: 0</th>\n",
       "      <th>date</th>\n",
       "      <th>text</th>\n",
       "      <th>price</th>\n",
       "      <th>pct_change</th>\n",
       "      <th>price_direction</th>\n",
       "      <th>day_of_week</th>\n",
       "      <th>is_holiday</th>\n",
       "    </tr>\n",
       "  </thead>\n",
       "  <tbody>\n",
       "    <tr>\n",
       "      <th>0</th>\n",
       "      <td>0</td>\n",
       "      <td>2011-07-29</td>\n",
       "      <td>Drug App Comes Free, Ads Included. Epocrates h...</td>\n",
       "      <td>1292.28</td>\n",
       "      <td>NaN</td>\n",
       "      <td>first</td>\n",
       "      <td>4</td>\n",
       "      <td>0</td>\n",
       "    </tr>\n",
       "    <tr>\n",
       "      <th>1</th>\n",
       "      <td>1</td>\n",
       "      <td>2011-07-30</td>\n",
       "      <td>Global Concern Over U.S. Debt Ceiling Disagree...</td>\n",
       "      <td>1292.28</td>\n",
       "      <td>0.000000</td>\n",
       "      <td>same</td>\n",
       "      <td>5</td>\n",
       "      <td>0</td>\n",
       "    </tr>\n",
       "    <tr>\n",
       "      <th>2</th>\n",
       "      <td>2</td>\n",
       "      <td>2011-07-31</td>\n",
       "      <td>Deal May Avert Default, but Some Ask, ‘Is That...</td>\n",
       "      <td>1292.28</td>\n",
       "      <td>0.000000</td>\n",
       "      <td>same</td>\n",
       "      <td>6</td>\n",
       "      <td>0</td>\n",
       "    </tr>\n",
       "    <tr>\n",
       "      <th>3</th>\n",
       "      <td>3</td>\n",
       "      <td>2011-08-01</td>\n",
       "      <td>Charging a Premium for Movies, at a Cost. High...</td>\n",
       "      <td>1286.94</td>\n",
       "      <td>-0.004132</td>\n",
       "      <td>down</td>\n",
       "      <td>0</td>\n",
       "      <td>0</td>\n",
       "    </tr>\n",
       "    <tr>\n",
       "      <th>4</th>\n",
       "      <td>4</td>\n",
       "      <td>2011-08-02</td>\n",
       "      <td>Pearls, Finer but Still Cheap, Flow From China...</td>\n",
       "      <td>1254.05</td>\n",
       "      <td>-0.025557</td>\n",
       "      <td>down</td>\n",
       "      <td>1</td>\n",
       "      <td>0</td>\n",
       "    </tr>\n",
       "  </tbody>\n",
       "</table>\n",
       "</div>"
      ],
      "text/plain": [
       "   Unnamed: 0        date                                               text  \\\n",
       "0           0  2011-07-29  Drug App Comes Free, Ads Included. Epocrates h...   \n",
       "1           1  2011-07-30  Global Concern Over U.S. Debt Ceiling Disagree...   \n",
       "2           2  2011-07-31  Deal May Avert Default, but Some Ask, ‘Is That...   \n",
       "3           3  2011-08-01  Charging a Premium for Movies, at a Cost. High...   \n",
       "4           4  2011-08-02  Pearls, Finer but Still Cheap, Flow From China...   \n",
       "\n",
       "     price  pct_change price_direction  day_of_week  is_holiday  \n",
       "0  1292.28         NaN           first            4           0  \n",
       "1  1292.28    0.000000            same            5           0  \n",
       "2  1292.28    0.000000            same            6           0  \n",
       "3  1286.94   -0.004132            down            0           0  \n",
       "4  1254.05   -0.025557            down            1           0  "
      ]
     },
     "execution_count": 3,
     "metadata": {},
     "output_type": "execute_result"
    }
   ],
   "source": [
    "# to load file \n",
    "daily = pd.read_csv('/Users/plarkin/Downloads/daily.csv')\n",
    "daily.head()"
   ]
  },
  {
   "cell_type": "markdown",
   "id": "2ac7256f",
   "metadata": {},
   "source": [
    "## Sentiment Analysis"
   ]
  },
  {
   "cell_type": "code",
   "execution_count": 4,
   "id": "f56a511b",
   "metadata": {},
   "outputs": [],
   "source": [
    "# imports\n",
    "import matplotlib.pyplot as plt\n",
    "import seaborn as sns\n",
    "from sklearn.model_selection import train_test_split, GridSearchCV\n",
    "from sklearn.pipeline import Pipeline\n",
    "from sklearn.naive_bayes import MultinomialNB\n",
    "# from sklearn.linear_model import LogisticRegression\n",
    "from sklearn.metrics import confusion_matrix, plot_confusion_matrix\n",
    "from sklearn.linear_model import LogisticRegression\n",
    "from sklearn.neighbors import KNeighborsClassifier\n",
    "\n",
    "\n",
    "# Imp ort CountVectorizer and TFIDFVectorizer from feature_extraction.text.\n",
    "from sklearn.feature_extraction.text import CountVectorizer, TfidfVectorizer\n",
    "from sklearn.feature_extraction import text \n",
    "\n",
    "#tokenizers\n",
    "from nltk.tokenize import sent_tokenize, word_tokenize, RegexpTokenizer\n",
    "from nltk.stem import WordNetLemmatizer\n",
    "from nltk.corpus import stopwords\n",
    "from nltk.sentiment.vader import SentimentIntensityAnalyzer\n",
    "import re\n"
   ]
  },
  {
   "cell_type": "markdown",
   "id": "9a34f2fa",
   "metadata": {},
   "source": [
    "#### Vader Sentiment Analysis"
   ]
  },
  {
   "cell_type": "code",
   "execution_count": 5,
   "id": "bbcbe783",
   "metadata": {},
   "outputs": [
    {
     "name": "stdout",
     "output_type": "stream",
     "text": [
      "CPU times: user 2 µs, sys: 0 ns, total: 2 µs\n",
      "Wall time: 4.05 µs\n"
     ]
    }
   ],
   "source": [
    "#Adding in Sentiment analysis with designated columns for each output (pos, neg, neu, compound)\n",
    "analyzer = SentimentIntensityAnalyzer()\n",
    "\n",
    "#daily['vader'] = daily['text'].map(lambda x:analyzer.polarity_scores(str(x)))\n",
    "\n",
    "\n",
    "daily['vader_compound'] = [analyzer.polarity_scores(x)['compound'] for x in daily['text']]\n",
    "# draft_df['vd_neg'] = [analyzer.polarity_scores(x)['neg'] for x in draft_df['alltext']]\n",
    "# draft_df['vd_neu'] = [analyzer.polarity_scores(x)['neu'] for x in draft_df['alltext']]\n",
    "# draft_df['vd_pos'] = [analyzer.polarity_scores(x)['pos'] for x in draft_df['alltext']]\n",
    "\n",
    "%time\n"
   ]
  },
  {
   "cell_type": "markdown",
   "id": "f3455eb9",
   "metadata": {},
   "source": [
    "#### Textblob Sentiment Analysis\n",
    "source : https://neptune.ai/blog/sentiment-analysis-python-textblob-vs-vader-vs-flair\n",
    "\n",
    "https://textblob.readthedocs.io/en/dev/"
   ]
  },
  {
   "cell_type": "code",
   "execution_count": 6,
   "id": "95477c3b",
   "metadata": {},
   "outputs": [
    {
     "name": "stdout",
     "output_type": "stream",
     "text": [
      "CPU times: user 2 µs, sys: 1e+03 ns, total: 3 µs\n",
      "Wall time: 4.05 µs\n"
     ]
    }
   ],
   "source": [
    "from textblob import TextBlob\n",
    "#testimonial = TextBlob()\n",
    "#draft_df['tb_polarity'] = [testimonial.polarity(x)['polarity'] for x in draft_df['alltext']]\n",
    "#draft_df['tb_subj'] = [testimonial.sentiment(x)['subjectivity'] for x in draft_df['alltext']]\n",
    "daily['textblob_polarity'] = daily['text'].map(lambda words: TextBlob(str(words)).polarity) #polarity is more applicable and comparable to vader compound. subjectivity is more about opinion vs fact \n",
    "\n",
    "%time\n"
   ]
  },
  {
   "cell_type": "markdown",
   "id": "f9c15e54",
   "metadata": {},
   "source": [
    "#### Flair Sentiment Analysis\n",
    "source : https://neptune.ai/blog/sentiment-analysis-python-textblob-vs-vader-vs-flair\n",
    "\n",
    "https://github.com/flairNLP/flair"
   ]
  },
  {
   "cell_type": "code",
   "execution_count": 91,
   "id": "9e58ad37",
   "metadata": {},
   "outputs": [
    {
     "name": "stdout",
     "output_type": "stream",
     "text": [
      "Requirement already satisfied: flair in /Users/plarkin/opt/anaconda3/lib/python3.8/site-packages (0.8.0.post1)\n",
      "Requirement already satisfied: deprecated>=1.2.4 in /Users/plarkin/opt/anaconda3/lib/python3.8/site-packages (from flair) (1.2.12)\n",
      "Requirement already satisfied: scikit-learn>=0.21.3 in /Users/plarkin/opt/anaconda3/lib/python3.8/site-packages (from flair) (0.24.1)\n",
      "Requirement already satisfied: mpld3==0.3 in /Users/plarkin/opt/anaconda3/lib/python3.8/site-packages (from flair) (0.3)\n",
      "Requirement already satisfied: hyperopt>=0.1.1 in /Users/plarkin/opt/anaconda3/lib/python3.8/site-packages (from flair) (0.2.5)\n",
      "Requirement already satisfied: konoha<5.0.0,>=4.0.0 in /Users/plarkin/opt/anaconda3/lib/python3.8/site-packages (from flair) (4.6.5)\n",
      "Requirement already satisfied: segtok>=1.5.7 in /Users/plarkin/opt/anaconda3/lib/python3.8/site-packages (from flair) (1.5.10)\n",
      "Requirement already satisfied: regex in /Users/plarkin/opt/anaconda3/lib/python3.8/site-packages (from flair) (2021.4.4)\n",
      "Requirement already satisfied: sentencepiece==0.1.95 in /Users/plarkin/opt/anaconda3/lib/python3.8/site-packages (from flair) (0.1.95)\n",
      "Requirement already satisfied: python-dateutil>=2.6.1 in /Users/plarkin/opt/anaconda3/lib/python3.8/site-packages (from flair) (2.8.1)\n",
      "Requirement already satisfied: janome in /Users/plarkin/opt/anaconda3/lib/python3.8/site-packages (from flair) (0.4.1)\n",
      "Requirement already satisfied: tabulate in /Users/plarkin/opt/anaconda3/lib/python3.8/site-packages (from flair) (0.8.9)\n",
      "Requirement already satisfied: sqlitedict>=1.6.0 in /Users/plarkin/opt/anaconda3/lib/python3.8/site-packages (from flair) (1.7.0)\n",
      "Requirement already satisfied: langdetect in /Users/plarkin/opt/anaconda3/lib/python3.8/site-packages (from flair) (1.0.9)\n",
      "Requirement already satisfied: ftfy in /Users/plarkin/opt/anaconda3/lib/python3.8/site-packages (from flair) (6.0.3)\n",
      "Requirement already satisfied: lxml in /Users/plarkin/opt/anaconda3/lib/python3.8/site-packages (from flair) (4.6.3)\n",
      "Requirement already satisfied: huggingface-hub in /Users/plarkin/opt/anaconda3/lib/python3.8/site-packages (from flair) (0.0.12)\n",
      "Requirement already satisfied: bpemb>=0.3.2 in /Users/plarkin/opt/anaconda3/lib/python3.8/site-packages (from flair) (0.3.3)\n",
      "Requirement already satisfied: gensim<=3.8.3,>=3.4.0 in /Users/plarkin/opt/anaconda3/lib/python3.8/site-packages (from flair) (3.8.3)\n",
      "Requirement already satisfied: torch<=1.7.1,>=1.5.0 in /Users/plarkin/opt/anaconda3/lib/python3.8/site-packages (from flair) (1.7.1)\n",
      "Requirement already satisfied: gdown==3.12.2 in /Users/plarkin/opt/anaconda3/lib/python3.8/site-packages (from flair) (3.12.2)\n",
      "Requirement already satisfied: tqdm>=4.26.0 in /Users/plarkin/opt/anaconda3/lib/python3.8/site-packages (from flair) (4.59.0)\n",
      "Requirement already satisfied: matplotlib>=2.2.3 in /Users/plarkin/opt/anaconda3/lib/python3.8/site-packages (from flair) (3.3.4)\n",
      "Requirement already satisfied: numpy<1.20.0 in /Users/plarkin/opt/anaconda3/lib/python3.8/site-packages (from flair) (1.19.5)\n",
      "Requirement already satisfied: transformers>=4.0.0 in /Users/plarkin/opt/anaconda3/lib/python3.8/site-packages (from flair) (4.9.1)\n",
      "Requirement already satisfied: filelock in /Users/plarkin/opt/anaconda3/lib/python3.8/site-packages (from gdown==3.12.2->flair) (3.0.12)\n",
      "Requirement already satisfied: six in /Users/plarkin/opt/anaconda3/lib/python3.8/site-packages (from gdown==3.12.2->flair) (1.15.0)\n",
      "Requirement already satisfied: requests[socks] in /Users/plarkin/opt/anaconda3/lib/python3.8/site-packages (from gdown==3.12.2->flair) (2.26.0)\n",
      "Requirement already satisfied: wrapt<2,>=1.10 in /Users/plarkin/opt/anaconda3/lib/python3.8/site-packages (from deprecated>=1.2.4->flair) (1.12.1)\n",
      "Requirement already satisfied: smart-open>=1.8.1 in /Users/plarkin/opt/anaconda3/lib/python3.8/site-packages (from gensim<=3.8.3,>=3.4.0->flair) (5.1.0)\n",
      "Requirement already satisfied: scipy>=0.18.1 in /Users/plarkin/opt/anaconda3/lib/python3.8/site-packages (from gensim<=3.8.3,>=3.4.0->flair) (1.7.1)\n",
      "Requirement already satisfied: networkx>=2.2 in /Users/plarkin/opt/anaconda3/lib/python3.8/site-packages (from hyperopt>=0.1.1->flair) (2.5)\n",
      "Requirement already satisfied: future in /Users/plarkin/opt/anaconda3/lib/python3.8/site-packages (from hyperopt>=0.1.1->flair) (0.18.2)\n",
      "Requirement already satisfied: cloudpickle in /Users/plarkin/opt/anaconda3/lib/python3.8/site-packages (from hyperopt>=0.1.1->flair) (1.6.0)\n",
      "Requirement already satisfied: overrides<4.0.0,>=3.0.0 in /Users/plarkin/opt/anaconda3/lib/python3.8/site-packages (from konoha<5.0.0,>=4.0.0->flair) (3.1.0)\n",
      "Requirement already satisfied: importlib-metadata<4.0.0,>=3.7.0 in /Users/plarkin/opt/anaconda3/lib/python3.8/site-packages (from konoha<5.0.0,>=4.0.0->flair) (3.10.0)\n",
      "Requirement already satisfied: zipp>=0.5 in /Users/plarkin/opt/anaconda3/lib/python3.8/site-packages (from importlib-metadata<4.0.0,>=3.7.0->konoha<5.0.0,>=4.0.0->flair) (3.4.1)\n",
      "Requirement already satisfied: pyparsing!=2.0.4,!=2.1.2,!=2.1.6,>=2.0.3 in /Users/plarkin/opt/anaconda3/lib/python3.8/site-packages (from matplotlib>=2.2.3->flair) (2.4.7)\n",
      "Requirement already satisfied: cycler>=0.10 in /Users/plarkin/opt/anaconda3/lib/python3.8/site-packages (from matplotlib>=2.2.3->flair) (0.10.0)\n",
      "Requirement already satisfied: pillow>=6.2.0 in /Users/plarkin/opt/anaconda3/lib/python3.8/site-packages (from matplotlib>=2.2.3->flair) (8.2.0)\n",
      "Requirement already satisfied: kiwisolver>=1.0.1 in /Users/plarkin/opt/anaconda3/lib/python3.8/site-packages (from matplotlib>=2.2.3->flair) (1.3.1)\n",
      "Requirement already satisfied: decorator>=4.3.0 in /Users/plarkin/opt/anaconda3/lib/python3.8/site-packages (from networkx>=2.2->hyperopt>=0.1.1->flair) (5.0.6)\n",
      "Requirement already satisfied: urllib3<1.27,>=1.21.1 in /Users/plarkin/opt/anaconda3/lib/python3.8/site-packages (from requests[socks]->gdown==3.12.2->flair) (1.26.4)\n",
      "Requirement already satisfied: certifi>=2017.4.17 in /Users/plarkin/opt/anaconda3/lib/python3.8/site-packages (from requests[socks]->gdown==3.12.2->flair) (2020.12.5)\n",
      "Requirement already satisfied: charset-normalizer~=2.0.0 in /Users/plarkin/opt/anaconda3/lib/python3.8/site-packages/charset_normalizer-2.0.4-py3.8.egg (from requests[socks]->gdown==3.12.2->flair) (2.0.4)\n",
      "Requirement already satisfied: idna<4,>=2.5 in /Users/plarkin/opt/anaconda3/lib/python3.8/site-packages (from requests[socks]->gdown==3.12.2->flair) (2.10)\n",
      "Requirement already satisfied: joblib>=0.11 in /Users/plarkin/opt/anaconda3/lib/python3.8/site-packages (from scikit-learn>=0.21.3->flair) (1.0.1)\n",
      "Requirement already satisfied: threadpoolctl>=2.0.0 in /Users/plarkin/opt/anaconda3/lib/python3.8/site-packages (from scikit-learn>=0.21.3->flair) (2.1.0)\n",
      "Requirement already satisfied: typing-extensions in /Users/plarkin/opt/anaconda3/lib/python3.8/site-packages (from torch<=1.7.1,>=1.5.0->flair) (3.7.4.3)\n",
      "Requirement already satisfied: packaging in /Users/plarkin/opt/anaconda3/lib/python3.8/site-packages (from transformers>=4.0.0->flair) (20.9)\n",
      "Requirement already satisfied: sacremoses in /Users/plarkin/opt/anaconda3/lib/python3.8/site-packages (from transformers>=4.0.0->flair) (0.0.45)\n",
      "Requirement already satisfied: pyyaml>=5.1 in /Users/plarkin/opt/anaconda3/lib/python3.8/site-packages (from transformers>=4.0.0->flair) (5.4.1)\n",
      "Requirement already satisfied: tokenizers<0.11,>=0.10.1 in /Users/plarkin/opt/anaconda3/lib/python3.8/site-packages (from transformers>=4.0.0->flair) (0.10.3)\n",
      "Requirement already satisfied: wcwidth in /Users/plarkin/opt/anaconda3/lib/python3.8/site-packages (from ftfy->flair) (0.2.5)\n",
      "Requirement already satisfied: PySocks!=1.5.7,>=1.5.6 in /Users/plarkin/opt/anaconda3/lib/python3.8/site-packages (from requests[socks]->gdown==3.12.2->flair) (1.7.1)\n",
      "Requirement already satisfied: click in /Users/plarkin/opt/anaconda3/lib/python3.8/site-packages (from sacremoses->transformers>=4.0.0->flair) (7.1.2)\n"
     ]
    },
    {
     "name": "stderr",
     "output_type": "stream",
     "text": [
      "100%|██████████| 265512723/265512723 [02:47<00:00, 1584027.65B/s]\n"
     ]
    },
    {
     "ename": "ImportError",
     "evalue": "scipy.special._ufuncs_cxx does not export expected C variable _export_expit",
     "output_type": "error",
     "traceback": [
      "\u001b[0;31m---------------------------------------------------------------------------\u001b[0m",
      "\u001b[0;31mImportError\u001b[0m                               Traceback (most recent call last)",
      "\u001b[0;32m<ipython-input-91-17c1a2623b7a>\u001b[0m in \u001b[0;36m<module>\u001b[0;34m\u001b[0m\n\u001b[1;32m      4\u001b[0m \u001b[0;32mfrom\u001b[0m \u001b[0mflair\u001b[0m\u001b[0;34m.\u001b[0m\u001b[0mdata\u001b[0m \u001b[0;32mimport\u001b[0m \u001b[0mSentence\u001b[0m\u001b[0;34m\u001b[0m\u001b[0;34m\u001b[0m\u001b[0m\n\u001b[1;32m      5\u001b[0m \u001b[0;34m\u001b[0m\u001b[0m\n\u001b[0;32m----> 6\u001b[0;31m \u001b[0mclassifier\u001b[0m \u001b[0;34m=\u001b[0m \u001b[0mTextClassifier\u001b[0m\u001b[0;34m.\u001b[0m\u001b[0mload\u001b[0m\u001b[0;34m(\u001b[0m\u001b[0;34m'en-sentiment'\u001b[0m\u001b[0;34m)\u001b[0m\u001b[0;34m\u001b[0m\u001b[0;34m\u001b[0m\u001b[0m\n\u001b[0m\u001b[1;32m      7\u001b[0m \u001b[0msentence\u001b[0m \u001b[0;34m=\u001b[0m \u001b[0mSentence\u001b[0m\u001b[0;34m(\u001b[0m\u001b[0;34m'The food was great!'\u001b[0m\u001b[0;34m)\u001b[0m\u001b[0;34m\u001b[0m\u001b[0;34m\u001b[0m\u001b[0m\n\u001b[1;32m      8\u001b[0m \u001b[0mclassifier\u001b[0m\u001b[0;34m.\u001b[0m\u001b[0mpredict\u001b[0m\u001b[0;34m(\u001b[0m\u001b[0msentence\u001b[0m\u001b[0;34m)\u001b[0m\u001b[0;34m\u001b[0m\u001b[0;34m\u001b[0m\u001b[0m\n",
      "\u001b[0;32m~/opt/anaconda3/lib/python3.8/site-packages/flair/nn.py\u001b[0m in \u001b[0;36mload\u001b[0;34m(cls, model)\u001b[0m\n\u001b[1;32m     86\u001b[0m             \u001b[0;31m# see https://github.com/zalandoresearch/flair/issues/351\u001b[0m\u001b[0;34m\u001b[0m\u001b[0;34m\u001b[0m\u001b[0;34m\u001b[0m\u001b[0m\n\u001b[1;32m     87\u001b[0m             \u001b[0mf\u001b[0m \u001b[0;34m=\u001b[0m \u001b[0mfile_utils\u001b[0m\u001b[0;34m.\u001b[0m\u001b[0mload_big_file\u001b[0m\u001b[0;34m(\u001b[0m\u001b[0mstr\u001b[0m\u001b[0;34m(\u001b[0m\u001b[0mmodel_file\u001b[0m\u001b[0;34m)\u001b[0m\u001b[0;34m)\u001b[0m\u001b[0;34m\u001b[0m\u001b[0;34m\u001b[0m\u001b[0m\n\u001b[0;32m---> 88\u001b[0;31m             \u001b[0mstate\u001b[0m \u001b[0;34m=\u001b[0m \u001b[0mtorch\u001b[0m\u001b[0;34m.\u001b[0m\u001b[0mload\u001b[0m\u001b[0;34m(\u001b[0m\u001b[0mf\u001b[0m\u001b[0;34m,\u001b[0m \u001b[0mmap_location\u001b[0m\u001b[0;34m=\u001b[0m\u001b[0;34m'cpu'\u001b[0m\u001b[0;34m)\u001b[0m\u001b[0;34m\u001b[0m\u001b[0;34m\u001b[0m\u001b[0m\n\u001b[0m\u001b[1;32m     89\u001b[0m \u001b[0;34m\u001b[0m\u001b[0m\n\u001b[1;32m     90\u001b[0m         \u001b[0mmodel\u001b[0m \u001b[0;34m=\u001b[0m \u001b[0mcls\u001b[0m\u001b[0;34m.\u001b[0m\u001b[0m_init_model_with_state_dict\u001b[0m\u001b[0;34m(\u001b[0m\u001b[0mstate\u001b[0m\u001b[0;34m)\u001b[0m\u001b[0;34m\u001b[0m\u001b[0;34m\u001b[0m\u001b[0m\n",
      "\u001b[0;32m~/opt/anaconda3/lib/python3.8/site-packages/torch/serialization.py\u001b[0m in \u001b[0;36mload\u001b[0;34m(f, map_location, pickle_module, **pickle_load_args)\u001b[0m\n\u001b[1;32m    592\u001b[0m                     \u001b[0mopened_file\u001b[0m\u001b[0;34m.\u001b[0m\u001b[0mseek\u001b[0m\u001b[0;34m(\u001b[0m\u001b[0morig_position\u001b[0m\u001b[0;34m)\u001b[0m\u001b[0;34m\u001b[0m\u001b[0;34m\u001b[0m\u001b[0m\n\u001b[1;32m    593\u001b[0m                     \u001b[0;32mreturn\u001b[0m \u001b[0mtorch\u001b[0m\u001b[0;34m.\u001b[0m\u001b[0mjit\u001b[0m\u001b[0;34m.\u001b[0m\u001b[0mload\u001b[0m\u001b[0;34m(\u001b[0m\u001b[0mopened_file\u001b[0m\u001b[0;34m)\u001b[0m\u001b[0;34m\u001b[0m\u001b[0;34m\u001b[0m\u001b[0m\n\u001b[0;32m--> 594\u001b[0;31m                 \u001b[0;32mreturn\u001b[0m \u001b[0m_load\u001b[0m\u001b[0;34m(\u001b[0m\u001b[0mopened_zipfile\u001b[0m\u001b[0;34m,\u001b[0m \u001b[0mmap_location\u001b[0m\u001b[0;34m,\u001b[0m \u001b[0mpickle_module\u001b[0m\u001b[0;34m,\u001b[0m \u001b[0;34m**\u001b[0m\u001b[0mpickle_load_args\u001b[0m\u001b[0;34m)\u001b[0m\u001b[0;34m\u001b[0m\u001b[0;34m\u001b[0m\u001b[0m\n\u001b[0m\u001b[1;32m    595\u001b[0m         \u001b[0;32mreturn\u001b[0m \u001b[0m_legacy_load\u001b[0m\u001b[0;34m(\u001b[0m\u001b[0mopened_file\u001b[0m\u001b[0;34m,\u001b[0m \u001b[0mmap_location\u001b[0m\u001b[0;34m,\u001b[0m \u001b[0mpickle_module\u001b[0m\u001b[0;34m,\u001b[0m \u001b[0;34m**\u001b[0m\u001b[0mpickle_load_args\u001b[0m\u001b[0;34m)\u001b[0m\u001b[0;34m\u001b[0m\u001b[0;34m\u001b[0m\u001b[0m\n\u001b[1;32m    596\u001b[0m \u001b[0;34m\u001b[0m\u001b[0m\n",
      "\u001b[0;32m~/opt/anaconda3/lib/python3.8/site-packages/torch/serialization.py\u001b[0m in \u001b[0;36m_load\u001b[0;34m(zip_file, map_location, pickle_module, pickle_file, **pickle_load_args)\u001b[0m\n\u001b[1;32m    851\u001b[0m     \u001b[0munpickler\u001b[0m \u001b[0;34m=\u001b[0m \u001b[0mpickle_module\u001b[0m\u001b[0;34m.\u001b[0m\u001b[0mUnpickler\u001b[0m\u001b[0;34m(\u001b[0m\u001b[0mdata_file\u001b[0m\u001b[0;34m,\u001b[0m \u001b[0;34m**\u001b[0m\u001b[0mpickle_load_args\u001b[0m\u001b[0;34m)\u001b[0m\u001b[0;34m\u001b[0m\u001b[0;34m\u001b[0m\u001b[0m\n\u001b[1;32m    852\u001b[0m     \u001b[0munpickler\u001b[0m\u001b[0;34m.\u001b[0m\u001b[0mpersistent_load\u001b[0m \u001b[0;34m=\u001b[0m \u001b[0mpersistent_load\u001b[0m\u001b[0;34m\u001b[0m\u001b[0;34m\u001b[0m\u001b[0m\n\u001b[0;32m--> 853\u001b[0;31m     \u001b[0mresult\u001b[0m \u001b[0;34m=\u001b[0m \u001b[0munpickler\u001b[0m\u001b[0;34m.\u001b[0m\u001b[0mload\u001b[0m\u001b[0;34m(\u001b[0m\u001b[0;34m)\u001b[0m\u001b[0;34m\u001b[0m\u001b[0;34m\u001b[0m\u001b[0m\n\u001b[0m\u001b[1;32m    854\u001b[0m \u001b[0;34m\u001b[0m\u001b[0m\n\u001b[1;32m    855\u001b[0m     \u001b[0mtorch\u001b[0m\u001b[0;34m.\u001b[0m\u001b[0m_utils\u001b[0m\u001b[0;34m.\u001b[0m\u001b[0m_validate_loaded_sparse_tensors\u001b[0m\u001b[0;34m(\u001b[0m\u001b[0;34m)\u001b[0m\u001b[0;34m\u001b[0m\u001b[0;34m\u001b[0m\u001b[0m\n",
      "\u001b[0;32m~/opt/anaconda3/lib/python3.8/site-packages/flair/__init__.py\u001b[0m in \u001b[0;36m<module>\u001b[0;34m\u001b[0m\n\u001b[1;32m     19\u001b[0m \u001b[0;32mfrom\u001b[0m \u001b[0;34m.\u001b[0m \u001b[0;32mimport\u001b[0m \u001b[0mdata\u001b[0m\u001b[0;34m\u001b[0m\u001b[0;34m\u001b[0m\u001b[0m\n\u001b[1;32m     20\u001b[0m \u001b[0;32mfrom\u001b[0m \u001b[0;34m.\u001b[0m \u001b[0;32mimport\u001b[0m \u001b[0mmodels\u001b[0m\u001b[0;34m\u001b[0m\u001b[0;34m\u001b[0m\u001b[0m\n\u001b[0;32m---> 21\u001b[0;31m \u001b[0;32mfrom\u001b[0m \u001b[0;34m.\u001b[0m \u001b[0;32mimport\u001b[0m \u001b[0mvisual\u001b[0m\u001b[0;34m\u001b[0m\u001b[0;34m\u001b[0m\u001b[0m\n\u001b[0m\u001b[1;32m     22\u001b[0m \u001b[0;32mfrom\u001b[0m \u001b[0;34m.\u001b[0m \u001b[0;32mimport\u001b[0m \u001b[0mtrainers\u001b[0m\u001b[0;34m\u001b[0m\u001b[0;34m\u001b[0m\u001b[0m\n\u001b[1;32m     23\u001b[0m \u001b[0;32mfrom\u001b[0m \u001b[0;34m.\u001b[0m \u001b[0;32mimport\u001b[0m \u001b[0mnn\u001b[0m\u001b[0;34m\u001b[0m\u001b[0;34m\u001b[0m\u001b[0m\n",
      "\u001b[0;32m~/opt/anaconda3/lib/python3.8/site-packages/flair/visual/__init__.py\u001b[0m in \u001b[0;36m<module>\u001b[0;34m\u001b[0m\n\u001b[0;32m----> 1\u001b[0;31m \u001b[0;32mfrom\u001b[0m \u001b[0;34m.\u001b[0m\u001b[0mmanifold\u001b[0m \u001b[0;32mimport\u001b[0m \u001b[0mVisualizer\u001b[0m\u001b[0;34m\u001b[0m\u001b[0;34m\u001b[0m\u001b[0m\n\u001b[0m\u001b[1;32m      2\u001b[0m \u001b[0;32mfrom\u001b[0m \u001b[0;34m.\u001b[0m\u001b[0mactivations\u001b[0m \u001b[0;32mimport\u001b[0m \u001b[0mHighlighter\u001b[0m\u001b[0;34m\u001b[0m\u001b[0;34m\u001b[0m\u001b[0m\n",
      "\u001b[0;32m~/opt/anaconda3/lib/python3.8/site-packages/flair/visual/manifold.py\u001b[0m in \u001b[0;36m<module>\u001b[0;34m\u001b[0m\n\u001b[1;32m      1\u001b[0m \u001b[0;32mimport\u001b[0m \u001b[0mnumpy\u001b[0m\u001b[0;34m\u001b[0m\u001b[0;34m\u001b[0m\u001b[0m\n\u001b[1;32m      2\u001b[0m \u001b[0;32mimport\u001b[0m \u001b[0mtqdm\u001b[0m\u001b[0;34m\u001b[0m\u001b[0;34m\u001b[0m\u001b[0m\n\u001b[0;32m----> 3\u001b[0;31m \u001b[0;32mfrom\u001b[0m \u001b[0msklearn\u001b[0m\u001b[0;34m.\u001b[0m\u001b[0mmanifold\u001b[0m \u001b[0;32mimport\u001b[0m \u001b[0mTSNE\u001b[0m\u001b[0;34m\u001b[0m\u001b[0;34m\u001b[0m\u001b[0m\n\u001b[0m\u001b[1;32m      4\u001b[0m \u001b[0;34m\u001b[0m\u001b[0m\n\u001b[1;32m      5\u001b[0m \u001b[0;34m\u001b[0m\u001b[0m\n",
      "\u001b[0;32m~/opt/anaconda3/lib/python3.8/site-packages/sklearn/manifold/__init__.py\u001b[0m in \u001b[0;36m<module>\u001b[0;34m\u001b[0m\n\u001b[1;32m      7\u001b[0m \u001b[0;32mfrom\u001b[0m \u001b[0;34m.\u001b[0m\u001b[0m_mds\u001b[0m \u001b[0;32mimport\u001b[0m \u001b[0mMDS\u001b[0m\u001b[0;34m,\u001b[0m \u001b[0msmacof\u001b[0m\u001b[0;34m\u001b[0m\u001b[0;34m\u001b[0m\u001b[0m\n\u001b[1;32m      8\u001b[0m \u001b[0;32mfrom\u001b[0m \u001b[0;34m.\u001b[0m\u001b[0m_spectral_embedding\u001b[0m \u001b[0;32mimport\u001b[0m \u001b[0mSpectralEmbedding\u001b[0m\u001b[0;34m,\u001b[0m \u001b[0mspectral_embedding\u001b[0m\u001b[0;34m\u001b[0m\u001b[0;34m\u001b[0m\u001b[0m\n\u001b[0;32m----> 9\u001b[0;31m \u001b[0;32mfrom\u001b[0m \u001b[0;34m.\u001b[0m\u001b[0m_t_sne\u001b[0m \u001b[0;32mimport\u001b[0m \u001b[0mTSNE\u001b[0m\u001b[0;34m,\u001b[0m \u001b[0mtrustworthiness\u001b[0m\u001b[0;34m\u001b[0m\u001b[0;34m\u001b[0m\u001b[0m\n\u001b[0m\u001b[1;32m     10\u001b[0m \u001b[0;34m\u001b[0m\u001b[0m\n\u001b[1;32m     11\u001b[0m __all__ = ['locally_linear_embedding', 'LocallyLinearEmbedding', 'Isomap',\n",
      "\u001b[0;32m~/opt/anaconda3/lib/python3.8/site-packages/sklearn/manifold/_t_sne.py\u001b[0m in \u001b[0;36m<module>\u001b[0;34m\u001b[0m\n\u001b[1;32m     27\u001b[0m \u001b[0;32mfrom\u001b[0m \u001b[0;34m.\u001b[0m \u001b[0;32mimport\u001b[0m \u001b[0m_utils\u001b[0m  \u001b[0;31m# type: ignore\u001b[0m\u001b[0;34m\u001b[0m\u001b[0;34m\u001b[0m\u001b[0m\n\u001b[1;32m     28\u001b[0m \u001b[0;31m# mypy error: Module 'sklearn.manifold' has no attribute '_barnes_hut_tsne'\u001b[0m\u001b[0;34m\u001b[0m\u001b[0;34m\u001b[0m\u001b[0;34m\u001b[0m\u001b[0m\n\u001b[0;32m---> 29\u001b[0;31m \u001b[0;32mfrom\u001b[0m \u001b[0;34m.\u001b[0m \u001b[0;32mimport\u001b[0m \u001b[0m_barnes_hut_tsne\u001b[0m  \u001b[0;31m# type: ignore\u001b[0m\u001b[0;34m\u001b[0m\u001b[0;34m\u001b[0m\u001b[0m\n\u001b[0m\u001b[1;32m     30\u001b[0m \u001b[0;34m\u001b[0m\u001b[0m\n\u001b[1;32m     31\u001b[0m \u001b[0;34m\u001b[0m\u001b[0m\n",
      "\u001b[0;32msklearn/manifold/_barnes_hut_tsne.pyx\u001b[0m in \u001b[0;36minit sklearn.manifold._barnes_hut_tsne\u001b[0;34m()\u001b[0m\n",
      "\u001b[0;32msklearn/neighbors/_quad_tree.pyx\u001b[0m in \u001b[0;36minit sklearn.neighbors._quad_tree\u001b[0;34m()\u001b[0m\n",
      "\u001b[0;32m~/opt/anaconda3/lib/python3.8/site-packages/sklearn/tree/__init__.py\u001b[0m in \u001b[0;36m<module>\u001b[0;34m\u001b[0m\n\u001b[1;32m      4\u001b[0m \"\"\"\n\u001b[1;32m      5\u001b[0m \u001b[0;34m\u001b[0m\u001b[0m\n\u001b[0;32m----> 6\u001b[0;31m \u001b[0;32mfrom\u001b[0m \u001b[0;34m.\u001b[0m\u001b[0m_classes\u001b[0m \u001b[0;32mimport\u001b[0m \u001b[0mBaseDecisionTree\u001b[0m\u001b[0;34m\u001b[0m\u001b[0;34m\u001b[0m\u001b[0m\n\u001b[0m\u001b[1;32m      7\u001b[0m \u001b[0;32mfrom\u001b[0m \u001b[0;34m.\u001b[0m\u001b[0m_classes\u001b[0m \u001b[0;32mimport\u001b[0m \u001b[0mDecisionTreeClassifier\u001b[0m\u001b[0;34m\u001b[0m\u001b[0;34m\u001b[0m\u001b[0m\n\u001b[1;32m      8\u001b[0m \u001b[0;32mfrom\u001b[0m \u001b[0;34m.\u001b[0m\u001b[0m_classes\u001b[0m \u001b[0;32mimport\u001b[0m \u001b[0mDecisionTreeRegressor\u001b[0m\u001b[0;34m\u001b[0m\u001b[0;34m\u001b[0m\u001b[0m\n",
      "\u001b[0;32m~/opt/anaconda3/lib/python3.8/site-packages/sklearn/tree/_classes.py\u001b[0m in \u001b[0;36m<module>\u001b[0;34m\u001b[0m\n\u001b[1;32m     38\u001b[0m \u001b[0;32mfrom\u001b[0m \u001b[0;34m.\u001b[0m\u001b[0;34m.\u001b[0m\u001b[0mutils\u001b[0m\u001b[0;34m.\u001b[0m\u001b[0mvalidation\u001b[0m \u001b[0;32mimport\u001b[0m \u001b[0m_deprecate_positional_args\u001b[0m\u001b[0;34m\u001b[0m\u001b[0;34m\u001b[0m\u001b[0m\n\u001b[1;32m     39\u001b[0m \u001b[0;34m\u001b[0m\u001b[0m\n\u001b[0;32m---> 40\u001b[0;31m \u001b[0;32mfrom\u001b[0m \u001b[0;34m.\u001b[0m\u001b[0m_criterion\u001b[0m \u001b[0;32mimport\u001b[0m \u001b[0mCriterion\u001b[0m\u001b[0;34m\u001b[0m\u001b[0;34m\u001b[0m\u001b[0m\n\u001b[0m\u001b[1;32m     41\u001b[0m \u001b[0;32mfrom\u001b[0m \u001b[0;34m.\u001b[0m\u001b[0m_splitter\u001b[0m \u001b[0;32mimport\u001b[0m \u001b[0mSplitter\u001b[0m\u001b[0;34m\u001b[0m\u001b[0;34m\u001b[0m\u001b[0m\n\u001b[1;32m     42\u001b[0m \u001b[0;32mfrom\u001b[0m \u001b[0;34m.\u001b[0m\u001b[0m_tree\u001b[0m \u001b[0;32mimport\u001b[0m \u001b[0mDepthFirstTreeBuilder\u001b[0m\u001b[0;34m\u001b[0m\u001b[0;34m\u001b[0m\u001b[0m\n",
      "\u001b[0;32msklearn/tree/_criterion.pyx\u001b[0m in \u001b[0;36minit sklearn.tree._criterion\u001b[0;34m()\u001b[0m\n",
      "\u001b[0;32mcython_special.pyx\u001b[0m in \u001b[0;36minit scipy.special.cython_special\u001b[0;34m()\u001b[0m\n",
      "\u001b[0;31mImportError\u001b[0m: scipy.special._ufuncs_cxx does not export expected C variable _export_expit"
     ]
    }
   ],
   "source": [
    "#!pip install flair\n",
    "\n",
    "from flair.models import TextClassifier\n",
    "from flair.data import Sentence\n",
    "\n",
    "classifier = TextClassifier.load('en-sentiment')\n",
    "sentence = Sentence('The food was great!')\n",
    "classifier.predict(sentence)\n",
    "\n",
    "# print sentence with predicted labels\n",
    "print('Sentence above is: ', sentence.labels)"
   ]
  },
  {
   "cell_type": "code",
   "execution_count": 147,
   "id": "a7cd596a",
   "metadata": {
    "scrolled": true
   },
   "outputs": [
    {
     "data": {
      "text/html": [
       "<div>\n",
       "<style scoped>\n",
       "    .dataframe tbody tr th:only-of-type {\n",
       "        vertical-align: middle;\n",
       "    }\n",
       "\n",
       "    .dataframe tbody tr th {\n",
       "        vertical-align: top;\n",
       "    }\n",
       "\n",
       "    .dataframe thead th {\n",
       "        text-align: right;\n",
       "    }\n",
       "</style>\n",
       "<table border=\"1\" class=\"dataframe\">\n",
       "  <thead>\n",
       "    <tr style=\"text-align: right;\">\n",
       "      <th></th>\n",
       "      <th>text</th>\n",
       "      <th>price</th>\n",
       "      <th>pct_change</th>\n",
       "      <th>price_direction</th>\n",
       "      <th>day_of_week</th>\n",
       "      <th>is_holiday</th>\n",
       "      <th>vader_compound</th>\n",
       "      <th>textblob_polarity</th>\n",
       "    </tr>\n",
       "    <tr>\n",
       "      <th>date</th>\n",
       "      <th></th>\n",
       "      <th></th>\n",
       "      <th></th>\n",
       "      <th></th>\n",
       "      <th></th>\n",
       "      <th></th>\n",
       "      <th></th>\n",
       "      <th></th>\n",
       "    </tr>\n",
       "  </thead>\n",
       "  <tbody>\n",
       "    <tr>\n",
       "      <th>2018-09-08</th>\n",
       "      <td>Alex Jones’s Infowars Is Removed From Apple’s ...</td>\n",
       "      <td>2871.68</td>\n",
       "      <td>0.0</td>\n",
       "      <td>0.0</td>\n",
       "      <td>5</td>\n",
       "      <td>0</td>\n",
       "      <td>-0.9485</td>\n",
       "      <td>-0.333333</td>\n",
       "    </tr>\n",
       "    <tr>\n",
       "      <th>2017-08-26</th>\n",
       "      <td>James Staley’s Series of Unfortunate Events. A...</td>\n",
       "      <td>2443.05</td>\n",
       "      <td>0.0</td>\n",
       "      <td>0.0</td>\n",
       "      <td>5</td>\n",
       "      <td>0</td>\n",
       "      <td>-0.7717</td>\n",
       "      <td>-0.300000</td>\n",
       "    </tr>\n",
       "    <tr>\n",
       "      <th>2011-12-31</th>\n",
       "      <td>After Outcry, Verizon Abandons $2 Fee. Verizon...</td>\n",
       "      <td>1257.60</td>\n",
       "      <td>0.0</td>\n",
       "      <td>0.0</td>\n",
       "      <td>5</td>\n",
       "      <td>0</td>\n",
       "      <td>-0.9393</td>\n",
       "      <td>-0.233333</td>\n",
       "    </tr>\n",
       "    <tr>\n",
       "      <th>2021-05-30</th>\n",
       "      <td>‘It’s Going to Be a Big Summer for Hard Seltze...</td>\n",
       "      <td>4204.11</td>\n",
       "      <td>0.0</td>\n",
       "      <td>0.0</td>\n",
       "      <td>6</td>\n",
       "      <td>0</td>\n",
       "      <td>-0.8582</td>\n",
       "      <td>-0.195606</td>\n",
       "    </tr>\n",
       "    <tr>\n",
       "      <th>2020-05-24</th>\n",
       "      <td>Pay Cuts Become a Tool for Some Companies to A...</td>\n",
       "      <td>2955.45</td>\n",
       "      <td>0.0</td>\n",
       "      <td>0.0</td>\n",
       "      <td>6</td>\n",
       "      <td>0</td>\n",
       "      <td>-0.9403</td>\n",
       "      <td>-0.151852</td>\n",
       "    </tr>\n",
       "    <tr>\n",
       "      <th>...</th>\n",
       "      <td>...</td>\n",
       "      <td>...</td>\n",
       "      <td>...</td>\n",
       "      <td>...</td>\n",
       "      <td>...</td>\n",
       "      <td>...</td>\n",
       "      <td>...</td>\n",
       "      <td>...</td>\n",
       "    </tr>\n",
       "    <tr>\n",
       "      <th>2017-10-14</th>\n",
       "      <td>Tesla Fires Hundreds of Workers. The dismissal...</td>\n",
       "      <td>2553.17</td>\n",
       "      <td>0.0</td>\n",
       "      <td>0.0</td>\n",
       "      <td>5</td>\n",
       "      <td>0</td>\n",
       "      <td>-0.4588</td>\n",
       "      <td>0.280769</td>\n",
       "    </tr>\n",
       "    <tr>\n",
       "      <th>2016-05-28</th>\n",
       "      <td>Paper Points Up Flaws in Venture Fund Based on...</td>\n",
       "      <td>2099.06</td>\n",
       "      <td>0.0</td>\n",
       "      <td>0.0</td>\n",
       "      <td>5</td>\n",
       "      <td>0</td>\n",
       "      <td>0.9862</td>\n",
       "      <td>0.288625</td>\n",
       "    </tr>\n",
       "    <tr>\n",
       "      <th>2020-10-10</th>\n",
       "      <td>Airline Miles Programs Sure Are Profitable. Ar...</td>\n",
       "      <td>3477.13</td>\n",
       "      <td>0.0</td>\n",
       "      <td>0.0</td>\n",
       "      <td>5</td>\n",
       "      <td>0</td>\n",
       "      <td>0.9886</td>\n",
       "      <td>0.311180</td>\n",
       "    </tr>\n",
       "    <tr>\n",
       "      <th>2015-12-06</th>\n",
       "      <td>You and What Army?. Part 1 of a cluing discuss...</td>\n",
       "      <td>2091.69</td>\n",
       "      <td>0.0</td>\n",
       "      <td>0.0</td>\n",
       "      <td>6</td>\n",
       "      <td>0</td>\n",
       "      <td>-0.6655</td>\n",
       "      <td>0.315278</td>\n",
       "    </tr>\n",
       "    <tr>\n",
       "      <th>2016-11-13</th>\n",
       "      <td>Paul Newman Who? Salad Dressing Company Adjust...</td>\n",
       "      <td>2164.45</td>\n",
       "      <td>0.0</td>\n",
       "      <td>0.0</td>\n",
       "      <td>6</td>\n",
       "      <td>0</td>\n",
       "      <td>0.4404</td>\n",
       "      <td>0.372222</td>\n",
       "    </tr>\n",
       "  </tbody>\n",
       "</table>\n",
       "<p>3652 rows × 8 columns</p>\n",
       "</div>"
      ],
      "text/plain": [
       "                                                         text    price  \\\n",
       "date                                                                     \n",
       "2018-09-08  Alex Jones’s Infowars Is Removed From Apple’s ...  2871.68   \n",
       "2017-08-26  James Staley’s Series of Unfortunate Events. A...  2443.05   \n",
       "2011-12-31  After Outcry, Verizon Abandons $2 Fee. Verizon...  1257.60   \n",
       "2021-05-30  ‘It’s Going to Be a Big Summer for Hard Seltze...  4204.11   \n",
       "2020-05-24  Pay Cuts Become a Tool for Some Companies to A...  2955.45   \n",
       "...                                                       ...      ...   \n",
       "2017-10-14  Tesla Fires Hundreds of Workers. The dismissal...  2553.17   \n",
       "2016-05-28  Paper Points Up Flaws in Venture Fund Based on...  2099.06   \n",
       "2020-10-10  Airline Miles Programs Sure Are Profitable. Ar...  3477.13   \n",
       "2015-12-06  You and What Army?. Part 1 of a cluing discuss...  2091.69   \n",
       "2016-11-13  Paul Newman Who? Salad Dressing Company Adjust...  2164.45   \n",
       "\n",
       "            pct_change  price_direction  day_of_week  is_holiday  \\\n",
       "date                                                               \n",
       "2018-09-08         0.0              0.0            5           0   \n",
       "2017-08-26         0.0              0.0            5           0   \n",
       "2011-12-31         0.0              0.0            5           0   \n",
       "2021-05-30         0.0              0.0            6           0   \n",
       "2020-05-24         0.0              0.0            6           0   \n",
       "...                ...              ...          ...         ...   \n",
       "2017-10-14         0.0              0.0            5           0   \n",
       "2016-05-28         0.0              0.0            5           0   \n",
       "2020-10-10         0.0              0.0            5           0   \n",
       "2015-12-06         0.0              0.0            6           0   \n",
       "2016-11-13         0.0              0.0            6           0   \n",
       "\n",
       "            vader_compound  textblob_polarity  \n",
       "date                                           \n",
       "2018-09-08         -0.9485          -0.333333  \n",
       "2017-08-26         -0.7717          -0.300000  \n",
       "2011-12-31         -0.9393          -0.233333  \n",
       "2021-05-30         -0.8582          -0.195606  \n",
       "2020-05-24         -0.9403          -0.151852  \n",
       "...                    ...                ...  \n",
       "2017-10-14         -0.4588           0.280769  \n",
       "2016-05-28          0.9862           0.288625  \n",
       "2020-10-10          0.9886           0.311180  \n",
       "2015-12-06         -0.6655           0.315278  \n",
       "2016-11-13          0.4404           0.372222  \n",
       "\n",
       "[3652 rows x 8 columns]"
      ]
     },
     "execution_count": 147,
     "metadata": {},
     "output_type": "execute_result"
    }
   ],
   "source": [
    "daily.sort_values('textblob_polarity',ascending=True)"
   ]
  },
  {
   "cell_type": "code",
   "execution_count": 7,
   "id": "b0862b87",
   "metadata": {},
   "outputs": [
    {
     "name": "stderr",
     "output_type": "stream",
     "text": [
      "<ipython-input-7-a4dfeba400c0>:1: FutureWarning: Indexing with multiple keys (implicitly converted to a tuple of keys) will be deprecated, use a list instead.\n",
      "  daily.groupby('price_direction')['vader_compound','textblob_polarity'].mean().T.plot(kind='bar', stacked=False)\n"
     ]
    },
    {
     "data": {
      "image/png": "[encoded data removed]",
      "text/plain": [
       "<Figure size 432x288 with 1 Axes>"
      ]
     },
     "metadata": {
      "needs_background": "light"
     },
     "output_type": "display_data"
    }
   ],
   "source": [
    "daily.groupby('price_direction')['vader_compound','textblob_polarity'].mean().T.plot(kind='bar', stacked=False)\n",
    "plt.title('Average Sentiment Analyses of NYT Business Articles with S&P 500 Price Change')\n",
    "plt.xlabel('Sentiment Analyzers')\n",
    "plt.ylabel('Sentiment Score');"
   ]
  },
  {
   "cell_type": "markdown",
   "id": "380b3fea",
   "metadata": {},
   "source": [
    "### Text Cleaning\n",
    "eliminate the punctuation, URL, and @\n",
    "#source: https://monkeylearn.com/blog/text-cleaning/"
   ]
  },
  {
   "cell_type": "code",
   "execution_count": 8,
   "id": "90839bb5",
   "metadata": {},
   "outputs": [],
   "source": [
    "#Use this to remove http, punctuation, URL, and @\n",
    "daily['text'] = daily['text'].map(lambda x: re.sub(r\"(@\\[A-Za-z0-9]+)|([^0-9A-Za-z \\t])|(\\w+:\\/\\/\\S+)|^rt|http.+?\", \"\", str(x)))\n"
   ]
  },
  {
   "cell_type": "markdown",
   "id": "976ec4c3",
   "metadata": {},
   "source": [
    "tokenize and lemmatize"
   ]
  },
  {
   "cell_type": "code",
   "execution_count": 9,
   "id": "d40ea43c",
   "metadata": {},
   "outputs": [],
   "source": [
    "import string\n",
    "\n",
    "lemmatizer = WordNetLemmatizer()\n",
    "tokenizer = RegexpTokenizer(r'\\w+|\\$[\\d\\.]+|\\S+')\n",
    "\n",
    "\n",
    "def tokelemma(z):\n",
    "    z = str(z).lower().translate(str.maketrans('','','1234567890')).translate(str.maketrans('','',string.punctuation))\n",
    "    #credit to DrChuck https://stackoverflow.com/questions/23175809/str-translate-gives-typeerror-translate-takes-one-argument-2-given-worked-i\n",
    "    toke = tokenizer.tokenize(z.lower())\n",
    "    lemmatized_output = ' '.join([lemmatizer.lemmatize(w) for w in toke])\n",
    "    return lemmatized_output\n",
    "\n",
    "daily['text'] = daily['text'].map(tokelemma)\n",
    "\n",
    "#has to ha lemmatizer issue with exceptions https://stackoverflow.com/questions/33594721/why-nltk-lemmatization-has-wrong-output-even-if-verb-exc-has-added-right-value"
   ]
  },
  {
   "cell_type": "code",
   "execution_count": 10,
   "id": "c2df6ee3",
   "metadata": {},
   "outputs": [
    {
     "data": {
      "text/html": [
       "<div>\n",
       "<style scoped>\n",
       "    .dataframe tbody tr th:only-of-type {\n",
       "        vertical-align: middle;\n",
       "    }\n",
       "\n",
       "    .dataframe tbody tr th {\n",
       "        vertical-align: top;\n",
       "    }\n",
       "\n",
       "    .dataframe thead th {\n",
       "        text-align: right;\n",
       "    }\n",
       "</style>\n",
       "<table border=\"1\" class=\"dataframe\">\n",
       "  <thead>\n",
       "    <tr style=\"text-align: right;\">\n",
       "      <th></th>\n",
       "      <th>Unnamed: 0</th>\n",
       "      <th>date</th>\n",
       "      <th>text</th>\n",
       "      <th>price</th>\n",
       "      <th>pct_change</th>\n",
       "      <th>price_direction</th>\n",
       "      <th>day_of_week</th>\n",
       "      <th>is_holiday</th>\n",
       "      <th>vader_compound</th>\n",
       "      <th>textblob_polarity</th>\n",
       "    </tr>\n",
       "  </thead>\n",
       "  <tbody>\n",
       "    <tr>\n",
       "      <th>0</th>\n",
       "      <td>0</td>\n",
       "      <td>2011-07-29</td>\n",
       "      <td>drug app come free ad included epocrates ha wo...</td>\n",
       "      <td>1292.28</td>\n",
       "      <td>NaN</td>\n",
       "      <td>first</td>\n",
       "      <td>4</td>\n",
       "      <td>0</td>\n",
       "      <td>0.9591</td>\n",
       "      <td>0.056552</td>\n",
       "    </tr>\n",
       "  </tbody>\n",
       "</table>\n",
       "</div>"
      ],
      "text/plain": [
       "   Unnamed: 0        date                                               text  \\\n",
       "0           0  2011-07-29  drug app come free ad included epocrates ha wo...   \n",
       "\n",
       "     price  pct_change price_direction  day_of_week  is_holiday  \\\n",
       "0  1292.28         NaN           first            4           0   \n",
       "\n",
       "   vader_compound  textblob_polarity  \n",
       "0          0.9591           0.056552  "
      ]
     },
     "execution_count": 10,
     "metadata": {},
     "output_type": "execute_result"
    }
   ],
   "source": [
    "daily.head(1)"
   ]
  },
  {
   "cell_type": "markdown",
   "id": "f1a4075d",
   "metadata": {},
   "source": [
    "## Bigrams, Trigrams, ngrams\n",
    "\n",
    "https://www.google.com/search?q=textblob+ngrams+python&rlz=1C5CHFA_enUS726US732&oq=textblob+ngr&aqs=chrome.2.0i512j69i57j0i22i30j69i60.4463j0j7&sourceid=chrome&ie=UTF-8\n",
    "\n",
    "https://textblob.readthedocs.io/en/dev/quickstart.html#n-grams"
   ]
  },
  {
   "cell_type": "code",
   "execution_count": null,
   "id": "2e9ed668",
   "metadata": {},
   "outputs": [],
   "source": []
  },
  {
   "cell_type": "markdown",
   "id": "8e65cf6a",
   "metadata": {},
   "source": [
    "## stopwords\n",
    "\n",
    "https://stackabuse.com/removing-stop-words-from-strings-in-python/"
   ]
  },
  {
   "cell_type": "code",
   "execution_count": null,
   "id": "e2f55129",
   "metadata": {},
   "outputs": [],
   "source": [
    "!pip install stop-words\n",
    "from stop_words import get_stop_words\n",
    "from nltk.corpus import stopwords\n",
    "\n",
    "stop_words = list(get_stop_words('en'))         #About 174 stopwords\n",
    "nltk_words = list(stopwords.words('english')) #About 179 stopwords\n",
    "stop_words.extend(nltk_words)\n",
    "\n",
    "\n",
    "def delete_stopwords(words):\n",
    "    new_phrase = []\n",
    "    for word in words: # iterate over word_list\n",
    "        if words.lower().split() not in stop_words:\n",
    "            new_phrase.append(words.lower())\n",
    "    return \" \".join(new_phrase)\n",
    "draft_df['alltext'] = draft_df['alltext'].map(lambda x: delete_stopwords(str(x)))\n",
    "draft_df.head(1)\n",
    "\n",
    "#still am unable to get rid of the 'of' stopwords, function not working!"
   ]
  },
  {
   "cell_type": "code",
   "execution_count": null,
   "id": "9cb23406",
   "metadata": {},
   "outputs": [],
   "source": [
    "#removing stopwords\n",
    "\n",
    "def delete_stopwords(words):\n",
    "    if words.lower() not in stop_words:\n",
    "        return words.lower()\n",
    "draft_df['alltext'] = draft_df['alltext'].map(lambda x: delete_stopwords(str(x)))\n",
    "\n",
    "#eliminate the punctuation, URL, and @\n",
    "draft_df['alltext'] = draft_df['alltext'].map(lambda x: re.sub(r\"(@\\[A-Za-z0-9]+)|([^0-9A-Za-z \\t])|(\\w+:\\/\\/\\S+)|^rt|http.+?\", \"\", str(x)))\n",
    "#source: https://monkeylearn.com/blog/text-cleaning/\n",
    "draft_df.head(5)\n"
   ]
  },
  {
   "cell_type": "markdown",
   "id": "df08d589",
   "metadata": {},
   "source": [
    "# Train Test Split"
   ]
  },
  {
   "cell_type": "code",
   "execution_count": 11,
   "id": "9c02512d",
   "metadata": {},
   "outputs": [
    {
     "data": {
      "text/html": [
       "<div>\n",
       "<style scoped>\n",
       "    .dataframe tbody tr th:only-of-type {\n",
       "        vertical-align: middle;\n",
       "    }\n",
       "\n",
       "    .dataframe tbody tr th {\n",
       "        vertical-align: top;\n",
       "    }\n",
       "\n",
       "    .dataframe thead th {\n",
       "        text-align: right;\n",
       "    }\n",
       "</style>\n",
       "<table border=\"1\" class=\"dataframe\">\n",
       "  <thead>\n",
       "    <tr style=\"text-align: right;\">\n",
       "      <th></th>\n",
       "      <th>Unnamed: 0</th>\n",
       "      <th>date</th>\n",
       "      <th>text</th>\n",
       "      <th>price</th>\n",
       "      <th>pct_change</th>\n",
       "      <th>price_direction</th>\n",
       "      <th>day_of_week</th>\n",
       "      <th>is_holiday</th>\n",
       "      <th>vader_compound</th>\n",
       "      <th>textblob_polarity</th>\n",
       "    </tr>\n",
       "  </thead>\n",
       "  <tbody>\n",
       "    <tr>\n",
       "      <th>0</th>\n",
       "      <td>0</td>\n",
       "      <td>2011-07-29</td>\n",
       "      <td>drug app come free ad included epocrates ha wo...</td>\n",
       "      <td>1292.28</td>\n",
       "      <td>NaN</td>\n",
       "      <td>first</td>\n",
       "      <td>4</td>\n",
       "      <td>0</td>\n",
       "      <td>0.9591</td>\n",
       "      <td>0.056552</td>\n",
       "    </tr>\n",
       "  </tbody>\n",
       "</table>\n",
       "</div>"
      ],
      "text/plain": [
       "   Unnamed: 0        date                                               text  \\\n",
       "0           0  2011-07-29  drug app come free ad included epocrates ha wo...   \n",
       "\n",
       "     price  pct_change price_direction  day_of_week  is_holiday  \\\n",
       "0  1292.28         NaN           first            4           0   \n",
       "\n",
       "   vader_compound  textblob_polarity  \n",
       "0          0.9591           0.056552  "
      ]
     },
     "execution_count": 11,
     "metadata": {},
     "output_type": "execute_result"
    }
   ],
   "source": [
    "daily.head(1)"
   ]
  },
  {
   "cell_type": "code",
   "execution_count": 12,
   "id": "44a906e2",
   "metadata": {
    "scrolled": true
   },
   "outputs": [
    {
     "data": {
      "text/plain": [
       "up       1391\n",
       "down     1137\n",
       "same     1124\n",
       "first       1\n",
       "Name: price_direction, dtype: int64"
      ]
     },
     "execution_count": 12,
     "metadata": {},
     "output_type": "execute_result"
    }
   ],
   "source": [
    "daily['price_direction'].value_counts()"
   ]
  },
  {
   "cell_type": "code",
   "execution_count": 13,
   "id": "6c5c6d73",
   "metadata": {},
   "outputs": [],
   "source": [
    "#prep columns to numerical\n",
    "daily.dropna(inplace=True)\n",
    "daily['price_direction'] = daily['price_direction'].map({'down' : -1,'same' : 0 , 'up' : 1})"
   ]
  },
  {
   "cell_type": "code",
   "execution_count": 19,
   "id": "73e5ae2b",
   "metadata": {},
   "outputs": [],
   "source": [
    "#declaring features and target variable\n",
    "X = daily['text']\n",
    "y = daily['price_direction']\n",
    "\n",
    "#sticking with a test size of 0.20 to save 2 years of data to test on\n",
    "X_train, X_test, y_train, y_test = train_test_split(X, y, random_state=42, shuffle=False)"
   ]
  },
  {
   "cell_type": "markdown",
   "id": "392479e8",
   "metadata": {},
   "source": [
    "### CountVectorizer"
   ]
  },
  {
   "cell_type": "code",
   "execution_count": 22,
   "id": "f22b262c",
   "metadata": {},
   "outputs": [],
   "source": [
    "cvec = CountVectorizer(stop_words='english',ngram_range=(1,2))\n",
    "Xc_train = cvec.fit_transform(X_train)\n",
    "Xc_test = cvec.transform(X_test)"
   ]
  },
  {
   "cell_type": "code",
   "execution_count": null,
   "id": "f10dbc0e",
   "metadata": {},
   "outputs": [],
   "source": [
    "#processing CV on main dataframe\n",
    "cvec = CountVectorizer(ngram_range=(1,2))\n",
    "text_fields = pd.DataFrame(Xc_train.todense(), columns = cvec.get_feature_names())\n",
    "df = text_fields.join(daily, how='outer',lsuffix= '_')\n",
    "df.head(3)\n",
    "\n",
    "\n",
    "#dropping text series after vectorizing\n",
    "#daily.drop(columns = ['text'], inplace=True, axis =1)"
   ]
  },
  {
   "cell_type": "code",
   "execution_count": 23,
   "id": "6f85e8d0",
   "metadata": {},
   "outputs": [
    {
     "data": {
      "text/plain": [
       "<AxesSubplot:>"
      ]
     },
     "execution_count": 23,
     "metadata": {},
     "output_type": "execute_result"
    },
    {
     "data": {
      "image/png": "[encoded data removed]",
      "text/plain": [
       "<Figure size 432x288 with 1 Axes>"
      ]
     },
     "metadata": {
      "needs_background": "light"
     },
     "output_type": "display_data"
    }
   ],
   "source": [
    "# plot top occuring words\n",
    "Xc_train_df = pd.DataFrame(Xc_train.todense(), columns=cvec.get_feature_names())\n",
    "Xc_train_df.sum().sort_values(ascending = False).head(10).plot(kind = 'barh');\n",
    "#wa and ha are was and has. may need to eliminate these with manual stopword removal"
   ]
  },
  {
   "cell_type": "code",
   "execution_count": null,
   "id": "48c998b5",
   "metadata": {},
   "outputs": [],
   "source": [
    "#further data cleaning before modeling\n",
    "stop\n",
    "daily.set_index('date', inplace=True)\n",
    "daily.drop(columns=['Unnamed: 0'], inplace=True)"
   ]
  },
  {
   "cell_type": "markdown",
   "id": "be1e234d",
   "metadata": {},
   "source": [
    "#### CV Grid search with MNB"
   ]
  },
  {
   "cell_type": "code",
   "execution_count": 24,
   "id": "3db3247e",
   "metadata": {},
   "outputs": [
    {
     "data": {
      "text/plain": [
       "(0.6918583424607521, 0.4424972617743702)"
      ]
     },
     "execution_count": 24,
     "metadata": {},
     "output_type": "execute_result"
    }
   ],
   "source": [
    "cvec = CountVectorizer() #trying while keeping stopwords\n",
    "#cvec = CountVectorizer(stop_words = 'english')\n",
    "Xc_train = cvec.fit_transform(X_train)\n",
    "Xc_test = cvec.transform(X_test)\n",
    "\n",
    "\n",
    "'''\n",
    "#To add custom stop words\n",
    "my_words = ['spoon', 'mustard', 'gucci', 'circle jerk', 'tortuga']\n",
    "\n",
    "stop_words = text.ENGLISH_STOP_WORDS.union(my_words)\n",
    "CountVectorizer(stopwords = stopwords)'''\n",
    "\n",
    "# Pipeline with two stages:\n",
    "# 1. CountVectorizer (transformer)\n",
    "# 2. Multinomial Naive Bayes (estimator)\n",
    "\n",
    "pipe = Pipeline([\n",
    "    ('cvec', CountVectorizer() ),\n",
    "    ('nb', MultinomialNB())\n",
    "])\n",
    "\n",
    "# Hyperparameters:\n",
    "# Maximum number of features fit: 2000, 3000, 4000, 5000\n",
    "# Minimum number of documents needed to include token: 2, 3\n",
    "# Maximum number of documents needed to include token: 90%, 95%\n",
    "# Check (individual tokens) and also check (individual tokens and 2-grams).\n",
    "\n",
    "pipe_params = {\n",
    "    'cvec__max_features': [1000, 2000, 4000, 5000],\n",
    "    'cvec__min_df': [2,3],\n",
    "    'cvec__max_df': [.9, .95],\n",
    "    'cvec__ngram_range': [(1,1), (1,2)]\n",
    "}\n",
    "\n",
    "# Instantiate GridSearchCV.\n",
    "\n",
    "gs = GridSearchCV(pipe, pipe_params, cv =3) \n",
    "gs.fit(X_train, y_train)\n",
    "\n",
    "# What's the best score?\n",
    "\n",
    "gs.score(X_train, y_train), gs.score(X_test, y_test)\n",
    "%time"
   ]
  },
  {
   "cell_type": "code",
   "execution_count": 26,
   "id": "687506f0",
   "metadata": {},
   "outputs": [
    {
     "data": {
      "text/plain": [
       "{'cvec__max_df': 0.9,\n",
       " 'cvec__max_features': 4000,\n",
       " 'cvec__min_df': 3,\n",
       " 'cvec__ngram_range': (1, 2)}"
      ]
     },
     "execution_count": 26,
     "metadata": {},
     "output_type": "execute_result"
    }
   ],
   "source": [
    "gs.best_params_"
   ]
  },
  {
   "cell_type": "code",
   "execution_count": 37,
   "id": "50ac0b74",
   "metadata": {},
   "outputs": [
    {
     "data": {
      "image/png": "[encoded data removed]",
      "text/plain": [
       "<Figure size 432x288 with 2 Axes>"
      ]
     },
     "metadata": {
      "needs_background": "light"
     },
     "output_type": "display_data"
    }
   ],
   "source": [
    "# predictions\n",
    "preds = gs.predict(X_test)\n",
    "\n",
    "# View confusion matrix\n",
    "plot_confusion_matrix(gs, X_test, y_test, cmap='Blues');\n"
   ]
  },
  {
   "cell_type": "markdown",
   "id": "40b83dcf",
   "metadata": {},
   "source": [
    "## TFIDF\n",
    "\n",
    "Less likely to use tFIDF since it is looking for relative and rare words across documents to weight them in comparison and that isn't necessarily the goal of our analysis. Weighting words is less important than finding sentiment from counting words."
   ]
  },
  {
   "cell_type": "code",
   "execution_count": 29,
   "id": "6023a00d",
   "metadata": {},
   "outputs": [
    {
     "data": {
      "image/png": "[encoded data removed]",
      "text/plain": [
       "<Figure size 432x288 with 1 Axes>"
      ]
     },
     "metadata": {
      "needs_background": "light"
     },
     "output_type": "display_data"
    }
   ],
   "source": [
    "# plot top occuring words\n",
    "tvec = TfidfVectorizer(stop_words='english')\n",
    "X_train_df = pd.DataFrame(tvec.fit_transform(X_train).todense(), \n",
    "                          columns=tvec.get_feature_names())\n",
    "X_train_df.sum().sort_values(ascending=False).head(10).plot(kind='barh');"
   ]
  },
  {
   "cell_type": "code",
   "execution_count": 34,
   "id": "0187ea69",
   "metadata": {},
   "outputs": [
    {
     "name": "stdout",
     "output_type": "stream",
     "text": [
      "CPU times: user 5 µs, sys: 1e+03 ns, total: 6 µs\n",
      "Wall time: 24.1 µs\n"
     ]
    }
   ],
   "source": [
    "# Set up a pipeline with tf-idf vectorizer and multinomial naive bayes\n",
    "\n",
    "pipe_tvec = Pipeline([\n",
    "    ('tvec', TfidfVectorizer()),\n",
    "    ('nb', MultinomialNB() )\n",
    "])\n",
    "\n",
    "# Search over the following values of hyperparameters:\n",
    "# Maximum number of features fit: 2000, 3000, 4000, 5000\n",
    "# No stop words and english stop words\n",
    "# Check (individual tokens) and also check (individual tokens and 2-grams).\n",
    "\n",
    "\n",
    "pipe_tvec_params = {\n",
    "    'tvec__max_features': [2000, 3000, 4000, 5000],\n",
    "    'tvec__stop_words': [None, 'english'],\n",
    "    'tvec__ngram_range': [(1,1), (1,2), (1,3)],\n",
    "    'tvec__sublinear_tf': [True, False]\n",
    "}\n",
    "\n",
    "# Instantiate GridSearchCV.\n",
    "gs = GridSearchCV(pipe_tvec, pipe_tvec_params, cv = 3)\n",
    "gs.fit(X_train, y_train)\n",
    "gs.score(X_train, y_train), gs.score(X_test, y_test)\n",
    "%time"
   ]
  },
  {
   "cell_type": "code",
   "execution_count": 31,
   "id": "2ea681f4",
   "metadata": {},
   "outputs": [
    {
     "data": {
      "text/plain": [
       "{'tvec__max_features': 4000,\n",
       " 'tvec__ngram_range': (1, 2),\n",
       " 'tvec__stop_words': None}"
      ]
     },
     "execution_count": 31,
     "metadata": {},
     "output_type": "execute_result"
    }
   ],
   "source": [
    "gs.best_params_"
   ]
  },
  {
   "cell_type": "code",
   "execution_count": 36,
   "id": "0795bcc0",
   "metadata": {},
   "outputs": [
    {
     "data": {
      "image/png": "[encoded data removed]",
      "text/plain": [
       "<Figure size 432x288 with 2 Axes>"
      ]
     },
     "metadata": {
      "needs_background": "light"
     },
     "output_type": "display_data"
    }
   ],
   "source": [
    "# Get predictions\n",
    "preds = gs.predict(X_test)\n",
    "# View confusion matrix\n",
    "plot_confusion_matrix(gs, X_test, y_test, cmap='Blues');\n",
    "\n"
   ]
  },
  {
   "cell_type": "code",
   "execution_count": 39,
   "id": "1947d22e",
   "metadata": {},
   "outputs": [
    {
     "ename": "NameError",
     "evalue": "name 'sklearn' is not defined",
     "output_type": "error",
     "traceback": [
      "\u001b[0;31m---------------------------------------------------------------------------\u001b[0m",
      "\u001b[0;31mNameError\u001b[0m                                 Traceback (most recent call last)",
      "\u001b[0;32m<ipython-input-39-be0890572757>\u001b[0m in \u001b[0;36m<module>\u001b[0;34m\u001b[0m\n\u001b[0;32m----> 1\u001b[0;31m \u001b[0msklearn\u001b[0m\u001b[0;34m.\u001b[0m\u001b[0mmetrics\u001b[0m\u001b[0;34m.\u001b[0m\u001b[0maccuracy_score\u001b[0m\u001b[0;34m(\u001b[0m\u001b[0my\u001b[0m\u001b[0;34m,\u001b[0m \u001b[0mpreds\u001b[0m\u001b[0;34m,\u001b[0m \u001b[0mnormalize\u001b[0m\u001b[0;34m=\u001b[0m\u001b[0;32mTrue\u001b[0m\u001b[0;34m,\u001b[0m \u001b[0msample_weight\u001b[0m\u001b[0;34m=\u001b[0m\u001b[0;32mNone\u001b[0m\u001b[0;34m)\u001b[0m\u001b[0;34m\u001b[0m\u001b[0;34m\u001b[0m\u001b[0m\n\u001b[0m",
      "\u001b[0;31mNameError\u001b[0m: name 'sklearn' is not defined"
     ]
    }
   ],
   "source": [
    "from sklearn.metrics import accuracy_score(y, preds, normalize=True, sample_weight=None)"
   ]
  },
  {
   "cell_type": "markdown",
   "id": "a3e90028",
   "metadata": {},
   "source": [
    "# TODO\" model best params with multinomial bayes, how accurate is it?"
   ]
  },
  {
   "cell_type": "markdown",
   "id": "b561e9be",
   "metadata": {},
   "source": [
    "## Evaluation of Models"
   ]
  },
  {
   "cell_type": "markdown",
   "id": "fd069583",
   "metadata": {},
   "source": [
    "# Incorporating Stock Data"
   ]
  },
  {
   "cell_type": "code",
   "execution_count": 60,
   "id": "ffd72379",
   "metadata": {},
   "outputs": [
    {
     "name": "stdout",
     "output_type": "stream",
     "text": [
      "Requirement already satisfied: yfinance in /Users/plarkin/opt/anaconda3/lib/python3.8/site-packages (0.1.63)\n",
      "Requirement already satisfied: lxml>=4.5.1 in /Users/plarkin/opt/anaconda3/lib/python3.8/site-packages (from yfinance) (4.6.3)\n",
      "Requirement already satisfied: requests>=2.20 in /Users/plarkin/opt/anaconda3/lib/python3.8/site-packages (from yfinance) (2.26.0)\n",
      "Requirement already satisfied: numpy>=1.15 in /Users/plarkin/opt/anaconda3/lib/python3.8/site-packages (from yfinance) (1.19.5)\n",
      "Requirement already satisfied: multitasking>=0.0.7 in /Users/plarkin/opt/anaconda3/lib/python3.8/site-packages (from yfinance) (0.0.9)\n",
      "Requirement already satisfied: pandas>=0.24 in /Users/plarkin/opt/anaconda3/lib/python3.8/site-packages (from yfinance) (1.2.4)\n",
      "Requirement already satisfied: python-dateutil>=2.7.3 in /Users/plarkin/opt/anaconda3/lib/python3.8/site-packages (from pandas>=0.24->yfinance) (2.8.1)\n",
      "Requirement already satisfied: pytz>=2017.3 in /Users/plarkin/opt/anaconda3/lib/python3.8/site-packages (from pandas>=0.24->yfinance) (2021.1)\n",
      "Requirement already satisfied: six>=1.5 in /Users/plarkin/opt/anaconda3/lib/python3.8/site-packages (from python-dateutil>=2.7.3->pandas>=0.24->yfinance) (1.15.0)\n",
      "Requirement already satisfied: certifi>=2017.4.17 in /Users/plarkin/opt/anaconda3/lib/python3.8/site-packages (from requests>=2.20->yfinance) (2020.12.5)\n",
      "Requirement already satisfied: urllib3<1.27,>=1.21.1 in /Users/plarkin/opt/anaconda3/lib/python3.8/site-packages (from requests>=2.20->yfinance) (1.26.4)\n",
      "Requirement already satisfied: idna<4,>=2.5 in /Users/plarkin/opt/anaconda3/lib/python3.8/site-packages (from requests>=2.20->yfinance) (2.10)\n",
      "Requirement already satisfied: charset-normalizer~=2.0.0 in /Users/plarkin/opt/anaconda3/lib/python3.8/site-packages/charset_normalizer-2.0.4-py3.8.egg (from requests>=2.20->yfinance) (2.0.4)\n"
     ]
    }
   ],
   "source": [
    "#adding in stock data\n",
    "#!pip install yfinance\n",
    "\n",
    "import yfinance as yf\n",
    "\n",
    "sp500 = yf.Ticker('^GSPC')\n",
    "sp500_hist = sp500.history(period='11y')\n",
    "sp500_hist.to_csv('sp500_1y.csv')\n",
    "#source: https://opendata.stackexchange.com/questions/18081/free-rest-api-for-daily-end-of-day-sp-500-index\n",
    "\n",
    "\n"
   ]
  },
  {
   "cell_type": "code",
   "execution_count": 71,
   "id": "a6c1cfef",
   "metadata": {},
   "outputs": [
    {
     "data": {
      "text/html": [
       "<div>\n",
       "<style scoped>\n",
       "    .dataframe tbody tr th:only-of-type {\n",
       "        vertical-align: middle;\n",
       "    }\n",
       "\n",
       "    .dataframe tbody tr th {\n",
       "        vertical-align: top;\n",
       "    }\n",
       "\n",
       "    .dataframe thead th {\n",
       "        text-align: right;\n",
       "    }\n",
       "</style>\n",
       "<table border=\"1\" class=\"dataframe\">\n",
       "  <thead>\n",
       "    <tr style=\"text-align: right;\">\n",
       "      <th></th>\n",
       "      <th>Open</th>\n",
       "      <th>High</th>\n",
       "      <th>Low</th>\n",
       "      <th>Close</th>\n",
       "      <th>Volume</th>\n",
       "      <th>Dividends</th>\n",
       "      <th>Stock Splits</th>\n",
       "    </tr>\n",
       "    <tr>\n",
       "      <th>Date</th>\n",
       "      <th></th>\n",
       "      <th></th>\n",
       "      <th></th>\n",
       "      <th></th>\n",
       "      <th></th>\n",
       "      <th></th>\n",
       "      <th></th>\n",
       "    </tr>\n",
       "  </thead>\n",
       "  <tbody>\n",
       "    <tr>\n",
       "      <th>2010-08-25</th>\n",
       "      <td>1048.979980</td>\n",
       "      <td>1059.380005</td>\n",
       "      <td>1039.829956</td>\n",
       "      <td>1055.329956</td>\n",
       "      <td>4360190000</td>\n",
       "      <td>0</td>\n",
       "      <td>0</td>\n",
       "    </tr>\n",
       "    <tr>\n",
       "      <th>2010-08-26</th>\n",
       "      <td>1056.280029</td>\n",
       "      <td>1061.449951</td>\n",
       "      <td>1045.400024</td>\n",
       "      <td>1047.219971</td>\n",
       "      <td>3646710000</td>\n",
       "      <td>0</td>\n",
       "      <td>0</td>\n",
       "    </tr>\n",
       "    <tr>\n",
       "      <th>2010-08-27</th>\n",
       "      <td>1049.270020</td>\n",
       "      <td>1065.209961</td>\n",
       "      <td>1039.699951</td>\n",
       "      <td>1064.589966</td>\n",
       "      <td>4102460000</td>\n",
       "      <td>0</td>\n",
       "      <td>0</td>\n",
       "    </tr>\n",
       "    <tr>\n",
       "      <th>2010-08-30</th>\n",
       "      <td>1062.900024</td>\n",
       "      <td>1064.400024</td>\n",
       "      <td>1048.790039</td>\n",
       "      <td>1048.920044</td>\n",
       "      <td>2917990000</td>\n",
       "      <td>0</td>\n",
       "      <td>0</td>\n",
       "    </tr>\n",
       "    <tr>\n",
       "      <th>2010-08-31</th>\n",
       "      <td>1046.880005</td>\n",
       "      <td>1055.140015</td>\n",
       "      <td>1040.880005</td>\n",
       "      <td>1049.329956</td>\n",
       "      <td>4038770000</td>\n",
       "      <td>0</td>\n",
       "      <td>0</td>\n",
       "    </tr>\n",
       "    <tr>\n",
       "      <th>...</th>\n",
       "      <td>...</td>\n",
       "      <td>...</td>\n",
       "      <td>...</td>\n",
       "      <td>...</td>\n",
       "      <td>...</td>\n",
       "      <td>...</td>\n",
       "      <td>...</td>\n",
       "    </tr>\n",
       "    <tr>\n",
       "      <th>2021-08-18</th>\n",
       "      <td>4440.939941</td>\n",
       "      <td>4454.319824</td>\n",
       "      <td>4397.589844</td>\n",
       "      <td>4400.270020</td>\n",
       "      <td>2965210000</td>\n",
       "      <td>0</td>\n",
       "      <td>0</td>\n",
       "    </tr>\n",
       "    <tr>\n",
       "      <th>2021-08-19</th>\n",
       "      <td>4382.439941</td>\n",
       "      <td>4418.609863</td>\n",
       "      <td>4367.729980</td>\n",
       "      <td>4405.799805</td>\n",
       "      <td>3120840000</td>\n",
       "      <td>0</td>\n",
       "      <td>0</td>\n",
       "    </tr>\n",
       "    <tr>\n",
       "      <th>2021-08-20</th>\n",
       "      <td>4410.560059</td>\n",
       "      <td>4444.350098</td>\n",
       "      <td>4406.799805</td>\n",
       "      <td>4441.669922</td>\n",
       "      <td>2867770000</td>\n",
       "      <td>0</td>\n",
       "      <td>0</td>\n",
       "    </tr>\n",
       "    <tr>\n",
       "      <th>2021-08-23</th>\n",
       "      <td>4450.290039</td>\n",
       "      <td>4489.879883</td>\n",
       "      <td>4450.290039</td>\n",
       "      <td>4479.529785</td>\n",
       "      <td>2965520000</td>\n",
       "      <td>0</td>\n",
       "      <td>0</td>\n",
       "    </tr>\n",
       "    <tr>\n",
       "      <th>2021-08-24</th>\n",
       "      <td>4484.399902</td>\n",
       "      <td>4492.810059</td>\n",
       "      <td>4482.279785</td>\n",
       "      <td>4486.229980</td>\n",
       "      <td>1746057000</td>\n",
       "      <td>0</td>\n",
       "      <td>0</td>\n",
       "    </tr>\n",
       "  </tbody>\n",
       "</table>\n",
       "<p>2769 rows × 7 columns</p>\n",
       "</div>"
      ],
      "text/plain": [
       "                   Open         High          Low        Close      Volume  \\\n",
       "Date                                                                         \n",
       "2010-08-25  1048.979980  1059.380005  1039.829956  1055.329956  4360190000   \n",
       "2010-08-26  1056.280029  1061.449951  1045.400024  1047.219971  3646710000   \n",
       "2010-08-27  1049.270020  1065.209961  1039.699951  1064.589966  4102460000   \n",
       "2010-08-30  1062.900024  1064.400024  1048.790039  1048.920044  2917990000   \n",
       "2010-08-31  1046.880005  1055.140015  1040.880005  1049.329956  4038770000   \n",
       "...                 ...          ...          ...          ...         ...   \n",
       "2021-08-18  4440.939941  4454.319824  4397.589844  4400.270020  2965210000   \n",
       "2021-08-19  4382.439941  4418.609863  4367.729980  4405.799805  3120840000   \n",
       "2021-08-20  4410.560059  4444.350098  4406.799805  4441.669922  2867770000   \n",
       "2021-08-23  4450.290039  4489.879883  4450.290039  4479.529785  2965520000   \n",
       "2021-08-24  4484.399902  4492.810059  4482.279785  4486.229980  1746057000   \n",
       "\n",
       "            Dividends  Stock Splits  \n",
       "Date                                 \n",
       "2010-08-25          0             0  \n",
       "2010-08-26          0             0  \n",
       "2010-08-27          0             0  \n",
       "2010-08-30          0             0  \n",
       "2010-08-31          0             0  \n",
       "...               ...           ...  \n",
       "2021-08-18          0             0  \n",
       "2021-08-19          0             0  \n",
       "2021-08-20          0             0  \n",
       "2021-08-23          0             0  \n",
       "2021-08-24          0             0  \n",
       "\n",
       "[2769 rows x 7 columns]"
      ]
     },
     "execution_count": 71,
     "metadata": {},
     "output_type": "execute_result"
    }
   ],
   "source": [
    "sp500_hist.sort_index()"
   ]
  },
  {
   "cell_type": "code",
   "execution_count": null,
   "id": "9b6cd2db",
   "metadata": {},
   "outputs": [],
   "source": [
    "sp500_hist.info()"
   ]
  },
  {
   "cell_type": "code",
   "execution_count": null,
   "id": "b296661b",
   "metadata": {},
   "outputs": [],
   "source": [
    "#averaging multi-day data with single date in order to merge average sentiment with S&P\n",
    "avrg_date_df=master_df.groupby(['sentiment'](freq='D')).mean() "
   ]
  },
  {
   "cell_type": "markdown",
   "id": "74667e80",
   "metadata": {},
   "source": [
    "# Merging Stock and NYT Dataframes"
   ]
  },
  {
   "cell_type": "code",
   "execution_count": null,
   "id": "b1a045ba",
   "metadata": {},
   "outputs": [],
   "source": [
    "#merging S&P with NYT data\n",
    "merge_draft = sp500_hist.join(master_df,)\n",
    "merge_draft.head(1)"
   ]
  },
  {
   "cell_type": "code",
   "execution_count": null,
   "id": "1084c2e4",
   "metadata": {},
   "outputs": [],
   "source": []
  }
 ],
 "metadata": {
  "kernelspec": {
   "display_name": "Python 3",
   "language": "python",
   "name": "python3"
  },
  "language_info": {
   "codemirror_mode": {
    "name": "ipython",
    "version": 3
   },
   "file_extension": ".py",
   "mimetype": "text/x-python",
   "name": "python",
   "nbconvert_exporter": "python",
   "pygments_lexer": "ipython3",
   "version": "3.8.8"
  }
 },
 "nbformat": 4,
 "nbformat_minor": 5
}
