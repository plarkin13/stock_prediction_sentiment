{
 "cells": [
  {
   "cell_type": "code",
   "execution_count": 1,
   "id": "99dc6f3d",
   "metadata": {},
   "outputs": [],
   "source": [
    "#Imports\n",
    "import pandas as pd \n",
    "import numpy as np\n",
    "import seaborn as sns\n",
    "import matplotlib.pyplot as plt \n",
    "%matplotlib inline\n",
    "\n",
    "from nltk.sentiment.vader import SentimentIntensityAnalyzer\n",
    "from textblob import TextBlob\n",
    "\n",
    "from sklearn.linear_model import LinearRegression\n",
    "from sklearn.model_selection import train_test_split\n",
    "from sklearn.preprocessing import StandardScaler\n",
    "from sklearn import metrics\n",
    "from sklearn.metrics import mean_squared_error\n",
    "from sklearn.linear_model import Ridge\n",
    "from sklearn.model_selection import RepeatedKFold\n",
    "from sklearn.model_selection import GridSearchCV\n",
    "from sklearn.metrics import explained_variance_score,mean_absolute_error,r2_score\n",
    "from sklearn.linear_model import LinearRegression, Ridge,Lasso\n",
    "from sklearn.neighbors import KNeighborsRegressor\n",
    "from sklearn.ensemble import GradientBoostingRegressor\n",
    "from sklearn.ensemble import ExtraTreesRegressor, RandomForestRegressor\n",
    "from sklearn.tree import DecisionTreeRegressor\n",
    "\n",
    "from time import time\n",
    "import datetime\n",
    "import warnings\n",
    "\n",
    "pd.set_option('display.max_rows', None)\n",
    "pd.set_option('display.max_columns', None)"
   ]
  },
  {
   "cell_type": "code",
   "execution_count": 2,
   "id": "144cfa41",
   "metadata": {},
   "outputs": [],
   "source": [
    "# Ignore warnings\n",
    "warnings.filterwarnings(\"ignore\")"
   ]
  },
  {
   "cell_type": "code",
   "execution_count": 3,
   "id": "5ff5130f",
   "metadata": {
    "scrolled": true
   },
   "outputs": [
    {
     "name": "stdout",
     "output_type": "stream",
     "text": [
      "----------Data Information----------\n",
      "\n",
      "<class 'pandas.core.frame.DataFrame'>\n",
      "RangeIndex: 3653 entries, 0 to 3652\n",
      "Data columns (total 8 columns):\n",
      " #   Column           Non-Null Count  Dtype  \n",
      "---  ------           --------------  -----  \n",
      " 0   Unnamed: 0       3653 non-null   int64  \n",
      " 1   date             3653 non-null   object \n",
      " 2   text             3653 non-null   object \n",
      " 3   price            3653 non-null   float64\n",
      " 4   pct_change       3652 non-null   float64\n",
      " 5   price_direction  3653 non-null   object \n",
      " 6   day_of_week      3653 non-null   int64  \n",
      " 7   is_holiday       3653 non-null   int64  \n",
      "dtypes: float64(2), int64(3), object(3)\n",
      "memory usage: 228.4+ KB\n",
      "None\n",
      "\n",
      "----------Missing Values----------\n",
      "\n",
      "Unnamed: 0         0\n",
      "date               0\n",
      "text               0\n",
      "price              0\n",
      "pct_change         1\n",
      "price_direction    0\n",
      "day_of_week        0\n",
      "is_holiday         0\n",
      "dtype: int64\n",
      "\n",
      "----------Shape----------\n",
      "\n",
      "(3653, 8)\n"
     ]
    }
   ],
   "source": [
    "# Read in data\n",
    "df = pd.read_csv('./data/daily.csv')\n",
    "# Show information to verify clean data set\n",
    "print('----------Data Information----------\\n')\n",
    "print(df.info())\n",
    "print('\\n----------Missing Values----------\\n', )\n",
    "print(df.isnull().sum())\n",
    "print('\\n----------Shape----------\\n')\n",
    "print(df.shape)"
   ]
  },
  {
   "cell_type": "code",
   "execution_count": 4,
   "id": "05cee6bc",
   "metadata": {},
   "outputs": [],
   "source": [
    "# Drop 'first' in the price_direction column\n",
    "df = df[df.price_direction != 'first']"
   ]
  },
  {
   "cell_type": "code",
   "execution_count": 5,
   "id": "bb9253f9",
   "metadata": {},
   "outputs": [],
   "source": [
    "# Initialize Vader Sentiment Intensity Analyzer\n",
    "vader = SentimentIntensityAnalyzer()"
   ]
  },
  {
   "cell_type": "code",
   "execution_count": 6,
   "id": "0d098263",
   "metadata": {},
   "outputs": [],
   "source": [
    "# Create a new column called 'vader_text_sentiment' \n",
    "# and apply a lambda function that applies vader polarity scores to the all_text column\n",
    "fab = lambda text: vader.polarity_scores(text)['compound']\n",
    "df['vader_text_sentiment'] = df['text'].apply(fab)"
   ]
  },
  {
   "cell_type": "code",
   "execution_count": 7,
   "id": "11633843",
   "metadata": {},
   "outputs": [],
   "source": [
    "# Create a new column called 'textblob_polarity' \n",
    "# and apply a lambda function that applies textblob_polarity scores to the all_text column\n",
    "df['textblob_polarity'] = df['text'].map(lambda words: TextBlob(str(words)).polarity)"
   ]
  },
  {
   "cell_type": "code",
   "execution_count": 8,
   "id": "0b65c9dd",
   "metadata": {
    "scrolled": true
   },
   "outputs": [
    {
     "data": {
      "image/png": "[encoded data removed]",
      "text/plain": [
       "<Figure size 432x288 with 1 Axes>"
      ]
     },
     "metadata": {
      "needs_background": "light"
     },
     "output_type": "display_data"
    }
   ],
   "source": [
    "df.groupby('price_direction')['vader_text_sentiment','textblob_polarity'].mean().T.plot(kind='bar', stacked=False, colormap='summer')\n",
    "plt.title('Average Sentiment Analyses of NYT Business Articles with S&P 500 Price Change')\n",
    "plt.xlabel('Sentiment Analyzers')\n",
    "plt.ylabel('Sentiment Score');\n",
    "\n",
    "# https://matplotlib.org/stable/tutorials/colors/colormaps.html"
   ]
  },
  {
   "cell_type": "code",
   "execution_count": 9,
   "id": "74294c63",
   "metadata": {},
   "outputs": [],
   "source": [
    "# Get rid of all remaining nulls\n",
    "df.dropna(inplace=True)"
   ]
  },
  {
   "cell_type": "code",
   "execution_count": 10,
   "id": "ed059fe6",
   "metadata": {},
   "outputs": [],
   "source": [
    "# Convert price_change values to integers\n",
    "df['price_direction'] = df['price_direction'].map(lambda x: 0 if x == 'down' else (x))\n",
    "df['price_direction'] = df['price_direction'].map(lambda x: 1 if x == 'up' else (x))\n",
    "df['price_direction'] = df['price_direction'].map(lambda x: 2 if x == 'same' else (x))"
   ]
  },
  {
   "cell_type": "code",
   "execution_count": 11,
   "id": "b57cbaf5",
   "metadata": {},
   "outputs": [],
   "source": [
    "df_sent = df.drop(columns=['Unnamed: 0','price','is_holiday','pct_change','day_of_week'])"
   ]
  },
  {
   "cell_type": "code",
   "execution_count": 12,
   "id": "3c782cab",
   "metadata": {},
   "outputs": [
    {
     "data": {
      "image/png": "[encoded data removed]",
      "text/plain": [
       "<Figure size 144x432 with 2 Axes>"
      ]
     },
     "metadata": {
      "needs_background": "light"
     },
     "output_type": "display_data"
    }
   ],
   "source": [
    "plt.figure(figsize = (2, 6))\n",
    "sns.heatmap(df_sent.corr()[['price_direction']].sort_values(by ='price_direction', key = np.abs), \n",
    "            vmin = -1, vmax = 1, cmap = 'summer', annot=True);"
   ]
  },
  {
   "cell_type": "markdown",
   "id": "6693b78a",
   "metadata": {},
   "source": [
    "##### Linear Regression Models"
   ]
  },
  {
   "cell_type": "markdown",
   "id": "9cd14dfb",
   "metadata": {},
   "source": [
    "##### Vader as our X"
   ]
  },
  {
   "cell_type": "code",
   "execution_count": 13,
   "id": "83391fe0",
   "metadata": {
    "scrolled": true
   },
   "outputs": [
    {
     "data": {
      "text/plain": [
       "((2921, 1), (731, 1))"
      ]
     },
     "execution_count": 13,
     "metadata": {},
     "output_type": "execute_result"
    }
   ],
   "source": [
    "# Assemble X and y variables\n",
    "X = df['vader_text_sentiment']\n",
    "y = df['pct_change']\n",
    "\n",
    "# Convert to numpy array\n",
    "X = np.array(X)\n",
    "y = np.array(y)\n",
    "\n",
    "# Reshape\n",
    "X = X.reshape(-1,1)\n",
    "\n",
    "# Train test split\n",
    "X_train, X_test, y_train, y_test = train_test_split(X, y, test_size=0.2,\n",
    "shuffle=False, random_state = 42)\n",
    "\n",
    "# Scale data \n",
    "ss = StandardScaler()\n",
    "Xs_train = ss.fit_transform(X_train)\n",
    "Xs_test = ss.transform(X_test)\n",
    "\n",
    "# Instantiate the model\n",
    "lr = LinearRegression()\n",
    "\n",
    "# check sizes of train and test sets \n",
    "Xs_train.shape,Xs_test.shape"
   ]
  },
  {
   "cell_type": "code",
   "execution_count": 14,
   "id": "23989407",
   "metadata": {},
   "outputs": [],
   "source": [
    "# Instantiate and fit linreg model \n",
    "lr = LinearRegression().fit(Xs_train,y_train)"
   ]
  },
  {
   "cell_type": "code",
   "execution_count": 15,
   "id": "b6c060dd",
   "metadata": {},
   "outputs": [],
   "source": [
    "def get_metrics(model,X_train=Xs_train,X_test=Xs_test):\n",
    "    'MSE on unscaled data'\n",
    "    # get predictions \n",
    "    train_preds= model.predict(X_train)\n",
    "    test_preds= model.predict(X_test)\n",
    "    \n",
    "    train_mse = mean_squared_error(y_train,train_preds)\n",
    "    test_mse= mean_squared_error(y_test,test_preds)\n",
    "    \n",
    "    print(f'Training MSE: {round((train_mse),4)}')\n",
    "    print(f'Testing MSE: {round((test_mse),4)}')\n",
    "    print(f'Test - Train(overage): {round((test_mse)-(train_mse),4)}')\n",
    "    print(f'R2: {round(metrics.r2_score(y_test, test_preds),4)}')\n",
    "    return"
   ]
  },
  {
   "cell_type": "code",
   "execution_count": 16,
   "id": "15d15a6b",
   "metadata": {},
   "outputs": [
    {
     "name": "stdout",
     "output_type": "stream",
     "text": [
      "Training MSE: 0.0001\n",
      "Testing MSE: 0.0002\n",
      "Test - Train(overage): 0.0001\n",
      "R2: -0.0032\n"
     ]
    }
   ],
   "source": [
    "# metric scores\n",
    "get_metrics(lr)"
   ]
  },
  {
   "cell_type": "markdown",
   "id": "1d936cd6",
   "metadata": {},
   "source": [
    "The models MSE is just slightly worse than the baseline MSE.\n",
    "\n",
    "~.0032% of the variability in price_direction can be explained by the vader_text_sentiment scores"
   ]
  },
  {
   "cell_type": "markdown",
   "id": "bba48c6a",
   "metadata": {},
   "source": [
    "##### Textblob as our X"
   ]
  },
  {
   "cell_type": "code",
   "execution_count": 17,
   "id": "e95d9a7a",
   "metadata": {},
   "outputs": [
    {
     "data": {
      "text/plain": [
       "((2921, 1), (731, 1))"
      ]
     },
     "execution_count": 17,
     "metadata": {},
     "output_type": "execute_result"
    }
   ],
   "source": [
    "# Assemble X and y variables\n",
    "Xtb = df['textblob_polarity']\n",
    "y = df['price_direction']\n",
    "\n",
    "# Convert to numpy array\n",
    "Xtb = np.array(Xtb)\n",
    "y = np.array(y)\n",
    "\n",
    "# Reshape\n",
    "Xtb = Xtb.reshape(-1,1)\n",
    "\n",
    "# Train test split\n",
    "Xtb_train, Xtb_test, y_train, y_test = train_test_split(Xtb, y, test_size=0.2,\n",
    "shuffle=False, random_state = 42)\n",
    "\n",
    "# Scale data \n",
    "ss = StandardScaler()\n",
    "Xtbs_train = ss.fit_transform(Xtb_train)\n",
    "Xtbs_test = ss.transform(Xtb_test)\n",
    "\n",
    "# Instantiate the model\n",
    "lr = LinearRegression()\n",
    "\n",
    "# check sizes of train and test sets \n",
    "Xtbs_train.shape,Xtbs_test.shape"
   ]
  },
  {
   "cell_type": "code",
   "execution_count": 18,
   "id": "ab7986fc",
   "metadata": {},
   "outputs": [],
   "source": [
    "# Instantiate and fit linreg model \n",
    "lr = LinearRegression().fit(Xtbs_train,y_train)"
   ]
  },
  {
   "cell_type": "code",
   "execution_count": 19,
   "id": "6b3e39d2",
   "metadata": {},
   "outputs": [],
   "source": [
    "def get_metrics(model,Xtb_train=Xtbs_train,Xtb_test=Xtbs_test):\n",
    "    'MSE on unscaled data'\n",
    "    # get predictions \n",
    "    train_preds= model.predict(Xtb_train)\n",
    "    test_preds= model.predict(Xtb_test)\n",
    "    \n",
    "    train_mse = mean_squared_error(y_train,train_preds)\n",
    "    test_mse= mean_squared_error(y_test,test_preds)\n",
    "    \n",
    "    print(f'Training MSE: {round((train_mse),4)}')\n",
    "    print(f'Testing MSE: {round((test_mse),4)}')\n",
    "    print(f'Test - Train(overage): {round((test_mse)-(train_mse),4)}')\n",
    "    print(f'R2: {round(metrics.r2_score(y_test, test_preds),4)}')\n",
    "    return"
   ]
  },
  {
   "cell_type": "code",
   "execution_count": 20,
   "id": "b17681c1",
   "metadata": {},
   "outputs": [
    {
     "name": "stdout",
     "output_type": "stream",
     "text": [
      "Training MSE: 0.6242\n",
      "Testing MSE: 0.6006\n",
      "Test - Train(overage): -0.0236\n",
      "R2: -0.0094\n"
     ]
    }
   ],
   "source": [
    "# metric scores\n",
    "get_metrics(lr)"
   ]
  },
  {
   "cell_type": "markdown",
   "id": "72543883",
   "metadata": {},
   "source": [
    "The models MSE is 2.42% better than the baseline MSE.\n",
    "\n",
    "~.009% of the variability in price_direction can be explained by the textblob_polarity      sentiment scores"
   ]
  },
  {
   "cell_type": "markdown",
   "id": "cda06f8a",
   "metadata": {},
   "source": [
    "##### Regression Pipeline"
   ]
  },
  {
   "cell_type": "code",
   "execution_count": 21,
   "id": "f934f9ce",
   "metadata": {},
   "outputs": [],
   "source": [
    "#Perform Scaling\n",
    "sc = StandardScaler()\n",
    "X_sc = sc.fit_transform(X)\n",
    "\n",
    "#Splitting the data into train and test split\n",
    "X_train, X_test, y_train, y_test = train_test_split(X_sc, y, test_size=0.2, random_state=42)"
   ]
  },
  {
   "cell_type": "code",
   "execution_count": 22,
   "id": "87e46f75",
   "metadata": {},
   "outputs": [],
   "source": [
    "# Pipeline of regression models to run\n",
    "regressors = [\n",
    "    KNeighborsRegressor(),\n",
    "    GradientBoostingRegressor(),\n",
    "    KNeighborsRegressor(),\n",
    "    ExtraTreesRegressor(),\n",
    "    RandomForestRegressor(),\n",
    "    DecisionTreeRegressor(),\n",
    "    LinearRegression(),\n",
    "    Lasso(),\n",
    "    Ridge()\n",
    "]\n",
    "# https://machinelearninghd.com/gridsearchcv-hyperparameter-tuning-sckit-learn-regression-classification/"
   ]
  },
  {
   "cell_type": "code",
   "execution_count": 23,
   "id": "998aa3c7",
   "metadata": {},
   "outputs": [
    {
     "name": "stdout",
     "output_type": "stream",
     "text": [
      "KNeighborsRegressor()\n",
      "\tTraining time: 0.001s\n",
      "\tPrediction time: 0.001s\n",
      "\tExplained variance: -0.11473649567501432\n",
      "\tMean absolute error: 0.6807113543091655\n",
      "\tR2 score: -0.11646574474823179\n",
      "\n",
      "GradientBoostingRegressor()\n",
      "\tTraining time: 0.083s\n",
      "\tPrediction time: 0.001s\n",
      "\tExplained variance: 0.08239168644649497\n",
      "\tMean absolute error: 0.6436739196397184\n",
      "\tR2 score: 0.08135056765379467\n",
      "\n",
      "KNeighborsRegressor()\n",
      "\tTraining time: 0.001s\n",
      "\tPrediction time: 0.001s\n",
      "\tExplained variance: -0.11473649567501432\n",
      "\tMean absolute error: 0.6807113543091655\n",
      "\tR2 score: -0.11646574474823179\n",
      "\n",
      "ExtraTreesRegressor()\n",
      "\tTraining time: 0.121s\n",
      "\tPrediction time: 0.012s\n",
      "\tExplained variance: -0.2225066096210535\n",
      "\tMean absolute error: 0.6778029035052835\n",
      "\tR2 score: -0.2244472086279763\n",
      "\n",
      "RandomForestRegressor()\n",
      "\tTraining time: 0.191s\n",
      "\tPrediction time: 0.011s\n",
      "\tExplained variance: -0.14270568219427382\n",
      "\tMean absolute error: 0.679241671595227\n",
      "\tR2 score: -0.14423495435885259\n",
      "\n",
      "DecisionTreeRegressor()\n",
      "\tTraining time: 0.002s\n",
      "\tPrediction time: 0.000s\n",
      "\tExplained variance: -0.3476259106773658\n",
      "\tMean absolute error: 0.6893008515216995\n",
      "\tR2 score: -0.34928012571982814\n",
      "\n",
      "LinearRegression()\n",
      "\tTraining time: 0.001s\n",
      "\tPrediction time: 0.000s\n",
      "\tExplained variance: 0.008899089910837987\n",
      "\tMean absolute error: 0.6273436888089005\n",
      "\tR2 score: 0.0066547878983956865\n",
      "\n",
      "Lasso()\n",
      "\tTraining time: 0.001s\n",
      "\tPrediction time: 0.000s\n",
      "\tExplained variance: 0.0\n",
      "\tMean absolute error: 0.6075964839730786\n",
      "\tR2 score: -0.0018648278965198717\n",
      "\n",
      "Ridge()\n",
      "\tTraining time: 0.001s\n",
      "\tPrediction time: 0.000s\n",
      "\tExplained variance: 0.00890011002984159\n",
      "\tMean absolute error: 0.6273365254593194\n",
      "\tR2 score: 0.006655941763145434\n",
      "\n"
     ]
    }
   ],
   "source": [
    "# Function to score regression models\n",
    "head = 10\n",
    "for model in regressors[:head]:\n",
    "    start = time()\n",
    "    model.fit(X_train, y_train)\n",
    "    train_time = time() - start\n",
    "    start = time()\n",
    "    y_pred = model.predict(X_test)\n",
    "    predict_time = time()-start    \n",
    "    print(model)\n",
    "    print(\"\\tTraining time: %0.3fs\" % train_time)\n",
    "    print(\"\\tPrediction time: %0.3fs\" % predict_time)\n",
    "    print(\"\\tExplained variance:\", explained_variance_score(y_test, y_pred))\n",
    "    print(\"\\tMean absolute error:\", mean_absolute_error(y_test, y_pred))\n",
    "    print(\"\\tR2 score:\", r2_score(y_test, y_pred))\n",
    "    print()"
   ]
  },
  {
   "cell_type": "markdown",
   "id": "6efe94bb",
   "metadata": {},
   "source": [
    "Based on the R2 score, the top three performers are:\n",
    "\n",
    "**ExtraTreesRegressor, DecisionTreeRegressor and RandomForestRegressor** so we will look at them closer by running gridsearch to optimize the scores"
   ]
  },
  {
   "cell_type": "code",
   "execution_count": 24,
   "id": "5e6e8afc",
   "metadata": {},
   "outputs": [],
   "source": [
    "# ExtraTreeRegressor parameters\n",
    "parameters = {'criterion' : ['mse', 'mae'],\n",
    "              'max_features' : ['auto', 'sqrt', 'log2']\n",
    "             }"
   ]
  },
  {
   "cell_type": "code",
   "execution_count": 25,
   "id": "e293739c",
   "metadata": {},
   "outputs": [
    {
     "name": "stdout",
     "output_type": "stream",
     "text": [
      "{'criterion': 'mse', 'max_features': 'auto'} \n",
      "\n",
      "ExtraTreesRegressor() \n",
      "\n"
     ]
    }
   ],
   "source": [
    "# initiate GridSearch to find best params and estimators\n",
    "grid = GridSearchCV(ExtraTreesRegressor(),parameters)\n",
    "model = grid.fit(X_sc,y)\n",
    "print(model.best_params_,'\\n')\n",
    "print(model.best_estimator_,'\\n')"
   ]
  },
  {
   "cell_type": "code",
   "execution_count": 26,
   "id": "59ce397b",
   "metadata": {},
   "outputs": [
    {
     "data": {
      "text/plain": [
       "<AxesSubplot:ylabel='Density'>"
      ]
     },
     "execution_count": 26,
     "metadata": {},
     "output_type": "execute_result"
    },
    {
     "data": {
      "image/png": "[encoded data removed]",
      "text/plain": [
       "<Figure size 432x288 with 1 Axes>"
      ]
     },
     "metadata": {
      "needs_background": "light"
     },
     "output_type": "display_data"
    }
   ],
   "source": [
    "sns.distplot(y_pred-y_test)"
   ]
  },
  {
   "cell_type": "code",
   "execution_count": 27,
   "id": "abe7e57e",
   "metadata": {},
   "outputs": [
    {
     "data": {
      "text/plain": [
       "(6, 14)"
      ]
     },
     "execution_count": 27,
     "metadata": {},
     "output_type": "execute_result"
    }
   ],
   "source": [
    "# Create new data frame to view results - ranked in order of best scores\n",
    "etr = pd.DataFrame(grid.cv_results_).set_index('rank_test_score').sort_index()\n",
    "etr.shape"
   ]
  },
  {
   "cell_type": "code",
   "execution_count": 28,
   "id": "64b07099",
   "metadata": {},
   "outputs": [
    {
     "data": {
      "text/html": [
       "<div>\n",
       "<style scoped>\n",
       "    .dataframe tbody tr th:only-of-type {\n",
       "        vertical-align: middle;\n",
       "    }\n",
       "\n",
       "    .dataframe tbody tr th {\n",
       "        vertical-align: top;\n",
       "    }\n",
       "\n",
       "    .dataframe thead th {\n",
       "        text-align: right;\n",
       "    }\n",
       "</style>\n",
       "<table border=\"1\" class=\"dataframe\">\n",
       "  <thead>\n",
       "    <tr style=\"text-align: right;\">\n",
       "      <th>rank_test_score</th>\n",
       "      <th>1</th>\n",
       "      <th>2</th>\n",
       "      <th>3</th>\n",
       "      <th>4</th>\n",
       "      <th>5</th>\n",
       "      <th>6</th>\n",
       "    </tr>\n",
       "  </thead>\n",
       "  <tbody>\n",
       "    <tr>\n",
       "      <th>mean_fit_time</th>\n",
       "      <td>0.115962</td>\n",
       "      <td>0.111642</td>\n",
       "      <td>0.111685</td>\n",
       "      <td>3.633883</td>\n",
       "      <td>3.646859</td>\n",
       "      <td>3.643156</td>\n",
       "    </tr>\n",
       "    <tr>\n",
       "      <th>std_fit_time</th>\n",
       "      <td>0.00629</td>\n",
       "      <td>0.002471</td>\n",
       "      <td>0.002532</td>\n",
       "      <td>0.019909</td>\n",
       "      <td>0.036019</td>\n",
       "      <td>0.044036</td>\n",
       "    </tr>\n",
       "    <tr>\n",
       "      <th>mean_score_time</th>\n",
       "      <td>0.01171</td>\n",
       "      <td>0.011472</td>\n",
       "      <td>0.011401</td>\n",
       "      <td>0.012251</td>\n",
       "      <td>0.012388</td>\n",
       "      <td>0.012398</td>\n",
       "    </tr>\n",
       "    <tr>\n",
       "      <th>std_score_time</th>\n",
       "      <td>0.000476</td>\n",
       "      <td>0.000389</td>\n",
       "      <td>0.000352</td>\n",
       "      <td>0.0004</td>\n",
       "      <td>0.000473</td>\n",
       "      <td>0.0002</td>\n",
       "    </tr>\n",
       "    <tr>\n",
       "      <th>param_criterion</th>\n",
       "      <td>mse</td>\n",
       "      <td>mse</td>\n",
       "      <td>mse</td>\n",
       "      <td>mae</td>\n",
       "      <td>mae</td>\n",
       "      <td>mae</td>\n",
       "    </tr>\n",
       "    <tr>\n",
       "      <th>param_max_features</th>\n",
       "      <td>auto</td>\n",
       "      <td>sqrt</td>\n",
       "      <td>log2</td>\n",
       "      <td>auto</td>\n",
       "      <td>sqrt</td>\n",
       "      <td>log2</td>\n",
       "    </tr>\n",
       "    <tr>\n",
       "      <th>params</th>\n",
       "      <td>{'criterion': 'mse', 'max_features': 'auto'}</td>\n",
       "      <td>{'criterion': 'mse', 'max_features': 'sqrt'}</td>\n",
       "      <td>{'criterion': 'mse', 'max_features': 'log2'}</td>\n",
       "      <td>{'criterion': 'mae', 'max_features': 'auto'}</td>\n",
       "      <td>{'criterion': 'mae', 'max_features': 'sqrt'}</td>\n",
       "      <td>{'criterion': 'mae', 'max_features': 'log2'}</td>\n",
       "    </tr>\n",
       "    <tr>\n",
       "      <th>split0_test_score</th>\n",
       "      <td>-0.422934</td>\n",
       "      <td>-0.426249</td>\n",
       "      <td>-0.42072</td>\n",
       "      <td>-0.507264</td>\n",
       "      <td>-0.51263</td>\n",
       "      <td>-0.50497</td>\n",
       "    </tr>\n",
       "    <tr>\n",
       "      <th>split1_test_score</th>\n",
       "      <td>0.03238</td>\n",
       "      <td>0.031023</td>\n",
       "      <td>0.029733</td>\n",
       "      <td>-0.147833</td>\n",
       "      <td>-0.149222</td>\n",
       "      <td>-0.153992</td>\n",
       "    </tr>\n",
       "    <tr>\n",
       "      <th>split2_test_score</th>\n",
       "      <td>-0.097543</td>\n",
       "      <td>-0.099605</td>\n",
       "      <td>-0.101361</td>\n",
       "      <td>-0.263238</td>\n",
       "      <td>-0.258068</td>\n",
       "      <td>-0.263406</td>\n",
       "    </tr>\n",
       "    <tr>\n",
       "      <th>split3_test_score</th>\n",
       "      <td>-0.365586</td>\n",
       "      <td>-0.367798</td>\n",
       "      <td>-0.360271</td>\n",
       "      <td>-0.482661</td>\n",
       "      <td>-0.483944</td>\n",
       "      <td>-0.48844</td>\n",
       "    </tr>\n",
       "    <tr>\n",
       "      <th>split4_test_score</th>\n",
       "      <td>-0.326585</td>\n",
       "      <td>-0.320363</td>\n",
       "      <td>-0.331059</td>\n",
       "      <td>-0.435873</td>\n",
       "      <td>-0.436864</td>\n",
       "      <td>-0.443131</td>\n",
       "    </tr>\n",
       "    <tr>\n",
       "      <th>mean_test_score</th>\n",
       "      <td>-0.236054</td>\n",
       "      <td>-0.236598</td>\n",
       "      <td>-0.236736</td>\n",
       "      <td>-0.367374</td>\n",
       "      <td>-0.368146</td>\n",
       "      <td>-0.370788</td>\n",
       "    </tr>\n",
       "    <tr>\n",
       "      <th>std_test_score</th>\n",
       "      <td>0.173862</td>\n",
       "      <td>0.173543</td>\n",
       "      <td>0.171662</td>\n",
       "      <td>0.138993</td>\n",
       "      <td>0.140749</td>\n",
       "      <td>0.138283</td>\n",
       "    </tr>\n",
       "  </tbody>\n",
       "</table>\n",
       "</div>"
      ],
      "text/plain": [
       "rank_test_score                                                1  \\\n",
       "mean_fit_time                                           0.115962   \n",
       "std_fit_time                                             0.00629   \n",
       "mean_score_time                                          0.01171   \n",
       "std_score_time                                          0.000476   \n",
       "param_criterion                                              mse   \n",
       "param_max_features                                          auto   \n",
       "params              {'criterion': 'mse', 'max_features': 'auto'}   \n",
       "split0_test_score                                      -0.422934   \n",
       "split1_test_score                                        0.03238   \n",
       "split2_test_score                                      -0.097543   \n",
       "split3_test_score                                      -0.365586   \n",
       "split4_test_score                                      -0.326585   \n",
       "mean_test_score                                        -0.236054   \n",
       "std_test_score                                          0.173862   \n",
       "\n",
       "rank_test_score                                                2  \\\n",
       "mean_fit_time                                           0.111642   \n",
       "std_fit_time                                            0.002471   \n",
       "mean_score_time                                         0.011472   \n",
       "std_score_time                                          0.000389   \n",
       "param_criterion                                              mse   \n",
       "param_max_features                                          sqrt   \n",
       "params              {'criterion': 'mse', 'max_features': 'sqrt'}   \n",
       "split0_test_score                                      -0.426249   \n",
       "split1_test_score                                       0.031023   \n",
       "split2_test_score                                      -0.099605   \n",
       "split3_test_score                                      -0.367798   \n",
       "split4_test_score                                      -0.320363   \n",
       "mean_test_score                                        -0.236598   \n",
       "std_test_score                                          0.173543   \n",
       "\n",
       "rank_test_score                                                3  \\\n",
       "mean_fit_time                                           0.111685   \n",
       "std_fit_time                                            0.002532   \n",
       "mean_score_time                                         0.011401   \n",
       "std_score_time                                          0.000352   \n",
       "param_criterion                                              mse   \n",
       "param_max_features                                          log2   \n",
       "params              {'criterion': 'mse', 'max_features': 'log2'}   \n",
       "split0_test_score                                       -0.42072   \n",
       "split1_test_score                                       0.029733   \n",
       "split2_test_score                                      -0.101361   \n",
       "split3_test_score                                      -0.360271   \n",
       "split4_test_score                                      -0.331059   \n",
       "mean_test_score                                        -0.236736   \n",
       "std_test_score                                          0.171662   \n",
       "\n",
       "rank_test_score                                                4  \\\n",
       "mean_fit_time                                           3.633883   \n",
       "std_fit_time                                            0.019909   \n",
       "mean_score_time                                         0.012251   \n",
       "std_score_time                                            0.0004   \n",
       "param_criterion                                              mae   \n",
       "param_max_features                                          auto   \n",
       "params              {'criterion': 'mae', 'max_features': 'auto'}   \n",
       "split0_test_score                                      -0.507264   \n",
       "split1_test_score                                      -0.147833   \n",
       "split2_test_score                                      -0.263238   \n",
       "split3_test_score                                      -0.482661   \n",
       "split4_test_score                                      -0.435873   \n",
       "mean_test_score                                        -0.367374   \n",
       "std_test_score                                          0.138993   \n",
       "\n",
       "rank_test_score                                                5  \\\n",
       "mean_fit_time                                           3.646859   \n",
       "std_fit_time                                            0.036019   \n",
       "mean_score_time                                         0.012388   \n",
       "std_score_time                                          0.000473   \n",
       "param_criterion                                              mae   \n",
       "param_max_features                                          sqrt   \n",
       "params              {'criterion': 'mae', 'max_features': 'sqrt'}   \n",
       "split0_test_score                                       -0.51263   \n",
       "split1_test_score                                      -0.149222   \n",
       "split2_test_score                                      -0.258068   \n",
       "split3_test_score                                      -0.483944   \n",
       "split4_test_score                                      -0.436864   \n",
       "mean_test_score                                        -0.368146   \n",
       "std_test_score                                          0.140749   \n",
       "\n",
       "rank_test_score                                                6  \n",
       "mean_fit_time                                           3.643156  \n",
       "std_fit_time                                            0.044036  \n",
       "mean_score_time                                         0.012398  \n",
       "std_score_time                                            0.0002  \n",
       "param_criterion                                              mae  \n",
       "param_max_features                                          log2  \n",
       "params              {'criterion': 'mae', 'max_features': 'log2'}  \n",
       "split0_test_score                                       -0.50497  \n",
       "split1_test_score                                      -0.153992  \n",
       "split2_test_score                                      -0.263406  \n",
       "split3_test_score                                       -0.48844  \n",
       "split4_test_score                                      -0.443131  \n",
       "mean_test_score                                        -0.370788  \n",
       "std_test_score                                          0.138283  "
      ]
     },
     "execution_count": 28,
     "metadata": {},
     "output_type": "execute_result"
    }
   ],
   "source": [
    "etr.T"
   ]
  },
  {
   "cell_type": "code",
   "execution_count": 29,
   "id": "7e3faed2",
   "metadata": {},
   "outputs": [],
   "source": [
    "# DecisionTreeRegressor parameters\n",
    "dt_parameters = {'criterion' : ['mse','friedman_mse','poisson'],\n",
    "              'max_features' : ['auto', 'sqrt', 'log2'],\n",
    "                               'splitter'   : ['best', 'random']\n",
    "             }"
   ]
  },
  {
   "cell_type": "code",
   "execution_count": 30,
   "id": "e4253e10",
   "metadata": {},
   "outputs": [
    {
     "name": "stdout",
     "output_type": "stream",
     "text": [
      "{'criterion': 'mse', 'max_features': 'auto'} \n",
      "\n",
      "DecisionTreeRegressor(max_features='auto') \n",
      "\n"
     ]
    }
   ],
   "source": [
    "# initiate GridSearch to find best params and estimators\n",
    "grid = GridSearchCV(DecisionTreeRegressor(),parameters)\n",
    "model = grid.fit(X_sc,y)\n",
    "print(model.best_params_,'\\n')\n",
    "print(model.best_estimator_,'\\n')"
   ]
  },
  {
   "cell_type": "code",
   "execution_count": 31,
   "id": "091bd189",
   "metadata": {},
   "outputs": [
    {
     "data": {
      "text/plain": [
       "<AxesSubplot:ylabel='Density'>"
      ]
     },
     "execution_count": 31,
     "metadata": {},
     "output_type": "execute_result"
    },
    {
     "data": {
      "image/png": "[encoded data removed]",
      "text/plain": [
       "<Figure size 432x288 with 1 Axes>"
      ]
     },
     "metadata": {
      "needs_background": "light"
     },
     "output_type": "display_data"
    }
   ],
   "source": [
    "sns.distplot(y_pred-y_test)"
   ]
  },
  {
   "cell_type": "code",
   "execution_count": 32,
   "id": "b5ba8b4b",
   "metadata": {},
   "outputs": [
    {
     "data": {
      "text/plain": [
       "(6, 14)"
      ]
     },
     "execution_count": 32,
     "metadata": {},
     "output_type": "execute_result"
    }
   ],
   "source": [
    "# Create new data frame to view results - ranked in order of best scores\n",
    "dt = pd.DataFrame(grid.cv_results_).set_index('rank_test_score').sort_index()\n",
    "dt.shape"
   ]
  },
  {
   "cell_type": "code",
   "execution_count": 33,
   "id": "4a840ff4",
   "metadata": {},
   "outputs": [
    {
     "data": {
      "text/html": [
       "<div>\n",
       "<style scoped>\n",
       "    .dataframe tbody tr th:only-of-type {\n",
       "        vertical-align: middle;\n",
       "    }\n",
       "\n",
       "    .dataframe tbody tr th {\n",
       "        vertical-align: top;\n",
       "    }\n",
       "\n",
       "    .dataframe thead th {\n",
       "        text-align: right;\n",
       "    }\n",
       "</style>\n",
       "<table border=\"1\" class=\"dataframe\">\n",
       "  <thead>\n",
       "    <tr style=\"text-align: right;\">\n",
       "      <th>rank_test_score</th>\n",
       "      <th>1</th>\n",
       "      <th>1</th>\n",
       "      <th>1</th>\n",
       "      <th>4</th>\n",
       "      <th>4</th>\n",
       "      <th>4</th>\n",
       "    </tr>\n",
       "  </thead>\n",
       "  <tbody>\n",
       "    <tr>\n",
       "      <th>mean_fit_time</th>\n",
       "      <td>0.002535</td>\n",
       "      <td>0.002434</td>\n",
       "      <td>0.002421</td>\n",
       "      <td>0.465863</td>\n",
       "      <td>0.462554</td>\n",
       "      <td>0.464701</td>\n",
       "    </tr>\n",
       "    <tr>\n",
       "      <th>std_fit_time</th>\n",
       "      <td>0.000158</td>\n",
       "      <td>0.000184</td>\n",
       "      <td>0.000164</td>\n",
       "      <td>0.128316</td>\n",
       "      <td>0.128833</td>\n",
       "      <td>0.127616</td>\n",
       "    </tr>\n",
       "    <tr>\n",
       "      <th>mean_score_time</th>\n",
       "      <td>0.000321</td>\n",
       "      <td>0.000293</td>\n",
       "      <td>0.000285</td>\n",
       "      <td>0.000583</td>\n",
       "      <td>0.000364</td>\n",
       "      <td>0.000512</td>\n",
       "    </tr>\n",
       "    <tr>\n",
       "      <th>std_score_time</th>\n",
       "      <td>0.000048</td>\n",
       "      <td>0.000069</td>\n",
       "      <td>0.000031</td>\n",
       "      <td>0.000049</td>\n",
       "      <td>0.000043</td>\n",
       "      <td>0.00014</td>\n",
       "    </tr>\n",
       "    <tr>\n",
       "      <th>param_criterion</th>\n",
       "      <td>mse</td>\n",
       "      <td>mse</td>\n",
       "      <td>mse</td>\n",
       "      <td>mae</td>\n",
       "      <td>mae</td>\n",
       "      <td>mae</td>\n",
       "    </tr>\n",
       "    <tr>\n",
       "      <th>param_max_features</th>\n",
       "      <td>auto</td>\n",
       "      <td>sqrt</td>\n",
       "      <td>log2</td>\n",
       "      <td>auto</td>\n",
       "      <td>sqrt</td>\n",
       "      <td>log2</td>\n",
       "    </tr>\n",
       "    <tr>\n",
       "      <th>params</th>\n",
       "      <td>{'criterion': 'mse', 'max_features': 'auto'}</td>\n",
       "      <td>{'criterion': 'mse', 'max_features': 'sqrt'}</td>\n",
       "      <td>{'criterion': 'mse', 'max_features': 'log2'}</td>\n",
       "      <td>{'criterion': 'mae', 'max_features': 'auto'}</td>\n",
       "      <td>{'criterion': 'mae', 'max_features': 'sqrt'}</td>\n",
       "      <td>{'criterion': 'mae', 'max_features': 'log2'}</td>\n",
       "    </tr>\n",
       "    <tr>\n",
       "      <th>split0_test_score</th>\n",
       "      <td>-0.535722</td>\n",
       "      <td>-0.535722</td>\n",
       "      <td>-0.535722</td>\n",
       "      <td>-0.616805</td>\n",
       "      <td>-0.616805</td>\n",
       "      <td>-0.616805</td>\n",
       "    </tr>\n",
       "    <tr>\n",
       "      <th>split1_test_score</th>\n",
       "      <td>-0.009227</td>\n",
       "      <td>-0.009227</td>\n",
       "      <td>-0.009227</td>\n",
       "      <td>-0.192009</td>\n",
       "      <td>-0.192009</td>\n",
       "      <td>-0.192009</td>\n",
       "    </tr>\n",
       "    <tr>\n",
       "      <th>split2_test_score</th>\n",
       "      <td>-0.155354</td>\n",
       "      <td>-0.155354</td>\n",
       "      <td>-0.155354</td>\n",
       "      <td>-0.308683</td>\n",
       "      <td>-0.308683</td>\n",
       "      <td>-0.308683</td>\n",
       "    </tr>\n",
       "    <tr>\n",
       "      <th>split3_test_score</th>\n",
       "      <td>-0.479875</td>\n",
       "      <td>-0.479875</td>\n",
       "      <td>-0.479875</td>\n",
       "      <td>-0.606502</td>\n",
       "      <td>-0.606502</td>\n",
       "      <td>-0.606502</td>\n",
       "    </tr>\n",
       "    <tr>\n",
       "      <th>split4_test_score</th>\n",
       "      <td>-0.454817</td>\n",
       "      <td>-0.454817</td>\n",
       "      <td>-0.454817</td>\n",
       "      <td>-0.571963</td>\n",
       "      <td>-0.571963</td>\n",
       "      <td>-0.571963</td>\n",
       "    </tr>\n",
       "    <tr>\n",
       "      <th>mean_test_score</th>\n",
       "      <td>-0.326999</td>\n",
       "      <td>-0.326999</td>\n",
       "      <td>-0.326999</td>\n",
       "      <td>-0.459192</td>\n",
       "      <td>-0.459192</td>\n",
       "      <td>-0.459192</td>\n",
       "    </tr>\n",
       "    <tr>\n",
       "      <th>std_test_score</th>\n",
       "      <td>0.206744</td>\n",
       "      <td>0.206744</td>\n",
       "      <td>0.206744</td>\n",
       "      <td>0.1751</td>\n",
       "      <td>0.1751</td>\n",
       "      <td>0.1751</td>\n",
       "    </tr>\n",
       "  </tbody>\n",
       "</table>\n",
       "</div>"
      ],
      "text/plain": [
       "rank_test_score                                                1  \\\n",
       "mean_fit_time                                           0.002535   \n",
       "std_fit_time                                            0.000158   \n",
       "mean_score_time                                         0.000321   \n",
       "std_score_time                                          0.000048   \n",
       "param_criterion                                              mse   \n",
       "param_max_features                                          auto   \n",
       "params              {'criterion': 'mse', 'max_features': 'auto'}   \n",
       "split0_test_score                                      -0.535722   \n",
       "split1_test_score                                      -0.009227   \n",
       "split2_test_score                                      -0.155354   \n",
       "split3_test_score                                      -0.479875   \n",
       "split4_test_score                                      -0.454817   \n",
       "mean_test_score                                        -0.326999   \n",
       "std_test_score                                          0.206744   \n",
       "\n",
       "rank_test_score                                                1  \\\n",
       "mean_fit_time                                           0.002434   \n",
       "std_fit_time                                            0.000184   \n",
       "mean_score_time                                         0.000293   \n",
       "std_score_time                                          0.000069   \n",
       "param_criterion                                              mse   \n",
       "param_max_features                                          sqrt   \n",
       "params              {'criterion': 'mse', 'max_features': 'sqrt'}   \n",
       "split0_test_score                                      -0.535722   \n",
       "split1_test_score                                      -0.009227   \n",
       "split2_test_score                                      -0.155354   \n",
       "split3_test_score                                      -0.479875   \n",
       "split4_test_score                                      -0.454817   \n",
       "mean_test_score                                        -0.326999   \n",
       "std_test_score                                          0.206744   \n",
       "\n",
       "rank_test_score                                                1  \\\n",
       "mean_fit_time                                           0.002421   \n",
       "std_fit_time                                            0.000164   \n",
       "mean_score_time                                         0.000285   \n",
       "std_score_time                                          0.000031   \n",
       "param_criterion                                              mse   \n",
       "param_max_features                                          log2   \n",
       "params              {'criterion': 'mse', 'max_features': 'log2'}   \n",
       "split0_test_score                                      -0.535722   \n",
       "split1_test_score                                      -0.009227   \n",
       "split2_test_score                                      -0.155354   \n",
       "split3_test_score                                      -0.479875   \n",
       "split4_test_score                                      -0.454817   \n",
       "mean_test_score                                        -0.326999   \n",
       "std_test_score                                          0.206744   \n",
       "\n",
       "rank_test_score                                                4  \\\n",
       "mean_fit_time                                           0.465863   \n",
       "std_fit_time                                            0.128316   \n",
       "mean_score_time                                         0.000583   \n",
       "std_score_time                                          0.000049   \n",
       "param_criterion                                              mae   \n",
       "param_max_features                                          auto   \n",
       "params              {'criterion': 'mae', 'max_features': 'auto'}   \n",
       "split0_test_score                                      -0.616805   \n",
       "split1_test_score                                      -0.192009   \n",
       "split2_test_score                                      -0.308683   \n",
       "split3_test_score                                      -0.606502   \n",
       "split4_test_score                                      -0.571963   \n",
       "mean_test_score                                        -0.459192   \n",
       "std_test_score                                            0.1751   \n",
       "\n",
       "rank_test_score                                                4  \\\n",
       "mean_fit_time                                           0.462554   \n",
       "std_fit_time                                            0.128833   \n",
       "mean_score_time                                         0.000364   \n",
       "std_score_time                                          0.000043   \n",
       "param_criterion                                              mae   \n",
       "param_max_features                                          sqrt   \n",
       "params              {'criterion': 'mae', 'max_features': 'sqrt'}   \n",
       "split0_test_score                                      -0.616805   \n",
       "split1_test_score                                      -0.192009   \n",
       "split2_test_score                                      -0.308683   \n",
       "split3_test_score                                      -0.606502   \n",
       "split4_test_score                                      -0.571963   \n",
       "mean_test_score                                        -0.459192   \n",
       "std_test_score                                            0.1751   \n",
       "\n",
       "rank_test_score                                                4  \n",
       "mean_fit_time                                           0.464701  \n",
       "std_fit_time                                            0.127616  \n",
       "mean_score_time                                         0.000512  \n",
       "std_score_time                                           0.00014  \n",
       "param_criterion                                              mae  \n",
       "param_max_features                                          log2  \n",
       "params              {'criterion': 'mae', 'max_features': 'log2'}  \n",
       "split0_test_score                                      -0.616805  \n",
       "split1_test_score                                      -0.192009  \n",
       "split2_test_score                                      -0.308683  \n",
       "split3_test_score                                      -0.606502  \n",
       "split4_test_score                                      -0.571963  \n",
       "mean_test_score                                        -0.459192  \n",
       "std_test_score                                            0.1751  "
      ]
     },
     "execution_count": 33,
     "metadata": {},
     "output_type": "execute_result"
    }
   ],
   "source": [
    "dt.T"
   ]
  },
  {
   "cell_type": "code",
   "execution_count": 34,
   "id": "d2de71cb",
   "metadata": {},
   "outputs": [],
   "source": [
    "# RandomForestRegressor parameters\n",
    "rf_parameters = {'criterion' : ['gini','entropy'],\n",
    "              'max_features' : ['auto', 'sqrt', 'log2']\n",
    "             }"
   ]
  },
  {
   "cell_type": "code",
   "execution_count": 35,
   "id": "1d1109a0",
   "metadata": {},
   "outputs": [
    {
     "name": "stdout",
     "output_type": "stream",
     "text": [
      "{'criterion': 'mae', 'max_features': 'auto'} \n",
      "\n",
      "RandomForestRegressor(criterion='mae') \n",
      "\n"
     ]
    }
   ],
   "source": [
    "# initiate GridSearch to find best params and estimators\n",
    "grid = GridSearchCV(RandomForestRegressor(),parameters)\n",
    "model = grid.fit(X_sc,y)\n",
    "print(model.best_params_,'\\n')\n",
    "print(model.best_estimator_,'\\n')"
   ]
  },
  {
   "cell_type": "code",
   "execution_count": 36,
   "id": "7781771b",
   "metadata": {},
   "outputs": [
    {
     "data": {
      "text/plain": [
       "<AxesSubplot:ylabel='Density'>"
      ]
     },
     "execution_count": 36,
     "metadata": {},
     "output_type": "execute_result"
    },
    {
     "data": {
      "image/png": "[encoded data removed]",
      "text/plain": [
       "<Figure size 432x288 with 1 Axes>"
      ]
     },
     "metadata": {
      "needs_background": "light"
     },
     "output_type": "display_data"
    }
   ],
   "source": [
    "sns.distplot(y_pred-y_test)"
   ]
  },
  {
   "cell_type": "code",
   "execution_count": 37,
   "id": "9f6ea5df",
   "metadata": {},
   "outputs": [
    {
     "data": {
      "text/plain": [
       "(6, 14)"
      ]
     },
     "execution_count": 37,
     "metadata": {},
     "output_type": "execute_result"
    }
   ],
   "source": [
    "# Create new data frame to view results - ranked in order of best scores\n",
    "rf = pd.DataFrame(grid.cv_results_).set_index('rank_test_score').sort_index()\n",
    "rf.shape"
   ]
  },
  {
   "cell_type": "code",
   "execution_count": 38,
   "id": "0200f697",
   "metadata": {},
   "outputs": [
    {
     "data": {
      "text/html": [
       "<div>\n",
       "<style scoped>\n",
       "    .dataframe tbody tr th:only-of-type {\n",
       "        vertical-align: middle;\n",
       "    }\n",
       "\n",
       "    .dataframe tbody tr th {\n",
       "        vertical-align: top;\n",
       "    }\n",
       "\n",
       "    .dataframe thead th {\n",
       "        text-align: right;\n",
       "    }\n",
       "</style>\n",
       "<table border=\"1\" class=\"dataframe\">\n",
       "  <thead>\n",
       "    <tr style=\"text-align: right;\">\n",
       "      <th>rank_test_score</th>\n",
       "      <th>1</th>\n",
       "      <th>2</th>\n",
       "      <th>3</th>\n",
       "      <th>4</th>\n",
       "      <th>5</th>\n",
       "      <th>6</th>\n",
       "    </tr>\n",
       "  </thead>\n",
       "  <tbody>\n",
       "    <tr>\n",
       "      <th>mean_fit_time</th>\n",
       "      <td>16.978418</td>\n",
       "      <td>17.508047</td>\n",
       "      <td>17.074836</td>\n",
       "      <td>0.1904</td>\n",
       "      <td>0.188192</td>\n",
       "      <td>0.188347</td>\n",
       "    </tr>\n",
       "    <tr>\n",
       "      <th>std_fit_time</th>\n",
       "      <td>4.712822</td>\n",
       "      <td>5.033813</td>\n",
       "      <td>5.346834</td>\n",
       "      <td>0.008184</td>\n",
       "      <td>0.007005</td>\n",
       "      <td>0.006515</td>\n",
       "    </tr>\n",
       "    <tr>\n",
       "      <th>mean_score_time</th>\n",
       "      <td>0.016422</td>\n",
       "      <td>0.016411</td>\n",
       "      <td>0.016094</td>\n",
       "      <td>0.011129</td>\n",
       "      <td>0.010633</td>\n",
       "      <td>0.010643</td>\n",
       "    </tr>\n",
       "    <tr>\n",
       "      <th>std_score_time</th>\n",
       "      <td>0.003185</td>\n",
       "      <td>0.002997</td>\n",
       "      <td>0.002972</td>\n",
       "      <td>0.000551</td>\n",
       "      <td>0.000542</td>\n",
       "      <td>0.000524</td>\n",
       "    </tr>\n",
       "    <tr>\n",
       "      <th>param_criterion</th>\n",
       "      <td>mae</td>\n",
       "      <td>mae</td>\n",
       "      <td>mae</td>\n",
       "      <td>mse</td>\n",
       "      <td>mse</td>\n",
       "      <td>mse</td>\n",
       "    </tr>\n",
       "    <tr>\n",
       "      <th>param_max_features</th>\n",
       "      <td>auto</td>\n",
       "      <td>sqrt</td>\n",
       "      <td>log2</td>\n",
       "      <td>log2</td>\n",
       "      <td>sqrt</td>\n",
       "      <td>auto</td>\n",
       "    </tr>\n",
       "    <tr>\n",
       "      <th>params</th>\n",
       "      <td>{'criterion': 'mae', 'max_features': 'auto'}</td>\n",
       "      <td>{'criterion': 'mae', 'max_features': 'sqrt'}</td>\n",
       "      <td>{'criterion': 'mae', 'max_features': 'log2'}</td>\n",
       "      <td>{'criterion': 'mse', 'max_features': 'log2'}</td>\n",
       "      <td>{'criterion': 'mse', 'max_features': 'sqrt'}</td>\n",
       "      <td>{'criterion': 'mse', 'max_features': 'auto'}</td>\n",
       "    </tr>\n",
       "    <tr>\n",
       "      <th>split0_test_score</th>\n",
       "      <td>-0.21811</td>\n",
       "      <td>-0.20662</td>\n",
       "      <td>-0.207751</td>\n",
       "      <td>-0.286464</td>\n",
       "      <td>-0.286435</td>\n",
       "      <td>-0.280184</td>\n",
       "    </tr>\n",
       "    <tr>\n",
       "      <th>split1_test_score</th>\n",
       "      <td>0.100922</td>\n",
       "      <td>0.103113</td>\n",
       "      <td>0.097311</td>\n",
       "      <td>0.077299</td>\n",
       "      <td>0.07236</td>\n",
       "      <td>0.076237</td>\n",
       "    </tr>\n",
       "    <tr>\n",
       "      <th>split2_test_score</th>\n",
       "      <td>-0.028667</td>\n",
       "      <td>-0.03028</td>\n",
       "      <td>-0.029469</td>\n",
       "      <td>-0.036729</td>\n",
       "      <td>-0.02809</td>\n",
       "      <td>-0.033309</td>\n",
       "    </tr>\n",
       "    <tr>\n",
       "      <th>split3_test_score</th>\n",
       "      <td>-0.22697</td>\n",
       "      <td>-0.224034</td>\n",
       "      <td>-0.238167</td>\n",
       "      <td>-0.247098</td>\n",
       "      <td>-0.252201</td>\n",
       "      <td>-0.256368</td>\n",
       "    </tr>\n",
       "    <tr>\n",
       "      <th>split4_test_score</th>\n",
       "      <td>-0.154588</td>\n",
       "      <td>-0.170138</td>\n",
       "      <td>-0.18418</td>\n",
       "      <td>-0.182762</td>\n",
       "      <td>-0.186059</td>\n",
       "      <td>-0.188686</td>\n",
       "    </tr>\n",
       "    <tr>\n",
       "      <th>mean_test_score</th>\n",
       "      <td>-0.105483</td>\n",
       "      <td>-0.105592</td>\n",
       "      <td>-0.112451</td>\n",
       "      <td>-0.135151</td>\n",
       "      <td>-0.136085</td>\n",
       "      <td>-0.136462</td>\n",
       "    </tr>\n",
       "    <tr>\n",
       "      <th>std_test_score</th>\n",
       "      <td>0.125187</td>\n",
       "      <td>0.124604</td>\n",
       "      <td>0.127215</td>\n",
       "      <td>0.136027</td>\n",
       "      <td>0.136892</td>\n",
       "      <td>0.136852</td>\n",
       "    </tr>\n",
       "  </tbody>\n",
       "</table>\n",
       "</div>"
      ],
      "text/plain": [
       "rank_test_score                                                1  \\\n",
       "mean_fit_time                                          16.978418   \n",
       "std_fit_time                                            4.712822   \n",
       "mean_score_time                                         0.016422   \n",
       "std_score_time                                          0.003185   \n",
       "param_criterion                                              mae   \n",
       "param_max_features                                          auto   \n",
       "params              {'criterion': 'mae', 'max_features': 'auto'}   \n",
       "split0_test_score                                       -0.21811   \n",
       "split1_test_score                                       0.100922   \n",
       "split2_test_score                                      -0.028667   \n",
       "split3_test_score                                       -0.22697   \n",
       "split4_test_score                                      -0.154588   \n",
       "mean_test_score                                        -0.105483   \n",
       "std_test_score                                          0.125187   \n",
       "\n",
       "rank_test_score                                                2  \\\n",
       "mean_fit_time                                          17.508047   \n",
       "std_fit_time                                            5.033813   \n",
       "mean_score_time                                         0.016411   \n",
       "std_score_time                                          0.002997   \n",
       "param_criterion                                              mae   \n",
       "param_max_features                                          sqrt   \n",
       "params              {'criterion': 'mae', 'max_features': 'sqrt'}   \n",
       "split0_test_score                                       -0.20662   \n",
       "split1_test_score                                       0.103113   \n",
       "split2_test_score                                       -0.03028   \n",
       "split3_test_score                                      -0.224034   \n",
       "split4_test_score                                      -0.170138   \n",
       "mean_test_score                                        -0.105592   \n",
       "std_test_score                                          0.124604   \n",
       "\n",
       "rank_test_score                                                3  \\\n",
       "mean_fit_time                                          17.074836   \n",
       "std_fit_time                                            5.346834   \n",
       "mean_score_time                                         0.016094   \n",
       "std_score_time                                          0.002972   \n",
       "param_criterion                                              mae   \n",
       "param_max_features                                          log2   \n",
       "params              {'criterion': 'mae', 'max_features': 'log2'}   \n",
       "split0_test_score                                      -0.207751   \n",
       "split1_test_score                                       0.097311   \n",
       "split2_test_score                                      -0.029469   \n",
       "split3_test_score                                      -0.238167   \n",
       "split4_test_score                                       -0.18418   \n",
       "mean_test_score                                        -0.112451   \n",
       "std_test_score                                          0.127215   \n",
       "\n",
       "rank_test_score                                                4  \\\n",
       "mean_fit_time                                             0.1904   \n",
       "std_fit_time                                            0.008184   \n",
       "mean_score_time                                         0.011129   \n",
       "std_score_time                                          0.000551   \n",
       "param_criterion                                              mse   \n",
       "param_max_features                                          log2   \n",
       "params              {'criterion': 'mse', 'max_features': 'log2'}   \n",
       "split0_test_score                                      -0.286464   \n",
       "split1_test_score                                       0.077299   \n",
       "split2_test_score                                      -0.036729   \n",
       "split3_test_score                                      -0.247098   \n",
       "split4_test_score                                      -0.182762   \n",
       "mean_test_score                                        -0.135151   \n",
       "std_test_score                                          0.136027   \n",
       "\n",
       "rank_test_score                                                5  \\\n",
       "mean_fit_time                                           0.188192   \n",
       "std_fit_time                                            0.007005   \n",
       "mean_score_time                                         0.010633   \n",
       "std_score_time                                          0.000542   \n",
       "param_criterion                                              mse   \n",
       "param_max_features                                          sqrt   \n",
       "params              {'criterion': 'mse', 'max_features': 'sqrt'}   \n",
       "split0_test_score                                      -0.286435   \n",
       "split1_test_score                                        0.07236   \n",
       "split2_test_score                                       -0.02809   \n",
       "split3_test_score                                      -0.252201   \n",
       "split4_test_score                                      -0.186059   \n",
       "mean_test_score                                        -0.136085   \n",
       "std_test_score                                          0.136892   \n",
       "\n",
       "rank_test_score                                                6  \n",
       "mean_fit_time                                           0.188347  \n",
       "std_fit_time                                            0.006515  \n",
       "mean_score_time                                         0.010643  \n",
       "std_score_time                                          0.000524  \n",
       "param_criterion                                              mse  \n",
       "param_max_features                                          auto  \n",
       "params              {'criterion': 'mse', 'max_features': 'auto'}  \n",
       "split0_test_score                                      -0.280184  \n",
       "split1_test_score                                       0.076237  \n",
       "split2_test_score                                      -0.033309  \n",
       "split3_test_score                                      -0.256368  \n",
       "split4_test_score                                      -0.188686  \n",
       "mean_test_score                                        -0.136462  \n",
       "std_test_score                                          0.136852  "
      ]
     },
     "execution_count": 38,
     "metadata": {},
     "output_type": "execute_result"
    }
   ],
   "source": [
    "rf.T"
   ]
  },
  {
   "cell_type": "markdown",
   "id": "e7f45431",
   "metadata": {},
   "source": [
    "**R2 score** is the amount of the variation in the output dependent attribute which is predictable from the input independent variable(s). A higher value of R2 is desirable as it indicates better results.\n",
    "\n",
    "**Mean square error (MSE)** is the average of the square of the errors. The larger the number the larger the error. And since MSE is an error metric, i.e. the lower the better, negative MAE is the opposite: a value of -2.6 is better than a value of -3.0. Just remove the negative signs and treat them as MSE values\n",
    "\n",
    " **Mean Absolute Error (MAE)**. MAE is simply, as the name suggests, the mean of the absolute errors. The absolute error is the absolute value of the difference between the forecasted value and the actual value. MAE tells us how big of an error we can expect from the forecast on average.  And since MAE is an error metric, i.e. the lower the better, negative MAE is the opposite: a value of -2.6 is better than a value of -3.0. Just remove the negative signs and treat them as MAE values\n",
    " \n",
    "**The mean_test_score** that sklearn returns is the mean calculated on all samples where each sample has the same weight. If you calculate the mean by taking the mean of the folds (splits), then you only get the same results if the folds are all of equal size.\n",
    "\n",
    "\n",
    " \n",
    " https://www.geeksforgeeks.org/python-coefficient-of-determination-r2-score/#:~:text=Coefficient%20of%20determination%20also%20called%20as%20R%202,is%20predictable%20from%20the%20input%20independent%20variable%20%28s%29.\n",
    " https://www.bmc.com/blogs/mean-squared-error-r2-and-variance-in-regression-analysis/\n",
    " https://canworksmart.com/using-mean-absolute-error-forecast-accuracy/\n",
    " https://stackoverflow.com/questions/44947574/what-is-the-meaning-of-mean-test-score-in-cv-result"
   ]
  },
  {
   "cell_type": "code",
   "execution_count": null,
   "id": "882b1e32",
   "metadata": {},
   "outputs": [],
   "source": []
  }
 ],
 "metadata": {
  "kernelspec": {
   "display_name": "Python 3",
   "language": "python",
   "name": "python3"
  },
  "language_info": {
   "codemirror_mode": {
    "name": "ipython",
    "version": 3
   },
   "file_extension": ".py",
   "mimetype": "text/x-python",
   "name": "python",
   "nbconvert_exporter": "python",
   "pygments_lexer": "ipython3",
   "version": "3.7.11"
  }
 },
 "nbformat": 4,
 "nbformat_minor": 5
}
